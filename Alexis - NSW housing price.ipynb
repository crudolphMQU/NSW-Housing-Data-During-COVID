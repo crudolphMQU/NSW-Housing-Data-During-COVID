{
 "cells": [
  {
   "cell_type": "markdown",
   "id": "c5bafc55",
   "metadata": {},
   "source": [
    "<em><b>10/ 09/ 2021 UPDATE</b></em>\n",
    "* Drop column 25%_price and 75%_price\n",
    "* Change column name from '50%_price' to 'median_price'\n",
    "* Manually impute na values in 'sales_no', 'median_price', 'mean_price' > <b><u>impute method open to discussion<u></b>\n",
    "    * sales_no: impute with 5\n",
    "    * median_price: **median** of 'median_price' of same dwelling_type of the same quarter\n",
    "    * mean_price: **median** of 'mean_price' of same dwellling_type of the same quarter\n",
    "* Group income in to three buckets -> <u><b>open to discussion</b></u>\n",
    "    * LOW: less than \\\\$800 pw\n",
    "    * MEDIUM: \\\\$800 - \\\\$1749 pw\n",
    "    * HIGH: greater or equal to \\\\$1750 pw\n",
    "    \n",
    "        * information on 2020 avg. weekly income from ABS [(here)](https://www.abs.gov.au/statistics/labour/earnings-and-work-hours/average-weekly-earnings-australia/latest-release)\n",
    "        * [NSW 'very low to moderate income' definition](https://www.facs.nsw.gov.au/providers/housing/affordable/about/chapters/who-are-very-low-to-moderate-income-earners)\n",
    "        * [National minimum wage](https://www.fairwork.gov.au/pay/minimum-wages#national): \\\\$20.33 per hour or \\\\$772 pw\n",
    "    \n",
    "\n",
    "\n",
    "Thought:\n",
    "* Dropt the four delta columns too? Or is it needed for plotting growth?\n",
    "* Seems a lot of work to map postcode to LGA - should we just use the LGA tab instead? (most geographical data on ABS is based on LGA, i couldn't find clean and easy-to-use LGA to POA mapping, for the sake of visualisation etc. it might be easier to base our analysis on LGA)"
   ]
  },
  {
   "cell_type": "code",
   "execution_count": null,
   "id": "5442ed72",
   "metadata": {},
   "outputs": [],
   "source": []
  },
  {
   "cell_type": "markdown",
   "id": "60f37d5b",
   "metadata": {},
   "source": [
    "### DISCUSSION POINT: ###\n",
    "\n",
    "IF TO USE THIS HOUSING DATA\n",
    "1. **Use postcode or LGA** - LGA usually covers larger area than one postcode, which might mean less pointy data, but makes better sense to readers; on the other hand one postcode corresponds to multiple suburbs, can be hard to describe (below preliminary analysis was done using postcode for simplicity). \n",
    "Postcode to LGA Mapping [here](https://www.dva.gov.au/sites/default/files/Providers/nsworp.pdf).\n",
    "\n",
    "\n",
    "2. **Limit to Sydney Region or whole NSW** - the dataset contains data for all NSW regions (central coast, Wollogong etc.). Are we going to limit our analysis to Greater Syndey Region only or not? If so, need to figure out a method tease out Sydney LGAs / postcodes - scraping some gov. table (above mapping for example) and use the join method.\n",
    "\n",
    "\n",
    "3. **What variables from census to inclue and how** intuitively income, employment status, age, household size etc. We can merge in the master df and use RFE to decide which one is relevant. But the problem is - census data is categorical, you'll see what I mean by look at the example below of income - each bucket is one column, how to do modellilng using these bucket-level variables?\n",
    "\n",
    "    One thought: calculate a rough 'average_income' of each postcode/ LGA, i.e SUM(% of each bucket * bucket value), bucket will have to be assigned by us, e.g. the AUD1000-1249 per week will have a bucket value of 1125 (the middle point)"
   ]
  },
  {
   "cell_type": "markdown",
   "id": "e4c7cebf",
   "metadata": {},
   "source": [
    "**DATA SOURCE:**\n",
    "\n",
    "[NSW Housing Rent and Sales](https://www.facs.nsw.gov.au/resources/statistics/rent-and-sales/back-issues)\n",
    "\n",
    "Sales data - renamed vs. original variable names:\n",
    "* <b>dwelling_type</b>: Dwelling Type\n",
    "* <b>25%_price</b>: First Quartile Sales Price (AUD 000s)\n",
    "* <b>median_price</b>: Median Sales Price (AUD 000s)\n",
    "* <b>75%_price</b>: Third Quartile Sales Price (AUD 000s)\n",
    "* <b>mean_prce</b>: Mean Sales Price (AUD 000s)\n",
    "* <b>sales_no</b>: Number of Sales\n",
    "* <b>Qdelta_median</b>: Qtly change in Median\n",
    "* <b>Adelta_median</b>: Annual change in Median\n",
    "* <b>Qdelta_count</b>: Qtly change in Count\n",
    "* <b>Adelta_count</b>: Annual change in Count"
   ]
  },
  {
   "cell_type": "code",
   "execution_count": 1,
   "id": "7cd402cc",
   "metadata": {},
   "outputs": [],
   "source": [
    "import pandas as pd\n",
    "import numpy as np \n",
    "import matplotlib.pyplot as plt\n",
    "import seaborn as sns\n",
    "%matplotlib inline"
   ]
  },
  {
   "cell_type": "markdown",
   "id": "f7245785",
   "metadata": {},
   "source": [
    "# 1. Sales Data"
   ]
  },
  {
   "cell_type": "markdown",
   "id": "664661b5",
   "metadata": {},
   "source": [
    "### 1-1. Data cleaning and preparation"
   ]
  },
  {
   "cell_type": "markdown",
   "id": "bae92c55",
   "metadata": {},
   "source": [
    "**CR**: could possibly use a loop to do the below. I've got some code from another notebook that can do this. "
   ]
  },
  {
   "cell_type": "code",
   "execution_count": 2,
   "id": "d4116cf3",
   "metadata": {},
   "outputs": [
    {
     "name": "stdout",
     "output_type": "stream",
     "text": [
      "Q1 2021(s136): (1427, 11) \n",
      " Q4 2020(s135): (1459, 11) \n",
      " Q3 2020(s134): (1419, 11) \n",
      " Q2 2020(s133): (1332, 11) \n",
      " Q1 2020(s132): (1361, 11) \n",
      " Q4 2019(s131): (1382, 11) \n",
      " Q3 2019(s130): (1377, 11) \n",
      " Q2 2019(s129): (1356, 11) \n",
      " Q1 2019(s128): (1332, 11)\n"
     ]
    }
   ],
   "source": [
    "s136 = \"Files/Sales/Issue-136-Sales-tables-March-2021-quarter.xlsx\"\n",
    "s135 = \"Files/Sales/Issue-135-Sales-tables-December-2020-quarter.xlsx\"\n",
    "s134 = \"Files/Sales/Issue-134-Sales-tables-September-2020-quarter.xlsx\"\n",
    "s133 = \"Files/Sales/Issue-133-Sales-tables-June-2020-quarter.xlsx\"\n",
    "s132 = \"Files/Sales/Issue-132-Sales-tables-March-2020-quarter.xlsx\"\n",
    "s131 = \"Files/Sales/Issue-131-Sales-tables-December-quarter-2019.xlsx\"\n",
    "s130 = \"Files/Sales/Issue-130-Sales-tables-September-quarter-2019.xlsx\"\n",
    "s129 = \"Files/Sales/Issue-129-Sales-tables-June-quarter-2019.xlsx\"\n",
    "s128 = \"Files/Sales/Issue-128-Sales-tables-Mar-quarter-2019.xlsx\"\n",
    "\n",
    "# Read the two sheets into two separate dataframes\n",
    "s136 = pd.read_excel(s136, sheet_name=\"Postcode\", na_values='-', header=6)\n",
    "s135 = pd.read_excel(s135, sheet_name=\"Postcode\", na_values='-', header=6)\n",
    "s134 = pd.read_excel(s134, sheet_name=\"Postcode\", na_values='-', header=6)\n",
    "s133 = pd.read_excel(s133, sheet_name=\"Postcode\", na_values='-', header=6)\n",
    "s132 = pd.read_excel(s132, sheet_name=\"Postcode\", na_values='-', header=6)\n",
    "s131 = pd.read_excel(s131, sheet_name=\"Postcode\", na_values='-', header=6)\n",
    "s130 = pd.read_excel(s130, sheet_name=\"Postcode\", na_values='-', header=5)\n",
    "s129 = pd.read_excel(s129, sheet_name=\"Postcode\", na_values='-', header=4)\n",
    "s128 = pd.read_excel(s128, sheet_name=\"Postcode\", na_values='-', header=4)\n",
    "\n",
    "# Sale prices in any geographical area where the number of sales is 10 or less were not shown for confidentiality\n",
    "# They were represented as '-' in the table\n",
    "\n",
    "print(\"Q1 2021(s136):\", s136.shape,\"\\n\",\n",
    "      \"Q4 2020(s135):\", s135.shape,\"\\n\",\n",
    "      \"Q3 2020(s134):\", s134.shape,\"\\n\",\n",
    "      \"Q2 2020(s133):\", s133.shape,\"\\n\",\n",
    "      \"Q1 2020(s132):\", s132.shape,\"\\n\",\n",
    "      \"Q4 2019(s131):\", s131.shape,\"\\n\",\n",
    "      \"Q3 2019(s130):\", s130.shape,\"\\n\",\n",
    "      \"Q2 2019(s129):\", s129.shape,\"\\n\",\n",
    "      \"Q1 2019(s128):\", s128.shape)"
   ]
  },
  {
   "cell_type": "code",
   "execution_count": 3,
   "id": "07222f27",
   "metadata": {},
   "outputs": [],
   "source": [
    "# Add time period and key columns before merging\n",
    "\n",
    "s136['key'] = 's136'\n",
    "s135['key'] = 's135'\n",
    "s134['key'] = 's134'\n",
    "s133['key'] = 's133'\n",
    "s132['key'] = 's132'\n",
    "s131['key'] = 's131'\n",
    "s130['key'] = 's130'\n",
    "s129['key'] = 's129'\n",
    "s128['key'] = 's128'\n",
    "\n",
    "s136['time_period'] = '2021 Q1'\n",
    "s135['time_period'] = '2020 Q4'\n",
    "s134['time_period'] = '2020 Q3'\n",
    "s133['time_period'] = '2020 Q2'\n",
    "s132['time_period'] = '2020 Q1'\n",
    "s131['time_period'] = '2019 Q4'\n",
    "s130['time_period'] = '2019 Q3'\n",
    "s129['time_period'] = '2019 Q2'\n",
    "s128['time_period'] = '2019 Q1'\n",
    "\n",
    "s136['year'] = '2021'\n",
    "s135['year'] = '2020'\n",
    "s134['year'] = '2020'\n",
    "s133['year'] = '2020'\n",
    "s132['year'] = '2020'\n",
    "s131['year'] = '2019'\n",
    "s130['year'] = '2019'\n",
    "s129['year'] = '2019'\n",
    "s128['year'] = '2019'\n",
    "\n",
    "s136['quarter'] = '1'\n",
    "s135['quarter'] = '4'\n",
    "s134['quarter'] = '3'\n",
    "s133['quarter'] = '2'\n",
    "s132['quarter'] = '1'\n",
    "s131['quarter'] = '4'\n",
    "s130['quarter'] = '3'\n",
    "s129['quarter'] = '2'\n",
    "s128['quarter'] = '1'"
   ]
  },
  {
   "cell_type": "code",
   "execution_count": 4,
   "id": "2981a460",
   "metadata": {},
   "outputs": [
    {
     "name": "stdout",
     "output_type": "stream",
     "text": [
      "s_master: (12445, 15) \n",
      "\n",
      "Postcode                                int64\n",
      "Dwelling Type                          object\n",
      "First Quartile Sales Price\\n$'000s    float64\n",
      "Median Sales Price\\n$'000s            float64\n",
      "Third Quartile Sales Price\\n'000s     float64\n",
      "Mean Sales Price\\n$'000s              float64\n",
      "Sales\\nNo.                             object\n",
      "Qtly change in Median                 float64\n",
      "Annual change in Median               float64\n",
      "Qtly change in Count                  float64\n",
      "Annual change in Count                float64\n",
      "key                                    object\n",
      "time_period                            object\n",
      "year                                   object\n",
      "quarter                                object\n",
      "dtype: object\n"
     ]
    }
   ],
   "source": [
    "# Merge sales file into one master file\n",
    "frames = [s128, s129, s130, s131, s132, s133, s134, s135, s136]\n",
    "s_master = pd.concat(frames)\n",
    "\n",
    "# Check master sales data's shape and dtypes\n",
    "print(\"s_master:\", s_master.shape, \"\\n\")\n",
    "print(s_master.dtypes)"
   ]
  },
  {
   "cell_type": "code",
   "execution_count": 5,
   "id": "8a727705",
   "metadata": {},
   "outputs": [
    {
     "data": {
      "text/html": [
       "<div>\n",
       "<style scoped>\n",
       "    .dataframe tbody tr th:only-of-type {\n",
       "        vertical-align: middle;\n",
       "    }\n",
       "\n",
       "    .dataframe tbody tr th {\n",
       "        vertical-align: top;\n",
       "    }\n",
       "\n",
       "    .dataframe thead th {\n",
       "        text-align: right;\n",
       "    }\n",
       "</style>\n",
       "<table border=\"1\" class=\"dataframe\">\n",
       "  <thead>\n",
       "    <tr style=\"text-align: right;\">\n",
       "      <th></th>\n",
       "      <th>postcode</th>\n",
       "      <th>dwelling_type</th>\n",
       "      <th>median_price</th>\n",
       "      <th>mean_price</th>\n",
       "      <th>sales_no</th>\n",
       "      <th>Qdelta_median</th>\n",
       "      <th>Adelta_median</th>\n",
       "      <th>Qdelta_count</th>\n",
       "      <th>Adelta_count</th>\n",
       "      <th>key</th>\n",
       "      <th>time_period</th>\n",
       "      <th>year</th>\n",
       "      <th>quarter</th>\n",
       "    </tr>\n",
       "  </thead>\n",
       "  <tbody>\n",
       "    <tr>\n",
       "      <th>0</th>\n",
       "      <td>2000</td>\n",
       "      <td>Total</td>\n",
       "      <td>1160.0</td>\n",
       "      <td>1348.0</td>\n",
       "      <td>103</td>\n",
       "      <td>-0.0169</td>\n",
       "      <td>-0.1375</td>\n",
       "      <td>-0.1043</td>\n",
       "      <td>-0.1488</td>\n",
       "      <td>s128</td>\n",
       "      <td>2019 Q1</td>\n",
       "      <td>2019</td>\n",
       "      <td>1</td>\n",
       "    </tr>\n",
       "    <tr>\n",
       "      <th>1</th>\n",
       "      <td>2000</td>\n",
       "      <td>Non Strata</td>\n",
       "      <td>NaN</td>\n",
       "      <td>NaN</td>\n",
       "      <td>NaN</td>\n",
       "      <td>NaN</td>\n",
       "      <td>NaN</td>\n",
       "      <td>NaN</td>\n",
       "      <td>NaN</td>\n",
       "      <td>s128</td>\n",
       "      <td>2019 Q1</td>\n",
       "      <td>2019</td>\n",
       "      <td>1</td>\n",
       "    </tr>\n",
       "    <tr>\n",
       "      <th>2</th>\n",
       "      <td>2000</td>\n",
       "      <td>Strata</td>\n",
       "      <td>1135.0</td>\n",
       "      <td>1322.0</td>\n",
       "      <td>101</td>\n",
       "      <td>-0.0340</td>\n",
       "      <td>-0.0920</td>\n",
       "      <td>-0.0734</td>\n",
       "      <td>-0.1062</td>\n",
       "      <td>s128</td>\n",
       "      <td>2019 Q1</td>\n",
       "      <td>2019</td>\n",
       "      <td>1</td>\n",
       "    </tr>\n",
       "    <tr>\n",
       "      <th>3</th>\n",
       "      <td>2007</td>\n",
       "      <td>Total</td>\n",
       "      <td>641.0</td>\n",
       "      <td>517.0</td>\n",
       "      <td>s</td>\n",
       "      <td>-0.0642</td>\n",
       "      <td>-0.1097</td>\n",
       "      <td>-0.1333</td>\n",
       "      <td>-0.3158</td>\n",
       "      <td>s128</td>\n",
       "      <td>2019 Q1</td>\n",
       "      <td>2019</td>\n",
       "      <td>1</td>\n",
       "    </tr>\n",
       "    <tr>\n",
       "      <th>4</th>\n",
       "      <td>2007</td>\n",
       "      <td>Strata</td>\n",
       "      <td>641.0</td>\n",
       "      <td>517.0</td>\n",
       "      <td>s</td>\n",
       "      <td>-0.0642</td>\n",
       "      <td>-0.1097</td>\n",
       "      <td>-0.1333</td>\n",
       "      <td>-0.3158</td>\n",
       "      <td>s128</td>\n",
       "      <td>2019 Q1</td>\n",
       "      <td>2019</td>\n",
       "      <td>1</td>\n",
       "    </tr>\n",
       "  </tbody>\n",
       "</table>\n",
       "</div>"
      ],
      "text/plain": [
       "   postcode dwelling_type  median_price  mean_price sales_no  Qdelta_median  \\\n",
       "0      2000         Total        1160.0      1348.0      103        -0.0169   \n",
       "1      2000    Non Strata           NaN         NaN      NaN            NaN   \n",
       "2      2000        Strata        1135.0      1322.0      101        -0.0340   \n",
       "3      2007         Total         641.0       517.0        s        -0.0642   \n",
       "4      2007        Strata         641.0       517.0        s        -0.0642   \n",
       "\n",
       "   Adelta_median  Qdelta_count  Adelta_count   key time_period  year quarter  \n",
       "0        -0.1375       -0.1043       -0.1488  s128     2019 Q1  2019       1  \n",
       "1            NaN           NaN           NaN  s128     2019 Q1  2019       1  \n",
       "2        -0.0920       -0.0734       -0.1062  s128     2019 Q1  2019       1  \n",
       "3        -0.1097       -0.1333       -0.3158  s128     2019 Q1  2019       1  \n",
       "4        -0.1097       -0.1333       -0.3158  s128     2019 Q1  2019       1  "
      ]
     },
     "execution_count": 5,
     "metadata": {},
     "output_type": "execute_result"
    }
   ],
   "source": [
    "# Rename column for easier referencing\n",
    "rename_cols= {'Postcode':'postcode', \n",
    "             'Dwelling Type':'dwelling_type', \n",
    "             \"First Quartile Sales Price\\n$'000s\" : '25%_price',\n",
    "             \"Median Sales Price\\n$'000s\" : 'median_price', \n",
    "             \"Third Quartile Sales Price\\n'000s\" : '75%_price',\n",
    "             \"Mean Sales Price\\n$'000s\" : 'mean_price',\n",
    "             'Sales\\nNo.':'sales_no',\n",
    "             'Qtly change in Median':'Qdelta_median',\n",
    "             'Annual change in Median':'Adelta_median',\n",
    "             'Qtly change in Count':'Qdelta_count',\n",
    "             'Annual change in Count':'Adelta_count'}\n",
    "\n",
    "s_master.rename(columns=rename_cols, inplace=True)\n",
    "\n",
    "# Drop unwanted columns\n",
    "s_master = s_master.drop(columns=['25%_price', '75%_price'], axis=1)\n",
    "\n",
    "s_master.head(5)"
   ]
  },
  {
   "cell_type": "markdown",
   "id": "3fe47c44",
   "metadata": {},
   "source": [
    "Note that each postcode has 3 rows - Total, Strata, and Non-Strata. We'll later separate them into three dataframes."
   ]
  },
  {
   "cell_type": "code",
   "execution_count": 6,
   "id": "4bc022f3",
   "metadata": {},
   "outputs": [
    {
     "data": {
      "text/plain": [
       "False"
      ]
     },
     "execution_count": 6,
     "metadata": {},
     "output_type": "execute_result"
    }
   ],
   "source": [
    "# Impute na  \n",
    "\n",
    "# na in 'sales_no': repace with 5 (median of 0 and 10)\n",
    "s_master.loc[s_master['sales_no'].isnull(), 'sales_no'] = 5.0\n",
    "s_master['sales_no'].isnull().any()"
   ]
  },
  {
   "cell_type": "code",
   "execution_count": 7,
   "id": "dc2390a2",
   "metadata": {},
   "outputs": [
    {
     "data": {
      "text/plain": [
       "False"
      ]
     },
     "execution_count": 7,
     "metadata": {},
     "output_type": "execute_result"
    }
   ],
   "source": [
    "# na in 'median_price': replace with median of 'median_place' of the same dwelling_type of the same quarter\n",
    "keys = list(s_master['key'].unique())\n",
    "\n",
    "# Total\n",
    "for k in keys:\n",
    "    k_imp = s_master.loc[(s_master['median_price'].notna()) & \n",
    "                         (s_master['dwelling_type']=='Total') &\n",
    "                         (s_master['key']==k),\n",
    "                         'median_price'].median() # calculate imputer value \n",
    "    \n",
    "    s_master.loc[(s_master['median_price'].isnull()) & \n",
    "                 (s_master['dwelling_type']=='Total') &\n",
    "                 (s_master['key']==k),\n",
    "                 'median_price']=k_imp #impute\n",
    "    \n",
    "# Strata\n",
    "for k in keys:\n",
    "    k_imp = s_master.loc[(s_master['median_price'].notna()) & \n",
    "                         (s_master['dwelling_type']=='Strata') &\n",
    "                         (s_master['key']==k),\n",
    "                         'median_price'].median()\n",
    "    \n",
    "    s_master.loc[(s_master['median_price'].isnull()) & \n",
    "                 (s_master['dwelling_type']=='Strata') &\n",
    "                 (s_master['key']==k),\n",
    "                 'median_price']=k_imp\n",
    "\n",
    "# Non-Strata\n",
    "for k in keys:\n",
    "    k_imp = s_master.loc[(s_master['median_price'].notna()) & \n",
    "                         (s_master['dwelling_type']=='Non Strata') &\n",
    "                         (s_master['key']==k),\n",
    "                         'median_price'].median()\n",
    "    \n",
    "    s_master.loc[(s_master['median_price'].isnull()) & \n",
    "                 (s_master['dwelling_type']=='Non Strata') &\n",
    "                 (s_master['key']==k),\n",
    "                 'median_price']=k_imp\n",
    "\n",
    "s_master['median_price'].isnull().any()"
   ]
  },
  {
   "cell_type": "code",
   "execution_count": 8,
   "id": "a50e51fe",
   "metadata": {},
   "outputs": [
    {
     "data": {
      "text/plain": [
       "False"
      ]
     },
     "execution_count": 8,
     "metadata": {},
     "output_type": "execute_result"
    }
   ],
   "source": [
    "# na in 'mean_price': replace with median of 'mean_price' of the same dwelling_type of the same quarter\n",
    "\n",
    "# Total\n",
    "for k in keys:\n",
    "    k_imp = s_master.loc[(s_master['mean_price'].notna()) & \n",
    "                         (s_master['dwelling_type']=='Total') &\n",
    "                         (s_master['key']==k),\n",
    "                         'median_price'].median() # calculate imputer value \n",
    "    \n",
    "    s_master.loc[(s_master['mean_price'].isnull()) & \n",
    "                 (s_master['dwelling_type']=='Total') &\n",
    "                 (s_master['key']==k),\n",
    "                 'mean_price']=k_imp #impute\n",
    "    \n",
    "# Strata\n",
    "for k in keys:\n",
    "    k_imp = s_master.loc[(s_master['mean_price'].notna()) & \n",
    "                         (s_master['dwelling_type']=='Strata') &\n",
    "                         (s_master['key']==k),\n",
    "                         'mean_price'].median()\n",
    "    \n",
    "    s_master.loc[(s_master['mean_price'].isnull()) & \n",
    "                 (s_master['dwelling_type']=='Strata') &\n",
    "                 (s_master['key']==k),\n",
    "                 'mean_price']=k_imp\n",
    "\n",
    "# Non-Strata\n",
    "for k in keys:\n",
    "    k_imp = s_master.loc[(s_master['mean_price'].notna()) & \n",
    "                         (s_master['dwelling_type']=='Non Strata') &\n",
    "                         (s_master['key']==k),\n",
    "                         'mean_price'].median()\n",
    "    \n",
    "    s_master.loc[(s_master['mean_price'].isnull()) & \n",
    "                 (s_master['dwelling_type']=='Non Strata') &\n",
    "                 (s_master['key']==k),\n",
    "                 'mean_price']=k_imp\n",
    "    \n",
    "s_master['mean_price'].isnull().any()"
   ]
  },
  {
   "cell_type": "code",
   "execution_count": 9,
   "id": "b1aea7f1",
   "metadata": {},
   "outputs": [
    {
     "data": {
      "text/plain": [
       "postcode            0\n",
       "dwelling_type       0\n",
       "median_price        0\n",
       "mean_price          0\n",
       "sales_no            0\n",
       "Qdelta_median    3521\n",
       "Adelta_median    3526\n",
       "Qdelta_count     3521\n",
       "Adelta_count     3526\n",
       "key                 0\n",
       "time_period         0\n",
       "year                0\n",
       "quarter             0\n",
       "dtype: int64"
      ]
     },
     "execution_count": 9,
     "metadata": {},
     "output_type": "execute_result"
    }
   ],
   "source": [
    "s_master.isnull().sum()"
   ]
  },
  {
   "cell_type": "markdown",
   "id": "c457985f",
   "metadata": {},
   "source": [
    "Sales number was read into the dataframe as string because accordingly to the Explanatory note \"statistics calculated from sample sizes between 10 and 30 are shown by an ‘s’ in the relevant table.  We suggest these data are treated with caution, particularly when assessing quarterly and annual changes.\""
   ]
  },
  {
   "cell_type": "code",
   "execution_count": null,
   "id": "7c36db71",
   "metadata": {},
   "outputs": [],
   "source": [
    "# Replace 's' with the median of 10 and 30 since there're quite a few\n",
    "s_master.loc[s_master['sales_no'] == 's', 'sales_no'] = 20.0\n",
    "\n",
    "# Cast type as float\n",
    "s_master['sales_no'] = s_master['sales_no'].astype(float)\n",
    "\n",
    "s_master.describe().round(2)"
   ]
  },
  {
   "cell_type": "code",
   "execution_count": null,
   "id": "977c0651",
   "metadata": {},
   "outputs": [],
   "source": [
    "# Separate dwelling types\n",
    "s_total = s_master.loc[s_master['dwelling_type']=='Total']\n",
    "s_strata = s_master.loc[s_master['dwelling_type']=='Strata']\n",
    "s_nstrata = s_master.loc[s_master['dwelling_type']=='Non Strata']\n",
    "\n",
    "print('Total:', s_total.shape,\"\\n\",\n",
    "     'Strata:', s_strata.shape,\"\\n\",\n",
    "     'Non Strata:', s_nstrata.shape)"
   ]
  },
  {
   "cell_type": "markdown",
   "id": "7f2453a2",
   "metadata": {},
   "source": [
    "### 1-2 Exploratory and descriptive analysis"
   ]
  },
  {
   "cell_type": "markdown",
   "id": "019c752a",
   "metadata": {},
   "source": [
    "#### A. <u>Total level trends - Number of houses sold</u> ####\n",
    "\n",
    "Key observations:\n",
    "* Total sales started decline in Q1 2020 when COVID first struck, reaching a low point in Jun-20\n",
    "* However, bounce back was quick to come in Q3'20 and achieved a 100% growth vs. SQLY in Q4'20\n",
    "\n",
    "To investigate more:\n",
    "* Difference between Strata and Non-Strata houses - *Strata property are mostly apartment and townhouse; while non-Strata are more likely to be houses - will explain more in the price section*\n",
    "* Calculate quarter-on-quarter growth rate -> show off of skills hehee"
   ]
  },
  {
   "cell_type": "code",
   "execution_count": null,
   "id": "981335c5",
   "metadata": {},
   "outputs": [],
   "source": [
    "# Look at total number of sales by quarter and dwelling type\n",
    "sales_num = s_master.groupby(['time_period', \"dwelling_type\"])['sales_no'].sum().unstack()\n",
    "\n",
    "sales_num['Strata%'] = sales_num['Strata'] / sales_num['Total'] * 100\n",
    "sales_num['Non Strata%'] = sales_num['Non Strata'] / sales_num['Total'] * 100\n",
    "\n",
    "sales_num.round(2)"
   ]
  },
  {
   "cell_type": "code",
   "execution_count": null,
   "id": "ab8d9b89",
   "metadata": {},
   "outputs": [],
   "source": [
    "# Visualisation\n",
    "sns.set_theme()\n",
    "sales_num_plot = sales_num[['Strata', 'Non Strata']]\n",
    "\n",
    "\n",
    "sales_num_plot.plot(kind='bar', stacked=True,\n",
    "                    title = \"Number of property sold (NSW)\",\n",
    "                    legend=True,\n",
    "                    figsize=(8,5), \n",
    "                    rot=30)"
   ]
  },
  {
   "cell_type": "markdown",
   "id": "c8379bd6",
   "metadata": {},
   "source": [
    "**CR**: for the first dot point, the trend should be starting at Q3, not Q1. There is a decline in Q1 and Q2. \n"
   ]
  },
  {
   "cell_type": "markdown",
   "id": "a52bc468",
   "metadata": {},
   "source": [
    "#### B. <u>Total level trends - average house price</u> ####\n",
    "Key observations:\n",
    "* Total (Strata + non-Strata) average price has been **trending up since Q1 2020** despite COVID\n",
    "* And this upward trend has been **driven by non-Strata houses**, the price of which have rocketed since Q2 2020\n",
    "* Strata properties (more likely to be apartment units/condos, terrace houses with shared common areas) on the contrary saw moderate increase in price in Q2'20 to Q4 then falling flat\n",
    "\n",
    "See [here](https://www.macquarie.com.au/home-loans/strata-properties-pros-and-cons.html) for more information on difference of Strata and non-strata property. \n",
    "\n",
    "**THIS IS IMPORTANT: suggesting that Strata and non-Strata house prices behave very diffirently and should probably be looked at separately in later regression analysis**"
   ]
  },
  {
   "cell_type": "code",
   "execution_count": null,
   "id": "c66d05f6",
   "metadata": {},
   "outputs": [],
   "source": [
    "# Look at changes in average price\n",
    "price_mean = s_master.groupby(['time_period', 'dwelling_type'])['mean_price'].mean().unstack()\n",
    "price_mean.round(2)"
   ]
  },
  {
   "cell_type": "code",
   "execution_count": null,
   "id": "e7d73f69",
   "metadata": {
    "scrolled": true
   },
   "outputs": [],
   "source": [
    "# Visualisation - avg. price line chart\n",
    "plt.figure(figsize=(8,5))\n",
    "ax = sns.lineplot(data=price_mean)\n",
    "ax.set_title(\"Average price of houses sold by dwelling type\")\n",
    "ax.set_ylabel(\"avg. price (AUD 000s)\")\n",
    "ax.set_xlabel(None)\n",
    "plt.show()"
   ]
  },
  {
   "cell_type": "code",
   "execution_count": null,
   "id": "85d3e79f",
   "metadata": {},
   "outputs": [],
   "source": [
    "# Look at changes in median price to reduce the impact of potential outliers\n",
    "price_median = s_master.groupby(['time_period', 'dwelling_type'])['median_price'].mean().unstack()\n",
    "price_median.round(2)"
   ]
  },
  {
   "cell_type": "code",
   "execution_count": null,
   "id": "c2e95428",
   "metadata": {},
   "outputs": [],
   "source": [
    "# Visualisation - median price line chart\n",
    "\n",
    "plt.figure(figsize=(8,5))\n",
    "ax = sns.lineplot(data=price_median)\n",
    "ax.set_title(\"Price median of houses sold by dwelling type\")\n",
    "ax.set_ylabel(\"price (AUD 000s)\")\n",
    "ax.set_xlabel(None)"
   ]
  },
  {
   "cell_type": "markdown",
   "id": "1380a79e",
   "metadata": {},
   "source": [
    "**CR** we want to find a way to get a map of sydney, link the postcodes, that way we can have a heatmap for better visualisation of sales around Sydney. Perhaps finding a website that gets the boundaries of the city with the post code. Is there a way to extract those boundaries? \n",
    "\n",
    "will have a look into this link : https://github.com/chrisberkhout/jvectormap_data_au"
   ]
  },
  {
   "cell_type": "markdown",
   "id": "a3559c0b",
   "metadata": {},
   "source": [
    "#### C. <u>Suburb level (Q1 2021) - hottest and most expensive suburbs</u> ####\n",
    "\n",
    "**TO BE DONE:**\n",
    "* Scrape a table somewhere online to map postcode to the name of suburbs\n",
    "* Or make a decision to use the LGA tab of the raw data sheets (instead of the postcode sheet used here)\n",
    "* Investigate map visualisation"
   ]
  },
  {
   "cell_type": "code",
   "execution_count": null,
   "id": "48374060",
   "metadata": {},
   "outputs": [],
   "source": [
    "# Group sales number by postcode\n",
    "sales_pc = s_total.groupby(['postcode','time_period'])[['sales_no']].sum().unstack()\n",
    "sales_pc.columns = sales_pc.columns.droplevel() #Drop column multiindex \n",
    "sales_pc = sales_pc.sort_values(by='2021 Q1', ascending=False)\n",
    "\n",
    "# 10 areas with most sales in Q1 2021\n",
    "sales_pc.head(10)"
   ]
  },
  {
   "cell_type": "markdown",
   "id": "97c32a26",
   "metadata": {},
   "source": [
    "Roughly:\n",
    "* **2250**: part of Gosford LGA (Central Coast Region)\n",
    "* **2155**: part of Cherrybrook LGA \n",
    "* **2540**: Culburra LGA (Illawara Region)\n",
    "* **2170**: part of Liverpool LGA\n",
    "* **2650**: part of Junee LGA (Murrumbidgee Region)\n",
    "* **2251**: part of Wyong LGA (Central Coast Region)\n",
    "* **2560**: part of Campbelltown LGA \n",
    "* **2259**: part of Wyong LGA (Central Coast Region)\n",
    "* **2145**: part of Holroyd LGA \n",
    "* **2444**: part of Port Macquarie LGA (Mid North Coast Region)\n",
    "\n",
    "Look at how the price in these areas has changed."
   ]
  },
  {
   "cell_type": "code",
   "execution_count": null,
   "id": "349e5c54",
   "metadata": {},
   "outputs": [],
   "source": [
    "# Filter out top5 five postcode from the total dataset\n",
    "s5_list = list(sales_pc.head(5).index)\n",
    "s5 = s_total.loc[s_total['postcode'].isin(s5_list)]\n",
    "\n",
    "# Check the average sales price of each pc\n",
    "s5 = s5.groupby(['time_period','postcode'])['mean_price'].mean().unstack()"
   ]
  },
  {
   "cell_type": "code",
   "execution_count": null,
   "id": "2391bf64",
   "metadata": {},
   "outputs": [],
   "source": [
    "plt.figure(figsize=(9,6))\n",
    "ax = sns.lineplot(data=s5)\n",
    "ax.set_title(\"Average sales price of the 5 hottest areas\")\n",
    "ax.set_ylim(0,1200)\n",
    "ax.set_ylabel(\"Avg. priec(AUD 000s)\")\n",
    "ax.set_xlabel(None)\n",
    "ax.legend(loc=4)"
   ]
  },
  {
   "cell_type": "markdown",
   "id": "7fbdfd41",
   "metadata": {},
   "source": [
    "Next, look at average price by postcode."
   ]
  },
  {
   "cell_type": "code",
   "execution_count": null,
   "id": "87b83bad",
   "metadata": {},
   "outputs": [],
   "source": [
    "# Group price (total average) by postcode\n",
    "price_pc = s_total.groupby(['postcode','time_period'])[['mean_price']].mean().unstack()\n",
    "price_pc.columns = price_pc.columns.droplevel() #Drop column multiindex \n",
    "price_pc = price_pc.sort_values(by='2021 Q1', ascending=False)\n",
    "\n",
    "# Top 5 most expensive areas in Q1 2021\n",
    "price_pc.head(5)"
   ]
  },
  {
   "cell_type": "markdown",
   "id": "e7ae9374",
   "metadata": {},
   "source": [
    "They are:\n",
    "* **2220:** Hurstville & Hurstville Grove\n",
    "* **2027:** Waverly LGA - Darling Point, Edgecliff & Point Piper (in\n",
    "* **2092:** Manly Warringah LGA - Seafort\n",
    "* **2030:** Waverly LGA - Rose Bay North, Vaucluse, Watsons Bay\n",
    "* **2107:** Manly Warringah LGA - NEWPORT BEACH, AVALON, AVALON BEACH, BILGOLA, CLAREVILLE, WHALE BEACH"
   ]
  },
  {
   "cell_type": "code",
   "execution_count": null,
   "id": "33d2a528",
   "metadata": {},
   "outputs": [],
   "source": [
    "# Visualisation\n",
    "price_pc5 = price_pc.head(5)\n",
    "price_pc5_tr = price_pc5.transpose()\n",
    "\n",
    "plt.figure(figsize=(9,6))\n",
    "ax = sns.lineplot(data=price_pc5_tr)\n",
    "ax.set_title(\"Top 5 NSW postcode with highest house prices in Q1 2021\")\n",
    "#ax.set_ylim(0,500)\n",
    "ax.set_ylabel(\"Avg. price (AUD 000s)\")\n",
    "ax.set_xlabel(None)\n",
    "ax.legend(loc=0)"
   ]
  },
  {
   "cell_type": "markdown",
   "id": "a4d86a37",
   "metadata": {},
   "source": [
    "### 1-3 Join Census Data"
   ]
  },
  {
   "cell_type": "code",
   "execution_count": null,
   "id": "f278e1ae",
   "metadata": {},
   "outputs": [],
   "source": [
    "# Read weekly income data\n",
    "census_INCP = \"Files/Census/POA (UR) by INCP Toal Personal Income (Weekly).csv\"\n",
    "\n",
    "incp_raw = pd.read_csv(census_INCP, skiprows=9, nrows=11142,\n",
    "                       usecols=['POA (UR)', 'INCP Total Personal Income (weekly)', 'Count'])\n",
    "\n",
    "# Rename column for easier referencing\n",
    "incp_cols = {'POA (UR)':'postcode', 'INCP Total Personal Income (weekly)':'INCP_WK'}\n",
    "incp_raw.rename(columns=incp_cols, inplace=True)\n",
    "\n",
    "incp_raw.head()"
   ]
  },
  {
   "cell_type": "code",
   "execution_count": null,
   "id": "3989768a",
   "metadata": {},
   "outputs": [],
   "source": [
    "incp = incp_raw.groupby(['postcode','INCP_WK'])['Count'].sum().unstack()\n",
    "incp"
   ]
  },
  {
   "cell_type": "code",
   "execution_count": null,
   "id": "bf12dc67",
   "metadata": {},
   "outputs": [],
   "source": [
    "# Remove the last row\n",
    "incp = incp[:-1]"
   ]
  },
  {
   "cell_type": "code",
   "execution_count": null,
   "id": "424ac880",
   "metadata": {},
   "outputs": [],
   "source": [
    "# Clean column names\n",
    "income_cols= {'$1,000-$1,249 ($52,000-$64,999)' : '$1000-1249', \n",
    "            '$1,250-$1,499 ($65,000-$77,999)' : '$1250-1499',\n",
    "            '$1,500-$1,749 ($78,000-$90,999)' : '$1500-1749 ', \n",
    "            '$1,750-$1,999 ($91,000-$103,999)': '$1750-1999',\n",
    "            '$1-$149 ($1-$7,799)': '$1-149', \n",
    "            '$150-$299 ($7,800-$15,599)' : '$150-299',\n",
    "            '$2,000-$2,999 ($104,000-$155,999)':'$2000-2999',\n",
    "            '$3,000 or more ($156,000 or more)':'>=$3000', \n",
    "            '$300-$399 ($15,600-$20,799)':'$300-399',\n",
    "            '$400-$499 ($20,800-$25,999)':'$400-499', \n",
    "            '$500-$649 ($26,000-$33,799)':'$500-649',\n",
    "            '$650-$799 ($33,800-$41,599)':'$650-799', \n",
    "            '$800-$999 ($41,600-$51,999)':'$800-999'}\n",
    "\n",
    "incp.rename(columns=income_cols, inplace=True)\n",
    "\n",
    "# Combine 'not applicable' and 'not stated' into one column\n",
    "incp['total_na'] = incp['Not applicable'] + incp['Not stated']\n",
    "incp = incp.drop(columns=['Not applicable', 'Not stated'], axis=1)\n",
    "incp.head(1)"
   ]
  },
  {
   "cell_type": "code",
   "execution_count": null,
   "id": "dbc8aa7d",
   "metadata": {},
   "outputs": [],
   "source": [
    "# Remove 'NSW' in the index and cast postcode to int64\n",
    "incp.reset_index(inplace=True)\n",
    "incp['postcode'] = incp['postcode'].str.split(\",\", n=1, expand=True)\n",
    "incp['postcode'] = incp['postcode'].astype('int64')\n",
    "incp = incp.set_index('postcode')\n",
    "\n",
    "# Reorder columns\n",
    "cols = incp.columns.tolist()\n",
    "cols = ['$1-149','$150-299','$300-399','$400-499','$500-649','$650-799',\n",
    "        '$800-999','$1000-1249','$1250-1499','$1500-1749 ',\n",
    "        '$1750-1999','$2000-2999','>=$3000',\n",
    "        'Negative income','Nil income','total_na','Total']\n",
    "\n",
    "incp=incp[cols]\n",
    "\n",
    "incp.head(1)"
   ]
  },
  {
   "cell_type": "code",
   "execution_count": null,
   "id": "e1d17382",
   "metadata": {},
   "outputs": [],
   "source": [
    "incp['INCP_LOW'] = incp.iloc[:, 0:6].sum(axis=1)\n",
    "incp['INCP_MID'] = incp.iloc[:, 6:10].sum(axis=1)\n",
    "incp['INCP_HIGH'] = incp.iloc[:, 10:13].sum(axis=1)\n",
    "\n",
    "incp.head(1)"
   ]
  },
  {
   "cell_type": "markdown",
   "id": "24cc5fe0",
   "metadata": {},
   "source": [
    "**CR**: joining two DFs together, matching them by postcode. "
   ]
  },
  {
   "cell_type": "code",
   "execution_count": null,
   "id": "0e8ecb92",
   "metadata": {},
   "outputs": [],
   "source": [
    "# Join INCP with sales data\n",
    "s_join = s_master.join(incp, on='postcode')\n",
    "s_join.head()"
   ]
  },
  {
   "cell_type": "markdown",
   "id": "d883140d",
   "metadata": {},
   "source": [
    "# 2. Rent data\n",
    "\n",
    "<u>USAGE POTENTIALS:</u>\n",
    "1. Analyse correlation of rental price and sales price "
   ]
  },
  {
   "cell_type": "code",
   "execution_count": null,
   "id": "a0c3bc1f",
   "metadata": {},
   "outputs": [],
   "source": [
    "rent = \"Files/Rent/Issue-135-Rent-tables-March-2021-quarter.xlsx\"\n",
    "rent_pc = pd.read_excel(rent, sheet_name=\"Postcode\", na_values='-', header=7)"
   ]
  },
  {
   "cell_type": "code",
   "execution_count": null,
   "id": "121c61be",
   "metadata": {},
   "outputs": [],
   "source": [
    "# Rename column for easier referencing (rent)\n",
    "\n",
    "rename_cols= {'Postcode':'postcode', \n",
    "             'Dwelling Types':'dwelling_type', \n",
    "              'Number of Bedrooms':'bed_number',\n",
    "             'First Quartile Weekly Rent for New Bonds\\n$': '25%_wrent_newb',\n",
    "             'Median Weekly Rent for New Bonds\\n$': '50%_wrent_newb', \n",
    "             'Third Quartile Weekly Rent for New Bonds\\n$': \"75%_wrent_newb\",\n",
    "             'New Bonds Lodged\\nNo.' : 'new_bonds_number',\n",
    "              'Total Bonds Held\\nNo.': 'total_bonds_number',\n",
    "             'Sales\\nNo.':'sales_number'}\n",
    "\n",
    "rent_pc.rename(columns=rename_cols,inplace=True)\n",
    "rent_pc.head(5)"
   ]
  },
  {
   "cell_type": "code",
   "execution_count": null,
   "id": "9ac2c422",
   "metadata": {},
   "outputs": [],
   "source": [
    "# Check data types\n",
    "rent_pc.dtypes"
   ]
  },
  {
   "cell_type": "code",
   "execution_count": null,
   "id": "e53d8539",
   "metadata": {},
   "outputs": [],
   "source": [
    "rent_pc.loc[rent_pc['new_bonds_number'] == 's', 'new_bonds_number'] = 20.0\n",
    "rent_pc.loc[rent_pc['total_bonds_number'] == 's', 'total_bonds_number'] = 20.0\n",
    "\n",
    "rent_pc['new_bonds_number'] = rent_pc['new_bonds_number'].astype(float)\n",
    "rent_pc['total_bonds_number'] = rent_pc['total_bonds_number'].astype(float)\n",
    "\n",
    "# Check data types again\n",
    "rent_pc.dtypes"
   ]
  },
  {
   "cell_type": "code",
   "execution_count": null,
   "id": "7b63876e",
   "metadata": {},
   "outputs": [],
   "source": [
    "# Check unique values of dwelling type\n",
    "rent_pc.groupby('dwelling_type').size()"
   ]
  },
  {
   "cell_type": "code",
   "execution_count": null,
   "id": "b4b064b7",
   "metadata": {},
   "outputs": [],
   "source": [
    "# Check unique values of bed_number\n",
    "rent_pc.groupby('bed_number').size()"
   ]
  },
  {
   "cell_type": "code",
   "execution_count": null,
   "id": "cfce34db",
   "metadata": {},
   "outputs": [],
   "source": [
    "# checking shape of rent_pc and null values\n",
    "\n",
    "print(rent_pc.shape, \"\\n\")\n",
    "print(rent_pc.isnull().sum())"
   ]
  },
  {
   "cell_type": "code",
   "execution_count": null,
   "id": "92b3f2e5",
   "metadata": {},
   "outputs": [],
   "source": [
    "# Check top 20 postcodes that have higest total bond number in Q1 2021\n",
    "tbonds_pc = rent_pc.groupby([\"postcode\", \"dwelling_type\"])['total_bonds_number'].sum().unstack()\n",
    "\n",
    "tbonds_pc.sort_values(by=\"Total\", ascending = False).head(20)"
   ]
  },
  {
   "cell_type": "code",
   "execution_count": null,
   "id": "6484a3b0",
   "metadata": {},
   "outputs": [],
   "source": [
    "nbonds_pc = rent_pc.groupby([\"postcode\", \"dwelling_type\"])['new_bonds_number'].sum().unstack()\n",
    "nbonds_pc.sort_values(by='Total', ascending = False).head(20)"
   ]
  },
  {
   "cell_type": "code",
   "execution_count": null,
   "id": "8805dd45",
   "metadata": {},
   "outputs": [],
   "source": []
  }
 ],
 "metadata": {
  "kernelspec": {
   "display_name": "Python 3",
   "language": "python",
   "name": "python3"
  },
  "language_info": {
   "codemirror_mode": {
    "name": "ipython",
    "version": 3
   },
   "file_extension": ".py",
   "mimetype": "text/x-python",
   "name": "python",
   "nbconvert_exporter": "python",
   "pygments_lexer": "ipython3",
   "version": "3.8.8"
  },
  "varInspector": {
   "cols": {
    "lenName": 16,
    "lenType": 16,
    "lenVar": 40
   },
   "kernels_config": {
    "python": {
     "delete_cmd_postfix": "",
     "delete_cmd_prefix": "del ",
     "library": "var_list.py",
     "varRefreshCmd": "print(var_dic_list())"
    },
    "r": {
     "delete_cmd_postfix": ") ",
     "delete_cmd_prefix": "rm(",
     "library": "var_list.r",
     "varRefreshCmd": "cat(var_dic_list()) "
    }
   },
   "types_to_exclude": [
    "module",
    "function",
    "builtin_function_or_method",
    "instance",
    "_Feature"
   ],
   "window_display": false
  }
 },
 "nbformat": 4,
 "nbformat_minor": 5
}
