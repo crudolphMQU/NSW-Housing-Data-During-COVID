{
 "cells": [
  {
   "cell_type": "markdown",
   "id": "c5bafc55",
   "metadata": {},
   "source": [
    "<em><b>10/ 09/ 2021 UPDATE</b></em>\n",
    "* Drop column 25%_price and 75%_price\n",
    "* Change column name from '50%_price' to 'median_price'\n",
    "* Manually impute na values in 'sales_no', 'median_price', 'mean_price' > <b><u>impute method open to discussion<u></b>\n",
    "    * sales_no: impute with 5\n",
    "    * median_price: **median** of 'median_price' of same dwelling_type of the same quarter\n",
    "    * mean_price: **median** of 'mean_price' of same dwellling_type of the same quarter\n",
    "* Group income in to three buckets -> <u><b>open to discussion</b></u>\n",
    "    * LOW: less than \\\\$800 pw\n",
    "    * MEDIUM: \\\\$800 - \\\\$1749 pw\n",
    "    * HIGH: greater or equal to \\\\$1750 pw\n",
    "    \n",
    "        * information on 2020 avg. weekly income from ABS [(here)](https://www.abs.gov.au/statistics/labour/earnings-and-work-hours/average-weekly-earnings-australia/latest-release)\n",
    "        * [NSW 'very low to moderate income' definition](https://www.facs.nsw.gov.au/providers/housing/affordable/about/chapters/who-are-very-low-to-moderate-income-earners)\n",
    "        * [National minimum wage](https://www.fairwork.gov.au/pay/minimum-wages#national): \\\\$20.33 per hour or \\\\$772 pw\n",
    "    \n",
    "\n",
    "\n",
    "Thought:\n",
    "* Dropt the four delta columns too? Or is it needed for plotting growth?\n",
    "* Seems a lot of work to map postcode to LGA - should we just use the LGA tab instead? (most geographical data on ABS is based on LGA, i couldn't find clean and easy-to-use LGA to POA mapping, for the sake of visualisation etc. it might be easier to base our analysis on LGA)"
   ]
  },
  {
   "cell_type": "markdown",
   "id": "60f37d5b",
   "metadata": {},
   "source": [
    "### DISCUSSION POINT: ###\n",
    "\n",
    "IF TO USE THIS HOUSING DATA\n",
    "1. **Use postcode or LGA** - LGA usually covers larger area than one postcode, which might mean less pointy data, but makes better sense to readers; on the other hand one postcode corresponds to multiple suburbs, can be hard to describe (below preliminary analysis was done using postcode for simplicity). \n",
    "Postcode to LGA Mapping [here](https://www.dva.gov.au/sites/default/files/Providers/nsworp.pdf).\n",
    "\n",
    "\n",
    "2. **Limit to Sydney Region or whole NSW** - the dataset contains data for all NSW regions (central coast, Wollogong etc.). Are we going to limit our analysis to Greater Syndey Region only or not? If so, need to figure out a method tease out Sydney LGAs / postcodes - scraping some gov. table (above mapping for example) and use the join method.\n",
    "\n",
    "\n",
    "3. **What variables from census to inclue and how** intuitively income, employment status, age, household size etc. We can merge in the master df and use RFE to decide which one is relevant. But the problem is - census data is categorical, you'll see what I mean by look at the example below of income - each bucket is one column, how to do modellilng using these bucket-level variables?\n",
    "\n",
    "    One thought: calculate a rough 'average_income' of each postcode/ LGA, i.e SUM(% of each bucket * bucket value), bucket will have to be assigned by us, e.g. the AUD1000-1249 per week will have a bucket value of 1125 (the middle point)"
   ]
  },
  {
   "cell_type": "markdown",
   "id": "e4c7cebf",
   "metadata": {},
   "source": [
    "**DATA SOURCE:**\n",
    "\n",
    "[NSW Housing Rent and Sales](https://www.facs.nsw.gov.au/resources/statistics/rent-and-sales/back-issues)\n",
    "\n",
    "Sales data - renamed vs. original variable names:\n",
    "* <b>dwelling_type</b>: Dwelling Type\n",
    "* <b>25%_price</b>: First Quartile Sales Price (AUD 000s)\n",
    "* <b>median_price</b>: Median Sales Price (AUD 000s)\n",
    "* <b>75%_price</b>: Third Quartile Sales Price (AUD 000s)\n",
    "* <b>mean_prce</b>: Mean Sales Price (AUD 000s)\n",
    "* <b>sales_no</b>: Number of Sales\n",
    "* <b>Qdelta_median</b>: Qtly change in Median\n",
    "* <b>Adelta_median</b>: Annual change in Median\n",
    "* <b>Qdelta_count</b>: Qtly change in Count\n",
    "* <b>Adelta_count</b>: Annual change in Count"
   ]
  },
  {
   "cell_type": "code",
   "execution_count": 2,
   "id": "7cd402cc",
   "metadata": {},
   "outputs": [],
   "source": [
    "import pandas as pd\n",
    "import numpy as np \n",
    "import matplotlib.pyplot as plt\n",
    "import seaborn as sns\n",
    "%matplotlib inline"
   ]
  },
  {
   "cell_type": "markdown",
   "id": "f7245785",
   "metadata": {},
   "source": [
    "# 1. Sales Data"
   ]
  },
  {
   "cell_type": "markdown",
   "id": "664661b5",
   "metadata": {},
   "source": [
    "### 1-1. Data cleaning and preparation"
   ]
  },
  {
   "cell_type": "markdown",
   "id": "bae92c55",
   "metadata": {},
   "source": [
    "**CR**: could possibly use a loop to do the below. I've got some code from another notebook that can do this. "
   ]
  },
  {
   "cell_type": "code",
   "execution_count": 11,
   "id": "d4116cf3",
   "metadata": {},
   "outputs": [
    {
     "name": "stdout",
     "output_type": "stream",
     "text": [
      "Q1 2021(s136): (1427, 11) \n",
      " Q4 2020(s135): (1459, 11) \n",
      " Q3 2020(s134): (1419, 11) \n",
      " Q2 2020(s133): (1332, 11) \n",
      " Q1 2020(s132): (1361, 11) \n",
      " Q4 2019(s131): (1382, 11) \n",
      " Q3 2019(s130): (1377, 11) \n",
      " Q2 2019(s129): (1356, 11) \n",
      " Q1 2019(s128): (1332, 11)\n"
     ]
    }
   ],
   "source": [
    "s136 = \"Files/Sales/Issue-136-Sales-tables-March-2021-quarter.xlsx\"\n",
    "s135 = \"Files/Sales/Issue-135-Sales-tables-December-2020-quarter.xlsx\"\n",
    "s134 = \"Files/Sales/Issue-134-Sales-tables-September-2020-quarter.xlsx\"\n",
    "s133 = \"Files/Sales/Issue-133-Sales-tables-June-2020-quarter.xlsx\"\n",
    "s132 = \"Files/Sales/Issue-132-Sales-tables-March-2020-quarter.xlsx\"\n",
    "s131 = \"Files/Sales/Issue-131-Sales-tables-December-quarter-2019.xlsx\"\n",
    "s130 = \"Files/Sales/Issue-130-Sales-tables-September-quarter-2019.xlsx\"\n",
    "s129 = \"Files/Sales/Issue-129-Sales-tables-June-quarter-2019.xlsx\"\n",
    "s128 = \"Files/Sales/Issue-128-Sales-tables-Mar-quarter-2019.xlsx\"\n",
    "\n",
    "# Read the two sheets into two separate dataframes\n",
    "s136 = pd.read_excel(s136, sheet_name=\"Postcode\", na_values='-', header=6)\n",
    "s135 = pd.read_excel(s135, sheet_name=\"Postcode\", na_values='-', header=6)\n",
    "s134 = pd.read_excel(s134, sheet_name=\"Postcode\", na_values='-', header=6)\n",
    "s133 = pd.read_excel(s133, sheet_name=\"Postcode\", na_values='-', header=6)\n",
    "s132 = pd.read_excel(s132, sheet_name=\"Postcode\", na_values='-', header=6)\n",
    "s131 = pd.read_excel(s131, sheet_name=\"Postcode\", na_values='-', header=6)\n",
    "s130 = pd.read_excel(s130, sheet_name=\"Postcode\", na_values='-', header=5)\n",
    "s129 = pd.read_excel(s129, sheet_name=\"Postcode\", na_values='-', header=4)\n",
    "s128 = pd.read_excel(s128, sheet_name=\"Postcode\", na_values='-', header=4)\n",
    "\n",
    "# Sale prices in any geographical area where the number of sales is 10 or less were not shown for confidentiality\n",
    "# They were represented as '-' in the table\n",
    "\n",
    "print(\"Q1 2021(s136):\", s136.shape,\"\\n\",\n",
    "      \"Q4 2020(s135):\", s135.shape,\"\\n\",\n",
    "      \"Q3 2020(s134):\", s134.shape,\"\\n\",\n",
    "      \"Q2 2020(s133):\", s133.shape,\"\\n\",\n",
    "      \"Q1 2020(s132):\", s132.shape,\"\\n\",\n",
    "      \"Q4 2019(s131):\", s131.shape,\"\\n\",\n",
    "      \"Q3 2019(s130):\", s130.shape,\"\\n\",\n",
    "      \"Q2 2019(s129):\", s129.shape,\"\\n\",\n",
    "      \"Q1 2019(s128):\", s128.shape)"
   ]
  },
  {
   "cell_type": "code",
   "execution_count": 12,
   "id": "07222f27",
   "metadata": {},
   "outputs": [],
   "source": [
    "# Add time period and key columns before merging\n",
    "\n",
    "s136['key'] = 's136'\n",
    "s135['key'] = 's135'\n",
    "s134['key'] = 's134'\n",
    "s133['key'] = 's133'\n",
    "s132['key'] = 's132'\n",
    "s131['key'] = 's131'\n",
    "s130['key'] = 's130'\n",
    "s129['key'] = 's129'\n",
    "s128['key'] = 's128'\n",
    "\n",
    "s136['time_period'] = '2021 Q1'\n",
    "s135['time_period'] = '2020 Q4'\n",
    "s134['time_period'] = '2020 Q3'\n",
    "s133['time_period'] = '2020 Q2'\n",
    "s132['time_period'] = '2020 Q1'\n",
    "s131['time_period'] = '2019 Q4'\n",
    "s130['time_period'] = '2019 Q3'\n",
    "s129['time_period'] = '2019 Q2'\n",
    "s128['time_period'] = '2019 Q1'\n",
    "\n",
    "s136['year'] = '2021'\n",
    "s135['year'] = '2020'\n",
    "s134['year'] = '2020'\n",
    "s133['year'] = '2020'\n",
    "s132['year'] = '2020'\n",
    "s131['year'] = '2019'\n",
    "s130['year'] = '2019'\n",
    "s129['year'] = '2019'\n",
    "s128['year'] = '2019'\n",
    "\n",
    "s136['quarter'] = '1'\n",
    "s135['quarter'] = '4'\n",
    "s134['quarter'] = '3'\n",
    "s133['quarter'] = '2'\n",
    "s132['quarter'] = '1'\n",
    "s131['quarter'] = '4'\n",
    "s130['quarter'] = '3'\n",
    "s129['quarter'] = '2'\n",
    "s128['quarter'] = '1'"
   ]
  },
  {
   "cell_type": "code",
   "execution_count": 13,
   "id": "2981a460",
   "metadata": {},
   "outputs": [
    {
     "name": "stdout",
     "output_type": "stream",
     "text": [
      "s_master: (12445, 15) \n",
      "\n",
      "Postcode                                int64\n",
      "Dwelling Type                          object\n",
      "First Quartile Sales Price\\n$'000s    float64\n",
      "Median Sales Price\\n$'000s            float64\n",
      "Third Quartile Sales Price\\n'000s     float64\n",
      "Mean Sales Price\\n$'000s              float64\n",
      "Sales\\nNo.                             object\n",
      "Qtly change in Median                 float64\n",
      "Annual change in Median               float64\n",
      "Qtly change in Count                  float64\n",
      "Annual change in Count                float64\n",
      "key                                    object\n",
      "time_period                            object\n",
      "year                                   object\n",
      "quarter                                object\n",
      "dtype: object\n"
     ]
    }
   ],
   "source": [
    "# Merge sales file into one master file\n",
    "frames = [s128, s129, s130, s131, s132, s133, s134, s135, s136]\n",
    "s_master = pd.concat(frames)\n",
    "\n",
    "# Check master sales data's shape and dtypes\n",
    "print(\"s_master:\", s_master.shape, \"\\n\")\n",
    "print(s_master.dtypes)"
   ]
  },
  {
   "cell_type": "code",
   "execution_count": 16,
   "id": "8a727705",
   "metadata": {},
   "outputs": [
    {
     "data": {
      "text/html": [
       "<div>\n",
       "<style scoped>\n",
       "    .dataframe tbody tr th:only-of-type {\n",
       "        vertical-align: middle;\n",
       "    }\n",
       "\n",
       "    .dataframe tbody tr th {\n",
       "        vertical-align: top;\n",
       "    }\n",
       "\n",
       "    .dataframe thead th {\n",
       "        text-align: right;\n",
       "    }\n",
       "</style>\n",
       "<table border=\"1\" class=\"dataframe\">\n",
       "  <thead>\n",
       "    <tr style=\"text-align: right;\">\n",
       "      <th></th>\n",
       "      <th>postcode</th>\n",
       "      <th>dwelling_type</th>\n",
       "      <th>median_price</th>\n",
       "      <th>mean_price</th>\n",
       "      <th>sales_no</th>\n",
       "      <th>Qdelta_median</th>\n",
       "      <th>Adelta_median</th>\n",
       "      <th>Qdelta_count</th>\n",
       "      <th>Adelta_count</th>\n",
       "      <th>key</th>\n",
       "      <th>time_period</th>\n",
       "      <th>year</th>\n",
       "      <th>quarter</th>\n",
       "    </tr>\n",
       "  </thead>\n",
       "  <tbody>\n",
       "    <tr>\n",
       "      <th>0</th>\n",
       "      <td>2000</td>\n",
       "      <td>Total</td>\n",
       "      <td>1160.0</td>\n",
       "      <td>1348.0</td>\n",
       "      <td>103</td>\n",
       "      <td>-0.0169</td>\n",
       "      <td>-0.1375</td>\n",
       "      <td>-0.1043</td>\n",
       "      <td>-0.1488</td>\n",
       "      <td>s128</td>\n",
       "      <td>2019 Q1</td>\n",
       "      <td>2019</td>\n",
       "      <td>1</td>\n",
       "    </tr>\n",
       "    <tr>\n",
       "      <th>1</th>\n",
       "      <td>2000</td>\n",
       "      <td>Non Strata</td>\n",
       "      <td>NaN</td>\n",
       "      <td>NaN</td>\n",
       "      <td>NaN</td>\n",
       "      <td>NaN</td>\n",
       "      <td>NaN</td>\n",
       "      <td>NaN</td>\n",
       "      <td>NaN</td>\n",
       "      <td>s128</td>\n",
       "      <td>2019 Q1</td>\n",
       "      <td>2019</td>\n",
       "      <td>1</td>\n",
       "    </tr>\n",
       "    <tr>\n",
       "      <th>2</th>\n",
       "      <td>2000</td>\n",
       "      <td>Strata</td>\n",
       "      <td>1135.0</td>\n",
       "      <td>1322.0</td>\n",
       "      <td>101</td>\n",
       "      <td>-0.0340</td>\n",
       "      <td>-0.0920</td>\n",
       "      <td>-0.0734</td>\n",
       "      <td>-0.1062</td>\n",
       "      <td>s128</td>\n",
       "      <td>2019 Q1</td>\n",
       "      <td>2019</td>\n",
       "      <td>1</td>\n",
       "    </tr>\n",
       "    <tr>\n",
       "      <th>3</th>\n",
       "      <td>2007</td>\n",
       "      <td>Total</td>\n",
       "      <td>641.0</td>\n",
       "      <td>517.0</td>\n",
       "      <td>s</td>\n",
       "      <td>-0.0642</td>\n",
       "      <td>-0.1097</td>\n",
       "      <td>-0.1333</td>\n",
       "      <td>-0.3158</td>\n",
       "      <td>s128</td>\n",
       "      <td>2019 Q1</td>\n",
       "      <td>2019</td>\n",
       "      <td>1</td>\n",
       "    </tr>\n",
       "    <tr>\n",
       "      <th>4</th>\n",
       "      <td>2007</td>\n",
       "      <td>Strata</td>\n",
       "      <td>641.0</td>\n",
       "      <td>517.0</td>\n",
       "      <td>s</td>\n",
       "      <td>-0.0642</td>\n",
       "      <td>-0.1097</td>\n",
       "      <td>-0.1333</td>\n",
       "      <td>-0.3158</td>\n",
       "      <td>s128</td>\n",
       "      <td>2019 Q1</td>\n",
       "      <td>2019</td>\n",
       "      <td>1</td>\n",
       "    </tr>\n",
       "  </tbody>\n",
       "</table>\n",
       "</div>"
      ],
      "text/plain": [
       "   postcode dwelling_type  median_price  mean_price sales_no  Qdelta_median  \\\n",
       "0      2000         Total        1160.0      1348.0      103        -0.0169   \n",
       "1      2000    Non Strata           NaN         NaN      NaN            NaN   \n",
       "2      2000        Strata        1135.0      1322.0      101        -0.0340   \n",
       "3      2007         Total         641.0       517.0        s        -0.0642   \n",
       "4      2007        Strata         641.0       517.0        s        -0.0642   \n",
       "\n",
       "   Adelta_median  Qdelta_count  Adelta_count   key time_period  year quarter  \n",
       "0        -0.1375       -0.1043       -0.1488  s128     2019 Q1  2019       1  \n",
       "1            NaN           NaN           NaN  s128     2019 Q1  2019       1  \n",
       "2        -0.0920       -0.0734       -0.1062  s128     2019 Q1  2019       1  \n",
       "3        -0.1097       -0.1333       -0.3158  s128     2019 Q1  2019       1  \n",
       "4        -0.1097       -0.1333       -0.3158  s128     2019 Q1  2019       1  "
      ]
     },
     "execution_count": 16,
     "metadata": {},
     "output_type": "execute_result"
    }
   ],
   "source": [
    "# Rename column for easier referencing\n",
    "rename_cols= {'Postcode':'postcode', \n",
    "             'Dwelling Type':'dwelling_type', \n",
    "             \"First Quartile Sales Price\\n$'000s\" : '25%_price',\n",
    "             \"Median Sales Price\\n$'000s\" : 'median_price', \n",
    "             \"Third Quartile Sales Price\\n'000s\" : '75%_price',\n",
    "             \"Mean Sales Price\\n$'000s\" : 'mean_price',\n",
    "             'Sales\\nNo.':'sales_no',\n",
    "             'Qtly change in Median':'Qdelta_median',\n",
    "             'Annual change in Median':'Adelta_median',\n",
    "             'Qtly change in Count':'Qdelta_count',\n",
    "             'Annual change in Count':'Adelta_count'}\n",
    "\n",
    "s_master.rename(columns=rename_cols, inplace=True)\n",
    "\n",
    "# Drop unwanted columns\n",
    "s_master = s_master.drop(columns=['25%_price', '75%_price'], axis=1)\n",
    "\n",
    "s_master.head(5)"
   ]
  },
  {
   "cell_type": "code",
   "execution_count": 18,
   "id": "c7431f90",
   "metadata": {},
   "outputs": [
    {
     "name": "stdout",
     "output_type": "stream",
     "text": [
      "584\n",
      "postcode            0\n",
      "dwelling_type       0\n",
      "median_price     3514\n",
      "mean_price       3514\n",
      "sales_no         3514\n",
      "Qdelta_median    3521\n",
      "Adelta_median    3526\n",
      "Qdelta_count     3521\n",
      "Adelta_count     3526\n",
      "key                 0\n",
      "time_period         0\n",
      "year                0\n",
      "quarter             0\n",
      "dtype: int64\n"
     ]
    }
   ],
   "source": [
    "print(s_master['postcode'].nunique())\n",
    "print(s_master.isnull().sum())"
   ]
  },
  {
   "cell_type": "markdown",
   "id": "3fe47c44",
   "metadata": {},
   "source": [
    "Note that each postcode has 3 rows - Total, Strata, and Non-Strata. We'll later separate them into three dataframes."
   ]
  },
  {
   "cell_type": "code",
   "execution_count": 33,
   "id": "4bc022f3",
   "metadata": {},
   "outputs": [
    {
     "data": {
      "text/plain": [
       "False"
      ]
     },
     "execution_count": 33,
     "metadata": {},
     "output_type": "execute_result"
    }
   ],
   "source": [
    "# Impute na  \n",
    "\n",
    "# na in 'sales_no': repace with 5 (median of 0 and 10)\n",
    "s_master.loc[s_master['sales_no'].isnull(), 'sales_no'] = 5.0\n",
    "s_master['sales_no'].isnull().any()"
   ]
  },
  {
   "cell_type": "code",
   "execution_count": 34,
   "id": "dc2390a2",
   "metadata": {},
   "outputs": [
    {
     "data": {
      "text/plain": [
       "False"
      ]
     },
     "execution_count": 34,
     "metadata": {},
     "output_type": "execute_result"
    }
   ],
   "source": [
    "# na in 'median_price': replace with median of 'median_place' of the same dwelling_type of the same quarter\n",
    "keys = list(s_master['key'].unique())\n",
    "\n",
    "# Total\n",
    "for k in keys:\n",
    "    k_imp = s_master.loc[(s_master['median_price'].notna()) & \n",
    "                         (s_master['dwelling_type']=='Total') &\n",
    "                         (s_master['key']==k),\n",
    "                         'median_price'].median() # calculate imputer value \n",
    "    \n",
    "    s_master.loc[(s_master['median_price'].isnull()) & \n",
    "                 (s_master['dwelling_type']=='Total') &\n",
    "                 (s_master['key']==k),\n",
    "                 'median_price']=k_imp #impute\n",
    "    \n",
    "# Strata\n",
    "for k in keys:\n",
    "    k_imp = s_master.loc[(s_master['median_price'].notna()) & \n",
    "                         (s_master['dwelling_type']=='Strata') &\n",
    "                         (s_master['key']==k),\n",
    "                         'median_price'].median()\n",
    "    \n",
    "    s_master.loc[(s_master['median_price'].isnull()) & \n",
    "                 (s_master['dwelling_type']=='Strata') &\n",
    "                 (s_master['key']==k),\n",
    "                 'median_price']=k_imp\n",
    "\n",
    "# Non-Strata\n",
    "for k in keys:\n",
    "    k_imp = s_master.loc[(s_master['median_price'].notna()) & \n",
    "                         (s_master['dwelling_type']=='Non Strata') &\n",
    "                         (s_master['key']==k),\n",
    "                         'median_price'].median()\n",
    "    \n",
    "    s_master.loc[(s_master['median_price'].isnull()) & \n",
    "                 (s_master['dwelling_type']=='Non Strata') &\n",
    "                 (s_master['key']==k),\n",
    "                 'median_price']=k_imp\n",
    "\n",
    "s_master['median_price'].isnull().any()"
   ]
  },
  {
   "cell_type": "code",
   "execution_count": 35,
   "id": "a50e51fe",
   "metadata": {},
   "outputs": [
    {
     "data": {
      "text/plain": [
       "False"
      ]
     },
     "execution_count": 35,
     "metadata": {},
     "output_type": "execute_result"
    }
   ],
   "source": [
    "# na in 'mean_price': replace with median of 'mean_price' of the same dwelling_type of the same quarter\n",
    "\n",
    "# Total\n",
    "for k in keys:\n",
    "    k_imp = s_master.loc[(s_master['mean_price'].notna()) & \n",
    "                         (s_master['dwelling_type']=='Total') &\n",
    "                         (s_master['key']==k),\n",
    "                         'median_price'].median() # calculate imputer value \n",
    "    \n",
    "    s_master.loc[(s_master['mean_price'].isnull()) & \n",
    "                 (s_master['dwelling_type']=='Total') &\n",
    "                 (s_master['key']==k),\n",
    "                 'mean_price']=k_imp #impute\n",
    "    \n",
    "# Strata\n",
    "for k in keys:\n",
    "    k_imp = s_master.loc[(s_master['mean_price'].notna()) & \n",
    "                         (s_master['dwelling_type']=='Strata') &\n",
    "                         (s_master['key']==k),\n",
    "                         'mean_price'].median()\n",
    "    \n",
    "    s_master.loc[(s_master['mean_price'].isnull()) & \n",
    "                 (s_master['dwelling_type']=='Strata') &\n",
    "                 (s_master['key']==k),\n",
    "                 'mean_price']=k_imp\n",
    "\n",
    "# Non-Strata\n",
    "for k in keys:\n",
    "    k_imp = s_master.loc[(s_master['mean_price'].notna()) & \n",
    "                         (s_master['dwelling_type']=='Non Strata') &\n",
    "                         (s_master['key']==k),\n",
    "                         'mean_price'].median()\n",
    "    \n",
    "    s_master.loc[(s_master['mean_price'].isnull()) & \n",
    "                 (s_master['dwelling_type']=='Non Strata') &\n",
    "                 (s_master['key']==k),\n",
    "                 'mean_price']=k_imp\n",
    "    \n",
    "s_master['mean_price'].isnull().any()"
   ]
  },
  {
   "cell_type": "code",
   "execution_count": 36,
   "id": "33646ccf",
   "metadata": {},
   "outputs": [
    {
     "data": {
      "text/plain": [
       "postcode            0\n",
       "dwelling_type       0\n",
       "median_price        0\n",
       "mean_price          0\n",
       "sales_no            0\n",
       "Qdelta_median    3521\n",
       "Adelta_median    3526\n",
       "Qdelta_count     3521\n",
       "Adelta_count     3526\n",
       "key                 0\n",
       "time_period         0\n",
       "year                0\n",
       "quarter             0\n",
       "dtype: int64"
      ]
     },
     "execution_count": 36,
     "metadata": {},
     "output_type": "execute_result"
    }
   ],
   "source": [
    "s_master.isnull().sum()"
   ]
  },
  {
   "cell_type": "markdown",
   "id": "c457985f",
   "metadata": {},
   "source": [
    "Sales number was read into the dataframe as string because accordingly to the Explanatory note \"statistics calculated from sample sizes between 10 and 30 are shown by an ‘s’ in the relevant table.  We suggest these data are treated with caution, particularly when assessing quarterly and annual changes.\""
   ]
  },
  {
   "cell_type": "code",
   "execution_count": 37,
   "id": "7c36db71",
   "metadata": {},
   "outputs": [
    {
     "data": {
      "text/html": [
       "<div>\n",
       "<style scoped>\n",
       "    .dataframe tbody tr th:only-of-type {\n",
       "        vertical-align: middle;\n",
       "    }\n",
       "\n",
       "    .dataframe tbody tr th {\n",
       "        vertical-align: top;\n",
       "    }\n",
       "\n",
       "    .dataframe thead th {\n",
       "        text-align: right;\n",
       "    }\n",
       "</style>\n",
       "<table border=\"1\" class=\"dataframe\">\n",
       "  <thead>\n",
       "    <tr style=\"text-align: right;\">\n",
       "      <th></th>\n",
       "      <th>postcode</th>\n",
       "      <th>median_price</th>\n",
       "      <th>mean_price</th>\n",
       "      <th>sales_no</th>\n",
       "      <th>Qdelta_median</th>\n",
       "      <th>Adelta_median</th>\n",
       "      <th>Qdelta_count</th>\n",
       "      <th>Adelta_count</th>\n",
       "    </tr>\n",
       "  </thead>\n",
       "  <tbody>\n",
       "    <tr>\n",
       "      <th>count</th>\n",
       "      <td>12445.00</td>\n",
       "      <td>12445.00</td>\n",
       "      <td>12445.00</td>\n",
       "      <td>12445.00</td>\n",
       "      <td>8924.00</td>\n",
       "      <td>8919.00</td>\n",
       "      <td>8924.00</td>\n",
       "      <td>8919.00</td>\n",
       "    </tr>\n",
       "    <tr>\n",
       "      <th>mean</th>\n",
       "      <td>2373.63</td>\n",
       "      <td>839.16</td>\n",
       "      <td>903.37</td>\n",
       "      <td>41.47</td>\n",
       "      <td>0.03</td>\n",
       "      <td>0.05</td>\n",
       "      <td>0.17</td>\n",
       "      <td>0.24</td>\n",
       "    </tr>\n",
       "    <tr>\n",
       "      <th>std</th>\n",
       "      <td>256.64</td>\n",
       "      <td>567.54</td>\n",
       "      <td>658.89</td>\n",
       "      <td>48.35</td>\n",
       "      <td>0.46</td>\n",
       "      <td>0.45</td>\n",
       "      <td>0.71</td>\n",
       "      <td>0.77</td>\n",
       "    </tr>\n",
       "    <tr>\n",
       "      <th>min</th>\n",
       "      <td>2000.00</td>\n",
       "      <td>80.00</td>\n",
       "      <td>110.00</td>\n",
       "      <td>5.00</td>\n",
       "      <td>-0.97</td>\n",
       "      <td>-0.97</td>\n",
       "      <td>-0.72</td>\n",
       "      <td>-0.80</td>\n",
       "    </tr>\n",
       "    <tr>\n",
       "      <th>25%</th>\n",
       "      <td>2145.00</td>\n",
       "      <td>601.00</td>\n",
       "      <td>626.00</td>\n",
       "      <td>5.00</td>\n",
       "      <td>-0.04</td>\n",
       "      <td>-0.05</td>\n",
       "      <td>-0.17</td>\n",
       "      <td>-0.14</td>\n",
       "    </tr>\n",
       "    <tr>\n",
       "      <th>50%</th>\n",
       "      <td>2324.00</td>\n",
       "      <td>710.00</td>\n",
       "      <td>733.00</td>\n",
       "      <td>20.00</td>\n",
       "      <td>0.02</td>\n",
       "      <td>0.04</td>\n",
       "      <td>0.04</td>\n",
       "      <td>0.10</td>\n",
       "    </tr>\n",
       "    <tr>\n",
       "      <th>75%</th>\n",
       "      <td>2572.00</td>\n",
       "      <td>868.00</td>\n",
       "      <td>942.00</td>\n",
       "      <td>54.00</td>\n",
       "      <td>0.08</td>\n",
       "      <td>0.12</td>\n",
       "      <td>0.32</td>\n",
       "      <td>0.41</td>\n",
       "    </tr>\n",
       "    <tr>\n",
       "      <th>max</th>\n",
       "      <td>3691.00</td>\n",
       "      <td>17500.00</td>\n",
       "      <td>15897.00</td>\n",
       "      <td>418.00</td>\n",
       "      <td>29.04</td>\n",
       "      <td>26.13</td>\n",
       "      <td>32.00</td>\n",
       "      <td>13.00</td>\n",
       "    </tr>\n",
       "  </tbody>\n",
       "</table>\n",
       "</div>"
      ],
      "text/plain": [
       "       postcode  median_price  mean_price  sales_no  Qdelta_median  \\\n",
       "count  12445.00      12445.00    12445.00  12445.00        8924.00   \n",
       "mean    2373.63        839.16      903.37     41.47           0.03   \n",
       "std      256.64        567.54      658.89     48.35           0.46   \n",
       "min     2000.00         80.00      110.00      5.00          -0.97   \n",
       "25%     2145.00        601.00      626.00      5.00          -0.04   \n",
       "50%     2324.00        710.00      733.00     20.00           0.02   \n",
       "75%     2572.00        868.00      942.00     54.00           0.08   \n",
       "max     3691.00      17500.00    15897.00    418.00          29.04   \n",
       "\n",
       "       Adelta_median  Qdelta_count  Adelta_count  \n",
       "count        8919.00       8924.00       8919.00  \n",
       "mean            0.05          0.17          0.24  \n",
       "std             0.45          0.71          0.77  \n",
       "min            -0.97         -0.72         -0.80  \n",
       "25%            -0.05         -0.17         -0.14  \n",
       "50%             0.04          0.04          0.10  \n",
       "75%             0.12          0.32          0.41  \n",
       "max            26.13         32.00         13.00  "
      ]
     },
     "execution_count": 37,
     "metadata": {},
     "output_type": "execute_result"
    }
   ],
   "source": [
    "# Replace 's' with the median of 10 and 30 since there're quite a few\n",
    "s_master.loc[s_master['sales_no'] == 's', 'sales_no'] = 20.0\n",
    "\n",
    "# Cast type as float\n",
    "s_master['sales_no'] = s_master['sales_no'].astype(float)\n",
    "\n",
    "s_master.describe().round(2)"
   ]
  },
  {
   "cell_type": "code",
   "execution_count": 38,
   "id": "977c0651",
   "metadata": {},
   "outputs": [
    {
     "name": "stdout",
     "output_type": "stream",
     "text": [
      "Total: (4793, 13) \n",
      " Strata: (2893, 13) \n",
      " Non Strata: (4759, 13)\n"
     ]
    }
   ],
   "source": [
    "# Separate dwelling types\n",
    "s_total = s_master.loc[s_master['dwelling_type']=='Total']\n",
    "s_strata = s_master.loc[s_master['dwelling_type']=='Strata']\n",
    "s_nstrata = s_master.loc[s_master['dwelling_type']=='Non Strata']\n",
    "\n",
    "print('Total:', s_total.shape,\"\\n\",\n",
    "     'Strata:', s_strata.shape,\"\\n\",\n",
    "     'Non Strata:', s_nstrata.shape)"
   ]
  },
  {
   "cell_type": "markdown",
   "id": "7f2453a2",
   "metadata": {},
   "source": [
    "### 1-2 Exploratory and descriptive analysis"
   ]
  },
  {
   "cell_type": "markdown",
   "id": "019c752a",
   "metadata": {},
   "source": [
    "#### A. <u>Total level trends - Number of houses sold</u> ####\n",
    "\n",
    "Key observations:\n",
    "* Total sales started decline in Q1 2020 when COVID first struck, reaching a low point in Jun-20\n",
    "* However, bounce back was quick to come in Q3'20 and achieved a 100% growth vs. SQLY in Q4'20\n",
    "\n",
    "To investigate more:\n",
    "* Difference between Strata and Non-Strata houses - *Strata property are mostly apartment and townhouse; while non-Strata are more likely to be houses - will explain more in the price section*\n",
    "* Calculate quarter-on-quarter growth rate -> show off of skills hehee"
   ]
  },
  {
   "cell_type": "code",
   "execution_count": null,
   "id": "981335c5",
   "metadata": {},
   "outputs": [],
   "source": [
    "# Look at total number of sales by quarter and dwelling type\n",
    "sales_num = s_master.groupby(['time_period', \"dwelling_type\"])['sales_no'].sum().unstack()\n",
    "\n",
    "sales_num['Strata%'] = sales_num['Strata'] / sales_num['Total'] * 100\n",
    "sales_num['Non Strata%'] = sales_num['Non Strata'] / sales_num['Total'] * 100\n",
    "\n",
    "sales_num.round(2)"
   ]
  },
  {
   "cell_type": "code",
   "execution_count": null,
   "id": "ab8d9b89",
   "metadata": {},
   "outputs": [],
   "source": [
    "# Visualisation\n",
    "sns.set_theme()\n",
    "sales_num_plot = sales_num[['Strata', 'Non Strata']]\n",
    "\n",
    "\n",
    "sales_num_plot.plot(kind='bar', stacked=True,\n",
    "                    title = \"Number of property sold (NSW)\",\n",
    "                    legend=True,\n",
    "                    figsize=(8,5), \n",
    "                    rot=30)"
   ]
  },
  {
   "cell_type": "markdown",
   "id": "c8379bd6",
   "metadata": {},
   "source": [
    "**CR**: for the first dot point, the trend should be starting at Q3, not Q1. There is a decline in Q1 and Q2. \n"
   ]
  },
  {
   "cell_type": "markdown",
   "id": "a52bc468",
   "metadata": {},
   "source": [
    "#### B. <u>Total level trends - average house price</u> ####\n",
    "Key observations:\n",
    "* Total (Strata + non-Strata) average price has been **trending up since Q1 2020** despite COVID\n",
    "* And this upward trend has been **driven by non-Strata houses**, the price of which have rocketed since Q2 2020\n",
    "* Strata properties (more likely to be apartment units/condos, terrace houses with shared common areas) on the contrary saw moderate increase in price in Q2'20 to Q4 then falling flat\n",
    "\n",
    "See [here](https://www.macquarie.com.au/home-loans/strata-properties-pros-and-cons.html) for more information on difference of Strata and non-strata property. \n",
    "\n",
    "**THIS IS IMPORTANT: suggesting that Strata and non-Strata house prices behave very diffirently and should probably be looked at separately in later regression analysis**"
   ]
  },
  {
   "cell_type": "code",
   "execution_count": null,
   "id": "c66d05f6",
   "metadata": {},
   "outputs": [],
   "source": [
    "# Look at changes in average price\n",
    "price_mean = s_master.groupby(['time_period', 'dwelling_type'])['mean_price'].mean().unstack()\n",
    "price_mean.round(2)"
   ]
  },
  {
   "cell_type": "code",
   "execution_count": null,
   "id": "e7d73f69",
   "metadata": {
    "scrolled": true
   },
   "outputs": [],
   "source": [
    "# Visualisation - avg. price line chart\n",
    "plt.figure(figsize=(8,5))\n",
    "ax = sns.lineplot(data=price_mean)\n",
    "ax.set_title(\"Average price of houses sold by dwelling type\")\n",
    "ax.set_ylabel(\"avg. price (AUD 000s)\")\n",
    "ax.set_xlabel(None)\n",
    "plt.show()"
   ]
  },
  {
   "cell_type": "code",
   "execution_count": null,
   "id": "85d3e79f",
   "metadata": {},
   "outputs": [],
   "source": [
    "# Look at changes in median price to reduce the impact of potential outliers\n",
    "price_median = s_master.groupby(['time_period', 'dwelling_type'])['median_price'].mean().unstack()\n",
    "price_median.round(2)"
   ]
  },
  {
   "cell_type": "code",
   "execution_count": null,
   "id": "c2e95428",
   "metadata": {},
   "outputs": [],
   "source": [
    "# Visualisation - median price line chart\n",
    "\n",
    "plt.figure(figsize=(8,5))\n",
    "ax = sns.lineplot(data=price_median)\n",
    "ax.set_title(\"Price median of houses sold by dwelling type\")\n",
    "ax.set_ylabel(\"price (AUD 000s)\")\n",
    "ax.set_xlabel(None)"
   ]
  },
  {
   "cell_type": "markdown",
   "id": "1380a79e",
   "metadata": {},
   "source": [
    "**CR** we want to find a way to get a map of sydney, link the postcodes, that way we can have a heatmap for better visualisation of sales around Sydney. Perhaps finding a website that gets the boundaries of the city with the post code. Is there a way to extract those boundaries? \n",
    "\n",
    "will have a look into this link : https://github.com/chrisberkhout/jvectormap_data_au"
   ]
  },
  {
   "cell_type": "markdown",
   "id": "a3559c0b",
   "metadata": {},
   "source": [
    "#### C. <u>Suburb level (Q1 2021) - hottest and most expensive suburbs</u> ####\n",
    "\n",
    "**TO BE DONE:**\n",
    "* Scrape a table somewhere online to map postcode to the name of suburbs\n",
    "* Or make a decision to use the LGA tab of the raw data sheets (instead of the postcode sheet used here)\n",
    "* Investigate map visualisation"
   ]
  },
  {
   "cell_type": "code",
   "execution_count": null,
   "id": "48374060",
   "metadata": {},
   "outputs": [],
   "source": [
    "# Group sales number by postcode\n",
    "sales_pc = s_total.groupby(['postcode','time_period'])[['sales_no']].sum().unstack()\n",
    "sales_pc.columns = sales_pc.columns.droplevel() #Drop column multiindex \n",
    "sales_pc = sales_pc.sort_values(by='2021 Q1', ascending=False)\n",
    "\n",
    "# 10 areas with most sales in Q1 2021\n",
    "sales_pc.head(10)"
   ]
  },
  {
   "cell_type": "markdown",
   "id": "97c32a26",
   "metadata": {},
   "source": [
    "Roughly:\n",
    "* **2250**: part of Gosford LGA (Central Coast Region)\n",
    "* **2155**: part of Cherrybrook LGA \n",
    "* **2540**: Culburra LGA (Illawara Region)\n",
    "* **2170**: part of Liverpool LGA\n",
    "* **2650**: part of Junee LGA (Murrumbidgee Region)\n",
    "* **2251**: part of Wyong LGA (Central Coast Region)\n",
    "* **2560**: part of Campbelltown LGA \n",
    "* **2259**: part of Wyong LGA (Central Coast Region)\n",
    "* **2145**: part of Holroyd LGA \n",
    "* **2444**: part of Port Macquarie LGA (Mid North Coast Region)\n",
    "\n",
    "Look at how the price in these areas has changed."
   ]
  },
  {
   "cell_type": "code",
   "execution_count": null,
   "id": "349e5c54",
   "metadata": {},
   "outputs": [],
   "source": [
    "# Filter out top5 five postcode from the total dataset\n",
    "s5_list = list(sales_pc.head(5).index)\n",
    "s5 = s_total.loc[s_total['postcode'].isin(s5_list)]\n",
    "\n",
    "# Check the average sales price of each pc\n",
    "s5 = s5.groupby(['time_period','postcode'])['mean_price'].mean().unstack()"
   ]
  },
  {
   "cell_type": "code",
   "execution_count": null,
   "id": "2391bf64",
   "metadata": {},
   "outputs": [],
   "source": [
    "plt.figure(figsize=(9,6))\n",
    "ax = sns.lineplot(data=s5)\n",
    "ax.set_title(\"Average sales price of the 5 hottest areas\")\n",
    "ax.set_ylim(0,1200)\n",
    "ax.set_ylabel(\"Avg. priec(AUD 000s)\")\n",
    "ax.set_xlabel(None)\n",
    "ax.legend(loc=4)"
   ]
  },
  {
   "cell_type": "markdown",
   "id": "7fbdfd41",
   "metadata": {},
   "source": [
    "Next, look at average price by postcode."
   ]
  },
  {
   "cell_type": "code",
   "execution_count": null,
   "id": "87b83bad",
   "metadata": {},
   "outputs": [],
   "source": [
    "# Group price (total average) by postcode\n",
    "price_pc = s_total.groupby(['postcode','time_period'])[['mean_price']].mean().unstack()\n",
    "price_pc.columns = price_pc.columns.droplevel() #Drop column multiindex \n",
    "price_pc = price_pc.sort_values(by='2021 Q1', ascending=False)\n",
    "\n",
    "# Top 5 most expensive areas in Q1 2021\n",
    "price_pc.head(5)"
   ]
  },
  {
   "cell_type": "markdown",
   "id": "e7ae9374",
   "metadata": {},
   "source": [
    "They are:\n",
    "* **2220:** Hurstville & Hurstville Grove\n",
    "* **2027:** Waverly LGA - Darling Point, Edgecliff & Point Piper (in\n",
    "* **2092:** Manly Warringah LGA - Seafort\n",
    "* **2030:** Waverly LGA - Rose Bay North, Vaucluse, Watsons Bay\n",
    "* **2107:** Manly Warringah LGA - NEWPORT BEACH, AVALON, AVALON BEACH, BILGOLA, CLAREVILLE, WHALE BEACH"
   ]
  },
  {
   "cell_type": "code",
   "execution_count": null,
   "id": "33d2a528",
   "metadata": {},
   "outputs": [],
   "source": [
    "# Visualisation\n",
    "price_pc5 = price_pc.head(5)\n",
    "price_pc5_tr = price_pc5.transpose()\n",
    "\n",
    "plt.figure(figsize=(9,6))\n",
    "ax = sns.lineplot(data=price_pc5_tr)\n",
    "ax.set_title(\"Top 5 NSW postcode with highest house prices in Q1 2021\")\n",
    "#ax.set_ylim(0,500)\n",
    "ax.set_ylabel(\"Avg. price (AUD 000s)\")\n",
    "ax.set_xlabel(None)\n",
    "ax.legend(loc=0)"
   ]
  },
  {
   "cell_type": "markdown",
   "id": "a4d86a37",
   "metadata": {},
   "source": [
    "### 1-3 Join Census Data"
   ]
  },
  {
   "cell_type": "markdown",
   "id": "0a9a8d47",
   "metadata": {},
   "source": [
    "1.3.1 <u><b>Personal Weekly Income</b></u>"
   ]
  },
  {
   "cell_type": "code",
   "execution_count": null,
   "id": "f278e1ae",
   "metadata": {},
   "outputs": [],
   "source": [
    "# Read weekly income data\n",
    "census_INCP = \"Files/Census/POA (UR) by INCP Toal Personal Income (Weekly).csv\"\n",
    "\n",
    "incp_raw = pd.read_csv(census_INCP, skiprows=9, nrows=11142,\n",
    "                       usecols=['POA (UR)', 'INCP Total Personal Income (weekly)', 'Count'])\n",
    "\n",
    "# Rename column for easier referencing\n",
    "incp_cols = {'POA (UR)':'postcode', 'INCP Total Personal Income (weekly)':'INCP_WK'}\n",
    "incp_raw.rename(columns=incp_cols, inplace=True)\n",
    "\n",
    "incp_raw.head()"
   ]
  },
  {
   "cell_type": "code",
   "execution_count": null,
   "id": "3989768a",
   "metadata": {},
   "outputs": [],
   "source": [
    "incp = incp_raw.groupby(['postcode','INCP_WK'])['Count'].sum().unstack()\n",
    "incp.head(1)"
   ]
  },
  {
   "cell_type": "code",
   "execution_count": null,
   "id": "bf12dc67",
   "metadata": {},
   "outputs": [],
   "source": [
    "# Remove the last row\n",
    "incp = incp[:-1]"
   ]
  },
  {
   "cell_type": "code",
   "execution_count": null,
   "id": "424ac880",
   "metadata": {},
   "outputs": [],
   "source": [
    "# Clean column names\n",
    "income_cols= {'$1,000-$1,249 ($52,000-$64,999)' : '$1000-1249', \n",
    "            '$1,250-$1,499 ($65,000-$77,999)' : '$1250-1499',\n",
    "            '$1,500-$1,749 ($78,000-$90,999)' : '$1500-1749 ', \n",
    "            '$1,750-$1,999 ($91,000-$103,999)': '$1750-1999',\n",
    "            '$1-$149 ($1-$7,799)': '$1-149', \n",
    "            '$150-$299 ($7,800-$15,599)' : '$150-299',\n",
    "            '$2,000-$2,999 ($104,000-$155,999)':'$2000-2999',\n",
    "            '$3,000 or more ($156,000 or more)':'>=$3000', \n",
    "            '$300-$399 ($15,600-$20,799)':'$300-399',\n",
    "            '$400-$499 ($20,800-$25,999)':'$400-499', \n",
    "            '$500-$649 ($26,000-$33,799)':'$500-649',\n",
    "            '$650-$799 ($33,800-$41,599)':'$650-799', \n",
    "            '$800-$999 ($41,600-$51,999)':'$800-999',\n",
    "             'Total':'INCP_TOTAL'}\n",
    "\n",
    "incp.rename(columns=income_cols, inplace=True)\n",
    "\n",
    "# Combine 'not applicable' and 'not stated' into one column\n",
    "incp['INCP_na'] = incp['Not applicable'] + incp['Not stated']\n",
    "incp = incp.drop(columns=['Not applicable', 'Not stated'], axis=1)\n",
    "incp.head(1)"
   ]
  },
  {
   "cell_type": "code",
   "execution_count": null,
   "id": "dbc8aa7d",
   "metadata": {},
   "outputs": [],
   "source": [
    "# Remove 'NSW' in the index and cast postcode to int64\n",
    "incp.reset_index(inplace=True)\n",
    "incp['postcode'] = incp['postcode'].str.split(\",\", n=1, expand=True)\n",
    "incp['postcode'] = incp['postcode'].astype('int64')\n",
    "incp = incp.set_index('postcode')"
   ]
  },
  {
   "cell_type": "code",
   "execution_count": null,
   "id": "d5e7b999",
   "metadata": {},
   "outputs": [],
   "source": [
    "# Reorder columns\n",
    "cols = incp.columns.tolist()\n",
    "cols = ['$1-149','$150-299','$300-399','$400-499','$500-649','$650-799',\n",
    "        '$800-999','$1000-1249','$1250-1499','$1500-1749 ',\n",
    "        '$1750-1999','$2000-2999','>=$3000',\n",
    "        'Negative income','Nil income','INCP_na','INCP_TOTAL']\n",
    "\n",
    "incp=incp[cols]\n",
    "\n",
    "incp.head(1)"
   ]
  },
  {
   "cell_type": "code",
   "execution_count": null,
   "id": "e1d17382",
   "metadata": {},
   "outputs": [],
   "source": [
    "incp['INCP_LOW'] = incp.iloc[:, 0:6].sum(axis=1)\n",
    "incp['INCP_MID'] = incp.iloc[:, 6:10].sum(axis=1)\n",
    "incp['INCP_HIGH'] = incp.iloc[:, 10:13].sum(axis=1)\n",
    "incp['INCP_NEG_NIL'] = incp.iloc[:, 13:15].sum(axis=1)\n",
    "\n",
    "incp_gr = incp[['INCP_LOW', 'INCP_MID', 'INCP_HIGH', 'INCP_NEG_NIL', 'INCP_na', 'INCP_TOTAL']]\n",
    "\n",
    "incp_gr.head(1)"
   ]
  },
  {
   "cell_type": "markdown",
   "id": "24cc5fe0",
   "metadata": {},
   "source": [
    "**CR**: joining two DFs together, matching them by postcode. "
   ]
  },
  {
   "cell_type": "code",
   "execution_count": null,
   "id": "0e8ecb92",
   "metadata": {},
   "outputs": [],
   "source": [
    "# Join INCP with sales data\n",
    "s_join = s_master.join(incp_gr, on='postcode')\n",
    "s_join.head(1)"
   ]
  },
  {
   "cell_type": "code",
   "execution_count": null,
   "id": "3376c7e8",
   "metadata": {},
   "outputs": [],
   "source": [
    "s_join = s_join.drop(columns=['Qdelta_median', 'Adelta_median', 'Qdelta_count', 'Adelta_count'], axis=1)\n",
    "s_join.head(1)"
   ]
  },
  {
   "cell_type": "markdown",
   "id": "c01151bd",
   "metadata": {},
   "source": [
    "\n",
    "<br>\n",
    "1.3.2 <u><b>Household Size</b></u>"
   ]
  },
  {
   "cell_type": "code",
   "execution_count": null,
   "id": "2814a1cb",
   "metadata": {},
   "outputs": [],
   "source": [
    "census_cprf = \"Files/Census/POA by CPRF Count of Persons in Family by STATE.xlsx\"\n",
    "cprf = pd.read_excel(census_cprf, sheet_name=\"Data Sheet 0\", skiprows=9, nrows=619)\n",
    "cprf.head(5)"
   ]
  },
  {
   "cell_type": "code",
   "execution_count": null,
   "id": "72e5989b",
   "metadata": {},
   "outputs": [],
   "source": [
    "# Remove redundant rows and columns \n",
    "\n",
    "cprf = cprf[1:] #remove the first row\n",
    "cprf = cprf.drop(columns='CPRF Count of Persons in Family') # remove the first column\n",
    "\n",
    "# Rename columns\n",
    "cprf_cols= {'Unnamed: 1' : 'postcode', \n",
    "            'Two persons in family' : 'CPRF_2',\n",
    "            'Three persons in family' : 'CPRF_3', \n",
    "            'Four persons in family': 'CPRF_4',\n",
    "            'Five persons in family': 'CPRF_5', \n",
    "            'Six or more persons in family' : 'CPRF_6',\n",
    "            'Not applicable':'CPRF_na',\n",
    "            'Total' :'CPRF_FAM_NO'}\n",
    "cprf.rename(columns=cprf_cols, inplace=True)\n",
    "\n",
    "cprf.head(1)"
   ]
  },
  {
   "cell_type": "code",
   "execution_count": null,
   "id": "f04d98c9",
   "metadata": {},
   "outputs": [],
   "source": [
    "# Remove 'NSW' in the index and cast postcode to int64\n",
    "cprf.reset_index(inplace=True)\n",
    "cprf['postcode'] = cprf['postcode'].str.split(\",\", n=1, expand=True)\n",
    "cprf['postcode'] = cprf['postcode'].astype('int64')\n",
    "cprf = cprf.set_index('postcode')\n",
    "cprf = cprf.drop(columns='index', axis=1)\n",
    "\n",
    "cprf.head(1)"
   ]
  },
  {
   "cell_type": "code",
   "execution_count": null,
   "id": "bde9dcdb",
   "metadata": {},
   "outputs": [],
   "source": [
    "# Join with sales data\n",
    "s_join = s_join.join(cprf, on='postcode')\n",
    "s_join.head(1)"
   ]
  },
  {
   "cell_type": "code",
   "execution_count": null,
   "id": "bf962915",
   "metadata": {},
   "outputs": [],
   "source": [
    "s_join.isnull().sum()"
   ]
  },
  {
   "cell_type": "code",
   "execution_count": null,
   "id": "436e8e1c",
   "metadata": {},
   "outputs": [],
   "source": [
    "s_join.loc[s_join['INCP_LOW'].isnull()]"
   ]
  },
  {
   "cell_type": "markdown",
   "id": "2b8c2009",
   "metadata": {},
   "source": [
    "# MODEL EXPERIEMENT"
   ]
  },
  {
   "cell_type": "code",
   "execution_count": null,
   "id": "8afda7cf",
   "metadata": {},
   "outputs": [],
   "source": [
    "from sklearn.model_selection import train_test_split\n",
    "from sklearn import linear_model\n",
    "from sklearn.metrics import r2_score\n",
    "from sklearn.linear_model import LogisticRegression\n",
    "from sklearn.metrics import confusion_matrix, accuracy_score\n",
    "from sklearn.feature_selection import RFE\n",
    "from math import sqrt"
   ]
  },
  {
   "cell_type": "code",
   "execution_count": null,
   "id": "50270e13",
   "metadata": {},
   "outputs": [],
   "source": [
    "# Drop na for now, will investigate later - looks like census data doesn't have some postcodes in the housing data\n",
    "s_join.dropna(inplace=True)"
   ]
  },
  {
   "cell_type": "code",
   "execution_count": null,
   "id": "8113776a",
   "metadata": {},
   "outputs": [],
   "source": [
    "s136_join = s_join.loc[(s_join['key']=='s136') & (s_join['dwelling_type']=='Total')]\n",
    "s136_join.head()"
   ]
  },
  {
   "cell_type": "code",
   "execution_count": null,
   "id": "e8f06103",
   "metadata": {},
   "outputs": [],
   "source": [
    "# Set up dataset\n",
    "\n",
    "feature_cols = np.array(['INCP_LOW', 'INCP_MID','INCP_HIGH', \n",
    "                         'CPRF_2','CPRF_3', 'CPRF_4','CPRF_5','CPRF_6','CPRF_FAM_NO'])\n",
    "\n",
    "X = s136_join[feature_cols]\n",
    "y = s136_join['sales_no']\n",
    "\n",
    "# Train, test split\n",
    "X_train, X_test, y_train, y_test = train_test_split(X, y, test_size=0.2, random_state=33)\n",
    "\n",
    "print(\"X_train shape: \", X_train.shape)\n",
    "print(\"y_train shape: \", y_train.shape)\n",
    "print(\"X_test shape: \", X_test.shape)\n",
    "print(\"y_test.shape: \", y_test.shape)"
   ]
  },
  {
   "cell_type": "code",
   "execution_count": null,
   "id": "512f3ba2",
   "metadata": {},
   "outputs": [],
   "source": [
    "# Fit training set \n",
    "lm = linear_model.LinearRegression()\n",
    "lm = lm.fit(X_train, y_train)\n",
    "\n",
    "# Predict on training set\n",
    "y_pred_train = lm.predict(X_train)\n",
    "\n",
    "# evaluation on training set\n",
    "r2_train = r2_score(y_train, y_pred_train)\n",
    "mse_train = ((np.array(y_train)-y_pred_train)**2).sum()/len(y_train)\n",
    "rmse_train = sqrt(mse_train)\n",
    "\n",
    "print(\"r2 (train):\", \"{:.4f}\".format(r2_train))\n",
    "print(\"mse (train):\", \"{:.4f}\".format(mse_train))\n",
    "print(\"rmse: (train)\", \"{:.4f}\".format(rmse_train))"
   ]
  },
  {
   "cell_type": "code",
   "execution_count": null,
   "id": "fc9cc9b7",
   "metadata": {},
   "outputs": [],
   "source": [
    "# Predict on test set\n",
    "y_pred_test = lm.predict(X_test)\n",
    "\n",
    "# evaluation on test set\n",
    "r2_test = r2_score(y_test, y_pred_test)\n",
    "mse_test = ((np.array(y_test)-y_pred_test)**2).sum()/len(y_test)\n",
    "rmse_test = sqrt(mse_test)\n",
    "\n",
    "print(\"r2 (test):\", \"{:.4f}\".format(r2_test))\n",
    "print(\"mse (test):\", \"{:.4f}\".format(mse_test))\n",
    "print(\"rmse: (test)\", \"{:.4f}\".format(rmse_test))"
   ]
  },
  {
   "cell_type": "markdown",
   "id": "d883140d",
   "metadata": {},
   "source": [
    "# 2. Rent data\n",
    "_____________________\n",
    "\n",
    "## START OF THE CLEANING PROCESS ##\n",
    "<em><u>*single data file</u></em>"
   ]
  },
  {
   "cell_type": "code",
   "execution_count": 52,
   "id": "a0c3bc1f",
   "metadata": {},
   "outputs": [
    {
     "data": {
      "text/html": [
       "<div>\n",
       "<style scoped>\n",
       "    .dataframe tbody tr th:only-of-type {\n",
       "        vertical-align: middle;\n",
       "    }\n",
       "\n",
       "    .dataframe tbody tr th {\n",
       "        vertical-align: top;\n",
       "    }\n",
       "\n",
       "    .dataframe thead th {\n",
       "        text-align: right;\n",
       "    }\n",
       "</style>\n",
       "<table border=\"1\" class=\"dataframe\">\n",
       "  <thead>\n",
       "    <tr style=\"text-align: right;\">\n",
       "      <th></th>\n",
       "      <th>postcode</th>\n",
       "      <th>dwelling_type</th>\n",
       "      <th>bed_number</th>\n",
       "      <th>median_rent_newb</th>\n",
       "      <th>new_bonds_no</th>\n",
       "      <th>total_bonds_no</th>\n",
       "      <th>Qdelta_median_rent</th>\n",
       "      <th>Adelta_median_rent</th>\n",
       "      <th>Qdelta_new_bonds</th>\n",
       "      <th>Adelta_new_bonds</th>\n",
       "    </tr>\n",
       "  </thead>\n",
       "  <tbody>\n",
       "    <tr>\n",
       "      <th>0</th>\n",
       "      <td>2000</td>\n",
       "      <td>Total</td>\n",
       "      <td>Total</td>\n",
       "      <td>600.0</td>\n",
       "      <td>1469</td>\n",
       "      <td>9327</td>\n",
       "      <td>0.0909</td>\n",
       "      <td>-0.1429</td>\n",
       "      <td>-0.1384</td>\n",
       "      <td>0.1943</td>\n",
       "    </tr>\n",
       "    <tr>\n",
       "      <th>1</th>\n",
       "      <td>2000</td>\n",
       "      <td>Total</td>\n",
       "      <td>Bedsitter</td>\n",
       "      <td>365.0</td>\n",
       "      <td>89</td>\n",
       "      <td>382</td>\n",
       "      <td>0.0429</td>\n",
       "      <td>-0.2843</td>\n",
       "      <td>0.0349</td>\n",
       "      <td>0.9778</td>\n",
       "    </tr>\n",
       "    <tr>\n",
       "      <th>2</th>\n",
       "      <td>2000</td>\n",
       "      <td>Total</td>\n",
       "      <td>1 Bedroom</td>\n",
       "      <td>540.0</td>\n",
       "      <td>741</td>\n",
       "      <td>4063</td>\n",
       "      <td>0.1020</td>\n",
       "      <td>-0.1692</td>\n",
       "      <td>-0.1136</td>\n",
       "      <td>-0.0326</td>\n",
       "    </tr>\n",
       "    <tr>\n",
       "      <th>3</th>\n",
       "      <td>2000</td>\n",
       "      <td>Total</td>\n",
       "      <td>Not Specified</td>\n",
       "      <td>445.0</td>\n",
       "      <td>34</td>\n",
       "      <td>511</td>\n",
       "      <td>-0.1524</td>\n",
       "      <td>-0.3904</td>\n",
       "      <td>-0.3200</td>\n",
       "      <td>0.2593</td>\n",
       "    </tr>\n",
       "    <tr>\n",
       "      <th>4</th>\n",
       "      <td>2000</td>\n",
       "      <td>Total</td>\n",
       "      <td>2 Bedrooms</td>\n",
       "      <td>750.0</td>\n",
       "      <td>517</td>\n",
       "      <td>3741</td>\n",
       "      <td>0.1194</td>\n",
       "      <td>-0.1979</td>\n",
       "      <td>-0.2083</td>\n",
       "      <td>0.6056</td>\n",
       "    </tr>\n",
       "    <tr>\n",
       "      <th>5</th>\n",
       "      <td>2000</td>\n",
       "      <td>Total</td>\n",
       "      <td>3 Bedrooms</td>\n",
       "      <td>1000.0</td>\n",
       "      <td>74</td>\n",
       "      <td>575</td>\n",
       "      <td>0.1111</td>\n",
       "      <td>-0.2780</td>\n",
       "      <td>0.0137</td>\n",
       "      <td>0.0882</td>\n",
       "    </tr>\n",
       "    <tr>\n",
       "      <th>6</th>\n",
       "      <td>2000</td>\n",
       "      <td>Total</td>\n",
       "      <td>4 or more Bedrooms</td>\n",
       "      <td>1675.0</td>\n",
       "      <td>s</td>\n",
       "      <td>55</td>\n",
       "      <td>0.6919</td>\n",
       "      <td>-0.0429</td>\n",
       "      <td>1.0000</td>\n",
       "      <td>6.0000</td>\n",
       "    </tr>\n",
       "    <tr>\n",
       "      <th>7</th>\n",
       "      <td>2000</td>\n",
       "      <td>House</td>\n",
       "      <td>Total</td>\n",
       "      <td>710.0</td>\n",
       "      <td>s</td>\n",
       "      <td>184</td>\n",
       "      <td>0.0965</td>\n",
       "      <td>-0.1647</td>\n",
       "      <td>-0.3182</td>\n",
       "      <td>0.7647</td>\n",
       "    </tr>\n",
       "    <tr>\n",
       "      <th>8</th>\n",
       "      <td>2000</td>\n",
       "      <td>House</td>\n",
       "      <td>Bedsitter</td>\n",
       "      <td>NaN</td>\n",
       "      <td>NaN</td>\n",
       "      <td>NaN</td>\n",
       "      <td>NaN</td>\n",
       "      <td>NaN</td>\n",
       "      <td>NaN</td>\n",
       "      <td>NaN</td>\n",
       "    </tr>\n",
       "    <tr>\n",
       "      <th>9</th>\n",
       "      <td>2000</td>\n",
       "      <td>House</td>\n",
       "      <td>1 Bedroom</td>\n",
       "      <td>500.0</td>\n",
       "      <td>s</td>\n",
       "      <td>55</td>\n",
       "      <td>0.0000</td>\n",
       "      <td>-0.2187</td>\n",
       "      <td>-0.2143</td>\n",
       "      <td>0.3750</td>\n",
       "    </tr>\n",
       "  </tbody>\n",
       "</table>\n",
       "</div>"
      ],
      "text/plain": [
       "   postcode dwelling_type          bed_number  median_rent_newb new_bonds_no  \\\n",
       "0      2000         Total               Total             600.0         1469   \n",
       "1      2000         Total           Bedsitter             365.0           89   \n",
       "2      2000         Total           1 Bedroom             540.0          741   \n",
       "3      2000         Total       Not Specified             445.0           34   \n",
       "4      2000         Total          2 Bedrooms             750.0          517   \n",
       "5      2000         Total          3 Bedrooms            1000.0           74   \n",
       "6      2000         Total  4 or more Bedrooms            1675.0            s   \n",
       "7      2000         House               Total             710.0            s   \n",
       "8      2000         House           Bedsitter               NaN          NaN   \n",
       "9      2000         House           1 Bedroom             500.0            s   \n",
       "\n",
       "  total_bonds_no  Qdelta_median_rent  Adelta_median_rent  Qdelta_new_bonds  \\\n",
       "0           9327              0.0909             -0.1429           -0.1384   \n",
       "1            382              0.0429             -0.2843            0.0349   \n",
       "2           4063              0.1020             -0.1692           -0.1136   \n",
       "3            511             -0.1524             -0.3904           -0.3200   \n",
       "4           3741              0.1194             -0.1979           -0.2083   \n",
       "5            575              0.1111             -0.2780            0.0137   \n",
       "6             55              0.6919             -0.0429            1.0000   \n",
       "7            184              0.0965             -0.1647           -0.3182   \n",
       "8            NaN                 NaN                 NaN               NaN   \n",
       "9             55              0.0000             -0.2187           -0.2143   \n",
       "\n",
       "   Adelta_new_bonds  \n",
       "0            0.1943  \n",
       "1            0.9778  \n",
       "2           -0.0326  \n",
       "3            0.2593  \n",
       "4            0.6056  \n",
       "5            0.0882  \n",
       "6            6.0000  \n",
       "7            0.7647  \n",
       "8               NaN  \n",
       "9            0.3750  "
      ]
     },
     "execution_count": 52,
     "metadata": {},
     "output_type": "execute_result"
    }
   ],
   "source": [
    "# Read into df\n",
    "r135 = \"Files/Rent/Issue-135-Rent-tables-March-2021-quarter.xlsx\"\n",
    "r135 = pd.read_excel(r135, sheet_name=\"Postcode\", na_values='-', header=7)\n",
    "\n",
    "# Drop unwanted columns\n",
    "r135 = r135.drop(columns=['First Quartile Weekly Rent for New Bonds\\n$',\n",
    "                          'Third Quartile Weekly Rent for New Bonds\\n$'],\n",
    "                axis=1)\n",
    "\n",
    "# Rename columns\n",
    "rename_cols= {'Postcode':'postcode',\n",
    "              'Dwelling Types':'dwelling_type', \n",
    "              'Number of Bedrooms':'bed_number',\n",
    "              'Median Weekly Rent for New Bonds\\n$': 'median_rent_newb',\n",
    "              'New Bonds Lodged\\nNo.' : 'new_bonds_no',\n",
    "              'Total Bonds Held\\nNo.': 'total_bonds_no',\n",
    "              'Quarterly change in Median Weekly Rent':'Qdelta_median_rent',\n",
    "              'Annual change in Median Weekly Rent':'Adelta_median_rent',\n",
    "              'Quarterly change in New Bonds Lodged':'Qdelta_new_bonds',\n",
    "              'Annual change in New Bonds Lodged':'Adelta_new_bonds'}\n",
    "r135.rename(columns=rename_cols,inplace=True)\n",
    "\n",
    "r135.head(10)"
   ]
  },
  {
   "cell_type": "code",
   "execution_count": 53,
   "id": "77f70b9b",
   "metadata": {},
   "outputs": [
    {
     "name": "stdout",
     "output_type": "stream",
     "text": [
      "(16397, 10)\n",
      "postcode                  0\n",
      "dwelling_type             0\n",
      "bed_number                0\n",
      "median_rent_newb      12274\n",
      "new_bonds_no          12274\n",
      "total_bonds_no         6095\n",
      "Qdelta_median_rent    12276\n",
      "Adelta_median_rent    12277\n",
      "Qdelta_new_bonds      12276\n",
      "Adelta_new_bonds      12277\n",
      "dtype: int64\n"
     ]
    }
   ],
   "source": [
    "# Check df shape and null values\n",
    "print(r135.shape)\n",
    "print(r135.isnull().sum())"
   ]
  },
  {
   "cell_type": "markdown",
   "id": "06935bee",
   "metadata": {},
   "source": [
    "**NOTE:**\n",
    "\n",
    "Note that an alarming 3/4 of the data has null values. This is because the data is broken down to very granular level - first by dwelling type (Total, house, townhouse, flat/unit, other) and then by bed_numbers (see below cell)."
   ]
  },
  {
   "cell_type": "code",
   "execution_count": 54,
   "id": "294fc1b9",
   "metadata": {},
   "outputs": [
    {
     "name": "stdout",
     "output_type": "stream",
     "text": [
      "dwelling_type\n",
      "Flat/Unit    3160\n",
      "House        3653\n",
      "Other        3257\n",
      "Total        3903\n",
      "Townhouse    2424\n",
      "dtype: int64 \n",
      "\n",
      "bed_number\n",
      "1 Bedroom             2336\n",
      "2 Bedrooms            2655\n",
      "3 Bedrooms            2637\n",
      "4 or more Bedrooms    2330\n",
      "Bedsitter             1296\n",
      "Not Specified         2310\n",
      "Total                 2833\n",
      "dtype: int64\n"
     ]
    }
   ],
   "source": [
    "print(r135.groupby('dwelling_type').size(),'\\n')\n",
    "print(r135.groupby('bed_number').size())"
   ]
  },
  {
   "cell_type": "markdown",
   "id": "2370e377",
   "metadata": {},
   "source": [
    "**AGGREGATION:**\n",
    "\n",
    "Given the amount of na present, we'll **aggregate the data to the total level of each postcode** (i.e. only consider the total number of bonds without classifying them into dwelling types nor bedroom numbers) to avoid excessive imputation. Although we'll inevitably lose the richness of information, the main function of the rent data is to serve as an input variable in the prediction of sales, where this level of granularity is not strictly necessary."
   ]
  },
  {
   "cell_type": "code",
   "execution_count": 55,
   "id": "8c94b389",
   "metadata": {},
   "outputs": [
    {
     "name": "stdout",
     "output_type": "stream",
     "text": [
      "(617, 8)\n",
      "postcode                0\n",
      "median_rent_newb      181\n",
      "new_bonds_no          181\n",
      "total_bonds_no         51\n",
      "Qdelta_median_rent    181\n",
      "Adelta_median_rent    181\n",
      "Qdelta_new_bonds      181\n",
      "Adelta_new_bonds      181\n",
      "dtype: int64\n"
     ]
    }
   ],
   "source": [
    "# Aggregate dwelling type and bed number, save as new df r135_ag\n",
    "\n",
    "r135_ag = r135.loc[(r135['bed_number']=='Total') & (r135['dwelling_type']=='Total')]\n",
    "r135_ag = r135_ag.drop(columns=['bed_number','dwelling_type'], axis=1) # Drop bed_number and dwelling_type\n",
    "\n",
    "print(r135_ag.shape)\n",
    "print(r135_ag.isnull().sum())"
   ]
  },
  {
   "cell_type": "markdown",
   "id": "5e732962",
   "metadata": {},
   "source": [
    "By aggregating the data, we're able to bring down the proportion of na from 3/4 to around 1/3. But there's still need for imputation. According to the data interpretation note:\n",
    "\n",
    "<em><b>\"For confidentiality, we don't report rents in any geographical area where the number of new bonds is 10 or less (shown as na). Statistics calculated from sample sizes between 10 an 30 are shown by an 's' in the relevant table\"</b></em>"
   ]
  },
  {
   "cell_type": "code",
   "execution_count": 56,
   "id": "7d02013b",
   "metadata": {
    "scrolled": true
   },
   "outputs": [
    {
     "name": "stdout",
     "output_type": "stream",
     "text": [
      "number of 's' in new_bonds_no: 88\n",
      "number of 's' in total_bonds_no: 47 \n",
      "\n",
      "number of na in new_bonds_no: 181\n",
      "number of na in total_bonds_no: 51\n"
     ]
    }
   ],
   "source": [
    "print(\"number of 's' in new_bonds_no:\", r135_ag.loc[r135_ag['new_bonds_no']=='s'].shape[0])\n",
    "print(\"number of 's' in total_bonds_noA:\", r135_ag.loc[r135_ag['total_bonds_no']=='s'].shape[0],\"\\n\")\n",
    "print(\"number of na in new_bonds_no:\", r135_ag.loc[r135_ag['new_bonds_no'].isnull()].shape[0])\n",
    "print(\"number of na in total_bonds_no:\", r135_ag.loc[r135_ag['total_bonds_no'].isnull()].shape[0])"
   ]
  },
  {
   "cell_type": "markdown",
   "id": "307e03f2",
   "metadata": {},
   "source": [
    "<b>IMPUTATION</b>\n",
    "* For 'new_bonds_no' and 'total_bonds_no' columns:\n",
    "    * Impute na with 5\n",
    "    * Impute s with 20\n",
    "    \n",
    "* For 'median_rent_newb' column\n",
    "    * Impute na with median of rents of all POAs"
   ]
  },
  {
   "cell_type": "code",
   "execution_count": 57,
   "id": "d057bb08",
   "metadata": {},
   "outputs": [],
   "source": [
    "# Impute 's' in 'new_bonds_no' and 'total_bonds_no' with 20\n",
    "r135_ag.loc[r135_ag['new_bonds_no']=='s','new_bonds_no'] = 20.0\n",
    "r135_ag.loc[r135_ag['total_bonds_no']=='s', 'total_bonds_no'] = 20.0\n",
    "\n",
    "# Impute na in 'new_bonds_no' and 'total_bonds_no' with 5\n",
    "r135_ag.loc[r135_ag['new_bonds_no'].isnull(),'new_bonds_no'] = 5.0\n",
    "r135_ag.loc[r135_ag['total_bonds_no'].isnull(), 'total_bonds_no'] = 5.0\n",
    "\n",
    "# Cast both variables as float (was object)\n",
    "r135_ag['new_bonds_no'] = r135_ag['new_bonds_no'].astype(float)\n",
    "r135_ag['total_bonds_no'] = r135_ag['total_bonds_no'].astype(float)"
   ]
  },
  {
   "cell_type": "code",
   "execution_count": 58,
   "id": "6a6a7657",
   "metadata": {},
   "outputs": [
    {
     "name": "stdout",
     "output_type": "stream",
     "text": [
      "postcode                0\n",
      "median_rent_newb        0\n",
      "new_bonds_no            0\n",
      "total_bonds_no          0\n",
      "Qdelta_median_rent    181\n",
      "Adelta_median_rent    181\n",
      "Qdelta_new_bonds      181\n",
      "Adelta_new_bonds      181\n",
      "dtype: int64\n"
     ]
    }
   ],
   "source": [
    "# Impute na in 'median_rent' with median of the column\n",
    "r135_ag['median_rent_newb'].fillna(r135_ag['median_rent_newb'].median(), inplace=True)\n",
    "\n",
    "# Check na in the df again\n",
    "print(r135_ag.isnull().sum())"
   ]
  },
  {
   "cell_type": "markdown",
   "id": "2d3f32d6",
   "metadata": {},
   "source": [
    "**ADD TIME PERIOD TAG BEFORE MERGING**"
   ]
  },
  {
   "cell_type": "code",
   "execution_count": 59,
   "id": "6a405dfa",
   "metadata": {},
   "outputs": [
    {
     "name": "stdout",
     "output_type": "stream",
     "text": [
      "(617, 12)\n"
     ]
    }
   ],
   "source": [
    "r135_ag['key'] = 'r135'\n",
    "r135_ag['time_period'] = '2021 Q1'\n",
    "r135_ag['year'] = '2021'\n",
    "r135_ag['quarter'] = '1'\n",
    "\n",
    "print(r135_ag.shape)"
   ]
  },
  {
   "cell_type": "code",
   "execution_count": 60,
   "id": "5d3dc8d6",
   "metadata": {},
   "outputs": [
    {
     "data": {
      "text/html": [
       "<div>\n",
       "<style scoped>\n",
       "    .dataframe tbody tr th:only-of-type {\n",
       "        vertical-align: middle;\n",
       "    }\n",
       "\n",
       "    .dataframe tbody tr th {\n",
       "        vertical-align: top;\n",
       "    }\n",
       "\n",
       "    .dataframe thead th {\n",
       "        text-align: right;\n",
       "    }\n",
       "</style>\n",
       "<table border=\"1\" class=\"dataframe\">\n",
       "  <thead>\n",
       "    <tr style=\"text-align: right;\">\n",
       "      <th></th>\n",
       "      <th>postcode</th>\n",
       "      <th>median_rent_newb</th>\n",
       "      <th>new_bonds_no</th>\n",
       "      <th>total_bonds_no</th>\n",
       "      <th>Qdelta_median_rent</th>\n",
       "      <th>Adelta_median_rent</th>\n",
       "      <th>Qdelta_new_bonds</th>\n",
       "      <th>Adelta_new_bonds</th>\n",
       "      <th>key</th>\n",
       "      <th>time_period</th>\n",
       "      <th>year</th>\n",
       "      <th>quarter</th>\n",
       "    </tr>\n",
       "  </thead>\n",
       "  <tbody>\n",
       "    <tr>\n",
       "      <th>0</th>\n",
       "      <td>2000</td>\n",
       "      <td>600.0</td>\n",
       "      <td>1469.0</td>\n",
       "      <td>9327.0</td>\n",
       "      <td>0.0909</td>\n",
       "      <td>-0.1429</td>\n",
       "      <td>-0.1384</td>\n",
       "      <td>0.1943</td>\n",
       "      <td>r135</td>\n",
       "      <td>2021 Q1</td>\n",
       "      <td>2021</td>\n",
       "      <td>1</td>\n",
       "    </tr>\n",
       "    <tr>\n",
       "      <th>33</th>\n",
       "      <td>2007</td>\n",
       "      <td>455.0</td>\n",
       "      <td>388.0</td>\n",
       "      <td>2024.0</td>\n",
       "      <td>-0.0521</td>\n",
       "      <td>-0.1727</td>\n",
       "      <td>0.1182</td>\n",
       "      <td>-0.0673</td>\n",
       "      <td>r135</td>\n",
       "      <td>2021 Q1</td>\n",
       "      <td>2021</td>\n",
       "      <td>1</td>\n",
       "    </tr>\n",
       "    <tr>\n",
       "      <th>66</th>\n",
       "      <td>2008</td>\n",
       "      <td>500.0</td>\n",
       "      <td>987.0</td>\n",
       "      <td>4228.0</td>\n",
       "      <td>0.0204</td>\n",
       "      <td>-0.1597</td>\n",
       "      <td>0.0787</td>\n",
       "      <td>0.0313</td>\n",
       "      <td>r135</td>\n",
       "      <td>2021 Q1</td>\n",
       "      <td>2021</td>\n",
       "      <td>1</td>\n",
       "    </tr>\n",
       "    <tr>\n",
       "      <th>101</th>\n",
       "      <td>2009</td>\n",
       "      <td>600.0</td>\n",
       "      <td>471.0</td>\n",
       "      <td>3333.0</td>\n",
       "      <td>0.0909</td>\n",
       "      <td>-0.1429</td>\n",
       "      <td>-0.1326</td>\n",
       "      <td>0.6469</td>\n",
       "      <td>r135</td>\n",
       "      <td>2021 Q1</td>\n",
       "      <td>2021</td>\n",
       "      <td>1</td>\n",
       "    </tr>\n",
       "    <tr>\n",
       "      <th>135</th>\n",
       "      <td>2010</td>\n",
       "      <td>525.0</td>\n",
       "      <td>1139.0</td>\n",
       "      <td>8626.0</td>\n",
       "      <td>0.0145</td>\n",
       "      <td>-0.1797</td>\n",
       "      <td>-0.0164</td>\n",
       "      <td>0.2448</td>\n",
       "      <td>r135</td>\n",
       "      <td>2021 Q1</td>\n",
       "      <td>2021</td>\n",
       "      <td>1</td>\n",
       "    </tr>\n",
       "  </tbody>\n",
       "</table>\n",
       "</div>"
      ],
      "text/plain": [
       "     postcode  median_rent_newb  new_bonds_no  total_bonds_no  \\\n",
       "0        2000             600.0        1469.0          9327.0   \n",
       "33       2007             455.0         388.0          2024.0   \n",
       "66       2008             500.0         987.0          4228.0   \n",
       "101      2009             600.0         471.0          3333.0   \n",
       "135      2010             525.0        1139.0          8626.0   \n",
       "\n",
       "     Qdelta_median_rent  Adelta_median_rent  Qdelta_new_bonds  \\\n",
       "0                0.0909             -0.1429           -0.1384   \n",
       "33              -0.0521             -0.1727            0.1182   \n",
       "66               0.0204             -0.1597            0.0787   \n",
       "101              0.0909             -0.1429           -0.1326   \n",
       "135              0.0145             -0.1797           -0.0164   \n",
       "\n",
       "     Adelta_new_bonds   key time_period  year quarter  \n",
       "0              0.1943  r135     2021 Q1  2021       1  \n",
       "33            -0.0673  r135     2021 Q1  2021       1  \n",
       "66             0.0313  r135     2021 Q1  2021       1  \n",
       "101            0.6469  r135     2021 Q1  2021       1  \n",
       "135            0.2448  r135     2021 Q1  2021       1  "
      ]
     },
     "execution_count": 60,
     "metadata": {},
     "output_type": "execute_result"
    }
   ],
   "source": [
    "r135_ag.head()"
   ]
  },
  {
   "cell_type": "markdown",
   "id": "324ff7b2",
   "metadata": {},
   "source": [
    "## END OF THE CLEANING PROCESS ##\n",
    "___\n",
    "\n",
    "<em><u>Do below steps after all rent files have been cleaned and merged</u></em>\n",
    "\n",
    "## MERGE RENT INTO SALES ##"
   ]
  },
  {
   "cell_type": "code",
   "execution_count": 61,
   "id": "4c325dad",
   "metadata": {},
   "outputs": [
    {
     "data": {
      "text/html": [
       "<div>\n",
       "<style scoped>\n",
       "    .dataframe tbody tr th:only-of-type {\n",
       "        vertical-align: middle;\n",
       "    }\n",
       "\n",
       "    .dataframe tbody tr th {\n",
       "        vertical-align: top;\n",
       "    }\n",
       "\n",
       "    .dataframe thead th {\n",
       "        text-align: right;\n",
       "    }\n",
       "</style>\n",
       "<table border=\"1\" class=\"dataframe\">\n",
       "  <thead>\n",
       "    <tr style=\"text-align: right;\">\n",
       "      <th></th>\n",
       "      <th>median_rent_newb</th>\n",
       "      <th>new_bonds_no</th>\n",
       "      <th>total_bonds_no</th>\n",
       "      <th>Qdelta_median_rent</th>\n",
       "      <th>Adelta_median_rent</th>\n",
       "      <th>Qdelta_new_bonds</th>\n",
       "      <th>Adelta_new_bonds</th>\n",
       "      <th>key</th>\n",
       "      <th>time_period</th>\n",
       "      <th>year</th>\n",
       "      <th>quarter</th>\n",
       "    </tr>\n",
       "    <tr>\n",
       "      <th>postcode</th>\n",
       "      <th></th>\n",
       "      <th></th>\n",
       "      <th></th>\n",
       "      <th></th>\n",
       "      <th></th>\n",
       "      <th></th>\n",
       "      <th></th>\n",
       "      <th></th>\n",
       "      <th></th>\n",
       "      <th></th>\n",
       "      <th></th>\n",
       "    </tr>\n",
       "  </thead>\n",
       "  <tbody>\n",
       "    <tr>\n",
       "      <th>2000</th>\n",
       "      <td>600.0</td>\n",
       "      <td>1469.0</td>\n",
       "      <td>9327.0</td>\n",
       "      <td>0.0909</td>\n",
       "      <td>-0.1429</td>\n",
       "      <td>-0.1384</td>\n",
       "      <td>0.1943</td>\n",
       "      <td>r135</td>\n",
       "      <td>2021 Q1</td>\n",
       "      <td>2021</td>\n",
       "      <td>1</td>\n",
       "    </tr>\n",
       "    <tr>\n",
       "      <th>2007</th>\n",
       "      <td>455.0</td>\n",
       "      <td>388.0</td>\n",
       "      <td>2024.0</td>\n",
       "      <td>-0.0521</td>\n",
       "      <td>-0.1727</td>\n",
       "      <td>0.1182</td>\n",
       "      <td>-0.0673</td>\n",
       "      <td>r135</td>\n",
       "      <td>2021 Q1</td>\n",
       "      <td>2021</td>\n",
       "      <td>1</td>\n",
       "    </tr>\n",
       "    <tr>\n",
       "      <th>2008</th>\n",
       "      <td>500.0</td>\n",
       "      <td>987.0</td>\n",
       "      <td>4228.0</td>\n",
       "      <td>0.0204</td>\n",
       "      <td>-0.1597</td>\n",
       "      <td>0.0787</td>\n",
       "      <td>0.0313</td>\n",
       "      <td>r135</td>\n",
       "      <td>2021 Q1</td>\n",
       "      <td>2021</td>\n",
       "      <td>1</td>\n",
       "    </tr>\n",
       "    <tr>\n",
       "      <th>2009</th>\n",
       "      <td>600.0</td>\n",
       "      <td>471.0</td>\n",
       "      <td>3333.0</td>\n",
       "      <td>0.0909</td>\n",
       "      <td>-0.1429</td>\n",
       "      <td>-0.1326</td>\n",
       "      <td>0.6469</td>\n",
       "      <td>r135</td>\n",
       "      <td>2021 Q1</td>\n",
       "      <td>2021</td>\n",
       "      <td>1</td>\n",
       "    </tr>\n",
       "    <tr>\n",
       "      <th>2010</th>\n",
       "      <td>525.0</td>\n",
       "      <td>1139.0</td>\n",
       "      <td>8626.0</td>\n",
       "      <td>0.0145</td>\n",
       "      <td>-0.1797</td>\n",
       "      <td>-0.0164</td>\n",
       "      <td>0.2448</td>\n",
       "      <td>r135</td>\n",
       "      <td>2021 Q1</td>\n",
       "      <td>2021</td>\n",
       "      <td>1</td>\n",
       "    </tr>\n",
       "    <tr>\n",
       "      <th>...</th>\n",
       "      <td>...</td>\n",
       "      <td>...</td>\n",
       "      <td>...</td>\n",
       "      <td>...</td>\n",
       "      <td>...</td>\n",
       "      <td>...</td>\n",
       "      <td>...</td>\n",
       "      <td>...</td>\n",
       "      <td>...</td>\n",
       "      <td>...</td>\n",
       "      <td>...</td>\n",
       "    </tr>\n",
       "    <tr>\n",
       "      <th>2877</th>\n",
       "      <td>220.0</td>\n",
       "      <td>20.0</td>\n",
       "      <td>204.0</td>\n",
       "      <td>-0.0222</td>\n",
       "      <td>-0.1200</td>\n",
       "      <td>1.0000</td>\n",
       "      <td>-0.3333</td>\n",
       "      <td>r135</td>\n",
       "      <td>2021 Q1</td>\n",
       "      <td>2021</td>\n",
       "      <td>1</td>\n",
       "    </tr>\n",
       "    <tr>\n",
       "      <th>2878</th>\n",
       "      <td>455.0</td>\n",
       "      <td>5.0</td>\n",
       "      <td>20.0</td>\n",
       "      <td>NaN</td>\n",
       "      <td>NaN</td>\n",
       "      <td>NaN</td>\n",
       "      <td>NaN</td>\n",
       "      <td>r135</td>\n",
       "      <td>2021 Q1</td>\n",
       "      <td>2021</td>\n",
       "      <td>1</td>\n",
       "    </tr>\n",
       "    <tr>\n",
       "      <th>2879</th>\n",
       "      <td>455.0</td>\n",
       "      <td>5.0</td>\n",
       "      <td>5.0</td>\n",
       "      <td>NaN</td>\n",
       "      <td>NaN</td>\n",
       "      <td>NaN</td>\n",
       "      <td>NaN</td>\n",
       "      <td>r135</td>\n",
       "      <td>2021 Q1</td>\n",
       "      <td>2021</td>\n",
       "      <td>1</td>\n",
       "    </tr>\n",
       "    <tr>\n",
       "      <th>2880</th>\n",
       "      <td>270.0</td>\n",
       "      <td>124.0</td>\n",
       "      <td>1667.0</td>\n",
       "      <td>0.0800</td>\n",
       "      <td>0.0385</td>\n",
       "      <td>0.0081</td>\n",
       "      <td>-0.1206</td>\n",
       "      <td>r135</td>\n",
       "      <td>2021 Q1</td>\n",
       "      <td>2021</td>\n",
       "      <td>1</td>\n",
       "    </tr>\n",
       "    <tr>\n",
       "      <th>2905</th>\n",
       "      <td>455.0</td>\n",
       "      <td>5.0</td>\n",
       "      <td>5.0</td>\n",
       "      <td>NaN</td>\n",
       "      <td>NaN</td>\n",
       "      <td>NaN</td>\n",
       "      <td>NaN</td>\n",
       "      <td>r135</td>\n",
       "      <td>2021 Q1</td>\n",
       "      <td>2021</td>\n",
       "      <td>1</td>\n",
       "    </tr>\n",
       "  </tbody>\n",
       "</table>\n",
       "<p>617 rows × 11 columns</p>\n",
       "</div>"
      ],
      "text/plain": [
       "          median_rent_newb  new_bonds_no  total_bonds_no  Qdelta_median_rent  \\\n",
       "postcode                                                                       \n",
       "2000                 600.0        1469.0          9327.0              0.0909   \n",
       "2007                 455.0         388.0          2024.0             -0.0521   \n",
       "2008                 500.0         987.0          4228.0              0.0204   \n",
       "2009                 600.0         471.0          3333.0              0.0909   \n",
       "2010                 525.0        1139.0          8626.0              0.0145   \n",
       "...                    ...           ...             ...                 ...   \n",
       "2877                 220.0          20.0           204.0             -0.0222   \n",
       "2878                 455.0           5.0            20.0                 NaN   \n",
       "2879                 455.0           5.0             5.0                 NaN   \n",
       "2880                 270.0         124.0          1667.0              0.0800   \n",
       "2905                 455.0           5.0             5.0                 NaN   \n",
       "\n",
       "          Adelta_median_rent  Qdelta_new_bonds  Adelta_new_bonds   key  \\\n",
       "postcode                                                                 \n",
       "2000                 -0.1429           -0.1384            0.1943  r135   \n",
       "2007                 -0.1727            0.1182           -0.0673  r135   \n",
       "2008                 -0.1597            0.0787            0.0313  r135   \n",
       "2009                 -0.1429           -0.1326            0.6469  r135   \n",
       "2010                 -0.1797           -0.0164            0.2448  r135   \n",
       "...                      ...               ...               ...   ...   \n",
       "2877                 -0.1200            1.0000           -0.3333  r135   \n",
       "2878                     NaN               NaN               NaN  r135   \n",
       "2879                     NaN               NaN               NaN  r135   \n",
       "2880                  0.0385            0.0081           -0.1206  r135   \n",
       "2905                     NaN               NaN               NaN  r135   \n",
       "\n",
       "         time_period  year quarter  \n",
       "postcode                            \n",
       "2000         2021 Q1  2021       1  \n",
       "2007         2021 Q1  2021       1  \n",
       "2008         2021 Q1  2021       1  \n",
       "2009         2021 Q1  2021       1  \n",
       "2010         2021 Q1  2021       1  \n",
       "...              ...   ...     ...  \n",
       "2877         2021 Q1  2021       1  \n",
       "2878         2021 Q1  2021       1  \n",
       "2879         2021 Q1  2021       1  \n",
       "2880         2021 Q1  2021       1  \n",
       "2905         2021 Q1  2021       1  \n",
       "\n",
       "[617 rows x 11 columns]"
      ]
     },
     "execution_count": 61,
     "metadata": {},
     "output_type": "execute_result"
    }
   ],
   "source": [
    "# Set Postcode as index (replace r135_ag with merged rent df)\n",
    "r135_ag = r135_ag.set_index('postcode')\n",
    "r135_ag"
   ]
  },
  {
   "cell_type": "code",
   "execution_count": 62,
   "id": "3a27f1be",
   "metadata": {},
   "outputs": [
    {
     "ename": "ValueError",
     "evalue": "columns overlap but no suffix specified: Index(['key', 'time_period', 'year', 'quarter'], dtype='object')",
     "output_type": "error",
     "traceback": [
      "\u001b[0;31m---------------------------------------------------------------------------\u001b[0m",
      "\u001b[0;31mValueError\u001b[0m                                Traceback (most recent call last)",
      "\u001b[0;32m<ipython-input-62-aed2c79004ef>\u001b[0m in \u001b[0;36m<module>\u001b[0;34m\u001b[0m\n\u001b[1;32m      1\u001b[0m \u001b[0;31m# Merge rent into sales\u001b[0m\u001b[0;34m\u001b[0m\u001b[0;34m\u001b[0m\u001b[0;34m\u001b[0m\u001b[0m\n\u001b[0;32m----> 2\u001b[0;31m \u001b[0msr_master\u001b[0m \u001b[0;34m=\u001b[0m \u001b[0ms_master\u001b[0m\u001b[0;34m.\u001b[0m\u001b[0mjoin\u001b[0m\u001b[0;34m(\u001b[0m\u001b[0mr135_ag\u001b[0m\u001b[0;34m,\u001b[0m \u001b[0mon\u001b[0m\u001b[0;34m=\u001b[0m\u001b[0;34m'postcode'\u001b[0m\u001b[0;34m)\u001b[0m\u001b[0;34m\u001b[0m\u001b[0;34m\u001b[0m\u001b[0m\n\u001b[0m",
      "\u001b[0;32m~/opt/anaconda3/lib/python3.8/site-packages/pandas/core/frame.py\u001b[0m in \u001b[0;36mjoin\u001b[0;34m(self, other, on, how, lsuffix, rsuffix, sort)\u001b[0m\n\u001b[1;32m   8108\u001b[0m         \u001b[0;36m5\u001b[0m  \u001b[0mK5\u001b[0m  \u001b[0mA5\u001b[0m  \u001b[0mNaN\u001b[0m\u001b[0;34m\u001b[0m\u001b[0;34m\u001b[0m\u001b[0m\n\u001b[1;32m   8109\u001b[0m         \"\"\"\n\u001b[0;32m-> 8110\u001b[0;31m         return self._join_compat(\n\u001b[0m\u001b[1;32m   8111\u001b[0m             \u001b[0mother\u001b[0m\u001b[0;34m,\u001b[0m \u001b[0mon\u001b[0m\u001b[0;34m=\u001b[0m\u001b[0mon\u001b[0m\u001b[0;34m,\u001b[0m \u001b[0mhow\u001b[0m\u001b[0;34m=\u001b[0m\u001b[0mhow\u001b[0m\u001b[0;34m,\u001b[0m \u001b[0mlsuffix\u001b[0m\u001b[0;34m=\u001b[0m\u001b[0mlsuffix\u001b[0m\u001b[0;34m,\u001b[0m \u001b[0mrsuffix\u001b[0m\u001b[0;34m=\u001b[0m\u001b[0mrsuffix\u001b[0m\u001b[0;34m,\u001b[0m \u001b[0msort\u001b[0m\u001b[0;34m=\u001b[0m\u001b[0msort\u001b[0m\u001b[0;34m\u001b[0m\u001b[0;34m\u001b[0m\u001b[0m\n\u001b[1;32m   8112\u001b[0m         )\n",
      "\u001b[0;32m~/opt/anaconda3/lib/python3.8/site-packages/pandas/core/frame.py\u001b[0m in \u001b[0;36m_join_compat\u001b[0;34m(self, other, on, how, lsuffix, rsuffix, sort)\u001b[0m\n\u001b[1;32m   8133\u001b[0m                     \u001b[0msort\u001b[0m\u001b[0;34m=\u001b[0m\u001b[0msort\u001b[0m\u001b[0;34m,\u001b[0m\u001b[0;34m\u001b[0m\u001b[0;34m\u001b[0m\u001b[0m\n\u001b[1;32m   8134\u001b[0m                 )\n\u001b[0;32m-> 8135\u001b[0;31m             return merge(\n\u001b[0m\u001b[1;32m   8136\u001b[0m                 \u001b[0mself\u001b[0m\u001b[0;34m,\u001b[0m\u001b[0;34m\u001b[0m\u001b[0;34m\u001b[0m\u001b[0m\n\u001b[1;32m   8137\u001b[0m                 \u001b[0mother\u001b[0m\u001b[0;34m,\u001b[0m\u001b[0;34m\u001b[0m\u001b[0;34m\u001b[0m\u001b[0m\n",
      "\u001b[0;32m~/opt/anaconda3/lib/python3.8/site-packages/pandas/core/reshape/merge.py\u001b[0m in \u001b[0;36mmerge\u001b[0;34m(left, right, how, on, left_on, right_on, left_index, right_index, sort, suffixes, copy, indicator, validate)\u001b[0m\n\u001b[1;32m     87\u001b[0m         \u001b[0mvalidate\u001b[0m\u001b[0;34m=\u001b[0m\u001b[0mvalidate\u001b[0m\u001b[0;34m,\u001b[0m\u001b[0;34m\u001b[0m\u001b[0;34m\u001b[0m\u001b[0m\n\u001b[1;32m     88\u001b[0m     )\n\u001b[0;32m---> 89\u001b[0;31m     \u001b[0;32mreturn\u001b[0m \u001b[0mop\u001b[0m\u001b[0;34m.\u001b[0m\u001b[0mget_result\u001b[0m\u001b[0;34m(\u001b[0m\u001b[0;34m)\u001b[0m\u001b[0;34m\u001b[0m\u001b[0;34m\u001b[0m\u001b[0m\n\u001b[0m\u001b[1;32m     90\u001b[0m \u001b[0;34m\u001b[0m\u001b[0m\n\u001b[1;32m     91\u001b[0m \u001b[0;34m\u001b[0m\u001b[0m\n",
      "\u001b[0;32m~/opt/anaconda3/lib/python3.8/site-packages/pandas/core/reshape/merge.py\u001b[0m in \u001b[0;36mget_result\u001b[0;34m(self)\u001b[0m\n\u001b[1;32m    684\u001b[0m         \u001b[0mjoin_index\u001b[0m\u001b[0;34m,\u001b[0m \u001b[0mleft_indexer\u001b[0m\u001b[0;34m,\u001b[0m \u001b[0mright_indexer\u001b[0m \u001b[0;34m=\u001b[0m \u001b[0mself\u001b[0m\u001b[0;34m.\u001b[0m\u001b[0m_get_join_info\u001b[0m\u001b[0;34m(\u001b[0m\u001b[0;34m)\u001b[0m\u001b[0;34m\u001b[0m\u001b[0;34m\u001b[0m\u001b[0m\n\u001b[1;32m    685\u001b[0m \u001b[0;34m\u001b[0m\u001b[0m\n\u001b[0;32m--> 686\u001b[0;31m         llabels, rlabels = _items_overlap_with_suffix(\n\u001b[0m\u001b[1;32m    687\u001b[0m             \u001b[0mself\u001b[0m\u001b[0;34m.\u001b[0m\u001b[0mleft\u001b[0m\u001b[0;34m.\u001b[0m\u001b[0m_info_axis\u001b[0m\u001b[0;34m,\u001b[0m \u001b[0mself\u001b[0m\u001b[0;34m.\u001b[0m\u001b[0mright\u001b[0m\u001b[0;34m.\u001b[0m\u001b[0m_info_axis\u001b[0m\u001b[0;34m,\u001b[0m \u001b[0mself\u001b[0m\u001b[0;34m.\u001b[0m\u001b[0msuffixes\u001b[0m\u001b[0;34m\u001b[0m\u001b[0;34m\u001b[0m\u001b[0m\n\u001b[1;32m    688\u001b[0m         )\n",
      "\u001b[0;32m~/opt/anaconda3/lib/python3.8/site-packages/pandas/core/reshape/merge.py\u001b[0m in \u001b[0;36m_items_overlap_with_suffix\u001b[0;34m(left, right, suffixes)\u001b[0m\n\u001b[1;32m   2176\u001b[0m \u001b[0;34m\u001b[0m\u001b[0m\n\u001b[1;32m   2177\u001b[0m     \u001b[0;32mif\u001b[0m \u001b[0;32mnot\u001b[0m \u001b[0mlsuffix\u001b[0m \u001b[0;32mand\u001b[0m \u001b[0;32mnot\u001b[0m \u001b[0mrsuffix\u001b[0m\u001b[0;34m:\u001b[0m\u001b[0;34m\u001b[0m\u001b[0;34m\u001b[0m\u001b[0m\n\u001b[0;32m-> 2178\u001b[0;31m         \u001b[0;32mraise\u001b[0m \u001b[0mValueError\u001b[0m\u001b[0;34m(\u001b[0m\u001b[0;34mf\"columns overlap but no suffix specified: {to_rename}\"\u001b[0m\u001b[0;34m)\u001b[0m\u001b[0;34m\u001b[0m\u001b[0;34m\u001b[0m\u001b[0m\n\u001b[0m\u001b[1;32m   2179\u001b[0m \u001b[0;34m\u001b[0m\u001b[0m\n\u001b[1;32m   2180\u001b[0m     \u001b[0;32mdef\u001b[0m \u001b[0mrenamer\u001b[0m\u001b[0;34m(\u001b[0m\u001b[0mx\u001b[0m\u001b[0;34m,\u001b[0m \u001b[0msuffix\u001b[0m\u001b[0;34m)\u001b[0m\u001b[0;34m:\u001b[0m\u001b[0;34m\u001b[0m\u001b[0;34m\u001b[0m\u001b[0m\n",
      "\u001b[0;31mValueError\u001b[0m: columns overlap but no suffix specified: Index(['key', 'time_period', 'year', 'quarter'], dtype='object')"
     ]
    }
   ],
   "source": [
    "# Merge rent into sales\n",
    "sr_master = s_master.join(r135_ag, on='postcode')"
   ]
  }
 ],
 "metadata": {
  "kernelspec": {
   "display_name": "Python 3",
   "language": "python",
   "name": "python3"
  },
  "language_info": {
   "codemirror_mode": {
    "name": "ipython",
    "version": 3
   },
   "file_extension": ".py",
   "mimetype": "text/x-python",
   "name": "python",
   "nbconvert_exporter": "python",
   "pygments_lexer": "ipython3",
   "version": "3.7.10"
  },
  "varInspector": {
   "cols": {
    "lenName": 16,
    "lenType": 16,
    "lenVar": 40
   },
   "kernels_config": {
    "python": {
     "delete_cmd_postfix": "",
     "delete_cmd_prefix": "del ",
     "library": "var_list.py",
     "varRefreshCmd": "print(var_dic_list())"
    },
    "r": {
     "delete_cmd_postfix": ") ",
     "delete_cmd_prefix": "rm(",
     "library": "var_list.r",
     "varRefreshCmd": "cat(var_dic_list()) "
    }
   },
   "types_to_exclude": [
    "module",
    "function",
    "builtin_function_or_method",
    "instance",
    "_Feature"
   ],
   "window_display": false
  }
 },
 "nbformat": 4,
 "nbformat_minor": 5
}
