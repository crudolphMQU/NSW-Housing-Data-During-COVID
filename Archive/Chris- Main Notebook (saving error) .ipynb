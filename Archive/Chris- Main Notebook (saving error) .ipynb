{
 "cells": [
  {
   "cell_type": "markdown",
   "id": "d4780114",
   "metadata": {},
   "source": [
    "20/10/21 this notebook has been archived as I was getting a saving error. In case the copied code in my new notebook is missing something or it doesnt work, we can refer to the code here. I doubt  we will have to though.\n",
    "\n",
    "The error I was getting is: \n",
    "\n",
    "Notebook validation failed\n",
    "\n",
    "The save operation succeeded, but the notebook does not appear to be valid. The validation error was:\n",
    "\n",
    "Notebook validation failed: Non-unique cell id '3033da0d' detected. Corrected to '4a121081'.:\n",
    "\"UNKNOWN\""
   ]
  },
  {
   "cell_type": "markdown",
   "id": "02e89d71",
   "metadata": {
    "toc": true
   },
   "source": [
    "<h1>Table of Contents<span class=\"tocSkip\"></span></h1>\n",
    "<div class=\"toc\"><ul class=\"toc-item\"><li><span><a href=\"#Introduction\" data-toc-modified-id=\"Introduction-1\"><span class=\"toc-item-num\">1&nbsp;&nbsp;</span>Introduction</a></span><ul class=\"toc-item\"><li><span><a href=\"#Goals-&amp;-Methodology-(Felix)\" data-toc-modified-id=\"Goals-&amp;-Methodology-(Felix)-1.1\"><span class=\"toc-item-num\">1.1&nbsp;&nbsp;</span>Goals &amp; Methodology (Felix)</a></span></li><li><span><a href=\"#Data-and-Variable-Explanation-(Alexis)\" data-toc-modified-id=\"Data-and-Variable-Explanation-(Alexis)-1.2\"><span class=\"toc-item-num\">1.2&nbsp;&nbsp;</span>Data and Variable Explanation (Alexis)</a></span></li><li><span><a href=\"#Imports\" data-toc-modified-id=\"Imports-1.3\"><span class=\"toc-item-num\">1.3&nbsp;&nbsp;</span>Imports</a></span></li></ul></li><li><span><a href=\"#Analysis\" data-toc-modified-id=\"Analysis-2\"><span class=\"toc-item-num\">2&nbsp;&nbsp;</span>Analysis</a></span><ul class=\"toc-item\"><li><span><a href=\"#Reading-&amp;-Cleaning-data-(Alexis:-what-we-did-and-refer-to-cleaning)\" data-toc-modified-id=\"Reading-&amp;-Cleaning-data-(Alexis:-what-we-did-and-refer-to-cleaning)-2.1\"><span class=\"toc-item-num\">2.1&nbsp;&nbsp;</span>Reading &amp; Cleaning data (Alexis: what we did and refer to cleaning)</a></span></li><li><span><a href=\"#Univariate-Analysis\" data-toc-modified-id=\"Univariate-Analysis-2.2\"><span class=\"toc-item-num\">2.2&nbsp;&nbsp;</span>Univariate Analysis</a></span><ul class=\"toc-item\"><li><span><a href=\"#Median-Price\" data-toc-modified-id=\"Median-Price-2.2.1\"><span class=\"toc-item-num\">2.2.1&nbsp;&nbsp;</span>Median Price</a></span></li><li><span><a href=\"#Mean-Price\" data-toc-modified-id=\"Mean-Price-2.2.2\"><span class=\"toc-item-num\">2.2.2&nbsp;&nbsp;</span>Mean Price</a></span></li><li><span><a href=\"#Sales-Numbers\" data-toc-modified-id=\"Sales-Numbers-2.2.3\"><span class=\"toc-item-num\">2.2.3&nbsp;&nbsp;</span>Sales Numbers</a></span></li><li><span><a href=\"#Median-Rent\" data-toc-modified-id=\"Median-Rent-2.2.4\"><span class=\"toc-item-num\">2.2.4&nbsp;&nbsp;</span>Median Rent</a></span></li><li><span><a href=\"#New-Bonds\" data-toc-modified-id=\"New-Bonds-2.2.5\"><span class=\"toc-item-num\">2.2.5&nbsp;&nbsp;</span>New Bonds</a></span></li><li><span><a href=\"#Total-Bonds\" data-toc-modified-id=\"Total-Bonds-2.2.6\"><span class=\"toc-item-num\">2.2.6&nbsp;&nbsp;</span>Total Bonds</a></span></li><li><span><a href=\"#Income\" data-toc-modified-id=\"Income-2.2.7\"><span class=\"toc-item-num\">2.2.7&nbsp;&nbsp;</span>Income</a></span></li><li><span><a href=\"#Number-of-People-in-Household\" data-toc-modified-id=\"Number-of-People-in-Household-2.2.8\"><span class=\"toc-item-num\">2.2.8&nbsp;&nbsp;</span>Number of People in Household</a></span></li><li><span><a href=\"#Age-Intervals\" data-toc-modified-id=\"Age-Intervals-2.2.9\"><span class=\"toc-item-num\">2.2.9&nbsp;&nbsp;</span>Age Intervals</a></span></li><li><span><a href=\"#Population\" data-toc-modified-id=\"Population-2.2.10\"><span class=\"toc-item-num\">2.2.10&nbsp;&nbsp;</span>Population</a></span></li><li><span><a href=\"#Citizenship\" data-toc-modified-id=\"Citizenship-2.2.11\"><span class=\"toc-item-num\">2.2.11&nbsp;&nbsp;</span>Citizenship</a></span></li><li><span><a href=\"#Year-of-Arrival-in-Australia\" data-toc-modified-id=\"Year-of-Arrival-in-Australia-2.2.12\"><span class=\"toc-item-num\">2.2.12&nbsp;&nbsp;</span>Year of Arrival in Australia</a></span></li></ul></li><li><span><a href=\"#Bivariate-Analysis-with-Target-Variable\" data-toc-modified-id=\"Bivariate-Analysis-with-Target-Variable-2.3\"><span class=\"toc-item-num\">2.3&nbsp;&nbsp;</span>Bivariate Analysis with Target Variable</a></span></li></ul></li><li><span><a href=\"#Modeling\" data-toc-modified-id=\"Modeling-3\"><span class=\"toc-item-num\">3&nbsp;&nbsp;</span>Modeling</a></span><ul class=\"toc-item\"><li><span><a href=\"#Setting-up-the-DF\" data-toc-modified-id=\"Setting-up-the-DF-3.1\"><span class=\"toc-item-num\">3.1&nbsp;&nbsp;</span>Setting up the DF</a></span></li><li><span><a href=\"#Baseline-Regression-Model\" data-toc-modified-id=\"Baseline-Regression-Model-3.2\"><span class=\"toc-item-num\">3.2&nbsp;&nbsp;</span>Baseline Regression Model</a></span></li><li><span><a href=\"#Linear-Regression\" data-toc-modified-id=\"Linear-Regression-3.3\"><span class=\"toc-item-num\">3.3&nbsp;&nbsp;</span>Linear Regression</a></span><ul class=\"toc-item\"><li><span><a href=\"#Training-with-all-features\" data-toc-modified-id=\"Training-with-all-features-3.3.1\"><span class=\"toc-item-num\">3.3.1&nbsp;&nbsp;</span>Training with all features</a></span></li><li><span><a href=\"#Cross-validation-(CV)-with-all-features\" data-toc-modified-id=\"Cross-validation-(CV)-with-all-features-3.3.2\"><span class=\"toc-item-num\">3.3.2&nbsp;&nbsp;</span>Cross validation (CV) with all features</a></span></li><li><span><a href=\"#Training-with-the-top-10-features-from-the-correlation-matrix\" data-toc-modified-id=\"Training-with-the-top-10-features-from-the-correlation-matrix-3.3.3\"><span class=\"toc-item-num\">3.3.3&nbsp;&nbsp;</span>Training with the top 10 features from the correlation matrix</a></span></li><li><span><a href=\"#CV-with-top-10-features\" data-toc-modified-id=\"CV-with-top-10-features-3.3.4\"><span class=\"toc-item-num\">3.3.4&nbsp;&nbsp;</span>CV with top 10 features</a></span></li></ul></li><li><span><a href=\"#Cross-Validation\" data-toc-modified-id=\"Cross-Validation-3.4\"><span class=\"toc-item-num\">3.4&nbsp;&nbsp;</span>Cross Validation</a></span><ul class=\"toc-item\"><li><span><a href=\"#CV-with-all-features\" data-toc-modified-id=\"CV-with-all-features-3.4.1\"><span class=\"toc-item-num\">3.4.1&nbsp;&nbsp;</span>CV with all features</a></span></li></ul></li><li><span><a href=\"#Feature-Engineering\" data-toc-modified-id=\"Feature-Engineering-3.5\"><span class=\"toc-item-num\">3.5&nbsp;&nbsp;</span>Feature Engineering</a></span><ul class=\"toc-item\"><li><span><a href=\"#LR-with-RFE-to-find-top-3-features\" data-toc-modified-id=\"LR-with-RFE-to-find-top-3-features-3.5.1\"><span class=\"toc-item-num\">3.5.1&nbsp;&nbsp;</span>LR with RFE to find top 3 features</a></span></li><li><span><a href=\"#Cross-validating-these-top-3-features\" data-toc-modified-id=\"Cross-validating-these-top-3-features-3.5.2\"><span class=\"toc-item-num\">3.5.2&nbsp;&nbsp;</span>Cross validating these top 3 features</a></span></li><li><span><a href=\"#Looping-to-get-the-best-$R^2$,-thus-finding-the-top-features-to-use.\" data-toc-modified-id=\"Looping-to-get-the-best-$R^2$,-thus-finding-the-top-features-to-use.-3.5.3\"><span class=\"toc-item-num\">3.5.3&nbsp;&nbsp;</span>Looping to get the best $R^2$, thus finding the top features to use.</a></span></li><li><span><a href=\"#CV-with-the-determined-top-features\" data-toc-modified-id=\"CV-with-the-determined-top-features-3.5.4\"><span class=\"toc-item-num\">3.5.4&nbsp;&nbsp;</span>CV with the determined top features</a></span></li></ul></li><li><span><a href=\"#Improved-Model\" data-toc-modified-id=\"Improved-Model-3.6\"><span class=\"toc-item-num\">3.6&nbsp;&nbsp;</span>Improved Model</a></span></li></ul></li><li><span><a href=\"#Clustering-(Ken-&amp;-Felix)\" data-toc-modified-id=\"Clustering-(Ken-&amp;-Felix)-4\"><span class=\"toc-item-num\">4&nbsp;&nbsp;</span>Clustering (Ken &amp; Felix)</a></span></li><li><span><a href=\"#Distinct-Models-per-Clusters\" data-toc-modified-id=\"Distinct-Models-per-Clusters-5\"><span class=\"toc-item-num\">5&nbsp;&nbsp;</span>Distinct Models per Clusters</a></span></li><li><span><a href=\"#Results\" data-toc-modified-id=\"Results-6\"><span class=\"toc-item-num\">6&nbsp;&nbsp;</span>Results</a></span></li><li><span><a href=\"#Conclusion-and-Outlook\" data-toc-modified-id=\"Conclusion-and-Outlook-7\"><span class=\"toc-item-num\">7&nbsp;&nbsp;</span>Conclusion and Outlook</a></span></li></ul></div>"
   ]
  },
  {
   "cell_type": "markdown",
   "id": "5ae51e48",
   "metadata": {},
   "source": [
    "# Introduction\n",
    "State notebook purpose here."
   ]
  },
  {
   "cell_type": "markdown",
   "id": "82372dd5",
   "metadata": {},
   "source": [
    "## Goals & Methodology (Felix)\n",
    "State the goals of the analysis and how it should be done."
   ]
  },
  {
   "cell_type": "markdown",
   "id": "3183a3ab",
   "metadata": {},
   "source": [
    "## Data and Variable Explanation (Alexis)\n",
    "Explain the datasets used and the relevant variables."
   ]
  },
  {
   "cell_type": "markdown",
   "id": "7bdddb24",
   "metadata": {},
   "source": [
    "## Imports\n",
    "Import libraries and write settings here."
   ]
  },
  {
   "cell_type": "code",
   "execution_count": 1,
   "id": "4b9247d1",
   "metadata": {},
   "outputs": [],
   "source": [
    "import pandas as pd\n",
    "import numpy as np\n",
    "import matplotlib.pyplot as plt\n",
    "import seaborn as sns\n",
    "import matplotlib.patches as mpatches\n",
    "%matplotlib inline\n",
    "sns.set_style(\"darkgrid\")"
   ]
  },
  {
   "cell_type": "markdown",
   "id": "7340b3e6",
   "metadata": {},
   "source": [
    "The data cleaning function takes a few minutes to complete."
   ]
  },
  {
   "cell_type": "code",
   "execution_count": 2,
   "id": "45959add",
   "metadata": {},
   "outputs": [],
   "source": [
    "#%run chrisDataCleanFunction.ipynb"
   ]
  },
  {
   "cell_type": "markdown",
   "id": "b89f8d27",
   "metadata": {},
   "source": [
    "We get the following DFs:\n",
    "\n",
    "- `salesNew`\n",
    "- `salesOld`\n",
    "- `salesNew_nStrata`\n",
    "- `salesNew_strata`\n",
    "- `salesNew_total`\n",
    "- `salesOld_nStrata`\n",
    "- `salesOld_strata`\n",
    "- `salesOld_total`\n",
    "- `rentNew`\n",
    "- `rentOld`"
   ]
  },
  {
   "cell_type": "markdown",
   "id": "53acbd9f",
   "metadata": {},
   "source": [
    "# Analysis"
   ]
  },
  {
   "cell_type": "markdown",
   "id": "75e2d2c6",
   "metadata": {},
   "source": [
    "## Reading & Cleaning data (Alexis: what we did and refer to cleaning)\n",
    "Read in the pre-processed unstacked dataframe."
   ]
  },
  {
   "cell_type": "code",
   "execution_count": 3,
   "id": "daa435a2",
   "metadata": {},
   "outputs": [
    {
     "data": {
      "text/html": [
       "<div>\n",
       "<style scoped>\n",
       "    .dataframe tbody tr th:only-of-type {\n",
       "        vertical-align: middle;\n",
       "    }\n",
       "\n",
       "    .dataframe tbody tr th {\n",
       "        vertical-align: top;\n",
       "    }\n",
       "\n",
       "    .dataframe thead th {\n",
       "        text-align: right;\n",
       "    }\n",
       "</style>\n",
       "<table border=\"1\" class=\"dataframe\">\n",
       "  <thead>\n",
       "    <tr style=\"text-align: right;\">\n",
       "      <th></th>\n",
       "      <th>postcode</th>\n",
       "      <th>skey</th>\n",
       "      <th>time_period</th>\n",
       "      <th>year</th>\n",
       "      <th>quarter</th>\n",
       "      <th>dwelling_type</th>\n",
       "      <th>median_price</th>\n",
       "      <th>mean_price</th>\n",
       "      <th>sales_no</th>\n",
       "      <th>Qdelta_median</th>\n",
       "      <th>...</th>\n",
       "      <th>citizen_non_AU</th>\n",
       "      <th>YARRP &lt;1975</th>\n",
       "      <th>YARRP 1976-1995</th>\n",
       "      <th>YARRP 1996-2005</th>\n",
       "      <th>YARRP 2006-2016</th>\n",
       "      <th>ATSI</th>\n",
       "      <th>2yBonds%</th>\n",
       "      <th>10yBonds%</th>\n",
       "      <th>constr_index</th>\n",
       "      <th>Rate</th>\n",
       "    </tr>\n",
       "  </thead>\n",
       "  <tbody>\n",
       "    <tr>\n",
       "      <th>0</th>\n",
       "      <td>2000</td>\n",
       "      <td>s122</td>\n",
       "      <td>2017 Q3</td>\n",
       "      <td>2017</td>\n",
       "      <td>Q3</td>\n",
       "      <td>Total</td>\n",
       "      <td>1350.0</td>\n",
       "      <td>1516.328059</td>\n",
       "      <td>135.0</td>\n",
       "      <td>0.1345</td>\n",
       "      <td>...</td>\n",
       "      <td>14662.0</td>\n",
       "      <td>525.0</td>\n",
       "      <td>1590.0</td>\n",
       "      <td>2175.0</td>\n",
       "      <td>13023.0</td>\n",
       "      <td>53.0</td>\n",
       "      <td>1.814167</td>\n",
       "      <td>2.646667</td>\n",
       "      <td>112.0</td>\n",
       "      <td>1.5</td>\n",
       "    </tr>\n",
       "    <tr>\n",
       "      <th>1</th>\n",
       "      <td>2000</td>\n",
       "      <td>s122</td>\n",
       "      <td>2017 Q3</td>\n",
       "      <td>2017</td>\n",
       "      <td>Q3</td>\n",
       "      <td>Strata</td>\n",
       "      <td>1350.0</td>\n",
       "      <td>1516.328059</td>\n",
       "      <td>135.0</td>\n",
       "      <td>0.1431</td>\n",
       "      <td>...</td>\n",
       "      <td>14662.0</td>\n",
       "      <td>525.0</td>\n",
       "      <td>1590.0</td>\n",
       "      <td>2175.0</td>\n",
       "      <td>13023.0</td>\n",
       "      <td>53.0</td>\n",
       "      <td>1.814167</td>\n",
       "      <td>2.646667</td>\n",
       "      <td>112.0</td>\n",
       "      <td>1.5</td>\n",
       "    </tr>\n",
       "    <tr>\n",
       "      <th>2</th>\n",
       "      <td>2007</td>\n",
       "      <td>s122</td>\n",
       "      <td>2017 Q3</td>\n",
       "      <td>2017</td>\n",
       "      <td>Q3</td>\n",
       "      <td>Total</td>\n",
       "      <td>817.5</td>\n",
       "      <td>804.448333</td>\n",
       "      <td>36.0</td>\n",
       "      <td>-0.1090</td>\n",
       "      <td>...</td>\n",
       "      <td>5033.0</td>\n",
       "      <td>109.0</td>\n",
       "      <td>479.0</td>\n",
       "      <td>593.0</td>\n",
       "      <td>4517.0</td>\n",
       "      <td>58.0</td>\n",
       "      <td>1.814167</td>\n",
       "      <td>2.646667</td>\n",
       "      <td>112.0</td>\n",
       "      <td>1.5</td>\n",
       "    </tr>\n",
       "    <tr>\n",
       "      <th>3</th>\n",
       "      <td>2007</td>\n",
       "      <td>s122</td>\n",
       "      <td>2017 Q3</td>\n",
       "      <td>2017</td>\n",
       "      <td>Q3</td>\n",
       "      <td>Strata</td>\n",
       "      <td>817.5</td>\n",
       "      <td>804.448333</td>\n",
       "      <td>36.0</td>\n",
       "      <td>-0.0815</td>\n",
       "      <td>...</td>\n",
       "      <td>5033.0</td>\n",
       "      <td>109.0</td>\n",
       "      <td>479.0</td>\n",
       "      <td>593.0</td>\n",
       "      <td>4517.0</td>\n",
       "      <td>58.0</td>\n",
       "      <td>1.814167</td>\n",
       "      <td>2.646667</td>\n",
       "      <td>112.0</td>\n",
       "      <td>1.5</td>\n",
       "    </tr>\n",
       "    <tr>\n",
       "      <th>4</th>\n",
       "      <td>2008</td>\n",
       "      <td>s122</td>\n",
       "      <td>2017 Q3</td>\n",
       "      <td>2017</td>\n",
       "      <td>Q3</td>\n",
       "      <td>Total</td>\n",
       "      <td>995.0</td>\n",
       "      <td>1061.807024</td>\n",
       "      <td>41.0</td>\n",
       "      <td>-0.0005</td>\n",
       "      <td>...</td>\n",
       "      <td>5962.0</td>\n",
       "      <td>155.0</td>\n",
       "      <td>541.0</td>\n",
       "      <td>607.0</td>\n",
       "      <td>5527.0</td>\n",
       "      <td>77.0</td>\n",
       "      <td>1.814167</td>\n",
       "      <td>2.646667</td>\n",
       "      <td>112.0</td>\n",
       "      <td>1.5</td>\n",
       "    </tr>\n",
       "  </tbody>\n",
       "</table>\n",
       "<p>5 rows × 51 columns</p>\n",
       "</div>"
      ],
      "text/plain": [
       "   postcode  skey time_period  year quarter dwelling_type  median_price  \\\n",
       "0      2000  s122     2017 Q3  2017      Q3         Total        1350.0   \n",
       "1      2000  s122     2017 Q3  2017      Q3        Strata        1350.0   \n",
       "2      2007  s122     2017 Q3  2017      Q3         Total         817.5   \n",
       "3      2007  s122     2017 Q3  2017      Q3        Strata         817.5   \n",
       "4      2008  s122     2017 Q3  2017      Q3         Total         995.0   \n",
       "\n",
       "    mean_price  sales_no  Qdelta_median  ...  citizen_non_AU  YARRP <1975  \\\n",
       "0  1516.328059     135.0         0.1345  ...         14662.0        525.0   \n",
       "1  1516.328059     135.0         0.1431  ...         14662.0        525.0   \n",
       "2   804.448333      36.0        -0.1090  ...          5033.0        109.0   \n",
       "3   804.448333      36.0        -0.0815  ...          5033.0        109.0   \n",
       "4  1061.807024      41.0        -0.0005  ...          5962.0        155.0   \n",
       "\n",
       "   YARRP 1976-1995 YARRP 1996-2005  YARRP 2006-2016  ATSI  2yBonds%  \\\n",
       "0           1590.0          2175.0          13023.0  53.0  1.814167   \n",
       "1           1590.0          2175.0          13023.0  53.0  1.814167   \n",
       "2            479.0           593.0           4517.0  58.0  1.814167   \n",
       "3            479.0           593.0           4517.0  58.0  1.814167   \n",
       "4            541.0           607.0           5527.0  77.0  1.814167   \n",
       "\n",
       "   10yBonds%  constr_index  Rate  \n",
       "0   2.646667         112.0   1.5  \n",
       "1   2.646667         112.0   1.5  \n",
       "2   2.646667         112.0   1.5  \n",
       "3   2.646667         112.0   1.5  \n",
       "4   2.646667         112.0   1.5  \n",
       "\n",
       "[5 rows x 51 columns]"
      ]
     },
     "execution_count": 3,
     "metadata": {},
     "output_type": "execute_result"
    }
   ],
   "source": [
    "# reading in\n",
    "master = pd.read_csv(\"Files/Cleaned/Postcode-based/Master_Sales_Rent_2017Q4_2021Q1_pcFeatures.csv\")\n",
    "master.head()"
   ]
  },
  {
   "cell_type": "code",
   "execution_count": 4,
   "id": "bf0e7bd8",
   "metadata": {
    "scrolled": true
   },
   "outputs": [
    {
     "data": {
      "text/plain": [
       "postcode                int64\n",
       "skey                   object\n",
       "time_period            object\n",
       "year                    int64\n",
       "quarter                object\n",
       "dwelling_type          object\n",
       "median_price          float64\n",
       "mean_price            float64\n",
       "sales_no              float64\n",
       "Qdelta_median         float64\n",
       "Adelta_median         float64\n",
       "Qdelta_count          float64\n",
       "Adelta_count          float64\n",
       "rkey                   object\n",
       "median_rent_newb      float64\n",
       "new_bonds_no          float64\n",
       "total_bonds_no        float64\n",
       "Qdelta_median_rent    float64\n",
       "Qdelta_new_bonds      float64\n",
       "Adelta_median_rent    float64\n",
       "Adelta_new_bonds      float64\n",
       "INCP_LOW                int64\n",
       "INCP_MID                int64\n",
       "INCP_HIGH               int64\n",
       "INCP_NEG_NIL            int64\n",
       "CPRF_2                float64\n",
       "CPRF_3                float64\n",
       "CPRF_4                float64\n",
       "CPRF_5                float64\n",
       "CPRF_6+               float64\n",
       "CPRF_na               float64\n",
       "CPRF_HHOLD_NO         float64\n",
       "0-4yo                 float64\n",
       "5-14yo                float64\n",
       "15-24yo               float64\n",
       "25-34yo               float64\n",
       "35-54yo               float64\n",
       "55-64yo               float64\n",
       "65+yo                 float64\n",
       "population_2016       float64\n",
       "citizen_AU            float64\n",
       "citizen_non_AU        float64\n",
       "YARRP <1975           float64\n",
       "YARRP 1976-1995       float64\n",
       "YARRP 1996-2005       float64\n",
       "YARRP 2006-2016       float64\n",
       "ATSI                  float64\n",
       "2yBonds%              float64\n",
       "10yBonds%             float64\n",
       "constr_index          float64\n",
       "Rate                  float64\n",
       "dtype: object"
      ]
     },
     "execution_count": 4,
     "metadata": {},
     "output_type": "execute_result"
    }
   ],
   "source": [
    "master.dtypes"
   ]
  },
  {
   "cell_type": "code",
   "execution_count": 5,
   "id": "0fc7a00d",
   "metadata": {},
   "outputs": [
    {
     "data": {
      "text/plain": [
       "Index(['postcode', 'skey', 'time_period', 'year', 'quarter', 'dwelling_type',\n",
       "       'median_price', 'mean_price', 'sales_no', 'Qdelta_median',\n",
       "       'Adelta_median', 'Qdelta_count', 'Adelta_count', 'rkey',\n",
       "       'median_rent_newb', 'new_bonds_no', 'total_bonds_no',\n",
       "       'Qdelta_median_rent', 'Qdelta_new_bonds', 'Adelta_median_rent',\n",
       "       'Adelta_new_bonds', 'INCP_LOW', 'INCP_MID', 'INCP_HIGH', 'INCP_NEG_NIL',\n",
       "       'CPRF_2', 'CPRF_3', 'CPRF_4', 'CPRF_5', 'CPRF_6+', 'CPRF_na',\n",
       "       'CPRF_HHOLD_NO', '0-4yo', '5-14yo', '15-24yo', '25-34yo', '35-54yo',\n",
       "       '55-64yo', '65+yo', 'population_2016', 'citizen_AU', 'citizen_non_AU',\n",
       "       'YARRP <1975', 'YARRP 1976-1995', 'YARRP 1996-2005', 'YARRP 2006-2016',\n",
       "       'ATSI', '2yBonds%', '10yBonds%', 'constr_index', 'Rate'],\n",
       "      dtype='object')"
      ]
     },
     "execution_count": 5,
     "metadata": {},
     "output_type": "execute_result"
    }
   ],
   "source": [
    "master.columns"
   ]
  },
  {
   "cell_type": "markdown",
   "id": "3df732d2",
   "metadata": {
    "heading_collapsed": true
   },
   "source": [
    "## Univariate Analysis "
   ]
  },
  {
   "cell_type": "markdown",
   "id": "5c880293",
   "metadata": {
    "hidden": true
   },
   "source": [
    "### Median Price"
   ]
  },
  {
   "cell_type": "markdown",
   "id": "23584ef7",
   "metadata": {
    "hidden": true
   },
   "source": [
    "### Mean Price"
   ]
  },
  {
   "cell_type": "markdown",
   "id": "1f803703",
   "metadata": {
    "hidden": true
   },
   "source": [
    "### Sales Numbers"
   ]
  },
  {
   "cell_type": "markdown",
   "id": "c332bdaf",
   "metadata": {
    "hidden": true
   },
   "source": [
    "### Median Rent"
   ]
  },
  {
   "cell_type": "markdown",
   "id": "ef939f13",
   "metadata": {
    "hidden": true
   },
   "source": [
    "### New Bonds"
   ]
  },
  {
   "cell_type": "markdown",
   "id": "a762087a",
   "metadata": {
    "heading_collapsed": true,
    "hidden": true
   },
   "source": [
    "### Total Bonds"
   ]
  },
  {
   "cell_type": "markdown",
   "id": "480f322f",
   "metadata": {
    "heading_collapsed": true,
    "hidden": true
   },
   "source": [
    "### Income"
   ]
  },
  {
   "cell_type": "markdown",
   "id": "488fc851",
   "metadata": {
    "hidden": true
   },
   "source": [
    "Do all categories in factorplot"
   ]
  },
  {
   "cell_type": "markdown",
   "id": "11a51d03",
   "metadata": {
    "heading_collapsed": true,
    "hidden": true
   },
   "source": [
    "### Number of People in Household"
   ]
  },
  {
   "cell_type": "markdown",
   "id": "2665c63d",
   "metadata": {
    "hidden": true
   },
   "source": [
    "### Age Intervals"
   ]
  },
  {
   "cell_type": "markdown",
   "id": "1c12c415",
   "metadata": {
    "heading_collapsed": true,
    "hidden": true
   },
   "source": [
    "### Population"
   ]
  },
  {
   "cell_type": "markdown",
   "id": "effa974a",
   "metadata": {
    "heading_collapsed": true,
    "hidden": true
   },
   "source": [
    "### Citizenship"
   ]
  },
  {
   "cell_type": "markdown",
   "id": "a612c11c",
   "metadata": {
    "hidden": true
   },
   "source": [
    "### Year of Arrival in Australia"
   ]
  },
  {
   "cell_type": "markdown",
   "id": "dbda856a",
   "metadata": {},
   "source": [
    "## Bivariate Analysis with Target Variable"
   ]
  },
  {
   "cell_type": "raw",
   "id": "3e8e160d",
   "metadata": {},
   "source": [
    "### Over Time (Felix)\n",
    "Analyse possible relationships between target variable and features. Check if features are correlated."
   ]
  },
  {
   "cell_type": "raw",
   "id": "73a822b8",
   "metadata": {},
   "source": [
    "# pivot unstacked df to get aggregate values by time period\n",
    "pivot_time = pd.pivot_table(master,\n",
    "                            index=\"time_period\")\n",
    "pivot_time"
   ]
  },
  {
   "cell_type": "raw",
   "id": "3c6a2c60",
   "metadata": {},
   "source": [
    "pivot_time.columns"
   ]
  },
  {
   "cell_type": "raw",
   "id": "754c7bfb",
   "metadata": {},
   "source": [
    "# remove all census data as it does not change over time\n",
    "pivot_time = pivot_time.drop(['Adelta_count', \n",
    "                              'Adelta_median',\n",
    "                              'Adelta_median_rent', \n",
    "                              'Adelta_new_bonds', \n",
    "                              'Qdelta_count', \n",
    "                              'Qdelta_median',\n",
    "                              'Qdelta_median_rent', \n",
    "                              'Qdelta_new_bonds', \n",
    "                              'YARRP 1976-1995',\n",
    "                              'YARRP 1996-2005', \n",
    "                              'YARRP 2006-2016', \n",
    "                              'YARRP <1975', \n",
    "                              'population_2016', \n",
    "                              'postcode', \n",
    "                              '0-4yo', \n",
    "                              '15-24yo', \n",
    "                              '25-34yo', \n",
    "                              '35-54yo',\n",
    "                              '5-14yo', \n",
    "                              '55-64yo', \n",
    "                              '65+yo', \n",
    "                              'ATSI'],\n",
    "                            axis=1)\n",
    "pivot_time"
   ]
  },
  {
   "cell_type": "raw",
   "id": "45fa1626",
   "metadata": {},
   "source": [
    "pivot_time.columns"
   ]
  },
  {
   "cell_type": "raw",
   "id": "197adcc6",
   "metadata": {},
   "source": [
    "# show correlation matrix for numeric data\n",
    "plt.figure(figsize=(16, 12))\n",
    "\n",
    "postcode_corr = pivot_time[['mean_price', 'median_price', 'median_rent_newb', 'new_bonds_no', 'total_bonds_no', \n",
    "                            '10yBonds%', '2yBonds%', 'Rate', 'constr_index', 'sales_no']]\n",
    "\n",
    "matrix = np.triu(postcode_corr.corr())\n",
    "\n",
    "sns.heatmap(postcode_corr.corr(), \n",
    "            annot=True, # put coefficients in\n",
    "            fmt='.2g', # set number of decimals\n",
    "            vmin=-1, vmax=1, center=0, # rescale colorbar\n",
    "            cmap='RdYlGn', # set color palette\n",
    "            square=True, # set squares\n",
    "            mask=matrix) # display only lower triangular matrix\n",
    "plt.yticks(rotation=360)\n",
    "plt.xticks(rotation=70);"
   ]
  },
  {
   "cell_type": "raw",
   "id": "041e2c6f",
   "metadata": {},
   "source": [
    "Analysis of correlation with price:\n",
    "- There is a weak negative relationship between the __rent level__ and the sales price level. This implies that periods with higher rent prices tend to have lower sales prices. However, as mentioned, the relationship is rather weak.\n",
    "- There is a moderate positive relationship with the amount of __total bonds__.\n",
    "- There is a moderate to strong negative relationship with __10 Year Bonds__. This makes sense since in economic theory investors can choose from different asset classes. Government bonds are considered as ultra safe and hence represent a baseline of what investors expect as return since they can have the bond yield \"risk free\". If bond yields rise, the relative return of competing asset classes decrease, demand goes down, and price level will follow.\n",
    "- There is a strong negative relationship with __2 Year Bonds__. The reasoning is the same as for 10 year bonds. It is interesting, though, that the relationship for shorter duration bonds seems stronger.\n",
    "- There is a moderate to strong positive relationship with __high income__. This implies that postcode area with high sales prices tend to have a population with higher income.\n",
    "- There is a strong negative relationship with __interest rates__. This is another reasonable observation from an economic point of view. When interest rates decrease, it means capital becomes cheaper i.e. it is easier to get a loan since they are related to the rate level. Hence demand for housing, financed through loans, increases, and prices adjust accordingly.\n",
    "- There is a moderate positive relationship with __construction costs__. This makes sense since house prices should increase as cost for building them increases.\n",
    "- Lastly, there is a strong positive relationship with __sales numbers__. It is not sure at this stage how this actually relates, but the number of sales could be viewed as a proxy for demand which would drive prices."
   ]
  },
  {
   "cell_type": "raw",
   "id": "9302767d",
   "metadata": {},
   "source": [
    "#### Sales Number"
   ]
  },
  {
   "cell_type": "raw",
   "id": "95ddf75f",
   "metadata": {},
   "source": [
    "plt.figure(figsize=(15,7))\n",
    "sns.lineplot(data=pivot_time.mean_price.rolling(window=2, min_periods=1).mean(), color=\"b\")\n",
    "plt.ylabel(\"House Price\")\n",
    "plt.xlabel(\"\")\n",
    "ax2 = plt.twinx()\n",
    "sns.lineplot(data=pivot_time.sales_no.rolling(window=2, min_periods=1).mean(), color=\"g\", ax=ax2)\n",
    "plt.title(\"Development of House Prices and Sales Numbers over Time\", fontsize=14)\n",
    "plt.ylabel(\"Sales\")\n",
    "blue_patch = mpatches.Patch(color='blue', label='House Prices')\n",
    "green_patch = mpatches.Patch(color='green', label='Number of Sales')\n",
    "plt.legend(handles=[blue_patch, green_patch], loc=2);"
   ]
  },
  {
   "cell_type": "raw",
   "id": "fbef1b84",
   "metadata": {},
   "source": [
    "It can be clearly seen how these to tend to move together. It might be reasonable to assume that sales are a leading factor to prices since they are a proxy for demand. If demand decreases, prices will follow and vice versa. Hence the decrease of sales in the latest quarter is interesting since it is not reflected in price yet."
   ]
  },
  {
   "cell_type": "raw",
   "id": "1a94483b",
   "metadata": {},
   "source": [
    "#### Median Rent"
   ]
  },
  {
   "cell_type": "raw",
   "id": "b94120fa",
   "metadata": {},
   "source": [
    "plt.figure(figsize=(15,7))\n",
    "sns.lineplot(data=pivot_time.mean_price.rolling(window=2, min_periods=1).mean(), color=\"b\")\n",
    "plt.ylabel(\"House Price\")\n",
    "plt.xlabel(\"\")\n",
    "ax2 = plt.twinx()\n",
    "sns.lineplot(data=pivot_time.median_rent_newb, color=\"g\", ax=ax2)\n",
    "plt.title(\"Development of House Prices and Rent Levels over Time\", fontsize=14)\n",
    "plt.ylabel(\"Rent\")\n",
    "blue_patch = mpatches.Patch(color='blue', label='House Prices')\n",
    "green_patch = mpatches.Patch(color='green', label='Rent Prices')\n",
    "plt.legend(handles=[blue_patch, green_patch], loc=2);"
   ]
  },
  {
   "cell_type": "raw",
   "id": "1e836a34",
   "metadata": {},
   "source": [
    "The slight inverse relationship from the correlation matrix can be seen in the plot as well. However, as indicated by weak correlation, the relationship is not strong and seems to change as it is moving in the same direction since Q3 2020. It might make sense to smooth out the spikes which is done below."
   ]
  },
  {
   "cell_type": "raw",
   "id": "296de15f",
   "metadata": {},
   "source": [
    "plt.figure(figsize=(15,7))\n",
    "sns.lineplot(data=pivot_time.mean_price.rolling(window=2, min_periods=1).mean(), color=\"b\")\n",
    "plt.ylabel(\"House Price\")\n",
    "plt.xlabel(\"\")\n",
    "ax2 = plt.twinx()\n",
    "sns.lineplot(data=pivot_time.median_rent_newb.rolling(window=4, min_periods=1).mean(), color=\"g\", ax=ax2)\n",
    "plt.title(\"Development of House Prices and Rent Levels over Time\", fontsize=14)\n",
    "plt.ylabel(\"Rent\")\n",
    "blue_patch = mpatches.Patch(color='blue', label='House Prices')\n",
    "green_patch = mpatches.Patch(color='green', label='Rent Prices')\n",
    "plt.legend(handles=[blue_patch, green_patch], loc=2);"
   ]
  },
  {
   "cell_type": "raw",
   "id": "3516177a",
   "metadata": {},
   "source": [
    "After smoothing, the inverse relationship looks realy strong. It is hard, however, to think of a reasonable causality for this observation."
   ]
  },
  {
   "cell_type": "raw",
   "id": "be76dd63",
   "metadata": {},
   "source": [
    "#### New Bonds"
   ]
  },
  {
   "cell_type": "raw",
   "id": "810087cf",
   "metadata": {},
   "source": [
    "plt.figure(figsize=(15,7))\n",
    "sns.lineplot(data=pivot_time.mean_price.rolling(window=2, min_periods=1).mean(), color=\"b\")\n",
    "plt.ylabel(\"House Price\")\n",
    "plt.xlabel(\"\")\n",
    "ax2 = plt.twinx()\n",
    "sns.lineplot(data=pivot_time.new_bonds_no, color=\"g\", ax=ax2)\n",
    "plt.title(\"Development of House Prices and Number of new Bonds issued over Time\", fontsize=14)\n",
    "blue_patch = mpatches.Patch(color='blue', label='House Prices')\n",
    "green_patch = mpatches.Patch(color='green', label='Number of Bonds')\n",
    "plt.legend(handles=[blue_patch, green_patch], loc=2)\n",
    "plt.ylabel(\"Bonds\");"
   ]
  },
  {
   "cell_type": "raw",
   "id": "a7932d75",
   "metadata": {},
   "source": [
    "There seems to be some seasonality involved for new bonds. It is likely that most apartment contracts start and end at specific times most of the time. In that case it seems to be first and third quarter. Hence a rolling average of 2 quarters will be applied."
   ]
  },
  {
   "cell_type": "raw",
   "id": "90a7d0f9",
   "metadata": {},
   "source": [
    "plt.figure(figsize=(15,7))\n",
    "\n",
    "sns.lineplot(data=pivot_time.mean_price.rolling(window=2, min_periods=1).mean(), color=\"b\")\n",
    "plt.ylabel(\"House Price\")\n",
    "plt.xlabel(\"\")\n",
    "\n",
    "ax2 = plt.twinx()\n",
    "sns.lineplot(data=pivot_time.new_bonds_no.rolling(window=2, min_periods=1).mean(), color=\"g\", ax=ax2)\n",
    "\n",
    "plt.title(\"Development of House Prices and Number of new Bonds issued over Time\", fontsize=14)\n",
    "\n",
    "blue_patch = mpatches.Patch(color='blue', label='House Prices')\n",
    "green_patch = mpatches.Patch(color='green', label='Number of Bonds')\n",
    "plt.legend(handles=[blue_patch, green_patch], loc=2)\n",
    "plt.ylabel(\"Bonds\");"
   ]
  },
  {
   "cell_type": "raw",
   "id": "6e975f65",
   "metadata": {},
   "source": [
    "It can be seen that these two variables tend to move together. "
   ]
  },
  {
   "cell_type": "raw",
   "id": "35499380",
   "metadata": {},
   "source": [
    "#### Construction Costs"
   ]
  },
  {
   "cell_type": "raw",
   "id": "a07ba437",
   "metadata": {},
   "source": [
    "plt.figure(figsize=(15,7))\n",
    "sns.lineplot(data=pivot_time.mean_price.rolling(window=2, min_periods=1).mean(), color=\"b\")\n",
    "plt.ylabel(\"House Price\")\n",
    "plt.xlabel(\"\")\n",
    "ax2 = plt.twinx()\n",
    "sns.lineplot(data=pivot_time.constr_index, color=\"g\", ax=ax2)\n",
    "plt.title(\"Development of House Prices and Construction Costs over Time\", fontsize=14)\n",
    "blue_patch = mpatches.Patch(color='blue', label='House Prices')\n",
    "green_patch = mpatches.Patch(color='green', label='Construction Costs')\n",
    "plt.legend(handles=[blue_patch, green_patch], loc=2)\n",
    "plt.ylabel(\"Construction Costs\");"
   ]
  },
  {
   "cell_type": "raw",
   "id": "fe103356",
   "metadata": {},
   "source": [
    "They tend to move together quite strongly. Especially recently in 2021, construction costs are known to have risen by lot as they were world-wide shortages after reopening from the Covid situation. Construction costs might be a good \"real-time\" indicator as they are directly reflected in the costs for new buildings."
   ]
  },
  {
   "cell_type": "raw",
   "id": "ad75c33c",
   "metadata": {},
   "source": [
    "#### Bond Yields"
   ]
  },
  {
   "cell_type": "raw",
   "id": "fbf4abf6",
   "metadata": {},
   "source": [
    "plt.figure(figsize=(15,7))\n",
    "sns.lineplot(data=pivot_time.mean_price.rolling(window=2, min_periods=1).mean(), color=\"b\")\n",
    "plt.ylabel(\"House Price\")\n",
    "plt.xlabel(\"\")\n",
    "ax2 = plt.twinx()\n",
    "sns.lineplot(data=pivot_time[\"10yBonds%\"], color=\"g\", ax=ax2)\n",
    "sns.lineplot(data=pivot_time[\"2yBonds%\"], color=\"r\", ax=ax2)\n",
    "plt.title(\"Development of House Prices and Bond Yields over Time\", fontsize=14)\n",
    "blue_patch = mpatches.Patch(color='blue', label='House Prices')\n",
    "green_patch = mpatches.Patch(color='green', label='10 Year Bonds')\n",
    "red_patch = mpatches.Patch(color='red', label='2 Year Bonds')\n",
    "plt.legend(handles=[blue_patch, green_patch, red_patch], loc=3)\n",
    "plt.ylabel(\"Yields in %\");"
   ]
  },
  {
   "cell_type": "raw",
   "id": "0a1cb040",
   "metadata": {},
   "source": [
    "The overall decline, especially in the years since 2018, for bond yields indicates higher borrowing activity due to the according impact on mortgage rates and higher opportunity costs of capital for bond investors, making the asset class relatively unattractive among different asset classes. Thus, this has a two-fold effect on demand for house:\n",
    "- More people being able to afford houses\n",
    "- More investors getting into the housing market (among other asset classes)\n",
    "\n",
    "Interesting is the gap between short and long term bond yields since the beginning of 2020. This actually indicates that investors perceive the current bond yield rates as too low in relation to current economic activity and expected inflation. If this perception is correct, it would lead short term rates to increase, thus, having a negative impact on house prices as mortgages become more expensive and bonds relatively interesting for investors regarding their risk/return ratio."
   ]
  },
  {
   "cell_type": "raw",
   "id": "1014d4c1",
   "metadata": {},
   "source": [
    "#### Interest Rates"
   ]
  },
  {
   "cell_type": "raw",
   "id": "44819a9f",
   "metadata": {},
   "source": [
    "plt.figure(figsize=(15,7))\n",
    "sns.lineplot(data=pivot_time.mean_price.rolling(window=2, min_periods=1).mean(), color=\"b\")\n",
    "plt.ylabel(\"House Price\")\n",
    "plt.xlabel(\"\")\n",
    "ax2 = plt.twinx()\n",
    "sns.lineplot(data=pivot_time.Rate, color=\"g\", ax=ax2)\n",
    "plt.title(\"Development of House Prices and Interest Rates over Time\", fontsize=14)\n",
    "blue_patch = mpatches.Patch(color='blue', label='House Prices')\n",
    "green_patch = mpatches.Patch(color='green', label='Rates')\n",
    "plt.legend(handles=[blue_patch, green_patch], loc=2)\n",
    "plt.ylabel(\"Rates in %\");"
   ]
  },
  {
   "cell_type": "raw",
   "id": "7c7163bb",
   "metadata": {},
   "source": [
    "The inverse relationship of interest rates and house prices is shown clearly. As described under the correlation matrix, interest rates are known to have a macroeconomic impact on house prices."
   ]
  },
  {
   "cell_type": "raw",
   "id": "8f0fd54b",
   "metadata": {},
   "source": [
    "### By Postcode"
   ]
  },
  {
   "cell_type": "raw",
   "id": "19ce0920",
   "metadata": {},
   "source": [
    "# pivot unstacked df to get aggregate values by postcode\n",
    "pivot_postcode = pd.pivot_table(master,\n",
    "                                index=\"postcode\")\n",
    "pivot_postcode"
   ]
  },
  {
   "cell_type": "raw",
   "id": "60a7f4c9",
   "metadata": {},
   "source": [
    "pivot_postcode.columns"
   ]
  },
  {
   "cell_type": "raw",
   "id": "4660964c",
   "metadata": {},
   "source": [
    "pivot_postcode = pivot_postcode[['mean_price', 'median_price', 'median_rent_newb', 'new_bonds_no', 'total_bonds_no', '0-4yo', '5-14yo', '15-24yo', '25-34yo', '35-54yo', '55-64yo', '65+yo', 'ATSI', 'CPRF_2', 'CPRF_3', 'CPRF_4','CPRF_5', 'CPRF_6+', 'CPRF_HHOLD_NO', 'CPRF_na', 'INCP_HIGH', 'INCP_LOW', 'INCP_MID', 'INCP_NEG_NIL', 'YARRP 1976-1995', 'YARRP 1996-2005', 'YARRP 2006-2016', 'YARRP <1975', 'citizen_AU', 'citizen_non_AU']]"
   ]
  },
  {
   "cell_type": "raw",
   "id": "7d722627",
   "metadata": {},
   "source": [
    "# show correlation\n",
    "plt.figure(figsize=(20, 15))\n",
    "\n",
    "matrix = np.triu(pivot_postcode.corr())\n",
    "\n",
    "sns.heatmap(pivot_postcode.corr(), \n",
    "            annot=True, # put coefficients in\n",
    "            fmt='.2g', # set number of decimals\n",
    "            vmin=-1, vmax=1, center=0, # rescale colorbar\n",
    "            cmap='RdYlGn', # set color palette\n",
    "            square=True, # set squares\n",
    "            mask=matrix) # display only lower triangular matrix\n",
    "plt.yticks(rotation=360)\n",
    "plt.xticks(rotation=70);"
   ]
  },
  {
   "cell_type": "raw",
   "id": "b2bc80fc",
   "metadata": {},
   "source": [
    "Analysis of correlation with price:\n",
    "- There is a very strong positive relationship between the __rent level__ and the sales price level. This implies that postcodes that have high rent prices also tend to have high sales prices. It remains unknown, however, if there actually is a causal relationship.\n",
    "- There is a positive relationship with the amount of __new bonds__. This would make intuitively sense if the number of new bonds is seen as a proxy for demand in an area. First and foremost, this should have an effect on rent levels, but since rent prices are heavily correlated with sales levels, it would make sense if there is some relation with this too.\n",
    "- The number of people in a certain __age bracket__ seems to have a slight positive relationship with sales price for people aged between 25-54. Once could argue that this covers the typical working lifespan and hence people in this age bracket are expected to have more money which is reflected in sales prices.\n",
    "- There is a moderately strong negative relationship with __ATSI__. This implies that prices levels are lower in postcode areas where more people identifying as aboriginal live.\n",
    "- There is a moderate to strong positive relationship with __high income__. This implies that postcode area with high sales prices tend to have a population with higher income.\n",
    "- There is a rather weak positive relationship with the __different years of arrival__ in Australia. At this point, however, it is hard to reason why there should be a relationship\n",
    "- Lastly, there is rather weak positive relationship with __non Australian citizenship__. This implies that postcodes with higher sales prices are culturally more diverse with a larger proportion of non-Australian citizens."
   ]
  },
  {
   "cell_type": "raw",
   "id": "b4742bf9",
   "metadata": {},
   "source": [
    "pivot_postcode.columns"
   ]
  },
  {
   "cell_type": "raw",
   "id": "e00e414f",
   "metadata": {},
   "source": [
    "#### Median Rent"
   ]
  },
  {
   "cell_type": "raw",
   "id": "fe722233",
   "metadata": {},
   "source": [
    "plt.figure(figsize=(10,7))\n",
    "sns.scatterplot(x=\"mean_price\", y=\"median_rent_newb\", data=pivot_postcode)\n",
    "plt.title(\"Relationship of Median Rent and Mean Price Level\", fontsize=14)\n",
    "plt.xlabel(\"Mean Sales Price\", fontsize=12)\n",
    "plt.ylabel(\"Median Rent Price\", fontsize=12);"
   ]
  },
  {
   "cell_type": "raw",
   "id": "3106a9d0",
   "metadata": {},
   "source": [
    "\n",
    "plt.figure(figsize=(10,7))\n",
    "sns.scatterplot(x=\"median_price\", y=\"median_rent_newb\", data=pivot_postcode)\n",
    "plt.title(\"Relationship of Median Rent and Median Price Level\", fontsize=14)\n",
    "plt.xlabel(\"Median Sales Price\", fontsize=12)\n",
    "plt.ylabel(\"Median Rent Price\", fontsize=12);"
   ]
  },
  {
   "cell_type": "raw",
   "id": "f8e50086",
   "metadata": {},
   "source": [
    "Comparing the median sales prices with median rent prices makes intuitively more sense, and also seems to be a more linear relationship. However, for both plots, the relationship looks non-linear and a logarithmic transformation of the median rent level might make sense if we want to use it."
   ]
  },
  {
   "cell_type": "raw",
   "id": "9adedc37",
   "metadata": {},
   "source": [
    "#### New Bonds"
   ]
  },
  {
   "cell_type": "raw",
   "id": "35e2d926",
   "metadata": {},
   "source": [
    "plt.figure(figsize=(10,7))\n",
    "sns.scatterplot(x=\"mean_price\", y=\"new_bonds_no\", data=pivot_postcode)\n",
    "plt.title(\"Relationship of Number of New Bonds and Mean Price Level\", fontsize=14)\n",
    "plt.xlabel(\"Mean Sales Price\", fontsize=12)\n",
    "plt.ylabel(\"Number of New Bonds\", fontsize=12);"
   ]
  },
  {
   "cell_type": "raw",
   "id": "d547d3de",
   "metadata": {},
   "source": [
    "pivot_postcode[\"mean_price\"].corr(pivot_postcode[\"new_bonds_no\"])"
   ]
  },
  {
   "cell_type": "raw",
   "id": "5a49074a",
   "metadata": {},
   "source": [
    "There is a positive relationship. However, the variance is very large. Transformation might help."
   ]
  },
  {
   "cell_type": "raw",
   "id": "6b945ec4",
   "metadata": {},
   "source": [
    "#### Age Brackets"
   ]
  },
  {
   "cell_type": "raw",
   "id": "bfaf5470",
   "metadata": {},
   "source": [
    "plt.figure(figsize=(10,7))\n",
    "sns.scatterplot(x=\"mean_price\", y=\"25-34yo\", data=pivot_postcode)\n",
    "plt.title(\"Relationship of 25-34yo Population and Mean Price Level\", fontsize=14)\n",
    "plt.xlabel(\"Mean Sales Price\", fontsize=12)\n",
    "plt.ylabel(\"Number of People between 25-34 Years\", fontsize=12);"
   ]
  },
  {
   "cell_type": "raw",
   "id": "4feef823",
   "metadata": {},
   "source": [
    "plt.figure(figsize=(10,7))\n",
    "sns.scatterplot(x=\"mean_price\", y=\"35-54yo\", data=pivot_postcode)\n",
    "plt.title(\"Relationship of 35-54yo Population and Mean Price Level\", fontsize=14)\n",
    "plt.xlabel(\"Mean Sales Price\", fontsize=12)\n",
    "plt.ylabel(\"Number of People between 35-54 Years\", fontsize=12);"
   ]
  },
  {
   "cell_type": "raw",
   "id": "0a96f39a",
   "metadata": {},
   "source": [
    "#### ATSI"
   ]
  },
  {
   "cell_type": "raw",
   "id": "6f714c5e",
   "metadata": {},
   "source": [
    "plt.figure(figsize=(10,7))\n",
    "sns.scatterplot(x=\"mean_price\", y=\"ATSI\", data=pivot_postcode)\n",
    "plt.title(\"Relationship of Aboriginal Heritage and Mean Price Level\", fontsize=14)\n",
    "plt.xlabel(\"Mean Sales Price\", fontsize=12)\n",
    "plt.ylabel(\"Number of People identifying as Aboriginal\", fontsize=12);"
   ]
  },
  {
   "cell_type": "raw",
   "id": "e2b4bbf5",
   "metadata": {},
   "source": [
    "This looks like a strongly non-linear relationship. Transformation might be required."
   ]
  },
  {
   "cell_type": "raw",
   "id": "a3d31bab",
   "metadata": {},
   "source": [
    "#### High Income"
   ]
  },
  {
   "cell_type": "raw",
   "id": "f07d6108",
   "metadata": {},
   "source": [
    "plt.figure(figsize=(10,7))\n",
    "sns.scatterplot(x=\"mean_price\", y=\"INCP_HIGH\", data=pivot_postcode)\n",
    "plt.title(\"Relationship of High Income and Mean Price Level\", fontsize=14)\n",
    "plt.xlabel(\"Mean Sales Price\", fontsize=12)\n",
    "plt.ylabel(\"High Income\", fontsize=12);"
   ]
  },
  {
   "cell_type": "raw",
   "id": "25290601",
   "metadata": {},
   "source": [
    "There seems to be a somewhat linear relationship with a large variance for larger values."
   ]
  },
  {
   "cell_type": "raw",
   "id": "793fa1b1",
   "metadata": {},
   "source": [
    "#### Year of Arrival"
   ]
  },
  {
   "cell_type": "raw",
   "id": "cf65bed0",
   "metadata": {},
   "source": [
    "plt.figure(figsize=(10,7))\n",
    "sns.scatterplot(x=\"mean_price\", y=\"YARRP 1996-2005\", data=pivot_postcode)\n",
    "plt.title(\"Relationship of Year of Arrival from 1996-2005 and Mean Price Level\", fontsize=14)\n",
    "plt.xlabel(\"Mean Sales Price\", fontsize=12)\n",
    "plt.ylabel(\"Number of People in Year Bracket\", fontsize=12);"
   ]
  },
  {
   "cell_type": "raw",
   "id": "a849a167",
   "metadata": {},
   "source": [
    "plt.figure(figsize=(10,7))\n",
    "sns.scatterplot(x=\"mean_price\", y=\"YARRP 2006-2016\", data=pivot_postcode)\n",
    "plt.title(\"Relationship of Year of Arrival from 2006-2016 and Mean Price Level\", fontsize=14)\n",
    "plt.xlabel(\"Mean Sales Price\", fontsize=12)\n",
    "plt.ylabel(\"Number of People in Year Bracket\", fontsize=12);"
   ]
  },
  {
   "cell_type": "raw",
   "id": "ac1c2ba0",
   "metadata": {},
   "source": [
    "#### Non-AUS Citizen"
   ]
  },
  {
   "cell_type": "raw",
   "id": "f5312109",
   "metadata": {},
   "source": [
    "plt.figure(figsize=(10,7))\n",
    "sns.scatterplot(x=\"mean_price\", y=\"citizen_non_AU\", data=pivot_postcode)\n",
    "plt.title(\"Relationship of non-AUS Citizenship and Mean Price Level\", fontsize=14)\n",
    "plt.xlabel(\"Mean Sales Price\", fontsize=12)\n",
    "plt.ylabel(\"Number of non-AUS citizens\", fontsize=12);"
   ]
  },
  {
   "cell_type": "code",
   "execution_count": null,
   "id": "fb599503",
   "metadata": {},
   "outputs": [],
   "source": []
  },
  {
   "cell_type": "markdown",
   "id": "4a1554c1",
   "metadata": {},
   "source": [
    "# Modeling"
   ]
  },
  {
   "cell_type": "markdown",
   "id": "79a9d07f",
   "metadata": {},
   "source": [
    "## Setting up the DF"
   ]
  },
  {
   "cell_type": "code",
   "execution_count": 6,
   "id": "cea7b966",
   "metadata": {},
   "outputs": [
    {
     "data": {
      "text/html": [
       "<div>\n",
       "<style scoped>\n",
       "    .dataframe tbody tr th:only-of-type {\n",
       "        vertical-align: middle;\n",
       "    }\n",
       "\n",
       "    .dataframe tbody tr th {\n",
       "        vertical-align: top;\n",
       "    }\n",
       "\n",
       "    .dataframe thead th {\n",
       "        text-align: right;\n",
       "    }\n",
       "</style>\n",
       "<table border=\"1\" class=\"dataframe\">\n",
       "  <thead>\n",
       "    <tr style=\"text-align: right;\">\n",
       "      <th></th>\n",
       "      <th>mean_price 2020 Q1</th>\n",
       "      <th>mean_price 2020 Q2</th>\n",
       "      <th>mean_price 2020 Q3</th>\n",
       "      <th>mean_price 2020 Q4</th>\n",
       "      <th>mean_price 2021 Q1</th>\n",
       "      <th>median_price 2020 Q1</th>\n",
       "      <th>median_price 2020 Q2</th>\n",
       "      <th>median_price 2020 Q3</th>\n",
       "      <th>median_price 2020 Q4</th>\n",
       "      <th>median_price 2021 Q1</th>\n",
       "      <th>...</th>\n",
       "      <th>Rate 2020 Q1</th>\n",
       "      <th>Rate 2020 Q2</th>\n",
       "      <th>Rate 2020 Q3</th>\n",
       "      <th>Rate 2020 Q4</th>\n",
       "      <th>Rate 2021 Q1</th>\n",
       "      <th>constr_index 2020 Q1</th>\n",
       "      <th>constr_index 2020 Q2</th>\n",
       "      <th>constr_index 2020 Q3</th>\n",
       "      <th>constr_index 2020 Q4</th>\n",
       "      <th>constr_index 2021 Q1</th>\n",
       "    </tr>\n",
       "    <tr>\n",
       "      <th>postcode</th>\n",
       "      <th></th>\n",
       "      <th></th>\n",
       "      <th></th>\n",
       "      <th></th>\n",
       "      <th></th>\n",
       "      <th></th>\n",
       "      <th></th>\n",
       "      <th></th>\n",
       "      <th></th>\n",
       "      <th></th>\n",
       "      <th></th>\n",
       "      <th></th>\n",
       "      <th></th>\n",
       "      <th></th>\n",
       "      <th></th>\n",
       "      <th></th>\n",
       "      <th></th>\n",
       "      <th></th>\n",
       "      <th></th>\n",
       "      <th></th>\n",
       "      <th></th>\n",
       "    </tr>\n",
       "  </thead>\n",
       "  <tbody>\n",
       "    <tr>\n",
       "      <th>2000</th>\n",
       "      <td>1541.0</td>\n",
       "      <td>1322.0</td>\n",
       "      <td>1631.0</td>\n",
       "      <td>1379.0</td>\n",
       "      <td>2794.0</td>\n",
       "      <td>1225.0</td>\n",
       "      <td>1000.0</td>\n",
       "      <td>1390.0</td>\n",
       "      <td>1110.0</td>\n",
       "      <td>1371.0</td>\n",
       "      <td>...</td>\n",
       "      <td>0.638889</td>\n",
       "      <td>0.25</td>\n",
       "      <td>0.25</td>\n",
       "      <td>0.15625</td>\n",
       "      <td>0.1</td>\n",
       "      <td>116.0</td>\n",
       "      <td>116.2</td>\n",
       "      <td>116.2</td>\n",
       "      <td>116.9</td>\n",
       "      <td>117.8</td>\n",
       "    </tr>\n",
       "    <tr>\n",
       "      <th>2007</th>\n",
       "      <td>834.0</td>\n",
       "      <td>739.0</td>\n",
       "      <td>658.0</td>\n",
       "      <td>677.0</td>\n",
       "      <td>754.0</td>\n",
       "      <td>745.0</td>\n",
       "      <td>775.0</td>\n",
       "      <td>655.0</td>\n",
       "      <td>651.0</td>\n",
       "      <td>763.0</td>\n",
       "      <td>...</td>\n",
       "      <td>0.638889</td>\n",
       "      <td>0.25</td>\n",
       "      <td>0.25</td>\n",
       "      <td>0.15625</td>\n",
       "      <td>0.1</td>\n",
       "      <td>116.0</td>\n",
       "      <td>116.2</td>\n",
       "      <td>116.2</td>\n",
       "      <td>116.9</td>\n",
       "      <td>117.8</td>\n",
       "    </tr>\n",
       "    <tr>\n",
       "      <th>2008</th>\n",
       "      <td>956.0</td>\n",
       "      <td>1144.0</td>\n",
       "      <td>985.0</td>\n",
       "      <td>1184.0</td>\n",
       "      <td>937.0</td>\n",
       "      <td>750.0</td>\n",
       "      <td>1173.0</td>\n",
       "      <td>890.0</td>\n",
       "      <td>991.0</td>\n",
       "      <td>855.0</td>\n",
       "      <td>...</td>\n",
       "      <td>0.638889</td>\n",
       "      <td>0.25</td>\n",
       "      <td>0.25</td>\n",
       "      <td>0.15625</td>\n",
       "      <td>0.1</td>\n",
       "      <td>116.0</td>\n",
       "      <td>116.2</td>\n",
       "      <td>116.2</td>\n",
       "      <td>116.9</td>\n",
       "      <td>117.8</td>\n",
       "    </tr>\n",
       "    <tr>\n",
       "      <th>2009</th>\n",
       "      <td>1277.0</td>\n",
       "      <td>1282.0</td>\n",
       "      <td>1373.0</td>\n",
       "      <td>1661.0</td>\n",
       "      <td>1427.0</td>\n",
       "      <td>986.0</td>\n",
       "      <td>1100.0</td>\n",
       "      <td>1085.0</td>\n",
       "      <td>1075.0</td>\n",
       "      <td>1188.0</td>\n",
       "      <td>...</td>\n",
       "      <td>0.638889</td>\n",
       "      <td>0.25</td>\n",
       "      <td>0.25</td>\n",
       "      <td>0.15625</td>\n",
       "      <td>0.1</td>\n",
       "      <td>116.0</td>\n",
       "      <td>116.2</td>\n",
       "      <td>116.2</td>\n",
       "      <td>116.9</td>\n",
       "      <td>117.8</td>\n",
       "    </tr>\n",
       "    <tr>\n",
       "      <th>2010</th>\n",
       "      <td>1357.0</td>\n",
       "      <td>1395.0</td>\n",
       "      <td>1476.0</td>\n",
       "      <td>2267.0</td>\n",
       "      <td>1371.0</td>\n",
       "      <td>1280.0</td>\n",
       "      <td>1325.0</td>\n",
       "      <td>1270.0</td>\n",
       "      <td>1240.0</td>\n",
       "      <td>1201.0</td>\n",
       "      <td>...</td>\n",
       "      <td>0.638889</td>\n",
       "      <td>0.25</td>\n",
       "      <td>0.25</td>\n",
       "      <td>0.15625</td>\n",
       "      <td>0.1</td>\n",
       "      <td>116.0</td>\n",
       "      <td>116.2</td>\n",
       "      <td>116.2</td>\n",
       "      <td>116.9</td>\n",
       "      <td>117.8</td>\n",
       "    </tr>\n",
       "  </tbody>\n",
       "</table>\n",
       "<p>5 rows × 76 columns</p>\n",
       "</div>"
      ],
      "text/plain": [
       "          mean_price 2020 Q1  mean_price 2020 Q2  mean_price 2020 Q3  \\\n",
       "postcode                                                               \n",
       "2000                  1541.0              1322.0              1631.0   \n",
       "2007                   834.0               739.0               658.0   \n",
       "2008                   956.0              1144.0               985.0   \n",
       "2009                  1277.0              1282.0              1373.0   \n",
       "2010                  1357.0              1395.0              1476.0   \n",
       "\n",
       "          mean_price 2020 Q4  mean_price 2021 Q1  median_price 2020 Q1  \\\n",
       "postcode                                                                 \n",
       "2000                  1379.0              2794.0                1225.0   \n",
       "2007                   677.0               754.0                 745.0   \n",
       "2008                  1184.0               937.0                 750.0   \n",
       "2009                  1661.0              1427.0                 986.0   \n",
       "2010                  2267.0              1371.0                1280.0   \n",
       "\n",
       "          median_price 2020 Q2  median_price 2020 Q3  median_price 2020 Q4  \\\n",
       "postcode                                                                     \n",
       "2000                    1000.0                1390.0                1110.0   \n",
       "2007                     775.0                 655.0                 651.0   \n",
       "2008                    1173.0                 890.0                 991.0   \n",
       "2009                    1100.0                1085.0                1075.0   \n",
       "2010                    1325.0                1270.0                1240.0   \n",
       "\n",
       "          median_price 2021 Q1  ...  Rate 2020 Q1  Rate 2020 Q2  Rate 2020 Q3  \\\n",
       "postcode                        ...                                             \n",
       "2000                    1371.0  ...      0.638889          0.25          0.25   \n",
       "2007                     763.0  ...      0.638889          0.25          0.25   \n",
       "2008                     855.0  ...      0.638889          0.25          0.25   \n",
       "2009                    1188.0  ...      0.638889          0.25          0.25   \n",
       "2010                    1201.0  ...      0.638889          0.25          0.25   \n",
       "\n",
       "          Rate 2020 Q4  Rate 2021 Q1  constr_index 2020 Q1  \\\n",
       "postcode                                                     \n",
       "2000           0.15625           0.1                 116.0   \n",
       "2007           0.15625           0.1                 116.0   \n",
       "2008           0.15625           0.1                 116.0   \n",
       "2009           0.15625           0.1                 116.0   \n",
       "2010           0.15625           0.1                 116.0   \n",
       "\n",
       "          constr_index 2020 Q2  constr_index 2020 Q3  constr_index 2020 Q4  \\\n",
       "postcode                                                                     \n",
       "2000                     116.2                 116.2                 116.9   \n",
       "2007                     116.2                 116.2                 116.9   \n",
       "2008                     116.2                 116.2                 116.9   \n",
       "2009                     116.2                 116.2                 116.9   \n",
       "2010                     116.2                 116.2                 116.9   \n",
       "\n",
       "          constr_index 2021 Q1  \n",
       "postcode                        \n",
       "2000                     117.8  \n",
       "2007                     117.8  \n",
       "2008                     117.8  \n",
       "2009                     117.8  \n",
       "2010                     117.8  \n",
       "\n",
       "[5 rows x 76 columns]"
      ]
     },
     "execution_count": 6,
     "metadata": {},
     "output_type": "execute_result"
    }
   ],
   "source": [
    "modelDF = pd.read_csv(\"Files/Cleaned/Postcode-based/Unstacked_Sales_Rent_5Quarters_Imputed_pcFeatures.csv\",\n",
    "                     index_col=\"postcode\")\n",
    "modelDF.head()"
   ]
  },
  {
   "cell_type": "code",
   "execution_count": 7,
   "id": "cb906cf6",
   "metadata": {},
   "outputs": [
    {
     "data": {
      "text/html": [
       "<div>\n",
       "<style scoped>\n",
       "    .dataframe tbody tr th:only-of-type {\n",
       "        vertical-align: middle;\n",
       "    }\n",
       "\n",
       "    .dataframe tbody tr th {\n",
       "        vertical-align: top;\n",
       "    }\n",
       "\n",
       "    .dataframe thead th {\n",
       "        text-align: right;\n",
       "    }\n",
       "</style>\n",
       "<table border=\"1\" class=\"dataframe\">\n",
       "  <thead>\n",
       "    <tr style=\"text-align: right;\">\n",
       "      <th></th>\n",
       "      <th>median_price 2020 Q1</th>\n",
       "      <th>median_price 2020 Q2</th>\n",
       "      <th>median_price 2020 Q3</th>\n",
       "      <th>median_price 2020 Q4</th>\n",
       "      <th>median_price 2021 Q1</th>\n",
       "      <th>median_rent_newb 2020 Q1</th>\n",
       "      <th>median_rent_newb 2020 Q2</th>\n",
       "      <th>median_rent_newb 2020 Q3</th>\n",
       "      <th>median_rent_newb 2020 Q4</th>\n",
       "      <th>median_rent_newb 2021 Q1</th>\n",
       "      <th>...</th>\n",
       "      <th>Rate 2020 Q1</th>\n",
       "      <th>Rate 2020 Q2</th>\n",
       "      <th>Rate 2020 Q3</th>\n",
       "      <th>Rate 2020 Q4</th>\n",
       "      <th>Rate 2021 Q1</th>\n",
       "      <th>constr_index 2020 Q1</th>\n",
       "      <th>constr_index 2020 Q2</th>\n",
       "      <th>constr_index 2020 Q3</th>\n",
       "      <th>constr_index 2020 Q4</th>\n",
       "      <th>constr_index 2021 Q1</th>\n",
       "    </tr>\n",
       "    <tr>\n",
       "      <th>postcode</th>\n",
       "      <th></th>\n",
       "      <th></th>\n",
       "      <th></th>\n",
       "      <th></th>\n",
       "      <th></th>\n",
       "      <th></th>\n",
       "      <th></th>\n",
       "      <th></th>\n",
       "      <th></th>\n",
       "      <th></th>\n",
       "      <th></th>\n",
       "      <th></th>\n",
       "      <th></th>\n",
       "      <th></th>\n",
       "      <th></th>\n",
       "      <th></th>\n",
       "      <th></th>\n",
       "      <th></th>\n",
       "      <th></th>\n",
       "      <th></th>\n",
       "      <th></th>\n",
       "    </tr>\n",
       "  </thead>\n",
       "  <tbody>\n",
       "    <tr>\n",
       "      <th>2000</th>\n",
       "      <td>1225.0</td>\n",
       "      <td>1000.0</td>\n",
       "      <td>1390.0</td>\n",
       "      <td>1110.0</td>\n",
       "      <td>1371.0</td>\n",
       "      <td>700.0</td>\n",
       "      <td>630.0</td>\n",
       "      <td>600.0</td>\n",
       "      <td>550.0</td>\n",
       "      <td>600.0</td>\n",
       "      <td>...</td>\n",
       "      <td>0.638889</td>\n",
       "      <td>0.25</td>\n",
       "      <td>0.25</td>\n",
       "      <td>0.15625</td>\n",
       "      <td>0.1</td>\n",
       "      <td>116.0</td>\n",
       "      <td>116.2</td>\n",
       "      <td>116.2</td>\n",
       "      <td>116.9</td>\n",
       "      <td>117.8</td>\n",
       "    </tr>\n",
       "    <tr>\n",
       "      <th>2007</th>\n",
       "      <td>745.0</td>\n",
       "      <td>775.0</td>\n",
       "      <td>655.0</td>\n",
       "      <td>651.0</td>\n",
       "      <td>763.0</td>\n",
       "      <td>550.0</td>\n",
       "      <td>560.0</td>\n",
       "      <td>500.0</td>\n",
       "      <td>480.0</td>\n",
       "      <td>455.0</td>\n",
       "      <td>...</td>\n",
       "      <td>0.638889</td>\n",
       "      <td>0.25</td>\n",
       "      <td>0.25</td>\n",
       "      <td>0.15625</td>\n",
       "      <td>0.1</td>\n",
       "      <td>116.0</td>\n",
       "      <td>116.2</td>\n",
       "      <td>116.2</td>\n",
       "      <td>116.9</td>\n",
       "      <td>117.8</td>\n",
       "    </tr>\n",
       "    <tr>\n",
       "      <th>2008</th>\n",
       "      <td>750.0</td>\n",
       "      <td>1173.0</td>\n",
       "      <td>890.0</td>\n",
       "      <td>991.0</td>\n",
       "      <td>855.0</td>\n",
       "      <td>595.0</td>\n",
       "      <td>535.0</td>\n",
       "      <td>530.0</td>\n",
       "      <td>490.0</td>\n",
       "      <td>500.0</td>\n",
       "      <td>...</td>\n",
       "      <td>0.638889</td>\n",
       "      <td>0.25</td>\n",
       "      <td>0.25</td>\n",
       "      <td>0.15625</td>\n",
       "      <td>0.1</td>\n",
       "      <td>116.0</td>\n",
       "      <td>116.2</td>\n",
       "      <td>116.2</td>\n",
       "      <td>116.9</td>\n",
       "      <td>117.8</td>\n",
       "    </tr>\n",
       "    <tr>\n",
       "      <th>2009</th>\n",
       "      <td>986.0</td>\n",
       "      <td>1100.0</td>\n",
       "      <td>1085.0</td>\n",
       "      <td>1075.0</td>\n",
       "      <td>1188.0</td>\n",
       "      <td>700.0</td>\n",
       "      <td>580.0</td>\n",
       "      <td>595.0</td>\n",
       "      <td>550.0</td>\n",
       "      <td>600.0</td>\n",
       "      <td>...</td>\n",
       "      <td>0.638889</td>\n",
       "      <td>0.25</td>\n",
       "      <td>0.25</td>\n",
       "      <td>0.15625</td>\n",
       "      <td>0.1</td>\n",
       "      <td>116.0</td>\n",
       "      <td>116.2</td>\n",
       "      <td>116.2</td>\n",
       "      <td>116.9</td>\n",
       "      <td>117.8</td>\n",
       "    </tr>\n",
       "    <tr>\n",
       "      <th>2010</th>\n",
       "      <td>1280.0</td>\n",
       "      <td>1325.0</td>\n",
       "      <td>1270.0</td>\n",
       "      <td>1240.0</td>\n",
       "      <td>1201.0</td>\n",
       "      <td>640.0</td>\n",
       "      <td>575.0</td>\n",
       "      <td>550.0</td>\n",
       "      <td>518.0</td>\n",
       "      <td>525.0</td>\n",
       "      <td>...</td>\n",
       "      <td>0.638889</td>\n",
       "      <td>0.25</td>\n",
       "      <td>0.25</td>\n",
       "      <td>0.15625</td>\n",
       "      <td>0.1</td>\n",
       "      <td>116.0</td>\n",
       "      <td>116.2</td>\n",
       "      <td>116.2</td>\n",
       "      <td>116.9</td>\n",
       "      <td>117.8</td>\n",
       "    </tr>\n",
       "  </tbody>\n",
       "</table>\n",
       "<p>5 rows × 71 columns</p>\n",
       "</div>"
      ],
      "text/plain": [
       "          median_price 2020 Q1  median_price 2020 Q2  median_price 2020 Q3  \\\n",
       "postcode                                                                     \n",
       "2000                    1225.0                1000.0                1390.0   \n",
       "2007                     745.0                 775.0                 655.0   \n",
       "2008                     750.0                1173.0                 890.0   \n",
       "2009                     986.0                1100.0                1085.0   \n",
       "2010                    1280.0                1325.0                1270.0   \n",
       "\n",
       "          median_price 2020 Q4  median_price 2021 Q1  \\\n",
       "postcode                                               \n",
       "2000                    1110.0                1371.0   \n",
       "2007                     651.0                 763.0   \n",
       "2008                     991.0                 855.0   \n",
       "2009                    1075.0                1188.0   \n",
       "2010                    1240.0                1201.0   \n",
       "\n",
       "          median_rent_newb 2020 Q1  median_rent_newb 2020 Q2  \\\n",
       "postcode                                                       \n",
       "2000                         700.0                     630.0   \n",
       "2007                         550.0                     560.0   \n",
       "2008                         595.0                     535.0   \n",
       "2009                         700.0                     580.0   \n",
       "2010                         640.0                     575.0   \n",
       "\n",
       "          median_rent_newb 2020 Q3  median_rent_newb 2020 Q4  \\\n",
       "postcode                                                       \n",
       "2000                         600.0                     550.0   \n",
       "2007                         500.0                     480.0   \n",
       "2008                         530.0                     490.0   \n",
       "2009                         595.0                     550.0   \n",
       "2010                         550.0                     518.0   \n",
       "\n",
       "          median_rent_newb 2021 Q1  ...  Rate 2020 Q1  Rate 2020 Q2  \\\n",
       "postcode                            ...                               \n",
       "2000                         600.0  ...      0.638889          0.25   \n",
       "2007                         455.0  ...      0.638889          0.25   \n",
       "2008                         500.0  ...      0.638889          0.25   \n",
       "2009                         600.0  ...      0.638889          0.25   \n",
       "2010                         525.0  ...      0.638889          0.25   \n",
       "\n",
       "          Rate 2020 Q3  Rate 2020 Q4  Rate 2021 Q1  constr_index 2020 Q1  \\\n",
       "postcode                                                                   \n",
       "2000              0.25       0.15625           0.1                 116.0   \n",
       "2007              0.25       0.15625           0.1                 116.0   \n",
       "2008              0.25       0.15625           0.1                 116.0   \n",
       "2009              0.25       0.15625           0.1                 116.0   \n",
       "2010              0.25       0.15625           0.1                 116.0   \n",
       "\n",
       "          constr_index 2020 Q2  constr_index 2020 Q3  constr_index 2020 Q4  \\\n",
       "postcode                                                                     \n",
       "2000                     116.2                 116.2                 116.9   \n",
       "2007                     116.2                 116.2                 116.9   \n",
       "2008                     116.2                 116.2                 116.9   \n",
       "2009                     116.2                 116.2                 116.9   \n",
       "2010                     116.2                 116.2                 116.9   \n",
       "\n",
       "          constr_index 2021 Q1  \n",
       "postcode                        \n",
       "2000                     117.8  \n",
       "2007                     117.8  \n",
       "2008                     117.8  \n",
       "2009                     117.8  \n",
       "2010                     117.8  \n",
       "\n",
       "[5 rows x 71 columns]"
      ]
     },
     "execution_count": 7,
     "metadata": {},
     "output_type": "execute_result"
    }
   ],
   "source": [
    "# drop mean price\n",
    "\n",
    "modelDF = modelDF.drop([\"mean_price 2020 Q1\", \"mean_price 2020 Q2\", \"mean_price 2020 Q3\",\n",
    "                        \"mean_price 2020 Q4\", \"mean_price 2021 Q1\"],\n",
    "                      axis=1)\n",
    "modelDF.head()"
   ]
  },
  {
   "cell_type": "raw",
   "id": "0cebf277",
   "metadata": {},
   "source": [
    "Can also use the following to find columns with mean in it\n",
    "meanList = [col for col in modelDF.columns if 'mean' in col]"
   ]
  },
  {
   "cell_type": "code",
   "execution_count": 8,
   "id": "33b02637",
   "metadata": {},
   "outputs": [
    {
     "data": {
      "text/html": [
       "<div>\n",
       "<style scoped>\n",
       "    .dataframe tbody tr th:only-of-type {\n",
       "        vertical-align: middle;\n",
       "    }\n",
       "\n",
       "    .dataframe tbody tr th {\n",
       "        vertical-align: top;\n",
       "    }\n",
       "\n",
       "    .dataframe thead th {\n",
       "        text-align: right;\n",
       "    }\n",
       "</style>\n",
       "<table border=\"1\" class=\"dataframe\">\n",
       "  <thead>\n",
       "    <tr style=\"text-align: right;\">\n",
       "      <th></th>\n",
       "      <th>median_price 2021 Q1</th>\n",
       "    </tr>\n",
       "  </thead>\n",
       "  <tbody>\n",
       "    <tr>\n",
       "      <th>median_price 2021 Q1</th>\n",
       "      <td>1.000000</td>\n",
       "    </tr>\n",
       "    <tr>\n",
       "      <th>median_price 2020 Q4</th>\n",
       "      <td>0.930251</td>\n",
       "    </tr>\n",
       "    <tr>\n",
       "      <th>median_price 2020 Q3</th>\n",
       "      <td>0.904187</td>\n",
       "    </tr>\n",
       "    <tr>\n",
       "      <th>median_price 2020 Q1</th>\n",
       "      <td>0.870872</td>\n",
       "    </tr>\n",
       "    <tr>\n",
       "      <th>median_price 2020 Q2</th>\n",
       "      <td>0.862534</td>\n",
       "    </tr>\n",
       "    <tr>\n",
       "      <th>median_rent_newb 2020 Q2</th>\n",
       "      <td>0.805860</td>\n",
       "    </tr>\n",
       "    <tr>\n",
       "      <th>median_rent_newb 2020 Q1</th>\n",
       "      <td>0.790065</td>\n",
       "    </tr>\n",
       "    <tr>\n",
       "      <th>median_rent_newb 2020 Q3</th>\n",
       "      <td>0.775346</td>\n",
       "    </tr>\n",
       "    <tr>\n",
       "      <th>median_rent_newb 2021 Q1</th>\n",
       "      <td>0.768671</td>\n",
       "    </tr>\n",
       "    <tr>\n",
       "      <th>median_rent_newb 2020 Q4</th>\n",
       "      <td>0.768110</td>\n",
       "    </tr>\n",
       "    <tr>\n",
       "      <th>INCP_HIGH</th>\n",
       "      <td>0.446493</td>\n",
       "    </tr>\n",
       "    <tr>\n",
       "      <th>YARRP 1996-2005</th>\n",
       "      <td>0.177254</td>\n",
       "    </tr>\n",
       "    <tr>\n",
       "      <th>YARRP &lt;1975</th>\n",
       "      <td>0.175231</td>\n",
       "    </tr>\n",
       "    <tr>\n",
       "      <th>YARRP 1976-1995</th>\n",
       "      <td>0.164266</td>\n",
       "    </tr>\n",
       "    <tr>\n",
       "      <th>CPRF_4</th>\n",
       "      <td>0.147039</td>\n",
       "    </tr>\n",
       "    <tr>\n",
       "      <th>35-54yo</th>\n",
       "      <td>0.122061</td>\n",
       "    </tr>\n",
       "    <tr>\n",
       "      <th>citizen_non_AU</th>\n",
       "      <td>0.119901</td>\n",
       "    </tr>\n",
       "    <tr>\n",
       "      <th>YARRP 2006-2016</th>\n",
       "      <td>0.114903</td>\n",
       "    </tr>\n",
       "    <tr>\n",
       "      <th>new_bonds_no 2020 Q4</th>\n",
       "      <td>0.103557</td>\n",
       "    </tr>\n",
       "    <tr>\n",
       "      <th>new_bonds_no 2020 Q3</th>\n",
       "      <td>0.103372</td>\n",
       "    </tr>\n",
       "  </tbody>\n",
       "</table>\n",
       "</div>"
      ],
      "text/plain": [
       "                          median_price 2021 Q1\n",
       "median_price 2021 Q1                  1.000000\n",
       "median_price 2020 Q4                  0.930251\n",
       "median_price 2020 Q3                  0.904187\n",
       "median_price 2020 Q1                  0.870872\n",
       "median_price 2020 Q2                  0.862534\n",
       "median_rent_newb 2020 Q2              0.805860\n",
       "median_rent_newb 2020 Q1              0.790065\n",
       "median_rent_newb 2020 Q3              0.775346\n",
       "median_rent_newb 2021 Q1              0.768671\n",
       "median_rent_newb 2020 Q4              0.768110\n",
       "INCP_HIGH                             0.446493\n",
       "YARRP 1996-2005                       0.177254\n",
       "YARRP <1975                           0.175231\n",
       "YARRP 1976-1995                       0.164266\n",
       "CPRF_4                                0.147039\n",
       "35-54yo                               0.122061\n",
       "citizen_non_AU                        0.119901\n",
       "YARRP 2006-2016                       0.114903\n",
       "new_bonds_no 2020 Q4                  0.103557\n",
       "new_bonds_no 2020 Q3                  0.103372"
      ]
     },
     "execution_count": 8,
     "metadata": {},
     "output_type": "execute_result"
    }
   ],
   "source": [
    "topCorr = (modelDF.corr())['median_price 2021 Q1'].sort_values(ascending=False).to_frame().head(20)\n",
    "topCorr"
   ]
  },
  {
   "cell_type": "markdown",
   "id": "b6712044",
   "metadata": {},
   "source": [
    "check: growth rate and predictors"
   ]
  },
  {
   "cell_type": "markdown",
   "id": "60cc48e1",
   "metadata": {},
   "source": [
    "## Baseline Regression Model\n",
    "\n",
    "**Questions**"
   ]
  },
  {
   "cell_type": "code",
   "execution_count": 9,
   "id": "ba2df58b",
   "metadata": {},
   "outputs": [],
   "source": [
    "from sklearn.metrics import r2_score"
   ]
  },
  {
   "cell_type": "code",
   "execution_count": 10,
   "id": "d7386987",
   "metadata": {},
   "outputs": [
    {
     "data": {
      "text/plain": [
       "0.8512838437038414"
      ]
     },
     "execution_count": 10,
     "metadata": {},
     "output_type": "execute_result"
    }
   ],
   "source": [
    "ypred_base = modelDF['median_price 2020 Q4']\n",
    "r2_score(ypred_base,modelDF['median_price 2021 Q1'])"
   ]
  },
  {
   "cell_type": "code",
   "execution_count": 11,
   "id": "a220b0b2",
   "metadata": {},
   "outputs": [
    {
     "name": "stdout",
     "output_type": "stream",
     "text": [
      "The target for our model is 85.0%\n"
     ]
    }
   ],
   "source": [
    "print(f'The target for our model is {round(r2_score(ypred_base,modelDF[\"median_price 2021 Q1\"]),2)*100}%')"
   ]
  },
  {
   "cell_type": "markdown",
   "id": "ea890373",
   "metadata": {},
   "source": [
    "## Linear Regression"
   ]
  },
  {
   "cell_type": "markdown",
   "id": "35f23e16",
   "metadata": {},
   "source": [
    "### Training with all features"
   ]
  },
  {
   "cell_type": "code",
   "execution_count": 12,
   "id": "4619a43d",
   "metadata": {},
   "outputs": [],
   "source": [
    "from sklearn.linear_model import LinearRegression"
   ]
  },
  {
   "cell_type": "code",
   "execution_count": 13,
   "id": "22945be7",
   "metadata": {},
   "outputs": [],
   "source": [
    "lr1=LinearRegression()"
   ]
  },
  {
   "cell_type": "markdown",
   "id": "d17aecbd",
   "metadata": {},
   "source": [
    "Choosing a `random_state` to ensure we get the same features and accuracy with each run. "
   ]
  },
  {
   "cell_type": "code",
   "execution_count": 14,
   "id": "c3df12c2",
   "metadata": {},
   "outputs": [],
   "source": [
    "from sklearn.model_selection import train_test_split\n",
    "\n",
    "train, test = train_test_split(modelDF, train_size= 90, test_size=10, random_state= 42)"
   ]
  },
  {
   "cell_type": "code",
   "execution_count": 15,
   "id": "2ba4911d",
   "metadata": {},
   "outputs": [],
   "source": [
    "X_train = train.drop(columns= 'median_price 2021 Q1')\n",
    "y_train = train['median_price 2021 Q1']\n",
    "\n",
    "X_test = test.drop(columns= 'median_price 2021 Q1')\n",
    "y_test = test['median_price 2021 Q1']"
   ]
  },
  {
   "cell_type": "code",
   "execution_count": 16,
   "id": "c0800bce",
   "metadata": {},
   "outputs": [
    {
     "name": "stdout",
     "output_type": "stream",
     "text": [
      "y = x * [ 1.19903349e-02  2.94439467e-01  6.86296352e-01  1.91616073e-01\n",
      "  1.82640110e-01  1.90435835e-01 -9.14446079e-01  6.87578618e-01\n",
      " -3.02463412e-01  3.63620414e-01 -6.70964384e-01 -1.11754558e-01\n",
      " -5.99848398e-02 -7.02126837e-02  1.01839514e+01 -9.70109299e-01\n",
      "  5.95559667e+00 -2.26904397e+00 -4.77918933e+00 -4.03186436e-01\n",
      "  6.03381469e-02 -2.40245747e-01  1.96401648e-01  3.48632141e-01\n",
      "  1.80138119e-01  3.17761055e-01  4.05421777e-01  3.54550751e-01\n",
      " -1.05704901e+01 -1.12574211e+01 -1.07914628e+01 -9.80199345e+00\n",
      " -6.56643644e+00 -1.02102542e+01  1.00483021e+01 -5.27274593e+00\n",
      " -5.90566133e+00 -5.24314120e+00 -5.36601596e+00 -5.08122882e+00\n",
      " -4.86106612e+00 -5.26631212e+00  5.24509587e+00 -3.93498498e-02\n",
      "  2.34227909e-01  1.39639685e-02 -4.20819169e-01  7.51760269e-01\n",
      " -4.45973370e-01  2.57169903e-01 -6.67642052e-28 -3.33821026e-28\n",
      "  3.33821026e-28  3.33821026e-28  6.67642052e-28  3.33821026e-28\n",
      "  8.34552565e-29 -2.54689138e-28  0.00000000e+00 -4.17276282e-29\n",
      "  0.00000000e+00  0.00000000e+00  0.00000000e+00  0.00000000e+00\n",
      " -8.34552565e-29  0.00000000e+00  1.30400838e-25  1.30627088e-25\n",
      "  0.00000000e+00 -1.29162554e-25] + -139.76258886955964\n"
     ]
    }
   ],
   "source": [
    "lr1.fit(X_train, y_train)\n",
    "print(\"y = x *\", lr1.coef_, \"+\", lr1.intercept_)"
   ]
  },
  {
   "cell_type": "code",
   "execution_count": 17,
   "id": "d784d4ab",
   "metadata": {
    "scrolled": true
   },
   "outputs": [
    {
     "data": {
      "text/html": [
       "<div>\n",
       "<style scoped>\n",
       "    .dataframe tbody tr th:only-of-type {\n",
       "        vertical-align: middle;\n",
       "    }\n",
       "\n",
       "    .dataframe tbody tr th {\n",
       "        vertical-align: top;\n",
       "    }\n",
       "\n",
       "    .dataframe thead th {\n",
       "        text-align: right;\n",
       "    }\n",
       "</style>\n",
       "<table border=\"1\" class=\"dataframe\">\n",
       "  <thead>\n",
       "    <tr style=\"text-align: right;\">\n",
       "      <th></th>\n",
       "      <th>coeff</th>\n",
       "    </tr>\n",
       "  </thead>\n",
       "  <tbody>\n",
       "    <tr>\n",
       "      <th>sales_no 2020 Q1</th>\n",
       "      <td>10.183951</td>\n",
       "    </tr>\n",
       "    <tr>\n",
       "      <th>CPRF_HHOLD_NO</th>\n",
       "      <td>10.048302</td>\n",
       "    </tr>\n",
       "    <tr>\n",
       "      <th>sales_no 2020 Q3</th>\n",
       "      <td>5.955597</td>\n",
       "    </tr>\n",
       "    <tr>\n",
       "      <th>population_2016</th>\n",
       "      <td>5.245096</td>\n",
       "    </tr>\n",
       "    <tr>\n",
       "      <th>YARRP 1996-2005</th>\n",
       "      <td>0.751760</td>\n",
       "    </tr>\n",
       "    <tr>\n",
       "      <th>...</th>\n",
       "      <td>...</td>\n",
       "    </tr>\n",
       "    <tr>\n",
       "      <th>CPRF_5</th>\n",
       "      <td>-9.801993</td>\n",
       "    </tr>\n",
       "    <tr>\n",
       "      <th>CPRF_na</th>\n",
       "      <td>-10.210254</td>\n",
       "    </tr>\n",
       "    <tr>\n",
       "      <th>CPRF_2</th>\n",
       "      <td>-10.570490</td>\n",
       "    </tr>\n",
       "    <tr>\n",
       "      <th>CPRF_4</th>\n",
       "      <td>-10.791463</td>\n",
       "    </tr>\n",
       "    <tr>\n",
       "      <th>CPRF_3</th>\n",
       "      <td>-11.257421</td>\n",
       "    </tr>\n",
       "  </tbody>\n",
       "</table>\n",
       "<p>70 rows × 1 columns</p>\n",
       "</div>"
      ],
      "text/plain": [
       "                      coeff\n",
       "sales_no 2020 Q1  10.183951\n",
       "CPRF_HHOLD_NO     10.048302\n",
       "sales_no 2020 Q3   5.955597\n",
       "population_2016    5.245096\n",
       "YARRP 1996-2005    0.751760\n",
       "...                     ...\n",
       "CPRF_5            -9.801993\n",
       "CPRF_na          -10.210254\n",
       "CPRF_2           -10.570490\n",
       "CPRF_4           -10.791463\n",
       "CPRF_3           -11.257421\n",
       "\n",
       "[70 rows x 1 columns]"
      ]
     },
     "execution_count": 17,
     "metadata": {},
     "output_type": "execute_result"
    }
   ],
   "source": [
    "coeffDF1 = pd.DataFrame(lr1.coef_, X_train.columns, columns = ['coeff'])\n",
    "coeffDF1 = coeffDF1.sort_values(ascending= False, by='coeff')\n",
    "coeffDF1"
   ]
  },
  {
   "cell_type": "markdown",
   "id": "f215dfe4",
   "metadata": {},
   "source": [
    "- More positive = more influence on the prediction\n",
    "\n",
    "- more negative = less influence on the prediction\n",
    "\n",
    "**CAREFUL:** scale of prediction variables is not the same. One feature might have high numbers and another might be small which will have different 'weights' or influence on the model. "
   ]
  },
  {
   "cell_type": "code",
   "execution_count": 18,
   "id": "b4ae6c80",
   "metadata": {},
   "outputs": [
    {
     "name": "stdout",
     "output_type": "stream",
     "text": [
      "MSE: 19763.288412341117\n",
      "R Squared: 0.9413412213434427\n"
     ]
    }
   ],
   "source": [
    "trainPred = lr1.predict(X_train)\n",
    "trainMse = ((np.array(y_train)-trainPred)**2).sum()/len(y_train)\n",
    "trainR2 = r2_score(y_train, trainPred)\n",
    "print(\"MSE:\", trainMse)\n",
    "print(\"R Squared:\", trainR2)"
   ]
  },
  {
   "cell_type": "code",
   "execution_count": 19,
   "id": "af77ee17",
   "metadata": {},
   "outputs": [
    {
     "name": "stdout",
     "output_type": "stream",
     "text": [
      "MSE: 114398.35241005286\n",
      "R Squared: 0.6634291386181677\n"
     ]
    }
   ],
   "source": [
    "testPred = lr1.predict(X_test)\n",
    "testMse = ((np.array(y_test)-testPred)**2).sum()/len(y_test)\n",
    "testR2 = r2_score(y_test, testPred)\n",
    "print(\"MSE:\", testMse)\n",
    "print(\"R Squared:\", testR2)"
   ]
  },
  {
   "cell_type": "markdown",
   "id": "b9606acd",
   "metadata": {},
   "source": [
    "Training with all the features is not great. This is expected as we want to find which features will perform well in the model. Performing a cross validation to check the mean scores across 10 folds"
   ]
  },
  {
   "cell_type": "markdown",
   "id": "0a8a8c65",
   "metadata": {},
   "source": [
    "### Cross validation (CV) with all features"
   ]
  },
  {
   "cell_type": "code",
   "execution_count": 20,
   "id": "6999af64",
   "metadata": {},
   "outputs": [],
   "source": [
    "from sklearn.model_selection import cross_val_score\n",
    "from sklearn.model_selection import KFold"
   ]
  },
  {
   "cell_type": "markdown",
   "id": "23a1dbc6",
   "metadata": {},
   "source": [
    "With all features"
   ]
  },
  {
   "cell_type": "code",
   "execution_count": 21,
   "id": "bc673838",
   "metadata": {
    "scrolled": true
   },
   "outputs": [
    {
     "data": {
      "text/plain": [
       "array([-0.10180411,  0.44892269,  0.92953399,  0.68851822,  0.85884932,\n",
       "        0.82646434, -1.79621623,  0.9735757 ,  0.89113633,  0.96860868,\n",
       "        0.88097209,  0.84852992,  0.81934492,  0.80009819,  0.98351074,\n",
       "        0.90028844,  0.72458023,  0.63557351,  0.94284205,  0.435299  ,\n",
       "        0.95070745,  0.808129  , -0.79566734,  0.84924344,  0.55054976,\n",
       "        0.95529597,  0.72570372,  0.96249607,  0.86946873,  0.95990927,\n",
       "        0.69730616,  0.95623177,  0.7358749 ,  0.68831963,  0.33180051,\n",
       "        0.93218097,  0.68776126,  0.70660433,  0.42940826,  0.83482009,\n",
       "        0.35303364,  0.94850195,  0.76677487,  0.97055369,  0.92312006,\n",
       "        0.90138849,  0.85400206,  0.8022366 ,  0.90010557,  0.66672482,\n",
       "        0.86731204,  0.80925497,  0.92455853,  0.85725762,  0.95888558,\n",
       "        0.97882924,  0.93155856,  0.9300459 ,  0.88765795,  0.95678262,\n",
       "       -2.84264606,  0.95190079,  0.25010475,  0.22337055,  0.54111768,\n",
       "        0.89202044,  0.83700244,  0.        ,  0.4630772 ,  0.97544293,\n",
       "        0.16799985,  0.84486161, -0.15345261,  0.89877052,  0.99067883,\n",
       "        0.92462728,  0.89314903, -2.05227845,  0.80147666,  0.92515061,\n",
       "        0.17494469,  0.9494901 ,  0.86441858,  0.93758944,  0.91042926,\n",
       "       -0.07671269,  0.82806237,  0.96009129,  0.8139961 ,  0.9166434 ,\n",
       "        0.94884445,  0.93230561,  0.97863347,  0.81051702,  0.92991879,\n",
       "        0.74964698,  0.97532271,  0.96303414,  0.74747314,  0.98003036])"
      ]
     },
     "execution_count": 21,
     "metadata": {},
     "output_type": "execute_result"
    }
   ],
   "source": [
    "lr= LinearRegression()\n",
    "score = cross_val_score(lr, modelDF.drop(columns='median_price 2021 Q1'), \n",
    "                        modelDF['median_price 2021 Q1'],                      \n",
    "                        cv=KFold(n_splits=100, shuffle=True)) \n",
    "\n",
    "score"
   ]
  },
  {
   "cell_type": "code",
   "execution_count": 22,
   "id": "e4728122",
   "metadata": {},
   "outputs": [
    {
     "data": {
      "text/plain": [
       "0.6651040996858488"
      ]
     },
     "execution_count": 22,
     "metadata": {},
     "output_type": "execute_result"
    }
   ],
   "source": [
    "score.mean()"
   ]
  },
  {
   "cell_type": "markdown",
   "id": "de543da2",
   "metadata": {},
   "source": [
    "Mean of the score is lower than the baseline target. similar score to that of a single run seen in section 3.3.1"
   ]
  },
  {
   "cell_type": "markdown",
   "id": "4eebeb5b",
   "metadata": {},
   "source": [
    "### Training with the top 10 features from the correlation matrix"
   ]
  },
  {
   "cell_type": "markdown",
   "id": "77d89c13",
   "metadata": {},
   "source": [
    "Grabbing the top features from the correlation matrix we've created in section 3.1"
   ]
  },
  {
   "cell_type": "code",
   "execution_count": 23,
   "id": "d92e404a",
   "metadata": {},
   "outputs": [
    {
     "data": {
      "text/plain": [
       "['INCP_HIGH',\n",
       " 'YARRP 1996-2005',\n",
       " 'YARRP <1975',\n",
       " 'YARRP 1976-1995',\n",
       " 'CPRF_4',\n",
       " '35-54yo',\n",
       " 'citizen_non_AU',\n",
       " 'YARRP 2006-2016',\n",
       " 'new_bonds_no 2020 Q4',\n",
       " 'new_bonds_no 2020 Q3']"
      ]
     },
     "execution_count": 23,
     "metadata": {},
     "output_type": "execute_result"
    }
   ],
   "source": [
    "topCorrList = list(topCorr.index[10:20])\n",
    "topCorrList"
   ]
  },
  {
   "cell_type": "markdown",
   "id": "5d49070a",
   "metadata": {},
   "source": [
    "Interesting, I wouldn't imagine these features would be highly correlated with the price sales of Q1 2021..."
   ]
  },
  {
   "cell_type": "code",
   "execution_count": 24,
   "id": "73101356",
   "metadata": {},
   "outputs": [],
   "source": [
    "X_train = train[topCorrList]\n",
    "y_train = train['median_price 2021 Q1']\n",
    "\n",
    "X_test = test[topCorrList]\n",
    "y_test = test['median_price 2021 Q1']"
   ]
  },
  {
   "cell_type": "code",
   "execution_count": 25,
   "id": "f0d8718e",
   "metadata": {},
   "outputs": [
    {
     "name": "stdout",
     "output_type": "stream",
     "text": [
      "y = x * [ 0.50168892  0.40871159  0.23962322 -0.1555504   0.10328363 -0.21807999\n",
      " -0.07642624  0.04674476 -0.82670392  0.11271635] + 795.3108066575437\n"
     ]
    }
   ],
   "source": [
    "lr2 = LinearRegression()\n",
    "lr2.fit(X_train, y_train)\n",
    "print(\"y = x *\", lr2.coef_, \"+\", lr2.intercept_)"
   ]
  },
  {
   "cell_type": "code",
   "execution_count": 26,
   "id": "c65cd93e",
   "metadata": {},
   "outputs": [
    {
     "data": {
      "text/html": [
       "<div>\n",
       "<style scoped>\n",
       "    .dataframe tbody tr th:only-of-type {\n",
       "        vertical-align: middle;\n",
       "    }\n",
       "\n",
       "    .dataframe tbody tr th {\n",
       "        vertical-align: top;\n",
       "    }\n",
       "\n",
       "    .dataframe thead th {\n",
       "        text-align: right;\n",
       "    }\n",
       "</style>\n",
       "<table border=\"1\" class=\"dataframe\">\n",
       "  <thead>\n",
       "    <tr style=\"text-align: right;\">\n",
       "      <th></th>\n",
       "      <th>coeff</th>\n",
       "    </tr>\n",
       "  </thead>\n",
       "  <tbody>\n",
       "    <tr>\n",
       "      <th>INCP_HIGH</th>\n",
       "      <td>0.501689</td>\n",
       "    </tr>\n",
       "    <tr>\n",
       "      <th>YARRP 1996-2005</th>\n",
       "      <td>0.408712</td>\n",
       "    </tr>\n",
       "    <tr>\n",
       "      <th>YARRP &lt;1975</th>\n",
       "      <td>0.239623</td>\n",
       "    </tr>\n",
       "    <tr>\n",
       "      <th>new_bonds_no 2020 Q3</th>\n",
       "      <td>0.112716</td>\n",
       "    </tr>\n",
       "    <tr>\n",
       "      <th>CPRF_4</th>\n",
       "      <td>0.103284</td>\n",
       "    </tr>\n",
       "    <tr>\n",
       "      <th>YARRP 2006-2016</th>\n",
       "      <td>0.046745</td>\n",
       "    </tr>\n",
       "    <tr>\n",
       "      <th>citizen_non_AU</th>\n",
       "      <td>-0.076426</td>\n",
       "    </tr>\n",
       "    <tr>\n",
       "      <th>YARRP 1976-1995</th>\n",
       "      <td>-0.155550</td>\n",
       "    </tr>\n",
       "    <tr>\n",
       "      <th>35-54yo</th>\n",
       "      <td>-0.218080</td>\n",
       "    </tr>\n",
       "    <tr>\n",
       "      <th>new_bonds_no 2020 Q4</th>\n",
       "      <td>-0.826704</td>\n",
       "    </tr>\n",
       "  </tbody>\n",
       "</table>\n",
       "</div>"
      ],
      "text/plain": [
       "                         coeff\n",
       "INCP_HIGH             0.501689\n",
       "YARRP 1996-2005       0.408712\n",
       "YARRP <1975           0.239623\n",
       "new_bonds_no 2020 Q3  0.112716\n",
       "CPRF_4                0.103284\n",
       "YARRP 2006-2016       0.046745\n",
       "citizen_non_AU       -0.076426\n",
       "YARRP 1976-1995      -0.155550\n",
       "35-54yo              -0.218080\n",
       "new_bonds_no 2020 Q4 -0.826704"
      ]
     },
     "execution_count": 26,
     "metadata": {},
     "output_type": "execute_result"
    }
   ],
   "source": [
    "coeffDF2 = pd.DataFrame(lr2.coef_, X_train.columns, columns = ['coeff'])\n",
    "coeffDF2 = coeffDF2.sort_values(ascending= False, by='coeff')\n",
    "coeffDF2"
   ]
  },
  {
   "cell_type": "markdown",
   "id": "31f3a7c4",
   "metadata": {},
   "source": [
    "All of these features found via the correlation matrix have a low influence on the model. "
   ]
  },
  {
   "cell_type": "code",
   "execution_count": 27,
   "id": "dc165f90",
   "metadata": {},
   "outputs": [
    {
     "name": "stdout",
     "output_type": "stream",
     "text": [
      "MSE: 197746.49488591324\n",
      "R Squared: 0.4130750089959967\n"
     ]
    }
   ],
   "source": [
    "trainPred = lr2.predict(X_train)\n",
    "trainMse = ((np.array(y_train)-trainPred)**2).sum()/len(y_train)\n",
    "trainR2 = r2_score(y_train, trainPred)\n",
    "print(\"MSE:\", trainMse)\n",
    "print(\"R Squared:\", trainR2)"
   ]
  },
  {
   "cell_type": "code",
   "execution_count": 28,
   "id": "69ad046c",
   "metadata": {},
   "outputs": [
    {
     "name": "stdout",
     "output_type": "stream",
     "text": [
      "MSE: 173593.96091381414\n",
      "R Squared: 0.4892700137321885\n"
     ]
    }
   ],
   "source": [
    "testPred = lr2.predict(X_test)\n",
    "testMse = ((np.array(y_test)-testPred)**2).sum()/len(y_test)\n",
    "testR2 = r2_score(y_test, testPred)\n",
    "print(\"MSE:\", testMse)\n",
    "print(\"R Squared:\", testR2)"
   ]
  },
  {
   "cell_type": "markdown",
   "id": "4a33c5ff",
   "metadata": {},
   "source": [
    "With the top 10 features from the correlation matrix, the model performs even worse. Next we will check the cross validation to see if this poor score is consistent"
   ]
  },
  {
   "cell_type": "markdown",
   "id": "8a7fd57c",
   "metadata": {},
   "source": [
    "### CV with top 10 features"
   ]
  },
  {
   "cell_type": "markdown",
   "id": "5c831601",
   "metadata": {},
   "source": [
    "We get consistently low scores for all folds. "
   ]
  },
  {
   "cell_type": "code",
   "execution_count": 29,
   "id": "7e10bcd7",
   "metadata": {
    "scrolled": true
   },
   "outputs": [
    {
     "data": {
      "text/plain": [
       "array([-2.20533571e-01, -1.03107298e-01,  7.12935791e-01, -1.50756064e+00,\n",
       "        2.14553332e-01,  4.28203834e-02,  8.79140286e-01, -4.89567879e-01,\n",
       "        6.33888936e-01,  3.32821508e-01,  2.43498986e-01,  5.37984396e-01,\n",
       "       -5.63186016e-01,  3.59425027e-01,  1.39265015e-01,  6.39421281e-01,\n",
       "        6.38589155e-01, -1.32032030e-01, -6.53497825e-01,  5.86259409e-01,\n",
       "        6.30043119e-01, -2.37089800e-01,  5.93519227e-01, -1.34671044e-01,\n",
       "        3.67366147e-01,  5.91052932e-01, -7.64122098e+00,  8.20574033e-01,\n",
       "        4.50667281e-01,  5.20871921e-01, -1.63297133e+00,  7.09652884e-01,\n",
       "        5.31303357e-01, -1.57405558e-01, -4.73680112e-01,  2.12664396e-01,\n",
       "        1.26121899e-01,  7.32966483e-01, -9.23226724e-01,  5.23630869e-01,\n",
       "        7.34526620e-02,  8.51719316e-01,  6.30839962e-01,  2.41499055e-01,\n",
       "       -1.14139862e+00,  3.94168912e-01, -5.06672182e-01,  5.63724091e-01,\n",
       "        1.68067502e-01, -1.68817978e+00, -9.23575999e-01, -2.27104745e-01,\n",
       "        6.78865764e-01,  9.46357379e-02,  2.11420214e-01,  2.88595495e-01,\n",
       "        2.16487761e-01, -4.25497073e-02,  2.87490706e-01, -1.88472478e+00,\n",
       "        5.60591100e-01,  3.59709121e-01,  5.40528280e-01, -2.75951110e+00,\n",
       "        7.01679428e-01, -2.46649555e-01,  6.01241736e-01,  8.38348535e-01,\n",
       "        4.69466303e-01,  3.92383966e-01, -4.27337488e-01, -2.62484782e-02,\n",
       "        3.95177944e-01, -1.62324674e+00,  9.33316951e-01,  5.33979447e-01,\n",
       "        6.45377041e-01,  5.86194819e-01, -1.27584651e-02,  2.33748419e-01,\n",
       "       -9.53449919e-02,  9.88425824e-02,  3.53499823e-01, -2.39705219e+00,\n",
       "       -9.21459356e-01, -1.70585090e+01,  7.86866424e-01, -4.33078936e-01,\n",
       "        9.82651287e-01,  3.95335929e-01, -5.72882881e-01, -3.25930763e-01,\n",
       "        2.19033270e-01,  4.64829756e-01, -2.32845931e-01,  4.76229511e-01,\n",
       "       -1.70262926e+00,  5.61798003e-01, -1.24442796e+01,  5.78868891e-01])"
      ]
     },
     "execution_count": 29,
     "metadata": {},
     "output_type": "execute_result"
    }
   ],
   "source": [
    "lr= LinearRegression()\n",
    "score = cross_val_score(lr, modelDF[topCorrList], \n",
    "                        modelDF['median_price 2021 Q1'],                      \n",
    "                        cv=KFold(n_splits=100, shuffle=True)) \n",
    "\n",
    "score"
   ]
  },
  {
   "cell_type": "code",
   "execution_count": 30,
   "id": "3033da0d",
   "metadata": {},
   "outputs": [
    {
     "data": {
      "text/plain": [
       "-0.3238201753621993"
      ]
     },
     "execution_count": 30,
     "metadata": {},
     "output_type": "execute_result"
    }
   ],
   "source": [
    "score.mean()"
   ]
  },
  {
   "cell_type": "markdown",
   "id": "7710fc52",
   "metadata": {},
   "source": [
    "We saw in the training the $R^2$ was low. Cross validation has shown the varying performance on the model with these features, concluding the model performs poorly consistently. In other words, the model struggles to explain the variance in the data. "
   ]
  },
  {
   "cell_type": "markdown",
   "id": "d8d630f4",
   "metadata": {
    "heading_collapsed": true
   },
   "source": [
    "## Cross Validation\n"
   ]
  },
  {
   "cell_type": "markdown",
   "id": "98b3ab41",
   "metadata": {
    "heading_collapsed": true,
    "hidden": true
   },
   "source": [
    "### CV with all features"
   ]
  },
  {
   "cell_type": "raw",
   "id": "152581ec",
   "metadata": {
    "hidden": true
   },
   "source": [
    "from sklearn.model_selection import cross_val_score\n",
    "from sklearn.model_selection import KFold"
   ]
  },
  {
   "cell_type": "raw",
   "id": "fcdcfcc1",
   "metadata": {
    "hidden": true
   },
   "source": [
    "With all features"
   ]
  },
  {
   "cell_type": "raw",
   "id": "c2c7d5f8",
   "metadata": {
    "hidden": true
   },
   "source": [
    "lr= LinearRegression()\n",
    "score = cross_val_score(lr, modelDF.drop(columns='median_price 2021 Q1'), \n",
    "                        modelDF['median_price 2021 Q1'],                      \n",
    "                        cv=KFold(n_splits=100, shuffle=True)) \n",
    "\n",
    "score"
   ]
  },
  {
   "cell_type": "raw",
   "id": "694d42d9",
   "metadata": {
    "hidden": true
   },
   "source": [
    "CVscores"
   ]
  },
  {
   "cell_type": "markdown",
   "id": "32734400",
   "metadata": {},
   "source": [
    "## Feature Engineering\n",
    "Improve baseline model with different combinations and/or transformation of variables."
   ]
  },
  {
   "cell_type": "markdown",
   "id": "1582e218",
   "metadata": {
    "heading_collapsed": true
   },
   "source": [
    "### LR with RFE to find top 3 features \n",
    "- Should we consider looping through the model with a different data set each time so that we can get an average of what the best features are? Would also find mean accuracy."
   ]
  },
  {
   "cell_type": "code",
   "execution_count": 31,
   "id": "c36dedfb",
   "metadata": {
    "hidden": true
   },
   "outputs": [],
   "source": [
    "from sklearn.feature_selection import RFE"
   ]
  },
  {
   "cell_type": "code",
   "execution_count": 32,
   "id": "39ca633f",
   "metadata": {
    "hidden": true
   },
   "outputs": [],
   "source": [
    "X_train = train.drop(columns= 'median_price 2021 Q1')\n",
    "y_train = train['median_price 2021 Q1']\n",
    "\n",
    "X_test = test.drop(columns= 'median_price 2021 Q1')\n",
    "y_test = test['median_price 2021 Q1']"
   ]
  },
  {
   "cell_type": "code",
   "execution_count": 33,
   "id": "05724abd",
   "metadata": {
    "hidden": true
   },
   "outputs": [
    {
     "data": {
      "text/plain": [
       "RFE(estimator=LinearRegression(), n_features_to_select=3)"
      ]
     },
     "execution_count": 33,
     "metadata": {},
     "output_type": "execute_result"
    }
   ],
   "source": [
    "lrRFE = LinearRegression()\n",
    "rfe = RFE(estimator= lrRFE, n_features_to_select = 3, step = 1)\n",
    "rfe.fit(X_train, y_train)"
   ]
  },
  {
   "cell_type": "markdown",
   "id": "30026839",
   "metadata": {
    "hidden": true
   },
   "source": [
    "RFE found these features: "
   ]
  },
  {
   "cell_type": "code",
   "execution_count": 34,
   "id": "3f90006a",
   "metadata": {
    "hidden": true
   },
   "outputs": [
    {
     "data": {
      "text/plain": [
       "['CPRF_4', 'CPRF_6+', 'CPRF_na']"
      ]
     },
     "execution_count": 34,
     "metadata": {},
     "output_type": "execute_result"
    }
   ],
   "source": [
    "topFeatures = list(X_train.columns[rfe.support_ ==True])\n",
    "topFeatures"
   ]
  },
  {
   "cell_type": "code",
   "execution_count": 35,
   "id": "c0ad6069",
   "metadata": {
    "hidden": true
   },
   "outputs": [
    {
     "name": "stdout",
     "output_type": "stream",
     "text": [
      "MSE: 258211.81\n",
      "R Squared: 0.24\n"
     ]
    }
   ],
   "source": [
    "y_predict = rfe.predict(X_test)\n",
    "\n",
    "lrRFE_mse = ((np.array(y_test)-y_predict )**2).sum()/len(y_test)\n",
    "lrRFE_r2 = r2_score(y_test, y_predict )\n",
    "\n",
    "print(\"MSE:\", lrRFE_mse.round(2))\n",
    "print(\"R Squared:\", lrRFE_r2.round(2))"
   ]
  },
  {
   "cell_type": "markdown",
   "id": "3c9409f3",
   "metadata": {
    "hidden": true
   },
   "source": [
    "That is, the features in topFeatures gave an $R^2$ = 0.24. This value will change if we use a different `random_state` when splitting the data. "
   ]
  },
  {
   "cell_type": "markdown",
   "id": "8aa860a6",
   "metadata": {},
   "source": [
    "### Cross validating these top 3 features "
   ]
  },
  {
   "cell_type": "code",
   "execution_count": 51,
   "id": "9bcd76fd",
   "metadata": {},
   "outputs": [],
   "source": [
    "lr= LinearRegression()\n",
    "score = cross_val_score(lr, modelDF[topFeatures], \n",
    "                        modelDF['median_price 2021 Q1'],                      \n",
    "                        cv=KFold(n_splits=100, shuffle=True))"
   ]
  },
  {
   "cell_type": "code",
   "execution_count": 37,
   "id": "b0acd427",
   "metadata": {},
   "outputs": [
    {
     "data": {
      "text/plain": [
       "-0.9024677268181992"
      ]
     },
     "execution_count": 37,
     "metadata": {},
     "output_type": "execute_result"
    }
   ],
   "source": [
    "score.mean()"
   ]
  },
  {
   "cell_type": "markdown",
   "id": "43201e01",
   "metadata": {},
   "source": [
    "### Looping to get the best $R^2$, thus finding the top features to use. "
   ]
  },
  {
   "cell_type": "code",
   "execution_count": 38,
   "id": "bdd427e4",
   "metadata": {},
   "outputs": [],
   "source": [
    "r2= []\n",
    "mse = []\n",
    "nFeatures = []\n",
    "topFeatures = []\n",
    "for i in range(1,len(X_train.columns),1):\n",
    "    lrRFE = LinearRegression()\n",
    "    rfe = RFE(estimator= lrRFE, n_features_to_select = i, step = 1)\n",
    "    rfe.fit(X_train, y_train)\n",
    "    \n",
    "    y_predict = rfe.predict(X_test)\n",
    "\n",
    "\n",
    "    lrRFE_mse = ((np.array(y_test)-y_predict )**2).sum()/len(y_test)\n",
    "    lrRFE_r2 = r2_score(y_test, y_predict )\n",
    "    \n",
    "    topFeatures.append(list(X_train.columns[rfe.support_ ==True]))\n",
    "\n",
    "    r2.append(lrRFE_r2)\n",
    "    mse.append(lrRFE_mse)\n",
    "    nFeatures.append(i)\n",
    "    \n"
   ]
  },
  {
   "cell_type": "code",
   "execution_count": 39,
   "id": "320c1eea",
   "metadata": {},
   "outputs": [],
   "source": [
    "rfeTune = pd.DataFrame([nFeatures, r2,mse]).T"
   ]
  },
  {
   "cell_type": "code",
   "execution_count": 40,
   "id": "92e10efa",
   "metadata": {},
   "outputs": [],
   "source": [
    "rfeTune = rfeTune.rename(columns={0:'nFeatures',1:'r2', 2:'mse'})"
   ]
  },
  {
   "cell_type": "code",
   "execution_count": 41,
   "id": "81031db2",
   "metadata": {},
   "outputs": [
    {
     "data": {
      "text/html": [
       "<div>\n",
       "<style scoped>\n",
       "    .dataframe tbody tr th:only-of-type {\n",
       "        vertical-align: middle;\n",
       "    }\n",
       "\n",
       "    .dataframe tbody tr th {\n",
       "        vertical-align: top;\n",
       "    }\n",
       "\n",
       "    .dataframe thead th {\n",
       "        text-align: right;\n",
       "    }\n",
       "</style>\n",
       "<table border=\"1\" class=\"dataframe\">\n",
       "  <thead>\n",
       "    <tr style=\"text-align: right;\">\n",
       "      <th></th>\n",
       "      <th>nFeatures</th>\n",
       "      <th>r2</th>\n",
       "      <th>mse</th>\n",
       "    </tr>\n",
       "  </thead>\n",
       "  <tbody>\n",
       "    <tr>\n",
       "      <th>17</th>\n",
       "      <td>18.0</td>\n",
       "      <td>0.950533</td>\n",
       "      <td>16813.586688</td>\n",
       "    </tr>\n",
       "    <tr>\n",
       "      <th>18</th>\n",
       "      <td>19.0</td>\n",
       "      <td>0.946082</td>\n",
       "      <td>18326.543738</td>\n",
       "    </tr>\n",
       "    <tr>\n",
       "      <th>19</th>\n",
       "      <td>20.0</td>\n",
       "      <td>0.945738</td>\n",
       "      <td>18443.305486</td>\n",
       "    </tr>\n",
       "    <tr>\n",
       "      <th>22</th>\n",
       "      <td>23.0</td>\n",
       "      <td>0.942855</td>\n",
       "      <td>19423.138787</td>\n",
       "    </tr>\n",
       "    <tr>\n",
       "      <th>21</th>\n",
       "      <td>22.0</td>\n",
       "      <td>0.942802</td>\n",
       "      <td>19441.298017</td>\n",
       "    </tr>\n",
       "  </tbody>\n",
       "</table>\n",
       "</div>"
      ],
      "text/plain": [
       "    nFeatures        r2           mse\n",
       "17       18.0  0.950533  16813.586688\n",
       "18       19.0  0.946082  18326.543738\n",
       "19       20.0  0.945738  18443.305486\n",
       "22       23.0  0.942855  19423.138787\n",
       "21       22.0  0.942802  19441.298017"
      ]
     },
     "execution_count": 41,
     "metadata": {},
     "output_type": "execute_result"
    }
   ],
   "source": [
    "rfeTune.sort_values(ascending=False, by= 'r2').head()"
   ]
  },
  {
   "cell_type": "markdown",
   "id": "d45b99ee",
   "metadata": {},
   "source": [
    "When we use RFE with the parameter `n_features_to_select` increases to the total number of features. Storing this number:"
   ]
  },
  {
   "cell_type": "code",
   "execution_count": 42,
   "id": "964b91b2",
   "metadata": {},
   "outputs": [
    {
     "data": {
      "text/plain": [
       "18"
      ]
     },
     "execution_count": 42,
     "metadata": {},
     "output_type": "execute_result"
    }
   ],
   "source": [
    "bestNfeatures = int(rfeTune.sort_values(ascending=False, by= 'r2')['nFeatures'].iloc[0])\n",
    "bestNfeatures"
   ]
  },
  {
   "cell_type": "code",
   "execution_count": 43,
   "id": "6c02c818",
   "metadata": {
    "scrolled": false
   },
   "outputs": [
    {
     "data": {
      "image/png": "[encoded data removed]",
      "text/plain": [
       "<Figure size 1080x360 with 1 Axes>"
      ]
     },
     "metadata": {},
     "output_type": "display_data"
    }
   ],
   "source": [
    "# Plot the relationship\n",
    "plt.figure(figsize=(15,5))\n",
    "plt.plot(rfeTune['nFeatures'], rfeTune['r2'], marker='x')\n",
    "plt.xlabel('Number of features used in model', size=15)\n",
    "plt.ylabel('R$^2$',size=15)\n",
    "plt.title('Change in R2 as we train the model with increasing features', size=20)\n",
    "plt.show()"
   ]
  },
  {
   "cell_type": "markdown",
   "id": "77d4a973",
   "metadata": {},
   "source": [
    "Running the model with the best number of features"
   ]
  },
  {
   "cell_type": "code",
   "execution_count": 44,
   "id": "dd7c48eb",
   "metadata": {},
   "outputs": [
    {
     "data": {
      "text/plain": [
       "RFE(estimator=LinearRegression(), n_features_to_select=18)"
      ]
     },
     "execution_count": 44,
     "metadata": {},
     "output_type": "execute_result"
    }
   ],
   "source": [
    "lrRFE = LinearRegression()\n",
    "rfe = RFE(estimator= lrRFE, n_features_to_select = bestNfeatures , step = 1)\n",
    "rfe.fit(X_train, y_train)"
   ]
  },
  {
   "cell_type": "markdown",
   "id": "9ae2cf86",
   "metadata": {},
   "source": [
    "Storing the features that have been determined by RFE "
   ]
  },
  {
   "cell_type": "code",
   "execution_count": 45,
   "id": "e24a794e",
   "metadata": {},
   "outputs": [],
   "source": [
    "topFeatures = list(X_train.columns[rfe.support_ ==True])"
   ]
  },
  {
   "cell_type": "code",
   "execution_count": 46,
   "id": "47babf28",
   "metadata": {
    "scrolled": true
   },
   "outputs": [
    {
     "data": {
      "text/plain": [
       "['median_price 2020 Q4',\n",
       " 'median_rent_newb 2020 Q1',\n",
       " 'median_rent_newb 2020 Q3',\n",
       " 'sales_no 2020 Q1',\n",
       " 'sales_no 2021 Q1',\n",
       " 'CPRF_2',\n",
       " 'CPRF_3',\n",
       " 'CPRF_4',\n",
       " 'CPRF_5',\n",
       " 'CPRF_6+',\n",
       " 'CPRF_na',\n",
       " 'CPRF_HHOLD_NO',\n",
       " '0-4yo',\n",
       " '15-24yo',\n",
       " '25-34yo',\n",
       " '35-54yo',\n",
       " '65+yo',\n",
       " 'population_2016']"
      ]
     },
     "execution_count": 46,
     "metadata": {},
     "output_type": "execute_result"
    }
   ],
   "source": [
    "topFeatures"
   ]
  },
  {
   "cell_type": "code",
   "execution_count": 48,
   "id": "7ba183bf",
   "metadata": {},
   "outputs": [
    {
     "name": "stdout",
     "output_type": "stream",
     "text": [
      "MSE: 16813.59\n",
      "R Squared: 0.95\n"
     ]
    }
   ],
   "source": [
    "y_predict = rfe.predict(X_test)\n",
    "\n",
    "lrRFE_mse = ((np.array(y_test)-y_predict )**2).sum()/len(y_test)\n",
    "lrRFE_r2 = r2_score(y_test, y_predict )\n",
    "\n",
    "print(\"MSE:\", lrRFE_mse.round(2))\n",
    "print(\"R Squared:\", lrRFE_r2.round(2))"
   ]
  },
  {
   "cell_type": "markdown",
   "id": "336b19b7",
   "metadata": {},
   "source": [
    "### CV with the determined top features"
   ]
  },
  {
   "cell_type": "code",
   "execution_count": 49,
   "id": "7e10bcd7",
   "metadata": {
    "scrolled": false
   },
   "outputs": [
    {
     "data": {
      "text/plain": [
       "array([ -0.97420477,   0.96243474,   0.76147173,   0.99655831,\n",
       "         0.86402697,   0.56101237,   0.86955566,   0.83161376,\n",
       "         0.97079631,   0.90363651,   0.9690436 ,  -0.22457355,\n",
       "         0.82906145,   0.95321947,   0.82224554,  -0.02427151,\n",
       "         0.62282062,   0.85117072,  -0.35640477,   0.7577515 ,\n",
       "         0.95049087,   0.90128451,   0.84820103,   0.93907653,\n",
       "         0.91083032,  -4.08009742,   0.5961753 ,   0.48434844,\n",
       "         0.96341768,   0.72688847,   0.99093313,   0.95436916,\n",
       "         0.94936054,   0.89951804,   0.98932149,   0.56483345,\n",
       "         0.61697175,   0.85813453,   0.7288585 ,   0.86156314,\n",
       "         0.94011135,   0.89595708,   0.63266977,   0.81186322,\n",
       "         0.93416335,   0.83770219,   0.98281904,   0.58061555,\n",
       "         0.89506428,   0.98724362,   0.85371469,   0.97601662,\n",
       "         0.97249532,   0.98701201,   0.78180912,   0.88019519,\n",
       "        -0.36157307,   0.95103143,   0.99062563,   0.16610336,\n",
       "         0.87666131,   0.95569762,   0.4596769 ,   0.49447562,\n",
       "         0.96568201,   0.91378513,   0.98052604,   0.89717695,\n",
       "         0.91265343,   0.96858416,   0.68537081,   0.44288691,\n",
       "         0.69187174,   0.98174171,  -0.19254764,   0.22152193,\n",
       "         0.8358439 ,   0.70814337,   0.91212639,   0.92929897,\n",
       "         0.97529227,   0.89724629,   0.86208973,   0.90985573,\n",
       "         0.74347571,   0.93776371,   0.88189392,   0.40190669,\n",
       "         0.89551846,   0.15597498,   0.65403706,   0.73695015,\n",
       "       -13.27648249,   0.9154046 ,   0.97766998,   0.82756038,\n",
       "         0.83816578,   0.97390032,   0.84791175,  -0.42075137])"
      ]
     },
     "execution_count": 49,
     "metadata": {},
     "output_type": "execute_result"
    }
   ],
   "source": [
    "lr= LinearRegression()\n",
    "score = cross_val_score(lr, modelDF[topFeatures], \n",
    "                        modelDF['median_price 2021 Q1'],                      \n",
    "                        cv=KFold(n_splits=100, shuffle=True)) \n",
    "\n",
    "score"
   ]
  },
  {
   "cell_type": "code",
   "execution_count": 50,
   "id": "3033da0d",
   "metadata": {},
   "outputs": [
    {
     "data": {
      "text/plain": [
       "0.5467364477989098"
      ]
     },
     "execution_count": 50,
     "metadata": {},
     "output_type": "execute_result"
    }
   ],
   "source": [
    "score.mean()"
   ]
  },
  {
   "cell_type": "markdown",
   "id": "9183dc15",
   "metadata": {},
   "source": [
    "Significant improvement in the mean of the cross validation score."
   ]
  },
  {
   "cell_type": "markdown",
   "id": "89a466e9",
   "metadata": {},
   "source": [
    "## Improved Model\n",
    "Test if baseline model can be improved by using more sophisticated algorithms."
   ]
  },
  {
   "cell_type": "markdown",
   "id": "8a48cfe8",
   "metadata": {
    "heading_collapsed": true
   },
   "source": [
    "# Clustering (Ken & Felix)"
   ]
  },
  {
   "cell_type": "markdown",
   "id": "95ed3d54",
   "metadata": {},
   "source": [
    "# Distinct Models per Clusters\n"
   ]
  },
  {
   "cell_type": "markdown",
   "id": "aa4ba865",
   "metadata": {},
   "source": [
    "# Results\n"
   ]
  },
  {
   "cell_type": "markdown",
   "id": "71db9e4a",
   "metadata": {},
   "source": [
    "# Conclusion and Outlook\n",
    "Summarise findings and elaborate on implications and scope of model with regards to data sufficiency."
   ]
  }
 ],
 "metadata": {
  "kernelspec": {
   "display_name": "Python 3",
   "language": "python",
   "name": "python3"
  },
  "language_info": {
   "codemirror_mode": {
    "name": "ipython",
    "version": 3
   },
   "file_extension": ".py",
   "mimetype": "text/x-python",
   "name": "python",
   "nbconvert_exporter": "python",
   "pygments_lexer": "ipython3",
   "version": "3.7.10"
  },
  "toc": {
   "base_numbering": 1,
   "nav_menu": {},
   "number_sections": true,
   "sideBar": true,
   "skip_h1_title": false,
   "title_cell": "Table of Contents",
   "title_sidebar": "Contents",
   "toc_cell": true,
   "toc_position": {
    "height": "calc(100% - 180px)",
    "left": "10px",
    "top": "150px",
    "width": "233.267px"
   },
   "toc_section_display": true,
   "toc_window_display": true
  },
  "varInspector": {
   "cols": {
    "lenName": 16,
    "lenType": 16,
    "lenVar": 40
   },
   "kernels_config": {
    "python": {
     "delete_cmd_postfix": "",
     "delete_cmd_prefix": "del ",
     "library": "var_list.py",
     "varRefreshCmd": "print(var_dic_list())"
    },
    "r": {
     "delete_cmd_postfix": ") ",
     "delete_cmd_prefix": "rm(",
     "library": "var_list.r",
     "varRefreshCmd": "cat(var_dic_list()) "
    }
   },
   "oldHeight": 498,
   "position": {
    "height": "40px",
    "left": "933px",
    "right": "20px",
    "top": "120px",
    "width": "300px"
   },
   "types_to_exclude": [
    "module",
    "function",
    "builtin_function_or_method",
    "instance",
    "_Feature"
   ],
   "varInspector_section_display": "none",
   "window_display": true
  }
 },
 "nbformat": 4,
 "nbformat_minor": 5
}
