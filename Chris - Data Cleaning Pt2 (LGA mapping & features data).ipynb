{
 "cells": [
  {
   "cell_type": "markdown",
   "id": "81634340",
   "metadata": {},
   "source": [
    "# Question\n",
    "Alexis: the master DF seems inflated (i.e. having more rows) after merging in LGA - i think this is due to some postcodes correspond to multiple LGAs. For example if one postcode sits across 2 LGAs, it will expand to 2 rows after adding LGA. Needs some investigation around this.\n",
    "\n",
    "# to do 12/10/21\n",
    "**Chris**\n",
    "- put LGA fixing from step 6 into pt2 (DONE)\n",
    "- merge remaining features:  incp_gr, cprf, yields_join, df_cons_clean, quarter_rates (DONE)\n",
    "- **NEW - Generate a new Table of Content**, Alexis: not sure how to do it lol - did you use some sort of extension? I hope I've named the sections properly for it to work!\n",
    "- **NEW - Can you please investigate the problem mentioned above? i.e. more rows after merging in LGA/features, comparing to the original housing DF? adding features should only adding columns but not rows\n",
    "\n",
    "**Alexis**\n",
    "- merge with steve (DONE)\n",
    "\n",
    "**Ken / Felix**\n",
    "- check for nans (think of any columns or variables that we may not need) \n",
    "- sort out geopandas\n",
    "\n",
    "Felix wnts to know the goal of the different dataframes so he can have a good understanding of the structure of the DFs. "
   ]
  },
  {
   "cell_type": "markdown",
   "id": "0370e40d",
   "metadata": {
    "toc": true
   },
   "source": [
    "<h1>Table of Contents<span class=\"tocSkip\"></span></h1>\n",
    "<div class=\"toc\"><ul class=\"toc-item\"><li><ul class=\"toc-item\"><li><span><a href=\"#1.-Bond-Yields\" data-toc-modified-id=\"1.-Bond-Yields-0.1\"><span class=\"toc-item-num\">0.1&nbsp;&nbsp;</span>1. Bond Yields</a></span><ul class=\"toc-item\"><li><span><a href=\"#@all-target-df-to-be-defined\" data-toc-modified-id=\"@all-target-df-to-be-defined-0.1.1\"><span class=\"toc-item-num\">0.1.1&nbsp;&nbsp;</span>@all target df to be defined</a></span></li></ul></li><li><span><a href=\"#2.-Interest-Rate\" data-toc-modified-id=\"2.-Interest-Rate-0.2\"><span class=\"toc-item-num\">0.2&nbsp;&nbsp;</span>2. Interest Rate</a></span><ul class=\"toc-item\"><li><span><a href=\"#@all-target-df-do-be-defined\" data-toc-modified-id=\"@all-target-df-do-be-defined-0.2.1\"><span class=\"toc-item-num\">0.2.1&nbsp;&nbsp;</span>@all target df do be defined</a></span></li></ul></li><li><span><a href=\"#3.-Population-/-Age-bands\" data-toc-modified-id=\"3.-Population-/-Age-bands-0.3\"><span class=\"toc-item-num\">0.3&nbsp;&nbsp;</span>3. Population / Age bands</a></span><ul class=\"toc-item\"><li><span><a href=\"#Household-count\" data-toc-modified-id=\"Household-count-0.3.1\"><span class=\"toc-item-num\">0.3.1&nbsp;&nbsp;</span>Household count</a></span></li><li><span><a href=\"#Population-movement-in-5-year-period\" data-toc-modified-id=\"Population-movement-in-5-year-period-0.3.2\"><span class=\"toc-item-num\">0.3.2&nbsp;&nbsp;</span>Population movement in 5 year period</a></span></li><li><span><a href=\"#Population-Age\" data-toc-modified-id=\"Population-Age-0.3.3\"><span class=\"toc-item-num\">0.3.3&nbsp;&nbsp;</span>Population Age</a></span></li></ul></li><li><span><a href=\"#4.-Construction\" data-toc-modified-id=\"4.-Construction-0.4\"><span class=\"toc-item-num\">0.4&nbsp;&nbsp;</span>4. Construction</a></span></li><li><span><a href=\"#5.-Weekly-Income\" data-toc-modified-id=\"5.-Weekly-Income-0.5\"><span class=\"toc-item-num\">0.5&nbsp;&nbsp;</span>5. Weekly Income</a></span></li><li><span><a href=\"#6.-Household-size\" data-toc-modified-id=\"6.-Household-size-0.6\"><span class=\"toc-item-num\">0.6&nbsp;&nbsp;</span>6. Household size</a></span></li><li><span><a href=\"#7.-Additional-Feature-1\" data-toc-modified-id=\"7.-Additional-Feature-1-0.7\"><span class=\"toc-item-num\">0.7&nbsp;&nbsp;</span>7. Additional Feature 1</a></span></li><li><span><a href=\"#8.-Additional-Feature-2\" data-toc-modified-id=\"8.-Additional-Feature-2-0.8\"><span class=\"toc-item-num\">0.8&nbsp;&nbsp;</span>8. Additional Feature 2</a></span></li><li><span><a href=\"#9.-Additional-Feature-3\" data-toc-modified-id=\"9.-Additional-Feature-3-0.9\"><span class=\"toc-item-num\">0.9&nbsp;&nbsp;</span>9. Additional Feature 3</a></span></li></ul></li><li><span><a href=\"#USE-BELOW-CELL-TO-MERGE-FEATURES-INTO-THE-MASTER-DF,-IGNORE-FOR-NOW\" data-toc-modified-id=\"USE-BELOW-CELL-TO-MERGE-FEATURES-INTO-THE-MASTER-DF,-IGNORE-FOR-NOW-1\"><span class=\"toc-item-num\">1&nbsp;&nbsp;</span>USE BELOW CELL TO MERGE FEATURES INTO THE MASTER DF, IGNORE FOR NOW</a></span></li></ul></div>"
   ]
  },
  {
   "cell_type": "markdown",
   "id": "fd291885",
   "metadata": {},
   "source": [
    "**The objective of this notebook is to collate the codes for cleaning below data:**\n",
    "1. Bond yields (F)\n",
    "2. Ineterest rate (F)\n",
    "3. Population (K)\n",
    "4. Construction (K)\n",
    "5. Weekly income (A)\n",
    "6. Household size (A)\n",
    "\n",
    "(please add features to the list if there's any additional ones)\n",
    "\n",
    "**and merge all features into a complete feature set at the end.**"
   ]
  },
  {
   "cell_type": "code",
   "execution_count": 1,
   "id": "c3d6420f",
   "metadata": {},
   "outputs": [],
   "source": [
    "import pandas as pd\n",
    "import numpy as np\n",
    "import datetime as dt\n",
    "import matplotlib.pyplot as plt\n",
    "import seaborn as sns"
   ]
  },
  {
   "cell_type": "markdown",
   "id": "6d6f0b7a",
   "metadata": {
    "heading_collapsed": true
   },
   "source": [
    "## I. Feature Cleaning\n",
    "\n",
    "### I-1. Bond Yields ###\n",
    "`yields_join`"
   ]
  },
  {
   "cell_type": "code",
   "execution_count": 2,
   "id": "92c15159",
   "metadata": {
    "hidden": true
   },
   "outputs": [
    {
     "data": {
      "text/html": [
       "<div>\n",
       "<style scoped>\n",
       "    .dataframe tbody tr th:only-of-type {\n",
       "        vertical-align: middle;\n",
       "    }\n",
       "\n",
       "    .dataframe tbody tr th {\n",
       "        vertical-align: top;\n",
       "    }\n",
       "\n",
       "    .dataframe thead th {\n",
       "        text-align: right;\n",
       "    }\n",
       "</style>\n",
       "<table border=\"1\" class=\"dataframe\">\n",
       "  <thead>\n",
       "    <tr style=\"text-align: right;\">\n",
       "      <th></th>\n",
       "      <th>Date</th>\n",
       "      <th>2yBonds%</th>\n",
       "      <th>10yBonds%</th>\n",
       "    </tr>\n",
       "  </thead>\n",
       "  <tbody>\n",
       "    <tr>\n",
       "      <th>0</th>\n",
       "      <td>2013-07-31</td>\n",
       "      <td>2.5375</td>\n",
       "      <td>3.750</td>\n",
       "    </tr>\n",
       "    <tr>\n",
       "      <th>1</th>\n",
       "      <td>2013-08-31</td>\n",
       "      <td>2.5000</td>\n",
       "      <td>3.860</td>\n",
       "    </tr>\n",
       "    <tr>\n",
       "      <th>2</th>\n",
       "      <td>2013-09-30</td>\n",
       "      <td>2.6875</td>\n",
       "      <td>3.995</td>\n",
       "    </tr>\n",
       "    <tr>\n",
       "      <th>3</th>\n",
       "      <td>2013-10-31</td>\n",
       "      <td>2.7075</td>\n",
       "      <td>3.970</td>\n",
       "    </tr>\n",
       "    <tr>\n",
       "      <th>4</th>\n",
       "      <td>2013-11-30</td>\n",
       "      <td>2.7700</td>\n",
       "      <td>4.125</td>\n",
       "    </tr>\n",
       "  </tbody>\n",
       "</table>\n",
       "</div>"
      ],
      "text/plain": [
       "        Date  2yBonds%  10yBonds%\n",
       "0 2013-07-31    2.5375      3.750\n",
       "1 2013-08-31    2.5000      3.860\n",
       "2 2013-09-30    2.6875      3.995\n",
       "3 2013-10-31    2.7075      3.970\n",
       "4 2013-11-30    2.7700      4.125"
      ]
     },
     "execution_count": 2,
     "metadata": {},
     "output_type": "execute_result"
    }
   ],
   "source": [
    "# read data in \n",
    "yields_data = \"Files/Bond Yields/f02hist.xls\"\n",
    "yields = pd.read_excel(yields_data, sheet_name='Data', usecols='A:B,E', header=None, skiprows=range(0,12))\n",
    "yields.columns = ['Date', '2yBonds%', '10yBonds%']\n",
    "yields.head()"
   ]
  },
  {
   "cell_type": "code",
   "execution_count": 3,
   "id": "638f207a",
   "metadata": {
    "hidden": true
   },
   "outputs": [],
   "source": [
    "# split date column into year and month\n",
    "dates = pd.to_datetime(yields[\"Date\"])\n",
    "yields[\"Year\"] = dates.dt.year\n",
    "yields[\"Quarter\"] = dates.dt.quarter\n",
    "\n",
    "# set datetime as index\n",
    "yields.set_index('Date', inplace = True)"
   ]
  },
  {
   "cell_type": "code",
   "execution_count": 4,
   "id": "8dd5a53d",
   "metadata": {
    "hidden": true
   },
   "outputs": [
    {
     "data": {
      "text/html": [
       "<div>\n",
       "<style scoped>\n",
       "    .dataframe tbody tr th:only-of-type {\n",
       "        vertical-align: middle;\n",
       "    }\n",
       "\n",
       "    .dataframe tbody tr th {\n",
       "        vertical-align: top;\n",
       "    }\n",
       "\n",
       "    .dataframe thead th {\n",
       "        text-align: right;\n",
       "    }\n",
       "</style>\n",
       "<table border=\"1\" class=\"dataframe\">\n",
       "  <thead>\n",
       "    <tr style=\"text-align: right;\">\n",
       "      <th></th>\n",
       "      <th>2yBonds%</th>\n",
       "      <th>10yBonds%</th>\n",
       "      <th>Year</th>\n",
       "      <th>Quarter</th>\n",
       "    </tr>\n",
       "    <tr>\n",
       "      <th>Date</th>\n",
       "      <th></th>\n",
       "      <th></th>\n",
       "      <th></th>\n",
       "      <th></th>\n",
       "    </tr>\n",
       "  </thead>\n",
       "  <tbody>\n",
       "    <tr>\n",
       "      <th>2013-07-01</th>\n",
       "      <td>2.575000</td>\n",
       "      <td>3.868333</td>\n",
       "      <td>2013.0</td>\n",
       "      <td>3.0</td>\n",
       "    </tr>\n",
       "    <tr>\n",
       "      <th>2013-10-01</th>\n",
       "      <td>2.729167</td>\n",
       "      <td>4.112500</td>\n",
       "      <td>2013.0</td>\n",
       "      <td>4.0</td>\n",
       "    </tr>\n",
       "  </tbody>\n",
       "</table>\n",
       "</div>"
      ],
      "text/plain": [
       "            2yBonds%  10yBonds%    Year  Quarter\n",
       "Date                                            \n",
       "2013-07-01  2.575000   3.868333  2013.0      3.0\n",
       "2013-10-01  2.729167   4.112500  2013.0      4.0"
      ]
     },
     "execution_count": 4,
     "metadata": {},
     "output_type": "execute_result"
    }
   ],
   "source": [
    "# create new column with average rate per quarter\n",
    "yields_quarter_rates = yields.resample('QS').mean()\n",
    "yields_quarter_rates.head(2)"
   ]
  },
  {
   "cell_type": "code",
   "execution_count": 5,
   "id": "a2965075",
   "metadata": {
    "hidden": true
   },
   "outputs": [
    {
     "data": {
      "text/html": [
       "<div>\n",
       "<style scoped>\n",
       "    .dataframe tbody tr th:only-of-type {\n",
       "        vertical-align: middle;\n",
       "    }\n",
       "\n",
       "    .dataframe tbody tr th {\n",
       "        vertical-align: top;\n",
       "    }\n",
       "\n",
       "    .dataframe thead th {\n",
       "        text-align: right;\n",
       "    }\n",
       "</style>\n",
       "<table border=\"1\" class=\"dataframe\">\n",
       "  <thead>\n",
       "    <tr style=\"text-align: right;\">\n",
       "      <th></th>\n",
       "      <th>time_period</th>\n",
       "      <th>2yBonds%</th>\n",
       "      <th>10yBonds%</th>\n",
       "    </tr>\n",
       "    <tr>\n",
       "      <th>Date</th>\n",
       "      <th></th>\n",
       "      <th></th>\n",
       "      <th></th>\n",
       "    </tr>\n",
       "  </thead>\n",
       "  <tbody>\n",
       "    <tr>\n",
       "      <th>2013-07-01</th>\n",
       "      <td>2013 Q3</td>\n",
       "      <td>2.575000</td>\n",
       "      <td>3.868333</td>\n",
       "    </tr>\n",
       "    <tr>\n",
       "      <th>2013-10-01</th>\n",
       "      <td>2013 Q4</td>\n",
       "      <td>2.729167</td>\n",
       "      <td>4.112500</td>\n",
       "    </tr>\n",
       "    <tr>\n",
       "      <th>2014-01-01</th>\n",
       "      <td>2014 Q1</td>\n",
       "      <td>2.700000</td>\n",
       "      <td>4.135000</td>\n",
       "    </tr>\n",
       "    <tr>\n",
       "      <th>2014-04-01</th>\n",
       "      <td>2014 Q2</td>\n",
       "      <td>2.685000</td>\n",
       "      <td>3.835833</td>\n",
       "    </tr>\n",
       "    <tr>\n",
       "      <th>2014-07-01</th>\n",
       "      <td>2014 Q3</td>\n",
       "      <td>2.583333</td>\n",
       "      <td>3.474167</td>\n",
       "    </tr>\n",
       "  </tbody>\n",
       "</table>\n",
       "</div>"
      ],
      "text/plain": [
       "           time_period  2yBonds%  10yBonds%\n",
       "Date                                       \n",
       "2013-07-01     2013 Q3  2.575000   3.868333\n",
       "2013-10-01     2013 Q4  2.729167   4.112500\n",
       "2014-01-01     2014 Q1  2.700000   4.135000\n",
       "2014-04-01     2014 Q2  2.685000   3.835833\n",
       "2014-07-01     2014 Q3  2.583333   3.474167"
      ]
     },
     "execution_count": 5,
     "metadata": {},
     "output_type": "execute_result"
    }
   ],
   "source": [
    "# convert year and quarter to int\n",
    "yields_quarter_rates[\"Year\"] = yields_quarter_rates[\"Year\"].astype(int)\n",
    "yields_quarter_rates[\"Quarter\"] = yields_quarter_rates[\"Quarter\"].astype(int)\n",
    "\n",
    "# create time period variable from 'Year' and 'Quarter'\n",
    "yields_quarter_rates[\"time_period\"] = yields_quarter_rates[\"Year\"].map(str) + \" Q\" + yields_quarter_rates[\"Quarter\"].map(str)\n",
    "\n",
    "# Drop 'Year' and Quarter \n",
    "yields_join = yields_quarter_rates[[\"time_period\", \"2yBonds%\", \"10yBonds%\"]] \n",
    "yields_join.head()"
   ]
  },
  {
   "cell_type": "markdown",
   "id": "65b928e1",
   "metadata": {},
   "source": [
    "The resulting cleaned bond yield df is **yields_join**.\n",
    "\n",
    "----"
   ]
  },
  {
   "cell_type": "markdown",
   "id": "d8397c88",
   "metadata": {
    "heading_collapsed": true
   },
   "source": [
    "### I-2. Interest Rate ###\n",
    "`rates_join`  "
   ]
  },
  {
   "cell_type": "code",
   "execution_count": 6,
   "id": "1c2d1acd",
   "metadata": {
    "hidden": true
   },
   "outputs": [
    {
     "data": {
      "text/html": [
       "<div>\n",
       "<style scoped>\n",
       "    .dataframe tbody tr th:only-of-type {\n",
       "        vertical-align: middle;\n",
       "    }\n",
       "\n",
       "    .dataframe tbody tr th {\n",
       "        vertical-align: top;\n",
       "    }\n",
       "\n",
       "    .dataframe thead th {\n",
       "        text-align: right;\n",
       "    }\n",
       "</style>\n",
       "<table border=\"1\" class=\"dataframe\">\n",
       "  <thead>\n",
       "    <tr style=\"text-align: right;\">\n",
       "      <th></th>\n",
       "      <th>Rate</th>\n",
       "      <th>time_period</th>\n",
       "    </tr>\n",
       "    <tr>\n",
       "      <th>Date</th>\n",
       "      <th></th>\n",
       "      <th></th>\n",
       "    </tr>\n",
       "  </thead>\n",
       "  <tbody>\n",
       "    <tr>\n",
       "      <th>2011-01-01</th>\n",
       "      <td>4.75000</td>\n",
       "      <td>2011 Q1</td>\n",
       "    </tr>\n",
       "    <tr>\n",
       "      <th>2011-04-01</th>\n",
       "      <td>4.75000</td>\n",
       "      <td>2011 Q2</td>\n",
       "    </tr>\n",
       "    <tr>\n",
       "      <th>2011-07-01</th>\n",
       "      <td>4.75000</td>\n",
       "      <td>2011 Q3</td>\n",
       "    </tr>\n",
       "    <tr>\n",
       "      <th>2011-10-01</th>\n",
       "      <td>4.52381</td>\n",
       "      <td>2011 Q4</td>\n",
       "    </tr>\n",
       "    <tr>\n",
       "      <th>2012-01-01</th>\n",
       "      <td>4.25000</td>\n",
       "      <td>2012 Q1</td>\n",
       "    </tr>\n",
       "  </tbody>\n",
       "</table>\n",
       "</div>"
      ],
      "text/plain": [
       "               Rate time_period\n",
       "Date                           \n",
       "2011-01-01  4.75000     2011 Q1\n",
       "2011-04-01  4.75000     2011 Q2\n",
       "2011-07-01  4.75000     2011 Q3\n",
       "2011-10-01  4.52381     2011 Q4\n",
       "2012-01-01  4.25000     2012 Q1"
      ]
     },
     "execution_count": 6,
     "metadata": {},
     "output_type": "execute_result"
    }
   ],
   "source": [
    "# read data in\n",
    "interest = \"Files/Interest Rates/f01d.xls\"\n",
    "interest = pd.read_excel(interest, sheet_name = \"Data\", usecols = \"A:B\", header = None, skiprows = range(0,12))\n",
    "interest.columns = ['Date', 'Rate']\n",
    "\n",
    "# get date time\n",
    "dates = pd.to_datetime(interest[\"Date\"])\n",
    "interest[\"Year\"] = dates.dt.year\n",
    "interest[\"Quarter\"] = dates.dt.quarter\n",
    "\n",
    "# set date as index\n",
    "interest.set_index('Date', inplace = True)\n",
    "\n",
    "\n",
    "# calculate average\n",
    "quarter_rates = interest.resample('QS').mean()\n",
    "\n",
    "# create new column with average rate per quarter\n",
    "quarter_rates[\"Year\"] = quarter_rates[\"Year\"].astype(int)\n",
    "quarter_rates[\"Quarter\"] = quarter_rates[\"Quarter\"].astype(int)\n",
    "\n",
    "# time period\n",
    "quarter_rates[\"time_period\"] = quarter_rates[\"Year\"].map(str) + \" Q\" + quarter_rates[\"Quarter\"].map(str)\n",
    "\n",
    "# remove Year and Quarter\n",
    "quarter_rates = quarter_rates[['Rate','time_period']]\n",
    "quarter_rates.head()"
   ]
  },
  {
   "cell_type": "code",
   "execution_count": 7,
   "id": "81b533c4",
   "metadata": {
    "hidden": true
   },
   "outputs": [
    {
     "data": {
      "text/html": [
       "<div>\n",
       "<style scoped>\n",
       "    .dataframe tbody tr th:only-of-type {\n",
       "        vertical-align: middle;\n",
       "    }\n",
       "\n",
       "    .dataframe tbody tr th {\n",
       "        vertical-align: top;\n",
       "    }\n",
       "\n",
       "    .dataframe thead th {\n",
       "        text-align: right;\n",
       "    }\n",
       "</style>\n",
       "<table border=\"1\" class=\"dataframe\">\n",
       "  <thead>\n",
       "    <tr style=\"text-align: right;\">\n",
       "      <th></th>\n",
       "      <th>Date</th>\n",
       "      <th>Rate</th>\n",
       "    </tr>\n",
       "  </thead>\n",
       "  <tbody>\n",
       "    <tr>\n",
       "      <th>0</th>\n",
       "      <td>2011-01-05</td>\n",
       "      <td>4.75</td>\n",
       "    </tr>\n",
       "    <tr>\n",
       "      <th>1</th>\n",
       "      <td>2011-01-06</td>\n",
       "      <td>4.75</td>\n",
       "    </tr>\n",
       "    <tr>\n",
       "      <th>2</th>\n",
       "      <td>2011-01-07</td>\n",
       "      <td>4.75</td>\n",
       "    </tr>\n",
       "    <tr>\n",
       "      <th>3</th>\n",
       "      <td>2011-01-10</td>\n",
       "      <td>4.75</td>\n",
       "    </tr>\n",
       "    <tr>\n",
       "      <th>4</th>\n",
       "      <td>2011-01-11</td>\n",
       "      <td>4.75</td>\n",
       "    </tr>\n",
       "  </tbody>\n",
       "</table>\n",
       "</div>"
      ],
      "text/plain": [
       "        Date  Rate\n",
       "0 2011-01-05  4.75\n",
       "1 2011-01-06  4.75\n",
       "2 2011-01-07  4.75\n",
       "3 2011-01-10  4.75\n",
       "4 2011-01-11  4.75"
      ]
     },
     "execution_count": 7,
     "metadata": {},
     "output_type": "execute_result"
    }
   ],
   "source": [
    "# read data in\n",
    "interest = \"Files/Interest Rates/f01d.xls\"\n",
    "\n",
    "interest = pd.read_excel(interest, sheet_name = \"Data\", usecols = \"A:B\", header = None, skiprows = range(0,12))\n",
    "interest.columns = ['Date', 'Rate']\n",
    "interest.head()"
   ]
  },
  {
   "cell_type": "code",
   "execution_count": 8,
   "id": "7dba7227",
   "metadata": {
    "hidden": true
   },
   "outputs": [
    {
     "data": {
      "text/plain": [
       "Date    datetime64[ns]\n",
       "Rate           float64\n",
       "dtype: object"
      ]
     },
     "execution_count": 8,
     "metadata": {},
     "output_type": "execute_result"
    }
   ],
   "source": [
    "# check data types\n",
    "interest.dtypes"
   ]
  },
  {
   "cell_type": "code",
   "execution_count": 9,
   "id": "c1b38218",
   "metadata": {
    "hidden": true
   },
   "outputs": [],
   "source": [
    "# split date column into year and month\n",
    "dates = pd.to_datetime(interest[\"Date\"])\n",
    "interest[\"Year\"] = dates.dt.year\n",
    "interest[\"Quarter\"] = dates.dt.quarter\n",
    "\n",
    "# set datetime as index\n",
    "interest.set_index('Date', inplace = True)"
   ]
  },
  {
   "cell_type": "code",
   "execution_count": 10,
   "id": "aa23e369",
   "metadata": {
    "hidden": true
   },
   "outputs": [
    {
     "data": {
      "text/html": [
       "<div>\n",
       "<style scoped>\n",
       "    .dataframe tbody tr th:only-of-type {\n",
       "        vertical-align: middle;\n",
       "    }\n",
       "\n",
       "    .dataframe tbody tr th {\n",
       "        vertical-align: top;\n",
       "    }\n",
       "\n",
       "    .dataframe thead th {\n",
       "        text-align: right;\n",
       "    }\n",
       "</style>\n",
       "<table border=\"1\" class=\"dataframe\">\n",
       "  <thead>\n",
       "    <tr style=\"text-align: right;\">\n",
       "      <th></th>\n",
       "      <th>Rate</th>\n",
       "      <th>Year</th>\n",
       "      <th>Quarter</th>\n",
       "    </tr>\n",
       "    <tr>\n",
       "      <th>Date</th>\n",
       "      <th></th>\n",
       "      <th></th>\n",
       "      <th></th>\n",
       "    </tr>\n",
       "  </thead>\n",
       "  <tbody>\n",
       "    <tr>\n",
       "      <th>2011-01-01</th>\n",
       "      <td>4.75</td>\n",
       "      <td>2011.0</td>\n",
       "      <td>1.0</td>\n",
       "    </tr>\n",
       "    <tr>\n",
       "      <th>2011-04-01</th>\n",
       "      <td>4.75</td>\n",
       "      <td>2011.0</td>\n",
       "      <td>2.0</td>\n",
       "    </tr>\n",
       "  </tbody>\n",
       "</table>\n",
       "</div>"
      ],
      "text/plain": [
       "            Rate    Year  Quarter\n",
       "Date                             \n",
       "2011-01-01  4.75  2011.0      1.0\n",
       "2011-04-01  4.75  2011.0      2.0"
      ]
     },
     "execution_count": 10,
     "metadata": {},
     "output_type": "execute_result"
    }
   ],
   "source": [
    "# create new column with average rate per quarter\n",
    "quarter_rates = interest.resample('QS').mean()\n",
    "quarter_rates.head(2)"
   ]
  },
  {
   "cell_type": "code",
   "execution_count": 11,
   "id": "19b578a1",
   "metadata": {
    "hidden": true
   },
   "outputs": [
    {
     "data": {
      "text/html": [
       "<div>\n",
       "<style scoped>\n",
       "    .dataframe tbody tr th:only-of-type {\n",
       "        vertical-align: middle;\n",
       "    }\n",
       "\n",
       "    .dataframe tbody tr th {\n",
       "        vertical-align: top;\n",
       "    }\n",
       "\n",
       "    .dataframe thead th {\n",
       "        text-align: right;\n",
       "    }\n",
       "</style>\n",
       "<table border=\"1\" class=\"dataframe\">\n",
       "  <thead>\n",
       "    <tr style=\"text-align: right;\">\n",
       "      <th></th>\n",
       "      <th>time_period</th>\n",
       "      <th>Rate</th>\n",
       "    </tr>\n",
       "    <tr>\n",
       "      <th>Date</th>\n",
       "      <th></th>\n",
       "      <th></th>\n",
       "    </tr>\n",
       "  </thead>\n",
       "  <tbody>\n",
       "    <tr>\n",
       "      <th>2011-01-01</th>\n",
       "      <td>2011 Q1</td>\n",
       "      <td>4.75</td>\n",
       "    </tr>\n",
       "    <tr>\n",
       "      <th>2011-04-01</th>\n",
       "      <td>2011 Q2</td>\n",
       "      <td>4.75</td>\n",
       "    </tr>\n",
       "  </tbody>\n",
       "</table>\n",
       "</div>"
      ],
      "text/plain": [
       "           time_period  Rate\n",
       "Date                        \n",
       "2011-01-01     2011 Q1  4.75\n",
       "2011-04-01     2011 Q2  4.75"
      ]
     },
     "execution_count": 11,
     "metadata": {},
     "output_type": "execute_result"
    }
   ],
   "source": [
    "# convert year and quarter to int\n",
    "quarter_rates[\"Year\"] = quarter_rates[\"Year\"].astype(int)\n",
    "quarter_rates[\"Quarter\"] = quarter_rates[\"Quarter\"].astype(int)\n",
    "\n",
    "# create time period variable for join from 'Year' and 'Quarter'\n",
    "quarter_rates[\"time_period\"] = quarter_rates[\"Year\"].map(str) + \" Q\" + quarter_rates[\"Quarter\"].map(str)\n",
    "quarter_rates.head()\n",
    "\n",
    "# Drop 'Year' and 'Quarter'\n",
    "rates_join = quarter_rates[[\"time_period\", \"Rate\"]]\n",
    "rates_join.head(2)"
   ]
  },
  {
   "cell_type": "markdown",
   "id": "364aa7a5",
   "metadata": {},
   "source": [
    "The resulting cleaned bond yield df is **rates_join**.\n",
    "\n",
    "----"
   ]
  },
  {
   "cell_type": "markdown",
   "id": "f1c48b1b",
   "metadata": {
    "heading_collapsed": true
   },
   "source": [
    "### I-3. Population / Age bands "
   ]
  },
  {
   "cell_type": "markdown",
   "id": "fbc67e2f",
   "metadata": {
    "heading_collapsed": true,
    "hidden": true
   },
   "source": [
    "#### I-3.1 Household count\n",
    "`hhold`  "
   ]
  },
  {
   "cell_type": "code",
   "execution_count": 12,
   "id": "3b86ddc6",
   "metadata": {
    "hidden": true
   },
   "outputs": [
    {
     "data": {
      "text/html": [
       "<div>\n",
       "<style scoped>\n",
       "    .dataframe tbody tr th:only-of-type {\n",
       "        vertical-align: middle;\n",
       "    }\n",
       "\n",
       "    .dataframe tbody tr th {\n",
       "        vertical-align: top;\n",
       "    }\n",
       "\n",
       "    .dataframe thead th {\n",
       "        text-align: right;\n",
       "    }\n",
       "</style>\n",
       "<table border=\"1\" class=\"dataframe\">\n",
       "  <thead>\n",
       "    <tr style=\"text-align: right;\">\n",
       "      <th></th>\n",
       "      <th>LGA</th>\n",
       "      <th>hhold_count_2016</th>\n",
       "      <th>hhold_count_2021</th>\n",
       "    </tr>\n",
       "  </thead>\n",
       "  <tbody>\n",
       "    <tr>\n",
       "      <th>0</th>\n",
       "      <td>Albury</td>\n",
       "      <td>21940</td>\n",
       "      <td>23227</td>\n",
       "    </tr>\n",
       "    <tr>\n",
       "      <th>1</th>\n",
       "      <td>Armidale Regional</td>\n",
       "      <td>11755</td>\n",
       "      <td>13041</td>\n",
       "    </tr>\n",
       "    <tr>\n",
       "      <th>2</th>\n",
       "      <td>Ballina</td>\n",
       "      <td>18178</td>\n",
       "      <td>19080</td>\n",
       "    </tr>\n",
       "  </tbody>\n",
       "</table>\n",
       "</div>"
      ],
      "text/plain": [
       "                 LGA  hhold_count_2016  hhold_count_2021\n",
       "0             Albury             21940             23227\n",
       "1  Armidale Regional             11755             13041\n",
       "2            Ballina             18178             19080"
      ]
     },
     "execution_count": 12,
     "metadata": {},
     "output_type": "execute_result"
    }
   ],
   "source": [
    "# Read data\n",
    "popfile = \"Files/Population/2019 NSW Population Projections ASGS 2019 LGA.xlsx\"\n",
    "df_hhold_wide = pd.read_excel(popfile,sheet_name='LGA Household Totals',header=6,usecols=\"A:C\",skipfooter=3)\n",
    "df_hhold_wide.columns=['LGA','hhold_count_2016','hhold_count_2021']\n",
    "df_hhold_wide['LGA'] = df_hhold_wide.LGA.str.split('(').str.get(0)\n",
    "df_hhold_wide['LGA'] = df_hhold_wide.LGA.str.strip()\n",
    "df_hhold_wide.head(3)"
   ]
  },
  {
   "cell_type": "code",
   "execution_count": 13,
   "id": "cc8e1f3a",
   "metadata": {},
   "outputs": [
    {
     "data": {
      "text/html": [
       "<div>\n",
       "<style scoped>\n",
       "    .dataframe tbody tr th:only-of-type {\n",
       "        vertical-align: middle;\n",
       "    }\n",
       "\n",
       "    .dataframe tbody tr th {\n",
       "        vertical-align: top;\n",
       "    }\n",
       "\n",
       "    .dataframe thead th {\n",
       "        text-align: right;\n",
       "    }\n",
       "</style>\n",
       "<table border=\"1\" class=\"dataframe\">\n",
       "  <thead>\n",
       "    <tr style=\"text-align: right;\">\n",
       "      <th></th>\n",
       "      <th>LGA</th>\n",
       "      <th>hhold_count_2016</th>\n",
       "      <th>hhold_count_2021</th>\n",
       "      <th>hhold_count_delta</th>\n",
       "    </tr>\n",
       "  </thead>\n",
       "  <tbody>\n",
       "    <tr>\n",
       "      <th>0</th>\n",
       "      <td>Albury</td>\n",
       "      <td>21940</td>\n",
       "      <td>23227</td>\n",
       "      <td>1287</td>\n",
       "    </tr>\n",
       "    <tr>\n",
       "      <th>1</th>\n",
       "      <td>Armidale Regional</td>\n",
       "      <td>11755</td>\n",
       "      <td>13041</td>\n",
       "      <td>1286</td>\n",
       "    </tr>\n",
       "    <tr>\n",
       "      <th>2</th>\n",
       "      <td>Ballina</td>\n",
       "      <td>18178</td>\n",
       "      <td>19080</td>\n",
       "      <td>902</td>\n",
       "    </tr>\n",
       "    <tr>\n",
       "      <th>3</th>\n",
       "      <td>Balranald</td>\n",
       "      <td>963</td>\n",
       "      <td>1015</td>\n",
       "      <td>52</td>\n",
       "    </tr>\n",
       "    <tr>\n",
       "      <th>4</th>\n",
       "      <td>Bathurst Regional</td>\n",
       "      <td>16105</td>\n",
       "      <td>17351</td>\n",
       "      <td>1246</td>\n",
       "    </tr>\n",
       "  </tbody>\n",
       "</table>\n",
       "</div>"
      ],
      "text/plain": [
       "                 LGA  hhold_count_2016  hhold_count_2021  hhold_count_delta\n",
       "0             Albury             21940             23227               1287\n",
       "1  Armidale Regional             11755             13041               1286\n",
       "2            Ballina             18178             19080                902\n",
       "3          Balranald               963              1015                 52\n",
       "4  Bathurst Regional             16105             17351               1246"
      ]
     },
     "execution_count": 13,
     "metadata": {},
     "output_type": "execute_result"
    }
   ],
   "source": [
    "# Calculate difference in HH counts between 2016 and 2021\n",
    "df_hhold_wide['hhold_count_delta'] = df_hhold_wide.hhold_count_2021 - df_hhold_wide.hhold_count_2016\n",
    "\n",
    "# Shorten df name\n",
    "hhold = df_hhold_wide\n",
    "hhold.head()"
   ]
  },
  {
   "cell_type": "markdown",
   "id": "1ca02b23",
   "metadata": {},
   "source": [
    "The resulting cleaned houshold count df is **hhold**.\n",
    "\n",
    "Please note that the some of the LGA names in hhold don't match exactly those in our master df. We will resolve this in later section of this notebook. \n",
    "\n",
    "----"
   ]
  },
  {
   "cell_type": "markdown",
   "id": "b2de0c70",
   "metadata": {
    "heading_collapsed": true,
    "hidden": true
   },
   "source": [
    "#### I-3.2 Population movement in 5 year period\n",
    "`move`"
   ]
  },
  {
   "cell_type": "code",
   "execution_count": 14,
   "id": "3f7d7233",
   "metadata": {
    "hidden": true
   },
   "outputs": [
    {
     "data": {
      "text/html": [
       "<div>\n",
       "<style scoped>\n",
       "    .dataframe tbody tr th:only-of-type {\n",
       "        vertical-align: middle;\n",
       "    }\n",
       "\n",
       "    .dataframe tbody tr th {\n",
       "        vertical-align: top;\n",
       "    }\n",
       "\n",
       "    .dataframe thead th {\n",
       "        text-align: right;\n",
       "    }\n",
       "</style>\n",
       "<table border=\"1\" class=\"dataframe\">\n",
       "  <thead>\n",
       "    <tr style=\"text-align: right;\">\n",
       "      <th></th>\n",
       "      <th>LGA</th>\n",
       "      <th>pop_move</th>\n",
       "      <th>2016-2021</th>\n",
       "    </tr>\n",
       "  </thead>\n",
       "  <tbody>\n",
       "    <tr>\n",
       "      <th>0</th>\n",
       "      <td>Albury</td>\n",
       "      <td>Population at Start of Period</td>\n",
       "      <td>52171</td>\n",
       "    </tr>\n",
       "    <tr>\n",
       "      <th>1</th>\n",
       "      <td>Albury</td>\n",
       "      <td>Births</td>\n",
       "      <td>3390</td>\n",
       "    </tr>\n",
       "    <tr>\n",
       "      <th>2</th>\n",
       "      <td>Albury</td>\n",
       "      <td>Deaths</td>\n",
       "      <td>2219</td>\n",
       "    </tr>\n",
       "    <tr>\n",
       "      <th>3</th>\n",
       "      <td>Albury</td>\n",
       "      <td>Natural change</td>\n",
       "      <td>1171</td>\n",
       "    </tr>\n",
       "    <tr>\n",
       "      <th>4</th>\n",
       "      <td>Albury</td>\n",
       "      <td>Net Migration (all sources)</td>\n",
       "      <td>1031</td>\n",
       "    </tr>\n",
       "    <tr>\n",
       "      <th>5</th>\n",
       "      <td>Albury</td>\n",
       "      <td>Population at End of Period</td>\n",
       "      <td>54374</td>\n",
       "    </tr>\n",
       "    <tr>\n",
       "      <th>6</th>\n",
       "      <td>Armidale Regional</td>\n",
       "      <td>Population at Start of Period</td>\n",
       "      <td>30313</td>\n",
       "    </tr>\n",
       "    <tr>\n",
       "      <th>7</th>\n",
       "      <td>Armidale Regional</td>\n",
       "      <td>Births</td>\n",
       "      <td>1768</td>\n",
       "    </tr>\n",
       "  </tbody>\n",
       "</table>\n",
       "</div>"
      ],
      "text/plain": [
       "                 LGA                       pop_move  2016-2021\n",
       "0             Albury  Population at Start of Period      52171\n",
       "1             Albury                         Births       3390\n",
       "2             Albury                         Deaths       2219\n",
       "3             Albury                 Natural change       1171\n",
       "4             Albury    Net Migration (all sources)       1031\n",
       "5             Albury    Population at End of Period      54374\n",
       "6  Armidale Regional  Population at Start of Period      30313\n",
       "7  Armidale Regional                         Births       1768"
      ]
     },
     "execution_count": 14,
     "metadata": {},
     "output_type": "execute_result"
    }
   ],
   "source": [
    "# Read dta\n",
    "popfile = \"Files/Population/2019 NSW Population Projections ASGS 2019 LGA.xlsx\"\n",
    "df_move = pd.read_excel(popfile,sheet_name='LGA population accounts', header=5, skipfooter=3, usecols=\"A:C\")\n",
    "df_move.columns=['LGA','pop_move','2016-2021']\n",
    "df_move['LGA'] = df_move.LGA.str.split('(').str.get(0) #Get rid of the bracket in each LGA name\n",
    "df_move['LGA'] = df_move.LGA.str.strip() # remove the space\n",
    "df_move.head(8)"
   ]
  },
  {
   "cell_type": "code",
   "execution_count": 15,
   "id": "02b7c339",
   "metadata": {},
   "outputs": [
    {
     "data": {
      "text/html": [
       "<div>\n",
       "<style scoped>\n",
       "    .dataframe tbody tr th:only-of-type {\n",
       "        vertical-align: middle;\n",
       "    }\n",
       "\n",
       "    .dataframe tbody tr th {\n",
       "        vertical-align: top;\n",
       "    }\n",
       "\n",
       "    .dataframe thead th {\n",
       "        text-align: right;\n",
       "    }\n",
       "</style>\n",
       "<table border=\"1\" class=\"dataframe\">\n",
       "  <thead>\n",
       "    <tr style=\"text-align: right;\">\n",
       "      <th>pop_move</th>\n",
       "      <th>LGA</th>\n",
       "      <th>Births_16_21</th>\n",
       "      <th>Deaths_16_21</th>\n",
       "      <th>Natural change</th>\n",
       "      <th>Net Migration (all sources)</th>\n",
       "      <th>population_2021</th>\n",
       "      <th>population_2016</th>\n",
       "    </tr>\n",
       "  </thead>\n",
       "  <tbody>\n",
       "    <tr>\n",
       "      <th>0</th>\n",
       "      <td>Albury</td>\n",
       "      <td>3390.0</td>\n",
       "      <td>2219.0</td>\n",
       "      <td>1171.0</td>\n",
       "      <td>1031.0</td>\n",
       "      <td>54374.0</td>\n",
       "      <td>52171.0</td>\n",
       "    </tr>\n",
       "  </tbody>\n",
       "</table>\n",
       "</div>"
      ],
      "text/plain": [
       "pop_move     LGA  Births_16_21  Deaths_16_21    Natural change  \\\n",
       "0         Albury        3390.0        2219.0            1171.0   \n",
       "\n",
       "pop_move    Net Migration (all sources)  population_2021  population_2016  \n",
       "0                                1031.0          54374.0          52171.0  "
      ]
     },
     "execution_count": 15,
     "metadata": {},
     "output_type": "execute_result"
    }
   ],
   "source": [
    "# Pivot features from rows to columns\n",
    "df_move_melt = pd.melt(df_move,id_vars=['LGA','pop_move'], value_vars=['2016-2021'], var_name='year')\n",
    "df_move_pivot = df_move_melt.pivot(index=['LGA','year'], columns='pop_move', values='value').reset_index()\n",
    "\n",
    "# Rename columns\n",
    "df_move_pivot = df_move_pivot.rename(columns={'    Births':'Births_16_21', \n",
    "                                              '    Deaths':'Deaths_16_21',\n",
    "                                              'Population at End of Period':'population_2021',\n",
    "                                              'Population at Start of Period':'population_2016'})\n",
    "\n",
    "# Drop the 'year' column\n",
    "df_move_pivot = df_move_pivot.drop(columns=['year'],axis=1)\n",
    "df_move_pivot['LGA'] = df_move_pivot.LGA.str.strip() \n",
    "df_move_pivot.head(1)"
   ]
  },
  {
   "cell_type": "code",
   "execution_count": 16,
   "id": "935cc09c",
   "metadata": {},
   "outputs": [
    {
     "data": {
      "text/html": [
       "<div>\n",
       "<style scoped>\n",
       "    .dataframe tbody tr th:only-of-type {\n",
       "        vertical-align: middle;\n",
       "    }\n",
       "\n",
       "    .dataframe tbody tr th {\n",
       "        vertical-align: top;\n",
       "    }\n",
       "\n",
       "    .dataframe thead th {\n",
       "        text-align: right;\n",
       "    }\n",
       "</style>\n",
       "<table border=\"1\" class=\"dataframe\">\n",
       "  <thead>\n",
       "    <tr style=\"text-align: right;\">\n",
       "      <th>pop_move</th>\n",
       "      <th>LGA</th>\n",
       "      <th>Births_16_21</th>\n",
       "      <th>Deaths_16_21</th>\n",
       "      <th>Natural change</th>\n",
       "      <th>Net Migration (all sources)</th>\n",
       "      <th>population_2021</th>\n",
       "      <th>population_2016</th>\n",
       "      <th>pop_delta</th>\n",
       "    </tr>\n",
       "  </thead>\n",
       "  <tbody>\n",
       "    <tr>\n",
       "      <th>0</th>\n",
       "      <td>Albury</td>\n",
       "      <td>3390.0</td>\n",
       "      <td>2219.0</td>\n",
       "      <td>1171.0</td>\n",
       "      <td>1031.0</td>\n",
       "      <td>54374.0</td>\n",
       "      <td>52171.0</td>\n",
       "      <td>2203.0</td>\n",
       "    </tr>\n",
       "  </tbody>\n",
       "</table>\n",
       "</div>"
      ],
      "text/plain": [
       "pop_move     LGA  Births_16_21  Deaths_16_21    Natural change  \\\n",
       "0         Albury        3390.0        2219.0            1171.0   \n",
       "\n",
       "pop_move    Net Migration (all sources)  population_2021  population_2016  \\\n",
       "0                                1031.0          54374.0          52171.0   \n",
       "\n",
       "pop_move  pop_delta  \n",
       "0            2203.0  "
      ]
     },
     "execution_count": 16,
     "metadata": {},
     "output_type": "execute_result"
    }
   ],
   "source": [
    "# Create delta variable for population difference \n",
    "df_move_pivot['pop_delta'] = df_move_pivot['population_2021'] - df_move_pivot['population_2016']\n",
    "\n",
    "# Shorten df name\n",
    "move = df_move_pivot\n",
    "\n",
    "move.head(1)"
   ]
  },
  {
   "cell_type": "markdown",
   "id": "400ebb0a",
   "metadata": {},
   "source": [
    "The resulting cleaned population movement df is **move**.\n",
    "\n",
    "Please note that the some of the LGA names in move don't match exactly those in our master df. We will resolve this in later section of this notebook. \n",
    "\n",
    "----"
   ]
  },
  {
   "cell_type": "markdown",
   "id": "aa3e6b39",
   "metadata": {
    "heading_collapsed": true,
    "hidden": true
   },
   "source": [
    "#### I-3.3 Population Age\n",
    "`ageband`"
   ]
  },
  {
   "cell_type": "code",
   "execution_count": 17,
   "id": "c7006639",
   "metadata": {
    "hidden": true
   },
   "outputs": [
    {
     "data": {
      "text/html": [
       "<div>\n",
       "<style scoped>\n",
       "    .dataframe tbody tr th:only-of-type {\n",
       "        vertical-align: middle;\n",
       "    }\n",
       "\n",
       "    .dataframe tbody tr th {\n",
       "        vertical-align: top;\n",
       "    }\n",
       "\n",
       "    .dataframe thead th {\n",
       "        text-align: right;\n",
       "    }\n",
       "</style>\n",
       "<table border=\"1\" class=\"dataframe\">\n",
       "  <thead>\n",
       "    <tr style=\"text-align: right;\">\n",
       "      <th></th>\n",
       "      <th>LGA</th>\n",
       "      <th>sex</th>\n",
       "      <th>age</th>\n",
       "      <th>2016</th>\n",
       "      <th>2021</th>\n",
       "    </tr>\n",
       "  </thead>\n",
       "  <tbody>\n",
       "    <tr>\n",
       "      <th>0</th>\n",
       "      <td>Albury</td>\n",
       "      <td>Female</td>\n",
       "      <td>00-04</td>\n",
       "      <td>1693</td>\n",
       "      <td>1661</td>\n",
       "    </tr>\n",
       "    <tr>\n",
       "      <th>1</th>\n",
       "      <td>Albury</td>\n",
       "      <td>Female</td>\n",
       "      <td>05-09</td>\n",
       "      <td>1597</td>\n",
       "      <td>1694</td>\n",
       "    </tr>\n",
       "    <tr>\n",
       "      <th>2</th>\n",
       "      <td>Albury</td>\n",
       "      <td>Female</td>\n",
       "      <td>10-14</td>\n",
       "      <td>1617</td>\n",
       "      <td>1647</td>\n",
       "    </tr>\n",
       "    <tr>\n",
       "      <th>3</th>\n",
       "      <td>Albury</td>\n",
       "      <td>Female</td>\n",
       "      <td>15-19</td>\n",
       "      <td>1705</td>\n",
       "      <td>1724</td>\n",
       "    </tr>\n",
       "    <tr>\n",
       "      <th>4</th>\n",
       "      <td>Albury</td>\n",
       "      <td>Female</td>\n",
       "      <td>20-24</td>\n",
       "      <td>1928</td>\n",
       "      <td>1785</td>\n",
       "    </tr>\n",
       "    <tr>\n",
       "      <th>5</th>\n",
       "      <td>Albury</td>\n",
       "      <td>Female</td>\n",
       "      <td>25-29</td>\n",
       "      <td>1766</td>\n",
       "      <td>1740</td>\n",
       "    </tr>\n",
       "    <tr>\n",
       "      <th>6</th>\n",
       "      <td>Albury</td>\n",
       "      <td>Female</td>\n",
       "      <td>30-34</td>\n",
       "      <td>1693</td>\n",
       "      <td>1781</td>\n",
       "    </tr>\n",
       "    <tr>\n",
       "      <th>7</th>\n",
       "      <td>Albury</td>\n",
       "      <td>Female</td>\n",
       "      <td>35-39</td>\n",
       "      <td>1623</td>\n",
       "      <td>1815</td>\n",
       "    </tr>\n",
       "    <tr>\n",
       "      <th>8</th>\n",
       "      <td>Albury</td>\n",
       "      <td>Female</td>\n",
       "      <td>40-44</td>\n",
       "      <td>1665</td>\n",
       "      <td>1651</td>\n",
       "    </tr>\n",
       "    <tr>\n",
       "      <th>9</th>\n",
       "      <td>Albury</td>\n",
       "      <td>Female</td>\n",
       "      <td>45-49</td>\n",
       "      <td>1708</td>\n",
       "      <td>1723</td>\n",
       "    </tr>\n",
       "    <tr>\n",
       "      <th>10</th>\n",
       "      <td>Albury</td>\n",
       "      <td>Female</td>\n",
       "      <td>50-54</td>\n",
       "      <td>1634</td>\n",
       "      <td>1701</td>\n",
       "    </tr>\n",
       "    <tr>\n",
       "      <th>11</th>\n",
       "      <td>Albury</td>\n",
       "      <td>Female</td>\n",
       "      <td>55-59</td>\n",
       "      <td>1725</td>\n",
       "      <td>1640</td>\n",
       "    </tr>\n",
       "    <tr>\n",
       "      <th>12</th>\n",
       "      <td>Albury</td>\n",
       "      <td>Female</td>\n",
       "      <td>60-64</td>\n",
       "      <td>1552</td>\n",
       "      <td>1730</td>\n",
       "    </tr>\n",
       "    <tr>\n",
       "      <th>13</th>\n",
       "      <td>Albury</td>\n",
       "      <td>Female</td>\n",
       "      <td>65-69</td>\n",
       "      <td>1377</td>\n",
       "      <td>1593</td>\n",
       "    </tr>\n",
       "    <tr>\n",
       "      <th>14</th>\n",
       "      <td>Albury</td>\n",
       "      <td>Female</td>\n",
       "      <td>70-74</td>\n",
       "      <td>1137</td>\n",
       "      <td>1398</td>\n",
       "    </tr>\n",
       "    <tr>\n",
       "      <th>15</th>\n",
       "      <td>Albury</td>\n",
       "      <td>Female</td>\n",
       "      <td>75-79</td>\n",
       "      <td>914</td>\n",
       "      <td>1084</td>\n",
       "    </tr>\n",
       "    <tr>\n",
       "      <th>16</th>\n",
       "      <td>Albury</td>\n",
       "      <td>Female</td>\n",
       "      <td>80-84</td>\n",
       "      <td>709</td>\n",
       "      <td>807</td>\n",
       "    </tr>\n",
       "    <tr>\n",
       "      <th>17</th>\n",
       "      <td>Albury</td>\n",
       "      <td>Female</td>\n",
       "      <td>85+</td>\n",
       "      <td>844</td>\n",
       "      <td>894</td>\n",
       "    </tr>\n",
       "    <tr>\n",
       "      <th>18</th>\n",
       "      <td>Albury</td>\n",
       "      <td>Male</td>\n",
       "      <td>00-04</td>\n",
       "      <td>1812</td>\n",
       "      <td>1740</td>\n",
       "    </tr>\n",
       "    <tr>\n",
       "      <th>19</th>\n",
       "      <td>Albury</td>\n",
       "      <td>Male</td>\n",
       "      <td>05-09</td>\n",
       "      <td>1682</td>\n",
       "      <td>1816</td>\n",
       "    </tr>\n",
       "  </tbody>\n",
       "</table>\n",
       "</div>"
      ],
      "text/plain": [
       "       LGA     sex    age  2016  2021\n",
       "0   Albury  Female  00-04  1693  1661\n",
       "1   Albury  Female  05-09  1597  1694\n",
       "2   Albury  Female  10-14  1617  1647\n",
       "3   Albury  Female  15-19  1705  1724\n",
       "4   Albury  Female  20-24  1928  1785\n",
       "5   Albury  Female  25-29  1766  1740\n",
       "6   Albury  Female  30-34  1693  1781\n",
       "7   Albury  Female  35-39  1623  1815\n",
       "8   Albury  Female  40-44  1665  1651\n",
       "9   Albury  Female  45-49  1708  1723\n",
       "10  Albury  Female  50-54  1634  1701\n",
       "11  Albury  Female  55-59  1725  1640\n",
       "12  Albury  Female  60-64  1552  1730\n",
       "13  Albury  Female  65-69  1377  1593\n",
       "14  Albury  Female  70-74  1137  1398\n",
       "15  Albury  Female  75-79   914  1084\n",
       "16  Albury  Female  80-84   709   807\n",
       "17  Albury  Female    85+   844   894\n",
       "18  Albury    Male  00-04  1812  1740\n",
       "19  Albury    Male  05-09  1682  1816"
      ]
     },
     "execution_count": 17,
     "metadata": {},
     "output_type": "execute_result"
    }
   ],
   "source": [
    "# Read data\n",
    "popfile = \"Files/Population/2019 NSW Population Projections ASGS 2019 LGA.xlsx\"\n",
    "df_age = pd.read_excel(popfile,sheet_name='LGA Sex Age projections',header=5,usecols=\"A:E\",skipfooter=3)\n",
    "df_age.columns=['LGA','sex','age','2016','2021']\n",
    "df_age['LGA'] = df_age.LGA.str.split('(').str.get(0)\n",
    "df_age['LGA'] = df_age.LGA.str.strip() \n",
    "df_age.head(20)"
   ]
  },
  {
   "cell_type": "code",
   "execution_count": 18,
   "id": "d567c3bb",
   "metadata": {},
   "outputs": [
    {
     "data": {
      "text/html": [
       "<div>\n",
       "<style scoped>\n",
       "    .dataframe tbody tr th:only-of-type {\n",
       "        vertical-align: middle;\n",
       "    }\n",
       "\n",
       "    .dataframe tbody tr th {\n",
       "        vertical-align: top;\n",
       "    }\n",
       "\n",
       "    .dataframe thead th {\n",
       "        text-align: right;\n",
       "    }\n",
       "</style>\n",
       "<table border=\"1\" class=\"dataframe\">\n",
       "  <thead>\n",
       "    <tr style=\"text-align: right;\">\n",
       "      <th></th>\n",
       "      <th>LGA</th>\n",
       "      <th>age</th>\n",
       "      <th>2016</th>\n",
       "      <th>2021</th>\n",
       "      <th>age_delta</th>\n",
       "    </tr>\n",
       "  </thead>\n",
       "  <tbody>\n",
       "    <tr>\n",
       "      <th>0</th>\n",
       "      <td>Albury</td>\n",
       "      <td>00-04</td>\n",
       "      <td>3505</td>\n",
       "      <td>3401</td>\n",
       "      <td>-104</td>\n",
       "    </tr>\n",
       "    <tr>\n",
       "      <th>1</th>\n",
       "      <td>Albury</td>\n",
       "      <td>05-09</td>\n",
       "      <td>3279</td>\n",
       "      <td>3510</td>\n",
       "      <td>231</td>\n",
       "    </tr>\n",
       "    <tr>\n",
       "      <th>2</th>\n",
       "      <td>Albury</td>\n",
       "      <td>10-14</td>\n",
       "      <td>3228</td>\n",
       "      <td>3370</td>\n",
       "      <td>142</td>\n",
       "    </tr>\n",
       "    <tr>\n",
       "      <th>3</th>\n",
       "      <td>Albury</td>\n",
       "      <td>15-19</td>\n",
       "      <td>3381</td>\n",
       "      <td>3306</td>\n",
       "      <td>-75</td>\n",
       "    </tr>\n",
       "    <tr>\n",
       "      <th>4</th>\n",
       "      <td>Albury</td>\n",
       "      <td>20-24</td>\n",
       "      <td>3744</td>\n",
       "      <td>3448</td>\n",
       "      <td>-296</td>\n",
       "    </tr>\n",
       "  </tbody>\n",
       "</table>\n",
       "</div>"
      ],
      "text/plain": [
       "      LGA    age  2016  2021  age_delta\n",
       "0  Albury  00-04  3505  3401       -104\n",
       "1  Albury  05-09  3279  3510        231\n",
       "2  Albury  10-14  3228  3370        142\n",
       "3  Albury  15-19  3381  3306        -75\n",
       "4  Albury  20-24  3744  3448       -296"
      ]
     },
     "execution_count": 18,
     "metadata": {},
     "output_type": "execute_result"
    }
   ],
   "source": [
    "# Create a variable for change of population by age band\n",
    "df_age['age_delta'] = df_age['2021'] - df_age['2016']\n",
    "\n",
    "# Combine the population of both genders\n",
    "df_age_pivot = pd.pivot_table(df_age,index=['LGA','age'], values=['2016','2021','age_delta'], \n",
    "               aggfunc=({'2016':np.sum, '2021':np.sum, 'age_delta':np.sum})).reset_index()\n",
    "df_age_pivot['LGA'] = df_age_pivot['LGA'].str.strip()\n",
    "\n",
    "df_age_pivot.head()"
   ]
  },
  {
   "cell_type": "markdown",
   "id": "f361a1c4",
   "metadata": {},
   "source": [
    "We'll lump the age brackets into fewer bands for ease of future analysis:\n",
    "* Child: 0-14\n",
    "* Youth: 15-24\n",
    "* Adult: 25-44\n",
    "* MiddleAge: 45-64\n",
    "* Senior: 65+"
   ]
  },
  {
   "cell_type": "code",
   "execution_count": 19,
   "id": "0861a66f",
   "metadata": {},
   "outputs": [
    {
     "data": {
      "text/html": [
       "<div>\n",
       "<style scoped>\n",
       "    .dataframe tbody tr th:only-of-type {\n",
       "        vertical-align: middle;\n",
       "    }\n",
       "\n",
       "    .dataframe tbody tr th {\n",
       "        vertical-align: top;\n",
       "    }\n",
       "\n",
       "    .dataframe thead th {\n",
       "        text-align: right;\n",
       "    }\n",
       "</style>\n",
       "<table border=\"1\" class=\"dataframe\">\n",
       "  <thead>\n",
       "    <tr style=\"text-align: right;\">\n",
       "      <th></th>\n",
       "      <th>LGA</th>\n",
       "      <th>age</th>\n",
       "      <th>2016</th>\n",
       "      <th>2021</th>\n",
       "      <th>age_delta</th>\n",
       "      <th>age_bracket</th>\n",
       "    </tr>\n",
       "  </thead>\n",
       "  <tbody>\n",
       "    <tr>\n",
       "      <th>0</th>\n",
       "      <td>Albury</td>\n",
       "      <td>00-04</td>\n",
       "      <td>3505</td>\n",
       "      <td>3401</td>\n",
       "      <td>-104</td>\n",
       "      <td>Child</td>\n",
       "    </tr>\n",
       "    <tr>\n",
       "      <th>1</th>\n",
       "      <td>Albury</td>\n",
       "      <td>05-09</td>\n",
       "      <td>3279</td>\n",
       "      <td>3510</td>\n",
       "      <td>231</td>\n",
       "      <td>Child</td>\n",
       "    </tr>\n",
       "    <tr>\n",
       "      <th>2</th>\n",
       "      <td>Albury</td>\n",
       "      <td>10-14</td>\n",
       "      <td>3228</td>\n",
       "      <td>3370</td>\n",
       "      <td>142</td>\n",
       "      <td>Child</td>\n",
       "    </tr>\n",
       "    <tr>\n",
       "      <th>3</th>\n",
       "      <td>Albury</td>\n",
       "      <td>15-19</td>\n",
       "      <td>3381</td>\n",
       "      <td>3306</td>\n",
       "      <td>-75</td>\n",
       "      <td>Youth</td>\n",
       "    </tr>\n",
       "    <tr>\n",
       "      <th>4</th>\n",
       "      <td>Albury</td>\n",
       "      <td>20-24</td>\n",
       "      <td>3744</td>\n",
       "      <td>3448</td>\n",
       "      <td>-296</td>\n",
       "      <td>Youth</td>\n",
       "    </tr>\n",
       "    <tr>\n",
       "      <th>5</th>\n",
       "      <td>Albury</td>\n",
       "      <td>25-29</td>\n",
       "      <td>3485</td>\n",
       "      <td>3505</td>\n",
       "      <td>20</td>\n",
       "      <td>Adult</td>\n",
       "    </tr>\n",
       "    <tr>\n",
       "      <th>6</th>\n",
       "      <td>Albury</td>\n",
       "      <td>30-34</td>\n",
       "      <td>3400</td>\n",
       "      <td>3543</td>\n",
       "      <td>143</td>\n",
       "      <td>Adult</td>\n",
       "    </tr>\n",
       "    <tr>\n",
       "      <th>7</th>\n",
       "      <td>Albury</td>\n",
       "      <td>35-39</td>\n",
       "      <td>3143</td>\n",
       "      <td>3526</td>\n",
       "      <td>383</td>\n",
       "      <td>Adult</td>\n",
       "    </tr>\n",
       "    <tr>\n",
       "      <th>8</th>\n",
       "      <td>Albury</td>\n",
       "      <td>40-44</td>\n",
       "      <td>3206</td>\n",
       "      <td>3145</td>\n",
       "      <td>-61</td>\n",
       "      <td>Adult</td>\n",
       "    </tr>\n",
       "    <tr>\n",
       "      <th>9</th>\n",
       "      <td>Albury</td>\n",
       "      <td>45-49</td>\n",
       "      <td>3330</td>\n",
       "      <td>3284</td>\n",
       "      <td>-46</td>\n",
       "      <td>MiddleAge</td>\n",
       "    </tr>\n",
       "    <tr>\n",
       "      <th>10</th>\n",
       "      <td>Albury</td>\n",
       "      <td>50-54</td>\n",
       "      <td>3188</td>\n",
       "      <td>3308</td>\n",
       "      <td>120</td>\n",
       "      <td>MiddleAge</td>\n",
       "    </tr>\n",
       "    <tr>\n",
       "      <th>11</th>\n",
       "      <td>Albury</td>\n",
       "      <td>55-59</td>\n",
       "      <td>3322</td>\n",
       "      <td>3208</td>\n",
       "      <td>-114</td>\n",
       "      <td>MiddleAge</td>\n",
       "    </tr>\n",
       "    <tr>\n",
       "      <th>12</th>\n",
       "      <td>Albury</td>\n",
       "      <td>60-64</td>\n",
       "      <td>2987</td>\n",
       "      <td>3329</td>\n",
       "      <td>342</td>\n",
       "      <td>MiddleAge</td>\n",
       "    </tr>\n",
       "    <tr>\n",
       "      <th>13</th>\n",
       "      <td>Albury</td>\n",
       "      <td>65-69</td>\n",
       "      <td>2670</td>\n",
       "      <td>3018</td>\n",
       "      <td>348</td>\n",
       "      <td>Senior</td>\n",
       "    </tr>\n",
       "    <tr>\n",
       "      <th>14</th>\n",
       "      <td>Albury</td>\n",
       "      <td>70-74</td>\n",
       "      <td>2136</td>\n",
       "      <td>2661</td>\n",
       "      <td>525</td>\n",
       "      <td>Senior</td>\n",
       "    </tr>\n",
       "    <tr>\n",
       "      <th>15</th>\n",
       "      <td>Albury</td>\n",
       "      <td>75-79</td>\n",
       "      <td>1641</td>\n",
       "      <td>1991</td>\n",
       "      <td>350</td>\n",
       "      <td>Senior</td>\n",
       "    </tr>\n",
       "    <tr>\n",
       "      <th>16</th>\n",
       "      <td>Albury</td>\n",
       "      <td>80-84</td>\n",
       "      <td>1209</td>\n",
       "      <td>1402</td>\n",
       "      <td>193</td>\n",
       "      <td>Senior</td>\n",
       "    </tr>\n",
       "    <tr>\n",
       "      <th>17</th>\n",
       "      <td>Albury</td>\n",
       "      <td>85+</td>\n",
       "      <td>1317</td>\n",
       "      <td>1420</td>\n",
       "      <td>103</td>\n",
       "      <td>Senior</td>\n",
       "    </tr>\n",
       "    <tr>\n",
       "      <th>18</th>\n",
       "      <td>Armidale Regional</td>\n",
       "      <td>00-04</td>\n",
       "      <td>1816</td>\n",
       "      <td>1847</td>\n",
       "      <td>31</td>\n",
       "      <td>Child</td>\n",
       "    </tr>\n",
       "    <tr>\n",
       "      <th>19</th>\n",
       "      <td>Armidale Regional</td>\n",
       "      <td>05-09</td>\n",
       "      <td>1832</td>\n",
       "      <td>2032</td>\n",
       "      <td>200</td>\n",
       "      <td>Child</td>\n",
       "    </tr>\n",
       "  </tbody>\n",
       "</table>\n",
       "</div>"
      ],
      "text/plain": [
       "                  LGA    age  2016  2021  age_delta age_bracket\n",
       "0              Albury  00-04  3505  3401       -104       Child\n",
       "1              Albury  05-09  3279  3510        231       Child\n",
       "2              Albury  10-14  3228  3370        142       Child\n",
       "3              Albury  15-19  3381  3306        -75       Youth\n",
       "4              Albury  20-24  3744  3448       -296       Youth\n",
       "5              Albury  25-29  3485  3505         20       Adult\n",
       "6              Albury  30-34  3400  3543        143       Adult\n",
       "7              Albury  35-39  3143  3526        383       Adult\n",
       "8              Albury  40-44  3206  3145        -61       Adult\n",
       "9              Albury  45-49  3330  3284        -46   MiddleAge\n",
       "10             Albury  50-54  3188  3308        120   MiddleAge\n",
       "11             Albury  55-59  3322  3208       -114   MiddleAge\n",
       "12             Albury  60-64  2987  3329        342   MiddleAge\n",
       "13             Albury  65-69  2670  3018        348      Senior\n",
       "14             Albury  70-74  2136  2661        525      Senior\n",
       "15             Albury  75-79  1641  1991        350      Senior\n",
       "16             Albury  80-84  1209  1402        193      Senior\n",
       "17             Albury    85+  1317  1420        103      Senior\n",
       "18  Armidale Regional  00-04  1816  1847         31       Child\n",
       "19  Armidale Regional  05-09  1832  2032        200       Child"
      ]
     },
     "execution_count": 19,
     "metadata": {},
     "output_type": "execute_result"
    }
   ],
   "source": [
    "# Group age brackets into 5 bandsd\n",
    "Child = df_age_pivot.age.unique()[:3]\n",
    "Youth = df_age_pivot.age.unique()[3:5]\n",
    "Adult = df_age_pivot.age.unique()[5:9]\n",
    "MiddleAge = df_age_pivot.age.unique()[9:13]\n",
    "Senior = df_age_pivot.age.unique()[13:]\n",
    "\n",
    "# Add ageband label\n",
    "age_categ = [df_age_pivot['age'].isin(Child),\n",
    "             df_age_pivot['age'].isin(Youth),\n",
    "             df_age_pivot['age'].isin(Adult),\n",
    "             df_age_pivot['age'].isin(MiddleAge),\n",
    "             df_age_pivot['age'].isin(Senior)]\n",
    "\n",
    "age_output = ['Child','Youth','Adult','MiddleAge','Senior']\n",
    "df_age_pivot['age_bracket'] = np.select(age_categ,age_output)\n",
    "df_age_pivot.head(20)"
   ]
  },
  {
   "cell_type": "code",
   "execution_count": 20,
   "id": "47b3d082",
   "metadata": {
    "hidden": true
   },
   "outputs": [
    {
     "data": {
      "text/html": [
       "<div>\n",
       "<style scoped>\n",
       "    .dataframe tbody tr th:only-of-type {\n",
       "        vertical-align: middle;\n",
       "    }\n",
       "\n",
       "    .dataframe tbody tr th {\n",
       "        vertical-align: top;\n",
       "    }\n",
       "\n",
       "    .dataframe thead th {\n",
       "        text-align: right;\n",
       "    }\n",
       "</style>\n",
       "<table border=\"1\" class=\"dataframe\">\n",
       "  <thead>\n",
       "    <tr style=\"text-align: right;\">\n",
       "      <th>age_bracket</th>\n",
       "      <th>LGA</th>\n",
       "      <th>Adult</th>\n",
       "      <th>Child</th>\n",
       "      <th>MiddleAge</th>\n",
       "      <th>Senior</th>\n",
       "      <th>Youth</th>\n",
       "    </tr>\n",
       "  </thead>\n",
       "  <tbody>\n",
       "    <tr>\n",
       "      <th>0</th>\n",
       "      <td>Albury</td>\n",
       "      <td>485</td>\n",
       "      <td>269</td>\n",
       "      <td>302</td>\n",
       "      <td>1519</td>\n",
       "      <td>-371</td>\n",
       "    </tr>\n",
       "    <tr>\n",
       "      <th>1</th>\n",
       "      <td>Armidale Regional</td>\n",
       "      <td>1501</td>\n",
       "      <td>195</td>\n",
       "      <td>211</td>\n",
       "      <td>630</td>\n",
       "      <td>-114</td>\n",
       "    </tr>\n",
       "    <tr>\n",
       "      <th>2</th>\n",
       "      <td>Ballina</td>\n",
       "      <td>-62</td>\n",
       "      <td>-186</td>\n",
       "      <td>5</td>\n",
       "      <td>1535</td>\n",
       "      <td>-48</td>\n",
       "    </tr>\n",
       "    <tr>\n",
       "      <th>3</th>\n",
       "      <td>Balranald</td>\n",
       "      <td>14</td>\n",
       "      <td>36</td>\n",
       "      <td>-29</td>\n",
       "      <td>106</td>\n",
       "      <td>-20</td>\n",
       "    </tr>\n",
       "    <tr>\n",
       "      <th>4</th>\n",
       "      <td>Bathurst Regional</td>\n",
       "      <td>716</td>\n",
       "      <td>-73</td>\n",
       "      <td>476</td>\n",
       "      <td>1062</td>\n",
       "      <td>-112</td>\n",
       "    </tr>\n",
       "  </tbody>\n",
       "</table>\n",
       "</div>"
      ],
      "text/plain": [
       "age_bracket                LGA  Adult  Child  MiddleAge  Senior  Youth\n",
       "0                       Albury    485    269        302    1519   -371\n",
       "1            Armidale Regional   1501    195        211     630   -114\n",
       "2                      Ballina    -62   -186          5    1535    -48\n",
       "3                    Balranald     14     36        -29     106    -20\n",
       "4            Bathurst Regional    716    -73        476    1062   -112"
      ]
     },
     "execution_count": 20,
     "metadata": {},
     "output_type": "execute_result"
    }
   ],
   "source": [
    "# Pivot by ageband and remove original groupings\n",
    "age_bracket_delta = pd.pivot_table(df_age_pivot, index=['LGA'], columns=['age_bracket'], \n",
    "                                   values='age_delta', aggfunc=np.sum)\n",
    "\n",
    "# Shorten df name\n",
    "ageband = age_bracket_delta\n",
    "ageband.reset_index(inplace=True)\n",
    "ageband.head()"
   ]
  },
  {
   "cell_type": "markdown",
   "id": "9f724c97",
   "metadata": {},
   "source": [
    "The resulting cleaned population by age bracket df is **ageband**.\n",
    "\n",
    "Please note that the some of the LGA names in ageband don't match exactly those in our master df. We will resolve this in later section of this notebook. \n",
    "\n",
    "----"
   ]
  },
  {
   "cell_type": "markdown",
   "id": "b96adb7c",
   "metadata": {
    "heading_collapsed": true
   },
   "source": [
    "### I-4. Construction  \n",
    "`df_cons_clean`"
   ]
  },
  {
   "cell_type": "code",
   "execution_count": 21,
   "id": "043d6744",
   "metadata": {
    "hidden": true
   },
   "outputs": [
    {
     "data": {
      "text/html": [
       "<div>\n",
       "<style scoped>\n",
       "    .dataframe tbody tr th:only-of-type {\n",
       "        vertical-align: middle;\n",
       "    }\n",
       "\n",
       "    .dataframe tbody tr th {\n",
       "        vertical-align: top;\n",
       "    }\n",
       "\n",
       "    .dataframe thead th {\n",
       "        text-align: right;\n",
       "    }\n",
       "</style>\n",
       "<table border=\"1\" class=\"dataframe\">\n",
       "  <thead>\n",
       "    <tr style=\"text-align: right;\">\n",
       "      <th></th>\n",
       "      <th>constr_index</th>\n",
       "      <th>time_period</th>\n",
       "    </tr>\n",
       "  </thead>\n",
       "  <tbody>\n",
       "    <tr>\n",
       "      <th>0</th>\n",
       "      <td>100.1</td>\n",
       "      <td>2012 Q2</td>\n",
       "    </tr>\n",
       "    <tr>\n",
       "      <th>1</th>\n",
       "      <td>100.3</td>\n",
       "      <td>2012 Q3</td>\n",
       "    </tr>\n",
       "    <tr>\n",
       "      <th>2</th>\n",
       "      <td>100.2</td>\n",
       "      <td>2012 Q4</td>\n",
       "    </tr>\n",
       "    <tr>\n",
       "      <th>3</th>\n",
       "      <td>101.0</td>\n",
       "      <td>2013 Q1</td>\n",
       "    </tr>\n",
       "    <tr>\n",
       "      <th>4</th>\n",
       "      <td>101.6</td>\n",
       "      <td>2013 Q2</td>\n",
       "    </tr>\n",
       "  </tbody>\n",
       "</table>\n",
       "</div>"
      ],
      "text/plain": [
       "   constr_index time_period\n",
       "0         100.1     2012 Q2\n",
       "1         100.3     2012 Q3\n",
       "2         100.2     2012 Q4\n",
       "3         101.0     2013 Q1\n",
       "4         101.6     2013 Q2"
      ]
     },
     "execution_count": 21,
     "metadata": {},
     "output_type": "execute_result"
    }
   ],
   "source": [
    "# --read file, --rename columns\n",
    "construction_file = \"Files/Construction/Quarterly, Building construction prices rose, due to Homebuilder grants and government infrastructure investment.xlsx\"\n",
    "df_cons = pd.read_excel(construction_file,header=1,usecols=\"A:B\", skipfooter=2)\n",
    "df_cons.columns=['date','constr_index']\n",
    "\n",
    "# --convert to datetime\n",
    "df_cons['date'] = pd.to_datetime(df_cons['date'],format='%b-%y')\n",
    "\n",
    "# --get year and quarter, --concatenate as time_period format, --drop other columns\n",
    "df_cons['year'] = df_cons.date.dt.year\n",
    "df_cons['quarter'] = df_cons.date.dt.quarter\n",
    "df_cons['time_period'] = df_cons.year.map(str) + \" Q\" + df_cons.quarter.map(str)\n",
    "df_cons_clean = df_cons.drop(columns=['date','year','quarter'],axis=1)\n",
    "df_cons_clean.head()"
   ]
  },
  {
   "cell_type": "markdown",
   "id": "99c2bfc4",
   "metadata": {
    "heading_collapsed": true
   },
   "source": [
    "### I-5. Weekly Income\n",
    "`incp_gr`"
   ]
  },
  {
   "cell_type": "code",
   "execution_count": 22,
   "id": "a481193d",
   "metadata": {
    "hidden": true
   },
   "outputs": [
    {
     "data": {
      "text/html": [
       "<div>\n",
       "<style scoped>\n",
       "    .dataframe tbody tr th:only-of-type {\n",
       "        vertical-align: middle;\n",
       "    }\n",
       "\n",
       "    .dataframe tbody tr th {\n",
       "        vertical-align: top;\n",
       "    }\n",
       "\n",
       "    .dataframe thead th {\n",
       "        text-align: right;\n",
       "    }\n",
       "</style>\n",
       "<table border=\"1\" class=\"dataframe\">\n",
       "  <thead>\n",
       "    <tr style=\"text-align: right;\">\n",
       "      <th>INCP_WK</th>\n",
       "      <th>$1,000-$1,249 ($52,000-$64,999)</th>\n",
       "      <th>$1,250-$1,499 ($65,000-$77,999)</th>\n",
       "      <th>$1,500-$1,749 ($78,000-$90,999)</th>\n",
       "      <th>$1,750-$1,999 ($91,000-$103,999)</th>\n",
       "      <th>$1-$149 ($1-$7,799)</th>\n",
       "      <th>$150-$299 ($7,800-$15,599)</th>\n",
       "      <th>$2,000-$2,999 ($104,000-$155,999)</th>\n",
       "      <th>$3,000 or more ($156,000 or more)</th>\n",
       "      <th>$300-$399 ($15,600-$20,799)</th>\n",
       "      <th>$400-$499 ($20,800-$25,999)</th>\n",
       "      <th>$500-$649 ($26,000-$33,799)</th>\n",
       "      <th>$650-$799 ($33,800-$41,599)</th>\n",
       "      <th>$800-$999 ($41,600-$51,999)</th>\n",
       "      <th>Negative income</th>\n",
       "      <th>Nil income</th>\n",
       "      <th>Not applicable</th>\n",
       "      <th>Not stated</th>\n",
       "      <th>Total</th>\n",
       "    </tr>\n",
       "    <tr>\n",
       "      <th>postcode</th>\n",
       "      <th></th>\n",
       "      <th></th>\n",
       "      <th></th>\n",
       "      <th></th>\n",
       "      <th></th>\n",
       "      <th></th>\n",
       "      <th></th>\n",
       "      <th></th>\n",
       "      <th></th>\n",
       "      <th></th>\n",
       "      <th></th>\n",
       "      <th></th>\n",
       "      <th></th>\n",
       "      <th></th>\n",
       "      <th></th>\n",
       "      <th></th>\n",
       "      <th></th>\n",
       "      <th></th>\n",
       "    </tr>\n",
       "  </thead>\n",
       "  <tbody>\n",
       "    <tr>\n",
       "      <th>2000, NSW</th>\n",
       "      <td>1676</td>\n",
       "      <td>1028</td>\n",
       "      <td>977</td>\n",
       "      <td>677</td>\n",
       "      <td>502</td>\n",
       "      <td>1112</td>\n",
       "      <td>1456</td>\n",
       "      <td>1796</td>\n",
       "      <td>1978</td>\n",
       "      <td>2201</td>\n",
       "      <td>1915</td>\n",
       "      <td>1599</td>\n",
       "      <td>1638</td>\n",
       "      <td>204</td>\n",
       "      <td>3297</td>\n",
       "      <td>1251</td>\n",
       "      <td>4115</td>\n",
       "      <td>27411</td>\n",
       "    </tr>\n",
       "    <tr>\n",
       "      <th>2006, NSW</th>\n",
       "      <td>11</td>\n",
       "      <td>9</td>\n",
       "      <td>9</td>\n",
       "      <td>3</td>\n",
       "      <td>275</td>\n",
       "      <td>291</td>\n",
       "      <td>4</td>\n",
       "      <td>11</td>\n",
       "      <td>98</td>\n",
       "      <td>47</td>\n",
       "      <td>31</td>\n",
       "      <td>5</td>\n",
       "      <td>3</td>\n",
       "      <td>9</td>\n",
       "      <td>267</td>\n",
       "      <td>15</td>\n",
       "      <td>156</td>\n",
       "      <td>1261</td>\n",
       "    </tr>\n",
       "  </tbody>\n",
       "</table>\n",
       "</div>"
      ],
      "text/plain": [
       "INCP_WK    $1,000-$1,249 ($52,000-$64,999)  $1,250-$1,499 ($65,000-$77,999)  \\\n",
       "postcode                                                                      \n",
       "2000, NSW                             1676                             1028   \n",
       "2006, NSW                               11                                9   \n",
       "\n",
       "INCP_WK    $1,500-$1,749 ($78,000-$90,999)  $1,750-$1,999 ($91,000-$103,999)  \\\n",
       "postcode                                                                       \n",
       "2000, NSW                              977                               677   \n",
       "2006, NSW                                9                                 3   \n",
       "\n",
       "INCP_WK    $1-$149 ($1-$7,799)  $150-$299 ($7,800-$15,599)  \\\n",
       "postcode                                                     \n",
       "2000, NSW                  502                        1112   \n",
       "2006, NSW                  275                         291   \n",
       "\n",
       "INCP_WK    $2,000-$2,999 ($104,000-$155,999)  \\\n",
       "postcode                                       \n",
       "2000, NSW                               1456   \n",
       "2006, NSW                                  4   \n",
       "\n",
       "INCP_WK    $3,000 or more ($156,000 or more)  $300-$399 ($15,600-$20,799)  \\\n",
       "postcode                                                                    \n",
       "2000, NSW                               1796                         1978   \n",
       "2006, NSW                                 11                           98   \n",
       "\n",
       "INCP_WK    $400-$499 ($20,800-$25,999)  $500-$649 ($26,000-$33,799)  \\\n",
       "postcode                                                              \n",
       "2000, NSW                         2201                         1915   \n",
       "2006, NSW                           47                           31   \n",
       "\n",
       "INCP_WK    $650-$799 ($33,800-$41,599)  $800-$999 ($41,600-$51,999)  \\\n",
       "postcode                                                              \n",
       "2000, NSW                         1599                         1638   \n",
       "2006, NSW                            5                            3   \n",
       "\n",
       "INCP_WK    Negative income  Nil income  Not applicable  Not stated  Total  \n",
       "postcode                                                                   \n",
       "2000, NSW              204        3297            1251        4115  27411  \n",
       "2006, NSW                9         267              15         156   1261  "
      ]
     },
     "execution_count": 22,
     "metadata": {},
     "output_type": "execute_result"
    }
   ],
   "source": [
    "# Read data in to the raw da\n",
    "census_INCP = \"Files/Census/POA (UR) by INCP Toal Personal Income (Weekly).csv\"\n",
    "\n",
    "incp_raw = pd.read_csv(census_INCP, skiprows=9, nrows=11142,\n",
    "                       usecols=['POA (UR)', 'INCP Total Personal Income (weekly)', 'Count'])\n",
    "\n",
    "# Rename column for easier referencing\n",
    "incp_cols = {'POA (UR)':'postcode', 'INCP Total Personal Income (weekly)':'INCP_WK'}\n",
    "incp_raw.rename(columns=incp_cols, inplace=True)\n",
    "\n",
    "# Unstack\n",
    "incp = incp_raw.groupby(['postcode','INCP_WK'])['Count'].sum().unstack()\n",
    "\n",
    "# Remove the last row (grand total)\n",
    "incp = incp[:-1]\n",
    "\n",
    "incp.head(2)"
   ]
  },
  {
   "cell_type": "code",
   "execution_count": 23,
   "id": "df7824a0",
   "metadata": {
    "hidden": true
   },
   "outputs": [],
   "source": [
    "# Remove 'NSW' in the index and cast postcode to int64\n",
    "incp.reset_index(inplace=True)\n",
    "incp['postcode'] = incp['postcode'].str.split(\",\").str.get(0)\n",
    "incp['postcode'] = incp['postcode'].astype('int64')\n",
    "incp = incp.set_index('postcode')"
   ]
  },
  {
   "cell_type": "code",
   "execution_count": 24,
   "id": "d031e296",
   "metadata": {
    "hidden": true
   },
   "outputs": [
    {
     "data": {
      "text/html": [
       "<div>\n",
       "<style scoped>\n",
       "    .dataframe tbody tr th:only-of-type {\n",
       "        vertical-align: middle;\n",
       "    }\n",
       "\n",
       "    .dataframe tbody tr th {\n",
       "        vertical-align: top;\n",
       "    }\n",
       "\n",
       "    .dataframe thead th {\n",
       "        text-align: right;\n",
       "    }\n",
       "</style>\n",
       "<table border=\"1\" class=\"dataframe\">\n",
       "  <thead>\n",
       "    <tr style=\"text-align: right;\">\n",
       "      <th>INCP_WK</th>\n",
       "      <th>$1-149</th>\n",
       "      <th>$150-299</th>\n",
       "      <th>$300-399</th>\n",
       "      <th>$400-499</th>\n",
       "      <th>$500-649</th>\n",
       "      <th>$650-799</th>\n",
       "      <th>$800-999</th>\n",
       "      <th>$1000-1249</th>\n",
       "      <th>$1250-1499</th>\n",
       "      <th>$1500-1749</th>\n",
       "      <th>$1750-1999</th>\n",
       "      <th>$2000-2999</th>\n",
       "      <th>&gt;=$3000</th>\n",
       "      <th>Negative income</th>\n",
       "      <th>Nil income</th>\n",
       "      <th>total_na</th>\n",
       "    </tr>\n",
       "    <tr>\n",
       "      <th>postcode</th>\n",
       "      <th></th>\n",
       "      <th></th>\n",
       "      <th></th>\n",
       "      <th></th>\n",
       "      <th></th>\n",
       "      <th></th>\n",
       "      <th></th>\n",
       "      <th></th>\n",
       "      <th></th>\n",
       "      <th></th>\n",
       "      <th></th>\n",
       "      <th></th>\n",
       "      <th></th>\n",
       "      <th></th>\n",
       "      <th></th>\n",
       "      <th></th>\n",
       "    </tr>\n",
       "  </thead>\n",
       "  <tbody>\n",
       "    <tr>\n",
       "      <th>2000</th>\n",
       "      <td>502</td>\n",
       "      <td>1112</td>\n",
       "      <td>1978</td>\n",
       "      <td>2201</td>\n",
       "      <td>1915</td>\n",
       "      <td>1599</td>\n",
       "      <td>1638</td>\n",
       "      <td>1676</td>\n",
       "      <td>1028</td>\n",
       "      <td>977</td>\n",
       "      <td>677</td>\n",
       "      <td>1456</td>\n",
       "      <td>1796</td>\n",
       "      <td>204</td>\n",
       "      <td>3297</td>\n",
       "      <td>5366</td>\n",
       "    </tr>\n",
       "  </tbody>\n",
       "</table>\n",
       "</div>"
      ],
      "text/plain": [
       "INCP_WK   $1-149  $150-299  $300-399  $400-499  $500-649  $650-799  $800-999  \\\n",
       "postcode                                                                       \n",
       "2000         502      1112      1978      2201      1915      1599      1638   \n",
       "\n",
       "INCP_WK   $1000-1249  $1250-1499  $1500-1749   $1750-1999  $2000-2999  \\\n",
       "postcode                                                                \n",
       "2000            1676        1028          977         677        1456   \n",
       "\n",
       "INCP_WK   >=$3000  Negative income  Nil income  total_na  \n",
       "postcode                                                  \n",
       "2000         1796              204        3297      5366  "
      ]
     },
     "execution_count": 24,
     "metadata": {},
     "output_type": "execute_result"
    }
   ],
   "source": [
    "# Clean column names\n",
    "income_cols= {'$1,000-$1,249 ($52,000-$64,999)' : '$1000-1249', \n",
    "            '$1,250-$1,499 ($65,000-$77,999)' : '$1250-1499',\n",
    "            '$1,500-$1,749 ($78,000-$90,999)' : '$1500-1749 ', \n",
    "            '$1,750-$1,999 ($91,000-$103,999)': '$1750-1999',\n",
    "            '$1-$149 ($1-$7,799)': '$1-149', \n",
    "            '$150-$299 ($7,800-$15,599)' : '$150-299',\n",
    "            '$2,000-$2,999 ($104,000-$155,999)':'$2000-2999',\n",
    "            '$3,000 or more ($156,000 or more)':'>=$3000', \n",
    "            '$300-$399 ($15,600-$20,799)':'$300-399',\n",
    "            '$400-$499 ($20,800-$25,999)':'$400-499', \n",
    "            '$500-$649 ($26,000-$33,799)':'$500-649',\n",
    "            '$650-$799 ($33,800-$41,599)':'$650-799', \n",
    "            '$800-$999 ($41,600-$51,999)':'$800-999'}\n",
    "incp.rename(columns=income_cols, inplace=True)\n",
    "\n",
    "# Combine 'not applicable' and 'not stated' into 'total_na'\n",
    "incp['total_na'] = incp['Not applicable'] + incp['Not stated']\n",
    "\n",
    "# Drop the 'Total column'\n",
    "incp = incp.drop(columns=['Not applicable', 'Not stated', 'Total'], axis=1)\n",
    "\n",
    "# Reorder columns\n",
    "cols = incp.columns.tolist()\n",
    "cols = ['$1-149','$150-299','$300-399','$400-499','$500-649','$650-799',\n",
    "        '$800-999','$1000-1249','$1250-1499','$1500-1749 ',\n",
    "        '$1750-1999','$2000-2999','>=$3000',\n",
    "        'Negative income','Nil income','total_na']\n",
    "incp=incp[cols]\n",
    "\n",
    "incp.head(1)"
   ]
  },
  {
   "cell_type": "code",
   "execution_count": 25,
   "id": "5c8b70e4",
   "metadata": {
    "hidden": true
   },
   "outputs": [
    {
     "data": {
      "text/html": [
       "<div>\n",
       "<style scoped>\n",
       "    .dataframe tbody tr th:only-of-type {\n",
       "        vertical-align: middle;\n",
       "    }\n",
       "\n",
       "    .dataframe tbody tr th {\n",
       "        vertical-align: top;\n",
       "    }\n",
       "\n",
       "    .dataframe thead th {\n",
       "        text-align: right;\n",
       "    }\n",
       "</style>\n",
       "<table border=\"1\" class=\"dataframe\">\n",
       "  <thead>\n",
       "    <tr style=\"text-align: right;\">\n",
       "      <th>INCP_WK</th>\n",
       "      <th>postcode</th>\n",
       "      <th>INCP_LOW</th>\n",
       "      <th>INCP_MID</th>\n",
       "      <th>INCP_HIGH</th>\n",
       "      <th>INCP_NEG_NIL</th>\n",
       "    </tr>\n",
       "  </thead>\n",
       "  <tbody>\n",
       "    <tr>\n",
       "      <th>0</th>\n",
       "      <td>2000</td>\n",
       "      <td>9307</td>\n",
       "      <td>5319</td>\n",
       "      <td>3929</td>\n",
       "      <td>3501</td>\n",
       "    </tr>\n",
       "  </tbody>\n",
       "</table>\n",
       "</div>"
      ],
      "text/plain": [
       "INCP_WK  postcode  INCP_LOW  INCP_MID  INCP_HIGH  INCP_NEG_NIL\n",
       "0            2000      9307      5319       3929          3501"
      ]
     },
     "execution_count": 25,
     "metadata": {},
     "output_type": "execute_result"
    }
   ],
   "source": [
    "# Create income buckets and save into incp_gr\n",
    "incp['INCP_LOW'] = incp.iloc[:, 0:6].sum(axis=1)\n",
    "incp['INCP_MID'] = incp.iloc[:, 6:10].sum(axis=1)\n",
    "incp['INCP_HIGH'] = incp.iloc[:, 10:13].sum(axis=1)\n",
    "incp['INCP_NEG_NIL'] = incp.iloc[:, 13:15].sum(axis=1)\n",
    "incp_gr = incp[['INCP_LOW', 'INCP_MID', 'INCP_HIGH', 'INCP_NEG_NIL']]\n",
    "\n",
    "# Reset index\n",
    "incp_gr.reset_index(inplace=True)\n",
    "\n",
    "incp_gr.head(1)"
   ]
  },
  {
   "cell_type": "markdown",
   "id": "139c6b93",
   "metadata": {
    "hidden": true
   },
   "source": [
    "*The resulting cleanead df is <b>incp_gr</b>*\n",
    "\n",
    "----"
   ]
  },
  {
   "cell_type": "markdown",
   "id": "f3461965",
   "metadata": {
    "heading_collapsed": true
   },
   "source": [
    "### I-6. Household size\n",
    "`cprf`"
   ]
  },
  {
   "cell_type": "code",
   "execution_count": 26,
   "id": "cc14dc65",
   "metadata": {
    "hidden": true
   },
   "outputs": [
    {
     "data": {
      "text/html": [
       "<div>\n",
       "<style scoped>\n",
       "    .dataframe tbody tr th:only-of-type {\n",
       "        vertical-align: middle;\n",
       "    }\n",
       "\n",
       "    .dataframe tbody tr th {\n",
       "        vertical-align: top;\n",
       "    }\n",
       "\n",
       "    .dataframe thead th {\n",
       "        text-align: right;\n",
       "    }\n",
       "</style>\n",
       "<table border=\"1\" class=\"dataframe\">\n",
       "  <thead>\n",
       "    <tr style=\"text-align: right;\">\n",
       "      <th></th>\n",
       "      <th>postcode</th>\n",
       "      <th>CPRF_2</th>\n",
       "      <th>CPRF_3</th>\n",
       "      <th>CPRF_4</th>\n",
       "      <th>CPRF_5</th>\n",
       "      <th>CPRF_6+</th>\n",
       "      <th>CPRF_na</th>\n",
       "      <th>CPRF_TOTAL_FAM_NO</th>\n",
       "    </tr>\n",
       "  </thead>\n",
       "  <tbody>\n",
       "    <tr>\n",
       "      <th>1</th>\n",
       "      <td>2000, NSW</td>\n",
       "      <td>3453.0</td>\n",
       "      <td>857.0</td>\n",
       "      <td>354.0</td>\n",
       "      <td>54.0</td>\n",
       "      <td>21.0</td>\n",
       "      <td>8125.0</td>\n",
       "      <td>12861.0</td>\n",
       "    </tr>\n",
       "  </tbody>\n",
       "</table>\n",
       "</div>"
      ],
      "text/plain": [
       "    postcode  CPRF_2  CPRF_3  CPRF_4  CPRF_5  CPRF_6+  CPRF_na  \\\n",
       "1  2000, NSW  3453.0   857.0   354.0    54.0     21.0   8125.0   \n",
       "\n",
       "   CPRF_TOTAL_FAM_NO  \n",
       "1            12861.0  "
      ]
     },
     "execution_count": 26,
     "metadata": {},
     "output_type": "execute_result"
    }
   ],
   "source": [
    "# Read data\n",
    "census_cprf = \"Files/Census/POA by CPRF Count of Persons in Family by STATE.xlsx\"\n",
    "cprf = pd.read_excel(census_cprf, sheet_name=\"Data Sheet 0\", skiprows=9, nrows=619)\n",
    "\n",
    "# Remove redundant rows and columns \n",
    "cprf = cprf[1:] #remove the first row\n",
    "cprf = cprf.drop(columns='CPRF Count of Persons in Family') # remove the first column\n",
    "\n",
    "# Rename columns\n",
    "cprf_cols= {'Unnamed: 1' : 'postcode', \n",
    "            'Two persons in family' : 'CPRF_2',\n",
    "            'Three persons in family' : 'CPRF_3', \n",
    "            'Four persons in family': 'CPRF_4',\n",
    "            'Five persons in family': 'CPRF_5', \n",
    "            'Six or more persons in family' : 'CPRF_6+',\n",
    "            'Not applicable':'CPRF_na',\n",
    "            'Total' :'CPRF_TOTAL_FAM_NO'}\n",
    "cprf.rename(columns=cprf_cols, inplace=True)\n",
    "\n",
    "cprf.head(1)"
   ]
  },
  {
   "cell_type": "code",
   "execution_count": 27,
   "id": "6ace078e",
   "metadata": {
    "hidden": true
   },
   "outputs": [],
   "source": [
    "# Remove 'NSW' in the index and cast postcode to int64\n",
    "cprf.reset_index(inplace=True)\n",
    "cprf['postcode'] = cprf['postcode'].str.split(\",\").str.get(0)\n",
    "cprf['postcode'] = cprf['postcode'].astype('int64')\n",
    "cprf = cprf.set_index('postcode')\n",
    "cprf = cprf.drop(columns='index', axis=1)"
   ]
  },
  {
   "cell_type": "code",
   "execution_count": 28,
   "id": "e97c287f",
   "metadata": {
    "hidden": true
   },
   "outputs": [
    {
     "data": {
      "text/html": [
       "<div>\n",
       "<style scoped>\n",
       "    .dataframe tbody tr th:only-of-type {\n",
       "        vertical-align: middle;\n",
       "    }\n",
       "\n",
       "    .dataframe tbody tr th {\n",
       "        vertical-align: top;\n",
       "    }\n",
       "\n",
       "    .dataframe thead th {\n",
       "        text-align: right;\n",
       "    }\n",
       "</style>\n",
       "<table border=\"1\" class=\"dataframe\">\n",
       "  <thead>\n",
       "    <tr style=\"text-align: right;\">\n",
       "      <th></th>\n",
       "      <th>postcode</th>\n",
       "      <th>CPRF_2</th>\n",
       "      <th>CPRF_3</th>\n",
       "      <th>CPRF_4</th>\n",
       "      <th>CPRF_5</th>\n",
       "      <th>CPRF_6+</th>\n",
       "      <th>CPRF_na</th>\n",
       "      <th>CPRF_TOTAL_FAM_NO</th>\n",
       "    </tr>\n",
       "  </thead>\n",
       "  <tbody>\n",
       "    <tr>\n",
       "      <th>0</th>\n",
       "      <td>2000</td>\n",
       "      <td>3453.0</td>\n",
       "      <td>857.0</td>\n",
       "      <td>354.0</td>\n",
       "      <td>54.0</td>\n",
       "      <td>21.0</td>\n",
       "      <td>8125.0</td>\n",
       "      <td>12861.0</td>\n",
       "    </tr>\n",
       "  </tbody>\n",
       "</table>\n",
       "</div>"
      ],
      "text/plain": [
       "   postcode  CPRF_2  CPRF_3  CPRF_4  CPRF_5  CPRF_6+  CPRF_na  \\\n",
       "0      2000  3453.0   857.0   354.0    54.0     21.0   8125.0   \n",
       "\n",
       "   CPRF_TOTAL_FAM_NO  \n",
       "0            12861.0  "
      ]
     },
     "execution_count": 28,
     "metadata": {},
     "output_type": "execute_result"
    }
   ],
   "source": [
    "# Reset index for merging\n",
    "cprf.reset_index(inplace=True)\n",
    "cprf.head(1)"
   ]
  },
  {
   "cell_type": "markdown",
   "id": "c794ea1e",
   "metadata": {
    "hidden": true
   },
   "source": [
    "*The resulting cleanead df is <b>cprf</b>*\n",
    "\n",
    "----"
   ]
  },
  {
   "cell_type": "markdown",
   "id": "7544a6b7",
   "metadata": {
    "heading_collapsed": true
   },
   "source": [
    "## II-LGA Mapping\n",
    "\n",
    "The unique area identifier in the master housing df is postcode, however some of our features (household counts, population age and movements) are grouped by LGA. Hence, we have two tasks are hand:\n",
    "1. Map postcodes in the master df to LGA using the **mapping** data file.\n",
    "2. Resolve the mismatch of LGA names between the **mapping** df and the **feature dfs** (`hhold`,`move`,`ageband`) before they can be harmonised"
   ]
  },
  {
   "cell_type": "markdown",
   "id": "9251eadf",
   "metadata": {
    "heading_collapsed": true,
    "hidden": true
   },
   "source": [
    "### II-1. Add LGA to housing data"
   ]
  },
  {
   "cell_type": "code",
   "execution_count": 29,
   "id": "6f8e044c",
   "metadata": {
    "hidden": true
   },
   "outputs": [
    {
     "name": "stdout",
     "output_type": "stream",
     "text": [
      "number of postcodes in the master housing df: 587\n"
     ]
    }
   ],
   "source": [
    "# Read master housing data we cleaned and merged earlier\n",
    "master = pd.read_csv(\"Files/Cleaned/Master_Sales_Rent_2017Q4_2021Q1.csv\")\n",
    "\n",
    "# Number of postcodes in the master df\n",
    "print(\"number of postcodes in the master housing df:\", master['postcode'].nunique())\n",
    "\n",
    "# Store unique postcodes in the master df to an array\n",
    "pc_master = master['postcode'].unique()"
   ]
  },
  {
   "cell_type": "code",
   "execution_count": 30,
   "id": "b5d590ee",
   "metadata": {
    "hidden": true
   },
   "outputs": [
    {
     "data": {
      "text/html": [
       "<div>\n",
       "<style scoped>\n",
       "    .dataframe tbody tr th:only-of-type {\n",
       "        vertical-align: middle;\n",
       "    }\n",
       "\n",
       "    .dataframe tbody tr th {\n",
       "        vertical-align: top;\n",
       "    }\n",
       "\n",
       "    .dataframe thead th {\n",
       "        text-align: right;\n",
       "    }\n",
       "</style>\n",
       "<table border=\"1\" class=\"dataframe\">\n",
       "  <thead>\n",
       "    <tr style=\"text-align: right;\">\n",
       "      <th></th>\n",
       "      <th>LGA</th>\n",
       "      <th>council</th>\n",
       "      <th>suburb</th>\n",
       "      <th>postcode</th>\n",
       "    </tr>\n",
       "  </thead>\n",
       "  <tbody>\n",
       "    <tr>\n",
       "      <th>0</th>\n",
       "      <td>ALBURY CITY</td>\n",
       "      <td>ALBURY CITY COUNCIL</td>\n",
       "      <td>ALBURY</td>\n",
       "      <td>2640.0</td>\n",
       "    </tr>\n",
       "    <tr>\n",
       "      <th>1</th>\n",
       "      <td>ALBURY CITY</td>\n",
       "      <td>ALBURY CITY COUNCIL</td>\n",
       "      <td>EAST ALBURY</td>\n",
       "      <td>2640.0</td>\n",
       "    </tr>\n",
       "    <tr>\n",
       "      <th>2</th>\n",
       "      <td>ALBURY CITY</td>\n",
       "      <td>ALBURY CITY COUNCIL</td>\n",
       "      <td>ETTAMOGAH</td>\n",
       "      <td>2640.0</td>\n",
       "    </tr>\n",
       "    <tr>\n",
       "      <th>3</th>\n",
       "      <td>ALBURY CITY</td>\n",
       "      <td>ALBURY CITY COUNCIL</td>\n",
       "      <td>GLENROY</td>\n",
       "      <td>2640.0</td>\n",
       "    </tr>\n",
       "    <tr>\n",
       "      <th>4</th>\n",
       "      <td>ALBURY CITY</td>\n",
       "      <td>ALBURY CITY COUNCIL</td>\n",
       "      <td>HAMILTON VALLEY</td>\n",
       "      <td>2641.0</td>\n",
       "    </tr>\n",
       "  </tbody>\n",
       "</table>\n",
       "</div>"
      ],
      "text/plain": [
       "           LGA              council           suburb  postcode\n",
       "0  ALBURY CITY  ALBURY CITY COUNCIL           ALBURY    2640.0\n",
       "1  ALBURY CITY  ALBURY CITY COUNCIL      EAST ALBURY    2640.0\n",
       "2  ALBURY CITY  ALBURY CITY COUNCIL        ETTAMOGAH    2640.0\n",
       "3  ALBURY CITY  ALBURY CITY COUNCIL          GLENROY    2640.0\n",
       "4  ALBURY CITY  ALBURY CITY COUNCIL  HAMILTON VALLEY    2641.0"
      ]
     },
     "execution_count": 30,
     "metadata": {},
     "output_type": "execute_result"
    }
   ],
   "source": [
    "# Read postcode-LGA mapping data into df\n",
    "lga_poa = \"Files/Area/Postcode_and_LGA.xlsx\"\n",
    "mapping = pd.read_excel(lga_poa, sheet_name=\"SuburbLGA\", \n",
    "                        usecols=['lganame','councilnam','suburbname','postcode'])\n",
    "# Drop na\n",
    "mapping = mapping.dropna()\n",
    "\n",
    "# Rename columns \n",
    "rename_cols= {'lganame':'LGA',\n",
    "              'councilnam':'council', \n",
    "              'suburbname':'suburb'}\n",
    "mapping.rename(columns=rename_cols,inplace=True)\n",
    "\n",
    "mapping.head()"
   ]
  },
  {
   "cell_type": "code",
   "execution_count": 31,
   "id": "b06a76c6",
   "metadata": {
    "hidden": true
   },
   "outputs": [
    {
     "name": "stdout",
     "output_type": "stream",
     "text": [
      "number of postcodes in the mapping df: 622\n"
     ]
    }
   ],
   "source": [
    "# Number of postcodes in the mapping  df\n",
    "print(\"number of postcodes in the mapping df:\", mapping['postcode'].nunique())\n",
    "\n",
    "# Store unique postcodes in the mapping df to an array\n",
    "pc_map = mapping['postcode'].unique()"
   ]
  },
  {
   "cell_type": "code",
   "execution_count": 32,
   "id": "449a8f28",
   "metadata": {
    "hidden": true
   },
   "outputs": [
    {
     "name": "stdout",
     "output_type": "stream",
     "text": [
      "number of postcodes in both lists: 587\n"
     ]
    }
   ],
   "source": [
    "# Check if the mapping df covers all the postcodes in the housing df\n",
    "pc_shared = list(set(pc_master).intersection(pc_map))\n",
    "print(\"number of postcodes in both lists:\", len(pc_shared))"
   ]
  },
  {
   "cell_type": "markdown",
   "id": "727a9fb7",
   "metadata": {
    "hidden": true
   },
   "source": [
    "Great news - yes it does. \n",
    "\n",
    "However, the mapping df is not complete nor 100% accurate for some reason, there're postcodes that clearly belong to certain LGAs were mistaken as 'UNINCORPORATED'. We need to correct these errors before adding LGA info to the housing data."
   ]
  },
  {
   "cell_type": "code",
   "execution_count": 33,
   "id": "2cae2f3b",
   "metadata": {
    "hidden": true
   },
   "outputs": [
    {
     "name": "stdout",
     "output_type": "stream",
     "text": [
      "number of unicorporated postcodes: 20\n"
     ]
    },
    {
     "data": {
      "text/html": [
       "<div>\n",
       "<style scoped>\n",
       "    .dataframe tbody tr th:only-of-type {\n",
       "        vertical-align: middle;\n",
       "    }\n",
       "\n",
       "    .dataframe tbody tr th {\n",
       "        vertical-align: top;\n",
       "    }\n",
       "\n",
       "    .dataframe thead th {\n",
       "        text-align: right;\n",
       "    }\n",
       "</style>\n",
       "<table border=\"1\" class=\"dataframe\">\n",
       "  <thead>\n",
       "    <tr style=\"text-align: right;\">\n",
       "      <th></th>\n",
       "      <th>LGA</th>\n",
       "      <th>council</th>\n",
       "      <th>suburb</th>\n",
       "      <th>postcode</th>\n",
       "    </tr>\n",
       "  </thead>\n",
       "  <tbody>\n",
       "    <tr>\n",
       "      <th>4576</th>\n",
       "      <td>UNINCORPORATED</td>\n",
       "      <td>UNINCORPORATED</td>\n",
       "      <td>BARANGAROO</td>\n",
       "      <td>2000.0</td>\n",
       "    </tr>\n",
       "    <tr>\n",
       "      <th>4581</th>\n",
       "      <td>UNINCORPORATED</td>\n",
       "      <td>UNINCORPORATED</td>\n",
       "      <td>DAWES POINT</td>\n",
       "      <td>2000.0</td>\n",
       "    </tr>\n",
       "    <tr>\n",
       "      <th>4605</th>\n",
       "      <td>UNINCORPORATED</td>\n",
       "      <td>UNINCORPORATED</td>\n",
       "      <td>SYDNEY</td>\n",
       "      <td>2000.0</td>\n",
       "    </tr>\n",
       "    <tr>\n",
       "      <th>4594</th>\n",
       "      <td>UNINCORPORATED</td>\n",
       "      <td>UNINCORPORATED</td>\n",
       "      <td>MILLERS POINT</td>\n",
       "      <td>2000.0</td>\n",
       "    </tr>\n",
       "    <tr>\n",
       "      <th>4602</th>\n",
       "      <td>UNINCORPORATED</td>\n",
       "      <td>UNINCORPORATED</td>\n",
       "      <td>PYRMONT</td>\n",
       "      <td>2009.0</td>\n",
       "    </tr>\n",
       "    <tr>\n",
       "      <th>4611</th>\n",
       "      <td>UNINCORPORATED</td>\n",
       "      <td>UNINCORPORATED</td>\n",
       "      <td>WOOLLOOMOOLOO</td>\n",
       "      <td>2011.0</td>\n",
       "    </tr>\n",
       "    <tr>\n",
       "      <th>4582</th>\n",
       "      <td>UNINCORPORATED</td>\n",
       "      <td>UNINCORPORATED</td>\n",
       "      <td>DOUBLE BAY</td>\n",
       "      <td>2028.0</td>\n",
       "    </tr>\n",
       "    <tr>\n",
       "      <th>4609</th>\n",
       "      <td>UNINCORPORATED</td>\n",
       "      <td>UNINCORPORATED</td>\n",
       "      <td>WATSONS BAY</td>\n",
       "      <td>2030.0</td>\n",
       "    </tr>\n",
       "    <tr>\n",
       "      <th>4607</th>\n",
       "      <td>UNINCORPORATED</td>\n",
       "      <td>UNINCORPORATED</td>\n",
       "      <td>VAUCLUSE</td>\n",
       "      <td>2030.0</td>\n",
       "    </tr>\n",
       "    <tr>\n",
       "      <th>4575</th>\n",
       "      <td>UNINCORPORATED</td>\n",
       "      <td>UNINCORPORATED</td>\n",
       "      <td>BALMAIN</td>\n",
       "      <td>2041.0</td>\n",
       "    </tr>\n",
       "    <tr>\n",
       "      <th>4577</th>\n",
       "      <td>UNINCORPORATED</td>\n",
       "      <td>UNINCORPORATED</td>\n",
       "      <td>BIRCHGROVE</td>\n",
       "      <td>2041.0</td>\n",
       "    </tr>\n",
       "    <tr>\n",
       "      <th>4574</th>\n",
       "      <td>UNINCORPORATED</td>\n",
       "      <td>UNINCORPORATED</td>\n",
       "      <td>ABBOTSFORD</td>\n",
       "      <td>2046.0</td>\n",
       "    </tr>\n",
       "    <tr>\n",
       "      <th>4583</th>\n",
       "      <td>UNINCORPORATED</td>\n",
       "      <td>UNINCORPORATED</td>\n",
       "      <td>DRUMMOYNE</td>\n",
       "      <td>2047.0</td>\n",
       "    </tr>\n",
       "    <tr>\n",
       "      <th>4587</th>\n",
       "      <td>UNINCORPORATED</td>\n",
       "      <td>UNINCORPORATED</td>\n",
       "      <td>KIRRIBILLI</td>\n",
       "      <td>2061.0</td>\n",
       "    </tr>\n",
       "    <tr>\n",
       "      <th>4589</th>\n",
       "      <td>UNINCORPORATED</td>\n",
       "      <td>UNINCORPORATED</td>\n",
       "      <td>LANE COVE NORTH</td>\n",
       "      <td>2066.0</td>\n",
       "    </tr>\n",
       "    <tr>\n",
       "      <th>4596</th>\n",
       "      <td>UNINCORPORATED</td>\n",
       "      <td>UNINCORPORATED</td>\n",
       "      <td>MOSMAN</td>\n",
       "      <td>2088.0</td>\n",
       "    </tr>\n",
       "    <tr>\n",
       "      <th>4588</th>\n",
       "      <td>UNINCORPORATED</td>\n",
       "      <td>UNINCORPORATED</td>\n",
       "      <td>KURRABA POINT</td>\n",
       "      <td>2089.0</td>\n",
       "    </tr>\n",
       "    <tr>\n",
       "      <th>4598</th>\n",
       "      <td>UNINCORPORATED</td>\n",
       "      <td>UNINCORPORATED</td>\n",
       "      <td>NEUTRAL BAY</td>\n",
       "      <td>2089.0</td>\n",
       "    </tr>\n",
       "    <tr>\n",
       "      <th>4591</th>\n",
       "      <td>UNINCORPORATED</td>\n",
       "      <td>UNINCORPORATED</td>\n",
       "      <td>MANLY</td>\n",
       "      <td>2095.0</td>\n",
       "    </tr>\n",
       "    <tr>\n",
       "      <th>4586</th>\n",
       "      <td>UNINCORPORATED</td>\n",
       "      <td>UNINCORPORATED</td>\n",
       "      <td>HUNTERS HILL</td>\n",
       "      <td>2110.0</td>\n",
       "    </tr>\n",
       "    <tr>\n",
       "      <th>4585</th>\n",
       "      <td>UNINCORPORATED</td>\n",
       "      <td>UNINCORPORATED</td>\n",
       "      <td>GLADESVILLE</td>\n",
       "      <td>2111.0</td>\n",
       "    </tr>\n",
       "    <tr>\n",
       "      <th>4603</th>\n",
       "      <td>UNINCORPORATED</td>\n",
       "      <td>UNINCORPORATED FAR WEST</td>\n",
       "      <td>SCOTIA</td>\n",
       "      <td>2648.0</td>\n",
       "    </tr>\n",
       "    <tr>\n",
       "      <th>4601</th>\n",
       "      <td>UNINCORPORATED</td>\n",
       "      <td>UNINCORPORATED FAR WEST</td>\n",
       "      <td>POONCARIE</td>\n",
       "      <td>2648.0</td>\n",
       "    </tr>\n",
       "    <tr>\n",
       "      <th>4610</th>\n",
       "      <td>UNINCORPORATED</td>\n",
       "      <td>UNINCORPORATED FAR WEST</td>\n",
       "      <td>WHITE CLIFFS</td>\n",
       "      <td>2836.0</td>\n",
       "    </tr>\n",
       "    <tr>\n",
       "      <th>4608</th>\n",
       "      <td>UNINCORPORATED</td>\n",
       "      <td>UNINCORPORATED FAR WEST</td>\n",
       "      <td>WANAARING</td>\n",
       "      <td>2840.0</td>\n",
       "    </tr>\n",
       "    <tr>\n",
       "      <th>4592</th>\n",
       "      <td>UNINCORPORATED</td>\n",
       "      <td>UNINCORPORATED FAR WEST</td>\n",
       "      <td>MENINDEE</td>\n",
       "      <td>2879.0</td>\n",
       "    </tr>\n",
       "    <tr>\n",
       "      <th>4597</th>\n",
       "      <td>UNINCORPORATED</td>\n",
       "      <td>UNINCORPORATED FAR WEST</td>\n",
       "      <td>MUTAWINTJI</td>\n",
       "      <td>2880.0</td>\n",
       "    </tr>\n",
       "    <tr>\n",
       "      <th>4604</th>\n",
       "      <td>UNINCORPORATED</td>\n",
       "      <td>UNINCORPORATED FAR WEST</td>\n",
       "      <td>SILVERTON</td>\n",
       "      <td>2880.0</td>\n",
       "    </tr>\n",
       "    <tr>\n",
       "      <th>4595</th>\n",
       "      <td>UNINCORPORATED</td>\n",
       "      <td>UNINCORPORATED FAR WEST</td>\n",
       "      <td>MILPARINKA</td>\n",
       "      <td>2880.0</td>\n",
       "    </tr>\n",
       "    <tr>\n",
       "      <th>4606</th>\n",
       "      <td>UNINCORPORATED</td>\n",
       "      <td>UNINCORPORATED FAR WEST</td>\n",
       "      <td>TIBOOBURRA</td>\n",
       "      <td>2880.0</td>\n",
       "    </tr>\n",
       "    <tr>\n",
       "      <th>4580</th>\n",
       "      <td>UNINCORPORATED</td>\n",
       "      <td>UNINCORPORATED FAR WEST</td>\n",
       "      <td>BROUGHAMS GATE</td>\n",
       "      <td>2880.0</td>\n",
       "    </tr>\n",
       "    <tr>\n",
       "      <th>4590</th>\n",
       "      <td>UNINCORPORATED</td>\n",
       "      <td>UNINCORPORATED FAR WEST</td>\n",
       "      <td>LITTLE TOPAR</td>\n",
       "      <td>2880.0</td>\n",
       "    </tr>\n",
       "    <tr>\n",
       "      <th>4579</th>\n",
       "      <td>UNINCORPORATED</td>\n",
       "      <td>UNINCORPORATED FAR WEST</td>\n",
       "      <td>BROKEN HILL</td>\n",
       "      <td>2880.0</td>\n",
       "    </tr>\n",
       "    <tr>\n",
       "      <th>4584</th>\n",
       "      <td>UNINCORPORATED</td>\n",
       "      <td>UNINCORPORATED FAR WEST</td>\n",
       "      <td>FOWLERS GAP</td>\n",
       "      <td>2880.0</td>\n",
       "    </tr>\n",
       "    <tr>\n",
       "      <th>4600</th>\n",
       "      <td>UNINCORPORATED</td>\n",
       "      <td>UNINCORPORATED FAR WEST</td>\n",
       "      <td>PACKSADDLE</td>\n",
       "      <td>2880.0</td>\n",
       "    </tr>\n",
       "  </tbody>\n",
       "</table>\n",
       "</div>"
      ],
      "text/plain": [
       "                 LGA                  council           suburb  postcode\n",
       "4576  UNINCORPORATED           UNINCORPORATED       BARANGAROO    2000.0\n",
       "4581  UNINCORPORATED           UNINCORPORATED      DAWES POINT    2000.0\n",
       "4605  UNINCORPORATED           UNINCORPORATED           SYDNEY    2000.0\n",
       "4594  UNINCORPORATED           UNINCORPORATED    MILLERS POINT    2000.0\n",
       "4602  UNINCORPORATED           UNINCORPORATED          PYRMONT    2009.0\n",
       "4611  UNINCORPORATED           UNINCORPORATED    WOOLLOOMOOLOO    2011.0\n",
       "4582  UNINCORPORATED           UNINCORPORATED       DOUBLE BAY    2028.0\n",
       "4609  UNINCORPORATED           UNINCORPORATED      WATSONS BAY    2030.0\n",
       "4607  UNINCORPORATED           UNINCORPORATED         VAUCLUSE    2030.0\n",
       "4575  UNINCORPORATED           UNINCORPORATED          BALMAIN    2041.0\n",
       "4577  UNINCORPORATED           UNINCORPORATED       BIRCHGROVE    2041.0\n",
       "4574  UNINCORPORATED           UNINCORPORATED       ABBOTSFORD    2046.0\n",
       "4583  UNINCORPORATED           UNINCORPORATED        DRUMMOYNE    2047.0\n",
       "4587  UNINCORPORATED           UNINCORPORATED       KIRRIBILLI    2061.0\n",
       "4589  UNINCORPORATED           UNINCORPORATED  LANE COVE NORTH    2066.0\n",
       "4596  UNINCORPORATED           UNINCORPORATED           MOSMAN    2088.0\n",
       "4588  UNINCORPORATED           UNINCORPORATED    KURRABA POINT    2089.0\n",
       "4598  UNINCORPORATED           UNINCORPORATED      NEUTRAL BAY    2089.0\n",
       "4591  UNINCORPORATED           UNINCORPORATED            MANLY    2095.0\n",
       "4586  UNINCORPORATED           UNINCORPORATED     HUNTERS HILL    2110.0\n",
       "4585  UNINCORPORATED           UNINCORPORATED      GLADESVILLE    2111.0\n",
       "4603  UNINCORPORATED  UNINCORPORATED FAR WEST           SCOTIA    2648.0\n",
       "4601  UNINCORPORATED  UNINCORPORATED FAR WEST        POONCARIE    2648.0\n",
       "4610  UNINCORPORATED  UNINCORPORATED FAR WEST     WHITE CLIFFS    2836.0\n",
       "4608  UNINCORPORATED  UNINCORPORATED FAR WEST        WANAARING    2840.0\n",
       "4592  UNINCORPORATED  UNINCORPORATED FAR WEST         MENINDEE    2879.0\n",
       "4597  UNINCORPORATED  UNINCORPORATED FAR WEST       MUTAWINTJI    2880.0\n",
       "4604  UNINCORPORATED  UNINCORPORATED FAR WEST        SILVERTON    2880.0\n",
       "4595  UNINCORPORATED  UNINCORPORATED FAR WEST       MILPARINKA    2880.0\n",
       "4606  UNINCORPORATED  UNINCORPORATED FAR WEST       TIBOOBURRA    2880.0\n",
       "4580  UNINCORPORATED  UNINCORPORATED FAR WEST   BROUGHAMS GATE    2880.0\n",
       "4590  UNINCORPORATED  UNINCORPORATED FAR WEST     LITTLE TOPAR    2880.0\n",
       "4579  UNINCORPORATED  UNINCORPORATED FAR WEST      BROKEN HILL    2880.0\n",
       "4584  UNINCORPORATED  UNINCORPORATED FAR WEST      FOWLERS GAP    2880.0\n",
       "4600  UNINCORPORATED  UNINCORPORATED FAR WEST       PACKSADDLE    2880.0"
      ]
     },
     "execution_count": 33,
     "metadata": {},
     "output_type": "execute_result"
    }
   ],
   "source": [
    "# Dealing with the unincorporated\n",
    "\n",
    "unico = mapping.loc[mapping.LGA=='UNINCORPORATED']\n",
    "print(\"number of unicorporated postcodes:\", unico['postcode'].nunique())\n",
    "unico = unico.sort_values(by='postcode', ascending=True)\n",
    "unico"
   ]
  },
  {
   "cell_type": "code",
   "execution_count": 34,
   "id": "be6d2658",
   "metadata": {
    "hidden": true
   },
   "outputs": [
    {
     "data": {
      "text/html": [
       "<div>\n",
       "<style scoped>\n",
       "    .dataframe tbody tr th:only-of-type {\n",
       "        vertical-align: middle;\n",
       "    }\n",
       "\n",
       "    .dataframe tbody tr th {\n",
       "        vertical-align: top;\n",
       "    }\n",
       "\n",
       "    .dataframe thead th {\n",
       "        text-align: right;\n",
       "    }\n",
       "</style>\n",
       "<table border=\"1\" class=\"dataframe\">\n",
       "  <thead>\n",
       "    <tr style=\"text-align: right;\">\n",
       "      <th></th>\n",
       "      <th>LGA</th>\n",
       "      <th>council</th>\n",
       "      <th>suburb</th>\n",
       "      <th>postcode</th>\n",
       "    </tr>\n",
       "  </thead>\n",
       "  <tbody>\n",
       "    <tr>\n",
       "      <th>4576</th>\n",
       "      <td>SYDNEY</td>\n",
       "      <td>UNINCORPORATED</td>\n",
       "      <td>BARANGAROO</td>\n",
       "      <td>2000.0</td>\n",
       "    </tr>\n",
       "    <tr>\n",
       "      <th>4581</th>\n",
       "      <td>SYDNEY</td>\n",
       "      <td>UNINCORPORATED</td>\n",
       "      <td>DAWES POINT</td>\n",
       "      <td>2000.0</td>\n",
       "    </tr>\n",
       "    <tr>\n",
       "      <th>4605</th>\n",
       "      <td>SYDNEY</td>\n",
       "      <td>UNINCORPORATED</td>\n",
       "      <td>SYDNEY</td>\n",
       "      <td>2000.0</td>\n",
       "    </tr>\n",
       "    <tr>\n",
       "      <th>4594</th>\n",
       "      <td>SYDNEY</td>\n",
       "      <td>UNINCORPORATED</td>\n",
       "      <td>MILLERS POINT</td>\n",
       "      <td>2000.0</td>\n",
       "    </tr>\n",
       "    <tr>\n",
       "      <th>4602</th>\n",
       "      <td>SYDNEY</td>\n",
       "      <td>UNINCORPORATED</td>\n",
       "      <td>PYRMONT</td>\n",
       "      <td>2009.0</td>\n",
       "    </tr>\n",
       "    <tr>\n",
       "      <th>4611</th>\n",
       "      <td>SYDNEY</td>\n",
       "      <td>UNINCORPORATED</td>\n",
       "      <td>WOOLLOOMOOLOO</td>\n",
       "      <td>2011.0</td>\n",
       "    </tr>\n",
       "    <tr>\n",
       "      <th>4582</th>\n",
       "      <td>WOOLLAHRA</td>\n",
       "      <td>UNINCORPORATED</td>\n",
       "      <td>DOUBLE BAY</td>\n",
       "      <td>2028.0</td>\n",
       "    </tr>\n",
       "    <tr>\n",
       "      <th>4609</th>\n",
       "      <td>WOOLLAHRA</td>\n",
       "      <td>UNINCORPORATED</td>\n",
       "      <td>WATSONS BAY</td>\n",
       "      <td>2030.0</td>\n",
       "    </tr>\n",
       "    <tr>\n",
       "      <th>4607</th>\n",
       "      <td>WOOLLAHRA</td>\n",
       "      <td>UNINCORPORATED</td>\n",
       "      <td>VAUCLUSE</td>\n",
       "      <td>2030.0</td>\n",
       "    </tr>\n",
       "    <tr>\n",
       "      <th>4575</th>\n",
       "      <td>INNER WEST</td>\n",
       "      <td>UNINCORPORATED</td>\n",
       "      <td>BALMAIN</td>\n",
       "      <td>2041.0</td>\n",
       "    </tr>\n",
       "    <tr>\n",
       "      <th>4577</th>\n",
       "      <td>INNER WEST</td>\n",
       "      <td>UNINCORPORATED</td>\n",
       "      <td>BIRCHGROVE</td>\n",
       "      <td>2041.0</td>\n",
       "    </tr>\n",
       "    <tr>\n",
       "      <th>4574</th>\n",
       "      <td>CANADA BAY</td>\n",
       "      <td>UNINCORPORATED</td>\n",
       "      <td>ABBOTSFORD</td>\n",
       "      <td>2046.0</td>\n",
       "    </tr>\n",
       "    <tr>\n",
       "      <th>4583</th>\n",
       "      <td>CANADA BAY</td>\n",
       "      <td>UNINCORPORATED</td>\n",
       "      <td>DRUMMOYNE</td>\n",
       "      <td>2047.0</td>\n",
       "    </tr>\n",
       "    <tr>\n",
       "      <th>4587</th>\n",
       "      <td>NORTH SYDNEY</td>\n",
       "      <td>UNINCORPORATED</td>\n",
       "      <td>KIRRIBILLI</td>\n",
       "      <td>2061.0</td>\n",
       "    </tr>\n",
       "    <tr>\n",
       "      <th>4589</th>\n",
       "      <td>LANE COVE</td>\n",
       "      <td>UNINCORPORATED</td>\n",
       "      <td>LANE COVE NORTH</td>\n",
       "      <td>2066.0</td>\n",
       "    </tr>\n",
       "    <tr>\n",
       "      <th>4596</th>\n",
       "      <td>MOSMAN</td>\n",
       "      <td>UNINCORPORATED</td>\n",
       "      <td>MOSMAN</td>\n",
       "      <td>2088.0</td>\n",
       "    </tr>\n",
       "    <tr>\n",
       "      <th>4588</th>\n",
       "      <td>NORTH SYDNEY</td>\n",
       "      <td>UNINCORPORATED</td>\n",
       "      <td>KURRABA POINT</td>\n",
       "      <td>2089.0</td>\n",
       "    </tr>\n",
       "    <tr>\n",
       "      <th>4598</th>\n",
       "      <td>NORTH SYDNEY</td>\n",
       "      <td>UNINCORPORATED</td>\n",
       "      <td>NEUTRAL BAY</td>\n",
       "      <td>2089.0</td>\n",
       "    </tr>\n",
       "    <tr>\n",
       "      <th>4591</th>\n",
       "      <td>NORTHERN BEACHES</td>\n",
       "      <td>UNINCORPORATED</td>\n",
       "      <td>MANLY</td>\n",
       "      <td>2095.0</td>\n",
       "    </tr>\n",
       "    <tr>\n",
       "      <th>4586</th>\n",
       "      <td>HUNTERS HILL</td>\n",
       "      <td>UNINCORPORATED</td>\n",
       "      <td>HUNTERS HILL</td>\n",
       "      <td>2110.0</td>\n",
       "    </tr>\n",
       "    <tr>\n",
       "      <th>4585</th>\n",
       "      <td>RYDE</td>\n",
       "      <td>UNINCORPORATED</td>\n",
       "      <td>GLADESVILLE</td>\n",
       "      <td>2111.0</td>\n",
       "    </tr>\n",
       "  </tbody>\n",
       "</table>\n",
       "</div>"
      ],
      "text/plain": [
       "                   LGA         council           suburb  postcode\n",
       "4576            SYDNEY  UNINCORPORATED       BARANGAROO    2000.0\n",
       "4581            SYDNEY  UNINCORPORATED      DAWES POINT    2000.0\n",
       "4605            SYDNEY  UNINCORPORATED           SYDNEY    2000.0\n",
       "4594            SYDNEY  UNINCORPORATED    MILLERS POINT    2000.0\n",
       "4602            SYDNEY  UNINCORPORATED          PYRMONT    2009.0\n",
       "4611            SYDNEY  UNINCORPORATED    WOOLLOOMOOLOO    2011.0\n",
       "4582         WOOLLAHRA  UNINCORPORATED       DOUBLE BAY    2028.0\n",
       "4609         WOOLLAHRA  UNINCORPORATED      WATSONS BAY    2030.0\n",
       "4607         WOOLLAHRA  UNINCORPORATED         VAUCLUSE    2030.0\n",
       "4575        INNER WEST  UNINCORPORATED          BALMAIN    2041.0\n",
       "4577        INNER WEST  UNINCORPORATED       BIRCHGROVE    2041.0\n",
       "4574        CANADA BAY  UNINCORPORATED       ABBOTSFORD    2046.0\n",
       "4583        CANADA BAY  UNINCORPORATED        DRUMMOYNE    2047.0\n",
       "4587      NORTH SYDNEY  UNINCORPORATED       KIRRIBILLI    2061.0\n",
       "4589         LANE COVE  UNINCORPORATED  LANE COVE NORTH    2066.0\n",
       "4596            MOSMAN  UNINCORPORATED           MOSMAN    2088.0\n",
       "4588      NORTH SYDNEY  UNINCORPORATED    KURRABA POINT    2089.0\n",
       "4598      NORTH SYDNEY  UNINCORPORATED      NEUTRAL BAY    2089.0\n",
       "4591  NORTHERN BEACHES  UNINCORPORATED            MANLY    2095.0\n",
       "4586      HUNTERS HILL  UNINCORPORATED     HUNTERS HILL    2110.0\n",
       "4585              RYDE  UNINCORPORATED      GLADESVILLE    2111.0"
      ]
     },
     "execution_count": 34,
     "metadata": {},
     "output_type": "execute_result"
    }
   ],
   "source": [
    "# Import manully looked-up LGAs for unicorporated ones\n",
    "\n",
    "patch = [\"SYDNEY\",\n",
    "\"SYDNEY\",\n",
    "\"SYDNEY\",\n",
    "\"SYDNEY\",\n",
    "\"SYDNEY\",\n",
    "\"SYDNEY\",\n",
    "\"WOOLLAHRA\",\n",
    "\"WOOLLAHRA\",\n",
    "\"WOOLLAHRA\",\n",
    "\"INNER WEST\",\n",
    "\"INNER WEST\",\n",
    "\"CANADA BAY\",\n",
    "\"CANADA BAY\",\n",
    "\"NORTH SYDNEY\",\n",
    "\"LANE COVE\",\n",
    "\"MOSMAN\",\n",
    "\"NORTH SYDNEY\",\n",
    "\"NORTH SYDNEY\",\n",
    "\"NORTHERN BEACHES\",\n",
    "\"HUNTERS HILL\",\n",
    "\"RYDE\",\n",
    "\"WENTWORTH\",\n",
    "\"WENTWORTH\",\n",
    "\"CENTRAL DARLING\",\n",
    "\"BOURKE\",\n",
    "\"CENTRAL DARLING\",\n",
    "\"UNICORPORATED FAR WEST\",\n",
    "\"UNICORPORATED FAR WEST\",\n",
    "\"UNICORPORATED FAR WEST\",\n",
    "\"UNICORPORATED FAR WEST\",\n",
    "\"UNICORPORATED FAR WEST\",\n",
    "\"UNICORPORATED FAR WEST\",\n",
    "\"UNICORPORATED FAR WEST\",\n",
    "\"UNICORPORATED FAR WEST\",\n",
    "\"UNICORPORATED FAR WEST\"]\n",
    "\n",
    "# Add patch\n",
    "unico['LGA patch'] = patch\n",
    "\n",
    "# Drop LGA\n",
    "unico = unico.drop(columns=['LGA'],axis=1)\n",
    "\n",
    "# Remane patch as the new LGA\n",
    "unico = unico.rename(columns={\"LGA patch\":\"LGA\"})\n",
    "\n",
    "# Reorder columns\n",
    "cols = ['LGA', 'council', 'suburb', 'postcode']\n",
    "unico = unico[cols]\n",
    "\n",
    "unico.loc[unico['council']=='UNINCORPORATED']"
   ]
  },
  {
   "cell_type": "code",
   "execution_count": 35,
   "id": "d540331c",
   "metadata": {
    "hidden": true
   },
   "outputs": [],
   "source": [
    "# Append fixed rows back to the mapping file\n",
    "\n",
    "mapping = mapping.loc[mapping['LGA'] != \"UNINCORPORATED\"]\n",
    "mapping = mapping.append(unico)\n",
    "\n",
    "# Save complete mapping df to csv\n",
    "mapping.to_csv('Files/Area/Cleaned_LGA_Mapping_07102021.csv', index=False)"
   ]
  },
  {
   "cell_type": "markdown",
   "id": "d14481fd",
   "metadata": {
    "hidden": true
   },
   "source": [
    "Now that we've fixed the errors in the mapping data, we're ready to add it in to the housing data. Recall that we have **three versions** of cleaned housing data files that we consider 'master' - one stacked and two unstacked. We're going to add LGA to all three of them for future use. "
   ]
  },
  {
   "cell_type": "code",
   "execution_count": 36,
   "id": "c7586d5d",
   "metadata": {
    "hidden": true
   },
   "outputs": [
    {
     "data": {
      "text/html": [
       "<div>\n",
       "<style scoped>\n",
       "    .dataframe tbody tr th:only-of-type {\n",
       "        vertical-align: middle;\n",
       "    }\n",
       "\n",
       "    .dataframe tbody tr th {\n",
       "        vertical-align: top;\n",
       "    }\n",
       "\n",
       "    .dataframe thead th {\n",
       "        text-align: right;\n",
       "    }\n",
       "</style>\n",
       "<table border=\"1\" class=\"dataframe\">\n",
       "  <thead>\n",
       "    <tr style=\"text-align: right;\">\n",
       "      <th></th>\n",
       "      <th>LGA</th>\n",
       "      <th>postcode</th>\n",
       "    </tr>\n",
       "  </thead>\n",
       "  <tbody>\n",
       "    <tr>\n",
       "      <th>0</th>\n",
       "      <td>ALBURY CITY</td>\n",
       "      <td>2640.0</td>\n",
       "    </tr>\n",
       "    <tr>\n",
       "      <th>4</th>\n",
       "      <td>ALBURY CITY</td>\n",
       "      <td>2641.0</td>\n",
       "    </tr>\n",
       "  </tbody>\n",
       "</table>\n",
       "</div>"
      ],
      "text/plain": [
       "           LGA  postcode\n",
       "0  ALBURY CITY    2640.0\n",
       "4  ALBURY CITY    2641.0"
      ]
     },
     "execution_count": 36,
     "metadata": {},
     "output_type": "execute_result"
    }
   ],
   "source": [
    "# Drop the suburb and council columns\n",
    "mapping_reduce = mapping.drop(columns=['council','suburb'], axis=1)\n",
    "\n",
    "# Drop duplicates\n",
    "mapping_reduce = mapping_reduce.drop_duplicates()\n",
    "\n",
    "mapping_reduce.head(2)"
   ]
  },
  {
   "cell_type": "code",
   "execution_count": 37,
   "id": "57756536",
   "metadata": {},
   "outputs": [
    {
     "data": {
      "text/plain": [
       "['ALBURY CITY',\n",
       " 'ARMIDALE REGIONAL',\n",
       " 'BALLINA',\n",
       " 'BALRANALD',\n",
       " 'BATHURST REGIONAL',\n",
       " 'BAYSIDE',\n",
       " 'BEGA VALLEY',\n",
       " 'BELLINGEN',\n",
       " 'BERRIGAN',\n",
       " 'BLACKTOWN',\n",
       " 'BLAND',\n",
       " 'BLAYNEY',\n",
       " 'BLUE MOUNTAINS',\n",
       " 'BOGAN',\n",
       " 'BOURKE',\n",
       " 'BREWARRINA',\n",
       " 'BROKEN HILL',\n",
       " 'BURWOOD',\n",
       " 'BYRON',\n",
       " 'CABONNE',\n",
       " 'CAMDEN',\n",
       " 'CAMPBELLTOWN',\n",
       " 'CANADA BAY',\n",
       " 'CANTERBURY-BANKSTOWN',\n",
       " 'CARRATHOOL',\n",
       " 'CENTRAL COAST',\n",
       " 'CENTRAL DARLING',\n",
       " 'CESSNOCK',\n",
       " 'CITY OF PARRAMATTA',\n",
       " 'CLARENCE VALLEY',\n",
       " 'COBAR',\n",
       " 'COFFS HARBOUR',\n",
       " 'COOLAMON',\n",
       " 'COONAMBLE',\n",
       " 'COOTAMUNDRA-GUNDAGAI REGIONAL',\n",
       " 'COWRA',\n",
       " 'CUMBERLAND',\n",
       " 'DUBBO REGIONAL',\n",
       " 'DUNGOG',\n",
       " 'EDWARD RIVER',\n",
       " 'EUROBODALLA',\n",
       " 'FAIRFIELD',\n",
       " 'FEDERATION',\n",
       " 'FORBES',\n",
       " 'GEORGES RIVER',\n",
       " 'GILGANDRA',\n",
       " 'GLEN INNES SEVERN',\n",
       " 'GOULBURN MULWAREE',\n",
       " 'GREATER HUME SHIRE',\n",
       " 'GRIFFITH',\n",
       " 'GUNNEDAH',\n",
       " 'GWYDIR',\n",
       " 'HAWKESBURY',\n",
       " 'HAY',\n",
       " 'HILLTOPS',\n",
       " 'HORNSBY',\n",
       " 'HUNTERS HILL',\n",
       " 'INNER WEST',\n",
       " 'INVERELL',\n",
       " 'JUNEE',\n",
       " 'KEMPSEY',\n",
       " 'KIAMA',\n",
       " 'KU-RING-GAI',\n",
       " 'KYOGLE',\n",
       " 'LACHLAN',\n",
       " 'LAKE MACQUARIE',\n",
       " 'LANE COVE',\n",
       " 'LEETON',\n",
       " 'LISMORE',\n",
       " 'LITHGOW CITY',\n",
       " 'LIVERPOOL',\n",
       " 'LIVERPOOL PLAINS',\n",
       " 'LOCKHART',\n",
       " 'LORD HOWE ISLAND - UNINCORPORATED AREA',\n",
       " 'MAITLAND',\n",
       " 'MID-COAST',\n",
       " 'MID-WESTERN REGIONAL',\n",
       " 'MOREE PLAINS',\n",
       " 'MOSMAN',\n",
       " 'MURRAY RIVER',\n",
       " 'MURRUMBIDGEE',\n",
       " 'MUSWELLBROOK',\n",
       " 'NAMBUCCA VALLEY',\n",
       " 'NARRABRI',\n",
       " 'NARRANDERA',\n",
       " 'NARROMINE',\n",
       " 'NEWCASTLE',\n",
       " 'NORTH SYDNEY',\n",
       " 'NORTHERN BEACHES',\n",
       " 'OBERON',\n",
       " 'ORANGE',\n",
       " 'PARKES',\n",
       " 'PENRITH',\n",
       " 'PORT MACQUARIE-HASTINGS',\n",
       " 'PORT STEPHENS',\n",
       " 'QUEANBEYAN-PALERANG REGIONAL',\n",
       " 'RANDWICK',\n",
       " 'RICHMOND VALLEY',\n",
       " 'RYDE',\n",
       " 'SHELLHARBOUR',\n",
       " 'SHOALHAVEN',\n",
       " 'SINGLETON',\n",
       " 'SNOWY MONARO REGIONAL',\n",
       " 'SNOWY VALLEYS',\n",
       " 'STRATHFIELD',\n",
       " 'SUTHERLAND SHIRE',\n",
       " 'SYDNEY',\n",
       " 'TAMWORTH REGIONAL',\n",
       " 'TEMORA',\n",
       " 'TENTERFIELD',\n",
       " 'THE HILLS SHIRE',\n",
       " 'TWEED',\n",
       " 'UNICORPORATED FAR WEST',\n",
       " 'UPPER HUNTER',\n",
       " 'UPPER LACHLAN SHIRE',\n",
       " 'URALLA',\n",
       " 'WAGGA WAGGA',\n",
       " 'WALCHA',\n",
       " 'WALGETT',\n",
       " 'WARREN',\n",
       " 'WARRUMBUNGLE',\n",
       " 'WAVERLEY',\n",
       " 'WEDDIN',\n",
       " 'WENTWORTH',\n",
       " 'WILLOUGHBY',\n",
       " 'WINGECARRIBEE',\n",
       " 'WOLLONDILLY',\n",
       " 'WOLLONGONG',\n",
       " 'WOOLLAHRA',\n",
       " 'YASS VALLEY']"
      ]
     },
     "execution_count": 37,
     "metadata": {},
     "output_type": "execute_result"
    }
   ],
   "source": [
    "sorted(list(mapping_reduce['LGA'].unique()))"
   ]
  },
  {
   "cell_type": "markdown",
   "id": "5f8d8662",
   "metadata": {},
   "source": [
    "#### II-1.1 MASTER DF - STACKED"
   ]
  },
  {
   "cell_type": "code",
   "execution_count": 38,
   "id": "8a411b15",
   "metadata": {
    "hidden": true
   },
   "outputs": [
    {
     "data": {
      "text/html": [
       "<div>\n",
       "<style scoped>\n",
       "    .dataframe tbody tr th:only-of-type {\n",
       "        vertical-align: middle;\n",
       "    }\n",
       "\n",
       "    .dataframe tbody tr th {\n",
       "        vertical-align: top;\n",
       "    }\n",
       "\n",
       "    .dataframe thead th {\n",
       "        text-align: right;\n",
       "    }\n",
       "</style>\n",
       "<table border=\"1\" class=\"dataframe\">\n",
       "  <thead>\n",
       "    <tr style=\"text-align: right;\">\n",
       "      <th></th>\n",
       "      <th>postcode</th>\n",
       "      <th>LGA</th>\n",
       "      <th>skey</th>\n",
       "      <th>time_period</th>\n",
       "      <th>year</th>\n",
       "      <th>quarter</th>\n",
       "      <th>dwelling_type</th>\n",
       "      <th>median_price</th>\n",
       "      <th>mean_price</th>\n",
       "      <th>sales_no</th>\n",
       "      <th>...</th>\n",
       "      <th>Qdelta_count</th>\n",
       "      <th>Adelta_count</th>\n",
       "      <th>rkey</th>\n",
       "      <th>median_rent_newb</th>\n",
       "      <th>new_bonds_no</th>\n",
       "      <th>total_bonds_no</th>\n",
       "      <th>Qdelta_median_rent</th>\n",
       "      <th>Qdelta_new_bonds</th>\n",
       "      <th>Adelta_median_rent</th>\n",
       "      <th>Adelta_new_bonds</th>\n",
       "    </tr>\n",
       "  </thead>\n",
       "  <tbody>\n",
       "    <tr>\n",
       "      <th>0</th>\n",
       "      <td>2000</td>\n",
       "      <td>SYDNEY</td>\n",
       "      <td>s122</td>\n",
       "      <td>2017 Q3</td>\n",
       "      <td>2017</td>\n",
       "      <td>Q3</td>\n",
       "      <td>Total</td>\n",
       "      <td>1350.0</td>\n",
       "      <td>1516.328059</td>\n",
       "      <td>135.0</td>\n",
       "      <td>...</td>\n",
       "      <td>-0.325</td>\n",
       "      <td>-0.3112</td>\n",
       "      <td>r121</td>\n",
       "      <td>640.0</td>\n",
       "      <td>1169.0</td>\n",
       "      <td>7914.0</td>\n",
       "      <td>-0.2</td>\n",
       "      <td>0.5545</td>\n",
       "      <td>NaN</td>\n",
       "      <td>NaN</td>\n",
       "    </tr>\n",
       "  </tbody>\n",
       "</table>\n",
       "<p>1 rows × 22 columns</p>\n",
       "</div>"
      ],
      "text/plain": [
       "   postcode     LGA  skey time_period  year quarter dwelling_type  \\\n",
       "0      2000  SYDNEY  s122     2017 Q3  2017      Q3         Total   \n",
       "\n",
       "   median_price   mean_price  sales_no  ...  Qdelta_count  Adelta_count  rkey  \\\n",
       "0        1350.0  1516.328059     135.0  ...        -0.325       -0.3112  r121   \n",
       "\n",
       "   median_rent_newb new_bonds_no  total_bonds_no  Qdelta_median_rent  \\\n",
       "0             640.0       1169.0          7914.0                -0.2   \n",
       "\n",
       "   Qdelta_new_bonds  Adelta_median_rent  Adelta_new_bonds  \n",
       "0            0.5545                 NaN               NaN  \n",
       "\n",
       "[1 rows x 22 columns]"
      ]
     },
     "execution_count": 38,
     "metadata": {},
     "output_type": "execute_result"
    }
   ],
   "source": [
    "# Add LGA from mapping to master DF\n",
    "master_map = master.merge(mapping_reduce, left_on='postcode', right_on='postcode')\n",
    "\n",
    "cols = ['postcode', 'LGA','skey', 'time_period', 'year', 'quarter', 'dwelling_type',\n",
    "       'median_price', 'mean_price', 'sales_no', 'Qdelta_median',\n",
    "       'Adelta_median', 'Qdelta_count', 'Adelta_count', 'rkey',\n",
    "       'median_rent_newb', 'new_bonds_no', 'total_bonds_no',\n",
    "       'Qdelta_median_rent', 'Qdelta_new_bonds', 'Adelta_median_rent',\n",
    "       'Adelta_new_bonds']\n",
    "\n",
    "master_map = master_map[cols]\n",
    "master_map.head(1)"
   ]
  },
  {
   "cell_type": "code",
   "execution_count": 39,
   "id": "010c7f30",
   "metadata": {
    "hidden": true
   },
   "outputs": [],
   "source": [
    "master_map.to_csv('Files/Cleaned/Master_Sales_Rent_2017Q4_2021Q1_wLGA.csv', index=False)"
   ]
  },
  {
   "cell_type": "markdown",
   "id": "ceb85da3",
   "metadata": {},
   "source": [
    "----\n",
    "\n",
    "#### II-1.2 MASTER DF - UNSTACKED VER1"
   ]
  },
  {
   "cell_type": "code",
   "execution_count": 40,
   "id": "8f13c1c0",
   "metadata": {},
   "outputs": [
    {
     "name": "stdout",
     "output_type": "stream",
     "text": [
      "master_pivot1 shape: (493, 31)\n"
     ]
    },
    {
     "data": {
      "text/html": [
       "<div>\n",
       "<style scoped>\n",
       "    .dataframe tbody tr th:only-of-type {\n",
       "        vertical-align: middle;\n",
       "    }\n",
       "\n",
       "    .dataframe tbody tr th {\n",
       "        vertical-align: top;\n",
       "    }\n",
       "\n",
       "    .dataframe thead th {\n",
       "        text-align: right;\n",
       "    }\n",
       "</style>\n",
       "<table border=\"1\" class=\"dataframe\">\n",
       "  <thead>\n",
       "    <tr style=\"text-align: right;\">\n",
       "      <th></th>\n",
       "      <th>postcode</th>\n",
       "      <th>mean_price 2020 Q1</th>\n",
       "      <th>mean_price 2020 Q2</th>\n",
       "      <th>mean_price 2020 Q3</th>\n",
       "      <th>mean_price 2020 Q4</th>\n",
       "      <th>mean_price 2021 Q1</th>\n",
       "      <th>median_price 2020 Q1</th>\n",
       "      <th>median_price 2020 Q2</th>\n",
       "      <th>median_price 2020 Q3</th>\n",
       "      <th>median_price 2020 Q4</th>\n",
       "      <th>...</th>\n",
       "      <th>sales_no 2020 Q1</th>\n",
       "      <th>sales_no 2020 Q2</th>\n",
       "      <th>sales_no 2020 Q3</th>\n",
       "      <th>sales_no 2020 Q4</th>\n",
       "      <th>sales_no 2021 Q1</th>\n",
       "      <th>total_bonds_no 2020 Q1</th>\n",
       "      <th>total_bonds_no 2020 Q2</th>\n",
       "      <th>total_bonds_no 2020 Q3</th>\n",
       "      <th>total_bonds_no 2020 Q4</th>\n",
       "      <th>total_bonds_no 2021 Q1</th>\n",
       "    </tr>\n",
       "  </thead>\n",
       "  <tbody>\n",
       "    <tr>\n",
       "      <th>0</th>\n",
       "      <td>2000</td>\n",
       "      <td>1541.0</td>\n",
       "      <td>1322.0</td>\n",
       "      <td>1631.0</td>\n",
       "      <td>1379.0</td>\n",
       "      <td>2794.0</td>\n",
       "      <td>1225.0</td>\n",
       "      <td>1000.0</td>\n",
       "      <td>1390.0</td>\n",
       "      <td>1110.0</td>\n",
       "      <td>...</td>\n",
       "      <td>105.0</td>\n",
       "      <td>74.0</td>\n",
       "      <td>100.0</td>\n",
       "      <td>155.0</td>\n",
       "      <td>184.0</td>\n",
       "      <td>8615.0</td>\n",
       "      <td>7595.0</td>\n",
       "      <td>8069.0</td>\n",
       "      <td>9140.0</td>\n",
       "      <td>9327.0</td>\n",
       "    </tr>\n",
       "  </tbody>\n",
       "</table>\n",
       "<p>1 rows × 31 columns</p>\n",
       "</div>"
      ],
      "text/plain": [
       "   postcode  mean_price 2020 Q1  mean_price 2020 Q2  mean_price 2020 Q3  \\\n",
       "0      2000              1541.0              1322.0              1631.0   \n",
       "\n",
       "   mean_price 2020 Q4  mean_price 2021 Q1  median_price 2020 Q1  \\\n",
       "0              1379.0              2794.0                1225.0   \n",
       "\n",
       "   median_price 2020 Q2  median_price 2020 Q3  median_price 2020 Q4  ...  \\\n",
       "0                1000.0                1390.0                1110.0  ...   \n",
       "\n",
       "   sales_no 2020 Q1  sales_no 2020 Q2  sales_no 2020 Q3  sales_no 2020 Q4  \\\n",
       "0             105.0              74.0             100.0             155.0   \n",
       "\n",
       "   sales_no 2021 Q1  total_bonds_no 2020 Q1  total_bonds_no 2020 Q2  \\\n",
       "0             184.0                  8615.0                  7595.0   \n",
       "\n",
       "   total_bonds_no 2020 Q3  total_bonds_no 2020 Q4  total_bonds_no 2021 Q1  \n",
       "0                  8069.0                  9140.0                  9327.0  \n",
       "\n",
       "[1 rows x 31 columns]"
      ]
     },
     "execution_count": 40,
     "metadata": {},
     "output_type": "execute_result"
    }
   ],
   "source": [
    "# Read master housing data we cleaned and merged earlier\n",
    "master_pivot1 = pd.read_csv(\"Files/Cleaned/Pivot_Sales_Rent_5Quarters_SharedPOA.csv\")\n",
    "print(\"master_pivot1 shape:\", master_pivot1.shape)\n",
    "master_pivot1.head(1)"
   ]
  },
  {
   "cell_type": "code",
   "execution_count": 41,
   "id": "f7cc1336",
   "metadata": {},
   "outputs": [
    {
     "data": {
      "text/html": [
       "<div>\n",
       "<style scoped>\n",
       "    .dataframe tbody tr th:only-of-type {\n",
       "        vertical-align: middle;\n",
       "    }\n",
       "\n",
       "    .dataframe tbody tr th {\n",
       "        vertical-align: top;\n",
       "    }\n",
       "\n",
       "    .dataframe thead th {\n",
       "        text-align: right;\n",
       "    }\n",
       "</style>\n",
       "<table border=\"1\" class=\"dataframe\">\n",
       "  <thead>\n",
       "    <tr style=\"text-align: right;\">\n",
       "      <th></th>\n",
       "      <th>postcode</th>\n",
       "      <th>LGA</th>\n",
       "      <th>mean_price 2020 Q1</th>\n",
       "      <th>mean_price 2020 Q2</th>\n",
       "      <th>mean_price 2020 Q3</th>\n",
       "      <th>mean_price 2020 Q4</th>\n",
       "      <th>mean_price 2021 Q1</th>\n",
       "      <th>median_price 2020 Q1</th>\n",
       "      <th>median_price 2020 Q2</th>\n",
       "      <th>median_price 2020 Q3</th>\n",
       "      <th>...</th>\n",
       "      <th>sales_no 2020 Q1</th>\n",
       "      <th>sales_no 2020 Q2</th>\n",
       "      <th>sales_no 2020 Q3</th>\n",
       "      <th>sales_no 2020 Q4</th>\n",
       "      <th>sales_no 2021 Q1</th>\n",
       "      <th>total_bonds_no 2020 Q1</th>\n",
       "      <th>total_bonds_no 2020 Q2</th>\n",
       "      <th>total_bonds_no 2020 Q3</th>\n",
       "      <th>total_bonds_no 2020 Q4</th>\n",
       "      <th>total_bonds_no 2021 Q1</th>\n",
       "    </tr>\n",
       "  </thead>\n",
       "  <tbody>\n",
       "    <tr>\n",
       "      <th>0</th>\n",
       "      <td>2000</td>\n",
       "      <td>SYDNEY</td>\n",
       "      <td>1541.0</td>\n",
       "      <td>1322.0</td>\n",
       "      <td>1631.0</td>\n",
       "      <td>1379.0</td>\n",
       "      <td>2794.0</td>\n",
       "      <td>1225.0</td>\n",
       "      <td>1000.0</td>\n",
       "      <td>1390.0</td>\n",
       "      <td>...</td>\n",
       "      <td>105.0</td>\n",
       "      <td>74.0</td>\n",
       "      <td>100.0</td>\n",
       "      <td>155.0</td>\n",
       "      <td>184.0</td>\n",
       "      <td>8615.0</td>\n",
       "      <td>7595.0</td>\n",
       "      <td>8069.0</td>\n",
       "      <td>9140.0</td>\n",
       "      <td>9327.0</td>\n",
       "    </tr>\n",
       "  </tbody>\n",
       "</table>\n",
       "<p>1 rows × 32 columns</p>\n",
       "</div>"
      ],
      "text/plain": [
       "   postcode     LGA  mean_price 2020 Q1  mean_price 2020 Q2  \\\n",
       "0      2000  SYDNEY              1541.0              1322.0   \n",
       "\n",
       "   mean_price 2020 Q3  mean_price 2020 Q4  mean_price 2021 Q1  \\\n",
       "0              1631.0              1379.0              2794.0   \n",
       "\n",
       "   median_price 2020 Q1  median_price 2020 Q2  median_price 2020 Q3  ...  \\\n",
       "0                1225.0                1000.0                1390.0  ...   \n",
       "\n",
       "   sales_no 2020 Q1  sales_no 2020 Q2  sales_no 2020 Q3  sales_no 2020 Q4  \\\n",
       "0             105.0              74.0             100.0             155.0   \n",
       "\n",
       "   sales_no 2021 Q1  total_bonds_no 2020 Q1  total_bonds_no 2020 Q2  \\\n",
       "0             184.0                  8615.0                  7595.0   \n",
       "\n",
       "   total_bonds_no 2020 Q3  total_bonds_no 2020 Q4  total_bonds_no 2021 Q1  \n",
       "0                  8069.0                  9140.0                  9327.0  \n",
       "\n",
       "[1 rows x 32 columns]"
      ]
     },
     "execution_count": 41,
     "metadata": {},
     "output_type": "execute_result"
    }
   ],
   "source": [
    "# Add LGA from mapping to master DF\n",
    "master_pivot_map1 = master_pivot1.merge(mapping_reduce, left_on='postcode', right_on='postcode')\n",
    "\n",
    "cols = ['postcode', 'LGA', 'mean_price 2020 Q1', 'mean_price 2020 Q2',\n",
    "       'mean_price 2020 Q3', 'mean_price 2020 Q4', 'mean_price 2021 Q1',\n",
    "       'median_price 2020 Q1', 'median_price 2020 Q2', 'median_price 2020 Q3',\n",
    "       'median_price 2020 Q4', 'median_price 2021 Q1',\n",
    "       'median_rent_newb 2020 Q1', 'median_rent_newb 2020 Q2',\n",
    "       'median_rent_newb 2020 Q3', 'median_rent_newb 2020 Q4',\n",
    "       'median_rent_newb 2021 Q1', 'new_bonds_no 2020 Q1',\n",
    "       'new_bonds_no 2020 Q2', 'new_bonds_no 2020 Q3', 'new_bonds_no 2020 Q4',\n",
    "       'new_bonds_no 2021 Q1', 'sales_no 2020 Q1', 'sales_no 2020 Q2',\n",
    "       'sales_no 2020 Q3', 'sales_no 2020 Q4', 'sales_no 2021 Q1',\n",
    "       'total_bonds_no 2020 Q1', 'total_bonds_no 2020 Q2',\n",
    "       'total_bonds_no 2020 Q3', 'total_bonds_no 2020 Q4',\n",
    "       'total_bonds_no 2021 Q1']\n",
    "\n",
    "master_pivot_map1 = master_pivot_map1[cols]\n",
    "master_pivot_map1.head(1)"
   ]
  },
  {
   "cell_type": "code",
   "execution_count": 42,
   "id": "132c36a7",
   "metadata": {},
   "outputs": [],
   "source": [
    "master_pivot_map1.to_csv('Files/Cleaned/Master_Pivot_Sales_Rent_5Quarters_SharedPOA_wLGA.csv', index=False)"
   ]
  },
  {
   "cell_type": "code",
   "execution_count": 43,
   "id": "fd06d588",
   "metadata": {},
   "outputs": [
    {
     "data": {
      "text/plain": [
       "(858, 32)"
      ]
     },
     "execution_count": 43,
     "metadata": {},
     "output_type": "execute_result"
    }
   ],
   "source": [
    "master\n",
    "master_pivot_map1.shape"
   ]
  },
  {
   "cell_type": "markdown",
   "id": "4345bab7",
   "metadata": {},
   "source": [
    "----\n",
    "\n",
    "#### II-1.3 MASTER UNSTACKED - VER2"
   ]
  },
  {
   "cell_type": "code",
   "execution_count": 44,
   "id": "8e161309",
   "metadata": {},
   "outputs": [
    {
     "name": "stdout",
     "output_type": "stream",
     "text": [
      "master_pivot2 shape: (577, 31)\n"
     ]
    },
    {
     "data": {
      "text/html": [
       "<div>\n",
       "<style scoped>\n",
       "    .dataframe tbody tr th:only-of-type {\n",
       "        vertical-align: middle;\n",
       "    }\n",
       "\n",
       "    .dataframe tbody tr th {\n",
       "        vertical-align: top;\n",
       "    }\n",
       "\n",
       "    .dataframe thead th {\n",
       "        text-align: right;\n",
       "    }\n",
       "</style>\n",
       "<table border=\"1\" class=\"dataframe\">\n",
       "  <thead>\n",
       "    <tr style=\"text-align: right;\">\n",
       "      <th></th>\n",
       "      <th>postcode</th>\n",
       "      <th>mean_price 2020 Q1</th>\n",
       "      <th>mean_price 2020 Q2</th>\n",
       "      <th>mean_price 2020 Q3</th>\n",
       "      <th>mean_price 2020 Q4</th>\n",
       "      <th>mean_price 2021 Q1</th>\n",
       "      <th>median_price 2020 Q1</th>\n",
       "      <th>median_price 2020 Q2</th>\n",
       "      <th>median_price 2020 Q3</th>\n",
       "      <th>median_price 2020 Q4</th>\n",
       "      <th>...</th>\n",
       "      <th>sales_no 2020 Q1</th>\n",
       "      <th>sales_no 2020 Q2</th>\n",
       "      <th>sales_no 2020 Q3</th>\n",
       "      <th>sales_no 2020 Q4</th>\n",
       "      <th>sales_no 2021 Q1</th>\n",
       "      <th>total_bonds_no 2020 Q1</th>\n",
       "      <th>total_bonds_no 2020 Q2</th>\n",
       "      <th>total_bonds_no 2020 Q3</th>\n",
       "      <th>total_bonds_no 2020 Q4</th>\n",
       "      <th>total_bonds_no 2021 Q1</th>\n",
       "    </tr>\n",
       "  </thead>\n",
       "  <tbody>\n",
       "    <tr>\n",
       "      <th>0</th>\n",
       "      <td>2000</td>\n",
       "      <td>1541.0</td>\n",
       "      <td>1322.0</td>\n",
       "      <td>1631.0</td>\n",
       "      <td>1379.0</td>\n",
       "      <td>2794.0</td>\n",
       "      <td>1225.0</td>\n",
       "      <td>1000.0</td>\n",
       "      <td>1390.0</td>\n",
       "      <td>1110.0</td>\n",
       "      <td>...</td>\n",
       "      <td>105.0</td>\n",
       "      <td>74.0</td>\n",
       "      <td>100.0</td>\n",
       "      <td>155.0</td>\n",
       "      <td>184.0</td>\n",
       "      <td>8615.0</td>\n",
       "      <td>7595.0</td>\n",
       "      <td>8069.0</td>\n",
       "      <td>9140.0</td>\n",
       "      <td>9327.0</td>\n",
       "    </tr>\n",
       "  </tbody>\n",
       "</table>\n",
       "<p>1 rows × 31 columns</p>\n",
       "</div>"
      ],
      "text/plain": [
       "   postcode  mean_price 2020 Q1  mean_price 2020 Q2  mean_price 2020 Q3  \\\n",
       "0      2000              1541.0              1322.0              1631.0   \n",
       "\n",
       "   mean_price 2020 Q4  mean_price 2021 Q1  median_price 2020 Q1  \\\n",
       "0              1379.0              2794.0                1225.0   \n",
       "\n",
       "   median_price 2020 Q2  median_price 2020 Q3  median_price 2020 Q4  ...  \\\n",
       "0                1000.0                1390.0                1110.0  ...   \n",
       "\n",
       "   sales_no 2020 Q1  sales_no 2020 Q2  sales_no 2020 Q3  sales_no 2020 Q4  \\\n",
       "0             105.0              74.0             100.0             155.0   \n",
       "\n",
       "   sales_no 2021 Q1  total_bonds_no 2020 Q1  total_bonds_no 2020 Q2  \\\n",
       "0             184.0                  8615.0                  7595.0   \n",
       "\n",
       "   total_bonds_no 2020 Q3  total_bonds_no 2020 Q4  total_bonds_no 2021 Q1  \n",
       "0                  8069.0                  9140.0                  9327.0  \n",
       "\n",
       "[1 rows x 31 columns]"
      ]
     },
     "execution_count": 44,
     "metadata": {},
     "output_type": "execute_result"
    }
   ],
   "source": [
    "# Read master housing data we cleaned and merged earlier\n",
    "master_pivot2 = pd.read_csv(\"Files/Cleaned/Pivot_Sales_Rent_5Quarters_Imputed.csv\")\n",
    "print(\"master_pivot2 shape:\", master_pivot2.shape)\n",
    "master_pivot2.head(1)"
   ]
  },
  {
   "cell_type": "code",
   "execution_count": 45,
   "id": "2851c946",
   "metadata": {},
   "outputs": [
    {
     "data": {
      "text/html": [
       "<div>\n",
       "<style scoped>\n",
       "    .dataframe tbody tr th:only-of-type {\n",
       "        vertical-align: middle;\n",
       "    }\n",
       "\n",
       "    .dataframe tbody tr th {\n",
       "        vertical-align: top;\n",
       "    }\n",
       "\n",
       "    .dataframe thead th {\n",
       "        text-align: right;\n",
       "    }\n",
       "</style>\n",
       "<table border=\"1\" class=\"dataframe\">\n",
       "  <thead>\n",
       "    <tr style=\"text-align: right;\">\n",
       "      <th></th>\n",
       "      <th>postcode</th>\n",
       "      <th>LGA</th>\n",
       "      <th>mean_price 2020 Q1</th>\n",
       "      <th>mean_price 2020 Q2</th>\n",
       "      <th>mean_price 2020 Q3</th>\n",
       "      <th>mean_price 2020 Q4</th>\n",
       "      <th>mean_price 2021 Q1</th>\n",
       "      <th>median_price 2020 Q1</th>\n",
       "      <th>median_price 2020 Q2</th>\n",
       "      <th>median_price 2020 Q3</th>\n",
       "      <th>...</th>\n",
       "      <th>sales_no 2020 Q1</th>\n",
       "      <th>sales_no 2020 Q2</th>\n",
       "      <th>sales_no 2020 Q3</th>\n",
       "      <th>sales_no 2020 Q4</th>\n",
       "      <th>sales_no 2021 Q1</th>\n",
       "      <th>total_bonds_no 2020 Q1</th>\n",
       "      <th>total_bonds_no 2020 Q2</th>\n",
       "      <th>total_bonds_no 2020 Q3</th>\n",
       "      <th>total_bonds_no 2020 Q4</th>\n",
       "      <th>total_bonds_no 2021 Q1</th>\n",
       "    </tr>\n",
       "  </thead>\n",
       "  <tbody>\n",
       "    <tr>\n",
       "      <th>0</th>\n",
       "      <td>2000</td>\n",
       "      <td>SYDNEY</td>\n",
       "      <td>1541.0</td>\n",
       "      <td>1322.0</td>\n",
       "      <td>1631.0</td>\n",
       "      <td>1379.0</td>\n",
       "      <td>2794.0</td>\n",
       "      <td>1225.0</td>\n",
       "      <td>1000.0</td>\n",
       "      <td>1390.0</td>\n",
       "      <td>...</td>\n",
       "      <td>105.0</td>\n",
       "      <td>74.0</td>\n",
       "      <td>100.0</td>\n",
       "      <td>155.0</td>\n",
       "      <td>184.0</td>\n",
       "      <td>8615.0</td>\n",
       "      <td>7595.0</td>\n",
       "      <td>8069.0</td>\n",
       "      <td>9140.0</td>\n",
       "      <td>9327.0</td>\n",
       "    </tr>\n",
       "  </tbody>\n",
       "</table>\n",
       "<p>1 rows × 32 columns</p>\n",
       "</div>"
      ],
      "text/plain": [
       "   postcode     LGA  mean_price 2020 Q1  mean_price 2020 Q2  \\\n",
       "0      2000  SYDNEY              1541.0              1322.0   \n",
       "\n",
       "   mean_price 2020 Q3  mean_price 2020 Q4  mean_price 2021 Q1  \\\n",
       "0              1631.0              1379.0              2794.0   \n",
       "\n",
       "   median_price 2020 Q1  median_price 2020 Q2  median_price 2020 Q3  ...  \\\n",
       "0                1225.0                1000.0                1390.0  ...   \n",
       "\n",
       "   sales_no 2020 Q1  sales_no 2020 Q2  sales_no 2020 Q3  sales_no 2020 Q4  \\\n",
       "0             105.0              74.0             100.0             155.0   \n",
       "\n",
       "   sales_no 2021 Q1  total_bonds_no 2020 Q1  total_bonds_no 2020 Q2  \\\n",
       "0             184.0                  8615.0                  7595.0   \n",
       "\n",
       "   total_bonds_no 2020 Q3  total_bonds_no 2020 Q4  total_bonds_no 2021 Q1  \n",
       "0                  8069.0                  9140.0                  9327.0  \n",
       "\n",
       "[1 rows x 32 columns]"
      ]
     },
     "execution_count": 45,
     "metadata": {},
     "output_type": "execute_result"
    }
   ],
   "source": [
    "# Add LGA from mapping to master DF\n",
    "master_pivot_map2 = master_pivot2.merge(mapping_reduce, left_on='postcode', right_on='postcode')\n",
    "\n",
    "cols = ['postcode', 'LGA', 'mean_price 2020 Q1', 'mean_price 2020 Q2',\n",
    "       'mean_price 2020 Q3', 'mean_price 2020 Q4', 'mean_price 2021 Q1',\n",
    "       'median_price 2020 Q1', 'median_price 2020 Q2', 'median_price 2020 Q3',\n",
    "       'median_price 2020 Q4', 'median_price 2021 Q1',\n",
    "       'median_rent_newb 2020 Q1', 'median_rent_newb 2020 Q2',\n",
    "       'median_rent_newb 2020 Q3', 'median_rent_newb 2020 Q4',\n",
    "       'median_rent_newb 2021 Q1', 'new_bonds_no 2020 Q1',\n",
    "       'new_bonds_no 2020 Q2', 'new_bonds_no 2020 Q3', 'new_bonds_no 2020 Q4',\n",
    "       'new_bonds_no 2021 Q1', 'sales_no 2020 Q1', 'sales_no 2020 Q2',\n",
    "       'sales_no 2020 Q3', 'sales_no 2020 Q4', 'sales_no 2021 Q1',\n",
    "       'total_bonds_no 2020 Q1', 'total_bonds_no 2020 Q2',\n",
    "       'total_bonds_no 2020 Q3', 'total_bonds_no 2020 Q4',\n",
    "       'total_bonds_no 2021 Q1']\n",
    "\n",
    "master_pivot_map2 = master_pivot_map2[cols]\n",
    "master_pivot_map2.head(1)"
   ]
  },
  {
   "cell_type": "code",
   "execution_count": 46,
   "id": "1d9ad243",
   "metadata": {},
   "outputs": [],
   "source": [
    "master_pivot_map2.to_csv('Files/Cleaned/Master_Pivot_Sales_Rent_5Quarters_Imputed_wLGA.csv', index=False)"
   ]
  },
  {
   "cell_type": "markdown",
   "id": "a861d8e3",
   "metadata": {
    "hidden": true
   },
   "source": [
    "----\n",
    "\n",
    "### 2. Match LGA names in feature DFs to that in the master file"
   ]
  },
  {
   "cell_type": "markdown",
   "id": "74f129b0",
   "metadata": {
    "heading_collapsed": true,
    "hidden": true
   },
   "source": [
    "#### 2.1`hhold`"
   ]
  },
  {
   "cell_type": "code",
   "execution_count": 47,
   "id": "81ea1cd6",
   "metadata": {
    "hidden": true
   },
   "outputs": [
    {
     "name": "stdout",
     "output_type": "stream",
     "text": [
      "Number of LGAs in hhold: 129\n",
      "Number of LGAs in mapping: 130\n"
     ]
    }
   ],
   "source": [
    "print(\"Number of LGAs in hhold:\", hhold['LGA'].nunique())\n",
    "print(\"Number of LGAs in mapping:\", mapping['LGA'].nunique())"
   ]
  },
  {
   "cell_type": "code",
   "execution_count": 48,
   "id": "1660a224",
   "metadata": {
    "hidden": true
   },
   "outputs": [
    {
     "name": "stdout",
     "output_type": "stream",
     "text": [
      "122\n"
     ]
    }
   ],
   "source": [
    "# Find shared LGA in both \n",
    "LGA_map = list(mapping['LGA'].unique())\n",
    "LGA_hhold = list(hhold['LGA'].unique())\n",
    "LGA_HHOLD = list(map(str.upper, LGA_hhold)) # Convert LGA in hhold to uppercase\n",
    "\n",
    "LGA_shared= list(set(LGA_map).intersection(LGA_HHOLD))\n",
    "print(len(LGA_shared))"
   ]
  },
  {
   "cell_type": "code",
   "execution_count": 49,
   "id": "63488335",
   "metadata": {
    "hidden": true
   },
   "outputs": [
    {
     "data": {
      "text/plain": [
       "{'ALBURY',\n",
       " 'LITHGOW',\n",
       " 'NAMBUCCA',\n",
       " 'PARRAMATTA',\n",
       " 'UNINCORPORATED NSW',\n",
       " 'UPPER HUNTER SHIRE',\n",
       " 'WARRUMBUNGLE SHIRE'}"
      ]
     },
     "execution_count": 49,
     "metadata": {},
     "output_type": "execute_result"
    }
   ],
   "source": [
    "# Find LGA in hhold ONLY\n",
    "set(LGA_HHOLD) - set(LGA_shared)"
   ]
  },
  {
   "cell_type": "code",
   "execution_count": 50,
   "id": "4301e436",
   "metadata": {
    "hidden": true
   },
   "outputs": [],
   "source": [
    "# Match name, except for unincorporated NSW\n",
    "\n",
    "hhold.loc[hhold.LGA=='Albury', 'LGA'] = 'ALBURY CITY'\n",
    "hhold.loc[hhold.LGA=='Lithgow', 'LGA'] = 'LITHGOW CITY'\n",
    "hhold.loc[hhold.LGA=='Nambucca', 'LGA'] = 'NAMBUCCA VALLEY'\n",
    "hhold.loc[hhold.LGA=='Parramatta', 'LGA'] = 'CITY OF PARRAMATTA'\n",
    "hhold.loc[hhold.LGA=='Upper Hunter Shire', 'LGA'] = 'UPPER HUNTER'\n",
    "hhold.loc[hhold.LGA=='Warrumbungle Shire', 'LGA'] = 'WARRUMBUNGLE'"
   ]
  },
  {
   "cell_type": "code",
   "execution_count": 51,
   "id": "e93c9ebf",
   "metadata": {},
   "outputs": [
    {
     "name": "stdout",
     "output_type": "stream",
     "text": [
      "number of LGAs matched: 128\n",
      "number of LGAs in the hhold df: 129\n"
     ]
    }
   ],
   "source": [
    "LGA_hhold2 = list(hhold['LGA'].unique())\n",
    "LGA_HHOLD2 = list(map(str.upper, LGA_hhold2)) # Convert LGA in hhold to uppercase\n",
    "\n",
    "LGA_shared= list(set(LGA_map).intersection(LGA_HHOLD2))\n",
    "print(\"number of LGAs matched:\", len(LGA_shared))\n",
    "print(\"number of LGAs in the hhold df:\", hhold['LGA'].nunique())"
   ]
  },
  {
   "cell_type": "code",
   "execution_count": 52,
   "id": "815eac24",
   "metadata": {
    "hidden": true,
    "scrolled": true
   },
   "outputs": [
    {
     "data": {
      "text/html": [
       "<div>\n",
       "<style scoped>\n",
       "    .dataframe tbody tr th:only-of-type {\n",
       "        vertical-align: middle;\n",
       "    }\n",
       "\n",
       "    .dataframe tbody tr th {\n",
       "        vertical-align: top;\n",
       "    }\n",
       "\n",
       "    .dataframe thead th {\n",
       "        text-align: right;\n",
       "    }\n",
       "</style>\n",
       "<table border=\"1\" class=\"dataframe\">\n",
       "  <thead>\n",
       "    <tr style=\"text-align: right;\">\n",
       "      <th></th>\n",
       "      <th>LGA</th>\n",
       "      <th>hhold_count_2016</th>\n",
       "      <th>hhold_count_2021</th>\n",
       "      <th>hhold_count_delta</th>\n",
       "    </tr>\n",
       "  </thead>\n",
       "  <tbody>\n",
       "    <tr>\n",
       "      <th>0</th>\n",
       "      <td>ALBURY CITY</td>\n",
       "      <td>21940</td>\n",
       "      <td>23227</td>\n",
       "      <td>1287</td>\n",
       "    </tr>\n",
       "  </tbody>\n",
       "</table>\n",
       "</div>"
      ],
      "text/plain": [
       "           LGA  hhold_count_2016  hhold_count_2021  hhold_count_delta\n",
       "0  ALBURY CITY             21940             23227               1287"
      ]
     },
     "execution_count": 52,
     "metadata": {},
     "output_type": "execute_result"
    }
   ],
   "source": [
    "# making the LGAs uppercase\n",
    "hhold['LGA'] = hhold['LGA'].str.upper()\n",
    "hhold.head(1)"
   ]
  },
  {
   "cell_type": "markdown",
   "id": "037203f0",
   "metadata": {
    "heading_collapsed": true,
    "hidden": true
   },
   "source": [
    "#### 2.2 `move`"
   ]
  },
  {
   "cell_type": "code",
   "execution_count": 53,
   "id": "fcd3a02f",
   "metadata": {
    "hidden": true
   },
   "outputs": [
    {
     "data": {
      "text/html": [
       "<div>\n",
       "<style scoped>\n",
       "    .dataframe tbody tr th:only-of-type {\n",
       "        vertical-align: middle;\n",
       "    }\n",
       "\n",
       "    .dataframe tbody tr th {\n",
       "        vertical-align: top;\n",
       "    }\n",
       "\n",
       "    .dataframe thead th {\n",
       "        text-align: right;\n",
       "    }\n",
       "</style>\n",
       "<table border=\"1\" class=\"dataframe\">\n",
       "  <thead>\n",
       "    <tr style=\"text-align: right;\">\n",
       "      <th>pop_move</th>\n",
       "      <th>LGA</th>\n",
       "      <th>Births_16_21</th>\n",
       "      <th>Deaths_16_21</th>\n",
       "      <th>Natural change</th>\n",
       "      <th>Net Migration (all sources)</th>\n",
       "      <th>population_2021</th>\n",
       "      <th>population_2016</th>\n",
       "      <th>pop_delta</th>\n",
       "    </tr>\n",
       "  </thead>\n",
       "  <tbody>\n",
       "    <tr>\n",
       "      <th>0</th>\n",
       "      <td>Albury</td>\n",
       "      <td>3390.0</td>\n",
       "      <td>2219.0</td>\n",
       "      <td>1171.0</td>\n",
       "      <td>1031.0</td>\n",
       "      <td>54374.0</td>\n",
       "      <td>52171.0</td>\n",
       "      <td>2203.0</td>\n",
       "    </tr>\n",
       "  </tbody>\n",
       "</table>\n",
       "</div>"
      ],
      "text/plain": [
       "pop_move     LGA  Births_16_21  Deaths_16_21    Natural change  \\\n",
       "0         Albury        3390.0        2219.0            1171.0   \n",
       "\n",
       "pop_move    Net Migration (all sources)  population_2021  population_2016  \\\n",
       "0                                1031.0          54374.0          52171.0   \n",
       "\n",
       "pop_move  pop_delta  \n",
       "0            2203.0  "
      ]
     },
     "execution_count": 53,
     "metadata": {},
     "output_type": "execute_result"
    }
   ],
   "source": [
    "move.head(1)"
   ]
  },
  {
   "cell_type": "code",
   "execution_count": 54,
   "id": "b8e6f2f5",
   "metadata": {},
   "outputs": [
    {
     "name": "stdout",
     "output_type": "stream",
     "text": [
      "Number of LGAs in the ageband df: 129\n",
      "Common LGAs in raw move and raw hhold df: 129\n"
     ]
    }
   ],
   "source": [
    "# Check if ageband df and hhold df has the same LGAs\n",
    "LGA_move = list(move['LGA'].unique())\n",
    "\n",
    "print(\"Number of LGAs in the ageband df:\", len(LGA_move))\n",
    "move_hhold = list(set(LGA_hhold).intersection(LGA_move))\n",
    "print(\"Common LGAs in raw move and raw hhold df:\", len(move_hhold))"
   ]
  },
  {
   "cell_type": "code",
   "execution_count": 55,
   "id": "74059a15",
   "metadata": {
    "hidden": true
   },
   "outputs": [
    {
     "data": {
      "text/html": [
       "<div>\n",
       "<style scoped>\n",
       "    .dataframe tbody tr th:only-of-type {\n",
       "        vertical-align: middle;\n",
       "    }\n",
       "\n",
       "    .dataframe tbody tr th {\n",
       "        vertical-align: top;\n",
       "    }\n",
       "\n",
       "    .dataframe thead th {\n",
       "        text-align: right;\n",
       "    }\n",
       "</style>\n",
       "<table border=\"1\" class=\"dataframe\">\n",
       "  <thead>\n",
       "    <tr style=\"text-align: right;\">\n",
       "      <th>pop_move</th>\n",
       "      <th>LGA</th>\n",
       "      <th>Births_16_21</th>\n",
       "      <th>Deaths_16_21</th>\n",
       "      <th>Natural change</th>\n",
       "      <th>Net Migration (all sources)</th>\n",
       "      <th>population_2021</th>\n",
       "      <th>population_2016</th>\n",
       "      <th>pop_delta</th>\n",
       "    </tr>\n",
       "  </thead>\n",
       "  <tbody>\n",
       "    <tr>\n",
       "      <th>0</th>\n",
       "      <td>ALBURY CITY</td>\n",
       "      <td>3390.0</td>\n",
       "      <td>2219.0</td>\n",
       "      <td>1171.0</td>\n",
       "      <td>1031.0</td>\n",
       "      <td>54374.0</td>\n",
       "      <td>52171.0</td>\n",
       "      <td>2203.0</td>\n",
       "    </tr>\n",
       "    <tr>\n",
       "      <th>1</th>\n",
       "      <td>ARMIDALE REGIONAL</td>\n",
       "      <td>1768.0</td>\n",
       "      <td>1266.0</td>\n",
       "      <td>502.0</td>\n",
       "      <td>1921.0</td>\n",
       "      <td>32736.0</td>\n",
       "      <td>30313.0</td>\n",
       "      <td>2423.0</td>\n",
       "    </tr>\n",
       "    <tr>\n",
       "      <th>2</th>\n",
       "      <td>BALLINA</td>\n",
       "      <td>1790.0</td>\n",
       "      <td>2491.0</td>\n",
       "      <td>-701.0</td>\n",
       "      <td>1945.0</td>\n",
       "      <td>44237.0</td>\n",
       "      <td>42993.0</td>\n",
       "      <td>1244.0</td>\n",
       "    </tr>\n",
       "    <tr>\n",
       "      <th>3</th>\n",
       "      <td>BALRANALD</td>\n",
       "      <td>194.0</td>\n",
       "      <td>96.0</td>\n",
       "      <td>98.0</td>\n",
       "      <td>8.0</td>\n",
       "      <td>2437.0</td>\n",
       "      <td>2330.0</td>\n",
       "      <td>107.0</td>\n",
       "    </tr>\n",
       "    <tr>\n",
       "      <th>4</th>\n",
       "      <td>BATHURST REGIONAL</td>\n",
       "      <td>2500.0</td>\n",
       "      <td>1710.0</td>\n",
       "      <td>790.0</td>\n",
       "      <td>1277.0</td>\n",
       "      <td>44310.0</td>\n",
       "      <td>42244.0</td>\n",
       "      <td>2066.0</td>\n",
       "    </tr>\n",
       "  </tbody>\n",
       "</table>\n",
       "</div>"
      ],
      "text/plain": [
       "pop_move                LGA  Births_16_21  Deaths_16_21    Natural change  \\\n",
       "0               ALBURY CITY        3390.0        2219.0            1171.0   \n",
       "1         ARMIDALE REGIONAL        1768.0        1266.0             502.0   \n",
       "2                   BALLINA        1790.0        2491.0            -701.0   \n",
       "3                 BALRANALD         194.0          96.0              98.0   \n",
       "4         BATHURST REGIONAL        2500.0        1710.0             790.0   \n",
       "\n",
       "pop_move    Net Migration (all sources)  population_2021  population_2016  \\\n",
       "0                                1031.0          54374.0          52171.0   \n",
       "1                                1921.0          32736.0          30313.0   \n",
       "2                                1945.0          44237.0          42993.0   \n",
       "3                                   8.0           2437.0           2330.0   \n",
       "4                                1277.0          44310.0          42244.0   \n",
       "\n",
       "pop_move  pop_delta  \n",
       "0            2203.0  \n",
       "1            2423.0  \n",
       "2            1244.0  \n",
       "3             107.0  \n",
       "4            2066.0  "
      ]
     },
     "execution_count": 55,
     "metadata": {},
     "output_type": "execute_result"
    }
   ],
   "source": [
    "# Match name, except for unincorporated NSW\n",
    "move.loc[move.LGA=='Albury', 'LGA'] = 'ALBURY CITY'\n",
    "move.loc[move.LGA=='Lithgow', 'LGA'] = 'LITHGOW CITY'\n",
    "move.loc[move.LGA=='Nambucca', 'LGA'] = 'NAMBUCCA VALLEY'\n",
    "move.loc[move.LGA=='Parramatta', 'LGA'] = 'CITY OF PARRAMATTA'\n",
    "move.loc[move.LGA=='Upper Hunter Shire', 'LGA'] = 'UPPER HUNTER'\n",
    "move.loc[move.LGA=='Warrumbungle Shire', 'LGA'] = 'WARRUMBUNGLE'\n",
    "\n",
    "move['LGA'] = move['LGA'].str.upper()\n",
    "\n",
    "move.head()"
   ]
  },
  {
   "cell_type": "code",
   "execution_count": 56,
   "id": "a11e4be8",
   "metadata": {
    "hidden": true
   },
   "outputs": [
    {
     "name": "stdout",
     "output_type": "stream",
     "text": [
      "matched LGA in mapping and move: 128\n"
     ]
    }
   ],
   "source": [
    "# Check matching result\n",
    "\n",
    "LGA_MOVE = list(move['LGA'].unique())\n",
    "move_map= list(set(LGA_map).intersection(LGA_MOVE))\n",
    "print(\"matched LGA in mapping and move:\", len(move_map))"
   ]
  },
  {
   "cell_type": "markdown",
   "id": "35359fd0",
   "metadata": {
    "heading_collapsed": true,
    "hidden": true
   },
   "source": [
    "#### 2.3 `ageband`"
   ]
  },
  {
   "cell_type": "code",
   "execution_count": 57,
   "id": "79cd9b5a",
   "metadata": {
    "hidden": true
   },
   "outputs": [
    {
     "data": {
      "text/html": [
       "<div>\n",
       "<style scoped>\n",
       "    .dataframe tbody tr th:only-of-type {\n",
       "        vertical-align: middle;\n",
       "    }\n",
       "\n",
       "    .dataframe tbody tr th {\n",
       "        vertical-align: top;\n",
       "    }\n",
       "\n",
       "    .dataframe thead th {\n",
       "        text-align: right;\n",
       "    }\n",
       "</style>\n",
       "<table border=\"1\" class=\"dataframe\">\n",
       "  <thead>\n",
       "    <tr style=\"text-align: right;\">\n",
       "      <th>age_bracket</th>\n",
       "      <th>LGA</th>\n",
       "      <th>Adult</th>\n",
       "      <th>Child</th>\n",
       "      <th>MiddleAge</th>\n",
       "      <th>Senior</th>\n",
       "      <th>Youth</th>\n",
       "    </tr>\n",
       "  </thead>\n",
       "  <tbody>\n",
       "    <tr>\n",
       "      <th>0</th>\n",
       "      <td>Albury</td>\n",
       "      <td>485</td>\n",
       "      <td>269</td>\n",
       "      <td>302</td>\n",
       "      <td>1519</td>\n",
       "      <td>-371</td>\n",
       "    </tr>\n",
       "  </tbody>\n",
       "</table>\n",
       "</div>"
      ],
      "text/plain": [
       "age_bracket     LGA  Adult  Child  MiddleAge  Senior  Youth\n",
       "0            Albury    485    269        302    1519   -371"
      ]
     },
     "execution_count": 57,
     "metadata": {},
     "output_type": "execute_result"
    }
   ],
   "source": [
    "ageband.head(1)"
   ]
  },
  {
   "cell_type": "code",
   "execution_count": 58,
   "id": "4b9feb1d",
   "metadata": {
    "hidden": true
   },
   "outputs": [
    {
     "name": "stdout",
     "output_type": "stream",
     "text": [
      "Number of LGAs in the ageband df: 129\n",
      "Common LGAs in raw move and raw hhold df: 129\n"
     ]
    }
   ],
   "source": [
    "# Check if ageband df and hhold df has the same LGAs\n",
    "LGA_age = list(ageband['LGA'].unique())\n",
    "\n",
    "print(\"Number of LGAs in the ageband df:\", len(LGA_age))\n",
    "age_hhold = list(set(LGA_hhold).intersection(LGA_age))\n",
    "print(\"Common LGAs in raw move and raw hhold df:\", len(age_hhold))"
   ]
  },
  {
   "cell_type": "code",
   "execution_count": 59,
   "id": "492cdab9",
   "metadata": {
    "hidden": true
   },
   "outputs": [
    {
     "data": {
      "text/html": [
       "<div>\n",
       "<style scoped>\n",
       "    .dataframe tbody tr th:only-of-type {\n",
       "        vertical-align: middle;\n",
       "    }\n",
       "\n",
       "    .dataframe tbody tr th {\n",
       "        vertical-align: top;\n",
       "    }\n",
       "\n",
       "    .dataframe thead th {\n",
       "        text-align: right;\n",
       "    }\n",
       "</style>\n",
       "<table border=\"1\" class=\"dataframe\">\n",
       "  <thead>\n",
       "    <tr style=\"text-align: right;\">\n",
       "      <th>age_bracket</th>\n",
       "      <th>LGA</th>\n",
       "      <th>Adult</th>\n",
       "      <th>Child</th>\n",
       "      <th>MiddleAge</th>\n",
       "      <th>Senior</th>\n",
       "      <th>Youth</th>\n",
       "    </tr>\n",
       "  </thead>\n",
       "  <tbody>\n",
       "    <tr>\n",
       "      <th>0</th>\n",
       "      <td>ALBURY CITY</td>\n",
       "      <td>485</td>\n",
       "      <td>269</td>\n",
       "      <td>302</td>\n",
       "      <td>1519</td>\n",
       "      <td>-371</td>\n",
       "    </tr>\n",
       "  </tbody>\n",
       "</table>\n",
       "</div>"
      ],
      "text/plain": [
       "age_bracket          LGA  Adult  Child  MiddleAge  Senior  Youth\n",
       "0            ALBURY CITY    485    269        302    1519   -371"
      ]
     },
     "execution_count": 59,
     "metadata": {},
     "output_type": "execute_result"
    }
   ],
   "source": [
    "# Apply the same renaming procedure to ageband\n",
    "ageband.loc[ageband.LGA=='Albury', 'LGA'] = 'ALBURY CITY'\n",
    "ageband.loc[ageband.LGA=='Lithgow', 'LGA'] = 'LITHGOW CITY'\n",
    "ageband.loc[ageband.LGA=='Nambucca', 'LGA'] = 'NAMBUCCA VALLEY'\n",
    "ageband.loc[ageband.LGA=='Parramatta', 'LGA'] = 'CITY OF PARRAMATTA'\n",
    "ageband.loc[ageband.LGA=='Upper Hunter Shire', 'LGA'] = 'UPPER HUNTER'\n",
    "ageband.loc[ageband.LGA=='Warrumbungle Shire', 'LGA'] = 'WARRUMBUNGLE'\n",
    "\n",
    "ageband['LGA'] = ageband['LGA'].str.upper()\n",
    "\n",
    "ageband.head(1)"
   ]
  },
  {
   "cell_type": "code",
   "execution_count": 60,
   "id": "3326daea",
   "metadata": {
    "hidden": true
   },
   "outputs": [
    {
     "name": "stdout",
     "output_type": "stream",
     "text": [
      "matched LGA in mapping and ageband: 128\n"
     ]
    }
   ],
   "source": [
    "# Check matching result\n",
    "LGA_AGE = list(ageband['LGA'].unique())\n",
    "age_map= list(set(LGA_map).intersection(LGA_AGE))\n",
    "print(\"matched LGA in mapping and ageband:\", len(age_map))"
   ]
  },
  {
   "cell_type": "markdown",
   "id": "8881bf31",
   "metadata": {},
   "source": [
    "----\n",
    "\n",
    "## III. Group Features into Three DataFrames\n",
    "\n",
    "For the 7 features we\n",
    "1. Cross-section features using <u>LGA</u> as key: `hhold`, `move` and `ageband`, which we'll merge into **`features_LGA`**\n",
    "\n",
    "\n",
    "2. Cross-section features using <u>postcodes</u> as key: taken from the 2016 census, `incp_gr` (weekly income), `cprf` (household size). These features will be merged into **`features_postcode`**, and then be merged into the master data\n",
    "\n",
    "\n",
    "3. Time-series features: ranging from 2011-2021, use <u>time period</u> as key (`yields_join` (bond yields), `rates_join` (interest rates), `df_cons_clean` (construction activities). These features will be merged into **`features_timePeriod`**\n",
    "\n",
    "help with *merge()* https://pandas.pydata.org/pandas-docs/stable/user_guide/merging.html"
   ]
  },
  {
   "cell_type": "markdown",
   "id": "15e6b2e5",
   "metadata": {},
   "source": [
    "### III-1 `features_LGA`\n",
    "\n",
    "Merge `hhold`, `move` and `ageband`"
   ]
  },
  {
   "cell_type": "code",
   "execution_count": 61,
   "id": "1acd3b9f",
   "metadata": {},
   "outputs": [
    {
     "data": {
      "text/html": [
       "<div>\n",
       "<style scoped>\n",
       "    .dataframe tbody tr th:only-of-type {\n",
       "        vertical-align: middle;\n",
       "    }\n",
       "\n",
       "    .dataframe tbody tr th {\n",
       "        vertical-align: top;\n",
       "    }\n",
       "\n",
       "    .dataframe thead th {\n",
       "        text-align: right;\n",
       "    }\n",
       "</style>\n",
       "<table border=\"1\" class=\"dataframe\">\n",
       "  <thead>\n",
       "    <tr style=\"text-align: right;\">\n",
       "      <th></th>\n",
       "      <th>LGA</th>\n",
       "      <th>hhold_count_2016</th>\n",
       "      <th>hhold_count_2021</th>\n",
       "      <th>hhold_count_delta</th>\n",
       "      <th>Births_16_21</th>\n",
       "      <th>Deaths_16_21</th>\n",
       "      <th>Natural change</th>\n",
       "      <th>Net Migration (all sources)</th>\n",
       "      <th>population_2021</th>\n",
       "      <th>population_2016</th>\n",
       "      <th>pop_delta</th>\n",
       "      <th>Adult</th>\n",
       "      <th>Child</th>\n",
       "      <th>MiddleAge</th>\n",
       "      <th>Senior</th>\n",
       "      <th>Youth</th>\n",
       "    </tr>\n",
       "  </thead>\n",
       "  <tbody>\n",
       "    <tr>\n",
       "      <th>0</th>\n",
       "      <td>ALBURY CITY</td>\n",
       "      <td>21940</td>\n",
       "      <td>23227</td>\n",
       "      <td>1287</td>\n",
       "      <td>3390.0</td>\n",
       "      <td>2219.0</td>\n",
       "      <td>1171.0</td>\n",
       "      <td>1031.0</td>\n",
       "      <td>54374.0</td>\n",
       "      <td>52171.0</td>\n",
       "      <td>2203.0</td>\n",
       "      <td>485</td>\n",
       "      <td>269</td>\n",
       "      <td>302</td>\n",
       "      <td>1519</td>\n",
       "      <td>-371</td>\n",
       "    </tr>\n",
       "  </tbody>\n",
       "</table>\n",
       "</div>"
      ],
      "text/plain": [
       "           LGA  hhold_count_2016  hhold_count_2021  hhold_count_delta  \\\n",
       "0  ALBURY CITY             21940             23227               1287   \n",
       "\n",
       "   Births_16_21  Deaths_16_21    Natural change  \\\n",
       "0        3390.0        2219.0            1171.0   \n",
       "\n",
       "     Net Migration (all sources)  population_2021  population_2016  pop_delta  \\\n",
       "0                         1031.0          54374.0          52171.0     2203.0   \n",
       "\n",
       "   Adult  Child  MiddleAge  Senior  Youth  \n",
       "0    485    269        302    1519   -371  "
      ]
     },
     "execution_count": 61,
     "metadata": {},
     "output_type": "execute_result"
    }
   ],
   "source": [
    "features_LGA = hhold.merge(move, left_on='LGA', right_on='LGA')\n",
    "features_LGA = features_LGA.merge(ageband, left_on='LGA', right_on='LGA')\n",
    "features_LGA.head(1)"
   ]
  },
  {
   "cell_type": "code",
   "execution_count": 62,
   "id": "1c7a47d6",
   "metadata": {},
   "outputs": [],
   "source": [
    "features_LGA.to_csv('Files/Population/Population_cleaned_081021.csv', index=False)"
   ]
  },
  {
   "cell_type": "markdown",
   "id": "66505b4d",
   "metadata": {
    "heading_collapsed": true
   },
   "source": [
    "### III-2 `features_postcode`\n",
    "\n",
    "Merge `incp_gr` (weekly income) and `cprf` (household size)"
   ]
  },
  {
   "cell_type": "code",
   "execution_count": 63,
   "id": "abe76fa4",
   "metadata": {
    "hidden": true
   },
   "outputs": [
    {
     "name": "stdout",
     "output_type": "stream",
     "text": [
      "number of postcodes in incp: 618\n",
      "number of postcodes in cprf: 618\n"
     ]
    }
   ],
   "source": [
    "print(\"number of postcodes in incp:\", len(set(incp_gr['postcode'])))\n",
    "print(\"number of postcodes in cprf:\", len(set(cprf['postcode'])))"
   ]
  },
  {
   "cell_type": "code",
   "execution_count": 64,
   "id": "c754f75c",
   "metadata": {
    "hidden": true
   },
   "outputs": [
    {
     "data": {
      "text/html": [
       "<div>\n",
       "<style scoped>\n",
       "    .dataframe tbody tr th:only-of-type {\n",
       "        vertical-align: middle;\n",
       "    }\n",
       "\n",
       "    .dataframe tbody tr th {\n",
       "        vertical-align: top;\n",
       "    }\n",
       "\n",
       "    .dataframe thead th {\n",
       "        text-align: right;\n",
       "    }\n",
       "</style>\n",
       "<table border=\"1\" class=\"dataframe\">\n",
       "  <thead>\n",
       "    <tr style=\"text-align: right;\">\n",
       "      <th></th>\n",
       "      <th>postcode</th>\n",
       "      <th>INCP_LOW</th>\n",
       "      <th>INCP_MID</th>\n",
       "      <th>INCP_HIGH</th>\n",
       "      <th>INCP_NEG_NIL</th>\n",
       "      <th>CPRF_2</th>\n",
       "      <th>CPRF_3</th>\n",
       "      <th>CPRF_4</th>\n",
       "      <th>CPRF_5</th>\n",
       "      <th>CPRF_6+</th>\n",
       "      <th>CPRF_na</th>\n",
       "      <th>CPRF_TOTAL_FAM_NO</th>\n",
       "    </tr>\n",
       "  </thead>\n",
       "  <tbody>\n",
       "    <tr>\n",
       "      <th>0</th>\n",
       "      <td>2000</td>\n",
       "      <td>9307</td>\n",
       "      <td>5319</td>\n",
       "      <td>3929</td>\n",
       "      <td>3501</td>\n",
       "      <td>3453.0</td>\n",
       "      <td>857.0</td>\n",
       "      <td>354.0</td>\n",
       "      <td>54.0</td>\n",
       "      <td>21.0</td>\n",
       "      <td>8125.0</td>\n",
       "      <td>12861.0</td>\n",
       "    </tr>\n",
       "    <tr>\n",
       "      <th>1</th>\n",
       "      <td>2006</td>\n",
       "      <td>747</td>\n",
       "      <td>32</td>\n",
       "      <td>18</td>\n",
       "      <td>276</td>\n",
       "      <td>0.0</td>\n",
       "      <td>0.0</td>\n",
       "      <td>0.0</td>\n",
       "      <td>0.0</td>\n",
       "      <td>5.0</td>\n",
       "      <td>13.0</td>\n",
       "      <td>18.0</td>\n",
       "    </tr>\n",
       "    <tr>\n",
       "      <th>2</th>\n",
       "      <td>2007</td>\n",
       "      <td>2803</td>\n",
       "      <td>1458</td>\n",
       "      <td>718</td>\n",
       "      <td>2410</td>\n",
       "      <td>830.0</td>\n",
       "      <td>215.0</td>\n",
       "      <td>98.0</td>\n",
       "      <td>25.0</td>\n",
       "      <td>4.0</td>\n",
       "      <td>2524.0</td>\n",
       "      <td>3696.0</td>\n",
       "    </tr>\n",
       "    <tr>\n",
       "      <th>3</th>\n",
       "      <td>2008</td>\n",
       "      <td>3321</td>\n",
       "      <td>2496</td>\n",
       "      <td>1352</td>\n",
       "      <td>2779</td>\n",
       "      <td>1308.0</td>\n",
       "      <td>243.0</td>\n",
       "      <td>105.0</td>\n",
       "      <td>17.0</td>\n",
       "      <td>7.0</td>\n",
       "      <td>3813.0</td>\n",
       "      <td>5493.0</td>\n",
       "    </tr>\n",
       "    <tr>\n",
       "      <th>4</th>\n",
       "      <td>2009</td>\n",
       "      <td>2896</td>\n",
       "      <td>3232</td>\n",
       "      <td>3205</td>\n",
       "      <td>1040</td>\n",
       "      <td>2107.0</td>\n",
       "      <td>635.0</td>\n",
       "      <td>298.0</td>\n",
       "      <td>56.0</td>\n",
       "      <td>8.0</td>\n",
       "      <td>3321.0</td>\n",
       "      <td>6421.0</td>\n",
       "    </tr>\n",
       "  </tbody>\n",
       "</table>\n",
       "</div>"
      ],
      "text/plain": [
       "   postcode  INCP_LOW  INCP_MID  INCP_HIGH  INCP_NEG_NIL  CPRF_2  CPRF_3  \\\n",
       "0      2000      9307      5319       3929          3501  3453.0   857.0   \n",
       "1      2006       747        32         18           276     0.0     0.0   \n",
       "2      2007      2803      1458        718          2410   830.0   215.0   \n",
       "3      2008      3321      2496       1352          2779  1308.0   243.0   \n",
       "4      2009      2896      3232       3205          1040  2107.0   635.0   \n",
       "\n",
       "   CPRF_4  CPRF_5  CPRF_6+  CPRF_na  CPRF_TOTAL_FAM_NO  \n",
       "0   354.0    54.0     21.0   8125.0            12861.0  \n",
       "1     0.0     0.0      5.0     13.0               18.0  \n",
       "2    98.0    25.0      4.0   2524.0             3696.0  \n",
       "3   105.0    17.0      7.0   3813.0             5493.0  \n",
       "4   298.0    56.0      8.0   3321.0             6421.0  "
      ]
     },
     "execution_count": 64,
     "metadata": {},
     "output_type": "execute_result"
    }
   ],
   "source": [
    "# Merge\n",
    "features_postcode = pd.merge(incp_gr, cprf, on='postcode')\n",
    "features_postcode.head()"
   ]
  },
  {
   "cell_type": "code",
   "execution_count": 65,
   "id": "a67b0b41",
   "metadata": {
    "hidden": true
   },
   "outputs": [
    {
     "name": "stdout",
     "output_type": "stream",
     "text": [
      "Number of postcodes in features_postcode: 618\n"
     ]
    }
   ],
   "source": [
    "print(\"Number of postcodes in features_postcode:\",len(set(features_postcode['postcode'])))"
   ]
  },
  {
   "cell_type": "markdown",
   "id": "390b0537",
   "metadata": {
    "heading_collapsed": true
   },
   "source": [
    "### III-3 `features_timePeriod`\n",
    "Merge`yields_join` (bond yields), `rates_join` (interest rates), `df_cons_clean` (construction activities)"
   ]
  },
  {
   "cell_type": "code",
   "execution_count": 66,
   "id": "6bc30a92",
   "metadata": {},
   "outputs": [
    {
     "name": "stdout",
     "output_type": "stream",
     "text": [
      "number of time period in bond yields: 33\n",
      "number of time period in interest rates: 43\n",
      "number of time period in construction: 37\n"
     ]
    }
   ],
   "source": [
    "print(\"number of time period in bond yields:\", len(set(yields_join['time_period'])))\n",
    "print(\"number of time period in interest rates:\", len(set(rates_join['time_period'])))\n",
    "print(\"number of time period in construction:\", len(set(df_cons_clean['time_period'])))"
   ]
  },
  {
   "cell_type": "markdown",
   "id": "0c646452",
   "metadata": {},
   "source": [
    "We'll only keep the shared time periods in the three dataframes."
   ]
  },
  {
   "cell_type": "code",
   "execution_count": 67,
   "id": "32d1e27c",
   "metadata": {
    "hidden": true
   },
   "outputs": [
    {
     "data": {
      "text/html": [
       "<div>\n",
       "<style scoped>\n",
       "    .dataframe tbody tr th:only-of-type {\n",
       "        vertical-align: middle;\n",
       "    }\n",
       "\n",
       "    .dataframe tbody tr th {\n",
       "        vertical-align: top;\n",
       "    }\n",
       "\n",
       "    .dataframe thead th {\n",
       "        text-align: right;\n",
       "    }\n",
       "</style>\n",
       "<table border=\"1\" class=\"dataframe\">\n",
       "  <thead>\n",
       "    <tr style=\"text-align: right;\">\n",
       "      <th></th>\n",
       "      <th>time_period</th>\n",
       "      <th>2yBonds%</th>\n",
       "      <th>10yBonds%</th>\n",
       "      <th>constr_index</th>\n",
       "      <th>Rate</th>\n",
       "    </tr>\n",
       "  </thead>\n",
       "  <tbody>\n",
       "    <tr>\n",
       "      <th>0</th>\n",
       "      <td>2013 Q3</td>\n",
       "      <td>2.575000</td>\n",
       "      <td>3.868333</td>\n",
       "      <td>101.9</td>\n",
       "      <td>2.602273</td>\n",
       "    </tr>\n",
       "    <tr>\n",
       "      <th>1</th>\n",
       "      <td>2013 Q4</td>\n",
       "      <td>2.729167</td>\n",
       "      <td>4.112500</td>\n",
       "      <td>102.2</td>\n",
       "      <td>2.500000</td>\n",
       "    </tr>\n",
       "    <tr>\n",
       "      <th>2</th>\n",
       "      <td>2014 Q1</td>\n",
       "      <td>2.700000</td>\n",
       "      <td>4.135000</td>\n",
       "      <td>102.5</td>\n",
       "      <td>2.500000</td>\n",
       "    </tr>\n",
       "    <tr>\n",
       "      <th>3</th>\n",
       "      <td>2014 Q2</td>\n",
       "      <td>2.685000</td>\n",
       "      <td>3.835833</td>\n",
       "      <td>103.7</td>\n",
       "      <td>2.500000</td>\n",
       "    </tr>\n",
       "    <tr>\n",
       "      <th>4</th>\n",
       "      <td>2014 Q3</td>\n",
       "      <td>2.583333</td>\n",
       "      <td>3.474167</td>\n",
       "      <td>104.7</td>\n",
       "      <td>2.500000</td>\n",
       "    </tr>\n",
       "  </tbody>\n",
       "</table>\n",
       "</div>"
      ],
      "text/plain": [
       "  time_period  2yBonds%  10yBonds%  constr_index      Rate\n",
       "0     2013 Q3  2.575000   3.868333         101.9  2.602273\n",
       "1     2013 Q4  2.729167   4.112500         102.2  2.500000\n",
       "2     2014 Q1  2.700000   4.135000         102.5  2.500000\n",
       "3     2014 Q2  2.685000   3.835833         103.7  2.500000\n",
       "4     2014 Q3  2.583333   3.474167         104.7  2.500000"
      ]
     },
     "execution_count": 67,
     "metadata": {},
     "output_type": "execute_result"
    }
   ],
   "source": [
    "# Merge\n",
    "features_timePeriod = pd.merge(yields_join, df_cons_clean, on='time_period')\n",
    "features_timePeriod = pd.merge(features_timePeriod, rates_join, on='time_period')\n",
    "features_timePeriod.head()"
   ]
  },
  {
   "cell_type": "code",
   "execution_count": 68,
   "id": "5233893c",
   "metadata": {
    "hidden": true
   },
   "outputs": [
    {
     "data": {
      "text/plain": [
       "32"
      ]
     },
     "execution_count": 68,
     "metadata": {},
     "output_type": "execute_result"
    }
   ],
   "source": [
    "# Check the number of time period after merge\n",
    "len(set(features_timePeriod['time_period']))"
   ]
  },
  {
   "cell_type": "code",
   "execution_count": 69,
   "id": "4408f872",
   "metadata": {},
   "outputs": [
    {
     "data": {
      "text/plain": [
       "array(['2013 Q3', '2013 Q4', '2014 Q1', '2014 Q2', '2014 Q3', '2014 Q4',\n",
       "       '2015 Q1', '2015 Q2', '2015 Q3', '2015 Q4', '2016 Q1', '2016 Q2',\n",
       "       '2016 Q3', '2016 Q4', '2017 Q1', '2017 Q2', '2017 Q3', '2017 Q4',\n",
       "       '2018 Q1', '2018 Q2', '2018 Q3', '2018 Q4', '2019 Q1', '2019 Q2',\n",
       "       '2019 Q3', '2019 Q4', '2020 Q1', '2020 Q2', '2020 Q3', '2020 Q4',\n",
       "       '2021 Q1', '2021 Q2'], dtype=object)"
      ]
     },
     "execution_count": 69,
     "metadata": {},
     "output_type": "execute_result"
    }
   ],
   "source": [
    "features_timePeriod['time_period'].unique()"
   ]
  },
  {
   "cell_type": "markdown",
   "id": "96bb6ab3",
   "metadata": {
    "hidden": true
   },
   "source": [
    "Even though we started with more time periods and end up with less, this is sufficient to cover the time periods in the housing data we're interested in.\n",
    "\n",
    "*Note: It is possible to do the above in a single line of code, though for clarity, I've left it like this. As seen in https://stackoverflow.com/questions/23668427/pandas-three-way-joining-multiple-dataframes-on-columns*"
   ]
  },
  {
   "cell_type": "markdown",
   "id": "f2040baf",
   "metadata": {},
   "source": [
    "## IV Merge Features into the Master Housing Data (Stacked)\n",
    "`master_mg1`"
   ]
  },
  {
   "cell_type": "markdown",
   "id": "40ab3919",
   "metadata": {},
   "source": [
    "### IV-1 `features_lga` $\\xrightarrow{merge}$ master"
   ]
  },
  {
   "cell_type": "code",
   "execution_count": 70,
   "id": "95b69ccc",
   "metadata": {},
   "outputs": [
    {
     "name": "stdout",
     "output_type": "stream",
     "text": [
      "Number of LGAs in the stacked: 129\n",
      "Number of shared LGAs in master df and population df: 128\n"
     ]
    }
   ],
   "source": [
    "master_LGA = list(master_map['LGA'].unique())\n",
    "pop_LGA = list(features_LGA['LGA'].unique())\n",
    "shared_LGA = list(set(master_LGA).intersection(pop_LGA))\n",
    "\n",
    "print(\"Number of LGAs in the stacked:\", len(master_LGA))\n",
    "print(\"Number of shared LGAs in master df and population df:\", len(shared_LGA))"
   ]
  },
  {
   "cell_type": "code",
   "execution_count": 71,
   "id": "1e6af4e7",
   "metadata": {},
   "outputs": [
    {
     "data": {
      "text/html": [
       "<div>\n",
       "<style scoped>\n",
       "    .dataframe tbody tr th:only-of-type {\n",
       "        vertical-align: middle;\n",
       "    }\n",
       "\n",
       "    .dataframe tbody tr th {\n",
       "        vertical-align: top;\n",
       "    }\n",
       "\n",
       "    .dataframe thead th {\n",
       "        text-align: right;\n",
       "    }\n",
       "</style>\n",
       "<table border=\"1\" class=\"dataframe\">\n",
       "  <thead>\n",
       "    <tr style=\"text-align: right;\">\n",
       "      <th></th>\n",
       "      <th>postcode</th>\n",
       "      <th>LGA</th>\n",
       "      <th>skey</th>\n",
       "      <th>time_period</th>\n",
       "      <th>year</th>\n",
       "      <th>quarter</th>\n",
       "      <th>dwelling_type</th>\n",
       "      <th>median_price</th>\n",
       "      <th>mean_price</th>\n",
       "      <th>sales_no</th>\n",
       "      <th>...</th>\n",
       "      <th>Natural change</th>\n",
       "      <th>Net Migration (all sources)</th>\n",
       "      <th>population_2021</th>\n",
       "      <th>population_2016</th>\n",
       "      <th>pop_delta</th>\n",
       "      <th>Adult</th>\n",
       "      <th>Child</th>\n",
       "      <th>MiddleAge</th>\n",
       "      <th>Senior</th>\n",
       "      <th>Youth</th>\n",
       "    </tr>\n",
       "  </thead>\n",
       "  <tbody>\n",
       "    <tr>\n",
       "      <th>0</th>\n",
       "      <td>2000</td>\n",
       "      <td>SYDNEY</td>\n",
       "      <td>s122</td>\n",
       "      <td>2017 Q3</td>\n",
       "      <td>2017</td>\n",
       "      <td>Q3</td>\n",
       "      <td>Total</td>\n",
       "      <td>1350.0</td>\n",
       "      <td>1516.328059</td>\n",
       "      <td>135.0</td>\n",
       "      <td>...</td>\n",
       "      <td>8288.0</td>\n",
       "      <td>5887.0</td>\n",
       "      <td>236891.0</td>\n",
       "      <td>222717.0</td>\n",
       "      <td>14174.0</td>\n",
       "      <td>8187</td>\n",
       "      <td>3702</td>\n",
       "      <td>2389</td>\n",
       "      <td>3339</td>\n",
       "      <td>-3446</td>\n",
       "    </tr>\n",
       "  </tbody>\n",
       "</table>\n",
       "<p>1 rows × 37 columns</p>\n",
       "</div>"
      ],
      "text/plain": [
       "   postcode     LGA  skey time_period  year quarter dwelling_type  \\\n",
       "0      2000  SYDNEY  s122     2017 Q3  2017      Q3         Total   \n",
       "\n",
       "   median_price   mean_price  sales_no  ...    Natural change  \\\n",
       "0        1350.0  1516.328059     135.0  ...            8288.0   \n",
       "\n",
       "     Net Migration (all sources)  population_2021  population_2016 pop_delta  \\\n",
       "0                         5887.0         236891.0         222717.0   14174.0   \n",
       "\n",
       "   Adult  Child  MiddleAge  Senior  Youth  \n",
       "0   8187   3702       2389    3339  -3446  \n",
       "\n",
       "[1 rows x 37 columns]"
      ]
     },
     "execution_count": 71,
     "metadata": {},
     "output_type": "execute_result"
    }
   ],
   "source": [
    "master_mg1 = master_map.merge(features_LGA, left_on='LGA', right_on='LGA')\n",
    "master_mg1.head(1)"
   ]
  },
  {
   "cell_type": "code",
   "execution_count": 72,
   "id": "83b23f48",
   "metadata": {},
   "outputs": [
    {
     "name": "stdout",
     "output_type": "stream",
     "text": [
      "master_mg1 shape: (35289, 37)\n",
      "Number of LGAs in master_mg1: 128\n"
     ]
    }
   ],
   "source": [
    "print(\"master_mg1 shape:\", master_mg1.shape)\n",
    "print(\"Number of LGAs in master_mg1:\", master_mg1['LGA'].nunique())"
   ]
  },
  {
   "cell_type": "markdown",
   "id": "ae344a96",
   "metadata": {
    "heading_collapsed": true
   },
   "source": [
    "### IV-2 `features_postcode`$\\xrightarrow{merge}$ master"
   ]
  },
  {
   "cell_type": "code",
   "execution_count": 73,
   "id": "00aa686e",
   "metadata": {},
   "outputs": [
    {
     "name": "stdout",
     "output_type": "stream",
     "text": [
      "Number of unique postcodes in features_postcode: 618\n",
      "Number of unique postcodes in the housing data 587\n"
     ]
    }
   ],
   "source": [
    "print(\"Number of unique postcodes in features_postcode:\", \n",
    "      features_postcode['postcode'].nunique())\n",
    "print(\"Number of unique postcodes in the housing data\", \n",
    "      master_map['postcode'].nunique())"
   ]
  },
  {
   "cell_type": "code",
   "execution_count": 74,
   "id": "52ac9af9",
   "metadata": {
    "hidden": true
   },
   "outputs": [
    {
     "data": {
      "text/html": [
       "<div>\n",
       "<style scoped>\n",
       "    .dataframe tbody tr th:only-of-type {\n",
       "        vertical-align: middle;\n",
       "    }\n",
       "\n",
       "    .dataframe tbody tr th {\n",
       "        vertical-align: top;\n",
       "    }\n",
       "\n",
       "    .dataframe thead th {\n",
       "        text-align: right;\n",
       "    }\n",
       "</style>\n",
       "<table border=\"1\" class=\"dataframe\">\n",
       "  <thead>\n",
       "    <tr style=\"text-align: right;\">\n",
       "      <th></th>\n",
       "      <th>postcode</th>\n",
       "      <th>LGA</th>\n",
       "      <th>skey</th>\n",
       "      <th>time_period</th>\n",
       "      <th>year</th>\n",
       "      <th>quarter</th>\n",
       "      <th>dwelling_type</th>\n",
       "      <th>median_price</th>\n",
       "      <th>mean_price</th>\n",
       "      <th>sales_no</th>\n",
       "      <th>...</th>\n",
       "      <th>INCP_MID</th>\n",
       "      <th>INCP_HIGH</th>\n",
       "      <th>INCP_NEG_NIL</th>\n",
       "      <th>CPRF_2</th>\n",
       "      <th>CPRF_3</th>\n",
       "      <th>CPRF_4</th>\n",
       "      <th>CPRF_5</th>\n",
       "      <th>CPRF_6+</th>\n",
       "      <th>CPRF_na</th>\n",
       "      <th>CPRF_TOTAL_FAM_NO</th>\n",
       "    </tr>\n",
       "  </thead>\n",
       "  <tbody>\n",
       "    <tr>\n",
       "      <th>0</th>\n",
       "      <td>2000</td>\n",
       "      <td>SYDNEY</td>\n",
       "      <td>s122</td>\n",
       "      <td>2017 Q3</td>\n",
       "      <td>2017</td>\n",
       "      <td>Q3</td>\n",
       "      <td>Total</td>\n",
       "      <td>1350.0</td>\n",
       "      <td>1516.328059</td>\n",
       "      <td>135.0</td>\n",
       "      <td>...</td>\n",
       "      <td>5319</td>\n",
       "      <td>3929</td>\n",
       "      <td>3501</td>\n",
       "      <td>3453.0</td>\n",
       "      <td>857.0</td>\n",
       "      <td>354.0</td>\n",
       "      <td>54.0</td>\n",
       "      <td>21.0</td>\n",
       "      <td>8125.0</td>\n",
       "      <td>12861.0</td>\n",
       "    </tr>\n",
       "  </tbody>\n",
       "</table>\n",
       "<p>1 rows × 48 columns</p>\n",
       "</div>"
      ],
      "text/plain": [
       "   postcode     LGA  skey time_period  year quarter dwelling_type  \\\n",
       "0      2000  SYDNEY  s122     2017 Q3  2017      Q3         Total   \n",
       "\n",
       "   median_price   mean_price  sales_no  ...  INCP_MID  INCP_HIGH  \\\n",
       "0        1350.0  1516.328059     135.0  ...      5319       3929   \n",
       "\n",
       "   INCP_NEG_NIL  CPRF_2 CPRF_3  CPRF_4  CPRF_5  CPRF_6+  CPRF_na  \\\n",
       "0          3501  3453.0  857.0   354.0    54.0     21.0   8125.0   \n",
       "\n",
       "   CPRF_TOTAL_FAM_NO  \n",
       "0            12861.0  \n",
       "\n",
       "[1 rows x 48 columns]"
      ]
     },
     "execution_count": 74,
     "metadata": {},
     "output_type": "execute_result"
    }
   ],
   "source": [
    "master_mg1 = master_mg1.merge(features_postcode, \n",
    "                              left_on='postcode', right_on='postcode')\n",
    "master_mg1.head(1)"
   ]
  },
  {
   "cell_type": "code",
   "execution_count": 75,
   "id": "fa9f7df7",
   "metadata": {},
   "outputs": [
    {
     "name": "stdout",
     "output_type": "stream",
     "text": [
      "master_merge1 shape: (35072, 48)\n",
      "Number of unique LGAs in master_merge1: 128\n",
      "Number of unique postcodes in master_merge1: 581\n"
     ]
    }
   ],
   "source": [
    "print(\"master_merge1 shape:\", master_mg1.shape)\n",
    "print(\"Number of unique LGAs in master_merge1:\", master_mg1['LGA'].nunique())\n",
    "print(\"Number of unique postcodes in master_merge1:\", master_mg1['postcode'].nunique())"
   ]
  },
  {
   "cell_type": "markdown",
   "id": "5e27546a",
   "metadata": {
    "heading_collapsed": true
   },
   "source": [
    "### IV-3 `features_timePeriod`$\\xrightarrow{merge}$ master"
   ]
  },
  {
   "cell_type": "code",
   "execution_count": 76,
   "id": "a180c44b",
   "metadata": {},
   "outputs": [
    {
     "data": {
      "text/html": [
       "<div>\n",
       "<style scoped>\n",
       "    .dataframe tbody tr th:only-of-type {\n",
       "        vertical-align: middle;\n",
       "    }\n",
       "\n",
       "    .dataframe tbody tr th {\n",
       "        vertical-align: top;\n",
       "    }\n",
       "\n",
       "    .dataframe thead th {\n",
       "        text-align: right;\n",
       "    }\n",
       "</style>\n",
       "<table border=\"1\" class=\"dataframe\">\n",
       "  <thead>\n",
       "    <tr style=\"text-align: right;\">\n",
       "      <th></th>\n",
       "      <th>time_period</th>\n",
       "      <th>2yBonds%</th>\n",
       "      <th>10yBonds%</th>\n",
       "      <th>constr_index</th>\n",
       "      <th>Rate</th>\n",
       "    </tr>\n",
       "  </thead>\n",
       "  <tbody>\n",
       "    <tr>\n",
       "      <th>0</th>\n",
       "      <td>2013 Q3</td>\n",
       "      <td>2.575000</td>\n",
       "      <td>3.868333</td>\n",
       "      <td>101.9</td>\n",
       "      <td>2.602273</td>\n",
       "    </tr>\n",
       "    <tr>\n",
       "      <th>1</th>\n",
       "      <td>2013 Q4</td>\n",
       "      <td>2.729167</td>\n",
       "      <td>4.112500</td>\n",
       "      <td>102.2</td>\n",
       "      <td>2.500000</td>\n",
       "    </tr>\n",
       "    <tr>\n",
       "      <th>2</th>\n",
       "      <td>2014 Q1</td>\n",
       "      <td>2.700000</td>\n",
       "      <td>4.135000</td>\n",
       "      <td>102.5</td>\n",
       "      <td>2.500000</td>\n",
       "    </tr>\n",
       "    <tr>\n",
       "      <th>3</th>\n",
       "      <td>2014 Q2</td>\n",
       "      <td>2.685000</td>\n",
       "      <td>3.835833</td>\n",
       "      <td>103.7</td>\n",
       "      <td>2.500000</td>\n",
       "    </tr>\n",
       "    <tr>\n",
       "      <th>4</th>\n",
       "      <td>2014 Q3</td>\n",
       "      <td>2.583333</td>\n",
       "      <td>3.474167</td>\n",
       "      <td>104.7</td>\n",
       "      <td>2.500000</td>\n",
       "    </tr>\n",
       "  </tbody>\n",
       "</table>\n",
       "</div>"
      ],
      "text/plain": [
       "  time_period  2yBonds%  10yBonds%  constr_index      Rate\n",
       "0     2013 Q3  2.575000   3.868333         101.9  2.602273\n",
       "1     2013 Q4  2.729167   4.112500         102.2  2.500000\n",
       "2     2014 Q1  2.700000   4.135000         102.5  2.500000\n",
       "3     2014 Q2  2.685000   3.835833         103.7  2.500000\n",
       "4     2014 Q3  2.583333   3.474167         104.7  2.500000"
      ]
     },
     "execution_count": 76,
     "metadata": {},
     "output_type": "execute_result"
    }
   ],
   "source": [
    "features_timePeriod.head()"
   ]
  },
  {
   "cell_type": "code",
   "execution_count": 77,
   "id": "73e3a813",
   "metadata": {
    "hidden": true
   },
   "outputs": [
    {
     "data": {
      "text/html": [
       "<div>\n",
       "<style scoped>\n",
       "    .dataframe tbody tr th:only-of-type {\n",
       "        vertical-align: middle;\n",
       "    }\n",
       "\n",
       "    .dataframe tbody tr th {\n",
       "        vertical-align: top;\n",
       "    }\n",
       "\n",
       "    .dataframe thead th {\n",
       "        text-align: right;\n",
       "    }\n",
       "</style>\n",
       "<table border=\"1\" class=\"dataframe\">\n",
       "  <thead>\n",
       "    <tr style=\"text-align: right;\">\n",
       "      <th></th>\n",
       "      <th>postcode</th>\n",
       "      <th>LGA</th>\n",
       "      <th>skey</th>\n",
       "      <th>time_period</th>\n",
       "      <th>year</th>\n",
       "      <th>quarter</th>\n",
       "      <th>dwelling_type</th>\n",
       "      <th>median_price</th>\n",
       "      <th>mean_price</th>\n",
       "      <th>sales_no</th>\n",
       "      <th>...</th>\n",
       "      <th>CPRF_3</th>\n",
       "      <th>CPRF_4</th>\n",
       "      <th>CPRF_5</th>\n",
       "      <th>CPRF_6+</th>\n",
       "      <th>CPRF_na</th>\n",
       "      <th>CPRF_TOTAL_FAM_NO</th>\n",
       "      <th>2yBonds%</th>\n",
       "      <th>10yBonds%</th>\n",
       "      <th>constr_index</th>\n",
       "      <th>Rate</th>\n",
       "    </tr>\n",
       "  </thead>\n",
       "  <tbody>\n",
       "    <tr>\n",
       "      <th>0</th>\n",
       "      <td>2000</td>\n",
       "      <td>SYDNEY</td>\n",
       "      <td>s122</td>\n",
       "      <td>2017 Q3</td>\n",
       "      <td>2017</td>\n",
       "      <td>Q3</td>\n",
       "      <td>Total</td>\n",
       "      <td>1350.0</td>\n",
       "      <td>1516.328059</td>\n",
       "      <td>135.0</td>\n",
       "      <td>...</td>\n",
       "      <td>857.0</td>\n",
       "      <td>354.0</td>\n",
       "      <td>54.0</td>\n",
       "      <td>21.0</td>\n",
       "      <td>8125.0</td>\n",
       "      <td>12861.0</td>\n",
       "      <td>1.814167</td>\n",
       "      <td>2.646667</td>\n",
       "      <td>112.0</td>\n",
       "      <td>1.5</td>\n",
       "    </tr>\n",
       "  </tbody>\n",
       "</table>\n",
       "<p>1 rows × 52 columns</p>\n",
       "</div>"
      ],
      "text/plain": [
       "   postcode     LGA  skey time_period  year quarter dwelling_type  \\\n",
       "0      2000  SYDNEY  s122     2017 Q3  2017      Q3         Total   \n",
       "\n",
       "   median_price   mean_price  sales_no  ...  CPRF_3  CPRF_4  CPRF_5  CPRF_6+  \\\n",
       "0        1350.0  1516.328059     135.0  ...   857.0   354.0    54.0     21.0   \n",
       "\n",
       "  CPRF_na  CPRF_TOTAL_FAM_NO  2yBonds%  10yBonds%  constr_index  Rate  \n",
       "0  8125.0            12861.0  1.814167   2.646667         112.0   1.5  \n",
       "\n",
       "[1 rows x 52 columns]"
      ]
     },
     "execution_count": 77,
     "metadata": {},
     "output_type": "execute_result"
    }
   ],
   "source": [
    "master_mg1 = master_mg1.merge(features_timePeriod, \n",
    "                              left_on='time_period', right_on='time_period')\n",
    "master_mg1.head(1)"
   ]
  },
  {
   "cell_type": "code",
   "execution_count": 78,
   "id": "c09e1a27",
   "metadata": {
    "hidden": true
   },
   "outputs": [
    {
     "name": "stdout",
     "output_type": "stream",
     "text": [
      "master_merge1 shape: (35072, 52)\n",
      "Time periods in master_merge1:\n",
      " ['2017 Q3' '2017 Q4' '2018 Q1' '2018 Q2' '2018 Q3' '2018 Q4' '2019 Q1'\n",
      " '2019 Q2' '2019 Q3' '2019 Q4' '2020 Q1' '2020 Q2' '2020 Q3' '2020 Q4'\n",
      " '2021 Q1']\n"
     ]
    }
   ],
   "source": [
    "print(\"master_merge1 shape:\", master_mg1.shape)\n",
    "print(\"Time periods in master_merge1:\\n\", master_mg1.time_period.unique())"
   ]
  },
  {
   "cell_type": "markdown",
   "id": "f7658791",
   "metadata": {
    "hidden": true
   },
   "source": [
    "Saving as CSV"
   ]
  },
  {
   "cell_type": "code",
   "execution_count": 79,
   "id": "487f7c12",
   "metadata": {
    "hidden": true
   },
   "outputs": [],
   "source": [
    "master_mg1.to_csv('Files/Cleaned/Master_Sales_Rent_2017Q4_2021Q1_wFeatures.csv', index=False)"
   ]
  },
  {
   "cell_type": "markdown",
   "id": "e9c914e5",
   "metadata": {},
   "source": [
    "## V Merge Features into the Master Housing Data (Unstacked Ver1)\n",
    "**`master_mg2`**\n",
    "\n",
    "We're just repeating the same process in section IV and merge the features into the unstacked housing DF (ver1)."
   ]
  },
  {
   "cell_type": "code",
   "execution_count": 80,
   "id": "2c21d29c",
   "metadata": {},
   "outputs": [
    {
     "name": "stdout",
     "output_type": "stream",
     "text": [
      "Unstacked master DF1 shape: (858, 32)\n",
      "Number of LGAs in the unstacked master DF1: 129\n",
      "Number of postcodes in the unstacked master DF1: 493\n"
     ]
    }
   ],
   "source": [
    "# Shorten df name to m_pvt1\n",
    "m_pvt1 = master_pivot_map1\n",
    "print(\"Unstacked master DF1 shape:\", m_pvt1.shape)\n",
    "print(\"Number of LGAs in the unstacked master DF1:\", m_pvt1['LGA'].nunique())\n",
    "print(\"Number of postcodes in the unstacked master DF1:\", m_pvt1['postcode'].nunique())"
   ]
  },
  {
   "cell_type": "markdown",
   "id": "2c4f62f9",
   "metadata": {},
   "source": [
    "**`features_lga` $\\xrightarrow{merge}$ master**"
   ]
  },
  {
   "cell_type": "code",
   "execution_count": 81,
   "id": "9b1ccf38",
   "metadata": {},
   "outputs": [
    {
     "name": "stdout",
     "output_type": "stream",
     "text": [
      "master_mg2 shape: (857, 47)\n",
      "Number of LGAs in the master_mg2: 128\n"
     ]
    }
   ],
   "source": [
    "# Merge features_LGA in\n",
    "master_mg2 = m_pvt1.merge(features_LGA, left_on='LGA', right_on='LGA')\n",
    "\n",
    "print(\"master_mg2 shape:\", master_mg2.shape)\n",
    "print(\"Number of LGAs in the master_mg2:\", master_mg2['LGA'].nunique())"
   ]
  },
  {
   "cell_type": "markdown",
   "id": "b64ec561",
   "metadata": {},
   "source": [
    "**`features_postcodes` $\\xrightarrow{merge}$ master**"
   ]
  },
  {
   "cell_type": "code",
   "execution_count": 82,
   "id": "3708beb3",
   "metadata": {},
   "outputs": [
    {
     "name": "stdout",
     "output_type": "stream",
     "text": [
      "master_mg2 shape: (853, 58)\n",
      "Number of postcodes in the master_mg2: 491\n"
     ]
    }
   ],
   "source": [
    "# Merge features_postcode in\n",
    "master_mg2 = master_mg2.merge(features_postcode, \n",
    "                              left_on='postcode', right_on='postcode')\n",
    "print(\"master_mg2 shape:\", master_mg2.shape)\n",
    "print(\"Number of postcodes in the master_mg2:\", master_mg2['postcode'].nunique())"
   ]
  },
  {
   "cell_type": "markdown",
   "id": "ac9fc31b",
   "metadata": {},
   "source": [
    "We lost 1 LGA and 2 postcodes through merging, they're unicorporated NSW and postcodes associated with it."
   ]
  },
  {
   "cell_type": "markdown",
   "id": "bea87e7e",
   "metadata": {},
   "source": [
    "**`features_timePeriods` $\\xrightarrow{merge}$ master**"
   ]
  },
  {
   "cell_type": "code",
   "execution_count": 83,
   "id": "9623645a",
   "metadata": {},
   "outputs": [
    {
     "data": {
      "text/html": [
       "<div>\n",
       "<style scoped>\n",
       "    .dataframe tbody tr th:only-of-type {\n",
       "        vertical-align: middle;\n",
       "    }\n",
       "\n",
       "    .dataframe tbody tr th {\n",
       "        vertical-align: top;\n",
       "    }\n",
       "\n",
       "    .dataframe thead th {\n",
       "        text-align: right;\n",
       "    }\n",
       "</style>\n",
       "<table border=\"1\" class=\"dataframe\">\n",
       "  <thead>\n",
       "    <tr style=\"text-align: right;\">\n",
       "      <th></th>\n",
       "      <th>time_period</th>\n",
       "      <th>2yBonds%</th>\n",
       "      <th>10yBonds%</th>\n",
       "      <th>constr_index</th>\n",
       "      <th>Rate</th>\n",
       "    </tr>\n",
       "  </thead>\n",
       "  <tbody>\n",
       "    <tr>\n",
       "      <th>26</th>\n",
       "      <td>2020 Q1</td>\n",
       "      <td>0.616667</td>\n",
       "      <td>1.006667</td>\n",
       "      <td>116.0</td>\n",
       "      <td>0.638889</td>\n",
       "    </tr>\n",
       "    <tr>\n",
       "      <th>27</th>\n",
       "      <td>2020 Q2</td>\n",
       "      <td>0.240000</td>\n",
       "      <td>0.896667</td>\n",
       "      <td>116.2</td>\n",
       "      <td>0.250000</td>\n",
       "    </tr>\n",
       "    <tr>\n",
       "      <th>28</th>\n",
       "      <td>2020 Q3</td>\n",
       "      <td>0.243333</td>\n",
       "      <td>0.890000</td>\n",
       "      <td>116.2</td>\n",
       "      <td>0.250000</td>\n",
       "    </tr>\n",
       "    <tr>\n",
       "      <th>29</th>\n",
       "      <td>2020 Q4</td>\n",
       "      <td>0.103333</td>\n",
       "      <td>0.890000</td>\n",
       "      <td>116.9</td>\n",
       "      <td>0.156250</td>\n",
       "    </tr>\n",
       "    <tr>\n",
       "      <th>30</th>\n",
       "      <td>2021 Q1</td>\n",
       "      <td>0.090000</td>\n",
       "      <td>1.353333</td>\n",
       "      <td>117.8</td>\n",
       "      <td>0.100000</td>\n",
       "    </tr>\n",
       "  </tbody>\n",
       "</table>\n",
       "</div>"
      ],
      "text/plain": [
       "   time_period  2yBonds%  10yBonds%  constr_index      Rate\n",
       "26     2020 Q1  0.616667   1.006667         116.0  0.638889\n",
       "27     2020 Q2  0.240000   0.896667         116.2  0.250000\n",
       "28     2020 Q3  0.243333   0.890000         116.2  0.250000\n",
       "29     2020 Q4  0.103333   0.890000         116.9  0.156250\n",
       "30     2021 Q1  0.090000   1.353333         117.8  0.100000"
      ]
     },
     "execution_count": 83,
     "metadata": {},
     "output_type": "execute_result"
    }
   ],
   "source": [
    "# Filter out relevant time periods (Q1 2020 - Q1 2021)\n",
    "\n",
    "TP = ['2020 Q1','2020 Q2','2020 Q3','2020 Q4','2021 Q1']\n",
    "features_timePeriod = features_timePeriod.loc[features_timePeriod.time_period.isin(TP)]\n",
    "features_timePeriod"
   ]
  },
  {
   "cell_type": "markdown",
   "id": "dcc70ce7",
   "metadata": {},
   "source": [
    "Since the file is unstacked, we no longer have time_period as key. What we'll do here is to flat features dataframe into one-row. One feature will be expanded into five - one for each time period, and will be added as a column with a constant value to the master DataFrame."
   ]
  },
  {
   "cell_type": "code",
   "execution_count": 84,
   "id": "4e3b7da1",
   "metadata": {},
   "outputs": [
    {
     "data": {
      "text/html": [
       "<div>\n",
       "<style scoped>\n",
       "    .dataframe tbody tr th:only-of-type {\n",
       "        vertical-align: middle;\n",
       "    }\n",
       "\n",
       "    .dataframe tbody tr th {\n",
       "        vertical-align: top;\n",
       "    }\n",
       "\n",
       "    .dataframe thead th {\n",
       "        text-align: right;\n",
       "    }\n",
       "</style>\n",
       "<table border=\"1\" class=\"dataframe\">\n",
       "  <thead>\n",
       "    <tr style=\"text-align: right;\">\n",
       "      <th></th>\n",
       "      <th>10yBonds% 2020 Q1</th>\n",
       "      <th>10yBonds% 2020 Q2</th>\n",
       "      <th>10yBonds% 2020 Q3</th>\n",
       "      <th>10yBonds% 2020 Q4</th>\n",
       "      <th>10yBonds% 2021 Q1</th>\n",
       "      <th>2yBonds% 2020 Q1</th>\n",
       "      <th>2yBonds% 2020 Q2</th>\n",
       "      <th>2yBonds% 2020 Q3</th>\n",
       "      <th>2yBonds% 2020 Q4</th>\n",
       "      <th>2yBonds% 2021 Q1</th>\n",
       "      <th>Rate 2020 Q1</th>\n",
       "      <th>Rate 2020 Q2</th>\n",
       "      <th>Rate 2020 Q3</th>\n",
       "      <th>Rate 2020 Q4</th>\n",
       "      <th>Rate 2021 Q1</th>\n",
       "      <th>constr_index 2020 Q1</th>\n",
       "      <th>constr_index 2020 Q2</th>\n",
       "      <th>constr_index 2020 Q3</th>\n",
       "      <th>constr_index 2020 Q4</th>\n",
       "      <th>constr_index 2021 Q1</th>\n",
       "    </tr>\n",
       "  </thead>\n",
       "  <tbody>\n",
       "    <tr>\n",
       "      <th>0</th>\n",
       "      <td>1.006667</td>\n",
       "      <td>0.896667</td>\n",
       "      <td>0.89</td>\n",
       "      <td>0.89</td>\n",
       "      <td>1.353333</td>\n",
       "      <td>0.616667</td>\n",
       "      <td>0.24</td>\n",
       "      <td>0.243333</td>\n",
       "      <td>0.103333</td>\n",
       "      <td>0.09</td>\n",
       "      <td>0.638889</td>\n",
       "      <td>0.25</td>\n",
       "      <td>0.25</td>\n",
       "      <td>0.15625</td>\n",
       "      <td>0.1</td>\n",
       "      <td>116.0</td>\n",
       "      <td>116.2</td>\n",
       "      <td>116.2</td>\n",
       "      <td>116.9</td>\n",
       "      <td>117.8</td>\n",
       "    </tr>\n",
       "  </tbody>\n",
       "</table>\n",
       "</div>"
      ],
      "text/plain": [
       "   10yBonds% 2020 Q1  10yBonds% 2020 Q2  10yBonds% 2020 Q3  10yBonds% 2020 Q4  \\\n",
       "0           1.006667           0.896667               0.89               0.89   \n",
       "\n",
       "   10yBonds% 2021 Q1  2yBonds% 2020 Q1  2yBonds% 2020 Q2  2yBonds% 2020 Q3  \\\n",
       "0           1.353333          0.616667              0.24          0.243333   \n",
       "\n",
       "   2yBonds% 2020 Q4  2yBonds% 2021 Q1  Rate 2020 Q1  Rate 2020 Q2  \\\n",
       "0          0.103333              0.09      0.638889          0.25   \n",
       "\n",
       "   Rate 2020 Q3  Rate 2020 Q4  Rate 2021 Q1  constr_index 2020 Q1  \\\n",
       "0          0.25       0.15625           0.1                 116.0   \n",
       "\n",
       "   constr_index 2020 Q2  constr_index 2020 Q3  constr_index 2020 Q4  \\\n",
       "0                 116.2                 116.2                 116.9   \n",
       "\n",
       "   constr_index 2021 Q1  \n",
       "0                 117.8  "
      ]
     },
     "execution_count": 84,
     "metadata": {},
     "output_type": "execute_result"
    }
   ],
   "source": [
    "# Flat the features DF\n",
    "features_TP_pvt = pd.pivot_table(features_timePeriod, \n",
    "                                 index=features_timePeriod.index,\n",
    "                                 columns='time_period',\n",
    "                                 values=['2yBonds%', '10yBonds%', 'constr_index', 'Rate'])\n",
    "\n",
    "features_TP_pvt.columns = [' '.join(col) for col in features_TP_pvt.columns]\n",
    "features_TP_pvt = features_TP_pvt.append(features_TP_pvt.sum(numeric_only=True), ignore_index=True)\n",
    "features_TP_pvt = features_TP_pvt.iloc[[-1]]\n",
    "features_TP_pvt.reset_index(inplace=True)\n",
    "features_TP_pvt = features_TP_pvt.drop(columns='index', axis=1)\n",
    "features_TP_pvt.round(2)\n",
    "\n",
    "features_TP_pvt"
   ]
  },
  {
   "cell_type": "code",
   "execution_count": 85,
   "id": "20b2fac3",
   "metadata": {},
   "outputs": [
    {
     "name": "stderr",
     "output_type": "stream",
     "text": [
      "/var/folders/22/9hdsbk0j58z1r2x79bx2zjh80000gn/T/ipykernel_66882/3357450296.py:2: FutureWarning: Using short name for 'orient' is deprecated. Only the options: ('dict', list, 'series', 'split', 'records', 'index') will be used in a future version. Use one of the above to silence this warning.\n",
      "  tp_dict = features_TP_pvt.to_dict(\"record\")[0]\n"
     ]
    },
    {
     "data": {
      "text/plain": [
       "dict"
      ]
     },
     "execution_count": 85,
     "metadata": {},
     "output_type": "execute_result"
    }
   ],
   "source": [
    "# Convert the one-row DF into a dictionary \n",
    "tp_dict = features_TP_pvt.to_dict(\"record\")[0]\n",
    "type(tp_dict)"
   ]
  },
  {
   "cell_type": "code",
   "execution_count": 86,
   "id": "eb03a6ec",
   "metadata": {},
   "outputs": [
    {
     "name": "stdout",
     "output_type": "stream",
     "text": [
      "master_mg2 shape: (853, 78)\n"
     ]
    },
    {
     "data": {
      "text/html": [
       "<div>\n",
       "<style scoped>\n",
       "    .dataframe tbody tr th:only-of-type {\n",
       "        vertical-align: middle;\n",
       "    }\n",
       "\n",
       "    .dataframe tbody tr th {\n",
       "        vertical-align: top;\n",
       "    }\n",
       "\n",
       "    .dataframe thead th {\n",
       "        text-align: right;\n",
       "    }\n",
       "</style>\n",
       "<table border=\"1\" class=\"dataframe\">\n",
       "  <thead>\n",
       "    <tr style=\"text-align: right;\">\n",
       "      <th></th>\n",
       "      <th>postcode</th>\n",
       "      <th>LGA</th>\n",
       "      <th>mean_price 2020 Q1</th>\n",
       "      <th>mean_price 2020 Q2</th>\n",
       "      <th>mean_price 2020 Q3</th>\n",
       "      <th>mean_price 2020 Q4</th>\n",
       "      <th>mean_price 2021 Q1</th>\n",
       "      <th>median_price 2020 Q1</th>\n",
       "      <th>median_price 2020 Q2</th>\n",
       "      <th>median_price 2020 Q3</th>\n",
       "      <th>...</th>\n",
       "      <th>Rate 2020 Q1</th>\n",
       "      <th>Rate 2020 Q2</th>\n",
       "      <th>Rate 2020 Q3</th>\n",
       "      <th>Rate 2020 Q4</th>\n",
       "      <th>Rate 2021 Q1</th>\n",
       "      <th>constr_index 2020 Q1</th>\n",
       "      <th>constr_index 2020 Q2</th>\n",
       "      <th>constr_index 2020 Q3</th>\n",
       "      <th>constr_index 2020 Q4</th>\n",
       "      <th>constr_index 2021 Q1</th>\n",
       "    </tr>\n",
       "  </thead>\n",
       "  <tbody>\n",
       "    <tr>\n",
       "      <th>0</th>\n",
       "      <td>2000</td>\n",
       "      <td>SYDNEY</td>\n",
       "      <td>1541.0</td>\n",
       "      <td>1322.0</td>\n",
       "      <td>1631.0</td>\n",
       "      <td>1379.0</td>\n",
       "      <td>2794.0</td>\n",
       "      <td>1225.0</td>\n",
       "      <td>1000.0</td>\n",
       "      <td>1390.0</td>\n",
       "      <td>...</td>\n",
       "      <td>0.638889</td>\n",
       "      <td>0.25</td>\n",
       "      <td>0.25</td>\n",
       "      <td>0.15625</td>\n",
       "      <td>0.1</td>\n",
       "      <td>116.0</td>\n",
       "      <td>116.2</td>\n",
       "      <td>116.2</td>\n",
       "      <td>116.9</td>\n",
       "      <td>117.8</td>\n",
       "    </tr>\n",
       "  </tbody>\n",
       "</table>\n",
       "<p>1 rows × 78 columns</p>\n",
       "</div>"
      ],
      "text/plain": [
       "   postcode     LGA  mean_price 2020 Q1  mean_price 2020 Q2  \\\n",
       "0      2000  SYDNEY              1541.0              1322.0   \n",
       "\n",
       "   mean_price 2020 Q3  mean_price 2020 Q4  mean_price 2021 Q1  \\\n",
       "0              1631.0              1379.0              2794.0   \n",
       "\n",
       "   median_price 2020 Q1  median_price 2020 Q2  median_price 2020 Q3  ...  \\\n",
       "0                1225.0                1000.0                1390.0  ...   \n",
       "\n",
       "   Rate 2020 Q1  Rate 2020 Q2  Rate 2020 Q3  Rate 2020 Q4  Rate 2021 Q1  \\\n",
       "0      0.638889          0.25          0.25       0.15625           0.1   \n",
       "\n",
       "   constr_index 2020 Q1  constr_index 2020 Q2  constr_index 2020 Q3  \\\n",
       "0                 116.0                 116.2                 116.2   \n",
       "\n",
       "   constr_index 2020 Q4  constr_index 2021 Q1  \n",
       "0                 116.9                 117.8  \n",
       "\n",
       "[1 rows x 78 columns]"
      ]
     },
     "execution_count": 86,
     "metadata": {},
     "output_type": "execute_result"
    }
   ],
   "source": [
    "# Assign the dictionary to the master DF\n",
    "master_mg2 = master_mg2.assign(**tp_dict)\n",
    "\n",
    "print(\"master_mg2 shape:\", master_mg2.shape)\n",
    "master_mg2.head(1)"
   ]
  },
  {
   "cell_type": "code",
   "execution_count": 87,
   "id": "af3ee722",
   "metadata": {},
   "outputs": [],
   "source": [
    "# Save as CSV\n",
    "master_mg2.to_csv('Files/Cleaned/Master_Pivot_Sales_Rent_5Quarters_SharedPOA_wFeatures.csv', index=False)"
   ]
  },
  {
   "cell_type": "markdown",
   "id": "62b85369",
   "metadata": {},
   "source": [
    "## VI Merge Features into the Master Housing Data (Unstacked Ver2)\n",
    "**`master_mg2`**\n",
    "\n",
    "Repeat the same process in section IV/V and merge the features into the unstacked housing DF (ver2)."
   ]
  },
  {
   "cell_type": "code",
   "execution_count": 88,
   "id": "b3338f93",
   "metadata": {},
   "outputs": [
    {
     "name": "stdout",
     "output_type": "stream",
     "text": [
      "Unstacked master DF2 shape: (995, 32)\n",
      "Number of LGAs in the unstacked master DF2: 129\n",
      "Number of postcodes in the unstacked master DF2: 577\n"
     ]
    }
   ],
   "source": [
    "# Shorten df name to m_pvt1\n",
    "m_pvt2 = master_pivot_map2\n",
    "print(\"Unstacked master DF2 shape:\", m_pvt2.shape)\n",
    "print(\"Number of LGAs in the unstacked master DF2:\", m_pvt2['LGA'].nunique())\n",
    "print(\"Number of postcodes in the unstacked master DF2:\", m_pvt2['postcode'].nunique())"
   ]
  },
  {
   "cell_type": "markdown",
   "id": "6ece7a9e",
   "metadata": {},
   "source": [
    "**`features_lga` $\\xrightarrow{merge}$ master**"
   ]
  },
  {
   "cell_type": "code",
   "execution_count": 89,
   "id": "da2d2f17",
   "metadata": {},
   "outputs": [
    {
     "name": "stdout",
     "output_type": "stream",
     "text": [
      "master_mg3 shape: (994, 47)\n",
      "Number of LGAs in the master_mg3: 128\n"
     ]
    }
   ],
   "source": [
    "# Merge features_LGA in\n",
    "master_mg3 = m_pvt2.merge(features_LGA, left_on='LGA', right_on='LGA')\n",
    "\n",
    "print(\"master_mg3 shape:\", master_mg3.shape)\n",
    "print(\"Number of LGAs in the master_mg3:\", master_mg3['LGA'].nunique())"
   ]
  },
  {
   "cell_type": "markdown",
   "id": "b49e52c8",
   "metadata": {},
   "source": [
    "**`features_postcodes` $\\xrightarrow{merge}$ master**"
   ]
  },
  {
   "cell_type": "code",
   "execution_count": 90,
   "id": "e2d6ec51",
   "metadata": {},
   "outputs": [
    {
     "name": "stdout",
     "output_type": "stream",
     "text": [
      "master_mg3 shape: (988, 58)\n",
      "Number of postcodes in the master_mg3: 573\n"
     ]
    }
   ],
   "source": [
    "# Merge features_postcode in\n",
    "master_mg3 = master_mg3.merge(features_postcode, \n",
    "                              left_on='postcode', right_on='postcode')\n",
    "print(\"master_mg3 shape:\", master_mg3.shape)\n",
    "print(\"Number of postcodes in the master_mg3:\", master_mg3['postcode'].nunique())"
   ]
  },
  {
   "cell_type": "markdown",
   "id": "8813a104",
   "metadata": {},
   "source": [
    "Again we lost 1 LGA, 4 postcodes this time after merging."
   ]
  },
  {
   "cell_type": "markdown",
   "id": "77a995da",
   "metadata": {},
   "source": [
    "**`features_timePeriods` $\\xrightarrow{merge}$ master**"
   ]
  },
  {
   "cell_type": "code",
   "execution_count": 91,
   "id": "7c031147",
   "metadata": {},
   "outputs": [
    {
     "name": "stdout",
     "output_type": "stream",
     "text": [
      "master_mg3 shape: (988, 78)\n"
     ]
    },
    {
     "data": {
      "text/html": [
       "<div>\n",
       "<style scoped>\n",
       "    .dataframe tbody tr th:only-of-type {\n",
       "        vertical-align: middle;\n",
       "    }\n",
       "\n",
       "    .dataframe tbody tr th {\n",
       "        vertical-align: top;\n",
       "    }\n",
       "\n",
       "    .dataframe thead th {\n",
       "        text-align: right;\n",
       "    }\n",
       "</style>\n",
       "<table border=\"1\" class=\"dataframe\">\n",
       "  <thead>\n",
       "    <tr style=\"text-align: right;\">\n",
       "      <th></th>\n",
       "      <th>postcode</th>\n",
       "      <th>LGA</th>\n",
       "      <th>mean_price 2020 Q1</th>\n",
       "      <th>mean_price 2020 Q2</th>\n",
       "      <th>mean_price 2020 Q3</th>\n",
       "      <th>mean_price 2020 Q4</th>\n",
       "      <th>mean_price 2021 Q1</th>\n",
       "      <th>median_price 2020 Q1</th>\n",
       "      <th>median_price 2020 Q2</th>\n",
       "      <th>median_price 2020 Q3</th>\n",
       "      <th>...</th>\n",
       "      <th>Rate 2020 Q1</th>\n",
       "      <th>Rate 2020 Q2</th>\n",
       "      <th>Rate 2020 Q3</th>\n",
       "      <th>Rate 2020 Q4</th>\n",
       "      <th>Rate 2021 Q1</th>\n",
       "      <th>constr_index 2020 Q1</th>\n",
       "      <th>constr_index 2020 Q2</th>\n",
       "      <th>constr_index 2020 Q3</th>\n",
       "      <th>constr_index 2020 Q4</th>\n",
       "      <th>constr_index 2021 Q1</th>\n",
       "    </tr>\n",
       "  </thead>\n",
       "  <tbody>\n",
       "    <tr>\n",
       "      <th>0</th>\n",
       "      <td>2000</td>\n",
       "      <td>SYDNEY</td>\n",
       "      <td>1541.0</td>\n",
       "      <td>1322.0</td>\n",
       "      <td>1631.0</td>\n",
       "      <td>1379.0</td>\n",
       "      <td>2794.0</td>\n",
       "      <td>1225.0</td>\n",
       "      <td>1000.0</td>\n",
       "      <td>1390.0</td>\n",
       "      <td>...</td>\n",
       "      <td>0.638889</td>\n",
       "      <td>0.25</td>\n",
       "      <td>0.25</td>\n",
       "      <td>0.15625</td>\n",
       "      <td>0.1</td>\n",
       "      <td>116.0</td>\n",
       "      <td>116.2</td>\n",
       "      <td>116.2</td>\n",
       "      <td>116.9</td>\n",
       "      <td>117.8</td>\n",
       "    </tr>\n",
       "  </tbody>\n",
       "</table>\n",
       "<p>1 rows × 78 columns</p>\n",
       "</div>"
      ],
      "text/plain": [
       "   postcode     LGA  mean_price 2020 Q1  mean_price 2020 Q2  \\\n",
       "0      2000  SYDNEY              1541.0              1322.0   \n",
       "\n",
       "   mean_price 2020 Q3  mean_price 2020 Q4  mean_price 2021 Q1  \\\n",
       "0              1631.0              1379.0              2794.0   \n",
       "\n",
       "   median_price 2020 Q1  median_price 2020 Q2  median_price 2020 Q3  ...  \\\n",
       "0                1225.0                1000.0                1390.0  ...   \n",
       "\n",
       "   Rate 2020 Q1  Rate 2020 Q2  Rate 2020 Q3  Rate 2020 Q4  Rate 2021 Q1  \\\n",
       "0      0.638889          0.25          0.25       0.15625           0.1   \n",
       "\n",
       "   constr_index 2020 Q1  constr_index 2020 Q2  constr_index 2020 Q3  \\\n",
       "0                 116.0                 116.2                 116.2   \n",
       "\n",
       "   constr_index 2020 Q4  constr_index 2021 Q1  \n",
       "0                 116.9                 117.8  \n",
       "\n",
       "[1 rows x 78 columns]"
      ]
     },
     "execution_count": 91,
     "metadata": {},
     "output_type": "execute_result"
    }
   ],
   "source": [
    "master_mg3 = master_mg3.assign(**tp_dict)\n",
    "\n",
    "print(\"master_mg3 shape:\", master_mg3.shape)\n",
    "master_mg2.head(1)"
   ]
  },
  {
   "cell_type": "code",
   "execution_count": 92,
   "id": "1c744780",
   "metadata": {},
   "outputs": [],
   "source": [
    "# Save as CSV\n",
    "master_mg3.to_csv('Files/Cleaned/Master_Pivot_Sales_Rent_5Quarters_Imputed_wFeatures.csv', index=False)"
   ]
  }
 ],
 "metadata": {
  "kernelspec": {
   "display_name": "Python 3 (ipykernel)",
   "language": "python",
   "name": "python3"
  },
  "language_info": {
   "codemirror_mode": {
    "name": "ipython",
    "version": 3
   },
   "file_extension": ".py",
   "mimetype": "text/x-python",
   "name": "python",
   "nbconvert_exporter": "python",
   "pygments_lexer": "ipython3",
   "version": "3.8.11"
  },
  "toc": {
   "base_numbering": 1,
   "nav_menu": {},
   "number_sections": true,
   "sideBar": true,
   "skip_h1_title": false,
   "title_cell": "Table of Contents",
   "title_sidebar": "Contents",
   "toc_cell": true,
   "toc_position": {},
   "toc_section_display": true,
   "toc_window_display": false
  },
  "varInspector": {
   "cols": {
    "lenName": 16,
    "lenType": 16,
    "lenVar": 40
   },
   "kernels_config": {
    "python": {
     "delete_cmd_postfix": "",
     "delete_cmd_prefix": "del ",
     "library": "var_list.py",
     "varRefreshCmd": "print(var_dic_list())"
    },
    "r": {
     "delete_cmd_postfix": ") ",
     "delete_cmd_prefix": "rm(",
     "library": "var_list.r",
     "varRefreshCmd": "cat(var_dic_list()) "
    }
   },
   "oldHeight": 122.4,
   "position": {
    "height": "40px",
    "left": "1266.2px",
    "right": "20px",
    "top": "72px",
    "width": "250px"
   },
   "types_to_exclude": [
    "module",
    "function",
    "builtin_function_or_method",
    "instance",
    "_Feature"
   ],
   "varInspector_section_display": "none",
   "window_display": true
  }
 },
 "nbformat": 4,
 "nbformat_minor": 5
}
