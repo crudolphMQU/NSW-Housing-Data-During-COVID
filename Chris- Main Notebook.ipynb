{
 "cells": [
  {
   "cell_type": "markdown",
   "id": "02e89d71",
   "metadata": {
    "toc": true
   },
   "source": [
    "<h1>Table of Contents<span class=\"tocSkip\"></span></h1>\n",
    "<div class=\"toc\"><ul class=\"toc-item\"><li><span><a href=\"#Introduction\" data-toc-modified-id=\"Introduction-1\"><span class=\"toc-item-num\">1&nbsp;&nbsp;</span>Introduction</a></span><ul class=\"toc-item\"><li><span><a href=\"#Goals-&amp;-Methodology-(Felix)\" data-toc-modified-id=\"Goals-&amp;-Methodology-(Felix)-1.1\"><span class=\"toc-item-num\">1.1&nbsp;&nbsp;</span>Goals &amp; Methodology (Felix)</a></span></li><li><span><a href=\"#Data-and-Variable-Explanation-(Alexis)\" data-toc-modified-id=\"Data-and-Variable-Explanation-(Alexis)-1.2\"><span class=\"toc-item-num\">1.2&nbsp;&nbsp;</span>Data and Variable Explanation (Alexis)</a></span></li><li><span><a href=\"#Imports\" data-toc-modified-id=\"Imports-1.3\"><span class=\"toc-item-num\">1.3&nbsp;&nbsp;</span>Imports</a></span></li></ul></li><li><span><a href=\"#Analysis\" data-toc-modified-id=\"Analysis-2\"><span class=\"toc-item-num\">2&nbsp;&nbsp;</span>Analysis</a></span><ul class=\"toc-item\"><li><span><a href=\"#Reading-&amp;-Cleaning-data-(Alexis:-what-we-did-and-refer-to-cleaning)\" data-toc-modified-id=\"Reading-&amp;-Cleaning-data-(Alexis:-what-we-did-and-refer-to-cleaning)-2.1\"><span class=\"toc-item-num\">2.1&nbsp;&nbsp;</span>Reading &amp; Cleaning data (Alexis: what we did and refer to cleaning)</a></span></li></ul></li><li><span><a href=\"#Modeling\" data-toc-modified-id=\"Modeling-3\"><span class=\"toc-item-num\">3&nbsp;&nbsp;</span>Modeling</a></span><ul class=\"toc-item\"><li><span><a href=\"#Setting-up-the-DF\" data-toc-modified-id=\"Setting-up-the-DF-3.1\"><span class=\"toc-item-num\">3.1&nbsp;&nbsp;</span>Setting up the DF</a></span></li><li><span><a href=\"#Baseline-chance-accuracy\" data-toc-modified-id=\"Baseline-chance-accuracy-3.2\"><span class=\"toc-item-num\">3.2&nbsp;&nbsp;</span>Baseline chance accuracy</a></span></li><li><span><a href=\"#Linear-Regression-base-model\" data-toc-modified-id=\"Linear-Regression-base-model-3.3\"><span class=\"toc-item-num\">3.3&nbsp;&nbsp;</span>Linear Regression base model</a></span></li><li><span><a href=\"#Cross-Validation\" data-toc-modified-id=\"Cross-Validation-3.4\"><span class=\"toc-item-num\">3.4&nbsp;&nbsp;</span>Cross Validation</a></span></li><li><span><a href=\"#Model-tuning\" data-toc-modified-id=\"Model-tuning-3.5\"><span class=\"toc-item-num\">3.5&nbsp;&nbsp;</span>Model tuning</a></span><ul class=\"toc-item\"><li><span><a href=\"#Using-RFE-and-a-loop-to-determine-the-best-number-of-features\" data-toc-modified-id=\"Using-RFE-and-a-loop-to-determine-the-best-number-of-features-3.5.1\"><span class=\"toc-item-num\">3.5.1&nbsp;&nbsp;</span>Using RFE and a loop to determine the best number of features</a></span></li><li><span><a href=\"#Grid-search-on-LR-with-the-determined-top-features\" data-toc-modified-id=\"Grid-search-on-LR-with-the-determined-top-features-3.5.2\"><span class=\"toc-item-num\">3.5.2&nbsp;&nbsp;</span>Grid search on LR with the determined top features</a></span></li><li><span><a href=\"#Composition-of-GS,-RFE-and-LR.\" data-toc-modified-id=\"Composition-of-GS,-RFE-and-LR.-3.5.3\"><span class=\"toc-item-num\">3.5.3&nbsp;&nbsp;</span>Composition of GS, RFE and LR.</a></span><ul class=\"toc-item\"><li><span><a href=\"#Applying-GS-to-RFE-with-default-LR-(max-all-features)\" data-toc-modified-id=\"Applying-GS-to-RFE-with-default-LR-(max-all-features)-3.5.3.1\"><span class=\"toc-item-num\">3.5.3.1&nbsp;&nbsp;</span>Applying GS to RFE with default LR (max all features)</a></span></li><li><span><a href=\"#(raw)-Applying-GS-to-RFE-with-default-LR-(max-51-features)\" data-toc-modified-id=\"(raw)-Applying-GS-to-RFE-with-default-LR-(max-51-features)-3.5.3.2\"><span class=\"toc-item-num\">3.5.3.2&nbsp;&nbsp;</span>(raw) Applying GS to RFE with default LR (max 51 features)</a></span></li></ul></li></ul></li><li><span><a href=\"#Final-Linear-Regression-Model\" data-toc-modified-id=\"Final-Linear-Regression-Model-3.6\"><span class=\"toc-item-num\">3.6&nbsp;&nbsp;</span>Final Linear Regression Model</a></span></li></ul></li><li><span><a href=\"#Clustering-(Ken-&amp;-Felix)\" data-toc-modified-id=\"Clustering-(Ken-&amp;-Felix)-4\"><span class=\"toc-item-num\">4&nbsp;&nbsp;</span>Clustering (Ken &amp; Felix)</a></span><ul class=\"toc-item\"><li><span><a href=\"#Kmeans\" data-toc-modified-id=\"Kmeans-4.1\"><span class=\"toc-item-num\">4.1&nbsp;&nbsp;</span>Kmeans</a></span><ul class=\"toc-item\"><li><span><a href=\"#Scaling-the-data\" data-toc-modified-id=\"Scaling-the-data-4.1.1\"><span class=\"toc-item-num\">4.1.1&nbsp;&nbsp;</span>Scaling the data</a></span></li><li><span><a href=\"#Optimal-Number-of-K:-Elbow-Method\" data-toc-modified-id=\"Optimal-Number-of-K:-Elbow-Method-4.1.2\"><span class=\"toc-item-num\">4.1.2&nbsp;&nbsp;</span>Optimal Number of K: Elbow Method</a></span></li><li><span><a href=\"#Apply-Algorithm\" data-toc-modified-id=\"Apply-Algorithm-4.1.3\"><span class=\"toc-item-num\">4.1.3&nbsp;&nbsp;</span>Apply Algorithm</a></span></li></ul></li><li><span><a href=\"#Hierarchical-clustering\" data-toc-modified-id=\"Hierarchical-clustering-4.2\"><span class=\"toc-item-num\">4.2&nbsp;&nbsp;</span>Hierarchical clustering</a></span></li></ul></li><li><span><a href=\"#Distinct-Models-per-Clusters\" data-toc-modified-id=\"Distinct-Models-per-Clusters-5\"><span class=\"toc-item-num\">5&nbsp;&nbsp;</span>Distinct Models per Clusters</a></span><ul class=\"toc-item\"><li><span><a href=\"#Model-on-KMeans\" data-toc-modified-id=\"Model-on-KMeans-5.1\"><span class=\"toc-item-num\">5.1&nbsp;&nbsp;</span>Model on KMeans</a></span></li></ul></li><li><span><a href=\"#Classification\" data-toc-modified-id=\"Classification-6\"><span class=\"toc-item-num\">6&nbsp;&nbsp;</span>Classification</a></span></li><li><span><a href=\"#Results\" data-toc-modified-id=\"Results-7\"><span class=\"toc-item-num\">7&nbsp;&nbsp;</span>Results</a></span></li><li><span><a href=\"#Conclusion-and-Outlook\" data-toc-modified-id=\"Conclusion-and-Outlook-8\"><span class=\"toc-item-num\">8&nbsp;&nbsp;</span>Conclusion and Outlook</a></span></li></ul></div>"
   ]
  },
  {
   "cell_type": "markdown",
   "id": "5ae51e48",
   "metadata": {
    "heading_collapsed": true
   },
   "source": [
    "# Introduction\n",
    "State notebook purpose here."
   ]
  },
  {
   "cell_type": "markdown",
   "id": "82372dd5",
   "metadata": {
    "heading_collapsed": true,
    "hidden": true
   },
   "source": [
    "## Goals & Methodology (Felix)\n",
    "State the goals of the analysis and how it should be done."
   ]
  },
  {
   "cell_type": "markdown",
   "id": "3183a3ab",
   "metadata": {
    "heading_collapsed": true,
    "hidden": true
   },
   "source": [
    "## Data and Variable Explanation (Alexis)\n",
    "Explain the datasets used and the relevant variables."
   ]
  },
  {
   "cell_type": "markdown",
   "id": "7bdddb24",
   "metadata": {
    "heading_collapsed": true,
    "hidden": true
   },
   "source": [
    "## Imports\n",
    "Import libraries and write settings here."
   ]
  },
  {
   "cell_type": "code",
   "execution_count": 1,
   "id": "4b9247d1",
   "metadata": {
    "hidden": true
   },
   "outputs": [],
   "source": [
    "import pandas as pd\n",
    "import numpy as np\n",
    "import matplotlib.pyplot as plt\n",
    "import seaborn as sns\n",
    "from sklearn.cluster import KMeans\n",
    "from sklearn.preprocessing import StandardScaler\n",
    "from sklearn.linear_model import LinearRegression\n",
    "from sklearn.ensemble import RandomForestClassifier\n",
    "from sklearn.model_selection import cross_val_score, KFold, train_test_split\n",
    "from sklearn.metrics import accuracy_score\n",
    "from scipy.cluster.hierarchy import linkage\n",
    "from scipy.cluster.hierarchy import dendrogram\n",
    "from scipy.cluster.hierarchy import cut_tree\n",
    "%matplotlib inline"
   ]
  },
  {
   "cell_type": "markdown",
   "id": "7340b3e6",
   "metadata": {
    "hidden": true
   },
   "source": [
    "The data cleaning function takes a few minutes to complete."
   ]
  },
  {
   "cell_type": "code",
   "execution_count": 2,
   "id": "45959add",
   "metadata": {
    "hidden": true
   },
   "outputs": [],
   "source": [
    "#%run chrisDataCleanFunction.ipynb"
   ]
  },
  {
   "cell_type": "markdown",
   "id": "b89f8d27",
   "metadata": {
    "hidden": true
   },
   "source": [
    "We get the following DFs:\n",
    "\n",
    "- `salesNew`\n",
    "- `salesOld`\n",
    "- `salesNew_nStrata`\n",
    "- `salesNew_strata`\n",
    "- `salesNew_total`\n",
    "- `salesOld_nStrata`\n",
    "- `salesOld_strata`\n",
    "- `salesOld_total`\n",
    "- `rentNew`\n",
    "- `rentOld`"
   ]
  },
  {
   "cell_type": "markdown",
   "id": "53acbd9f",
   "metadata": {
    "heading_collapsed": true
   },
   "source": [
    "# Analysis"
   ]
  },
  {
   "cell_type": "markdown",
   "id": "75e2d2c6",
   "metadata": {
    "heading_collapsed": true,
    "hidden": true
   },
   "source": [
    "## Reading & Cleaning data (Alexis: what we did and refer to cleaning)\n",
    "Read in the pre-processed unstacked dataframe."
   ]
  },
  {
   "cell_type": "raw",
   "id": "935bd59f",
   "metadata": {
    "hidden": true
   },
   "source": [
    "# reading in\n",
    "master = pd.read_csv(\"Files/Cleaned/Postcode-based/Master_Sales_Rent_2017Q4_2021Q1_pcFeatures.csv\")\n",
    "master.head()"
   ]
  },
  {
   "cell_type": "raw",
   "id": "6e1b03e1",
   "metadata": {
    "hidden": true,
    "scrolled": true
   },
   "source": [
    "master.dtypes"
   ]
  },
  {
   "cell_type": "raw",
   "id": "f98a2c07",
   "metadata": {
    "hidden": true
   },
   "source": [
    "master.columns"
   ]
  },
  {
   "cell_type": "raw",
   "id": "8bf81c27",
   "metadata": {
    "hidden": true
   },
   "source": [
    "## Variable Analysis"
   ]
  },
  {
   "cell_type": "raw",
   "id": "9c29fe05",
   "metadata": {
    "hidden": true
   },
   "source": [
    "### Over Time (Felix)\n",
    "Analyse possible relationships between target variable and features. Check if features are correlated."
   ]
  },
  {
   "cell_type": "raw",
   "id": "15870ea7",
   "metadata": {
    "hidden": true
   },
   "source": [
    "# pivot unstacked df to get aggregate values by time period\n",
    "pivot_time = pd.pivot_table(master,\n",
    "                            index=\"time_period\")\n",
    "pivot_time"
   ]
  },
  {
   "cell_type": "raw",
   "id": "2436fbdc",
   "metadata": {
    "hidden": true
   },
   "source": [
    "pivot_time.columns"
   ]
  },
  {
   "cell_type": "raw",
   "id": "c653b412",
   "metadata": {
    "hidden": true
   },
   "source": [
    "# remove all census data as it does not change over time\n",
    "pivot_time = pivot_time.drop(['Adelta_count', \n",
    "                              'Adelta_median',\n",
    "                              'Adelta_median_rent', \n",
    "                              'Adelta_new_bonds', \n",
    "                              'Qdelta_count', \n",
    "                              'Qdelta_median',\n",
    "                              'Qdelta_median_rent', \n",
    "                              'Qdelta_new_bonds', \n",
    "                              'YARRP 1976-1995',\n",
    "                              'YARRP 1996-2005', \n",
    "                              'YARRP 2006-2016', \n",
    "                              'YARRP <1975', \n",
    "                              'population_2016', \n",
    "                              'postcode', \n",
    "                              '0-4yo', \n",
    "                              '15-24yo', \n",
    "                              '25-34yo', \n",
    "                              '35-54yo',\n",
    "                              '5-14yo', \n",
    "                              '55-64yo', \n",
    "                              '65+yo', \n",
    "                              'ATSI'],\n",
    "                            axis=1)\n",
    "pivot_time"
   ]
  },
  {
   "cell_type": "raw",
   "id": "ea7dcb7d",
   "metadata": {
    "hidden": true
   },
   "source": [
    "pivot_time.columns"
   ]
  },
  {
   "cell_type": "raw",
   "id": "4cd66e29",
   "metadata": {
    "hidden": true
   },
   "source": [
    "# show correlation matrix for numeric data\n",
    "plt.figure(figsize=(16, 12))\n",
    "\n",
    "postcode_corr = pivot_time[['mean_price', 'median_price', 'median_rent_newb', 'new_bonds_no', 'total_bonds_no', \n",
    "                            '10yBonds%', '2yBonds%', 'Rate', 'constr_index', 'sales_no']]\n",
    "\n",
    "matrix = np.triu(postcode_corr.corr())\n",
    "\n",
    "sns.heatmap(postcode_corr.corr(), \n",
    "            annot=True, # put coefficients in\n",
    "            fmt='.2g', # set number of decimals\n",
    "            vmin=-1, vmax=1, center=0, # rescale colorbar\n",
    "            cmap='RdYlGn', # set color palette\n",
    "            square=True, # set squares\n",
    "            mask=matrix) # display only lower triangular matrix\n",
    "plt.yticks(rotation=360)\n",
    "plt.xticks(rotation=70);"
   ]
  },
  {
   "cell_type": "raw",
   "id": "4e92224a",
   "metadata": {
    "hidden": true
   },
   "source": [
    "Analysis of correlation with price:\n",
    "- There is a weak negative relationship between the __rent level__ and the sales price level. This implies that periods with higher rent prices tend to have lower sales prices. However, as mentioned, the relationship is rather weak.\n",
    "- There is a moderate positive relationship with the amount of __total bonds__.\n",
    "- There is a moderate to strong negative relationship with __10 Year Bonds__. This makes sense since in economic theory investors can choose from different asset classes. Government bonds are considered as ultra safe and hence represent a baseline of what investors expect as return since they can have the bond yield \"risk free\". If bond yields rise, the relative return of competing asset classes decrease, demand goes down, and price level will follow.\n",
    "- There is a strong negative relationship with __2 Year Bonds__. The reasoning is the same as for 10 year bonds. It is interesting, though, that the relationship for shorter duration bonds seems stronger.\n",
    "- There is a moderate to strong positive relationship with __high income__. This implies that postcode area with high sales prices tend to have a population with higher income.\n",
    "- There is a strong negative relationship with __interest rates__. This is another reasonable observation from an economic point of view. When interest rates decrease, it means capital becomes cheaper i.e. it is easier to get a loan since they are related to the rate level. Hence demand for housing, financed through loans, increases, and prices adjust accordingly.\n",
    "- There is a moderate positive relationship with __construction costs__. This makes sense since house prices should increase as cost for building them increases.\n",
    "- Lastly, there is a strong positive relationship with __sales numbers__. It is not sure at this stage how this actually relates, but the number of sales could be viewed as a proxy for demand which would drive prices."
   ]
  },
  {
   "cell_type": "raw",
   "id": "9b3d110e",
   "metadata": {
    "hidden": true
   },
   "source": [
    "Interesting features to analyse over time together with price:\n",
    "- dwelling type (in first EDA notebook)\n",
    "- sales number\n",
    "- median rent\n",
    "- new bonds\n",
    "- bond yields\n",
    "- construction costs\n",
    "- interest rate"
   ]
  },
  {
   "cell_type": "raw",
   "id": "a53e54a3",
   "metadata": {
    "hidden": true
   },
   "source": [
    "#### Sales Number"
   ]
  },
  {
   "cell_type": "raw",
   "id": "92f51710",
   "metadata": {
    "hidden": true
   },
   "source": [
    "#### Median Rent"
   ]
  },
  {
   "cell_type": "raw",
   "id": "f715dbe3",
   "metadata": {
    "hidden": true
   },
   "source": [
    "#### New Bonds"
   ]
  },
  {
   "cell_type": "raw",
   "id": "10af5fa8",
   "metadata": {
    "hidden": true
   },
   "source": [
    "#### Construction Costs"
   ]
  },
  {
   "cell_type": "raw",
   "id": "0634a170",
   "metadata": {
    "hidden": true
   },
   "source": [
    "#### Bond Yields"
   ]
  },
  {
   "cell_type": "raw",
   "id": "a6dc25e4",
   "metadata": {
    "hidden": true
   },
   "source": [
    "#### Interest Rates"
   ]
  },
  {
   "cell_type": "raw",
   "id": "04b4a1d0",
   "metadata": {
    "hidden": true
   },
   "source": [
    "### By Postcode"
   ]
  },
  {
   "cell_type": "raw",
   "id": "59785e47",
   "metadata": {
    "hidden": true
   },
   "source": [
    "# pivot unstacked df to get aggregate values by postcode\n",
    "pivot_postcode = pd.pivot_table(master,\n",
    "                                index=\"postcode\")\n",
    "pivot_postcode"
   ]
  },
  {
   "cell_type": "raw",
   "id": "5320630c",
   "metadata": {
    "hidden": true
   },
   "source": [
    "pivot_postcode.columns"
   ]
  },
  {
   "cell_type": "raw",
   "id": "6a8a7d5f",
   "metadata": {
    "hidden": true
   },
   "source": [
    "pivot_postcode = pivot_postcode[['mean_price', 'median_price', 'median_rent_newb', 'new_bonds_no', 'total_bonds_no', '0-4yo', '5-14yo', '15-24yo', '25-34yo', '35-54yo', '55-64yo', '65+yo', 'ATSI', 'CPRF_2', 'CPRF_3', 'CPRF_4','CPRF_5', 'CPRF_6+', 'CPRF_HHOLD_NO', 'CPRF_na', 'INCP_HIGH', 'INCP_LOW', 'INCP_MID', 'INCP_NEG_NIL', 'YARRP 1976-1995', 'YARRP 1996-2005', 'YARRP 2006-2016', 'YARRP <1975', 'citizen_AU', 'citizen_non_AU']]"
   ]
  },
  {
   "cell_type": "raw",
   "id": "a09736ec",
   "metadata": {
    "hidden": true
   },
   "source": [
    "# show correlation\n",
    "plt.figure(figsize=(20, 15))\n",
    "\n",
    "matrix = np.triu(pivot_postcode.corr())\n",
    "\n",
    "sns.heatmap(pivot_postcode.corr(), \n",
    "            annot=True, # put coefficients in\n",
    "            fmt='.2g', # set number of decimals\n",
    "            vmin=-1, vmax=1, center=0, # rescale colorbar\n",
    "            cmap='RdYlGn', # set color palette\n",
    "            square=True, # set squares\n",
    "            mask=matrix) # display only lower triangular matrix\n",
    "plt.yticks(rotation=360)\n",
    "plt.xticks(rotation=70);"
   ]
  },
  {
   "cell_type": "raw",
   "id": "178815ee",
   "metadata": {
    "hidden": true
   },
   "source": [
    "Analysis of correlation with price:\n",
    "- There is a very strong positive relationship between the __rent level__ and the sales price level. This implies that postcodes that have high rent prices also tend to have high sales prices. It remains unknown, however, if there actually is a causal relationship.\n",
    "- There is a positive relationship with the amount of __new bonds__. This would make intuitively sense if the number of new bonds is seen as a proxy for demand in an area. First and foremost, this should have an effect on rent levels, but since rent prices are heavily correlated with sales levels, it would make sense if there is some relation with this too.\n",
    "- The number of people in a certain __age bracket__ seems to have a slight positive relationship with sales price for people aged between 25-54. Once could argue that this covers the typical working lifespan and hence people in this age bracket are expected to have more money which is reflected in sales prices.\n",
    "- There is a moderately strong negative relationship with __ATSI__. This implies that prices levels are lower in postcode areas where more people identifying as aboriginal live.\n",
    "- There is a moderate to strong positive relationship with __high income__. This implies that postcode area with high sales prices tend to have a population with higher income.\n",
    "- There is a rather weak positive relationship with the __different years of arrival__ in Australia. At this point, however, it is hard to reason why there should be a relationship\n",
    "- Lastly, there is rather weak positive relationship with __non Australian citizenship__. This implies that postcodes with higher sales prices are culturally more diverse with a larger proportion of non-Australian citizens."
   ]
  },
  {
   "cell_type": "raw",
   "id": "ff27d6a2",
   "metadata": {
    "hidden": true
   },
   "source": [
    "pivot_postcode.columns"
   ]
  },
  {
   "cell_type": "raw",
   "id": "8e8cf211",
   "metadata": {
    "hidden": true
   },
   "source": [
    "#### Median Rent"
   ]
  },
  {
   "cell_type": "raw",
   "id": "f3171be9",
   "metadata": {
    "hidden": true
   },
   "source": [
    "sns.set_style(\"darkgrid\")\n",
    "plt.figure(figsize=(10,7))\n",
    "sns.scatterplot(x=\"mean_price\", y=\"median_rent_newb\", data=pivot_postcode)\n",
    "plt.title(\"Relationship of Median Rent and Mean Price Level\", fontsize=14)\n",
    "plt.xlabel(\"Mean Sales Price\", fontsize=12)\n",
    "plt.ylabel(\"Median Rent Price\", fontsize=12);"
   ]
  },
  {
   "cell_type": "raw",
   "id": "b2d2091f",
   "metadata": {
    "hidden": true
   },
   "source": [
    "\n",
    "plt.figure(figsize=(10,7))\n",
    "sns.scatterplot(x=\"median_price\", y=\"median_rent_newb\", data=pivot_postcode)\n",
    "plt.title(\"Relationship of Median Rent and Median Price Level\", fontsize=14)\n",
    "plt.xlabel(\"Median Sales Price\", fontsize=12)\n",
    "plt.ylabel(\"Median Rent Price\", fontsize=12);"
   ]
  },
  {
   "cell_type": "raw",
   "id": "c62960c9",
   "metadata": {
    "hidden": true
   },
   "source": [
    "Comparing the median sales prices with median rent prices makes intuitively more sense, and also seems to be a more linear relationship. However, for both plots, the relationship looks non-linear and a logarithmic transformation of the median rent level might make sense if we want to use it."
   ]
  },
  {
   "cell_type": "raw",
   "id": "c8d1d0ab",
   "metadata": {
    "hidden": true
   },
   "source": [
    "#### New Bonds"
   ]
  },
  {
   "cell_type": "raw",
   "id": "cb989fc9",
   "metadata": {
    "hidden": true
   },
   "source": [
    "plt.figure(figsize=(10,7))\n",
    "sns.scatterplot(x=\"mean_price\", y=\"new_bonds_no\", data=pivot_postcode)\n",
    "plt.title(\"Relationship of Number of New Bonds and Mean Price Level\", fontsize=14)\n",
    "plt.xlabel(\"Mean Sales Price\", fontsize=12)\n",
    "plt.ylabel(\"Number of New Bonds\", fontsize=12);"
   ]
  },
  {
   "cell_type": "raw",
   "id": "e2621d20",
   "metadata": {
    "hidden": true
   },
   "source": [
    "pivot_postcode[\"mean_price\"].corr(pivot_postcode[\"new_bonds_no\"])"
   ]
  },
  {
   "cell_type": "raw",
   "id": "959439e9",
   "metadata": {
    "hidden": true
   },
   "source": [
    "There is a positive relationship. However, the variance is very large. Transformation might help."
   ]
  },
  {
   "cell_type": "raw",
   "id": "3cfdd611",
   "metadata": {
    "hidden": true
   },
   "source": [
    "#### Age Brackets"
   ]
  },
  {
   "cell_type": "raw",
   "id": "17f3f5d3",
   "metadata": {
    "hidden": true
   },
   "source": [
    "plt.figure(figsize=(10,7))\n",
    "sns.scatterplot(x=\"mean_price\", y=\"25-34yo\", data=pivot_postcode)\n",
    "plt.title(\"Relationship of 25-34yo Population and Mean Price Level\", fontsize=14)\n",
    "plt.xlabel(\"Mean Sales Price\", fontsize=12)\n",
    "plt.ylabel(\"Number of People between 25-34 Years\", fontsize=12);"
   ]
  },
  {
   "cell_type": "raw",
   "id": "a39733f0",
   "metadata": {
    "hidden": true
   },
   "source": [
    "plt.figure(figsize=(10,7))\n",
    "sns.scatterplot(x=\"mean_price\", y=\"35-54yo\", data=pivot_postcode)\n",
    "plt.title(\"Relationship of 35-54yo Population and Mean Price Level\", fontsize=14)\n",
    "plt.xlabel(\"Mean Sales Price\", fontsize=12)\n",
    "plt.ylabel(\"Number of People between 35-54 Years\", fontsize=12);"
   ]
  },
  {
   "cell_type": "raw",
   "id": "cce75ffa",
   "metadata": {
    "hidden": true
   },
   "source": [
    "#### ATSI"
   ]
  },
  {
   "cell_type": "raw",
   "id": "e55e1453",
   "metadata": {
    "hidden": true
   },
   "source": [
    "plt.figure(figsize=(10,7))\n",
    "sns.scatterplot(x=\"mean_price\", y=\"ATSI\", data=pivot_postcode)\n",
    "plt.title(\"Relationship of Aboriginal Heritage and Mean Price Level\", fontsize=14)\n",
    "plt.xlabel(\"Mean Sales Price\", fontsize=12)\n",
    "plt.ylabel(\"Number of People identifying as Aboriginal\", fontsize=12);"
   ]
  },
  {
   "cell_type": "raw",
   "id": "30e8d687",
   "metadata": {
    "hidden": true
   },
   "source": [
    "This looks like a strongly non-linear relationship. Transformation might be required."
   ]
  },
  {
   "cell_type": "raw",
   "id": "60769d4a",
   "metadata": {
    "hidden": true
   },
   "source": [
    "#### High Income"
   ]
  },
  {
   "cell_type": "raw",
   "id": "7d9214c7",
   "metadata": {
    "hidden": true
   },
   "source": [
    "plt.figure(figsize=(10,7))\n",
    "sns.scatterplot(x=\"mean_price\", y=\"INCP_HIGH\", data=pivot_postcode)\n",
    "plt.title(\"Relationship of High Income and Mean Price Level\", fontsize=14)\n",
    "plt.xlabel(\"Mean Sales Price\", fontsize=12)\n",
    "plt.ylabel(\"High Income\", fontsize=12);"
   ]
  },
  {
   "cell_type": "raw",
   "id": "59f25e4b",
   "metadata": {
    "hidden": true
   },
   "source": [
    "There seems to be a somewhat linear relationship with a large variance for larger values."
   ]
  },
  {
   "cell_type": "raw",
   "id": "af059baa",
   "metadata": {
    "hidden": true
   },
   "source": [
    "#### Year of Arrival"
   ]
  },
  {
   "cell_type": "raw",
   "id": "a2bfe59e",
   "metadata": {
    "hidden": true
   },
   "source": [
    "plt.figure(figsize=(10,7))\n",
    "sns.scatterplot(x=\"mean_price\", y=\"YARRP 1996-2005\", data=pivot_postcode)\n",
    "plt.title(\"Relationship of Year of Arrival from 1996-2005 and Mean Price Level\", fontsize=14)\n",
    "plt.xlabel(\"Mean Sales Price\", fontsize=12)\n",
    "plt.ylabel(\"Number of People in Year Bracket\", fontsize=12);"
   ]
  },
  {
   "cell_type": "raw",
   "id": "1cda8e7a",
   "metadata": {
    "hidden": true
   },
   "source": [
    "plt.figure(figsize=(10,7))\n",
    "sns.scatterplot(x=\"mean_price\", y=\"YARRP 2006-2016\", data=pivot_postcode)\n",
    "plt.title(\"Relationship of Year of Arrival from 2006-2016 and Mean Price Level\", fontsize=14)\n",
    "plt.xlabel(\"Mean Sales Price\", fontsize=12)\n",
    "plt.ylabel(\"Number of People in Year Bracket\", fontsize=12);"
   ]
  },
  {
   "cell_type": "raw",
   "id": "8388e9fa",
   "metadata": {
    "hidden": true
   },
   "source": [
    "#### Non-AUS Citizen"
   ]
  },
  {
   "cell_type": "raw",
   "id": "afc7c1bf",
   "metadata": {
    "hidden": true
   },
   "source": [
    "plt.figure(figsize=(10,7))\n",
    "sns.scatterplot(x=\"mean_price\", y=\"citizen_non_AU\", data=pivot_postcode)\n",
    "plt.title(\"Relationship of non-AUS Citizenship and Mean Price Level\", fontsize=14)\n",
    "plt.xlabel(\"Mean Sales Price\", fontsize=12)\n",
    "plt.ylabel(\"Number of non-AUS citizens\", fontsize=12);"
   ]
  },
  {
   "cell_type": "raw",
   "id": "4e415ec1",
   "metadata": {
    "hidden": true
   },
   "source": []
  },
  {
   "cell_type": "markdown",
   "id": "4a1554c1",
   "metadata": {},
   "source": [
    "# Modeling\n",
    "\n",
    "**to do / issues**\n",
    "- cross validation fgor 3.5.2? "
   ]
  },
  {
   "cell_type": "markdown",
   "id": "d8cfeb09",
   "metadata": {},
   "source": [
    "## Setting up the DF"
   ]
  },
  {
   "cell_type": "code",
   "execution_count": 3,
   "id": "18eab814",
   "metadata": {},
   "outputs": [
    {
     "data": {
      "text/html": [
       "<div>\n",
       "<style scoped>\n",
       "    .dataframe tbody tr th:only-of-type {\n",
       "        vertical-align: middle;\n",
       "    }\n",
       "\n",
       "    .dataframe tbody tr th {\n",
       "        vertical-align: top;\n",
       "    }\n",
       "\n",
       "    .dataframe thead th {\n",
       "        text-align: right;\n",
       "    }\n",
       "</style>\n",
       "<table border=\"1\" class=\"dataframe\">\n",
       "  <thead>\n",
       "    <tr style=\"text-align: right;\">\n",
       "      <th></th>\n",
       "      <th>mean_price 2020 Q1</th>\n",
       "      <th>mean_price 2020 Q2</th>\n",
       "      <th>mean_price 2020 Q3</th>\n",
       "      <th>mean_price 2020 Q4</th>\n",
       "      <th>mean_price 2021 Q1</th>\n",
       "      <th>median_price 2020 Q1</th>\n",
       "      <th>median_price 2020 Q2</th>\n",
       "      <th>median_price 2020 Q3</th>\n",
       "      <th>median_price 2020 Q4</th>\n",
       "      <th>median_price 2021 Q1</th>\n",
       "      <th>...</th>\n",
       "      <th>35-54yo_Prop</th>\n",
       "      <th>55-64yo_Prop</th>\n",
       "      <th>65+yo_Prop</th>\n",
       "      <th>citizen_AU_Prop</th>\n",
       "      <th>citizen_non_AU_Prop</th>\n",
       "      <th>YARRP &lt;1975_Prop</th>\n",
       "      <th>YARRP 1976-1995_Prop</th>\n",
       "      <th>YARRP 1996-2005_Prop</th>\n",
       "      <th>YARRP 2006-2016_Prop</th>\n",
       "      <th>ATSI_Prop</th>\n",
       "    </tr>\n",
       "    <tr>\n",
       "      <th>postcode</th>\n",
       "      <th></th>\n",
       "      <th></th>\n",
       "      <th></th>\n",
       "      <th></th>\n",
       "      <th></th>\n",
       "      <th></th>\n",
       "      <th></th>\n",
       "      <th></th>\n",
       "      <th></th>\n",
       "      <th></th>\n",
       "      <th></th>\n",
       "      <th></th>\n",
       "      <th></th>\n",
       "      <th></th>\n",
       "      <th></th>\n",
       "      <th></th>\n",
       "      <th></th>\n",
       "      <th></th>\n",
       "      <th></th>\n",
       "      <th></th>\n",
       "      <th></th>\n",
       "    </tr>\n",
       "  </thead>\n",
       "  <tbody>\n",
       "    <tr>\n",
       "      <th>2000</th>\n",
       "      <td>1541.0</td>\n",
       "      <td>1322.0</td>\n",
       "      <td>1631.0</td>\n",
       "      <td>1379.0</td>\n",
       "      <td>2794.0</td>\n",
       "      <td>1225.0</td>\n",
       "      <td>1000.0</td>\n",
       "      <td>1390.0</td>\n",
       "      <td>1110.0</td>\n",
       "      <td>1371.0</td>\n",
       "      <td>...</td>\n",
       "      <td>0.229762</td>\n",
       "      <td>0.060924</td>\n",
       "      <td>0.061727</td>\n",
       "      <td>0.317062</td>\n",
       "      <td>0.534895</td>\n",
       "      <td>0.019153</td>\n",
       "      <td>0.058006</td>\n",
       "      <td>0.079348</td>\n",
       "      <td>0.475101</td>\n",
       "      <td>0.001934</td>\n",
       "    </tr>\n",
       "    <tr>\n",
       "      <th>2007</th>\n",
       "      <td>834.0</td>\n",
       "      <td>739.0</td>\n",
       "      <td>658.0</td>\n",
       "      <td>677.0</td>\n",
       "      <td>754.0</td>\n",
       "      <td>745.0</td>\n",
       "      <td>775.0</td>\n",
       "      <td>655.0</td>\n",
       "      <td>651.0</td>\n",
       "      <td>763.0</td>\n",
       "      <td>...</td>\n",
       "      <td>0.166177</td>\n",
       "      <td>0.037644</td>\n",
       "      <td>0.042957</td>\n",
       "      <td>0.308162</td>\n",
       "      <td>0.568958</td>\n",
       "      <td>0.012322</td>\n",
       "      <td>0.054149</td>\n",
       "      <td>0.067036</td>\n",
       "      <td>0.510626</td>\n",
       "      <td>0.006557</td>\n",
       "    </tr>\n",
       "    <tr>\n",
       "      <th>2008</th>\n",
       "      <td>956.0</td>\n",
       "      <td>1144.0</td>\n",
       "      <td>985.0</td>\n",
       "      <td>1184.0</td>\n",
       "      <td>937.0</td>\n",
       "      <td>750.0</td>\n",
       "      <td>1173.0</td>\n",
       "      <td>890.0</td>\n",
       "      <td>991.0</td>\n",
       "      <td>855.0</td>\n",
       "      <td>...</td>\n",
       "      <td>0.158982</td>\n",
       "      <td>0.040130</td>\n",
       "      <td>0.031592</td>\n",
       "      <td>0.372097</td>\n",
       "      <td>0.509051</td>\n",
       "      <td>0.013234</td>\n",
       "      <td>0.046192</td>\n",
       "      <td>0.051827</td>\n",
       "      <td>0.471909</td>\n",
       "      <td>0.006574</td>\n",
       "    </tr>\n",
       "    <tr>\n",
       "      <th>2009</th>\n",
       "      <td>1277.0</td>\n",
       "      <td>1282.0</td>\n",
       "      <td>1373.0</td>\n",
       "      <td>1661.0</td>\n",
       "      <td>1427.0</td>\n",
       "      <td>986.0</td>\n",
       "      <td>1100.0</td>\n",
       "      <td>1085.0</td>\n",
       "      <td>1075.0</td>\n",
       "      <td>1188.0</td>\n",
       "      <td>...</td>\n",
       "      <td>0.290018</td>\n",
       "      <td>0.095762</td>\n",
       "      <td>0.089753</td>\n",
       "      <td>0.578085</td>\n",
       "      <td>0.323265</td>\n",
       "      <td>0.033560</td>\n",
       "      <td>0.093733</td>\n",
       "      <td>0.085616</td>\n",
       "      <td>0.291111</td>\n",
       "      <td>0.009756</td>\n",
       "    </tr>\n",
       "    <tr>\n",
       "      <th>2010</th>\n",
       "      <td>1357.0</td>\n",
       "      <td>1395.0</td>\n",
       "      <td>1476.0</td>\n",
       "      <td>2267.0</td>\n",
       "      <td>1371.0</td>\n",
       "      <td>1280.0</td>\n",
       "      <td>1325.0</td>\n",
       "      <td>1270.0</td>\n",
       "      <td>1240.0</td>\n",
       "      <td>1201.0</td>\n",
       "      <td>...</td>\n",
       "      <td>0.322504</td>\n",
       "      <td>0.087802</td>\n",
       "      <td>0.088883</td>\n",
       "      <td>0.604010</td>\n",
       "      <td>0.244222</td>\n",
       "      <td>0.037140</td>\n",
       "      <td>0.079436</td>\n",
       "      <td>0.064328</td>\n",
       "      <td>0.226373</td>\n",
       "      <td>0.008474</td>\n",
       "    </tr>\n",
       "  </tbody>\n",
       "</table>\n",
       "<p>5 rows × 121 columns</p>\n",
       "</div>"
      ],
      "text/plain": [
       "          mean_price 2020 Q1  mean_price 2020 Q2  mean_price 2020 Q3  \\\n",
       "postcode                                                               \n",
       "2000                  1541.0              1322.0              1631.0   \n",
       "2007                   834.0               739.0               658.0   \n",
       "2008                   956.0              1144.0               985.0   \n",
       "2009                  1277.0              1282.0              1373.0   \n",
       "2010                  1357.0              1395.0              1476.0   \n",
       "\n",
       "          mean_price 2020 Q4  mean_price 2021 Q1  median_price 2020 Q1  \\\n",
       "postcode                                                                 \n",
       "2000                  1379.0              2794.0                1225.0   \n",
       "2007                   677.0               754.0                 745.0   \n",
       "2008                  1184.0               937.0                 750.0   \n",
       "2009                  1661.0              1427.0                 986.0   \n",
       "2010                  2267.0              1371.0                1280.0   \n",
       "\n",
       "          median_price 2020 Q2  median_price 2020 Q3  median_price 2020 Q4  \\\n",
       "postcode                                                                     \n",
       "2000                    1000.0                1390.0                1110.0   \n",
       "2007                     775.0                 655.0                 651.0   \n",
       "2008                    1173.0                 890.0                 991.0   \n",
       "2009                    1100.0                1085.0                1075.0   \n",
       "2010                    1325.0                1270.0                1240.0   \n",
       "\n",
       "          median_price 2021 Q1  ...  35-54yo_Prop  55-64yo_Prop  65+yo_Prop  \\\n",
       "postcode                        ...                                           \n",
       "2000                    1371.0  ...      0.229762      0.060924    0.061727   \n",
       "2007                     763.0  ...      0.166177      0.037644    0.042957   \n",
       "2008                     855.0  ...      0.158982      0.040130    0.031592   \n",
       "2009                    1188.0  ...      0.290018      0.095762    0.089753   \n",
       "2010                    1201.0  ...      0.322504      0.087802    0.088883   \n",
       "\n",
       "          citizen_AU_Prop  citizen_non_AU_Prop  YARRP <1975_Prop  \\\n",
       "postcode                                                           \n",
       "2000             0.317062             0.534895          0.019153   \n",
       "2007             0.308162             0.568958          0.012322   \n",
       "2008             0.372097             0.509051          0.013234   \n",
       "2009             0.578085             0.323265          0.033560   \n",
       "2010             0.604010             0.244222          0.037140   \n",
       "\n",
       "          YARRP 1976-1995_Prop  YARRP 1996-2005_Prop  YARRP 2006-2016_Prop  \\\n",
       "postcode                                                                     \n",
       "2000                  0.058006              0.079348              0.475101   \n",
       "2007                  0.054149              0.067036              0.510626   \n",
       "2008                  0.046192              0.051827              0.471909   \n",
       "2009                  0.093733              0.085616              0.291111   \n",
       "2010                  0.079436              0.064328              0.226373   \n",
       "\n",
       "          ATSI_Prop  \n",
       "postcode             \n",
       "2000       0.001934  \n",
       "2007       0.006557  \n",
       "2008       0.006574  \n",
       "2009       0.009756  \n",
       "2010       0.008474  \n",
       "\n",
       "[5 rows x 121 columns]"
      ]
     },
     "execution_count": 3,
     "metadata": {},
     "output_type": "execute_result"
    }
   ],
   "source": [
    "# Read Data\n",
    "\n",
    "modelDF = pd.read_csv(\"Files/Cleaned/Postcode-based/Unstacked_Transformed.csv\",\n",
    "                     index_col=\"postcode\")\n",
    "modelDF.head()"
   ]
  },
  {
   "cell_type": "code",
   "execution_count": 4,
   "id": "dbecb713",
   "metadata": {},
   "outputs": [
    {
     "name": "stdout",
     "output_type": "stream",
     "text": [
      "(573, 68)\n"
     ]
    },
    {
     "data": {
      "text/html": [
       "<div>\n",
       "<style scoped>\n",
       "    .dataframe tbody tr th:only-of-type {\n",
       "        vertical-align: middle;\n",
       "    }\n",
       "\n",
       "    .dataframe tbody tr th {\n",
       "        vertical-align: top;\n",
       "    }\n",
       "\n",
       "    .dataframe thead th {\n",
       "        text-align: right;\n",
       "    }\n",
       "</style>\n",
       "<table border=\"1\" class=\"dataframe\">\n",
       "  <thead>\n",
       "    <tr style=\"text-align: right;\">\n",
       "      <th></th>\n",
       "      <th>median_price 2020 Q1</th>\n",
       "      <th>median_price 2020 Q2</th>\n",
       "      <th>median_price 2020 Q3</th>\n",
       "      <th>median_price 2020 Q4</th>\n",
       "      <th>median_price 2021 Q1</th>\n",
       "      <th>median_rent_newb 2020 Q1</th>\n",
       "      <th>median_rent_newb 2020 Q2</th>\n",
       "      <th>median_rent_newb 2020 Q3</th>\n",
       "      <th>median_rent_newb 2020 Q4</th>\n",
       "      <th>median_rent_newb 2021 Q1</th>\n",
       "      <th>...</th>\n",
       "      <th>15-24yo_Prop</th>\n",
       "      <th>25-34yo_Prop</th>\n",
       "      <th>35-54yo_Prop</th>\n",
       "      <th>55-64yo_Prop</th>\n",
       "      <th>citizen_non_AU_Prop</th>\n",
       "      <th>YARRP &lt;1975_Prop</th>\n",
       "      <th>YARRP 1976-1995_Prop</th>\n",
       "      <th>YARRP 1996-2005_Prop</th>\n",
       "      <th>YARRP 2006-2016_Prop</th>\n",
       "      <th>ATSI_Prop</th>\n",
       "    </tr>\n",
       "    <tr>\n",
       "      <th>postcode</th>\n",
       "      <th></th>\n",
       "      <th></th>\n",
       "      <th></th>\n",
       "      <th></th>\n",
       "      <th></th>\n",
       "      <th></th>\n",
       "      <th></th>\n",
       "      <th></th>\n",
       "      <th></th>\n",
       "      <th></th>\n",
       "      <th></th>\n",
       "      <th></th>\n",
       "      <th></th>\n",
       "      <th></th>\n",
       "      <th></th>\n",
       "      <th></th>\n",
       "      <th></th>\n",
       "      <th></th>\n",
       "      <th></th>\n",
       "      <th></th>\n",
       "      <th></th>\n",
       "    </tr>\n",
       "  </thead>\n",
       "  <tbody>\n",
       "    <tr>\n",
       "      <th>2000</th>\n",
       "      <td>1225.0</td>\n",
       "      <td>1000.0</td>\n",
       "      <td>1390.0</td>\n",
       "      <td>1110.0</td>\n",
       "      <td>1371.0</td>\n",
       "      <td>700.0</td>\n",
       "      <td>630.0</td>\n",
       "      <td>600.0</td>\n",
       "      <td>550.0</td>\n",
       "      <td>600.0</td>\n",
       "      <td>...</td>\n",
       "      <td>0.212725</td>\n",
       "      <td>0.389479</td>\n",
       "      <td>0.229762</td>\n",
       "      <td>0.060924</td>\n",
       "      <td>0.534895</td>\n",
       "      <td>0.019153</td>\n",
       "      <td>0.058006</td>\n",
       "      <td>0.079348</td>\n",
       "      <td>0.475101</td>\n",
       "      <td>0.001934</td>\n",
       "    </tr>\n",
       "  </tbody>\n",
       "</table>\n",
       "<p>1 rows × 68 columns</p>\n",
       "</div>"
      ],
      "text/plain": [
       "          median_price 2020 Q1  median_price 2020 Q2  median_price 2020 Q3  \\\n",
       "postcode                                                                     \n",
       "2000                    1225.0                1000.0                1390.0   \n",
       "\n",
       "          median_price 2020 Q4  median_price 2021 Q1  \\\n",
       "postcode                                               \n",
       "2000                    1110.0                1371.0   \n",
       "\n",
       "          median_rent_newb 2020 Q1  median_rent_newb 2020 Q2  \\\n",
       "postcode                                                       \n",
       "2000                         700.0                     630.0   \n",
       "\n",
       "          median_rent_newb 2020 Q3  median_rent_newb 2020 Q4  \\\n",
       "postcode                                                       \n",
       "2000                         600.0                     550.0   \n",
       "\n",
       "          median_rent_newb 2021 Q1  ...  15-24yo_Prop  25-34yo_Prop  \\\n",
       "postcode                            ...                               \n",
       "2000                         600.0  ...      0.212725      0.389479   \n",
       "\n",
       "          35-54yo_Prop  55-64yo_Prop  citizen_non_AU_Prop  YARRP <1975_Prop  \\\n",
       "postcode                                                                      \n",
       "2000          0.229762      0.060924             0.534895          0.019153   \n",
       "\n",
       "          YARRP 1976-1995_Prop  YARRP 1996-2005_Prop  YARRP 2006-2016_Prop  \\\n",
       "postcode                                                                     \n",
       "2000                  0.058006              0.079348              0.475101   \n",
       "\n",
       "          ATSI_Prop  \n",
       "postcode             \n",
       "2000       0.001934  \n",
       "\n",
       "[1 rows x 68 columns]"
      ]
     },
     "execution_count": 4,
     "metadata": {},
     "output_type": "execute_result"
    }
   ],
   "source": [
    "# Remove interest rate, bond yields (they're the same for all postcodes)\n",
    "# Remove redundant calculated proportion variables\n",
    "modelDF = modelDF.iloc[:, np.r_[0:56, 96:121]] \n",
    "\n",
    "# Drop mean price columns\n",
    "modelDF = modelDF.drop([\"mean_price 2020 Q1\", \"mean_price 2020 Q2\", \"mean_price 2020 Q3\",\n",
    "                        \"mean_price 2020 Q4\", \"mean_price 2021 Q1\"],\n",
    "                      axis=1)\n",
    "\n",
    "# Drop one category from each feature group (optional)\n",
    "modelDF = modelDF.drop(columns=['INCP_NEG_NIL', 'INCP_NEG_NIL_Prop', \n",
    "                                '65+yo','65+yo_Prop',\n",
    "                                'CPRF_na', 'CPRF_na_Prop',\n",
    "                                'citizen_AU', 'citizen_AU_Prop'],axis=1)\n",
    "\n",
    "print(modelDF.shape)\n",
    "modelDF.head(1)"
   ]
  },
  {
   "cell_type": "raw",
   "id": "0cebf277",
   "metadata": {},
   "source": [
    "# Can also use the following to find columns with mean in it instead of manually looking through # all the column names.\n",
    "meanList = [col for col in modelDF.columns if 'mean' in col]"
   ]
  },
  {
   "cell_type": "code",
   "execution_count": 5,
   "id": "33b02637",
   "metadata": {},
   "outputs": [
    {
     "data": {
      "text/html": [
       "<div>\n",
       "<style scoped>\n",
       "    .dataframe tbody tr th:only-of-type {\n",
       "        vertical-align: middle;\n",
       "    }\n",
       "\n",
       "    .dataframe tbody tr th {\n",
       "        vertical-align: top;\n",
       "    }\n",
       "\n",
       "    .dataframe thead th {\n",
       "        text-align: right;\n",
       "    }\n",
       "</style>\n",
       "<table border=\"1\" class=\"dataframe\">\n",
       "  <thead>\n",
       "    <tr style=\"text-align: right;\">\n",
       "      <th></th>\n",
       "      <th>median_price 2021 Q1</th>\n",
       "    </tr>\n",
       "  </thead>\n",
       "  <tbody>\n",
       "    <tr>\n",
       "      <th>median_price 2021 Q1</th>\n",
       "      <td>1.000000</td>\n",
       "    </tr>\n",
       "    <tr>\n",
       "      <th>median_price 2020 Q4</th>\n",
       "      <td>0.930251</td>\n",
       "    </tr>\n",
       "    <tr>\n",
       "      <th>median_price 2020 Q3</th>\n",
       "      <td>0.904187</td>\n",
       "    </tr>\n",
       "    <tr>\n",
       "      <th>median_price 2020 Q1</th>\n",
       "      <td>0.870872</td>\n",
       "    </tr>\n",
       "    <tr>\n",
       "      <th>median_price 2020 Q2</th>\n",
       "      <td>0.862534</td>\n",
       "    </tr>\n",
       "    <tr>\n",
       "      <th>median_rent_newb 2020 Q2</th>\n",
       "      <td>0.805860</td>\n",
       "    </tr>\n",
       "    <tr>\n",
       "      <th>median_rent_newb 2020 Q1</th>\n",
       "      <td>0.790065</td>\n",
       "    </tr>\n",
       "    <tr>\n",
       "      <th>median_rent_newb 2020 Q3</th>\n",
       "      <td>0.775346</td>\n",
       "    </tr>\n",
       "    <tr>\n",
       "      <th>median_rent_newb 2021 Q1</th>\n",
       "      <td>0.768671</td>\n",
       "    </tr>\n",
       "    <tr>\n",
       "      <th>median_rent_newb 2020 Q4</th>\n",
       "      <td>0.768110</td>\n",
       "    </tr>\n",
       "    <tr>\n",
       "      <th>INCP_HIGH_Prop</th>\n",
       "      <td>0.725905</td>\n",
       "    </tr>\n",
       "    <tr>\n",
       "      <th>INCP_HIGH</th>\n",
       "      <td>0.446493</td>\n",
       "    </tr>\n",
       "    <tr>\n",
       "      <th>35-54yo_Prop</th>\n",
       "      <td>0.444633</td>\n",
       "    </tr>\n",
       "    <tr>\n",
       "      <th>YARRP 1996-2005_Prop</th>\n",
       "      <td>0.412799</td>\n",
       "    </tr>\n",
       "    <tr>\n",
       "      <th>YARRP 1976-1995_Prop</th>\n",
       "      <td>0.409122</td>\n",
       "    </tr>\n",
       "    <tr>\n",
       "      <th>CPRF_4_Prop</th>\n",
       "      <td>0.406427</td>\n",
       "    </tr>\n",
       "    <tr>\n",
       "      <th>YARRP &lt;1975_Prop</th>\n",
       "      <td>0.363885</td>\n",
       "    </tr>\n",
       "    <tr>\n",
       "      <th>YARRP 2006-2016_Prop</th>\n",
       "      <td>0.245686</td>\n",
       "    </tr>\n",
       "    <tr>\n",
       "      <th>citizen_non_AU_Prop</th>\n",
       "      <td>0.244358</td>\n",
       "    </tr>\n",
       "    <tr>\n",
       "      <th>INCP_MID_Prop</th>\n",
       "      <td>0.231431</td>\n",
       "    </tr>\n",
       "  </tbody>\n",
       "</table>\n",
       "</div>"
      ],
      "text/plain": [
       "                          median_price 2021 Q1\n",
       "median_price 2021 Q1                  1.000000\n",
       "median_price 2020 Q4                  0.930251\n",
       "median_price 2020 Q3                  0.904187\n",
       "median_price 2020 Q1                  0.870872\n",
       "median_price 2020 Q2                  0.862534\n",
       "median_rent_newb 2020 Q2              0.805860\n",
       "median_rent_newb 2020 Q1              0.790065\n",
       "median_rent_newb 2020 Q3              0.775346\n",
       "median_rent_newb 2021 Q1              0.768671\n",
       "median_rent_newb 2020 Q4              0.768110\n",
       "INCP_HIGH_Prop                        0.725905\n",
       "INCP_HIGH                             0.446493\n",
       "35-54yo_Prop                          0.444633\n",
       "YARRP 1996-2005_Prop                  0.412799\n",
       "YARRP 1976-1995_Prop                  0.409122\n",
       "CPRF_4_Prop                           0.406427\n",
       "YARRP <1975_Prop                      0.363885\n",
       "YARRP 2006-2016_Prop                  0.245686\n",
       "citizen_non_AU_Prop                   0.244358\n",
       "INCP_MID_Prop                         0.231431"
      ]
     },
     "execution_count": 5,
     "metadata": {},
     "output_type": "execute_result"
    }
   ],
   "source": [
    "topCorr = (modelDF.corr())['median_price 2021 Q1'].sort_values(ascending=False).to_frame().head(20)\n",
    "topCorr"
   ]
  },
  {
   "cell_type": "markdown",
   "id": "b6712044",
   "metadata": {},
   "source": [
    "check: growth rate and predictors"
   ]
  },
  {
   "cell_type": "markdown",
   "id": "60cc48e1",
   "metadata": {
    "heading_collapsed": true
   },
   "source": [
    "## Baseline chance accuracy"
   ]
  },
  {
   "cell_type": "code",
   "execution_count": 6,
   "id": "ba2df58b",
   "metadata": {
    "hidden": true
   },
   "outputs": [],
   "source": [
    "from sklearn.metrics import r2_score"
   ]
  },
  {
   "cell_type": "markdown",
   "id": "430724d6",
   "metadata": {
    "hidden": true
   },
   "source": [
    "Using the previous quarter to determine the chance accuracy of the target quarter (Q1 2021)"
   ]
  },
  {
   "cell_type": "code",
   "execution_count": 7,
   "id": "a220b0b2",
   "metadata": {
    "hidden": true
   },
   "outputs": [
    {
     "name": "stdout",
     "output_type": "stream",
     "text": [
      "The target for our model is 85.0%\n"
     ]
    }
   ],
   "source": [
    "ypred_base = modelDF['median_price 2020 Q4']\n",
    "r2_score(ypred_base,modelDF['median_price 2021 Q1'])\n",
    "print(f'The target for our model is {round(r2_score(ypred_base,modelDF[\"median_price 2021 Q1\"]),2)*100}%')"
   ]
  },
  {
   "cell_type": "markdown",
   "id": "ea890373",
   "metadata": {},
   "source": [
    "## Linear Regression base model"
   ]
  },
  {
   "cell_type": "markdown",
   "id": "35f23e16",
   "metadata": {},
   "source": [
    "Training the Linear Regression model (LR) with all features"
   ]
  },
  {
   "cell_type": "code",
   "execution_count": 8,
   "id": "4619a43d",
   "metadata": {},
   "outputs": [],
   "source": [
    "from sklearn.linear_model import LinearRegression"
   ]
  },
  {
   "cell_type": "code",
   "execution_count": 9,
   "id": "22945be7",
   "metadata": {},
   "outputs": [],
   "source": [
    "lr=LinearRegression()"
   ]
  },
  {
   "cell_type": "markdown",
   "id": "d17aecbd",
   "metadata": {},
   "source": [
    "Choosing a `random_state` to ensure we get the same features and accuracy with each run. Splitting the train and test sets 80/20."
   ]
  },
  {
   "cell_type": "code",
   "execution_count": 10,
   "id": "c3df12c2",
   "metadata": {},
   "outputs": [],
   "source": [
    "from sklearn.model_selection import train_test_split\n",
    "\n",
    "train, test = train_test_split(modelDF,  test_size= 0.2, random_state= 123)"
   ]
  },
  {
   "cell_type": "markdown",
   "id": "6bd6d6ec",
   "metadata": {},
   "source": [
    "Applying all features except the target feature to the X train and test sets. Applying only the target feature to the y train and test set. "
   ]
  },
  {
   "cell_type": "code",
   "execution_count": 11,
   "id": "2ba4911d",
   "metadata": {},
   "outputs": [],
   "source": [
    "X_train = train.drop(columns= 'median_price 2021 Q1')\n",
    "y_train = train['median_price 2021 Q1']\n",
    "\n",
    "X_test = test.drop(columns= 'median_price 2021 Q1')\n",
    "y_test = test['median_price 2021 Q1']"
   ]
  },
  {
   "cell_type": "markdown",
   "id": "8097e054",
   "metadata": {},
   "source": [
    "Determining the 'linear' equations for model."
   ]
  },
  {
   "cell_type": "code",
   "execution_count": 12,
   "id": "c0800bce",
   "metadata": {},
   "outputs": [
    {
     "name": "stdout",
     "output_type": "stream",
     "text": [
      "y = x * [ 1.16944614e-01  1.87619181e-01  2.23532613e-01  4.07399179e-01\n",
      " -3.68212360e-01  3.59155456e-03  2.36991942e-01 -2.66819508e-02\n",
      "  5.79667963e-01  2.61624769e-01  4.11921936e-01  9.90107906e-02\n",
      " -4.65216321e-01  1.16625967e-02 -3.92762865e-02  7.00566484e-01\n",
      "  1.04355864e+00  1.11855180e+00 -2.27844142e+00 -3.31274648e-02\n",
      " -3.24272898e-02 -5.93030103e-02 -4.74536155e-02  1.15784053e-01\n",
      "  7.14261029e-02  2.99785204e-02  9.71070102e-02 -1.01599634e-01\n",
      " -1.74844173e-01  1.26246189e-01 -6.02434206e-01  6.40906394e-01\n",
      "  3.29075099e-02 -1.82324201e-02  1.50565507e-01 -6.02836238e-02\n",
      "  5.37993921e-02 -5.75823214e-02  6.62246926e-02 -3.93518008e-02\n",
      " -5.54785964e-02 -8.08215139e-03  2.81313970e-02 -6.37645791e-02\n",
      "  9.40498505e-02 -1.81953234e-02 -5.05379803e+02 -1.28343742e+02\n",
      " -2.54898030e+02 -7.02856783e+02 -8.85623650e+01  1.68457498e+03\n",
      "  7.50941802e+02 -3.09544408e+03  4.75511183e+01 -2.90578154e+02\n",
      " -8.05805744e+02  1.44269235e+02 -5.30962907e+02 -1.67642621e+02\n",
      "  1.89876358e+02  2.48958394e+03  3.07954180e+02 -9.97369280e+02\n",
      "  2.19902848e+03 -2.96595490e+03  3.21741386e+02] + 238.98213477055367\n"
     ]
    }
   ],
   "source": [
    "lr.fit(X_train, y_train)\n",
    "print(\"y = x *\", lr.coef_, \"+\", lr.intercept_)"
   ]
  },
  {
   "cell_type": "markdown",
   "id": "e968e6b9",
   "metadata": {},
   "source": [
    "Creating a dataframe of all the coefficients for the model of all the features. "
   ]
  },
  {
   "cell_type": "code",
   "execution_count": 13,
   "id": "d784d4ab",
   "metadata": {
    "scrolled": true
   },
   "outputs": [
    {
     "data": {
      "text/html": [
       "<div>\n",
       "<style scoped>\n",
       "    .dataframe tbody tr th:only-of-type {\n",
       "        vertical-align: middle;\n",
       "    }\n",
       "\n",
       "    .dataframe tbody tr th {\n",
       "        vertical-align: top;\n",
       "    }\n",
       "\n",
       "    .dataframe thead th {\n",
       "        text-align: right;\n",
       "    }\n",
       "</style>\n",
       "<table border=\"1\" class=\"dataframe\">\n",
       "  <thead>\n",
       "    <tr style=\"text-align: right;\">\n",
       "      <th></th>\n",
       "      <th>coeff</th>\n",
       "    </tr>\n",
       "  </thead>\n",
       "  <tbody>\n",
       "    <tr>\n",
       "      <th>citizen_non_AU_Prop</th>\n",
       "      <td>2489.583942</td>\n",
       "    </tr>\n",
       "    <tr>\n",
       "      <th>YARRP 1996-2005_Prop</th>\n",
       "      <td>2199.028481</td>\n",
       "    </tr>\n",
       "    <tr>\n",
       "      <th>CPRF_4_Prop</th>\n",
       "      <td>1684.574979</td>\n",
       "    </tr>\n",
       "    <tr>\n",
       "      <th>CPRF_5_Prop</th>\n",
       "      <td>750.941802</td>\n",
       "    </tr>\n",
       "    <tr>\n",
       "      <th>ATSI_Prop</th>\n",
       "      <td>321.741386</td>\n",
       "    </tr>\n",
       "    <tr>\n",
       "      <th>...</th>\n",
       "      <td>...</td>\n",
       "    </tr>\n",
       "    <tr>\n",
       "      <th>CPRF_2_Prop</th>\n",
       "      <td>-702.856783</td>\n",
       "    </tr>\n",
       "    <tr>\n",
       "      <th>5-14yo_Prop</th>\n",
       "      <td>-805.805744</td>\n",
       "    </tr>\n",
       "    <tr>\n",
       "      <th>YARRP 1976-1995_Prop</th>\n",
       "      <td>-997.369280</td>\n",
       "    </tr>\n",
       "    <tr>\n",
       "      <th>YARRP 2006-2016_Prop</th>\n",
       "      <td>-2965.954896</td>\n",
       "    </tr>\n",
       "    <tr>\n",
       "      <th>CPRF_6+_Prop</th>\n",
       "      <td>-3095.444083</td>\n",
       "    </tr>\n",
       "  </tbody>\n",
       "</table>\n",
       "<p>67 rows × 1 columns</p>\n",
       "</div>"
      ],
      "text/plain": [
       "                            coeff\n",
       "citizen_non_AU_Prop   2489.583942\n",
       "YARRP 1996-2005_Prop  2199.028481\n",
       "CPRF_4_Prop           1684.574979\n",
       "CPRF_5_Prop            750.941802\n",
       "ATSI_Prop              321.741386\n",
       "...                           ...\n",
       "CPRF_2_Prop           -702.856783\n",
       "5-14yo_Prop           -805.805744\n",
       "YARRP 1976-1995_Prop  -997.369280\n",
       "YARRP 2006-2016_Prop -2965.954896\n",
       "CPRF_6+_Prop         -3095.444083\n",
       "\n",
       "[67 rows x 1 columns]"
      ]
     },
     "execution_count": 13,
     "metadata": {},
     "output_type": "execute_result"
    }
   ],
   "source": [
    "coeffDF1 = pd.DataFrame(lr.coef_, X_train.columns, columns = ['coeff'])\n",
    "coeffDF1 = coeffDF1.sort_values(ascending= False, by='coeff')\n",
    "coeffDF1"
   ]
  },
  {
   "cell_type": "raw",
   "id": "cbba3212",
   "metadata": {},
   "source": [
    "- More positive = more positive influence on the prediction\n",
    "\n",
    "- more negative = more negative influence on the prediction\n",
    "\n",
    "**CAREFUL:** scale of prediction variables is not the same. One feature might have high numbers and another might be small which will have different 'weights' or influence on the model. \n",
    "\n",
    "As `sales_no 2020 Q1` increases by one unit, the `median_price 2021 Q1` increases by 10 units. Likewise, as `CPRF_3` increases by one unit, `median_price 2021 Q1` decreases by ~11 units. "
   ]
  },
  {
   "cell_type": "markdown",
   "id": "79c50953",
   "metadata": {},
   "source": [
    "Checking the mean squared error and the R squared values"
   ]
  },
  {
   "cell_type": "code",
   "execution_count": 14,
   "id": "30b456ce",
   "metadata": {},
   "outputs": [],
   "source": [
    "from sklearn.metrics import mean_squared_error"
   ]
  },
  {
   "cell_type": "markdown",
   "id": "c5144eeb",
   "metadata": {},
   "source": [
    "For the train set"
   ]
  },
  {
   "cell_type": "code",
   "execution_count": 15,
   "id": "32de9dd1",
   "metadata": {},
   "outputs": [
    {
     "name": "stdout",
     "output_type": "stream",
     "text": [
      "MSE: 20568.112410673864\n",
      "R Squared: 0.9194166965665203\n"
     ]
    }
   ],
   "source": [
    "trainPred = lr.predict(X_train)\n",
    "trainMse = mean_squared_error(trainPred, y_train)\n",
    "trainR2 = r2_score(y_train, trainPred)\n",
    "print(\"MSE:\", trainMse)\n",
    "print(\"R Squared:\", trainR2)"
   ]
  },
  {
   "cell_type": "markdown",
   "id": "134a894d",
   "metadata": {},
   "source": [
    "For the test set"
   ]
  },
  {
   "cell_type": "code",
   "execution_count": 16,
   "id": "72bed6db",
   "metadata": {},
   "outputs": [
    {
     "name": "stdout",
     "output_type": "stream",
     "text": [
      "MSE: 28344.01908978278\n",
      "R Squared: 0.8678243308578941\n"
     ]
    }
   ],
   "source": [
    "testPred = lr.predict(X_test)\n",
    "testMse = mean_squared_error(testPred, y_test)\n",
    "testR2 = r2_score(y_test, testPred)\n",
    "print(\"MSE:\", testMse)\n",
    "print(\"R Squared:\", testR2)"
   ]
  },
  {
   "cell_type": "markdown",
   "id": "d8d630f4",
   "metadata": {},
   "source": [
    "## Cross Validation\n"
   ]
  },
  {
   "attachments": {
    "kfold.png": {
     "image/png": "[encoded data removed]"
    }
   },
   "cell_type": "markdown",
   "id": "98b3ab41",
   "metadata": {},
   "source": [
    "Using KFold for the cross validation process. We will be going through 5 folds, having each fold having a turn in acting as a train and test set throughout the iterations. \n",
    "\n",
    "![kfold.png](attachment:kfold.png)\n",
    "\n",
    "As we can see through each iteration, the sets of data take turns in acting as the train/test sets. Image from [kaggle](https://www.kaggle.com/jnikhilsai/cross-validation-with-linear-regression)"
   ]
  },
  {
   "cell_type": "code",
   "execution_count": 17,
   "id": "6999af64",
   "metadata": {},
   "outputs": [],
   "source": [
    "from sklearn.model_selection import cross_val_score\n",
    "from sklearn.model_selection import KFold"
   ]
  },
  {
   "cell_type": "markdown",
   "id": "4cdbad6a",
   "metadata": {},
   "source": [
    "hold out would be the test set. "
   ]
  },
  {
   "cell_type": "raw",
   "id": "65b4cbfe",
   "metadata": {},
   "source": [
    "X_train"
   ]
  },
  {
   "cell_type": "code",
   "execution_count": 18,
   "id": "9da7f21e",
   "metadata": {},
   "outputs": [
    {
     "data": {
      "text/plain": [
       "postcode\n",
       "2713     203.0\n",
       "2281     775.0\n",
       "2477     650.0\n",
       "2077     720.0\n",
       "2315     690.0\n",
       "         ...  \n",
       "2120    1413.0\n",
       "2456     699.0\n",
       "2557     800.0\n",
       "2529     745.0\n",
       "2785     686.0\n",
       "Name: median_price 2021 Q1, Length: 458, dtype: float64"
      ]
     },
     "execution_count": 18,
     "metadata": {},
     "output_type": "execute_result"
    }
   ],
   "source": [
    "y_train"
   ]
  },
  {
   "cell_type": "code",
   "execution_count": 19,
   "id": "47428bb5",
   "metadata": {},
   "outputs": [
    {
     "data": {
      "text/plain": [
       "postcode\n",
       "2000    1371.0\n",
       "2007     763.0\n",
       "2008     855.0\n",
       "2009    1188.0\n",
       "2010    1201.0\n",
       "         ...  \n",
       "2876     760.5\n",
       "2877     195.0\n",
       "2878     760.5\n",
       "2879     760.5\n",
       "2880     120.0\n",
       "Name: median_price 2021 Q1, Length: 573, dtype: float64"
      ]
     },
     "execution_count": 19,
     "metadata": {},
     "output_type": "execute_result"
    }
   ],
   "source": [
    "modelDF['median_price 2021 Q1']"
   ]
  },
  {
   "cell_type": "code",
   "execution_count": 20,
   "id": "2281a26a",
   "metadata": {},
   "outputs": [
    {
     "data": {
      "text/plain": [
       "array([0.86782433, 0.87383475, 0.85824299, 0.87065904, 0.9067558 ])"
      ]
     },
     "execution_count": 20,
     "metadata": {},
     "output_type": "execute_result"
    }
   ],
   "source": [
    "kFold = KFold(n_splits=5, shuffle=True, random_state= 123)\n",
    "\n",
    "\n",
    "lr= LinearRegression()\n",
    "score = cross_val_score(lr, modelDF.drop(columns='median_price 2021 Q1'),\n",
    "                        modelDF['median_price 2021 Q1'], scoring = 'r2',\n",
    "                        cv= kFold, n_jobs = -1) \n",
    "\n",
    "score"
   ]
  },
  {
   "cell_type": "code",
   "execution_count": 21,
   "id": "328df874",
   "metadata": {},
   "outputs": [
    {
     "data": {
      "text/plain": [
       "array([0.8768883 , 0.91865685, 0.79079574, 0.88057788, 0.81107084])"
      ]
     },
     "execution_count": 21,
     "metadata": {},
     "output_type": "execute_result"
    }
   ],
   "source": [
    "kFold = KFold(n_splits=5, shuffle=True, random_state= 123)\n",
    "\n",
    "\n",
    "lr= LinearRegression()\n",
    "score = cross_val_score(lr, X_train,\n",
    "                        y_train, scoring = 'r2',\n",
    "                        cv= kFold, n_jobs = -1) \n",
    "\n",
    "score"
   ]
  },
  {
   "cell_type": "code",
   "execution_count": 22,
   "id": "e1efe8bb",
   "metadata": {},
   "outputs": [
    {
     "data": {
      "text/plain": [
       "0.8555979235696775"
      ]
     },
     "execution_count": 22,
     "metadata": {},
     "output_type": "execute_result"
    }
   ],
   "source": [
    "score.mean()"
   ]
  },
  {
   "cell_type": "markdown",
   "id": "f112a6c5",
   "metadata": {},
   "source": [
    "Originally had the cross validation work on the entier dataset when it should be done on the training set, that way the test set is completely separate from the training set throughout all steps of the modelling process. [Help from stackexchange](https://stats.stackexchange.com/questions/339736/perform-cross-validation-on-train-set-or-entire-data-set/339842)\n",
    "\n",
    "The mean score is indicates the model performs poorly if all features are used. We can improve the score by tuning the faetures and the hyperparameters of the model."
   ]
  },
  {
   "cell_type": "markdown",
   "id": "32734400",
   "metadata": {},
   "source": [
    "## Model tuning\n",
    "Feature engineering and tuning the model parameters"
   ]
  },
  {
   "cell_type": "markdown",
   "id": "43201e01",
   "metadata": {
    "heading_collapsed": true
   },
   "source": [
    "### Using RFE and a loop to determine the best number of features"
   ]
  },
  {
   "cell_type": "code",
   "execution_count": 23,
   "id": "c3551283",
   "metadata": {
    "hidden": true
   },
   "outputs": [],
   "source": [
    "from sklearn.feature_selection import RFE"
   ]
  },
  {
   "cell_type": "markdown",
   "id": "bf2c05f2",
   "metadata": {
    "hidden": true
   },
   "source": [
    "Setting up empty lists as we will be populating them in the loop. "
   ]
  },
  {
   "cell_type": "code",
   "execution_count": 24,
   "id": "85b21486",
   "metadata": {
    "hidden": true
   },
   "outputs": [],
   "source": [
    "trainR2= []\n",
    "trainMse = []\n",
    "\n",
    "testR2 = []\n",
    "testMse = []\n",
    "\n",
    "nFeatures = []\n",
    "topFeatures = []"
   ]
  },
  {
   "cell_type": "markdown",
   "id": "026a29aa",
   "metadata": {
    "hidden": true
   },
   "source": [
    "With each iteration of the loop RFE will:\n",
    "- Increase the number of features by one.\n",
    "- Train the model with the features in the iteration.\n",
    "- Predict the test set.\n",
    "- Determine the $MSE$ and $R^2$ for the train and test sets. \n",
    "- Update the empty lists created above with the values from the iteration. "
   ]
  },
  {
   "cell_type": "code",
   "execution_count": 25,
   "id": "bdd427e4",
   "metadata": {
    "hidden": true
   },
   "outputs": [],
   "source": [
    "for i in range(1,len(X_train.columns),1):\n",
    "    lrRFE = LinearRegression()\n",
    "    rfe = RFE(estimator= lrRFE, n_features_to_select = i, step = 1)\n",
    "    rfe.fit(X_train, y_train)\n",
    "    \n",
    "    trainPred = rfe.predict(X_train)\n",
    "    lrRFE_trainMse = mean_squared_error(trainPred, y_train)\n",
    "    lrRFE_trainR2 = r2_score(y_train, trainPred )\n",
    "    \n",
    "    testPred = rfe.predict(X_test)\n",
    "    lrRFE_testMse = mean_squared_error(testPred, y_test)\n",
    "    lrRFE_testR2 = r2_score(y_test, testPred )\n",
    "    \n",
    "    topFeatures.append(list(X_train.columns[rfe.support_ ==True]))\n",
    "\n",
    "    testR2.append(lrRFE_testR2)\n",
    "    testMse.append(lrRFE_testMse)\n",
    "    \n",
    "    trainR2.append(lrRFE_trainR2)\n",
    "    trainMse.append(lrRFE_trainMse)\n",
    "    \n",
    "    nFeatures.append(i)"
   ]
  },
  {
   "cell_type": "markdown",
   "id": "7aad8863",
   "metadata": {
    "hidden": true
   },
   "source": [
    "Creating a dataframe to display all the values from the loop nicely. "
   ]
  },
  {
   "cell_type": "code",
   "execution_count": 26,
   "id": "320c1eea",
   "metadata": {
    "hidden": true
   },
   "outputs": [],
   "source": [
    "rfeTune = pd.DataFrame([nFeatures, trainMse ,trainR2, testMse, testR2 ]).T"
   ]
  },
  {
   "cell_type": "code",
   "execution_count": 27,
   "id": "92e10efa",
   "metadata": {
    "hidden": true
   },
   "outputs": [],
   "source": [
    "rfeTune = rfeTune.rename(columns={0:'nFeatures',1:'trainMse', 2:'trainR2', 3:'testMse', 4:'testR2'})"
   ]
  },
  {
   "cell_type": "markdown",
   "id": "fd9771d3",
   "metadata": {
    "hidden": true
   },
   "source": [
    "Sorting by the test set $R^2$ values. "
   ]
  },
  {
   "cell_type": "code",
   "execution_count": 28,
   "id": "81031db2",
   "metadata": {
    "hidden": true
   },
   "outputs": [
    {
     "data": {
      "text/html": [
       "<div>\n",
       "<style scoped>\n",
       "    .dataframe tbody tr th:only-of-type {\n",
       "        vertical-align: middle;\n",
       "    }\n",
       "\n",
       "    .dataframe tbody tr th {\n",
       "        vertical-align: top;\n",
       "    }\n",
       "\n",
       "    .dataframe thead th {\n",
       "        text-align: right;\n",
       "    }\n",
       "</style>\n",
       "<table border=\"1\" class=\"dataframe\">\n",
       "  <thead>\n",
       "    <tr style=\"text-align: right;\">\n",
       "      <th></th>\n",
       "      <th>nFeatures</th>\n",
       "      <th>trainMse</th>\n",
       "      <th>trainR2</th>\n",
       "      <th>testMse</th>\n",
       "      <th>testR2</th>\n",
       "    </tr>\n",
       "  </thead>\n",
       "  <tbody>\n",
       "    <tr>\n",
       "      <th>40</th>\n",
       "      <td>41.0</td>\n",
       "      <td>21421.816399</td>\n",
       "      <td>0.916072</td>\n",
       "      <td>27082.487146</td>\n",
       "      <td>0.873707</td>\n",
       "    </tr>\n",
       "    <tr>\n",
       "      <th>41</th>\n",
       "      <td>42.0</td>\n",
       "      <td>21411.491171</td>\n",
       "      <td>0.916112</td>\n",
       "      <td>27185.304732</td>\n",
       "      <td>0.873228</td>\n",
       "    </tr>\n",
       "    <tr>\n",
       "      <th>39</th>\n",
       "      <td>40.0</td>\n",
       "      <td>21450.882529</td>\n",
       "      <td>0.915958</td>\n",
       "      <td>27210.796376</td>\n",
       "      <td>0.873109</td>\n",
       "    </tr>\n",
       "    <tr>\n",
       "      <th>37</th>\n",
       "      <td>38.0</td>\n",
       "      <td>21532.035843</td>\n",
       "      <td>0.915640</td>\n",
       "      <td>27339.827424</td>\n",
       "      <td>0.872507</td>\n",
       "    </tr>\n",
       "    <tr>\n",
       "      <th>38</th>\n",
       "      <td>39.0</td>\n",
       "      <td>21526.696529</td>\n",
       "      <td>0.915661</td>\n",
       "      <td>27374.056597</td>\n",
       "      <td>0.872348</td>\n",
       "    </tr>\n",
       "  </tbody>\n",
       "</table>\n",
       "</div>"
      ],
      "text/plain": [
       "    nFeatures      trainMse   trainR2       testMse    testR2\n",
       "40       41.0  21421.816399  0.916072  27082.487146  0.873707\n",
       "41       42.0  21411.491171  0.916112  27185.304732  0.873228\n",
       "39       40.0  21450.882529  0.915958  27210.796376  0.873109\n",
       "37       38.0  21532.035843  0.915640  27339.827424  0.872507\n",
       "38       39.0  21526.696529  0.915661  27374.056597  0.872348"
      ]
     },
     "execution_count": 28,
     "metadata": {},
     "output_type": "execute_result"
    }
   ],
   "source": [
    "rfeTune.sort_values(ascending=False, by= 'testR2').head()"
   ]
  },
  {
   "cell_type": "markdown",
   "id": "d45b99ee",
   "metadata": {
    "hidden": true
   },
   "source": [
    "When we use RFE with the parameter `n_features_to_select` increases to the total number of features. Storing this number:"
   ]
  },
  {
   "cell_type": "code",
   "execution_count": 29,
   "id": "964b91b2",
   "metadata": {
    "hidden": true
   },
   "outputs": [
    {
     "data": {
      "text/plain": [
       "41"
      ]
     },
     "execution_count": 29,
     "metadata": {},
     "output_type": "execute_result"
    }
   ],
   "source": [
    "bestNfeatures = int(rfeTune.sort_values(ascending=False, by= 'testR2')['nFeatures'].iloc[0])\n",
    "bestNfeatures"
   ]
  },
  {
   "cell_type": "markdown",
   "id": "a51394b9",
   "metadata": {
    "hidden": true
   },
   "source": [
    "That is, the best number of features to select with RFE is 26. We must set the parameter `n_features_to_select` = 26"
   ]
  },
  {
   "cell_type": "code",
   "execution_count": 30,
   "id": "6c02c818",
   "metadata": {
    "hidden": true,
    "scrolled": true
   },
   "outputs": [
    {
     "data": {
      "image/png": "[encoded data removed]",
      "text/plain": [
       "<Figure size 1080x360 with 1 Axes>"
      ]
     },
     "metadata": {
      "needs_background": "light"
     },
     "output_type": "display_data"
    }
   ],
   "source": [
    "# Plot the relationship\n",
    "plt.figure(figsize=(15,5))\n",
    "plt.plot(rfeTune['nFeatures'], rfeTune['testR2'], marker='x', label = 'Testing')\n",
    "plt.plot(rfeTune['nFeatures'], rfeTune['trainR2'], marker='x', label = 'Training')\n",
    "plt.xlabel('Number of features used in model', size=15)\n",
    "plt.ylabel('R$^2$',size=15)\n",
    "plt.title('Change in R2 as we train the model with increasing features', size=20)\n",
    "plt.legend()\n",
    "plt.show()"
   ]
  },
  {
   "cell_type": "markdown",
   "id": "77d4a973",
   "metadata": {
    "hidden": true
   },
   "source": [
    "Running the model with the best number of features found with RFE"
   ]
  },
  {
   "cell_type": "code",
   "execution_count": 31,
   "id": "dd7c48eb",
   "metadata": {
    "hidden": true
   },
   "outputs": [
    {
     "data": {
      "text/plain": [
       "RFE(estimator=LinearRegression(), n_features_to_select=41)"
      ]
     },
     "execution_count": 31,
     "metadata": {},
     "output_type": "execute_result"
    }
   ],
   "source": [
    "lrRFE = LinearRegression()\n",
    "rfe = RFE(estimator= lrRFE, n_features_to_select = bestNfeatures , step = 1)\n",
    "rfe.fit(X_train, y_train)"
   ]
  },
  {
   "cell_type": "markdown",
   "id": "9ae2cf86",
   "metadata": {
    "hidden": true
   },
   "source": [
    "Storing the features that have been determined by RFE "
   ]
  },
  {
   "cell_type": "code",
   "execution_count": 32,
   "id": "e24a794e",
   "metadata": {
    "hidden": true
   },
   "outputs": [],
   "source": [
    "topFeatures = list(X_train.columns[rfe.support_ ==True])"
   ]
  },
  {
   "cell_type": "code",
   "execution_count": 33,
   "id": "47babf28",
   "metadata": {
    "hidden": true,
    "scrolled": false
   },
   "outputs": [
    {
     "data": {
      "text/plain": [
       "['median_price 2020 Q1',\n",
       " 'median_price 2020 Q2',\n",
       " 'median_price 2020 Q3',\n",
       " 'median_price 2020 Q4',\n",
       " 'median_rent_newb 2020 Q1',\n",
       " 'median_rent_newb 2020 Q3',\n",
       " 'median_rent_newb 2021 Q1',\n",
       " 'new_bonds_no 2020 Q2',\n",
       " 'new_bonds_no 2020 Q3',\n",
       " 'new_bonds_no 2020 Q4',\n",
       " 'sales_no 2020 Q2',\n",
       " 'sales_no 2020 Q3',\n",
       " 'sales_no 2020 Q4',\n",
       " 'sales_no 2021 Q1',\n",
       " 'total_bonds_no 2020 Q3',\n",
       " 'total_bonds_no 2021 Q1',\n",
       " 'CPRF_5',\n",
       " 'CPRF_6+',\n",
       " 'citizen_non_AU',\n",
       " 'YARRP 2006-2016',\n",
       " 'INCP_LOW_Prop',\n",
       " 'INCP_MID_Prop',\n",
       " 'INCP_HIGH_Prop',\n",
       " 'CPRF_2_Prop',\n",
       " 'CPRF_3_Prop',\n",
       " 'CPRF_4_Prop',\n",
       " 'CPRF_5_Prop',\n",
       " 'CPRF_6+_Prop',\n",
       " 'CPRF_HHOLD_NO_Prop',\n",
       " '0-4yo_Prop',\n",
       " '5-14yo_Prop',\n",
       " '15-24yo_Prop',\n",
       " '25-34yo_Prop',\n",
       " '35-54yo_Prop',\n",
       " '55-64yo_Prop',\n",
       " 'citizen_non_AU_Prop',\n",
       " 'YARRP <1975_Prop',\n",
       " 'YARRP 1976-1995_Prop',\n",
       " 'YARRP 1996-2005_Prop',\n",
       " 'YARRP 2006-2016_Prop',\n",
       " 'ATSI_Prop']"
      ]
     },
     "execution_count": 33,
     "metadata": {},
     "output_type": "execute_result"
    }
   ],
   "source": [
    "topFeatures"
   ]
  },
  {
   "cell_type": "markdown",
   "id": "e3ba7e56",
   "metadata": {
    "hidden": true
   },
   "source": [
    "These are the best 26 features RFE has determined. "
   ]
  },
  {
   "cell_type": "code",
   "execution_count": 34,
   "id": "898f67f4",
   "metadata": {
    "hidden": true
   },
   "outputs": [
    {
     "name": "stdout",
     "output_type": "stream",
     "text": [
      "MSE: 21421.816399277403\n",
      "R Squared: 0.916071990636174\n"
     ]
    }
   ],
   "source": [
    "trainPred = rfe.predict(X_train)\n",
    "trainMse = mean_squared_error(trainPred, y_train)\n",
    "testR2 = r2_score(y_train, trainPred)\n",
    "print(\"MSE:\", trainMse)\n",
    "print(\"R Squared:\", testR2)"
   ]
  },
  {
   "cell_type": "code",
   "execution_count": 35,
   "id": "415bb3b5",
   "metadata": {
    "hidden": true
   },
   "outputs": [
    {
     "name": "stdout",
     "output_type": "stream",
     "text": [
      "MSE: 27082.49\n",
      "R Squared: 0.87\n"
     ]
    }
   ],
   "source": [
    "y_predict = rfe.predict(X_test)\n",
    "\n",
    "lrRFE_mse = ((np.array(y_test)-y_predict )**2).sum()/len(y_test)\n",
    "lrRFE_r2 = r2_score(y_test, y_predict )\n",
    "\n",
    "print(\"MSE:\", lrRFE_mse.round(2))\n",
    "print(\"R Squared:\", lrRFE_r2.round(2))"
   ]
  },
  {
   "cell_type": "markdown",
   "id": "00d80cb7",
   "metadata": {
    "hidden": true
   },
   "source": [
    "Significant improvement in the $R^2$ values compared to the base model of -0.5.\n",
    "\n",
    "Checking the cross validation with these features:"
   ]
  },
  {
   "cell_type": "code",
   "execution_count": 36,
   "id": "dabb80af",
   "metadata": {
    "hidden": true
   },
   "outputs": [
    {
     "data": {
      "text/plain": [
       "array([0.90469245, 0.92711833, 0.82673175, 0.89350041, 0.84972909])"
      ]
     },
     "execution_count": 36,
     "metadata": {},
     "output_type": "execute_result"
    }
   ],
   "source": [
    "lr= LinearRegression()\n",
    "score = cross_val_score(lr, X_train[topFeatures],\n",
    "                        y_train,\n",
    "                        cv= kFold, n_jobs = -1) \n",
    "\n",
    "score"
   ]
  },
  {
   "cell_type": "code",
   "execution_count": 37,
   "id": "e4a49dc6",
   "metadata": {
    "hidden": true
   },
   "outputs": [
    {
     "data": {
      "text/plain": [
       "0.8803544046745898"
      ]
     },
     "execution_count": 37,
     "metadata": {},
     "output_type": "execute_result"
    }
   ],
   "source": [
    "score.mean()"
   ]
  },
  {
   "cell_type": "markdown",
   "id": "13c12d7f",
   "metadata": {
    "hidden": true
   },
   "source": [
    "We saw in section 3.4 when cross validating with all features the mean score was -18. Applying the features determined by a simple loop, we have significantly improved the score. Next, we will look at using another function from sklearn to determine the best features, instead of using a loop. Our loop is simply iterating through all the features available. Grid search will find the best combinations of features to use. "
   ]
  },
  {
   "cell_type": "markdown",
   "id": "2b0fc4b4",
   "metadata": {},
   "source": [
    "### Grid search on LR with the determined top features"
   ]
  },
  {
   "cell_type": "code",
   "execution_count": 38,
   "id": "ce07450d",
   "metadata": {},
   "outputs": [],
   "source": [
    "from sklearn.model_selection import GridSearchCV"
   ]
  },
  {
   "cell_type": "markdown",
   "id": "a4f2c33a",
   "metadata": {},
   "source": [
    "Retrieving the available hyperparameters for the linear regression model and putting them in a list `lrParams`. Luckily, these are all booleans, so we can assign their possible values in a dictionary. "
   ]
  },
  {
   "cell_type": "code",
   "execution_count": 39,
   "id": "095edea6",
   "metadata": {},
   "outputs": [],
   "source": [
    "lrParams = list(lr.get_params())\n",
    "tuned_parameters= {lrParams[0]: [True, False], lrParams[1] : [True, False], lrParams[3]: [True, False], \n",
    "                   lrParams[4]: [True, False]}"
   ]
  },
  {
   "cell_type": "markdown",
   "id": "40d437ad",
   "metadata": {},
   "source": [
    "Setting up LR and the grid search (GS) function. "
   ]
  },
  {
   "cell_type": "raw",
   "id": "fd1de84b",
   "metadata": {},
   "source": [
    "lr = LinearRegression(n_jobs=-1)\n",
    "\n",
    "gs = GridSearchCV(lr, param_grid=tuned_parameters,scoring='r2', verbose=1,\n",
    "                  cv=kFold, n_jobs=-1)\n",
    "\n",
    "gs_result = gs.fit(modelDF.drop(columns='median_price 2021 Q1'), modelDF['median_price 2021 Q1'])"
   ]
  },
  {
   "cell_type": "code",
   "execution_count": 40,
   "id": "05865a0c",
   "metadata": {},
   "outputs": [
    {
     "name": "stdout",
     "output_type": "stream",
     "text": [
      "Fitting 5 folds for each of 16 candidates, totalling 80 fits\n"
     ]
    }
   ],
   "source": [
    "lr = LinearRegression(n_jobs=-1)\n",
    "\n",
    "gs = GridSearchCV(lr, param_grid=tuned_parameters,scoring='r2', verbose=1,\n",
    "                  cv=kFold, n_jobs=-1)\n",
    "\n",
    "gs_result = gs.fit(X_train[topFeatures],y_train)"
   ]
  },
  {
   "cell_type": "markdown",
   "id": "d77ffb1d",
   "metadata": {},
   "source": [
    "The best parameters to set for Linear Regression are found in the `best_params` attribute of grid search."
   ]
  },
  {
   "cell_type": "code",
   "execution_count": 41,
   "id": "e2c09301",
   "metadata": {
    "scrolled": true
   },
   "outputs": [
    {
     "data": {
      "text/plain": [
       "{'copy_X': True, 'fit_intercept': True, 'normalize': True, 'positive': True}"
      ]
     },
     "execution_count": 41,
     "metadata": {},
     "output_type": "execute_result"
    }
   ],
   "source": [
    "gs.best_params_"
   ]
  },
  {
   "cell_type": "markdown",
   "id": "cb6e8da0",
   "metadata": {},
   "source": [
    "Positive parameter: will set all the features with negative values to zero. \n",
    "\n",
    "difference between tuning the params and just changing 'simple' params which have no affect on the model. \n",
    "\n",
    "although it is thorough to check them. "
   ]
  },
  {
   "cell_type": "markdown",
   "id": "811566d1",
   "metadata": {},
   "source": [
    "Setting the input features to the top features determined in section 3.5.1."
   ]
  },
  {
   "cell_type": "code",
   "execution_count": 42,
   "id": "17da4a99",
   "metadata": {},
   "outputs": [],
   "source": [
    "X_train = train[topFeatures]\n",
    "\n",
    "X_test= test[topFeatures]"
   ]
  },
  {
   "cell_type": "markdown",
   "id": "e1c1eea8",
   "metadata": {},
   "source": [
    "Training the model with the best parameters found with GS"
   ]
  },
  {
   "cell_type": "code",
   "execution_count": 43,
   "id": "54e42d90",
   "metadata": {},
   "outputs": [
    {
     "data": {
      "text/plain": [
       "LinearRegression(normalize=True, positive=True)"
      ]
     },
     "execution_count": 43,
     "metadata": {},
     "output_type": "execute_result"
    }
   ],
   "source": [
    "lr = LinearRegression()\n",
    "lr.set_params(**gs.best_params_)\n",
    "\n",
    "lr.fit(X_train, y_train)"
   ]
  },
  {
   "cell_type": "markdown",
   "id": "dbcbcee4",
   "metadata": {},
   "source": [
    "Printing the 'linear' equations of the model. "
   ]
  },
  {
   "cell_type": "code",
   "execution_count": 44,
   "id": "1497cd8a",
   "metadata": {},
   "outputs": [
    {
     "name": "stdout",
     "output_type": "stream",
     "text": [
      "y = x * [1.48631385e-01 1.45304062e-01 1.91531541e-01 4.34915795e-01\n",
      " 0.00000000e+00 0.00000000e+00 5.86721123e-01 0.00000000e+00\n",
      " 0.00000000e+00 0.00000000e+00 8.13354475e-02 2.13806354e-01\n",
      " 0.00000000e+00 0.00000000e+00 0.00000000e+00 0.00000000e+00\n",
      " 0.00000000e+00 1.26435241e-02 0.00000000e+00 0.00000000e+00\n",
      " 0.00000000e+00 0.00000000e+00 2.89787352e+02 0.00000000e+00\n",
      " 0.00000000e+00 8.28741046e+02 0.00000000e+00 0.00000000e+00\n",
      " 2.76399041e+01 0.00000000e+00 4.36783206e+02 7.84284443e+01\n",
      " 0.00000000e+00 0.00000000e+00 8.04617802e+02 0.00000000e+00\n",
      " 4.13236032e+02 0.00000000e+00 2.41847525e+01 0.00000000e+00\n",
      " 1.66803407e+02] + -463.9670686950501\n"
     ]
    }
   ],
   "source": [
    "print(\"y = x *\", lr.coef_, \"+\", lr.intercept_)"
   ]
  },
  {
   "cell_type": "code",
   "execution_count": 45,
   "id": "739763ee",
   "metadata": {
    "scrolled": false
   },
   "outputs": [
    {
     "data": {
      "text/html": [
       "<div>\n",
       "<style scoped>\n",
       "    .dataframe tbody tr th:only-of-type {\n",
       "        vertical-align: middle;\n",
       "    }\n",
       "\n",
       "    .dataframe tbody tr th {\n",
       "        vertical-align: top;\n",
       "    }\n",
       "\n",
       "    .dataframe thead th {\n",
       "        text-align: right;\n",
       "    }\n",
       "</style>\n",
       "<table border=\"1\" class=\"dataframe\">\n",
       "  <thead>\n",
       "    <tr style=\"text-align: right;\">\n",
       "      <th></th>\n",
       "      <th>coeff</th>\n",
       "    </tr>\n",
       "  </thead>\n",
       "  <tbody>\n",
       "    <tr>\n",
       "      <th>CPRF_4_Prop</th>\n",
       "      <td>828.741046</td>\n",
       "    </tr>\n",
       "    <tr>\n",
       "      <th>55-64yo_Prop</th>\n",
       "      <td>804.617802</td>\n",
       "    </tr>\n",
       "    <tr>\n",
       "      <th>5-14yo_Prop</th>\n",
       "      <td>436.783206</td>\n",
       "    </tr>\n",
       "    <tr>\n",
       "      <th>YARRP &lt;1975_Prop</th>\n",
       "      <td>413.236032</td>\n",
       "    </tr>\n",
       "    <tr>\n",
       "      <th>INCP_HIGH_Prop</th>\n",
       "      <td>289.787352</td>\n",
       "    </tr>\n",
       "    <tr>\n",
       "      <th>ATSI_Prop</th>\n",
       "      <td>166.803407</td>\n",
       "    </tr>\n",
       "    <tr>\n",
       "      <th>15-24yo_Prop</th>\n",
       "      <td>78.428444</td>\n",
       "    </tr>\n",
       "    <tr>\n",
       "      <th>CPRF_HHOLD_NO_Prop</th>\n",
       "      <td>27.639904</td>\n",
       "    </tr>\n",
       "    <tr>\n",
       "      <th>YARRP 1996-2005_Prop</th>\n",
       "      <td>24.184753</td>\n",
       "    </tr>\n",
       "    <tr>\n",
       "      <th>median_rent_newb 2021 Q1</th>\n",
       "      <td>0.586721</td>\n",
       "    </tr>\n",
       "    <tr>\n",
       "      <th>median_price 2020 Q4</th>\n",
       "      <td>0.434916</td>\n",
       "    </tr>\n",
       "    <tr>\n",
       "      <th>sales_no 2020 Q3</th>\n",
       "      <td>0.213806</td>\n",
       "    </tr>\n",
       "    <tr>\n",
       "      <th>median_price 2020 Q3</th>\n",
       "      <td>0.191532</td>\n",
       "    </tr>\n",
       "    <tr>\n",
       "      <th>median_price 2020 Q1</th>\n",
       "      <td>0.148631</td>\n",
       "    </tr>\n",
       "    <tr>\n",
       "      <th>median_price 2020 Q2</th>\n",
       "      <td>0.145304</td>\n",
       "    </tr>\n",
       "    <tr>\n",
       "      <th>sales_no 2020 Q2</th>\n",
       "      <td>0.081335</td>\n",
       "    </tr>\n",
       "    <tr>\n",
       "      <th>CPRF_6+</th>\n",
       "      <td>0.012644</td>\n",
       "    </tr>\n",
       "    <tr>\n",
       "      <th>total_bonds_no 2020 Q3</th>\n",
       "      <td>0.000000</td>\n",
       "    </tr>\n",
       "    <tr>\n",
       "      <th>0-4yo_Prop</th>\n",
       "      <td>0.000000</td>\n",
       "    </tr>\n",
       "    <tr>\n",
       "      <th>YARRP 2006-2016_Prop</th>\n",
       "      <td>0.000000</td>\n",
       "    </tr>\n",
       "    <tr>\n",
       "      <th>median_rent_newb 2020 Q1</th>\n",
       "      <td>0.000000</td>\n",
       "    </tr>\n",
       "    <tr>\n",
       "      <th>YARRP 1976-1995_Prop</th>\n",
       "      <td>0.000000</td>\n",
       "    </tr>\n",
       "    <tr>\n",
       "      <th>median_rent_newb 2020 Q3</th>\n",
       "      <td>0.000000</td>\n",
       "    </tr>\n",
       "    <tr>\n",
       "      <th>citizen_non_AU_Prop</th>\n",
       "      <td>0.000000</td>\n",
       "    </tr>\n",
       "    <tr>\n",
       "      <th>new_bonds_no 2020 Q2</th>\n",
       "      <td>0.000000</td>\n",
       "    </tr>\n",
       "    <tr>\n",
       "      <th>35-54yo_Prop</th>\n",
       "      <td>0.000000</td>\n",
       "    </tr>\n",
       "    <tr>\n",
       "      <th>25-34yo_Prop</th>\n",
       "      <td>0.000000</td>\n",
       "    </tr>\n",
       "    <tr>\n",
       "      <th>new_bonds_no 2020 Q3</th>\n",
       "      <td>0.000000</td>\n",
       "    </tr>\n",
       "    <tr>\n",
       "      <th>new_bonds_no 2020 Q4</th>\n",
       "      <td>0.000000</td>\n",
       "    </tr>\n",
       "    <tr>\n",
       "      <th>CPRF_6+_Prop</th>\n",
       "      <td>0.000000</td>\n",
       "    </tr>\n",
       "    <tr>\n",
       "      <th>total_bonds_no 2021 Q1</th>\n",
       "      <td>0.000000</td>\n",
       "    </tr>\n",
       "    <tr>\n",
       "      <th>CPRF_5_Prop</th>\n",
       "      <td>0.000000</td>\n",
       "    </tr>\n",
       "    <tr>\n",
       "      <th>sales_no 2020 Q4</th>\n",
       "      <td>0.000000</td>\n",
       "    </tr>\n",
       "    <tr>\n",
       "      <th>CPRF_3_Prop</th>\n",
       "      <td>0.000000</td>\n",
       "    </tr>\n",
       "    <tr>\n",
       "      <th>CPRF_2_Prop</th>\n",
       "      <td>0.000000</td>\n",
       "    </tr>\n",
       "    <tr>\n",
       "      <th>sales_no 2021 Q1</th>\n",
       "      <td>0.000000</td>\n",
       "    </tr>\n",
       "    <tr>\n",
       "      <th>INCP_MID_Prop</th>\n",
       "      <td>0.000000</td>\n",
       "    </tr>\n",
       "    <tr>\n",
       "      <th>YARRP 2006-2016</th>\n",
       "      <td>0.000000</td>\n",
       "    </tr>\n",
       "    <tr>\n",
       "      <th>citizen_non_AU</th>\n",
       "      <td>0.000000</td>\n",
       "    </tr>\n",
       "    <tr>\n",
       "      <th>CPRF_5</th>\n",
       "      <td>0.000000</td>\n",
       "    </tr>\n",
       "    <tr>\n",
       "      <th>INCP_LOW_Prop</th>\n",
       "      <td>0.000000</td>\n",
       "    </tr>\n",
       "  </tbody>\n",
       "</table>\n",
       "</div>"
      ],
      "text/plain": [
       "                               coeff\n",
       "CPRF_4_Prop               828.741046\n",
       "55-64yo_Prop              804.617802\n",
       "5-14yo_Prop               436.783206\n",
       "YARRP <1975_Prop          413.236032\n",
       "INCP_HIGH_Prop            289.787352\n",
       "ATSI_Prop                 166.803407\n",
       "15-24yo_Prop               78.428444\n",
       "CPRF_HHOLD_NO_Prop         27.639904\n",
       "YARRP 1996-2005_Prop       24.184753\n",
       "median_rent_newb 2021 Q1    0.586721\n",
       "median_price 2020 Q4        0.434916\n",
       "sales_no 2020 Q3            0.213806\n",
       "median_price 2020 Q3        0.191532\n",
       "median_price 2020 Q1        0.148631\n",
       "median_price 2020 Q2        0.145304\n",
       "sales_no 2020 Q2            0.081335\n",
       "CPRF_6+                     0.012644\n",
       "total_bonds_no 2020 Q3      0.000000\n",
       "0-4yo_Prop                  0.000000\n",
       "YARRP 2006-2016_Prop        0.000000\n",
       "median_rent_newb 2020 Q1    0.000000\n",
       "YARRP 1976-1995_Prop        0.000000\n",
       "median_rent_newb 2020 Q3    0.000000\n",
       "citizen_non_AU_Prop         0.000000\n",
       "new_bonds_no 2020 Q2        0.000000\n",
       "35-54yo_Prop                0.000000\n",
       "25-34yo_Prop                0.000000\n",
       "new_bonds_no 2020 Q3        0.000000\n",
       "new_bonds_no 2020 Q4        0.000000\n",
       "CPRF_6+_Prop                0.000000\n",
       "total_bonds_no 2021 Q1      0.000000\n",
       "CPRF_5_Prop                 0.000000\n",
       "sales_no 2020 Q4            0.000000\n",
       "CPRF_3_Prop                 0.000000\n",
       "CPRF_2_Prop                 0.000000\n",
       "sales_no 2021 Q1            0.000000\n",
       "INCP_MID_Prop               0.000000\n",
       "YARRP 2006-2016             0.000000\n",
       "citizen_non_AU              0.000000\n",
       "CPRF_5                      0.000000\n",
       "INCP_LOW_Prop               0.000000"
      ]
     },
     "execution_count": 45,
     "metadata": {},
     "output_type": "execute_result"
    }
   ],
   "source": [
    "coeffDF = pd.DataFrame(lr.coef_, X_train.columns, columns = ['coeff'])\n",
    "coeffDF = coeffDF.sort_values(ascending= False, by='coeff')\n",
    "coeffDF"
   ]
  },
  {
   "cell_type": "code",
   "execution_count": 46,
   "id": "d32bacef",
   "metadata": {},
   "outputs": [
    {
     "name": "stdout",
     "output_type": "stream",
     "text": [
      "MSE: 23419.062724477728\n",
      "R Squared: 0.9082470282166037\n"
     ]
    }
   ],
   "source": [
    "trainPred = lr.predict(X_train)\n",
    "trainMse = mean_squared_error(trainPred, y_train)\n",
    "trainR2 = r2_score(y_train, trainPred)\n",
    "print(\"MSE:\", trainMse)\n",
    "print(\"R Squared:\", trainR2)"
   ]
  },
  {
   "cell_type": "code",
   "execution_count": 47,
   "id": "b52ab8d7",
   "metadata": {},
   "outputs": [
    {
     "name": "stdout",
     "output_type": "stream",
     "text": [
      "MSE: 27768.564843094886\n",
      "R Squared: 0.8705078264438837\n"
     ]
    }
   ],
   "source": [
    "testPred = lr.predict(X_test)\n",
    "testMse = mean_squared_error(testPred, y_test)\n",
    "testR2 = r2_score(y_test, testPred)\n",
    "print(\"MSE:\", testMse)\n",
    "print(\"R Squared:\", testR2)"
   ]
  },
  {
   "cell_type": "markdown",
   "id": "f054b72c",
   "metadata": {},
   "source": [
    "Cross validating"
   ]
  },
  {
   "cell_type": "code",
   "execution_count": null,
   "id": "559c376c",
   "metadata": {},
   "outputs": [],
   "source": []
  },
  {
   "cell_type": "markdown",
   "id": "730fcc6e",
   "metadata": {},
   "source": [
    "---------"
   ]
  },
  {
   "cell_type": "markdown",
   "id": "70022eb7",
   "metadata": {},
   "source": [
    "(i don't think this works because the provided DFs are too small)Cross validating to get an idea of the performance across multiple runs. "
   ]
  },
  {
   "cell_type": "raw",
   "id": "3acc0ba7",
   "metadata": {},
   "source": [
    "# Plot the relationship\n",
    "plt.figure(figsize=(15,5))\n",
    "plt.plot(rfeTune['nFeatures'], rfeTune['testR2'], marker='x', label = 'Testing')\n",
    "plt.plot(rfeTune['nFeatures'], rfeTune['trainR2'], marker='x', label = 'Training')\n",
    "plt.xlabel('Number of features used in model', size=15)\n",
    "plt.ylabel('R$^2$',size=15)\n",
    "plt.title('test', size=20)\n",
    "plt.legend()\n",
    "plt.show()"
   ]
  },
  {
   "cell_type": "markdown",
   "id": "6949f8e4",
   "metadata": {},
   "source": [
    "### Composition of GS, RFE and LR. "
   ]
  },
  {
   "cell_type": "markdown",
   "id": "429ef03e",
   "metadata": {},
   "source": [
    "#### Applying GS to RFE with default LR (max all features)"
   ]
  },
  {
   "cell_type": "markdown",
   "id": "3c4d5668",
   "metadata": {},
   "source": [
    "We're using GS to tune RFE with LR as an estimator. \n",
    "$$GS\\bigg(RFE\\big(LR\\big)\\bigg) = \\text{Tuned features}$$"
   ]
  },
  {
   "cell_type": "code",
   "execution_count": 48,
   "id": "d8c01c80",
   "metadata": {},
   "outputs": [
    {
     "name": "stdout",
     "output_type": "stream",
     "text": [
      "Fitting 5 folds for each of 40 candidates, totalling 200 fits\n"
     ]
    },
    {
     "data": {
      "text/plain": [
       "GridSearchCV(cv=KFold(n_splits=5, random_state=123, shuffle=True),\n",
       "             estimator=RFE(estimator=LinearRegression(n_jobs=-1)), n_jobs=-1,\n",
       "             param_grid=[{'n_features_to_select': [1, 2, 3, 4, 5, 6, 7, 8, 9,\n",
       "                                                   10, 11, 12, 13, 14, 15, 16,\n",
       "                                                   17, 18, 19, 20, 21, 22, 23,\n",
       "                                                   24, 25, 26, 27, 28, 29, 30, ...]}],\n",
       "             return_train_score=True, scoring='r2', verbose=1)"
      ]
     },
     "execution_count": 48,
     "metadata": {},
     "output_type": "execute_result"
    }
   ],
   "source": [
    "lr = LinearRegression(n_jobs=-1)\n",
    "\n",
    "#using GS to find the best params for RFE, default hyperparameters applied. \n",
    "rfe = RFE(lr)      \n",
    "hyper_params = [{'n_features_to_select': list(range(1, len(X_train.columns)))}]\n",
    "\n",
    "gs = GridSearchCV(estimator = rfe, \n",
    "                        param_grid = hyper_params, \n",
    "                        scoring= 'r2', \n",
    "                        cv = kFold, \n",
    "                        verbose = 1,\n",
    "                        return_train_score=True,n_jobs=-1)      \n",
    "\n",
    "# fit the model\n",
    "gs.fit(X_train, y_train)"
   ]
  },
  {
   "cell_type": "code",
   "execution_count": 49,
   "id": "55d3e8e6",
   "metadata": {},
   "outputs": [
    {
     "data": {
      "text/plain": [
       "40"
      ]
     },
     "execution_count": 49,
     "metadata": {},
     "output_type": "execute_result"
    }
   ],
   "source": [
    "gs_nFeatures = gs.best_params_['n_features_to_select']\n",
    "gs_nFeatures"
   ]
  },
  {
   "cell_type": "code",
   "execution_count": 74,
   "id": "73c3bc84",
   "metadata": {},
   "outputs": [
    {
     "data": {
      "text/plain": [
       "'0.24.2'"
      ]
     },
     "execution_count": 74,
     "metadata": {},
     "output_type": "execute_result"
    }
   ],
   "source": [
    "\n",
    "import sklearn\n",
    "\n",
    "sklearn.__version__"
   ]
  },
  {
   "cell_type": "code",
   "execution_count": 79,
   "id": "e860321a",
   "metadata": {},
   "outputs": [
    {
     "data": {
      "text/plain": [
       "Index(['median_price 2020 Q1', 'median_price 2020 Q2', 'median_price 2020 Q3',\n",
       "       'median_price 2020 Q4', 'median_rent_newb 2020 Q1',\n",
       "       'median_rent_newb 2020 Q3', 'median_rent_newb 2021 Q1',\n",
       "       'new_bonds_no 2020 Q2', 'new_bonds_no 2020 Q3', 'new_bonds_no 2020 Q4',\n",
       "       'sales_no 2020 Q2', 'sales_no 2020 Q3', 'sales_no 2020 Q4',\n",
       "       'sales_no 2021 Q1', 'total_bonds_no 2020 Q3', 'total_bonds_no 2021 Q1',\n",
       "       'CPRF_5', 'CPRF_6+', 'YARRP 2006-2016', 'INCP_LOW_Prop',\n",
       "       'INCP_MID_Prop', 'INCP_HIGH_Prop', 'CPRF_2_Prop', 'CPRF_3_Prop',\n",
       "       'CPRF_4_Prop', 'CPRF_5_Prop', 'CPRF_6+_Prop', 'CPRF_HHOLD_NO_Prop',\n",
       "       '0-4yo_Prop', '5-14yo_Prop', '15-24yo_Prop', '25-34yo_Prop',\n",
       "       '35-54yo_Prop', '55-64yo_Prop', 'citizen_non_AU_Prop',\n",
       "       'YARRP <1975_Prop', 'YARRP 1976-1995_Prop', 'YARRP 1996-2005_Prop',\n",
       "       'YARRP 2006-2016_Prop', 'ATSI_Prop'],\n",
       "      dtype='object')"
      ]
     },
     "execution_count": 79,
     "metadata": {},
     "output_type": "execute_result"
    }
   ],
   "source": [
    "X_train.columns[gs.best_estimator_.support_]"
   ]
  },
  {
   "cell_type": "code",
   "execution_count": 120,
   "id": "1ecf0614",
   "metadata": {},
   "outputs": [],
   "source": [
    "cvResults = pd.DataFrame(gs.cv_results_)"
   ]
  },
  {
   "cell_type": "code",
   "execution_count": 139,
   "id": "9144e790",
   "metadata": {},
   "outputs": [],
   "source": [
    "trainResults = ['param_n_features_to_select']\n",
    "trainResults.extend([col for col in cvResults.columns if 'train' in col])\n",
    "\n",
    "testResults = ['param_n_features_to_select']\n",
    "testResults.extend([col for col in cvResults.columns if 'test' in col])"
   ]
  },
  {
   "cell_type": "code",
   "execution_count": 140,
   "id": "c9b01fe7",
   "metadata": {},
   "outputs": [
    {
     "data": {
      "text/html": [
       "<div>\n",
       "<style scoped>\n",
       "    .dataframe tbody tr th:only-of-type {\n",
       "        vertical-align: middle;\n",
       "    }\n",
       "\n",
       "    .dataframe tbody tr th {\n",
       "        vertical-align: top;\n",
       "    }\n",
       "\n",
       "    .dataframe thead th {\n",
       "        text-align: right;\n",
       "    }\n",
       "</style>\n",
       "<table border=\"1\" class=\"dataframe\">\n",
       "  <thead>\n",
       "    <tr style=\"text-align: right;\">\n",
       "      <th></th>\n",
       "      <th>param_n_features_to_select</th>\n",
       "      <th>split0_test_score</th>\n",
       "      <th>split1_test_score</th>\n",
       "      <th>split2_test_score</th>\n",
       "      <th>split3_test_score</th>\n",
       "      <th>split4_test_score</th>\n",
       "      <th>mean_test_score</th>\n",
       "      <th>std_test_score</th>\n",
       "      <th>rank_test_score</th>\n",
       "    </tr>\n",
       "  </thead>\n",
       "  <tbody>\n",
       "    <tr>\n",
       "      <th>0</th>\n",
       "      <td>1</td>\n",
       "      <td>0.042473</td>\n",
       "      <td>0.505809</td>\n",
       "      <td>0.010680</td>\n",
       "      <td>0.011930</td>\n",
       "      <td>0.050384</td>\n",
       "      <td>0.124255</td>\n",
       "      <td>0.191439</td>\n",
       "      <td>40</td>\n",
       "    </tr>\n",
       "    <tr>\n",
       "      <th>1</th>\n",
       "      <td>2</td>\n",
       "      <td>0.622871</td>\n",
       "      <td>0.501993</td>\n",
       "      <td>0.160575</td>\n",
       "      <td>0.100966</td>\n",
       "      <td>0.495650</td>\n",
       "      <td>0.376411</td>\n",
       "      <td>0.206488</td>\n",
       "      <td>39</td>\n",
       "    </tr>\n",
       "    <tr>\n",
       "      <th>2</th>\n",
       "      <td>3</td>\n",
       "      <td>0.616582</td>\n",
       "      <td>0.583207</td>\n",
       "      <td>0.455779</td>\n",
       "      <td>0.666274</td>\n",
       "      <td>0.519473</td>\n",
       "      <td>0.568263</td>\n",
       "      <td>0.073753</td>\n",
       "      <td>38</td>\n",
       "    </tr>\n",
       "    <tr>\n",
       "      <th>3</th>\n",
       "      <td>4</td>\n",
       "      <td>0.643330</td>\n",
       "      <td>0.613651</td>\n",
       "      <td>0.448732</td>\n",
       "      <td>0.666261</td>\n",
       "      <td>0.563931</td>\n",
       "      <td>0.587181</td>\n",
       "      <td>0.077222</td>\n",
       "      <td>37</td>\n",
       "    </tr>\n",
       "    <tr>\n",
       "      <th>4</th>\n",
       "      <td>5</td>\n",
       "      <td>0.644757</td>\n",
       "      <td>0.624846</td>\n",
       "      <td>0.513175</td>\n",
       "      <td>0.666421</td>\n",
       "      <td>0.573993</td>\n",
       "      <td>0.604638</td>\n",
       "      <td>0.055027</td>\n",
       "      <td>36</td>\n",
       "    </tr>\n",
       "  </tbody>\n",
       "</table>\n",
       "</div>"
      ],
      "text/plain": [
       "  param_n_features_to_select  split0_test_score  split1_test_score  \\\n",
       "0                          1           0.042473           0.505809   \n",
       "1                          2           0.622871           0.501993   \n",
       "2                          3           0.616582           0.583207   \n",
       "3                          4           0.643330           0.613651   \n",
       "4                          5           0.644757           0.624846   \n",
       "\n",
       "   split2_test_score  split3_test_score  split4_test_score  mean_test_score  \\\n",
       "0           0.010680           0.011930           0.050384         0.124255   \n",
       "1           0.160575           0.100966           0.495650         0.376411   \n",
       "2           0.455779           0.666274           0.519473         0.568263   \n",
       "3           0.448732           0.666261           0.563931         0.587181   \n",
       "4           0.513175           0.666421           0.573993         0.604638   \n",
       "\n",
       "   std_test_score  rank_test_score  \n",
       "0        0.191439               40  \n",
       "1        0.206488               39  \n",
       "2        0.073753               38  \n",
       "3        0.077222               37  \n",
       "4        0.055027               36  "
      ]
     },
     "execution_count": 140,
     "metadata": {},
     "output_type": "execute_result"
    }
   ],
   "source": [
    "cvResults[testResults].head()"
   ]
  },
  {
   "cell_type": "code",
   "execution_count": 50,
   "id": "349f4170",
   "metadata": {
    "scrolled": false
   },
   "outputs": [
    {
     "data": {
      "text/plain": [
       "<matplotlib.legend.Legend at 0x1af5064e160>"
      ]
     },
     "execution_count": 50,
     "metadata": {},
     "output_type": "execute_result"
    },
    {
     "data": {
      "image/png": "[encoded data removed]",
      "text/plain": [
       "<Figure size 1152x432 with 1 Axes>"
      ]
     },
     "metadata": {
      "needs_background": "light"
     },
     "output_type": "display_data"
    }
   ],
   "source": [
    "plt.figure(figsize=(16,6))\n",
    "\n",
    "plt.plot(gs.cv_results_[\"param_n_features_to_select\"], gs.cv_results_[\"mean_test_score\"])\n",
    "plt.plot(gs.cv_results_[\"param_n_features_to_select\"], gs.cv_results_[\"mean_train_score\"])\n",
    "plt.xlabel('number of features')\n",
    "plt.xticks(range(0,len(X_train.columns),2))\n",
    "plt.ylabel('$R^2$')\n",
    "plt.title(\"Optimal number of features determined by GridSearchCV\")\n",
    "plt.legend(['test score', 'train score'], loc='upper left')"
   ]
  },
  {
   "cell_type": "code",
   "execution_count": 51,
   "id": "2b0c3c29",
   "metadata": {},
   "outputs": [
    {
     "data": {
      "text/plain": [
       "RFE(estimator=LinearRegression(n_jobs=-1), n_features_to_select=40)"
      ]
     },
     "execution_count": 51,
     "metadata": {},
     "output_type": "execute_result"
    }
   ],
   "source": [
    "lr = LinearRegression(n_jobs=-1)\n",
    "rfe = RFE(lr, n_features_to_select = gs_nFeatures)      \n",
    "rfe.fit(X_train, y_train)"
   ]
  },
  {
   "cell_type": "code",
   "execution_count": 52,
   "id": "2563aaaf",
   "metadata": {},
   "outputs": [
    {
     "name": "stdout",
     "output_type": "stream",
     "text": [
      "MSE: 21450.882529434388\n",
      "R Squared: 0.9159581131573218\n"
     ]
    }
   ],
   "source": [
    "trainPred = rfe.predict(X_train)\n",
    "trainMse = mean_squared_error(trainPred, y_train)\n",
    "trainR2 = r2_score(y_train, trainPred)\n",
    "print(\"MSE:\", trainMse)\n",
    "print(\"R Squared:\", trainR2)"
   ]
  },
  {
   "cell_type": "code",
   "execution_count": 53,
   "id": "b5431d96",
   "metadata": {},
   "outputs": [
    {
     "name": "stdout",
     "output_type": "stream",
     "text": [
      "MSE: 27210.79637619199\n",
      "R Squared: 0.8731088485539003\n"
     ]
    }
   ],
   "source": [
    "testPred = rfe.predict(X_test)\n",
    "testMse = mean_squared_error(testPred, y_test)\n",
    "testR2 = r2_score(y_test, testPred)\n",
    "print(\"MSE:\", testMse)\n",
    "print(\"R Squared:\", testR2)"
   ]
  },
  {
   "cell_type": "markdown",
   "id": "54499b6a",
   "metadata": {},
   "source": [
    "GS on RFE is only slightly better than the loop constructed. "
   ]
  },
  {
   "cell_type": "code",
   "execution_count": 65,
   "id": "058c74d7",
   "metadata": {},
   "outputs": [
    {
     "ename": "AttributeError",
     "evalue": "'RFE' object has no attribute 'feature_names_in_'",
     "output_type": "error",
     "traceback": [
      "\u001b[1;31m---------------------------------------------------------------------------\u001b[0m",
      "\u001b[1;31mAttributeError\u001b[0m                            Traceback (most recent call last)",
      "\u001b[1;32m~\\AppData\\Local\\Temp/ipykernel_11924/2360220247.py\u001b[0m in \u001b[0;36m<module>\u001b[1;34m\u001b[0m\n\u001b[1;32m----> 1\u001b[1;33m \u001b[0mrfe\u001b[0m\u001b[1;33m.\u001b[0m\u001b[0mfeature_names_in_\u001b[0m\u001b[1;33m\u001b[0m\u001b[1;33m\u001b[0m\u001b[0m\n\u001b[0m",
      "\u001b[1;31mAttributeError\u001b[0m: 'RFE' object has no attribute 'feature_names_in_'"
     ]
    }
   ],
   "source": [
    "rfe.feature_names_in_"
   ]
  },
  {
   "cell_type": "markdown",
   "id": "77c7c919",
   "metadata": {},
   "source": [
    "Cross validating"
   ]
  },
  {
   "cell_type": "code",
   "execution_count": null,
   "id": "6c5394b7",
   "metadata": {},
   "outputs": [],
   "source": []
  },
  {
   "cell_type": "markdown",
   "id": "0baf3d25",
   "metadata": {
    "heading_collapsed": true
   },
   "source": [
    "#### (raw) Applying GS to RFE with default LR (max 51 features)"
   ]
  },
  {
   "cell_type": "raw",
   "id": "d1603d75",
   "metadata": {
    "hidden": true
   },
   "source": [
    "We're using GS to tune RFE with LR as an estimator. \n",
    "$$GS\\bigg(RFE\\big(LR\\big)\\bigg) = \\text{Tuned features}$$"
   ]
  },
  {
   "cell_type": "raw",
   "id": "95cd09b4",
   "metadata": {
    "hidden": true
   },
   "source": [
    "lr = LinearRegression(n_jobs=-1)\n",
    "\n",
    "#using GS to find the best params for RFE, default hyperparameters applied. \n",
    "rfe = RFE(lr)      \n",
    "hyper_params = [{'n_features_to_select': list(range(1, len(modelDF.columns)))}]\n",
    "\n",
    "gs = GridSearchCV(estimator = rfe, \n",
    "                        param_grid = hyper_params, \n",
    "                        scoring= 'r2', \n",
    "                        cv = kFold, \n",
    "                        verbose = 1,\n",
    "                        return_train_score=True, n_jobs=-1)      \n",
    "\n",
    "# fit the model\n",
    "gs.fit(X_train, y_train)  "
   ]
  },
  {
   "cell_type": "raw",
   "id": "bc061b41",
   "metadata": {
    "hidden": true
   },
   "source": [
    "gs.best_params_"
   ]
  },
  {
   "cell_type": "raw",
   "id": "37586b68",
   "metadata": {
    "hidden": true
   },
   "source": [
    "plt.figure(figsize=(16,6))\n",
    "\n",
    "plt.plot(gs.cv_results_[\"param_n_features_to_select\"], gs.cv_results_[\"mean_test_score\"])\n",
    "plt.plot(gs.cv_results_[\"param_n_features_to_select\"], gs.cv_results_[\"mean_train_score\"])\n",
    "plt.xlabel('number of features')\n",
    "plt.xticks(range(0,71,2))\n",
    "plt.ylabel('$R^2$')\n",
    "plt.title(\"Optimal number of features determined by GridSearchCV\")\n",
    "plt.legend(['test score', 'train score'], loc='upper left')"
   ]
  },
  {
   "cell_type": "markdown",
   "id": "89a466e9",
   "metadata": {},
   "source": [
    "## Final Linear Regression Model"
   ]
  },
  {
   "cell_type": "markdown",
   "id": "32bb556a",
   "metadata": {},
   "source": [
    "This should contain the model from either 3.5.5 or 3.5.6 "
   ]
  },
  {
   "cell_type": "code",
   "execution_count": 50,
   "id": "c0b45953",
   "metadata": {},
   "outputs": [
    {
     "data": {
      "text/plain": [
       "RFE(estimator=LinearRegression(n_jobs=-1), n_features_to_select=26)"
      ]
     },
     "execution_count": 50,
     "metadata": {},
     "output_type": "execute_result"
    }
   ],
   "source": [
    "lr = LinearRegression(n_jobs=-1)\n",
    "rfe = RFE(lr, n_features_to_select = gs_nFeatures)      \n",
    "rfe.fit(X_train, y_train)"
   ]
  },
  {
   "cell_type": "code",
   "execution_count": 51,
   "id": "95b6893e",
   "metadata": {},
   "outputs": [
    {
     "name": "stdout",
     "output_type": "stream",
     "text": [
      "MSE: 15585.075315978163\n",
      "R Squared: 0.9252400720624013\n"
     ]
    }
   ],
   "source": [
    "trainPred = rfe.predict(X_train)\n",
    "trainMse = mean_squared_error(trainPred, y_train)\n",
    "trainR2 = r2_score(y_train, trainPred)\n",
    "print(\"MSE:\", trainMse)\n",
    "print(\"R Squared:\", trainR2)"
   ]
  },
  {
   "cell_type": "code",
   "execution_count": 52,
   "id": "3207791a",
   "metadata": {},
   "outputs": [
    {
     "name": "stdout",
     "output_type": "stream",
     "text": [
      "MSE: 43035.23407215196\n",
      "R Squared: 0.8099760520088457\n"
     ]
    }
   ],
   "source": [
    "testPred = rfe.predict(X_test)\n",
    "testMse = mean_squared_error(testPred, y_test)\n",
    "testR2 = r2_score(y_test, testPred)\n",
    "print(\"MSE:\", testMse)\n",
    "print(\"R Squared:\", testR2)"
   ]
  },
  {
   "cell_type": "code",
   "execution_count": 53,
   "id": "f512c84a",
   "metadata": {},
   "outputs": [
    {
     "data": {
      "text/plain": [
       "array([ 9.71805000e-01,  1.70045447e+00, -1.26098372e+00, -4.11516898e+00,\n",
       "        1.75011337e+00,  1.96023257e+03,  1.12200133e+03,  4.93607013e+03,\n",
       "       -2.30486308e+03,  2.59919236e+03, -4.74499761e+03, -9.78814611e+02,\n",
       "        1.62219759e+04,  3.33950582e+02,  1.09108328e+03,  2.68354304e+03,\n",
       "       -2.44229102e+02, -2.30553656e+03,  2.23387927e+02, -5.23095283e+02,\n",
       "        1.03711194e+04, -8.56428386e+01, -3.16847761e+03,  5.59232810e+03,\n",
       "       -9.54006564e+03,  3.75406122e+01])"
      ]
     },
     "execution_count": 53,
     "metadata": {},
     "output_type": "execute_result"
    }
   ],
   "source": [
    "rfe.estimator_.coef_"
   ]
  },
  {
   "cell_type": "code",
   "execution_count": 54,
   "id": "caa0df9a",
   "metadata": {},
   "outputs": [
    {
     "data": {
      "text/plain": [
       "26"
      ]
     },
     "execution_count": 54,
     "metadata": {},
     "output_type": "execute_result"
    }
   ],
   "source": [
    "rfe.estimator_.n_features_in_"
   ]
  },
  {
   "cell_type": "code",
   "execution_count": 59,
   "id": "874dec77",
   "metadata": {},
   "outputs": [
    {
     "ename": "TypeError",
     "evalue": "getattr expected at least 2 arguments, got 1",
     "output_type": "error",
     "traceback": [
      "\u001b[1;31m---------------------------------------------------------------------------\u001b[0m",
      "\u001b[1;31mTypeError\u001b[0m                                 Traceback (most recent call last)",
      "\u001b[1;32m<ipython-input-59-fad29b48cba2>\u001b[0m in \u001b[0;36m<module>\u001b[1;34m\u001b[0m\n\u001b[1;32m----> 1\u001b[1;33m \u001b[0mgetattr\u001b[0m\u001b[1;33m(\u001b[0m\u001b[0mrfe\u001b[0m\u001b[1;33m.\u001b[0m\u001b[0mestimator_\u001b[0m\u001b[1;33m)\u001b[0m\u001b[1;33m\u001b[0m\u001b[1;33m\u001b[0m\u001b[0m\n\u001b[0m",
      "\u001b[1;31mTypeError\u001b[0m: getattr expected at least 2 arguments, got 1"
     ]
    }
   ],
   "source": [
    "rfe.estimator_"
   ]
  },
  {
   "cell_type": "code",
   "execution_count": 51,
   "id": "94c0d3b6",
   "metadata": {},
   "outputs": [],
   "source": [
    "score = cross_val_score(rfe, modelDF.drop(columns='median_price 2021 Q1'), \n",
    "                        modelDF['median_price 2021 Q1'],                      \n",
    "                        cv= kFold, n_jobs = -1) "
   ]
  },
  {
   "cell_type": "code",
   "execution_count": 52,
   "id": "ef91e1ac",
   "metadata": {},
   "outputs": [
    {
     "data": {
      "text/plain": [
       "0.8571374694051194"
      ]
     },
     "execution_count": 52,
     "metadata": {},
     "output_type": "execute_result"
    }
   ],
   "source": [
    "score.mean()"
   ]
  },
  {
   "cell_type": "markdown",
   "id": "8a48cfe8",
   "metadata": {},
   "source": [
    "# Clustering (Ken & Felix)"
   ]
  },
  {
   "cell_type": "markdown",
   "id": "84b07769",
   "metadata": {},
   "source": [
    "It is expected that house prices differ among regions. This is due to different demand activities in different regions. Hence, in the following, clustering will be deployed on the data to use the result for more specific modeling within each cluster that is found to be reasonable. The expectation is a difference between metropolitan and rural areas as it is a global trend that people move to metropolitan areas and Sydney indeed should reflect this with a higher demand than other areas. This expectation will be verified by using the elbow method."
   ]
  },
  {
   "cell_type": "markdown",
   "id": "9d8080df",
   "metadata": {
    "heading_collapsed": true
   },
   "source": [
    "## Kmeans"
   ]
  },
  {
   "cell_type": "code",
   "execution_count": 30,
   "id": "29471158",
   "metadata": {
    "hidden": true
   },
   "outputs": [],
   "source": [
    "modelDF = pd.read_csv(\"Files/Cleaned/Postcode-based/Unstacked_Sales_Rent_5Quarters_Imputed_pcFeatures.csv\",\n",
    "                     index_col=\"postcode\")\n",
    "\n",
    "modelDF = modelDF.drop([\"mean_price 2020 Q1\", \"mean_price 2020 Q2\", \"mean_price 2020 Q3\",\n",
    "                        \"mean_price 2020 Q4\", \"mean_price 2021 Q1\"],\n",
    "                      axis=1)"
   ]
  },
  {
   "cell_type": "code",
   "execution_count": 31,
   "id": "934f59fe",
   "metadata": {
    "hidden": true
   },
   "outputs": [
    {
     "data": {
      "text/html": [
       "<div>\n",
       "<style scoped>\n",
       "    .dataframe tbody tr th:only-of-type {\n",
       "        vertical-align: middle;\n",
       "    }\n",
       "\n",
       "    .dataframe tbody tr th {\n",
       "        vertical-align: top;\n",
       "    }\n",
       "\n",
       "    .dataframe thead th {\n",
       "        text-align: right;\n",
       "    }\n",
       "</style>\n",
       "<table border=\"1\" class=\"dataframe\">\n",
       "  <thead>\n",
       "    <tr style=\"text-align: right;\">\n",
       "      <th></th>\n",
       "      <th>median_price 2020 Q1</th>\n",
       "      <th>median_price 2020 Q2</th>\n",
       "      <th>median_price 2020 Q3</th>\n",
       "      <th>median_price 2020 Q4</th>\n",
       "      <th>median_price 2021 Q1</th>\n",
       "      <th>median_rent_newb 2020 Q1</th>\n",
       "      <th>median_rent_newb 2020 Q2</th>\n",
       "      <th>median_rent_newb 2020 Q3</th>\n",
       "      <th>median_rent_newb 2020 Q4</th>\n",
       "      <th>median_rent_newb 2021 Q1</th>\n",
       "      <th>...</th>\n",
       "      <th>Rate 2020 Q1</th>\n",
       "      <th>Rate 2020 Q2</th>\n",
       "      <th>Rate 2020 Q3</th>\n",
       "      <th>Rate 2020 Q4</th>\n",
       "      <th>Rate 2021 Q1</th>\n",
       "      <th>constr_index 2020 Q1</th>\n",
       "      <th>constr_index 2020 Q2</th>\n",
       "      <th>constr_index 2020 Q3</th>\n",
       "      <th>constr_index 2020 Q4</th>\n",
       "      <th>constr_index 2021 Q1</th>\n",
       "    </tr>\n",
       "    <tr>\n",
       "      <th>postcode</th>\n",
       "      <th></th>\n",
       "      <th></th>\n",
       "      <th></th>\n",
       "      <th></th>\n",
       "      <th></th>\n",
       "      <th></th>\n",
       "      <th></th>\n",
       "      <th></th>\n",
       "      <th></th>\n",
       "      <th></th>\n",
       "      <th></th>\n",
       "      <th></th>\n",
       "      <th></th>\n",
       "      <th></th>\n",
       "      <th></th>\n",
       "      <th></th>\n",
       "      <th></th>\n",
       "      <th></th>\n",
       "      <th></th>\n",
       "      <th></th>\n",
       "      <th></th>\n",
       "    </tr>\n",
       "  </thead>\n",
       "  <tbody>\n",
       "    <tr>\n",
       "      <th>2000</th>\n",
       "      <td>1225.0</td>\n",
       "      <td>1000.0</td>\n",
       "      <td>1390.0</td>\n",
       "      <td>1110.0</td>\n",
       "      <td>1371.0</td>\n",
       "      <td>700.0</td>\n",
       "      <td>630.0</td>\n",
       "      <td>600.0</td>\n",
       "      <td>550.0</td>\n",
       "      <td>600.0</td>\n",
       "      <td>...</td>\n",
       "      <td>0.638889</td>\n",
       "      <td>0.25</td>\n",
       "      <td>0.25</td>\n",
       "      <td>0.15625</td>\n",
       "      <td>0.1</td>\n",
       "      <td>116.0</td>\n",
       "      <td>116.2</td>\n",
       "      <td>116.2</td>\n",
       "      <td>116.9</td>\n",
       "      <td>117.8</td>\n",
       "    </tr>\n",
       "    <tr>\n",
       "      <th>2007</th>\n",
       "      <td>745.0</td>\n",
       "      <td>775.0</td>\n",
       "      <td>655.0</td>\n",
       "      <td>651.0</td>\n",
       "      <td>763.0</td>\n",
       "      <td>550.0</td>\n",
       "      <td>560.0</td>\n",
       "      <td>500.0</td>\n",
       "      <td>480.0</td>\n",
       "      <td>455.0</td>\n",
       "      <td>...</td>\n",
       "      <td>0.638889</td>\n",
       "      <td>0.25</td>\n",
       "      <td>0.25</td>\n",
       "      <td>0.15625</td>\n",
       "      <td>0.1</td>\n",
       "      <td>116.0</td>\n",
       "      <td>116.2</td>\n",
       "      <td>116.2</td>\n",
       "      <td>116.9</td>\n",
       "      <td>117.8</td>\n",
       "    </tr>\n",
       "    <tr>\n",
       "      <th>2008</th>\n",
       "      <td>750.0</td>\n",
       "      <td>1173.0</td>\n",
       "      <td>890.0</td>\n",
       "      <td>991.0</td>\n",
       "      <td>855.0</td>\n",
       "      <td>595.0</td>\n",
       "      <td>535.0</td>\n",
       "      <td>530.0</td>\n",
       "      <td>490.0</td>\n",
       "      <td>500.0</td>\n",
       "      <td>...</td>\n",
       "      <td>0.638889</td>\n",
       "      <td>0.25</td>\n",
       "      <td>0.25</td>\n",
       "      <td>0.15625</td>\n",
       "      <td>0.1</td>\n",
       "      <td>116.0</td>\n",
       "      <td>116.2</td>\n",
       "      <td>116.2</td>\n",
       "      <td>116.9</td>\n",
       "      <td>117.8</td>\n",
       "    </tr>\n",
       "    <tr>\n",
       "      <th>2009</th>\n",
       "      <td>986.0</td>\n",
       "      <td>1100.0</td>\n",
       "      <td>1085.0</td>\n",
       "      <td>1075.0</td>\n",
       "      <td>1188.0</td>\n",
       "      <td>700.0</td>\n",
       "      <td>580.0</td>\n",
       "      <td>595.0</td>\n",
       "      <td>550.0</td>\n",
       "      <td>600.0</td>\n",
       "      <td>...</td>\n",
       "      <td>0.638889</td>\n",
       "      <td>0.25</td>\n",
       "      <td>0.25</td>\n",
       "      <td>0.15625</td>\n",
       "      <td>0.1</td>\n",
       "      <td>116.0</td>\n",
       "      <td>116.2</td>\n",
       "      <td>116.2</td>\n",
       "      <td>116.9</td>\n",
       "      <td>117.8</td>\n",
       "    </tr>\n",
       "    <tr>\n",
       "      <th>2010</th>\n",
       "      <td>1280.0</td>\n",
       "      <td>1325.0</td>\n",
       "      <td>1270.0</td>\n",
       "      <td>1240.0</td>\n",
       "      <td>1201.0</td>\n",
       "      <td>640.0</td>\n",
       "      <td>575.0</td>\n",
       "      <td>550.0</td>\n",
       "      <td>518.0</td>\n",
       "      <td>525.0</td>\n",
       "      <td>...</td>\n",
       "      <td>0.638889</td>\n",
       "      <td>0.25</td>\n",
       "      <td>0.25</td>\n",
       "      <td>0.15625</td>\n",
       "      <td>0.1</td>\n",
       "      <td>116.0</td>\n",
       "      <td>116.2</td>\n",
       "      <td>116.2</td>\n",
       "      <td>116.9</td>\n",
       "      <td>117.8</td>\n",
       "    </tr>\n",
       "  </tbody>\n",
       "</table>\n",
       "<p>5 rows × 71 columns</p>\n",
       "</div>"
      ],
      "text/plain": [
       "          median_price 2020 Q1  median_price 2020 Q2  median_price 2020 Q3  \\\n",
       "postcode                                                                     \n",
       "2000                    1225.0                1000.0                1390.0   \n",
       "2007                     745.0                 775.0                 655.0   \n",
       "2008                     750.0                1173.0                 890.0   \n",
       "2009                     986.0                1100.0                1085.0   \n",
       "2010                    1280.0                1325.0                1270.0   \n",
       "\n",
       "          median_price 2020 Q4  median_price 2021 Q1  \\\n",
       "postcode                                               \n",
       "2000                    1110.0                1371.0   \n",
       "2007                     651.0                 763.0   \n",
       "2008                     991.0                 855.0   \n",
       "2009                    1075.0                1188.0   \n",
       "2010                    1240.0                1201.0   \n",
       "\n",
       "          median_rent_newb 2020 Q1  median_rent_newb 2020 Q2  \\\n",
       "postcode                                                       \n",
       "2000                         700.0                     630.0   \n",
       "2007                         550.0                     560.0   \n",
       "2008                         595.0                     535.0   \n",
       "2009                         700.0                     580.0   \n",
       "2010                         640.0                     575.0   \n",
       "\n",
       "          median_rent_newb 2020 Q3  median_rent_newb 2020 Q4  \\\n",
       "postcode                                                       \n",
       "2000                         600.0                     550.0   \n",
       "2007                         500.0                     480.0   \n",
       "2008                         530.0                     490.0   \n",
       "2009                         595.0                     550.0   \n",
       "2010                         550.0                     518.0   \n",
       "\n",
       "          median_rent_newb 2021 Q1  ...  Rate 2020 Q1  Rate 2020 Q2  \\\n",
       "postcode                            ...                               \n",
       "2000                         600.0  ...      0.638889          0.25   \n",
       "2007                         455.0  ...      0.638889          0.25   \n",
       "2008                         500.0  ...      0.638889          0.25   \n",
       "2009                         600.0  ...      0.638889          0.25   \n",
       "2010                         525.0  ...      0.638889          0.25   \n",
       "\n",
       "          Rate 2020 Q3  Rate 2020 Q4  Rate 2021 Q1  constr_index 2020 Q1  \\\n",
       "postcode                                                                   \n",
       "2000              0.25       0.15625           0.1                 116.0   \n",
       "2007              0.25       0.15625           0.1                 116.0   \n",
       "2008              0.25       0.15625           0.1                 116.0   \n",
       "2009              0.25       0.15625           0.1                 116.0   \n",
       "2010              0.25       0.15625           0.1                 116.0   \n",
       "\n",
       "          constr_index 2020 Q2  constr_index 2020 Q3  constr_index 2020 Q4  \\\n",
       "postcode                                                                     \n",
       "2000                     116.2                 116.2                 116.9   \n",
       "2007                     116.2                 116.2                 116.9   \n",
       "2008                     116.2                 116.2                 116.9   \n",
       "2009                     116.2                 116.2                 116.9   \n",
       "2010                     116.2                 116.2                 116.9   \n",
       "\n",
       "          constr_index 2021 Q1  \n",
       "postcode                        \n",
       "2000                     117.8  \n",
       "2007                     117.8  \n",
       "2008                     117.8  \n",
       "2009                     117.8  \n",
       "2010                     117.8  \n",
       "\n",
       "[5 rows x 71 columns]"
      ]
     },
     "execution_count": 31,
     "metadata": {},
     "output_type": "execute_result"
    }
   ],
   "source": [
    "modelDF.head()"
   ]
  },
  {
   "cell_type": "markdown",
   "id": "8f034d3b",
   "metadata": {
    "heading_collapsed": true,
    "hidden": true
   },
   "source": [
    "### Scaling the data\n",
    "Since the units differ greatly across the features, scaling will be useful to not distort the distance metric."
   ]
  },
  {
   "cell_type": "code",
   "execution_count": 32,
   "id": "0ebcb765",
   "metadata": {
    "hidden": true,
    "scrolled": true
   },
   "outputs": [
    {
     "data": {
      "text/html": [
       "<div>\n",
       "<style scoped>\n",
       "    .dataframe tbody tr th:only-of-type {\n",
       "        vertical-align: middle;\n",
       "    }\n",
       "\n",
       "    .dataframe tbody tr th {\n",
       "        vertical-align: top;\n",
       "    }\n",
       "\n",
       "    .dataframe thead th {\n",
       "        text-align: right;\n",
       "    }\n",
       "</style>\n",
       "<table border=\"1\" class=\"dataframe\">\n",
       "  <thead>\n",
       "    <tr style=\"text-align: right;\">\n",
       "      <th></th>\n",
       "      <th>median_price 2020 Q1</th>\n",
       "      <th>median_price 2020 Q2</th>\n",
       "      <th>median_price 2020 Q3</th>\n",
       "      <th>median_price 2020 Q4</th>\n",
       "      <th>median_price 2021 Q1</th>\n",
       "      <th>median_rent_newb 2020 Q1</th>\n",
       "      <th>median_rent_newb 2020 Q2</th>\n",
       "      <th>median_rent_newb 2020 Q3</th>\n",
       "      <th>median_rent_newb 2020 Q4</th>\n",
       "      <th>median_rent_newb 2021 Q1</th>\n",
       "      <th>...</th>\n",
       "      <th>Rate 2020 Q1</th>\n",
       "      <th>Rate 2020 Q2</th>\n",
       "      <th>Rate 2020 Q3</th>\n",
       "      <th>Rate 2020 Q4</th>\n",
       "      <th>Rate 2021 Q1</th>\n",
       "      <th>constr_index 2020 Q1</th>\n",
       "      <th>constr_index 2020 Q2</th>\n",
       "      <th>constr_index 2020 Q3</th>\n",
       "      <th>constr_index 2020 Q4</th>\n",
       "      <th>constr_index 2021 Q1</th>\n",
       "    </tr>\n",
       "    <tr>\n",
       "      <th>postcode</th>\n",
       "      <th></th>\n",
       "      <th></th>\n",
       "      <th></th>\n",
       "      <th></th>\n",
       "      <th></th>\n",
       "      <th></th>\n",
       "      <th></th>\n",
       "      <th></th>\n",
       "      <th></th>\n",
       "      <th></th>\n",
       "      <th></th>\n",
       "      <th></th>\n",
       "      <th></th>\n",
       "      <th></th>\n",
       "      <th></th>\n",
       "      <th></th>\n",
       "      <th></th>\n",
       "      <th></th>\n",
       "      <th></th>\n",
       "      <th></th>\n",
       "      <th></th>\n",
       "    </tr>\n",
       "  </thead>\n",
       "  <tbody>\n",
       "    <tr>\n",
       "      <th>2000</th>\n",
       "      <td>1.066866</td>\n",
       "      <td>0.489395</td>\n",
       "      <td>1.256337</td>\n",
       "      <td>0.567324</td>\n",
       "      <td>1.019112</td>\n",
       "      <td>1.816296</td>\n",
       "      <td>1.445116</td>\n",
       "      <td>1.311699</td>\n",
       "      <td>0.754714</td>\n",
       "      <td>1.078653</td>\n",
       "      <td>...</td>\n",
       "      <td>0.0</td>\n",
       "      <td>0.0</td>\n",
       "      <td>0.0</td>\n",
       "      <td>0.0</td>\n",
       "      <td>1.0</td>\n",
       "      <td>0.0</td>\n",
       "      <td>-1.0</td>\n",
       "      <td>-1.0</td>\n",
       "      <td>1.0</td>\n",
       "      <td>1.0</td>\n",
       "    </tr>\n",
       "    <tr>\n",
       "      <th>2007</th>\n",
       "      <td>-0.129141</td>\n",
       "      <td>-0.071472</td>\n",
       "      <td>-0.338995</td>\n",
       "      <td>-0.388276</td>\n",
       "      <td>-0.204090</td>\n",
       "      <td>0.660511</td>\n",
       "      <td>0.866111</td>\n",
       "      <td>0.431879</td>\n",
       "      <td>0.169586</td>\n",
       "      <td>-0.098496</td>\n",
       "      <td>...</td>\n",
       "      <td>0.0</td>\n",
       "      <td>0.0</td>\n",
       "      <td>0.0</td>\n",
       "      <td>0.0</td>\n",
       "      <td>1.0</td>\n",
       "      <td>0.0</td>\n",
       "      <td>-1.0</td>\n",
       "      <td>-1.0</td>\n",
       "      <td>1.0</td>\n",
       "      <td>1.0</td>\n",
       "    </tr>\n",
       "    <tr>\n",
       "      <th>2008</th>\n",
       "      <td>-0.116683</td>\n",
       "      <td>0.920639</td>\n",
       "      <td>0.171077</td>\n",
       "      <td>0.319576</td>\n",
       "      <td>-0.019000</td>\n",
       "      <td>1.007247</td>\n",
       "      <td>0.659323</td>\n",
       "      <td>0.695825</td>\n",
       "      <td>0.253176</td>\n",
       "      <td>0.266826</td>\n",
       "      <td>...</td>\n",
       "      <td>0.0</td>\n",
       "      <td>0.0</td>\n",
       "      <td>0.0</td>\n",
       "      <td>0.0</td>\n",
       "      <td>1.0</td>\n",
       "      <td>0.0</td>\n",
       "      <td>-1.0</td>\n",
       "      <td>-1.0</td>\n",
       "      <td>1.0</td>\n",
       "      <td>1.0</td>\n",
       "    </tr>\n",
       "    <tr>\n",
       "      <th>2009</th>\n",
       "      <td>0.471354</td>\n",
       "      <td>0.738669</td>\n",
       "      <td>0.594328</td>\n",
       "      <td>0.494457</td>\n",
       "      <td>0.650944</td>\n",
       "      <td>1.816296</td>\n",
       "      <td>1.031541</td>\n",
       "      <td>1.267708</td>\n",
       "      <td>0.754714</td>\n",
       "      <td>1.078653</td>\n",
       "      <td>...</td>\n",
       "      <td>0.0</td>\n",
       "      <td>0.0</td>\n",
       "      <td>0.0</td>\n",
       "      <td>0.0</td>\n",
       "      <td>1.0</td>\n",
       "      <td>0.0</td>\n",
       "      <td>-1.0</td>\n",
       "      <td>-1.0</td>\n",
       "      <td>1.0</td>\n",
       "      <td>1.0</td>\n",
       "    </tr>\n",
       "    <tr>\n",
       "      <th>2010</th>\n",
       "      <td>1.203908</td>\n",
       "      <td>1.299536</td>\n",
       "      <td>0.995875</td>\n",
       "      <td>0.837973</td>\n",
       "      <td>0.677098</td>\n",
       "      <td>1.353982</td>\n",
       "      <td>0.990183</td>\n",
       "      <td>0.871789</td>\n",
       "      <td>0.487227</td>\n",
       "      <td>0.469783</td>\n",
       "      <td>...</td>\n",
       "      <td>0.0</td>\n",
       "      <td>0.0</td>\n",
       "      <td>0.0</td>\n",
       "      <td>0.0</td>\n",
       "      <td>1.0</td>\n",
       "      <td>0.0</td>\n",
       "      <td>-1.0</td>\n",
       "      <td>-1.0</td>\n",
       "      <td>1.0</td>\n",
       "      <td>1.0</td>\n",
       "    </tr>\n",
       "    <tr>\n",
       "      <th>...</th>\n",
       "      <td>...</td>\n",
       "      <td>...</td>\n",
       "      <td>...</td>\n",
       "      <td>...</td>\n",
       "      <td>...</td>\n",
       "      <td>...</td>\n",
       "      <td>...</td>\n",
       "      <td>...</td>\n",
       "      <td>...</td>\n",
       "      <td>...</td>\n",
       "      <td>...</td>\n",
       "      <td>...</td>\n",
       "      <td>...</td>\n",
       "      <td>...</td>\n",
       "      <td>...</td>\n",
       "      <td>...</td>\n",
       "      <td>...</td>\n",
       "      <td>...</td>\n",
       "      <td>...</td>\n",
       "      <td>...</td>\n",
       "      <td>...</td>\n",
       "    </tr>\n",
       "    <tr>\n",
       "      <th>2876</th>\n",
       "      <td>-0.228809</td>\n",
       "      <td>-0.196109</td>\n",
       "      <td>-0.189229</td>\n",
       "      <td>-0.217558</td>\n",
       "      <td>-0.209120</td>\n",
       "      <td>-0.110011</td>\n",
       "      <td>-0.043754</td>\n",
       "      <td>-0.008030</td>\n",
       "      <td>-0.081183</td>\n",
       "      <td>-0.139087</td>\n",
       "      <td>...</td>\n",
       "      <td>0.0</td>\n",
       "      <td>0.0</td>\n",
       "      <td>0.0</td>\n",
       "      <td>0.0</td>\n",
       "      <td>1.0</td>\n",
       "      <td>0.0</td>\n",
       "      <td>-1.0</td>\n",
       "      <td>-1.0</td>\n",
       "      <td>1.0</td>\n",
       "      <td>1.0</td>\n",
       "    </tr>\n",
       "    <tr>\n",
       "      <th>2877</th>\n",
       "      <td>-0.228809</td>\n",
       "      <td>-0.196109</td>\n",
       "      <td>-1.337434</td>\n",
       "      <td>-1.285581</td>\n",
       "      <td>-1.346818</td>\n",
       "      <td>-1.651057</td>\n",
       "      <td>-1.739411</td>\n",
       "      <td>-1.767670</td>\n",
       "      <td>-0.081183</td>\n",
       "      <td>-2.006290</td>\n",
       "      <td>...</td>\n",
       "      <td>0.0</td>\n",
       "      <td>0.0</td>\n",
       "      <td>0.0</td>\n",
       "      <td>0.0</td>\n",
       "      <td>1.0</td>\n",
       "      <td>0.0</td>\n",
       "      <td>-1.0</td>\n",
       "      <td>-1.0</td>\n",
       "      <td>1.0</td>\n",
       "      <td>1.0</td>\n",
       "    </tr>\n",
       "    <tr>\n",
       "      <th>2878</th>\n",
       "      <td>-0.228809</td>\n",
       "      <td>-0.196109</td>\n",
       "      <td>-0.189229</td>\n",
       "      <td>-0.217558</td>\n",
       "      <td>-0.209120</td>\n",
       "      <td>-0.110011</td>\n",
       "      <td>-0.043754</td>\n",
       "      <td>-0.008030</td>\n",
       "      <td>-0.081183</td>\n",
       "      <td>-0.139087</td>\n",
       "      <td>...</td>\n",
       "      <td>0.0</td>\n",
       "      <td>0.0</td>\n",
       "      <td>0.0</td>\n",
       "      <td>0.0</td>\n",
       "      <td>1.0</td>\n",
       "      <td>0.0</td>\n",
       "      <td>-1.0</td>\n",
       "      <td>-1.0</td>\n",
       "      <td>1.0</td>\n",
       "      <td>1.0</td>\n",
       "    </tr>\n",
       "    <tr>\n",
       "      <th>2879</th>\n",
       "      <td>-0.228809</td>\n",
       "      <td>-0.196109</td>\n",
       "      <td>-0.189229</td>\n",
       "      <td>-0.217558</td>\n",
       "      <td>-0.209120</td>\n",
       "      <td>-0.110011</td>\n",
       "      <td>-0.043754</td>\n",
       "      <td>-0.008030</td>\n",
       "      <td>-0.081183</td>\n",
       "      <td>-0.139087</td>\n",
       "      <td>...</td>\n",
       "      <td>0.0</td>\n",
       "      <td>0.0</td>\n",
       "      <td>0.0</td>\n",
       "      <td>0.0</td>\n",
       "      <td>1.0</td>\n",
       "      <td>0.0</td>\n",
       "      <td>-1.0</td>\n",
       "      <td>-1.0</td>\n",
       "      <td>1.0</td>\n",
       "      <td>1.0</td>\n",
       "    </tr>\n",
       "    <tr>\n",
       "      <th>2880</th>\n",
       "      <td>-1.673984</td>\n",
       "      <td>-1.679289</td>\n",
       "      <td>-1.487200</td>\n",
       "      <td>-1.487527</td>\n",
       "      <td>-1.497707</td>\n",
       "      <td>-1.574005</td>\n",
       "      <td>-1.863483</td>\n",
       "      <td>-1.767670</td>\n",
       "      <td>-1.752976</td>\n",
       "      <td>-1.600376</td>\n",
       "      <td>...</td>\n",
       "      <td>0.0</td>\n",
       "      <td>0.0</td>\n",
       "      <td>0.0</td>\n",
       "      <td>0.0</td>\n",
       "      <td>1.0</td>\n",
       "      <td>0.0</td>\n",
       "      <td>-1.0</td>\n",
       "      <td>-1.0</td>\n",
       "      <td>1.0</td>\n",
       "      <td>1.0</td>\n",
       "    </tr>\n",
       "  </tbody>\n",
       "</table>\n",
       "<p>573 rows × 71 columns</p>\n",
       "</div>"
      ],
      "text/plain": [
       "          median_price 2020 Q1  median_price 2020 Q2  median_price 2020 Q3  \\\n",
       "postcode                                                                     \n",
       "2000                  1.066866              0.489395              1.256337   \n",
       "2007                 -0.129141             -0.071472             -0.338995   \n",
       "2008                 -0.116683              0.920639              0.171077   \n",
       "2009                  0.471354              0.738669              0.594328   \n",
       "2010                  1.203908              1.299536              0.995875   \n",
       "...                        ...                   ...                   ...   \n",
       "2876                 -0.228809             -0.196109             -0.189229   \n",
       "2877                 -0.228809             -0.196109             -1.337434   \n",
       "2878                 -0.228809             -0.196109             -0.189229   \n",
       "2879                 -0.228809             -0.196109             -0.189229   \n",
       "2880                 -1.673984             -1.679289             -1.487200   \n",
       "\n",
       "          median_price 2020 Q4  median_price 2021 Q1  \\\n",
       "postcode                                               \n",
       "2000                  0.567324              1.019112   \n",
       "2007                 -0.388276             -0.204090   \n",
       "2008                  0.319576             -0.019000   \n",
       "2009                  0.494457              0.650944   \n",
       "2010                  0.837973              0.677098   \n",
       "...                        ...                   ...   \n",
       "2876                 -0.217558             -0.209120   \n",
       "2877                 -1.285581             -1.346818   \n",
       "2878                 -0.217558             -0.209120   \n",
       "2879                 -0.217558             -0.209120   \n",
       "2880                 -1.487527             -1.497707   \n",
       "\n",
       "          median_rent_newb 2020 Q1  median_rent_newb 2020 Q2  \\\n",
       "postcode                                                       \n",
       "2000                      1.816296                  1.445116   \n",
       "2007                      0.660511                  0.866111   \n",
       "2008                      1.007247                  0.659323   \n",
       "2009                      1.816296                  1.031541   \n",
       "2010                      1.353982                  0.990183   \n",
       "...                            ...                       ...   \n",
       "2876                     -0.110011                 -0.043754   \n",
       "2877                     -1.651057                 -1.739411   \n",
       "2878                     -0.110011                 -0.043754   \n",
       "2879                     -0.110011                 -0.043754   \n",
       "2880                     -1.574005                 -1.863483   \n",
       "\n",
       "          median_rent_newb 2020 Q3  median_rent_newb 2020 Q4  \\\n",
       "postcode                                                       \n",
       "2000                      1.311699                  0.754714   \n",
       "2007                      0.431879                  0.169586   \n",
       "2008                      0.695825                  0.253176   \n",
       "2009                      1.267708                  0.754714   \n",
       "2010                      0.871789                  0.487227   \n",
       "...                            ...                       ...   \n",
       "2876                     -0.008030                 -0.081183   \n",
       "2877                     -1.767670                 -0.081183   \n",
       "2878                     -0.008030                 -0.081183   \n",
       "2879                     -0.008030                 -0.081183   \n",
       "2880                     -1.767670                 -1.752976   \n",
       "\n",
       "          median_rent_newb 2021 Q1  ...  Rate 2020 Q1  Rate 2020 Q2  \\\n",
       "postcode                            ...                               \n",
       "2000                      1.078653  ...           0.0           0.0   \n",
       "2007                     -0.098496  ...           0.0           0.0   \n",
       "2008                      0.266826  ...           0.0           0.0   \n",
       "2009                      1.078653  ...           0.0           0.0   \n",
       "2010                      0.469783  ...           0.0           0.0   \n",
       "...                            ...  ...           ...           ...   \n",
       "2876                     -0.139087  ...           0.0           0.0   \n",
       "2877                     -2.006290  ...           0.0           0.0   \n",
       "2878                     -0.139087  ...           0.0           0.0   \n",
       "2879                     -0.139087  ...           0.0           0.0   \n",
       "2880                     -1.600376  ...           0.0           0.0   \n",
       "\n",
       "          Rate 2020 Q3  Rate 2020 Q4  Rate 2021 Q1  constr_index 2020 Q1  \\\n",
       "postcode                                                                   \n",
       "2000               0.0           0.0           1.0                   0.0   \n",
       "2007               0.0           0.0           1.0                   0.0   \n",
       "2008               0.0           0.0           1.0                   0.0   \n",
       "2009               0.0           0.0           1.0                   0.0   \n",
       "2010               0.0           0.0           1.0                   0.0   \n",
       "...                ...           ...           ...                   ...   \n",
       "2876               0.0           0.0           1.0                   0.0   \n",
       "2877               0.0           0.0           1.0                   0.0   \n",
       "2878               0.0           0.0           1.0                   0.0   \n",
       "2879               0.0           0.0           1.0                   0.0   \n",
       "2880               0.0           0.0           1.0                   0.0   \n",
       "\n",
       "          constr_index 2020 Q2  constr_index 2020 Q3  constr_index 2020 Q4  \\\n",
       "postcode                                                                     \n",
       "2000                      -1.0                  -1.0                   1.0   \n",
       "2007                      -1.0                  -1.0                   1.0   \n",
       "2008                      -1.0                  -1.0                   1.0   \n",
       "2009                      -1.0                  -1.0                   1.0   \n",
       "2010                      -1.0                  -1.0                   1.0   \n",
       "...                        ...                   ...                   ...   \n",
       "2876                      -1.0                  -1.0                   1.0   \n",
       "2877                      -1.0                  -1.0                   1.0   \n",
       "2878                      -1.0                  -1.0                   1.0   \n",
       "2879                      -1.0                  -1.0                   1.0   \n",
       "2880                      -1.0                  -1.0                   1.0   \n",
       "\n",
       "          constr_index 2021 Q1  \n",
       "postcode                        \n",
       "2000                       1.0  \n",
       "2007                       1.0  \n",
       "2008                       1.0  \n",
       "2009                       1.0  \n",
       "2010                       1.0  \n",
       "...                        ...  \n",
       "2876                       1.0  \n",
       "2877                       1.0  \n",
       "2878                       1.0  \n",
       "2879                       1.0  \n",
       "2880                       1.0  \n",
       "\n",
       "[573 rows x 71 columns]"
      ]
     },
     "execution_count": 32,
     "metadata": {},
     "output_type": "execute_result"
    }
   ],
   "source": [
    "# For retaining column and index names\n",
    "columns = modelDF.columns\n",
    "postcode = modelDF.index\n",
    "\n",
    "# Initialise scaler\n",
    "scaler = StandardScaler() \n",
    "\n",
    "# Transform\n",
    "scaledDF = scaler.fit_transform(modelDF)\n",
    "\n",
    "# Put into a dataframe\n",
    "scaledDF = pd.DataFrame(scaledDF,index=postcode)\n",
    "scaledDF.columns = columns\n",
    "scaledDF"
   ]
  },
  {
   "cell_type": "markdown",
   "id": "a4e072c8",
   "metadata": {
    "heading_collapsed": true,
    "hidden": true
   },
   "source": [
    "### Optimal Number of K: Elbow Method"
   ]
  },
  {
   "cell_type": "code",
   "execution_count": 33,
   "id": "e55a8fe3",
   "metadata": {
    "hidden": true
   },
   "outputs": [],
   "source": [
    "distortions = []\n",
    "K = range(1,11)\n",
    "for i in K:\n",
    "    km = KMeans(n_clusters = i)\n",
    "    km.fit(scaledDF)\n",
    "    distortions.append(km.inertia_)"
   ]
  },
  {
   "cell_type": "code",
   "execution_count": 34,
   "id": "50af2a7d",
   "metadata": {
    "hidden": true
   },
   "outputs": [
    {
     "data": {
      "image/png": "[encoded data removed]",
      "text/plain": [
       "<Figure size 1008x360 with 1 Axes>"
      ]
     },
     "metadata": {},
     "output_type": "display_data"
    }
   ],
   "source": [
    "plt.figure(figsize=(14,5))\n",
    "plt.plot(K, distortions, 'bx-')\n",
    "plt.xlabel('$K$')\n",
    "plt.ylabel('Distortion')\n",
    "plt.title('The Elbow Method showing the optimal k')\n",
    "plt.xticks(K)\n",
    "plt.show()"
   ]
  },
  {
   "cell_type": "markdown",
   "id": "623184ba",
   "metadata": {
    "hidden": true
   },
   "source": [
    "This visualisation shows that two clusters seem like a reasonable decision to use as the distinction from the first to the second cluster is greatest and decreases with a growing number of clusters."
   ]
  },
  {
   "cell_type": "markdown",
   "id": "65c0842c",
   "metadata": {
    "heading_collapsed": true,
    "hidden": true
   },
   "source": [
    "### Apply Algorithm"
   ]
  },
  {
   "cell_type": "code",
   "execution_count": 35,
   "id": "a9b300ae",
   "metadata": {
    "hidden": true
   },
   "outputs": [],
   "source": [
    "km = KMeans(n_clusters = 2)\n",
    "km.fit(scaledDF)\n",
    "km_label_2 = km.predict(scaledDF)\n",
    "modelDF['label_2'] = km_label_2"
   ]
  },
  {
   "cell_type": "code",
   "execution_count": 36,
   "id": "a110da41",
   "metadata": {
    "hidden": true
   },
   "outputs": [
    {
     "data": {
      "text/html": [
       "<div>\n",
       "<style scoped>\n",
       "    .dataframe tbody tr th:only-of-type {\n",
       "        vertical-align: middle;\n",
       "    }\n",
       "\n",
       "    .dataframe tbody tr th {\n",
       "        vertical-align: top;\n",
       "    }\n",
       "\n",
       "    .dataframe thead th {\n",
       "        text-align: right;\n",
       "    }\n",
       "</style>\n",
       "<table border=\"1\" class=\"dataframe\">\n",
       "  <thead>\n",
       "    <tr style=\"text-align: right;\">\n",
       "      <th></th>\n",
       "      <th>median_price 2020 Q1</th>\n",
       "      <th>median_price 2020 Q2</th>\n",
       "      <th>median_price 2020 Q3</th>\n",
       "      <th>median_price 2020 Q4</th>\n",
       "      <th>median_price 2021 Q1</th>\n",
       "      <th>median_rent_newb 2020 Q1</th>\n",
       "      <th>median_rent_newb 2020 Q2</th>\n",
       "      <th>median_rent_newb 2020 Q3</th>\n",
       "      <th>median_rent_newb 2020 Q4</th>\n",
       "      <th>median_rent_newb 2021 Q1</th>\n",
       "      <th>...</th>\n",
       "      <th>Rate 2020 Q1</th>\n",
       "      <th>Rate 2020 Q2</th>\n",
       "      <th>Rate 2020 Q3</th>\n",
       "      <th>Rate 2020 Q4</th>\n",
       "      <th>Rate 2021 Q1</th>\n",
       "      <th>constr_index 2020 Q1</th>\n",
       "      <th>constr_index 2020 Q2</th>\n",
       "      <th>constr_index 2020 Q3</th>\n",
       "      <th>constr_index 2020 Q4</th>\n",
       "      <th>constr_index 2021 Q1</th>\n",
       "    </tr>\n",
       "    <tr>\n",
       "      <th>label_2</th>\n",
       "      <th></th>\n",
       "      <th></th>\n",
       "      <th></th>\n",
       "      <th></th>\n",
       "      <th></th>\n",
       "      <th></th>\n",
       "      <th></th>\n",
       "      <th></th>\n",
       "      <th></th>\n",
       "      <th></th>\n",
       "      <th></th>\n",
       "      <th></th>\n",
       "      <th></th>\n",
       "      <th></th>\n",
       "      <th></th>\n",
       "      <th></th>\n",
       "      <th></th>\n",
       "      <th></th>\n",
       "      <th></th>\n",
       "      <th></th>\n",
       "      <th></th>\n",
       "    </tr>\n",
       "  </thead>\n",
       "  <tbody>\n",
       "    <tr>\n",
       "      <th>0</th>\n",
       "      <td>824.30</td>\n",
       "      <td>834.59</td>\n",
       "      <td>834.45</td>\n",
       "      <td>869.30</td>\n",
       "      <td>890.48</td>\n",
       "      <td>490.94</td>\n",
       "      <td>472.73</td>\n",
       "      <td>470.76</td>\n",
       "      <td>472.12</td>\n",
       "      <td>478.25</td>\n",
       "      <td>...</td>\n",
       "      <td>0.64</td>\n",
       "      <td>0.25</td>\n",
       "      <td>0.25</td>\n",
       "      <td>0.16</td>\n",
       "      <td>0.1</td>\n",
       "      <td>116.0</td>\n",
       "      <td>116.2</td>\n",
       "      <td>116.2</td>\n",
       "      <td>116.9</td>\n",
       "      <td>117.8</td>\n",
       "    </tr>\n",
       "    <tr>\n",
       "      <th>1</th>\n",
       "      <td>788.77</td>\n",
       "      <td>794.60</td>\n",
       "      <td>804.35</td>\n",
       "      <td>828.17</td>\n",
       "      <td>856.80</td>\n",
       "      <td>456.45</td>\n",
       "      <td>450.17</td>\n",
       "      <td>445.09</td>\n",
       "      <td>456.07</td>\n",
       "      <td>463.87</td>\n",
       "      <td>...</td>\n",
       "      <td>0.64</td>\n",
       "      <td>0.25</td>\n",
       "      <td>0.25</td>\n",
       "      <td>0.16</td>\n",
       "      <td>0.1</td>\n",
       "      <td>116.0</td>\n",
       "      <td>116.2</td>\n",
       "      <td>116.2</td>\n",
       "      <td>116.9</td>\n",
       "      <td>117.8</td>\n",
       "    </tr>\n",
       "  </tbody>\n",
       "</table>\n",
       "<p>2 rows × 71 columns</p>\n",
       "</div>"
      ],
      "text/plain": [
       "         median_price 2020 Q1  median_price 2020 Q2  median_price 2020 Q3  \\\n",
       "label_2                                                                     \n",
       "0                      824.30                834.59                834.45   \n",
       "1                      788.77                794.60                804.35   \n",
       "\n",
       "         median_price 2020 Q4  median_price 2021 Q1  median_rent_newb 2020 Q1  \\\n",
       "label_2                                                                         \n",
       "0                      869.30                890.48                    490.94   \n",
       "1                      828.17                856.80                    456.45   \n",
       "\n",
       "         median_rent_newb 2020 Q2  median_rent_newb 2020 Q3  \\\n",
       "label_2                                                       \n",
       "0                          472.73                    470.76   \n",
       "1                          450.17                    445.09   \n",
       "\n",
       "         median_rent_newb 2020 Q4  median_rent_newb 2021 Q1  ...  \\\n",
       "label_2                                                      ...   \n",
       "0                          472.12                    478.25  ...   \n",
       "1                          456.07                    463.87  ...   \n",
       "\n",
       "         Rate 2020 Q1  Rate 2020 Q2  Rate 2020 Q3  Rate 2020 Q4  Rate 2021 Q1  \\\n",
       "label_2                                                                         \n",
       "0                0.64          0.25          0.25          0.16           0.1   \n",
       "1                0.64          0.25          0.25          0.16           0.1   \n",
       "\n",
       "         constr_index 2020 Q1  constr_index 2020 Q2  constr_index 2020 Q3  \\\n",
       "label_2                                                                     \n",
       "0                       116.0                 116.2                 116.2   \n",
       "1                       116.0                 116.2                 116.2   \n",
       "\n",
       "         constr_index 2020 Q4  constr_index 2021 Q1  \n",
       "label_2                                              \n",
       "0                       116.9                 117.8  \n",
       "1                       116.9                 117.8  \n",
       "\n",
       "[2 rows x 71 columns]"
      ]
     },
     "execution_count": 36,
     "metadata": {},
     "output_type": "execute_result"
    }
   ],
   "source": [
    "modelDF.groupby('label_2').mean().round(2)"
   ]
  },
  {
   "cell_type": "code",
   "execution_count": 37,
   "id": "66c00ff2",
   "metadata": {
    "hidden": true
   },
   "outputs": [
    {
     "data": {
      "text/plain": [
       "1    443\n",
       "0    130\n",
       "Name: label_2, dtype: int64"
      ]
     },
     "execution_count": 37,
     "metadata": {},
     "output_type": "execute_result"
    }
   ],
   "source": [
    "modelDF.label_2.value_counts()"
   ]
  },
  {
   "cell_type": "code",
   "execution_count": 38,
   "id": "746b79f6",
   "metadata": {
    "hidden": true
   },
   "outputs": [
    {
     "data": {
      "image/png": "[encoded data removed]",
      "text/plain": [
       "<Figure size 432x288 with 1 Axes>"
      ]
     },
     "metadata": {},
     "output_type": "display_data"
    }
   ],
   "source": [
    "plt.scatter(x=modelDF['median_price 2020 Q1'], y=modelDF['INCP_HIGH'],c=modelDF['label_2'],cmap='cividis',alpha=.6)\n",
    "plt.xlabel('Median House Price')\n",
    "plt.ylabel('Count of High Income Households')\n",
    "plt.title('2020 Q1');"
   ]
  },
  {
   "cell_type": "code",
   "execution_count": 39,
   "id": "20fb750c",
   "metadata": {
    "hidden": true
   },
   "outputs": [
    {
     "data": {
      "text/html": [
       "<div>\n",
       "<style scoped>\n",
       "    .dataframe tbody tr th:only-of-type {\n",
       "        vertical-align: middle;\n",
       "    }\n",
       "\n",
       "    .dataframe tbody tr th {\n",
       "        vertical-align: top;\n",
       "    }\n",
       "\n",
       "    .dataframe thead th {\n",
       "        text-align: right;\n",
       "    }\n",
       "</style>\n",
       "<table border=\"1\" class=\"dataframe\">\n",
       "  <thead>\n",
       "    <tr style=\"text-align: right;\">\n",
       "      <th></th>\n",
       "      <th>median_price 2020 Q1</th>\n",
       "      <th>median_price 2020 Q2</th>\n",
       "      <th>median_price 2020 Q3</th>\n",
       "      <th>median_price 2020 Q4</th>\n",
       "      <th>median_price 2021 Q1</th>\n",
       "      <th>median_rent_newb 2020 Q1</th>\n",
       "      <th>median_rent_newb 2020 Q2</th>\n",
       "      <th>median_rent_newb 2020 Q3</th>\n",
       "      <th>median_rent_newb 2020 Q4</th>\n",
       "      <th>median_rent_newb 2021 Q1</th>\n",
       "      <th>...</th>\n",
       "      <th>Rate 2020 Q2</th>\n",
       "      <th>Rate 2020 Q3</th>\n",
       "      <th>Rate 2020 Q4</th>\n",
       "      <th>Rate 2021 Q1</th>\n",
       "      <th>constr_index 2020 Q1</th>\n",
       "      <th>constr_index 2020 Q2</th>\n",
       "      <th>constr_index 2020 Q3</th>\n",
       "      <th>constr_index 2020 Q4</th>\n",
       "      <th>constr_index 2021 Q1</th>\n",
       "      <th>label_2</th>\n",
       "    </tr>\n",
       "    <tr>\n",
       "      <th>postcode</th>\n",
       "      <th></th>\n",
       "      <th></th>\n",
       "      <th></th>\n",
       "      <th></th>\n",
       "      <th></th>\n",
       "      <th></th>\n",
       "      <th></th>\n",
       "      <th></th>\n",
       "      <th></th>\n",
       "      <th></th>\n",
       "      <th></th>\n",
       "      <th></th>\n",
       "      <th></th>\n",
       "      <th></th>\n",
       "      <th></th>\n",
       "      <th></th>\n",
       "      <th></th>\n",
       "      <th></th>\n",
       "      <th></th>\n",
       "      <th></th>\n",
       "      <th></th>\n",
       "    </tr>\n",
       "  </thead>\n",
       "  <tbody>\n",
       "    <tr>\n",
       "      <th>2007</th>\n",
       "      <td>745.0</td>\n",
       "      <td>775.0</td>\n",
       "      <td>655.0</td>\n",
       "      <td>651.0</td>\n",
       "      <td>763.0</td>\n",
       "      <td>550.0</td>\n",
       "      <td>560.0</td>\n",
       "      <td>500.0</td>\n",
       "      <td>480.0</td>\n",
       "      <td>455.0</td>\n",
       "      <td>...</td>\n",
       "      <td>0.25</td>\n",
       "      <td>0.25</td>\n",
       "      <td>0.15625</td>\n",
       "      <td>0.1</td>\n",
       "      <td>116.0</td>\n",
       "      <td>116.2</td>\n",
       "      <td>116.2</td>\n",
       "      <td>116.9</td>\n",
       "      <td>117.8</td>\n",
       "      <td>1</td>\n",
       "    </tr>\n",
       "    <tr>\n",
       "      <th>2009</th>\n",
       "      <td>986.0</td>\n",
       "      <td>1100.0</td>\n",
       "      <td>1085.0</td>\n",
       "      <td>1075.0</td>\n",
       "      <td>1188.0</td>\n",
       "      <td>700.0</td>\n",
       "      <td>580.0</td>\n",
       "      <td>595.0</td>\n",
       "      <td>550.0</td>\n",
       "      <td>600.0</td>\n",
       "      <td>...</td>\n",
       "      <td>0.25</td>\n",
       "      <td>0.25</td>\n",
       "      <td>0.15625</td>\n",
       "      <td>0.1</td>\n",
       "      <td>116.0</td>\n",
       "      <td>116.2</td>\n",
       "      <td>116.2</td>\n",
       "      <td>116.9</td>\n",
       "      <td>117.8</td>\n",
       "      <td>1</td>\n",
       "    </tr>\n",
       "    <tr>\n",
       "      <th>2015</th>\n",
       "      <td>887.0</td>\n",
       "      <td>988.0</td>\n",
       "      <td>923.0</td>\n",
       "      <td>918.0</td>\n",
       "      <td>925.0</td>\n",
       "      <td>640.0</td>\n",
       "      <td>590.0</td>\n",
       "      <td>570.0</td>\n",
       "      <td>550.0</td>\n",
       "      <td>573.0</td>\n",
       "      <td>...</td>\n",
       "      <td>0.25</td>\n",
       "      <td>0.25</td>\n",
       "      <td>0.15625</td>\n",
       "      <td>0.1</td>\n",
       "      <td>116.0</td>\n",
       "      <td>116.2</td>\n",
       "      <td>116.2</td>\n",
       "      <td>116.9</td>\n",
       "      <td>117.8</td>\n",
       "      <td>1</td>\n",
       "    </tr>\n",
       "    <tr>\n",
       "      <th>2016</th>\n",
       "      <td>1075.0</td>\n",
       "      <td>955.0</td>\n",
       "      <td>1140.0</td>\n",
       "      <td>1000.0</td>\n",
       "      <td>1350.0</td>\n",
       "      <td>590.0</td>\n",
       "      <td>600.0</td>\n",
       "      <td>600.0</td>\n",
       "      <td>560.0</td>\n",
       "      <td>550.0</td>\n",
       "      <td>...</td>\n",
       "      <td>0.25</td>\n",
       "      <td>0.25</td>\n",
       "      <td>0.15625</td>\n",
       "      <td>0.1</td>\n",
       "      <td>116.0</td>\n",
       "      <td>116.2</td>\n",
       "      <td>116.2</td>\n",
       "      <td>116.9</td>\n",
       "      <td>117.8</td>\n",
       "      <td>1</td>\n",
       "    </tr>\n",
       "    <tr>\n",
       "      <th>2019</th>\n",
       "      <td>919.0</td>\n",
       "      <td>810.0</td>\n",
       "      <td>877.0</td>\n",
       "      <td>895.0</td>\n",
       "      <td>960.0</td>\n",
       "      <td>610.0</td>\n",
       "      <td>590.0</td>\n",
       "      <td>550.0</td>\n",
       "      <td>550.0</td>\n",
       "      <td>580.0</td>\n",
       "      <td>...</td>\n",
       "      <td>0.25</td>\n",
       "      <td>0.25</td>\n",
       "      <td>0.15625</td>\n",
       "      <td>0.1</td>\n",
       "      <td>116.0</td>\n",
       "      <td>116.2</td>\n",
       "      <td>116.2</td>\n",
       "      <td>116.9</td>\n",
       "      <td>117.8</td>\n",
       "      <td>1</td>\n",
       "    </tr>\n",
       "    <tr>\n",
       "      <th>...</th>\n",
       "      <td>...</td>\n",
       "      <td>...</td>\n",
       "      <td>...</td>\n",
       "      <td>...</td>\n",
       "      <td>...</td>\n",
       "      <td>...</td>\n",
       "      <td>...</td>\n",
       "      <td>...</td>\n",
       "      <td>...</td>\n",
       "      <td>...</td>\n",
       "      <td>...</td>\n",
       "      <td>...</td>\n",
       "      <td>...</td>\n",
       "      <td>...</td>\n",
       "      <td>...</td>\n",
       "      <td>...</td>\n",
       "      <td>...</td>\n",
       "      <td>...</td>\n",
       "      <td>...</td>\n",
       "      <td>...</td>\n",
       "      <td>...</td>\n",
       "    </tr>\n",
       "    <tr>\n",
       "      <th>2876</th>\n",
       "      <td>705.0</td>\n",
       "      <td>725.0</td>\n",
       "      <td>724.0</td>\n",
       "      <td>733.0</td>\n",
       "      <td>760.5</td>\n",
       "      <td>450.0</td>\n",
       "      <td>450.0</td>\n",
       "      <td>450.0</td>\n",
       "      <td>450.0</td>\n",
       "      <td>450.0</td>\n",
       "      <td>...</td>\n",
       "      <td>0.25</td>\n",
       "      <td>0.25</td>\n",
       "      <td>0.15625</td>\n",
       "      <td>0.1</td>\n",
       "      <td>116.0</td>\n",
       "      <td>116.2</td>\n",
       "      <td>116.2</td>\n",
       "      <td>116.9</td>\n",
       "      <td>117.8</td>\n",
       "      <td>1</td>\n",
       "    </tr>\n",
       "    <tr>\n",
       "      <th>2877</th>\n",
       "      <td>705.0</td>\n",
       "      <td>725.0</td>\n",
       "      <td>195.0</td>\n",
       "      <td>220.0</td>\n",
       "      <td>195.0</td>\n",
       "      <td>250.0</td>\n",
       "      <td>245.0</td>\n",
       "      <td>250.0</td>\n",
       "      <td>450.0</td>\n",
       "      <td>220.0</td>\n",
       "      <td>...</td>\n",
       "      <td>0.25</td>\n",
       "      <td>0.25</td>\n",
       "      <td>0.15625</td>\n",
       "      <td>0.1</td>\n",
       "      <td>116.0</td>\n",
       "      <td>116.2</td>\n",
       "      <td>116.2</td>\n",
       "      <td>116.9</td>\n",
       "      <td>117.8</td>\n",
       "      <td>1</td>\n",
       "    </tr>\n",
       "    <tr>\n",
       "      <th>2878</th>\n",
       "      <td>705.0</td>\n",
       "      <td>725.0</td>\n",
       "      <td>724.0</td>\n",
       "      <td>733.0</td>\n",
       "      <td>760.5</td>\n",
       "      <td>450.0</td>\n",
       "      <td>450.0</td>\n",
       "      <td>450.0</td>\n",
       "      <td>450.0</td>\n",
       "      <td>450.0</td>\n",
       "      <td>...</td>\n",
       "      <td>0.25</td>\n",
       "      <td>0.25</td>\n",
       "      <td>0.15625</td>\n",
       "      <td>0.1</td>\n",
       "      <td>116.0</td>\n",
       "      <td>116.2</td>\n",
       "      <td>116.2</td>\n",
       "      <td>116.9</td>\n",
       "      <td>117.8</td>\n",
       "      <td>1</td>\n",
       "    </tr>\n",
       "    <tr>\n",
       "      <th>2879</th>\n",
       "      <td>705.0</td>\n",
       "      <td>725.0</td>\n",
       "      <td>724.0</td>\n",
       "      <td>733.0</td>\n",
       "      <td>760.5</td>\n",
       "      <td>450.0</td>\n",
       "      <td>450.0</td>\n",
       "      <td>450.0</td>\n",
       "      <td>450.0</td>\n",
       "      <td>450.0</td>\n",
       "      <td>...</td>\n",
       "      <td>0.25</td>\n",
       "      <td>0.25</td>\n",
       "      <td>0.15625</td>\n",
       "      <td>0.1</td>\n",
       "      <td>116.0</td>\n",
       "      <td>116.2</td>\n",
       "      <td>116.2</td>\n",
       "      <td>116.9</td>\n",
       "      <td>117.8</td>\n",
       "      <td>1</td>\n",
       "    </tr>\n",
       "    <tr>\n",
       "      <th>2880</th>\n",
       "      <td>125.0</td>\n",
       "      <td>130.0</td>\n",
       "      <td>126.0</td>\n",
       "      <td>123.0</td>\n",
       "      <td>120.0</td>\n",
       "      <td>260.0</td>\n",
       "      <td>230.0</td>\n",
       "      <td>250.0</td>\n",
       "      <td>250.0</td>\n",
       "      <td>270.0</td>\n",
       "      <td>...</td>\n",
       "      <td>0.25</td>\n",
       "      <td>0.25</td>\n",
       "      <td>0.15625</td>\n",
       "      <td>0.1</td>\n",
       "      <td>116.0</td>\n",
       "      <td>116.2</td>\n",
       "      <td>116.2</td>\n",
       "      <td>116.9</td>\n",
       "      <td>117.8</td>\n",
       "      <td>1</td>\n",
       "    </tr>\n",
       "  </tbody>\n",
       "</table>\n",
       "<p>443 rows × 72 columns</p>\n",
       "</div>"
      ],
      "text/plain": [
       "          median_price 2020 Q1  median_price 2020 Q2  median_price 2020 Q3  \\\n",
       "postcode                                                                     \n",
       "2007                     745.0                 775.0                 655.0   \n",
       "2009                     986.0                1100.0                1085.0   \n",
       "2015                     887.0                 988.0                 923.0   \n",
       "2016                    1075.0                 955.0                1140.0   \n",
       "2019                     919.0                 810.0                 877.0   \n",
       "...                        ...                   ...                   ...   \n",
       "2876                     705.0                 725.0                 724.0   \n",
       "2877                     705.0                 725.0                 195.0   \n",
       "2878                     705.0                 725.0                 724.0   \n",
       "2879                     705.0                 725.0                 724.0   \n",
       "2880                     125.0                 130.0                 126.0   \n",
       "\n",
       "          median_price 2020 Q4  median_price 2021 Q1  \\\n",
       "postcode                                               \n",
       "2007                     651.0                 763.0   \n",
       "2009                    1075.0                1188.0   \n",
       "2015                     918.0                 925.0   \n",
       "2016                    1000.0                1350.0   \n",
       "2019                     895.0                 960.0   \n",
       "...                        ...                   ...   \n",
       "2876                     733.0                 760.5   \n",
       "2877                     220.0                 195.0   \n",
       "2878                     733.0                 760.5   \n",
       "2879                     733.0                 760.5   \n",
       "2880                     123.0                 120.0   \n",
       "\n",
       "          median_rent_newb 2020 Q1  median_rent_newb 2020 Q2  \\\n",
       "postcode                                                       \n",
       "2007                         550.0                     560.0   \n",
       "2009                         700.0                     580.0   \n",
       "2015                         640.0                     590.0   \n",
       "2016                         590.0                     600.0   \n",
       "2019                         610.0                     590.0   \n",
       "...                            ...                       ...   \n",
       "2876                         450.0                     450.0   \n",
       "2877                         250.0                     245.0   \n",
       "2878                         450.0                     450.0   \n",
       "2879                         450.0                     450.0   \n",
       "2880                         260.0                     230.0   \n",
       "\n",
       "          median_rent_newb 2020 Q3  median_rent_newb 2020 Q4  \\\n",
       "postcode                                                       \n",
       "2007                         500.0                     480.0   \n",
       "2009                         595.0                     550.0   \n",
       "2015                         570.0                     550.0   \n",
       "2016                         600.0                     560.0   \n",
       "2019                         550.0                     550.0   \n",
       "...                            ...                       ...   \n",
       "2876                         450.0                     450.0   \n",
       "2877                         250.0                     450.0   \n",
       "2878                         450.0                     450.0   \n",
       "2879                         450.0                     450.0   \n",
       "2880                         250.0                     250.0   \n",
       "\n",
       "          median_rent_newb 2021 Q1  ...  Rate 2020 Q2  Rate 2020 Q3  \\\n",
       "postcode                            ...                               \n",
       "2007                         455.0  ...          0.25          0.25   \n",
       "2009                         600.0  ...          0.25          0.25   \n",
       "2015                         573.0  ...          0.25          0.25   \n",
       "2016                         550.0  ...          0.25          0.25   \n",
       "2019                         580.0  ...          0.25          0.25   \n",
       "...                            ...  ...           ...           ...   \n",
       "2876                         450.0  ...          0.25          0.25   \n",
       "2877                         220.0  ...          0.25          0.25   \n",
       "2878                         450.0  ...          0.25          0.25   \n",
       "2879                         450.0  ...          0.25          0.25   \n",
       "2880                         270.0  ...          0.25          0.25   \n",
       "\n",
       "          Rate 2020 Q4  Rate 2021 Q1  constr_index 2020 Q1  \\\n",
       "postcode                                                     \n",
       "2007           0.15625           0.1                 116.0   \n",
       "2009           0.15625           0.1                 116.0   \n",
       "2015           0.15625           0.1                 116.0   \n",
       "2016           0.15625           0.1                 116.0   \n",
       "2019           0.15625           0.1                 116.0   \n",
       "...                ...           ...                   ...   \n",
       "2876           0.15625           0.1                 116.0   \n",
       "2877           0.15625           0.1                 116.0   \n",
       "2878           0.15625           0.1                 116.0   \n",
       "2879           0.15625           0.1                 116.0   \n",
       "2880           0.15625           0.1                 116.0   \n",
       "\n",
       "          constr_index 2020 Q2  constr_index 2020 Q3  constr_index 2020 Q4  \\\n",
       "postcode                                                                     \n",
       "2007                     116.2                 116.2                 116.9   \n",
       "2009                     116.2                 116.2                 116.9   \n",
       "2015                     116.2                 116.2                 116.9   \n",
       "2016                     116.2                 116.2                 116.9   \n",
       "2019                     116.2                 116.2                 116.9   \n",
       "...                        ...                   ...                   ...   \n",
       "2876                     116.2                 116.2                 116.9   \n",
       "2877                     116.2                 116.2                 116.9   \n",
       "2878                     116.2                 116.2                 116.9   \n",
       "2879                     116.2                 116.2                 116.9   \n",
       "2880                     116.2                 116.2                 116.9   \n",
       "\n",
       "          constr_index 2021 Q1  label_2  \n",
       "postcode                                 \n",
       "2007                     117.8        1  \n",
       "2009                     117.8        1  \n",
       "2015                     117.8        1  \n",
       "2016                     117.8        1  \n",
       "2019                     117.8        1  \n",
       "...                        ...      ...  \n",
       "2876                     117.8        1  \n",
       "2877                     117.8        1  \n",
       "2878                     117.8        1  \n",
       "2879                     117.8        1  \n",
       "2880                     117.8        1  \n",
       "\n",
       "[443 rows x 72 columns]"
      ]
     },
     "execution_count": 39,
     "metadata": {},
     "output_type": "execute_result"
    }
   ],
   "source": [
    "# show cluster 1\n",
    "modelDF[modelDF[\"label_2\"] == 1]"
   ]
  },
  {
   "cell_type": "code",
   "execution_count": 40,
   "id": "250997f9",
   "metadata": {
    "hidden": true
   },
   "outputs": [
    {
     "data": {
      "image/png": "[encoded data removed]",
      "text/plain": [
       "<Figure size 360x360 with 2 Axes>"
      ]
     },
     "metadata": {},
     "output_type": "display_data"
    }
   ],
   "source": [
    "plt.figure(figsize=(5,5))\n",
    "ax=sns.stripplot(data=modelDF, x='label_2', y='median_price 2020 Q1',hue='INCP_HIGH',palette='viridis')\n",
    "\n",
    "# Setting up colorbar\n",
    "norm = plt.Normalize(modelDF['INCP_HIGH'].min(), modelDF['INCP_HIGH'].max())\n",
    "sm = plt.cm.ScalarMappable(cmap=\"viridis\", norm=norm)\n",
    "sm.set_array([])\n",
    "\n",
    "# Remove the legend and add a colorbar\n",
    "ax.get_legend().remove()\n",
    "ax.figure.colorbar(sm,label='Count of High Income')\n",
    "\n",
    "plt.title('Count of High Income Bracket Per Cluster')\n",
    "plt.show()"
   ]
  },
  {
   "cell_type": "code",
   "execution_count": null,
   "id": "9fe4a847",
   "metadata": {
    "hidden": true
   },
   "outputs": [],
   "source": []
  },
  {
   "cell_type": "markdown",
   "id": "2bb07473",
   "metadata": {
    "hidden": true
   },
   "source": [
    "Counter-intuitively, postcodes with the highest count of high weekly income brackets live in __\\\\$1m to \\\\$1.5m homes__. On the other hand, while postcodes with slightly lower count of high income brackets vary in how much the median house price is in ther postcode, there are some with median house prices that go well above \\\\$2m. These are likely very prime locations near the CBD or near the beaches."
   ]
  },
  {
   "cell_type": "code",
   "execution_count": 41,
   "id": "697ec518",
   "metadata": {
    "hidden": true
   },
   "outputs": [
    {
     "data": {
      "text/html": [
       "<div>\n",
       "<style scoped>\n",
       "    .dataframe tbody tr th:only-of-type {\n",
       "        vertical-align: middle;\n",
       "    }\n",
       "\n",
       "    .dataframe tbody tr th {\n",
       "        vertical-align: top;\n",
       "    }\n",
       "\n",
       "    .dataframe thead th {\n",
       "        text-align: right;\n",
       "    }\n",
       "</style>\n",
       "<table border=\"1\" class=\"dataframe\">\n",
       "  <thead>\n",
       "    <tr style=\"text-align: right;\">\n",
       "      <th></th>\n",
       "      <th>median_price 2020 Q1</th>\n",
       "      <th>median_price 2020 Q2</th>\n",
       "      <th>median_price 2020 Q3</th>\n",
       "      <th>median_price 2020 Q4</th>\n",
       "      <th>median_price 2021 Q1</th>\n",
       "      <th>median_rent_newb 2020 Q1</th>\n",
       "      <th>median_rent_newb 2020 Q2</th>\n",
       "      <th>median_rent_newb 2020 Q3</th>\n",
       "      <th>median_rent_newb 2020 Q4</th>\n",
       "      <th>median_rent_newb 2021 Q1</th>\n",
       "      <th>...</th>\n",
       "      <th>Rate 2020 Q2</th>\n",
       "      <th>Rate 2020 Q3</th>\n",
       "      <th>Rate 2020 Q4</th>\n",
       "      <th>Rate 2021 Q1</th>\n",
       "      <th>constr_index 2020 Q1</th>\n",
       "      <th>constr_index 2020 Q2</th>\n",
       "      <th>constr_index 2020 Q3</th>\n",
       "      <th>constr_index 2020 Q4</th>\n",
       "      <th>constr_index 2021 Q1</th>\n",
       "      <th>label_2</th>\n",
       "    </tr>\n",
       "    <tr>\n",
       "      <th>postcode</th>\n",
       "      <th></th>\n",
       "      <th></th>\n",
       "      <th></th>\n",
       "      <th></th>\n",
       "      <th></th>\n",
       "      <th></th>\n",
       "      <th></th>\n",
       "      <th></th>\n",
       "      <th></th>\n",
       "      <th></th>\n",
       "      <th></th>\n",
       "      <th></th>\n",
       "      <th></th>\n",
       "      <th></th>\n",
       "      <th></th>\n",
       "      <th></th>\n",
       "      <th></th>\n",
       "      <th></th>\n",
       "      <th></th>\n",
       "      <th></th>\n",
       "      <th></th>\n",
       "    </tr>\n",
       "  </thead>\n",
       "  <tbody>\n",
       "    <tr>\n",
       "      <th>2025</th>\n",
       "      <td>2700.0</td>\n",
       "      <td>2200.0</td>\n",
       "      <td>2000.0</td>\n",
       "      <td>2240.0</td>\n",
       "      <td>2040.0</td>\n",
       "      <td>740.0</td>\n",
       "      <td>690.0</td>\n",
       "      <td>720.0</td>\n",
       "      <td>650.0</td>\n",
       "      <td>650.0</td>\n",
       "      <td>...</td>\n",
       "      <td>0.25</td>\n",
       "      <td>0.25</td>\n",
       "      <td>0.15625</td>\n",
       "      <td>0.1</td>\n",
       "      <td>116.0</td>\n",
       "      <td>116.2</td>\n",
       "      <td>116.2</td>\n",
       "      <td>116.9</td>\n",
       "      <td>117.8</td>\n",
       "      <td>1</td>\n",
       "    </tr>\n",
       "    <tr>\n",
       "      <th>2030</th>\n",
       "      <td>2725.0</td>\n",
       "      <td>2950.0</td>\n",
       "      <td>2513.0</td>\n",
       "      <td>3100.0</td>\n",
       "      <td>3710.0</td>\n",
       "      <td>780.0</td>\n",
       "      <td>750.0</td>\n",
       "      <td>745.0</td>\n",
       "      <td>690.0</td>\n",
       "      <td>750.0</td>\n",
       "      <td>...</td>\n",
       "      <td>0.25</td>\n",
       "      <td>0.25</td>\n",
       "      <td>0.15625</td>\n",
       "      <td>0.1</td>\n",
       "      <td>116.0</td>\n",
       "      <td>116.2</td>\n",
       "      <td>116.2</td>\n",
       "      <td>116.9</td>\n",
       "      <td>117.8</td>\n",
       "      <td>1</td>\n",
       "    </tr>\n",
       "    <tr>\n",
       "      <th>2045</th>\n",
       "      <td>2050.0</td>\n",
       "      <td>725.0</td>\n",
       "      <td>2100.0</td>\n",
       "      <td>2540.0</td>\n",
       "      <td>2860.0</td>\n",
       "      <td>600.0</td>\n",
       "      <td>580.0</td>\n",
       "      <td>530.0</td>\n",
       "      <td>515.0</td>\n",
       "      <td>573.0</td>\n",
       "      <td>...</td>\n",
       "      <td>0.25</td>\n",
       "      <td>0.25</td>\n",
       "      <td>0.15625</td>\n",
       "      <td>0.1</td>\n",
       "      <td>116.0</td>\n",
       "      <td>116.2</td>\n",
       "      <td>116.2</td>\n",
       "      <td>116.9</td>\n",
       "      <td>117.8</td>\n",
       "      <td>1</td>\n",
       "    </tr>\n",
       "    <tr>\n",
       "      <th>2063</th>\n",
       "      <td>2820.0</td>\n",
       "      <td>725.0</td>\n",
       "      <td>3881.0</td>\n",
       "      <td>3080.0</td>\n",
       "      <td>2613.0</td>\n",
       "      <td>750.0</td>\n",
       "      <td>750.0</td>\n",
       "      <td>850.0</td>\n",
       "      <td>800.0</td>\n",
       "      <td>823.0</td>\n",
       "      <td>...</td>\n",
       "      <td>0.25</td>\n",
       "      <td>0.25</td>\n",
       "      <td>0.15625</td>\n",
       "      <td>0.1</td>\n",
       "      <td>116.0</td>\n",
       "      <td>116.2</td>\n",
       "      <td>116.2</td>\n",
       "      <td>116.9</td>\n",
       "      <td>117.8</td>\n",
       "      <td>1</td>\n",
       "    </tr>\n",
       "    <tr>\n",
       "      <th>2068</th>\n",
       "      <td>2490.0</td>\n",
       "      <td>2440.0</td>\n",
       "      <td>2390.0</td>\n",
       "      <td>2305.0</td>\n",
       "      <td>2659.0</td>\n",
       "      <td>775.0</td>\n",
       "      <td>600.0</td>\n",
       "      <td>595.0</td>\n",
       "      <td>600.0</td>\n",
       "      <td>650.0</td>\n",
       "      <td>...</td>\n",
       "      <td>0.25</td>\n",
       "      <td>0.25</td>\n",
       "      <td>0.15625</td>\n",
       "      <td>0.1</td>\n",
       "      <td>116.0</td>\n",
       "      <td>116.2</td>\n",
       "      <td>116.2</td>\n",
       "      <td>116.9</td>\n",
       "      <td>117.8</td>\n",
       "      <td>1</td>\n",
       "    </tr>\n",
       "    <tr>\n",
       "      <th>2069</th>\n",
       "      <td>2370.0</td>\n",
       "      <td>2245.0</td>\n",
       "      <td>2600.0</td>\n",
       "      <td>2750.0</td>\n",
       "      <td>2510.0</td>\n",
       "      <td>635.0</td>\n",
       "      <td>610.0</td>\n",
       "      <td>610.0</td>\n",
       "      <td>600.0</td>\n",
       "      <td>570.0</td>\n",
       "      <td>...</td>\n",
       "      <td>0.25</td>\n",
       "      <td>0.25</td>\n",
       "      <td>0.15625</td>\n",
       "      <td>0.1</td>\n",
       "      <td>116.0</td>\n",
       "      <td>116.2</td>\n",
       "      <td>116.2</td>\n",
       "      <td>116.9</td>\n",
       "      <td>117.8</td>\n",
       "      <td>1</td>\n",
       "    </tr>\n",
       "    <tr>\n",
       "      <th>2070</th>\n",
       "      <td>2158.0</td>\n",
       "      <td>1970.0</td>\n",
       "      <td>1905.0</td>\n",
       "      <td>2250.0</td>\n",
       "      <td>2488.0</td>\n",
       "      <td>760.0</td>\n",
       "      <td>620.0</td>\n",
       "      <td>613.0</td>\n",
       "      <td>563.0</td>\n",
       "      <td>690.0</td>\n",
       "      <td>...</td>\n",
       "      <td>0.25</td>\n",
       "      <td>0.25</td>\n",
       "      <td>0.15625</td>\n",
       "      <td>0.1</td>\n",
       "      <td>116.0</td>\n",
       "      <td>116.2</td>\n",
       "      <td>116.2</td>\n",
       "      <td>116.9</td>\n",
       "      <td>117.8</td>\n",
       "      <td>1</td>\n",
       "    </tr>\n",
       "    <tr>\n",
       "      <th>2092</th>\n",
       "      <td>2700.0</td>\n",
       "      <td>2170.0</td>\n",
       "      <td>3018.0</td>\n",
       "      <td>3115.0</td>\n",
       "      <td>3000.0</td>\n",
       "      <td>1000.0</td>\n",
       "      <td>1000.0</td>\n",
       "      <td>975.0</td>\n",
       "      <td>1245.0</td>\n",
       "      <td>1200.0</td>\n",
       "      <td>...</td>\n",
       "      <td>0.25</td>\n",
       "      <td>0.25</td>\n",
       "      <td>0.15625</td>\n",
       "      <td>0.1</td>\n",
       "      <td>116.0</td>\n",
       "      <td>116.2</td>\n",
       "      <td>116.2</td>\n",
       "      <td>116.9</td>\n",
       "      <td>117.8</td>\n",
       "      <td>1</td>\n",
       "    </tr>\n",
       "    <tr>\n",
       "      <th>2107</th>\n",
       "      <td>2100.0</td>\n",
       "      <td>1700.0</td>\n",
       "      <td>1923.0</td>\n",
       "      <td>2300.0</td>\n",
       "      <td>2798.0</td>\n",
       "      <td>778.0</td>\n",
       "      <td>778.0</td>\n",
       "      <td>650.0</td>\n",
       "      <td>850.0</td>\n",
       "      <td>900.0</td>\n",
       "      <td>...</td>\n",
       "      <td>0.25</td>\n",
       "      <td>0.25</td>\n",
       "      <td>0.15625</td>\n",
       "      <td>0.1</td>\n",
       "      <td>116.0</td>\n",
       "      <td>116.2</td>\n",
       "      <td>116.2</td>\n",
       "      <td>116.9</td>\n",
       "      <td>117.8</td>\n",
       "      <td>1</td>\n",
       "    </tr>\n",
       "    <tr>\n",
       "      <th>2110</th>\n",
       "      <td>2900.0</td>\n",
       "      <td>2288.0</td>\n",
       "      <td>2570.0</td>\n",
       "      <td>2710.0</td>\n",
       "      <td>2400.0</td>\n",
       "      <td>700.0</td>\n",
       "      <td>668.0</td>\n",
       "      <td>800.0</td>\n",
       "      <td>680.0</td>\n",
       "      <td>650.0</td>\n",
       "      <td>...</td>\n",
       "      <td>0.25</td>\n",
       "      <td>0.25</td>\n",
       "      <td>0.15625</td>\n",
       "      <td>0.1</td>\n",
       "      <td>116.0</td>\n",
       "      <td>116.2</td>\n",
       "      <td>116.2</td>\n",
       "      <td>116.9</td>\n",
       "      <td>117.8</td>\n",
       "      <td>1</td>\n",
       "    </tr>\n",
       "  </tbody>\n",
       "</table>\n",
       "<p>10 rows × 72 columns</p>\n",
       "</div>"
      ],
      "text/plain": [
       "          median_price 2020 Q1  median_price 2020 Q2  median_price 2020 Q3  \\\n",
       "postcode                                                                     \n",
       "2025                    2700.0                2200.0                2000.0   \n",
       "2030                    2725.0                2950.0                2513.0   \n",
       "2045                    2050.0                 725.0                2100.0   \n",
       "2063                    2820.0                 725.0                3881.0   \n",
       "2068                    2490.0                2440.0                2390.0   \n",
       "2069                    2370.0                2245.0                2600.0   \n",
       "2070                    2158.0                1970.0                1905.0   \n",
       "2092                    2700.0                2170.0                3018.0   \n",
       "2107                    2100.0                1700.0                1923.0   \n",
       "2110                    2900.0                2288.0                2570.0   \n",
       "\n",
       "          median_price 2020 Q4  median_price 2021 Q1  \\\n",
       "postcode                                               \n",
       "2025                    2240.0                2040.0   \n",
       "2030                    3100.0                3710.0   \n",
       "2045                    2540.0                2860.0   \n",
       "2063                    3080.0                2613.0   \n",
       "2068                    2305.0                2659.0   \n",
       "2069                    2750.0                2510.0   \n",
       "2070                    2250.0                2488.0   \n",
       "2092                    3115.0                3000.0   \n",
       "2107                    2300.0                2798.0   \n",
       "2110                    2710.0                2400.0   \n",
       "\n",
       "          median_rent_newb 2020 Q1  median_rent_newb 2020 Q2  \\\n",
       "postcode                                                       \n",
       "2025                         740.0                     690.0   \n",
       "2030                         780.0                     750.0   \n",
       "2045                         600.0                     580.0   \n",
       "2063                         750.0                     750.0   \n",
       "2068                         775.0                     600.0   \n",
       "2069                         635.0                     610.0   \n",
       "2070                         760.0                     620.0   \n",
       "2092                        1000.0                    1000.0   \n",
       "2107                         778.0                     778.0   \n",
       "2110                         700.0                     668.0   \n",
       "\n",
       "          median_rent_newb 2020 Q3  median_rent_newb 2020 Q4  \\\n",
       "postcode                                                       \n",
       "2025                         720.0                     650.0   \n",
       "2030                         745.0                     690.0   \n",
       "2045                         530.0                     515.0   \n",
       "2063                         850.0                     800.0   \n",
       "2068                         595.0                     600.0   \n",
       "2069                         610.0                     600.0   \n",
       "2070                         613.0                     563.0   \n",
       "2092                         975.0                    1245.0   \n",
       "2107                         650.0                     850.0   \n",
       "2110                         800.0                     680.0   \n",
       "\n",
       "          median_rent_newb 2021 Q1  ...  Rate 2020 Q2  Rate 2020 Q3  \\\n",
       "postcode                            ...                               \n",
       "2025                         650.0  ...          0.25          0.25   \n",
       "2030                         750.0  ...          0.25          0.25   \n",
       "2045                         573.0  ...          0.25          0.25   \n",
       "2063                         823.0  ...          0.25          0.25   \n",
       "2068                         650.0  ...          0.25          0.25   \n",
       "2069                         570.0  ...          0.25          0.25   \n",
       "2070                         690.0  ...          0.25          0.25   \n",
       "2092                        1200.0  ...          0.25          0.25   \n",
       "2107                         900.0  ...          0.25          0.25   \n",
       "2110                         650.0  ...          0.25          0.25   \n",
       "\n",
       "          Rate 2020 Q4  Rate 2021 Q1  constr_index 2020 Q1  \\\n",
       "postcode                                                     \n",
       "2025           0.15625           0.1                 116.0   \n",
       "2030           0.15625           0.1                 116.0   \n",
       "2045           0.15625           0.1                 116.0   \n",
       "2063           0.15625           0.1                 116.0   \n",
       "2068           0.15625           0.1                 116.0   \n",
       "2069           0.15625           0.1                 116.0   \n",
       "2070           0.15625           0.1                 116.0   \n",
       "2092           0.15625           0.1                 116.0   \n",
       "2107           0.15625           0.1                 116.0   \n",
       "2110           0.15625           0.1                 116.0   \n",
       "\n",
       "          constr_index 2020 Q2  constr_index 2020 Q3  constr_index 2020 Q4  \\\n",
       "postcode                                                                     \n",
       "2025                     116.2                 116.2                 116.9   \n",
       "2030                     116.2                 116.2                 116.9   \n",
       "2045                     116.2                 116.2                 116.9   \n",
       "2063                     116.2                 116.2                 116.9   \n",
       "2068                     116.2                 116.2                 116.9   \n",
       "2069                     116.2                 116.2                 116.9   \n",
       "2070                     116.2                 116.2                 116.9   \n",
       "2092                     116.2                 116.2                 116.9   \n",
       "2107                     116.2                 116.2                 116.9   \n",
       "2110                     116.2                 116.2                 116.9   \n",
       "\n",
       "          constr_index 2021 Q1  label_2  \n",
       "postcode                                 \n",
       "2025                     117.8        1  \n",
       "2030                     117.8        1  \n",
       "2045                     117.8        1  \n",
       "2063                     117.8        1  \n",
       "2068                     117.8        1  \n",
       "2069                     117.8        1  \n",
       "2070                     117.8        1  \n",
       "2092                     117.8        1  \n",
       "2107                     117.8        1  \n",
       "2110                     117.8        1  \n",
       "\n",
       "[10 rows x 72 columns]"
      ]
     },
     "execution_count": 41,
     "metadata": {},
     "output_type": "execute_result"
    }
   ],
   "source": [
    "modelDF.loc[modelDF['median_price 2020 Q1']>2000]"
   ]
  },
  {
   "cell_type": "markdown",
   "id": "3c612d9a",
   "metadata": {
    "heading_collapsed": true
   },
   "source": [
    "## Hierarchical clustering"
   ]
  },
  {
   "cell_type": "markdown",
   "id": "4e6412d8",
   "metadata": {
    "hidden": true
   },
   "source": [
    "In the following, it will be checked whether results appear to be more reasonable when applying agglomerative clustering."
   ]
  },
  {
   "cell_type": "code",
   "execution_count": 42,
   "id": "f2d2ccd7",
   "metadata": {
    "hidden": true
   },
   "outputs": [],
   "source": [
    "modelDF = pd.read_csv(\"Files/Cleaned/Postcode-based/Unstacked_Sales_Rent_5Quarters_Imputed_pcFeatures.csv\",\n",
    "                     index_col=\"postcode\")\n",
    "\n",
    "modelDF = modelDF.drop([\"mean_price 2020 Q1\", \"mean_price 2020 Q2\", \"mean_price 2020 Q3\",\n",
    "                        \"mean_price 2020 Q4\", \"mean_price 2021 Q1\"],\n",
    "                      axis=1)"
   ]
  },
  {
   "cell_type": "code",
   "execution_count": 43,
   "id": "2bc41628",
   "metadata": {
    "hidden": true
   },
   "outputs": [
    {
     "data": {
      "text/html": [
       "<div>\n",
       "<style scoped>\n",
       "    .dataframe tbody tr th:only-of-type {\n",
       "        vertical-align: middle;\n",
       "    }\n",
       "\n",
       "    .dataframe tbody tr th {\n",
       "        vertical-align: top;\n",
       "    }\n",
       "\n",
       "    .dataframe thead th {\n",
       "        text-align: right;\n",
       "    }\n",
       "</style>\n",
       "<table border=\"1\" class=\"dataframe\">\n",
       "  <thead>\n",
       "    <tr style=\"text-align: right;\">\n",
       "      <th></th>\n",
       "      <th>median_price 2020 Q1</th>\n",
       "      <th>median_price 2020 Q2</th>\n",
       "      <th>median_price 2020 Q3</th>\n",
       "      <th>median_price 2020 Q4</th>\n",
       "      <th>median_price 2021 Q1</th>\n",
       "      <th>median_rent_newb 2020 Q1</th>\n",
       "      <th>median_rent_newb 2020 Q2</th>\n",
       "      <th>median_rent_newb 2020 Q3</th>\n",
       "      <th>median_rent_newb 2020 Q4</th>\n",
       "      <th>median_rent_newb 2021 Q1</th>\n",
       "      <th>...</th>\n",
       "      <th>Rate 2020 Q1</th>\n",
       "      <th>Rate 2020 Q2</th>\n",
       "      <th>Rate 2020 Q3</th>\n",
       "      <th>Rate 2020 Q4</th>\n",
       "      <th>Rate 2021 Q1</th>\n",
       "      <th>constr_index 2020 Q1</th>\n",
       "      <th>constr_index 2020 Q2</th>\n",
       "      <th>constr_index 2020 Q3</th>\n",
       "      <th>constr_index 2020 Q4</th>\n",
       "      <th>constr_index 2021 Q1</th>\n",
       "    </tr>\n",
       "    <tr>\n",
       "      <th>postcode</th>\n",
       "      <th></th>\n",
       "      <th></th>\n",
       "      <th></th>\n",
       "      <th></th>\n",
       "      <th></th>\n",
       "      <th></th>\n",
       "      <th></th>\n",
       "      <th></th>\n",
       "      <th></th>\n",
       "      <th></th>\n",
       "      <th></th>\n",
       "      <th></th>\n",
       "      <th></th>\n",
       "      <th></th>\n",
       "      <th></th>\n",
       "      <th></th>\n",
       "      <th></th>\n",
       "      <th></th>\n",
       "      <th></th>\n",
       "      <th></th>\n",
       "      <th></th>\n",
       "    </tr>\n",
       "  </thead>\n",
       "  <tbody>\n",
       "    <tr>\n",
       "      <th>2000</th>\n",
       "      <td>1.066866</td>\n",
       "      <td>0.489395</td>\n",
       "      <td>1.256337</td>\n",
       "      <td>0.567324</td>\n",
       "      <td>1.019112</td>\n",
       "      <td>1.816296</td>\n",
       "      <td>1.445116</td>\n",
       "      <td>1.311699</td>\n",
       "      <td>0.754714</td>\n",
       "      <td>1.078653</td>\n",
       "      <td>...</td>\n",
       "      <td>0.0</td>\n",
       "      <td>0.0</td>\n",
       "      <td>0.0</td>\n",
       "      <td>0.0</td>\n",
       "      <td>1.0</td>\n",
       "      <td>0.0</td>\n",
       "      <td>-1.0</td>\n",
       "      <td>-1.0</td>\n",
       "      <td>1.0</td>\n",
       "      <td>1.0</td>\n",
       "    </tr>\n",
       "    <tr>\n",
       "      <th>2007</th>\n",
       "      <td>-0.129141</td>\n",
       "      <td>-0.071472</td>\n",
       "      <td>-0.338995</td>\n",
       "      <td>-0.388276</td>\n",
       "      <td>-0.204090</td>\n",
       "      <td>0.660511</td>\n",
       "      <td>0.866111</td>\n",
       "      <td>0.431879</td>\n",
       "      <td>0.169586</td>\n",
       "      <td>-0.098496</td>\n",
       "      <td>...</td>\n",
       "      <td>0.0</td>\n",
       "      <td>0.0</td>\n",
       "      <td>0.0</td>\n",
       "      <td>0.0</td>\n",
       "      <td>1.0</td>\n",
       "      <td>0.0</td>\n",
       "      <td>-1.0</td>\n",
       "      <td>-1.0</td>\n",
       "      <td>1.0</td>\n",
       "      <td>1.0</td>\n",
       "    </tr>\n",
       "    <tr>\n",
       "      <th>2008</th>\n",
       "      <td>-0.116683</td>\n",
       "      <td>0.920639</td>\n",
       "      <td>0.171077</td>\n",
       "      <td>0.319576</td>\n",
       "      <td>-0.019000</td>\n",
       "      <td>1.007247</td>\n",
       "      <td>0.659323</td>\n",
       "      <td>0.695825</td>\n",
       "      <td>0.253176</td>\n",
       "      <td>0.266826</td>\n",
       "      <td>...</td>\n",
       "      <td>0.0</td>\n",
       "      <td>0.0</td>\n",
       "      <td>0.0</td>\n",
       "      <td>0.0</td>\n",
       "      <td>1.0</td>\n",
       "      <td>0.0</td>\n",
       "      <td>-1.0</td>\n",
       "      <td>-1.0</td>\n",
       "      <td>1.0</td>\n",
       "      <td>1.0</td>\n",
       "    </tr>\n",
       "    <tr>\n",
       "      <th>2009</th>\n",
       "      <td>0.471354</td>\n",
       "      <td>0.738669</td>\n",
       "      <td>0.594328</td>\n",
       "      <td>0.494457</td>\n",
       "      <td>0.650944</td>\n",
       "      <td>1.816296</td>\n",
       "      <td>1.031541</td>\n",
       "      <td>1.267708</td>\n",
       "      <td>0.754714</td>\n",
       "      <td>1.078653</td>\n",
       "      <td>...</td>\n",
       "      <td>0.0</td>\n",
       "      <td>0.0</td>\n",
       "      <td>0.0</td>\n",
       "      <td>0.0</td>\n",
       "      <td>1.0</td>\n",
       "      <td>0.0</td>\n",
       "      <td>-1.0</td>\n",
       "      <td>-1.0</td>\n",
       "      <td>1.0</td>\n",
       "      <td>1.0</td>\n",
       "    </tr>\n",
       "    <tr>\n",
       "      <th>2010</th>\n",
       "      <td>1.203908</td>\n",
       "      <td>1.299536</td>\n",
       "      <td>0.995875</td>\n",
       "      <td>0.837973</td>\n",
       "      <td>0.677098</td>\n",
       "      <td>1.353982</td>\n",
       "      <td>0.990183</td>\n",
       "      <td>0.871789</td>\n",
       "      <td>0.487227</td>\n",
       "      <td>0.469783</td>\n",
       "      <td>...</td>\n",
       "      <td>0.0</td>\n",
       "      <td>0.0</td>\n",
       "      <td>0.0</td>\n",
       "      <td>0.0</td>\n",
       "      <td>1.0</td>\n",
       "      <td>0.0</td>\n",
       "      <td>-1.0</td>\n",
       "      <td>-1.0</td>\n",
       "      <td>1.0</td>\n",
       "      <td>1.0</td>\n",
       "    </tr>\n",
       "  </tbody>\n",
       "</table>\n",
       "<p>5 rows × 71 columns</p>\n",
       "</div>"
      ],
      "text/plain": [
       "          median_price 2020 Q1  median_price 2020 Q2  median_price 2020 Q3  \\\n",
       "postcode                                                                     \n",
       "2000                  1.066866              0.489395              1.256337   \n",
       "2007                 -0.129141             -0.071472             -0.338995   \n",
       "2008                 -0.116683              0.920639              0.171077   \n",
       "2009                  0.471354              0.738669              0.594328   \n",
       "2010                  1.203908              1.299536              0.995875   \n",
       "\n",
       "          median_price 2020 Q4  median_price 2021 Q1  \\\n",
       "postcode                                               \n",
       "2000                  0.567324              1.019112   \n",
       "2007                 -0.388276             -0.204090   \n",
       "2008                  0.319576             -0.019000   \n",
       "2009                  0.494457              0.650944   \n",
       "2010                  0.837973              0.677098   \n",
       "\n",
       "          median_rent_newb 2020 Q1  median_rent_newb 2020 Q2  \\\n",
       "postcode                                                       \n",
       "2000                      1.816296                  1.445116   \n",
       "2007                      0.660511                  0.866111   \n",
       "2008                      1.007247                  0.659323   \n",
       "2009                      1.816296                  1.031541   \n",
       "2010                      1.353982                  0.990183   \n",
       "\n",
       "          median_rent_newb 2020 Q3  median_rent_newb 2020 Q4  \\\n",
       "postcode                                                       \n",
       "2000                      1.311699                  0.754714   \n",
       "2007                      0.431879                  0.169586   \n",
       "2008                      0.695825                  0.253176   \n",
       "2009                      1.267708                  0.754714   \n",
       "2010                      0.871789                  0.487227   \n",
       "\n",
       "          median_rent_newb 2021 Q1  ...  Rate 2020 Q1  Rate 2020 Q2  \\\n",
       "postcode                            ...                               \n",
       "2000                      1.078653  ...           0.0           0.0   \n",
       "2007                     -0.098496  ...           0.0           0.0   \n",
       "2008                      0.266826  ...           0.0           0.0   \n",
       "2009                      1.078653  ...           0.0           0.0   \n",
       "2010                      0.469783  ...           0.0           0.0   \n",
       "\n",
       "          Rate 2020 Q3  Rate 2020 Q4  Rate 2021 Q1  constr_index 2020 Q1  \\\n",
       "postcode                                                                   \n",
       "2000               0.0           0.0           1.0                   0.0   \n",
       "2007               0.0           0.0           1.0                   0.0   \n",
       "2008               0.0           0.0           1.0                   0.0   \n",
       "2009               0.0           0.0           1.0                   0.0   \n",
       "2010               0.0           0.0           1.0                   0.0   \n",
       "\n",
       "          constr_index 2020 Q2  constr_index 2020 Q3  constr_index 2020 Q4  \\\n",
       "postcode                                                                     \n",
       "2000                      -1.0                  -1.0                   1.0   \n",
       "2007                      -1.0                  -1.0                   1.0   \n",
       "2008                      -1.0                  -1.0                   1.0   \n",
       "2009                      -1.0                  -1.0                   1.0   \n",
       "2010                      -1.0                  -1.0                   1.0   \n",
       "\n",
       "          constr_index 2021 Q1  \n",
       "postcode                        \n",
       "2000                       1.0  \n",
       "2007                       1.0  \n",
       "2008                       1.0  \n",
       "2009                       1.0  \n",
       "2010                       1.0  \n",
       "\n",
       "[5 rows x 71 columns]"
      ]
     },
     "execution_count": 43,
     "metadata": {},
     "output_type": "execute_result"
    }
   ],
   "source": [
    "# for retaining column and index names\n",
    "columns = modelDF.columns\n",
    "postcode = modelDF.index\n",
    "\n",
    "# Initialise scaler\n",
    "scaler = StandardScaler() \n",
    "\n",
    "# Transform\n",
    "scaledDF = scaler.fit_transform(modelDF)\n",
    "\n",
    "# Put into a dataframe\n",
    "scaledDF = pd.DataFrame(scaledDF,index=postcode)\n",
    "scaledDF.columns = columns\n",
    "scaledDF.head()"
   ]
  },
  {
   "cell_type": "code",
   "execution_count": 44,
   "id": "2a5b6dee",
   "metadata": {
    "hidden": true
   },
   "outputs": [
    {
     "data": {
      "image/png": "[encoded data removed]",
      "text/plain": [
       "<Figure size 1008x720 with 1 Axes>"
      ]
     },
     "metadata": {},
     "output_type": "display_data"
    }
   ],
   "source": [
    "# Complete linkage\n",
    "plt.figure(figsize=(14,10))\n",
    "mergings = linkage(scaledDF, method=\"ward\", metric='euclidean')\n",
    "dendrogram(mergings, orientation='left')\n",
    "plt.show()"
   ]
  },
  {
   "cell_type": "code",
   "execution_count": 45,
   "id": "550ad767",
   "metadata": {
    "hidden": true
   },
   "outputs": [
    {
     "data": {
      "text/html": [
       "<div>\n",
       "<style scoped>\n",
       "    .dataframe tbody tr th:only-of-type {\n",
       "        vertical-align: middle;\n",
       "    }\n",
       "\n",
       "    .dataframe tbody tr th {\n",
       "        vertical-align: top;\n",
       "    }\n",
       "\n",
       "    .dataframe thead th {\n",
       "        text-align: right;\n",
       "    }\n",
       "</style>\n",
       "<table border=\"1\" class=\"dataframe\">\n",
       "  <thead>\n",
       "    <tr style=\"text-align: right;\">\n",
       "      <th></th>\n",
       "      <th>median_price 2020 Q1</th>\n",
       "      <th>median_price 2020 Q2</th>\n",
       "      <th>median_price 2020 Q3</th>\n",
       "      <th>median_price 2020 Q4</th>\n",
       "      <th>median_price 2021 Q1</th>\n",
       "      <th>median_rent_newb 2020 Q1</th>\n",
       "      <th>median_rent_newb 2020 Q2</th>\n",
       "      <th>median_rent_newb 2020 Q3</th>\n",
       "      <th>median_rent_newb 2020 Q4</th>\n",
       "      <th>median_rent_newb 2021 Q1</th>\n",
       "      <th>...</th>\n",
       "      <th>Rate 2020 Q2</th>\n",
       "      <th>Rate 2020 Q3</th>\n",
       "      <th>Rate 2020 Q4</th>\n",
       "      <th>Rate 2021 Q1</th>\n",
       "      <th>constr_index 2020 Q1</th>\n",
       "      <th>constr_index 2020 Q2</th>\n",
       "      <th>constr_index 2020 Q3</th>\n",
       "      <th>constr_index 2020 Q4</th>\n",
       "      <th>constr_index 2021 Q1</th>\n",
       "      <th>labels</th>\n",
       "    </tr>\n",
       "    <tr>\n",
       "      <th>postcode</th>\n",
       "      <th></th>\n",
       "      <th></th>\n",
       "      <th></th>\n",
       "      <th></th>\n",
       "      <th></th>\n",
       "      <th></th>\n",
       "      <th></th>\n",
       "      <th></th>\n",
       "      <th></th>\n",
       "      <th></th>\n",
       "      <th></th>\n",
       "      <th></th>\n",
       "      <th></th>\n",
       "      <th></th>\n",
       "      <th></th>\n",
       "      <th></th>\n",
       "      <th></th>\n",
       "      <th></th>\n",
       "      <th></th>\n",
       "      <th></th>\n",
       "      <th></th>\n",
       "    </tr>\n",
       "  </thead>\n",
       "  <tbody>\n",
       "    <tr>\n",
       "      <th>2000</th>\n",
       "      <td>1225.0</td>\n",
       "      <td>1000.0</td>\n",
       "      <td>1390.0</td>\n",
       "      <td>1110.0</td>\n",
       "      <td>1371.0</td>\n",
       "      <td>700.0</td>\n",
       "      <td>630.0</td>\n",
       "      <td>600.0</td>\n",
       "      <td>550.0</td>\n",
       "      <td>600.0</td>\n",
       "      <td>...</td>\n",
       "      <td>0.25</td>\n",
       "      <td>0.25</td>\n",
       "      <td>0.15625</td>\n",
       "      <td>0.1</td>\n",
       "      <td>116.0</td>\n",
       "      <td>116.2</td>\n",
       "      <td>116.2</td>\n",
       "      <td>116.9</td>\n",
       "      <td>117.8</td>\n",
       "      <td>0</td>\n",
       "    </tr>\n",
       "    <tr>\n",
       "      <th>2007</th>\n",
       "      <td>745.0</td>\n",
       "      <td>775.0</td>\n",
       "      <td>655.0</td>\n",
       "      <td>651.0</td>\n",
       "      <td>763.0</td>\n",
       "      <td>550.0</td>\n",
       "      <td>560.0</td>\n",
       "      <td>500.0</td>\n",
       "      <td>480.0</td>\n",
       "      <td>455.0</td>\n",
       "      <td>...</td>\n",
       "      <td>0.25</td>\n",
       "      <td>0.25</td>\n",
       "      <td>0.15625</td>\n",
       "      <td>0.1</td>\n",
       "      <td>116.0</td>\n",
       "      <td>116.2</td>\n",
       "      <td>116.2</td>\n",
       "      <td>116.9</td>\n",
       "      <td>117.8</td>\n",
       "      <td>1</td>\n",
       "    </tr>\n",
       "    <tr>\n",
       "      <th>2008</th>\n",
       "      <td>750.0</td>\n",
       "      <td>1173.0</td>\n",
       "      <td>890.0</td>\n",
       "      <td>991.0</td>\n",
       "      <td>855.0</td>\n",
       "      <td>595.0</td>\n",
       "      <td>535.0</td>\n",
       "      <td>530.0</td>\n",
       "      <td>490.0</td>\n",
       "      <td>500.0</td>\n",
       "      <td>...</td>\n",
       "      <td>0.25</td>\n",
       "      <td>0.25</td>\n",
       "      <td>0.15625</td>\n",
       "      <td>0.1</td>\n",
       "      <td>116.0</td>\n",
       "      <td>116.2</td>\n",
       "      <td>116.2</td>\n",
       "      <td>116.9</td>\n",
       "      <td>117.8</td>\n",
       "      <td>0</td>\n",
       "    </tr>\n",
       "    <tr>\n",
       "      <th>2009</th>\n",
       "      <td>986.0</td>\n",
       "      <td>1100.0</td>\n",
       "      <td>1085.0</td>\n",
       "      <td>1075.0</td>\n",
       "      <td>1188.0</td>\n",
       "      <td>700.0</td>\n",
       "      <td>580.0</td>\n",
       "      <td>595.0</td>\n",
       "      <td>550.0</td>\n",
       "      <td>600.0</td>\n",
       "      <td>...</td>\n",
       "      <td>0.25</td>\n",
       "      <td>0.25</td>\n",
       "      <td>0.15625</td>\n",
       "      <td>0.1</td>\n",
       "      <td>116.0</td>\n",
       "      <td>116.2</td>\n",
       "      <td>116.2</td>\n",
       "      <td>116.9</td>\n",
       "      <td>117.8</td>\n",
       "      <td>1</td>\n",
       "    </tr>\n",
       "    <tr>\n",
       "      <th>2010</th>\n",
       "      <td>1280.0</td>\n",
       "      <td>1325.0</td>\n",
       "      <td>1270.0</td>\n",
       "      <td>1240.0</td>\n",
       "      <td>1201.0</td>\n",
       "      <td>640.0</td>\n",
       "      <td>575.0</td>\n",
       "      <td>550.0</td>\n",
       "      <td>518.0</td>\n",
       "      <td>525.0</td>\n",
       "      <td>...</td>\n",
       "      <td>0.25</td>\n",
       "      <td>0.25</td>\n",
       "      <td>0.15625</td>\n",
       "      <td>0.1</td>\n",
       "      <td>116.0</td>\n",
       "      <td>116.2</td>\n",
       "      <td>116.2</td>\n",
       "      <td>116.9</td>\n",
       "      <td>117.8</td>\n",
       "      <td>0</td>\n",
       "    </tr>\n",
       "    <tr>\n",
       "      <th>...</th>\n",
       "      <td>...</td>\n",
       "      <td>...</td>\n",
       "      <td>...</td>\n",
       "      <td>...</td>\n",
       "      <td>...</td>\n",
       "      <td>...</td>\n",
       "      <td>...</td>\n",
       "      <td>...</td>\n",
       "      <td>...</td>\n",
       "      <td>...</td>\n",
       "      <td>...</td>\n",
       "      <td>...</td>\n",
       "      <td>...</td>\n",
       "      <td>...</td>\n",
       "      <td>...</td>\n",
       "      <td>...</td>\n",
       "      <td>...</td>\n",
       "      <td>...</td>\n",
       "      <td>...</td>\n",
       "      <td>...</td>\n",
       "      <td>...</td>\n",
       "    </tr>\n",
       "    <tr>\n",
       "      <th>2876</th>\n",
       "      <td>705.0</td>\n",
       "      <td>725.0</td>\n",
       "      <td>724.0</td>\n",
       "      <td>733.0</td>\n",
       "      <td>760.5</td>\n",
       "      <td>450.0</td>\n",
       "      <td>450.0</td>\n",
       "      <td>450.0</td>\n",
       "      <td>450.0</td>\n",
       "      <td>450.0</td>\n",
       "      <td>...</td>\n",
       "      <td>0.25</td>\n",
       "      <td>0.25</td>\n",
       "      <td>0.15625</td>\n",
       "      <td>0.1</td>\n",
       "      <td>116.0</td>\n",
       "      <td>116.2</td>\n",
       "      <td>116.2</td>\n",
       "      <td>116.9</td>\n",
       "      <td>117.8</td>\n",
       "      <td>2</td>\n",
       "    </tr>\n",
       "    <tr>\n",
       "      <th>2877</th>\n",
       "      <td>705.0</td>\n",
       "      <td>725.0</td>\n",
       "      <td>195.0</td>\n",
       "      <td>220.0</td>\n",
       "      <td>195.0</td>\n",
       "      <td>250.0</td>\n",
       "      <td>245.0</td>\n",
       "      <td>250.0</td>\n",
       "      <td>450.0</td>\n",
       "      <td>220.0</td>\n",
       "      <td>...</td>\n",
       "      <td>0.25</td>\n",
       "      <td>0.25</td>\n",
       "      <td>0.15625</td>\n",
       "      <td>0.1</td>\n",
       "      <td>116.0</td>\n",
       "      <td>116.2</td>\n",
       "      <td>116.2</td>\n",
       "      <td>116.9</td>\n",
       "      <td>117.8</td>\n",
       "      <td>2</td>\n",
       "    </tr>\n",
       "    <tr>\n",
       "      <th>2878</th>\n",
       "      <td>705.0</td>\n",
       "      <td>725.0</td>\n",
       "      <td>724.0</td>\n",
       "      <td>733.0</td>\n",
       "      <td>760.5</td>\n",
       "      <td>450.0</td>\n",
       "      <td>450.0</td>\n",
       "      <td>450.0</td>\n",
       "      <td>450.0</td>\n",
       "      <td>450.0</td>\n",
       "      <td>...</td>\n",
       "      <td>0.25</td>\n",
       "      <td>0.25</td>\n",
       "      <td>0.15625</td>\n",
       "      <td>0.1</td>\n",
       "      <td>116.0</td>\n",
       "      <td>116.2</td>\n",
       "      <td>116.2</td>\n",
       "      <td>116.9</td>\n",
       "      <td>117.8</td>\n",
       "      <td>2</td>\n",
       "    </tr>\n",
       "    <tr>\n",
       "      <th>2879</th>\n",
       "      <td>705.0</td>\n",
       "      <td>725.0</td>\n",
       "      <td>724.0</td>\n",
       "      <td>733.0</td>\n",
       "      <td>760.5</td>\n",
       "      <td>450.0</td>\n",
       "      <td>450.0</td>\n",
       "      <td>450.0</td>\n",
       "      <td>450.0</td>\n",
       "      <td>450.0</td>\n",
       "      <td>...</td>\n",
       "      <td>0.25</td>\n",
       "      <td>0.25</td>\n",
       "      <td>0.15625</td>\n",
       "      <td>0.1</td>\n",
       "      <td>116.0</td>\n",
       "      <td>116.2</td>\n",
       "      <td>116.2</td>\n",
       "      <td>116.9</td>\n",
       "      <td>117.8</td>\n",
       "      <td>2</td>\n",
       "    </tr>\n",
       "    <tr>\n",
       "      <th>2880</th>\n",
       "      <td>125.0</td>\n",
       "      <td>130.0</td>\n",
       "      <td>126.0</td>\n",
       "      <td>123.0</td>\n",
       "      <td>120.0</td>\n",
       "      <td>260.0</td>\n",
       "      <td>230.0</td>\n",
       "      <td>250.0</td>\n",
       "      <td>250.0</td>\n",
       "      <td>270.0</td>\n",
       "      <td>...</td>\n",
       "      <td>0.25</td>\n",
       "      <td>0.25</td>\n",
       "      <td>0.15625</td>\n",
       "      <td>0.1</td>\n",
       "      <td>116.0</td>\n",
       "      <td>116.2</td>\n",
       "      <td>116.2</td>\n",
       "      <td>116.9</td>\n",
       "      <td>117.8</td>\n",
       "      <td>2</td>\n",
       "    </tr>\n",
       "  </tbody>\n",
       "</table>\n",
       "<p>573 rows × 72 columns</p>\n",
       "</div>"
      ],
      "text/plain": [
       "          median_price 2020 Q1  median_price 2020 Q2  median_price 2020 Q3  \\\n",
       "postcode                                                                     \n",
       "2000                    1225.0                1000.0                1390.0   \n",
       "2007                     745.0                 775.0                 655.0   \n",
       "2008                     750.0                1173.0                 890.0   \n",
       "2009                     986.0                1100.0                1085.0   \n",
       "2010                    1280.0                1325.0                1270.0   \n",
       "...                        ...                   ...                   ...   \n",
       "2876                     705.0                 725.0                 724.0   \n",
       "2877                     705.0                 725.0                 195.0   \n",
       "2878                     705.0                 725.0                 724.0   \n",
       "2879                     705.0                 725.0                 724.0   \n",
       "2880                     125.0                 130.0                 126.0   \n",
       "\n",
       "          median_price 2020 Q4  median_price 2021 Q1  \\\n",
       "postcode                                               \n",
       "2000                    1110.0                1371.0   \n",
       "2007                     651.0                 763.0   \n",
       "2008                     991.0                 855.0   \n",
       "2009                    1075.0                1188.0   \n",
       "2010                    1240.0                1201.0   \n",
       "...                        ...                   ...   \n",
       "2876                     733.0                 760.5   \n",
       "2877                     220.0                 195.0   \n",
       "2878                     733.0                 760.5   \n",
       "2879                     733.0                 760.5   \n",
       "2880                     123.0                 120.0   \n",
       "\n",
       "          median_rent_newb 2020 Q1  median_rent_newb 2020 Q2  \\\n",
       "postcode                                                       \n",
       "2000                         700.0                     630.0   \n",
       "2007                         550.0                     560.0   \n",
       "2008                         595.0                     535.0   \n",
       "2009                         700.0                     580.0   \n",
       "2010                         640.0                     575.0   \n",
       "...                            ...                       ...   \n",
       "2876                         450.0                     450.0   \n",
       "2877                         250.0                     245.0   \n",
       "2878                         450.0                     450.0   \n",
       "2879                         450.0                     450.0   \n",
       "2880                         260.0                     230.0   \n",
       "\n",
       "          median_rent_newb 2020 Q3  median_rent_newb 2020 Q4  \\\n",
       "postcode                                                       \n",
       "2000                         600.0                     550.0   \n",
       "2007                         500.0                     480.0   \n",
       "2008                         530.0                     490.0   \n",
       "2009                         595.0                     550.0   \n",
       "2010                         550.0                     518.0   \n",
       "...                            ...                       ...   \n",
       "2876                         450.0                     450.0   \n",
       "2877                         250.0                     450.0   \n",
       "2878                         450.0                     450.0   \n",
       "2879                         450.0                     450.0   \n",
       "2880                         250.0                     250.0   \n",
       "\n",
       "          median_rent_newb 2021 Q1  ...  Rate 2020 Q2  Rate 2020 Q3  \\\n",
       "postcode                            ...                               \n",
       "2000                         600.0  ...          0.25          0.25   \n",
       "2007                         455.0  ...          0.25          0.25   \n",
       "2008                         500.0  ...          0.25          0.25   \n",
       "2009                         600.0  ...          0.25          0.25   \n",
       "2010                         525.0  ...          0.25          0.25   \n",
       "...                            ...  ...           ...           ...   \n",
       "2876                         450.0  ...          0.25          0.25   \n",
       "2877                         220.0  ...          0.25          0.25   \n",
       "2878                         450.0  ...          0.25          0.25   \n",
       "2879                         450.0  ...          0.25          0.25   \n",
       "2880                         270.0  ...          0.25          0.25   \n",
       "\n",
       "          Rate 2020 Q4  Rate 2021 Q1  constr_index 2020 Q1  \\\n",
       "postcode                                                     \n",
       "2000           0.15625           0.1                 116.0   \n",
       "2007           0.15625           0.1                 116.0   \n",
       "2008           0.15625           0.1                 116.0   \n",
       "2009           0.15625           0.1                 116.0   \n",
       "2010           0.15625           0.1                 116.0   \n",
       "...                ...           ...                   ...   \n",
       "2876           0.15625           0.1                 116.0   \n",
       "2877           0.15625           0.1                 116.0   \n",
       "2878           0.15625           0.1                 116.0   \n",
       "2879           0.15625           0.1                 116.0   \n",
       "2880           0.15625           0.1                 116.0   \n",
       "\n",
       "          constr_index 2020 Q2  constr_index 2020 Q3  constr_index 2020 Q4  \\\n",
       "postcode                                                                     \n",
       "2000                     116.2                 116.2                 116.9   \n",
       "2007                     116.2                 116.2                 116.9   \n",
       "2008                     116.2                 116.2                 116.9   \n",
       "2009                     116.2                 116.2                 116.9   \n",
       "2010                     116.2                 116.2                 116.9   \n",
       "...                        ...                   ...                   ...   \n",
       "2876                     116.2                 116.2                 116.9   \n",
       "2877                     116.2                 116.2                 116.9   \n",
       "2878                     116.2                 116.2                 116.9   \n",
       "2879                     116.2                 116.2                 116.9   \n",
       "2880                     116.2                 116.2                 116.9   \n",
       "\n",
       "          constr_index 2021 Q1  labels  \n",
       "postcode                                \n",
       "2000                     117.8       0  \n",
       "2007                     117.8       1  \n",
       "2008                     117.8       0  \n",
       "2009                     117.8       1  \n",
       "2010                     117.8       0  \n",
       "...                        ...     ...  \n",
       "2876                     117.8       2  \n",
       "2877                     117.8       2  \n",
       "2878                     117.8       2  \n",
       "2879                     117.8       2  \n",
       "2880                     117.8       2  \n",
       "\n",
       "[573 rows x 72 columns]"
      ]
     },
     "execution_count": 45,
     "metadata": {},
     "output_type": "execute_result"
    }
   ],
   "source": [
    "hier_labels = cut_tree(mergings,n_clusters=3)\n",
    "modelDF['labels'] = hier_labels\n",
    "modelDF"
   ]
  },
  {
   "cell_type": "code",
   "execution_count": 46,
   "id": "a9ae47a5",
   "metadata": {
    "hidden": true
   },
   "outputs": [
    {
     "data": {
      "text/plain": [
       "2    262\n",
       "1    233\n",
       "0     78\n",
       "Name: labels, dtype: int64"
      ]
     },
     "execution_count": 46,
     "metadata": {},
     "output_type": "execute_result"
    }
   ],
   "source": [
    "modelDF.labels.value_counts()"
   ]
  },
  {
   "cell_type": "code",
   "execution_count": 47,
   "id": "26b96086",
   "metadata": {
    "hidden": true
   },
   "outputs": [
    {
     "data": {
      "image/png": "[encoded data removed]",
      "text/plain": [
       "<Figure size 432x288 with 1 Axes>"
      ]
     },
     "metadata": {},
     "output_type": "display_data"
    }
   ],
   "source": [
    "plt.scatter(x=modelDF['median_price 2020 Q1'], y=modelDF['INCP_HIGH'],c=modelDF['labels'],cmap='cividis',alpha=.6)\n",
    "plt.xlabel('Median House Price')\n",
    "plt.ylabel('Count of High Income Households')\n",
    "plt.title('2020 Q1, Hierarchical clustering');"
   ]
  },
  {
   "cell_type": "code",
   "execution_count": 48,
   "id": "211ccfba",
   "metadata": {
    "hidden": true,
    "scrolled": true
   },
   "outputs": [
    {
     "data": {
      "text/html": [
       "<div>\n",
       "<style scoped>\n",
       "    .dataframe tbody tr th:only-of-type {\n",
       "        vertical-align: middle;\n",
       "    }\n",
       "\n",
       "    .dataframe tbody tr th {\n",
       "        vertical-align: top;\n",
       "    }\n",
       "\n",
       "    .dataframe thead th {\n",
       "        text-align: right;\n",
       "    }\n",
       "</style>\n",
       "<table border=\"1\" class=\"dataframe\">\n",
       "  <thead>\n",
       "    <tr style=\"text-align: right;\">\n",
       "      <th></th>\n",
       "      <th>median_price 2020 Q1</th>\n",
       "      <th>median_price 2020 Q2</th>\n",
       "      <th>median_price 2020 Q3</th>\n",
       "      <th>median_price 2020 Q4</th>\n",
       "      <th>median_price 2021 Q1</th>\n",
       "      <th>median_rent_newb 2020 Q1</th>\n",
       "      <th>median_rent_newb 2020 Q2</th>\n",
       "      <th>median_rent_newb 2020 Q3</th>\n",
       "      <th>median_rent_newb 2020 Q4</th>\n",
       "      <th>median_rent_newb 2021 Q1</th>\n",
       "      <th>...</th>\n",
       "      <th>Rate 2020 Q2</th>\n",
       "      <th>Rate 2020 Q3</th>\n",
       "      <th>Rate 2020 Q4</th>\n",
       "      <th>Rate 2021 Q1</th>\n",
       "      <th>constr_index 2020 Q1</th>\n",
       "      <th>constr_index 2020 Q2</th>\n",
       "      <th>constr_index 2020 Q3</th>\n",
       "      <th>constr_index 2020 Q4</th>\n",
       "      <th>constr_index 2021 Q1</th>\n",
       "      <th>labels</th>\n",
       "    </tr>\n",
       "    <tr>\n",
       "      <th>postcode</th>\n",
       "      <th></th>\n",
       "      <th></th>\n",
       "      <th></th>\n",
       "      <th></th>\n",
       "      <th></th>\n",
       "      <th></th>\n",
       "      <th></th>\n",
       "      <th></th>\n",
       "      <th></th>\n",
       "      <th></th>\n",
       "      <th></th>\n",
       "      <th></th>\n",
       "      <th></th>\n",
       "      <th></th>\n",
       "      <th></th>\n",
       "      <th></th>\n",
       "      <th></th>\n",
       "      <th></th>\n",
       "      <th></th>\n",
       "      <th></th>\n",
       "      <th></th>\n",
       "    </tr>\n",
       "  </thead>\n",
       "  <tbody>\n",
       "    <tr>\n",
       "      <th>2000</th>\n",
       "      <td>1225.0</td>\n",
       "      <td>1000.0</td>\n",
       "      <td>1390.0</td>\n",
       "      <td>1110.0</td>\n",
       "      <td>1371.0</td>\n",
       "      <td>700.0</td>\n",
       "      <td>630.0</td>\n",
       "      <td>600.0</td>\n",
       "      <td>550.0</td>\n",
       "      <td>600.0</td>\n",
       "      <td>...</td>\n",
       "      <td>0.25</td>\n",
       "      <td>0.25</td>\n",
       "      <td>0.15625</td>\n",
       "      <td>0.1</td>\n",
       "      <td>116.0</td>\n",
       "      <td>116.2</td>\n",
       "      <td>116.2</td>\n",
       "      <td>116.9</td>\n",
       "      <td>117.8</td>\n",
       "      <td>0</td>\n",
       "    </tr>\n",
       "    <tr>\n",
       "      <th>2008</th>\n",
       "      <td>750.0</td>\n",
       "      <td>1173.0</td>\n",
       "      <td>890.0</td>\n",
       "      <td>991.0</td>\n",
       "      <td>855.0</td>\n",
       "      <td>595.0</td>\n",
       "      <td>535.0</td>\n",
       "      <td>530.0</td>\n",
       "      <td>490.0</td>\n",
       "      <td>500.0</td>\n",
       "      <td>...</td>\n",
       "      <td>0.25</td>\n",
       "      <td>0.25</td>\n",
       "      <td>0.15625</td>\n",
       "      <td>0.1</td>\n",
       "      <td>116.0</td>\n",
       "      <td>116.2</td>\n",
       "      <td>116.2</td>\n",
       "      <td>116.9</td>\n",
       "      <td>117.8</td>\n",
       "      <td>0</td>\n",
       "    </tr>\n",
       "    <tr>\n",
       "      <th>2010</th>\n",
       "      <td>1280.0</td>\n",
       "      <td>1325.0</td>\n",
       "      <td>1270.0</td>\n",
       "      <td>1240.0</td>\n",
       "      <td>1201.0</td>\n",
       "      <td>640.0</td>\n",
       "      <td>575.0</td>\n",
       "      <td>550.0</td>\n",
       "      <td>518.0</td>\n",
       "      <td>525.0</td>\n",
       "      <td>...</td>\n",
       "      <td>0.25</td>\n",
       "      <td>0.25</td>\n",
       "      <td>0.15625</td>\n",
       "      <td>0.1</td>\n",
       "      <td>116.0</td>\n",
       "      <td>116.2</td>\n",
       "      <td>116.2</td>\n",
       "      <td>116.9</td>\n",
       "      <td>117.8</td>\n",
       "      <td>0</td>\n",
       "    </tr>\n",
       "    <tr>\n",
       "      <th>2011</th>\n",
       "      <td>1055.0</td>\n",
       "      <td>1000.0</td>\n",
       "      <td>890.0</td>\n",
       "      <td>990.0</td>\n",
       "      <td>880.0</td>\n",
       "      <td>530.0</td>\n",
       "      <td>470.0</td>\n",
       "      <td>495.0</td>\n",
       "      <td>470.0</td>\n",
       "      <td>490.0</td>\n",
       "      <td>...</td>\n",
       "      <td>0.25</td>\n",
       "      <td>0.25</td>\n",
       "      <td>0.15625</td>\n",
       "      <td>0.1</td>\n",
       "      <td>116.0</td>\n",
       "      <td>116.2</td>\n",
       "      <td>116.2</td>\n",
       "      <td>116.9</td>\n",
       "      <td>117.8</td>\n",
       "      <td>0</td>\n",
       "    </tr>\n",
       "    <tr>\n",
       "      <th>2017</th>\n",
       "      <td>950.0</td>\n",
       "      <td>918.0</td>\n",
       "      <td>790.0</td>\n",
       "      <td>854.0</td>\n",
       "      <td>887.0</td>\n",
       "      <td>720.0</td>\n",
       "      <td>620.0</td>\n",
       "      <td>600.0</td>\n",
       "      <td>580.0</td>\n",
       "      <td>600.0</td>\n",
       "      <td>...</td>\n",
       "      <td>0.25</td>\n",
       "      <td>0.25</td>\n",
       "      <td>0.15625</td>\n",
       "      <td>0.1</td>\n",
       "      <td>116.0</td>\n",
       "      <td>116.2</td>\n",
       "      <td>116.2</td>\n",
       "      <td>116.9</td>\n",
       "      <td>117.8</td>\n",
       "      <td>0</td>\n",
       "    </tr>\n",
       "    <tr>\n",
       "      <th>...</th>\n",
       "      <td>...</td>\n",
       "      <td>...</td>\n",
       "      <td>...</td>\n",
       "      <td>...</td>\n",
       "      <td>...</td>\n",
       "      <td>...</td>\n",
       "      <td>...</td>\n",
       "      <td>...</td>\n",
       "      <td>...</td>\n",
       "      <td>...</td>\n",
       "      <td>...</td>\n",
       "      <td>...</td>\n",
       "      <td>...</td>\n",
       "      <td>...</td>\n",
       "      <td>...</td>\n",
       "      <td>...</td>\n",
       "      <td>...</td>\n",
       "      <td>...</td>\n",
       "      <td>...</td>\n",
       "      <td>...</td>\n",
       "      <td>...</td>\n",
       "    </tr>\n",
       "    <tr>\n",
       "      <th>2760</th>\n",
       "      <td>555.0</td>\n",
       "      <td>590.0</td>\n",
       "      <td>560.0</td>\n",
       "      <td>568.0</td>\n",
       "      <td>595.0</td>\n",
       "      <td>380.0</td>\n",
       "      <td>360.0</td>\n",
       "      <td>390.0</td>\n",
       "      <td>390.0</td>\n",
       "      <td>393.0</td>\n",
       "      <td>...</td>\n",
       "      <td>0.25</td>\n",
       "      <td>0.25</td>\n",
       "      <td>0.15625</td>\n",
       "      <td>0.1</td>\n",
       "      <td>116.0</td>\n",
       "      <td>116.2</td>\n",
       "      <td>116.2</td>\n",
       "      <td>116.9</td>\n",
       "      <td>117.8</td>\n",
       "      <td>0</td>\n",
       "    </tr>\n",
       "    <tr>\n",
       "      <th>2770</th>\n",
       "      <td>519.0</td>\n",
       "      <td>500.0</td>\n",
       "      <td>500.0</td>\n",
       "      <td>527.0</td>\n",
       "      <td>590.0</td>\n",
       "      <td>340.0</td>\n",
       "      <td>330.0</td>\n",
       "      <td>340.0</td>\n",
       "      <td>340.0</td>\n",
       "      <td>340.0</td>\n",
       "      <td>...</td>\n",
       "      <td>0.25</td>\n",
       "      <td>0.25</td>\n",
       "      <td>0.15625</td>\n",
       "      <td>0.1</td>\n",
       "      <td>116.0</td>\n",
       "      <td>116.2</td>\n",
       "      <td>116.2</td>\n",
       "      <td>116.9</td>\n",
       "      <td>117.8</td>\n",
       "      <td>0</td>\n",
       "    </tr>\n",
       "    <tr>\n",
       "      <th>2795</th>\n",
       "      <td>450.0</td>\n",
       "      <td>450.0</td>\n",
       "      <td>420.0</td>\n",
       "      <td>460.0</td>\n",
       "      <td>460.0</td>\n",
       "      <td>330.0</td>\n",
       "      <td>330.0</td>\n",
       "      <td>328.0</td>\n",
       "      <td>350.0</td>\n",
       "      <td>360.0</td>\n",
       "      <td>...</td>\n",
       "      <td>0.25</td>\n",
       "      <td>0.25</td>\n",
       "      <td>0.15625</td>\n",
       "      <td>0.1</td>\n",
       "      <td>116.0</td>\n",
       "      <td>116.2</td>\n",
       "      <td>116.2</td>\n",
       "      <td>116.9</td>\n",
       "      <td>117.8</td>\n",
       "      <td>0</td>\n",
       "    </tr>\n",
       "    <tr>\n",
       "      <th>2800</th>\n",
       "      <td>441.0</td>\n",
       "      <td>430.0</td>\n",
       "      <td>479.0</td>\n",
       "      <td>505.0</td>\n",
       "      <td>530.0</td>\n",
       "      <td>350.0</td>\n",
       "      <td>350.0</td>\n",
       "      <td>370.0</td>\n",
       "      <td>390.0</td>\n",
       "      <td>400.0</td>\n",
       "      <td>...</td>\n",
       "      <td>0.25</td>\n",
       "      <td>0.25</td>\n",
       "      <td>0.15625</td>\n",
       "      <td>0.1</td>\n",
       "      <td>116.0</td>\n",
       "      <td>116.2</td>\n",
       "      <td>116.2</td>\n",
       "      <td>116.9</td>\n",
       "      <td>117.8</td>\n",
       "      <td>0</td>\n",
       "    </tr>\n",
       "    <tr>\n",
       "      <th>2830</th>\n",
       "      <td>360.0</td>\n",
       "      <td>383.0</td>\n",
       "      <td>373.0</td>\n",
       "      <td>398.0</td>\n",
       "      <td>419.0</td>\n",
       "      <td>340.0</td>\n",
       "      <td>330.0</td>\n",
       "      <td>345.0</td>\n",
       "      <td>350.0</td>\n",
       "      <td>350.0</td>\n",
       "      <td>...</td>\n",
       "      <td>0.25</td>\n",
       "      <td>0.25</td>\n",
       "      <td>0.15625</td>\n",
       "      <td>0.1</td>\n",
       "      <td>116.0</td>\n",
       "      <td>116.2</td>\n",
       "      <td>116.2</td>\n",
       "      <td>116.9</td>\n",
       "      <td>117.8</td>\n",
       "      <td>0</td>\n",
       "    </tr>\n",
       "  </tbody>\n",
       "</table>\n",
       "<p>78 rows × 72 columns</p>\n",
       "</div>"
      ],
      "text/plain": [
       "          median_price 2020 Q1  median_price 2020 Q2  median_price 2020 Q3  \\\n",
       "postcode                                                                     \n",
       "2000                    1225.0                1000.0                1390.0   \n",
       "2008                     750.0                1173.0                 890.0   \n",
       "2010                    1280.0                1325.0                1270.0   \n",
       "2011                    1055.0                1000.0                 890.0   \n",
       "2017                     950.0                 918.0                 790.0   \n",
       "...                        ...                   ...                   ...   \n",
       "2760                     555.0                 590.0                 560.0   \n",
       "2770                     519.0                 500.0                 500.0   \n",
       "2795                     450.0                 450.0                 420.0   \n",
       "2800                     441.0                 430.0                 479.0   \n",
       "2830                     360.0                 383.0                 373.0   \n",
       "\n",
       "          median_price 2020 Q4  median_price 2021 Q1  \\\n",
       "postcode                                               \n",
       "2000                    1110.0                1371.0   \n",
       "2008                     991.0                 855.0   \n",
       "2010                    1240.0                1201.0   \n",
       "2011                     990.0                 880.0   \n",
       "2017                     854.0                 887.0   \n",
       "...                        ...                   ...   \n",
       "2760                     568.0                 595.0   \n",
       "2770                     527.0                 590.0   \n",
       "2795                     460.0                 460.0   \n",
       "2800                     505.0                 530.0   \n",
       "2830                     398.0                 419.0   \n",
       "\n",
       "          median_rent_newb 2020 Q1  median_rent_newb 2020 Q2  \\\n",
       "postcode                                                       \n",
       "2000                         700.0                     630.0   \n",
       "2008                         595.0                     535.0   \n",
       "2010                         640.0                     575.0   \n",
       "2011                         530.0                     470.0   \n",
       "2017                         720.0                     620.0   \n",
       "...                            ...                       ...   \n",
       "2760                         380.0                     360.0   \n",
       "2770                         340.0                     330.0   \n",
       "2795                         330.0                     330.0   \n",
       "2800                         350.0                     350.0   \n",
       "2830                         340.0                     330.0   \n",
       "\n",
       "          median_rent_newb 2020 Q3  median_rent_newb 2020 Q4  \\\n",
       "postcode                                                       \n",
       "2000                         600.0                     550.0   \n",
       "2008                         530.0                     490.0   \n",
       "2010                         550.0                     518.0   \n",
       "2011                         495.0                     470.0   \n",
       "2017                         600.0                     580.0   \n",
       "...                            ...                       ...   \n",
       "2760                         390.0                     390.0   \n",
       "2770                         340.0                     340.0   \n",
       "2795                         328.0                     350.0   \n",
       "2800                         370.0                     390.0   \n",
       "2830                         345.0                     350.0   \n",
       "\n",
       "          median_rent_newb 2021 Q1  ...  Rate 2020 Q2  Rate 2020 Q3  \\\n",
       "postcode                            ...                               \n",
       "2000                         600.0  ...          0.25          0.25   \n",
       "2008                         500.0  ...          0.25          0.25   \n",
       "2010                         525.0  ...          0.25          0.25   \n",
       "2011                         490.0  ...          0.25          0.25   \n",
       "2017                         600.0  ...          0.25          0.25   \n",
       "...                            ...  ...           ...           ...   \n",
       "2760                         393.0  ...          0.25          0.25   \n",
       "2770                         340.0  ...          0.25          0.25   \n",
       "2795                         360.0  ...          0.25          0.25   \n",
       "2800                         400.0  ...          0.25          0.25   \n",
       "2830                         350.0  ...          0.25          0.25   \n",
       "\n",
       "          Rate 2020 Q4  Rate 2021 Q1  constr_index 2020 Q1  \\\n",
       "postcode                                                     \n",
       "2000           0.15625           0.1                 116.0   \n",
       "2008           0.15625           0.1                 116.0   \n",
       "2010           0.15625           0.1                 116.0   \n",
       "2011           0.15625           0.1                 116.0   \n",
       "2017           0.15625           0.1                 116.0   \n",
       "...                ...           ...                   ...   \n",
       "2760           0.15625           0.1                 116.0   \n",
       "2770           0.15625           0.1                 116.0   \n",
       "2795           0.15625           0.1                 116.0   \n",
       "2800           0.15625           0.1                 116.0   \n",
       "2830           0.15625           0.1                 116.0   \n",
       "\n",
       "          constr_index 2020 Q2  constr_index 2020 Q3  constr_index 2020 Q4  \\\n",
       "postcode                                                                     \n",
       "2000                     116.2                 116.2                 116.9   \n",
       "2008                     116.2                 116.2                 116.9   \n",
       "2010                     116.2                 116.2                 116.9   \n",
       "2011                     116.2                 116.2                 116.9   \n",
       "2017                     116.2                 116.2                 116.9   \n",
       "...                        ...                   ...                   ...   \n",
       "2760                     116.2                 116.2                 116.9   \n",
       "2770                     116.2                 116.2                 116.9   \n",
       "2795                     116.2                 116.2                 116.9   \n",
       "2800                     116.2                 116.2                 116.9   \n",
       "2830                     116.2                 116.2                 116.9   \n",
       "\n",
       "          constr_index 2021 Q1  labels  \n",
       "postcode                                \n",
       "2000                     117.8       0  \n",
       "2008                     117.8       0  \n",
       "2010                     117.8       0  \n",
       "2011                     117.8       0  \n",
       "2017                     117.8       0  \n",
       "...                        ...     ...  \n",
       "2760                     117.8       0  \n",
       "2770                     117.8       0  \n",
       "2795                     117.8       0  \n",
       "2800                     117.8       0  \n",
       "2830                     117.8       0  \n",
       "\n",
       "[78 rows x 72 columns]"
      ]
     },
     "execution_count": 48,
     "metadata": {},
     "output_type": "execute_result"
    }
   ],
   "source": [
    "# show postcodes for small clusters; where are they?\n",
    "modelDF[modelDF[\"labels\"] == 0]"
   ]
  },
  {
   "cell_type": "markdown",
   "id": "95ed3d54",
   "metadata": {},
   "source": [
    "# Distinct Models per Clusters\n"
   ]
  },
  {
   "cell_type": "code",
   "execution_count": 49,
   "id": "e313493b",
   "metadata": {},
   "outputs": [],
   "source": [
    "modelDF = pd.read_csv(\"Files/Cleaned/Postcode-based/Unstacked_Sales_Rent_5Quarters_Imputed_pcFeatures.csv\",\n",
    "                     index_col=\"postcode\")\n",
    "modelDF = modelDF.drop([\"mean_price 2020 Q1\", \"mean_price 2020 Q2\", \"mean_price 2020 Q3\",\n",
    "                        \"mean_price 2020 Q4\", \"mean_price 2021 Q1\"],\n",
    "                      axis=1)"
   ]
  },
  {
   "cell_type": "markdown",
   "id": "2d80dbbe",
   "metadata": {
    "heading_collapsed": true
   },
   "source": [
    "## Model on KMeans "
   ]
  },
  {
   "cell_type": "code",
   "execution_count": 50,
   "id": "741bf562",
   "metadata": {
    "hidden": true
   },
   "outputs": [
    {
     "data": {
      "text/html": [
       "<div>\n",
       "<style scoped>\n",
       "    .dataframe tbody tr th:only-of-type {\n",
       "        vertical-align: middle;\n",
       "    }\n",
       "\n",
       "    .dataframe tbody tr th {\n",
       "        vertical-align: top;\n",
       "    }\n",
       "\n",
       "    .dataframe thead th {\n",
       "        text-align: right;\n",
       "    }\n",
       "</style>\n",
       "<table border=\"1\" class=\"dataframe\">\n",
       "  <thead>\n",
       "    <tr style=\"text-align: right;\">\n",
       "      <th></th>\n",
       "      <th>median_price 2020 Q1</th>\n",
       "      <th>median_price 2020 Q2</th>\n",
       "      <th>median_price 2020 Q3</th>\n",
       "      <th>median_price 2020 Q4</th>\n",
       "      <th>median_price 2021 Q1</th>\n",
       "      <th>median_rent_newb 2020 Q1</th>\n",
       "      <th>median_rent_newb 2020 Q2</th>\n",
       "      <th>median_rent_newb 2020 Q3</th>\n",
       "      <th>median_rent_newb 2020 Q4</th>\n",
       "      <th>median_rent_newb 2021 Q1</th>\n",
       "      <th>...</th>\n",
       "      <th>Rate 2020 Q2</th>\n",
       "      <th>Rate 2020 Q3</th>\n",
       "      <th>Rate 2020 Q4</th>\n",
       "      <th>Rate 2021 Q1</th>\n",
       "      <th>constr_index 2020 Q1</th>\n",
       "      <th>constr_index 2020 Q2</th>\n",
       "      <th>constr_index 2020 Q3</th>\n",
       "      <th>constr_index 2020 Q4</th>\n",
       "      <th>constr_index 2021 Q1</th>\n",
       "      <th>labels</th>\n",
       "    </tr>\n",
       "    <tr>\n",
       "      <th>postcode</th>\n",
       "      <th></th>\n",
       "      <th></th>\n",
       "      <th></th>\n",
       "      <th></th>\n",
       "      <th></th>\n",
       "      <th></th>\n",
       "      <th></th>\n",
       "      <th></th>\n",
       "      <th></th>\n",
       "      <th></th>\n",
       "      <th></th>\n",
       "      <th></th>\n",
       "      <th></th>\n",
       "      <th></th>\n",
       "      <th></th>\n",
       "      <th></th>\n",
       "      <th></th>\n",
       "      <th></th>\n",
       "      <th></th>\n",
       "      <th></th>\n",
       "      <th></th>\n",
       "    </tr>\n",
       "  </thead>\n",
       "  <tbody>\n",
       "    <tr>\n",
       "      <th>2000</th>\n",
       "      <td>1225.0</td>\n",
       "      <td>1000.0</td>\n",
       "      <td>1390.0</td>\n",
       "      <td>1110.0</td>\n",
       "      <td>1371.0</td>\n",
       "      <td>700.0</td>\n",
       "      <td>630.0</td>\n",
       "      <td>600.0</td>\n",
       "      <td>550.0</td>\n",
       "      <td>600.0</td>\n",
       "      <td>...</td>\n",
       "      <td>0.25</td>\n",
       "      <td>0.25</td>\n",
       "      <td>0.15625</td>\n",
       "      <td>0.1</td>\n",
       "      <td>116.0</td>\n",
       "      <td>116.2</td>\n",
       "      <td>116.2</td>\n",
       "      <td>116.9</td>\n",
       "      <td>117.8</td>\n",
       "      <td>0</td>\n",
       "    </tr>\n",
       "    <tr>\n",
       "      <th>2007</th>\n",
       "      <td>745.0</td>\n",
       "      <td>775.0</td>\n",
       "      <td>655.0</td>\n",
       "      <td>651.0</td>\n",
       "      <td>763.0</td>\n",
       "      <td>550.0</td>\n",
       "      <td>560.0</td>\n",
       "      <td>500.0</td>\n",
       "      <td>480.0</td>\n",
       "      <td>455.0</td>\n",
       "      <td>...</td>\n",
       "      <td>0.25</td>\n",
       "      <td>0.25</td>\n",
       "      <td>0.15625</td>\n",
       "      <td>0.1</td>\n",
       "      <td>116.0</td>\n",
       "      <td>116.2</td>\n",
       "      <td>116.2</td>\n",
       "      <td>116.9</td>\n",
       "      <td>117.8</td>\n",
       "      <td>1</td>\n",
       "    </tr>\n",
       "    <tr>\n",
       "      <th>2008</th>\n",
       "      <td>750.0</td>\n",
       "      <td>1173.0</td>\n",
       "      <td>890.0</td>\n",
       "      <td>991.0</td>\n",
       "      <td>855.0</td>\n",
       "      <td>595.0</td>\n",
       "      <td>535.0</td>\n",
       "      <td>530.0</td>\n",
       "      <td>490.0</td>\n",
       "      <td>500.0</td>\n",
       "      <td>...</td>\n",
       "      <td>0.25</td>\n",
       "      <td>0.25</td>\n",
       "      <td>0.15625</td>\n",
       "      <td>0.1</td>\n",
       "      <td>116.0</td>\n",
       "      <td>116.2</td>\n",
       "      <td>116.2</td>\n",
       "      <td>116.9</td>\n",
       "      <td>117.8</td>\n",
       "      <td>0</td>\n",
       "    </tr>\n",
       "    <tr>\n",
       "      <th>2009</th>\n",
       "      <td>986.0</td>\n",
       "      <td>1100.0</td>\n",
       "      <td>1085.0</td>\n",
       "      <td>1075.0</td>\n",
       "      <td>1188.0</td>\n",
       "      <td>700.0</td>\n",
       "      <td>580.0</td>\n",
       "      <td>595.0</td>\n",
       "      <td>550.0</td>\n",
       "      <td>600.0</td>\n",
       "      <td>...</td>\n",
       "      <td>0.25</td>\n",
       "      <td>0.25</td>\n",
       "      <td>0.15625</td>\n",
       "      <td>0.1</td>\n",
       "      <td>116.0</td>\n",
       "      <td>116.2</td>\n",
       "      <td>116.2</td>\n",
       "      <td>116.9</td>\n",
       "      <td>117.8</td>\n",
       "      <td>1</td>\n",
       "    </tr>\n",
       "    <tr>\n",
       "      <th>2010</th>\n",
       "      <td>1280.0</td>\n",
       "      <td>1325.0</td>\n",
       "      <td>1270.0</td>\n",
       "      <td>1240.0</td>\n",
       "      <td>1201.0</td>\n",
       "      <td>640.0</td>\n",
       "      <td>575.0</td>\n",
       "      <td>550.0</td>\n",
       "      <td>518.0</td>\n",
       "      <td>525.0</td>\n",
       "      <td>...</td>\n",
       "      <td>0.25</td>\n",
       "      <td>0.25</td>\n",
       "      <td>0.15625</td>\n",
       "      <td>0.1</td>\n",
       "      <td>116.0</td>\n",
       "      <td>116.2</td>\n",
       "      <td>116.2</td>\n",
       "      <td>116.9</td>\n",
       "      <td>117.8</td>\n",
       "      <td>0</td>\n",
       "    </tr>\n",
       "    <tr>\n",
       "      <th>...</th>\n",
       "      <td>...</td>\n",
       "      <td>...</td>\n",
       "      <td>...</td>\n",
       "      <td>...</td>\n",
       "      <td>...</td>\n",
       "      <td>...</td>\n",
       "      <td>...</td>\n",
       "      <td>...</td>\n",
       "      <td>...</td>\n",
       "      <td>...</td>\n",
       "      <td>...</td>\n",
       "      <td>...</td>\n",
       "      <td>...</td>\n",
       "      <td>...</td>\n",
       "      <td>...</td>\n",
       "      <td>...</td>\n",
       "      <td>...</td>\n",
       "      <td>...</td>\n",
       "      <td>...</td>\n",
       "      <td>...</td>\n",
       "      <td>...</td>\n",
       "    </tr>\n",
       "    <tr>\n",
       "      <th>2876</th>\n",
       "      <td>705.0</td>\n",
       "      <td>725.0</td>\n",
       "      <td>724.0</td>\n",
       "      <td>733.0</td>\n",
       "      <td>760.5</td>\n",
       "      <td>450.0</td>\n",
       "      <td>450.0</td>\n",
       "      <td>450.0</td>\n",
       "      <td>450.0</td>\n",
       "      <td>450.0</td>\n",
       "      <td>...</td>\n",
       "      <td>0.25</td>\n",
       "      <td>0.25</td>\n",
       "      <td>0.15625</td>\n",
       "      <td>0.1</td>\n",
       "      <td>116.0</td>\n",
       "      <td>116.2</td>\n",
       "      <td>116.2</td>\n",
       "      <td>116.9</td>\n",
       "      <td>117.8</td>\n",
       "      <td>1</td>\n",
       "    </tr>\n",
       "    <tr>\n",
       "      <th>2877</th>\n",
       "      <td>705.0</td>\n",
       "      <td>725.0</td>\n",
       "      <td>195.0</td>\n",
       "      <td>220.0</td>\n",
       "      <td>195.0</td>\n",
       "      <td>250.0</td>\n",
       "      <td>245.0</td>\n",
       "      <td>250.0</td>\n",
       "      <td>450.0</td>\n",
       "      <td>220.0</td>\n",
       "      <td>...</td>\n",
       "      <td>0.25</td>\n",
       "      <td>0.25</td>\n",
       "      <td>0.15625</td>\n",
       "      <td>0.1</td>\n",
       "      <td>116.0</td>\n",
       "      <td>116.2</td>\n",
       "      <td>116.2</td>\n",
       "      <td>116.9</td>\n",
       "      <td>117.8</td>\n",
       "      <td>1</td>\n",
       "    </tr>\n",
       "    <tr>\n",
       "      <th>2878</th>\n",
       "      <td>705.0</td>\n",
       "      <td>725.0</td>\n",
       "      <td>724.0</td>\n",
       "      <td>733.0</td>\n",
       "      <td>760.5</td>\n",
       "      <td>450.0</td>\n",
       "      <td>450.0</td>\n",
       "      <td>450.0</td>\n",
       "      <td>450.0</td>\n",
       "      <td>450.0</td>\n",
       "      <td>...</td>\n",
       "      <td>0.25</td>\n",
       "      <td>0.25</td>\n",
       "      <td>0.15625</td>\n",
       "      <td>0.1</td>\n",
       "      <td>116.0</td>\n",
       "      <td>116.2</td>\n",
       "      <td>116.2</td>\n",
       "      <td>116.9</td>\n",
       "      <td>117.8</td>\n",
       "      <td>1</td>\n",
       "    </tr>\n",
       "    <tr>\n",
       "      <th>2879</th>\n",
       "      <td>705.0</td>\n",
       "      <td>725.0</td>\n",
       "      <td>724.0</td>\n",
       "      <td>733.0</td>\n",
       "      <td>760.5</td>\n",
       "      <td>450.0</td>\n",
       "      <td>450.0</td>\n",
       "      <td>450.0</td>\n",
       "      <td>450.0</td>\n",
       "      <td>450.0</td>\n",
       "      <td>...</td>\n",
       "      <td>0.25</td>\n",
       "      <td>0.25</td>\n",
       "      <td>0.15625</td>\n",
       "      <td>0.1</td>\n",
       "      <td>116.0</td>\n",
       "      <td>116.2</td>\n",
       "      <td>116.2</td>\n",
       "      <td>116.9</td>\n",
       "      <td>117.8</td>\n",
       "      <td>1</td>\n",
       "    </tr>\n",
       "    <tr>\n",
       "      <th>2880</th>\n",
       "      <td>125.0</td>\n",
       "      <td>130.0</td>\n",
       "      <td>126.0</td>\n",
       "      <td>123.0</td>\n",
       "      <td>120.0</td>\n",
       "      <td>260.0</td>\n",
       "      <td>230.0</td>\n",
       "      <td>250.0</td>\n",
       "      <td>250.0</td>\n",
       "      <td>270.0</td>\n",
       "      <td>...</td>\n",
       "      <td>0.25</td>\n",
       "      <td>0.25</td>\n",
       "      <td>0.15625</td>\n",
       "      <td>0.1</td>\n",
       "      <td>116.0</td>\n",
       "      <td>116.2</td>\n",
       "      <td>116.2</td>\n",
       "      <td>116.9</td>\n",
       "      <td>117.8</td>\n",
       "      <td>1</td>\n",
       "    </tr>\n",
       "  </tbody>\n",
       "</table>\n",
       "<p>573 rows × 72 columns</p>\n",
       "</div>"
      ],
      "text/plain": [
       "          median_price 2020 Q1  median_price 2020 Q2  median_price 2020 Q3  \\\n",
       "postcode                                                                     \n",
       "2000                    1225.0                1000.0                1390.0   \n",
       "2007                     745.0                 775.0                 655.0   \n",
       "2008                     750.0                1173.0                 890.0   \n",
       "2009                     986.0                1100.0                1085.0   \n",
       "2010                    1280.0                1325.0                1270.0   \n",
       "...                        ...                   ...                   ...   \n",
       "2876                     705.0                 725.0                 724.0   \n",
       "2877                     705.0                 725.0                 195.0   \n",
       "2878                     705.0                 725.0                 724.0   \n",
       "2879                     705.0                 725.0                 724.0   \n",
       "2880                     125.0                 130.0                 126.0   \n",
       "\n",
       "          median_price 2020 Q4  median_price 2021 Q1  \\\n",
       "postcode                                               \n",
       "2000                    1110.0                1371.0   \n",
       "2007                     651.0                 763.0   \n",
       "2008                     991.0                 855.0   \n",
       "2009                    1075.0                1188.0   \n",
       "2010                    1240.0                1201.0   \n",
       "...                        ...                   ...   \n",
       "2876                     733.0                 760.5   \n",
       "2877                     220.0                 195.0   \n",
       "2878                     733.0                 760.5   \n",
       "2879                     733.0                 760.5   \n",
       "2880                     123.0                 120.0   \n",
       "\n",
       "          median_rent_newb 2020 Q1  median_rent_newb 2020 Q2  \\\n",
       "postcode                                                       \n",
       "2000                         700.0                     630.0   \n",
       "2007                         550.0                     560.0   \n",
       "2008                         595.0                     535.0   \n",
       "2009                         700.0                     580.0   \n",
       "2010                         640.0                     575.0   \n",
       "...                            ...                       ...   \n",
       "2876                         450.0                     450.0   \n",
       "2877                         250.0                     245.0   \n",
       "2878                         450.0                     450.0   \n",
       "2879                         450.0                     450.0   \n",
       "2880                         260.0                     230.0   \n",
       "\n",
       "          median_rent_newb 2020 Q3  median_rent_newb 2020 Q4  \\\n",
       "postcode                                                       \n",
       "2000                         600.0                     550.0   \n",
       "2007                         500.0                     480.0   \n",
       "2008                         530.0                     490.0   \n",
       "2009                         595.0                     550.0   \n",
       "2010                         550.0                     518.0   \n",
       "...                            ...                       ...   \n",
       "2876                         450.0                     450.0   \n",
       "2877                         250.0                     450.0   \n",
       "2878                         450.0                     450.0   \n",
       "2879                         450.0                     450.0   \n",
       "2880                         250.0                     250.0   \n",
       "\n",
       "          median_rent_newb 2021 Q1  ...  Rate 2020 Q2  Rate 2020 Q3  \\\n",
       "postcode                            ...                               \n",
       "2000                         600.0  ...          0.25          0.25   \n",
       "2007                         455.0  ...          0.25          0.25   \n",
       "2008                         500.0  ...          0.25          0.25   \n",
       "2009                         600.0  ...          0.25          0.25   \n",
       "2010                         525.0  ...          0.25          0.25   \n",
       "...                            ...  ...           ...           ...   \n",
       "2876                         450.0  ...          0.25          0.25   \n",
       "2877                         220.0  ...          0.25          0.25   \n",
       "2878                         450.0  ...          0.25          0.25   \n",
       "2879                         450.0  ...          0.25          0.25   \n",
       "2880                         270.0  ...          0.25          0.25   \n",
       "\n",
       "          Rate 2020 Q4  Rate 2021 Q1  constr_index 2020 Q1  \\\n",
       "postcode                                                     \n",
       "2000           0.15625           0.1                 116.0   \n",
       "2007           0.15625           0.1                 116.0   \n",
       "2008           0.15625           0.1                 116.0   \n",
       "2009           0.15625           0.1                 116.0   \n",
       "2010           0.15625           0.1                 116.0   \n",
       "...                ...           ...                   ...   \n",
       "2876           0.15625           0.1                 116.0   \n",
       "2877           0.15625           0.1                 116.0   \n",
       "2878           0.15625           0.1                 116.0   \n",
       "2879           0.15625           0.1                 116.0   \n",
       "2880           0.15625           0.1                 116.0   \n",
       "\n",
       "          constr_index 2020 Q2  constr_index 2020 Q3  constr_index 2020 Q4  \\\n",
       "postcode                                                                     \n",
       "2000                     116.2                 116.2                 116.9   \n",
       "2007                     116.2                 116.2                 116.9   \n",
       "2008                     116.2                 116.2                 116.9   \n",
       "2009                     116.2                 116.2                 116.9   \n",
       "2010                     116.2                 116.2                 116.9   \n",
       "...                        ...                   ...                   ...   \n",
       "2876                     116.2                 116.2                 116.9   \n",
       "2877                     116.2                 116.2                 116.9   \n",
       "2878                     116.2                 116.2                 116.9   \n",
       "2879                     116.2                 116.2                 116.9   \n",
       "2880                     116.2                 116.2                 116.9   \n",
       "\n",
       "          constr_index 2021 Q1  labels  \n",
       "postcode                                \n",
       "2000                     117.8       0  \n",
       "2007                     117.8       1  \n",
       "2008                     117.8       0  \n",
       "2009                     117.8       1  \n",
       "2010                     117.8       0  \n",
       "...                        ...     ...  \n",
       "2876                     117.8       1  \n",
       "2877                     117.8       1  \n",
       "2878                     117.8       1  \n",
       "2879                     117.8       1  \n",
       "2880                     117.8       1  \n",
       "\n",
       "[573 rows x 72 columns]"
      ]
     },
     "execution_count": 50,
     "metadata": {},
     "output_type": "execute_result"
    }
   ],
   "source": [
    "# Using labels from KMeans where k=2\n",
    "modelDF['labels'] = km_label_2\n",
    "modelDF"
   ]
  },
  {
   "cell_type": "markdown",
   "id": "b96282de",
   "metadata": {
    "hidden": true
   },
   "source": [
    "__Sub-setting clusters__"
   ]
  },
  {
   "cell_type": "code",
   "execution_count": 51,
   "id": "ad04c32f",
   "metadata": {
    "hidden": true
   },
   "outputs": [],
   "source": [
    "cluster0 = modelDF.loc[modelDF['labels']==0]\n",
    "cluster1 = modelDF.loc[modelDF['labels']==1]\n",
    "\n",
    "cluster0 = cluster0.drop('labels',axis=1)\n",
    "cluster1 = cluster1.drop('labels',axis=1)"
   ]
  },
  {
   "cell_type": "markdown",
   "id": "22541d47",
   "metadata": {
    "hidden": true
   },
   "source": [
    "__Model on the 2 Clusters__"
   ]
  },
  {
   "cell_type": "code",
   "execution_count": 52,
   "id": "f27921d0",
   "metadata": {
    "hidden": true
   },
   "outputs": [
    {
     "name": "stdout",
     "output_type": "stream",
     "text": [
      "R2 on 1st cluster: [0.9249, 0.3782, 0.7898, 0.9174, 0.7972]\n",
      "R2 on 2nd cluster: [0.9172, 0.821, 0.9084, 0.8707, 0.8843]\n"
     ]
    }
   ],
   "source": [
    "# 1st cluster\n",
    "lr = LinearRegression()\n",
    "scoreKM0 = cross_val_score(lr, cluster0.drop(['median_price 2021 Q1'],axis=1), # X\n",
    "                        cluster0['median_price 2021 Q1'],                      # y \n",
    "                        cv=KFold(n_splits=5, shuffle=True)) \n",
    "print('R2 on 1st cluster:',list(scoreKM0.round(4)))\n",
    "\n",
    "# 2nd cluster\n",
    "lr = LinearRegression()\n",
    "scoreKM1 = cross_val_score(lr, cluster1.drop(['median_price 2021 Q1'],axis=1), # X\n",
    "                        cluster1['median_price 2021 Q1'],                      # y \n",
    "                        cv=KFold(n_splits=5, shuffle=True)) \n",
    "print('R2 on 2nd cluster:',list(scoreKM1.round(4)))"
   ]
  },
  {
   "cell_type": "code",
   "execution_count": 55,
   "id": "151f9a73",
   "metadata": {
    "hidden": true
   },
   "outputs": [
    {
     "data": {
      "image/png": "[encoded data removed]",
      "text/plain": [
       "<Figure size 432x288 with 1 Axes>"
      ]
     },
     "metadata": {},
     "output_type": "display_data"
    }
   ],
   "source": [
    "plt.plot(scoreKM0,label='Cluster 1')\n",
    "plt.plot(scoreKM1,label='Cluster 2')\n",
    "plt.title('R2 scores')\n",
    "plt.xlabel('Trial #')\n",
    "plt.ylabel('$R^2$')\n",
    "plt.show()"
   ]
  },
  {
   "cell_type": "code",
   "execution_count": 56,
   "id": "cf1c8082",
   "metadata": {
    "hidden": true
   },
   "outputs": [
    {
     "data": {
      "text/plain": [
       "0.9193934186055945"
      ]
     },
     "execution_count": 56,
     "metadata": {},
     "output_type": "execute_result"
    }
   ],
   "source": [
    "from sklearn.metrics import r2_score\n",
    "ypred_base = cluster0['median_price 2020 Q4']\n",
    "r2_score(ypred_base,cluster0['median_price 2021 Q1'])"
   ]
  },
  {
   "cell_type": "markdown",
   "id": "9d4f5c70",
   "metadata": {
    "heading_collapsed": true
   },
   "source": [
    "# Classification"
   ]
  },
  {
   "cell_type": "markdown",
   "id": "e2811f4b",
   "metadata": {
    "hidden": true
   },
   "source": [
    "Read in data"
   ]
  },
  {
   "cell_type": "code",
   "execution_count": 57,
   "id": "6f45928e",
   "metadata": {
    "hidden": true
   },
   "outputs": [],
   "source": [
    "modelDF = pd.read_csv(\"Files/Cleaned/Postcode-based/Unstacked_Sales_Rent_5Quarters_Imputed_pcFeatures.csv\",\n",
    "                     index_col=\"postcode\")\n",
    "modelDF = modelDF.drop([\"mean_price 2020 Q1\", \"mean_price 2020 Q2\", \"mean_price 2020 Q3\",\n",
    "                        \"mean_price 2020 Q4\", \"mean_price 2021 Q1\"],\n",
    "                      axis=1)"
   ]
  },
  {
   "cell_type": "markdown",
   "id": "99412121",
   "metadata": {
    "hidden": true
   },
   "source": [
    "Calculate growth rate of 2021 Q1 from 2020 Q4"
   ]
  },
  {
   "cell_type": "code",
   "execution_count": 58,
   "id": "9eae0da0",
   "metadata": {
    "hidden": true
   },
   "outputs": [
    {
     "data": {
      "text/html": [
       "<div>\n",
       "<style scoped>\n",
       "    .dataframe tbody tr th:only-of-type {\n",
       "        vertical-align: middle;\n",
       "    }\n",
       "\n",
       "    .dataframe tbody tr th {\n",
       "        vertical-align: top;\n",
       "    }\n",
       "\n",
       "    .dataframe thead th {\n",
       "        text-align: right;\n",
       "    }\n",
       "</style>\n",
       "<table border=\"1\" class=\"dataframe\">\n",
       "  <thead>\n",
       "    <tr style=\"text-align: right;\">\n",
       "      <th></th>\n",
       "      <th>median_price 2020 Q1</th>\n",
       "      <th>median_price 2020 Q2</th>\n",
       "      <th>median_price 2020 Q3</th>\n",
       "      <th>median_price 2020 Q4</th>\n",
       "      <th>median_price 2021 Q1</th>\n",
       "      <th>median_rent_newb 2020 Q1</th>\n",
       "      <th>median_rent_newb 2020 Q2</th>\n",
       "      <th>median_rent_newb 2020 Q3</th>\n",
       "      <th>median_rent_newb 2020 Q4</th>\n",
       "      <th>median_rent_newb 2021 Q1</th>\n",
       "      <th>...</th>\n",
       "      <th>Rate 2020 Q2</th>\n",
       "      <th>Rate 2020 Q3</th>\n",
       "      <th>Rate 2020 Q4</th>\n",
       "      <th>Rate 2021 Q1</th>\n",
       "      <th>constr_index 2020 Q1</th>\n",
       "      <th>constr_index 2020 Q2</th>\n",
       "      <th>constr_index 2020 Q3</th>\n",
       "      <th>constr_index 2020 Q4</th>\n",
       "      <th>constr_index 2021 Q1</th>\n",
       "      <th>price_delta</th>\n",
       "    </tr>\n",
       "    <tr>\n",
       "      <th>postcode</th>\n",
       "      <th></th>\n",
       "      <th></th>\n",
       "      <th></th>\n",
       "      <th></th>\n",
       "      <th></th>\n",
       "      <th></th>\n",
       "      <th></th>\n",
       "      <th></th>\n",
       "      <th></th>\n",
       "      <th></th>\n",
       "      <th></th>\n",
       "      <th></th>\n",
       "      <th></th>\n",
       "      <th></th>\n",
       "      <th></th>\n",
       "      <th></th>\n",
       "      <th></th>\n",
       "      <th></th>\n",
       "      <th></th>\n",
       "      <th></th>\n",
       "      <th></th>\n",
       "    </tr>\n",
       "  </thead>\n",
       "  <tbody>\n",
       "    <tr>\n",
       "      <th>2000</th>\n",
       "      <td>1225.0</td>\n",
       "      <td>1000.0</td>\n",
       "      <td>1390.0</td>\n",
       "      <td>1110.0</td>\n",
       "      <td>1371.0</td>\n",
       "      <td>700.0</td>\n",
       "      <td>630.0</td>\n",
       "      <td>600.0</td>\n",
       "      <td>550.0</td>\n",
       "      <td>600.0</td>\n",
       "      <td>...</td>\n",
       "      <td>0.25</td>\n",
       "      <td>0.25</td>\n",
       "      <td>0.15625</td>\n",
       "      <td>0.1</td>\n",
       "      <td>116.0</td>\n",
       "      <td>116.2</td>\n",
       "      <td>116.2</td>\n",
       "      <td>116.9</td>\n",
       "      <td>117.8</td>\n",
       "      <td>23.513514</td>\n",
       "    </tr>\n",
       "    <tr>\n",
       "      <th>2007</th>\n",
       "      <td>745.0</td>\n",
       "      <td>775.0</td>\n",
       "      <td>655.0</td>\n",
       "      <td>651.0</td>\n",
       "      <td>763.0</td>\n",
       "      <td>550.0</td>\n",
       "      <td>560.0</td>\n",
       "      <td>500.0</td>\n",
       "      <td>480.0</td>\n",
       "      <td>455.0</td>\n",
       "      <td>...</td>\n",
       "      <td>0.25</td>\n",
       "      <td>0.25</td>\n",
       "      <td>0.15625</td>\n",
       "      <td>0.1</td>\n",
       "      <td>116.0</td>\n",
       "      <td>116.2</td>\n",
       "      <td>116.2</td>\n",
       "      <td>116.9</td>\n",
       "      <td>117.8</td>\n",
       "      <td>17.204301</td>\n",
       "    </tr>\n",
       "    <tr>\n",
       "      <th>2008</th>\n",
       "      <td>750.0</td>\n",
       "      <td>1173.0</td>\n",
       "      <td>890.0</td>\n",
       "      <td>991.0</td>\n",
       "      <td>855.0</td>\n",
       "      <td>595.0</td>\n",
       "      <td>535.0</td>\n",
       "      <td>530.0</td>\n",
       "      <td>490.0</td>\n",
       "      <td>500.0</td>\n",
       "      <td>...</td>\n",
       "      <td>0.25</td>\n",
       "      <td>0.25</td>\n",
       "      <td>0.15625</td>\n",
       "      <td>0.1</td>\n",
       "      <td>116.0</td>\n",
       "      <td>116.2</td>\n",
       "      <td>116.2</td>\n",
       "      <td>116.9</td>\n",
       "      <td>117.8</td>\n",
       "      <td>-13.723512</td>\n",
       "    </tr>\n",
       "    <tr>\n",
       "      <th>2009</th>\n",
       "      <td>986.0</td>\n",
       "      <td>1100.0</td>\n",
       "      <td>1085.0</td>\n",
       "      <td>1075.0</td>\n",
       "      <td>1188.0</td>\n",
       "      <td>700.0</td>\n",
       "      <td>580.0</td>\n",
       "      <td>595.0</td>\n",
       "      <td>550.0</td>\n",
       "      <td>600.0</td>\n",
       "      <td>...</td>\n",
       "      <td>0.25</td>\n",
       "      <td>0.25</td>\n",
       "      <td>0.15625</td>\n",
       "      <td>0.1</td>\n",
       "      <td>116.0</td>\n",
       "      <td>116.2</td>\n",
       "      <td>116.2</td>\n",
       "      <td>116.9</td>\n",
       "      <td>117.8</td>\n",
       "      <td>10.511628</td>\n",
       "    </tr>\n",
       "    <tr>\n",
       "      <th>2010</th>\n",
       "      <td>1280.0</td>\n",
       "      <td>1325.0</td>\n",
       "      <td>1270.0</td>\n",
       "      <td>1240.0</td>\n",
       "      <td>1201.0</td>\n",
       "      <td>640.0</td>\n",
       "      <td>575.0</td>\n",
       "      <td>550.0</td>\n",
       "      <td>518.0</td>\n",
       "      <td>525.0</td>\n",
       "      <td>...</td>\n",
       "      <td>0.25</td>\n",
       "      <td>0.25</td>\n",
       "      <td>0.15625</td>\n",
       "      <td>0.1</td>\n",
       "      <td>116.0</td>\n",
       "      <td>116.2</td>\n",
       "      <td>116.2</td>\n",
       "      <td>116.9</td>\n",
       "      <td>117.8</td>\n",
       "      <td>-3.145161</td>\n",
       "    </tr>\n",
       "  </tbody>\n",
       "</table>\n",
       "<p>5 rows × 72 columns</p>\n",
       "</div>"
      ],
      "text/plain": [
       "          median_price 2020 Q1  median_price 2020 Q2  median_price 2020 Q3  \\\n",
       "postcode                                                                     \n",
       "2000                    1225.0                1000.0                1390.0   \n",
       "2007                     745.0                 775.0                 655.0   \n",
       "2008                     750.0                1173.0                 890.0   \n",
       "2009                     986.0                1100.0                1085.0   \n",
       "2010                    1280.0                1325.0                1270.0   \n",
       "\n",
       "          median_price 2020 Q4  median_price 2021 Q1  \\\n",
       "postcode                                               \n",
       "2000                    1110.0                1371.0   \n",
       "2007                     651.0                 763.0   \n",
       "2008                     991.0                 855.0   \n",
       "2009                    1075.0                1188.0   \n",
       "2010                    1240.0                1201.0   \n",
       "\n",
       "          median_rent_newb 2020 Q1  median_rent_newb 2020 Q2  \\\n",
       "postcode                                                       \n",
       "2000                         700.0                     630.0   \n",
       "2007                         550.0                     560.0   \n",
       "2008                         595.0                     535.0   \n",
       "2009                         700.0                     580.0   \n",
       "2010                         640.0                     575.0   \n",
       "\n",
       "          median_rent_newb 2020 Q3  median_rent_newb 2020 Q4  \\\n",
       "postcode                                                       \n",
       "2000                         600.0                     550.0   \n",
       "2007                         500.0                     480.0   \n",
       "2008                         530.0                     490.0   \n",
       "2009                         595.0                     550.0   \n",
       "2010                         550.0                     518.0   \n",
       "\n",
       "          median_rent_newb 2021 Q1  ...  Rate 2020 Q2  Rate 2020 Q3  \\\n",
       "postcode                            ...                               \n",
       "2000                         600.0  ...          0.25          0.25   \n",
       "2007                         455.0  ...          0.25          0.25   \n",
       "2008                         500.0  ...          0.25          0.25   \n",
       "2009                         600.0  ...          0.25          0.25   \n",
       "2010                         525.0  ...          0.25          0.25   \n",
       "\n",
       "          Rate 2020 Q4  Rate 2021 Q1  constr_index 2020 Q1  \\\n",
       "postcode                                                     \n",
       "2000           0.15625           0.1                 116.0   \n",
       "2007           0.15625           0.1                 116.0   \n",
       "2008           0.15625           0.1                 116.0   \n",
       "2009           0.15625           0.1                 116.0   \n",
       "2010           0.15625           0.1                 116.0   \n",
       "\n",
       "          constr_index 2020 Q2  constr_index 2020 Q3  constr_index 2020 Q4  \\\n",
       "postcode                                                                     \n",
       "2000                     116.2                 116.2                 116.9   \n",
       "2007                     116.2                 116.2                 116.9   \n",
       "2008                     116.2                 116.2                 116.9   \n",
       "2009                     116.2                 116.2                 116.9   \n",
       "2010                     116.2                 116.2                 116.9   \n",
       "\n",
       "          constr_index 2021 Q1  price_delta  \n",
       "postcode                                     \n",
       "2000                     117.8    23.513514  \n",
       "2007                     117.8    17.204301  \n",
       "2008                     117.8   -13.723512  \n",
       "2009                     117.8    10.511628  \n",
       "2010                     117.8    -3.145161  \n",
       "\n",
       "[5 rows x 72 columns]"
      ]
     },
     "execution_count": 58,
     "metadata": {},
     "output_type": "execute_result"
    }
   ],
   "source": [
    "modelDF['price_delta'] = ((modelDF['median_price 2021 Q1']/modelDF['median_price 2020 Q4'])-1)*100\n",
    "modelDF.head()"
   ]
  },
  {
   "cell_type": "code",
   "execution_count": 59,
   "id": "a76073b0",
   "metadata": {
    "hidden": true
   },
   "outputs": [
    {
     "data": {
      "text/plain": [
       "count    573.000000\n",
       "mean       6.811960\n",
       "std       39.583497\n",
       "min      -82.401091\n",
       "25%        0.000000\n",
       "50%        3.751705\n",
       "75%       10.012361\n",
       "max      660.500000\n",
       "Name: price_delta, dtype: float64"
      ]
     },
     "execution_count": 59,
     "metadata": {},
     "output_type": "execute_result"
    }
   ],
   "source": [
    "modelDF.price_delta.describe()"
   ]
  },
  {
   "cell_type": "code",
   "execution_count": 60,
   "id": "03ddba5f",
   "metadata": {
    "hidden": true,
    "scrolled": true
   },
   "outputs": [
    {
     "data": {
      "text/plain": [
       "Text(0.5, 1.0, 'Growth rates per postcode')"
      ]
     },
     "execution_count": 60,
     "metadata": {},
     "output_type": "execute_result"
    },
    {
     "data": {
      "image/png": "[encoded data removed]",
      "text/plain": [
       "<Figure size 1080x288 with 1 Axes>"
      ]
     },
     "metadata": {},
     "output_type": "display_data"
    }
   ],
   "source": [
    "plt.figure(figsize=(15,4))\n",
    "modelDF.price_delta.plot()\n",
    "plt.title('Growth rates per postcode')"
   ]
  },
  {
   "cell_type": "markdown",
   "id": "aed4dd1b",
   "metadata": {
    "hidden": true
   },
   "source": [
    "Make a target column:  \n",
    "If the growth rate is more than 5%, target name is \"1\". If not, \"0\"."
   ]
  },
  {
   "cell_type": "code",
   "execution_count": 61,
   "id": "60de2dac",
   "metadata": {
    "hidden": true
   },
   "outputs": [
    {
     "data": {
      "text/html": [
       "<div>\n",
       "<style scoped>\n",
       "    .dataframe tbody tr th:only-of-type {\n",
       "        vertical-align: middle;\n",
       "    }\n",
       "\n",
       "    .dataframe tbody tr th {\n",
       "        vertical-align: top;\n",
       "    }\n",
       "\n",
       "    .dataframe thead th {\n",
       "        text-align: right;\n",
       "    }\n",
       "</style>\n",
       "<table border=\"1\" class=\"dataframe\">\n",
       "  <thead>\n",
       "    <tr style=\"text-align: right;\">\n",
       "      <th></th>\n",
       "      <th>median_price 2020 Q1</th>\n",
       "      <th>median_price 2020 Q2</th>\n",
       "      <th>median_price 2020 Q3</th>\n",
       "      <th>median_price 2020 Q4</th>\n",
       "      <th>median_price 2021 Q1</th>\n",
       "      <th>median_rent_newb 2020 Q1</th>\n",
       "      <th>median_rent_newb 2020 Q2</th>\n",
       "      <th>median_rent_newb 2020 Q3</th>\n",
       "      <th>median_rent_newb 2020 Q4</th>\n",
       "      <th>median_rent_newb 2021 Q1</th>\n",
       "      <th>...</th>\n",
       "      <th>Rate 2020 Q3</th>\n",
       "      <th>Rate 2020 Q4</th>\n",
       "      <th>Rate 2021 Q1</th>\n",
       "      <th>constr_index 2020 Q1</th>\n",
       "      <th>constr_index 2020 Q2</th>\n",
       "      <th>constr_index 2020 Q3</th>\n",
       "      <th>constr_index 2020 Q4</th>\n",
       "      <th>constr_index 2021 Q1</th>\n",
       "      <th>price_delta</th>\n",
       "      <th>gt5</th>\n",
       "    </tr>\n",
       "    <tr>\n",
       "      <th>postcode</th>\n",
       "      <th></th>\n",
       "      <th></th>\n",
       "      <th></th>\n",
       "      <th></th>\n",
       "      <th></th>\n",
       "      <th></th>\n",
       "      <th></th>\n",
       "      <th></th>\n",
       "      <th></th>\n",
       "      <th></th>\n",
       "      <th></th>\n",
       "      <th></th>\n",
       "      <th></th>\n",
       "      <th></th>\n",
       "      <th></th>\n",
       "      <th></th>\n",
       "      <th></th>\n",
       "      <th></th>\n",
       "      <th></th>\n",
       "      <th></th>\n",
       "      <th></th>\n",
       "    </tr>\n",
       "  </thead>\n",
       "  <tbody>\n",
       "    <tr>\n",
       "      <th>2000</th>\n",
       "      <td>1225.0</td>\n",
       "      <td>1000.0</td>\n",
       "      <td>1390.0</td>\n",
       "      <td>1110.0</td>\n",
       "      <td>1371.0</td>\n",
       "      <td>700.0</td>\n",
       "      <td>630.0</td>\n",
       "      <td>600.0</td>\n",
       "      <td>550.0</td>\n",
       "      <td>600.0</td>\n",
       "      <td>...</td>\n",
       "      <td>0.25</td>\n",
       "      <td>0.15625</td>\n",
       "      <td>0.1</td>\n",
       "      <td>116.0</td>\n",
       "      <td>116.2</td>\n",
       "      <td>116.2</td>\n",
       "      <td>116.9</td>\n",
       "      <td>117.8</td>\n",
       "      <td>23.513514</td>\n",
       "      <td>1</td>\n",
       "    </tr>\n",
       "    <tr>\n",
       "      <th>2007</th>\n",
       "      <td>745.0</td>\n",
       "      <td>775.0</td>\n",
       "      <td>655.0</td>\n",
       "      <td>651.0</td>\n",
       "      <td>763.0</td>\n",
       "      <td>550.0</td>\n",
       "      <td>560.0</td>\n",
       "      <td>500.0</td>\n",
       "      <td>480.0</td>\n",
       "      <td>455.0</td>\n",
       "      <td>...</td>\n",
       "      <td>0.25</td>\n",
       "      <td>0.15625</td>\n",
       "      <td>0.1</td>\n",
       "      <td>116.0</td>\n",
       "      <td>116.2</td>\n",
       "      <td>116.2</td>\n",
       "      <td>116.9</td>\n",
       "      <td>117.8</td>\n",
       "      <td>17.204301</td>\n",
       "      <td>1</td>\n",
       "    </tr>\n",
       "    <tr>\n",
       "      <th>2008</th>\n",
       "      <td>750.0</td>\n",
       "      <td>1173.0</td>\n",
       "      <td>890.0</td>\n",
       "      <td>991.0</td>\n",
       "      <td>855.0</td>\n",
       "      <td>595.0</td>\n",
       "      <td>535.0</td>\n",
       "      <td>530.0</td>\n",
       "      <td>490.0</td>\n",
       "      <td>500.0</td>\n",
       "      <td>...</td>\n",
       "      <td>0.25</td>\n",
       "      <td>0.15625</td>\n",
       "      <td>0.1</td>\n",
       "      <td>116.0</td>\n",
       "      <td>116.2</td>\n",
       "      <td>116.2</td>\n",
       "      <td>116.9</td>\n",
       "      <td>117.8</td>\n",
       "      <td>-13.723512</td>\n",
       "      <td>0</td>\n",
       "    </tr>\n",
       "    <tr>\n",
       "      <th>2009</th>\n",
       "      <td>986.0</td>\n",
       "      <td>1100.0</td>\n",
       "      <td>1085.0</td>\n",
       "      <td>1075.0</td>\n",
       "      <td>1188.0</td>\n",
       "      <td>700.0</td>\n",
       "      <td>580.0</td>\n",
       "      <td>595.0</td>\n",
       "      <td>550.0</td>\n",
       "      <td>600.0</td>\n",
       "      <td>...</td>\n",
       "      <td>0.25</td>\n",
       "      <td>0.15625</td>\n",
       "      <td>0.1</td>\n",
       "      <td>116.0</td>\n",
       "      <td>116.2</td>\n",
       "      <td>116.2</td>\n",
       "      <td>116.9</td>\n",
       "      <td>117.8</td>\n",
       "      <td>10.511628</td>\n",
       "      <td>1</td>\n",
       "    </tr>\n",
       "    <tr>\n",
       "      <th>2010</th>\n",
       "      <td>1280.0</td>\n",
       "      <td>1325.0</td>\n",
       "      <td>1270.0</td>\n",
       "      <td>1240.0</td>\n",
       "      <td>1201.0</td>\n",
       "      <td>640.0</td>\n",
       "      <td>575.0</td>\n",
       "      <td>550.0</td>\n",
       "      <td>518.0</td>\n",
       "      <td>525.0</td>\n",
       "      <td>...</td>\n",
       "      <td>0.25</td>\n",
       "      <td>0.15625</td>\n",
       "      <td>0.1</td>\n",
       "      <td>116.0</td>\n",
       "      <td>116.2</td>\n",
       "      <td>116.2</td>\n",
       "      <td>116.9</td>\n",
       "      <td>117.8</td>\n",
       "      <td>-3.145161</td>\n",
       "      <td>0</td>\n",
       "    </tr>\n",
       "    <tr>\n",
       "      <th>...</th>\n",
       "      <td>...</td>\n",
       "      <td>...</td>\n",
       "      <td>...</td>\n",
       "      <td>...</td>\n",
       "      <td>...</td>\n",
       "      <td>...</td>\n",
       "      <td>...</td>\n",
       "      <td>...</td>\n",
       "      <td>...</td>\n",
       "      <td>...</td>\n",
       "      <td>...</td>\n",
       "      <td>...</td>\n",
       "      <td>...</td>\n",
       "      <td>...</td>\n",
       "      <td>...</td>\n",
       "      <td>...</td>\n",
       "      <td>...</td>\n",
       "      <td>...</td>\n",
       "      <td>...</td>\n",
       "      <td>...</td>\n",
       "      <td>...</td>\n",
       "    </tr>\n",
       "    <tr>\n",
       "      <th>2876</th>\n",
       "      <td>705.0</td>\n",
       "      <td>725.0</td>\n",
       "      <td>724.0</td>\n",
       "      <td>733.0</td>\n",
       "      <td>760.5</td>\n",
       "      <td>450.0</td>\n",
       "      <td>450.0</td>\n",
       "      <td>450.0</td>\n",
       "      <td>450.0</td>\n",
       "      <td>450.0</td>\n",
       "      <td>...</td>\n",
       "      <td>0.25</td>\n",
       "      <td>0.15625</td>\n",
       "      <td>0.1</td>\n",
       "      <td>116.0</td>\n",
       "      <td>116.2</td>\n",
       "      <td>116.2</td>\n",
       "      <td>116.9</td>\n",
       "      <td>117.8</td>\n",
       "      <td>3.751705</td>\n",
       "      <td>0</td>\n",
       "    </tr>\n",
       "    <tr>\n",
       "      <th>2877</th>\n",
       "      <td>705.0</td>\n",
       "      <td>725.0</td>\n",
       "      <td>195.0</td>\n",
       "      <td>220.0</td>\n",
       "      <td>195.0</td>\n",
       "      <td>250.0</td>\n",
       "      <td>245.0</td>\n",
       "      <td>250.0</td>\n",
       "      <td>450.0</td>\n",
       "      <td>220.0</td>\n",
       "      <td>...</td>\n",
       "      <td>0.25</td>\n",
       "      <td>0.15625</td>\n",
       "      <td>0.1</td>\n",
       "      <td>116.0</td>\n",
       "      <td>116.2</td>\n",
       "      <td>116.2</td>\n",
       "      <td>116.9</td>\n",
       "      <td>117.8</td>\n",
       "      <td>-11.363636</td>\n",
       "      <td>0</td>\n",
       "    </tr>\n",
       "    <tr>\n",
       "      <th>2878</th>\n",
       "      <td>705.0</td>\n",
       "      <td>725.0</td>\n",
       "      <td>724.0</td>\n",
       "      <td>733.0</td>\n",
       "      <td>760.5</td>\n",
       "      <td>450.0</td>\n",
       "      <td>450.0</td>\n",
       "      <td>450.0</td>\n",
       "      <td>450.0</td>\n",
       "      <td>450.0</td>\n",
       "      <td>...</td>\n",
       "      <td>0.25</td>\n",
       "      <td>0.15625</td>\n",
       "      <td>0.1</td>\n",
       "      <td>116.0</td>\n",
       "      <td>116.2</td>\n",
       "      <td>116.2</td>\n",
       "      <td>116.9</td>\n",
       "      <td>117.8</td>\n",
       "      <td>3.751705</td>\n",
       "      <td>0</td>\n",
       "    </tr>\n",
       "    <tr>\n",
       "      <th>2879</th>\n",
       "      <td>705.0</td>\n",
       "      <td>725.0</td>\n",
       "      <td>724.0</td>\n",
       "      <td>733.0</td>\n",
       "      <td>760.5</td>\n",
       "      <td>450.0</td>\n",
       "      <td>450.0</td>\n",
       "      <td>450.0</td>\n",
       "      <td>450.0</td>\n",
       "      <td>450.0</td>\n",
       "      <td>...</td>\n",
       "      <td>0.25</td>\n",
       "      <td>0.15625</td>\n",
       "      <td>0.1</td>\n",
       "      <td>116.0</td>\n",
       "      <td>116.2</td>\n",
       "      <td>116.2</td>\n",
       "      <td>116.9</td>\n",
       "      <td>117.8</td>\n",
       "      <td>3.751705</td>\n",
       "      <td>0</td>\n",
       "    </tr>\n",
       "    <tr>\n",
       "      <th>2880</th>\n",
       "      <td>125.0</td>\n",
       "      <td>130.0</td>\n",
       "      <td>126.0</td>\n",
       "      <td>123.0</td>\n",
       "      <td>120.0</td>\n",
       "      <td>260.0</td>\n",
       "      <td>230.0</td>\n",
       "      <td>250.0</td>\n",
       "      <td>250.0</td>\n",
       "      <td>270.0</td>\n",
       "      <td>...</td>\n",
       "      <td>0.25</td>\n",
       "      <td>0.15625</td>\n",
       "      <td>0.1</td>\n",
       "      <td>116.0</td>\n",
       "      <td>116.2</td>\n",
       "      <td>116.2</td>\n",
       "      <td>116.9</td>\n",
       "      <td>117.8</td>\n",
       "      <td>-2.439024</td>\n",
       "      <td>0</td>\n",
       "    </tr>\n",
       "  </tbody>\n",
       "</table>\n",
       "<p>573 rows × 73 columns</p>\n",
       "</div>"
      ],
      "text/plain": [
       "          median_price 2020 Q1  median_price 2020 Q2  median_price 2020 Q3  \\\n",
       "postcode                                                                     \n",
       "2000                    1225.0                1000.0                1390.0   \n",
       "2007                     745.0                 775.0                 655.0   \n",
       "2008                     750.0                1173.0                 890.0   \n",
       "2009                     986.0                1100.0                1085.0   \n",
       "2010                    1280.0                1325.0                1270.0   \n",
       "...                        ...                   ...                   ...   \n",
       "2876                     705.0                 725.0                 724.0   \n",
       "2877                     705.0                 725.0                 195.0   \n",
       "2878                     705.0                 725.0                 724.0   \n",
       "2879                     705.0                 725.0                 724.0   \n",
       "2880                     125.0                 130.0                 126.0   \n",
       "\n",
       "          median_price 2020 Q4  median_price 2021 Q1  \\\n",
       "postcode                                               \n",
       "2000                    1110.0                1371.0   \n",
       "2007                     651.0                 763.0   \n",
       "2008                     991.0                 855.0   \n",
       "2009                    1075.0                1188.0   \n",
       "2010                    1240.0                1201.0   \n",
       "...                        ...                   ...   \n",
       "2876                     733.0                 760.5   \n",
       "2877                     220.0                 195.0   \n",
       "2878                     733.0                 760.5   \n",
       "2879                     733.0                 760.5   \n",
       "2880                     123.0                 120.0   \n",
       "\n",
       "          median_rent_newb 2020 Q1  median_rent_newb 2020 Q2  \\\n",
       "postcode                                                       \n",
       "2000                         700.0                     630.0   \n",
       "2007                         550.0                     560.0   \n",
       "2008                         595.0                     535.0   \n",
       "2009                         700.0                     580.0   \n",
       "2010                         640.0                     575.0   \n",
       "...                            ...                       ...   \n",
       "2876                         450.0                     450.0   \n",
       "2877                         250.0                     245.0   \n",
       "2878                         450.0                     450.0   \n",
       "2879                         450.0                     450.0   \n",
       "2880                         260.0                     230.0   \n",
       "\n",
       "          median_rent_newb 2020 Q3  median_rent_newb 2020 Q4  \\\n",
       "postcode                                                       \n",
       "2000                         600.0                     550.0   \n",
       "2007                         500.0                     480.0   \n",
       "2008                         530.0                     490.0   \n",
       "2009                         595.0                     550.0   \n",
       "2010                         550.0                     518.0   \n",
       "...                            ...                       ...   \n",
       "2876                         450.0                     450.0   \n",
       "2877                         250.0                     450.0   \n",
       "2878                         450.0                     450.0   \n",
       "2879                         450.0                     450.0   \n",
       "2880                         250.0                     250.0   \n",
       "\n",
       "          median_rent_newb 2021 Q1  ...  Rate 2020 Q3  Rate 2020 Q4  \\\n",
       "postcode                            ...                               \n",
       "2000                         600.0  ...          0.25       0.15625   \n",
       "2007                         455.0  ...          0.25       0.15625   \n",
       "2008                         500.0  ...          0.25       0.15625   \n",
       "2009                         600.0  ...          0.25       0.15625   \n",
       "2010                         525.0  ...          0.25       0.15625   \n",
       "...                            ...  ...           ...           ...   \n",
       "2876                         450.0  ...          0.25       0.15625   \n",
       "2877                         220.0  ...          0.25       0.15625   \n",
       "2878                         450.0  ...          0.25       0.15625   \n",
       "2879                         450.0  ...          0.25       0.15625   \n",
       "2880                         270.0  ...          0.25       0.15625   \n",
       "\n",
       "          Rate 2021 Q1  constr_index 2020 Q1  constr_index 2020 Q2  \\\n",
       "postcode                                                             \n",
       "2000               0.1                 116.0                 116.2   \n",
       "2007               0.1                 116.0                 116.2   \n",
       "2008               0.1                 116.0                 116.2   \n",
       "2009               0.1                 116.0                 116.2   \n",
       "2010               0.1                 116.0                 116.2   \n",
       "...                ...                   ...                   ...   \n",
       "2876               0.1                 116.0                 116.2   \n",
       "2877               0.1                 116.0                 116.2   \n",
       "2878               0.1                 116.0                 116.2   \n",
       "2879               0.1                 116.0                 116.2   \n",
       "2880               0.1                 116.0                 116.2   \n",
       "\n",
       "          constr_index 2020 Q3  constr_index 2020 Q4  constr_index 2021 Q1  \\\n",
       "postcode                                                                     \n",
       "2000                     116.2                 116.9                 117.8   \n",
       "2007                     116.2                 116.9                 117.8   \n",
       "2008                     116.2                 116.9                 117.8   \n",
       "2009                     116.2                 116.9                 117.8   \n",
       "2010                     116.2                 116.9                 117.8   \n",
       "...                        ...                   ...                   ...   \n",
       "2876                     116.2                 116.9                 117.8   \n",
       "2877                     116.2                 116.9                 117.8   \n",
       "2878                     116.2                 116.9                 117.8   \n",
       "2879                     116.2                 116.9                 117.8   \n",
       "2880                     116.2                 116.9                 117.8   \n",
       "\n",
       "          price_delta  gt5  \n",
       "postcode                    \n",
       "2000        23.513514    1  \n",
       "2007        17.204301    1  \n",
       "2008       -13.723512    0  \n",
       "2009        10.511628    1  \n",
       "2010        -3.145161    0  \n",
       "...               ...  ...  \n",
       "2876         3.751705    0  \n",
       "2877       -11.363636    0  \n",
       "2878         3.751705    0  \n",
       "2879         3.751705    0  \n",
       "2880        -2.439024    0  \n",
       "\n",
       "[573 rows x 73 columns]"
      ]
     },
     "execution_count": 61,
     "metadata": {},
     "output_type": "execute_result"
    }
   ],
   "source": [
    "modelDF['gt5'] = np.where(modelDF.price_delta>5,'1','0')\n",
    "modelDF"
   ]
  },
  {
   "cell_type": "code",
   "execution_count": 68,
   "id": "38fbefe9",
   "metadata": {
    "hidden": true
   },
   "outputs": [
    {
     "name": "stdout",
     "output_type": "stream",
     "text": [
      "This is the distribution of how many postcodes grew more than 5% in 2021 Q1\n"
     ]
    },
    {
     "data": {
      "text/html": [
       "<div>\n",
       "<style scoped>\n",
       "    .dataframe tbody tr th:only-of-type {\n",
       "        vertical-align: middle;\n",
       "    }\n",
       "\n",
       "    .dataframe tbody tr th {\n",
       "        vertical-align: top;\n",
       "    }\n",
       "\n",
       "    .dataframe thead th {\n",
       "        text-align: right;\n",
       "    }\n",
       "</style>\n",
       "<table border=\"1\" class=\"dataframe\">\n",
       "  <thead>\n",
       "    <tr style=\"text-align: right;\">\n",
       "      <th></th>\n",
       "      <th>gt5</th>\n",
       "    </tr>\n",
       "  </thead>\n",
       "  <tbody>\n",
       "    <tr>\n",
       "      <th>0</th>\n",
       "      <td>59.0</td>\n",
       "    </tr>\n",
       "    <tr>\n",
       "      <th>1</th>\n",
       "      <td>41.0</td>\n",
       "    </tr>\n",
       "  </tbody>\n",
       "</table>\n",
       "</div>"
      ],
      "text/plain": [
       "    gt5\n",
       "0  59.0\n",
       "1  41.0"
      ]
     },
     "execution_count": 68,
     "metadata": {},
     "output_type": "execute_result"
    }
   ],
   "source": [
    "print('This is the distribution of how many postcodes grew more than 5% in 2021 Q1')\n",
    "pd.DataFrame(modelDF.gt5.value_counts(normalize=True).round(3)*100)"
   ]
  },
  {
   "cell_type": "markdown",
   "id": "3b202931",
   "metadata": {
    "hidden": true
   },
   "source": [
    "Use Random Forect Classifier and train_test_split to check the accuracy score for predicting if a postcode grew more than 5%."
   ]
  },
  {
   "cell_type": "code",
   "execution_count": 63,
   "id": "5bcf7a54",
   "metadata": {
    "hidden": true
   },
   "outputs": [],
   "source": [
    "# split data\n",
    "X = modelDF.drop(['median_price 2021 Q1','price_delta','gt5'],axis=1)\n",
    "y = modelDF['gt5']\n",
    "X_train, X_test, y_train, y_test = train_test_split(X, y , random_state=1, test_size=.2)\n",
    "\n",
    "rfc = RandomForestClassifier()\n",
    "rfc.fit(X_train,y_train)\n",
    "ypredRFC = rfc.predict(X_test)"
   ]
  },
  {
   "cell_type": "code",
   "execution_count": 64,
   "id": "49bac611",
   "metadata": {
    "hidden": true
   },
   "outputs": [
    {
     "name": "stdout",
     "output_type": "stream",
     "text": [
      "Accuracy score on test data: 0.7304\n"
     ]
    }
   ],
   "source": [
    "print('Accuracy score on test data:',accuracy_score(ypredRFC,y_test).round(4))"
   ]
  },
  {
   "cell_type": "code",
   "execution_count": 65,
   "id": "b75c81eb",
   "metadata": {
    "hidden": true
   },
   "outputs": [],
   "source": [
    "rfc = RandomForestClassifier()\n",
    "scoreRFC = cross_val_score(rfc, modelDF.drop(['median_price 2021 Q1','price_delta','gt5'],axis=1), # X\n",
    "                            modelDF['gt5'],                                                        # y \n",
    "                           scoring='accuracy',\n",
    "                            cv=KFold(n_splits=5, shuffle=True)) "
   ]
  },
  {
   "cell_type": "code",
   "execution_count": 66,
   "id": "4a2134f6",
   "metadata": {
    "hidden": true
   },
   "outputs": [
    {
     "name": "stdout",
     "output_type": "stream",
     "text": [
      "Using cross-validation:\n",
      "Average accuracy is: 0.6509\n",
      "STDEV: 0.032\n"
     ]
    }
   ],
   "source": [
    "print('Using cross-validation:\\nAverage accuracy is:',scoreRFC.mean().round(4))\n",
    "print('STDEV:',scoreRFC.std().round(4))"
   ]
  },
  {
   "cell_type": "markdown",
   "id": "3ab22fa5",
   "metadata": {
    "hidden": true
   },
   "source": [
    "__Conclusion__"
   ]
  },
  {
   "cell_type": "markdown",
   "id": "999cb016",
   "metadata": {
    "hidden": true
   },
   "source": [
    "Result is better than just guessing which postcodes will increase more than 5%.  \n",
    "\n",
    "However, there might be other data that can help increase the accuracy score, such as:\n",
    "- Employment rate per postcode\n",
    "- Whether there are parks nearby\n",
    "- Possibly many more"
   ]
  },
  {
   "cell_type": "markdown",
   "id": "aa4ba865",
   "metadata": {
    "heading_collapsed": true
   },
   "source": [
    "# Results\n"
   ]
  },
  {
   "cell_type": "markdown",
   "id": "71db9e4a",
   "metadata": {
    "heading_collapsed": true
   },
   "source": [
    "# Conclusion and Outlook\n",
    "Summarise findings and elaborate on implications and scope of model with regards to data sufficiency."
   ]
  }
 ],
 "metadata": {
  "kernelspec": {
   "display_name": "Python 3 (ipykernel)",
   "language": "python",
   "name": "python3"
  },
  "language_info": {
   "codemirror_mode": {
    "name": "ipython",
    "version": 3
   },
   "file_extension": ".py",
   "mimetype": "text/x-python",
   "name": "python",
   "nbconvert_exporter": "python",
   "pygments_lexer": "ipython3",
   "version": "3.8.3"
  },
  "toc": {
   "base_numbering": 1,
   "nav_menu": {},
   "number_sections": true,
   "sideBar": true,
   "skip_h1_title": false,
   "title_cell": "Table of Contents",
   "title_sidebar": "Contents",
   "toc_cell": true,
   "toc_position": {
    "height": "calc(100% - 180px)",
    "left": "10px",
    "top": "150px",
    "width": "338.8px"
   },
   "toc_section_display": true,
   "toc_window_display": true
  },
  "varInspector": {
   "cols": {
    "lenName": 16,
    "lenType": 16,
    "lenVar": 40
   },
   "kernels_config": {
    "python": {
     "delete_cmd_postfix": "",
     "delete_cmd_prefix": "del ",
     "library": "var_list.py",
     "varRefreshCmd": "print(var_dic_list())"
    },
    "r": {
     "delete_cmd_postfix": ") ",
     "delete_cmd_prefix": "rm(",
     "library": "var_list.r",
     "varRefreshCmd": "cat(var_dic_list()) "
    }
   },
   "oldHeight": 498,
   "position": {
    "height": "40px",
    "left": "933px",
    "right": "20px",
    "top": "120px",
    "width": "300px"
   },
   "types_to_exclude": [
    "module",
    "function",
    "builtin_function_or_method",
    "instance",
    "_Feature"
   ],
   "varInspector_section_display": "none",
   "window_display": true
  }
 },
 "nbformat": 4,
 "nbformat_minor": 5
}
