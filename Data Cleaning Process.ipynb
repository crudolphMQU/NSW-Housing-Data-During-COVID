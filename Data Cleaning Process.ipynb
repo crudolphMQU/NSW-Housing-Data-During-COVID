{
 "cells": [
  {
   "cell_type": "code",
   "execution_count": 1,
   "id": "3ca024e1",
   "metadata": {},
   "outputs": [],
   "source": [
    "import pandas as pd\n",
    "import numpy as np "
   ]
  },
  {
   "cell_type": "markdown",
   "id": "a9fd62c2",
   "metadata": {},
   "source": [
    "# STAGE II-1 CREATE MASTER SALES FILE"
   ]
  },
  {
   "cell_type": "code",
   "execution_count": 22,
   "id": "59b46c69",
   "metadata": {},
   "outputs": [
    {
     "data": {
      "text/html": [
       "<div>\n",
       "<style scoped>\n",
       "    .dataframe tbody tr th:only-of-type {\n",
       "        vertical-align: middle;\n",
       "    }\n",
       "\n",
       "    .dataframe tbody tr th {\n",
       "        vertical-align: top;\n",
       "    }\n",
       "\n",
       "    .dataframe thead th {\n",
       "        text-align: right;\n",
       "    }\n",
       "</style>\n",
       "<table border=\"1\" class=\"dataframe\">\n",
       "  <thead>\n",
       "    <tr style=\"text-align: right;\">\n",
       "      <th></th>\n",
       "      <th>postcode</th>\n",
       "      <th>key</th>\n",
       "      <th>time_period</th>\n",
       "      <th>year</th>\n",
       "      <th>quarter</th>\n",
       "      <th>dwelling_type</th>\n",
       "      <th>median_price</th>\n",
       "      <th>mean_price</th>\n",
       "      <th>sales_no</th>\n",
       "      <th>Qdelta_median</th>\n",
       "      <th>Adelta_median</th>\n",
       "      <th>Qdelta_count</th>\n",
       "      <th>Adelta_count</th>\n",
       "    </tr>\n",
       "  </thead>\n",
       "  <tbody>\n",
       "    <tr>\n",
       "      <th>0</th>\n",
       "      <td>2000</td>\n",
       "      <td>s122</td>\n",
       "      <td>2017 Q3</td>\n",
       "      <td>2017</td>\n",
       "      <td>Q3</td>\n",
       "      <td>Total</td>\n",
       "      <td>1350.0</td>\n",
       "      <td>1516.328059</td>\n",
       "      <td>135.0</td>\n",
       "      <td>0.1345</td>\n",
       "      <td>0.4746</td>\n",
       "      <td>-0.325</td>\n",
       "      <td>-0.3112</td>\n",
       "    </tr>\n",
       "  </tbody>\n",
       "</table>\n",
       "</div>"
      ],
      "text/plain": [
       "   postcode   key time_period  year quarter dwelling_type  median_price  \\\n",
       "0      2000  s122     2017 Q3  2017      Q3         Total        1350.0   \n",
       "\n",
       "    mean_price  sales_no  Qdelta_median  Adelta_median  Qdelta_count  \\\n",
       "0  1516.328059     135.0         0.1345         0.4746        -0.325   \n",
       "\n",
       "   Adelta_count  \n",
       "0       -0.3112  "
      ]
     },
     "execution_count": 22,
     "metadata": {},
     "output_type": "execute_result"
    }
   ],
   "source": [
    "# Read sales 2017-2018\n",
    "\n",
    "sales17_18 = \"Files/sales_2017_2018\"\n",
    "sales17_18 = pd.read_csv(sales17_18, usecols=['postcode', 'dwelling_type', 'median_price', 'mean_price',\n",
    "                                               'sales_no', 'Qdelta_median', 'Adelta_median', 'Qdelta_count',\n",
    "                                               'Adelta_count', 'key', 'time_period', 'year', 'quarter'])\n",
    "\n",
    "cols = ['postcode', 'key', 'time_period', 'year', 'quarter', \n",
    "        'dwelling_type', 'median_price', 'mean_price','sales_no', \n",
    "        'Qdelta_median', 'Adelta_median', 'Qdelta_count','Adelta_count' ]\n",
    "\n",
    "sales17_18 = sales17_18[cols]\n",
    "sales17_18.head(1)"
   ]
  },
  {
   "cell_type": "code",
   "execution_count": 23,
   "id": "bba7ae8b",
   "metadata": {},
   "outputs": [
    {
     "data": {
      "text/html": [
       "<div>\n",
       "<style scoped>\n",
       "    .dataframe tbody tr th:only-of-type {\n",
       "        vertical-align: middle;\n",
       "    }\n",
       "\n",
       "    .dataframe tbody tr th {\n",
       "        vertical-align: top;\n",
       "    }\n",
       "\n",
       "    .dataframe thead th {\n",
       "        text-align: right;\n",
       "    }\n",
       "</style>\n",
       "<table border=\"1\" class=\"dataframe\">\n",
       "  <thead>\n",
       "    <tr style=\"text-align: right;\">\n",
       "      <th></th>\n",
       "      <th>postcode</th>\n",
       "      <th>key</th>\n",
       "      <th>time_period</th>\n",
       "      <th>year</th>\n",
       "      <th>quarter</th>\n",
       "      <th>dwelling_type</th>\n",
       "      <th>median_price</th>\n",
       "      <th>mean_price</th>\n",
       "      <th>sales_no</th>\n",
       "      <th>Qdelta_median</th>\n",
       "      <th>Adelta_median</th>\n",
       "      <th>Qdelta_count</th>\n",
       "      <th>Adelta_count</th>\n",
       "    </tr>\n",
       "  </thead>\n",
       "  <tbody>\n",
       "    <tr>\n",
       "      <th>0</th>\n",
       "      <td>2000</td>\n",
       "      <td>s128</td>\n",
       "      <td>2019 Q1</td>\n",
       "      <td>2019</td>\n",
       "      <td>Q1</td>\n",
       "      <td>Total</td>\n",
       "      <td>1160.0</td>\n",
       "      <td>1348.0</td>\n",
       "      <td>103.0</td>\n",
       "      <td>-0.0169</td>\n",
       "      <td>-0.1375</td>\n",
       "      <td>-0.1043</td>\n",
       "      <td>-0.1488</td>\n",
       "    </tr>\n",
       "  </tbody>\n",
       "</table>\n",
       "</div>"
      ],
      "text/plain": [
       "   postcode   key time_period  year quarter dwelling_type  median_price  \\\n",
       "0      2000  s128     2019 Q1  2019      Q1         Total        1160.0   \n",
       "\n",
       "   mean_price  sales_no  Qdelta_median  Adelta_median  Qdelta_count  \\\n",
       "0      1348.0     103.0        -0.0169        -0.1375       -0.1043   \n",
       "\n",
       "   Adelta_count  \n",
       "0       -0.1488  "
      ]
     },
     "execution_count": 23,
     "metadata": {},
     "output_type": "execute_result"
    }
   ],
   "source": [
    "# Read sales 2019-2021\n",
    "\n",
    "sales19_21 = \"Files/sales_2019_2021\"\n",
    "sales19_21 = pd.read_csv(sales19_21, usecols=['postcode', 'dwelling_type', 'median_price', 'mean_price',\n",
    "                                               'sales_no', 'Qdelta_median', 'Adelta_median', 'Qdelta_count',\n",
    "                                               'Adelta_count', 'key', 'time_period', 'year', 'quarter'])\n",
    "\n",
    "cols = ['postcode', 'key', 'time_period', 'year', 'quarter', \n",
    "        'dwelling_type', 'median_price', 'mean_price','sales_no', \n",
    "        'Qdelta_median', 'Adelta_median', 'Qdelta_count','Adelta_count' ]\n",
    "\n",
    "sales19_21 = sales19_21[cols]\n",
    "sales19_21.head(1)"
   ]
  },
  {
   "cell_type": "code",
   "execution_count": 24,
   "id": "0fbaab7d",
   "metadata": {},
   "outputs": [
    {
     "name": "stdout",
     "output_type": "stream",
     "text": [
      "time_period\n",
      "2017 Q3    1404\n",
      "2017 Q4    1409\n",
      "2018 Q1    1371\n",
      "2018 Q2    1378\n",
      "2018 Q3    1338\n",
      "2018 Q4    1372\n",
      "2019 Q1    1332\n",
      "2019 Q2    1356\n",
      "2019 Q3    1377\n",
      "2019 Q4    1382\n",
      "2020 Q1    1361\n",
      "2020 Q2    1332\n",
      "2020 Q3    1419\n",
      "2020 Q4    1459\n",
      "2021 Q1    1427\n",
      "dtype: int64\n"
     ]
    }
   ],
   "source": [
    "# Concatenate the two sales files \n",
    "sales_full = pd.concat([sales17_18, sales19_21])\n",
    "\n",
    "# Check if all quarters are present\n",
    "print(sales_full.groupby('time_period').size())"
   ]
  },
  {
   "cell_type": "code",
   "execution_count": 25,
   "id": "7d2405aa",
   "metadata": {},
   "outputs": [
    {
     "data": {
      "text/plain": [
       "postcode            0\n",
       "key                 0\n",
       "time_period         0\n",
       "year                0\n",
       "quarter             0\n",
       "dwelling_type       0\n",
       "median_price        0\n",
       "mean_price          0\n",
       "sales_no            0\n",
       "Qdelta_median    5857\n",
       "Adelta_median    5861\n",
       "Qdelta_count     5857\n",
       "Adelta_count     5861\n",
       "dtype: int64"
      ]
     },
     "execution_count": 25,
     "metadata": {},
     "output_type": "execute_result"
    }
   ],
   "source": [
    "# Check null values\n",
    "sales_full.isnull().sum()\n",
    "\n",
    "# We don't really care about null values in the delta columns right?"
   ]
  },
  {
   "cell_type": "code",
   "execution_count": null,
   "id": "063f3f15",
   "metadata": {},
   "outputs": [],
   "source": [
    "sales_full.to_csv('Files/Cleaned/Sales_2017Q3_2021Q1_Clean.csv', index=False)"
   ]
  },
  {
   "cell_type": "markdown",
   "id": "605e6d03",
   "metadata": {},
   "source": [
    "# STAGE II-2 CREATE MASTER RENT FILE"
   ]
  },
  {
   "cell_type": "code",
   "execution_count": 6,
   "id": "7d8b6903",
   "metadata": {},
   "outputs": [
    {
     "data": {
      "text/html": [
       "<div>\n",
       "<style scoped>\n",
       "    .dataframe tbody tr th:only-of-type {\n",
       "        vertical-align: middle;\n",
       "    }\n",
       "\n",
       "    .dataframe tbody tr th {\n",
       "        vertical-align: top;\n",
       "    }\n",
       "\n",
       "    .dataframe thead th {\n",
       "        text-align: right;\n",
       "    }\n",
       "</style>\n",
       "<table border=\"1\" class=\"dataframe\">\n",
       "  <thead>\n",
       "    <tr style=\"text-align: right;\">\n",
       "      <th></th>\n",
       "      <th>postcode</th>\n",
       "      <th>median_rent_newb</th>\n",
       "      <th>new_bonds_no</th>\n",
       "      <th>total_bonds_no</th>\n",
       "      <th>Qdelta_median_rent</th>\n",
       "      <th>Qdelta_new_bonds</th>\n",
       "      <th>key</th>\n",
       "      <th>Adelta_median_rent</th>\n",
       "      <th>Adelta_new_bonds</th>\n",
       "    </tr>\n",
       "  </thead>\n",
       "  <tbody>\n",
       "    <tr>\n",
       "      <th>0</th>\n",
       "      <td>2000</td>\n",
       "      <td>640.0</td>\n",
       "      <td>1169.0</td>\n",
       "      <td>7914.0</td>\n",
       "      <td>-0.2000</td>\n",
       "      <td>0.5545</td>\n",
       "      <td>r122</td>\n",
       "      <td>NaN</td>\n",
       "      <td>NaN</td>\n",
       "    </tr>\n",
       "    <tr>\n",
       "      <th>1</th>\n",
       "      <td>2007</td>\n",
       "      <td>535.0</td>\n",
       "      <td>301.0</td>\n",
       "      <td>2231.0</td>\n",
       "      <td>-0.1371</td>\n",
       "      <td>1.1049</td>\n",
       "      <td>r122</td>\n",
       "      <td>NaN</td>\n",
       "      <td>NaN</td>\n",
       "    </tr>\n",
       "    <tr>\n",
       "      <th>2</th>\n",
       "      <td>2008</td>\n",
       "      <td>479.0</td>\n",
       "      <td>762.0</td>\n",
       "      <td>5020.0</td>\n",
       "      <td>-0.1812</td>\n",
       "      <td>1.3374</td>\n",
       "      <td>r122</td>\n",
       "      <td>NaN</td>\n",
       "      <td>NaN</td>\n",
       "    </tr>\n",
       "    <tr>\n",
       "      <th>3</th>\n",
       "      <td>2009</td>\n",
       "      <td>745.0</td>\n",
       "      <td>232.0</td>\n",
       "      <td>2966.0</td>\n",
       "      <td>-0.0067</td>\n",
       "      <td>-0.0720</td>\n",
       "      <td>r122</td>\n",
       "      <td>NaN</td>\n",
       "      <td>NaN</td>\n",
       "    </tr>\n",
       "    <tr>\n",
       "      <th>4</th>\n",
       "      <td>2010</td>\n",
       "      <td>650.0</td>\n",
       "      <td>805.0</td>\n",
       "      <td>8978.0</td>\n",
       "      <td>-0.0152</td>\n",
       "      <td>-0.0451</td>\n",
       "      <td>r122</td>\n",
       "      <td>NaN</td>\n",
       "      <td>NaN</td>\n",
       "    </tr>\n",
       "  </tbody>\n",
       "</table>\n",
       "</div>"
      ],
      "text/plain": [
       "   postcode  median_rent_newb  new_bonds_no  total_bonds_no  \\\n",
       "0      2000             640.0        1169.0          7914.0   \n",
       "1      2007             535.0         301.0          2231.0   \n",
       "2      2008             479.0         762.0          5020.0   \n",
       "3      2009             745.0         232.0          2966.0   \n",
       "4      2010             650.0         805.0          8978.0   \n",
       "\n",
       "   Qdelta_median_rent  Qdelta_new_bonds   key  Adelta_median_rent  \\\n",
       "0             -0.2000            0.5545  r122                 NaN   \n",
       "1             -0.1371            1.1049  r122                 NaN   \n",
       "2             -0.1812            1.3374  r122                 NaN   \n",
       "3             -0.0067           -0.0720  r122                 NaN   \n",
       "4             -0.0152           -0.0451  r122                 NaN   \n",
       "\n",
       "   Adelta_new_bonds  \n",
       "0               NaN  \n",
       "1               NaN  \n",
       "2               NaN  \n",
       "3               NaN  \n",
       "4               NaN  "
      ]
     },
     "execution_count": 6,
     "metadata": {},
     "output_type": "execute_result"
    }
   ],
   "source": [
    "# Read rent 2017-2018\n",
    "rent17_18 = \"Files/rent_2017_2018\"\n",
    "rent17_18 = pd.read_csv(rent17_18)\n",
    "\n",
    "# Read rent 2019-2021\n",
    "rent19_21 = \"Files/rent_2019_2021\"\n",
    "rent19_21 = pd.read_csv(rent19_21)\n",
    "\n",
    "# Concat both rent files\n",
    "rent_full = pd.concat([rent17_18, rent19_21])\n",
    "rent_full.head()"
   ]
  },
  {
   "cell_type": "code",
   "execution_count": 7,
   "id": "99cf3cde",
   "metadata": {},
   "outputs": [
    {
     "data": {
      "text/plain": [
       "postcode                 0\n",
       "median_rent_newb         0\n",
       "new_bonds_no             0\n",
       "total_bonds_no           0\n",
       "Qdelta_median_rent    3187\n",
       "Qdelta_new_bonds      3066\n",
       "key                      0\n",
       "Adelta_median_rent    3179\n",
       "Adelta_new_bonds      3179\n",
       "dtype: int64"
      ]
     },
     "execution_count": 7,
     "metadata": {},
     "output_type": "execute_result"
    }
   ],
   "source": [
    "# Check null values\n",
    "rent_full.isnull().sum()"
   ]
  },
  {
   "cell_type": "code",
   "execution_count": 8,
   "id": "ab705bcc",
   "metadata": {},
   "outputs": [
    {
     "data": {
      "text/plain": [
       "key\n",
       "r122    612\n",
       "r123    612\n",
       "r124    637\n",
       "r125    639\n",
       "r126    638\n",
       "r127    636\n",
       "r128    637\n",
       "r129    640\n",
       "r130    641\n",
       "r131    641\n",
       "r132    619\n",
       "r133    617\n",
       "r134    617\n",
       "r135    620\n",
       "r136    617\n",
       "dtype: int64"
      ]
     },
     "execution_count": 8,
     "metadata": {},
     "output_type": "execute_result"
    }
   ],
   "source": [
    "# Check all quarters are presented\n",
    "rent_full.groupby('key').size()"
   ]
  },
  {
   "cell_type": "markdown",
   "id": "a5e5ba9b",
   "metadata": {},
   "source": [
    "**@Chirs** Is r136 Q2 2021? I didn't see Q2 2021 rent file in the 'rent/2019-2021' folder"
   ]
  },
  {
   "cell_type": "code",
   "execution_count": 9,
   "id": "434e0caf",
   "metadata": {},
   "outputs": [
    {
     "data": {
      "text/plain": [
       "time_period\n",
       "2017 Q4    612\n",
       "2018 Q1    612\n",
       "2018 Q2    637\n",
       "2018 Q3    639\n",
       "2018 Q4    638\n",
       "2019 Q1    636\n",
       "2019 Q2    637\n",
       "2019 Q3    640\n",
       "2019 Q4    641\n",
       "2020 Q1    641\n",
       "2020 Q2    619\n",
       "2020 Q3    617\n",
       "2020 Q4    617\n",
       "2021 Q1    620\n",
       "2021 Q2    617\n",
       "dtype: int64"
      ]
     },
     "execution_count": 9,
     "metadata": {},
     "output_type": "execute_result"
    }
   ],
   "source": [
    "# Need to map keys to time_periods so that can merge it with sales data\n",
    "\n",
    "tp = ['2017 Q4', \n",
    "      '2018 Q1', '2018 Q2', '2018 Q3', '2018 Q4', \n",
    "      '2019 Q1', '2019 Q2', '2019 Q3', '2019 Q4', \n",
    "      '2020 Q1', '2020 Q2', '2020 Q3', '2020 Q4', \n",
    "      '2021 Q1', '2021 Q2']\n",
    "rkeys = ['r122', \n",
    "         'r123','r124','r125','r126',\n",
    "         'r127','r128','r129','r130',\n",
    "         'r131','r132','r133','r134',\n",
    "         'r135','r136']\n",
    "\n",
    "rent_full['time_period'] = np.nan\n",
    "\n",
    "for i in list(range(0,15)):\n",
    "    rent_full.loc[rent_full['key']==rkeys[i], 'time_period']=tp[i]\n",
    "    \n",
    "rent_full.groupby('time_period').size()"
   ]
  },
  {
   "cell_type": "code",
   "execution_count": 10,
   "id": "19aa3649",
   "metadata": {},
   "outputs": [
    {
     "data": {
      "text/html": [
       "<div>\n",
       "<style scoped>\n",
       "    .dataframe tbody tr th:only-of-type {\n",
       "        vertical-align: middle;\n",
       "    }\n",
       "\n",
       "    .dataframe tbody tr th {\n",
       "        vertical-align: top;\n",
       "    }\n",
       "\n",
       "    .dataframe thead th {\n",
       "        text-align: right;\n",
       "    }\n",
       "</style>\n",
       "<table border=\"1\" class=\"dataframe\">\n",
       "  <thead>\n",
       "    <tr style=\"text-align: right;\">\n",
       "      <th></th>\n",
       "      <th>postcode</th>\n",
       "      <th>rkey</th>\n",
       "      <th>time_period</th>\n",
       "      <th>median_rent_newb</th>\n",
       "      <th>new_bonds_no</th>\n",
       "      <th>total_bonds_no</th>\n",
       "      <th>Qdelta_median_rent</th>\n",
       "      <th>Qdelta_new_bonds</th>\n",
       "      <th>Adelta_median_rent</th>\n",
       "      <th>Adelta_new_bonds</th>\n",
       "    </tr>\n",
       "  </thead>\n",
       "  <tbody>\n",
       "    <tr>\n",
       "      <th>0</th>\n",
       "      <td>2000</td>\n",
       "      <td>r122</td>\n",
       "      <td>2017 Q4</td>\n",
       "      <td>640.0</td>\n",
       "      <td>1169.0</td>\n",
       "      <td>7914.0</td>\n",
       "      <td>-0.2000</td>\n",
       "      <td>0.5545</td>\n",
       "      <td>NaN</td>\n",
       "      <td>NaN</td>\n",
       "    </tr>\n",
       "    <tr>\n",
       "      <th>1</th>\n",
       "      <td>2007</td>\n",
       "      <td>r122</td>\n",
       "      <td>2017 Q4</td>\n",
       "      <td>535.0</td>\n",
       "      <td>301.0</td>\n",
       "      <td>2231.0</td>\n",
       "      <td>-0.1371</td>\n",
       "      <td>1.1049</td>\n",
       "      <td>NaN</td>\n",
       "      <td>NaN</td>\n",
       "    </tr>\n",
       "    <tr>\n",
       "      <th>2</th>\n",
       "      <td>2008</td>\n",
       "      <td>r122</td>\n",
       "      <td>2017 Q4</td>\n",
       "      <td>479.0</td>\n",
       "      <td>762.0</td>\n",
       "      <td>5020.0</td>\n",
       "      <td>-0.1812</td>\n",
       "      <td>1.3374</td>\n",
       "      <td>NaN</td>\n",
       "      <td>NaN</td>\n",
       "    </tr>\n",
       "    <tr>\n",
       "      <th>3</th>\n",
       "      <td>2009</td>\n",
       "      <td>r122</td>\n",
       "      <td>2017 Q4</td>\n",
       "      <td>745.0</td>\n",
       "      <td>232.0</td>\n",
       "      <td>2966.0</td>\n",
       "      <td>-0.0067</td>\n",
       "      <td>-0.0720</td>\n",
       "      <td>NaN</td>\n",
       "      <td>NaN</td>\n",
       "    </tr>\n",
       "    <tr>\n",
       "      <th>4</th>\n",
       "      <td>2010</td>\n",
       "      <td>r122</td>\n",
       "      <td>2017 Q4</td>\n",
       "      <td>650.0</td>\n",
       "      <td>805.0</td>\n",
       "      <td>8978.0</td>\n",
       "      <td>-0.0152</td>\n",
       "      <td>-0.0451</td>\n",
       "      <td>NaN</td>\n",
       "      <td>NaN</td>\n",
       "    </tr>\n",
       "  </tbody>\n",
       "</table>\n",
       "</div>"
      ],
      "text/plain": [
       "   postcode  rkey time_period  median_rent_newb  new_bonds_no  total_bonds_no  \\\n",
       "0      2000  r122     2017 Q4             640.0        1169.0          7914.0   \n",
       "1      2007  r122     2017 Q4             535.0         301.0          2231.0   \n",
       "2      2008  r122     2017 Q4             479.0         762.0          5020.0   \n",
       "3      2009  r122     2017 Q4             745.0         232.0          2966.0   \n",
       "4      2010  r122     2017 Q4             650.0         805.0          8978.0   \n",
       "\n",
       "   Qdelta_median_rent  Qdelta_new_bonds  Adelta_median_rent  Adelta_new_bonds  \n",
       "0             -0.2000            0.5545                 NaN               NaN  \n",
       "1             -0.1371            1.1049                 NaN               NaN  \n",
       "2             -0.1812            1.3374                 NaN               NaN  \n",
       "3             -0.0067           -0.0720                 NaN               NaN  \n",
       "4             -0.0152           -0.0451                 NaN               NaN  "
      ]
     },
     "execution_count": 10,
     "metadata": {},
     "output_type": "execute_result"
    }
   ],
   "source": [
    "# Update column name of 'key'\n",
    "rent_full = rent_full.rename(columns={'key':'rkey'})\n",
    "\n",
    "\n",
    "# Change columns order\n",
    "cols = ['postcode', 'rkey', 'time_period', 'median_rent_newb', 'new_bonds_no', 'total_bonds_no',\n",
    "       'Qdelta_median_rent', 'Qdelta_new_bonds', 'Adelta_median_rent',\n",
    "       'Adelta_new_bonds']\n",
    "rent_full = rent_full[cols]\n",
    "\n",
    "rent_full.head()"
   ]
  },
  {
   "cell_type": "code",
   "execution_count": null,
   "id": "510f3a7a",
   "metadata": {},
   "outputs": [],
   "source": [
    "# Save full rent data into csv\n",
    "rent_full.to_csv('Files/Cleaned/Rent_2017Q4_2021Q2_Clean.csv', index=False)"
   ]
  },
  {
   "cell_type": "markdown",
   "id": "0ae5d8a8",
   "metadata": {},
   "source": [
    "# STAGE II-3 MERGE MASTER SALES AND RENT DATA"
   ]
  },
  {
   "cell_type": "markdown",
   "id": "8ee79614",
   "metadata": {},
   "source": [
    "Note that we have sales data for Q3 2017 but don't have rent data for the same time period, for the sake of merging, we'll use sales data as the 'left' df and hence will remove data from Q3 2017."
   ]
  },
  {
   "cell_type": "code",
   "execution_count": 30,
   "id": "1737e9b8",
   "metadata": {},
   "outputs": [
    {
     "data": {
      "text/plain": [
       "time_period\n",
       "2017 Q4    1409\n",
       "2018 Q1    1371\n",
       "2018 Q2    1378\n",
       "2018 Q3    1338\n",
       "2018 Q4    1372\n",
       "2019 Q2    1284\n",
       "2019 Q3    1377\n",
       "2019 Q4    1382\n",
       "2020 Q1    1361\n",
       "2020 Q2    1332\n",
       "2020 Q3    1419\n",
       "2020 Q4    1459\n",
       "2021 Q1    1427\n",
       "dtype: int64"
      ]
     },
     "execution_count": 30,
     "metadata": {},
     "output_type": "execute_result"
    }
   ],
   "source": [
    "# Remove Q3 2017 data from saels_full\n",
    "sales_full = sales_full.drop(sales_full[sales_full['time_period']=='2017 Q3'].index)\n",
    "sales_full.groupby('time_period').size()"
   ]
  },
  {
   "cell_type": "code",
   "execution_count": 32,
   "id": "a4c4fb0f",
   "metadata": {},
   "outputs": [],
   "source": [
    "# Change the name of 'key' column from sales to 'skey' to differentiate from 'rkey' in rent\n",
    "sales_full = sales_full.rename(columns={'key':'skey'})"
   ]
  },
  {
   "cell_type": "code",
   "execution_count": 39,
   "id": "92589d59",
   "metadata": {},
   "outputs": [
    {
     "data": {
      "text/html": [
       "<div>\n",
       "<style scoped>\n",
       "    .dataframe tbody tr th:only-of-type {\n",
       "        vertical-align: middle;\n",
       "    }\n",
       "\n",
       "    .dataframe tbody tr th {\n",
       "        vertical-align: top;\n",
       "    }\n",
       "\n",
       "    .dataframe thead th {\n",
       "        text-align: right;\n",
       "    }\n",
       "</style>\n",
       "<table border=\"1\" class=\"dataframe\">\n",
       "  <thead>\n",
       "    <tr style=\"text-align: right;\">\n",
       "      <th></th>\n",
       "      <th>postcode</th>\n",
       "      <th>skey</th>\n",
       "      <th>time_period</th>\n",
       "      <th>year</th>\n",
       "      <th>quarter</th>\n",
       "      <th>dwelling_type</th>\n",
       "      <th>median_price</th>\n",
       "      <th>mean_price</th>\n",
       "      <th>sales_no</th>\n",
       "      <th>Qdelta_median</th>\n",
       "      <th>...</th>\n",
       "      <th>Qdelta_count</th>\n",
       "      <th>Adelta_count</th>\n",
       "      <th>rkey</th>\n",
       "      <th>median_rent_newb</th>\n",
       "      <th>new_bonds_no</th>\n",
       "      <th>total_bonds_no</th>\n",
       "      <th>Qdelta_median_rent</th>\n",
       "      <th>Qdelta_new_bonds</th>\n",
       "      <th>Adelta_median_rent</th>\n",
       "      <th>Adelta_new_bonds</th>\n",
       "    </tr>\n",
       "  </thead>\n",
       "  <tbody>\n",
       "    <tr>\n",
       "      <th>0</th>\n",
       "      <td>2000</td>\n",
       "      <td>s123</td>\n",
       "      <td>2017 Q4</td>\n",
       "      <td>2017</td>\n",
       "      <td>Q4</td>\n",
       "      <td>Total</td>\n",
       "      <td>1315.0</td>\n",
       "      <td>1823.0</td>\n",
       "      <td>183.0</td>\n",
       "      <td>-0.0259</td>\n",
       "      <td>...</td>\n",
       "      <td>0.3456</td>\n",
       "      <td>-0.0758</td>\n",
       "      <td>r122</td>\n",
       "      <td>640.0</td>\n",
       "      <td>1169.0</td>\n",
       "      <td>7914.0</td>\n",
       "      <td>-0.2000</td>\n",
       "      <td>0.5545</td>\n",
       "      <td>NaN</td>\n",
       "      <td>NaN</td>\n",
       "    </tr>\n",
       "    <tr>\n",
       "      <th>1</th>\n",
       "      <td>2000</td>\n",
       "      <td>s123</td>\n",
       "      <td>2017 Q4</td>\n",
       "      <td>2017</td>\n",
       "      <td>Q4</td>\n",
       "      <td>Non Strata</td>\n",
       "      <td>4156.0</td>\n",
       "      <td>4497.0</td>\n",
       "      <td>20.0</td>\n",
       "      <td>NaN</td>\n",
       "      <td>...</td>\n",
       "      <td>NaN</td>\n",
       "      <td>0.3333</td>\n",
       "      <td>r122</td>\n",
       "      <td>640.0</td>\n",
       "      <td>1169.0</td>\n",
       "      <td>7914.0</td>\n",
       "      <td>-0.2000</td>\n",
       "      <td>0.5545</td>\n",
       "      <td>NaN</td>\n",
       "      <td>NaN</td>\n",
       "    </tr>\n",
       "    <tr>\n",
       "      <th>2</th>\n",
       "      <td>2000</td>\n",
       "      <td>s123</td>\n",
       "      <td>2017 Q4</td>\n",
       "      <td>2017</td>\n",
       "      <td>Q4</td>\n",
       "      <td>Strata</td>\n",
       "      <td>1160.0</td>\n",
       "      <td>1340.0</td>\n",
       "      <td>155.0</td>\n",
       "      <td>-0.1407</td>\n",
       "      <td>...</td>\n",
       "      <td>0.1397</td>\n",
       "      <td>-0.1243</td>\n",
       "      <td>r122</td>\n",
       "      <td>640.0</td>\n",
       "      <td>1169.0</td>\n",
       "      <td>7914.0</td>\n",
       "      <td>-0.2000</td>\n",
       "      <td>0.5545</td>\n",
       "      <td>NaN</td>\n",
       "      <td>NaN</td>\n",
       "    </tr>\n",
       "    <tr>\n",
       "      <th>3</th>\n",
       "      <td>2007</td>\n",
       "      <td>s123</td>\n",
       "      <td>2017 Q4</td>\n",
       "      <td>2017</td>\n",
       "      <td>Q4</td>\n",
       "      <td>Total</td>\n",
       "      <td>770.0</td>\n",
       "      <td>630.0</td>\n",
       "      <td>20.0</td>\n",
       "      <td>-0.0581</td>\n",
       "      <td>...</td>\n",
       "      <td>-0.4167</td>\n",
       "      <td>-0.7375</td>\n",
       "      <td>r122</td>\n",
       "      <td>535.0</td>\n",
       "      <td>301.0</td>\n",
       "      <td>2231.0</td>\n",
       "      <td>-0.1371</td>\n",
       "      <td>1.1049</td>\n",
       "      <td>NaN</td>\n",
       "      <td>NaN</td>\n",
       "    </tr>\n",
       "    <tr>\n",
       "      <th>4</th>\n",
       "      <td>2007</td>\n",
       "      <td>s123</td>\n",
       "      <td>2017 Q4</td>\n",
       "      <td>2017</td>\n",
       "      <td>Q4</td>\n",
       "      <td>Strata</td>\n",
       "      <td>770.0</td>\n",
       "      <td>630.0</td>\n",
       "      <td>20.0</td>\n",
       "      <td>-0.0581</td>\n",
       "      <td>...</td>\n",
       "      <td>-0.4167</td>\n",
       "      <td>-0.7342</td>\n",
       "      <td>r122</td>\n",
       "      <td>535.0</td>\n",
       "      <td>301.0</td>\n",
       "      <td>2231.0</td>\n",
       "      <td>-0.1371</td>\n",
       "      <td>1.1049</td>\n",
       "      <td>NaN</td>\n",
       "      <td>NaN</td>\n",
       "    </tr>\n",
       "  </tbody>\n",
       "</table>\n",
       "<p>5 rows × 21 columns</p>\n",
       "</div>"
      ],
      "text/plain": [
       "   postcode  skey time_period  year quarter dwelling_type  median_price  \\\n",
       "0      2000  s123     2017 Q4  2017      Q4         Total        1315.0   \n",
       "1      2000  s123     2017 Q4  2017      Q4    Non Strata        4156.0   \n",
       "2      2000  s123     2017 Q4  2017      Q4        Strata        1160.0   \n",
       "3      2007  s123     2017 Q4  2017      Q4         Total         770.0   \n",
       "4      2007  s123     2017 Q4  2017      Q4        Strata         770.0   \n",
       "\n",
       "   mean_price  sales_no  Qdelta_median  ...  Qdelta_count  Adelta_count  rkey  \\\n",
       "0      1823.0     183.0        -0.0259  ...        0.3456       -0.0758  r122   \n",
       "1      4497.0      20.0            NaN  ...           NaN        0.3333  r122   \n",
       "2      1340.0     155.0        -0.1407  ...        0.1397       -0.1243  r122   \n",
       "3       630.0      20.0        -0.0581  ...       -0.4167       -0.7375  r122   \n",
       "4       630.0      20.0        -0.0581  ...       -0.4167       -0.7342  r122   \n",
       "\n",
       "  median_rent_newb  new_bonds_no  total_bonds_no  Qdelta_median_rent  \\\n",
       "0            640.0        1169.0          7914.0             -0.2000   \n",
       "1            640.0        1169.0          7914.0             -0.2000   \n",
       "2            640.0        1169.0          7914.0             -0.2000   \n",
       "3            535.0         301.0          2231.0             -0.1371   \n",
       "4            535.0         301.0          2231.0             -0.1371   \n",
       "\n",
       "   Qdelta_new_bonds  Adelta_median_rent  Adelta_new_bonds  \n",
       "0            0.5545                 NaN               NaN  \n",
       "1            0.5545                 NaN               NaN  \n",
       "2            0.5545                 NaN               NaN  \n",
       "3            1.1049                 NaN               NaN  \n",
       "4            1.1049                 NaN               NaN  \n",
       "\n",
       "[5 rows x 21 columns]"
      ]
     },
     "execution_count": 39,
     "metadata": {},
     "output_type": "execute_result"
    }
   ],
   "source": [
    "sales_rent_full = pd.merge(sales_full, rent_full, how='left',\n",
    "                           left_on=['postcode','time_period'],\n",
    "                           right_on=['postcode', 'time_period'])\n",
    "\n",
    "sales_rent_full.head()"
   ]
  },
  {
   "cell_type": "code",
   "execution_count": 44,
   "id": "5c9bafe3",
   "metadata": {},
   "outputs": [
    {
     "name": "stdout",
     "output_type": "stream",
     "text": [
      "(17909, 21)\n",
      "postcode                 0\n",
      "skey                     0\n",
      "time_period              0\n",
      "year                     0\n",
      "quarter                  0\n",
      "dwelling_type            0\n",
      "median_price             0\n",
      "mean_price               0\n",
      "sales_no                 0\n",
      "Qdelta_median         5017\n",
      "Adelta_median         5020\n",
      "Qdelta_count          5017\n",
      "Adelta_count          5020\n",
      "rkey                     6\n",
      "median_rent_newb         6\n",
      "new_bonds_no             6\n",
      "total_bonds_no           6\n",
      "Qdelta_median_rent    3560\n",
      "Qdelta_new_bonds      3371\n",
      "Adelta_median_rent    3540\n",
      "Adelta_new_bonds      3540\n",
      "dtype: int64\n"
     ]
    }
   ],
   "source": [
    "print(sales_rent_full.shape)\n",
    "print(sales_rent_full.groupby(''))"
   ]
  },
  {
   "cell_type": "code",
   "execution_count": 46,
   "id": "432f971c",
   "metadata": {},
   "outputs": [
    {
     "name": "stdout",
     "output_type": "stream",
     "text": [
      "postcode                 0\n",
      "skey                     0\n",
      "time_period              0\n",
      "year                     0\n",
      "quarter                  0\n",
      "dwelling_type            0\n",
      "median_price             0\n",
      "mean_price               0\n",
      "sales_no                 0\n",
      "Qdelta_median         5017\n",
      "Adelta_median         5020\n",
      "Qdelta_count          5017\n",
      "Adelta_count          5020\n",
      "rkey                     6\n",
      "median_rent_newb         6\n",
      "new_bonds_no             6\n",
      "total_bonds_no           6\n",
      "Qdelta_median_rent    3560\n",
      "Qdelta_new_bonds      3371\n",
      "Adelta_median_rent    3540\n",
      "Adelta_new_bonds      3540\n",
      "dtype: int64\n"
     ]
    }
   ],
   "source": [
    "print(sales_rent_full.isnull().sum())"
   ]
  },
  {
   "cell_type": "markdown",
   "id": "318a7b0c",
   "metadata": {},
   "source": [
    "### @all: do we just drop the 6 nulls in rent?"
   ]
  },
  {
   "cell_type": "code",
   "execution_count": 45,
   "id": "42990528",
   "metadata": {},
   "outputs": [
    {
     "data": {
      "text/html": [
       "<div>\n",
       "<style scoped>\n",
       "    .dataframe tbody tr th:only-of-type {\n",
       "        vertical-align: middle;\n",
       "    }\n",
       "\n",
       "    .dataframe tbody tr th {\n",
       "        vertical-align: top;\n",
       "    }\n",
       "\n",
       "    .dataframe thead th {\n",
       "        text-align: right;\n",
       "    }\n",
       "</style>\n",
       "<table border=\"1\" class=\"dataframe\">\n",
       "  <thead>\n",
       "    <tr style=\"text-align: right;\">\n",
       "      <th></th>\n",
       "      <th>postcode</th>\n",
       "      <th>skey</th>\n",
       "      <th>time_period</th>\n",
       "      <th>year</th>\n",
       "      <th>quarter</th>\n",
       "      <th>dwelling_type</th>\n",
       "      <th>median_price</th>\n",
       "      <th>mean_price</th>\n",
       "      <th>sales_no</th>\n",
       "      <th>Qdelta_median</th>\n",
       "      <th>...</th>\n",
       "      <th>Qdelta_count</th>\n",
       "      <th>Adelta_count</th>\n",
       "      <th>rkey</th>\n",
       "      <th>median_rent_newb</th>\n",
       "      <th>new_bonds_no</th>\n",
       "      <th>total_bonds_no</th>\n",
       "      <th>Qdelta_median_rent</th>\n",
       "      <th>Qdelta_new_bonds</th>\n",
       "      <th>Adelta_median_rent</th>\n",
       "      <th>Adelta_new_bonds</th>\n",
       "    </tr>\n",
       "  </thead>\n",
       "  <tbody>\n",
       "    <tr>\n",
       "      <th>1329</th>\n",
       "      <td>2817</td>\n",
       "      <td>s123</td>\n",
       "      <td>2017 Q4</td>\n",
       "      <td>2017</td>\n",
       "      <td>Q4</td>\n",
       "      <td>Total</td>\n",
       "      <td>714.0</td>\n",
       "      <td>714.0</td>\n",
       "      <td>5.0</td>\n",
       "      <td>NaN</td>\n",
       "      <td>...</td>\n",
       "      <td>NaN</td>\n",
       "      <td>NaN</td>\n",
       "      <td>NaN</td>\n",
       "      <td>NaN</td>\n",
       "      <td>NaN</td>\n",
       "      <td>NaN</td>\n",
       "      <td>NaN</td>\n",
       "      <td>NaN</td>\n",
       "      <td>NaN</td>\n",
       "      <td>NaN</td>\n",
       "    </tr>\n",
       "    <tr>\n",
       "      <th>1330</th>\n",
       "      <td>2817</td>\n",
       "      <td>s123</td>\n",
       "      <td>2017 Q4</td>\n",
       "      <td>2017</td>\n",
       "      <td>Q4</td>\n",
       "      <td>Non Strata</td>\n",
       "      <td>750.0</td>\n",
       "      <td>801.5</td>\n",
       "      <td>5.0</td>\n",
       "      <td>NaN</td>\n",
       "      <td>...</td>\n",
       "      <td>NaN</td>\n",
       "      <td>NaN</td>\n",
       "      <td>NaN</td>\n",
       "      <td>NaN</td>\n",
       "      <td>NaN</td>\n",
       "      <td>NaN</td>\n",
       "      <td>NaN</td>\n",
       "      <td>NaN</td>\n",
       "      <td>NaN</td>\n",
       "      <td>NaN</td>\n",
       "    </tr>\n",
       "    <tr>\n",
       "      <th>1407</th>\n",
       "      <td>3644</td>\n",
       "      <td>s123</td>\n",
       "      <td>2017 Q4</td>\n",
       "      <td>2017</td>\n",
       "      <td>Q4</td>\n",
       "      <td>Total</td>\n",
       "      <td>475.0</td>\n",
       "      <td>484.0</td>\n",
       "      <td>20.0</td>\n",
       "      <td>0.8627</td>\n",
       "      <td>...</td>\n",
       "      <td>0.3333</td>\n",
       "      <td>-0.0769</td>\n",
       "      <td>NaN</td>\n",
       "      <td>NaN</td>\n",
       "      <td>NaN</td>\n",
       "      <td>NaN</td>\n",
       "      <td>NaN</td>\n",
       "      <td>NaN</td>\n",
       "      <td>NaN</td>\n",
       "      <td>NaN</td>\n",
       "    </tr>\n",
       "    <tr>\n",
       "      <th>1408</th>\n",
       "      <td>3644</td>\n",
       "      <td>s123</td>\n",
       "      <td>2017 Q4</td>\n",
       "      <td>2017</td>\n",
       "      <td>Q4</td>\n",
       "      <td>Non Strata</td>\n",
       "      <td>475.0</td>\n",
       "      <td>484.0</td>\n",
       "      <td>20.0</td>\n",
       "      <td>0.8627</td>\n",
       "      <td>...</td>\n",
       "      <td>0.3333</td>\n",
       "      <td>-0.0769</td>\n",
       "      <td>NaN</td>\n",
       "      <td>NaN</td>\n",
       "      <td>NaN</td>\n",
       "      <td>NaN</td>\n",
       "      <td>NaN</td>\n",
       "      <td>NaN</td>\n",
       "      <td>NaN</td>\n",
       "      <td>NaN</td>\n",
       "    </tr>\n",
       "    <tr>\n",
       "      <th>2778</th>\n",
       "      <td>3644</td>\n",
       "      <td>s124</td>\n",
       "      <td>2018 Q1</td>\n",
       "      <td>2018</td>\n",
       "      <td>Q1</td>\n",
       "      <td>Total</td>\n",
       "      <td>260.0</td>\n",
       "      <td>326.0</td>\n",
       "      <td>20.0</td>\n",
       "      <td>-0.4526</td>\n",
       "      <td>...</td>\n",
       "      <td>-0.0833</td>\n",
       "      <td>0.8333</td>\n",
       "      <td>NaN</td>\n",
       "      <td>NaN</td>\n",
       "      <td>NaN</td>\n",
       "      <td>NaN</td>\n",
       "      <td>NaN</td>\n",
       "      <td>NaN</td>\n",
       "      <td>NaN</td>\n",
       "      <td>NaN</td>\n",
       "    </tr>\n",
       "    <tr>\n",
       "      <th>2779</th>\n",
       "      <td>3644</td>\n",
       "      <td>s124</td>\n",
       "      <td>2018 Q1</td>\n",
       "      <td>2018</td>\n",
       "      <td>Q1</td>\n",
       "      <td>Non Strata</td>\n",
       "      <td>260.0</td>\n",
       "      <td>326.0</td>\n",
       "      <td>20.0</td>\n",
       "      <td>-0.4526</td>\n",
       "      <td>...</td>\n",
       "      <td>-0.0833</td>\n",
       "      <td>0.8333</td>\n",
       "      <td>NaN</td>\n",
       "      <td>NaN</td>\n",
       "      <td>NaN</td>\n",
       "      <td>NaN</td>\n",
       "      <td>NaN</td>\n",
       "      <td>NaN</td>\n",
       "      <td>NaN</td>\n",
       "      <td>NaN</td>\n",
       "    </tr>\n",
       "  </tbody>\n",
       "</table>\n",
       "<p>6 rows × 21 columns</p>\n",
       "</div>"
      ],
      "text/plain": [
       "      postcode  skey time_period  year quarter dwelling_type  median_price  \\\n",
       "1329      2817  s123     2017 Q4  2017      Q4         Total         714.0   \n",
       "1330      2817  s123     2017 Q4  2017      Q4    Non Strata         750.0   \n",
       "1407      3644  s123     2017 Q4  2017      Q4         Total         475.0   \n",
       "1408      3644  s123     2017 Q4  2017      Q4    Non Strata         475.0   \n",
       "2778      3644  s124     2018 Q1  2018      Q1         Total         260.0   \n",
       "2779      3644  s124     2018 Q1  2018      Q1    Non Strata         260.0   \n",
       "\n",
       "      mean_price  sales_no  Qdelta_median  ...  Qdelta_count  Adelta_count  \\\n",
       "1329       714.0       5.0            NaN  ...           NaN           NaN   \n",
       "1330       801.5       5.0            NaN  ...           NaN           NaN   \n",
       "1407       484.0      20.0         0.8627  ...        0.3333       -0.0769   \n",
       "1408       484.0      20.0         0.8627  ...        0.3333       -0.0769   \n",
       "2778       326.0      20.0        -0.4526  ...       -0.0833        0.8333   \n",
       "2779       326.0      20.0        -0.4526  ...       -0.0833        0.8333   \n",
       "\n",
       "      rkey median_rent_newb  new_bonds_no  total_bonds_no  Qdelta_median_rent  \\\n",
       "1329   NaN              NaN           NaN             NaN                 NaN   \n",
       "1330   NaN              NaN           NaN             NaN                 NaN   \n",
       "1407   NaN              NaN           NaN             NaN                 NaN   \n",
       "1408   NaN              NaN           NaN             NaN                 NaN   \n",
       "2778   NaN              NaN           NaN             NaN                 NaN   \n",
       "2779   NaN              NaN           NaN             NaN                 NaN   \n",
       "\n",
       "      Qdelta_new_bonds  Adelta_median_rent  Adelta_new_bonds  \n",
       "1329               NaN                 NaN               NaN  \n",
       "1330               NaN                 NaN               NaN  \n",
       "1407               NaN                 NaN               NaN  \n",
       "1408               NaN                 NaN               NaN  \n",
       "2778               NaN                 NaN               NaN  \n",
       "2779               NaN                 NaN               NaN  \n",
       "\n",
       "[6 rows x 21 columns]"
      ]
     },
     "execution_count": 45,
     "metadata": {},
     "output_type": "execute_result"
    }
   ],
   "source": [
    "# Check the 6 postcodes that are null in rent:\n",
    "sales_rent_full.loc[sales_rent_full['rkey'].isnull()]"
   ]
  },
  {
   "cell_type": "code",
   "execution_count": null,
   "id": "17a2c914",
   "metadata": {},
   "outputs": [],
   "source": [
    "sales_rent_full.to_csv('Files/Cleaned/Rent_2017Q4_2021Q2_Clean.csv', index=False)"
   ]
  },
  {
   "cell_type": "markdown",
   "id": "2edf4f13",
   "metadata": {},
   "source": [
    "\n",
    "<BR>\n",
    "\n",
    "# BELOW ARE CODES FOR STAGE I CLEANING\n",
    "______\n",
    "\n",
    "## STEP1. CLEAN SALES DATA (SINGLE QUARTER) #"
   ]
  },
  {
   "cell_type": "code",
   "execution_count": null,
   "id": "23f317cc",
   "metadata": {},
   "outputs": [],
   "source": [
    "# Read one file at a time into df, name df by 's'+'issue number ''\n",
    "s136 = \"Files/Sales/2019_2021/Issue-136-Sales-tables-March-2021-quarter.xlsx\"\n",
    "s136 = pd.read_excel(s136, sheet_name=\"Postcode\", na_values='-', header=6)"
   ]
  },
  {
   "cell_type": "code",
   "execution_count": null,
   "id": "65ce6f30",
   "metadata": {},
   "outputs": [],
   "source": [
    "# Rename columns\n",
    "rename_cols= {'Postcode':'postcode', \n",
    "             'Dwelling Type':'dwelling_type', \n",
    "             \"First Quartile Sales Price\\n$'000s\" : '25%_price',\n",
    "             \"Median Sales Price\\n$'000s\" : 'median_price', \n",
    "             \"Third Quartile Sales Price\\n'000s\" : '75%_price',\n",
    "             \"Mean Sales Price\\n$'000s\" : 'mean_price',\n",
    "             'Sales\\nNo.':'sales_no',\n",
    "             'Qtly change in Median':'Qdelta_median_price',\n",
    "             'Annual change in Median':'Adelta_median_price',\n",
    "             'Qtly change in Count':'Qdelta_sales_no',\n",
    "             'Annual change in Count':'Adelta_sales_no'}\n",
    "s136.rename(columns=rename_cols, inplace=True)\n",
    "\n",
    "# Drop unwanted columns\n",
    "s136 = s136.drop(columns=['25%_price', '75%_price'], axis=1)\n",
    "\n",
    "s136.head(5)"
   ]
  },
  {
   "cell_type": "code",
   "execution_count": null,
   "id": "e0b80c0e",
   "metadata": {},
   "outputs": [],
   "source": [
    "print(\"number of postcodes:\", s136['postcode'].nunique())\n",
    "print(\"number of rows:\", s136.shape[0],'\\n')\n",
    "print(s136.isnull().sum())"
   ]
  },
  {
   "cell_type": "markdown",
   "id": "8b87684e",
   "metadata": {},
   "source": [
    "<b>IMPUTATION</b>\n",
    "\n",
    "Roughly 1/4 of the data contains null values, which comes from:\n",
    "<em>\"for confidentiality, we don't report sales in any geographical area where the number of sales is 10 or less (shown as na).</em> Also: <em>\"Statistics calculated from sample sizes between 10 an 30 are shown by an 's' in the relevant table\".</em> This will be the primary rules of imputation:\n",
    "* **For 'sales_no':**\n",
    "    * Replace na with 5\n",
    "    * Replace s with 20\n",
    "    \n",
    "* **For 'median_price' and 'mean_price'**\n",
    "    * Fill na with the median of price of the same dwelling type"
   ]
  },
  {
   "cell_type": "code",
   "execution_count": null,
   "id": "270a1c97",
   "metadata": {},
   "outputs": [],
   "source": [
    "# Imputation of sales number\n",
    "\n",
    "# na\n",
    "s136.loc[s136['sales_no'].isnull(), 'sales_no'] = 5.0\n",
    "s136['sales_no'].isnull().any()\n",
    "\n",
    "# s\n",
    "s136.loc[s136['sales_no'] == 's', 'sales_no'] = 20.0\n",
    "s136['sales_no'] = s136['sales_no'].astype(float) # Cast type as float\n",
    "\n",
    "print(\"number of na in sales_no:\", s136['sales_no'].isnull().sum())\n",
    "print(\"data type of sales_no:\", s136['sales_no'].dtype)"
   ]
  },
  {
   "cell_type": "code",
   "execution_count": null,
   "id": "cc955efc",
   "metadata": {},
   "outputs": [],
   "source": [
    "# Imputation of median_price (by dwelling type)\n",
    "\n",
    "# Total\n",
    "imp_total = s136.loc[(s136['median_price'].notna()) & (s136['dwelling_type']=='Total'),\n",
    "                     'median_price'].median() # calculate imputer value \n",
    "    \n",
    "s136.loc[(s136['median_price'].isnull()) & (s136['dwelling_type']=='Total'),\n",
    "         'median_price']= imp_total #impute\n",
    "\n",
    "# Strata \n",
    "imp_strata = s136.loc[(s136['median_price'].notna()) & (s136['dwelling_type']=='Strata'),\n",
    "                     'median_price'].median() \n",
    "    \n",
    "s136.loc[(s136['median_price'].isnull()) & (s136['dwelling_type']=='Strata'),\n",
    "         'median_price']= imp_strata \n",
    "\n",
    "# Non-Strata\n",
    "imp_ns = s136.loc[(s136['median_price'].notna()) & (s136['dwelling_type']=='Non Strata'),\n",
    "                     'median_price'].median() \n",
    "    \n",
    "s136.loc[(s136['median_price'].isnull()) & (s136['dwelling_type']=='Non Strata'),\n",
    "         'median_price']= imp_ns\n",
    "\n",
    "print(\"number of na in median_price:\", s136['median_price'].isnull().sum())"
   ]
  },
  {
   "cell_type": "code",
   "execution_count": null,
   "id": "1e3a3822",
   "metadata": {},
   "outputs": [],
   "source": [
    "# Imputation of mean_price (by dwelling type)\n",
    "\n",
    "# Total\n",
    "imp_total = s136.loc[(s136['mean_price'].notna()) & (s136['dwelling_type']=='Total'),\n",
    "                     'mean_price'].median() # calculate imputer value \n",
    "    \n",
    "s136.loc[(s136['mean_price'].isnull()) & (s136['dwelling_type']=='Total'),\n",
    "         'mean_price']= imp_total #impute\n",
    "\n",
    "# Strata \n",
    "imp_strata = s136.loc[(s136['mean_price'].notna()) & (s136['dwelling_type']=='Strata'),\n",
    "                     'mean_price'].median() \n",
    "    \n",
    "s136.loc[(s136['mean_price'].isnull()) & (s136['dwelling_type']=='Strata'),\n",
    "         'mean_price']= imp_strata \n",
    "\n",
    "# Non-Strata\n",
    "imp_ns = s136.loc[(s136['mean_price'].notna()) & (s136['dwelling_type']=='Non Strata'),\n",
    "                  'mean_price'].median() \n",
    "    \n",
    "s136.loc[(s136['mean_price'].isnull()) & (s136['dwelling_type']=='Non Strata'),\n",
    "         'mean_price']= imp_ns\n",
    "\n",
    "print(\"number of na in mean_price:\", s136['mean_price'].isnull().sum())"
   ]
  },
  {
   "cell_type": "code",
   "execution_count": null,
   "id": "ccdc0b8e",
   "metadata": {},
   "outputs": [],
   "source": [
    "s136.describe().round(2)"
   ]
  },
  {
   "cell_type": "markdown",
   "id": "9c0478d1",
   "metadata": {},
   "source": [
    "**ADD TIME PERIOD TAG**"
   ]
  },
  {
   "cell_type": "code",
   "execution_count": null,
   "id": "b3edda92",
   "metadata": {},
   "outputs": [],
   "source": [
    "s136['key_s'] = 's136'\n",
    "s136['time_period'] = '2021 Q1'\n",
    "s136['year'] = '2021'\n",
    "s136['quarter'] = '1'\n",
    "\n",
    "print(s136.shape)"
   ]
  },
  {
   "cell_type": "code",
   "execution_count": null,
   "id": "05176b82",
   "metadata": {},
   "outputs": [],
   "source": [
    "s136"
   ]
  },
  {
   "cell_type": "markdown",
   "id": "384930a0",
   "metadata": {},
   "source": [
    "### End of the sales data cleaning process ###\n",
    "----"
   ]
  },
  {
   "cell_type": "markdown",
   "id": "711a8cd2",
   "metadata": {},
   "source": [
    "# STEP2. CLEAN RENT DATA (SINGLE QUARTER) #\n"
   ]
  },
  {
   "cell_type": "code",
   "execution_count": null,
   "id": "bf60f73f",
   "metadata": {},
   "outputs": [],
   "source": [
    "# Read into df\n",
    "r135 = \"Files/Rent/2019_2021/Issue-135-Rent-tables-March-2021-quarter.xlsx\"\n",
    "r135 = pd.read_excel(r135, sheet_name=\"Postcode\", na_values='-', header=7)\n",
    "\n",
    "# Drop unwanted columns\n",
    "r135 = r135.drop(columns=['First Quartile Weekly Rent for New Bonds\\n$',\n",
    "                          'Third Quartile Weekly Rent for New Bonds\\n$'],\n",
    "                axis=1)\n",
    "\n",
    "# Rename columns\n",
    "rename_cols= {'Postcode':'postcode',\n",
    "              'Dwelling Types':'dwelling_type', \n",
    "              'Number of Bedrooms':'bed_number',\n",
    "              'Median Weekly Rent for New Bonds\\n$': 'median_rent_newb',\n",
    "              'New Bonds Lodged\\nNo.' : 'new_bonds_no',\n",
    "              'Total Bonds Held\\nNo.': 'total_bonds_no',\n",
    "              'Quarterly change in Median Weekly Rent':'Qdelta_median_rent',\n",
    "              'Annual change in Median Weekly Rent':'Adelta_median_rent',\n",
    "              'Quarterly change in New Bonds Lodged':'Qdelta_new_bonds',\n",
    "              'Annual change in New Bonds Lodged':'Adelta_new_bonds'}\n",
    "r135.rename(columns=rename_cols,inplace=True)\n",
    "\n",
    "r135.head(10)"
   ]
  },
  {
   "cell_type": "code",
   "execution_count": null,
   "id": "3dfee0cb",
   "metadata": {},
   "outputs": [],
   "source": [
    "# Check df shape and null values\n",
    "print(r135.shape)\n",
    "print(r135.isnull().sum())"
   ]
  },
  {
   "cell_type": "markdown",
   "id": "1bfdc881",
   "metadata": {},
   "source": [
    "**NOTE:**\n",
    "\n",
    "Note that an alarming 3/4 of the data has null values. This is because the data is broken down to very granular level - first by dwelling type (Total, house, townhouse, flat/unit, other) and then by bed_numbers (see below cell)."
   ]
  },
  {
   "cell_type": "code",
   "execution_count": null,
   "id": "0ba03e6a",
   "metadata": {},
   "outputs": [],
   "source": [
    "print(r135.groupby('dwelling_type').size(),'\\n')\n",
    "print(r135.groupby('bed_number').size())"
   ]
  },
  {
   "cell_type": "markdown",
   "id": "5bd027ea",
   "metadata": {},
   "source": [
    "**AGGREGATION:**\n",
    "\n",
    "Given the amount of na present, we'll **aggregate the data to the total level of each postcode** (i.e. only consider the total number of bonds without classifying them into dwelling types nor bedroom numbers) to avoid excessive imputation. Although we'll inevitably lose the richness of information, the main function of the rent data is to serve as an input variable in the prediction of sales, where this level of granularity is not strictly necessary."
   ]
  },
  {
   "cell_type": "code",
   "execution_count": null,
   "id": "a0e0d4ab",
   "metadata": {},
   "outputs": [],
   "source": [
    "# Aggregate dwelling type and bed number, save as new df r135_ag\n",
    "\n",
    "r135_ag = r135.loc[(r135['bed_number']=='Total') & (r135['dwelling_type']=='Total')]\n",
    "r135_ag = r135_ag.drop(columns=['bed_number','dwelling_type'], axis=1) # Drop bed_number and dwelling_type\n",
    "\n",
    "print(r135_ag.shape)\n",
    "print(r135_ag.isnull().sum())"
   ]
  },
  {
   "cell_type": "markdown",
   "id": "ca40f663",
   "metadata": {},
   "source": [
    "By aggregating the data, we're able to bring down the proportion of na from 3/4 to around 1/3. But there's still need for imputation. According to the data interpretation note:\n",
    "\n",
    "<em><b>\"For confidentiality, we don't report rents in any geographical area where the number of new bonds is 10 or less (shown as na). Statistics calculated from sample sizes between 10 an 30 are shown by an 's' in the relevant table\"</b></em>"
   ]
  },
  {
   "cell_type": "code",
   "execution_count": null,
   "id": "9bc03233",
   "metadata": {},
   "outputs": [],
   "source": [
    "print(\"number of 's' in new_bonds_no:\", r135_ag.loc[r135_ag['new_bonds_no']=='s'].shape[0])\n",
    "print(\"number of 's' in total_bonds_noA:\", r135_ag.loc[r135_ag['total_bonds_no']=='s'].shape[0],\"\\n\")\n",
    "print(\"number of na in new_bonds_no:\", r135_ag.loc[r135_ag['new_bonds_no'].isnull()].shape[0])\n",
    "print(\"number of na in total_bonds_no:\", r135_ag.loc[r135_ag['total_bonds_no'].isnull()].shape[0])"
   ]
  },
  {
   "cell_type": "markdown",
   "id": "16a6e2b9",
   "metadata": {},
   "source": [
    "<b>IMPUTATION</b>\n",
    "* For 'new_bonds_no' and 'total_bonds_no' columns:\n",
    "    * Impute na with 5\n",
    "    * Impute s with 20\n",
    "    \n",
    "* For 'median_rent_newb' column\n",
    "    * Impute na with median of rents of all POAs"
   ]
  },
  {
   "cell_type": "code",
   "execution_count": null,
   "id": "36b28d2c",
   "metadata": {},
   "outputs": [],
   "source": [
    "# Impute 's' in 'new_bonds_no' and 'total_bonds_no' with 20\n",
    "r135_ag.loc[r135_ag['new_bonds_no']=='s','new_bonds_no'] = 20.0\n",
    "r135_ag.loc[r135_ag['total_bonds_no']=='s', 'total_bonds_no'] = 20.0\n",
    "\n",
    "# Impute na in 'new_bonds_no' and 'total_bonds_no' with 5\n",
    "r135_ag.loc[r135_ag['new_bonds_no'].isnull(),'new_bonds_no'] = 5.0\n",
    "r135_ag.loc[r135_ag['total_bonds_no'].isnull(), 'total_bonds_no'] = 5.0\n",
    "\n",
    "# Cast both variables as float (was object)\n",
    "r135_ag['new_bonds_no'] = r135_ag['new_bonds_no'].astype(float)\n",
    "r135_ag['total_bonds_no'] = r135_ag['total_bonds_no'].astype(float)"
   ]
  },
  {
   "cell_type": "code",
   "execution_count": null,
   "id": "1f504ceb",
   "metadata": {},
   "outputs": [],
   "source": [
    "# Impute na in 'median_rent' with median of the column\n",
    "r135_ag['median_rent_newb'].fillna(r135_ag['median_rent_newb'].median(), inplace=True)\n",
    "\n",
    "# Check na in the df again\n",
    "print(r135_ag.isnull().sum())"
   ]
  },
  {
   "cell_type": "code",
   "execution_count": null,
   "id": "024bd39b",
   "metadata": {},
   "outputs": [],
   "source": [
    "# Prepare for merging\n",
    "r135_ag['key_r'] = 'r135' # Add key\n",
    "\n",
    "# Set postcode as index\n",
    "r135_ag = r135_ag.set_index('postcode')\n",
    "r135_ag.head(1)"
   ]
  },
  {
   "cell_type": "code",
   "execution_count": null,
   "id": "f34ed6c2",
   "metadata": {},
   "outputs": [],
   "source": [
    "r135_ag"
   ]
  },
  {
   "cell_type": "markdown",
   "id": "63cd39cf",
   "metadata": {},
   "source": [
    "### End of the rent data cleaning process ##\n",
    "----\n",
    "\n"
   ]
  },
  {
   "cell_type": "markdown",
   "id": "5fdd5607",
   "metadata": {},
   "source": [
    "# STEP3. JOIN SALES AND RENT DATA OF THE SAME QUARTER #\n",
    "\n",
    "### !! Please note !! ###\n",
    "**A. the issue number of the sales and rent table of the same quarter are different**\n",
    "<br>For example, for Q1 2021, the issue number of the sales table is 136 and that of the rent table is 135. The resulting data frames are s136 and r135_ag. For the same quarter, the issue number of sales table is always that of the rent+1 </br>\n",
    "\n",
    "**B. the sales table and the rent table contains different numbers of postcodes**\n",
    "<br>For example, s136 (sales table) contains 544 unique postcodes while r135 (rent table) contains 617. We will merge the rent table into the sales table, i.e. only keep postcodes that are available in the sales table </br>"
   ]
  },
  {
   "cell_type": "code",
   "execution_count": null,
   "id": "437864c0",
   "metadata": {},
   "outputs": [],
   "source": [
    "# Merge the rent df into the sales df of the same quarter (Q1 2021)\n",
    "q121 = s136.join(r135_ag, on='postcode')\n",
    "q121.head(1)\n",
    "\n",
    "# Note: naming convention of merged quarterly sales+rent df\n",
    "# quarter in lowercase + 2digit year\n",
    "# e.g. Q4 2018 will be q418"
   ]
  },
  {
   "cell_type": "code",
   "execution_count": null,
   "id": "7f7b08f7",
   "metadata": {},
   "outputs": [],
   "source": [
    "q121['postcode'].nunique()"
   ]
  },
  {
   "cell_type": "markdown",
   "id": "e7c72adb",
   "metadata": {},
   "source": [
    "# STEP4 Repeat above process to the sales and rent data of the rest quarters #\n",
    "\n",
    "**@Chris** - I'm assuming that we will be able to do this easily with the functions created from step 1-3?"
   ]
  },
  {
   "cell_type": "markdown",
   "id": "52c7d011",
   "metadata": {},
   "source": [
    "# STEP5 Concact merged sales and rent quarterly df into one master df #"
   ]
  },
  {
   "cell_type": "code",
   "execution_count": null,
   "id": "57942d2d",
   "metadata": {},
   "outputs": [],
   "source": [
    "# NOTE: Dummy code here \n",
    "frames = [q118, q218, q318, q418, \n",
    "          q119, q219, q319, q419,\n",
    "          q120, q220, q320, q420,\n",
    "          q121]\n",
    "sr_master = pd.concat(frames)"
   ]
  },
  {
   "cell_type": "markdown",
   "id": "26ac53e0",
   "metadata": {},
   "source": [
    "# STEP 6 Add postcode to LGA Mapping to the master df #"
   ]
  },
  {
   "cell_type": "code",
   "execution_count": null,
   "id": "1654d648",
   "metadata": {},
   "outputs": [],
   "source": [
    "# Read the lga-postcode data into df\n",
    "mapping = \"Files/Area/Postcode_and_LGA.xlsx\"\n",
    "lga_poa = pd.read_excel(mapping, sheet_name=\"SuburbLGA\", \n",
    "                        usecols=['lganame','councilnam','suburbname','postcode'])\n",
    "\n",
    "# Rename columns \n",
    "rename_cols= {'lganame':'LGA',\n",
    "              'councilnam':'council', \n",
    "              'suburbname':'suburb'}\n",
    "lga_poa.rename(columns=rename_cols,inplace=True)\n",
    "\n",
    "lga_poa.head()"
   ]
  },
  {
   "cell_type": "code",
   "execution_count": null,
   "id": "dfc91469",
   "metadata": {},
   "outputs": [],
   "source": [
    "# Check the number of postcodes and null values\n",
    "\n",
    "print(lga_poa['postcode'].nunique())\n",
    "print(lga_poa.isnull().sum())"
   ]
  },
  {
   "cell_type": "code",
   "execution_count": null,
   "id": "5638feaf",
   "metadata": {},
   "outputs": [],
   "source": [
    "# Check null values in the postcode\n",
    "lga_poa.loc[lga_poa['postcode'].isnull()]"
   ]
  },
  {
   "cell_type": "code",
   "execution_count": null,
   "id": "92738314",
   "metadata": {},
   "outputs": [],
   "source": [
    "# unincorporated LGA?\n",
    "lga_poa.loc[lga_poa['LGA']=='UNINCORPORATED']"
   ]
  }
 ],
 "metadata": {
  "kernelspec": {
   "display_name": "Python 3",
   "language": "python",
   "name": "python3"
  },
  "language_info": {
   "codemirror_mode": {
    "name": "ipython",
    "version": 3
   },
   "file_extension": ".py",
   "mimetype": "text/x-python",
   "name": "python",
   "nbconvert_exporter": "python",
   "pygments_lexer": "ipython3",
   "version": "3.8.8"
  },
  "varInspector": {
   "cols": {
    "lenName": 16,
    "lenType": 16,
    "lenVar": 40
   },
   "kernels_config": {
    "python": {
     "delete_cmd_postfix": "",
     "delete_cmd_prefix": "del ",
     "library": "var_list.py",
     "varRefreshCmd": "print(var_dic_list())"
    },
    "r": {
     "delete_cmd_postfix": ") ",
     "delete_cmd_prefix": "rm(",
     "library": "var_list.r",
     "varRefreshCmd": "cat(var_dic_list()) "
    }
   },
   "types_to_exclude": [
    "module",
    "function",
    "builtin_function_or_method",
    "instance",
    "_Feature"
   ],
   "window_display": false
  }
 },
 "nbformat": 4,
 "nbformat_minor": 5
}
