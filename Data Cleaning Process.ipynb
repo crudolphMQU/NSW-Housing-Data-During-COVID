{
 "cells": [
  {
   "cell_type": "code",
   "execution_count": 1,
   "id": "1b7cd35f",
   "metadata": {},
   "outputs": [],
   "source": [
    "import pandas as pd\n",
    "import numpy as np "
   ]
  },
  {
   "cell_type": "markdown",
   "id": "169c65a5",
   "metadata": {},
   "source": [
    "# STEP1. CLEAN SALES DATA (SINGLE QUARTER) #"
   ]
  },
  {
   "cell_type": "code",
   "execution_count": 2,
   "id": "9904db49",
   "metadata": {},
   "outputs": [],
   "source": [
    "# Read one file at a time into df, name df by 's'+'issue number ''\n",
    "s136 = \"Files/Sales/Issue-136-Sales-tables-March-2021-quarter.xlsx\"\n",
    "s136 = pd.read_excel(s136, sheet_name=\"Postcode\", na_values='-', header=6)"
   ]
  },
  {
   "cell_type": "code",
   "execution_count": 3,
   "id": "f4948586",
   "metadata": {},
   "outputs": [
    {
     "data": {
      "text/html": [
       "<div>\n",
       "<style scoped>\n",
       "    .dataframe tbody tr th:only-of-type {\n",
       "        vertical-align: middle;\n",
       "    }\n",
       "\n",
       "    .dataframe tbody tr th {\n",
       "        vertical-align: top;\n",
       "    }\n",
       "\n",
       "    .dataframe thead th {\n",
       "        text-align: right;\n",
       "    }\n",
       "</style>\n",
       "<table border=\"1\" class=\"dataframe\">\n",
       "  <thead>\n",
       "    <tr style=\"text-align: right;\">\n",
       "      <th></th>\n",
       "      <th>postcode</th>\n",
       "      <th>dwelling_type</th>\n",
       "      <th>median_price</th>\n",
       "      <th>mean_price</th>\n",
       "      <th>sales_no</th>\n",
       "      <th>Qdelta_median_price</th>\n",
       "      <th>Adelta_median_price</th>\n",
       "      <th>Qdelta_sales_no</th>\n",
       "      <th>Adelta_sales_no</th>\n",
       "    </tr>\n",
       "  </thead>\n",
       "  <tbody>\n",
       "    <tr>\n",
       "      <th>0</th>\n",
       "      <td>2000</td>\n",
       "      <td>Total</td>\n",
       "      <td>1371.0</td>\n",
       "      <td>2794.0</td>\n",
       "      <td>184</td>\n",
       "      <td>0.1425</td>\n",
       "      <td>0.0711</td>\n",
       "      <td>0.0888</td>\n",
       "      <td>0.5862</td>\n",
       "    </tr>\n",
       "    <tr>\n",
       "      <th>1</th>\n",
       "      <td>2000</td>\n",
       "      <td>Strata</td>\n",
       "      <td>1371.0</td>\n",
       "      <td>2794.0</td>\n",
       "      <td>184</td>\n",
       "      <td>0.1331</td>\n",
       "      <td>0.0632</td>\n",
       "      <td>0.1018</td>\n",
       "      <td>0.6429</td>\n",
       "    </tr>\n",
       "    <tr>\n",
       "      <th>2</th>\n",
       "      <td>2007</td>\n",
       "      <td>Total</td>\n",
       "      <td>763.0</td>\n",
       "      <td>754.0</td>\n",
       "      <td>s</td>\n",
       "      <td>0.1713</td>\n",
       "      <td>0.0235</td>\n",
       "      <td>0.0000</td>\n",
       "      <td>0.3000</td>\n",
       "    </tr>\n",
       "    <tr>\n",
       "      <th>3</th>\n",
       "      <td>2007</td>\n",
       "      <td>Non Strata</td>\n",
       "      <td>NaN</td>\n",
       "      <td>NaN</td>\n",
       "      <td>NaN</td>\n",
       "      <td>NaN</td>\n",
       "      <td>NaN</td>\n",
       "      <td>NaN</td>\n",
       "      <td>NaN</td>\n",
       "    </tr>\n",
       "    <tr>\n",
       "      <th>4</th>\n",
       "      <td>2007</td>\n",
       "      <td>Strata</td>\n",
       "      <td>710.0</td>\n",
       "      <td>688.0</td>\n",
       "      <td>s</td>\n",
       "      <td>0.0906</td>\n",
       "      <td>-0.0470</td>\n",
       "      <td>-0.0769</td>\n",
       "      <td>0.2000</td>\n",
       "    </tr>\n",
       "  </tbody>\n",
       "</table>\n",
       "</div>"
      ],
      "text/plain": [
       "   postcode dwelling_type  median_price  mean_price sales_no  \\\n",
       "0      2000         Total        1371.0      2794.0      184   \n",
       "1      2000        Strata        1371.0      2794.0      184   \n",
       "2      2007         Total         763.0       754.0        s   \n",
       "3      2007    Non Strata           NaN         NaN      NaN   \n",
       "4      2007        Strata         710.0       688.0        s   \n",
       "\n",
       "   Qdelta_median_price  Adelta_median_price  Qdelta_sales_no  Adelta_sales_no  \n",
       "0               0.1425               0.0711           0.0888           0.5862  \n",
       "1               0.1331               0.0632           0.1018           0.6429  \n",
       "2               0.1713               0.0235           0.0000           0.3000  \n",
       "3                  NaN                  NaN              NaN              NaN  \n",
       "4               0.0906              -0.0470          -0.0769           0.2000  "
      ]
     },
     "execution_count": 3,
     "metadata": {},
     "output_type": "execute_result"
    }
   ],
   "source": [
    "# Rename columns\n",
    "rename_cols= {'Postcode':'postcode', \n",
    "             'Dwelling Type':'dwelling_type', \n",
    "             \"First Quartile Sales Price\\n$'000s\" : '25%_price',\n",
    "             \"Median Sales Price\\n$'000s\" : 'median_price', \n",
    "             \"Third Quartile Sales Price\\n'000s\" : '75%_price',\n",
    "             \"Mean Sales Price\\n$'000s\" : 'mean_price',\n",
    "             'Sales\\nNo.':'sales_no',\n",
    "             'Qtly change in Median':'Qdelta_median_price',\n",
    "             'Annual change in Median':'Adelta_median_price',\n",
    "             'Qtly change in Count':'Qdelta_sales_no',\n",
    "             'Annual change in Count':'Adelta_sales_no'}\n",
    "s136.rename(columns=rename_cols, inplace=True)\n",
    "\n",
    "# Drop unwanted columns\n",
    "s136 = s136.drop(columns=['25%_price', '75%_price'], axis=1)\n",
    "\n",
    "s136.head(5)"
   ]
  },
  {
   "cell_type": "code",
   "execution_count": 4,
   "id": "ff9e83b7",
   "metadata": {},
   "outputs": [
    {
     "name": "stdout",
     "output_type": "stream",
     "text": [
      "number of postcodes: 544\n",
      "number of rows: 1427 \n",
      "\n",
      "postcode                 0\n",
      "dwelling_type            0\n",
      "median_price           316\n",
      "mean_price             316\n",
      "sales_no               316\n",
      "Qdelta_median_price    316\n",
      "Adelta_median_price    321\n",
      "Qdelta_sales_no        316\n",
      "Adelta_sales_no        321\n",
      "dtype: int64\n"
     ]
    }
   ],
   "source": [
    "print(\"number of postcodes:\", s136['postcode'].nunique())\n",
    "print(\"number of rows:\", s136.shape[0],'\\n')\n",
    "print(s136.isnull().sum())"
   ]
  },
  {
   "cell_type": "markdown",
   "id": "ba35da63",
   "metadata": {},
   "source": [
    "<b>IMPUTATION</b>\n",
    "\n",
    "Roughly 1/4 of the data contains null values, which comes from:\n",
    "<em>\"for confidentiality, we don't report sales in any geographical area where the number of sales is 10 or less (shown as na).</em> Also: <em>\"Statistics calculated from sample sizes between 10 an 30 are shown by an 's' in the relevant table\".</em> This will be the primary rules of imputation:\n",
    "* **For 'sales_no':**\n",
    "    * Replace na with 5\n",
    "    * Replace s with 20\n",
    "    \n",
    "* **For 'median_price' and 'mean_price'**\n",
    "    * Fill na with the median of price of the same dwelling type"
   ]
  },
  {
   "cell_type": "code",
   "execution_count": 5,
   "id": "985f7ee2",
   "metadata": {},
   "outputs": [
    {
     "name": "stdout",
     "output_type": "stream",
     "text": [
      "number of na in sales_no: 0\n",
      "data type of sales_no: float64\n"
     ]
    }
   ],
   "source": [
    "# Imputation of sales number\n",
    "\n",
    "# na\n",
    "s136.loc[s136['sales_no'].isnull(), 'sales_no'] = 5.0\n",
    "s136['sales_no'].isnull().any()\n",
    "\n",
    "# s\n",
    "s136.loc[s136['sales_no'] == 's', 'sales_no'] = 20.0\n",
    "s136['sales_no'] = s136['sales_no'].astype(float) # Cast type as float\n",
    "\n",
    "print(\"number of na in sales_no:\", s136['sales_no'].isnull().sum())\n",
    "print(\"data type of sales_no:\", s136['sales_no'].dtype)"
   ]
  },
  {
   "cell_type": "code",
   "execution_count": 6,
   "id": "f6436dc2",
   "metadata": {},
   "outputs": [
    {
     "name": "stdout",
     "output_type": "stream",
     "text": [
      "number of na in median_price: 0\n"
     ]
    }
   ],
   "source": [
    "# Imputation of median_price (by dwelling type)\n",
    "\n",
    "# Total\n",
    "imp_total = s136.loc[(s136['median_price'].notna()) & (s136['dwelling_type']=='Total'),\n",
    "                     'median_price'].median() # calculate imputer value \n",
    "    \n",
    "s136.loc[(s136['median_price'].isnull()) & (s136['dwelling_type']=='Total'),\n",
    "         'median_price']= imp_total #impute\n",
    "\n",
    "# Strata \n",
    "imp_strata = s136.loc[(s136['median_price'].notna()) & (s136['dwelling_type']=='Strata'),\n",
    "                     'median_price'].median() \n",
    "    \n",
    "s136.loc[(s136['median_price'].isnull()) & (s136['dwelling_type']=='Strata'),\n",
    "         'median_price']= imp_strata \n",
    "\n",
    "# Non-Strata\n",
    "imp_ns = s136.loc[(s136['median_price'].notna()) & (s136['dwelling_type']=='Non Strata'),\n",
    "                     'median_price'].median() \n",
    "    \n",
    "s136.loc[(s136['median_price'].isnull()) & (s136['dwelling_type']=='Non Strata'),\n",
    "         'median_price']= imp_ns\n",
    "\n",
    "print(\"number of na in median_price:\", s136['median_price'].isnull().sum())"
   ]
  },
  {
   "cell_type": "code",
   "execution_count": 7,
   "id": "296e8a05",
   "metadata": {},
   "outputs": [
    {
     "name": "stdout",
     "output_type": "stream",
     "text": [
      "number of na in mean_price: 0\n"
     ]
    }
   ],
   "source": [
    "# Imputation of mean_price (by dwelling type)\n",
    "\n",
    "# Total\n",
    "imp_total = s136.loc[(s136['mean_price'].notna()) & (s136['dwelling_type']=='Total'),\n",
    "                     'mean_price'].median() # calculate imputer value \n",
    "    \n",
    "s136.loc[(s136['mean_price'].isnull()) & (s136['dwelling_type']=='Total'),\n",
    "         'mean_price']= imp_total #impute\n",
    "\n",
    "# Strata \n",
    "imp_strata = s136.loc[(s136['mean_price'].notna()) & (s136['dwelling_type']=='Strata'),\n",
    "                     'mean_price'].median() \n",
    "    \n",
    "s136.loc[(s136['mean_price'].isnull()) & (s136['dwelling_type']=='Strata'),\n",
    "         'mean_price']= imp_strata \n",
    "\n",
    "# Non-Strata\n",
    "imp_ns = s136.loc[(s136['mean_price'].notna()) & (s136['dwelling_type']=='Non Strata'),\n",
    "                  'mean_price'].median() \n",
    "    \n",
    "s136.loc[(s136['mean_price'].isnull()) & (s136['dwelling_type']=='Non Strata'),\n",
    "         'mean_price']= imp_ns\n",
    "\n",
    "print(\"number of na in mean_price:\", s136['mean_price'].isnull().sum())"
   ]
  },
  {
   "cell_type": "code",
   "execution_count": 8,
   "id": "79e75c99",
   "metadata": {},
   "outputs": [
    {
     "data": {
      "text/html": [
       "<div>\n",
       "<style scoped>\n",
       "    .dataframe tbody tr th:only-of-type {\n",
       "        vertical-align: middle;\n",
       "    }\n",
       "\n",
       "    .dataframe tbody tr th {\n",
       "        vertical-align: top;\n",
       "    }\n",
       "\n",
       "    .dataframe thead th {\n",
       "        text-align: right;\n",
       "    }\n",
       "</style>\n",
       "<table border=\"1\" class=\"dataframe\">\n",
       "  <thead>\n",
       "    <tr style=\"text-align: right;\">\n",
       "      <th></th>\n",
       "      <th>postcode</th>\n",
       "      <th>median_price</th>\n",
       "      <th>mean_price</th>\n",
       "      <th>sales_no</th>\n",
       "      <th>Qdelta_median_price</th>\n",
       "      <th>Adelta_median_price</th>\n",
       "      <th>Qdelta_sales_no</th>\n",
       "      <th>Adelta_sales_no</th>\n",
       "    </tr>\n",
       "  </thead>\n",
       "  <tbody>\n",
       "    <tr>\n",
       "      <th>count</th>\n",
       "      <td>1427.00</td>\n",
       "      <td>1427.00</td>\n",
       "      <td>1427.00</td>\n",
       "      <td>1427.00</td>\n",
       "      <td>1111.00</td>\n",
       "      <td>1106.00</td>\n",
       "      <td>1111.00</td>\n",
       "      <td>1106.00</td>\n",
       "    </tr>\n",
       "    <tr>\n",
       "      <th>mean</th>\n",
       "      <td>2378.20</td>\n",
       "      <td>923.04</td>\n",
       "      <td>994.20</td>\n",
       "      <td>51.47</td>\n",
       "      <td>0.06</td>\n",
       "      <td>0.13</td>\n",
       "      <td>-0.03</td>\n",
       "      <td>0.62</td>\n",
       "    </tr>\n",
       "    <tr>\n",
       "      <th>std</th>\n",
       "      <td>256.21</td>\n",
       "      <td>628.89</td>\n",
       "      <td>706.76</td>\n",
       "      <td>58.94</td>\n",
       "      <td>0.14</td>\n",
       "      <td>0.20</td>\n",
       "      <td>0.41</td>\n",
       "      <td>0.85</td>\n",
       "    </tr>\n",
       "    <tr>\n",
       "      <th>min</th>\n",
       "      <td>2000.00</td>\n",
       "      <td>120.00</td>\n",
       "      <td>125.00</td>\n",
       "      <td>5.00</td>\n",
       "      <td>-0.90</td>\n",
       "      <td>-0.46</td>\n",
       "      <td>-0.59</td>\n",
       "      <td>-0.49</td>\n",
       "    </tr>\n",
       "    <tr>\n",
       "      <th>25%</th>\n",
       "      <td>2148.00</td>\n",
       "      <td>610.00</td>\n",
       "      <td>635.50</td>\n",
       "      <td>20.00</td>\n",
       "      <td>-0.01</td>\n",
       "      <td>0.03</td>\n",
       "      <td>-0.22</td>\n",
       "      <td>0.17</td>\n",
       "    </tr>\n",
       "    <tr>\n",
       "      <th>50%</th>\n",
       "      <td>2330.00</td>\n",
       "      <td>760.50</td>\n",
       "      <td>801.50</td>\n",
       "      <td>20.00</td>\n",
       "      <td>0.05</td>\n",
       "      <td>0.11</td>\n",
       "      <td>-0.10</td>\n",
       "      <td>0.41</td>\n",
       "    </tr>\n",
       "    <tr>\n",
       "      <th>75%</th>\n",
       "      <td>2575.00</td>\n",
       "      <td>960.00</td>\n",
       "      <td>1072.50</td>\n",
       "      <td>68.00</td>\n",
       "      <td>0.12</td>\n",
       "      <td>0.20</td>\n",
       "      <td>0.06</td>\n",
       "      <td>0.74</td>\n",
       "    </tr>\n",
       "    <tr>\n",
       "      <th>max</th>\n",
       "      <td>2880.00</td>\n",
       "      <td>6400.00</td>\n",
       "      <td>7374.00</td>\n",
       "      <td>397.00</td>\n",
       "      <td>0.78</td>\n",
       "      <td>2.04</td>\n",
       "      <td>6.50</td>\n",
       "      <td>7.00</td>\n",
       "    </tr>\n",
       "  </tbody>\n",
       "</table>\n",
       "</div>"
      ],
      "text/plain": [
       "       postcode  median_price  mean_price  sales_no  Qdelta_median_price  \\\n",
       "count   1427.00       1427.00     1427.00   1427.00              1111.00   \n",
       "mean    2378.20        923.04      994.20     51.47                 0.06   \n",
       "std      256.21        628.89      706.76     58.94                 0.14   \n",
       "min     2000.00        120.00      125.00      5.00                -0.90   \n",
       "25%     2148.00        610.00      635.50     20.00                -0.01   \n",
       "50%     2330.00        760.50      801.50     20.00                 0.05   \n",
       "75%     2575.00        960.00     1072.50     68.00                 0.12   \n",
       "max     2880.00       6400.00     7374.00    397.00                 0.78   \n",
       "\n",
       "       Adelta_median_price  Qdelta_sales_no  Adelta_sales_no  \n",
       "count              1106.00          1111.00          1106.00  \n",
       "mean                  0.13            -0.03             0.62  \n",
       "std                   0.20             0.41             0.85  \n",
       "min                  -0.46            -0.59            -0.49  \n",
       "25%                   0.03            -0.22             0.17  \n",
       "50%                   0.11            -0.10             0.41  \n",
       "75%                   0.20             0.06             0.74  \n",
       "max                   2.04             6.50             7.00  "
      ]
     },
     "execution_count": 8,
     "metadata": {},
     "output_type": "execute_result"
    }
   ],
   "source": [
    "s136.describe().round(2)"
   ]
  },
  {
   "cell_type": "markdown",
   "id": "3b908f1a",
   "metadata": {},
   "source": [
    "**ADD TIME PERIOD TAG**"
   ]
  },
  {
   "cell_type": "code",
   "execution_count": 9,
   "id": "fa5ff430",
   "metadata": {},
   "outputs": [
    {
     "name": "stdout",
     "output_type": "stream",
     "text": [
      "(1427, 13)\n"
     ]
    }
   ],
   "source": [
    "s136['key_s'] = 's136'\n",
    "s136['time_period'] = '2021 Q1'\n",
    "s136['year'] = '2021'\n",
    "s136['quarter'] = '1'\n",
    "\n",
    "print(s136.shape)"
   ]
  },
  {
   "cell_type": "markdown",
   "id": "4d623b7b",
   "metadata": {},
   "source": [
    "### End of the sales data cleaning process ###\n",
    "----"
   ]
  },
  {
   "cell_type": "markdown",
   "id": "fbb93c09",
   "metadata": {},
   "source": [
    "# STEP2. CLEAN RENT DATA (SINGLE QUARTER) #\n"
   ]
  },
  {
   "cell_type": "code",
   "execution_count": 10,
   "id": "e96a6f64",
   "metadata": {},
   "outputs": [
    {
     "data": {
      "text/html": [
       "<div>\n",
       "<style scoped>\n",
       "    .dataframe tbody tr th:only-of-type {\n",
       "        vertical-align: middle;\n",
       "    }\n",
       "\n",
       "    .dataframe tbody tr th {\n",
       "        vertical-align: top;\n",
       "    }\n",
       "\n",
       "    .dataframe thead th {\n",
       "        text-align: right;\n",
       "    }\n",
       "</style>\n",
       "<table border=\"1\" class=\"dataframe\">\n",
       "  <thead>\n",
       "    <tr style=\"text-align: right;\">\n",
       "      <th></th>\n",
       "      <th>postcode</th>\n",
       "      <th>dwelling_type</th>\n",
       "      <th>bed_number</th>\n",
       "      <th>median_rent_newb</th>\n",
       "      <th>new_bonds_no</th>\n",
       "      <th>total_bonds_no</th>\n",
       "      <th>Qdelta_median_rent</th>\n",
       "      <th>Adelta_median_rent</th>\n",
       "      <th>Qdelta_new_bonds</th>\n",
       "      <th>Adelta_new_bonds</th>\n",
       "    </tr>\n",
       "  </thead>\n",
       "  <tbody>\n",
       "    <tr>\n",
       "      <th>0</th>\n",
       "      <td>2000</td>\n",
       "      <td>Total</td>\n",
       "      <td>Total</td>\n",
       "      <td>600.0</td>\n",
       "      <td>1469</td>\n",
       "      <td>9327</td>\n",
       "      <td>0.0909</td>\n",
       "      <td>-0.1429</td>\n",
       "      <td>-0.1384</td>\n",
       "      <td>0.1943</td>\n",
       "    </tr>\n",
       "    <tr>\n",
       "      <th>1</th>\n",
       "      <td>2000</td>\n",
       "      <td>Total</td>\n",
       "      <td>Bedsitter</td>\n",
       "      <td>365.0</td>\n",
       "      <td>89</td>\n",
       "      <td>382</td>\n",
       "      <td>0.0429</td>\n",
       "      <td>-0.2843</td>\n",
       "      <td>0.0349</td>\n",
       "      <td>0.9778</td>\n",
       "    </tr>\n",
       "    <tr>\n",
       "      <th>2</th>\n",
       "      <td>2000</td>\n",
       "      <td>Total</td>\n",
       "      <td>1 Bedroom</td>\n",
       "      <td>540.0</td>\n",
       "      <td>741</td>\n",
       "      <td>4063</td>\n",
       "      <td>0.1020</td>\n",
       "      <td>-0.1692</td>\n",
       "      <td>-0.1136</td>\n",
       "      <td>-0.0326</td>\n",
       "    </tr>\n",
       "    <tr>\n",
       "      <th>3</th>\n",
       "      <td>2000</td>\n",
       "      <td>Total</td>\n",
       "      <td>Not Specified</td>\n",
       "      <td>445.0</td>\n",
       "      <td>34</td>\n",
       "      <td>511</td>\n",
       "      <td>-0.1524</td>\n",
       "      <td>-0.3904</td>\n",
       "      <td>-0.3200</td>\n",
       "      <td>0.2593</td>\n",
       "    </tr>\n",
       "    <tr>\n",
       "      <th>4</th>\n",
       "      <td>2000</td>\n",
       "      <td>Total</td>\n",
       "      <td>2 Bedrooms</td>\n",
       "      <td>750.0</td>\n",
       "      <td>517</td>\n",
       "      <td>3741</td>\n",
       "      <td>0.1194</td>\n",
       "      <td>-0.1979</td>\n",
       "      <td>-0.2083</td>\n",
       "      <td>0.6056</td>\n",
       "    </tr>\n",
       "    <tr>\n",
       "      <th>5</th>\n",
       "      <td>2000</td>\n",
       "      <td>Total</td>\n",
       "      <td>3 Bedrooms</td>\n",
       "      <td>1000.0</td>\n",
       "      <td>74</td>\n",
       "      <td>575</td>\n",
       "      <td>0.1111</td>\n",
       "      <td>-0.2780</td>\n",
       "      <td>0.0137</td>\n",
       "      <td>0.0882</td>\n",
       "    </tr>\n",
       "    <tr>\n",
       "      <th>6</th>\n",
       "      <td>2000</td>\n",
       "      <td>Total</td>\n",
       "      <td>4 or more Bedrooms</td>\n",
       "      <td>1675.0</td>\n",
       "      <td>s</td>\n",
       "      <td>55</td>\n",
       "      <td>0.6919</td>\n",
       "      <td>-0.0429</td>\n",
       "      <td>1.0000</td>\n",
       "      <td>6.0000</td>\n",
       "    </tr>\n",
       "    <tr>\n",
       "      <th>7</th>\n",
       "      <td>2000</td>\n",
       "      <td>House</td>\n",
       "      <td>Total</td>\n",
       "      <td>710.0</td>\n",
       "      <td>s</td>\n",
       "      <td>184</td>\n",
       "      <td>0.0965</td>\n",
       "      <td>-0.1647</td>\n",
       "      <td>-0.3182</td>\n",
       "      <td>0.7647</td>\n",
       "    </tr>\n",
       "    <tr>\n",
       "      <th>8</th>\n",
       "      <td>2000</td>\n",
       "      <td>House</td>\n",
       "      <td>Bedsitter</td>\n",
       "      <td>NaN</td>\n",
       "      <td>NaN</td>\n",
       "      <td>NaN</td>\n",
       "      <td>NaN</td>\n",
       "      <td>NaN</td>\n",
       "      <td>NaN</td>\n",
       "      <td>NaN</td>\n",
       "    </tr>\n",
       "    <tr>\n",
       "      <th>9</th>\n",
       "      <td>2000</td>\n",
       "      <td>House</td>\n",
       "      <td>1 Bedroom</td>\n",
       "      <td>500.0</td>\n",
       "      <td>s</td>\n",
       "      <td>55</td>\n",
       "      <td>0.0000</td>\n",
       "      <td>-0.2187</td>\n",
       "      <td>-0.2143</td>\n",
       "      <td>0.3750</td>\n",
       "    </tr>\n",
       "  </tbody>\n",
       "</table>\n",
       "</div>"
      ],
      "text/plain": [
       "   postcode dwelling_type          bed_number  median_rent_newb new_bonds_no  \\\n",
       "0      2000         Total               Total             600.0         1469   \n",
       "1      2000         Total           Bedsitter             365.0           89   \n",
       "2      2000         Total           1 Bedroom             540.0          741   \n",
       "3      2000         Total       Not Specified             445.0           34   \n",
       "4      2000         Total          2 Bedrooms             750.0          517   \n",
       "5      2000         Total          3 Bedrooms            1000.0           74   \n",
       "6      2000         Total  4 or more Bedrooms            1675.0            s   \n",
       "7      2000         House               Total             710.0            s   \n",
       "8      2000         House           Bedsitter               NaN          NaN   \n",
       "9      2000         House           1 Bedroom             500.0            s   \n",
       "\n",
       "  total_bonds_no  Qdelta_median_rent  Adelta_median_rent  Qdelta_new_bonds  \\\n",
       "0           9327              0.0909             -0.1429           -0.1384   \n",
       "1            382              0.0429             -0.2843            0.0349   \n",
       "2           4063              0.1020             -0.1692           -0.1136   \n",
       "3            511             -0.1524             -0.3904           -0.3200   \n",
       "4           3741              0.1194             -0.1979           -0.2083   \n",
       "5            575              0.1111             -0.2780            0.0137   \n",
       "6             55              0.6919             -0.0429            1.0000   \n",
       "7            184              0.0965             -0.1647           -0.3182   \n",
       "8            NaN                 NaN                 NaN               NaN   \n",
       "9             55              0.0000             -0.2187           -0.2143   \n",
       "\n",
       "   Adelta_new_bonds  \n",
       "0            0.1943  \n",
       "1            0.9778  \n",
       "2           -0.0326  \n",
       "3            0.2593  \n",
       "4            0.6056  \n",
       "5            0.0882  \n",
       "6            6.0000  \n",
       "7            0.7647  \n",
       "8               NaN  \n",
       "9            0.3750  "
      ]
     },
     "execution_count": 10,
     "metadata": {},
     "output_type": "execute_result"
    }
   ],
   "source": [
    "# Read into df\n",
    "r135 = \"Files/Rent/Issue-135-Rent-tables-March-2021-quarter.xlsx\"\n",
    "r135 = pd.read_excel(r135, sheet_name=\"Postcode\", na_values='-', header=7)\n",
    "\n",
    "# Drop unwanted columns\n",
    "r135 = r135.drop(columns=['First Quartile Weekly Rent for New Bonds\\n$',\n",
    "                          'Third Quartile Weekly Rent for New Bonds\\n$'],\n",
    "                axis=1)\n",
    "\n",
    "# Rename columns\n",
    "rename_cols= {'Postcode':'postcode',\n",
    "              'Dwelling Types':'dwelling_type', \n",
    "              'Number of Bedrooms':'bed_number',\n",
    "              'Median Weekly Rent for New Bonds\\n$': 'median_rent_newb',\n",
    "              'New Bonds Lodged\\nNo.' : 'new_bonds_no',\n",
    "              'Total Bonds Held\\nNo.': 'total_bonds_no',\n",
    "              'Quarterly change in Median Weekly Rent':'Qdelta_median_rent',\n",
    "              'Annual change in Median Weekly Rent':'Adelta_median_rent',\n",
    "              'Quarterly change in New Bonds Lodged':'Qdelta_new_bonds',\n",
    "              'Annual change in New Bonds Lodged':'Adelta_new_bonds'}\n",
    "r135.rename(columns=rename_cols,inplace=True)\n",
    "\n",
    "r135.head(10)"
   ]
  },
  {
   "cell_type": "code",
   "execution_count": 11,
   "id": "24580fae",
   "metadata": {},
   "outputs": [
    {
     "name": "stdout",
     "output_type": "stream",
     "text": [
      "(16397, 10)\n",
      "postcode                  0\n",
      "dwelling_type             0\n",
      "bed_number                0\n",
      "median_rent_newb      12274\n",
      "new_bonds_no          12274\n",
      "total_bonds_no         6095\n",
      "Qdelta_median_rent    12276\n",
      "Adelta_median_rent    12277\n",
      "Qdelta_new_bonds      12276\n",
      "Adelta_new_bonds      12277\n",
      "dtype: int64\n"
     ]
    }
   ],
   "source": [
    "# Check df shape and null values\n",
    "print(r135.shape)\n",
    "print(r135.isnull().sum())"
   ]
  },
  {
   "cell_type": "markdown",
   "id": "4c070c04",
   "metadata": {},
   "source": [
    "**NOTE:**\n",
    "\n",
    "Note that an alarming 3/4 of the data has null values. This is because the data is broken down to very granular level - first by dwelling type (Total, house, townhouse, flat/unit, other) and then by bed_numbers (see below cell)."
   ]
  },
  {
   "cell_type": "code",
   "execution_count": 12,
   "id": "bc49cc49",
   "metadata": {},
   "outputs": [
    {
     "name": "stdout",
     "output_type": "stream",
     "text": [
      "dwelling_type\n",
      "Flat/Unit    3160\n",
      "House        3653\n",
      "Other        3257\n",
      "Total        3903\n",
      "Townhouse    2424\n",
      "dtype: int64 \n",
      "\n",
      "bed_number\n",
      "1 Bedroom             2336\n",
      "2 Bedrooms            2655\n",
      "3 Bedrooms            2637\n",
      "4 or more Bedrooms    2330\n",
      "Bedsitter             1296\n",
      "Not Specified         2310\n",
      "Total                 2833\n",
      "dtype: int64\n"
     ]
    }
   ],
   "source": [
    "print(r135.groupby('dwelling_type').size(),'\\n')\n",
    "print(r135.groupby('bed_number').size())"
   ]
  },
  {
   "cell_type": "markdown",
   "id": "6bb8c3b1",
   "metadata": {},
   "source": [
    "**AGGREGATION:**\n",
    "\n",
    "Given the amount of na present, we'll **aggregate the data to the total level of each postcode** (i.e. only consider the total number of bonds without classifying them into dwelling types nor bedroom numbers) to avoid excessive imputation. Although we'll inevitably lose the richness of information, the main function of the rent data is to serve as an input variable in the prediction of sales, where this level of granularity is not strictly necessary."
   ]
  },
  {
   "cell_type": "code",
   "execution_count": 13,
   "id": "409fe22a",
   "metadata": {},
   "outputs": [
    {
     "name": "stdout",
     "output_type": "stream",
     "text": [
      "(617, 8)\n",
      "postcode                0\n",
      "median_rent_newb      181\n",
      "new_bonds_no          181\n",
      "total_bonds_no         51\n",
      "Qdelta_median_rent    181\n",
      "Adelta_median_rent    181\n",
      "Qdelta_new_bonds      181\n",
      "Adelta_new_bonds      181\n",
      "dtype: int64\n"
     ]
    }
   ],
   "source": [
    "# Aggregate dwelling type and bed number, save as new df r135_ag\n",
    "\n",
    "r135_ag = r135.loc[(r135['bed_number']=='Total') & (r135['dwelling_type']=='Total')]\n",
    "r135_ag = r135_ag.drop(columns=['bed_number','dwelling_type'], axis=1) # Drop bed_number and dwelling_type\n",
    "\n",
    "print(r135_ag.shape)\n",
    "print(r135_ag.isnull().sum())"
   ]
  },
  {
   "cell_type": "markdown",
   "id": "b1569e07",
   "metadata": {},
   "source": [
    "By aggregating the data, we're able to bring down the proportion of na from 3/4 to around 1/3. But there's still need for imputation. According to the data interpretation note:\n",
    "\n",
    "<em><b>\"For confidentiality, we don't report rents in any geographical area where the number of new bonds is 10 or less (shown as na). Statistics calculated from sample sizes between 10 an 30 are shown by an 's' in the relevant table\"</b></em>"
   ]
  },
  {
   "cell_type": "code",
   "execution_count": 14,
   "id": "9fcac3fb",
   "metadata": {},
   "outputs": [
    {
     "name": "stdout",
     "output_type": "stream",
     "text": [
      "number of 's' in new_bonds_no: 88\n",
      "number of 's' in total_bonds_noA: 47 \n",
      "\n",
      "number of na in new_bonds_no: 181\n",
      "number of na in total_bonds_no: 51\n"
     ]
    }
   ],
   "source": [
    "print(\"number of 's' in new_bonds_no:\", r135_ag.loc[r135_ag['new_bonds_no']=='s'].shape[0])\n",
    "print(\"number of 's' in total_bonds_noA:\", r135_ag.loc[r135_ag['total_bonds_no']=='s'].shape[0],\"\\n\")\n",
    "print(\"number of na in new_bonds_no:\", r135_ag.loc[r135_ag['new_bonds_no'].isnull()].shape[0])\n",
    "print(\"number of na in total_bonds_no:\", r135_ag.loc[r135_ag['total_bonds_no'].isnull()].shape[0])"
   ]
  },
  {
   "cell_type": "markdown",
   "id": "652b9521",
   "metadata": {},
   "source": [
    "<b>IMPUTATION</b>\n",
    "* For 'new_bonds_no' and 'total_bonds_no' columns:\n",
    "    * Impute na with 5\n",
    "    * Impute s with 20\n",
    "    \n",
    "* For 'median_rent_newb' column\n",
    "    * Impute na with median of rents of all POAs"
   ]
  },
  {
   "cell_type": "code",
   "execution_count": 15,
   "id": "d321b7a8",
   "metadata": {},
   "outputs": [],
   "source": [
    "# Impute 's' in 'new_bonds_no' and 'total_bonds_no' with 20\n",
    "r135_ag.loc[r135_ag['new_bonds_no']=='s','new_bonds_no'] = 20.0\n",
    "r135_ag.loc[r135_ag['total_bonds_no']=='s', 'total_bonds_no'] = 20.0\n",
    "\n",
    "# Impute na in 'new_bonds_no' and 'total_bonds_no' with 5\n",
    "r135_ag.loc[r135_ag['new_bonds_no'].isnull(),'new_bonds_no'] = 5.0\n",
    "r135_ag.loc[r135_ag['total_bonds_no'].isnull(), 'total_bonds_no'] = 5.0\n",
    "\n",
    "# Cast both variables as float (was object)\n",
    "r135_ag['new_bonds_no'] = r135_ag['new_bonds_no'].astype(float)\n",
    "r135_ag['total_bonds_no'] = r135_ag['total_bonds_no'].astype(float)"
   ]
  },
  {
   "cell_type": "code",
   "execution_count": 16,
   "id": "d48565ef",
   "metadata": {},
   "outputs": [
    {
     "name": "stdout",
     "output_type": "stream",
     "text": [
      "postcode                0\n",
      "median_rent_newb        0\n",
      "new_bonds_no            0\n",
      "total_bonds_no          0\n",
      "Qdelta_median_rent    181\n",
      "Adelta_median_rent    181\n",
      "Qdelta_new_bonds      181\n",
      "Adelta_new_bonds      181\n",
      "dtype: int64\n"
     ]
    }
   ],
   "source": [
    "# Impute na in 'median_rent' with median of the column\n",
    "r135_ag['median_rent_newb'].fillna(r135_ag['median_rent_newb'].median(), inplace=True)\n",
    "\n",
    "# Check na in the df again\n",
    "print(r135_ag.isnull().sum())"
   ]
  },
  {
   "cell_type": "code",
   "execution_count": 17,
   "id": "ba576b65",
   "metadata": {},
   "outputs": [
    {
     "data": {
      "text/html": [
       "<div>\n",
       "<style scoped>\n",
       "    .dataframe tbody tr th:only-of-type {\n",
       "        vertical-align: middle;\n",
       "    }\n",
       "\n",
       "    .dataframe tbody tr th {\n",
       "        vertical-align: top;\n",
       "    }\n",
       "\n",
       "    .dataframe thead th {\n",
       "        text-align: right;\n",
       "    }\n",
       "</style>\n",
       "<table border=\"1\" class=\"dataframe\">\n",
       "  <thead>\n",
       "    <tr style=\"text-align: right;\">\n",
       "      <th></th>\n",
       "      <th>median_rent_newb</th>\n",
       "      <th>new_bonds_no</th>\n",
       "      <th>total_bonds_no</th>\n",
       "      <th>Qdelta_median_rent</th>\n",
       "      <th>Adelta_median_rent</th>\n",
       "      <th>Qdelta_new_bonds</th>\n",
       "      <th>Adelta_new_bonds</th>\n",
       "      <th>key_r</th>\n",
       "    </tr>\n",
       "    <tr>\n",
       "      <th>postcode</th>\n",
       "      <th></th>\n",
       "      <th></th>\n",
       "      <th></th>\n",
       "      <th></th>\n",
       "      <th></th>\n",
       "      <th></th>\n",
       "      <th></th>\n",
       "      <th></th>\n",
       "    </tr>\n",
       "  </thead>\n",
       "  <tbody>\n",
       "    <tr>\n",
       "      <th>2000</th>\n",
       "      <td>600.0</td>\n",
       "      <td>1469.0</td>\n",
       "      <td>9327.0</td>\n",
       "      <td>0.0909</td>\n",
       "      <td>-0.1429</td>\n",
       "      <td>-0.1384</td>\n",
       "      <td>0.1943</td>\n",
       "      <td>r135</td>\n",
       "    </tr>\n",
       "  </tbody>\n",
       "</table>\n",
       "</div>"
      ],
      "text/plain": [
       "          median_rent_newb  new_bonds_no  total_bonds_no  Qdelta_median_rent  \\\n",
       "postcode                                                                       \n",
       "2000                 600.0        1469.0          9327.0              0.0909   \n",
       "\n",
       "          Adelta_median_rent  Qdelta_new_bonds  Adelta_new_bonds key_r  \n",
       "postcode                                                                \n",
       "2000                 -0.1429           -0.1384            0.1943  r135  "
      ]
     },
     "execution_count": 17,
     "metadata": {},
     "output_type": "execute_result"
    }
   ],
   "source": [
    "# Prepare for merging\n",
    "r135_ag['key_r'] = 'r135' # Add key\n",
    "\n",
    "# Set postcode as index\n",
    "r135_ag = r135_ag.set_index('postcode')\n",
    "r135_ag.head(1)"
   ]
  },
  {
   "cell_type": "markdown",
   "id": "436c0f20",
   "metadata": {},
   "source": [
    "### End of the rent cleaning process ##\n",
    "----\n",
    "\n"
   ]
  },
  {
   "cell_type": "markdown",
   "id": "e6c39600",
   "metadata": {},
   "source": [
    "# STEP3. JOIN SALES AND RENT DATA OF THE SAME QUARTER #\n",
    "\n",
    "### !! Please note !! ###\n",
    "**A. the issue number of the sales and rent table of the same quarter are different**\n",
    "<br>For example, for Q1 2021, the issue number of the sales table is 136 and that of the rent table is 135. The resulting data frames are s136 and r135_ag.</br>\n",
    "\n",
    "**B. the sales table and the rent table contains different numbers of postcodes**\n",
    "<br>For example, s136 (sales table) contains 544 unique postcodes while r135 (rent table) contains 617. We will merge the rent table into the sales table, i.e. only keep postcodes that are available in the sales table </br>"
   ]
  },
  {
   "cell_type": "code",
   "execution_count": 18,
   "id": "7b5ec46e",
   "metadata": {},
   "outputs": [
    {
     "data": {
      "text/html": [
       "<div>\n",
       "<style scoped>\n",
       "    .dataframe tbody tr th:only-of-type {\n",
       "        vertical-align: middle;\n",
       "    }\n",
       "\n",
       "    .dataframe tbody tr th {\n",
       "        vertical-align: top;\n",
       "    }\n",
       "\n",
       "    .dataframe thead th {\n",
       "        text-align: right;\n",
       "    }\n",
       "</style>\n",
       "<table border=\"1\" class=\"dataframe\">\n",
       "  <thead>\n",
       "    <tr style=\"text-align: right;\">\n",
       "      <th></th>\n",
       "      <th>postcode</th>\n",
       "      <th>dwelling_type</th>\n",
       "      <th>median_price</th>\n",
       "      <th>mean_price</th>\n",
       "      <th>sales_no</th>\n",
       "      <th>Qdelta_median_price</th>\n",
       "      <th>Adelta_median_price</th>\n",
       "      <th>Qdelta_sales_no</th>\n",
       "      <th>Adelta_sales_no</th>\n",
       "      <th>key_s</th>\n",
       "      <th>...</th>\n",
       "      <th>year</th>\n",
       "      <th>quarter</th>\n",
       "      <th>median_rent_newb</th>\n",
       "      <th>new_bonds_no</th>\n",
       "      <th>total_bonds_no</th>\n",
       "      <th>Qdelta_median_rent</th>\n",
       "      <th>Adelta_median_rent</th>\n",
       "      <th>Qdelta_new_bonds</th>\n",
       "      <th>Adelta_new_bonds</th>\n",
       "      <th>key_r</th>\n",
       "    </tr>\n",
       "  </thead>\n",
       "  <tbody>\n",
       "    <tr>\n",
       "      <th>0</th>\n",
       "      <td>2000</td>\n",
       "      <td>Total</td>\n",
       "      <td>1371.0</td>\n",
       "      <td>2794.0</td>\n",
       "      <td>184.0</td>\n",
       "      <td>0.1425</td>\n",
       "      <td>0.0711</td>\n",
       "      <td>0.0888</td>\n",
       "      <td>0.5862</td>\n",
       "      <td>s136</td>\n",
       "      <td>...</td>\n",
       "      <td>2021</td>\n",
       "      <td>1</td>\n",
       "      <td>600.0</td>\n",
       "      <td>1469.0</td>\n",
       "      <td>9327.0</td>\n",
       "      <td>0.0909</td>\n",
       "      <td>-0.1429</td>\n",
       "      <td>-0.1384</td>\n",
       "      <td>0.1943</td>\n",
       "      <td>r135</td>\n",
       "    </tr>\n",
       "  </tbody>\n",
       "</table>\n",
       "<p>1 rows × 21 columns</p>\n",
       "</div>"
      ],
      "text/plain": [
       "   postcode dwelling_type  median_price  mean_price  sales_no  \\\n",
       "0      2000         Total        1371.0      2794.0     184.0   \n",
       "\n",
       "   Qdelta_median_price  Adelta_median_price  Qdelta_sales_no  Adelta_sales_no  \\\n",
       "0               0.1425               0.0711           0.0888           0.5862   \n",
       "\n",
       "  key_s  ...  year quarter median_rent_newb  new_bonds_no  total_bonds_no  \\\n",
       "0  s136  ...  2021       1            600.0        1469.0          9327.0   \n",
       "\n",
       "   Qdelta_median_rent  Adelta_median_rent  Qdelta_new_bonds  Adelta_new_bonds  \\\n",
       "0              0.0909             -0.1429           -0.1384            0.1943   \n",
       "\n",
       "   key_r  \n",
       "0   r135  \n",
       "\n",
       "[1 rows x 21 columns]"
      ]
     },
     "execution_count": 18,
     "metadata": {},
     "output_type": "execute_result"
    }
   ],
   "source": [
    "q121 = s136.join(r135_ag, on='postcode')\n",
    "q121.head(1)"
   ]
  },
  {
   "cell_type": "code",
   "execution_count": 19,
   "id": "8f20889a",
   "metadata": {},
   "outputs": [
    {
     "data": {
      "text/plain": [
       "544"
      ]
     },
     "execution_count": 19,
     "metadata": {},
     "output_type": "execute_result"
    }
   ],
   "source": [
    "q121['postcode'].nunique()"
   ]
  },
  {
   "cell_type": "markdown",
   "id": "46cd8247",
   "metadata": {},
   "source": [
    "# STEP4 REPEAT ABOVE PROCESS TO ALL QUARTERS #"
   ]
  },
  {
   "cell_type": "markdown",
   "id": "73a9a145",
   "metadata": {},
   "source": [
    "# STEP5 MERGE ALL QUARTERS INTO THE MASTER DF #"
   ]
  },
  {
   "cell_type": "markdown",
   "id": "be57b95d",
   "metadata": {},
   "source": [
    "# STEP 6 MERGE FEATURES IN THE THE MASTER DF #"
   ]
  }
 ],
 "metadata": {
  "kernelspec": {
   "display_name": "Python 3",
   "language": "python",
   "name": "python3"
  },
  "language_info": {
   "codemirror_mode": {
    "name": "ipython",
    "version": 3
   },
   "file_extension": ".py",
   "mimetype": "text/x-python",
   "name": "python",
   "nbconvert_exporter": "python",
   "pygments_lexer": "ipython3",
   "version": "3.8.8"
  }
 },
 "nbformat": 4,
 "nbformat_minor": 5
}
