{
 "cells": [
  {
   "cell_type": "markdown",
   "id": "c0046637",
   "metadata": {
    "toc": true
   },
   "source": [
    "<h1>Table of Contents<span class=\"tocSkip\"></span></h1>\n",
    "<div class=\"toc\"><ul class=\"toc-item\"><li><span><a href=\"#STAGE-II-1-CREATE-MASTER-SALES-FILE\" data-toc-modified-id=\"STAGE-II-1-CREATE-MASTER-SALES-FILE-1\"><span class=\"toc-item-num\">1&nbsp;&nbsp;</span>STAGE II-1 CREATE MASTER SALES FILE</a></span></li><li><span><a href=\"#STAGE-II-2-CREATE-MASTER-RENT-FILE\" data-toc-modified-id=\"STAGE-II-2-CREATE-MASTER-RENT-FILE-2\"><span class=\"toc-item-num\">2&nbsp;&nbsp;</span>STAGE II-2 CREATE MASTER RENT FILE</a></span></li><li><span><a href=\"#STAGE-II-3-MERGE-MASTER-SALES-AND-RENT-DATA\" data-toc-modified-id=\"STAGE-II-3-MERGE-MASTER-SALES-AND-RENT-DATA-3\"><span class=\"toc-item-num\">3&nbsp;&nbsp;</span>STAGE II-3 MERGE MASTER SALES AND RENT DATA</a></span><ul class=\"toc-item\"><li><ul class=\"toc-item\"><li><span><a href=\"#@all:-do-we-just-drop-the-6-nulls-in-rent?\" data-toc-modified-id=\"@all:-do-we-just-drop-the-6-nulls-in-rent?-3.0.1\"><span class=\"toc-item-num\">3.0.1&nbsp;&nbsp;</span>@all: do we just drop the 6 nulls in rent?</a></span></li></ul></li></ul></li><li><span><a href=\"#The-'Steve'-DF\" data-toc-modified-id=\"The-'Steve'-DF-4\"><span class=\"toc-item-num\">4&nbsp;&nbsp;</span>The 'Steve' DF</a></span><ul class=\"toc-item\"><li><ul class=\"toc-item\"><li><span><a href=\"#NOTE:-@All\" data-toc-modified-id=\"NOTE:-@All-4.0.1\"><span class=\"toc-item-num\">4.0.1&nbsp;&nbsp;</span>NOTE: @All</a></span></li></ul></li></ul></li><li><span><a href=\"#BELOW-ARE-CODES-FOR-STAGE-I-CLEANING\" data-toc-modified-id=\"BELOW-ARE-CODES-FOR-STAGE-I-CLEANING-5\"><span class=\"toc-item-num\">5&nbsp;&nbsp;</span>BELOW ARE CODES FOR STAGE I CLEANING</a></span><ul class=\"toc-item\"><li><span><a href=\"#STEP1.-CLEAN-SALES-DATA-(SINGLE-QUARTER)\" data-toc-modified-id=\"STEP1.-CLEAN-SALES-DATA-(SINGLE-QUARTER)-5.1\"><span class=\"toc-item-num\">5.1&nbsp;&nbsp;</span>STEP1. CLEAN SALES DATA (SINGLE QUARTER)</a></span><ul class=\"toc-item\"><li><span><a href=\"#End-of-the-sales-data-cleaning-process\" data-toc-modified-id=\"End-of-the-sales-data-cleaning-process-5.1.1\"><span class=\"toc-item-num\">5.1.1&nbsp;&nbsp;</span>End of the sales data cleaning process</a></span></li></ul></li></ul></li><li><span><a href=\"#STEP2.-CLEAN-RENT-DATA-(SINGLE-QUARTER)\" data-toc-modified-id=\"STEP2.-CLEAN-RENT-DATA-(SINGLE-QUARTER)-6\"><span class=\"toc-item-num\">6&nbsp;&nbsp;</span>STEP2. CLEAN RENT DATA (SINGLE QUARTER)</a></span><ul class=\"toc-item\"><li><ul class=\"toc-item\"><li><span><a href=\"#End-of-the-rent-data-cleaning-process\" data-toc-modified-id=\"End-of-the-rent-data-cleaning-process-6.0.1\"><span class=\"toc-item-num\">6.0.1&nbsp;&nbsp;</span>End of the rent data cleaning process</a></span></li></ul></li></ul></li><li><span><a href=\"#STEP3.-JOIN-SALES-AND-RENT-DATA-OF-THE-SAME-QUARTER\" data-toc-modified-id=\"STEP3.-JOIN-SALES-AND-RENT-DATA-OF-THE-SAME-QUARTER-7\"><span class=\"toc-item-num\">7&nbsp;&nbsp;</span>STEP3. JOIN SALES AND RENT DATA OF THE SAME QUARTER</a></span><ul class=\"toc-item\"><li><ul class=\"toc-item\"><li><span><a href=\"#!!-Please-note-!!\" data-toc-modified-id=\"!!-Please-note-!!-7.0.1\"><span class=\"toc-item-num\">7.0.1&nbsp;&nbsp;</span>!! Please note !!</a></span></li></ul></li></ul></li><li><span><a href=\"#STEP4-Repeat-above-process-to-the-sales-and-rent-data-of-the-rest-quarters\" data-toc-modified-id=\"STEP4-Repeat-above-process-to-the-sales-and-rent-data-of-the-rest-quarters-8\"><span class=\"toc-item-num\">8&nbsp;&nbsp;</span>STEP4 Repeat above process to the sales and rent data of the rest quarters</a></span></li><li><span><a href=\"#STEP5-Concat-merged-sales-and-rent-quarterly-df-into-one-master-df\" data-toc-modified-id=\"STEP5-Concat-merged-sales-and-rent-quarterly-df-into-one-master-df-9\"><span class=\"toc-item-num\">9&nbsp;&nbsp;</span>STEP5 Concat merged sales and rent quarterly df into one master df</a></span></li><li><span><a href=\"#STEP-6-Add-postcode-to-LGA-Mapping-to-the-master-df\" data-toc-modified-id=\"STEP-6-Add-postcode-to-LGA-Mapping-to-the-master-df-10\"><span class=\"toc-item-num\">10&nbsp;&nbsp;</span>STEP 6 Add postcode to LGA Mapping to the master df</a></span></li><li><span><a href=\"#STEP-7-EDA-for-Interest-Rates-and-Merge-to-Master-DF\" data-toc-modified-id=\"STEP-7-EDA-for-Interest-Rates-and-Merge-to-Master-DF-11\"><span class=\"toc-item-num\">11&nbsp;&nbsp;</span>STEP 7 EDA for Interest Rates and Merge to Master DF</a></span><ul class=\"toc-item\"><li><ul class=\"toc-item\"><li><span><a href=\"#@all-which-df-should-be-used-for-merging?\" data-toc-modified-id=\"@all-which-df-should-be-used-for-merging?-11.0.1\"><span class=\"toc-item-num\">11.0.1&nbsp;&nbsp;</span>@all which df should be used for merging?</a></span></li></ul></li></ul></li><li><span><a href=\"#STEP-8-EDA-for-Bond-Yield-Data-and-Merge-to-Master-DF\" data-toc-modified-id=\"STEP-8-EDA-for-Bond-Yield-Data-and-Merge-to-Master-DF-12\"><span class=\"toc-item-num\">12&nbsp;&nbsp;</span>STEP 8 EDA for Bond Yield Data and Merge to Master DF</a></span><ul class=\"toc-item\"><li><ul class=\"toc-item\"><li><span><a href=\"#@all-which-dataframe-should-be-used-for-merging?\" data-toc-modified-id=\"@all-which-dataframe-should-be-used-for-merging?-12.0.1\"><span class=\"toc-item-num\">12.0.1&nbsp;&nbsp;</span>@all which dataframe should be used for merging?</a></span></li></ul></li></ul></li></ul></div>"
   ]
  },
  {
   "cell_type": "code",
   "execution_count": 1,
   "id": "3ca024e1",
   "metadata": {},
   "outputs": [],
   "source": [
    "import pandas as pd\n",
    "import numpy as np "
   ]
  },
  {
   "cell_type": "markdown",
   "id": "c8906276",
   "metadata": {},
   "source": [
    "# STAGE II-1 CREATE MASTER SALES FILE"
   ]
  },
  {
   "cell_type": "code",
   "execution_count": null,
   "id": "c2ae3f60",
   "metadata": {},
   "outputs": [],
   "source": [
    "# Read sales 2017-2018\n",
    "\n",
    "sales17_18 = \"Files/sales_2017_2018\"\n",
    "sales17_18 = pd.read_csv(sales17_18, usecols=['postcode', 'dwelling_type', 'median_price', 'mean_price',\n",
    "                                               'sales_no', 'Qdelta_median', 'Adelta_median', 'Qdelta_count',\n",
    "                                               'Adelta_count', 'key', 'time_period', 'year', 'quarter'])\n",
    "\n",
    "cols = ['postcode', 'key', 'time_period', 'year', 'quarter', \n",
    "        'dwelling_type', 'median_price', 'mean_price','sales_no', \n",
    "        'Qdelta_median', 'Adelta_median', 'Qdelta_count','Adelta_count' ]\n",
    "\n",
    "sales17_18 = sales17_18[cols]\n",
    "sales17_18.head(1)"
   ]
  },
  {
   "cell_type": "code",
   "execution_count": null,
   "id": "ca4f01e9",
   "metadata": {},
   "outputs": [],
   "source": [
    "# Read sales 2019-2021\n",
    "\n",
    "sales19_21 = \"Files/sales_2019_2021\"\n",
    "sales19_21 = pd.read_csv(sales19_21, usecols=['postcode', 'dwelling_type', 'median_price', 'mean_price',\n",
    "                                               'sales_no', 'Qdelta_median', 'Adelta_median', 'Qdelta_count',\n",
    "                                               'Adelta_count', 'key', 'time_period', 'year', 'quarter'])\n",
    "\n",
    "cols = ['postcode', 'key', 'time_period', 'year', 'quarter', \n",
    "        'dwelling_type', 'median_price', 'mean_price','sales_no', \n",
    "        'Qdelta_median', 'Adelta_median', 'Qdelta_count','Adelta_count' ]\n",
    "\n",
    "sales19_21 = sales19_21[cols]\n",
    "sales19_21.head(1)"
   ]
  },
  {
   "cell_type": "code",
   "execution_count": null,
   "id": "c89504c4",
   "metadata": {},
   "outputs": [],
   "source": [
    "# Concatenate the two sales files \n",
    "sales_full = pd.concat([sales17_18, sales19_21])\n",
    "\n",
    "# Check if all quarters are present\n",
    "print(sales_full.groupby('time_period').size())"
   ]
  },
  {
   "cell_type": "code",
   "execution_count": null,
   "id": "9dd914df",
   "metadata": {},
   "outputs": [],
   "source": [
    "# Check null values\n",
    "sales_full.isnull().sum()\n",
    "\n",
    "# We don't really care about null values in the delta columns right?"
   ]
  },
  {
   "cell_type": "code",
   "execution_count": null,
   "id": "9757d987",
   "metadata": {},
   "outputs": [],
   "source": [
    "sales_full.head()"
   ]
  },
  {
   "cell_type": "code",
   "execution_count": null,
   "id": "52d962ba",
   "metadata": {},
   "outputs": [],
   "source": [
    "sales_full.to_csv('Files/Cleaned/Sales_2017Q3_2021Q1_Clean.csv', index=False)"
   ]
  },
  {
   "cell_type": "markdown",
   "id": "b3c6d5c7",
   "metadata": {},
   "source": [
    "# STAGE II-2 CREATE MASTER RENT FILE"
   ]
  },
  {
   "cell_type": "code",
   "execution_count": null,
   "id": "aa007ad8",
   "metadata": {},
   "outputs": [],
   "source": [
    "# Read rent 2017-2018\n",
    "rent17_18 = \"Files/rent_2017_2018\"\n",
    "rent17_18 = pd.read_csv(rent17_18)\n",
    "\n",
    "# Read rent 2019-2021\n",
    "rent19_21 = \"Files/rent_2019_2021\"\n",
    "rent19_21 = pd.read_csv(rent19_21)\n",
    "\n",
    "# Concat both rent files\n",
    "rent_full = pd.concat([rent17_18, rent19_21])\n",
    "rent_full.head()"
   ]
  },
  {
   "cell_type": "code",
   "execution_count": null,
   "id": "d1824323",
   "metadata": {},
   "outputs": [],
   "source": [
    "# Check null values\n",
    "rent_full.isnull().sum()"
   ]
  },
  {
   "cell_type": "code",
   "execution_count": null,
   "id": "c304d39f",
   "metadata": {},
   "outputs": [],
   "source": [
    "# Check all quarters are presented\n",
    "rent_full.groupby('key').size()"
   ]
  },
  {
   "cell_type": "markdown",
   "id": "cc7c7cae",
   "metadata": {},
   "source": [
    "**NOTE:** rkey = skey-1 for the same quarter"
   ]
  },
  {
   "cell_type": "code",
   "execution_count": null,
   "id": "6feb5464",
   "metadata": {},
   "outputs": [],
   "source": [
    "# Need to map keys to time_periods so that can merge it with sales data\n",
    "\n",
    "tp = ['2017 Q3', '2017 Q4', \n",
    "      '2018 Q1', '2018 Q2', '2018 Q3', '2018 Q4', \n",
    "      '2019 Q1', '2019 Q2', '2019 Q3', '2019 Q4', \n",
    "      '2020 Q1', '2020 Q2', '2020 Q3', '2020 Q4', \n",
    "      '2021 Q1']\n",
    "rkeys = ['r121','r122',\n",
    "         'r123','r124','r125','r126',\n",
    "         'r127','r128','r129','r130',\n",
    "         'r131','r132','r133','r134',\n",
    "         'r135']\n",
    "\n",
    "rent_full['time_period'] = np.nan\n",
    "\n",
    "for i in list(range(0,15)):\n",
    "    rent_full.loc[rent_full['key']==rkeys[i], 'time_period']=tp[i]\n",
    "    \n",
    "rent_full.groupby('time_period').size()"
   ]
  },
  {
   "cell_type": "code",
   "execution_count": null,
   "id": "28af7ffc",
   "metadata": {},
   "outputs": [],
   "source": [
    "# Update column name of 'key'\n",
    "rent_full = rent_full.rename(columns={'key':'rkey'})\n",
    "\n",
    "\n",
    "# Change columns order\n",
    "cols = ['postcode', 'rkey', 'time_period', 'median_rent_newb', 'new_bonds_no', 'total_bonds_no',\n",
    "       'Qdelta_median_rent', 'Qdelta_new_bonds', 'Adelta_median_rent',\n",
    "       'Adelta_new_bonds']\n",
    "rent_full = rent_full[cols]\n",
    "\n",
    "rent_full.head()"
   ]
  },
  {
   "cell_type": "code",
   "execution_count": null,
   "id": "0f879c6f",
   "metadata": {},
   "outputs": [],
   "source": [
    "# Save full rent data into csv\n",
    "rent_full.to_csv('Files/Cleaned/Rent_2017Q4_2021Q2_Clean.csv', index=False)"
   ]
  },
  {
   "cell_type": "markdown",
   "id": "3464fe8d",
   "metadata": {},
   "source": [
    "# STAGE II-3 MERGE MASTER SALES AND RENT DATA"
   ]
  },
  {
   "cell_type": "code",
   "execution_count": null,
   "id": "8d3470bd",
   "metadata": {},
   "outputs": [],
   "source": [
    "# Change the name of 'key' column from sales to 'skey' to differentiate from 'rkey' in rent\n",
    "sales_full = sales_full.rename(columns={'key':'skey'})"
   ]
  },
  {
   "cell_type": "code",
   "execution_count": null,
   "id": "96eddf7d",
   "metadata": {},
   "outputs": [],
   "source": [
    "sales_rent_full = pd.merge(sales_full, rent_full, how='left',\n",
    "                           left_on=['postcode','time_period'],\n",
    "                           right_on=['postcode', 'time_period'])\n",
    "\n",
    "sales_rent_full.head()"
   ]
  },
  {
   "cell_type": "code",
   "execution_count": null,
   "id": "8c1a3b7d",
   "metadata": {},
   "outputs": [],
   "source": [
    "print(sales_rent_full.shape)\n",
    "print(sales_rent_full.groupby('time_period').size())"
   ]
  },
  {
   "cell_type": "code",
   "execution_count": null,
   "id": "4eceed86",
   "metadata": {},
   "outputs": [],
   "source": [
    "print(sales_rent_full.isnull().sum())"
   ]
  },
  {
   "cell_type": "markdown",
   "id": "749995d9",
   "metadata": {},
   "source": [
    "### @all: do we just drop the 6 nulls in rent?\n",
    "I'd say yes since there are only six values (Felix)"
   ]
  },
  {
   "cell_type": "code",
   "execution_count": null,
   "id": "cd84039b",
   "metadata": {},
   "outputs": [],
   "source": [
    "# Check the 6 postcodes that are null in rent:\n",
    "sales_rent_full.loc[sales_rent_full['rkey'].isnull()]"
   ]
  },
  {
   "cell_type": "code",
   "execution_count": null,
   "id": "4fcaf563",
   "metadata": {},
   "outputs": [],
   "source": [
    "sales_rent_full.to_csv('Files/Cleaned/Master_Sales_Rent_2017Q4_2021Q1.csv', index=False)"
   ]
  },
  {
   "cell_type": "markdown",
   "id": "d18cba82",
   "metadata": {},
   "source": [
    "# The 'Steve' DF"
   ]
  },
  {
   "cell_type": "code",
   "execution_count": null,
   "id": "d16a137b",
   "metadata": {},
   "outputs": [],
   "source": [
    "# Create a subset that only contains 5 Quarters of data (FOR TESTING PURPOSE)\n",
    "subset = sales_rent_full.loc[sales_rent_full['time_period'].isin(['2020 Q1','2020 Q2','2020 Q3','2020 Q4','2021 Q1'])]\n",
    "\n",
    "# Get some of the (potentially) unnecessary variables\n",
    "subset = subset.drop(columns=['Qdelta_median','Adelta_median','Qdelta_count','Adelta_count',\n",
    "                              'Qdelta_median_rent', 'Adelta_median_rent','Qdelta_new_bonds','Adelta_new_bonds'],\n",
    "                     axis=1)\n",
    "\n",
    "# And only keep 'Total' dwelling type (i.e. get rid of Strata and Non-strata)\n",
    "subset_total = subset.loc[subset['dwelling_type'] == 'Total']\n",
    "\n",
    "print(subset_total.groupby('time_period').size(),'\\n')\n",
    "print(subset_total.groupby('dwelling_type').size(),'\\n')\n",
    "print(subset_total.shape)"
   ]
  },
  {
   "cell_type": "code",
   "execution_count": null,
   "id": "6dde6020",
   "metadata": {},
   "outputs": [],
   "source": [
    "print(subset_total.isnull().sum())"
   ]
  },
  {
   "cell_type": "code",
   "execution_count": null,
   "id": "625b06ab",
   "metadata": {},
   "outputs": [],
   "source": [
    "print(\"number of postcode in Q4 2020:\",\n",
    "      subset_total.loc[subset_total['time_period']=='2020 Q4', 'postcode'].nunique())\n",
    "print(\"number of postcode in Q1 2021:\",\n",
    "      subset_total.loc[subset_total['time_period']=='2021 Q1', 'postcode'].nunique())"
   ]
  },
  {
   "cell_type": "markdown",
   "id": "008a115a",
   "metadata": {},
   "source": [
    "### NOTE:\n",
    "\n",
    "Because each quarterly table has different numbers of postcodes and they're not an exact match from quarter to quarter, there will be additional null values generated after pivoting simply due to certain postcodes having data in some quarters but not in others. We have two options:\n",
    "\n",
    "**OPTION1: Impute na with mean or median** "
   ]
  },
  {
   "cell_type": "code",
   "execution_count": null,
   "id": "20b7fcec",
   "metadata": {},
   "outputs": [],
   "source": [
    "pivot = subset_total.pivot_table(index='postcode', columns='time_period', values=\n",
    "                                 ['median_price', 'mean_price', 'sales_no', \n",
    "                                  'median_rent_newb','new_bonds_no', 'total_bonds_no']).round(2)\n",
    "\n",
    "pivot.head()"
   ]
  },
  {
   "cell_type": "code",
   "execution_count": null,
   "id": "524ab2d7",
   "metadata": {},
   "outputs": [],
   "source": [
    "pivot.columns = [' '.join(col) for col in pivot.columns]\n",
    "pivot.head()"
   ]
  },
  {
   "cell_type": "code",
   "execution_count": null,
   "id": "b8d8e574",
   "metadata": {},
   "outputs": [],
   "source": [
    "print(pivot.shape)\n",
    "print(pivot.isnull().sum())"
   ]
  },
  {
   "cell_type": "code",
   "execution_count": null,
   "id": "6da9b38b",
   "metadata": {},
   "outputs": [],
   "source": [
    "pivot_fillna = pivot.fillna(pivot.median()).round(1)\n",
    "pivot_fillna.isnull().sum()"
   ]
  },
  {
   "cell_type": "code",
   "execution_count": null,
   "id": "ca9300f2",
   "metadata": {},
   "outputs": [],
   "source": [
    "pivot_fillna.to_csv('Files/Cleaned/Pivot_Sales_Rent_5Quarters_Imputed.csv', index=False)"
   ]
  },
  {
   "cell_type": "markdown",
   "id": "9f097655",
   "metadata": {},
   "source": [
    "**OPTION2: only keep postcodes that are present in all quarters:**"
   ]
  },
  {
   "cell_type": "code",
   "execution_count": null,
   "id": "4bb08e78",
   "metadata": {},
   "outputs": [],
   "source": [
    "skeys = list(sales_full['skey'].unique())\n",
    "\n",
    "D={}\n",
    "for key in skeys:\n",
    "    D[str(key)]= sorted(list(sales_full.loc[sales_full['skey']==key, 'postcode'].unique()))\n",
    "    \n",
    "for key in skeys:\n",
    "    print(\"postcodes in\", key,\":\", len(D[key]))"
   ]
  },
  {
   "cell_type": "code",
   "execution_count": null,
   "id": "a0388248",
   "metadata": {},
   "outputs": [],
   "source": [
    "ls122 = D['s122']\n",
    "ls123 = D['s123']\n",
    "ls123 = D['s123']\n",
    "ls124 = D['s124']\n",
    "ls125 = D['s125']\n",
    "ls126 = D['s126']\n",
    "ls127 = D['s127']\n",
    "ls128 = D['s128']\n",
    "ls129 = D['s129']\n",
    "ls130 = D['s130']\n",
    "ls131 = D['s131']\n",
    "ls132 = D['s132']\n",
    "ls133 = D['s133']\n",
    "ls134 = D['s134']\n",
    "ls135 = D['s135']\n",
    "ls136 = D['s136']\n",
    "\n",
    "shared_postcodes = list(set.intersection(*map(set,[ls122, ls123,ls124,ls125,ls126,ls127,ls128,ls129,ls130,\n",
    "                                                   ls131,ls132,ls133,ls134,ls135,ls136])))\n",
    "shared_postcodes = sorted(shared_postcodes)\n",
    "print(len(shared_postcodes))"
   ]
  },
  {
   "cell_type": "code",
   "execution_count": null,
   "id": "9ba0f24e",
   "metadata": {},
   "outputs": [],
   "source": [
    "# For the purpose of the test DF (5 quarters) - find shared postcodes of this 5 quarters\n",
    "shared_pc_5 = list(set.intersection(*map(set,[ls132,ls133,ls134,ls135,ls136])))\n",
    "print(\"postcodes in all 5 quarters:\", len(shared_pc_5))"
   ]
  },
  {
   "cell_type": "code",
   "execution_count": null,
   "id": "d302699d",
   "metadata": {},
   "outputs": [],
   "source": [
    "# Keep only this 493 postcodes\n",
    "subset_total = subset_total.loc[subset_total['postcode'].isin(shared_pc_5)]\n",
    "subset_total['postcode'].nunique()"
   ]
  },
  {
   "cell_type": "code",
   "execution_count": null,
   "id": "3b620e89",
   "metadata": {},
   "outputs": [],
   "source": [
    "# Then pivot\n",
    "\n",
    "pivot_493 = subset_total.pivot_table(index='postcode', columns='time_period', values=\n",
    "                                     ['median_price', 'mean_price', 'sales_no', 'median_rent_newb','new_bonds_no', 'total_bonds_no']).round(2)\n",
    "\n",
    "print(pivot_493.shape)"
   ]
  },
  {
   "cell_type": "code",
   "execution_count": null,
   "id": "154fc4a5",
   "metadata": {},
   "outputs": [],
   "source": [
    "pivot_493.columns = [' '.join(col) for col in pivot_493.columns]\n",
    "pivot_493.head()"
   ]
  },
  {
   "cell_type": "code",
   "execution_count": null,
   "id": "60d5e1cb",
   "metadata": {},
   "outputs": [],
   "source": [
    "pivot_493.isnull().sum()"
   ]
  },
  {
   "cell_type": "code",
   "execution_count": null,
   "id": "5e15555f",
   "metadata": {},
   "outputs": [],
   "source": [
    "pivot_493.to_csv('Files/Cleaned/Pivot_Sales_Rent_5Quarters_SharedPOA.csv', index=False)"
   ]
  },
  {
   "cell_type": "markdown",
   "id": "2edf4f13",
   "metadata": {},
   "source": [
    "\n",
    "<BR>\n",
    "\n",
    "# BELOW ARE CODES FOR STAGE I CLEANING\n",
    "______\n",
    "\n",
    "## STEP1. CLEAN SALES DATA (SINGLE QUARTER) #"
   ]
  },
  {
   "cell_type": "code",
   "execution_count": null,
   "id": "23f317cc",
   "metadata": {},
   "outputs": [],
   "source": [
    "# Read one file at a time into df, name df by 's'+'issue number ''\n",
    "s136 = \"Files/Sales/2019_2021/Issue-136-Sales-tables-March-2021-quarter.xlsx\"\n",
    "s136 = pd.read_excel(s136, sheet_name=\"Postcode\", na_values='-', header=6)"
   ]
  },
  {
   "cell_type": "code",
   "execution_count": null,
   "id": "65ce6f30",
   "metadata": {},
   "outputs": [],
   "source": [
    "# Rename columns\n",
    "rename_cols= {'Postcode':'postcode', \n",
    "             'Dwelling Type':'dwelling_type', \n",
    "             \"First Quartile Sales Price\\n$'000s\" : '25%_price',\n",
    "             \"Median Sales Price\\n$'000s\" : 'median_price', \n",
    "             \"Third Quartile Sales Price\\n'000s\" : '75%_price',\n",
    "             \"Mean Sales Price\\n$'000s\" : 'mean_price',\n",
    "             'Sales\\nNo.':'sales_no',\n",
    "             'Qtly change in Median':'Qdelta_median_price',\n",
    "             'Annual change in Median':'Adelta_median_price',\n",
    "             'Qtly change in Count':'Qdelta_sales_no',\n",
    "             'Annual change in Count':'Adelta_sales_no'}\n",
    "s136.rename(columns=rename_cols, inplace=True)\n",
    "\n",
    "# Drop unwanted columns\n",
    "s136 = s136.drop(columns=['25%_price', '75%_price'], axis=1)\n",
    "\n",
    "s136.head(5)"
   ]
  },
  {
   "cell_type": "code",
   "execution_count": null,
   "id": "e0b80c0e",
   "metadata": {},
   "outputs": [],
   "source": [
    "print(\"number of postcodes:\", s136['postcode'].nunique())\n",
    "print(\"number of rows:\", s136.shape[0],'\\n')\n",
    "print(s136.isnull().sum())"
   ]
  },
  {
   "cell_type": "markdown",
   "id": "8b87684e",
   "metadata": {},
   "source": [
    "<b>IMPUTATION</b>\n",
    "\n",
    "Roughly 1/4 of the data contains null values, which comes from:\n",
    "<em>\"for confidentiality, we don't report sales in any geographical area where the number of sales is 10 or less (shown as na).</em> Also: <em>\"Statistics calculated from sample sizes between 10 an 30 are shown by an 's' in the relevant table\".</em> This will be the primary rules of imputation:\n",
    "* **For 'sales_no':**\n",
    "    * Replace na with 5\n",
    "    * Replace s with 20\n",
    "    \n",
    "* **For 'median_price' and 'mean_price'**\n",
    "    * Fill na with the median of price of the same dwelling type"
   ]
  },
  {
   "cell_type": "code",
   "execution_count": null,
   "id": "270a1c97",
   "metadata": {},
   "outputs": [],
   "source": [
    "# Imputation of sales number\n",
    "\n",
    "# na\n",
    "s136.loc[s136['sales_no'].isnull(), 'sales_no'] = 5.0\n",
    "s136['sales_no'].isnull().any()\n",
    "\n",
    "# s\n",
    "s136.loc[s136['sales_no'] == 's', 'sales_no'] = 20.0\n",
    "s136['sales_no'] = s136['sales_no'].astype(float) # Cast type as float\n",
    "\n",
    "print(\"number of na in sales_no:\", s136['sales_no'].isnull().sum())\n",
    "print(\"data type of sales_no:\", s136['sales_no'].dtype)"
   ]
  },
  {
   "cell_type": "code",
   "execution_count": null,
   "id": "cc955efc",
   "metadata": {},
   "outputs": [],
   "source": [
    "# Imputation of median_price (by dwelling type)\n",
    "\n",
    "# Total\n",
    "imp_total = s136.loc[(s136['median_price'].notna()) & (s136['dwelling_type']=='Total'),\n",
    "                     'median_price'].median() # calculate imputer value \n",
    "    \n",
    "s136.loc[(s136['median_price'].isnull()) & (s136['dwelling_type']=='Total'),\n",
    "         'median_price']= imp_total #impute\n",
    "\n",
    "# Strata \n",
    "imp_strata = s136.loc[(s136['median_price'].notna()) & (s136['dwelling_type']=='Strata'),\n",
    "                     'median_price'].median() \n",
    "    \n",
    "s136.loc[(s136['median_price'].isnull()) & (s136['dwelling_type']=='Strata'),\n",
    "         'median_price']= imp_strata \n",
    "\n",
    "# Non-Strata\n",
    "imp_ns = s136.loc[(s136['median_price'].notna()) & (s136['dwelling_type']=='Non Strata'),\n",
    "                     'median_price'].median() \n",
    "    \n",
    "s136.loc[(s136['median_price'].isnull()) & (s136['dwelling_type']=='Non Strata'),\n",
    "         'median_price']= imp_ns\n",
    "\n",
    "print(\"number of na in median_price:\", s136['median_price'].isnull().sum())"
   ]
  },
  {
   "cell_type": "code",
   "execution_count": null,
   "id": "1e3a3822",
   "metadata": {},
   "outputs": [],
   "source": [
    "# Imputation of mean_price (by dwelling type)\n",
    "\n",
    "# Total\n",
    "imp_total = s136.loc[(s136['mean_price'].notna()) & (s136['dwelling_type']=='Total'),\n",
    "                     'mean_price'].median() # calculate imputer value \n",
    "    \n",
    "s136.loc[(s136['mean_price'].isnull()) & (s136['dwelling_type']=='Total'),\n",
    "         'mean_price']= imp_total #impute\n",
    "\n",
    "# Strata \n",
    "imp_strata = s136.loc[(s136['mean_price'].notna()) & (s136['dwelling_type']=='Strata'),\n",
    "                     'mean_price'].median() \n",
    "    \n",
    "s136.loc[(s136['mean_price'].isnull()) & (s136['dwelling_type']=='Strata'),\n",
    "         'mean_price']= imp_strata \n",
    "\n",
    "# Non-Strata\n",
    "imp_ns = s136.loc[(s136['mean_price'].notna()) & (s136['dwelling_type']=='Non Strata'),\n",
    "                  'mean_price'].median() \n",
    "    \n",
    "s136.loc[(s136['mean_price'].isnull()) & (s136['dwelling_type']=='Non Strata'),\n",
    "         'mean_price']= imp_ns\n",
    "\n",
    "print(\"number of na in mean_price:\", s136['mean_price'].isnull().sum())"
   ]
  },
  {
   "cell_type": "code",
   "execution_count": null,
   "id": "ccdc0b8e",
   "metadata": {},
   "outputs": [],
   "source": [
    "s136.describe().round(2)"
   ]
  },
  {
   "cell_type": "markdown",
   "id": "9c0478d1",
   "metadata": {},
   "source": [
    "**ADD TIME PERIOD TAG**"
   ]
  },
  {
   "cell_type": "code",
   "execution_count": null,
   "id": "b3edda92",
   "metadata": {},
   "outputs": [],
   "source": [
    "s136['key_s'] = 's136'\n",
    "s136['time_period'] = '2021 Q1'\n",
    "s136['year'] = '2021'\n",
    "s136['quarter'] = '1'\n",
    "\n",
    "print(s136.shape)"
   ]
  },
  {
   "cell_type": "code",
   "execution_count": null,
   "id": "05176b82",
   "metadata": {},
   "outputs": [],
   "source": [
    "s136"
   ]
  },
  {
   "cell_type": "markdown",
   "id": "384930a0",
   "metadata": {},
   "source": [
    "### End of the sales data cleaning process ###\n",
    "----"
   ]
  },
  {
   "cell_type": "markdown",
   "id": "711a8cd2",
   "metadata": {},
   "source": [
    "# STEP2. CLEAN RENT DATA (SINGLE QUARTER) #\n"
   ]
  },
  {
   "cell_type": "code",
   "execution_count": null,
   "id": "bf60f73f",
   "metadata": {},
   "outputs": [],
   "source": [
    "# Read into df\n",
    "r135 = \"Files/Rent/2019_2021/Issue-135-Rent-tables-March-2021-quarter.xlsx\"\n",
    "r135 = pd.read_excel(r135, sheet_name=\"Postcode\", na_values='-', header=7)\n",
    "\n",
    "# Drop unwanted columns\n",
    "r135 = r135.drop(columns=['First Quartile Weekly Rent for New Bonds\\n$',\n",
    "                          'Third Quartile Weekly Rent for New Bonds\\n$'],\n",
    "                axis=1)\n",
    "\n",
    "# Rename columns\n",
    "rename_cols= {'Postcode':'postcode',\n",
    "              'Dwelling Types':'dwelling_type', \n",
    "              'Number of Bedrooms':'bed_number',\n",
    "              'Median Weekly Rent for New Bonds\\n$': 'median_rent_newb',\n",
    "              'New Bonds Lodged\\nNo.' : 'new_bonds_no',\n",
    "              'Total Bonds Held\\nNo.': 'total_bonds_no',\n",
    "              'Quarterly change in Median Weekly Rent':'Qdelta_median_rent',\n",
    "              'Annual change in Median Weekly Rent':'Adelta_median_rent',\n",
    "              'Quarterly change in New Bonds Lodged':'Qdelta_new_bonds',\n",
    "              'Annual change in New Bonds Lodged':'Adelta_new_bonds'}\n",
    "r135.rename(columns=rename_cols,inplace=True)\n",
    "\n",
    "r135.head(10)"
   ]
  },
  {
   "cell_type": "code",
   "execution_count": null,
   "id": "3dfee0cb",
   "metadata": {},
   "outputs": [],
   "source": [
    "# Check df shape and null values\n",
    "print(r135.shape)\n",
    "print(r135.isnull().sum())"
   ]
  },
  {
   "cell_type": "markdown",
   "id": "1bfdc881",
   "metadata": {},
   "source": [
    "**NOTE:**\n",
    "\n",
    "Note that an alarming 3/4 of the data has null values. This is because the data is broken down to very granular level - first by dwelling type (Total, house, townhouse, flat/unit, other) and then by bed_numbers (see below cell)."
   ]
  },
  {
   "cell_type": "code",
   "execution_count": null,
   "id": "0ba03e6a",
   "metadata": {},
   "outputs": [],
   "source": [
    "print(r135.groupby('dwelling_type').size(),'\\n')\n",
    "print(r135.groupby('bed_number').size())"
   ]
  },
  {
   "cell_type": "markdown",
   "id": "5bd027ea",
   "metadata": {},
   "source": [
    "**AGGREGATION:**\n",
    "\n",
    "Given the amount of na present, we'll **aggregate the data to the total level of each postcode** (i.e. only consider the total number of bonds without classifying them into dwelling types nor bedroom numbers) to avoid excessive imputation. Although we'll inevitably lose the richness of information, the main function of the rent data is to serve as an input variable in the prediction of sales, where this level of granularity is not strictly necessary."
   ]
  },
  {
   "cell_type": "code",
   "execution_count": null,
   "id": "a0e0d4ab",
   "metadata": {},
   "outputs": [],
   "source": [
    "# Aggregate dwelling type and bed number, save as new df r135_ag\n",
    "\n",
    "r135_ag = r135.loc[(r135['bed_number']=='Total') & (r135['dwelling_type']=='Total')]\n",
    "r135_ag = r135_ag.drop(columns=['bed_number','dwelling_type'], axis=1) # Drop bed_number and dwelling_type\n",
    "\n",
    "print(r135_ag.shape)\n",
    "print(r135_ag.isnull().sum())"
   ]
  },
  {
   "cell_type": "markdown",
   "id": "ca40f663",
   "metadata": {},
   "source": [
    "By aggregating the data, we're able to bring down the proportion of na from 3/4 to around 1/3. But there's still need for imputation. According to the data interpretation note:\n",
    "\n",
    "<em><b>\"For confidentiality, we don't report rents in any geographical area where the number of new bonds is 10 or less (shown as na). Statistics calculated from sample sizes between 10 an 30 are shown by an 's' in the relevant table\"</b></em>"
   ]
  },
  {
   "cell_type": "code",
   "execution_count": null,
   "id": "9bc03233",
   "metadata": {},
   "outputs": [],
   "source": [
    "print(\"number of 's' in new_bonds_no:\", r135_ag.loc[r135_ag['new_bonds_no']=='s'].shape[0])\n",
    "print(\"number of 's' in total_bonds_noA:\", r135_ag.loc[r135_ag['total_bonds_no']=='s'].shape[0],\"\\n\")\n",
    "print(\"number of na in new_bonds_no:\", r135_ag.loc[r135_ag['new_bonds_no'].isnull()].shape[0])\n",
    "print(\"number of na in total_bonds_no:\", r135_ag.loc[r135_ag['total_bonds_no'].isnull()].shape[0])"
   ]
  },
  {
   "cell_type": "markdown",
   "id": "16a6e2b9",
   "metadata": {},
   "source": [
    "<b>IMPUTATION</b>\n",
    "* For 'new_bonds_no' and 'total_bonds_no' columns:\n",
    "    * Impute na with 5\n",
    "    * Impute s with 20\n",
    "    \n",
    "* For 'median_rent_newb' column\n",
    "    * Impute na with median of rents of all POAs"
   ]
  },
  {
   "cell_type": "code",
   "execution_count": null,
   "id": "36b28d2c",
   "metadata": {},
   "outputs": [],
   "source": [
    "# Impute 's' in 'new_bonds_no' and 'total_bonds_no' with 20\n",
    "r135_ag.loc[r135_ag['new_bonds_no']=='s','new_bonds_no'] = 20.0\n",
    "r135_ag.loc[r135_ag['total_bonds_no']=='s', 'total_bonds_no'] = 20.0\n",
    "\n",
    "# Impute na in 'new_bonds_no' and 'total_bonds_no' with 5\n",
    "r135_ag.loc[r135_ag['new_bonds_no'].isnull(),'new_bonds_no'] = 5.0\n",
    "r135_ag.loc[r135_ag['total_bonds_no'].isnull(), 'total_bonds_no'] = 5.0\n",
    "\n",
    "# Cast both variables as float (was object)\n",
    "r135_ag['new_bonds_no'] = r135_ag['new_bonds_no'].astype(float)\n",
    "r135_ag['total_bonds_no'] = r135_ag['total_bonds_no'].astype(float)"
   ]
  },
  {
   "cell_type": "code",
   "execution_count": null,
   "id": "1f504ceb",
   "metadata": {},
   "outputs": [],
   "source": [
    "# Impute na in 'median_rent' with median of the column\n",
    "r135_ag['median_rent_newb'].fillna(r135_ag['median_rent_newb'].median(), inplace=True)\n",
    "\n",
    "# Check na in the df again\n",
    "print(r135_ag.isnull().sum())"
   ]
  },
  {
   "cell_type": "code",
   "execution_count": null,
   "id": "024bd39b",
   "metadata": {},
   "outputs": [],
   "source": [
    "# Prepare for merging\n",
    "r135_ag['key_r'] = 'r135' # Add key\n",
    "\n",
    "# Set postcode as index\n",
    "r135_ag = r135_ag.set_index('postcode')\n",
    "r135_ag.head(1)"
   ]
  },
  {
   "cell_type": "code",
   "execution_count": null,
   "id": "f34ed6c2",
   "metadata": {},
   "outputs": [],
   "source": [
    "r135_ag"
   ]
  },
  {
   "cell_type": "markdown",
   "id": "63cd39cf",
   "metadata": {},
   "source": [
    "### End of the rent data cleaning process ##\n",
    "----\n",
    "\n"
   ]
  },
  {
   "cell_type": "markdown",
   "id": "5fdd5607",
   "metadata": {},
   "source": [
    "# STEP3. JOIN SALES AND RENT DATA OF THE SAME QUARTER #\n",
    "\n",
    "### !! Please note !! ###\n",
    "**A. the issue number of the sales and rent table of the same quarter are different**\n",
    "<br>For example, for Q1 2021, the issue number of the sales table is 136 and that of the rent table is 135. The resulting data frames are s136 and r135_ag. For the same quarter, the issue number of sales table is always that of the rent+1 </br>\n",
    "\n",
    "**B. the sales table and the rent table contains different numbers of postcodes**\n",
    "<br>For example, s136 (sales table) contains 544 unique postcodes while r135 (rent table) contains 617. We will merge the rent table into the sales table, i.e. only keep postcodes that are available in the sales table </br>"
   ]
  },
  {
   "cell_type": "code",
   "execution_count": null,
   "id": "437864c0",
   "metadata": {},
   "outputs": [],
   "source": [
    "# Merge the rent df into the sales df of the same quarter (Q1 2021)\n",
    "q121 = s136.join(r135_ag, on='postcode')\n",
    "q121.head(1)\n",
    "\n",
    "# Note: naming convention of merged quarterly sales+rent df\n",
    "# quarter in lowercase + 2digit year\n",
    "# e.g. Q4 2018 will be q418"
   ]
  },
  {
   "cell_type": "code",
   "execution_count": null,
   "id": "7f7b08f7",
   "metadata": {},
   "outputs": [],
   "source": [
    "q121['postcode'].nunique()"
   ]
  },
  {
   "cell_type": "markdown",
   "id": "e7c72adb",
   "metadata": {},
   "source": [
    "# STEP4 Repeat above process to the sales and rent data of the rest quarters #\n",
    "\n",
    "**@Chris** - I'm assuming that we will be able to do this easily with the functions created from step 1-3?"
   ]
  },
  {
   "cell_type": "markdown",
   "id": "52c7d011",
   "metadata": {},
   "source": [
    "# STEP5 Concat merged sales and rent quarterly df into one master df #"
   ]
  },
  {
   "cell_type": "code",
   "execution_count": null,
   "id": "57942d2d",
   "metadata": {},
   "outputs": [],
   "source": [
    "# NOTE: Dummy code here \n",
    "frames = [q118, q218, q318, q418, \n",
    "          q119, q219, q319, q419,\n",
    "          q120, q220, q320, q420,\n",
    "          q121]\n",
    "sr_master = pd.concat(frames)"
   ]
  },
  {
   "cell_type": "markdown",
   "id": "26ac53e0",
   "metadata": {},
   "source": [
    "# STEP 6 Add postcode to LGA Mapping to the master df #\n",
    "\n",
    "------\n",
    "\n",
    "# 07/OCT/2021 Alexis worked"
   ]
  },
  {
   "cell_type": "code",
   "execution_count": 16,
   "id": "f7a3fac8",
   "metadata": {},
   "outputs": [
    {
     "name": "stdout",
     "output_type": "stream",
     "text": [
      "number of postcodes in the master sales df: 587\n"
     ]
    }
   ],
   "source": [
    "# Number of postcodes in the master datafile\n",
    "\n",
    "master = pd.read_csv(\"Files/Cleaned/Master_Sales_Rent_2017Q4_2021Q1.csv\")\n",
    "\n",
    "print(\"number of postcodes in the master sales df:\", master['postcode'].nunique())\n",
    "pc_master = master['postcode'].unique()"
   ]
  },
  {
   "cell_type": "code",
   "execution_count": 17,
   "id": "1654d648",
   "metadata": {},
   "outputs": [
    {
     "data": {
      "text/html": [
       "<div>\n",
       "<style scoped>\n",
       "    .dataframe tbody tr th:only-of-type {\n",
       "        vertical-align: middle;\n",
       "    }\n",
       "\n",
       "    .dataframe tbody tr th {\n",
       "        vertical-align: top;\n",
       "    }\n",
       "\n",
       "    .dataframe thead th {\n",
       "        text-align: right;\n",
       "    }\n",
       "</style>\n",
       "<table border=\"1\" class=\"dataframe\">\n",
       "  <thead>\n",
       "    <tr style=\"text-align: right;\">\n",
       "      <th></th>\n",
       "      <th>LGA</th>\n",
       "      <th>council</th>\n",
       "      <th>suburb</th>\n",
       "      <th>postcode</th>\n",
       "    </tr>\n",
       "  </thead>\n",
       "  <tbody>\n",
       "    <tr>\n",
       "      <th>0</th>\n",
       "      <td>ALBURY CITY</td>\n",
       "      <td>ALBURY CITY COUNCIL</td>\n",
       "      <td>ALBURY</td>\n",
       "      <td>2640.0</td>\n",
       "    </tr>\n",
       "    <tr>\n",
       "      <th>1</th>\n",
       "      <td>ALBURY CITY</td>\n",
       "      <td>ALBURY CITY COUNCIL</td>\n",
       "      <td>EAST ALBURY</td>\n",
       "      <td>2640.0</td>\n",
       "    </tr>\n",
       "    <tr>\n",
       "      <th>2</th>\n",
       "      <td>ALBURY CITY</td>\n",
       "      <td>ALBURY CITY COUNCIL</td>\n",
       "      <td>ETTAMOGAH</td>\n",
       "      <td>2640.0</td>\n",
       "    </tr>\n",
       "    <tr>\n",
       "      <th>3</th>\n",
       "      <td>ALBURY CITY</td>\n",
       "      <td>ALBURY CITY COUNCIL</td>\n",
       "      <td>GLENROY</td>\n",
       "      <td>2640.0</td>\n",
       "    </tr>\n",
       "    <tr>\n",
       "      <th>4</th>\n",
       "      <td>ALBURY CITY</td>\n",
       "      <td>ALBURY CITY COUNCIL</td>\n",
       "      <td>HAMILTON VALLEY</td>\n",
       "      <td>2641.0</td>\n",
       "    </tr>\n",
       "  </tbody>\n",
       "</table>\n",
       "</div>"
      ],
      "text/plain": [
       "           LGA              council           suburb  postcode\n",
       "0  ALBURY CITY  ALBURY CITY COUNCIL           ALBURY    2640.0\n",
       "1  ALBURY CITY  ALBURY CITY COUNCIL      EAST ALBURY    2640.0\n",
       "2  ALBURY CITY  ALBURY CITY COUNCIL        ETTAMOGAH    2640.0\n",
       "3  ALBURY CITY  ALBURY CITY COUNCIL          GLENROY    2640.0\n",
       "4  ALBURY CITY  ALBURY CITY COUNCIL  HAMILTON VALLEY    2641.0"
      ]
     },
     "execution_count": 17,
     "metadata": {},
     "output_type": "execute_result"
    }
   ],
   "source": [
    "# Read the mapping data into df\n",
    "lga_poa = \"Files/Area/Postcode_and_LGA.xlsx\"\n",
    "mapping = pd.read_excel(lga_poa, sheet_name=\"SuburbLGA\", \n",
    "                        usecols=['lganame','councilnam','suburbname','postcode'])\n",
    "\n",
    "# Rename columns \n",
    "rename_cols= {'lganame':'LGA',\n",
    "              'councilnam':'council', \n",
    "              'suburbname':'suburb'}\n",
    "mapping.rename(columns=rename_cols,inplace=True)\n",
    "\n",
    "mapping.head()"
   ]
  },
  {
   "cell_type": "code",
   "execution_count": 25,
   "id": "2b1b2f9a",
   "metadata": {},
   "outputs": [
    {
     "name": "stdout",
     "output_type": "stream",
     "text": [
      "LGA         12\n",
      "council     12\n",
      "suburb       0\n",
      "postcode    12\n",
      "dtype: int64\n"
     ]
    }
   ],
   "source": [
    "# Check null values in mapping\n",
    "print(mapping.isnull().sum())"
   ]
  },
  {
   "cell_type": "code",
   "execution_count": 26,
   "id": "3acb62af",
   "metadata": {},
   "outputs": [],
   "source": [
    "# Drop na\n",
    "mapping = mapping.dropna()"
   ]
  },
  {
   "cell_type": "code",
   "execution_count": 27,
   "id": "03a865b2",
   "metadata": {},
   "outputs": [
    {
     "name": "stdout",
     "output_type": "stream",
     "text": [
      "number of postcodes in the mapping df: 622\n"
     ]
    }
   ],
   "source": [
    "print(\"number of postcodes in the mapping df:\", mapping['postcode'].nunique())\n",
    "pc_map = mapping['postcode'].unique()"
   ]
  },
  {
   "cell_type": "code",
   "execution_count": 28,
   "id": "9ce251b6",
   "metadata": {},
   "outputs": [
    {
     "name": "stdout",
     "output_type": "stream",
     "text": [
      "number of postcodes in both lists: 587\n"
     ]
    }
   ],
   "source": [
    "pc_shared = list(set(pc_master).intersection(pc_map))\n",
    "print(\"number of postcodes in both lists:\", len(pc_shared))"
   ]
  },
  {
   "cell_type": "markdown",
   "id": "2ac11dd0",
   "metadata": {},
   "source": [
    "**GREAT NEWS - ALL POSTCODES IN THE MASTER SALES/RENT DF CAN BE FOUND IN THE MAPPING FILE**\n",
    "\n",
    "The next step is to sort out the mapping df and join it with the master df."
   ]
  },
  {
   "cell_type": "code",
   "execution_count": 56,
   "id": "4b7c75a8",
   "metadata": {},
   "outputs": [
    {
     "name": "stdout",
     "output_type": "stream",
     "text": [
      "number of unicorporated postcodes: 20\n"
     ]
    },
    {
     "data": {
      "text/html": [
       "<div>\n",
       "<style scoped>\n",
       "    .dataframe tbody tr th:only-of-type {\n",
       "        vertical-align: middle;\n",
       "    }\n",
       "\n",
       "    .dataframe tbody tr th {\n",
       "        vertical-align: top;\n",
       "    }\n",
       "\n",
       "    .dataframe thead th {\n",
       "        text-align: right;\n",
       "    }\n",
       "</style>\n",
       "<table border=\"1\" class=\"dataframe\">\n",
       "  <thead>\n",
       "    <tr style=\"text-align: right;\">\n",
       "      <th></th>\n",
       "      <th>LGA</th>\n",
       "      <th>council</th>\n",
       "      <th>suburb</th>\n",
       "      <th>postcode</th>\n",
       "    </tr>\n",
       "  </thead>\n",
       "  <tbody>\n",
       "    <tr>\n",
       "      <th>4576</th>\n",
       "      <td>UNINCORPORATED</td>\n",
       "      <td>UNINCORPORATED</td>\n",
       "      <td>BARANGAROO</td>\n",
       "      <td>2000.0</td>\n",
       "    </tr>\n",
       "    <tr>\n",
       "      <th>4581</th>\n",
       "      <td>UNINCORPORATED</td>\n",
       "      <td>UNINCORPORATED</td>\n",
       "      <td>DAWES POINT</td>\n",
       "      <td>2000.0</td>\n",
       "    </tr>\n",
       "    <tr>\n",
       "      <th>4605</th>\n",
       "      <td>UNINCORPORATED</td>\n",
       "      <td>UNINCORPORATED</td>\n",
       "      <td>SYDNEY</td>\n",
       "      <td>2000.0</td>\n",
       "    </tr>\n",
       "    <tr>\n",
       "      <th>4594</th>\n",
       "      <td>UNINCORPORATED</td>\n",
       "      <td>UNINCORPORATED</td>\n",
       "      <td>MILLERS POINT</td>\n",
       "      <td>2000.0</td>\n",
       "    </tr>\n",
       "    <tr>\n",
       "      <th>4602</th>\n",
       "      <td>UNINCORPORATED</td>\n",
       "      <td>UNINCORPORATED</td>\n",
       "      <td>PYRMONT</td>\n",
       "      <td>2009.0</td>\n",
       "    </tr>\n",
       "    <tr>\n",
       "      <th>4611</th>\n",
       "      <td>UNINCORPORATED</td>\n",
       "      <td>UNINCORPORATED</td>\n",
       "      <td>WOOLLOOMOOLOO</td>\n",
       "      <td>2011.0</td>\n",
       "    </tr>\n",
       "    <tr>\n",
       "      <th>4582</th>\n",
       "      <td>UNINCORPORATED</td>\n",
       "      <td>UNINCORPORATED</td>\n",
       "      <td>DOUBLE BAY</td>\n",
       "      <td>2028.0</td>\n",
       "    </tr>\n",
       "    <tr>\n",
       "      <th>4609</th>\n",
       "      <td>UNINCORPORATED</td>\n",
       "      <td>UNINCORPORATED</td>\n",
       "      <td>WATSONS BAY</td>\n",
       "      <td>2030.0</td>\n",
       "    </tr>\n",
       "    <tr>\n",
       "      <th>4607</th>\n",
       "      <td>UNINCORPORATED</td>\n",
       "      <td>UNINCORPORATED</td>\n",
       "      <td>VAUCLUSE</td>\n",
       "      <td>2030.0</td>\n",
       "    </tr>\n",
       "    <tr>\n",
       "      <th>4575</th>\n",
       "      <td>UNINCORPORATED</td>\n",
       "      <td>UNINCORPORATED</td>\n",
       "      <td>BALMAIN</td>\n",
       "      <td>2041.0</td>\n",
       "    </tr>\n",
       "    <tr>\n",
       "      <th>4577</th>\n",
       "      <td>UNINCORPORATED</td>\n",
       "      <td>UNINCORPORATED</td>\n",
       "      <td>BIRCHGROVE</td>\n",
       "      <td>2041.0</td>\n",
       "    </tr>\n",
       "    <tr>\n",
       "      <th>4574</th>\n",
       "      <td>UNINCORPORATED</td>\n",
       "      <td>UNINCORPORATED</td>\n",
       "      <td>ABBOTSFORD</td>\n",
       "      <td>2046.0</td>\n",
       "    </tr>\n",
       "    <tr>\n",
       "      <th>4583</th>\n",
       "      <td>UNINCORPORATED</td>\n",
       "      <td>UNINCORPORATED</td>\n",
       "      <td>DRUMMOYNE</td>\n",
       "      <td>2047.0</td>\n",
       "    </tr>\n",
       "    <tr>\n",
       "      <th>4587</th>\n",
       "      <td>UNINCORPORATED</td>\n",
       "      <td>UNINCORPORATED</td>\n",
       "      <td>KIRRIBILLI</td>\n",
       "      <td>2061.0</td>\n",
       "    </tr>\n",
       "    <tr>\n",
       "      <th>4589</th>\n",
       "      <td>UNINCORPORATED</td>\n",
       "      <td>UNINCORPORATED</td>\n",
       "      <td>LANE COVE NORTH</td>\n",
       "      <td>2066.0</td>\n",
       "    </tr>\n",
       "    <tr>\n",
       "      <th>4596</th>\n",
       "      <td>UNINCORPORATED</td>\n",
       "      <td>UNINCORPORATED</td>\n",
       "      <td>MOSMAN</td>\n",
       "      <td>2088.0</td>\n",
       "    </tr>\n",
       "    <tr>\n",
       "      <th>4588</th>\n",
       "      <td>UNINCORPORATED</td>\n",
       "      <td>UNINCORPORATED</td>\n",
       "      <td>KURRABA POINT</td>\n",
       "      <td>2089.0</td>\n",
       "    </tr>\n",
       "    <tr>\n",
       "      <th>4598</th>\n",
       "      <td>UNINCORPORATED</td>\n",
       "      <td>UNINCORPORATED</td>\n",
       "      <td>NEUTRAL BAY</td>\n",
       "      <td>2089.0</td>\n",
       "    </tr>\n",
       "    <tr>\n",
       "      <th>4591</th>\n",
       "      <td>UNINCORPORATED</td>\n",
       "      <td>UNINCORPORATED</td>\n",
       "      <td>MANLY</td>\n",
       "      <td>2095.0</td>\n",
       "    </tr>\n",
       "    <tr>\n",
       "      <th>4586</th>\n",
       "      <td>UNINCORPORATED</td>\n",
       "      <td>UNINCORPORATED</td>\n",
       "      <td>HUNTERS HILL</td>\n",
       "      <td>2110.0</td>\n",
       "    </tr>\n",
       "    <tr>\n",
       "      <th>4585</th>\n",
       "      <td>UNINCORPORATED</td>\n",
       "      <td>UNINCORPORATED</td>\n",
       "      <td>GLADESVILLE</td>\n",
       "      <td>2111.0</td>\n",
       "    </tr>\n",
       "    <tr>\n",
       "      <th>4603</th>\n",
       "      <td>UNINCORPORATED</td>\n",
       "      <td>UNINCORPORATED FAR WEST</td>\n",
       "      <td>SCOTIA</td>\n",
       "      <td>2648.0</td>\n",
       "    </tr>\n",
       "    <tr>\n",
       "      <th>4601</th>\n",
       "      <td>UNINCORPORATED</td>\n",
       "      <td>UNINCORPORATED FAR WEST</td>\n",
       "      <td>POONCARIE</td>\n",
       "      <td>2648.0</td>\n",
       "    </tr>\n",
       "    <tr>\n",
       "      <th>4610</th>\n",
       "      <td>UNINCORPORATED</td>\n",
       "      <td>UNINCORPORATED FAR WEST</td>\n",
       "      <td>WHITE CLIFFS</td>\n",
       "      <td>2836.0</td>\n",
       "    </tr>\n",
       "    <tr>\n",
       "      <th>4608</th>\n",
       "      <td>UNINCORPORATED</td>\n",
       "      <td>UNINCORPORATED FAR WEST</td>\n",
       "      <td>WANAARING</td>\n",
       "      <td>2840.0</td>\n",
       "    </tr>\n",
       "    <tr>\n",
       "      <th>4592</th>\n",
       "      <td>UNINCORPORATED</td>\n",
       "      <td>UNINCORPORATED FAR WEST</td>\n",
       "      <td>MENINDEE</td>\n",
       "      <td>2879.0</td>\n",
       "    </tr>\n",
       "    <tr>\n",
       "      <th>4597</th>\n",
       "      <td>UNINCORPORATED</td>\n",
       "      <td>UNINCORPORATED FAR WEST</td>\n",
       "      <td>MUTAWINTJI</td>\n",
       "      <td>2880.0</td>\n",
       "    </tr>\n",
       "    <tr>\n",
       "      <th>4604</th>\n",
       "      <td>UNINCORPORATED</td>\n",
       "      <td>UNINCORPORATED FAR WEST</td>\n",
       "      <td>SILVERTON</td>\n",
       "      <td>2880.0</td>\n",
       "    </tr>\n",
       "    <tr>\n",
       "      <th>4595</th>\n",
       "      <td>UNINCORPORATED</td>\n",
       "      <td>UNINCORPORATED FAR WEST</td>\n",
       "      <td>MILPARINKA</td>\n",
       "      <td>2880.0</td>\n",
       "    </tr>\n",
       "    <tr>\n",
       "      <th>4606</th>\n",
       "      <td>UNINCORPORATED</td>\n",
       "      <td>UNINCORPORATED FAR WEST</td>\n",
       "      <td>TIBOOBURRA</td>\n",
       "      <td>2880.0</td>\n",
       "    </tr>\n",
       "    <tr>\n",
       "      <th>4580</th>\n",
       "      <td>UNINCORPORATED</td>\n",
       "      <td>UNINCORPORATED FAR WEST</td>\n",
       "      <td>BROUGHAMS GATE</td>\n",
       "      <td>2880.0</td>\n",
       "    </tr>\n",
       "    <tr>\n",
       "      <th>4590</th>\n",
       "      <td>UNINCORPORATED</td>\n",
       "      <td>UNINCORPORATED FAR WEST</td>\n",
       "      <td>LITTLE TOPAR</td>\n",
       "      <td>2880.0</td>\n",
       "    </tr>\n",
       "    <tr>\n",
       "      <th>4579</th>\n",
       "      <td>UNINCORPORATED</td>\n",
       "      <td>UNINCORPORATED FAR WEST</td>\n",
       "      <td>BROKEN HILL</td>\n",
       "      <td>2880.0</td>\n",
       "    </tr>\n",
       "    <tr>\n",
       "      <th>4584</th>\n",
       "      <td>UNINCORPORATED</td>\n",
       "      <td>UNINCORPORATED FAR WEST</td>\n",
       "      <td>FOWLERS GAP</td>\n",
       "      <td>2880.0</td>\n",
       "    </tr>\n",
       "    <tr>\n",
       "      <th>4600</th>\n",
       "      <td>UNINCORPORATED</td>\n",
       "      <td>UNINCORPORATED FAR WEST</td>\n",
       "      <td>PACKSADDLE</td>\n",
       "      <td>2880.0</td>\n",
       "    </tr>\n",
       "  </tbody>\n",
       "</table>\n",
       "</div>"
      ],
      "text/plain": [
       "                 LGA                  council           suburb  postcode\n",
       "4576  UNINCORPORATED           UNINCORPORATED       BARANGAROO    2000.0\n",
       "4581  UNINCORPORATED           UNINCORPORATED      DAWES POINT    2000.0\n",
       "4605  UNINCORPORATED           UNINCORPORATED           SYDNEY    2000.0\n",
       "4594  UNINCORPORATED           UNINCORPORATED    MILLERS POINT    2000.0\n",
       "4602  UNINCORPORATED           UNINCORPORATED          PYRMONT    2009.0\n",
       "4611  UNINCORPORATED           UNINCORPORATED    WOOLLOOMOOLOO    2011.0\n",
       "4582  UNINCORPORATED           UNINCORPORATED       DOUBLE BAY    2028.0\n",
       "4609  UNINCORPORATED           UNINCORPORATED      WATSONS BAY    2030.0\n",
       "4607  UNINCORPORATED           UNINCORPORATED         VAUCLUSE    2030.0\n",
       "4575  UNINCORPORATED           UNINCORPORATED          BALMAIN    2041.0\n",
       "4577  UNINCORPORATED           UNINCORPORATED       BIRCHGROVE    2041.0\n",
       "4574  UNINCORPORATED           UNINCORPORATED       ABBOTSFORD    2046.0\n",
       "4583  UNINCORPORATED           UNINCORPORATED        DRUMMOYNE    2047.0\n",
       "4587  UNINCORPORATED           UNINCORPORATED       KIRRIBILLI    2061.0\n",
       "4589  UNINCORPORATED           UNINCORPORATED  LANE COVE NORTH    2066.0\n",
       "4596  UNINCORPORATED           UNINCORPORATED           MOSMAN    2088.0\n",
       "4588  UNINCORPORATED           UNINCORPORATED    KURRABA POINT    2089.0\n",
       "4598  UNINCORPORATED           UNINCORPORATED      NEUTRAL BAY    2089.0\n",
       "4591  UNINCORPORATED           UNINCORPORATED            MANLY    2095.0\n",
       "4586  UNINCORPORATED           UNINCORPORATED     HUNTERS HILL    2110.0\n",
       "4585  UNINCORPORATED           UNINCORPORATED      GLADESVILLE    2111.0\n",
       "4603  UNINCORPORATED  UNINCORPORATED FAR WEST           SCOTIA    2648.0\n",
       "4601  UNINCORPORATED  UNINCORPORATED FAR WEST        POONCARIE    2648.0\n",
       "4610  UNINCORPORATED  UNINCORPORATED FAR WEST     WHITE CLIFFS    2836.0\n",
       "4608  UNINCORPORATED  UNINCORPORATED FAR WEST        WANAARING    2840.0\n",
       "4592  UNINCORPORATED  UNINCORPORATED FAR WEST         MENINDEE    2879.0\n",
       "4597  UNINCORPORATED  UNINCORPORATED FAR WEST       MUTAWINTJI    2880.0\n",
       "4604  UNINCORPORATED  UNINCORPORATED FAR WEST        SILVERTON    2880.0\n",
       "4595  UNINCORPORATED  UNINCORPORATED FAR WEST       MILPARINKA    2880.0\n",
       "4606  UNINCORPORATED  UNINCORPORATED FAR WEST       TIBOOBURRA    2880.0\n",
       "4580  UNINCORPORATED  UNINCORPORATED FAR WEST   BROUGHAMS GATE    2880.0\n",
       "4590  UNINCORPORATED  UNINCORPORATED FAR WEST     LITTLE TOPAR    2880.0\n",
       "4579  UNINCORPORATED  UNINCORPORATED FAR WEST      BROKEN HILL    2880.0\n",
       "4584  UNINCORPORATED  UNINCORPORATED FAR WEST      FOWLERS GAP    2880.0\n",
       "4600  UNINCORPORATED  UNINCORPORATED FAR WEST       PACKSADDLE    2880.0"
      ]
     },
     "execution_count": 56,
     "metadata": {},
     "output_type": "execute_result"
    }
   ],
   "source": [
    "# Dealing with the unincorporated\n",
    "\n",
    "unico = mapping.loc[mapping.LGA=='UNINCORPORATED']\n",
    "print(\"number of unicorporated postcodes:\", unicorp['postcode'].nunique())\n",
    "unico = unico.sort_values(by='postcode', ascending=True)\n",
    "unico"
   ]
  },
  {
   "cell_type": "code",
   "execution_count": 67,
   "id": "6af41d31",
   "metadata": {},
   "outputs": [
    {
     "data": {
      "text/html": [
       "<div>\n",
       "<style scoped>\n",
       "    .dataframe tbody tr th:only-of-type {\n",
       "        vertical-align: middle;\n",
       "    }\n",
       "\n",
       "    .dataframe tbody tr th {\n",
       "        vertical-align: top;\n",
       "    }\n",
       "\n",
       "    .dataframe thead th {\n",
       "        text-align: right;\n",
       "    }\n",
       "</style>\n",
       "<table border=\"1\" class=\"dataframe\">\n",
       "  <thead>\n",
       "    <tr style=\"text-align: right;\">\n",
       "      <th></th>\n",
       "      <th>LGA</th>\n",
       "      <th>council</th>\n",
       "      <th>suburb</th>\n",
       "      <th>postcode</th>\n",
       "    </tr>\n",
       "  </thead>\n",
       "  <tbody>\n",
       "    <tr>\n",
       "      <th>4576</th>\n",
       "      <td>CITY OF SYDNEY</td>\n",
       "      <td>UNINCORPORATED</td>\n",
       "      <td>BARANGAROO</td>\n",
       "      <td>2000.0</td>\n",
       "    </tr>\n",
       "    <tr>\n",
       "      <th>4581</th>\n",
       "      <td>CITY OF SYDNEY</td>\n",
       "      <td>UNINCORPORATED</td>\n",
       "      <td>DAWES POINT</td>\n",
       "      <td>2000.0</td>\n",
       "    </tr>\n",
       "    <tr>\n",
       "      <th>4605</th>\n",
       "      <td>CITY OF SYDNEY</td>\n",
       "      <td>UNINCORPORATED</td>\n",
       "      <td>SYDNEY</td>\n",
       "      <td>2000.0</td>\n",
       "    </tr>\n",
       "    <tr>\n",
       "      <th>4594</th>\n",
       "      <td>CITY OF SYDNEY</td>\n",
       "      <td>UNINCORPORATED</td>\n",
       "      <td>MILLERS POINT</td>\n",
       "      <td>2000.0</td>\n",
       "    </tr>\n",
       "    <tr>\n",
       "      <th>4602</th>\n",
       "      <td>CITY OF SYDNEY</td>\n",
       "      <td>UNINCORPORATED</td>\n",
       "      <td>PYRMONT</td>\n",
       "      <td>2009.0</td>\n",
       "    </tr>\n",
       "  </tbody>\n",
       "</table>\n",
       "</div>"
      ],
      "text/plain": [
       "                 LGA         council         suburb  postcode\n",
       "4576  CITY OF SYDNEY  UNINCORPORATED     BARANGAROO    2000.0\n",
       "4581  CITY OF SYDNEY  UNINCORPORATED    DAWES POINT    2000.0\n",
       "4605  CITY OF SYDNEY  UNINCORPORATED         SYDNEY    2000.0\n",
       "4594  CITY OF SYDNEY  UNINCORPORATED  MILLERS POINT    2000.0\n",
       "4602  CITY OF SYDNEY  UNINCORPORATED        PYRMONT    2009.0"
      ]
     },
     "execution_count": 67,
     "metadata": {},
     "output_type": "execute_result"
    }
   ],
   "source": [
    "# import manully looked-up LGAs for unicorporated ones\n",
    "\n",
    "patch = [\"CITY OF SYDNEY\",\n",
    "\"CITY OF SYDNEY\",\n",
    "\"CITY OF SYDNEY\",\n",
    "\"CITY OF SYDNEY\",\n",
    "\"CITY OF SYDNEY\",\n",
    "\"CITY OF SYDNEY\",\n",
    "\"WOOLLAHRA\",\n",
    "\"WOOLLAHRA\",\n",
    "\"WOOLLAHRA\",\n",
    "\"INNER WEST\",\n",
    "\"INNER WEST\",\n",
    "\"CANADA BAY\",\n",
    "\"CANADA BAY\",\n",
    "\"NORTH SYDNEY\",\n",
    "\"LANE COVE\",\n",
    "\"MOSMAN\",\n",
    "\"NORTH SYDNEY\",\n",
    "\"NORTH SYDNEY\",\n",
    "\"NORTHERN BEACHES\",\n",
    "\"HUNTERS HILL\",\n",
    "\"CITY OF RYDE\",\n",
    "\"WENTWORTH SHIRE\",\n",
    "\"WENTWORTH SHIRE\",\n",
    "\"CENTRAL DARLING SHIRE\",\n",
    "\"BOURKE SHIRE\",\n",
    "\"CENTRAL DARLING SHIRE\",\n",
    "\"UNICORPORATED FAR WEST\",\n",
    "\"UNICORPORATED FAR WEST\",\n",
    "\"UNICORPORATED FAR WEST\",\n",
    "\"UNICORPORATED FAR WEST\",\n",
    "\"UNICORPORATED FAR WEST\",\n",
    "\"UNICORPORATED FAR WEST\",\n",
    "\"UNICORPORATED FAR WEST\",\n",
    "\"UNICORPORATED FAR WEST\",\n",
    "\"UNICORPORATED FAR WEST\"]\n",
    "\n",
    "# Add patch\n",
    "unico['LGA patch'] = patch\n",
    "\n",
    "# Drop LGA\n",
    "unico = unico.drop(columns=['LGA'],axis=1)\n",
    "\n",
    "# Remane patch as the new LGA\n",
    "unico = unico.rename(columns={\"LGA patch\":\"LGA\"})\n",
    "\n",
    "# Reorder columns\n",
    "cols = ['LGA', 'council', 'suburb', 'postcode']\n",
    "unico = unico[cols]\n",
    "\n",
    "unico.head()"
   ]
  },
  {
   "cell_type": "code",
   "execution_count": 74,
   "id": "a9fed6de",
   "metadata": {},
   "outputs": [],
   "source": [
    "# Remove unicorporated from the original mapping df\n",
    "mapping = mapping.loc[mapping['LGA'] != \"UNINCORPORATED\"]\n",
    "\n",
    "# Append patched unico to mapping\n",
    "mapping = mapping.append(unico)\n",
    "\n",
    "# Save complete mapping df to csv\n",
    "mapping.to_csv('Files/Area/Cleaned_LGA_Mapping_07102021.csv', index=False)"
   ]
  },
  {
   "cell_type": "markdown",
   "id": "2988b305",
   "metadata": {},
   "source": [
    "**UP TO THIS POINT, WE'VE SOLVED THE UNINCORPORATED ISSUES OF THE MAPPING FILE AND CAN START MERGING**"
   ]
  },
  {
   "cell_type": "code",
   "execution_count": 69,
   "id": "8933b5fe",
   "metadata": {},
   "outputs": [
    {
     "data": {
      "text/html": [
       "<div>\n",
       "<style scoped>\n",
       "    .dataframe tbody tr th:only-of-type {\n",
       "        vertical-align: middle;\n",
       "    }\n",
       "\n",
       "    .dataframe tbody tr th {\n",
       "        vertical-align: top;\n",
       "    }\n",
       "\n",
       "    .dataframe thead th {\n",
       "        text-align: right;\n",
       "    }\n",
       "</style>\n",
       "<table border=\"1\" class=\"dataframe\">\n",
       "  <thead>\n",
       "    <tr style=\"text-align: right;\">\n",
       "      <th></th>\n",
       "      <th>LGA</th>\n",
       "      <th>postcode</th>\n",
       "    </tr>\n",
       "  </thead>\n",
       "  <tbody>\n",
       "    <tr>\n",
       "      <th>0</th>\n",
       "      <td>ALBURY CITY</td>\n",
       "      <td>2640.0</td>\n",
       "    </tr>\n",
       "    <tr>\n",
       "      <th>4</th>\n",
       "      <td>ALBURY CITY</td>\n",
       "      <td>2641.0</td>\n",
       "    </tr>\n",
       "    <tr>\n",
       "      <th>5</th>\n",
       "      <td>ALBURY CITY</td>\n",
       "      <td>2642.0</td>\n",
       "    </tr>\n",
       "    <tr>\n",
       "      <th>6</th>\n",
       "      <td>ALBURY CITY</td>\n",
       "      <td>3691.0</td>\n",
       "    </tr>\n",
       "    <tr>\n",
       "      <th>16</th>\n",
       "      <td>ARMIDALE REGIONAL</td>\n",
       "      <td>2350.0</td>\n",
       "    </tr>\n",
       "    <tr>\n",
       "      <th>...</th>\n",
       "      <td>...</td>\n",
       "      <td>...</td>\n",
       "    </tr>\n",
       "    <tr>\n",
       "      <th>4603</th>\n",
       "      <td>WENTWORTH SHIRE</td>\n",
       "      <td>2648.0</td>\n",
       "    </tr>\n",
       "    <tr>\n",
       "      <th>4610</th>\n",
       "      <td>CENTRAL DARLING SHIRE</td>\n",
       "      <td>2836.0</td>\n",
       "    </tr>\n",
       "    <tr>\n",
       "      <th>4608</th>\n",
       "      <td>BOURKE SHIRE</td>\n",
       "      <td>2840.0</td>\n",
       "    </tr>\n",
       "    <tr>\n",
       "      <th>4592</th>\n",
       "      <td>CENTRAL DARLING SHIRE</td>\n",
       "      <td>2879.0</td>\n",
       "    </tr>\n",
       "    <tr>\n",
       "      <th>4597</th>\n",
       "      <td>UNICORPORATED FAR WEST</td>\n",
       "      <td>2880.0</td>\n",
       "    </tr>\n",
       "  </tbody>\n",
       "</table>\n",
       "<p>1064 rows × 2 columns</p>\n",
       "</div>"
      ],
      "text/plain": [
       "                         LGA  postcode\n",
       "0                ALBURY CITY    2640.0\n",
       "4                ALBURY CITY    2641.0\n",
       "5                ALBURY CITY    2642.0\n",
       "6                ALBURY CITY    3691.0\n",
       "16         ARMIDALE REGIONAL    2350.0\n",
       "...                      ...       ...\n",
       "4603         WENTWORTH SHIRE    2648.0\n",
       "4610   CENTRAL DARLING SHIRE    2836.0\n",
       "4608            BOURKE SHIRE    2840.0\n",
       "4592   CENTRAL DARLING SHIRE    2879.0\n",
       "4597  UNICORPORATED FAR WEST    2880.0\n",
       "\n",
       "[1064 rows x 2 columns]"
      ]
     },
     "execution_count": 69,
     "metadata": {},
     "output_type": "execute_result"
    }
   ],
   "source": [
    "# Remove the suburb and council columns\n",
    "mapping_reduce = mapping.drop(columns=['council','suburb'], axis=1)\n",
    "\n",
    "# Drop duplicates\n",
    "mapping_reduce = mapping_reduce.drop_duplicates()\n",
    "\n",
    "mapping_reduce"
   ]
  },
  {
   "cell_type": "code",
   "execution_count": 73,
   "id": "82f6001d",
   "metadata": {},
   "outputs": [
    {
     "data": {
      "text/html": [
       "<div>\n",
       "<style scoped>\n",
       "    .dataframe tbody tr th:only-of-type {\n",
       "        vertical-align: middle;\n",
       "    }\n",
       "\n",
       "    .dataframe tbody tr th {\n",
       "        vertical-align: top;\n",
       "    }\n",
       "\n",
       "    .dataframe thead th {\n",
       "        text-align: right;\n",
       "    }\n",
       "</style>\n",
       "<table border=\"1\" class=\"dataframe\">\n",
       "  <thead>\n",
       "    <tr style=\"text-align: right;\">\n",
       "      <th></th>\n",
       "      <th>postcode</th>\n",
       "      <th>LGA</th>\n",
       "      <th>skey</th>\n",
       "      <th>time_period</th>\n",
       "      <th>year</th>\n",
       "      <th>quarter</th>\n",
       "      <th>dwelling_type</th>\n",
       "      <th>median_price</th>\n",
       "      <th>mean_price</th>\n",
       "      <th>sales_no</th>\n",
       "      <th>...</th>\n",
       "      <th>Qdelta_count</th>\n",
       "      <th>Adelta_count</th>\n",
       "      <th>rkey</th>\n",
       "      <th>median_rent_newb</th>\n",
       "      <th>new_bonds_no</th>\n",
       "      <th>total_bonds_no</th>\n",
       "      <th>Qdelta_median_rent</th>\n",
       "      <th>Qdelta_new_bonds</th>\n",
       "      <th>Adelta_median_rent</th>\n",
       "      <th>Adelta_new_bonds</th>\n",
       "    </tr>\n",
       "  </thead>\n",
       "  <tbody>\n",
       "    <tr>\n",
       "      <th>0</th>\n",
       "      <td>2000</td>\n",
       "      <td>SYDNEY</td>\n",
       "      <td>s122</td>\n",
       "      <td>2017 Q3</td>\n",
       "      <td>2017</td>\n",
       "      <td>Q3</td>\n",
       "      <td>Total</td>\n",
       "      <td>1350.0</td>\n",
       "      <td>1516.328059</td>\n",
       "      <td>135.0</td>\n",
       "      <td>...</td>\n",
       "      <td>-0.325</td>\n",
       "      <td>-0.3112</td>\n",
       "      <td>r121</td>\n",
       "      <td>640.0</td>\n",
       "      <td>1169.0</td>\n",
       "      <td>7914.0</td>\n",
       "      <td>-0.2</td>\n",
       "      <td>0.5545</td>\n",
       "      <td>NaN</td>\n",
       "      <td>NaN</td>\n",
       "    </tr>\n",
       "  </tbody>\n",
       "</table>\n",
       "<p>1 rows × 22 columns</p>\n",
       "</div>"
      ],
      "text/plain": [
       "   postcode     LGA  skey time_period  year quarter dwelling_type  \\\n",
       "0      2000  SYDNEY  s122     2017 Q3  2017      Q3         Total   \n",
       "\n",
       "   median_price   mean_price  sales_no  ...  Qdelta_count  Adelta_count  rkey  \\\n",
       "0        1350.0  1516.328059     135.0  ...        -0.325       -0.3112  r121   \n",
       "\n",
       "   median_rent_newb new_bonds_no  total_bonds_no  Qdelta_median_rent  \\\n",
       "0             640.0       1169.0          7914.0                -0.2   \n",
       "\n",
       "   Qdelta_new_bonds  Adelta_median_rent  Adelta_new_bonds  \n",
       "0            0.5545                 NaN               NaN  \n",
       "\n",
       "[1 rows x 22 columns]"
      ]
     },
     "execution_count": 73,
     "metadata": {},
     "output_type": "execute_result"
    }
   ],
   "source": [
    "# Join LGA from mapping with master\n",
    "master_map = master.merge(mapping_reduce, left_on='postcode', right_on='postcode')\n",
    "\n",
    "cols = ['postcode', 'LGA','skey', 'time_period', 'year', 'quarter', 'dwelling_type',\n",
    "       'median_price', 'mean_price', 'sales_no', 'Qdelta_median',\n",
    "       'Adelta_median', 'Qdelta_count', 'Adelta_count', 'rkey',\n",
    "       'median_rent_newb', 'new_bonds_no', 'total_bonds_no',\n",
    "       'Qdelta_median_rent', 'Qdelta_new_bonds', 'Adelta_median_rent',\n",
    "       'Adelta_new_bonds']\n",
    "\n",
    "master_map = master_map[cols]\n",
    "master_map.head(1)"
   ]
  },
  {
   "cell_type": "code",
   "execution_count": 76,
   "id": "b6f71afa",
   "metadata": {},
   "outputs": [],
   "source": [
    "master_map.to_csv('Files/Cleaned/Master_Sales_Rent_2017Q4_2021Q1_wLGA.csv', index=False)"
   ]
  },
  {
   "cell_type": "code",
   "execution_count": 72,
   "id": "cc30e068",
   "metadata": {},
   "outputs": [
    {
     "data": {
      "text/plain": [
       "Index(['postcode', 'skey', 'time_period', 'year', 'quarter', 'dwelling_type',\n",
       "       'median_price', 'mean_price', 'sales_no', 'Qdelta_median',\n",
       "       'Adelta_median', 'Qdelta_count', 'Adelta_count', 'rkey',\n",
       "       'median_rent_newb', 'new_bonds_no', 'total_bonds_no',\n",
       "       'Qdelta_median_rent', 'Qdelta_new_bonds', 'Adelta_median_rent',\n",
       "       'Adelta_new_bonds', 'LGA'],\n",
       "      dtype='object')"
      ]
     },
     "execution_count": 72,
     "metadata": {},
     "output_type": "execute_result"
    }
   ],
   "source": [
    "master_map.columns"
   ]
  },
  {
   "cell_type": "markdown",
   "id": "e00f4dee",
   "metadata": {},
   "source": [
    "**THE NEXT STEP WOULD BE SOLVE THE MISMATCH OF LGA NAMES BETWEEN THE MASTER DF AND THE FEATURE DF**"
   ]
  },
  {
   "cell_type": "code",
   "execution_count": 7,
   "id": "3ac288b1",
   "metadata": {},
   "outputs": [
    {
     "data": {
      "text/html": [
       "<div>\n",
       "<style scoped>\n",
       "    .dataframe tbody tr th:only-of-type {\n",
       "        vertical-align: middle;\n",
       "    }\n",
       "\n",
       "    .dataframe tbody tr th {\n",
       "        vertical-align: top;\n",
       "    }\n",
       "\n",
       "    .dataframe thead th {\n",
       "        text-align: right;\n",
       "    }\n",
       "</style>\n",
       "<table border=\"1\" class=\"dataframe\">\n",
       "  <thead>\n",
       "    <tr style=\"text-align: right;\">\n",
       "      <th></th>\n",
       "      <th>LGA</th>\n",
       "      <th>hhold_count_2016</th>\n",
       "      <th>hhold_count_2021</th>\n",
       "      <th>hhold_count_delta</th>\n",
       "    </tr>\n",
       "  </thead>\n",
       "  <tbody>\n",
       "    <tr>\n",
       "      <th>0</th>\n",
       "      <td>Albury</td>\n",
       "      <td>21940</td>\n",
       "      <td>23227</td>\n",
       "      <td>1287</td>\n",
       "    </tr>\n",
       "    <tr>\n",
       "      <th>1</th>\n",
       "      <td>Armidale Regional</td>\n",
       "      <td>11755</td>\n",
       "      <td>13041</td>\n",
       "      <td>1286</td>\n",
       "    </tr>\n",
       "    <tr>\n",
       "      <th>2</th>\n",
       "      <td>Ballina</td>\n",
       "      <td>18178</td>\n",
       "      <td>19080</td>\n",
       "      <td>902</td>\n",
       "    </tr>\n",
       "    <tr>\n",
       "      <th>3</th>\n",
       "      <td>Balranald</td>\n",
       "      <td>963</td>\n",
       "      <td>1015</td>\n",
       "      <td>52</td>\n",
       "    </tr>\n",
       "    <tr>\n",
       "      <th>4</th>\n",
       "      <td>Bathurst Regional</td>\n",
       "      <td>16105</td>\n",
       "      <td>17351</td>\n",
       "      <td>1246</td>\n",
       "    </tr>\n",
       "  </tbody>\n",
       "</table>\n",
       "</div>"
      ],
      "text/plain": [
       "                 LGA  hhold_count_2016  hhold_count_2021  hhold_count_delta\n",
       "0             Albury             21940             23227               1287\n",
       "1  Armidale Regional             11755             13041               1286\n",
       "2            Ballina             18178             19080                902\n",
       "3          Balranald               963              1015                 52\n",
       "4  Bathurst Regional             16105             17351               1246"
      ]
     },
     "execution_count": 7,
     "metadata": {},
     "output_type": "execute_result"
    }
   ],
   "source": [
    "popfile = \"Files/Population/2019 NSW Population Projections ASGS 2019 LGA.xlsx\"\n",
    "df_hhold_wide = pd.read_excel(popfile,sheet_name='LGA Household Totals',header=6,usecols=\"A:C\",skipfooter=3)\n",
    "df_hhold_wide.columns=['LGA','hhold_count_2016','hhold_count_2021']\n",
    "df_hhold_wide['LGA'] = df_hhold_wide.LGA.str.split('(').str.get(0)\n",
    "\n",
    "df_hhold_wide['hhold_count_delta'] = df_hhold_wide.hhold_count_2021 - df_hhold_wide.hhold_count_2016\n",
    "df_hhold_wide['LGA'] = df_hhold_wide['LGA'].str.strip()\n",
    "\n",
    "# shorten name for easy reference, will save back to the original df later\n",
    "hhold = df_hhold_wide\n",
    "hhold.head()"
   ]
  },
  {
   "cell_type": "code",
   "execution_count": 78,
   "id": "50c28421",
   "metadata": {},
   "outputs": [
    {
     "name": "stdout",
     "output_type": "stream",
     "text": [
      "Number of LGAs in the population df: 129\n",
      "Number of LGAs in the mapping df: 135\n"
     ]
    }
   ],
   "source": [
    "print(\"Number of LGAs in the population df:\", hhold['LGA'].nunique())\n",
    "print(\"Number of LGAs in the mapping df:\", mapping['LGA'].nunique())"
   ]
  },
  {
   "cell_type": "code",
   "execution_count": 87,
   "id": "10bd7365",
   "metadata": {},
   "outputs": [
    {
     "name": "stdout",
     "output_type": "stream",
     "text": [
      "122\n"
     ]
    }
   ],
   "source": [
    "# Find shared LGA in both \n",
    "LGA_map = list(mapping['LGA'].unique())\n",
    "LGA_hhold = list(hhold['LGA'].unique())\n",
    "LGA_HHOLD = list(map(str.upper, LGA_hhold)) # Convert LGA in hhold to uppercase\n",
    "\n",
    "LGA_shared= list(set(LGA_map).intersection(LGA_HHOLD))\n",
    "print(len(LGA_shared))"
   ]
  },
  {
   "cell_type": "code",
   "execution_count": 92,
   "id": "f0d7da45",
   "metadata": {},
   "outputs": [
    {
     "data": {
      "text/plain": [
       "{'ALBURY',\n",
       " 'LITHGOW',\n",
       " 'NAMBUCCA',\n",
       " 'PARRAMATTA',\n",
       " 'UNINCORPORATED NSW',\n",
       " 'UPPER HUNTER SHIRE',\n",
       " 'WARRUMBUNGLE SHIRE'}"
      ]
     },
     "execution_count": 92,
     "metadata": {},
     "output_type": "execute_result"
    }
   ],
   "source": [
    "# Find LGA in hhold ONLY\n",
    "set(LGA_HHOLD) - set(LGA_shared)"
   ]
  },
  {
   "cell_type": "code",
   "execution_count": 93,
   "id": "95d9acb4",
   "metadata": {},
   "outputs": [
    {
     "data": {
      "text/plain": [
       "{'ALBURY CITY',\n",
       " 'BOURKE SHIRE',\n",
       " 'CENTRAL DARLING SHIRE',\n",
       " 'CITY OF PARRAMATTA',\n",
       " 'CITY OF RYDE',\n",
       " 'CITY OF SYDNEY',\n",
       " 'LITHGOW CITY',\n",
       " 'LORD HOWE ISLAND - UNINCORPORATED AREA',\n",
       " 'NAMBUCCA VALLEY',\n",
       " 'UNICORPORATED FAR WEST',\n",
       " 'UPPER HUNTER',\n",
       " 'WARRUMBUNGLE',\n",
       " 'WENTWORTH SHIRE'}"
      ]
     },
     "execution_count": 93,
     "metadata": {},
     "output_type": "execute_result"
    }
   ],
   "source": [
    "# Find LGA in mapping ONLY\n",
    "set(LGA_map) - set(LGA_shared)"
   ]
  },
  {
   "cell_type": "code",
   "execution_count": 98,
   "id": "8cafd5f6",
   "metadata": {},
   "outputs": [
    {
     "name": "stdout",
     "output_type": "stream",
     "text": [
      "number of LGAs matched: 128\n",
      "number of LGAs in the hhold df: 129\n"
     ]
    }
   ],
   "source": [
    "# Match name, except for unincorporated NSW\n",
    "\n",
    "hhold.loc[hhold.LGA=='Albury', 'LGA'] = 'ALBURY CITY'\n",
    "hhold.loc[hhold.LGA=='Lithgow', 'LGA'] = 'LITHGOW CITY'\n",
    "hhold.loc[hhold.LGA=='Nambucca', 'LGA'] = 'NAMBUCCA VALLEY'\n",
    "hhold.loc[hhold.LGA=='Parramatta', 'LGA'] = 'CITY OF PARRAMATTA'\n",
    "hhold.loc[hhold.LGA=='Upper Hunter Shire', 'LGA'] = 'UPPER HUNTER'\n",
    "hhold.loc[hhold.LGA=='Warrumbungle Shire', 'LGA'] = 'WARRUMBUNGLE'\n",
    "\n",
    "LGA_hhold = list(hhold['LGA'].unique())\n",
    "LGA_HHOLD = list(map(str.upper, LGA_hhold)) # Convert LGA in hhold to uppercase\n",
    "\n",
    "LGA_shared= list(set(LGA_map).intersection(LGA_HHOLD))\n",
    "print(\"number of LGAs matched:\", len(LGA_shared))\n",
    "print(\"number of LGAs in the hhold df:\", hhold['LGA'].nunique())"
   ]
  },
  {
   "cell_type": "code",
   "execution_count": 99,
   "id": "10d62a63",
   "metadata": {},
   "outputs": [],
   "source": [
    "# save back to original df\n",
    "df_hhold_wide = hhold"
   ]
  }
 ],
 "metadata": {
  "kernelspec": {
   "display_name": "Python 3 (ipykernel)",
   "language": "python",
   "name": "python3"
  },
  "language_info": {
   "codemirror_mode": {
    "name": "ipython",
    "version": 3
   },
   "file_extension": ".py",
   "mimetype": "text/x-python",
   "name": "python",
   "nbconvert_exporter": "python",
   "pygments_lexer": "ipython3",
   "version": "3.8.11"
  },
  "toc": {
   "base_numbering": 1,
   "nav_menu": {},
   "number_sections": true,
   "sideBar": true,
   "skip_h1_title": false,
   "title_cell": "Table of Contents",
   "title_sidebar": "Contents",
   "toc_cell": true,
   "toc_position": {},
   "toc_section_display": true,
   "toc_window_display": false
  },
  "varInspector": {
   "cols": {
    "lenName": 16,
    "lenType": 16,
    "lenVar": 40
   },
   "kernels_config": {
    "python": {
     "delete_cmd_postfix": "",
     "delete_cmd_prefix": "del ",
     "library": "var_list.py",
     "varRefreshCmd": "print(var_dic_list())"
    },
    "r": {
     "delete_cmd_postfix": ") ",
     "delete_cmd_prefix": "rm(",
     "library": "var_list.r",
     "varRefreshCmd": "cat(var_dic_list()) "
    }
   },
   "types_to_exclude": [
    "module",
    "function",
    "builtin_function_or_method",
    "instance",
    "_Feature"
   ],
   "window_display": false
  }
 },
 "nbformat": 4,
 "nbformat_minor": 5
}
