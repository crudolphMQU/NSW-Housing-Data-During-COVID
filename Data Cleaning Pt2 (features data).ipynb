{
 "cells": [
  {
   "cell_type": "markdown",
   "id": "2fcc1bcf",
   "metadata": {},
   "source": [
    "**The objective of this notebook is to collate the codes for cleaning below data:**\n",
    "1. Bond yields (F)\n",
    "2. Ineterest rate (F)\n",
    "3. Population (K)\n",
    "4. Construction (K)\n",
    "5. Weekly income (A)\n",
    "6. Household size (A)\n",
    "\n",
    "(please add features to the list if there's any additional ones)"
   ]
  },
  {
   "cell_type": "code",
   "execution_count": 1,
   "id": "c25dfac1",
   "metadata": {},
   "outputs": [],
   "source": [
    "import pandas as pd"
   ]
  },
  {
   "cell_type": "markdown",
   "id": "870458b5",
   "metadata": {},
   "source": [
    "### 1. Bond Yields ###\n",
    "Please paste cleaning codes below"
   ]
  },
  {
   "cell_type": "code",
   "execution_count": null,
   "id": "6d42d394",
   "metadata": {},
   "outputs": [],
   "source": []
  },
  {
   "cell_type": "markdown",
   "id": "72b4dcb5",
   "metadata": {},
   "source": [
    "### 2. Interest Rate ###\n",
    "Please paste cleaning codes below"
   ]
  },
  {
   "cell_type": "code",
   "execution_count": null,
   "id": "16f4f462",
   "metadata": {},
   "outputs": [],
   "source": []
  },
  {
   "cell_type": "markdown",
   "id": "c7d80f4e",
   "metadata": {},
   "source": [
    "### 3. Population / Age bands \n",
    "Please paste cleaning codes below"
   ]
  },
  {
   "cell_type": "code",
   "execution_count": null,
   "id": "f1dfc207",
   "metadata": {},
   "outputs": [],
   "source": []
  },
  {
   "cell_type": "markdown",
   "id": "b0a229a9",
   "metadata": {},
   "source": [
    "### 4. Construction\n",
    "Please paste cleaning codes below"
   ]
  },
  {
   "cell_type": "code",
   "execution_count": null,
   "id": "8d8a76ec",
   "metadata": {},
   "outputs": [],
   "source": []
  },
  {
   "cell_type": "markdown",
   "id": "082a9b11",
   "metadata": {},
   "source": [
    "### 5. Weekly Income"
   ]
  },
  {
   "cell_type": "code",
   "execution_count": 2,
   "id": "3d00a025",
   "metadata": {},
   "outputs": [
    {
     "data": {
      "text/html": [
       "<div>\n",
       "<style scoped>\n",
       "    .dataframe tbody tr th:only-of-type {\n",
       "        vertical-align: middle;\n",
       "    }\n",
       "\n",
       "    .dataframe tbody tr th {\n",
       "        vertical-align: top;\n",
       "    }\n",
       "\n",
       "    .dataframe thead th {\n",
       "        text-align: right;\n",
       "    }\n",
       "</style>\n",
       "<table border=\"1\" class=\"dataframe\">\n",
       "  <thead>\n",
       "    <tr style=\"text-align: right;\">\n",
       "      <th>INCP_WK</th>\n",
       "      <th>$1,000-$1,249 ($52,000-$64,999)</th>\n",
       "      <th>$1,250-$1,499 ($65,000-$77,999)</th>\n",
       "      <th>$1,500-$1,749 ($78,000-$90,999)</th>\n",
       "      <th>$1,750-$1,999 ($91,000-$103,999)</th>\n",
       "      <th>$1-$149 ($1-$7,799)</th>\n",
       "      <th>$150-$299 ($7,800-$15,599)</th>\n",
       "      <th>$2,000-$2,999 ($104,000-$155,999)</th>\n",
       "      <th>$3,000 or more ($156,000 or more)</th>\n",
       "      <th>$300-$399 ($15,600-$20,799)</th>\n",
       "      <th>$400-$499 ($20,800-$25,999)</th>\n",
       "      <th>$500-$649 ($26,000-$33,799)</th>\n",
       "      <th>$650-$799 ($33,800-$41,599)</th>\n",
       "      <th>$800-$999 ($41,600-$51,999)</th>\n",
       "      <th>Negative income</th>\n",
       "      <th>Nil income</th>\n",
       "      <th>Not applicable</th>\n",
       "      <th>Not stated</th>\n",
       "      <th>Total</th>\n",
       "    </tr>\n",
       "    <tr>\n",
       "      <th>postcode</th>\n",
       "      <th></th>\n",
       "      <th></th>\n",
       "      <th></th>\n",
       "      <th></th>\n",
       "      <th></th>\n",
       "      <th></th>\n",
       "      <th></th>\n",
       "      <th></th>\n",
       "      <th></th>\n",
       "      <th></th>\n",
       "      <th></th>\n",
       "      <th></th>\n",
       "      <th></th>\n",
       "      <th></th>\n",
       "      <th></th>\n",
       "      <th></th>\n",
       "      <th></th>\n",
       "      <th></th>\n",
       "    </tr>\n",
       "  </thead>\n",
       "  <tbody>\n",
       "    <tr>\n",
       "      <th>2000, NSW</th>\n",
       "      <td>1676</td>\n",
       "      <td>1028</td>\n",
       "      <td>977</td>\n",
       "      <td>677</td>\n",
       "      <td>502</td>\n",
       "      <td>1112</td>\n",
       "      <td>1456</td>\n",
       "      <td>1796</td>\n",
       "      <td>1978</td>\n",
       "      <td>2201</td>\n",
       "      <td>1915</td>\n",
       "      <td>1599</td>\n",
       "      <td>1638</td>\n",
       "      <td>204</td>\n",
       "      <td>3297</td>\n",
       "      <td>1251</td>\n",
       "      <td>4115</td>\n",
       "      <td>27411</td>\n",
       "    </tr>\n",
       "    <tr>\n",
       "      <th>2006, NSW</th>\n",
       "      <td>11</td>\n",
       "      <td>9</td>\n",
       "      <td>9</td>\n",
       "      <td>3</td>\n",
       "      <td>275</td>\n",
       "      <td>291</td>\n",
       "      <td>4</td>\n",
       "      <td>11</td>\n",
       "      <td>98</td>\n",
       "      <td>47</td>\n",
       "      <td>31</td>\n",
       "      <td>5</td>\n",
       "      <td>3</td>\n",
       "      <td>9</td>\n",
       "      <td>267</td>\n",
       "      <td>15</td>\n",
       "      <td>156</td>\n",
       "      <td>1261</td>\n",
       "    </tr>\n",
       "  </tbody>\n",
       "</table>\n",
       "</div>"
      ],
      "text/plain": [
       "INCP_WK    $1,000-$1,249 ($52,000-$64,999)  $1,250-$1,499 ($65,000-$77,999)  \\\n",
       "postcode                                                                      \n",
       "2000, NSW                             1676                             1028   \n",
       "2006, NSW                               11                                9   \n",
       "\n",
       "INCP_WK    $1,500-$1,749 ($78,000-$90,999)  $1,750-$1,999 ($91,000-$103,999)  \\\n",
       "postcode                                                                       \n",
       "2000, NSW                              977                               677   \n",
       "2006, NSW                                9                                 3   \n",
       "\n",
       "INCP_WK    $1-$149 ($1-$7,799)  $150-$299 ($7,800-$15,599)  \\\n",
       "postcode                                                     \n",
       "2000, NSW                  502                        1112   \n",
       "2006, NSW                  275                         291   \n",
       "\n",
       "INCP_WK    $2,000-$2,999 ($104,000-$155,999)  \\\n",
       "postcode                                       \n",
       "2000, NSW                               1456   \n",
       "2006, NSW                                  4   \n",
       "\n",
       "INCP_WK    $3,000 or more ($156,000 or more)  $300-$399 ($15,600-$20,799)  \\\n",
       "postcode                                                                    \n",
       "2000, NSW                               1796                         1978   \n",
       "2006, NSW                                 11                           98   \n",
       "\n",
       "INCP_WK    $400-$499 ($20,800-$25,999)  $500-$649 ($26,000-$33,799)  \\\n",
       "postcode                                                              \n",
       "2000, NSW                         2201                         1915   \n",
       "2006, NSW                           47                           31   \n",
       "\n",
       "INCP_WK    $650-$799 ($33,800-$41,599)  $800-$999 ($41,600-$51,999)  \\\n",
       "postcode                                                              \n",
       "2000, NSW                         1599                         1638   \n",
       "2006, NSW                            5                            3   \n",
       "\n",
       "INCP_WK    Negative income  Nil income  Not applicable  Not stated  Total  \n",
       "postcode                                                                   \n",
       "2000, NSW              204        3297            1251        4115  27411  \n",
       "2006, NSW                9         267              15         156   1261  "
      ]
     },
     "execution_count": 2,
     "metadata": {},
     "output_type": "execute_result"
    }
   ],
   "source": [
    "# Read data in to the raw da\n",
    "census_INCP = \"Files/Census/POA (UR) by INCP Toal Personal Income (Weekly).csv\"\n",
    "\n",
    "incp_raw = pd.read_csv(census_INCP, skiprows=9, nrows=11142,\n",
    "                       usecols=['POA (UR)', 'INCP Total Personal Income (weekly)', 'Count'])\n",
    "\n",
    "# Rename column for easier referencing\n",
    "incp_cols = {'POA (UR)':'postcode', 'INCP Total Personal Income (weekly)':'INCP_WK'}\n",
    "incp_raw.rename(columns=incp_cols, inplace=True)\n",
    "\n",
    "# Unstack\n",
    "incp = incp_raw.groupby(['postcode','INCP_WK'])['Count'].sum().unstack()\n",
    "\n",
    "# Remove the last row (grand total)\n",
    "incp = incp[:-1]\n",
    "\n",
    "incp.head(2)"
   ]
  },
  {
   "cell_type": "code",
   "execution_count": 3,
   "id": "dc168bcb",
   "metadata": {},
   "outputs": [],
   "source": [
    "# Remove 'NSW' in the index and cast postcode to int64\n",
    "incp.reset_index(inplace=True)\n",
    "incp['postcode'] = incp['postcode'].str.split(\",\", n=1, expand=True)\n",
    "incp['postcode'] = incp['postcode'].astype('int64')\n",
    "incp = incp.set_index('postcode')"
   ]
  },
  {
   "cell_type": "code",
   "execution_count": 4,
   "id": "70eb8c94",
   "metadata": {},
   "outputs": [
    {
     "data": {
      "text/html": [
       "<div>\n",
       "<style scoped>\n",
       "    .dataframe tbody tr th:only-of-type {\n",
       "        vertical-align: middle;\n",
       "    }\n",
       "\n",
       "    .dataframe tbody tr th {\n",
       "        vertical-align: top;\n",
       "    }\n",
       "\n",
       "    .dataframe thead th {\n",
       "        text-align: right;\n",
       "    }\n",
       "</style>\n",
       "<table border=\"1\" class=\"dataframe\">\n",
       "  <thead>\n",
       "    <tr style=\"text-align: right;\">\n",
       "      <th>INCP_WK</th>\n",
       "      <th>$1-149</th>\n",
       "      <th>$150-299</th>\n",
       "      <th>$300-399</th>\n",
       "      <th>$400-499</th>\n",
       "      <th>$500-649</th>\n",
       "      <th>$650-799</th>\n",
       "      <th>$800-999</th>\n",
       "      <th>$1000-1249</th>\n",
       "      <th>$1250-1499</th>\n",
       "      <th>$1500-1749</th>\n",
       "      <th>$1750-1999</th>\n",
       "      <th>$2000-2999</th>\n",
       "      <th>&gt;=$3000</th>\n",
       "      <th>Negative income</th>\n",
       "      <th>Nil income</th>\n",
       "      <th>total_na</th>\n",
       "    </tr>\n",
       "    <tr>\n",
       "      <th>postcode</th>\n",
       "      <th></th>\n",
       "      <th></th>\n",
       "      <th></th>\n",
       "      <th></th>\n",
       "      <th></th>\n",
       "      <th></th>\n",
       "      <th></th>\n",
       "      <th></th>\n",
       "      <th></th>\n",
       "      <th></th>\n",
       "      <th></th>\n",
       "      <th></th>\n",
       "      <th></th>\n",
       "      <th></th>\n",
       "      <th></th>\n",
       "      <th></th>\n",
       "    </tr>\n",
       "  </thead>\n",
       "  <tbody>\n",
       "    <tr>\n",
       "      <th>2000</th>\n",
       "      <td>502</td>\n",
       "      <td>1112</td>\n",
       "      <td>1978</td>\n",
       "      <td>2201</td>\n",
       "      <td>1915</td>\n",
       "      <td>1599</td>\n",
       "      <td>1638</td>\n",
       "      <td>1676</td>\n",
       "      <td>1028</td>\n",
       "      <td>977</td>\n",
       "      <td>677</td>\n",
       "      <td>1456</td>\n",
       "      <td>1796</td>\n",
       "      <td>204</td>\n",
       "      <td>3297</td>\n",
       "      <td>5366</td>\n",
       "    </tr>\n",
       "  </tbody>\n",
       "</table>\n",
       "</div>"
      ],
      "text/plain": [
       "INCP_WK   $1-149  $150-299  $300-399  $400-499  $500-649  $650-799  $800-999  \\\n",
       "postcode                                                                       \n",
       "2000         502      1112      1978      2201      1915      1599      1638   \n",
       "\n",
       "INCP_WK   $1000-1249  $1250-1499  $1500-1749   $1750-1999  $2000-2999  \\\n",
       "postcode                                                                \n",
       "2000            1676        1028          977         677        1456   \n",
       "\n",
       "INCP_WK   >=$3000  Negative income  Nil income  total_na  \n",
       "postcode                                                  \n",
       "2000         1796              204        3297      5366  "
      ]
     },
     "execution_count": 4,
     "metadata": {},
     "output_type": "execute_result"
    }
   ],
   "source": [
    "# Clean column names\n",
    "income_cols= {'$1,000-$1,249 ($52,000-$64,999)' : '$1000-1249', \n",
    "            '$1,250-$1,499 ($65,000-$77,999)' : '$1250-1499',\n",
    "            '$1,500-$1,749 ($78,000-$90,999)' : '$1500-1749 ', \n",
    "            '$1,750-$1,999 ($91,000-$103,999)': '$1750-1999',\n",
    "            '$1-$149 ($1-$7,799)': '$1-149', \n",
    "            '$150-$299 ($7,800-$15,599)' : '$150-299',\n",
    "            '$2,000-$2,999 ($104,000-$155,999)':'$2000-2999',\n",
    "            '$3,000 or more ($156,000 or more)':'>=$3000', \n",
    "            '$300-$399 ($15,600-$20,799)':'$300-399',\n",
    "            '$400-$499 ($20,800-$25,999)':'$400-499', \n",
    "            '$500-$649 ($26,000-$33,799)':'$500-649',\n",
    "            '$650-$799 ($33,800-$41,599)':'$650-799', \n",
    "            '$800-$999 ($41,600-$51,999)':'$800-999'}\n",
    "incp.rename(columns=income_cols, inplace=True)\n",
    "\n",
    "# Combine 'not applicable' and 'not stated' into 'total_na'\n",
    "incp['total_na'] = incp['Not applicable'] + incp['Not stated']\n",
    "\n",
    "# Drop the 'Total column'\n",
    "incp = incp.drop(columns=['Not applicable', 'Not stated', 'Total'], axis=1)\n",
    "\n",
    "# Reorder columns\n",
    "cols = incp.columns.tolist()\n",
    "cols = ['$1-149','$150-299','$300-399','$400-499','$500-649','$650-799',\n",
    "        '$800-999','$1000-1249','$1250-1499','$1500-1749 ',\n",
    "        '$1750-1999','$2000-2999','>=$3000',\n",
    "        'Negative income','Nil income','total_na']\n",
    "incp=incp[cols]\n",
    "\n",
    "incp.head(1)"
   ]
  },
  {
   "cell_type": "code",
   "execution_count": 5,
   "id": "c1151c7f",
   "metadata": {},
   "outputs": [
    {
     "data": {
      "text/html": [
       "<div>\n",
       "<style scoped>\n",
       "    .dataframe tbody tr th:only-of-type {\n",
       "        vertical-align: middle;\n",
       "    }\n",
       "\n",
       "    .dataframe tbody tr th {\n",
       "        vertical-align: top;\n",
       "    }\n",
       "\n",
       "    .dataframe thead th {\n",
       "        text-align: right;\n",
       "    }\n",
       "</style>\n",
       "<table border=\"1\" class=\"dataframe\">\n",
       "  <thead>\n",
       "    <tr style=\"text-align: right;\">\n",
       "      <th>INCP_WK</th>\n",
       "      <th>postcode</th>\n",
       "      <th>INCP_LOW</th>\n",
       "      <th>INCP_MID</th>\n",
       "      <th>INCP_HIGH</th>\n",
       "      <th>INCP_NEG_NIL</th>\n",
       "    </tr>\n",
       "  </thead>\n",
       "  <tbody>\n",
       "    <tr>\n",
       "      <th>0</th>\n",
       "      <td>2000</td>\n",
       "      <td>9307</td>\n",
       "      <td>5319</td>\n",
       "      <td>3929</td>\n",
       "      <td>3501</td>\n",
       "    </tr>\n",
       "  </tbody>\n",
       "</table>\n",
       "</div>"
      ],
      "text/plain": [
       "INCP_WK  postcode  INCP_LOW  INCP_MID  INCP_HIGH  INCP_NEG_NIL\n",
       "0            2000      9307      5319       3929          3501"
      ]
     },
     "execution_count": 5,
     "metadata": {},
     "output_type": "execute_result"
    }
   ],
   "source": [
    "# Create income buckets and save into incp_gr\n",
    "incp['INCP_LOW'] = incp.iloc[:, 0:6].sum(axis=1)\n",
    "incp['INCP_MID'] = incp.iloc[:, 6:10].sum(axis=1)\n",
    "incp['INCP_HIGH'] = incp.iloc[:, 10:13].sum(axis=1)\n",
    "incp['INCP_NEG_NIL'] = incp.iloc[:, 13:15].sum(axis=1)\n",
    "incp_gr = incp[['INCP_LOW', 'INCP_MID', 'INCP_HIGH', 'INCP_NEG_NIL']]\n",
    "\n",
    "# Reset index\n",
    "incp_gr.reset_index(inplace=True)\n",
    "\n",
    "incp_gr.head(1)"
   ]
  },
  {
   "cell_type": "markdown",
   "id": "5a120e1a",
   "metadata": {},
   "source": [
    "*The resulting cleanead df is <b>incp_gr</b>*\n",
    "\n",
    "----"
   ]
  },
  {
   "cell_type": "markdown",
   "id": "ba15ccb3",
   "metadata": {},
   "source": [
    "### 6. Household size"
   ]
  },
  {
   "cell_type": "code",
   "execution_count": 6,
   "id": "c270e35a",
   "metadata": {},
   "outputs": [
    {
     "data": {
      "text/html": [
       "<div>\n",
       "<style scoped>\n",
       "    .dataframe tbody tr th:only-of-type {\n",
       "        vertical-align: middle;\n",
       "    }\n",
       "\n",
       "    .dataframe tbody tr th {\n",
       "        vertical-align: top;\n",
       "    }\n",
       "\n",
       "    .dataframe thead th {\n",
       "        text-align: right;\n",
       "    }\n",
       "</style>\n",
       "<table border=\"1\" class=\"dataframe\">\n",
       "  <thead>\n",
       "    <tr style=\"text-align: right;\">\n",
       "      <th></th>\n",
       "      <th>postcode</th>\n",
       "      <th>CPRF_2</th>\n",
       "      <th>CPRF_3</th>\n",
       "      <th>CPRF_4</th>\n",
       "      <th>CPRF_5</th>\n",
       "      <th>CPRF_6+</th>\n",
       "      <th>CPRF_na</th>\n",
       "      <th>CPRF_TOTAL_FAM_NO</th>\n",
       "    </tr>\n",
       "  </thead>\n",
       "  <tbody>\n",
       "    <tr>\n",
       "      <th>1</th>\n",
       "      <td>2000, NSW</td>\n",
       "      <td>3453.0</td>\n",
       "      <td>857.0</td>\n",
       "      <td>354.0</td>\n",
       "      <td>54.0</td>\n",
       "      <td>21.0</td>\n",
       "      <td>8125.0</td>\n",
       "      <td>12861.0</td>\n",
       "    </tr>\n",
       "  </tbody>\n",
       "</table>\n",
       "</div>"
      ],
      "text/plain": [
       "    postcode  CPRF_2  CPRF_3  CPRF_4  CPRF_5  CPRF_6+  CPRF_na  \\\n",
       "1  2000, NSW  3453.0   857.0   354.0    54.0     21.0   8125.0   \n",
       "\n",
       "   CPRF_TOTAL_FAM_NO  \n",
       "1            12861.0  "
      ]
     },
     "execution_count": 6,
     "metadata": {},
     "output_type": "execute_result"
    }
   ],
   "source": [
    "# Read data\n",
    "census_cprf = \"Files/Census/POA by CPRF Count of Persons in Family by STATE.xlsx\"\n",
    "cprf = pd.read_excel(census_cprf, sheet_name=\"Data Sheet 0\", skiprows=9, nrows=619)\n",
    "\n",
    "# Remove redundant rows and columns \n",
    "cprf = cprf[1:] #remove the first row\n",
    "cprf = cprf.drop(columns='CPRF Count of Persons in Family') # remove the first column\n",
    "\n",
    "# Rename columns\n",
    "cprf_cols= {'Unnamed: 1' : 'postcode', \n",
    "            'Two persons in family' : 'CPRF_2',\n",
    "            'Three persons in family' : 'CPRF_3', \n",
    "            'Four persons in family': 'CPRF_4',\n",
    "            'Five persons in family': 'CPRF_5', \n",
    "            'Six or more persons in family' : 'CPRF_6+',\n",
    "            'Not applicable':'CPRF_na',\n",
    "            'Total' :'CPRF_TOTAL_FAM_NO'}\n",
    "cprf.rename(columns=cprf_cols, inplace=True)\n",
    "\n",
    "cprf.head(1)"
   ]
  },
  {
   "cell_type": "code",
   "execution_count": 7,
   "id": "7f60fcd8",
   "metadata": {},
   "outputs": [],
   "source": [
    "# Remove 'NSW' in the index and cast postcode to int64\n",
    "cprf.reset_index(inplace=True)\n",
    "cprf['postcode'] = cprf['postcode'].str.split(\",\", n=1, expand=True)\n",
    "cprf['postcode'] = cprf['postcode'].astype('int64')\n",
    "cprf = cprf.set_index('postcode')\n",
    "cprf = cprf.drop(columns='index', axis=1)"
   ]
  },
  {
   "cell_type": "code",
   "execution_count": 8,
   "id": "38692408",
   "metadata": {},
   "outputs": [
    {
     "data": {
      "text/html": [
       "<div>\n",
       "<style scoped>\n",
       "    .dataframe tbody tr th:only-of-type {\n",
       "        vertical-align: middle;\n",
       "    }\n",
       "\n",
       "    .dataframe tbody tr th {\n",
       "        vertical-align: top;\n",
       "    }\n",
       "\n",
       "    .dataframe thead th {\n",
       "        text-align: right;\n",
       "    }\n",
       "</style>\n",
       "<table border=\"1\" class=\"dataframe\">\n",
       "  <thead>\n",
       "    <tr style=\"text-align: right;\">\n",
       "      <th></th>\n",
       "      <th>postcode</th>\n",
       "      <th>CPRF_2</th>\n",
       "      <th>CPRF_3</th>\n",
       "      <th>CPRF_4</th>\n",
       "      <th>CPRF_5</th>\n",
       "      <th>CPRF_6+</th>\n",
       "      <th>CPRF_na</th>\n",
       "      <th>CPRF_TOTAL_FAM_NO</th>\n",
       "    </tr>\n",
       "  </thead>\n",
       "  <tbody>\n",
       "    <tr>\n",
       "      <th>0</th>\n",
       "      <td>2000</td>\n",
       "      <td>3453.0</td>\n",
       "      <td>857.0</td>\n",
       "      <td>354.0</td>\n",
       "      <td>54.0</td>\n",
       "      <td>21.0</td>\n",
       "      <td>8125.0</td>\n",
       "      <td>12861.0</td>\n",
       "    </tr>\n",
       "  </tbody>\n",
       "</table>\n",
       "</div>"
      ],
      "text/plain": [
       "   postcode  CPRF_2  CPRF_3  CPRF_4  CPRF_5  CPRF_6+  CPRF_na  \\\n",
       "0      2000  3453.0   857.0   354.0    54.0     21.0   8125.0   \n",
       "\n",
       "   CPRF_TOTAL_FAM_NO  \n",
       "0            12861.0  "
      ]
     },
     "execution_count": 8,
     "metadata": {},
     "output_type": "execute_result"
    }
   ],
   "source": [
    "# Reset index for merging\n",
    "cprf.reset_index(inplace=True)\n",
    "cprf.head(1)"
   ]
  },
  {
   "cell_type": "markdown",
   "id": "b8d32983",
   "metadata": {},
   "source": [
    "*The resulting cleanead df is <b>cprf</b>*\n",
    "\n",
    "----"
   ]
  },
  {
   "cell_type": "markdown",
   "id": "861d39c0",
   "metadata": {},
   "source": [
    "### 7. Additional Feature 1 \n",
    "Please paste cleaning codes below"
   ]
  },
  {
   "cell_type": "code",
   "execution_count": null,
   "id": "e08c2db7",
   "metadata": {},
   "outputs": [],
   "source": []
  },
  {
   "cell_type": "markdown",
   "id": "0449c25d",
   "metadata": {},
   "source": [
    "### 8. Additional Feature 2\n",
    "Please paste cleaning codes below"
   ]
  },
  {
   "cell_type": "code",
   "execution_count": null,
   "id": "a9b8e1f4",
   "metadata": {},
   "outputs": [],
   "source": []
  },
  {
   "cell_type": "markdown",
   "id": "3a56d8fa",
   "metadata": {},
   "source": [
    "### 9. Additional Feature 3\n",
    "Please paste cleaning codes below"
   ]
  },
  {
   "cell_type": "code",
   "execution_count": null,
   "id": "cd31e6a2",
   "metadata": {},
   "outputs": [],
   "source": []
  },
  {
   "cell_type": "markdown",
   "id": "54216cb6",
   "metadata": {},
   "source": [
    "## USE BELOW CELL TO MERGE FEATURES INTO THE MASTER DF, IGNORE FOR NOW\n",
    "\n",
    "--------"
   ]
  },
  {
   "cell_type": "code",
   "execution_count": null,
   "id": "31b60354",
   "metadata": {},
   "outputs": [],
   "source": []
  },
  {
   "cell_type": "code",
   "execution_count": null,
   "id": "f634853c",
   "metadata": {},
   "outputs": [],
   "source": []
  },
  {
   "cell_type": "code",
   "execution_count": null,
   "id": "3b3a6388",
   "metadata": {},
   "outputs": [],
   "source": []
  }
 ],
 "metadata": {
  "kernelspec": {
   "display_name": "Python 3",
   "language": "python",
   "name": "python3"
  },
  "language_info": {
   "codemirror_mode": {
    "name": "ipython",
    "version": 3
   },
   "file_extension": ".py",
   "mimetype": "text/x-python",
   "name": "python",
   "nbconvert_exporter": "python",
   "pygments_lexer": "ipython3",
   "version": "3.8.8"
  }
 },
 "nbformat": 4,
 "nbformat_minor": 5
}
