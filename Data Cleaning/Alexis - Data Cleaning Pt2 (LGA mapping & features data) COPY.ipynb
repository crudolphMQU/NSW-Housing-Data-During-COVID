{
 "cells": [
  {
   "cell_type": "markdown",
   "id": "81634340",
   "metadata": {},
   "source": [
    "# Question\n",
    "Alexis: the master DF seems inflated (i.e. having more rows) after merging in LGA - i think this is due to some postcodes correspond to multiple LGAs. For example if one postcode sits across 2 LGAs, it will expand to 2 rows after adding LGA. Needs some investigation around this.\n",
    "\n",
    "# to do 12/10/21\n",
    "**Chris**\n",
    "- put LGA fixing from step 6 into pt2 (DONE)\n",
    "- merge remaining features:  incp_gr, cprf, yields_join, df_cons_clean, quarter_rates (DONE)\n",
    "- **NEW - Generate a new Table of Content**, Alexis: not sure how to do it lol - did you use some sort of extension? I hope I've named the sections properly for it to work!\n",
    "- **NEW - Can you please investigate the problem mentioned above?** i.e. more rows after merging in LGA/features, comparing to the original housing DF? adding features should only adding columns but not rows\n",
    "\n",
    "**Alexis**\n",
    "- merge with steve (DONE)\n",
    "\n",
    "**Ken / Felix**\n",
    "- check for nans (think of any columns or variables that we may not need) \n",
    "- sort out geopandas\n",
    "\n",
    "Felix wnts to know the goal of the different dataframes so he can have a good understanding of the structure of the DFs. "
   ]
  },
  {
   "cell_type": "markdown",
   "id": "0370e40d",
   "metadata": {
    "toc": true
   },
   "source": [
    "<h1>Table of Contents<span class=\"tocSkip\"></span></h1>\n",
    "<div class=\"toc\"><ul class=\"toc-item\"><li><ul class=\"toc-item\"><li><span><a href=\"#1.-Bond-Yields\" data-toc-modified-id=\"1.-Bond-Yields-0.1\"><span class=\"toc-item-num\">0.1&nbsp;&nbsp;</span>1. Bond Yields</a></span><ul class=\"toc-item\"><li><span><a href=\"#@all-target-df-to-be-defined\" data-toc-modified-id=\"@all-target-df-to-be-defined-0.1.1\"><span class=\"toc-item-num\">0.1.1&nbsp;&nbsp;</span>@all target df to be defined</a></span></li></ul></li><li><span><a href=\"#2.-Interest-Rate\" data-toc-modified-id=\"2.-Interest-Rate-0.2\"><span class=\"toc-item-num\">0.2&nbsp;&nbsp;</span>2. Interest Rate</a></span><ul class=\"toc-item\"><li><span><a href=\"#@all-target-df-do-be-defined\" data-toc-modified-id=\"@all-target-df-do-be-defined-0.2.1\"><span class=\"toc-item-num\">0.2.1&nbsp;&nbsp;</span>@all target df do be defined</a></span></li></ul></li><li><span><a href=\"#3.-Population-/-Age-bands\" data-toc-modified-id=\"3.-Population-/-Age-bands-0.3\"><span class=\"toc-item-num\">0.3&nbsp;&nbsp;</span>3. Population / Age bands</a></span><ul class=\"toc-item\"><li><span><a href=\"#Household-count\" data-toc-modified-id=\"Household-count-0.3.1\"><span class=\"toc-item-num\">0.3.1&nbsp;&nbsp;</span>Household count</a></span></li><li><span><a href=\"#Population-movement-in-5-year-period\" data-toc-modified-id=\"Population-movement-in-5-year-period-0.3.2\"><span class=\"toc-item-num\">0.3.2&nbsp;&nbsp;</span>Population movement in 5 year period</a></span></li><li><span><a href=\"#Population-Age\" data-toc-modified-id=\"Population-Age-0.3.3\"><span class=\"toc-item-num\">0.3.3&nbsp;&nbsp;</span>Population Age</a></span></li></ul></li><li><span><a href=\"#4.-Construction\" data-toc-modified-id=\"4.-Construction-0.4\"><span class=\"toc-item-num\">0.4&nbsp;&nbsp;</span>4. Construction</a></span></li><li><span><a href=\"#5.-Weekly-Income\" data-toc-modified-id=\"5.-Weekly-Income-0.5\"><span class=\"toc-item-num\">0.5&nbsp;&nbsp;</span>5. Weekly Income</a></span></li><li><span><a href=\"#6.-Household-size\" data-toc-modified-id=\"6.-Household-size-0.6\"><span class=\"toc-item-num\">0.6&nbsp;&nbsp;</span>6. Household size</a></span></li><li><span><a href=\"#7.-Additional-Feature-1\" data-toc-modified-id=\"7.-Additional-Feature-1-0.7\"><span class=\"toc-item-num\">0.7&nbsp;&nbsp;</span>7. Additional Feature 1</a></span></li><li><span><a href=\"#8.-Additional-Feature-2\" data-toc-modified-id=\"8.-Additional-Feature-2-0.8\"><span class=\"toc-item-num\">0.8&nbsp;&nbsp;</span>8. Additional Feature 2</a></span></li><li><span><a href=\"#9.-Additional-Feature-3\" data-toc-modified-id=\"9.-Additional-Feature-3-0.9\"><span class=\"toc-item-num\">0.9&nbsp;&nbsp;</span>9. Additional Feature 3</a></span></li></ul></li><li><span><a href=\"#USE-BELOW-CELL-TO-MERGE-FEATURES-INTO-THE-MASTER-DF,-IGNORE-FOR-NOW\" data-toc-modified-id=\"USE-BELOW-CELL-TO-MERGE-FEATURES-INTO-THE-MASTER-DF,-IGNORE-FOR-NOW-1\"><span class=\"toc-item-num\">1&nbsp;&nbsp;</span>USE BELOW CELL TO MERGE FEATURES INTO THE MASTER DF, IGNORE FOR NOW</a></span></li></ul></div>"
   ]
  },
  {
   "cell_type": "markdown",
   "id": "fd291885",
   "metadata": {},
   "source": [
    "**The objective of this notebook is to collate the codes for cleaning below data:**\n",
    "1. Bond yields (F)\n",
    "2. Ineterest rate (F)\n",
    "3. Population (K)\n",
    "4. Construction (K)\n",
    "5. Weekly income (A)\n",
    "6. Household size (A)\n",
    "\n",
    "(please add features to the list if there's any additional ones)\n",
    "\n",
    "**and merge all features into a complete feature set at the end.**"
   ]
  },
  {
   "cell_type": "code",
   "execution_count": 1,
   "id": "c3d6420f",
   "metadata": {},
   "outputs": [],
   "source": [
    "import pandas as pd\n",
    "import numpy as np\n",
    "import datetime as dt\n",
    "import matplotlib.pyplot as plt\n",
    "import seaborn as sns"
   ]
  },
  {
   "cell_type": "markdown",
   "id": "6d6f0b7a",
   "metadata": {
    "heading_collapsed": true
   },
   "source": [
    "## I. Feature Cleaning\n",
    "\n",
    "### I-1. Bond Yields ###\n",
    "`yields_join`"
   ]
  },
  {
   "cell_type": "code",
   "execution_count": 2,
   "id": "92c15159",
   "metadata": {
    "hidden": true
   },
   "outputs": [
    {
     "data": {
      "text/html": [
       "<div>\n",
       "<style scoped>\n",
       "    .dataframe tbody tr th:only-of-type {\n",
       "        vertical-align: middle;\n",
       "    }\n",
       "\n",
       "    .dataframe tbody tr th {\n",
       "        vertical-align: top;\n",
       "    }\n",
       "\n",
       "    .dataframe thead th {\n",
       "        text-align: right;\n",
       "    }\n",
       "</style>\n",
       "<table border=\"1\" class=\"dataframe\">\n",
       "  <thead>\n",
       "    <tr style=\"text-align: right;\">\n",
       "      <th></th>\n",
       "      <th>Date</th>\n",
       "      <th>2yBonds%</th>\n",
       "      <th>10yBonds%</th>\n",
       "    </tr>\n",
       "  </thead>\n",
       "  <tbody>\n",
       "    <tr>\n",
       "      <th>0</th>\n",
       "      <td>2013-07-31</td>\n",
       "      <td>2.5375</td>\n",
       "      <td>3.750</td>\n",
       "    </tr>\n",
       "    <tr>\n",
       "      <th>1</th>\n",
       "      <td>2013-08-31</td>\n",
       "      <td>2.5000</td>\n",
       "      <td>3.860</td>\n",
       "    </tr>\n",
       "    <tr>\n",
       "      <th>2</th>\n",
       "      <td>2013-09-30</td>\n",
       "      <td>2.6875</td>\n",
       "      <td>3.995</td>\n",
       "    </tr>\n",
       "    <tr>\n",
       "      <th>3</th>\n",
       "      <td>2013-10-31</td>\n",
       "      <td>2.7075</td>\n",
       "      <td>3.970</td>\n",
       "    </tr>\n",
       "    <tr>\n",
       "      <th>4</th>\n",
       "      <td>2013-11-30</td>\n",
       "      <td>2.7700</td>\n",
       "      <td>4.125</td>\n",
       "    </tr>\n",
       "  </tbody>\n",
       "</table>\n",
       "</div>"
      ],
      "text/plain": [
       "        Date  2yBonds%  10yBonds%\n",
       "0 2013-07-31    2.5375      3.750\n",
       "1 2013-08-31    2.5000      3.860\n",
       "2 2013-09-30    2.6875      3.995\n",
       "3 2013-10-31    2.7075      3.970\n",
       "4 2013-11-30    2.7700      4.125"
      ]
     },
     "execution_count": 2,
     "metadata": {},
     "output_type": "execute_result"
    }
   ],
   "source": [
    "# read data in \n",
    "yields_data = \"Files/Bond Yields/f02hist.xls\"\n",
    "yields = pd.read_excel(yields_data, sheet_name='Data', usecols='A:B,E', header=None, skiprows=range(0,12))\n",
    "yields.columns = ['Date', '2yBonds%', '10yBonds%']\n",
    "yields.head()"
   ]
  },
  {
   "cell_type": "code",
   "execution_count": 3,
   "id": "638f207a",
   "metadata": {
    "hidden": true
   },
   "outputs": [],
   "source": [
    "# split date column into year and month\n",
    "dates = pd.to_datetime(yields[\"Date\"])\n",
    "yields[\"Year\"] = dates.dt.year\n",
    "yields[\"Quarter\"] = dates.dt.quarter\n",
    "\n",
    "# set datetime as index\n",
    "yields.set_index('Date', inplace = True)"
   ]
  },
  {
   "cell_type": "code",
   "execution_count": 4,
   "id": "8dd5a53d",
   "metadata": {
    "hidden": true
   },
   "outputs": [
    {
     "data": {
      "text/html": [
       "<div>\n",
       "<style scoped>\n",
       "    .dataframe tbody tr th:only-of-type {\n",
       "        vertical-align: middle;\n",
       "    }\n",
       "\n",
       "    .dataframe tbody tr th {\n",
       "        vertical-align: top;\n",
       "    }\n",
       "\n",
       "    .dataframe thead th {\n",
       "        text-align: right;\n",
       "    }\n",
       "</style>\n",
       "<table border=\"1\" class=\"dataframe\">\n",
       "  <thead>\n",
       "    <tr style=\"text-align: right;\">\n",
       "      <th></th>\n",
       "      <th>2yBonds%</th>\n",
       "      <th>10yBonds%</th>\n",
       "      <th>Year</th>\n",
       "      <th>Quarter</th>\n",
       "    </tr>\n",
       "    <tr>\n",
       "      <th>Date</th>\n",
       "      <th></th>\n",
       "      <th></th>\n",
       "      <th></th>\n",
       "      <th></th>\n",
       "    </tr>\n",
       "  </thead>\n",
       "  <tbody>\n",
       "    <tr>\n",
       "      <th>2013-07-01</th>\n",
       "      <td>2.575000</td>\n",
       "      <td>3.868333</td>\n",
       "      <td>2013.0</td>\n",
       "      <td>3.0</td>\n",
       "    </tr>\n",
       "    <tr>\n",
       "      <th>2013-10-01</th>\n",
       "      <td>2.729167</td>\n",
       "      <td>4.112500</td>\n",
       "      <td>2013.0</td>\n",
       "      <td>4.0</td>\n",
       "    </tr>\n",
       "  </tbody>\n",
       "</table>\n",
       "</div>"
      ],
      "text/plain": [
       "            2yBonds%  10yBonds%    Year  Quarter\n",
       "Date                                            \n",
       "2013-07-01  2.575000   3.868333  2013.0      3.0\n",
       "2013-10-01  2.729167   4.112500  2013.0      4.0"
      ]
     },
     "execution_count": 4,
     "metadata": {},
     "output_type": "execute_result"
    }
   ],
   "source": [
    "# create new column with average rate per quarter\n",
    "yields_quarter_rates = yields.resample('QS').mean()\n",
    "yields_quarter_rates.head(2)"
   ]
  },
  {
   "cell_type": "code",
   "execution_count": 5,
   "id": "a2965075",
   "metadata": {
    "hidden": true
   },
   "outputs": [
    {
     "data": {
      "text/html": [
       "<div>\n",
       "<style scoped>\n",
       "    .dataframe tbody tr th:only-of-type {\n",
       "        vertical-align: middle;\n",
       "    }\n",
       "\n",
       "    .dataframe tbody tr th {\n",
       "        vertical-align: top;\n",
       "    }\n",
       "\n",
       "    .dataframe thead th {\n",
       "        text-align: right;\n",
       "    }\n",
       "</style>\n",
       "<table border=\"1\" class=\"dataframe\">\n",
       "  <thead>\n",
       "    <tr style=\"text-align: right;\">\n",
       "      <th></th>\n",
       "      <th>time_period</th>\n",
       "      <th>2yBonds%</th>\n",
       "      <th>10yBonds%</th>\n",
       "    </tr>\n",
       "    <tr>\n",
       "      <th>Date</th>\n",
       "      <th></th>\n",
       "      <th></th>\n",
       "      <th></th>\n",
       "    </tr>\n",
       "  </thead>\n",
       "  <tbody>\n",
       "    <tr>\n",
       "      <th>2013-07-01</th>\n",
       "      <td>2013 Q3</td>\n",
       "      <td>2.575000</td>\n",
       "      <td>3.868333</td>\n",
       "    </tr>\n",
       "    <tr>\n",
       "      <th>2013-10-01</th>\n",
       "      <td>2013 Q4</td>\n",
       "      <td>2.729167</td>\n",
       "      <td>4.112500</td>\n",
       "    </tr>\n",
       "    <tr>\n",
       "      <th>2014-01-01</th>\n",
       "      <td>2014 Q1</td>\n",
       "      <td>2.700000</td>\n",
       "      <td>4.135000</td>\n",
       "    </tr>\n",
       "    <tr>\n",
       "      <th>2014-04-01</th>\n",
       "      <td>2014 Q2</td>\n",
       "      <td>2.685000</td>\n",
       "      <td>3.835833</td>\n",
       "    </tr>\n",
       "    <tr>\n",
       "      <th>2014-07-01</th>\n",
       "      <td>2014 Q3</td>\n",
       "      <td>2.583333</td>\n",
       "      <td>3.474167</td>\n",
       "    </tr>\n",
       "  </tbody>\n",
       "</table>\n",
       "</div>"
      ],
      "text/plain": [
       "           time_period  2yBonds%  10yBonds%\n",
       "Date                                       \n",
       "2013-07-01     2013 Q3  2.575000   3.868333\n",
       "2013-10-01     2013 Q4  2.729167   4.112500\n",
       "2014-01-01     2014 Q1  2.700000   4.135000\n",
       "2014-04-01     2014 Q2  2.685000   3.835833\n",
       "2014-07-01     2014 Q3  2.583333   3.474167"
      ]
     },
     "execution_count": 5,
     "metadata": {},
     "output_type": "execute_result"
    }
   ],
   "source": [
    "# convert year and quarter to int\n",
    "yields_quarter_rates[\"Year\"] = yields_quarter_rates[\"Year\"].astype(int)\n",
    "yields_quarter_rates[\"Quarter\"] = yields_quarter_rates[\"Quarter\"].astype(int)\n",
    "\n",
    "# create time period variable from 'Year' and 'Quarter'\n",
    "yields_quarter_rates[\"time_period\"] = yields_quarter_rates[\"Year\"].map(str) + \" Q\" + yields_quarter_rates[\"Quarter\"].map(str)\n",
    "\n",
    "# Drop 'Year' and Quarter \n",
    "yields_join = yields_quarter_rates[[\"time_period\", \"2yBonds%\", \"10yBonds%\"]] \n",
    "yields_join.head()"
   ]
  },
  {
   "cell_type": "markdown",
   "id": "65b928e1",
   "metadata": {},
   "source": [
    "The resulting cleaned bond yield df is **yields_join**.\n",
    "\n",
    "----"
   ]
  },
  {
   "cell_type": "markdown",
   "id": "d8397c88",
   "metadata": {
    "heading_collapsed": true
   },
   "source": [
    "### I-2. Interest Rate ###\n",
    "`rates_join`  "
   ]
  },
  {
   "cell_type": "code",
   "execution_count": 6,
   "id": "1c2d1acd",
   "metadata": {
    "hidden": true
   },
   "outputs": [
    {
     "data": {
      "text/html": [
       "<div>\n",
       "<style scoped>\n",
       "    .dataframe tbody tr th:only-of-type {\n",
       "        vertical-align: middle;\n",
       "    }\n",
       "\n",
       "    .dataframe tbody tr th {\n",
       "        vertical-align: top;\n",
       "    }\n",
       "\n",
       "    .dataframe thead th {\n",
       "        text-align: right;\n",
       "    }\n",
       "</style>\n",
       "<table border=\"1\" class=\"dataframe\">\n",
       "  <thead>\n",
       "    <tr style=\"text-align: right;\">\n",
       "      <th></th>\n",
       "      <th>Rate</th>\n",
       "      <th>time_period</th>\n",
       "    </tr>\n",
       "    <tr>\n",
       "      <th>Date</th>\n",
       "      <th></th>\n",
       "      <th></th>\n",
       "    </tr>\n",
       "  </thead>\n",
       "  <tbody>\n",
       "    <tr>\n",
       "      <th>2011-01-01</th>\n",
       "      <td>4.75000</td>\n",
       "      <td>2011 Q1</td>\n",
       "    </tr>\n",
       "    <tr>\n",
       "      <th>2011-04-01</th>\n",
       "      <td>4.75000</td>\n",
       "      <td>2011 Q2</td>\n",
       "    </tr>\n",
       "    <tr>\n",
       "      <th>2011-07-01</th>\n",
       "      <td>4.75000</td>\n",
       "      <td>2011 Q3</td>\n",
       "    </tr>\n",
       "    <tr>\n",
       "      <th>2011-10-01</th>\n",
       "      <td>4.52381</td>\n",
       "      <td>2011 Q4</td>\n",
       "    </tr>\n",
       "    <tr>\n",
       "      <th>2012-01-01</th>\n",
       "      <td>4.25000</td>\n",
       "      <td>2012 Q1</td>\n",
       "    </tr>\n",
       "  </tbody>\n",
       "</table>\n",
       "</div>"
      ],
      "text/plain": [
       "               Rate time_period\n",
       "Date                           \n",
       "2011-01-01  4.75000     2011 Q1\n",
       "2011-04-01  4.75000     2011 Q2\n",
       "2011-07-01  4.75000     2011 Q3\n",
       "2011-10-01  4.52381     2011 Q4\n",
       "2012-01-01  4.25000     2012 Q1"
      ]
     },
     "execution_count": 6,
     "metadata": {},
     "output_type": "execute_result"
    }
   ],
   "source": [
    "# read data in\n",
    "interest = \"Files/Interest Rates/f01d.xls\"\n",
    "interest = pd.read_excel(interest, sheet_name = \"Data\", usecols = \"A:B\", header = None, skiprows = range(0,12))\n",
    "interest.columns = ['Date', 'Rate']\n",
    "\n",
    "# get date time\n",
    "dates = pd.to_datetime(interest[\"Date\"])\n",
    "interest[\"Year\"] = dates.dt.year\n",
    "interest[\"Quarter\"] = dates.dt.quarter\n",
    "\n",
    "# set date as index\n",
    "interest.set_index('Date', inplace = True)\n",
    "\n",
    "\n",
    "# calculate average\n",
    "quarter_rates = interest.resample('QS').mean()\n",
    "\n",
    "# create new column with average rate per quarter\n",
    "quarter_rates[\"Year\"] = quarter_rates[\"Year\"].astype(int)\n",
    "quarter_rates[\"Quarter\"] = quarter_rates[\"Quarter\"].astype(int)\n",
    "\n",
    "# time period\n",
    "quarter_rates[\"time_period\"] = quarter_rates[\"Year\"].map(str) + \" Q\" + quarter_rates[\"Quarter\"].map(str)\n",
    "\n",
    "# remove Year and Quarter\n",
    "quarter_rates = quarter_rates[['Rate','time_period']]\n",
    "quarter_rates.head()"
   ]
  },
  {
   "cell_type": "code",
   "execution_count": 7,
   "id": "81b533c4",
   "metadata": {
    "hidden": true
   },
   "outputs": [
    {
     "data": {
      "text/html": [
       "<div>\n",
       "<style scoped>\n",
       "    .dataframe tbody tr th:only-of-type {\n",
       "        vertical-align: middle;\n",
       "    }\n",
       "\n",
       "    .dataframe tbody tr th {\n",
       "        vertical-align: top;\n",
       "    }\n",
       "\n",
       "    .dataframe thead th {\n",
       "        text-align: right;\n",
       "    }\n",
       "</style>\n",
       "<table border=\"1\" class=\"dataframe\">\n",
       "  <thead>\n",
       "    <tr style=\"text-align: right;\">\n",
       "      <th></th>\n",
       "      <th>Date</th>\n",
       "      <th>Rate</th>\n",
       "    </tr>\n",
       "  </thead>\n",
       "  <tbody>\n",
       "    <tr>\n",
       "      <th>0</th>\n",
       "      <td>2011-01-05</td>\n",
       "      <td>4.75</td>\n",
       "    </tr>\n",
       "    <tr>\n",
       "      <th>1</th>\n",
       "      <td>2011-01-06</td>\n",
       "      <td>4.75</td>\n",
       "    </tr>\n",
       "    <tr>\n",
       "      <th>2</th>\n",
       "      <td>2011-01-07</td>\n",
       "      <td>4.75</td>\n",
       "    </tr>\n",
       "    <tr>\n",
       "      <th>3</th>\n",
       "      <td>2011-01-10</td>\n",
       "      <td>4.75</td>\n",
       "    </tr>\n",
       "    <tr>\n",
       "      <th>4</th>\n",
       "      <td>2011-01-11</td>\n",
       "      <td>4.75</td>\n",
       "    </tr>\n",
       "  </tbody>\n",
       "</table>\n",
       "</div>"
      ],
      "text/plain": [
       "        Date  Rate\n",
       "0 2011-01-05  4.75\n",
       "1 2011-01-06  4.75\n",
       "2 2011-01-07  4.75\n",
       "3 2011-01-10  4.75\n",
       "4 2011-01-11  4.75"
      ]
     },
     "execution_count": 7,
     "metadata": {},
     "output_type": "execute_result"
    }
   ],
   "source": [
    "# read data in\n",
    "interest = \"Files/Interest Rates/f01d.xls\"\n",
    "\n",
    "interest = pd.read_excel(interest, sheet_name = \"Data\", usecols = \"A:B\", header = None, skiprows = range(0,12))\n",
    "interest.columns = ['Date', 'Rate']\n",
    "interest.head()"
   ]
  },
  {
   "cell_type": "code",
   "execution_count": 8,
   "id": "7dba7227",
   "metadata": {
    "hidden": true
   },
   "outputs": [
    {
     "data": {
      "text/plain": [
       "Date    datetime64[ns]\n",
       "Rate           float64\n",
       "dtype: object"
      ]
     },
     "execution_count": 8,
     "metadata": {},
     "output_type": "execute_result"
    }
   ],
   "source": [
    "# check data types\n",
    "interest.dtypes"
   ]
  },
  {
   "cell_type": "code",
   "execution_count": 9,
   "id": "c1b38218",
   "metadata": {
    "hidden": true
   },
   "outputs": [],
   "source": [
    "# split date column into year and month\n",
    "dates = pd.to_datetime(interest[\"Date\"])\n",
    "interest[\"Year\"] = dates.dt.year\n",
    "interest[\"Quarter\"] = dates.dt.quarter\n",
    "\n",
    "# set datetime as index\n",
    "interest.set_index('Date', inplace = True)"
   ]
  },
  {
   "cell_type": "code",
   "execution_count": 10,
   "id": "aa23e369",
   "metadata": {
    "hidden": true
   },
   "outputs": [
    {
     "data": {
      "text/html": [
       "<div>\n",
       "<style scoped>\n",
       "    .dataframe tbody tr th:only-of-type {\n",
       "        vertical-align: middle;\n",
       "    }\n",
       "\n",
       "    .dataframe tbody tr th {\n",
       "        vertical-align: top;\n",
       "    }\n",
       "\n",
       "    .dataframe thead th {\n",
       "        text-align: right;\n",
       "    }\n",
       "</style>\n",
       "<table border=\"1\" class=\"dataframe\">\n",
       "  <thead>\n",
       "    <tr style=\"text-align: right;\">\n",
       "      <th></th>\n",
       "      <th>Rate</th>\n",
       "      <th>Year</th>\n",
       "      <th>Quarter</th>\n",
       "    </tr>\n",
       "    <tr>\n",
       "      <th>Date</th>\n",
       "      <th></th>\n",
       "      <th></th>\n",
       "      <th></th>\n",
       "    </tr>\n",
       "  </thead>\n",
       "  <tbody>\n",
       "    <tr>\n",
       "      <th>2011-01-01</th>\n",
       "      <td>4.75</td>\n",
       "      <td>2011.0</td>\n",
       "      <td>1.0</td>\n",
       "    </tr>\n",
       "    <tr>\n",
       "      <th>2011-04-01</th>\n",
       "      <td>4.75</td>\n",
       "      <td>2011.0</td>\n",
       "      <td>2.0</td>\n",
       "    </tr>\n",
       "  </tbody>\n",
       "</table>\n",
       "</div>"
      ],
      "text/plain": [
       "            Rate    Year  Quarter\n",
       "Date                             \n",
       "2011-01-01  4.75  2011.0      1.0\n",
       "2011-04-01  4.75  2011.0      2.0"
      ]
     },
     "execution_count": 10,
     "metadata": {},
     "output_type": "execute_result"
    }
   ],
   "source": [
    "# create new column with average rate per quarter\n",
    "quarter_rates = interest.resample('QS').mean()\n",
    "quarter_rates.head(2)"
   ]
  },
  {
   "cell_type": "code",
   "execution_count": 11,
   "id": "19b578a1",
   "metadata": {
    "hidden": true
   },
   "outputs": [
    {
     "data": {
      "text/html": [
       "<div>\n",
       "<style scoped>\n",
       "    .dataframe tbody tr th:only-of-type {\n",
       "        vertical-align: middle;\n",
       "    }\n",
       "\n",
       "    .dataframe tbody tr th {\n",
       "        vertical-align: top;\n",
       "    }\n",
       "\n",
       "    .dataframe thead th {\n",
       "        text-align: right;\n",
       "    }\n",
       "</style>\n",
       "<table border=\"1\" class=\"dataframe\">\n",
       "  <thead>\n",
       "    <tr style=\"text-align: right;\">\n",
       "      <th></th>\n",
       "      <th>time_period</th>\n",
       "      <th>Rate</th>\n",
       "    </tr>\n",
       "    <tr>\n",
       "      <th>Date</th>\n",
       "      <th></th>\n",
       "      <th></th>\n",
       "    </tr>\n",
       "  </thead>\n",
       "  <tbody>\n",
       "    <tr>\n",
       "      <th>2011-01-01</th>\n",
       "      <td>2011 Q1</td>\n",
       "      <td>4.75</td>\n",
       "    </tr>\n",
       "    <tr>\n",
       "      <th>2011-04-01</th>\n",
       "      <td>2011 Q2</td>\n",
       "      <td>4.75</td>\n",
       "    </tr>\n",
       "  </tbody>\n",
       "</table>\n",
       "</div>"
      ],
      "text/plain": [
       "           time_period  Rate\n",
       "Date                        \n",
       "2011-01-01     2011 Q1  4.75\n",
       "2011-04-01     2011 Q2  4.75"
      ]
     },
     "execution_count": 11,
     "metadata": {},
     "output_type": "execute_result"
    }
   ],
   "source": [
    "# convert year and quarter to int\n",
    "quarter_rates[\"Year\"] = quarter_rates[\"Year\"].astype(int)\n",
    "quarter_rates[\"Quarter\"] = quarter_rates[\"Quarter\"].astype(int)\n",
    "\n",
    "# create time period variable for join from 'Year' and 'Quarter'\n",
    "quarter_rates[\"time_period\"] = quarter_rates[\"Year\"].map(str) + \" Q\" + quarter_rates[\"Quarter\"].map(str)\n",
    "quarter_rates.head()\n",
    "\n",
    "# Drop 'Year' and 'Quarter'\n",
    "rates_join = quarter_rates[[\"time_period\", \"Rate\"]]\n",
    "rates_join.head(2)"
   ]
  },
  {
   "cell_type": "markdown",
   "id": "364aa7a5",
   "metadata": {},
   "source": [
    "The resulting cleaned bond yield df is **rates_join**.\n",
    "\n",
    "----"
   ]
  },
  {
   "cell_type": "markdown",
   "id": "b96adb7c",
   "metadata": {
    "heading_collapsed": true
   },
   "source": [
    "### I-3. Construction  \n",
    "`df_cons_clean`"
   ]
  },
  {
   "cell_type": "code",
   "execution_count": 12,
   "id": "043d6744",
   "metadata": {
    "hidden": true
   },
   "outputs": [
    {
     "data": {
      "text/html": [
       "<div>\n",
       "<style scoped>\n",
       "    .dataframe tbody tr th:only-of-type {\n",
       "        vertical-align: middle;\n",
       "    }\n",
       "\n",
       "    .dataframe tbody tr th {\n",
       "        vertical-align: top;\n",
       "    }\n",
       "\n",
       "    .dataframe thead th {\n",
       "        text-align: right;\n",
       "    }\n",
       "</style>\n",
       "<table border=\"1\" class=\"dataframe\">\n",
       "  <thead>\n",
       "    <tr style=\"text-align: right;\">\n",
       "      <th></th>\n",
       "      <th>constr_index</th>\n",
       "      <th>time_period</th>\n",
       "    </tr>\n",
       "  </thead>\n",
       "  <tbody>\n",
       "    <tr>\n",
       "      <th>0</th>\n",
       "      <td>100.1</td>\n",
       "      <td>2012 Q2</td>\n",
       "    </tr>\n",
       "    <tr>\n",
       "      <th>1</th>\n",
       "      <td>100.3</td>\n",
       "      <td>2012 Q3</td>\n",
       "    </tr>\n",
       "    <tr>\n",
       "      <th>2</th>\n",
       "      <td>100.2</td>\n",
       "      <td>2012 Q4</td>\n",
       "    </tr>\n",
       "    <tr>\n",
       "      <th>3</th>\n",
       "      <td>101.0</td>\n",
       "      <td>2013 Q1</td>\n",
       "    </tr>\n",
       "    <tr>\n",
       "      <th>4</th>\n",
       "      <td>101.6</td>\n",
       "      <td>2013 Q2</td>\n",
       "    </tr>\n",
       "  </tbody>\n",
       "</table>\n",
       "</div>"
      ],
      "text/plain": [
       "   constr_index time_period\n",
       "0         100.1     2012 Q2\n",
       "1         100.3     2012 Q3\n",
       "2         100.2     2012 Q4\n",
       "3         101.0     2013 Q1\n",
       "4         101.6     2013 Q2"
      ]
     },
     "execution_count": 12,
     "metadata": {},
     "output_type": "execute_result"
    }
   ],
   "source": [
    "# --read file, --rename columns\n",
    "construction_file = \"Files/Construction/Quarterly, Building construction prices rose, due to Homebuilder grants and government infrastructure investment.xlsx\"\n",
    "df_cons = pd.read_excel(construction_file,header=1,usecols=\"A:B\", skipfooter=2)\n",
    "df_cons.columns=['date','constr_index']\n",
    "\n",
    "# --convert to datetime\n",
    "df_cons['date'] = pd.to_datetime(df_cons['date'],format='%b-%y')\n",
    "\n",
    "# --get year and quarter, --concatenate as time_period format, --drop other columns\n",
    "df_cons['year'] = df_cons.date.dt.year\n",
    "df_cons['quarter'] = df_cons.date.dt.quarter\n",
    "df_cons['time_period'] = df_cons.year.map(str) + \" Q\" + df_cons.quarter.map(str)\n",
    "df_cons_clean = df_cons.drop(columns=['date','year','quarter'],axis=1)\n",
    "df_cons_clean.head()"
   ]
  },
  {
   "cell_type": "markdown",
   "id": "99c2bfc4",
   "metadata": {
    "heading_collapsed": true
   },
   "source": [
    "### I-4. Weekly Income\n",
    "`incp_gr`"
   ]
  },
  {
   "cell_type": "code",
   "execution_count": 13,
   "id": "a481193d",
   "metadata": {
    "hidden": true
   },
   "outputs": [
    {
     "data": {
      "text/html": [
       "<div>\n",
       "<style scoped>\n",
       "    .dataframe tbody tr th:only-of-type {\n",
       "        vertical-align: middle;\n",
       "    }\n",
       "\n",
       "    .dataframe tbody tr th {\n",
       "        vertical-align: top;\n",
       "    }\n",
       "\n",
       "    .dataframe thead th {\n",
       "        text-align: right;\n",
       "    }\n",
       "</style>\n",
       "<table border=\"1\" class=\"dataframe\">\n",
       "  <thead>\n",
       "    <tr style=\"text-align: right;\">\n",
       "      <th>INCP_WK</th>\n",
       "      <th>$1,000-$1,249 ($52,000-$64,999)</th>\n",
       "      <th>$1,250-$1,499 ($65,000-$77,999)</th>\n",
       "      <th>$1,500-$1,749 ($78,000-$90,999)</th>\n",
       "      <th>$1,750-$1,999 ($91,000-$103,999)</th>\n",
       "      <th>$1-$149 ($1-$7,799)</th>\n",
       "      <th>$150-$299 ($7,800-$15,599)</th>\n",
       "      <th>$2,000-$2,999 ($104,000-$155,999)</th>\n",
       "      <th>$3,000 or more ($156,000 or more)</th>\n",
       "      <th>$300-$399 ($15,600-$20,799)</th>\n",
       "      <th>$400-$499 ($20,800-$25,999)</th>\n",
       "      <th>$500-$649 ($26,000-$33,799)</th>\n",
       "      <th>$650-$799 ($33,800-$41,599)</th>\n",
       "      <th>$800-$999 ($41,600-$51,999)</th>\n",
       "      <th>Negative income</th>\n",
       "      <th>Nil income</th>\n",
       "      <th>Not applicable</th>\n",
       "      <th>Not stated</th>\n",
       "      <th>Total</th>\n",
       "    </tr>\n",
       "    <tr>\n",
       "      <th>postcode</th>\n",
       "      <th></th>\n",
       "      <th></th>\n",
       "      <th></th>\n",
       "      <th></th>\n",
       "      <th></th>\n",
       "      <th></th>\n",
       "      <th></th>\n",
       "      <th></th>\n",
       "      <th></th>\n",
       "      <th></th>\n",
       "      <th></th>\n",
       "      <th></th>\n",
       "      <th></th>\n",
       "      <th></th>\n",
       "      <th></th>\n",
       "      <th></th>\n",
       "      <th></th>\n",
       "      <th></th>\n",
       "    </tr>\n",
       "  </thead>\n",
       "  <tbody>\n",
       "    <tr>\n",
       "      <th>2000, NSW</th>\n",
       "      <td>1676</td>\n",
       "      <td>1028</td>\n",
       "      <td>977</td>\n",
       "      <td>677</td>\n",
       "      <td>502</td>\n",
       "      <td>1112</td>\n",
       "      <td>1456</td>\n",
       "      <td>1796</td>\n",
       "      <td>1978</td>\n",
       "      <td>2201</td>\n",
       "      <td>1915</td>\n",
       "      <td>1599</td>\n",
       "      <td>1638</td>\n",
       "      <td>204</td>\n",
       "      <td>3297</td>\n",
       "      <td>1251</td>\n",
       "      <td>4115</td>\n",
       "      <td>27411</td>\n",
       "    </tr>\n",
       "    <tr>\n",
       "      <th>2006, NSW</th>\n",
       "      <td>11</td>\n",
       "      <td>9</td>\n",
       "      <td>9</td>\n",
       "      <td>3</td>\n",
       "      <td>275</td>\n",
       "      <td>291</td>\n",
       "      <td>4</td>\n",
       "      <td>11</td>\n",
       "      <td>98</td>\n",
       "      <td>47</td>\n",
       "      <td>31</td>\n",
       "      <td>5</td>\n",
       "      <td>3</td>\n",
       "      <td>9</td>\n",
       "      <td>267</td>\n",
       "      <td>15</td>\n",
       "      <td>156</td>\n",
       "      <td>1261</td>\n",
       "    </tr>\n",
       "  </tbody>\n",
       "</table>\n",
       "</div>"
      ],
      "text/plain": [
       "INCP_WK    $1,000-$1,249 ($52,000-$64,999)  $1,250-$1,499 ($65,000-$77,999)  \\\n",
       "postcode                                                                      \n",
       "2000, NSW                             1676                             1028   \n",
       "2006, NSW                               11                                9   \n",
       "\n",
       "INCP_WK    $1,500-$1,749 ($78,000-$90,999)  $1,750-$1,999 ($91,000-$103,999)  \\\n",
       "postcode                                                                       \n",
       "2000, NSW                              977                               677   \n",
       "2006, NSW                                9                                 3   \n",
       "\n",
       "INCP_WK    $1-$149 ($1-$7,799)  $150-$299 ($7,800-$15,599)  \\\n",
       "postcode                                                     \n",
       "2000, NSW                  502                        1112   \n",
       "2006, NSW                  275                         291   \n",
       "\n",
       "INCP_WK    $2,000-$2,999 ($104,000-$155,999)  \\\n",
       "postcode                                       \n",
       "2000, NSW                               1456   \n",
       "2006, NSW                                  4   \n",
       "\n",
       "INCP_WK    $3,000 or more ($156,000 or more)  $300-$399 ($15,600-$20,799)  \\\n",
       "postcode                                                                    \n",
       "2000, NSW                               1796                         1978   \n",
       "2006, NSW                                 11                           98   \n",
       "\n",
       "INCP_WK    $400-$499 ($20,800-$25,999)  $500-$649 ($26,000-$33,799)  \\\n",
       "postcode                                                              \n",
       "2000, NSW                         2201                         1915   \n",
       "2006, NSW                           47                           31   \n",
       "\n",
       "INCP_WK    $650-$799 ($33,800-$41,599)  $800-$999 ($41,600-$51,999)  \\\n",
       "postcode                                                              \n",
       "2000, NSW                         1599                         1638   \n",
       "2006, NSW                            5                            3   \n",
       "\n",
       "INCP_WK    Negative income  Nil income  Not applicable  Not stated  Total  \n",
       "postcode                                                                   \n",
       "2000, NSW              204        3297            1251        4115  27411  \n",
       "2006, NSW                9         267              15         156   1261  "
      ]
     },
     "execution_count": 13,
     "metadata": {},
     "output_type": "execute_result"
    }
   ],
   "source": [
    "# Read data in to the raw da\n",
    "census_INCP = \"Files/Census/POA (UR) by INCP Toal Personal Income (Weekly).csv\"\n",
    "\n",
    "incp_raw = pd.read_csv(census_INCP, skiprows=9, nrows=11142,\n",
    "                       usecols=['POA (UR)', 'INCP Total Personal Income (weekly)', 'Count'])\n",
    "\n",
    "# Rename column for easier referencing\n",
    "incp_cols = {'POA (UR)':'postcode', 'INCP Total Personal Income (weekly)':'INCP_WK'}\n",
    "incp_raw.rename(columns=incp_cols, inplace=True)\n",
    "\n",
    "# Unstack\n",
    "incp = incp_raw.groupby(['postcode','INCP_WK'])['Count'].sum().unstack()\n",
    "\n",
    "# Remove the last row (grand total)\n",
    "incp = incp[:-1]\n",
    "\n",
    "incp.head(2)"
   ]
  },
  {
   "cell_type": "code",
   "execution_count": 14,
   "id": "df7824a0",
   "metadata": {
    "hidden": true
   },
   "outputs": [],
   "source": [
    "# Remove 'NSW' in the index and cast postcode to int64\n",
    "incp.reset_index(inplace=True)\n",
    "incp['postcode'] = incp['postcode'].str.split(\",\").str.get(0)\n",
    "incp['postcode'] = incp['postcode'].astype('int64')\n",
    "incp = incp.set_index('postcode')"
   ]
  },
  {
   "cell_type": "code",
   "execution_count": 15,
   "id": "d031e296",
   "metadata": {
    "hidden": true
   },
   "outputs": [
    {
     "data": {
      "text/html": [
       "<div>\n",
       "<style scoped>\n",
       "    .dataframe tbody tr th:only-of-type {\n",
       "        vertical-align: middle;\n",
       "    }\n",
       "\n",
       "    .dataframe tbody tr th {\n",
       "        vertical-align: top;\n",
       "    }\n",
       "\n",
       "    .dataframe thead th {\n",
       "        text-align: right;\n",
       "    }\n",
       "</style>\n",
       "<table border=\"1\" class=\"dataframe\">\n",
       "  <thead>\n",
       "    <tr style=\"text-align: right;\">\n",
       "      <th>INCP_WK</th>\n",
       "      <th>$1-149</th>\n",
       "      <th>$150-299</th>\n",
       "      <th>$300-399</th>\n",
       "      <th>$400-499</th>\n",
       "      <th>$500-649</th>\n",
       "      <th>$650-799</th>\n",
       "      <th>$800-999</th>\n",
       "      <th>$1000-1249</th>\n",
       "      <th>$1250-1499</th>\n",
       "      <th>$1500-1749</th>\n",
       "      <th>$1750-1999</th>\n",
       "      <th>$2000-2999</th>\n",
       "      <th>&gt;=$3000</th>\n",
       "      <th>Negative income</th>\n",
       "      <th>Nil income</th>\n",
       "      <th>total_na</th>\n",
       "    </tr>\n",
       "    <tr>\n",
       "      <th>postcode</th>\n",
       "      <th></th>\n",
       "      <th></th>\n",
       "      <th></th>\n",
       "      <th></th>\n",
       "      <th></th>\n",
       "      <th></th>\n",
       "      <th></th>\n",
       "      <th></th>\n",
       "      <th></th>\n",
       "      <th></th>\n",
       "      <th></th>\n",
       "      <th></th>\n",
       "      <th></th>\n",
       "      <th></th>\n",
       "      <th></th>\n",
       "      <th></th>\n",
       "    </tr>\n",
       "  </thead>\n",
       "  <tbody>\n",
       "    <tr>\n",
       "      <th>2000</th>\n",
       "      <td>502</td>\n",
       "      <td>1112</td>\n",
       "      <td>1978</td>\n",
       "      <td>2201</td>\n",
       "      <td>1915</td>\n",
       "      <td>1599</td>\n",
       "      <td>1638</td>\n",
       "      <td>1676</td>\n",
       "      <td>1028</td>\n",
       "      <td>977</td>\n",
       "      <td>677</td>\n",
       "      <td>1456</td>\n",
       "      <td>1796</td>\n",
       "      <td>204</td>\n",
       "      <td>3297</td>\n",
       "      <td>5366</td>\n",
       "    </tr>\n",
       "  </tbody>\n",
       "</table>\n",
       "</div>"
      ],
      "text/plain": [
       "INCP_WK   $1-149  $150-299  $300-399  $400-499  $500-649  $650-799  $800-999  \\\n",
       "postcode                                                                       \n",
       "2000         502      1112      1978      2201      1915      1599      1638   \n",
       "\n",
       "INCP_WK   $1000-1249  $1250-1499  $1500-1749   $1750-1999  $2000-2999  \\\n",
       "postcode                                                                \n",
       "2000            1676        1028          977         677        1456   \n",
       "\n",
       "INCP_WK   >=$3000  Negative income  Nil income  total_na  \n",
       "postcode                                                  \n",
       "2000         1796              204        3297      5366  "
      ]
     },
     "execution_count": 15,
     "metadata": {},
     "output_type": "execute_result"
    }
   ],
   "source": [
    "# Clean column names\n",
    "income_cols= {'$1,000-$1,249 ($52,000-$64,999)' : '$1000-1249', \n",
    "            '$1,250-$1,499 ($65,000-$77,999)' : '$1250-1499',\n",
    "            '$1,500-$1,749 ($78,000-$90,999)' : '$1500-1749 ', \n",
    "            '$1,750-$1,999 ($91,000-$103,999)': '$1750-1999',\n",
    "            '$1-$149 ($1-$7,799)': '$1-149', \n",
    "            '$150-$299 ($7,800-$15,599)' : '$150-299',\n",
    "            '$2,000-$2,999 ($104,000-$155,999)':'$2000-2999',\n",
    "            '$3,000 or more ($156,000 or more)':'>=$3000', \n",
    "            '$300-$399 ($15,600-$20,799)':'$300-399',\n",
    "            '$400-$499 ($20,800-$25,999)':'$400-499', \n",
    "            '$500-$649 ($26,000-$33,799)':'$500-649',\n",
    "            '$650-$799 ($33,800-$41,599)':'$650-799', \n",
    "            '$800-$999 ($41,600-$51,999)':'$800-999'}\n",
    "incp.rename(columns=income_cols, inplace=True)\n",
    "\n",
    "# Combine 'not applicable' and 'not stated' into 'total_na'\n",
    "incp['total_na'] = incp['Not applicable'] + incp['Not stated']\n",
    "\n",
    "# Drop the 'Total column'\n",
    "incp = incp.drop(columns=['Not applicable', 'Not stated', 'Total'], axis=1)\n",
    "\n",
    "# Reorder columns\n",
    "cols = incp.columns.tolist()\n",
    "cols = ['$1-149','$150-299','$300-399','$400-499','$500-649','$650-799',\n",
    "        '$800-999','$1000-1249','$1250-1499','$1500-1749 ',\n",
    "        '$1750-1999','$2000-2999','>=$3000',\n",
    "        'Negative income','Nil income','total_na']\n",
    "incp=incp[cols]\n",
    "\n",
    "incp.head(1)"
   ]
  },
  {
   "cell_type": "code",
   "execution_count": 16,
   "id": "5c8b70e4",
   "metadata": {
    "hidden": true
   },
   "outputs": [
    {
     "data": {
      "text/html": [
       "<div>\n",
       "<style scoped>\n",
       "    .dataframe tbody tr th:only-of-type {\n",
       "        vertical-align: middle;\n",
       "    }\n",
       "\n",
       "    .dataframe tbody tr th {\n",
       "        vertical-align: top;\n",
       "    }\n",
       "\n",
       "    .dataframe thead th {\n",
       "        text-align: right;\n",
       "    }\n",
       "</style>\n",
       "<table border=\"1\" class=\"dataframe\">\n",
       "  <thead>\n",
       "    <tr style=\"text-align: right;\">\n",
       "      <th>INCP_WK</th>\n",
       "      <th>postcode</th>\n",
       "      <th>INCP_LOW</th>\n",
       "      <th>INCP_MID</th>\n",
       "      <th>INCP_HIGH</th>\n",
       "      <th>INCP_NEG_NIL</th>\n",
       "    </tr>\n",
       "  </thead>\n",
       "  <tbody>\n",
       "    <tr>\n",
       "      <th>0</th>\n",
       "      <td>2000</td>\n",
       "      <td>9307</td>\n",
       "      <td>5319</td>\n",
       "      <td>3929</td>\n",
       "      <td>3501</td>\n",
       "    </tr>\n",
       "  </tbody>\n",
       "</table>\n",
       "</div>"
      ],
      "text/plain": [
       "INCP_WK  postcode  INCP_LOW  INCP_MID  INCP_HIGH  INCP_NEG_NIL\n",
       "0            2000      9307      5319       3929          3501"
      ]
     },
     "execution_count": 16,
     "metadata": {},
     "output_type": "execute_result"
    }
   ],
   "source": [
    "# Create income buckets and save into incp_gr\n",
    "incp['INCP_LOW'] = incp.iloc[:, 0:6].sum(axis=1)\n",
    "incp['INCP_MID'] = incp.iloc[:, 6:10].sum(axis=1)\n",
    "incp['INCP_HIGH'] = incp.iloc[:, 10:13].sum(axis=1)\n",
    "incp['INCP_NEG_NIL'] = incp.iloc[:, 13:15].sum(axis=1)\n",
    "incp_gr = incp[['INCP_LOW', 'INCP_MID', 'INCP_HIGH', 'INCP_NEG_NIL']]\n",
    "\n",
    "# Reset index\n",
    "incp_gr.reset_index(inplace=True)\n",
    "\n",
    "incp_gr.head(1)"
   ]
  },
  {
   "cell_type": "markdown",
   "id": "139c6b93",
   "metadata": {
    "hidden": true
   },
   "source": [
    "*The resulting cleanead df is <b>incp_gr</b>*\n",
    "\n",
    "----"
   ]
  },
  {
   "cell_type": "markdown",
   "id": "f3461965",
   "metadata": {
    "heading_collapsed": true
   },
   "source": [
    "### I-5. Household size\n",
    "`cprf`"
   ]
  },
  {
   "cell_type": "code",
   "execution_count": 17,
   "id": "cc14dc65",
   "metadata": {
    "hidden": true
   },
   "outputs": [
    {
     "data": {
      "text/html": [
       "<div>\n",
       "<style scoped>\n",
       "    .dataframe tbody tr th:only-of-type {\n",
       "        vertical-align: middle;\n",
       "    }\n",
       "\n",
       "    .dataframe tbody tr th {\n",
       "        vertical-align: top;\n",
       "    }\n",
       "\n",
       "    .dataframe thead th {\n",
       "        text-align: right;\n",
       "    }\n",
       "</style>\n",
       "<table border=\"1\" class=\"dataframe\">\n",
       "  <thead>\n",
       "    <tr style=\"text-align: right;\">\n",
       "      <th></th>\n",
       "      <th>postcode</th>\n",
       "      <th>CPRF_2</th>\n",
       "      <th>CPRF_3</th>\n",
       "      <th>CPRF_4</th>\n",
       "      <th>CPRF_5</th>\n",
       "      <th>CPRF_6+</th>\n",
       "      <th>CPRF_na</th>\n",
       "      <th>CPRF_HHOLD_NO</th>\n",
       "    </tr>\n",
       "  </thead>\n",
       "  <tbody>\n",
       "    <tr>\n",
       "      <th>1</th>\n",
       "      <td>2000, NSW</td>\n",
       "      <td>3453.0</td>\n",
       "      <td>857.0</td>\n",
       "      <td>354.0</td>\n",
       "      <td>54.0</td>\n",
       "      <td>21.0</td>\n",
       "      <td>8125.0</td>\n",
       "      <td>12861.0</td>\n",
       "    </tr>\n",
       "  </tbody>\n",
       "</table>\n",
       "</div>"
      ],
      "text/plain": [
       "    postcode  CPRF_2  CPRF_3  CPRF_4  CPRF_5  CPRF_6+  CPRF_na  CPRF_HHOLD_NO\n",
       "1  2000, NSW  3453.0   857.0   354.0    54.0     21.0   8125.0        12861.0"
      ]
     },
     "execution_count": 17,
     "metadata": {},
     "output_type": "execute_result"
    }
   ],
   "source": [
    "# Read data\n",
    "census_cprf = \"Files/Census/POA by CPRF Count of Persons in Family by STATE.xlsx\"\n",
    "cprf = pd.read_excel(census_cprf, sheet_name=\"Data Sheet 0\", skiprows=9, nrows=619)\n",
    "\n",
    "# Remove redundant rows and columns \n",
    "cprf = cprf[1:] #remove the first row\n",
    "cprf = cprf.drop(columns='CPRF Count of Persons in Family') # remove the first column\n",
    "\n",
    "# Rename columns\n",
    "cprf_cols= {'Unnamed: 1' : 'postcode', \n",
    "            'Two persons in family' : 'CPRF_2',\n",
    "            'Three persons in family' : 'CPRF_3', \n",
    "            'Four persons in family': 'CPRF_4',\n",
    "            'Five persons in family': 'CPRF_5', \n",
    "            'Six or more persons in family' : 'CPRF_6+',\n",
    "            'Not applicable':'CPRF_na',\n",
    "            'Total' :'CPRF_HHOLD_NO'}\n",
    "cprf.rename(columns=cprf_cols, inplace=True)\n",
    "\n",
    "cprf.head(1)"
   ]
  },
  {
   "cell_type": "code",
   "execution_count": 18,
   "id": "6ace078e",
   "metadata": {
    "hidden": true
   },
   "outputs": [],
   "source": [
    "# Remove 'NSW' in the index and cast postcode to int64\n",
    "cprf.reset_index(inplace=True)\n",
    "cprf['postcode'] = cprf['postcode'].str.split(\",\").str.get(0)\n",
    "cprf['postcode'] = cprf['postcode'].astype('int64')\n",
    "cprf = cprf.set_index('postcode')\n",
    "cprf = cprf.drop(columns='index', axis=1)"
   ]
  },
  {
   "cell_type": "code",
   "execution_count": 19,
   "id": "e97c287f",
   "metadata": {
    "hidden": true
   },
   "outputs": [
    {
     "data": {
      "text/html": [
       "<div>\n",
       "<style scoped>\n",
       "    .dataframe tbody tr th:only-of-type {\n",
       "        vertical-align: middle;\n",
       "    }\n",
       "\n",
       "    .dataframe tbody tr th {\n",
       "        vertical-align: top;\n",
       "    }\n",
       "\n",
       "    .dataframe thead th {\n",
       "        text-align: right;\n",
       "    }\n",
       "</style>\n",
       "<table border=\"1\" class=\"dataframe\">\n",
       "  <thead>\n",
       "    <tr style=\"text-align: right;\">\n",
       "      <th></th>\n",
       "      <th>postcode</th>\n",
       "      <th>CPRF_2</th>\n",
       "      <th>CPRF_3</th>\n",
       "      <th>CPRF_4</th>\n",
       "      <th>CPRF_5</th>\n",
       "      <th>CPRF_6+</th>\n",
       "      <th>CPRF_na</th>\n",
       "      <th>CPRF_HHOLD_NO</th>\n",
       "    </tr>\n",
       "  </thead>\n",
       "  <tbody>\n",
       "    <tr>\n",
       "      <th>0</th>\n",
       "      <td>2000</td>\n",
       "      <td>3453.0</td>\n",
       "      <td>857.0</td>\n",
       "      <td>354.0</td>\n",
       "      <td>54.0</td>\n",
       "      <td>21.0</td>\n",
       "      <td>8125.0</td>\n",
       "      <td>12861.0</td>\n",
       "    </tr>\n",
       "  </tbody>\n",
       "</table>\n",
       "</div>"
      ],
      "text/plain": [
       "   postcode  CPRF_2  CPRF_3  CPRF_4  CPRF_5  CPRF_6+  CPRF_na  CPRF_HHOLD_NO\n",
       "0      2000  3453.0   857.0   354.0    54.0     21.0   8125.0        12861.0"
      ]
     },
     "execution_count": 19,
     "metadata": {},
     "output_type": "execute_result"
    }
   ],
   "source": [
    "# Reset index for merging\n",
    "cprf.reset_index(inplace=True)\n",
    "cprf.head(1)"
   ]
  },
  {
   "cell_type": "markdown",
   "id": "c794ea1e",
   "metadata": {
    "hidden": true
   },
   "source": [
    "*The resulting cleanead df is <b>cprf</b>*\n",
    "\n",
    "----"
   ]
  },
  {
   "cell_type": "markdown",
   "id": "10850f65",
   "metadata": {},
   "source": [
    "### I-7 Population by Age\n",
    "`age_gr`"
   ]
  },
  {
   "cell_type": "code",
   "execution_count": 20,
   "id": "97dfad37",
   "metadata": {},
   "outputs": [
    {
     "data": {
      "text/html": [
       "<div>\n",
       "<style scoped>\n",
       "    .dataframe tbody tr th:only-of-type {\n",
       "        vertical-align: middle;\n",
       "    }\n",
       "\n",
       "    .dataframe tbody tr th {\n",
       "        vertical-align: top;\n",
       "    }\n",
       "\n",
       "    .dataframe thead th {\n",
       "        text-align: right;\n",
       "    }\n",
       "</style>\n",
       "<table border=\"1\" class=\"dataframe\">\n",
       "  <thead>\n",
       "    <tr style=\"text-align: right;\">\n",
       "      <th></th>\n",
       "      <th>postcode</th>\n",
       "      <th>0-4 years</th>\n",
       "      <th>5-9 years</th>\n",
       "      <th>10-14 years</th>\n",
       "      <th>15-19 years</th>\n",
       "      <th>20-24 years</th>\n",
       "      <th>25-29 years</th>\n",
       "      <th>30-34 years</th>\n",
       "      <th>35-39 years</th>\n",
       "      <th>40-44 years</th>\n",
       "      <th>...</th>\n",
       "      <th>60-64 years</th>\n",
       "      <th>65-69 years</th>\n",
       "      <th>70-74 years</th>\n",
       "      <th>75-79 years</th>\n",
       "      <th>80-84 years</th>\n",
       "      <th>85-89 years</th>\n",
       "      <th>90-94 years</th>\n",
       "      <th>95-99 years</th>\n",
       "      <th>100 years and over</th>\n",
       "      <th>Total</th>\n",
       "    </tr>\n",
       "  </thead>\n",
       "  <tbody>\n",
       "    <tr>\n",
       "      <th>1</th>\n",
       "      <td>2000, NSW</td>\n",
       "      <td>698.0</td>\n",
       "      <td>292.0</td>\n",
       "      <td>260.0</td>\n",
       "      <td>1040.0</td>\n",
       "      <td>4791.0</td>\n",
       "      <td>6015.0</td>\n",
       "      <td>4661.0</td>\n",
       "      <td>2703.0</td>\n",
       "      <td>1450.0</td>\n",
       "      <td>...</td>\n",
       "      <td>780.0</td>\n",
       "      <td>660.0</td>\n",
       "      <td>449.0</td>\n",
       "      <td>268.0</td>\n",
       "      <td>158.0</td>\n",
       "      <td>107.0</td>\n",
       "      <td>40.0</td>\n",
       "      <td>10.0</td>\n",
       "      <td>0.0</td>\n",
       "      <td>27411.0</td>\n",
       "    </tr>\n",
       "  </tbody>\n",
       "</table>\n",
       "<p>1 rows × 23 columns</p>\n",
       "</div>"
      ],
      "text/plain": [
       "    postcode  0-4 years  5-9 years  10-14 years  15-19 years  20-24 years  \\\n",
       "1  2000, NSW      698.0      292.0        260.0       1040.0       4791.0   \n",
       "\n",
       "   25-29 years  30-34 years  35-39 years  40-44 years  ...  60-64 years  \\\n",
       "1       6015.0       4661.0       2703.0       1450.0  ...        780.0   \n",
       "\n",
       "   65-69 years  70-74 years  75-79 years  80-84 years  85-89 years  \\\n",
       "1        660.0        449.0        268.0        158.0        107.0   \n",
       "\n",
       "   90-94 years  95-99 years  100 years and over    Total  \n",
       "1         40.0         10.0                 0.0  27411.0  \n",
       "\n",
       "[1 rows x 23 columns]"
      ]
     },
     "execution_count": 20,
     "metadata": {},
     "output_type": "execute_result"
    }
   ],
   "source": [
    "census_age5p = \"Files/Census/POA (UR) by AGE5P - Age in Five Year Groups.xlsx\"\n",
    "age = pd.read_excel(census_age5p, sheet_name=\"Data Sheet 0\", skiprows=8, nrows=619)\n",
    "\n",
    "# Remove redundant rows and columns \n",
    "age = age[1:] #remove the first row\n",
    "age = age.drop(columns='AGE5P - Age in Five Year Groups') # remove the first column\n",
    "\n",
    "# Rename columns\n",
    "age.rename(columns={\"Unnamed: 1\":\"postcode\"}, inplace=True)\n",
    "\n",
    "age.head(1)"
   ]
  },
  {
   "cell_type": "code",
   "execution_count": 21,
   "id": "7bb19c92",
   "metadata": {},
   "outputs": [],
   "source": [
    "# Remove 'NSW' in the index and cast postcode to int64\n",
    "age.reset_index(inplace=True)\n",
    "age['postcode'] = age['postcode'].str.split(\",\").str.get(0)\n",
    "age['postcode'] = age['postcode'].astype('int64')\n",
    "age = age.set_index('postcode')\n",
    "age = age.drop(columns='index', axis=1)"
   ]
  },
  {
   "cell_type": "code",
   "execution_count": 22,
   "id": "b66782ed",
   "metadata": {},
   "outputs": [],
   "source": [
    "# Create age brackets \n",
    "\n",
    "age['0-4yo'] = age.iloc[:, 0:1].sum(axis=1)\n",
    "age['5-14yo'] = age.iloc[:, 1:3].sum(axis=1)\n",
    "age['15-24yo'] = age.iloc[:, 3:5].sum(axis=1)\n",
    "age['25-34yo'] = age.iloc[:, 5:7].sum(axis=1)\n",
    "age['35-54yo'] = age.iloc[:, 7:11].sum(axis=1)\n",
    "age['55-64yo'] = age.iloc[:, 11:13].sum(axis=1)\n",
    "age['65+yo'] = age.iloc[:, 13:21].sum(axis=1)\n",
    "age['population_2016']=age.iloc[:, 21:22]\n",
    "\n",
    "age_gr = age[['0-4yo', '5-14yo', '15-24yo', '25-34yo', '35-54yo', '55-64yo','65+yo', 'population_2016']]"
   ]
  },
  {
   "cell_type": "code",
   "execution_count": 23,
   "id": "d9ca4134",
   "metadata": {},
   "outputs": [
    {
     "data": {
      "text/html": [
       "<div>\n",
       "<style scoped>\n",
       "    .dataframe tbody tr th:only-of-type {\n",
       "        vertical-align: middle;\n",
       "    }\n",
       "\n",
       "    .dataframe tbody tr th {\n",
       "        vertical-align: top;\n",
       "    }\n",
       "\n",
       "    .dataframe thead th {\n",
       "        text-align: right;\n",
       "    }\n",
       "</style>\n",
       "<table border=\"1\" class=\"dataframe\">\n",
       "  <thead>\n",
       "    <tr style=\"text-align: right;\">\n",
       "      <th></th>\n",
       "      <th>postcode</th>\n",
       "      <th>0-4yo</th>\n",
       "      <th>5-14yo</th>\n",
       "      <th>15-24yo</th>\n",
       "      <th>25-34yo</th>\n",
       "      <th>35-54yo</th>\n",
       "      <th>55-64yo</th>\n",
       "      <th>65+yo</th>\n",
       "      <th>population_2016</th>\n",
       "    </tr>\n",
       "  </thead>\n",
       "  <tbody>\n",
       "    <tr>\n",
       "      <th>0</th>\n",
       "      <td>2000</td>\n",
       "      <td>698.0</td>\n",
       "      <td>552.0</td>\n",
       "      <td>5831.0</td>\n",
       "      <td>10676.0</td>\n",
       "      <td>6298.0</td>\n",
       "      <td>1670.0</td>\n",
       "      <td>1692.0</td>\n",
       "      <td>27411.0</td>\n",
       "    </tr>\n",
       "  </tbody>\n",
       "</table>\n",
       "</div>"
      ],
      "text/plain": [
       "   postcode  0-4yo  5-14yo  15-24yo  25-34yo  35-54yo  55-64yo   65+yo  \\\n",
       "0      2000  698.0   552.0   5831.0  10676.0   6298.0   1670.0  1692.0   \n",
       "\n",
       "   population_2016  \n",
       "0          27411.0  "
      ]
     },
     "execution_count": 23,
     "metadata": {},
     "output_type": "execute_result"
    }
   ],
   "source": [
    "# Reset index for merging\n",
    "age_gr.reset_index(inplace=True)\n",
    "age_gr.head(1)"
   ]
  },
  {
   "cell_type": "markdown",
   "id": "5f2f37c1",
   "metadata": {},
   "source": [
    "### I-8 Cultural Diversity\n",
    "`cald`"
   ]
  },
  {
   "cell_type": "markdown",
   "id": "95127ad7",
   "metadata": {},
   "source": [
    "#### I-8-1 Australian Citizenship\n",
    "`citp`"
   ]
  },
  {
   "cell_type": "code",
   "execution_count": 24,
   "id": "bbbae8b3",
   "metadata": {},
   "outputs": [
    {
     "data": {
      "text/html": [
       "<div>\n",
       "<style scoped>\n",
       "    .dataframe tbody tr th:only-of-type {\n",
       "        vertical-align: middle;\n",
       "    }\n",
       "\n",
       "    .dataframe tbody tr th {\n",
       "        vertical-align: top;\n",
       "    }\n",
       "\n",
       "    .dataframe thead th {\n",
       "        text-align: right;\n",
       "    }\n",
       "</style>\n",
       "<table border=\"1\" class=\"dataframe\">\n",
       "  <thead>\n",
       "    <tr style=\"text-align: right;\">\n",
       "      <th></th>\n",
       "      <th>postcode</th>\n",
       "      <th>citizen_AU</th>\n",
       "      <th>citizen_non_AU</th>\n",
       "    </tr>\n",
       "  </thead>\n",
       "  <tbody>\n",
       "    <tr>\n",
       "      <th>618</th>\n",
       "      <td>2898, NSW</td>\n",
       "      <td>317.0</td>\n",
       "      <td>26.0</td>\n",
       "    </tr>\n",
       "  </tbody>\n",
       "</table>\n",
       "</div>"
      ],
      "text/plain": [
       "      postcode  citizen_AU  citizen_non_AU\n",
       "618  2898, NSW       317.0            26.0"
      ]
     },
     "execution_count": 24,
     "metadata": {},
     "output_type": "execute_result"
    }
   ],
   "source": [
    "census_citp = \"Files/Census/POA (UR) by CITP Australian Citizenship by STATE (UR).xlsx\"\n",
    "citp = pd.read_excel(census_citp, sheet_name=\"Data Sheet 0\", skiprows=9, nrows=619)\n",
    "\n",
    "\n",
    "# Remove redundant rows and columns \n",
    "citp = citp[1:] #remove the first row\n",
    "citp = citp.drop(columns='CITP Australian Citizenship') # remove the first column\n",
    "\n",
    "\n",
    "# Rename columns\n",
    "citp.rename(columns={\"Unnamed: 1\":\"postcode\",\n",
    "                    \"Australian\":\"citizen_AU\",\n",
    "                     \"Not Australian\":\"citizen_non_AU\"}, inplace=True)\n",
    "\n",
    "# Remove 'not stated' and total\n",
    "citp = citp.drop(columns=[\"Not stated\",'Total'])\n",
    "citp.tail(1)"
   ]
  },
  {
   "cell_type": "markdown",
   "id": "876323d5",
   "metadata": {},
   "source": [
    "#### I-8-2 Indigenous Status\n",
    "`ing`"
   ]
  },
  {
   "cell_type": "code",
   "execution_count": 25,
   "id": "628b2f00",
   "metadata": {},
   "outputs": [
    {
     "data": {
      "text/html": [
       "<div>\n",
       "<style scoped>\n",
       "    .dataframe tbody tr th:only-of-type {\n",
       "        vertical-align: middle;\n",
       "    }\n",
       "\n",
       "    .dataframe tbody tr th {\n",
       "        vertical-align: top;\n",
       "    }\n",
       "\n",
       "    .dataframe thead th {\n",
       "        text-align: right;\n",
       "    }\n",
       "</style>\n",
       "<table border=\"1\" class=\"dataframe\">\n",
       "  <thead>\n",
       "    <tr style=\"text-align: right;\">\n",
       "      <th></th>\n",
       "      <th>postcode</th>\n",
       "      <th>Aboriginal</th>\n",
       "      <th>Torres Strait Islander</th>\n",
       "      <th>Both Aboriginal and Torres Strait Islander</th>\n",
       "    </tr>\n",
       "  </thead>\n",
       "  <tbody>\n",
       "    <tr>\n",
       "      <th>1</th>\n",
       "      <td>2000, NSW</td>\n",
       "      <td>45.0</td>\n",
       "      <td>8.0</td>\n",
       "      <td>0.0</td>\n",
       "    </tr>\n",
       "  </tbody>\n",
       "</table>\n",
       "</div>"
      ],
      "text/plain": [
       "    postcode  Aboriginal  Torres Strait Islander  \\\n",
       "1  2000, NSW        45.0                     8.0   \n",
       "\n",
       "   Both Aboriginal and Torres Strait Islander  \n",
       "1                                         0.0  "
      ]
     },
     "execution_count": 25,
     "metadata": {},
     "output_type": "execute_result"
    }
   ],
   "source": [
    "census_ing = \"Files/census/POA (UR) by INGP Indigenous Status by STATE (UR).xlsx\"\n",
    "ing = pd.read_excel(census_ing, sheet_name=\"Data Sheet 0\", skiprows=9, nrows=619)\n",
    "\n",
    "# Remove redundant rows and columns \n",
    "ing = ing[1:] #remove the first row\n",
    "ing = ing.drop(columns=['INGP Indigenous Status',\"Non-Indigenous\",\"Not stated\", \"Total\"])\n",
    "\n",
    "# Rename columns\n",
    "ing.rename(columns={\"Unnamed: 1\":\"postcode\"}, inplace=True)\n",
    "\n",
    "ing.head(1)"
   ]
  },
  {
   "cell_type": "code",
   "execution_count": 26,
   "id": "752765f1",
   "metadata": {},
   "outputs": [
    {
     "data": {
      "text/html": [
       "<div>\n",
       "<style scoped>\n",
       "    .dataframe tbody tr th:only-of-type {\n",
       "        vertical-align: middle;\n",
       "    }\n",
       "\n",
       "    .dataframe tbody tr th {\n",
       "        vertical-align: top;\n",
       "    }\n",
       "\n",
       "    .dataframe thead th {\n",
       "        text-align: right;\n",
       "    }\n",
       "</style>\n",
       "<table border=\"1\" class=\"dataframe\">\n",
       "  <thead>\n",
       "    <tr style=\"text-align: right;\">\n",
       "      <th></th>\n",
       "      <th>postcode</th>\n",
       "      <th>ATSI</th>\n",
       "    </tr>\n",
       "  </thead>\n",
       "  <tbody>\n",
       "    <tr>\n",
       "      <th>1</th>\n",
       "      <td>2000, NSW</td>\n",
       "      <td>53.0</td>\n",
       "    </tr>\n",
       "    <tr>\n",
       "      <th>2</th>\n",
       "      <td>2006, NSW</td>\n",
       "      <td>16.0</td>\n",
       "    </tr>\n",
       "    <tr>\n",
       "      <th>3</th>\n",
       "      <td>2007, NSW</td>\n",
       "      <td>58.0</td>\n",
       "    </tr>\n",
       "    <tr>\n",
       "      <th>4</th>\n",
       "      <td>2008, NSW</td>\n",
       "      <td>77.0</td>\n",
       "    </tr>\n",
       "    <tr>\n",
       "      <th>5</th>\n",
       "      <td>2009, NSW</td>\n",
       "      <td>125.0</td>\n",
       "    </tr>\n",
       "  </tbody>\n",
       "</table>\n",
       "</div>"
      ],
      "text/plain": [
       "    postcode   ATSI\n",
       "1  2000, NSW   53.0\n",
       "2  2006, NSW   16.0\n",
       "3  2007, NSW   58.0\n",
       "4  2008, NSW   77.0\n",
       "5  2009, NSW  125.0"
      ]
     },
     "execution_count": 26,
     "metadata": {},
     "output_type": "execute_result"
    }
   ],
   "source": [
    "# Create a total column for all aboriginal and Torres Strait Islanders\n",
    "cols = ['Aboriginal', 'Torres Strait Islander','Both Aboriginal and Torres Strait Islander']\n",
    "ing['ATSI']=ing.loc[:,cols].sum(axis=1)\n",
    "\n",
    "# Drop cols\n",
    "ing = ing[['postcode', 'ATSI']]\n",
    "\n",
    "ing.head()"
   ]
  },
  {
   "cell_type": "markdown",
   "id": "35197eff",
   "metadata": {},
   "source": [
    "#### I-8-3 Year of Arrival in Australia\n",
    "`yarrp_gr`"
   ]
  },
  {
   "cell_type": "code",
   "execution_count": 27,
   "id": "d9a2d9ea",
   "metadata": {},
   "outputs": [
    {
     "data": {
      "text/html": [
       "<div>\n",
       "<style scoped>\n",
       "    .dataframe tbody tr th:only-of-type {\n",
       "        vertical-align: middle;\n",
       "    }\n",
       "\n",
       "    .dataframe tbody tr th {\n",
       "        vertical-align: top;\n",
       "    }\n",
       "\n",
       "    .dataframe thead th {\n",
       "        text-align: right;\n",
       "    }\n",
       "</style>\n",
       "<table border=\"1\" class=\"dataframe\">\n",
       "  <thead>\n",
       "    <tr style=\"text-align: right;\">\n",
       "      <th></th>\n",
       "      <th>postcode</th>\n",
       "      <th>Arrived 1900-1945</th>\n",
       "      <th>Arrived 1946-1955</th>\n",
       "      <th>Arrived 1956-1965</th>\n",
       "      <th>Arrived 1966-1975</th>\n",
       "      <th>Arrived 1976-1985</th>\n",
       "      <th>Arrived 1986-1995</th>\n",
       "      <th>YARRP 1996-2005</th>\n",
       "      <th>Arrived 2006-2015</th>\n",
       "      <th>Arrived 1 Jan 2016 - 9 August 2016</th>\n",
       "    </tr>\n",
       "  </thead>\n",
       "  <tbody>\n",
       "    <tr>\n",
       "      <th>1</th>\n",
       "      <td>2000, NSW</td>\n",
       "      <td>5.0</td>\n",
       "      <td>83.0</td>\n",
       "      <td>133.0</td>\n",
       "      <td>304.0</td>\n",
       "      <td>489.0</td>\n",
       "      <td>1101.0</td>\n",
       "      <td>2175.0</td>\n",
       "      <td>11390.0</td>\n",
       "      <td>1633.0</td>\n",
       "    </tr>\n",
       "  </tbody>\n",
       "</table>\n",
       "</div>"
      ],
      "text/plain": [
       "    postcode  Arrived 1900-1945  Arrived 1946-1955  Arrived 1956-1965  \\\n",
       "1  2000, NSW                5.0               83.0              133.0   \n",
       "\n",
       "   Arrived 1966-1975  Arrived 1976-1985  Arrived 1986-1995  YARRP 1996-2005  \\\n",
       "1              304.0              489.0             1101.0           2175.0   \n",
       "\n",
       "   Arrived 2006-2015  Arrived 1 Jan 2016 - 9 August 2016  \n",
       "1            11390.0                              1633.0  "
      ]
     },
     "execution_count": 27,
     "metadata": {},
     "output_type": "execute_result"
    }
   ],
   "source": [
    "census_yarrp = \"Files/census/POA (UR) by YARRP Year of Arrival in Australia.xlsx\"\n",
    "yarrp = pd.read_excel(census_yarrp, sheet_name=\"Data Sheet 0\", skiprows=8, nrows=619)\n",
    "\n",
    "# Remove redundant rows and columns \n",
    "yarrp = yarrp[1:] #remove the first row\n",
    "yarrp = yarrp.drop(columns=['YARRP Year of Arrival in Australia (ranges)',\n",
    "                        \"Not stated\", \"Not applicable\", \"Total\"])\n",
    "\n",
    "# Rename columns\n",
    "yarrp.rename(columns={\"Unnamed: 1\":\"postcode\",\"Arrived 1996-2005\":\"YARRP 1996-2005\"}, inplace=True)\n",
    "\n",
    "yarrp.head(1)"
   ]
  },
  {
   "cell_type": "code",
   "execution_count": 28,
   "id": "4759dfee",
   "metadata": {},
   "outputs": [
    {
     "data": {
      "text/html": [
       "<div>\n",
       "<style scoped>\n",
       "    .dataframe tbody tr th:only-of-type {\n",
       "        vertical-align: middle;\n",
       "    }\n",
       "\n",
       "    .dataframe tbody tr th {\n",
       "        vertical-align: top;\n",
       "    }\n",
       "\n",
       "    .dataframe thead th {\n",
       "        text-align: right;\n",
       "    }\n",
       "</style>\n",
       "<table border=\"1\" class=\"dataframe\">\n",
       "  <thead>\n",
       "    <tr style=\"text-align: right;\">\n",
       "      <th></th>\n",
       "      <th>postcode</th>\n",
       "      <th>YARRP &lt;1975</th>\n",
       "      <th>YARRP 1976-1995</th>\n",
       "      <th>YARRP 1996-2005</th>\n",
       "      <th>YARRP 2006-2016</th>\n",
       "    </tr>\n",
       "  </thead>\n",
       "  <tbody>\n",
       "    <tr>\n",
       "      <th>1</th>\n",
       "      <td>2000, NSW</td>\n",
       "      <td>525.0</td>\n",
       "      <td>1590.0</td>\n",
       "      <td>2175.0</td>\n",
       "      <td>13023.0</td>\n",
       "    </tr>\n",
       "  </tbody>\n",
       "</table>\n",
       "</div>"
      ],
      "text/plain": [
       "    postcode  YARRP <1975  YARRP 1976-1995  YARRP 1996-2005  YARRP 2006-2016\n",
       "1  2000, NSW        525.0           1590.0           2175.0          13023.0"
      ]
     },
     "execution_count": 28,
     "metadata": {},
     "output_type": "execute_result"
    }
   ],
   "source": [
    "# Create age brackets \n",
    "\n",
    "yarrp['YARRP <1975'] = yarrp.iloc[:, 1:5].sum(axis=1)\n",
    "yarrp['YARRP 1976-1995'] = yarrp.iloc[:, 5:7].sum(axis=1)\n",
    "yarrp['YARRP 2006-2016'] = yarrp.iloc[:, 8:10].sum(axis=1)\n",
    "\n",
    "yarrp_gr = yarrp[['postcode','YARRP <1975', 'YARRP 1976-1995', 'YARRP 1996-2005', 'YARRP 2006-2016']]\n",
    "yarrp_gr.head(1)"
   ]
  },
  {
   "cell_type": "markdown",
   "id": "58bf0372",
   "metadata": {},
   "source": [
    "Now join the three DFs together:"
   ]
  },
  {
   "cell_type": "code",
   "execution_count": 29,
   "id": "c1b9c3d0",
   "metadata": {},
   "outputs": [],
   "source": [
    "cald = citp.merge(yarrp_gr, left_on='postcode',right_on='postcode')\n",
    "cald = cald.merge(ing, left_on='postcode',right_on='postcode')"
   ]
  },
  {
   "cell_type": "code",
   "execution_count": 30,
   "id": "1e180a0b",
   "metadata": {},
   "outputs": [
    {
     "data": {
      "text/html": [
       "<div>\n",
       "<style scoped>\n",
       "    .dataframe tbody tr th:only-of-type {\n",
       "        vertical-align: middle;\n",
       "    }\n",
       "\n",
       "    .dataframe tbody tr th {\n",
       "        vertical-align: top;\n",
       "    }\n",
       "\n",
       "    .dataframe thead th {\n",
       "        text-align: right;\n",
       "    }\n",
       "</style>\n",
       "<table border=\"1\" class=\"dataframe\">\n",
       "  <thead>\n",
       "    <tr style=\"text-align: right;\">\n",
       "      <th></th>\n",
       "      <th>postcode</th>\n",
       "      <th>citizen_AU</th>\n",
       "      <th>citizen_non_AU</th>\n",
       "      <th>YARRP &lt;1975</th>\n",
       "      <th>YARRP 1976-1995</th>\n",
       "      <th>YARRP 1996-2005</th>\n",
       "      <th>YARRP 2006-2016</th>\n",
       "      <th>ATSI</th>\n",
       "    </tr>\n",
       "  </thead>\n",
       "  <tbody>\n",
       "    <tr>\n",
       "      <th>0</th>\n",
       "      <td>2000</td>\n",
       "      <td>8691.0</td>\n",
       "      <td>14662.0</td>\n",
       "      <td>525.0</td>\n",
       "      <td>1590.0</td>\n",
       "      <td>2175.0</td>\n",
       "      <td>13023.0</td>\n",
       "      <td>53.0</td>\n",
       "    </tr>\n",
       "  </tbody>\n",
       "</table>\n",
       "</div>"
      ],
      "text/plain": [
       "   postcode  citizen_AU  citizen_non_AU  YARRP <1975  YARRP 1976-1995  \\\n",
       "0      2000      8691.0         14662.0        525.0           1590.0   \n",
       "\n",
       "   YARRP 1996-2005  YARRP 2006-2016  ATSI  \n",
       "0           2175.0          13023.0  53.0  "
      ]
     },
     "execution_count": 30,
     "metadata": {},
     "output_type": "execute_result"
    }
   ],
   "source": [
    "# Remove 'NSW' in the index and cast postcode to int64\n",
    "cald.reset_index(inplace=True)\n",
    "cald['postcode'] = cald['postcode'].str.split(\",\").str.get(0)\n",
    "cald['postcode'] = cald['postcode'].astype('int64')\n",
    "cald = cald.set_index('postcode')\n",
    "cald = cald.drop(columns='index', axis=1)\n",
    "\n",
    "# Reset index for merging\n",
    "cald.reset_index(inplace=True)\n",
    "cald.head(1)"
   ]
  },
  {
   "cell_type": "markdown",
   "id": "8881bf31",
   "metadata": {},
   "source": [
    "----\n",
    "\n",
    "## III. Group Features into Two DataFrames\n",
    "\n",
    "\n",
    "1. Cross-section features using <u>postcodes</u> as key: taken from the 2016 census, `incp_gr` (weekly income), `cprf` (household size). These features will be merged into **`features_postcode`**, and then be merged into the master data\n",
    "\n",
    "\n",
    "2. Time-series features: ranging from 2011-2021, use <u>time period</u> as key (`yields_join` (bond yields), `rates_join` (interest rates), `df_cons_clean` (construction activities). These features will be merged into **`features_timePeriod`**\n",
    "\n",
    "help with *merge()* https://pandas.pydata.org/pandas-docs/stable/user_guide/merging.html"
   ]
  },
  {
   "cell_type": "markdown",
   "id": "66505b4d",
   "metadata": {
    "heading_collapsed": true
   },
   "source": [
    "### III-2 `features_postcode`\n",
    "\n",
    "Merge:\n",
    "* `incp_gr` weekly income\n",
    "* `cprf` household size)\n",
    "* `age_gr`population by age group\n",
    "* `cald` AU citizenship, year of arrival in AUS, and Indigenous status"
   ]
  },
  {
   "cell_type": "code",
   "execution_count": 31,
   "id": "abe76fa4",
   "metadata": {
    "hidden": true
   },
   "outputs": [
    {
     "name": "stdout",
     "output_type": "stream",
     "text": [
      "number of postcodes in incp: 618\n",
      "number of postcodes in cprf: 618\n",
      "number of postcodes in age_gr: 618\n",
      "number of postcodes in cald: 618\n"
     ]
    }
   ],
   "source": [
    "print(\"number of postcodes in incp:\", len(set(incp_gr['postcode'])))\n",
    "print(\"number of postcodes in cprf:\", len(set(cprf['postcode'])))\n",
    "print(\"number of postcodes in age_gr:\", len(set(age_gr['postcode'])))\n",
    "print(\"number of postcodes in cald:\", len(set(cald['postcode'])))"
   ]
  },
  {
   "cell_type": "code",
   "execution_count": 32,
   "id": "c754f75c",
   "metadata": {
    "hidden": true
   },
   "outputs": [],
   "source": [
    "# merging\n",
    "features_postcode = pd.merge(incp_gr, cprf, on='postcode')\n",
    "features_postcode = pd.merge(features_postcode, age_gr, on='postcode')\n",
    "features_postcode = pd.merge(features_postcode, cald, on='postcode')"
   ]
  },
  {
   "cell_type": "code",
   "execution_count": 33,
   "id": "a67b0b41",
   "metadata": {
    "hidden": true
   },
   "outputs": [
    {
     "name": "stdout",
     "output_type": "stream",
     "text": [
      "Number of postcodes in features_postcode: 618\n"
     ]
    },
    {
     "data": {
      "text/html": [
       "<div>\n",
       "<style scoped>\n",
       "    .dataframe tbody tr th:only-of-type {\n",
       "        vertical-align: middle;\n",
       "    }\n",
       "\n",
       "    .dataframe tbody tr th {\n",
       "        vertical-align: top;\n",
       "    }\n",
       "\n",
       "    .dataframe thead th {\n",
       "        text-align: right;\n",
       "    }\n",
       "</style>\n",
       "<table border=\"1\" class=\"dataframe\">\n",
       "  <thead>\n",
       "    <tr style=\"text-align: right;\">\n",
       "      <th></th>\n",
       "      <th>postcode</th>\n",
       "      <th>INCP_LOW</th>\n",
       "      <th>INCP_MID</th>\n",
       "      <th>INCP_HIGH</th>\n",
       "      <th>INCP_NEG_NIL</th>\n",
       "      <th>CPRF_2</th>\n",
       "      <th>CPRF_3</th>\n",
       "      <th>CPRF_4</th>\n",
       "      <th>CPRF_5</th>\n",
       "      <th>CPRF_6+</th>\n",
       "      <th>...</th>\n",
       "      <th>55-64yo</th>\n",
       "      <th>65+yo</th>\n",
       "      <th>population_2016</th>\n",
       "      <th>citizen_AU</th>\n",
       "      <th>citizen_non_AU</th>\n",
       "      <th>YARRP &lt;1975</th>\n",
       "      <th>YARRP 1976-1995</th>\n",
       "      <th>YARRP 1996-2005</th>\n",
       "      <th>YARRP 2006-2016</th>\n",
       "      <th>ATSI</th>\n",
       "    </tr>\n",
       "  </thead>\n",
       "  <tbody>\n",
       "    <tr>\n",
       "      <th>0</th>\n",
       "      <td>2000</td>\n",
       "      <td>9307</td>\n",
       "      <td>5319</td>\n",
       "      <td>3929</td>\n",
       "      <td>3501</td>\n",
       "      <td>3453.0</td>\n",
       "      <td>857.0</td>\n",
       "      <td>354.0</td>\n",
       "      <td>54.0</td>\n",
       "      <td>21.0</td>\n",
       "      <td>...</td>\n",
       "      <td>1670.0</td>\n",
       "      <td>1692.0</td>\n",
       "      <td>27411.0</td>\n",
       "      <td>8691.0</td>\n",
       "      <td>14662.0</td>\n",
       "      <td>525.0</td>\n",
       "      <td>1590.0</td>\n",
       "      <td>2175.0</td>\n",
       "      <td>13023.0</td>\n",
       "      <td>53.0</td>\n",
       "    </tr>\n",
       "    <tr>\n",
       "      <th>1</th>\n",
       "      <td>2006</td>\n",
       "      <td>747</td>\n",
       "      <td>32</td>\n",
       "      <td>18</td>\n",
       "      <td>276</td>\n",
       "      <td>0.0</td>\n",
       "      <td>0.0</td>\n",
       "      <td>0.0</td>\n",
       "      <td>0.0</td>\n",
       "      <td>5.0</td>\n",
       "      <td>...</td>\n",
       "      <td>13.0</td>\n",
       "      <td>11.0</td>\n",
       "      <td>1261.0</td>\n",
       "      <td>991.0</td>\n",
       "      <td>104.0</td>\n",
       "      <td>0.0</td>\n",
       "      <td>11.0</td>\n",
       "      <td>92.0</td>\n",
       "      <td>160.0</td>\n",
       "      <td>16.0</td>\n",
       "    </tr>\n",
       "    <tr>\n",
       "      <th>2</th>\n",
       "      <td>2007</td>\n",
       "      <td>2803</td>\n",
       "      <td>1458</td>\n",
       "      <td>718</td>\n",
       "      <td>2410</td>\n",
       "      <td>830.0</td>\n",
       "      <td>215.0</td>\n",
       "      <td>98.0</td>\n",
       "      <td>25.0</td>\n",
       "      <td>4.0</td>\n",
       "      <td>...</td>\n",
       "      <td>333.0</td>\n",
       "      <td>380.0</td>\n",
       "      <td>8846.0</td>\n",
       "      <td>2726.0</td>\n",
       "      <td>5033.0</td>\n",
       "      <td>109.0</td>\n",
       "      <td>479.0</td>\n",
       "      <td>593.0</td>\n",
       "      <td>4517.0</td>\n",
       "      <td>58.0</td>\n",
       "    </tr>\n",
       "    <tr>\n",
       "      <th>3</th>\n",
       "      <td>2008</td>\n",
       "      <td>3321</td>\n",
       "      <td>2496</td>\n",
       "      <td>1352</td>\n",
       "      <td>2779</td>\n",
       "      <td>1308.0</td>\n",
       "      <td>243.0</td>\n",
       "      <td>105.0</td>\n",
       "      <td>17.0</td>\n",
       "      <td>7.0</td>\n",
       "      <td>...</td>\n",
       "      <td>470.0</td>\n",
       "      <td>370.0</td>\n",
       "      <td>11712.0</td>\n",
       "      <td>4358.0</td>\n",
       "      <td>5962.0</td>\n",
       "      <td>155.0</td>\n",
       "      <td>541.0</td>\n",
       "      <td>607.0</td>\n",
       "      <td>5527.0</td>\n",
       "      <td>77.0</td>\n",
       "    </tr>\n",
       "    <tr>\n",
       "      <th>4</th>\n",
       "      <td>2009</td>\n",
       "      <td>2896</td>\n",
       "      <td>3232</td>\n",
       "      <td>3205</td>\n",
       "      <td>1040</td>\n",
       "      <td>2107.0</td>\n",
       "      <td>635.0</td>\n",
       "      <td>298.0</td>\n",
       "      <td>56.0</td>\n",
       "      <td>8.0</td>\n",
       "      <td>...</td>\n",
       "      <td>1227.0</td>\n",
       "      <td>1150.0</td>\n",
       "      <td>12813.0</td>\n",
       "      <td>7407.0</td>\n",
       "      <td>4142.0</td>\n",
       "      <td>430.0</td>\n",
       "      <td>1201.0</td>\n",
       "      <td>1097.0</td>\n",
       "      <td>3730.0</td>\n",
       "      <td>125.0</td>\n",
       "    </tr>\n",
       "  </tbody>\n",
       "</table>\n",
       "<p>5 rows × 27 columns</p>\n",
       "</div>"
      ],
      "text/plain": [
       "   postcode  INCP_LOW  INCP_MID  INCP_HIGH  INCP_NEG_NIL  CPRF_2  CPRF_3  \\\n",
       "0      2000      9307      5319       3929          3501  3453.0   857.0   \n",
       "1      2006       747        32         18           276     0.0     0.0   \n",
       "2      2007      2803      1458        718          2410   830.0   215.0   \n",
       "3      2008      3321      2496       1352          2779  1308.0   243.0   \n",
       "4      2009      2896      3232       3205          1040  2107.0   635.0   \n",
       "\n",
       "   CPRF_4  CPRF_5  CPRF_6+  ...  55-64yo   65+yo  population_2016  citizen_AU  \\\n",
       "0   354.0    54.0     21.0  ...   1670.0  1692.0          27411.0      8691.0   \n",
       "1     0.0     0.0      5.0  ...     13.0    11.0           1261.0       991.0   \n",
       "2    98.0    25.0      4.0  ...    333.0   380.0           8846.0      2726.0   \n",
       "3   105.0    17.0      7.0  ...    470.0   370.0          11712.0      4358.0   \n",
       "4   298.0    56.0      8.0  ...   1227.0  1150.0          12813.0      7407.0   \n",
       "\n",
       "   citizen_non_AU  YARRP <1975  YARRP 1976-1995  YARRP 1996-2005  \\\n",
       "0         14662.0        525.0           1590.0           2175.0   \n",
       "1           104.0          0.0             11.0             92.0   \n",
       "2          5033.0        109.0            479.0            593.0   \n",
       "3          5962.0        155.0            541.0            607.0   \n",
       "4          4142.0        430.0           1201.0           1097.0   \n",
       "\n",
       "   YARRP 2006-2016   ATSI  \n",
       "0          13023.0   53.0  \n",
       "1            160.0   16.0  \n",
       "2           4517.0   58.0  \n",
       "3           5527.0   77.0  \n",
       "4           3730.0  125.0  \n",
       "\n",
       "[5 rows x 27 columns]"
      ]
     },
     "execution_count": 33,
     "metadata": {},
     "output_type": "execute_result"
    }
   ],
   "source": [
    "print(\"Number of postcodes in features_postcode:\",len(set(features_postcode['postcode'])))\n",
    "features_postcode.head()"
   ]
  },
  {
   "cell_type": "code",
   "execution_count": 34,
   "id": "88edda3b",
   "metadata": {},
   "outputs": [],
   "source": [
    "features_postcode.to_csv(\"Files/Cleaned/Features/Features_postcode_demo_census2016.csv\")"
   ]
  },
  {
   "cell_type": "markdown",
   "id": "390b0537",
   "metadata": {
    "heading_collapsed": true
   },
   "source": [
    "### III-3 `features_timePeriod`\n",
    "Merge`yields_join` (bond yields), `rates_join` (interest rates), `df_cons_clean` (construction activities)"
   ]
  },
  {
   "cell_type": "code",
   "execution_count": 35,
   "id": "6bc30a92",
   "metadata": {},
   "outputs": [
    {
     "name": "stdout",
     "output_type": "stream",
     "text": [
      "number of time period in bond yields: 33\n",
      "number of time period in interest rates: 43\n",
      "number of time period in construction: 37\n"
     ]
    }
   ],
   "source": [
    "print(\"number of time period in bond yields:\", len(set(yields_join['time_period'])))\n",
    "print(\"number of time period in interest rates:\", len(set(rates_join['time_period'])))\n",
    "print(\"number of time period in construction:\", len(set(df_cons_clean['time_period'])))"
   ]
  },
  {
   "cell_type": "markdown",
   "id": "7240cd1a",
   "metadata": {},
   "source": [
    "We'll only keep the shared time periods in the three dataframes."
   ]
  },
  {
   "cell_type": "code",
   "execution_count": 36,
   "id": "32d1e27c",
   "metadata": {
    "hidden": true
   },
   "outputs": [
    {
     "data": {
      "text/html": [
       "<div>\n",
       "<style scoped>\n",
       "    .dataframe tbody tr th:only-of-type {\n",
       "        vertical-align: middle;\n",
       "    }\n",
       "\n",
       "    .dataframe tbody tr th {\n",
       "        vertical-align: top;\n",
       "    }\n",
       "\n",
       "    .dataframe thead th {\n",
       "        text-align: right;\n",
       "    }\n",
       "</style>\n",
       "<table border=\"1\" class=\"dataframe\">\n",
       "  <thead>\n",
       "    <tr style=\"text-align: right;\">\n",
       "      <th></th>\n",
       "      <th>time_period</th>\n",
       "      <th>2yBonds%</th>\n",
       "      <th>10yBonds%</th>\n",
       "      <th>constr_index</th>\n",
       "      <th>Rate</th>\n",
       "    </tr>\n",
       "  </thead>\n",
       "  <tbody>\n",
       "    <tr>\n",
       "      <th>0</th>\n",
       "      <td>2013 Q3</td>\n",
       "      <td>2.575000</td>\n",
       "      <td>3.868333</td>\n",
       "      <td>101.9</td>\n",
       "      <td>2.602273</td>\n",
       "    </tr>\n",
       "    <tr>\n",
       "      <th>1</th>\n",
       "      <td>2013 Q4</td>\n",
       "      <td>2.729167</td>\n",
       "      <td>4.112500</td>\n",
       "      <td>102.2</td>\n",
       "      <td>2.500000</td>\n",
       "    </tr>\n",
       "    <tr>\n",
       "      <th>2</th>\n",
       "      <td>2014 Q1</td>\n",
       "      <td>2.700000</td>\n",
       "      <td>4.135000</td>\n",
       "      <td>102.5</td>\n",
       "      <td>2.500000</td>\n",
       "    </tr>\n",
       "    <tr>\n",
       "      <th>3</th>\n",
       "      <td>2014 Q2</td>\n",
       "      <td>2.685000</td>\n",
       "      <td>3.835833</td>\n",
       "      <td>103.7</td>\n",
       "      <td>2.500000</td>\n",
       "    </tr>\n",
       "    <tr>\n",
       "      <th>4</th>\n",
       "      <td>2014 Q3</td>\n",
       "      <td>2.583333</td>\n",
       "      <td>3.474167</td>\n",
       "      <td>104.7</td>\n",
       "      <td>2.500000</td>\n",
       "    </tr>\n",
       "  </tbody>\n",
       "</table>\n",
       "</div>"
      ],
      "text/plain": [
       "  time_period  2yBonds%  10yBonds%  constr_index      Rate\n",
       "0     2013 Q3  2.575000   3.868333         101.9  2.602273\n",
       "1     2013 Q4  2.729167   4.112500         102.2  2.500000\n",
       "2     2014 Q1  2.700000   4.135000         102.5  2.500000\n",
       "3     2014 Q2  2.685000   3.835833         103.7  2.500000\n",
       "4     2014 Q3  2.583333   3.474167         104.7  2.500000"
      ]
     },
     "execution_count": 36,
     "metadata": {},
     "output_type": "execute_result"
    }
   ],
   "source": [
    "# Merge\n",
    "features_timePeriod = pd.merge(yields_join, df_cons_clean, on='time_period')\n",
    "features_timePeriod = pd.merge(features_timePeriod, rates_join, on='time_period')\n",
    "features_timePeriod.head()"
   ]
  },
  {
   "cell_type": "code",
   "execution_count": 37,
   "id": "5233893c",
   "metadata": {
    "hidden": true
   },
   "outputs": [
    {
     "data": {
      "text/plain": [
       "32"
      ]
     },
     "execution_count": 37,
     "metadata": {},
     "output_type": "execute_result"
    }
   ],
   "source": [
    "# Check the number of time period after merge\n",
    "len(set(features_timePeriod['time_period']))"
   ]
  },
  {
   "cell_type": "code",
   "execution_count": 38,
   "id": "fef8317c",
   "metadata": {},
   "outputs": [
    {
     "data": {
      "text/plain": [
       "array(['2013 Q3', '2013 Q4', '2014 Q1', '2014 Q2', '2014 Q3', '2014 Q4',\n",
       "       '2015 Q1', '2015 Q2', '2015 Q3', '2015 Q4', '2016 Q1', '2016 Q2',\n",
       "       '2016 Q3', '2016 Q4', '2017 Q1', '2017 Q2', '2017 Q3', '2017 Q4',\n",
       "       '2018 Q1', '2018 Q2', '2018 Q3', '2018 Q4', '2019 Q1', '2019 Q2',\n",
       "       '2019 Q3', '2019 Q4', '2020 Q1', '2020 Q2', '2020 Q3', '2020 Q4',\n",
       "       '2021 Q1', '2021 Q2'], dtype=object)"
      ]
     },
     "execution_count": 38,
     "metadata": {},
     "output_type": "execute_result"
    }
   ],
   "source": [
    "features_timePeriod['time_period'].unique()"
   ]
  },
  {
   "cell_type": "markdown",
   "id": "96bb6ab3",
   "metadata": {
    "hidden": true
   },
   "source": [
    "Even though we started with more time periods and end up with less, this is sufficient to cover the time periods in the housing data we're interested in.\n",
    "\n",
    "*Note: It is possible to do the above in a single line of code, though for clarity, I've left it like this. As seen in https://stackoverflow.com/questions/23668427/pandas-three-way-joining-multiple-dataframes-on-columns*"
   ]
  },
  {
   "cell_type": "markdown",
   "id": "23348400",
   "metadata": {},
   "source": [
    "## IV Merge Features into the Master Housing Data (Stacked)\n",
    "`master_mg1`"
   ]
  },
  {
   "cell_type": "markdown",
   "id": "ae344a96",
   "metadata": {
    "heading_collapsed": true
   },
   "source": [
    "### IV-1 `features_postcode`$\\xrightarrow{merge}$ master"
   ]
  },
  {
   "cell_type": "code",
   "execution_count": 41,
   "id": "b1741c3b",
   "metadata": {},
   "outputs": [
    {
     "name": "stdout",
     "output_type": "stream",
     "text": [
      "(20717, 21)\n"
     ]
    },
    {
     "data": {
      "text/html": [
       "<div>\n",
       "<style scoped>\n",
       "    .dataframe tbody tr th:only-of-type {\n",
       "        vertical-align: middle;\n",
       "    }\n",
       "\n",
       "    .dataframe tbody tr th {\n",
       "        vertical-align: top;\n",
       "    }\n",
       "\n",
       "    .dataframe thead th {\n",
       "        text-align: right;\n",
       "    }\n",
       "</style>\n",
       "<table border=\"1\" class=\"dataframe\">\n",
       "  <thead>\n",
       "    <tr style=\"text-align: right;\">\n",
       "      <th></th>\n",
       "      <th>postcode</th>\n",
       "      <th>skey</th>\n",
       "      <th>time_period</th>\n",
       "      <th>year</th>\n",
       "      <th>quarter</th>\n",
       "      <th>dwelling_type</th>\n",
       "      <th>median_price</th>\n",
       "      <th>mean_price</th>\n",
       "      <th>sales_no</th>\n",
       "      <th>Qdelta_median</th>\n",
       "      <th>...</th>\n",
       "      <th>Qdelta_count</th>\n",
       "      <th>Adelta_count</th>\n",
       "      <th>rkey</th>\n",
       "      <th>median_rent_newb</th>\n",
       "      <th>new_bonds_no</th>\n",
       "      <th>total_bonds_no</th>\n",
       "      <th>Qdelta_median_rent</th>\n",
       "      <th>Qdelta_new_bonds</th>\n",
       "      <th>Adelta_median_rent</th>\n",
       "      <th>Adelta_new_bonds</th>\n",
       "    </tr>\n",
       "  </thead>\n",
       "  <tbody>\n",
       "    <tr>\n",
       "      <th>0</th>\n",
       "      <td>2000</td>\n",
       "      <td>s122</td>\n",
       "      <td>2017 Q3</td>\n",
       "      <td>2017</td>\n",
       "      <td>Q3</td>\n",
       "      <td>Total</td>\n",
       "      <td>1350.0</td>\n",
       "      <td>1516.328059</td>\n",
       "      <td>135.0</td>\n",
       "      <td>0.1345</td>\n",
       "      <td>...</td>\n",
       "      <td>-0.325</td>\n",
       "      <td>-0.3112</td>\n",
       "      <td>r121</td>\n",
       "      <td>640.0</td>\n",
       "      <td>1169.0</td>\n",
       "      <td>7914.0</td>\n",
       "      <td>-0.2</td>\n",
       "      <td>0.5545</td>\n",
       "      <td>NaN</td>\n",
       "      <td>NaN</td>\n",
       "    </tr>\n",
       "  </tbody>\n",
       "</table>\n",
       "<p>1 rows × 21 columns</p>\n",
       "</div>"
      ],
      "text/plain": [
       "   postcode  skey time_period  year quarter dwelling_type  median_price  \\\n",
       "0      2000  s122     2017 Q3  2017      Q3         Total        1350.0   \n",
       "\n",
       "    mean_price  sales_no  Qdelta_median  ...  Qdelta_count  Adelta_count  \\\n",
       "0  1516.328059     135.0         0.1345  ...        -0.325       -0.3112   \n",
       "\n",
       "   rkey median_rent_newb  new_bonds_no  total_bonds_no  Qdelta_median_rent  \\\n",
       "0  r121            640.0        1169.0          7914.0                -0.2   \n",
       "\n",
       "   Qdelta_new_bonds  Adelta_median_rent  Adelta_new_bonds  \n",
       "0            0.5545                 NaN               NaN  \n",
       "\n",
       "[1 rows x 21 columns]"
      ]
     },
     "execution_count": 41,
     "metadata": {},
     "output_type": "execute_result"
    }
   ],
   "source": [
    "# Import Master Housing DF\n",
    "\n",
    "master = pd.read_csv(\"Files/Cleaned/Housing/Master_Sales_Rent_2017Q4_2021Q1.csv\")\n",
    "print(master.shape)\n",
    "master.head(1)"
   ]
  },
  {
   "cell_type": "code",
   "execution_count": 42,
   "id": "af3520dc",
   "metadata": {},
   "outputs": [
    {
     "name": "stdout",
     "output_type": "stream",
     "text": [
      "Number of unique postcodes in features_postcode: 618\n",
      "Number of unique postcodes in the housing data 587\n"
     ]
    }
   ],
   "source": [
    "print(\"Number of unique postcodes in features_postcode:\", \n",
    "      features_postcode['postcode'].nunique())\n",
    "print(\"Number of unique postcodes in the housing data\", \n",
    "      master['postcode'].nunique())"
   ]
  },
  {
   "cell_type": "code",
   "execution_count": 43,
   "id": "52ac9af9",
   "metadata": {
    "hidden": true
   },
   "outputs": [
    {
     "data": {
      "text/html": [
       "<div>\n",
       "<style scoped>\n",
       "    .dataframe tbody tr th:only-of-type {\n",
       "        vertical-align: middle;\n",
       "    }\n",
       "\n",
       "    .dataframe tbody tr th {\n",
       "        vertical-align: top;\n",
       "    }\n",
       "\n",
       "    .dataframe thead th {\n",
       "        text-align: right;\n",
       "    }\n",
       "</style>\n",
       "<table border=\"1\" class=\"dataframe\">\n",
       "  <thead>\n",
       "    <tr style=\"text-align: right;\">\n",
       "      <th></th>\n",
       "      <th>postcode</th>\n",
       "      <th>skey</th>\n",
       "      <th>time_period</th>\n",
       "      <th>year</th>\n",
       "      <th>quarter</th>\n",
       "      <th>dwelling_type</th>\n",
       "      <th>median_price</th>\n",
       "      <th>mean_price</th>\n",
       "      <th>sales_no</th>\n",
       "      <th>Qdelta_median</th>\n",
       "      <th>...</th>\n",
       "      <th>55-64yo</th>\n",
       "      <th>65+yo</th>\n",
       "      <th>population_2016</th>\n",
       "      <th>citizen_AU</th>\n",
       "      <th>citizen_non_AU</th>\n",
       "      <th>YARRP &lt;1975</th>\n",
       "      <th>YARRP 1976-1995</th>\n",
       "      <th>YARRP 1996-2005</th>\n",
       "      <th>YARRP 2006-2016</th>\n",
       "      <th>ATSI</th>\n",
       "    </tr>\n",
       "  </thead>\n",
       "  <tbody>\n",
       "    <tr>\n",
       "      <th>0</th>\n",
       "      <td>2000</td>\n",
       "      <td>s122</td>\n",
       "      <td>2017 Q3</td>\n",
       "      <td>2017</td>\n",
       "      <td>Q3</td>\n",
       "      <td>Total</td>\n",
       "      <td>1350.0</td>\n",
       "      <td>1516.328059</td>\n",
       "      <td>135.0</td>\n",
       "      <td>0.1345</td>\n",
       "      <td>...</td>\n",
       "      <td>1670.0</td>\n",
       "      <td>1692.0</td>\n",
       "      <td>27411.0</td>\n",
       "      <td>8691.0</td>\n",
       "      <td>14662.0</td>\n",
       "      <td>525.0</td>\n",
       "      <td>1590.0</td>\n",
       "      <td>2175.0</td>\n",
       "      <td>13023.0</td>\n",
       "      <td>53.0</td>\n",
       "    </tr>\n",
       "  </tbody>\n",
       "</table>\n",
       "<p>1 rows × 47 columns</p>\n",
       "</div>"
      ],
      "text/plain": [
       "   postcode  skey time_period  year quarter dwelling_type  median_price  \\\n",
       "0      2000  s122     2017 Q3  2017      Q3         Total        1350.0   \n",
       "\n",
       "    mean_price  sales_no  Qdelta_median  ...  55-64yo   65+yo  \\\n",
       "0  1516.328059     135.0         0.1345  ...   1670.0  1692.0   \n",
       "\n",
       "   population_2016 citizen_AU  citizen_non_AU  YARRP <1975  YARRP 1976-1995  \\\n",
       "0          27411.0     8691.0         14662.0        525.0           1590.0   \n",
       "\n",
       "   YARRP 1996-2005  YARRP 2006-2016  ATSI  \n",
       "0           2175.0          13023.0  53.0  \n",
       "\n",
       "[1 rows x 47 columns]"
      ]
     },
     "execution_count": 43,
     "metadata": {},
     "output_type": "execute_result"
    }
   ],
   "source": [
    "master_mg1 = master.merge(features_postcode, left_on='postcode', right_on='postcode')\n",
    "master_mg1.head(1)"
   ]
  },
  {
   "cell_type": "code",
   "execution_count": 44,
   "id": "a4dbb87c",
   "metadata": {},
   "outputs": [
    {
     "name": "stdout",
     "output_type": "stream",
     "text": [
      "master_merge1 shape: (20590, 47)\n",
      "Number of unique postcodes in master_merge1: 581\n"
     ]
    }
   ],
   "source": [
    "print(\"master_merge1 shape:\", master_mg1.shape)\n",
    "print(\"Number of unique postcodes in master_merge1:\", master_mg1['postcode'].nunique())"
   ]
  },
  {
   "cell_type": "markdown",
   "id": "fc79cd90",
   "metadata": {},
   "source": [
    "### We lost 6 postcodes through merging - this is fine?"
   ]
  },
  {
   "cell_type": "markdown",
   "id": "5e27546a",
   "metadata": {
    "heading_collapsed": true
   },
   "source": [
    "### IV-3 `features_timePeriod`$\\xrightarrow{merge}$ master"
   ]
  },
  {
   "cell_type": "code",
   "execution_count": 45,
   "id": "4fde4384",
   "metadata": {},
   "outputs": [
    {
     "data": {
      "text/html": [
       "<div>\n",
       "<style scoped>\n",
       "    .dataframe tbody tr th:only-of-type {\n",
       "        vertical-align: middle;\n",
       "    }\n",
       "\n",
       "    .dataframe tbody tr th {\n",
       "        vertical-align: top;\n",
       "    }\n",
       "\n",
       "    .dataframe thead th {\n",
       "        text-align: right;\n",
       "    }\n",
       "</style>\n",
       "<table border=\"1\" class=\"dataframe\">\n",
       "  <thead>\n",
       "    <tr style=\"text-align: right;\">\n",
       "      <th></th>\n",
       "      <th>time_period</th>\n",
       "      <th>2yBonds%</th>\n",
       "      <th>10yBonds%</th>\n",
       "      <th>constr_index</th>\n",
       "      <th>Rate</th>\n",
       "    </tr>\n",
       "  </thead>\n",
       "  <tbody>\n",
       "    <tr>\n",
       "      <th>0</th>\n",
       "      <td>2013 Q3</td>\n",
       "      <td>2.575000</td>\n",
       "      <td>3.868333</td>\n",
       "      <td>101.9</td>\n",
       "      <td>2.602273</td>\n",
       "    </tr>\n",
       "    <tr>\n",
       "      <th>1</th>\n",
       "      <td>2013 Q4</td>\n",
       "      <td>2.729167</td>\n",
       "      <td>4.112500</td>\n",
       "      <td>102.2</td>\n",
       "      <td>2.500000</td>\n",
       "    </tr>\n",
       "    <tr>\n",
       "      <th>2</th>\n",
       "      <td>2014 Q1</td>\n",
       "      <td>2.700000</td>\n",
       "      <td>4.135000</td>\n",
       "      <td>102.5</td>\n",
       "      <td>2.500000</td>\n",
       "    </tr>\n",
       "    <tr>\n",
       "      <th>3</th>\n",
       "      <td>2014 Q2</td>\n",
       "      <td>2.685000</td>\n",
       "      <td>3.835833</td>\n",
       "      <td>103.7</td>\n",
       "      <td>2.500000</td>\n",
       "    </tr>\n",
       "    <tr>\n",
       "      <th>4</th>\n",
       "      <td>2014 Q3</td>\n",
       "      <td>2.583333</td>\n",
       "      <td>3.474167</td>\n",
       "      <td>104.7</td>\n",
       "      <td>2.500000</td>\n",
       "    </tr>\n",
       "  </tbody>\n",
       "</table>\n",
       "</div>"
      ],
      "text/plain": [
       "  time_period  2yBonds%  10yBonds%  constr_index      Rate\n",
       "0     2013 Q3  2.575000   3.868333         101.9  2.602273\n",
       "1     2013 Q4  2.729167   4.112500         102.2  2.500000\n",
       "2     2014 Q1  2.700000   4.135000         102.5  2.500000\n",
       "3     2014 Q2  2.685000   3.835833         103.7  2.500000\n",
       "4     2014 Q3  2.583333   3.474167         104.7  2.500000"
      ]
     },
     "execution_count": 45,
     "metadata": {},
     "output_type": "execute_result"
    }
   ],
   "source": [
    "features_timePeriod.head()"
   ]
  },
  {
   "cell_type": "code",
   "execution_count": 46,
   "id": "e9f05187",
   "metadata": {
    "hidden": true
   },
   "outputs": [
    {
     "data": {
      "text/html": [
       "<div>\n",
       "<style scoped>\n",
       "    .dataframe tbody tr th:only-of-type {\n",
       "        vertical-align: middle;\n",
       "    }\n",
       "\n",
       "    .dataframe tbody tr th {\n",
       "        vertical-align: top;\n",
       "    }\n",
       "\n",
       "    .dataframe thead th {\n",
       "        text-align: right;\n",
       "    }\n",
       "</style>\n",
       "<table border=\"1\" class=\"dataframe\">\n",
       "  <thead>\n",
       "    <tr style=\"text-align: right;\">\n",
       "      <th></th>\n",
       "      <th>postcode</th>\n",
       "      <th>skey</th>\n",
       "      <th>time_period</th>\n",
       "      <th>year</th>\n",
       "      <th>quarter</th>\n",
       "      <th>dwelling_type</th>\n",
       "      <th>median_price</th>\n",
       "      <th>mean_price</th>\n",
       "      <th>sales_no</th>\n",
       "      <th>Qdelta_median</th>\n",
       "      <th>...</th>\n",
       "      <th>citizen_non_AU</th>\n",
       "      <th>YARRP &lt;1975</th>\n",
       "      <th>YARRP 1976-1995</th>\n",
       "      <th>YARRP 1996-2005</th>\n",
       "      <th>YARRP 2006-2016</th>\n",
       "      <th>ATSI</th>\n",
       "      <th>2yBonds%</th>\n",
       "      <th>10yBonds%</th>\n",
       "      <th>constr_index</th>\n",
       "      <th>Rate</th>\n",
       "    </tr>\n",
       "  </thead>\n",
       "  <tbody>\n",
       "    <tr>\n",
       "      <th>0</th>\n",
       "      <td>2000</td>\n",
       "      <td>s122</td>\n",
       "      <td>2017 Q3</td>\n",
       "      <td>2017</td>\n",
       "      <td>Q3</td>\n",
       "      <td>Total</td>\n",
       "      <td>1350.0</td>\n",
       "      <td>1516.328059</td>\n",
       "      <td>135.0</td>\n",
       "      <td>0.1345</td>\n",
       "      <td>...</td>\n",
       "      <td>14662.0</td>\n",
       "      <td>525.0</td>\n",
       "      <td>1590.0</td>\n",
       "      <td>2175.0</td>\n",
       "      <td>13023.0</td>\n",
       "      <td>53.0</td>\n",
       "      <td>1.814167</td>\n",
       "      <td>2.646667</td>\n",
       "      <td>112.0</td>\n",
       "      <td>1.5</td>\n",
       "    </tr>\n",
       "  </tbody>\n",
       "</table>\n",
       "<p>1 rows × 51 columns</p>\n",
       "</div>"
      ],
      "text/plain": [
       "   postcode  skey time_period  year quarter dwelling_type  median_price  \\\n",
       "0      2000  s122     2017 Q3  2017      Q3         Total        1350.0   \n",
       "\n",
       "    mean_price  sales_no  Qdelta_median  ...  citizen_non_AU  YARRP <1975  \\\n",
       "0  1516.328059     135.0         0.1345  ...         14662.0        525.0   \n",
       "\n",
       "   YARRP 1976-1995 YARRP 1996-2005  YARRP 2006-2016  ATSI  2yBonds%  \\\n",
       "0           1590.0          2175.0          13023.0  53.0  1.814167   \n",
       "\n",
       "   10yBonds%  constr_index  Rate  \n",
       "0   2.646667         112.0   1.5  \n",
       "\n",
       "[1 rows x 51 columns]"
      ]
     },
     "execution_count": 46,
     "metadata": {},
     "output_type": "execute_result"
    }
   ],
   "source": [
    "master_mg1 = master_mg1.merge(features_timePeriod, \n",
    "                              left_on='time_period', right_on='time_period')\n",
    "master_mg1.head(1)"
   ]
  },
  {
   "cell_type": "code",
   "execution_count": 47,
   "id": "c09e1a27",
   "metadata": {
    "hidden": true
   },
   "outputs": [
    {
     "name": "stdout",
     "output_type": "stream",
     "text": [
      "master_merge1 shape: (20590, 51)\n",
      "Time periods in master_merge1:\n",
      " ['2017 Q3' '2017 Q4' '2018 Q1' '2018 Q2' '2018 Q3' '2018 Q4' '2019 Q1'\n",
      " '2019 Q2' '2019 Q3' '2019 Q4' '2020 Q1' '2020 Q2' '2020 Q3' '2020 Q4'\n",
      " '2021 Q1']\n"
     ]
    }
   ],
   "source": [
    "print(\"master_merge1 shape:\", master_mg1.shape)\n",
    "print(\"Time periods in master_merge1:\\n\", master_mg1.time_period.unique())"
   ]
  },
  {
   "cell_type": "markdown",
   "id": "f7658791",
   "metadata": {
    "hidden": true
   },
   "source": [
    "Saving as CSV"
   ]
  },
  {
   "cell_type": "code",
   "execution_count": 48,
   "id": "487f7c12",
   "metadata": {
    "hidden": true
   },
   "outputs": [],
   "source": [
    "master_mg1.to_csv('Files/Cleaned/Postcode-based/Master_Sales_Rent_2017Q4_2021Q1_pcFeatures.csv', index=False)"
   ]
  },
  {
   "cell_type": "code",
   "execution_count": 49,
   "id": "8cc0d761",
   "metadata": {},
   "outputs": [
    {
     "data": {
      "text/html": [
       "<div>\n",
       "<style scoped>\n",
       "    .dataframe tbody tr th:only-of-type {\n",
       "        vertical-align: middle;\n",
       "    }\n",
       "\n",
       "    .dataframe tbody tr th {\n",
       "        vertical-align: top;\n",
       "    }\n",
       "\n",
       "    .dataframe thead th {\n",
       "        text-align: right;\n",
       "    }\n",
       "</style>\n",
       "<table border=\"1\" class=\"dataframe\">\n",
       "  <thead>\n",
       "    <tr style=\"text-align: right;\">\n",
       "      <th></th>\n",
       "      <th>postcode</th>\n",
       "      <th>skey</th>\n",
       "      <th>time_period</th>\n",
       "      <th>year</th>\n",
       "      <th>quarter</th>\n",
       "      <th>dwelling_type</th>\n",
       "      <th>median_price</th>\n",
       "      <th>mean_price</th>\n",
       "      <th>sales_no</th>\n",
       "      <th>Qdelta_median</th>\n",
       "      <th>...</th>\n",
       "      <th>citizen_non_AU</th>\n",
       "      <th>YARRP &lt;1975</th>\n",
       "      <th>YARRP 1976-1995</th>\n",
       "      <th>YARRP 1996-2005</th>\n",
       "      <th>YARRP 2006-2016</th>\n",
       "      <th>ATSI</th>\n",
       "      <th>2yBonds%</th>\n",
       "      <th>10yBonds%</th>\n",
       "      <th>constr_index</th>\n",
       "      <th>Rate</th>\n",
       "    </tr>\n",
       "  </thead>\n",
       "  <tbody>\n",
       "    <tr>\n",
       "      <th>0</th>\n",
       "      <td>2000</td>\n",
       "      <td>s122</td>\n",
       "      <td>2017 Q3</td>\n",
       "      <td>2017</td>\n",
       "      <td>Q3</td>\n",
       "      <td>Total</td>\n",
       "      <td>1350.0</td>\n",
       "      <td>1516.328059</td>\n",
       "      <td>135.0</td>\n",
       "      <td>0.1345</td>\n",
       "      <td>...</td>\n",
       "      <td>14662.0</td>\n",
       "      <td>525.0</td>\n",
       "      <td>1590.0</td>\n",
       "      <td>2175.0</td>\n",
       "      <td>13023.0</td>\n",
       "      <td>53.0</td>\n",
       "      <td>1.814167</td>\n",
       "      <td>2.646667</td>\n",
       "      <td>112.0</td>\n",
       "      <td>1.5</td>\n",
       "    </tr>\n",
       "  </tbody>\n",
       "</table>\n",
       "<p>1 rows × 51 columns</p>\n",
       "</div>"
      ],
      "text/plain": [
       "   postcode  skey time_period  year quarter dwelling_type  median_price  \\\n",
       "0      2000  s122     2017 Q3  2017      Q3         Total        1350.0   \n",
       "\n",
       "    mean_price  sales_no  Qdelta_median  ...  citizen_non_AU  YARRP <1975  \\\n",
       "0  1516.328059     135.0         0.1345  ...         14662.0        525.0   \n",
       "\n",
       "   YARRP 1976-1995 YARRP 1996-2005  YARRP 2006-2016  ATSI  2yBonds%  \\\n",
       "0           1590.0          2175.0          13023.0  53.0  1.814167   \n",
       "\n",
       "   10yBonds%  constr_index  Rate  \n",
       "0   2.646667         112.0   1.5  \n",
       "\n",
       "[1 rows x 51 columns]"
      ]
     },
     "execution_count": 49,
     "metadata": {},
     "output_type": "execute_result"
    }
   ],
   "source": [
    "master_mg1.head(1)"
   ]
  },
  {
   "cell_type": "code",
   "execution_count": 50,
   "id": "83aea046",
   "metadata": {},
   "outputs": [
    {
     "data": {
      "text/plain": [
       "Index(['postcode', 'skey', 'time_period', 'year', 'quarter', 'dwelling_type',\n",
       "       'median_price', 'mean_price', 'sales_no', 'Qdelta_median',\n",
       "       'Adelta_median', 'Qdelta_count', 'Adelta_count', 'rkey',\n",
       "       'median_rent_newb', 'new_bonds_no', 'total_bonds_no',\n",
       "       'Qdelta_median_rent', 'Qdelta_new_bonds', 'Adelta_median_rent',\n",
       "       'Adelta_new_bonds', 'INCP_LOW', 'INCP_MID', 'INCP_HIGH', 'INCP_NEG_NIL',\n",
       "       'CPRF_2', 'CPRF_3', 'CPRF_4', 'CPRF_5', 'CPRF_6+', 'CPRF_na',\n",
       "       'CPRF_HHOLD_NO', '0-4yo', '5-14yo', '15-24yo', '25-34yo', '35-54yo',\n",
       "       '55-64yo', '65+yo', 'population_2016', 'citizen_AU', 'citizen_non_AU',\n",
       "       'YARRP <1975', 'YARRP 1976-1995', 'YARRP 1996-2005', 'YARRP 2006-2016',\n",
       "       'ATSI', '2yBonds%', '10yBonds%', 'constr_index', 'Rate'],\n",
       "      dtype='object')"
      ]
     },
     "execution_count": 50,
     "metadata": {},
     "output_type": "execute_result"
    }
   ],
   "source": [
    "master_mg1.columns"
   ]
  },
  {
   "cell_type": "markdown",
   "id": "3ac2b0dc",
   "metadata": {},
   "source": [
    "## V Merge Features into the Master Housing Data (Unstacked Ver1)\n",
    "**`unstacked_mg1`**\n",
    "\n",
    "We're just repeating the same process in section IV and merge the features into the unstacked housing DF (ver1)."
   ]
  },
  {
   "cell_type": "code",
   "execution_count": 51,
   "id": "75ed7cc1",
   "metadata": {},
   "outputs": [
    {
     "name": "stdout",
     "output_type": "stream",
     "text": [
      "Unstacked1 shape: (493, 31)\n",
      "Number of postcodes in unstacked1: 493\n"
     ]
    },
    {
     "data": {
      "text/html": [
       "<div>\n",
       "<style scoped>\n",
       "    .dataframe tbody tr th:only-of-type {\n",
       "        vertical-align: middle;\n",
       "    }\n",
       "\n",
       "    .dataframe tbody tr th {\n",
       "        vertical-align: top;\n",
       "    }\n",
       "\n",
       "    .dataframe thead th {\n",
       "        text-align: right;\n",
       "    }\n",
       "</style>\n",
       "<table border=\"1\" class=\"dataframe\">\n",
       "  <thead>\n",
       "    <tr style=\"text-align: right;\">\n",
       "      <th></th>\n",
       "      <th>postcode</th>\n",
       "      <th>mean_price 2020 Q1</th>\n",
       "      <th>mean_price 2020 Q2</th>\n",
       "      <th>mean_price 2020 Q3</th>\n",
       "      <th>mean_price 2020 Q4</th>\n",
       "      <th>mean_price 2021 Q1</th>\n",
       "      <th>median_price 2020 Q1</th>\n",
       "      <th>median_price 2020 Q2</th>\n",
       "      <th>median_price 2020 Q3</th>\n",
       "      <th>median_price 2020 Q4</th>\n",
       "      <th>...</th>\n",
       "      <th>sales_no 2020 Q1</th>\n",
       "      <th>sales_no 2020 Q2</th>\n",
       "      <th>sales_no 2020 Q3</th>\n",
       "      <th>sales_no 2020 Q4</th>\n",
       "      <th>sales_no 2021 Q1</th>\n",
       "      <th>total_bonds_no 2020 Q1</th>\n",
       "      <th>total_bonds_no 2020 Q2</th>\n",
       "      <th>total_bonds_no 2020 Q3</th>\n",
       "      <th>total_bonds_no 2020 Q4</th>\n",
       "      <th>total_bonds_no 2021 Q1</th>\n",
       "    </tr>\n",
       "  </thead>\n",
       "  <tbody>\n",
       "    <tr>\n",
       "      <th>0</th>\n",
       "      <td>2000</td>\n",
       "      <td>1541.0</td>\n",
       "      <td>1322.0</td>\n",
       "      <td>1631.0</td>\n",
       "      <td>1379.0</td>\n",
       "      <td>2794.0</td>\n",
       "      <td>1225.0</td>\n",
       "      <td>1000.0</td>\n",
       "      <td>1390.0</td>\n",
       "      <td>1110.0</td>\n",
       "      <td>...</td>\n",
       "      <td>105.0</td>\n",
       "      <td>74.0</td>\n",
       "      <td>100.0</td>\n",
       "      <td>155.0</td>\n",
       "      <td>184.0</td>\n",
       "      <td>8615.0</td>\n",
       "      <td>7595.0</td>\n",
       "      <td>8069.0</td>\n",
       "      <td>9140.0</td>\n",
       "      <td>9327.0</td>\n",
       "    </tr>\n",
       "  </tbody>\n",
       "</table>\n",
       "<p>1 rows × 31 columns</p>\n",
       "</div>"
      ],
      "text/plain": [
       "   postcode  mean_price 2020 Q1  mean_price 2020 Q2  mean_price 2020 Q3  \\\n",
       "0      2000              1541.0              1322.0              1631.0   \n",
       "\n",
       "   mean_price 2020 Q4  mean_price 2021 Q1  median_price 2020 Q1  \\\n",
       "0              1379.0              2794.0                1225.0   \n",
       "\n",
       "   median_price 2020 Q2  median_price 2020 Q3  median_price 2020 Q4  ...  \\\n",
       "0                1000.0                1390.0                1110.0  ...   \n",
       "\n",
       "   sales_no 2020 Q1  sales_no 2020 Q2  sales_no 2020 Q3  sales_no 2020 Q4  \\\n",
       "0             105.0              74.0             100.0             155.0   \n",
       "\n",
       "   sales_no 2021 Q1  total_bonds_no 2020 Q1  total_bonds_no 2020 Q2  \\\n",
       "0             184.0                  8615.0                  7595.0   \n",
       "\n",
       "   total_bonds_no 2020 Q3  total_bonds_no 2020 Q4  total_bonds_no 2021 Q1  \n",
       "0                  8069.0                  9140.0                  9327.0  \n",
       "\n",
       "[1 rows x 31 columns]"
      ]
     },
     "execution_count": 51,
     "metadata": {},
     "output_type": "execute_result"
    }
   ],
   "source": [
    "# Import unstacked Housing df1\n",
    "\n",
    "unstacked1 = pd.read_csv(\"Files/Cleaned/Housing/Pivot_Sales_Rent_5Quarters_SharedPOA.csv\")\n",
    "print(\"Unstacked1 shape:\", unstacked1.shape)\n",
    "print(\"Number of postcodes in unstacked1:\", unstacked1['postcode'].nunique())\n",
    "unstacked1.head(1)"
   ]
  },
  {
   "cell_type": "markdown",
   "id": "4aaccaf6",
   "metadata": {},
   "source": [
    "**`features_postcodes` $\\xrightarrow{merge}$ unstacked1**"
   ]
  },
  {
   "cell_type": "code",
   "execution_count": 52,
   "id": "31e4ada1",
   "metadata": {},
   "outputs": [
    {
     "name": "stdout",
     "output_type": "stream",
     "text": [
      "Unstacked_mg1 shape: (491, 57)\n",
      "Number of postcodes in the unstacked_mg1: 491\n"
     ]
    }
   ],
   "source": [
    "# Merge features_postcode in\n",
    "unstacked_mg1 = unstacked1.merge(features_postcode, \n",
    "                                 left_on='postcode', right_on='postcode')\n",
    "print(\"Unstacked_mg1 shape:\", unstacked_mg1.shape)\n",
    "print(\"Number of postcodes in the unstacked_mg1:\", unstacked_mg1['postcode'].nunique())"
   ]
  },
  {
   "cell_type": "markdown",
   "id": "eef374fc",
   "metadata": {},
   "source": [
    "We lost 2 postcodes through merging."
   ]
  },
  {
   "cell_type": "markdown",
   "id": "e76602c0",
   "metadata": {},
   "source": [
    "**`features_timePeriods` $\\xrightarrow{merge}$ unstacked1**"
   ]
  },
  {
   "cell_type": "code",
   "execution_count": 53,
   "id": "0faeee4f",
   "metadata": {},
   "outputs": [
    {
     "data": {
      "text/html": [
       "<div>\n",
       "<style scoped>\n",
       "    .dataframe tbody tr th:only-of-type {\n",
       "        vertical-align: middle;\n",
       "    }\n",
       "\n",
       "    .dataframe tbody tr th {\n",
       "        vertical-align: top;\n",
       "    }\n",
       "\n",
       "    .dataframe thead th {\n",
       "        text-align: right;\n",
       "    }\n",
       "</style>\n",
       "<table border=\"1\" class=\"dataframe\">\n",
       "  <thead>\n",
       "    <tr style=\"text-align: right;\">\n",
       "      <th></th>\n",
       "      <th>time_period</th>\n",
       "      <th>2yBonds%</th>\n",
       "      <th>10yBonds%</th>\n",
       "      <th>constr_index</th>\n",
       "      <th>Rate</th>\n",
       "    </tr>\n",
       "  </thead>\n",
       "  <tbody>\n",
       "    <tr>\n",
       "      <th>26</th>\n",
       "      <td>2020 Q1</td>\n",
       "      <td>0.616667</td>\n",
       "      <td>1.006667</td>\n",
       "      <td>116.0</td>\n",
       "      <td>0.638889</td>\n",
       "    </tr>\n",
       "    <tr>\n",
       "      <th>27</th>\n",
       "      <td>2020 Q2</td>\n",
       "      <td>0.240000</td>\n",
       "      <td>0.896667</td>\n",
       "      <td>116.2</td>\n",
       "      <td>0.250000</td>\n",
       "    </tr>\n",
       "    <tr>\n",
       "      <th>28</th>\n",
       "      <td>2020 Q3</td>\n",
       "      <td>0.243333</td>\n",
       "      <td>0.890000</td>\n",
       "      <td>116.2</td>\n",
       "      <td>0.250000</td>\n",
       "    </tr>\n",
       "    <tr>\n",
       "      <th>29</th>\n",
       "      <td>2020 Q4</td>\n",
       "      <td>0.103333</td>\n",
       "      <td>0.890000</td>\n",
       "      <td>116.9</td>\n",
       "      <td>0.156250</td>\n",
       "    </tr>\n",
       "    <tr>\n",
       "      <th>30</th>\n",
       "      <td>2021 Q1</td>\n",
       "      <td>0.090000</td>\n",
       "      <td>1.353333</td>\n",
       "      <td>117.8</td>\n",
       "      <td>0.100000</td>\n",
       "    </tr>\n",
       "  </tbody>\n",
       "</table>\n",
       "</div>"
      ],
      "text/plain": [
       "   time_period  2yBonds%  10yBonds%  constr_index      Rate\n",
       "26     2020 Q1  0.616667   1.006667         116.0  0.638889\n",
       "27     2020 Q2  0.240000   0.896667         116.2  0.250000\n",
       "28     2020 Q3  0.243333   0.890000         116.2  0.250000\n",
       "29     2020 Q4  0.103333   0.890000         116.9  0.156250\n",
       "30     2021 Q1  0.090000   1.353333         117.8  0.100000"
      ]
     },
     "execution_count": 53,
     "metadata": {},
     "output_type": "execute_result"
    }
   ],
   "source": [
    "# Filter out relevant time periods (Q1 2020 - Q1 2021)\n",
    "\n",
    "TP = ['2020 Q1','2020 Q2','2020 Q3','2020 Q4','2021 Q1']\n",
    "features_timePeriod = features_timePeriod.loc[features_timePeriod.time_period.isin(TP)]\n",
    "features_timePeriod"
   ]
  },
  {
   "cell_type": "markdown",
   "id": "15a4747e",
   "metadata": {},
   "source": [
    "Since the file is unstacked, we no longer have time_period as key. What we'll do here is to flat features dataframe into one-row. One feature will be expanded into five - one for each time period, and will be added as a column with a constant value to the master DataFrame."
   ]
  },
  {
   "cell_type": "code",
   "execution_count": 54,
   "id": "9dc18e04",
   "metadata": {},
   "outputs": [
    {
     "data": {
      "text/html": [
       "<div>\n",
       "<style scoped>\n",
       "    .dataframe tbody tr th:only-of-type {\n",
       "        vertical-align: middle;\n",
       "    }\n",
       "\n",
       "    .dataframe tbody tr th {\n",
       "        vertical-align: top;\n",
       "    }\n",
       "\n",
       "    .dataframe thead th {\n",
       "        text-align: right;\n",
       "    }\n",
       "</style>\n",
       "<table border=\"1\" class=\"dataframe\">\n",
       "  <thead>\n",
       "    <tr style=\"text-align: right;\">\n",
       "      <th></th>\n",
       "      <th>10yBonds% 2020 Q1</th>\n",
       "      <th>10yBonds% 2020 Q2</th>\n",
       "      <th>10yBonds% 2020 Q3</th>\n",
       "      <th>10yBonds% 2020 Q4</th>\n",
       "      <th>10yBonds% 2021 Q1</th>\n",
       "      <th>2yBonds% 2020 Q1</th>\n",
       "      <th>2yBonds% 2020 Q2</th>\n",
       "      <th>2yBonds% 2020 Q3</th>\n",
       "      <th>2yBonds% 2020 Q4</th>\n",
       "      <th>2yBonds% 2021 Q1</th>\n",
       "      <th>Rate 2020 Q1</th>\n",
       "      <th>Rate 2020 Q2</th>\n",
       "      <th>Rate 2020 Q3</th>\n",
       "      <th>Rate 2020 Q4</th>\n",
       "      <th>Rate 2021 Q1</th>\n",
       "      <th>constr_index 2020 Q1</th>\n",
       "      <th>constr_index 2020 Q2</th>\n",
       "      <th>constr_index 2020 Q3</th>\n",
       "      <th>constr_index 2020 Q4</th>\n",
       "      <th>constr_index 2021 Q1</th>\n",
       "    </tr>\n",
       "  </thead>\n",
       "  <tbody>\n",
       "    <tr>\n",
       "      <th>0</th>\n",
       "      <td>1.006667</td>\n",
       "      <td>0.896667</td>\n",
       "      <td>0.89</td>\n",
       "      <td>0.89</td>\n",
       "      <td>1.353333</td>\n",
       "      <td>0.616667</td>\n",
       "      <td>0.24</td>\n",
       "      <td>0.243333</td>\n",
       "      <td>0.103333</td>\n",
       "      <td>0.09</td>\n",
       "      <td>0.638889</td>\n",
       "      <td>0.25</td>\n",
       "      <td>0.25</td>\n",
       "      <td>0.15625</td>\n",
       "      <td>0.1</td>\n",
       "      <td>116.0</td>\n",
       "      <td>116.2</td>\n",
       "      <td>116.2</td>\n",
       "      <td>116.9</td>\n",
       "      <td>117.8</td>\n",
       "    </tr>\n",
       "  </tbody>\n",
       "</table>\n",
       "</div>"
      ],
      "text/plain": [
       "   10yBonds% 2020 Q1  10yBonds% 2020 Q2  10yBonds% 2020 Q3  10yBonds% 2020 Q4  \\\n",
       "0           1.006667           0.896667               0.89               0.89   \n",
       "\n",
       "   10yBonds% 2021 Q1  2yBonds% 2020 Q1  2yBonds% 2020 Q2  2yBonds% 2020 Q3  \\\n",
       "0           1.353333          0.616667              0.24          0.243333   \n",
       "\n",
       "   2yBonds% 2020 Q4  2yBonds% 2021 Q1  Rate 2020 Q1  Rate 2020 Q2  \\\n",
       "0          0.103333              0.09      0.638889          0.25   \n",
       "\n",
       "   Rate 2020 Q3  Rate 2020 Q4  Rate 2021 Q1  constr_index 2020 Q1  \\\n",
       "0          0.25       0.15625           0.1                 116.0   \n",
       "\n",
       "   constr_index 2020 Q2  constr_index 2020 Q3  constr_index 2020 Q4  \\\n",
       "0                 116.2                 116.2                 116.9   \n",
       "\n",
       "   constr_index 2021 Q1  \n",
       "0                 117.8  "
      ]
     },
     "execution_count": 54,
     "metadata": {},
     "output_type": "execute_result"
    }
   ],
   "source": [
    "# Flat the features DF\n",
    "features_TP_pvt = pd.pivot_table(features_timePeriod, \n",
    "                                 index=features_timePeriod.index,\n",
    "                                 columns='time_period',\n",
    "                                 values=['2yBonds%', '10yBonds%', 'constr_index', 'Rate'])\n",
    "\n",
    "features_TP_pvt.columns = [' '.join(col) for col in features_TP_pvt.columns]\n",
    "features_TP_pvt = features_TP_pvt.append(features_TP_pvt.sum(numeric_only=True), ignore_index=True)\n",
    "features_TP_pvt = features_TP_pvt.iloc[[-1]]\n",
    "features_TP_pvt.reset_index(inplace=True)\n",
    "features_TP_pvt = features_TP_pvt.drop(columns='index', axis=1)\n",
    "features_TP_pvt.round(2)\n",
    "\n",
    "features_TP_pvt"
   ]
  },
  {
   "cell_type": "code",
   "execution_count": 55,
   "id": "8036aaaa",
   "metadata": {},
   "outputs": [
    {
     "name": "stdout",
     "output_type": "stream",
     "text": [
      "Unstacked_mg1 shape: (491, 77)\n"
     ]
    },
    {
     "name": "stderr",
     "output_type": "stream",
     "text": [
      "/var/folders/22/9hdsbk0j58z1r2x79bx2zjh80000gn/T/ipykernel_30047/2242631103.py:2: FutureWarning: Using short name for 'orient' is deprecated. Only the options: ('dict', list, 'series', 'split', 'records', 'index') will be used in a future version. Use one of the above to silence this warning.\n",
      "  tp_dict = features_TP_pvt.to_dict(\"record\")[0]\n"
     ]
    },
    {
     "data": {
      "text/html": [
       "<div>\n",
       "<style scoped>\n",
       "    .dataframe tbody tr th:only-of-type {\n",
       "        vertical-align: middle;\n",
       "    }\n",
       "\n",
       "    .dataframe tbody tr th {\n",
       "        vertical-align: top;\n",
       "    }\n",
       "\n",
       "    .dataframe thead th {\n",
       "        text-align: right;\n",
       "    }\n",
       "</style>\n",
       "<table border=\"1\" class=\"dataframe\">\n",
       "  <thead>\n",
       "    <tr style=\"text-align: right;\">\n",
       "      <th></th>\n",
       "      <th>postcode</th>\n",
       "      <th>mean_price 2020 Q1</th>\n",
       "      <th>mean_price 2020 Q2</th>\n",
       "      <th>mean_price 2020 Q3</th>\n",
       "      <th>mean_price 2020 Q4</th>\n",
       "      <th>mean_price 2021 Q1</th>\n",
       "      <th>median_price 2020 Q1</th>\n",
       "      <th>median_price 2020 Q2</th>\n",
       "      <th>median_price 2020 Q3</th>\n",
       "      <th>median_price 2020 Q4</th>\n",
       "      <th>...</th>\n",
       "      <th>Rate 2020 Q1</th>\n",
       "      <th>Rate 2020 Q2</th>\n",
       "      <th>Rate 2020 Q3</th>\n",
       "      <th>Rate 2020 Q4</th>\n",
       "      <th>Rate 2021 Q1</th>\n",
       "      <th>constr_index 2020 Q1</th>\n",
       "      <th>constr_index 2020 Q2</th>\n",
       "      <th>constr_index 2020 Q3</th>\n",
       "      <th>constr_index 2020 Q4</th>\n",
       "      <th>constr_index 2021 Q1</th>\n",
       "    </tr>\n",
       "  </thead>\n",
       "  <tbody>\n",
       "    <tr>\n",
       "      <th>0</th>\n",
       "      <td>2000</td>\n",
       "      <td>1541.0</td>\n",
       "      <td>1322.0</td>\n",
       "      <td>1631.0</td>\n",
       "      <td>1379.0</td>\n",
       "      <td>2794.0</td>\n",
       "      <td>1225.0</td>\n",
       "      <td>1000.0</td>\n",
       "      <td>1390.0</td>\n",
       "      <td>1110.0</td>\n",
       "      <td>...</td>\n",
       "      <td>0.638889</td>\n",
       "      <td>0.25</td>\n",
       "      <td>0.25</td>\n",
       "      <td>0.15625</td>\n",
       "      <td>0.1</td>\n",
       "      <td>116.0</td>\n",
       "      <td>116.2</td>\n",
       "      <td>116.2</td>\n",
       "      <td>116.9</td>\n",
       "      <td>117.8</td>\n",
       "    </tr>\n",
       "  </tbody>\n",
       "</table>\n",
       "<p>1 rows × 77 columns</p>\n",
       "</div>"
      ],
      "text/plain": [
       "   postcode  mean_price 2020 Q1  mean_price 2020 Q2  mean_price 2020 Q3  \\\n",
       "0      2000              1541.0              1322.0              1631.0   \n",
       "\n",
       "   mean_price 2020 Q4  mean_price 2021 Q1  median_price 2020 Q1  \\\n",
       "0              1379.0              2794.0                1225.0   \n",
       "\n",
       "   median_price 2020 Q2  median_price 2020 Q3  median_price 2020 Q4  ...  \\\n",
       "0                1000.0                1390.0                1110.0  ...   \n",
       "\n",
       "   Rate 2020 Q1  Rate 2020 Q2  Rate 2020 Q3  Rate 2020 Q4  Rate 2021 Q1  \\\n",
       "0      0.638889          0.25          0.25       0.15625           0.1   \n",
       "\n",
       "   constr_index 2020 Q1  constr_index 2020 Q2  constr_index 2020 Q3  \\\n",
       "0                 116.0                 116.2                 116.2   \n",
       "\n",
       "   constr_index 2020 Q4  constr_index 2021 Q1  \n",
       "0                 116.9                 117.8  \n",
       "\n",
       "[1 rows x 77 columns]"
      ]
     },
     "execution_count": 55,
     "metadata": {},
     "output_type": "execute_result"
    }
   ],
   "source": [
    "# Convert the one-row DF into a dictionary \n",
    "tp_dict = features_TP_pvt.to_dict(\"record\")[0]\n",
    "type(tp_dict)\n",
    "\n",
    "# Assign the dictionary to the master DF\n",
    "unstacked_mg1 = unstacked_mg1.assign(**tp_dict)\n",
    "\n",
    "print(\"Unstacked_mg1 shape:\", unstacked_mg1.shape)\n",
    "unstacked_mg1.head(1)"
   ]
  },
  {
   "cell_type": "code",
   "execution_count": 56,
   "id": "6fb21054",
   "metadata": {},
   "outputs": [],
   "source": [
    "# Save as CSV\n",
    "unstacked_mg1.to_csv('Files/Cleaned/Postcode-based/Unstacked_Sales_Rent_5Quarters_SharedPOA_pcFeatures.csv', index=False)"
   ]
  },
  {
   "cell_type": "markdown",
   "id": "0f2fef43",
   "metadata": {},
   "source": [
    "## VI Merge Features into the Master Housing Data (Unstacked Ver2)\n",
    "**`unstacked_mg2`**"
   ]
  },
  {
   "cell_type": "code",
   "execution_count": 57,
   "id": "f43beb9c",
   "metadata": {},
   "outputs": [
    {
     "name": "stdout",
     "output_type": "stream",
     "text": [
      "Unstacked2 shape: (577, 31)\n",
      "Number of postcodes in unstacked2: 577\n"
     ]
    },
    {
     "data": {
      "text/html": [
       "<div>\n",
       "<style scoped>\n",
       "    .dataframe tbody tr th:only-of-type {\n",
       "        vertical-align: middle;\n",
       "    }\n",
       "\n",
       "    .dataframe tbody tr th {\n",
       "        vertical-align: top;\n",
       "    }\n",
       "\n",
       "    .dataframe thead th {\n",
       "        text-align: right;\n",
       "    }\n",
       "</style>\n",
       "<table border=\"1\" class=\"dataframe\">\n",
       "  <thead>\n",
       "    <tr style=\"text-align: right;\">\n",
       "      <th></th>\n",
       "      <th>postcode</th>\n",
       "      <th>mean_price 2020 Q1</th>\n",
       "      <th>mean_price 2020 Q2</th>\n",
       "      <th>mean_price 2020 Q3</th>\n",
       "      <th>mean_price 2020 Q4</th>\n",
       "      <th>mean_price 2021 Q1</th>\n",
       "      <th>median_price 2020 Q1</th>\n",
       "      <th>median_price 2020 Q2</th>\n",
       "      <th>median_price 2020 Q3</th>\n",
       "      <th>median_price 2020 Q4</th>\n",
       "      <th>...</th>\n",
       "      <th>sales_no 2020 Q1</th>\n",
       "      <th>sales_no 2020 Q2</th>\n",
       "      <th>sales_no 2020 Q3</th>\n",
       "      <th>sales_no 2020 Q4</th>\n",
       "      <th>sales_no 2021 Q1</th>\n",
       "      <th>total_bonds_no 2020 Q1</th>\n",
       "      <th>total_bonds_no 2020 Q2</th>\n",
       "      <th>total_bonds_no 2020 Q3</th>\n",
       "      <th>total_bonds_no 2020 Q4</th>\n",
       "      <th>total_bonds_no 2021 Q1</th>\n",
       "    </tr>\n",
       "  </thead>\n",
       "  <tbody>\n",
       "    <tr>\n",
       "      <th>0</th>\n",
       "      <td>2000</td>\n",
       "      <td>1541.0</td>\n",
       "      <td>1322.0</td>\n",
       "      <td>1631.0</td>\n",
       "      <td>1379.0</td>\n",
       "      <td>2794.0</td>\n",
       "      <td>1225.0</td>\n",
       "      <td>1000.0</td>\n",
       "      <td>1390.0</td>\n",
       "      <td>1110.0</td>\n",
       "      <td>...</td>\n",
       "      <td>105.0</td>\n",
       "      <td>74.0</td>\n",
       "      <td>100.0</td>\n",
       "      <td>155.0</td>\n",
       "      <td>184.0</td>\n",
       "      <td>8615.0</td>\n",
       "      <td>7595.0</td>\n",
       "      <td>8069.0</td>\n",
       "      <td>9140.0</td>\n",
       "      <td>9327.0</td>\n",
       "    </tr>\n",
       "  </tbody>\n",
       "</table>\n",
       "<p>1 rows × 31 columns</p>\n",
       "</div>"
      ],
      "text/plain": [
       "   postcode  mean_price 2020 Q1  mean_price 2020 Q2  mean_price 2020 Q3  \\\n",
       "0      2000              1541.0              1322.0              1631.0   \n",
       "\n",
       "   mean_price 2020 Q4  mean_price 2021 Q1  median_price 2020 Q1  \\\n",
       "0              1379.0              2794.0                1225.0   \n",
       "\n",
       "   median_price 2020 Q2  median_price 2020 Q3  median_price 2020 Q4  ...  \\\n",
       "0                1000.0                1390.0                1110.0  ...   \n",
       "\n",
       "   sales_no 2020 Q1  sales_no 2020 Q2  sales_no 2020 Q3  sales_no 2020 Q4  \\\n",
       "0             105.0              74.0             100.0             155.0   \n",
       "\n",
       "   sales_no 2021 Q1  total_bonds_no 2020 Q1  total_bonds_no 2020 Q2  \\\n",
       "0             184.0                  8615.0                  7595.0   \n",
       "\n",
       "   total_bonds_no 2020 Q3  total_bonds_no 2020 Q4  total_bonds_no 2021 Q1  \n",
       "0                  8069.0                  9140.0                  9327.0  \n",
       "\n",
       "[1 rows x 31 columns]"
      ]
     },
     "execution_count": 57,
     "metadata": {},
     "output_type": "execute_result"
    }
   ],
   "source": [
    "# Import unstacked Housing df2\n",
    "\n",
    "unstacked2 = pd.read_csv(\"Files/Cleaned/Housing/Pivot_Sales_Rent_5Quarters_Imputed.csv\")\n",
    "print(\"Unstacked2 shape:\", unstacked2.shape)\n",
    "print(\"Number of postcodes in unstacked2:\", unstacked2['postcode'].nunique())\n",
    "unstacked2.head(1)"
   ]
  },
  {
   "cell_type": "markdown",
   "id": "0e85edd1",
   "metadata": {},
   "source": [
    "**`features_postcodes` $\\xrightarrow{merge}$ unstacked2**"
   ]
  },
  {
   "cell_type": "code",
   "execution_count": 58,
   "id": "9ce1791c",
   "metadata": {},
   "outputs": [
    {
     "name": "stdout",
     "output_type": "stream",
     "text": [
      "unstacked_mg2 shape: (573, 57)\n",
      "Number of postcodes in the unstacked_mg2: 573\n"
     ]
    }
   ],
   "source": [
    "# Merge features_postcode in\n",
    "unstacked_mg2= unstacked2.merge(features_postcode, left_on='postcode', right_on='postcode')\n",
    "print(\"unstacked_mg2 shape:\", unstacked_mg2.shape)\n",
    "print(\"Number of postcodes in the unstacked_mg2:\", unstacked_mg2['postcode'].nunique())"
   ]
  },
  {
   "cell_type": "markdown",
   "id": "ee5de864",
   "metadata": {},
   "source": [
    "Again we lost 4 postcodes this time after merging."
   ]
  },
  {
   "cell_type": "markdown",
   "id": "83900522",
   "metadata": {},
   "source": [
    "**`features_timePeriods` $\\xrightarrow{merge}$ master**"
   ]
  },
  {
   "cell_type": "code",
   "execution_count": 59,
   "id": "c3b28bff",
   "metadata": {},
   "outputs": [
    {
     "name": "stdout",
     "output_type": "stream",
     "text": [
      "unstacked_mg2 shape: (573, 77)\n"
     ]
    },
    {
     "data": {
      "text/html": [
       "<div>\n",
       "<style scoped>\n",
       "    .dataframe tbody tr th:only-of-type {\n",
       "        vertical-align: middle;\n",
       "    }\n",
       "\n",
       "    .dataframe tbody tr th {\n",
       "        vertical-align: top;\n",
       "    }\n",
       "\n",
       "    .dataframe thead th {\n",
       "        text-align: right;\n",
       "    }\n",
       "</style>\n",
       "<table border=\"1\" class=\"dataframe\">\n",
       "  <thead>\n",
       "    <tr style=\"text-align: right;\">\n",
       "      <th></th>\n",
       "      <th>postcode</th>\n",
       "      <th>mean_price 2020 Q1</th>\n",
       "      <th>mean_price 2020 Q2</th>\n",
       "      <th>mean_price 2020 Q3</th>\n",
       "      <th>mean_price 2020 Q4</th>\n",
       "      <th>mean_price 2021 Q1</th>\n",
       "      <th>median_price 2020 Q1</th>\n",
       "      <th>median_price 2020 Q2</th>\n",
       "      <th>median_price 2020 Q3</th>\n",
       "      <th>median_price 2020 Q4</th>\n",
       "      <th>...</th>\n",
       "      <th>Rate 2020 Q1</th>\n",
       "      <th>Rate 2020 Q2</th>\n",
       "      <th>Rate 2020 Q3</th>\n",
       "      <th>Rate 2020 Q4</th>\n",
       "      <th>Rate 2021 Q1</th>\n",
       "      <th>constr_index 2020 Q1</th>\n",
       "      <th>constr_index 2020 Q2</th>\n",
       "      <th>constr_index 2020 Q3</th>\n",
       "      <th>constr_index 2020 Q4</th>\n",
       "      <th>constr_index 2021 Q1</th>\n",
       "    </tr>\n",
       "  </thead>\n",
       "  <tbody>\n",
       "    <tr>\n",
       "      <th>0</th>\n",
       "      <td>2000</td>\n",
       "      <td>1541.0</td>\n",
       "      <td>1322.0</td>\n",
       "      <td>1631.0</td>\n",
       "      <td>1379.0</td>\n",
       "      <td>2794.0</td>\n",
       "      <td>1225.0</td>\n",
       "      <td>1000.0</td>\n",
       "      <td>1390.0</td>\n",
       "      <td>1110.0</td>\n",
       "      <td>...</td>\n",
       "      <td>0.638889</td>\n",
       "      <td>0.25</td>\n",
       "      <td>0.25</td>\n",
       "      <td>0.15625</td>\n",
       "      <td>0.1</td>\n",
       "      <td>116.0</td>\n",
       "      <td>116.2</td>\n",
       "      <td>116.2</td>\n",
       "      <td>116.9</td>\n",
       "      <td>117.8</td>\n",
       "    </tr>\n",
       "  </tbody>\n",
       "</table>\n",
       "<p>1 rows × 77 columns</p>\n",
       "</div>"
      ],
      "text/plain": [
       "   postcode  mean_price 2020 Q1  mean_price 2020 Q2  mean_price 2020 Q3  \\\n",
       "0      2000              1541.0              1322.0              1631.0   \n",
       "\n",
       "   mean_price 2020 Q4  mean_price 2021 Q1  median_price 2020 Q1  \\\n",
       "0              1379.0              2794.0                1225.0   \n",
       "\n",
       "   median_price 2020 Q2  median_price 2020 Q3  median_price 2020 Q4  ...  \\\n",
       "0                1000.0                1390.0                1110.0  ...   \n",
       "\n",
       "   Rate 2020 Q1  Rate 2020 Q2  Rate 2020 Q3  Rate 2020 Q4  Rate 2021 Q1  \\\n",
       "0      0.638889          0.25          0.25       0.15625           0.1   \n",
       "\n",
       "   constr_index 2020 Q1  constr_index 2020 Q2  constr_index 2020 Q3  \\\n",
       "0                 116.0                 116.2                 116.2   \n",
       "\n",
       "   constr_index 2020 Q4  constr_index 2021 Q1  \n",
       "0                 116.9                 117.8  \n",
       "\n",
       "[1 rows x 77 columns]"
      ]
     },
     "execution_count": 59,
     "metadata": {},
     "output_type": "execute_result"
    }
   ],
   "source": [
    "unstacked_mg2 = unstacked_mg2.assign(**tp_dict)\n",
    "\n",
    "print(\"unstacked_mg2 shape:\", unstacked_mg2.shape)\n",
    "unstacked_mg2.head(1)"
   ]
  },
  {
   "cell_type": "code",
   "execution_count": 60,
   "id": "e286bdfa",
   "metadata": {},
   "outputs": [],
   "source": [
    "# Save as CSV\n",
    "unstacked_mg2.to_csv('Files/Cleaned/Postcode-based/Unstacked_Sales_Rent_5Quarters_Imputed_pcFeatures.csv', index=False)"
   ]
  }
 ],
 "metadata": {
  "kernelspec": {
   "display_name": "Python 3 (ipykernel)",
   "language": "python",
   "name": "python3"
  },
  "language_info": {
   "codemirror_mode": {
    "name": "ipython",
    "version": 3
   },
   "file_extension": ".py",
   "mimetype": "text/x-python",
   "name": "python",
   "nbconvert_exporter": "python",
   "pygments_lexer": "ipython3",
   "version": "3.8.11"
  },
  "toc": {
   "base_numbering": 1,
   "nav_menu": {},
   "number_sections": true,
   "sideBar": true,
   "skip_h1_title": false,
   "title_cell": "Table of Contents",
   "title_sidebar": "Contents",
   "toc_cell": true,
   "toc_position": {},
   "toc_section_display": true,
   "toc_window_display": false
  },
  "varInspector": {
   "cols": {
    "lenName": 16,
    "lenType": 16,
    "lenVar": 40
   },
   "kernels_config": {
    "python": {
     "delete_cmd_postfix": "",
     "delete_cmd_prefix": "del ",
     "library": "var_list.py",
     "varRefreshCmd": "print(var_dic_list())"
    },
    "r": {
     "delete_cmd_postfix": ") ",
     "delete_cmd_prefix": "rm(",
     "library": "var_list.r",
     "varRefreshCmd": "cat(var_dic_list()) "
    }
   },
   "oldHeight": 122.4,
   "position": {
    "height": "40px",
    "left": "1266.2px",
    "right": "20px",
    "top": "72px",
    "width": "250px"
   },
   "types_to_exclude": [
    "module",
    "function",
    "builtin_function_or_method",
    "instance",
    "_Feature"
   ],
   "varInspector_section_display": "none",
   "window_display": true
  }
 },
 "nbformat": 4,
 "nbformat_minor": 5
}
