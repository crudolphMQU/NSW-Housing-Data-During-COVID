{
 "cells": [
  {
   "cell_type": "markdown",
   "id": "0370e40d",
   "metadata": {
    "toc": true
   },
   "source": [
    "<h1>Table of Contents<span class=\"tocSkip\"></span></h1>\n",
    "<div class=\"toc\"><ul class=\"toc-item\"><li><ul class=\"toc-item\"><li><span><a href=\"#1.-Bond-Yields\" data-toc-modified-id=\"1.-Bond-Yields-0.1\"><span class=\"toc-item-num\">0.1&nbsp;&nbsp;</span>1. Bond Yields</a></span><ul class=\"toc-item\"><li><span><a href=\"#@all-target-df-to-be-defined\" data-toc-modified-id=\"@all-target-df-to-be-defined-0.1.1\"><span class=\"toc-item-num\">0.1.1&nbsp;&nbsp;</span>@all target df to be defined</a></span></li></ul></li><li><span><a href=\"#2.-Interest-Rate\" data-toc-modified-id=\"2.-Interest-Rate-0.2\"><span class=\"toc-item-num\">0.2&nbsp;&nbsp;</span>2. Interest Rate</a></span><ul class=\"toc-item\"><li><span><a href=\"#@all-target-df-do-be-defined\" data-toc-modified-id=\"@all-target-df-do-be-defined-0.2.1\"><span class=\"toc-item-num\">0.2.1&nbsp;&nbsp;</span>@all target df do be defined</a></span></li></ul></li><li><span><a href=\"#3.-Population-/-Age-bands\" data-toc-modified-id=\"3.-Population-/-Age-bands-0.3\"><span class=\"toc-item-num\">0.3&nbsp;&nbsp;</span>3. Population / Age bands</a></span><ul class=\"toc-item\"><li><span><a href=\"#Household-count\" data-toc-modified-id=\"Household-count-0.3.1\"><span class=\"toc-item-num\">0.3.1&nbsp;&nbsp;</span>Household count</a></span></li><li><span><a href=\"#Population-movement-in-5-year-period\" data-toc-modified-id=\"Population-movement-in-5-year-period-0.3.2\"><span class=\"toc-item-num\">0.3.2&nbsp;&nbsp;</span>Population movement in 5 year period</a></span></li><li><span><a href=\"#Population-Age\" data-toc-modified-id=\"Population-Age-0.3.3\"><span class=\"toc-item-num\">0.3.3&nbsp;&nbsp;</span>Population Age</a></span></li></ul></li><li><span><a href=\"#4.-Construction\" data-toc-modified-id=\"4.-Construction-0.4\"><span class=\"toc-item-num\">0.4&nbsp;&nbsp;</span>4. Construction</a></span></li><li><span><a href=\"#5.-Weekly-Income\" data-toc-modified-id=\"5.-Weekly-Income-0.5\"><span class=\"toc-item-num\">0.5&nbsp;&nbsp;</span>5. Weekly Income</a></span></li><li><span><a href=\"#6.-Household-size\" data-toc-modified-id=\"6.-Household-size-0.6\"><span class=\"toc-item-num\">0.6&nbsp;&nbsp;</span>6. Household size</a></span></li><li><span><a href=\"#7.-Additional-Feature-1\" data-toc-modified-id=\"7.-Additional-Feature-1-0.7\"><span class=\"toc-item-num\">0.7&nbsp;&nbsp;</span>7. Additional Feature 1</a></span></li><li><span><a href=\"#8.-Additional-Feature-2\" data-toc-modified-id=\"8.-Additional-Feature-2-0.8\"><span class=\"toc-item-num\">0.8&nbsp;&nbsp;</span>8. Additional Feature 2</a></span></li><li><span><a href=\"#9.-Additional-Feature-3\" data-toc-modified-id=\"9.-Additional-Feature-3-0.9\"><span class=\"toc-item-num\">0.9&nbsp;&nbsp;</span>9. Additional Feature 3</a></span></li></ul></li><li><span><a href=\"#USE-BELOW-CELL-TO-MERGE-FEATURES-INTO-THE-MASTER-DF,-IGNORE-FOR-NOW\" data-toc-modified-id=\"USE-BELOW-CELL-TO-MERGE-FEATURES-INTO-THE-MASTER-DF,-IGNORE-FOR-NOW-1\"><span class=\"toc-item-num\">1&nbsp;&nbsp;</span>USE BELOW CELL TO MERGE FEATURES INTO THE MASTER DF, IGNORE FOR NOW</a></span></li></ul></div>"
   ]
  },
  {
   "cell_type": "markdown",
   "id": "fd291885",
   "metadata": {},
   "source": [
    "**The objective of this notebook is to collate the codes for cleaning below data:**\n",
    "1. Bond yields\n",
    "2. Ineterest rate\n",
    "3. Population\n",
    "4. Construction\n",
    "5. Weekly income\n",
    "6. Household size\n",
    "\n",
    "**and merge all features into a complete feature set at the end.**"
   ]
  },
  {
   "cell_type": "code",
   "execution_count": null,
   "id": "c3d6420f",
   "metadata": {},
   "outputs": [],
   "source": [
    "import pandas as pd\n",
    "import numpy as np\n",
    "import datetime as dt\n",
    "import matplotlib.pyplot as plt\n",
    "import seaborn as sns"
   ]
  },
  {
   "cell_type": "markdown",
   "id": "6d6f0b7a",
   "metadata": {
    "heading_collapsed": true
   },
   "source": [
    "## I. Feature Cleaning\n",
    "\n",
    "### I-1. Bond Yields ###\n",
    "`yields_join`"
   ]
  },
  {
   "cell_type": "code",
   "execution_count": null,
   "id": "92c15159",
   "metadata": {
    "hidden": true
   },
   "outputs": [],
   "source": [
    "# read data in \n",
    "yields_data = \"Files/Bond Yields/f02hist.xls\"\n",
    "yields = pd.read_excel(yields_data, sheet_name='Data', usecols='A:B,E', header=None, skiprows=range(0,12))\n",
    "yields.columns = ['Date', '2yBonds%', '10yBonds%']\n",
    "yields.head()"
   ]
  },
  {
   "cell_type": "code",
   "execution_count": null,
   "id": "638f207a",
   "metadata": {
    "hidden": true
   },
   "outputs": [],
   "source": [
    "# split date column into year and month\n",
    "dates = pd.to_datetime(yields[\"Date\"])\n",
    "yields[\"Year\"] = dates.dt.year\n",
    "yields[\"Quarter\"] = dates.dt.quarter\n",
    "\n",
    "# set datetime as index\n",
    "yields.set_index('Date', inplace = True)"
   ]
  },
  {
   "cell_type": "code",
   "execution_count": null,
   "id": "8dd5a53d",
   "metadata": {
    "hidden": true
   },
   "outputs": [],
   "source": [
    "# create new column with average rate per quarter\n",
    "yields_quarter_rates = yields.resample('QS').mean()\n",
    "yields_quarter_rates.head(2)"
   ]
  },
  {
   "cell_type": "code",
   "execution_count": null,
   "id": "a2965075",
   "metadata": {
    "hidden": true
   },
   "outputs": [],
   "source": [
    "# convert year and quarter to int\n",
    "yields_quarter_rates[\"Year\"] = yields_quarter_rates[\"Year\"].astype(int)\n",
    "yields_quarter_rates[\"Quarter\"] = yields_quarter_rates[\"Quarter\"].astype(int)\n",
    "\n",
    "# create time period variable from 'Year' and 'Quarter'\n",
    "yields_quarter_rates[\"time_period\"] = yields_quarter_rates[\"Year\"].map(str) + \" Q\" + yields_quarter_rates[\"Quarter\"].map(str)\n",
    "\n",
    "# Drop 'Year' and Quarter \n",
    "yields_join = yields_quarter_rates[[\"time_period\", \"2yBonds%\", \"10yBonds%\"]] \n",
    "yields_join.head()"
   ]
  },
  {
   "cell_type": "markdown",
   "id": "65b928e1",
   "metadata": {},
   "source": [
    "The resulting cleaned bond yield df is **yields_join**.\n",
    "\n",
    "----"
   ]
  },
  {
   "cell_type": "markdown",
   "id": "d8397c88",
   "metadata": {
    "heading_collapsed": true
   },
   "source": [
    "### I-2. Interest Rate ###\n",
    "`rates_join`  "
   ]
  },
  {
   "cell_type": "code",
   "execution_count": null,
   "id": "1c2d1acd",
   "metadata": {
    "hidden": true
   },
   "outputs": [],
   "source": [
    "# read data in\n",
    "interest = \"Files/Interest Rates/f01d.xls\"\n",
    "interest = pd.read_excel(interest, sheet_name = \"Data\", usecols = \"A:B\", header = None, skiprows = range(0,12))\n",
    "interest.columns = ['Date', 'Rate']\n",
    "\n",
    "# get date time\n",
    "dates = pd.to_datetime(interest[\"Date\"])\n",
    "interest[\"Year\"] = dates.dt.year\n",
    "interest[\"Quarter\"] = dates.dt.quarter\n",
    "\n",
    "# set date as index\n",
    "interest.set_index('Date', inplace = True)\n",
    "\n",
    "\n",
    "# calculate average\n",
    "quarter_rates = interest.resample('QS').mean()\n",
    "\n",
    "# create new column with average rate per quarter\n",
    "quarter_rates[\"Year\"] = quarter_rates[\"Year\"].astype(int)\n",
    "quarter_rates[\"Quarter\"] = quarter_rates[\"Quarter\"].astype(int)\n",
    "\n",
    "# time period\n",
    "quarter_rates[\"time_period\"] = quarter_rates[\"Year\"].map(str) + \" Q\" + quarter_rates[\"Quarter\"].map(str)\n",
    "\n",
    "# remove Year and Quarter\n",
    "quarter_rates = quarter_rates[['Rate','time_period']]\n",
    "quarter_rates.head()"
   ]
  },
  {
   "cell_type": "code",
   "execution_count": null,
   "id": "81b533c4",
   "metadata": {
    "hidden": true
   },
   "outputs": [],
   "source": [
    "# read data in\n",
    "interest = \"Files/Interest Rates/f01d.xls\"\n",
    "\n",
    "interest = pd.read_excel(interest, sheet_name = \"Data\", usecols = \"A:B\", header = None, skiprows = range(0,12))\n",
    "interest.columns = ['Date', 'Rate']\n",
    "interest.head()"
   ]
  },
  {
   "cell_type": "code",
   "execution_count": null,
   "id": "7dba7227",
   "metadata": {
    "hidden": true
   },
   "outputs": [],
   "source": [
    "# check data types\n",
    "interest.dtypes"
   ]
  },
  {
   "cell_type": "code",
   "execution_count": null,
   "id": "c1b38218",
   "metadata": {
    "hidden": true
   },
   "outputs": [],
   "source": [
    "# split date column into year and month\n",
    "dates = pd.to_datetime(interest[\"Date\"])\n",
    "interest[\"Year\"] = dates.dt.year\n",
    "interest[\"Quarter\"] = dates.dt.quarter\n",
    "\n",
    "# set datetime as index\n",
    "interest.set_index('Date', inplace = True)"
   ]
  },
  {
   "cell_type": "code",
   "execution_count": null,
   "id": "aa23e369",
   "metadata": {
    "hidden": true
   },
   "outputs": [],
   "source": [
    "# create new column with average rate per quarter\n",
    "quarter_rates = interest.resample('QS').mean()\n",
    "quarter_rates.head(2)"
   ]
  },
  {
   "cell_type": "code",
   "execution_count": null,
   "id": "19b578a1",
   "metadata": {
    "hidden": true
   },
   "outputs": [],
   "source": [
    "# convert year and quarter to int\n",
    "quarter_rates[\"Year\"] = quarter_rates[\"Year\"].astype(int)\n",
    "quarter_rates[\"Quarter\"] = quarter_rates[\"Quarter\"].astype(int)\n",
    "\n",
    "# create time period variable for join from 'Year' and 'Quarter'\n",
    "quarter_rates[\"time_period\"] = quarter_rates[\"Year\"].map(str) + \" Q\" + quarter_rates[\"Quarter\"].map(str)\n",
    "quarter_rates.head()\n",
    "\n",
    "# Drop 'Year' and 'Quarter'\n",
    "rates_join = quarter_rates[[\"time_period\", \"Rate\"]]\n",
    "rates_join.head(2)"
   ]
  },
  {
   "cell_type": "markdown",
   "id": "364aa7a5",
   "metadata": {},
   "source": [
    "The resulting cleaned bond yield df is **rates_join**.\n",
    "\n",
    "----"
   ]
  },
  {
   "cell_type": "markdown",
   "id": "b96adb7c",
   "metadata": {
    "heading_collapsed": true
   },
   "source": [
    "### I-3. Construction  \n",
    "`df_cons_clean`"
   ]
  },
  {
   "cell_type": "code",
   "execution_count": null,
   "id": "043d6744",
   "metadata": {
    "hidden": true
   },
   "outputs": [],
   "source": [
    "# --read file, --rename columns\n",
    "construction_file = \"Files/Construction/Quarterly, Building construction prices rose, due to Homebuilder grants and government infrastructure investment.xlsx\"\n",
    "df_cons = pd.read_excel(construction_file,header=1,usecols=\"A:B\", skipfooter=2)\n",
    "df_cons.columns=['date','constr_index']\n",
    "\n",
    "# --convert to datetime\n",
    "df_cons['date'] = pd.to_datetime(df_cons['date'],format='%b-%y')\n",
    "\n",
    "# --get year and quarter, --concatenate as time_period format, --drop other columns\n",
    "df_cons['year'] = df_cons.date.dt.year\n",
    "df_cons['quarter'] = df_cons.date.dt.quarter\n",
    "df_cons['time_period'] = df_cons.year.map(str) + \" Q\" + df_cons.quarter.map(str)\n",
    "df_cons_clean = df_cons.drop(columns=['date','year','quarter'],axis=1)\n",
    "df_cons_clean.head()"
   ]
  },
  {
   "cell_type": "markdown",
   "id": "99c2bfc4",
   "metadata": {
    "heading_collapsed": true
   },
   "source": [
    "### I-4. Weekly Income\n",
    "`incp_gr`"
   ]
  },
  {
   "cell_type": "code",
   "execution_count": null,
   "id": "a481193d",
   "metadata": {
    "hidden": true
   },
   "outputs": [],
   "source": [
    "# Read data in to the raw da\n",
    "census_INCP = \"Files/Census/POA (UR) by INCP Toal Personal Income (Weekly).csv\"\n",
    "\n",
    "incp_raw = pd.read_csv(census_INCP, skiprows=9, nrows=11142,\n",
    "                       usecols=['POA (UR)', 'INCP Total Personal Income (weekly)', 'Count'])\n",
    "\n",
    "# Rename column for easier referencing\n",
    "incp_cols = {'POA (UR)':'postcode', 'INCP Total Personal Income (weekly)':'INCP_WK'}\n",
    "incp_raw.rename(columns=incp_cols, inplace=True)\n",
    "\n",
    "# Unstack\n",
    "incp = incp_raw.groupby(['postcode','INCP_WK'])['Count'].sum().unstack()\n",
    "\n",
    "# Remove the last row (grand total)\n",
    "incp = incp[:-1]\n",
    "\n",
    "incp.head(2)"
   ]
  },
  {
   "cell_type": "code",
   "execution_count": null,
   "id": "df7824a0",
   "metadata": {
    "hidden": true
   },
   "outputs": [],
   "source": [
    "# Remove 'NSW' in the index and cast postcode to int64\n",
    "incp.reset_index(inplace=True)\n",
    "incp['postcode'] = incp['postcode'].str.split(\",\").str.get(0)\n",
    "incp['postcode'] = incp['postcode'].astype('int64')\n",
    "incp = incp.set_index('postcode')"
   ]
  },
  {
   "cell_type": "code",
   "execution_count": null,
   "id": "d031e296",
   "metadata": {
    "hidden": true
   },
   "outputs": [],
   "source": [
    "# Clean column names\n",
    "income_cols= {'$1,000-$1,249 ($52,000-$64,999)' : '$1000-1249', \n",
    "            '$1,250-$1,499 ($65,000-$77,999)' : '$1250-1499',\n",
    "            '$1,500-$1,749 ($78,000-$90,999)' : '$1500-1749 ', \n",
    "            '$1,750-$1,999 ($91,000-$103,999)': '$1750-1999',\n",
    "            '$1-$149 ($1-$7,799)': '$1-149', \n",
    "            '$150-$299 ($7,800-$15,599)' : '$150-299',\n",
    "            '$2,000-$2,999 ($104,000-$155,999)':'$2000-2999',\n",
    "            '$3,000 or more ($156,000 or more)':'>=$3000', \n",
    "            '$300-$399 ($15,600-$20,799)':'$300-399',\n",
    "            '$400-$499 ($20,800-$25,999)':'$400-499', \n",
    "            '$500-$649 ($26,000-$33,799)':'$500-649',\n",
    "            '$650-$799 ($33,800-$41,599)':'$650-799', \n",
    "            '$800-$999 ($41,600-$51,999)':'$800-999'}\n",
    "incp.rename(columns=income_cols, inplace=True)\n",
    "\n",
    "# Combine 'not applicable' and 'not stated' into 'total_na'\n",
    "incp['total_na'] = incp['Not applicable'] + incp['Not stated']\n",
    "\n",
    "# Drop the 'Total column'\n",
    "incp = incp.drop(columns=['Not applicable', 'Not stated', 'Total'], axis=1)\n",
    "\n",
    "# Reorder columns\n",
    "cols = incp.columns.tolist()\n",
    "cols = ['$1-149','$150-299','$300-399','$400-499','$500-649','$650-799',\n",
    "        '$800-999','$1000-1249','$1250-1499','$1500-1749 ',\n",
    "        '$1750-1999','$2000-2999','>=$3000',\n",
    "        'Negative income','Nil income','total_na']\n",
    "incp=incp[cols]\n",
    "\n",
    "incp.head(1)"
   ]
  },
  {
   "cell_type": "code",
   "execution_count": null,
   "id": "5c8b70e4",
   "metadata": {
    "hidden": true
   },
   "outputs": [],
   "source": [
    "# Create income buckets and save into incp_gr\n",
    "incp['INCP_LOW'] = incp.iloc[:, 0:6].sum(axis=1)\n",
    "incp['INCP_MID'] = incp.iloc[:, 6:10].sum(axis=1)\n",
    "incp['INCP_HIGH'] = incp.iloc[:, 10:13].sum(axis=1)\n",
    "incp['INCP_NEG_NIL'] = incp.iloc[:, 13:15].sum(axis=1)\n",
    "incp_gr = incp[['INCP_LOW', 'INCP_MID', 'INCP_HIGH', 'INCP_NEG_NIL']]\n",
    "\n",
    "# Reset index\n",
    "incp_gr.reset_index(inplace=True)\n",
    "\n",
    "incp_gr.head(1)"
   ]
  },
  {
   "cell_type": "code",
   "execution_count": null,
   "id": "54d8861f",
   "metadata": {},
   "outputs": [],
   "source": [
    "incp.iloc[:, 10:13]"
   ]
  },
  {
   "cell_type": "markdown",
   "id": "139c6b93",
   "metadata": {
    "hidden": true
   },
   "source": [
    "*The resulting cleanead df is <b>incp_gr</b>*\n",
    "\n",
    "----"
   ]
  },
  {
   "cell_type": "markdown",
   "id": "f3461965",
   "metadata": {
    "heading_collapsed": true
   },
   "source": [
    "### I-5. Household size\n",
    "`cprf`"
   ]
  },
  {
   "cell_type": "code",
   "execution_count": null,
   "id": "cc14dc65",
   "metadata": {
    "hidden": true
   },
   "outputs": [],
   "source": [
    "# Read data\n",
    "census_cprf = \"Files/Census/POA by CPRF Count of Persons in Family by STATE.xlsx\"\n",
    "cprf = pd.read_excel(census_cprf, sheet_name=\"Data Sheet 0\", skiprows=9, nrows=619)\n",
    "\n",
    "# Remove redundant rows and columns \n",
    "cprf = cprf[1:] #remove the first row\n",
    "cprf = cprf.drop(columns='CPRF Count of Persons in Family') # remove the first column\n",
    "\n",
    "# Rename columns\n",
    "cprf_cols= {'Unnamed: 1' : 'postcode', \n",
    "            'Two persons in family' : 'CPRF_2',\n",
    "            'Three persons in family' : 'CPRF_3', \n",
    "            'Four persons in family': 'CPRF_4',\n",
    "            'Five persons in family': 'CPRF_5', \n",
    "            'Six or more persons in family' : 'CPRF_6+',\n",
    "            'Not applicable':'CPRF_na',\n",
    "            'Total' :'CPRF_HHOLD_NO'}\n",
    "cprf.rename(columns=cprf_cols, inplace=True)\n",
    "\n",
    "cprf.head(1)"
   ]
  },
  {
   "cell_type": "code",
   "execution_count": null,
   "id": "6ace078e",
   "metadata": {
    "hidden": true
   },
   "outputs": [],
   "source": [
    "# Remove 'NSW' in the index and cast postcode to int64\n",
    "cprf.reset_index(inplace=True)\n",
    "cprf['postcode'] = cprf['postcode'].str.split(\",\").str.get(0)\n",
    "cprf['postcode'] = cprf['postcode'].astype('int64')\n",
    "cprf = cprf.set_index('postcode')\n",
    "cprf = cprf.drop(columns='index', axis=1)"
   ]
  },
  {
   "cell_type": "code",
   "execution_count": null,
   "id": "e97c287f",
   "metadata": {
    "hidden": true
   },
   "outputs": [],
   "source": [
    "# Reset index for merging\n",
    "cprf.reset_index(inplace=True)\n",
    "cprf.head(1)"
   ]
  },
  {
   "cell_type": "markdown",
   "id": "c794ea1e",
   "metadata": {
    "hidden": true
   },
   "source": [
    "*The resulting cleanead df is <b>cprf</b>*\n",
    "\n",
    "----"
   ]
  },
  {
   "cell_type": "markdown",
   "id": "10850f65",
   "metadata": {},
   "source": [
    "### I-7 Population by Age\n",
    "`age_gr`"
   ]
  },
  {
   "cell_type": "code",
   "execution_count": null,
   "id": "97dfad37",
   "metadata": {},
   "outputs": [],
   "source": [
    "census_age5p = \"Files/Census/POA (UR) by AGE5P - Age in Five Year Groups.xlsx\"\n",
    "age = pd.read_excel(census_age5p, sheet_name=\"Data Sheet 0\", skiprows=8, nrows=619)\n",
    "\n",
    "# Remove redundant rows and columns \n",
    "age = age[1:] #remove the first row\n",
    "age = age.drop(columns='AGE5P - Age in Five Year Groups') # remove the first column\n",
    "\n",
    "# Rename columns\n",
    "age.rename(columns={\"Unnamed: 1\":\"postcode\"}, inplace=True)\n",
    "\n",
    "age.head(1)"
   ]
  },
  {
   "cell_type": "code",
   "execution_count": null,
   "id": "7bb19c92",
   "metadata": {},
   "outputs": [],
   "source": [
    "# Remove 'NSW' in the index and cast postcode to int64\n",
    "age.reset_index(inplace=True)\n",
    "age['postcode'] = age['postcode'].str.split(\",\").str.get(0)\n",
    "age['postcode'] = age['postcode'].astype('int64')\n",
    "age = age.set_index('postcode')\n",
    "age = age.drop(columns='index', axis=1)"
   ]
  },
  {
   "cell_type": "code",
   "execution_count": null,
   "id": "b66782ed",
   "metadata": {},
   "outputs": [],
   "source": [
    "# Create age brackets \n",
    "\n",
    "age['0-4yo'] = age.iloc[:, 0:1].sum(axis=1)\n",
    "age['5-14yo'] = age.iloc[:, 1:3].sum(axis=1)\n",
    "age['15-24yo'] = age.iloc[:, 3:5].sum(axis=1)\n",
    "age['25-34yo'] = age.iloc[:, 5:7].sum(axis=1)\n",
    "age['35-54yo'] = age.iloc[:, 7:11].sum(axis=1)\n",
    "age['55-64yo'] = age.iloc[:, 11:13].sum(axis=1)\n",
    "age['65+yo'] = age.iloc[:, 13:21].sum(axis=1)\n",
    "age['population_2016']=age.iloc[:, 21:22]\n",
    "\n",
    "age_gr = age[['0-4yo', '5-14yo', '15-24yo', '25-34yo', '35-54yo', '55-64yo','65+yo', 'population_2016']]"
   ]
  },
  {
   "cell_type": "code",
   "execution_count": null,
   "id": "d9ca4134",
   "metadata": {},
   "outputs": [],
   "source": [
    "# Reset index for merging\n",
    "age_gr.reset_index(inplace=True)\n",
    "age_gr.head(1)"
   ]
  },
  {
   "cell_type": "markdown",
   "id": "5f2f37c1",
   "metadata": {},
   "source": [
    "### I-8 Cultural Diversity\n",
    "`cald`"
   ]
  },
  {
   "cell_type": "markdown",
   "id": "95127ad7",
   "metadata": {},
   "source": [
    "#### I-8-1 Australian Citizenship\n",
    "`citp`"
   ]
  },
  {
   "cell_type": "code",
   "execution_count": null,
   "id": "bbbae8b3",
   "metadata": {},
   "outputs": [],
   "source": [
    "census_citp = \"Files/Census/POA (UR) by CITP Australian Citizenship by STATE (UR).xlsx\"\n",
    "citp = pd.read_excel(census_citp, sheet_name=\"Data Sheet 0\", skiprows=9, nrows=619)\n",
    "\n",
    "\n",
    "# Remove redundant rows and columns \n",
    "citp = citp[1:] #remove the first row\n",
    "citp = citp.drop(columns='CITP Australian Citizenship') # remove the first column\n",
    "\n",
    "\n",
    "# Rename columns\n",
    "citp.rename(columns={\"Unnamed: 1\":\"postcode\",\n",
    "                    \"Australian\":\"citizen_AU\",\n",
    "                     \"Not Australian\":\"citizen_non_AU\"}, inplace=True)\n",
    "\n",
    "# Remove 'not stated' and total\n",
    "citp = citp.drop(columns=[\"Not stated\",'Total'])\n",
    "citp.tail(1)"
   ]
  },
  {
   "cell_type": "markdown",
   "id": "876323d5",
   "metadata": {},
   "source": [
    "#### I-8-2 Indigenous Status\n",
    "`ing`"
   ]
  },
  {
   "cell_type": "code",
   "execution_count": null,
   "id": "628b2f00",
   "metadata": {},
   "outputs": [],
   "source": [
    "census_ing = \"Files/census/POA (UR) by INGP Indigenous Status by STATE (UR).xlsx\"\n",
    "ing = pd.read_excel(census_ing, sheet_name=\"Data Sheet 0\", skiprows=9, nrows=619)\n",
    "\n",
    "# Remove redundant rows and columns \n",
    "ing = ing[1:] #remove the first row\n",
    "ing = ing.drop(columns=['INGP Indigenous Status',\"Non-Indigenous\",\"Not stated\", \"Total\"])\n",
    "\n",
    "# Rename columns\n",
    "ing.rename(columns={\"Unnamed: 1\":\"postcode\"}, inplace=True)\n",
    "\n",
    "ing.head(1)"
   ]
  },
  {
   "cell_type": "code",
   "execution_count": null,
   "id": "752765f1",
   "metadata": {},
   "outputs": [],
   "source": [
    "# Create a total column for all aboriginal and Torres Strait Islanders\n",
    "cols = ['Aboriginal', 'Torres Strait Islander','Both Aboriginal and Torres Strait Islander']\n",
    "ing['ATSI']=ing.loc[:,cols].sum(axis=1)\n",
    "\n",
    "# Drop cols\n",
    "ing = ing[['postcode', 'ATSI']]\n",
    "\n",
    "ing.head()"
   ]
  },
  {
   "cell_type": "markdown",
   "id": "35197eff",
   "metadata": {},
   "source": [
    "#### I-8-3 Year of Arrival in Australia\n",
    "`yarrp_gr`"
   ]
  },
  {
   "cell_type": "code",
   "execution_count": null,
   "id": "d9a2d9ea",
   "metadata": {},
   "outputs": [],
   "source": [
    "census_yarrp = \"Files/census/POA (UR) by YARRP Year of Arrival in Australia.xlsx\"\n",
    "yarrp = pd.read_excel(census_yarrp, sheet_name=\"Data Sheet 0\", skiprows=8, nrows=619)\n",
    "\n",
    "# Remove redundant rows and columns \n",
    "yarrp = yarrp[1:] #remove the first row\n",
    "yarrp = yarrp.drop(columns=['YARRP Year of Arrival in Australia (ranges)',\n",
    "                        \"Not stated\", \"Not applicable\", \"Total\"])\n",
    "\n",
    "# Rename columns\n",
    "yarrp.rename(columns={\"Unnamed: 1\":\"postcode\",\"Arrived 1996-2005\":\"YARRP 1996-2005\"}, inplace=True)\n",
    "\n",
    "yarrp.head(1)"
   ]
  },
  {
   "cell_type": "code",
   "execution_count": null,
   "id": "4759dfee",
   "metadata": {},
   "outputs": [],
   "source": [
    "# Create age brackets \n",
    "\n",
    "yarrp['YARRP <1975'] = yarrp.iloc[:, 1:5].sum(axis=1)\n",
    "yarrp['YARRP 1976-1995'] = yarrp.iloc[:, 5:7].sum(axis=1)\n",
    "yarrp['YARRP 2006-2016'] = yarrp.iloc[:, 8:10].sum(axis=1)\n",
    "\n",
    "yarrp_gr = yarrp[['postcode','YARRP <1975', 'YARRP 1976-1995', 'YARRP 1996-2005', 'YARRP 2006-2016']]\n",
    "yarrp_gr.head(1)"
   ]
  },
  {
   "cell_type": "markdown",
   "id": "58bf0372",
   "metadata": {},
   "source": [
    "Now join the three DFs together:"
   ]
  },
  {
   "cell_type": "code",
   "execution_count": null,
   "id": "c1b9c3d0",
   "metadata": {},
   "outputs": [],
   "source": [
    "cald = citp.merge(yarrp_gr, left_on='postcode',right_on='postcode')\n",
    "cald = cald.merge(ing, left_on='postcode',right_on='postcode')"
   ]
  },
  {
   "cell_type": "code",
   "execution_count": null,
   "id": "1e180a0b",
   "metadata": {},
   "outputs": [],
   "source": [
    "# Remove 'NSW' in the index and cast postcode to int64\n",
    "cald.reset_index(inplace=True)\n",
    "cald['postcode'] = cald['postcode'].str.split(\",\").str.get(0)\n",
    "cald['postcode'] = cald['postcode'].astype('int64')\n",
    "cald = cald.set_index('postcode')\n",
    "cald = cald.drop(columns='index', axis=1)\n",
    "\n",
    "# Reset index for merging\n",
    "cald.reset_index(inplace=True)\n",
    "cald.head(1)"
   ]
  },
  {
   "cell_type": "markdown",
   "id": "8881bf31",
   "metadata": {},
   "source": [
    "----\n",
    "\n",
    "## III. Group Features into Two DataFrames\n",
    "\n",
    "\n",
    "1. Cross-section features using <u>postcodes</u> as key: taken from the 2016 census, `incp_gr` (weekly income), `cprf` (household size). These features will be merged into **`features_postcode`**, and then be merged into the master data\n",
    "\n",
    "\n",
    "2. Time-series features: ranging from 2011-2021, use <u>time period</u> as key (`yields_join` (bond yields), `rates_join` (interest rates), `df_cons_clean` (construction activities). These features will be merged into **`features_timePeriod`**\n",
    "\n",
    "help with *merge()* https://pandas.pydata.org/pandas-docs/stable/user_guide/merging.html"
   ]
  },
  {
   "cell_type": "markdown",
   "id": "66505b4d",
   "metadata": {
    "heading_collapsed": true
   },
   "source": [
    "### III-2 `features_postcode`\n",
    "\n",
    "Merge:\n",
    "* `incp_gr` weekly income\n",
    "* `cprf` household size)\n",
    "* `age_gr`population by age group\n",
    "* `cald` AU citizenship, year of arrival in AUS, and Indigenous status"
   ]
  },
  {
   "cell_type": "code",
   "execution_count": null,
   "id": "abe76fa4",
   "metadata": {
    "hidden": true
   },
   "outputs": [],
   "source": [
    "print(\"number of postcodes in incp:\", len(set(incp_gr['postcode'])))\n",
    "print(\"number of postcodes in cprf:\", len(set(cprf['postcode'])))\n",
    "print(\"number of postcodes in age_gr:\", len(set(age_gr['postcode'])))\n",
    "print(\"number of postcodes in cald:\", len(set(cald['postcode'])))"
   ]
  },
  {
   "cell_type": "code",
   "execution_count": null,
   "id": "c754f75c",
   "metadata": {
    "hidden": true
   },
   "outputs": [],
   "source": [
    "# merging\n",
    "features_postcode = pd.merge(incp_gr, cprf, on='postcode')\n",
    "features_postcode = pd.merge(features_postcode, age_gr, on='postcode')\n",
    "features_postcode = pd.merge(features_postcode, cald, on='postcode')"
   ]
  },
  {
   "cell_type": "code",
   "execution_count": null,
   "id": "a67b0b41",
   "metadata": {
    "hidden": true
   },
   "outputs": [],
   "source": [
    "print(\"Number of postcodes in features_postcode:\",len(set(features_postcode['postcode'])))\n",
    "features_postcode.head()"
   ]
  },
  {
   "cell_type": "code",
   "execution_count": null,
   "id": "88edda3b",
   "metadata": {},
   "outputs": [],
   "source": [
    "features_postcode.to_csv(\"Files/Cleaned/Features/Features_postcode_demo_census2016.csv\")"
   ]
  },
  {
   "cell_type": "markdown",
   "id": "390b0537",
   "metadata": {
    "heading_collapsed": true
   },
   "source": [
    "### III-3 `features_timePeriod`\n",
    "Merge`yields_join` (bond yields), `rates_join` (interest rates), `df_cons_clean` (construction activities)"
   ]
  },
  {
   "cell_type": "code",
   "execution_count": null,
   "id": "6bc30a92",
   "metadata": {},
   "outputs": [],
   "source": [
    "print(\"number of time period in bond yields:\", len(set(yields_join['time_period'])))\n",
    "print(\"number of time period in interest rates:\", len(set(rates_join['time_period'])))\n",
    "print(\"number of time period in construction:\", len(set(df_cons_clean['time_period'])))"
   ]
  },
  {
   "cell_type": "markdown",
   "id": "7240cd1a",
   "metadata": {},
   "source": [
    "We'll only keep the shared time periods in the three dataframes."
   ]
  },
  {
   "cell_type": "code",
   "execution_count": null,
   "id": "32d1e27c",
   "metadata": {
    "hidden": true
   },
   "outputs": [],
   "source": [
    "# Merge\n",
    "features_timePeriod = pd.merge(yields_join, df_cons_clean, on='time_period')\n",
    "features_timePeriod = pd.merge(features_timePeriod, rates_join, on='time_period')\n",
    "features_timePeriod.head()"
   ]
  },
  {
   "cell_type": "code",
   "execution_count": null,
   "id": "5233893c",
   "metadata": {
    "hidden": true
   },
   "outputs": [],
   "source": [
    "# Check the number of time period after merge\n",
    "len(set(features_timePeriod['time_period']))"
   ]
  },
  {
   "cell_type": "code",
   "execution_count": null,
   "id": "fef8317c",
   "metadata": {},
   "outputs": [],
   "source": [
    "features_timePeriod['time_period'].unique()"
   ]
  },
  {
   "cell_type": "markdown",
   "id": "96bb6ab3",
   "metadata": {
    "hidden": true
   },
   "source": [
    "Even though we started with more time periods and end up with less, this is sufficient to cover the time periods in the housing data we're interested in.\n",
    "\n",
    "*Note: It is possible to do the above in a single line of code, though for clarity, I've left it like this. As seen in https://stackoverflow.com/questions/23668427/pandas-three-way-joining-multiple-dataframes-on-columns*"
   ]
  },
  {
   "cell_type": "markdown",
   "id": "23348400",
   "metadata": {},
   "source": [
    "## IV Merge Features into the Master Housing Data (Stacked)\n",
    "`master_mg1`"
   ]
  },
  {
   "cell_type": "markdown",
   "id": "ae344a96",
   "metadata": {
    "heading_collapsed": true
   },
   "source": [
    "### IV-1 `features_postcode`$\\xrightarrow{merge}$ master"
   ]
  },
  {
   "cell_type": "code",
   "execution_count": null,
   "id": "b1741c3b",
   "metadata": {},
   "outputs": [],
   "source": [
    "# Import Master Housing DF\n",
    "\n",
    "master = pd.read_csv(\"Files/Cleaned/Housing/Master_Sales_Rent_2017Q4_2021Q1.csv\")\n",
    "print(master.shape)\n",
    "master.head(1)"
   ]
  },
  {
   "cell_type": "code",
   "execution_count": null,
   "id": "af3520dc",
   "metadata": {},
   "outputs": [],
   "source": [
    "print(\"Number of unique postcodes in features_postcode:\", \n",
    "      features_postcode['postcode'].nunique())\n",
    "print(\"Number of unique postcodes in the housing data\", \n",
    "      master['postcode'].nunique())"
   ]
  },
  {
   "cell_type": "code",
   "execution_count": null,
   "id": "52ac9af9",
   "metadata": {
    "hidden": true
   },
   "outputs": [],
   "source": [
    "master_mg1 = master.merge(features_postcode, left_on='postcode', right_on='postcode')\n",
    "master_mg1.head(1)"
   ]
  },
  {
   "cell_type": "code",
   "execution_count": null,
   "id": "a4dbb87c",
   "metadata": {},
   "outputs": [],
   "source": [
    "print(\"master_merge1 shape:\", master_mg1.shape)\n",
    "print(\"Number of unique postcodes in master_merge1:\", master_mg1['postcode'].nunique())"
   ]
  },
  {
   "cell_type": "markdown",
   "id": "5e27546a",
   "metadata": {
    "heading_collapsed": true
   },
   "source": [
    "### IV-3 `features_timePeriod`$\\xrightarrow{merge}$ master"
   ]
  },
  {
   "cell_type": "code",
   "execution_count": null,
   "id": "4fde4384",
   "metadata": {},
   "outputs": [],
   "source": [
    "features_timePeriod.head()"
   ]
  },
  {
   "cell_type": "code",
   "execution_count": null,
   "id": "e9f05187",
   "metadata": {
    "hidden": true
   },
   "outputs": [],
   "source": [
    "master_mg1 = master_mg1.merge(features_timePeriod, \n",
    "                              left_on='time_period', right_on='time_period')\n",
    "master_mg1.head(1)"
   ]
  },
  {
   "cell_type": "code",
   "execution_count": null,
   "id": "c09e1a27",
   "metadata": {
    "hidden": true
   },
   "outputs": [],
   "source": [
    "print(\"master_merge1 shape:\", master_mg1.shape)\n",
    "print(\"Time periods in master_merge1:\\n\", master_mg1.time_period.unique())"
   ]
  },
  {
   "cell_type": "markdown",
   "id": "f7658791",
   "metadata": {
    "hidden": true
   },
   "source": [
    "Saving as CSV"
   ]
  },
  {
   "cell_type": "code",
   "execution_count": null,
   "id": "487f7c12",
   "metadata": {
    "hidden": true
   },
   "outputs": [],
   "source": [
    "master_mg1.to_csv('Files/Cleaned/Postcode-based/Master_Sales_Rent_2017Q4_2021Q1_pcFeatures.csv', index=False)"
   ]
  },
  {
   "cell_type": "code",
   "execution_count": null,
   "id": "8cc0d761",
   "metadata": {},
   "outputs": [],
   "source": [
    "master_mg1.head(1)"
   ]
  },
  {
   "cell_type": "markdown",
   "id": "0f2fef43",
   "metadata": {},
   "source": [
    "## VI Merge Features into the Master Housing Data (Unstacked Ver2)\n",
    "**`unstacked_mg2`**"
   ]
  },
  {
   "cell_type": "code",
   "execution_count": null,
   "id": "f43beb9c",
   "metadata": {},
   "outputs": [],
   "source": [
    "# Import unstacked Housing df2\n",
    "\n",
    "unstacked2 = pd.read_csv(\"Files/Cleaned/Housing/Pivot_Sales_Rent_5Quarters_Imputed.csv\")\n",
    "print(\"Unstacked2 shape:\", unstacked2.shape)\n",
    "print(\"Number of postcodes in unstacked2:\", unstacked2['postcode'].nunique())\n",
    "unstacked2.head(1)"
   ]
  },
  {
   "cell_type": "markdown",
   "id": "0e85edd1",
   "metadata": {},
   "source": [
    "**`features_postcodes` $\\xrightarrow{merge}$ unstacked2**"
   ]
  },
  {
   "cell_type": "code",
   "execution_count": null,
   "id": "9ce1791c",
   "metadata": {},
   "outputs": [],
   "source": [
    "# Merge features_postcode in\n",
    "unstacked_mg2= unstacked2.merge(features_postcode, left_on='postcode', right_on='postcode')\n",
    "print(\"unstacked_mg2 shape:\", unstacked_mg2.shape)\n",
    "print(\"Number of postcodes in the unstacked_mg2:\", unstacked_mg2['postcode'].nunique())"
   ]
  },
  {
   "cell_type": "markdown",
   "id": "ee5de864",
   "metadata": {},
   "source": [
    "Again we lost 4 postcodes this time after merging."
   ]
  },
  {
   "cell_type": "markdown",
   "id": "83900522",
   "metadata": {},
   "source": [
    "**`features_timePeriods` $\\xrightarrow{merge}$ master**"
   ]
  },
  {
   "cell_type": "code",
   "execution_count": null,
   "id": "ec1977dc",
   "metadata": {},
   "outputs": [],
   "source": [
    "# Filter out relevant time periods (Q1 2020 - Q1 2021)\n",
    "\n",
    "TP = ['2020 Q1','2020 Q2','2020 Q3','2020 Q4','2021 Q1']\n",
    "features_timePeriod = features_timePeriod.loc[features_timePeriod.time_period.isin(TP)]\n",
    "features_timePeriod"
   ]
  },
  {
   "cell_type": "code",
   "execution_count": null,
   "id": "66a9a88c",
   "metadata": {},
   "outputs": [],
   "source": [
    "# Flat the features DF\n",
    "features_TP_pvt = pd.pivot_table(features_timePeriod, \n",
    "                                 index=features_timePeriod.index,\n",
    "                                 columns='time_period',\n",
    "                                 values=['2yBonds%', '10yBonds%', 'constr_index', 'Rate'])\n",
    "\n",
    "features_TP_pvt.columns = [' '.join(col) for col in features_TP_pvt.columns]\n",
    "features_TP_pvt = features_TP_pvt.append(features_TP_pvt.sum(numeric_only=True), ignore_index=True)\n",
    "features_TP_pvt = features_TP_pvt.iloc[[-1]]\n",
    "features_TP_pvt.reset_index(inplace=True)\n",
    "features_TP_pvt = features_TP_pvt.drop(columns='index', axis=1)\n",
    "features_TP_pvt.round(2)\n",
    "\n",
    "features_TP_pvt"
   ]
  },
  {
   "cell_type": "code",
   "execution_count": null,
   "id": "5720f49e",
   "metadata": {},
   "outputs": [],
   "source": [
    "# Convert the one-row DF into a dictionary \n",
    "tp_dict = features_TP_pvt.to_dict(\"record\")[0]\n",
    "type(tp_dict)\n"
   ]
  },
  {
   "cell_type": "code",
   "execution_count": null,
   "id": "c3b28bff",
   "metadata": {},
   "outputs": [],
   "source": [
    "unstacked_mg2 = unstacked_mg2.assign(**tp_dict)\n",
    "\n",
    "print(\"unstacked_mg2 shape:\", unstacked_mg2.shape)\n",
    "unstacked_mg2.head(1)"
   ]
  },
  {
   "cell_type": "code",
   "execution_count": null,
   "id": "e286bdfa",
   "metadata": {},
   "outputs": [],
   "source": [
    "# Save as CSV\n",
    "unstacked_mg2.to_csv('Files/Cleaned/Postcode-based/Unstacked_Sales_Rent_5Quarters_Imputed_pcFeatures.csv', index=False)"
   ]
  }
 ],
 "metadata": {
  "kernelspec": {
   "display_name": "Python 3",
   "language": "python",
   "name": "python3"
  },
  "language_info": {
   "codemirror_mode": {
    "name": "ipython",
    "version": 3
   },
   "file_extension": ".py",
   "mimetype": "text/x-python",
   "name": "python",
   "nbconvert_exporter": "python",
   "pygments_lexer": "ipython3",
   "version": "3.8.8"
  },
  "toc": {
   "base_numbering": 1,
   "nav_menu": {},
   "number_sections": true,
   "sideBar": true,
   "skip_h1_title": false,
   "title_cell": "Table of Contents",
   "title_sidebar": "Contents",
   "toc_cell": true,
   "toc_position": {},
   "toc_section_display": true,
   "toc_window_display": false
  },
  "varInspector": {
   "cols": {
    "lenName": 16,
    "lenType": 16,
    "lenVar": 40
   },
   "kernels_config": {
    "python": {
     "delete_cmd_postfix": "",
     "delete_cmd_prefix": "del ",
     "library": "var_list.py",
     "varRefreshCmd": "print(var_dic_list())"
    },
    "r": {
     "delete_cmd_postfix": ") ",
     "delete_cmd_prefix": "rm(",
     "library": "var_list.r",
     "varRefreshCmd": "cat(var_dic_list()) "
    }
   },
   "oldHeight": 122.4,
   "position": {
    "height": "40px",
    "left": "1266.2px",
    "right": "20px",
    "top": "72px",
    "width": "250px"
   },
   "types_to_exclude": [
    "module",
    "function",
    "builtin_function_or_method",
    "instance",
    "_Feature"
   ],
   "varInspector_section_display": "none",
   "window_display": true
  }
 },
 "nbformat": 4,
 "nbformat_minor": 5
}
