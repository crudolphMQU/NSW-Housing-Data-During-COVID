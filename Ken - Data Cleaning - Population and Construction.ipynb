{
 "cells": [
  {
   "cell_type": "code",
   "execution_count": 19,
   "id": "89ca241a",
   "metadata": {},
   "outputs": [],
   "source": [
    "import pandas as pd\n",
    "import datetime as dt"
   ]
  },
  {
   "cell_type": "markdown",
   "id": "1afd0ed5",
   "metadata": {},
   "source": [
    "# Construction cost index"
   ]
  },
  {
   "cell_type": "code",
   "execution_count": 48,
   "id": "14c76b94",
   "metadata": {},
   "outputs": [],
   "source": [
    "construction_file = \"Files/Construction/Quarterly, Building construction prices rose, due to Homebuilder grants and government infrastructure investment.xlsx\"\n",
    "df_cons = pd.read_excel(construction_file,header=1,usecols=\"A:B\", skipfooter=2)\n",
    "df_cons.columns=['date','constr_index']"
   ]
  },
  {
   "cell_type": "code",
   "execution_count": 51,
   "id": "e4f409dd",
   "metadata": {},
   "outputs": [
    {
     "data": {
      "text/html": [
       "<div>\n",
       "<style scoped>\n",
       "    .dataframe tbody tr th:only-of-type {\n",
       "        vertical-align: middle;\n",
       "    }\n",
       "\n",
       "    .dataframe tbody tr th {\n",
       "        vertical-align: top;\n",
       "    }\n",
       "\n",
       "    .dataframe thead th {\n",
       "        text-align: right;\n",
       "    }\n",
       "</style>\n",
       "<table border=\"1\" class=\"dataframe\">\n",
       "  <thead>\n",
       "    <tr style=\"text-align: right;\">\n",
       "      <th></th>\n",
       "      <th>constr_index</th>\n",
       "      <th>time_period</th>\n",
       "    </tr>\n",
       "  </thead>\n",
       "  <tbody>\n",
       "    <tr>\n",
       "      <th>0</th>\n",
       "      <td>100.1</td>\n",
       "      <td>2012 Q2</td>\n",
       "    </tr>\n",
       "    <tr>\n",
       "      <th>1</th>\n",
       "      <td>100.3</td>\n",
       "      <td>2012 Q3</td>\n",
       "    </tr>\n",
       "    <tr>\n",
       "      <th>2</th>\n",
       "      <td>100.2</td>\n",
       "      <td>2012 Q4</td>\n",
       "    </tr>\n",
       "    <tr>\n",
       "      <th>3</th>\n",
       "      <td>101.0</td>\n",
       "      <td>2013 Q1</td>\n",
       "    </tr>\n",
       "    <tr>\n",
       "      <th>4</th>\n",
       "      <td>101.6</td>\n",
       "      <td>2013 Q2</td>\n",
       "    </tr>\n",
       "  </tbody>\n",
       "</table>\n",
       "</div>"
      ],
      "text/plain": [
       "   constr_index time_period\n",
       "0         100.1     2012 Q2\n",
       "1         100.3     2012 Q3\n",
       "2         100.2     2012 Q4\n",
       "3         101.0     2013 Q1\n",
       "4         101.6     2013 Q2"
      ]
     },
     "execution_count": 51,
     "metadata": {},
     "output_type": "execute_result"
    }
   ],
   "source": [
    "# --convert to datetime\n",
    "df_cons['date'] = pd.to_datetime(df_cons['date'],format='%b-%y')\n",
    "\n",
    "# --get year and quarter, --concatenate as time_period format, --drop other columns\n",
    "df_cons['year'] = df_cons.date.dt.year\n",
    "df_cons['quarter'] = df_cons.date.dt.quarter\n",
    "df_cons['time_period'] = df_cons.year.map(str) + \" Q\" + df_cons.quarter.map(str)\n",
    "df_cons_clean = df_cons.drop(columns=['date','year','quarter'],axis=1)\n",
    "df_cons_clean.head()"
   ]
  },
  {
   "cell_type": "markdown",
   "id": "7ef582aa",
   "metadata": {},
   "source": [
    "### Joint statement:\n",
    "replace the two xxx with master dataframe"
   ]
  },
  {
   "cell_type": "markdown",
   "id": "43253c41",
   "metadata": {},
   "source": [
    "xxx = pd.merge(xxx, df_cons_clean, on='time_period',how='left')"
   ]
  }
 ],
 "metadata": {
  "kernelspec": {
   "display_name": "Python 3 (ipykernel)",
   "language": "python",
   "name": "python3"
  },
  "language_info": {
   "codemirror_mode": {
    "name": "ipython",
    "version": 3
   },
   "file_extension": ".py",
   "mimetype": "text/x-python",
   "name": "python",
   "nbconvert_exporter": "python",
   "pygments_lexer": "ipython3",
   "version": "3.8.11"
  }
 },
 "nbformat": 4,
 "nbformat_minor": 5
}
