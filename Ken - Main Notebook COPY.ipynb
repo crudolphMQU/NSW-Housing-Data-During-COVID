{
 "cells": [
  {
   "cell_type": "markdown",
   "id": "02e89d71",
   "metadata": {
    "toc": true
   },
   "source": [
    "<h1>Table of Contents<span class=\"tocSkip\"></span></h1>\n",
    "<div class=\"toc\"><ul class=\"toc-item\"><li><span><a href=\"#Introduction\" data-toc-modified-id=\"Introduction-1\"><span class=\"toc-item-num\">1&nbsp;&nbsp;</span>Introduction</a></span><ul class=\"toc-item\"><li><span><a href=\"#Goals-&amp;-Methodology-(Felix)\" data-toc-modified-id=\"Goals-&amp;-Methodology-(Felix)-1.1\"><span class=\"toc-item-num\">1.1&nbsp;&nbsp;</span>Goals &amp; Methodology (Felix)</a></span></li><li><span><a href=\"#Data-and-Variable-Explanation-(Alexis)\" data-toc-modified-id=\"Data-and-Variable-Explanation-(Alexis)-1.2\"><span class=\"toc-item-num\">1.2&nbsp;&nbsp;</span>Data and Variable Explanation (Alexis)</a></span></li><li><span><a href=\"#Imports\" data-toc-modified-id=\"Imports-1.3\"><span class=\"toc-item-num\">1.3&nbsp;&nbsp;</span>Imports</a></span></li></ul></li><li><span><a href=\"#Analysis\" data-toc-modified-id=\"Analysis-2\"><span class=\"toc-item-num\">2&nbsp;&nbsp;</span>Analysis</a></span><ul class=\"toc-item\"><li><span><a href=\"#Reading-&amp;-Cleaning-data-(Alexis:-what-we-did-and-refer-to-cleaning)\" data-toc-modified-id=\"Reading-&amp;-Cleaning-data-(Alexis:-what-we-did-and-refer-to-cleaning)-2.1\"><span class=\"toc-item-num\">2.1&nbsp;&nbsp;</span>Reading &amp; Cleaning data (Alexis: what we did and refer to cleaning)</a></span></li><li><span><a href=\"#Variable-Analysis\" data-toc-modified-id=\"Variable-Analysis-2.2\"><span class=\"toc-item-num\">2.2&nbsp;&nbsp;</span>Variable Analysis</a></span><ul class=\"toc-item\"><li><span><a href=\"#Over-Time-(Felix)\" data-toc-modified-id=\"Over-Time-(Felix)-2.2.1\"><span class=\"toc-item-num\">2.2.1&nbsp;&nbsp;</span>Over Time (Felix)</a></span><ul class=\"toc-item\"><li><span><a href=\"#Sales-Number\" data-toc-modified-id=\"Sales-Number-2.2.1.1\"><span class=\"toc-item-num\">2.2.1.1&nbsp;&nbsp;</span>Sales Number</a></span></li><li><span><a href=\"#Median-Rent\" data-toc-modified-id=\"Median-Rent-2.2.1.2\"><span class=\"toc-item-num\">2.2.1.2&nbsp;&nbsp;</span>Median Rent</a></span></li><li><span><a href=\"#New-Bonds\" data-toc-modified-id=\"New-Bonds-2.2.1.3\"><span class=\"toc-item-num\">2.2.1.3&nbsp;&nbsp;</span>New Bonds</a></span></li><li><span><a href=\"#Construction-Costs\" data-toc-modified-id=\"Construction-Costs-2.2.1.4\"><span class=\"toc-item-num\">2.2.1.4&nbsp;&nbsp;</span>Construction Costs</a></span></li><li><span><a href=\"#Bond-Yields\" data-toc-modified-id=\"Bond-Yields-2.2.1.5\"><span class=\"toc-item-num\">2.2.1.5&nbsp;&nbsp;</span>Bond Yields</a></span></li><li><span><a href=\"#Interest-Rates\" data-toc-modified-id=\"Interest-Rates-2.2.1.6\"><span class=\"toc-item-num\">2.2.1.6&nbsp;&nbsp;</span>Interest Rates</a></span></li></ul></li><li><span><a href=\"#By-Postcode\" data-toc-modified-id=\"By-Postcode-2.2.2\"><span class=\"toc-item-num\">2.2.2&nbsp;&nbsp;</span>By Postcode</a></span><ul class=\"toc-item\"><li><span><a href=\"#Median-Rent\" data-toc-modified-id=\"Median-Rent-2.2.2.1\"><span class=\"toc-item-num\">2.2.2.1&nbsp;&nbsp;</span>Median Rent</a></span></li><li><span><a href=\"#New-Bonds\" data-toc-modified-id=\"New-Bonds-2.2.2.2\"><span class=\"toc-item-num\">2.2.2.2&nbsp;&nbsp;</span>New Bonds</a></span></li><li><span><a href=\"#Age-Brackets\" data-toc-modified-id=\"Age-Brackets-2.2.2.3\"><span class=\"toc-item-num\">2.2.2.3&nbsp;&nbsp;</span>Age Brackets</a></span></li><li><span><a href=\"#ATSI\" data-toc-modified-id=\"ATSI-2.2.2.4\"><span class=\"toc-item-num\">2.2.2.4&nbsp;&nbsp;</span>ATSI</a></span></li><li><span><a href=\"#High-Income\" data-toc-modified-id=\"High-Income-2.2.2.5\"><span class=\"toc-item-num\">2.2.2.5&nbsp;&nbsp;</span>High Income</a></span></li><li><span><a href=\"#Year-of-Arrival\" data-toc-modified-id=\"Year-of-Arrival-2.2.2.6\"><span class=\"toc-item-num\">2.2.2.6&nbsp;&nbsp;</span>Year of Arrival</a></span></li><li><span><a href=\"#Non-AUS-Citizen\" data-toc-modified-id=\"Non-AUS-Citizen-2.2.2.7\"><span class=\"toc-item-num\">2.2.2.7&nbsp;&nbsp;</span>Non-AUS Citizen</a></span></li></ul></li></ul></li></ul></li><li><span><a href=\"#Modeling\" data-toc-modified-id=\"Modeling-3\"><span class=\"toc-item-num\">3&nbsp;&nbsp;</span>Modeling</a></span><ul class=\"toc-item\"><li><span><a href=\"#Baseline-Regression-Model-(Chris)\" data-toc-modified-id=\"Baseline-Regression-Model-(Chris)-3.1\"><span class=\"toc-item-num\">3.1&nbsp;&nbsp;</span>Baseline Regression Model (Chris)</a></span></li><li><span><a href=\"#Cross-Validation\" data-toc-modified-id=\"Cross-Validation-3.2\"><span class=\"toc-item-num\">3.2&nbsp;&nbsp;</span>Cross Validation</a></span></li><li><span><a href=\"#Feature-Engineering\" data-toc-modified-id=\"Feature-Engineering-3.3\"><span class=\"toc-item-num\">3.3&nbsp;&nbsp;</span>Feature Engineering</a></span></li><li><span><a href=\"#Improved-Model\" data-toc-modified-id=\"Improved-Model-3.4\"><span class=\"toc-item-num\">3.4&nbsp;&nbsp;</span>Improved Model</a></span></li></ul></li><li><span><a href=\"#Clustering-(Ken-&amp;-Felix)\" data-toc-modified-id=\"Clustering-(Ken-&amp;-Felix)-4\"><span class=\"toc-item-num\">4&nbsp;&nbsp;</span>Clustering (Ken &amp; Felix)</a></span><ul class=\"toc-item\"><li><span><a href=\"#Kmeans\" data-toc-modified-id=\"Kmeans-4.1\"><span class=\"toc-item-num\">4.1&nbsp;&nbsp;</span>Kmeans</a></span><ul class=\"toc-item\"><li><span><a href=\"#Scaling-the-data\" data-toc-modified-id=\"Scaling-the-data-4.1.1\"><span class=\"toc-item-num\">4.1.1&nbsp;&nbsp;</span>Scaling the data</a></span></li><li><span><a href=\"#Optimal-Number-of-K:-Elbow-Method\" data-toc-modified-id=\"Optimal-Number-of-K:-Elbow-Method-4.1.2\"><span class=\"toc-item-num\">4.1.2&nbsp;&nbsp;</span>Optimal Number of K: Elbow Method</a></span></li><li><span><a href=\"#Apply-Algorithm\" data-toc-modified-id=\"Apply-Algorithm-4.1.3\"><span class=\"toc-item-num\">4.1.3&nbsp;&nbsp;</span>Apply Algorithm</a></span></li></ul></li><li><span><a href=\"#Hierarchical-clustering\" data-toc-modified-id=\"Hierarchical-clustering-4.2\"><span class=\"toc-item-num\">4.2&nbsp;&nbsp;</span>Hierarchical clustering</a></span></li></ul></li><li><span><a href=\"#Distinct-Models-per-Clusters\" data-toc-modified-id=\"Distinct-Models-per-Clusters-5\"><span class=\"toc-item-num\">5&nbsp;&nbsp;</span>Distinct Models per Clusters</a></span><ul class=\"toc-item\"><li><span><a href=\"#Model-on-KMeans\" data-toc-modified-id=\"Model-on-KMeans-5.1\"><span class=\"toc-item-num\">5.1&nbsp;&nbsp;</span>Model on KMeans</a></span><ul class=\"toc-item\"><li><span><a href=\"#Data-prep\" data-toc-modified-id=\"Data-prep-5.1.1\"><span class=\"toc-item-num\">5.1.1&nbsp;&nbsp;</span>Data prep</a></span></li><li><span><a href=\"#Model-on-the-2-Clusters\" data-toc-modified-id=\"Model-on-the-2-Clusters-5.1.2\"><span class=\"toc-item-num\">5.1.2&nbsp;&nbsp;</span>Model on the 2 Clusters</a></span></li><li><span><a href=\"#Hyperparameter-Tuning-Using-Grid-Search-Cross-Validation\" data-toc-modified-id=\"Hyperparameter-Tuning-Using-Grid-Search-Cross-Validation-5.1.3\"><span class=\"toc-item-num\">5.1.3&nbsp;&nbsp;</span>Hyperparameter Tuning Using Grid Search Cross-Validation</a></span><ul class=\"toc-item\"><li><span><a href=\"#Cluster-0\" data-toc-modified-id=\"Cluster-0-5.1.3.1\"><span class=\"toc-item-num\">5.1.3.1&nbsp;&nbsp;</span>Cluster 0</a></span></li><li><span><a href=\"#Cluster-1\" data-toc-modified-id=\"Cluster-1-5.1.3.2\"><span class=\"toc-item-num\">5.1.3.2&nbsp;&nbsp;</span>Cluster 1</a></span></li></ul></li></ul></li></ul></li><li><span><a href=\"#Classification\" data-toc-modified-id=\"Classification-6\"><span class=\"toc-item-num\">6&nbsp;&nbsp;</span>Classification</a></span><ul class=\"toc-item\"><li><span><a href=\"#Data-prep\" data-toc-modified-id=\"Data-prep-6.1\"><span class=\"toc-item-num\">6.1&nbsp;&nbsp;</span>Data prep</a></span></li><li><span><a href=\"#Random-Forest-Classifier\" data-toc-modified-id=\"Random-Forest-Classifier-6.2\"><span class=\"toc-item-num\">6.2&nbsp;&nbsp;</span>Random Forest Classifier</a></span><ul class=\"toc-item\"><li><span><a href=\"#Baseline-accuracy\" data-toc-modified-id=\"Baseline-accuracy-6.2.1\"><span class=\"toc-item-num\">6.2.1&nbsp;&nbsp;</span>Baseline accuracy</a></span></li><li><span><a href=\"#Cross-validation\" data-toc-modified-id=\"Cross-validation-6.2.2\"><span class=\"toc-item-num\">6.2.2&nbsp;&nbsp;</span>Cross-validation</a></span></li><li><span><a href=\"#Hyperparameter-tuning\" data-toc-modified-id=\"Hyperparameter-tuning-6.2.3\"><span class=\"toc-item-num\">6.2.3&nbsp;&nbsp;</span>Hyperparameter tuning</a></span></li></ul></li><li><span><a href=\"#Multi-layer-perceptron-Classifier\" data-toc-modified-id=\"Multi-layer-perceptron-Classifier-6.3\"><span class=\"toc-item-num\">6.3&nbsp;&nbsp;</span>Multi-layer perceptron Classifier</a></span><ul class=\"toc-item\"><li><span><a href=\"#Base-model\" data-toc-modified-id=\"Base-model-6.3.1\"><span class=\"toc-item-num\">6.3.1&nbsp;&nbsp;</span>Base model</a></span></li><li><span><a href=\"#Hyperparameter-tuning\" data-toc-modified-id=\"Hyperparameter-tuning-6.3.2\"><span class=\"toc-item-num\">6.3.2&nbsp;&nbsp;</span>Hyperparameter tuning</a></span></li></ul></li></ul></li><li><span><a href=\"#Results\" data-toc-modified-id=\"Results-7\"><span class=\"toc-item-num\">7&nbsp;&nbsp;</span>Results</a></span></li><li><span><a href=\"#Conclusion-and-Outlook\" data-toc-modified-id=\"Conclusion-and-Outlook-8\"><span class=\"toc-item-num\">8&nbsp;&nbsp;</span>Conclusion and Outlook</a></span></li></ul></div>"
   ]
  },
  {
   "cell_type": "markdown",
   "id": "5ae51e48",
   "metadata": {},
   "source": [
    "# Introduction\n",
    "State notebook purpose here."
   ]
  },
  {
   "cell_type": "markdown",
   "id": "82372dd5",
   "metadata": {},
   "source": [
    "## Goals & Methodology (Felix)\n",
    "State the goals of the analysis and how it should be done."
   ]
  },
  {
   "cell_type": "markdown",
   "id": "3183a3ab",
   "metadata": {},
   "source": [
    "## Data and Variable Explanation (Alexis)\n",
    "Explain the datasets used and the relevant variables."
   ]
  },
  {
   "cell_type": "markdown",
   "id": "7bdddb24",
   "metadata": {},
   "source": [
    "## Imports\n",
    "Import libraries and write settings here."
   ]
  },
  {
   "cell_type": "code",
   "execution_count": 1,
   "id": "4b9247d1",
   "metadata": {},
   "outputs": [],
   "source": [
    "import pandas as pd\n",
    "import numpy as np\n",
    "import matplotlib.pyplot as plt\n",
    "import seaborn as sns\n",
    "\n",
    "from sklearn.preprocessing import StandardScaler\n",
    "from sklearn.linear_model import LinearRegression\n",
    "from sklearn.ensemble import RandomForestClassifier\n",
    "from sklearn.neural_network import MLPClassifier\n",
    "\n",
    "from sklearn.cluster import KMeans\n",
    "from scipy.cluster.hierarchy import linkage\n",
    "from scipy.cluster.hierarchy import dendrogram\n",
    "from scipy.cluster.hierarchy import cut_tree\n",
    "\n",
    "from sklearn.model_selection import cross_val_score, KFold, train_test_split, GridSearchCV\n",
    "from sklearn.feature_selection import RFE\n",
    "from sklearn.metrics import accuracy_score\n",
    "%matplotlib inline"
   ]
  },
  {
   "cell_type": "markdown",
   "id": "7340b3e6",
   "metadata": {},
   "source": [
    "The data cleaning function takes a few minutes to complete."
   ]
  },
  {
   "cell_type": "code",
   "execution_count": null,
   "id": "45959add",
   "metadata": {},
   "outputs": [],
   "source": [
    "#%run chrisDataCleanFunction.ipynb"
   ]
  },
  {
   "cell_type": "markdown",
   "id": "b89f8d27",
   "metadata": {},
   "source": [
    "We get the following DFs:\n",
    "\n",
    "- `salesNew`\n",
    "- `salesOld`\n",
    "- `salesNew_nStrata`\n",
    "- `salesNew_strata`\n",
    "- `salesNew_total`\n",
    "- `salesOld_nStrata`\n",
    "- `salesOld_strata`\n",
    "- `salesOld_total`\n",
    "- `rentNew`\n",
    "- `rentOld`"
   ]
  },
  {
   "cell_type": "markdown",
   "id": "53acbd9f",
   "metadata": {},
   "source": [
    "# Analysis"
   ]
  },
  {
   "cell_type": "markdown",
   "id": "75e2d2c6",
   "metadata": {
    "heading_collapsed": true
   },
   "source": [
    "## Reading & Cleaning data (Alexis: what we did and refer to cleaning)\n",
    "Read in the pre-processed unstacked dataframe."
   ]
  },
  {
   "cell_type": "code",
   "execution_count": null,
   "id": "daa435a2",
   "metadata": {
    "hidden": true
   },
   "outputs": [],
   "source": [
    "# reading in\n",
    "master = pd.read_csv(\"Files/Cleaned/Postcode-based/Master_Sales_Rent_2017Q4_2021Q1_pcFeatures.csv\")\n",
    "master.head()"
   ]
  },
  {
   "cell_type": "code",
   "execution_count": null,
   "id": "bf0e7bd8",
   "metadata": {
    "hidden": true,
    "scrolled": true
   },
   "outputs": [],
   "source": [
    "master.dtypes"
   ]
  },
  {
   "cell_type": "code",
   "execution_count": null,
   "id": "0fc7a00d",
   "metadata": {
    "hidden": true
   },
   "outputs": [],
   "source": [
    "master.columns"
   ]
  },
  {
   "cell_type": "markdown",
   "id": "dbda856a",
   "metadata": {},
   "source": [
    "## Variable Analysis"
   ]
  },
  {
   "cell_type": "markdown",
   "id": "4f30130d",
   "metadata": {
    "heading_collapsed": true
   },
   "source": [
    "### Over Time (Felix)\n",
    "Analyse possible relationships between target variable and features. Check if features are correlated."
   ]
  },
  {
   "cell_type": "code",
   "execution_count": null,
   "id": "0e1ab5ef",
   "metadata": {
    "hidden": true
   },
   "outputs": [],
   "source": [
    "# pivot unstacked df to get aggregate values by time period\n",
    "pivot_time = pd.pivot_table(master,\n",
    "                            index=\"time_period\")\n",
    "pivot_time"
   ]
  },
  {
   "cell_type": "code",
   "execution_count": null,
   "id": "9d637b9a",
   "metadata": {
    "hidden": true
   },
   "outputs": [],
   "source": [
    "pivot_time.columns"
   ]
  },
  {
   "cell_type": "code",
   "execution_count": null,
   "id": "d6af8185",
   "metadata": {
    "hidden": true
   },
   "outputs": [],
   "source": [
    "# remove all census data as it does not change over time\n",
    "pivot_time = pivot_time.drop(['Adelta_count', \n",
    "                              'Adelta_median',\n",
    "                              'Adelta_median_rent', \n",
    "                              'Adelta_new_bonds', \n",
    "                              'Qdelta_count', \n",
    "                              'Qdelta_median',\n",
    "                              'Qdelta_median_rent', \n",
    "                              'Qdelta_new_bonds', \n",
    "                              'YARRP 1976-1995',\n",
    "                              'YARRP 1996-2005', \n",
    "                              'YARRP 2006-2016', \n",
    "                              'YARRP <1975', \n",
    "                              'population_2016', \n",
    "                              'postcode', \n",
    "                              '0-4yo', \n",
    "                              '15-24yo', \n",
    "                              '25-34yo', \n",
    "                              '35-54yo',\n",
    "                              '5-14yo', \n",
    "                              '55-64yo', \n",
    "                              '65+yo', \n",
    "                              'ATSI'],\n",
    "                            axis=1)\n",
    "pivot_time"
   ]
  },
  {
   "cell_type": "code",
   "execution_count": null,
   "id": "cc7e5da0",
   "metadata": {
    "hidden": true
   },
   "outputs": [],
   "source": [
    "pivot_time.columns"
   ]
  },
  {
   "cell_type": "code",
   "execution_count": null,
   "id": "67d2c87e",
   "metadata": {
    "hidden": true
   },
   "outputs": [],
   "source": [
    "# show correlation matrix for numeric data\n",
    "plt.figure(figsize=(16, 12))\n",
    "\n",
    "postcode_corr = pivot_time[['mean_price', 'median_price', 'median_rent_newb', 'new_bonds_no', 'total_bonds_no', \n",
    "                            '10yBonds%', '2yBonds%', 'Rate', 'constr_index', 'sales_no']]\n",
    "\n",
    "matrix = np.triu(postcode_corr.corr())\n",
    "\n",
    "sns.heatmap(postcode_corr.corr(), \n",
    "            annot=True, # put coefficients in\n",
    "            fmt='.2g', # set number of decimals\n",
    "            vmin=-1, vmax=1, center=0, # rescale colorbar\n",
    "            cmap='RdYlGn', # set color palette\n",
    "            square=True, # set squares\n",
    "            mask=matrix) # display only lower triangular matrix\n",
    "plt.yticks(rotation=360)\n",
    "plt.xticks(rotation=70);"
   ]
  },
  {
   "cell_type": "markdown",
   "id": "5fb06087",
   "metadata": {
    "hidden": true
   },
   "source": [
    "Analysis of correlation with price:\n",
    "- There is a weak negative relationship between the __rent level__ and the sales price level. This implies that periods with higher rent prices tend to have lower sales prices. However, as mentioned, the relationship is rather weak.\n",
    "- There is a moderate positive relationship with the amount of __total bonds__.\n",
    "- There is a moderate to strong negative relationship with __10 Year Bonds__. This makes sense since in economic theory investors can choose from different asset classes. Government bonds are considered as ultra safe and hence represent a baseline of what investors expect as return since they can have the bond yield \"risk free\". If bond yields rise, the relative return of competing asset classes decrease, demand goes down, and price level will follow.\n",
    "- There is a strong negative relationship with __2 Year Bonds__. The reasoning is the same as for 10 year bonds. It is interesting, though, that the relationship for shorter duration bonds seems stronger.\n",
    "- There is a moderate to strong positive relationship with __high income__. This implies that postcode area with high sales prices tend to have a population with higher income.\n",
    "- There is a strong negative relationship with __interest rates__. This is another reasonable observation from an economic point of view. When interest rates decrease, it means capital becomes cheaper i.e. it is easier to get a loan since they are related to the rate level. Hence demand for housing, financed through loans, increases, and prices adjust accordingly.\n",
    "- There is a moderate positive relationship with __construction costs__. This makes sense since house prices should increase as cost for building them increases.\n",
    "- Lastly, there is a strong positive relationship with __sales numbers__. It is not sure at this stage how this actually relates, but the number of sales could be viewed as a proxy for demand which would drive prices."
   ]
  },
  {
   "cell_type": "markdown",
   "id": "affa315f",
   "metadata": {
    "hidden": true
   },
   "source": [
    "Interesting features to analyse over time together with price:\n",
    "- dwelling type (in first EDA notebook)\n",
    "- sales number\n",
    "- median rent\n",
    "- new bonds\n",
    "- bond yields\n",
    "- construction costs\n",
    "- interest rate"
   ]
  },
  {
   "cell_type": "markdown",
   "id": "5a882530",
   "metadata": {
    "heading_collapsed": true,
    "hidden": true
   },
   "source": [
    "#### Sales Number"
   ]
  },
  {
   "cell_type": "markdown",
   "id": "b885007c",
   "metadata": {
    "heading_collapsed": true,
    "hidden": true
   },
   "source": [
    "#### Median Rent"
   ]
  },
  {
   "cell_type": "markdown",
   "id": "cefb7fac",
   "metadata": {
    "heading_collapsed": true,
    "hidden": true
   },
   "source": [
    "#### New Bonds"
   ]
  },
  {
   "cell_type": "markdown",
   "id": "c778bff5",
   "metadata": {
    "heading_collapsed": true,
    "hidden": true
   },
   "source": [
    "#### Construction Costs"
   ]
  },
  {
   "cell_type": "markdown",
   "id": "edd62851",
   "metadata": {
    "heading_collapsed": true,
    "hidden": true
   },
   "source": [
    "#### Bond Yields"
   ]
  },
  {
   "cell_type": "markdown",
   "id": "f9c0cbf2",
   "metadata": {
    "heading_collapsed": true,
    "hidden": true
   },
   "source": [
    "#### Interest Rates"
   ]
  },
  {
   "cell_type": "markdown",
   "id": "7c6a15d0",
   "metadata": {},
   "source": [
    "### By Postcode"
   ]
  },
  {
   "cell_type": "code",
   "execution_count": null,
   "id": "8ca74940",
   "metadata": {},
   "outputs": [],
   "source": [
    "# pivot unstacked df to get aggregate values by postcode\n",
    "pivot_postcode = pd.pivot_table(master,\n",
    "                                index=\"postcode\")\n",
    "pivot_postcode"
   ]
  },
  {
   "cell_type": "code",
   "execution_count": null,
   "id": "21747e86",
   "metadata": {},
   "outputs": [],
   "source": [
    "pivot_postcode.columns"
   ]
  },
  {
   "cell_type": "code",
   "execution_count": null,
   "id": "b1f09619",
   "metadata": {},
   "outputs": [],
   "source": [
    "pivot_postcode = pivot_postcode[['mean_price', 'median_price', 'median_rent_newb', 'new_bonds_no', 'total_bonds_no', '0-4yo', '5-14yo', '15-24yo', '25-34yo', '35-54yo', '55-64yo', '65+yo', 'ATSI', 'CPRF_2', 'CPRF_3', 'CPRF_4','CPRF_5', 'CPRF_6+', 'CPRF_HHOLD_NO', 'CPRF_na', 'INCP_HIGH', 'INCP_LOW', 'INCP_MID', 'INCP_NEG_NIL', 'YARRP 1976-1995', 'YARRP 1996-2005', 'YARRP 2006-2016', 'YARRP <1975', 'citizen_AU', 'citizen_non_AU']]"
   ]
  },
  {
   "cell_type": "code",
   "execution_count": null,
   "id": "188d1018",
   "metadata": {},
   "outputs": [],
   "source": [
    "# show correlation\n",
    "plt.figure(figsize=(20, 15))\n",
    "\n",
    "matrix = np.triu(pivot_postcode.corr())\n",
    "\n",
    "sns.heatmap(pivot_postcode.corr(), \n",
    "            annot=True, # put coefficients in\n",
    "            fmt='.2g', # set number of decimals\n",
    "            vmin=-1, vmax=1, center=0, # rescale colorbar\n",
    "            cmap='RdYlGn', # set color palette\n",
    "            square=True, # set squares\n",
    "            mask=matrix) # display only lower triangular matrix\n",
    "plt.yticks(rotation=360)\n",
    "plt.xticks(rotation=70);"
   ]
  },
  {
   "cell_type": "markdown",
   "id": "787ece5b",
   "metadata": {},
   "source": [
    "Analysis of correlation with price:\n",
    "- There is a very strong positive relationship between the __rent level__ and the sales price level. This implies that postcodes that have high rent prices also tend to have high sales prices. It remains unknown, however, if there actually is a causal relationship.\n",
    "- There is a positive relationship with the amount of __new bonds__. This would make intuitively sense if the number of new bonds is seen as a proxy for demand in an area. First and foremost, this should have an effect on rent levels, but since rent prices are heavily correlated with sales levels, it would make sense if there is some relation with this too.\n",
    "- The number of people in a certain __age bracket__ seems to have a slight positive relationship with sales price for people aged between 25-54. Once could argue that this covers the typical working lifespan and hence people in this age bracket are expected to have more money which is reflected in sales prices.\n",
    "- There is a moderately strong negative relationship with __ATSI__. This implies that prices levels are lower in postcode areas where more people identifying as aboriginal live.\n",
    "- There is a moderate to strong positive relationship with __high income__. This implies that postcode area with high sales prices tend to have a population with higher income.\n",
    "- There is a rather weak positive relationship with the __different years of arrival__ in Australia. At this point, however, it is hard to reason why there should be a relationship\n",
    "- Lastly, there is rather weak positive relationship with __non Australian citizenship__. This implies that postcodes with higher sales prices are culturally more diverse with a larger proportion of non-Australian citizens."
   ]
  },
  {
   "cell_type": "code",
   "execution_count": null,
   "id": "09745413",
   "metadata": {},
   "outputs": [],
   "source": [
    "pivot_postcode.columns"
   ]
  },
  {
   "cell_type": "markdown",
   "id": "c950efc5",
   "metadata": {
    "heading_collapsed": true
   },
   "source": [
    "#### Median Rent"
   ]
  },
  {
   "cell_type": "code",
   "execution_count": null,
   "id": "f78fe010",
   "metadata": {
    "hidden": true
   },
   "outputs": [],
   "source": [
    "sns.set_style(\"darkgrid\")\n",
    "plt.figure(figsize=(10,7))\n",
    "sns.scatterplot(x=\"mean_price\", y=\"median_rent_newb\", data=pivot_postcode)\n",
    "plt.title(\"Relationship of Median Rent and Mean Price Level\", fontsize=14)\n",
    "plt.xlabel(\"Mean Sales Price\", fontsize=12)\n",
    "plt.ylabel(\"Median Rent Price\", fontsize=12);"
   ]
  },
  {
   "cell_type": "code",
   "execution_count": null,
   "id": "d938c8a6",
   "metadata": {
    "hidden": true
   },
   "outputs": [],
   "source": [
    "\n",
    "plt.figure(figsize=(10,7))\n",
    "sns.scatterplot(x=\"median_price\", y=\"median_rent_newb\", data=pivot_postcode)\n",
    "plt.title(\"Relationship of Median Rent and Median Price Level\", fontsize=14)\n",
    "plt.xlabel(\"Median Sales Price\", fontsize=12)\n",
    "plt.ylabel(\"Median Rent Price\", fontsize=12);"
   ]
  },
  {
   "cell_type": "markdown",
   "id": "fbbe1df3",
   "metadata": {
    "hidden": true
   },
   "source": [
    "Comparing the median sales prices with median rent prices makes intuitively more sense, and also seems to be a more linear relationship. However, for both plots, the relationship looks non-linear and a logarithmic transformation of the median rent level might make sense if we want to use it."
   ]
  },
  {
   "cell_type": "markdown",
   "id": "05c14ed5",
   "metadata": {
    "heading_collapsed": true
   },
   "source": [
    "#### New Bonds"
   ]
  },
  {
   "cell_type": "code",
   "execution_count": null,
   "id": "50f68a8b",
   "metadata": {
    "hidden": true
   },
   "outputs": [],
   "source": [
    "plt.figure(figsize=(10,7))\n",
    "sns.scatterplot(x=\"mean_price\", y=\"new_bonds_no\", data=pivot_postcode)\n",
    "plt.title(\"Relationship of Number of New Bonds and Mean Price Level\", fontsize=14)\n",
    "plt.xlabel(\"Mean Sales Price\", fontsize=12)\n",
    "plt.ylabel(\"Number of New Bonds\", fontsize=12);"
   ]
  },
  {
   "cell_type": "code",
   "execution_count": null,
   "id": "9f2602bb",
   "metadata": {
    "hidden": true
   },
   "outputs": [],
   "source": [
    "pivot_postcode[\"mean_price\"].corr(pivot_postcode[\"new_bonds_no\"])"
   ]
  },
  {
   "cell_type": "markdown",
   "id": "a7ea3c71",
   "metadata": {
    "hidden": true
   },
   "source": [
    "There is a positive relationship. However, the variance is very large. Transformation might help."
   ]
  },
  {
   "cell_type": "markdown",
   "id": "7cbff911",
   "metadata": {
    "heading_collapsed": true
   },
   "source": [
    "#### Age Brackets"
   ]
  },
  {
   "cell_type": "code",
   "execution_count": null,
   "id": "17ca3fea",
   "metadata": {
    "hidden": true
   },
   "outputs": [],
   "source": [
    "plt.figure(figsize=(10,7))\n",
    "sns.scatterplot(x=\"mean_price\", y=\"25-34yo\", data=pivot_postcode)\n",
    "plt.title(\"Relationship of 25-34yo Population and Mean Price Level\", fontsize=14)\n",
    "plt.xlabel(\"Mean Sales Price\", fontsize=12)\n",
    "plt.ylabel(\"Number of People between 25-34 Years\", fontsize=12);"
   ]
  },
  {
   "cell_type": "code",
   "execution_count": null,
   "id": "90089623",
   "metadata": {
    "hidden": true
   },
   "outputs": [],
   "source": [
    "plt.figure(figsize=(10,7))\n",
    "sns.scatterplot(x=\"mean_price\", y=\"35-54yo\", data=pivot_postcode)\n",
    "plt.title(\"Relationship of 35-54yo Population and Mean Price Level\", fontsize=14)\n",
    "plt.xlabel(\"Mean Sales Price\", fontsize=12)\n",
    "plt.ylabel(\"Number of People between 35-54 Years\", fontsize=12);"
   ]
  },
  {
   "cell_type": "markdown",
   "id": "0a8c2dc1",
   "metadata": {
    "heading_collapsed": true
   },
   "source": [
    "#### ATSI"
   ]
  },
  {
   "cell_type": "code",
   "execution_count": null,
   "id": "3285bf16",
   "metadata": {
    "hidden": true
   },
   "outputs": [],
   "source": [
    "plt.figure(figsize=(10,7))\n",
    "sns.scatterplot(x=\"mean_price\", y=\"ATSI\", data=pivot_postcode)\n",
    "plt.title(\"Relationship of Aboriginal Heritage and Mean Price Level\", fontsize=14)\n",
    "plt.xlabel(\"Mean Sales Price\", fontsize=12)\n",
    "plt.ylabel(\"Number of People identifying as Aboriginal\", fontsize=12);"
   ]
  },
  {
   "cell_type": "markdown",
   "id": "22d8e9ad",
   "metadata": {
    "hidden": true
   },
   "source": [
    "This looks like a strongly non-linear relationship. Transformation might be required."
   ]
  },
  {
   "cell_type": "markdown",
   "id": "d0787d16",
   "metadata": {
    "heading_collapsed": true
   },
   "source": [
    "#### High Income"
   ]
  },
  {
   "cell_type": "code",
   "execution_count": null,
   "id": "b5354fe1",
   "metadata": {
    "hidden": true
   },
   "outputs": [],
   "source": [
    "plt.figure(figsize=(10,7))\n",
    "sns.scatterplot(x=\"mean_price\", y=\"INCP_HIGH\", data=pivot_postcode)\n",
    "plt.title(\"Relationship of High Income and Mean Price Level\", fontsize=14)\n",
    "plt.xlabel(\"Mean Sales Price\", fontsize=12)\n",
    "plt.ylabel(\"High Income\", fontsize=12);"
   ]
  },
  {
   "cell_type": "markdown",
   "id": "875f22f7",
   "metadata": {
    "hidden": true
   },
   "source": [
    "There seems to be a somewhat linear relationship with a large variance for larger values."
   ]
  },
  {
   "cell_type": "markdown",
   "id": "35ebf28c",
   "metadata": {
    "heading_collapsed": true
   },
   "source": [
    "#### Year of Arrival"
   ]
  },
  {
   "cell_type": "code",
   "execution_count": null,
   "id": "0753b633",
   "metadata": {
    "hidden": true
   },
   "outputs": [],
   "source": [
    "plt.figure(figsize=(10,7))\n",
    "sns.scatterplot(x=\"mean_price\", y=\"YARRP 1996-2005\", data=pivot_postcode)\n",
    "plt.title(\"Relationship of Year of Arrival from 1996-2005 and Mean Price Level\", fontsize=14)\n",
    "plt.xlabel(\"Mean Sales Price\", fontsize=12)\n",
    "plt.ylabel(\"Number of People in Year Bracket\", fontsize=12);"
   ]
  },
  {
   "cell_type": "code",
   "execution_count": null,
   "id": "6efab1ac",
   "metadata": {
    "hidden": true
   },
   "outputs": [],
   "source": [
    "plt.figure(figsize=(10,7))\n",
    "sns.scatterplot(x=\"mean_price\", y=\"YARRP 2006-2016\", data=pivot_postcode)\n",
    "plt.title(\"Relationship of Year of Arrival from 2006-2016 and Mean Price Level\", fontsize=14)\n",
    "plt.xlabel(\"Mean Sales Price\", fontsize=12)\n",
    "plt.ylabel(\"Number of People in Year Bracket\", fontsize=12);"
   ]
  },
  {
   "cell_type": "markdown",
   "id": "166c350d",
   "metadata": {
    "heading_collapsed": true
   },
   "source": [
    "#### Non-AUS Citizen"
   ]
  },
  {
   "cell_type": "code",
   "execution_count": null,
   "id": "f74d68ce",
   "metadata": {
    "hidden": true
   },
   "outputs": [],
   "source": [
    "plt.figure(figsize=(10,7))\n",
    "sns.scatterplot(x=\"mean_price\", y=\"citizen_non_AU\", data=pivot_postcode)\n",
    "plt.title(\"Relationship of non-AUS Citizenship and Mean Price Level\", fontsize=14)\n",
    "plt.xlabel(\"Mean Sales Price\", fontsize=12)\n",
    "plt.ylabel(\"Number of non-AUS citizens\", fontsize=12);"
   ]
  },
  {
   "cell_type": "markdown",
   "id": "4a1554c1",
   "metadata": {
    "heading_collapsed": true
   },
   "source": [
    "# Modeling"
   ]
  },
  {
   "cell_type": "code",
   "execution_count": null,
   "id": "cea7b966",
   "metadata": {
    "hidden": true
   },
   "outputs": [],
   "source": [
    "modelDF = pd.read_csv(\"Files/Cleaned/Postcode-based/Unstacked_Sales_Rent_5Quarters_Imputed_pcFeatures.csv\",\n",
    "                     index_col=\"postcode\")\n",
    "modelDF.head()"
   ]
  },
  {
   "cell_type": "code",
   "execution_count": null,
   "id": "cb906cf6",
   "metadata": {
    "hidden": true
   },
   "outputs": [],
   "source": [
    "# drop mean price\n",
    "modelDF = modelDF.drop([\"mean_price 2020 Q1\", \"mean_price 2020 Q2\", \"mean_price 2020 Q3\",\n",
    "                        \"mean_price 2020 Q4\", \"mean_price 2021 Q1\"],\n",
    "                      axis=1)\n",
    "modelDF"
   ]
  },
  {
   "cell_type": "markdown",
   "id": "d177c63b",
   "metadata": {
    "hidden": true
   },
   "source": [
    "__Baseline__ : Predicting from previous quarter"
   ]
  },
  {
   "cell_type": "code",
   "execution_count": null,
   "id": "07481623",
   "metadata": {
    "hidden": true
   },
   "outputs": [],
   "source": [
    "from sklearn.metrics import r2_score\n",
    "ypred_base = modelDF['median_price 2020 Q4']\n",
    "r2_score(ypred_base,modelDF['median_price 2021 Q1'])"
   ]
  },
  {
   "cell_type": "markdown",
   "id": "60cc48e1",
   "metadata": {
    "heading_collapsed": true,
    "hidden": true
   },
   "source": [
    "## Baseline Regression Model (Chris)\n",
    "Create a first baseline model here."
   ]
  },
  {
   "cell_type": "markdown",
   "id": "d8d630f4",
   "metadata": {
    "heading_collapsed": true,
    "hidden": true
   },
   "source": [
    "## Cross Validation\n"
   ]
  },
  {
   "cell_type": "markdown",
   "id": "32734400",
   "metadata": {
    "heading_collapsed": true,
    "hidden": true
   },
   "source": [
    "## Feature Engineering\n",
    "Improve baseline model with different combinations and/or transformation of variables."
   ]
  },
  {
   "cell_type": "markdown",
   "id": "89a466e9",
   "metadata": {
    "heading_collapsed": true,
    "hidden": true
   },
   "source": [
    "## Improved Model\n",
    "Test if baseline model can be improved by using more sophisticated algorithms."
   ]
  },
  {
   "cell_type": "markdown",
   "id": "8a48cfe8",
   "metadata": {},
   "source": [
    "# Clustering (Ken & Felix)"
   ]
  },
  {
   "cell_type": "markdown",
   "id": "84b07769",
   "metadata": {},
   "source": [
    "It is expected that house prices differ among regions. This is due to different demand activities in different regions. Hence, in the following, clustering will be deployed on the data to use the result for more specific modeling within each cluster that is found to be reasonable. The expectation is a difference between metropolitan and rural areas as it is a global trend that people move to metropolitan areas and Sydney indeed should reflect this with a higher demand than other areas. This expectation will be verified by using the elbow method."
   ]
  },
  {
   "cell_type": "markdown",
   "id": "9d8080df",
   "metadata": {},
   "source": [
    "## Kmeans"
   ]
  },
  {
   "cell_type": "code",
   "execution_count": null,
   "id": "6786aff2",
   "metadata": {},
   "outputs": [],
   "source": []
  },
  {
   "cell_type": "code",
   "execution_count": null,
   "id": "29471158",
   "metadata": {},
   "outputs": [],
   "source": [
    "modelDF = pd.read_csv(\"Files/Cleaned/Postcode-based/Unstacked_Sales_Rent_5Quarters_Imputed_pcFeatures.csv\",\n",
    "                     index_col=\"postcode\")\n",
    "\n",
    "modelDF = modelDF.drop([\"mean_price 2020 Q1\", \"mean_price 2020 Q2\", \"mean_price 2020 Q3\",\n",
    "                        \"mean_price 2020 Q4\", \"mean_price 2021 Q1\"],\n",
    "                      axis=1)"
   ]
  },
  {
   "cell_type": "code",
   "execution_count": null,
   "id": "934f59fe",
   "metadata": {},
   "outputs": [],
   "source": [
    "pd.set_option('display.max_columns', None) #Force to display all columns\n",
    "modelDF.head()"
   ]
  },
  {
   "cell_type": "markdown",
   "id": "8f034d3b",
   "metadata": {},
   "source": [
    "### Scaling the data\n",
    "Since the units differ greatly across the features, scaling will be useful to avoid distorting the distance metric."
   ]
  },
  {
   "cell_type": "code",
   "execution_count": null,
   "id": "0ebcb765",
   "metadata": {
    "scrolled": true
   },
   "outputs": [],
   "source": [
    "# For retaining column and index names\n",
    "columns = modelDF.columns\n",
    "postcode = modelDF.index\n",
    "\n",
    "# Initialise scaler\n",
    "scaler = StandardScaler() \n",
    "\n",
    "# Transform\n",
    "scaledDF = scaler.fit_transform(modelDF)\n",
    "\n",
    "# Put into a dataframe\n",
    "scaledDF = pd.DataFrame(scaledDF,index=postcode)\n",
    "scaledDF.columns = columns\n",
    "scaledDF"
   ]
  },
  {
   "cell_type": "markdown",
   "id": "a4e072c8",
   "metadata": {},
   "source": [
    "### Optimal Number of K: Elbow Method"
   ]
  },
  {
   "cell_type": "code",
   "execution_count": null,
   "id": "e55a8fe3",
   "metadata": {},
   "outputs": [],
   "source": [
    "distortions = []\n",
    "K = range(1,11)\n",
    "for i in K:\n",
    "    km = KMeans(n_clusters = i)\n",
    "    km.fit(scaledDF)\n",
    "    distortions.append(km.inertia_)"
   ]
  },
  {
   "cell_type": "code",
   "execution_count": null,
   "id": "50af2a7d",
   "metadata": {},
   "outputs": [],
   "source": [
    "plt.figure(figsize=(14,5))\n",
    "plt.plot(K, distortions, 'bx-')\n",
    "plt.xlabel('$K$')\n",
    "plt.ylabel('Distortion')\n",
    "plt.title('The Elbow Method showing the optimal k')\n",
    "plt.xticks(K)\n",
    "plt.show()"
   ]
  },
  {
   "cell_type": "markdown",
   "id": "623184ba",
   "metadata": {},
   "source": [
    "This visualisation shows that two clusters seem like a reasonable decision to use as the distinction from the first to the second cluster is greatest and decreases with a growing number of clusters."
   ]
  },
  {
   "cell_type": "markdown",
   "id": "65c0842c",
   "metadata": {},
   "source": [
    "### Apply Algorithm"
   ]
  },
  {
   "cell_type": "code",
   "execution_count": null,
   "id": "a9b300ae",
   "metadata": {},
   "outputs": [],
   "source": [
    "km = KMeans(n_clusters = 2, random_state=123)\n",
    "km.fit(scaledDF)\n",
    "km_label_2 = km.predict(scaledDF)\n",
    "modelDF['label_2'] = km_label_2"
   ]
  },
  {
   "cell_type": "code",
   "execution_count": null,
   "id": "66c00ff2",
   "metadata": {},
   "outputs": [],
   "source": [
    "modelDF.label_2.value_counts()"
   ]
  },
  {
   "cell_type": "code",
   "execution_count": null,
   "id": "dcc6a437",
   "metadata": {},
   "outputs": [],
   "source": [
    "modelDF.groupby('label_2').mean().round(2)"
   ]
  },
  {
   "cell_type": "markdown",
   "id": "8d62bae4",
   "metadata": {},
   "source": [
    "Within these two clusters, Cluster 0 appear to have a significantly lower population vs Cluster 1. It appears that Cluster 0 also has lower house prices. There are also less postcodes under label 1.  "
   ]
  },
  {
   "cell_type": "markdown",
   "id": "6cee0037",
   "metadata": {},
   "source": [
    "Check the clustering between count of high income household and median house price"
   ]
  },
  {
   "cell_type": "code",
   "execution_count": null,
   "id": "746b79f6",
   "metadata": {},
   "outputs": [],
   "source": [
    "plt.scatter(x=modelDF['median_price 2020 Q1'], y=modelDF['INCP_HIGH'],c=modelDF['label_2'],cmap='cividis',alpha=.6)\n",
    "plt.xlabel('Median House Price')\n",
    "plt.ylabel('Count of High Income Households')\n",
    "plt.title('2020 Q1');"
   ]
  },
  {
   "cell_type": "code",
   "execution_count": null,
   "id": "20fb750c",
   "metadata": {},
   "outputs": [],
   "source": [
    "# show cluster 1\n",
    "modelDF[modelDF[\"label_2\"] == 1]"
   ]
  },
  {
   "cell_type": "code",
   "execution_count": null,
   "id": "250997f9",
   "metadata": {},
   "outputs": [],
   "source": [
    "plt.figure(figsize=(5,5))\n",
    "ax=sns.stripplot(data=modelDF, x='label_2', y='median_price 2020 Q1',hue='INCP_HIGH',palette='viridis')\n",
    "\n",
    "# Setting up colorbar\n",
    "norm = plt.Normalize(modelDF['INCP_HIGH'].min(), modelDF['INCP_HIGH'].max())\n",
    "sm = plt.cm.ScalarMappable(cmap=\"viridis\", norm=norm)\n",
    "sm.set_array([])\n",
    "\n",
    "# Remove the legend and add a colorbar\n",
    "ax.get_legend().remove()\n",
    "ax.figure.colorbar(sm,label='Count of High Income')\n",
    "\n",
    "plt.title('Count of High Income Bracket Per Cluster')\n",
    "plt.show()"
   ]
  },
  {
   "cell_type": "markdown",
   "id": "2bb07473",
   "metadata": {},
   "source": [
    "Counter-intuitively, postcodes with the highest count of high weekly income brackets live in __\\\\$1m to \\\\$1.5m homes__. On the other hand, while postcodes with slightly lower count of high income brackets vary in how much the median house price is in ther postcode, there are some with median house prices that go well above \\\\$2m. These are likely very prime locations near the CBD or near the beaches."
   ]
  },
  {
   "cell_type": "markdown",
   "id": "e83ddd17",
   "metadata": {},
   "source": [
    "Postcodes with median price "
   ]
  },
  {
   "cell_type": "code",
   "execution_count": null,
   "id": "697ec518",
   "metadata": {
    "scrolled": true
   },
   "outputs": [],
   "source": [
    "modelDF.loc[modelDF['median_price 2021 Q1']>2000]"
   ]
  },
  {
   "cell_type": "markdown",
   "id": "3c612d9a",
   "metadata": {},
   "source": [
    "## Hierarchical clustering"
   ]
  },
  {
   "cell_type": "markdown",
   "id": "4e6412d8",
   "metadata": {},
   "source": [
    "In the following, it will be checked whether results appear to be more reasonable when applying agglomerative clustering."
   ]
  },
  {
   "cell_type": "code",
   "execution_count": null,
   "id": "f2d2ccd7",
   "metadata": {},
   "outputs": [],
   "source": [
    "modelDF = pd.read_csv(\"Files/Cleaned/Postcode-based/Unstacked_Sales_Rent_5Quarters_Imputed_pcFeatures.csv\",\n",
    "                     index_col=\"postcode\")\n",
    "\n",
    "modelDF = modelDF.drop([\"mean_price 2020 Q1\", \"mean_price 2020 Q2\", \"mean_price 2020 Q3\",\n",
    "                        \"mean_price 2020 Q4\", \"mean_price 2021 Q1\"],\n",
    "                      axis=1)"
   ]
  },
  {
   "cell_type": "markdown",
   "id": "e1340da3",
   "metadata": {},
   "source": [
    "The same scaling procedure will be used"
   ]
  },
  {
   "cell_type": "code",
   "execution_count": null,
   "id": "2bc41628",
   "metadata": {},
   "outputs": [],
   "source": [
    "# for retaining column and index names\n",
    "columns = modelDF.columns\n",
    "postcode = modelDF.index\n",
    "\n",
    "# Initialise scaler\n",
    "scaler = StandardScaler() \n",
    "\n",
    "# Transform\n",
    "scaledDF = scaler.fit_transform(modelDF)\n",
    "\n",
    "# Put into a dataframe\n",
    "scaledDF = pd.DataFrame(scaledDF,index=postcode)\n",
    "scaledDF.columns = columns\n",
    "scaledDF.head()"
   ]
  },
  {
   "cell_type": "code",
   "execution_count": null,
   "id": "2a5b6dee",
   "metadata": {},
   "outputs": [],
   "source": [
    "# linkage\n",
    "plt.figure(figsize=(14,10))\n",
    "mergings = linkage(scaledDF, method=\"ward\", metric='euclidean')\n",
    "dendrogram(mergings, orientation='left')\n",
    "plt.show()"
   ]
  },
  {
   "cell_type": "code",
   "execution_count": null,
   "id": "550ad767",
   "metadata": {},
   "outputs": [],
   "source": [
    "hier_labels = cut_tree(mergings,n_clusters=3)\n",
    "modelDF['labels'] = hier_labels\n",
    "modelDF"
   ]
  },
  {
   "cell_type": "code",
   "execution_count": null,
   "id": "a9ae47a5",
   "metadata": {},
   "outputs": [],
   "source": [
    "modelDF.labels.value_counts()"
   ]
  },
  {
   "cell_type": "code",
   "execution_count": null,
   "id": "26b96086",
   "metadata": {},
   "outputs": [],
   "source": [
    "plt.scatter(x=modelDF['median_price 2020 Q1'], y=modelDF['INCP_HIGH'],c=modelDF['labels'],cmap='cividis',alpha=.6)\n",
    "plt.xlabel('Median House Price')\n",
    "plt.ylabel('Count of High Income Households')\n",
    "plt.title('2020 Q1, Hierarchical clustering');"
   ]
  },
  {
   "cell_type": "code",
   "execution_count": null,
   "id": "211ccfba",
   "metadata": {
    "scrolled": true
   },
   "outputs": [],
   "source": [
    "# show postcodes for small clusters\n",
    "modelDF[modelDF[\"labels\"] == 0]"
   ]
  },
  {
   "cell_type": "markdown",
   "id": "95ed3d54",
   "metadata": {
    "heading_collapsed": true
   },
   "source": [
    "# Distinct Models per Clusters\n"
   ]
  },
  {
   "cell_type": "markdown",
   "id": "2d80dbbe",
   "metadata": {
    "hidden": true
   },
   "source": [
    "## Model on KMeans "
   ]
  },
  {
   "cell_type": "markdown",
   "id": "77ad69ed",
   "metadata": {
    "hidden": true
   },
   "source": [
    "### Data prep"
   ]
  },
  {
   "cell_type": "code",
   "execution_count": null,
   "id": "e313493b",
   "metadata": {
    "hidden": true
   },
   "outputs": [],
   "source": [
    "modelDF = pd.read_csv(\"Files/Cleaned/Postcode-based/Unstacked_Sales_Rent_5Quarters_Imputed_pcFeatures.csv\",\n",
    "                     index_col=\"postcode\")\n",
    "modelDF = modelDF.drop([\"mean_price 2020 Q1\", \"mean_price 2020 Q2\", \"mean_price 2020 Q3\",\n",
    "                        \"mean_price 2020 Q4\", \"mean_price 2021 Q1\"],\n",
    "                      axis=1)"
   ]
  },
  {
   "cell_type": "code",
   "execution_count": null,
   "id": "741bf562",
   "metadata": {
    "hidden": true
   },
   "outputs": [],
   "source": [
    "# Using labels from KMeans where k=2\n",
    "modelDF['labels'] = km_label_2\n",
    "modelDF"
   ]
  },
  {
   "cell_type": "markdown",
   "id": "b96282de",
   "metadata": {
    "hidden": true
   },
   "source": [
    "__Sub-setting clusters__"
   ]
  },
  {
   "cell_type": "code",
   "execution_count": null,
   "id": "ad04c32f",
   "metadata": {
    "hidden": true
   },
   "outputs": [],
   "source": [
    "cluster0 = modelDF.loc[modelDF['labels']==0]\n",
    "cluster1 = modelDF.loc[modelDF['labels']==1]\n",
    "\n",
    "cluster0 = cluster0.drop('labels',axis=1)\n",
    "cluster1 = cluster1.drop('labels',axis=1)"
   ]
  },
  {
   "cell_type": "markdown",
   "id": "22541d47",
   "metadata": {
    "heading_collapsed": true,
    "hidden": true
   },
   "source": [
    "### Model on the 2 Clusters"
   ]
  },
  {
   "cell_type": "code",
   "execution_count": null,
   "id": "f27921d0",
   "metadata": {
    "hidden": true
   },
   "outputs": [],
   "source": [
    "# 1st cluster\n",
    "lr = LinearRegression()\n",
    "scoreKM0 = cross_val_score(lr, cluster0.drop(['median_price 2021 Q1'],axis=1), # X\n",
    "                        cluster0['median_price 2021 Q1'],                      # y \n",
    "                        cv=KFold(n_splits=5)) \n",
    "print('R2 on 1st cluster:',list(scoreKM0.round(4)), '| Mean:', scoreKM0.mean().round(4))\n",
    "\n",
    "# 2nd cluster\n",
    "lr = LinearRegression()\n",
    "scoreKM1 = cross_val_score(lr, cluster1.drop(['median_price 2021 Q1'],axis=1), # X\n",
    "                        cluster1['median_price 2021 Q1'],                      # y \n",
    "                        cv=KFold(n_splits=5))\n",
    "print('R2 on 2nd cluster:',list(scoreKM1.round(4)), '| Mean:', scoreKM1.mean().round(4))"
   ]
  },
  {
   "cell_type": "code",
   "execution_count": null,
   "id": "151f9a73",
   "metadata": {
    "hidden": true
   },
   "outputs": [],
   "source": [
    "splits = range(1,6)\n",
    "plt.plot(splits, scoreKM0,label='Cluster 1')\n",
    "plt.plot(splits, scoreKM1,label='Cluster 2')\n",
    "plt.title('R2 scores')\n",
    "plt.xlabel('Trial #')\n",
    "plt.xticks(splits)\n",
    "plt.ylabel('$R^2$')\n",
    "plt.ylim(0,1)\n",
    "plt.legend(loc='best')\n",
    "plt.show()"
   ]
  },
  {
   "cell_type": "markdown",
   "id": "d6c114f6",
   "metadata": {
    "hidden": true
   },
   "source": [
    "###  Hyperparameter Tuning Using Grid Search Cross-Validation\n"
   ]
  },
  {
   "cell_type": "markdown",
   "id": "ee533363",
   "metadata": {
    "heading_collapsed": true,
    "hidden": true
   },
   "source": [
    "#### Cluster 0"
   ]
  },
  {
   "cell_type": "markdown",
   "id": "c3a51526",
   "metadata": {
    "hidden": true
   },
   "source": [
    "Train-test-split"
   ]
  },
  {
   "cell_type": "code",
   "execution_count": null,
   "id": "ea615728",
   "metadata": {
    "hidden": true
   },
   "outputs": [],
   "source": [
    "X = cluster0.drop(['median_price 2020 Q1'],axis=1)\n",
    "y = cluster0['median_price 2020 Q1']\n",
    "X_train, X_test, y_train, y_test = train_test_split(X, y , random_state=123, test_size=.2)"
   ]
  },
  {
   "cell_type": "code",
   "execution_count": null,
   "id": "d66c7179",
   "metadata": {
    "hidden": true
   },
   "outputs": [],
   "source": [
    "# step-1: create a cross-validation scheme\n",
    "folds = KFold(n_splits = 5, shuffle = True, random_state = 100)\n",
    "\n",
    "# step-2: specify range of hyperparameters to tune\n",
    "hyper_params = [{'n_features_to_select': list(range(1, 51))}]\n",
    "\n",
    "\n",
    "# step-3: perform grid search\n",
    "# 3.1 specify model\n",
    "lr = LinearRegression()\n",
    "lr.fit(X_train, y_train)\n",
    "rfe = RFE(lr)             \n",
    "\n",
    "# 3.2 call GridSearchCV()\n",
    "model_cv = GridSearchCV(estimator = rfe, \n",
    "                        param_grid = hyper_params, \n",
    "                        scoring= 'r2', \n",
    "                        cv = folds, \n",
    "                        verbose = 1,\n",
    "                        return_train_score=True)      \n",
    "\n",
    "# fit the model\n",
    "model_cv.fit(X_train, y_train)  "
   ]
  },
  {
   "cell_type": "code",
   "execution_count": null,
   "id": "34bff6f2",
   "metadata": {
    "hidden": true,
    "scrolled": true
   },
   "outputs": [],
   "source": [
    "cv_results = pd.DataFrame(model_cv.cv_results_)\n",
    "cv_results"
   ]
  },
  {
   "cell_type": "code",
   "execution_count": null,
   "id": "6e38bc67",
   "metadata": {
    "hidden": true
   },
   "outputs": [],
   "source": [
    "plt.figure(figsize=(16,6))\n",
    "\n",
    "plt.plot(cv_results[\"param_n_features_to_select\"], cv_results[\"mean_test_score\"])\n",
    "plt.plot(cv_results[\"param_n_features_to_select\"], cv_results[\"mean_train_score\"])\n",
    "plt.xlabel('number of features')\n",
    "plt.ylabel('$R^2$')\n",
    "plt.title(\"Optimal Number of Features, Cluster 0\")\n",
    "plt.legend(['test score', 'train score'], loc='upper left')"
   ]
  },
  {
   "cell_type": "markdown",
   "id": "5669e769",
   "metadata": {
    "hidden": true
   },
   "source": [
    "Linear regression on cluster 0 appears to perform poorly."
   ]
  },
  {
   "cell_type": "markdown",
   "id": "b26dec97",
   "metadata": {
    "hidden": true
   },
   "source": [
    "#### Cluster 1"
   ]
  },
  {
   "cell_type": "code",
   "execution_count": null,
   "id": "dfaed4fc",
   "metadata": {
    "hidden": true
   },
   "outputs": [],
   "source": [
    "X = cluster1.drop(['median_price 2020 Q1'],axis=1)\n",
    "y = cluster1['median_price 2020 Q1']\n",
    "X_train, X_test, y_train, y_test = train_test_split(X, y , random_state=123, test_size=.2)"
   ]
  },
  {
   "cell_type": "code",
   "execution_count": null,
   "id": "b55eb419",
   "metadata": {
    "hidden": true
   },
   "outputs": [],
   "source": [
    "# step-1: create a cross-validation scheme\n",
    "folds = KFold(n_splits = 5, shuffle = True, random_state = 100)\n",
    "\n",
    "# step-2: specify range of hyperparameters to tune\n",
    "hyper_params = [{'n_features_to_select': list(range(1, 51))}]\n",
    "\n",
    "\n",
    "# step-3: perform grid search\n",
    "# 3.1 specify model\n",
    "lr = LinearRegression()\n",
    "lr.fit(X_train, y_train)\n",
    "rfe = RFE(lr)             \n",
    "\n",
    "# 3.2 call GridSearchCV()\n",
    "model_cv = GridSearchCV(estimator = rfe, \n",
    "                        param_grid = hyper_params, \n",
    "                        scoring= 'r2', \n",
    "                        cv = folds, \n",
    "                        verbose = 1,\n",
    "                        return_train_score=True)      \n",
    "\n",
    "# fit the model\n",
    "model_cv.fit(X_train, y_train)  "
   ]
  },
  {
   "cell_type": "code",
   "execution_count": null,
   "id": "0468ddfe",
   "metadata": {
    "hidden": true
   },
   "outputs": [],
   "source": [
    "cv_results = pd.DataFrame(model_cv.cv_results_)\n",
    "cv_results"
   ]
  },
  {
   "cell_type": "code",
   "execution_count": null,
   "id": "a8913d8a",
   "metadata": {
    "hidden": true
   },
   "outputs": [],
   "source": [
    "plt.figure(figsize=(16,6))\n",
    "\n",
    "plt.plot(cv_results[\"param_n_features_to_select\"], cv_results[\"mean_test_score\"])\n",
    "plt.plot(cv_results[\"param_n_features_to_select\"], cv_results[\"mean_train_score\"])\n",
    "plt.xlabel('number of features')\n",
    "plt.ylabel('$R^2$')\n",
    "plt.xticks(range(0,51,2))\n",
    "plt.title(\"Optimal Number of Features, Cluster 1\")\n",
    "plt.legend(['test score', 'train score'], loc='upper left')"
   ]
  },
  {
   "cell_type": "markdown",
   "id": "1d9dd3bb",
   "metadata": {
    "hidden": true
   },
   "source": [
    "The optimal number of features in cluster 1 seems to be at 8."
   ]
  },
  {
   "cell_type": "code",
   "execution_count": null,
   "id": "ad17af41",
   "metadata": {
    "hidden": true
   },
   "outputs": [],
   "source": [
    "n_features_optimal = 8\n",
    "\n",
    "lr = LinearRegression()\n",
    "lr.fit(X_train, y_train)\n",
    "\n",
    "rfe = RFE(lr, n_features_to_select=n_features_optimal)             \n",
    "rfe = rfe.fit(X_train, y_train)\n",
    "\n",
    "# predict prices of X_test\n",
    "y_pred = lr.predict(X_test)\n",
    "r2 = r2_score(y_test, y_pred)\n",
    "print(f'R2: {r2.round(4)}')"
   ]
  },
  {
   "cell_type": "markdown",
   "id": "9d4f5c70",
   "metadata": {},
   "source": [
    "# Classification"
   ]
  },
  {
   "cell_type": "markdown",
   "id": "3b4384c3",
   "metadata": {},
   "source": [
    "## Data prep"
   ]
  },
  {
   "cell_type": "markdown",
   "id": "e2811f4b",
   "metadata": {},
   "source": [
    "Read in data"
   ]
  },
  {
   "cell_type": "code",
   "execution_count": 2,
   "id": "6f45928e",
   "metadata": {},
   "outputs": [
    {
     "data": {
      "text/plain": [
       "(573, 71)"
      ]
     },
     "execution_count": 2,
     "metadata": {},
     "output_type": "execute_result"
    }
   ],
   "source": [
    "modelDF = pd.read_csv(\"Files/Cleaned/Postcode-based/Unstacked_Sales_Rent_5Quarters_Imputed_pcFeatures.csv\",\n",
    "                     index_col=\"postcode\")\n",
    "modelDF = modelDF.drop([\"mean_price 2020 Q1\", \"mean_price 2020 Q2\", \"mean_price 2020 Q3\",\n",
    "                        \"mean_price 2020 Q4\", \"mean_price 2021 Q1\"],\n",
    "                      axis=1)\n",
    "modelDF.shape"
   ]
  },
  {
   "cell_type": "code",
   "execution_count": 3,
   "id": "167666a8",
   "metadata": {},
   "outputs": [
    {
     "data": {
      "text/html": [
       "<div>\n",
       "<style scoped>\n",
       "    .dataframe tbody tr th:only-of-type {\n",
       "        vertical-align: middle;\n",
       "    }\n",
       "\n",
       "    .dataframe tbody tr th {\n",
       "        vertical-align: top;\n",
       "    }\n",
       "\n",
       "    .dataframe thead th {\n",
       "        text-align: right;\n",
       "    }\n",
       "</style>\n",
       "<table border=\"1\" class=\"dataframe\">\n",
       "  <thead>\n",
       "    <tr style=\"text-align: right;\">\n",
       "      <th></th>\n",
       "      <th>median_price 2020 Q1</th>\n",
       "      <th>median_price 2020 Q2</th>\n",
       "      <th>median_price 2020 Q3</th>\n",
       "      <th>median_price 2020 Q4</th>\n",
       "      <th>median_price 2021 Q1</th>\n",
       "      <th>median_rent_newb 2020 Q1</th>\n",
       "      <th>median_rent_newb 2020 Q2</th>\n",
       "      <th>median_rent_newb 2020 Q3</th>\n",
       "      <th>median_rent_newb 2020 Q4</th>\n",
       "      <th>median_rent_newb 2021 Q1</th>\n",
       "      <th>...</th>\n",
       "      <th>55-64yo</th>\n",
       "      <th>65+yo</th>\n",
       "      <th>population_2016</th>\n",
       "      <th>citizen_AU</th>\n",
       "      <th>citizen_non_AU</th>\n",
       "      <th>YARRP &lt;1975</th>\n",
       "      <th>YARRP 1976-1995</th>\n",
       "      <th>YARRP 1996-2005</th>\n",
       "      <th>YARRP 2006-2016</th>\n",
       "      <th>ATSI</th>\n",
       "    </tr>\n",
       "    <tr>\n",
       "      <th>postcode</th>\n",
       "      <th></th>\n",
       "      <th></th>\n",
       "      <th></th>\n",
       "      <th></th>\n",
       "      <th></th>\n",
       "      <th></th>\n",
       "      <th></th>\n",
       "      <th></th>\n",
       "      <th></th>\n",
       "      <th></th>\n",
       "      <th></th>\n",
       "      <th></th>\n",
       "      <th></th>\n",
       "      <th></th>\n",
       "      <th></th>\n",
       "      <th></th>\n",
       "      <th></th>\n",
       "      <th></th>\n",
       "      <th></th>\n",
       "      <th></th>\n",
       "      <th></th>\n",
       "    </tr>\n",
       "  </thead>\n",
       "  <tbody>\n",
       "    <tr>\n",
       "      <th>2000</th>\n",
       "      <td>1225.0</td>\n",
       "      <td>1000.0</td>\n",
       "      <td>1390.0</td>\n",
       "      <td>1110.0</td>\n",
       "      <td>1371.0</td>\n",
       "      <td>700.0</td>\n",
       "      <td>630.0</td>\n",
       "      <td>600.0</td>\n",
       "      <td>550.0</td>\n",
       "      <td>600.0</td>\n",
       "      <td>...</td>\n",
       "      <td>1670.0</td>\n",
       "      <td>1692.0</td>\n",
       "      <td>27411.0</td>\n",
       "      <td>8691.0</td>\n",
       "      <td>14662.0</td>\n",
       "      <td>525.0</td>\n",
       "      <td>1590.0</td>\n",
       "      <td>2175.0</td>\n",
       "      <td>13023.0</td>\n",
       "      <td>53.0</td>\n",
       "    </tr>\n",
       "  </tbody>\n",
       "</table>\n",
       "<p>1 rows × 51 columns</p>\n",
       "</div>"
      ],
      "text/plain": [
       "          median_price 2020 Q1  median_price 2020 Q2  median_price 2020 Q3  \\\n",
       "postcode                                                                     \n",
       "2000                    1225.0                1000.0                1390.0   \n",
       "\n",
       "          median_price 2020 Q4  median_price 2021 Q1  \\\n",
       "postcode                                               \n",
       "2000                    1110.0                1371.0   \n",
       "\n",
       "          median_rent_newb 2020 Q1  median_rent_newb 2020 Q2  \\\n",
       "postcode                                                       \n",
       "2000                         700.0                     630.0   \n",
       "\n",
       "          median_rent_newb 2020 Q3  median_rent_newb 2020 Q4  \\\n",
       "postcode                                                       \n",
       "2000                         600.0                     550.0   \n",
       "\n",
       "          median_rent_newb 2021 Q1  ...  55-64yo   65+yo  population_2016  \\\n",
       "postcode                            ...                                     \n",
       "2000                         600.0  ...   1670.0  1692.0          27411.0   \n",
       "\n",
       "          citizen_AU  citizen_non_AU  YARRP <1975  YARRP 1976-1995  \\\n",
       "postcode                                                             \n",
       "2000          8691.0         14662.0        525.0           1590.0   \n",
       "\n",
       "          YARRP 1996-2005  YARRP 2006-2016  ATSI  \n",
       "postcode                                          \n",
       "2000               2175.0          13023.0  53.0  \n",
       "\n",
       "[1 rows x 51 columns]"
      ]
     },
     "execution_count": 3,
     "metadata": {},
     "output_type": "execute_result"
    }
   ],
   "source": [
    "# Drop interest rates and bond yields \n",
    "modelDF = modelDF.iloc[:,0:51]\n",
    "modelDF.head(1)"
   ]
  },
  {
   "cell_type": "markdown",
   "id": "99412121",
   "metadata": {},
   "source": [
    "Calculate growth rate of 2021 Q1 from 2020 Q4"
   ]
  },
  {
   "cell_type": "code",
   "execution_count": 14,
   "id": "9eae0da0",
   "metadata": {},
   "outputs": [
    {
     "data": {
      "text/plain": [
       "(573, 56)"
      ]
     },
     "execution_count": 14,
     "metadata": {},
     "output_type": "execute_result"
    }
   ],
   "source": [
    "modelDF['price_delta'] = ((modelDF['median_price 2021 Q1']/modelDF['median_price 2020 Q4'])-1)*100\n",
    "modelDF['rate_20Q4'] = ((modelDF['median_price 2020 Q4']/modelDF['median_price 2020 Q3'])-1)*100\n",
    "modelDF['rate_20Q3'] = ((modelDF['median_price 2020 Q3']/modelDF['median_price 2020 Q2'])-1)*100\n",
    "modelDF['rate_20Q2'] = ((modelDF['median_price 2020 Q2']/modelDF['median_price 2020 Q1'])-1)*100\n",
    "modelDF['rate_annual'] = ((modelDF['median_price 2021 Q1']/testDF['median_price 2020 Q1'])-1)*100\n",
    "modelDF.shape"
   ]
  },
  {
   "cell_type": "code",
   "execution_count": 15,
   "id": "a76073b0",
   "metadata": {},
   "outputs": [
    {
     "data": {
      "text/html": [
       "<div>\n",
       "<style scoped>\n",
       "    .dataframe tbody tr th:only-of-type {\n",
       "        vertical-align: middle;\n",
       "    }\n",
       "\n",
       "    .dataframe tbody tr th {\n",
       "        vertical-align: top;\n",
       "    }\n",
       "\n",
       "    .dataframe thead th {\n",
       "        text-align: right;\n",
       "    }\n",
       "</style>\n",
       "<table border=\"1\" class=\"dataframe\">\n",
       "  <thead>\n",
       "    <tr style=\"text-align: right;\">\n",
       "      <th></th>\n",
       "      <th>price_delta</th>\n",
       "      <th>rate_20Q4</th>\n",
       "      <th>rate_20Q3</th>\n",
       "      <th>rate_20Q2</th>\n",
       "      <th>rate_annual</th>\n",
       "    </tr>\n",
       "  </thead>\n",
       "  <tbody>\n",
       "    <tr>\n",
       "      <th>count</th>\n",
       "      <td>573.00</td>\n",
       "      <td>573.00</td>\n",
       "      <td>573.00</td>\n",
       "      <td>573.00</td>\n",
       "      <td>491.00</td>\n",
       "    </tr>\n",
       "    <tr>\n",
       "      <th>mean</th>\n",
       "      <td>6.81</td>\n",
       "      <td>6.22</td>\n",
       "      <td>2.08</td>\n",
       "      <td>2.85</td>\n",
       "      <td>9.90</td>\n",
       "    </tr>\n",
       "    <tr>\n",
       "      <th>std</th>\n",
       "      <td>39.58</td>\n",
       "      <td>36.38</td>\n",
       "      <td>31.87</td>\n",
       "      <td>25.27</td>\n",
       "      <td>32.84</td>\n",
       "    </tr>\n",
       "    <tr>\n",
       "      <th>min</th>\n",
       "      <td>-82.40</td>\n",
       "      <td>-86.19</td>\n",
       "      <td>-82.76</td>\n",
       "      <td>-76.17</td>\n",
       "      <td>-81.70</td>\n",
       "    </tr>\n",
       "    <tr>\n",
       "      <th>25%</th>\n",
       "      <td>0.00</td>\n",
       "      <td>-0.38</td>\n",
       "      <td>-2.88</td>\n",
       "      <td>-3.62</td>\n",
       "      <td>2.36</td>\n",
       "    </tr>\n",
       "    <tr>\n",
       "      <th>50%</th>\n",
       "      <td>3.75</td>\n",
       "      <td>1.24</td>\n",
       "      <td>-0.14</td>\n",
       "      <td>2.84</td>\n",
       "      <td>8.23</td>\n",
       "    </tr>\n",
       "    <tr>\n",
       "      <th>75%</th>\n",
       "      <td>10.01</td>\n",
       "      <td>7.83</td>\n",
       "      <td>5.44</td>\n",
       "      <td>3.72</td>\n",
       "      <td>19.19</td>\n",
       "    </tr>\n",
       "    <tr>\n",
       "      <th>max</th>\n",
       "      <td>660.50</td>\n",
       "      <td>486.40</td>\n",
       "      <td>435.31</td>\n",
       "      <td>373.48</td>\n",
       "      <td>300.71</td>\n",
       "    </tr>\n",
       "  </tbody>\n",
       "</table>\n",
       "</div>"
      ],
      "text/plain": [
       "       price_delta  rate_20Q4  rate_20Q3  rate_20Q2  rate_annual\n",
       "count       573.00     573.00     573.00     573.00       491.00\n",
       "mean          6.81       6.22       2.08       2.85         9.90\n",
       "std          39.58      36.38      31.87      25.27        32.84\n",
       "min         -82.40     -86.19     -82.76     -76.17       -81.70\n",
       "25%           0.00      -0.38      -2.88      -3.62         2.36\n",
       "50%           3.75       1.24      -0.14       2.84         8.23\n",
       "75%          10.01       7.83       5.44       3.72        19.19\n",
       "max         660.50     486.40     435.31     373.48       300.71"
      ]
     },
     "execution_count": 15,
     "metadata": {},
     "output_type": "execute_result"
    }
   ],
   "source": [
    "modelDF.iloc[:,51:57].describe().round(2)"
   ]
  },
  {
   "cell_type": "code",
   "execution_count": 11,
   "id": "2839df7e",
   "metadata": {},
   "outputs": [
    {
     "data": {
      "text/plain": [
       "(491, 51)"
      ]
     },
     "execution_count": 11,
     "metadata": {},
     "output_type": "execute_result"
    }
   ],
   "source": [
    "testDF = pd.read_csv(\"Files/Archive/Unstacked_Sales_Rent_5Quarters_SharedPOA_pcFeatures.csv\",\n",
    "                     index_col=\"postcode\")\n",
    "testDF = testDF.drop([\"mean_price 2020 Q1\", \"mean_price 2020 Q2\", \"mean_price 2020 Q3\",\n",
    "                        \"mean_price 2020 Q4\", \"mean_price 2021 Q1\"],\n",
    "                      axis=1)\n",
    "testDF = testDF.iloc[:,0:51]\n",
    "testDF.shape"
   ]
  },
  {
   "cell_type": "code",
   "execution_count": 13,
   "id": "a9108ed0",
   "metadata": {},
   "outputs": [
    {
     "data": {
      "text/html": [
       "<div>\n",
       "<style scoped>\n",
       "    .dataframe tbody tr th:only-of-type {\n",
       "        vertical-align: middle;\n",
       "    }\n",
       "\n",
       "    .dataframe tbody tr th {\n",
       "        vertical-align: top;\n",
       "    }\n",
       "\n",
       "    .dataframe thead th {\n",
       "        text-align: right;\n",
       "    }\n",
       "</style>\n",
       "<table border=\"1\" class=\"dataframe\">\n",
       "  <thead>\n",
       "    <tr style=\"text-align: right;\">\n",
       "      <th></th>\n",
       "      <th>rate_21Q1</th>\n",
       "      <th>rate_20Q4</th>\n",
       "      <th>rate_20Q3</th>\n",
       "      <th>rate_20Q2</th>\n",
       "      <th>rate_annual</th>\n",
       "    </tr>\n",
       "  </thead>\n",
       "  <tbody>\n",
       "    <tr>\n",
       "      <th>count</th>\n",
       "      <td>491.00</td>\n",
       "      <td>491.00</td>\n",
       "      <td>491.00</td>\n",
       "      <td>491.00</td>\n",
       "      <td>491.00</td>\n",
       "    </tr>\n",
       "    <tr>\n",
       "      <th>mean</th>\n",
       "      <td>7.22</td>\n",
       "      <td>5.76</td>\n",
       "      <td>2.77</td>\n",
       "      <td>2.85</td>\n",
       "      <td>9.90</td>\n",
       "    </tr>\n",
       "    <tr>\n",
       "      <th>std</th>\n",
       "      <td>40.98</td>\n",
       "      <td>30.54</td>\n",
       "      <td>34.04</td>\n",
       "      <td>27.31</td>\n",
       "      <td>32.84</td>\n",
       "    </tr>\n",
       "    <tr>\n",
       "      <th>min</th>\n",
       "      <td>-82.40</td>\n",
       "      <td>-86.19</td>\n",
       "      <td>-74.90</td>\n",
       "      <td>-76.17</td>\n",
       "      <td>-81.70</td>\n",
       "    </tr>\n",
       "    <tr>\n",
       "      <th>25%</th>\n",
       "      <td>-1.44</td>\n",
       "      <td>-1.62</td>\n",
       "      <td>-3.77</td>\n",
       "      <td>-5.00</td>\n",
       "      <td>2.36</td>\n",
       "    </tr>\n",
       "    <tr>\n",
       "      <th>50%</th>\n",
       "      <td>4.20</td>\n",
       "      <td>2.94</td>\n",
       "      <td>0.21</td>\n",
       "      <td>2.13</td>\n",
       "      <td>8.23</td>\n",
       "    </tr>\n",
       "    <tr>\n",
       "      <th>75%</th>\n",
       "      <td>10.65</td>\n",
       "      <td>9.42</td>\n",
       "      <td>6.90</td>\n",
       "      <td>5.83</td>\n",
       "      <td>19.19</td>\n",
       "    </tr>\n",
       "    <tr>\n",
       "      <th>max</th>\n",
       "      <td>660.50</td>\n",
       "      <td>302.75</td>\n",
       "      <td>435.31</td>\n",
       "      <td>373.48</td>\n",
       "      <td>300.71</td>\n",
       "    </tr>\n",
       "  </tbody>\n",
       "</table>\n",
       "</div>"
      ],
      "text/plain": [
       "       rate_21Q1  rate_20Q4  rate_20Q3  rate_20Q2  rate_annual\n",
       "count     491.00     491.00     491.00     491.00       491.00\n",
       "mean        7.22       5.76       2.77       2.85         9.90\n",
       "std        40.98      30.54      34.04      27.31        32.84\n",
       "min       -82.40     -86.19     -74.90     -76.17       -81.70\n",
       "25%        -1.44      -1.62      -3.77      -5.00         2.36\n",
       "50%         4.20       2.94       0.21       2.13         8.23\n",
       "75%        10.65       9.42       6.90       5.83        19.19\n",
       "max       660.50     302.75     435.31     373.48       300.71"
      ]
     },
     "execution_count": 13,
     "metadata": {},
     "output_type": "execute_result"
    }
   ],
   "source": [
    "testDF['rate_21Q1'] = ((testDF['median_price 2021 Q1']/testDF['median_price 2020 Q4'])-1)*100\n",
    "testDF['rate_20Q4'] = ((testDF['median_price 2020 Q4']/testDF['median_price 2020 Q3'])-1)*100\n",
    "testDF['rate_20Q3'] = ((testDF['median_price 2020 Q3']/testDF['median_price 2020 Q2'])-1)*100\n",
    "testDF['rate_20Q2'] = ((testDF['median_price 2020 Q2']/testDF['median_price 2020 Q1'])-1)*100\n",
    "testDF['rate_annual'] = ((testDF['median_price 2021 Q1']/testDF['median_price 2020 Q1'])-1)*100\n",
    "testDF.iloc[:,51:57].describe().round(2)"
   ]
  },
  {
   "cell_type": "code",
   "execution_count": null,
   "id": "03ddba5f",
   "metadata": {
    "scrolled": true
   },
   "outputs": [],
   "source": [
    "plt.figure(figsize=(15,4))\n",
    "#modelDF.price_delta.plot()\n",
    "plt.title('Growth rates histogram')\n",
    "plt.ylabel('Growth %')\n",
    "\n",
    "plt.hist(modelDF.price_delta, density=True, bins=150)  # density=False would make counts\n",
    "plt.ylabel('Probability')"
   ]
  },
  {
   "cell_type": "markdown",
   "id": "aed4dd1b",
   "metadata": {},
   "source": [
    "Make a target column:  \n",
    "If the growth rate is more than 5%, target name is \"1\". If not, \"0\"."
   ]
  },
  {
   "cell_type": "code",
   "execution_count": null,
   "id": "60de2dac",
   "metadata": {},
   "outputs": [],
   "source": [
    "modelDF['gt_mean'] = np.where(modelDF.price_delta>modelDF.price_delta.mean(),'1','0')"
   ]
  },
  {
   "cell_type": "code",
   "execution_count": null,
   "id": "38fbefe9",
   "metadata": {},
   "outputs": [],
   "source": [
    "print('This is the distribution of how many postcodes grew more than 6.8% in 2021 Q1')\n",
    "pd.DataFrame(modelDF.gt_mean.value_counts(normalize=True).round(3)*100)"
   ]
  },
  {
   "cell_type": "markdown",
   "id": "ecf8d13e",
   "metadata": {},
   "source": [
    "## Random Forest Classifier"
   ]
  },
  {
   "cell_type": "markdown",
   "id": "51463124",
   "metadata": {},
   "source": [
    "###  Baseline accuracy"
   ]
  },
  {
   "cell_type": "markdown",
   "id": "3b202931",
   "metadata": {},
   "source": [
    "Use __Random Forect Classifier__ and train_test_split to check the accuracy score for predicting if a postcode grew more than 5%."
   ]
  },
  {
   "cell_type": "code",
   "execution_count": null,
   "id": "5bcf7a54",
   "metadata": {},
   "outputs": [],
   "source": [
    "# split data\n",
    "X = modelDF.drop(['median_price 2021 Q1','price_delta','gt_mean',\n",
    "                  'INCP_NEG_NIL','CPRF_na','citizen_non_AU'],axis=1)\n",
    "y = modelDF['gt_mean']\n",
    "X_train, X_test, y_train, y_test = train_test_split(X, y , random_state=123, test_size=.2)\n",
    "\n",
    "# Model with Random Forest\n",
    "rfc = RandomForestClassifier(random_state=123)\n",
    "rfc.fit(X_train,y_train)\n",
    "ypredRFC = rfc.predict(X_test)"
   ]
  },
  {
   "cell_type": "code",
   "execution_count": null,
   "id": "49bac611",
   "metadata": {},
   "outputs": [],
   "source": [
    "print('Accuracy score on test data:',accuracy_score(ypredRFC, y_test).round(4)*100,'%')"
   ]
  },
  {
   "cell_type": "markdown",
   "id": "70b70d59",
   "metadata": {},
   "source": [
    "### Cross-validation"
   ]
  },
  {
   "cell_type": "markdown",
   "id": "4ca05f05",
   "metadata": {},
   "source": [
    "Use cross-validation to test the data thoroughly"
   ]
  },
  {
   "cell_type": "code",
   "execution_count": null,
   "id": "b75c81eb",
   "metadata": {},
   "outputs": [],
   "source": [
    "rfc = RandomForestClassifier(random_state=123)\n",
    "scoreRFC = cross_val_score(rfc, X, y,\n",
    "                           scoring='accuracy',\n",
    "                           cv=KFold(n_splits=5, shuffle=True))\n",
    "\n",
    "print('Using cross-validation:\\nAverage accuracy is:',scoreRFC.mean().round(4)*100,'%')\n",
    "print('STDEV:',scoreRFC.std().round(4))"
   ]
  },
  {
   "cell_type": "markdown",
   "id": "1ee07cee",
   "metadata": {},
   "source": [
    "### Hyperparameter tuning"
   ]
  },
  {
   "cell_type": "markdown",
   "id": "f803dd54",
   "metadata": {},
   "source": [
    "Set up the parameters to tune"
   ]
  },
  {
   "cell_type": "code",
   "execution_count": null,
   "id": "d67ceea4",
   "metadata": {},
   "outputs": [],
   "source": [
    "parameters = { \n",
    "    'n_estimators': [200, 500],\n",
    "    'max_features': ['auto', 'sqrt', 'log2'],\n",
    "    'max_depth' : [4,5,6,7,8],\n",
    "    'criterion' :['gini', 'entropy']\n",
    "}\n",
    "\n",
    "CV_rfc = GridSearchCV(estimator=rfc, param_grid=parameters, cv= 10)\n",
    "CV_rfc.fit(X_train, y_train)"
   ]
  },
  {
   "cell_type": "markdown",
   "id": "d85f0171",
   "metadata": {},
   "source": [
    "See which are the best parameters"
   ]
  },
  {
   "cell_type": "code",
   "execution_count": null,
   "id": "a92bb86c",
   "metadata": {},
   "outputs": [],
   "source": [
    "CV_rfc.best_params_"
   ]
  },
  {
   "cell_type": "markdown",
   "id": "25c54712",
   "metadata": {},
   "source": [
    "Refit model with the selected best parameters"
   ]
  },
  {
   "cell_type": "code",
   "execution_count": null,
   "id": "ace720cb",
   "metadata": {},
   "outputs": [],
   "source": [
    "rfc2 = RandomForestClassifier(criterion = 'gini',\n",
    "                              max_depth = 4,\n",
    "                              max_features = 'auto',\n",
    "                              n_estimators = 500,\n",
    "                              random_state=123)\n",
    "rfc2.fit(X_train, y_train)\n",
    "rfc2_pred = rfc2.predict(X_test)\n",
    "\n",
    "acc = accuracy_score(rfc2_pred,y_test)\n",
    "print(f'Tuned RFC Accuracy Score:{acc.round(4)*100}%')"
   ]
  },
  {
   "cell_type": "markdown",
   "id": "2b087702",
   "metadata": {},
   "source": [
    "## Multi-layer perceptron Classifier"
   ]
  },
  {
   "cell_type": "markdown",
   "id": "d0e922a5",
   "metadata": {},
   "source": [
    "### Base model"
   ]
  },
  {
   "cell_type": "code",
   "execution_count": null,
   "id": "d0aeec6e",
   "metadata": {},
   "outputs": [],
   "source": [
    "mlp = MLPClassifier(random_state=123)\n",
    "mlp.fit(X_train,y_train)\n",
    "y_pred_mlp = mlp.predict(X_test)\n",
    "\n",
    "print(f'MLP Classifier Accuracy: {accuracy_score(y_pred_mlp,y_test).round(4)*100}%')"
   ]
  },
  {
   "cell_type": "markdown",
   "id": "868ee8c6",
   "metadata": {},
   "source": [
    "### Hyperparameter tuning"
   ]
  },
  {
   "cell_type": "code",
   "execution_count": null,
   "id": "faf01614",
   "metadata": {},
   "outputs": [],
   "source": [
    "# Do grid search here"
   ]
  },
  {
   "cell_type": "markdown",
   "id": "3ab22fa5",
   "metadata": {},
   "source": [
    "__Conclusion__"
   ]
  },
  {
   "cell_type": "markdown",
   "id": "999cb016",
   "metadata": {},
   "source": [
    "Result is better than just guessing which postcodes will increase more than 5%.  \n",
    "\n",
    "However, there might be other data that can help increase the accuracy score, such as:\n",
    "- Employment rate per postcode\n",
    "- Whether there are parks nearby\n",
    "- Possibly many more"
   ]
  },
  {
   "cell_type": "markdown",
   "id": "aa4ba865",
   "metadata": {
    "heading_collapsed": true
   },
   "source": [
    "# Results\n"
   ]
  },
  {
   "cell_type": "markdown",
   "id": "71db9e4a",
   "metadata": {
    "heading_collapsed": true
   },
   "source": [
    "# Conclusion and Outlook\n",
    "Summarise findings and elaborate on implications and scope of model with regards to data sufficiency."
   ]
  }
 ],
 "metadata": {
  "kernelspec": {
   "display_name": "Python 3",
   "language": "python",
   "name": "python3"
  },
  "language_info": {
   "codemirror_mode": {
    "name": "ipython",
    "version": 3
   },
   "file_extension": ".py",
   "mimetype": "text/x-python",
   "name": "python",
   "nbconvert_exporter": "python",
   "pygments_lexer": "ipython3",
   "version": "3.8.8"
  },
  "toc": {
   "base_numbering": 1,
   "nav_menu": {},
   "number_sections": true,
   "sideBar": true,
   "skip_h1_title": false,
   "title_cell": "Table of Contents",
   "title_sidebar": "Contents",
   "toc_cell": true,
   "toc_position": {
    "height": "calc(100% - 180px)",
    "left": "10px",
    "top": "150px",
    "width": "261.804px"
   },
   "toc_section_display": true,
   "toc_window_display": true
  },
  "varInspector": {
   "cols": {
    "lenName": 16,
    "lenType": 16,
    "lenVar": 40
   },
   "kernels_config": {
    "python": {
     "delete_cmd_postfix": "",
     "delete_cmd_prefix": "del ",
     "library": "var_list.py",
     "varRefreshCmd": "print(var_dic_list())"
    },
    "r": {
     "delete_cmd_postfix": ") ",
     "delete_cmd_prefix": "rm(",
     "library": "var_list.r",
     "varRefreshCmd": "cat(var_dic_list()) "
    }
   },
   "oldHeight": 498,
   "position": {
    "height": "40px",
    "left": "933px",
    "right": "20px",
    "top": "120px",
    "width": "300px"
   },
   "types_to_exclude": [
    "module",
    "function",
    "builtin_function_or_method",
    "instance",
    "_Feature"
   ],
   "varInspector_section_display": "none",
   "window_display": true
  }
 },
 "nbformat": 4,
 "nbformat_minor": 5
}
