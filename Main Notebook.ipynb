{
 "cells": [
  {
   "cell_type": "markdown",
   "id": "02e89d71",
   "metadata": {
    "toc": true
   },
   "source": [
    "<h1>Table of Contents<span class=\"tocSkip\"></span></h1>\n",
    "<div class=\"toc\"><ul class=\"toc-item\"><li><span><a href=\"#Introduction\" data-toc-modified-id=\"Introduction-1\"><span class=\"toc-item-num\">1&nbsp;&nbsp;</span>Introduction</a></span><ul class=\"toc-item\"><li><span><a href=\"#Goals-&amp;-Methodology\" data-toc-modified-id=\"Goals-&amp;-Methodology-1.1\"><span class=\"toc-item-num\">1.1&nbsp;&nbsp;</span>Goals &amp; Methodology</a></span></li><li><span><a href=\"#Data-Source-and-Variable-Directory\" data-toc-modified-id=\"Data-Source-and-Variable-Directory-1.2\"><span class=\"toc-item-num\">1.2&nbsp;&nbsp;</span>Data Source and Variable Directory</a></span></li><li><span><a href=\"#Imports\" data-toc-modified-id=\"Imports-1.3\"><span class=\"toc-item-num\">1.3&nbsp;&nbsp;</span>Imports</a></span></li></ul></li><li><span><a href=\"#Analysis\" data-toc-modified-id=\"Analysis-2\"><span class=\"toc-item-num\">2&nbsp;&nbsp;</span>Analysis</a></span><ul class=\"toc-item\"><li><span><a href=\"#Reading-&amp;-Cleaning-data\" data-toc-modified-id=\"Reading-&amp;-Cleaning-data-2.1\"><span class=\"toc-item-num\">2.1&nbsp;&nbsp;</span>Reading &amp; Cleaning data</a></span></li><li><span><a href=\"#Variable-Analysis\" data-toc-modified-id=\"Variable-Analysis-2.2\"><span class=\"toc-item-num\">2.2&nbsp;&nbsp;</span>Variable Analysis</a></span><ul class=\"toc-item\"><li><span><a href=\"#Over-Time-(Felix)\" data-toc-modified-id=\"Over-Time-(Felix)-2.2.1\"><span class=\"toc-item-num\">2.2.1&nbsp;&nbsp;</span>Over Time (Felix)</a></span><ul class=\"toc-item\"><li><span><a href=\"#Dwelling-Type\" data-toc-modified-id=\"Dwelling-Type-2.2.1.1\"><span class=\"toc-item-num\">2.2.1.1&nbsp;&nbsp;</span>Dwelling Type</a></span></li><li><span><a href=\"#Sales-Number\" data-toc-modified-id=\"Sales-Number-2.2.1.2\"><span class=\"toc-item-num\">2.2.1.2&nbsp;&nbsp;</span>Sales Number</a></span></li><li><span><a href=\"#Median-Rent\" data-toc-modified-id=\"Median-Rent-2.2.1.3\"><span class=\"toc-item-num\">2.2.1.3&nbsp;&nbsp;</span>Median Rent</a></span></li><li><span><a href=\"#New-Bonds\" data-toc-modified-id=\"New-Bonds-2.2.1.4\"><span class=\"toc-item-num\">2.2.1.4&nbsp;&nbsp;</span>New Bonds</a></span></li><li><span><a href=\"#Construction-Costs\" data-toc-modified-id=\"Construction-Costs-2.2.1.5\"><span class=\"toc-item-num\">2.2.1.5&nbsp;&nbsp;</span>Construction Costs</a></span></li><li><span><a href=\"#Bond-Yields\" data-toc-modified-id=\"Bond-Yields-2.2.1.6\"><span class=\"toc-item-num\">2.2.1.6&nbsp;&nbsp;</span>Bond Yields</a></span></li><li><span><a href=\"#Interest-Rates\" data-toc-modified-id=\"Interest-Rates-2.2.1.7\"><span class=\"toc-item-num\">2.2.1.7&nbsp;&nbsp;</span>Interest Rates</a></span></li></ul></li><li><span><a href=\"#By-Postcode\" data-toc-modified-id=\"By-Postcode-2.2.2\"><span class=\"toc-item-num\">2.2.2&nbsp;&nbsp;</span>By Postcode</a></span><ul class=\"toc-item\"><li><span><a href=\"#Median-Rent\" data-toc-modified-id=\"Median-Rent-2.2.2.1\"><span class=\"toc-item-num\">2.2.2.1&nbsp;&nbsp;</span>Median Rent</a></span></li><li><span><a href=\"#New-Bonds\" data-toc-modified-id=\"New-Bonds-2.2.2.2\"><span class=\"toc-item-num\">2.2.2.2&nbsp;&nbsp;</span>New Bonds</a></span></li><li><span><a href=\"#Age-Brackets\" data-toc-modified-id=\"Age-Brackets-2.2.2.3\"><span class=\"toc-item-num\">2.2.2.3&nbsp;&nbsp;</span>Age Brackets</a></span></li><li><span><a href=\"#ATSI\" data-toc-modified-id=\"ATSI-2.2.2.4\"><span class=\"toc-item-num\">2.2.2.4&nbsp;&nbsp;</span>ATSI</a></span></li><li><span><a href=\"#High-Income\" data-toc-modified-id=\"High-Income-2.2.2.5\"><span class=\"toc-item-num\">2.2.2.5&nbsp;&nbsp;</span>High Income</a></span></li><li><span><a href=\"#Year-of-Arrival\" data-toc-modified-id=\"Year-of-Arrival-2.2.2.6\"><span class=\"toc-item-num\">2.2.2.6&nbsp;&nbsp;</span>Year of Arrival</a></span></li><li><span><a href=\"#Non-AUS-Citizen\" data-toc-modified-id=\"Non-AUS-Citizen-2.2.2.7\"><span class=\"toc-item-num\">2.2.2.7&nbsp;&nbsp;</span>Non-AUS Citizen</a></span></li></ul></li><li><span><a href=\"#On-Postcode-Level-and-over-Time-(maybe-use-melt?)\" data-toc-modified-id=\"On-Postcode-Level-and-over-Time-(maybe-use-melt?)-2.2.3\"><span class=\"toc-item-num\">2.2.3&nbsp;&nbsp;</span>On Postcode Level and over Time (maybe use melt?)</a></span></li></ul></li></ul></li><li><span><a href=\"#Modeling\" data-toc-modified-id=\"Modeling-3\"><span class=\"toc-item-num\">3&nbsp;&nbsp;</span>Modeling</a></span><ul class=\"toc-item\"><li><span><a href=\"#Baseline-Regression-Model-(Chris)\" data-toc-modified-id=\"Baseline-Regression-Model-(Chris)-3.1\"><span class=\"toc-item-num\">3.1&nbsp;&nbsp;</span>Baseline Regression Model (Chris)</a></span></li><li><span><a href=\"#Cross-Validation\" data-toc-modified-id=\"Cross-Validation-3.2\"><span class=\"toc-item-num\">3.2&nbsp;&nbsp;</span>Cross Validation</a></span></li><li><span><a href=\"#Feature-Engineering\" data-toc-modified-id=\"Feature-Engineering-3.3\"><span class=\"toc-item-num\">3.3&nbsp;&nbsp;</span>Feature Engineering</a></span></li><li><span><a href=\"#Improved-Model\" data-toc-modified-id=\"Improved-Model-3.4\"><span class=\"toc-item-num\">3.4&nbsp;&nbsp;</span>Improved Model</a></span></li></ul></li><li><span><a href=\"#Clustering-(Ken-&amp;-Felix)\" data-toc-modified-id=\"Clustering-(Ken-&amp;-Felix)-4\"><span class=\"toc-item-num\">4&nbsp;&nbsp;</span>Clustering (Ken &amp; Felix)</a></span><ul class=\"toc-item\"><li><span><a href=\"#Kmeans\" data-toc-modified-id=\"Kmeans-4.1\"><span class=\"toc-item-num\">4.1&nbsp;&nbsp;</span>Kmeans</a></span><ul class=\"toc-item\"><li><span><a href=\"#Scaling-the-data\" data-toc-modified-id=\"Scaling-the-data-4.1.1\"><span class=\"toc-item-num\">4.1.1&nbsp;&nbsp;</span>Scaling the data</a></span></li><li><span><a href=\"#Optimal-Number-of-K:-Elbow-Method\" data-toc-modified-id=\"Optimal-Number-of-K:-Elbow-Method-4.1.2\"><span class=\"toc-item-num\">4.1.2&nbsp;&nbsp;</span>Optimal Number of K: Elbow Method</a></span></li><li><span><a href=\"#Apply-Algorithm\" data-toc-modified-id=\"Apply-Algorithm-4.1.3\"><span class=\"toc-item-num\">4.1.3&nbsp;&nbsp;</span>Apply Algorithm</a></span></li><li><span><a href=\"#Map\" data-toc-modified-id=\"Map-4.1.4\"><span class=\"toc-item-num\">4.1.4&nbsp;&nbsp;</span>Map</a></span></li></ul></li><li><span><a href=\"#Hierarchical-clustering\" data-toc-modified-id=\"Hierarchical-clustering-4.2\"><span class=\"toc-item-num\">4.2&nbsp;&nbsp;</span>Hierarchical clustering</a></span><ul class=\"toc-item\"><li><span><a href=\"#Scaling-the-data\" data-toc-modified-id=\"Scaling-the-data-4.2.1\"><span class=\"toc-item-num\">4.2.1&nbsp;&nbsp;</span>Scaling the data</a></span></li><li><span><a href=\"#Apply-algorithm\" data-toc-modified-id=\"Apply-algorithm-4.2.2\"><span class=\"toc-item-num\">4.2.2&nbsp;&nbsp;</span>Apply algorithm</a></span></li><li><span><a href=\"#Map\" data-toc-modified-id=\"Map-4.2.3\"><span class=\"toc-item-num\">4.2.3&nbsp;&nbsp;</span>Map</a></span></li></ul></li><li><span><a href=\"#Conclusion\" data-toc-modified-id=\"Conclusion-4.3\"><span class=\"toc-item-num\">4.3&nbsp;&nbsp;</span>Conclusion</a></span></li></ul></li><li><span><a href=\"#Distinct-Models-per-Clusters\" data-toc-modified-id=\"Distinct-Models-per-Clusters-5\"><span class=\"toc-item-num\">5&nbsp;&nbsp;</span>Distinct Models per Clusters</a></span><ul class=\"toc-item\"><li><span><a href=\"#Linear-regression-based-on-KMeans-clusters\" data-toc-modified-id=\"Linear-regression-based-on-KMeans-clusters-5.1\"><span class=\"toc-item-num\">5.1&nbsp;&nbsp;</span>Linear regression based on KMeans clusters</a></span><ul class=\"toc-item\"><li><span><a href=\"#Data-prep\" data-toc-modified-id=\"Data-prep-5.1.1\"><span class=\"toc-item-num\">5.1.1&nbsp;&nbsp;</span>Data prep</a></span></li><li><span><a href=\"#Model-on-the-2-Clusters\" data-toc-modified-id=\"Model-on-the-2-Clusters-5.1.2\"><span class=\"toc-item-num\">5.1.2&nbsp;&nbsp;</span>Model on the 2 Clusters</a></span></li><li><span><a href=\"#Hyperparameter-Tuning-Using-Grid-Search-Cross-Validation\" data-toc-modified-id=\"Hyperparameter-Tuning-Using-Grid-Search-Cross-Validation-5.1.3\"><span class=\"toc-item-num\">5.1.3&nbsp;&nbsp;</span>Hyperparameter Tuning Using Grid Search Cross-Validation</a></span><ul class=\"toc-item\"><li><span><a href=\"#Cluster-0\" data-toc-modified-id=\"Cluster-0-5.1.3.1\"><span class=\"toc-item-num\">5.1.3.1&nbsp;&nbsp;</span>Cluster 0</a></span></li><li><span><a href=\"#Cluster-1\" data-toc-modified-id=\"Cluster-1-5.1.3.2\"><span class=\"toc-item-num\">5.1.3.2&nbsp;&nbsp;</span>Cluster 1</a></span></li></ul></li><li><span><a href=\"#Conclusion\" data-toc-modified-id=\"Conclusion-5.1.4\"><span class=\"toc-item-num\">5.1.4&nbsp;&nbsp;</span>Conclusion</a></span></li></ul></li></ul></li><li><span><a href=\"#Classification\" data-toc-modified-id=\"Classification-6\"><span class=\"toc-item-num\">6&nbsp;&nbsp;</span>Classification</a></span><ul class=\"toc-item\"><li><span><a href=\"#Assign-class-label---define-'high-growth-potential'-areas\" data-toc-modified-id=\"Assign-class-label---define-'high-growth-potential'-areas-6.1\"><span class=\"toc-item-num\">6.1&nbsp;&nbsp;</span>Assign class label - define 'high growth potential' areas</a></span></li><li><span><a href=\"#Random-Forest-Classifier\" data-toc-modified-id=\"Random-Forest-Classifier-6.2\"><span class=\"toc-item-num\">6.2&nbsp;&nbsp;</span>Random Forest Classifier</a></span><ul class=\"toc-item\"><li><span><a href=\"#Base-model\" data-toc-modified-id=\"Base-model-6.2.1\"><span class=\"toc-item-num\">6.2.1&nbsp;&nbsp;</span>Base model</a></span></li><li><span><a href=\"#Cross-validation\" data-toc-modified-id=\"Cross-validation-6.2.2\"><span class=\"toc-item-num\">6.2.2&nbsp;&nbsp;</span>Cross-validation</a></span></li><li><span><a href=\"#Hyperparameter-tuning\" data-toc-modified-id=\"Hyperparameter-tuning-6.2.3\"><span class=\"toc-item-num\">6.2.3&nbsp;&nbsp;</span>Hyperparameter tuning</a></span></li><li><span><a href=\"#Check-top-5-cheapest-postcodes-that-are-predicted-to-have-high-growth\" data-toc-modified-id=\"Check-top-5-cheapest-postcodes-that-are-predicted-to-have-high-growth-6.2.4\"><span class=\"toc-item-num\">6.2.4&nbsp;&nbsp;</span>Check top 5 cheapest postcodes that are predicted to have high growth</a></span></li><li><span><a href=\"#Conclusion\" data-toc-modified-id=\"Conclusion-6.2.5\"><span class=\"toc-item-num\">6.2.5&nbsp;&nbsp;</span>Conclusion</a></span></li></ul></li><li><span><a href=\"#Multi-layer-Perceptron-Classifier\" data-toc-modified-id=\"Multi-layer-Perceptron-Classifier-6.3\"><span class=\"toc-item-num\">6.3&nbsp;&nbsp;</span>Multi-layer Perceptron Classifier</a></span><ul class=\"toc-item\"><li><span><a href=\"#Base-model\" data-toc-modified-id=\"Base-model-6.3.1\"><span class=\"toc-item-num\">6.3.1&nbsp;&nbsp;</span>Base model</a></span><ul class=\"toc-item\"><li><span><a href=\"#Cross-Validation\" data-toc-modified-id=\"Cross-Validation-6.3.1.1\"><span class=\"toc-item-num\">6.3.1.1&nbsp;&nbsp;</span>Cross Validation</a></span></li></ul></li><li><span><a href=\"#Hyperparameter-tuning\" data-toc-modified-id=\"Hyperparameter-tuning-6.3.2\"><span class=\"toc-item-num\">6.3.2&nbsp;&nbsp;</span>Hyperparameter tuning</a></span><ul class=\"toc-item\"><li><span><a href=\"#Tuning-Individual-Parameter\" data-toc-modified-id=\"Tuning-Individual-Parameter-6.3.2.1\"><span class=\"toc-item-num\">6.3.2.1&nbsp;&nbsp;</span>Tuning Individual Parameter</a></span></li><li><span><a href=\"#Tuning-with-GridSearch\" data-toc-modified-id=\"Tuning-with-GridSearch-6.3.2.2\"><span class=\"toc-item-num\">6.3.2.2&nbsp;&nbsp;</span>Tuning with GridSearch</a></span></li></ul></li><li><span><a href=\"#Best-MLPClassifier\" data-toc-modified-id=\"Best-MLPClassifier-6.3.3\"><span class=\"toc-item-num\">6.3.3&nbsp;&nbsp;</span>Best MLPClassifier</a></span><ul class=\"toc-item\"><li><span><a href=\"#Best-MLPClassifier---based-on-individual-tuning\" data-toc-modified-id=\"Best-MLPClassifier---based-on-individual-tuning-6.3.3.1\"><span class=\"toc-item-num\">6.3.3.1&nbsp;&nbsp;</span>Best MLPClassifier - based on individual tuning</a></span></li><li><span><a href=\"#Best-MLPClassifier---based-on-GridSearch\" data-toc-modified-id=\"Best-MLPClassifier---based-on-GridSearch-6.3.3.2\"><span class=\"toc-item-num\">6.3.3.2&nbsp;&nbsp;</span>Best MLPClassifier - based on GridSearch</a></span></li></ul></li></ul></li><li><span><a href=\"#The-Classifier-of-Choice\" data-toc-modified-id=\"The-Classifier-of-Choice-6.4\"><span class=\"toc-item-num\">6.4&nbsp;&nbsp;</span>The Classifier of Choice</a></span></li><li><span><a href=\"#Analysis-and-Interpretation\" data-toc-modified-id=\"Analysis-and-Interpretation-6.5\"><span class=\"toc-item-num\">6.5&nbsp;&nbsp;</span>Analysis and Interpretation</a></span></li></ul></li><li><span><a href=\"#Results\" data-toc-modified-id=\"Results-7\"><span class=\"toc-item-num\">7&nbsp;&nbsp;</span>Results</a></span></li><li><span><a href=\"#Conclusion-and-Outlook\" data-toc-modified-id=\"Conclusion-and-Outlook-8\"><span class=\"toc-item-num\">8&nbsp;&nbsp;</span>Conclusion and Outlook</a></span></li></ul></div>"
   ]
  },
  {
   "cell_type": "markdown",
   "id": "5ae51e48",
   "metadata": {},
   "source": [
    "# Introduction\n",
    "\n",
    "In this note book, we explore various topics related to the NSW property market in the context of the onging COVID pandemic in an attempt to validate or invalidate some common beliefs people hold about the housing market, to list a few:\n",
    "* Now it's the best time to buy/inevest in a property, the market is crashing!\n",
    "* Too many people have tried to seize the opportunity, it's not an opportunity anymore... \n",
    "* Take advantage of the cheap rent while you can, tenants are the boss these days.\n",
    "\n",
    "As a group of Data Analysts in training, we surely won't take 'expert opinions' on the news as gospel. Instead, here we've gathered data of property sales and rental activities released by the NSW government as well as demographic and socioeconomic information from credible source to conduct our own analysis. We seek to uncover the real trends of the housing market and identify the driving forces behind these changes in this wild new world we live in.\n"
   ]
  },
  {
   "cell_type": "markdown",
   "id": "82372dd5",
   "metadata": {},
   "source": [
    "## Goals & Methodology\n",
    "\n",
    "**1. Track the trend of house sales and rental activities** \n",
    "\n",
    "Plot the number of sales/bonds and median price/rent over the period of Q3 2017 to Q1 2021, aiming to provide insights into following questions: \n",
    "\n",
    "* Are more people buying or investing in properties nowadays compared to the pre-COVID period? \n",
    "* How have the housing and rental activities changed since COVID? Are there any correlations between both? \n",
    "* Are there any differences across geographic areas? What are the most popular and fast growing areas in the housing market?\n",
    "\n",
    "**2. Identify the correlations between house market activities and selected demographic and socioeconomic features**\n",
    "\n",
    "* Use correlation matrix to identify features highly correlated to house price and sales and to rule out multicollinearity for modelling\n",
    "* Plot trended housing data together with time-series features (interest rate and government bond yields) to explore correlation  \n",
    "\n",
    "**3. Predict house prices**\n",
    "\n",
    "* Build a linear regression model with \n",
    "    * the median house prices of the latest time period (Q1 2021) as target variable\n",
    "    * number of sales, number of bonds and weekly rent from the same time period, house prices from previous 4 time periods as well as demographic/ socioecnomic features as predictor variablees \n",
    "* Use RFE to determine the optimal number of features and select best features \n",
    "* Use GridSearchCV to find best parameters for the linear regression model\n",
    "* Validate model performance using cross validation\n",
    "\n",
    "**4. Find similar areas**\n",
    "\n",
    "* Identify clusters of similar LGAs to see if some house prices between the LGAs behave similarly with each other. The two clustering method tested are:\n",
    "    * K-means clustering\n",
    "    * Hierarchical clustering\n",
    "* Build one linear regression model on house price for each cluster, compare the results with the prediction based on the whole sample and decide if regression by cluster provides better performance.\n",
    "\n",
    "**5. Identify locations with high growth potentials**\n",
    "\n",
    "* Label postal areas whose house price increase rate of the latest time period (Q1 2021) is greater than 5% as 'high growth' areas \n",
    "* Build a classifier to classify postcodes into the high growth potential / low growth potential classes\n",
    "    * Random Forest\n",
    "    * Artificial Neural Network\n",
    "* Optimise classifier through hyperparameter tuning \n",
    "* Compare performance of different models and select the best"
   ]
  },
  {
   "cell_type": "markdown",
   "id": "3183a3ab",
   "metadata": {},
   "source": [
    "## Data Source and Variable Directory\n",
    "\n",
    "**<u>Housing Data</u>**\n",
    "<br>The housing data used in this analysis was obtained from Resources centre of the [NSW communities & Justice website](https://www.facs.nsw.gov.au/resources/statistics/rent-and-sales/back-issues). Data is released on quarterly base and provide information about house sales and rent activities in NSW by postcode and LGA. Here we choose to analyse the data at postcode level to have more robust sample size and greater precision. The raw sales and rent files are stored under <i>'Files/Sales'</i> and <i>'Files/Rent'</i> directoty respectively. </br>\n",
    "\n",
    "To explore the trends, we've concatenated 15 quarters (from Q3 2017 and Q1 2021) of sales and rent data into one single file (saved under <i>'Files/Cleaned/Housing'</i>, which contains below variables:\n",
    "* **postcode**: NSW postcodes, unique identifier of geographical areas in the data\n",
    "* **skey**: the issue number of raw sales reports, starting with an 's' + 3 digit numbers \n",
    "* **dwelling_type**: dwelling type by Strata, Non-strata or Total\n",
    "* **median_price**: the median price of properties sold (in AUD'000s)\n",
    "* **mean_price**: the mean price of properties sold (in AUD'000s)\n",
    "* **sales_no**: the number of properties sales made in a given time period\n",
    "* **rkey**: the issue number of raw rent reports, starting with an 'r' + 3 digit numbers\n",
    "* **median_rent_newb**: Median Weekly Rent for New Bonds (in AUD)\n",
    "* **new_bonds_no**:the number of new bonds lodged in a given time period in the area\n",
    "* **total_bonds_no**: the total number of bonds held in a given time period in the area\n",
    "\n",
    "\n",
    "\n",
    "<br>**<u>Feature Data</u>**</br>\n",
    "We've gathered demographic information for different parts of NSW and socioenocomic indicators over the time period of interest from various source, namely:\n",
    "* 2016 Census from Australian Bureau of Statistics\n",
    "* Reserve Bank of Australia\n",
    "* [Yieldbroker](https://www.yieldbroker.com/)\n",
    "\n",
    "and merged the features into the housing data to create a compelete data set which includes following features:\n",
    "* **INCP**: Total personal income (Weekly)\n",
    "    * INCP_LOW: less than \\\\$749 (AUD) per week (inclusive)\n",
    "    * INCP_MID: \\\\$800 - \\\\$1749 (AUD) per week\n",
    "    * INCP_HIGH: greater than $1750 (AUD) per week (inclusive)\n",
    "    * INCP_NEG_NIL: zero or negtive income\n",
    "* **CPRF**: Count of persons in family, i.e. household sizes, ranging from 2 to 6+ people\n",
    "* **Population**: Residing population within each postcode area in 2016\n",
    "    * Population by age group: 0-4yo, 5-14yo, 15-24yo, 25-34yo, 35-54yo, 55-64yo, 65+yo \n",
    "    * Population_2016: derived from the sum of all age groups and those preferred not to answer (na)\n",
    "* **Citizenship**: \n",
    "    * Citizen_AU: the number of residents who hold Australian citizenship\n",
    "    * Citizen_non_AU: the number of residents who hold citizenship of other countries\n",
    "* **YARRP**: Year of arrival in australia - the number of immigrants/ visa-holding temporary residents who first arrived in australia in the following time period\n",
    "    * YARRP < 1975: prior to year 1975 (inclusive)\n",
    "    * YARRP 1976-1995: between year 1976 and 1995\n",
    "    * YARRP 1996-2005: between year 1996 and 2005\n",
    "    * YARRP 2006-2016: between year 1996 and August 2016\n",
    "* **ATSI**: the number of residents who identify as Aboriginal and/or Torres Strait Islanders\n",
    "* **Bonds%**: yield on Commonwealth Government bonds\n",
    "    * 2yBonds%: yield on 2 year bond\n",
    "    * 10yBonds%: yield on 10 year bond\n",
    "* **Rate**: Interest rate/cash rate (percent)\n",
    "* **constr_index**: Index of construction-related prices in Australia\n"
   ]
  },
  {
   "cell_type": "markdown",
   "id": "7bdddb24",
   "metadata": {},
   "source": [
    "## Imports\n",
    "Import libraries and write settings here."
   ]
  },
  {
   "cell_type": "code",
   "execution_count": 1,
   "id": "4b9247d1",
   "metadata": {},
   "outputs": [],
   "source": [
    "import pandas as pd\n",
    "import numpy as np\n",
    "import matplotlib.pyplot as plt\n",
    "import seaborn as sns\n",
    "\n",
    "from sklearn.preprocessing import StandardScaler\n",
    "from sklearn.linear_model import LinearRegression\n",
    "from sklearn.ensemble import RandomForestClassifier\n",
    "from sklearn.neural_network import MLPClassifier\n",
    "\n",
    "from sklearn.cluster import KMeans\n",
    "from scipy.cluster.hierarchy import linkage\n",
    "from scipy.cluster.hierarchy import dendrogram\n",
    "from scipy.cluster.hierarchy import cut_tree\n",
    "\n",
    "from sklearn.model_selection import train_test_split, cross_val_score, cross_val_predict\n",
    "from sklearn.model_selection import GridSearchCV, KFold, StratifiedKFold\n",
    "from sklearn.feature_selection import RFE\n",
    "from sklearn.metrics import accuracy_score, r2_score, mean_squared_error, confusion_matrix\n",
    "\n",
    "import geopandas as gpd\n",
    "from mpl_toolkits.axes_grid1 import make_axes_locatable\n",
    "from shapely.geometry import Point, Polygon\n",
    "# import mapclassify\n",
    "\n",
    "import warnings \n",
    "warnings.filterwarnings('ignore')\n",
    "\n",
    "%matplotlib inline"
   ]
  },
  {
   "cell_type": "markdown",
   "id": "7340b3e6",
   "metadata": {},
   "source": [
    "The data cleaning function takes a few minutes to complete."
   ]
  },
  {
   "cell_type": "markdown",
   "id": "53acbd9f",
   "metadata": {
    "heading_collapsed": true
   },
   "source": [
    "# Analysis"
   ]
  },
  {
   "cell_type": "markdown",
   "id": "75e2d2c6",
   "metadata": {
    "hidden": true
   },
   "source": [
    "## Reading & Cleaning data\n",
    "Due to the lenghthiness of data cleaning and merging, we will only give a brief run down of the process here with reference to the location of relevant piece of code.\n",
    "\n",
    "**Step1. Cleaning of individual house sales and rent data file**\n",
    "* Read quarterly house sales reports (.xlsx) into individual dataframes, perform necessary checkinng, remove and/or impute null values as needed and add time period and indentifier variables</br>\n",
    "* Above step is repeated for all 15 sales files, the resulting dataframes are concacted into two due to the slight difference in the raw data format, which are then saved as csv files (`sales_2017_2018.csv` and `sales_2019_2021.csv`) for later usage.\n",
    "* The same process is performed to quarterly rent reports (.xlsx) and results in `rent_2017_2018.csv` and `rent_2019_2021.csv`. \n",
    "\n",
    "This step is captured in <<u>**@CHRIS** INSERT FUNCTION + EXPLAIN A BIT HERE</u>>.\n",
    "\n",
    "<br>**Step2. Create the master housing data file by merging all sales and rent data**</br>\n",
    "* First merge the two sales files into one and the two rent files into one\n",
    "* The complete sales file and the complete rent file is then merged into the master stacked file (each quarter of data is stacked on top of one another) `Master_Sales_Rent_2017Q4_2021Q1.csv`\n",
    "* Pivot the stacked master file to create an unstacked data file of 5 most recent quarters later modelling (`Pivot_Sales_Rent_5Quarters_Imputed.csv`)\n",
    "\n",
    "This step is captured in the <i>Data Preparation Pt1 (NSW Housing data)</i> notebook.\n",
    "\n",
    "<br>**Step3. Clean feature data and merge into the master data files**</br>\n",
    "* Features mentioned in prior section are read into separate dataframes cleaned individually\n",
    "* Once processed, the features are merged into the master stacked and unstacked data file using postcode or time period as key. \n",
    "* The final complete data files are:\n",
    "    * Stacked: `Master_Sales_Rent_2017Q4_2021Q1_pcFeatures.csv`\n",
    "    * Unstacked: `Unstacked_Sales_Rent_5Quarters_Imputed_pcFeatures.csv`\n",
    "    \n",
    "This step is captured in the <i>Data Preparation Pt2 (Feature data)</i> notebook."
   ]
  },
  {
   "cell_type": "code",
   "execution_count": null,
   "id": "1d11dd05",
   "metadata": {
    "hidden": true
   },
   "outputs": [],
   "source": [
    "#%run chrisDataCleanFunction.ipynb"
   ]
  },
  {
   "cell_type": "markdown",
   "id": "bdc3a5bd",
   "metadata": {
    "hidden": true
   },
   "source": [
    "We get the following DFs:\n",
    "\n",
    "- `salesNew`\n",
    "- `salesOld`\n",
    "- `salesNew_nStrata`\n",
    "- `salesNew_strata`\n",
    "- `salesNew_total`\n",
    "- `salesOld_nStrata`\n",
    "- `salesOld_strata`\n",
    "- `salesOld_total`\n",
    "- `rentNew`\n",
    "- `rentOld`"
   ]
  },
  {
   "cell_type": "code",
   "execution_count": null,
   "id": "daa435a2",
   "metadata": {
    "hidden": true
   },
   "outputs": [],
   "source": [
    "# reading in\n",
    "master = pd.read_csv(\"Files/Cleaned/Postcode-based/Master_Sales_Rent_2017Q4_2021Q1_pcFeatures.csv\")\n",
    "pd.set_option('display.max_columns', None)\n",
    "master.head()"
   ]
  },
  {
   "cell_type": "code",
   "execution_count": null,
   "id": "c9f4ea64",
   "metadata": {
    "hidden": true
   },
   "outputs": [],
   "source": []
  },
  {
   "cell_type": "code",
   "execution_count": null,
   "id": "ca5c3ae0",
   "metadata": {
    "hidden": true
   },
   "outputs": [],
   "source": []
  },
  {
   "cell_type": "code",
   "execution_count": null,
   "id": "bf0e7bd8",
   "metadata": {
    "hidden": true,
    "scrolled": true
   },
   "outputs": [],
   "source": [
    "master.dtypes"
   ]
  },
  {
   "cell_type": "code",
   "execution_count": null,
   "id": "0fc7a00d",
   "metadata": {
    "hidden": true
   },
   "outputs": [],
   "source": [
    "master.columns"
   ]
  },
  {
   "cell_type": "markdown",
   "id": "dbda856a",
   "metadata": {
    "hidden": true
   },
   "source": [
    "## Variable Analysis"
   ]
  },
  {
   "cell_type": "markdown",
   "id": "4f30130d",
   "metadata": {
    "hidden": true
   },
   "source": [
    "### Over Time (Felix)\n",
    "Analyse possible relationships between target variable and features. Check if features are correlated."
   ]
  },
  {
   "cell_type": "code",
   "execution_count": null,
   "id": "0e1ab5ef",
   "metadata": {
    "hidden": true
   },
   "outputs": [],
   "source": [
    "# pivot unstacked df to get aggregate values by time period\n",
    "pivot_time = pd.pivot_table(master,\n",
    "                            index=\"time_period\")\n",
    "pivot_time"
   ]
  },
  {
   "cell_type": "code",
   "execution_count": null,
   "id": "9d637b9a",
   "metadata": {
    "hidden": true
   },
   "outputs": [],
   "source": [
    "pivot_time.columns"
   ]
  },
  {
   "cell_type": "code",
   "execution_count": null,
   "id": "d6af8185",
   "metadata": {
    "hidden": true
   },
   "outputs": [],
   "source": [
    "# remove all census data as it does not change over time\n",
    "pivot_time = pivot_time.drop(['Adelta_count', \n",
    "                              'Adelta_median',\n",
    "                              'Adelta_median_rent', \n",
    "                              'Adelta_new_bonds', \n",
    "                              'Qdelta_count', \n",
    "                              'Qdelta_median',\n",
    "                              'Qdelta_median_rent', \n",
    "                              'Qdelta_new_bonds', \n",
    "                              'YARRP 1976-1995',\n",
    "                              'YARRP 1996-2005', \n",
    "                              'YARRP 2006-2016', \n",
    "                              'YARRP <1975', \n",
    "                              'population_2016', \n",
    "                              'postcode', \n",
    "                              '0-4yo', \n",
    "                              '15-24yo', \n",
    "                              '25-34yo', \n",
    "                              '35-54yo',\n",
    "                              '5-14yo', \n",
    "                              '55-64yo', \n",
    "                              '65+yo', \n",
    "                              'ATSI'],\n",
    "                            axis=1)\n",
    "pivot_time"
   ]
  },
  {
   "cell_type": "code",
   "execution_count": null,
   "id": "cc7e5da0",
   "metadata": {
    "hidden": true
   },
   "outputs": [],
   "source": [
    "pivot_time.columns"
   ]
  },
  {
   "cell_type": "code",
   "execution_count": null,
   "id": "67d2c87e",
   "metadata": {
    "hidden": true
   },
   "outputs": [],
   "source": [
    "# show correlation matrix for numeric data\n",
    "plt.figure(figsize=(16, 12))\n",
    "\n",
    "postcode_corr = pivot_time[['mean_price', 'median_price', 'median_rent_newb', 'new_bonds_no', 'total_bonds_no', \n",
    "                            '10yBonds%', '2yBonds%', 'Rate', 'constr_index', 'sales_no']]\n",
    "\n",
    "matrix = np.triu(postcode_corr.corr())\n",
    "\n",
    "sns.heatmap(postcode_corr.corr(), \n",
    "            annot=True, # put coefficients in\n",
    "            fmt='.2g', # set number of decimals\n",
    "            vmin=-1, vmax=1, center=0, # rescale colorbar\n",
    "            cmap='RdYlGn', # set color palette\n",
    "            square=True, # set squares\n",
    "            mask=matrix) # display only lower triangular matrix\n",
    "plt.yticks(rotation=360)\n",
    "plt.xticks(rotation=70);"
   ]
  },
  {
   "cell_type": "markdown",
   "id": "5fb06087",
   "metadata": {
    "hidden": true
   },
   "source": [
    "Analysis of correlation with price:\n",
    "- There is a weak negative relationship between the __rent level__ and the sales price level. This implies that periods with higher rent prices tend to have lower sales prices. However, as mentioned, the relationship is rather weak.\n",
    "- There is a moderate positive relationship with the amount of __total bonds__.\n",
    "- There is a moderate to strong negative relationship with __10 Year Bonds__. This makes sense since in economic theory investors can choose from different asset classes. Government bonds are considered as ultra safe and hence represent a baseline of what investors expect as return since they can have the bond yield \"risk free\". If bond yields rise, the relative return of competing asset classes decrease, demand goes down, and price level will follow.\n",
    "- There is a strong negative relationship with __2 Year Bonds__. The reasoning is the same as for 10 year bonds. It is interesting, though, that the relationship for shorter duration bonds seems stronger.\n",
    "- There is a moderate to strong positive relationship with __high income__. This implies that postcode area with high sales prices tend to have a population with higher income.\n",
    "- There is a strong negative relationship with __interest rates__. This is another reasonable observation from an economic point of view. When interest rates decrease, it means capital becomes cheaper i.e. it is easier to get a loan since they are related to the rate level. Hence demand for housing, financed through loans, increases, and prices adjust accordingly.\n",
    "- There is a moderate positive relationship with __construction costs__. This makes sense since house prices should increase as cost for building them increases.\n",
    "- Lastly, there is a strong positive relationship with __sales numbers__. It is not sure at this stage how this actually relates, but the number of sales could be viewed as a proxy for demand which would drive prices."
   ]
  },
  {
   "cell_type": "markdown",
   "id": "affa315f",
   "metadata": {
    "hidden": true
   },
   "source": [
    "Interesting features to analyse over time together with price:\n",
    "- dwelling type (in first EDA notebook)\n",
    "- sales number\n",
    "- median rent\n",
    "- new bonds\n",
    "- bond yields\n",
    "- construction costs\n",
    "- interest rate"
   ]
  },
  {
   "cell_type": "markdown",
   "id": "d86d7efb",
   "metadata": {
    "hidden": true
   },
   "source": [
    "#### Dwelling Type"
   ]
  },
  {
   "cell_type": "code",
   "execution_count": null,
   "id": "6b98e589",
   "metadata": {
    "hidden": true
   },
   "outputs": [],
   "source": [
    "plt.figure(figsize=(10,7))\n",
    "ax = sns.lineplot(data=price_mean)\n",
    "ax.set_title(\"Average price of houses sold by dwelling type\")\n",
    "ax.set_ylabel(\"avg. price (AUD 000s)\")\n",
    "ax.set_xlabel(None);"
   ]
  },
  {
   "cell_type": "markdown",
   "id": "5a882530",
   "metadata": {
    "hidden": true
   },
   "source": [
    "#### Sales Number"
   ]
  },
  {
   "cell_type": "markdown",
   "id": "b885007c",
   "metadata": {
    "hidden": true
   },
   "source": [
    "#### Median Rent"
   ]
  },
  {
   "cell_type": "markdown",
   "id": "cefb7fac",
   "metadata": {
    "hidden": true
   },
   "source": [
    "#### New Bonds"
   ]
  },
  {
   "cell_type": "markdown",
   "id": "c778bff5",
   "metadata": {
    "hidden": true
   },
   "source": [
    "#### Construction Costs"
   ]
  },
  {
   "cell_type": "markdown",
   "id": "edd62851",
   "metadata": {
    "hidden": true
   },
   "source": [
    "#### Bond Yields"
   ]
  },
  {
   "cell_type": "markdown",
   "id": "f9c0cbf2",
   "metadata": {
    "hidden": true
   },
   "source": [
    "#### Interest Rates"
   ]
  },
  {
   "cell_type": "markdown",
   "id": "7c6a15d0",
   "metadata": {
    "heading_collapsed": true,
    "hidden": true
   },
   "source": [
    "### By Postcode"
   ]
  },
  {
   "cell_type": "code",
   "execution_count": null,
   "id": "8ca74940",
   "metadata": {
    "hidden": true
   },
   "outputs": [],
   "source": [
    "# pivot unstacked df to get aggregate values by postcode\n",
    "pivot_postcode = pd.pivot_table(master,\n",
    "                                index=\"postcode\")\n",
    "pivot_postcode"
   ]
  },
  {
   "cell_type": "code",
   "execution_count": null,
   "id": "21747e86",
   "metadata": {
    "hidden": true
   },
   "outputs": [],
   "source": [
    "pivot_postcode.columns"
   ]
  },
  {
   "cell_type": "code",
   "execution_count": null,
   "id": "b1f09619",
   "metadata": {
    "hidden": true
   },
   "outputs": [],
   "source": [
    "pivot_postcode = pivot_postcode[['mean_price', 'median_price', 'median_rent_newb', 'new_bonds_no', 'total_bonds_no', '0-4yo', '5-14yo', '15-24yo', '25-34yo', '35-54yo', '55-64yo', '65+yo', 'ATSI', 'CPRF_2', 'CPRF_3', 'CPRF_4','CPRF_5', 'CPRF_6+', 'CPRF_HHOLD_NO', 'CPRF_na', 'INCP_HIGH', 'INCP_LOW', 'INCP_MID', 'INCP_NEG_NIL', 'YARRP 1976-1995', 'YARRP 1996-2005', 'YARRP 2006-2016', 'YARRP <1975', 'citizen_AU', 'citizen_non_AU']]"
   ]
  },
  {
   "cell_type": "code",
   "execution_count": null,
   "id": "188d1018",
   "metadata": {
    "hidden": true
   },
   "outputs": [],
   "source": [
    "# show correlation\n",
    "plt.figure(figsize=(20, 15))\n",
    "\n",
    "matrix = np.triu(pivot_postcode.corr())\n",
    "\n",
    "sns.heatmap(pivot_postcode.corr(), \n",
    "            annot=True, # put coefficients in\n",
    "            fmt='.2g', # set number of decimals\n",
    "            vmin=-1, vmax=1, center=0, # rescale colorbar\n",
    "            cmap='RdYlGn', # set color palette\n",
    "            square=True, # set squares\n",
    "            mask=matrix) # display only lower triangular matrix\n",
    "plt.yticks(rotation=360)\n",
    "plt.xticks(rotation=70);"
   ]
  },
  {
   "cell_type": "markdown",
   "id": "787ece5b",
   "metadata": {
    "hidden": true
   },
   "source": [
    "Analysis of correlation with price:\n",
    "- There is a very strong positive relationship between the __rent level__ and the sales price level. This implies that postcodes that have high rent prices also tend to have high sales prices. It remains unknown, however, if there actually is a causal relationship.\n",
    "- There is a positive relationship with the amount of __new bonds__. This would make intuitively sense if the number of new bonds is seen as a proxy for demand in an area. First and foremost, this should have an effect on rent levels, but since rent prices are heavily correlated with sales levels, it would make sense if there is some relation with this too.\n",
    "- The number of people in a certain __age bracket__ seems to have a slight positive relationship with sales price for people aged between 25-54. Once could argue that this covers the typical working lifespan and hence people in this age bracket are expected to have more money which is reflected in sales prices.\n",
    "- There is a moderately strong negative relationship with __ATSI__. This implies that prices levels are lower in postcode areas where more people identifying as aboriginal live.\n",
    "- There is a moderate to strong positive relationship with __high income__. This implies that postcode area with high sales prices tend to have a population with higher income.\n",
    "- There is a rather weak positive relationship with the __different years of arrival__ in Australia. At this point, however, it is hard to reason why there should be a relationship\n",
    "- Lastly, there is rather weak positive relationship with __non Australian citizenship__. This implies that postcodes with higher sales prices are culturally more diverse with a larger proportion of non-Australian citizens."
   ]
  },
  {
   "cell_type": "code",
   "execution_count": null,
   "id": "09745413",
   "metadata": {
    "hidden": true
   },
   "outputs": [],
   "source": [
    "pivot_postcode.columns"
   ]
  },
  {
   "cell_type": "markdown",
   "id": "c950efc5",
   "metadata": {
    "heading_collapsed": true,
    "hidden": true
   },
   "source": [
    "#### Median Rent"
   ]
  },
  {
   "cell_type": "code",
   "execution_count": null,
   "id": "f78fe010",
   "metadata": {
    "hidden": true
   },
   "outputs": [],
   "source": [
    "sns.set_style(\"darkgrid\")\n",
    "plt.figure(figsize=(10,7))\n",
    "sns.scatterplot(x=\"mean_price\", y=\"median_rent_newb\", data=pivot_postcode)\n",
    "plt.title(\"Relationship of Median Rent and Mean Price Level\", fontsize=14)\n",
    "plt.xlabel(\"Mean Sales Price\", fontsize=12)\n",
    "plt.ylabel(\"Median Rent Price\", fontsize=12);"
   ]
  },
  {
   "cell_type": "code",
   "execution_count": null,
   "id": "d938c8a6",
   "metadata": {
    "hidden": true
   },
   "outputs": [],
   "source": [
    "\n",
    "plt.figure(figsize=(10,7))\n",
    "sns.scatterplot(x=\"median_price\", y=\"median_rent_newb\", data=pivot_postcode)\n",
    "plt.title(\"Relationship of Median Rent and Median Price Level\", fontsize=14)\n",
    "plt.xlabel(\"Median Sales Price\", fontsize=12)\n",
    "plt.ylabel(\"Median Rent Price\", fontsize=12);"
   ]
  },
  {
   "cell_type": "markdown",
   "id": "fbbe1df3",
   "metadata": {
    "hidden": true
   },
   "source": [
    "Comparing the median sales prices with median rent prices makes intuitively more sense, and also seems to be a more linear relationship. However, for both plots, the relationship looks non-linear and a logarithmic transformation of the median rent level might make sense if we want to use it."
   ]
  },
  {
   "cell_type": "markdown",
   "id": "05c14ed5",
   "metadata": {
    "heading_collapsed": true,
    "hidden": true
   },
   "source": [
    "#### New Bonds"
   ]
  },
  {
   "cell_type": "code",
   "execution_count": null,
   "id": "50f68a8b",
   "metadata": {
    "hidden": true
   },
   "outputs": [],
   "source": [
    "plt.figure(figsize=(10,7))\n",
    "sns.scatterplot(x=\"mean_price\", y=\"new_bonds_no\", data=pivot_postcode)\n",
    "plt.title(\"Relationship of Number of New Bonds and Mean Price Level\", fontsize=14)\n",
    "plt.xlabel(\"Mean Sales Price\", fontsize=12)\n",
    "plt.ylabel(\"Number of New Bonds\", fontsize=12);"
   ]
  },
  {
   "cell_type": "code",
   "execution_count": null,
   "id": "9f2602bb",
   "metadata": {
    "hidden": true
   },
   "outputs": [],
   "source": [
    "pivot_postcode[\"mean_price\"].corr(pivot_postcode[\"new_bonds_no\"])"
   ]
  },
  {
   "cell_type": "markdown",
   "id": "a7ea3c71",
   "metadata": {
    "hidden": true
   },
   "source": [
    "There is a positive relationship. However, the variance is very large. Transformation might help."
   ]
  },
  {
   "cell_type": "markdown",
   "id": "7cbff911",
   "metadata": {
    "heading_collapsed": true,
    "hidden": true
   },
   "source": [
    "#### Age Brackets"
   ]
  },
  {
   "cell_type": "code",
   "execution_count": null,
   "id": "17ca3fea",
   "metadata": {
    "hidden": true
   },
   "outputs": [],
   "source": [
    "plt.figure(figsize=(10,7))\n",
    "sns.scatterplot(x=\"mean_price\", y=\"25-34yo\", data=pivot_postcode)\n",
    "plt.title(\"Relationship of 25-34yo Population and Mean Price Level\", fontsize=14)\n",
    "plt.xlabel(\"Mean Sales Price\", fontsize=12)\n",
    "plt.ylabel(\"Number of People between 25-34 Years\", fontsize=12);"
   ]
  },
  {
   "cell_type": "code",
   "execution_count": null,
   "id": "90089623",
   "metadata": {
    "hidden": true
   },
   "outputs": [],
   "source": [
    "plt.figure(figsize=(10,7))\n",
    "sns.scatterplot(x=\"mean_price\", y=\"35-54yo\", data=pivot_postcode)\n",
    "plt.title(\"Relationship of 35-54yo Population and Mean Price Level\", fontsize=14)\n",
    "plt.xlabel(\"Mean Sales Price\", fontsize=12)\n",
    "plt.ylabel(\"Number of People between 35-54 Years\", fontsize=12);"
   ]
  },
  {
   "cell_type": "markdown",
   "id": "0a8c2dc1",
   "metadata": {
    "heading_collapsed": true,
    "hidden": true
   },
   "source": [
    "#### ATSI"
   ]
  },
  {
   "cell_type": "code",
   "execution_count": null,
   "id": "3285bf16",
   "metadata": {
    "hidden": true
   },
   "outputs": [],
   "source": [
    "plt.figure(figsize=(10,7))\n",
    "sns.scatterplot(x=\"mean_price\", y=\"ATSI\", data=pivot_postcode)\n",
    "plt.title(\"Relationship of Aboriginal Heritage and Mean Price Level\", fontsize=14)\n",
    "plt.xlabel(\"Mean Sales Price\", fontsize=12)\n",
    "plt.ylabel(\"Number of People identifying as Aboriginal\", fontsize=12);"
   ]
  },
  {
   "cell_type": "markdown",
   "id": "22d8e9ad",
   "metadata": {
    "hidden": true
   },
   "source": [
    "This looks like a strongly non-linear relationship. Transformation might be required."
   ]
  },
  {
   "cell_type": "markdown",
   "id": "d0787d16",
   "metadata": {
    "heading_collapsed": true,
    "hidden": true
   },
   "source": [
    "#### High Income"
   ]
  },
  {
   "cell_type": "code",
   "execution_count": null,
   "id": "b5354fe1",
   "metadata": {
    "hidden": true
   },
   "outputs": [],
   "source": [
    "plt.figure(figsize=(10,7))\n",
    "sns.scatterplot(x=\"mean_price\", y=\"INCP_HIGH\", data=pivot_postcode)\n",
    "plt.title(\"Relationship of High Income and Mean Price Level\", fontsize=14)\n",
    "plt.xlabel(\"Mean Sales Price\", fontsize=12)\n",
    "plt.ylabel(\"High Income\", fontsize=12);"
   ]
  },
  {
   "cell_type": "markdown",
   "id": "875f22f7",
   "metadata": {
    "hidden": true
   },
   "source": [
    "There seems to be a somewhat linear relationship with a large variance for larger values."
   ]
  },
  {
   "cell_type": "markdown",
   "id": "35ebf28c",
   "metadata": {
    "heading_collapsed": true,
    "hidden": true
   },
   "source": [
    "#### Year of Arrival"
   ]
  },
  {
   "cell_type": "code",
   "execution_count": null,
   "id": "0753b633",
   "metadata": {
    "hidden": true
   },
   "outputs": [],
   "source": [
    "plt.figure(figsize=(10,7))\n",
    "sns.scatterplot(x=\"mean_price\", y=\"YARRP 1996-2005\", data=pivot_postcode)\n",
    "plt.title(\"Relationship of Year of Arrival from 1996-2005 and Mean Price Level\", fontsize=14)\n",
    "plt.xlabel(\"Mean Sales Price\", fontsize=12)\n",
    "plt.ylabel(\"Number of People in Year Bracket\", fontsize=12);"
   ]
  },
  {
   "cell_type": "code",
   "execution_count": null,
   "id": "6efab1ac",
   "metadata": {
    "hidden": true
   },
   "outputs": [],
   "source": [
    "plt.figure(figsize=(10,7))\n",
    "sns.scatterplot(x=\"mean_price\", y=\"YARRP 2006-2016\", data=pivot_postcode)\n",
    "plt.title(\"Relationship of Year of Arrival from 2006-2016 and Mean Price Level\", fontsize=14)\n",
    "plt.xlabel(\"Mean Sales Price\", fontsize=12)\n",
    "plt.ylabel(\"Number of People in Year Bracket\", fontsize=12);"
   ]
  },
  {
   "cell_type": "markdown",
   "id": "166c350d",
   "metadata": {
    "heading_collapsed": true,
    "hidden": true
   },
   "source": [
    "#### Non-AUS Citizen"
   ]
  },
  {
   "cell_type": "code",
   "execution_count": null,
   "id": "f74d68ce",
   "metadata": {
    "hidden": true
   },
   "outputs": [],
   "source": [
    "plt.figure(figsize=(10,7))\n",
    "sns.scatterplot(x=\"mean_price\", y=\"citizen_non_AU\", data=pivot_postcode)\n",
    "plt.title(\"Relationship of non-AUS Citizenship and Mean Price Level\", fontsize=14)\n",
    "plt.xlabel(\"Mean Sales Price\", fontsize=12)\n",
    "plt.ylabel(\"Number of non-AUS citizens\", fontsize=12);"
   ]
  },
  {
   "cell_type": "markdown",
   "id": "dd0ea398",
   "metadata": {
    "heading_collapsed": true,
    "hidden": true
   },
   "source": [
    "### On Postcode Level and over Time (maybe use melt?)"
   ]
  },
  {
   "cell_type": "code",
   "execution_count": null,
   "id": "1606fd60",
   "metadata": {
    "hidden": true
   },
   "outputs": [],
   "source": [
    "pivot_multi = pd.pivot_table(master,\n",
    "                             index=['postcode', \"time_period\"])\n",
    "pivot_multi.head(20)"
   ]
  },
  {
   "cell_type": "code",
   "execution_count": null,
   "id": "fb599503",
   "metadata": {
    "hidden": true
   },
   "outputs": [],
   "source": []
  },
  {
   "cell_type": "markdown",
   "id": "4a1554c1",
   "metadata": {
    "heading_collapsed": true
   },
   "source": [
    "# Modeling"
   ]
  },
  {
   "cell_type": "code",
   "execution_count": null,
   "id": "cea7b966",
   "metadata": {
    "hidden": true
   },
   "outputs": [],
   "source": [
    "modelDF = pd.read_csv(\"Files/Cleaned/Postcode-based/Unstacked_Sales_Rent_5Quarters_Imputed_pcFeatures.csv\",\n",
    "                     index_col=\"postcode\")\n",
    "modelDF.head()"
   ]
  },
  {
   "cell_type": "code",
   "execution_count": null,
   "id": "cb906cf6",
   "metadata": {
    "hidden": true
   },
   "outputs": [],
   "source": [
    "# drop mean price\n",
    "modelDF = modelDF.drop([\"mean_price 2020 Q1\", \"mean_price 2020 Q2\", \"mean_price 2020 Q3\",\n",
    "                        \"mean_price 2020 Q4\", \"mean_price 2021 Q1\"],\n",
    "                      axis=1)\n",
    "modelDF"
   ]
  },
  {
   "cell_type": "markdown",
   "id": "60cc48e1",
   "metadata": {
    "hidden": true
   },
   "source": [
    "## Baseline Regression Model (Chris)\n",
    "Create a first baseline model here."
   ]
  },
  {
   "cell_type": "markdown",
   "id": "d8d630f4",
   "metadata": {
    "hidden": true
   },
   "source": [
    "## Cross Validation\n"
   ]
  },
  {
   "cell_type": "markdown",
   "id": "32734400",
   "metadata": {
    "hidden": true
   },
   "source": [
    "## Feature Engineering\n",
    "Improve baseline model with different combinations and/or transformation of variables."
   ]
  },
  {
   "cell_type": "markdown",
   "id": "89a466e9",
   "metadata": {
    "hidden": true
   },
   "source": [
    "## Improved Model\n",
    "Test if baseline model can be improved by using more sophisticated algorithms."
   ]
  },
  {
   "cell_type": "markdown",
   "id": "8a48cfe8",
   "metadata": {},
   "source": [
    "# Clustering (Ken & Felix)"
   ]
  },
  {
   "cell_type": "markdown",
   "id": "84b07769",
   "metadata": {},
   "source": [
    "It is expected that house prices differ among regions. This is due to different demand activities in different regions. Hence, in the following, clustering will be deployed on the data to use the result for more specific modeling within each cluster that is found to be reasonable. The expectation is a difference between metropolitan and rural areas as it is a global trend that people move to metropolitan areas and Sydney indeed should reflect this with a higher demand than other areas. This expectation will be verified by using the elbow method."
   ]
  },
  {
   "cell_type": "markdown",
   "id": "9d8080df",
   "metadata": {},
   "source": [
    "## Kmeans"
   ]
  },
  {
   "cell_type": "code",
   "execution_count": null,
   "id": "5f3666a0",
   "metadata": {},
   "outputs": [],
   "source": [
    "# Read Data\n",
    "modelDF = pd.read_csv(\"Files/Cleaned/Postcode-based/Unstacked_Transformed.csv\",\n",
    "                     index_col=\"postcode\")"
   ]
  },
  {
   "cell_type": "code",
   "execution_count": null,
   "id": "e9e2e1d7",
   "metadata": {},
   "outputs": [],
   "source": [
    "# Remove interest rate, bond yields (they're the same for all postcodes)\n",
    "modelDF = modelDF.iloc[:, np.r_[0:30, [48], 96:121]] # this is for keeping trans-variables\n",
    "# modelDF = modelDF.iloc[:, np.r_[0:56]] # this is for keeping original variables\n",
    "\n",
    "# Drop mean price columns\n",
    "modelDF = modelDF.drop([\"mean_price 2020 Q1\", \"mean_price 2020 Q2\", \"mean_price 2020 Q3\",\n",
    "                        \"mean_price 2020 Q4\", \"mean_price 2021 Q1\"],axis=1)\n",
    "\n",
    "# Drop one category from each feature group (optional)\n",
    "# modelDF = modelDF.drop(columns=['INCP_NEG_NIL', \n",
    "#                                 '65+yo',\n",
    "#                                 'CPRF_na',\n",
    "#                                 'citizen_AU'],axis=1)\n",
    "\n",
    "print(modelDF.shape)\n",
    "modelDF.head(1)"
   ]
  },
  {
   "cell_type": "markdown",
   "id": "8f034d3b",
   "metadata": {},
   "source": [
    "### Scaling the data\n",
    "Since the units differ greatly across the features, scaling will be useful to avoid distorting the distance metric."
   ]
  },
  {
   "cell_type": "code",
   "execution_count": null,
   "id": "0ebcb765",
   "metadata": {
    "scrolled": true
   },
   "outputs": [],
   "source": [
    "# For retaining column and index names\n",
    "columns = modelDF.columns\n",
    "postcode = modelDF.index\n",
    "\n",
    "# Initialise scaler\n",
    "scaler = StandardScaler() \n",
    "\n",
    "# Transform\n",
    "scaledDF = scaler.fit_transform(modelDF)\n",
    "\n",
    "# Put into a dataframe\n",
    "scaledDF = pd.DataFrame(scaledDF,index=postcode)\n",
    "scaledDF.columns = columns\n",
    "scaledDF"
   ]
  },
  {
   "cell_type": "markdown",
   "id": "a4e072c8",
   "metadata": {},
   "source": [
    "### Optimal Number of K: Elbow Method"
   ]
  },
  {
   "cell_type": "code",
   "execution_count": null,
   "id": "e55a8fe3",
   "metadata": {},
   "outputs": [],
   "source": [
    "distortions = []\n",
    "K = range(1,11)\n",
    "for i in K:\n",
    "    km = KMeans(n_clusters = i)\n",
    "    km.fit(scaledDF)\n",
    "    distortions.append(km.inertia_)"
   ]
  },
  {
   "cell_type": "code",
   "execution_count": null,
   "id": "50af2a7d",
   "metadata": {},
   "outputs": [],
   "source": [
    "plt.figure(figsize=(14,5))\n",
    "plt.plot(K, distortions, 'bx-')\n",
    "plt.xlabel('$K$')\n",
    "plt.ylabel('Distortion')\n",
    "plt.title('The Elbow Method showing the optimal k')\n",
    "plt.xticks(K)\n",
    "plt.show()"
   ]
  },
  {
   "cell_type": "markdown",
   "id": "623184ba",
   "metadata": {},
   "source": [
    "This visualisation shows that two or three clusters seem like a reasonable split to use as the following clusters has less distortion/inertia as the number of clusters grow."
   ]
  },
  {
   "cell_type": "markdown",
   "id": "65c0842c",
   "metadata": {},
   "source": [
    "### Apply Algorithm"
   ]
  },
  {
   "cell_type": "code",
   "execution_count": null,
   "id": "a9b300ae",
   "metadata": {},
   "outputs": [],
   "source": [
    "km = KMeans(n_clusters = 2, random_state=123)\n",
    "km.fit(scaledDF)\n",
    "km_label_2 = km.predict(scaledDF)\n",
    "modelDF['label_2'] = km_label_2"
   ]
  },
  {
   "cell_type": "code",
   "execution_count": null,
   "id": "66c00ff2",
   "metadata": {},
   "outputs": [],
   "source": [
    "modelDF.label_2.value_counts(normalize=True).round(4)*100"
   ]
  },
  {
   "cell_type": "code",
   "execution_count": null,
   "id": "dcc6a437",
   "metadata": {},
   "outputs": [],
   "source": [
    "modelDF.groupby('label_2').mean().round(2)"
   ]
  },
  {
   "cell_type": "markdown",
   "id": "8d62bae4",
   "metadata": {},
   "source": [
    "Within these two clusters, Cluster 0 appear to have a significantly higher house prices vs Cluster 1. It also appears that Cluster 0 also has higher proportions of Non-Australian citizens, as well as higher proportions of people who recently arrived to Australia."
   ]
  },
  {
   "cell_type": "markdown",
   "id": "6cee0037",
   "metadata": {},
   "source": [
    "Check the clustering between proportion of high income people and median house price"
   ]
  },
  {
   "cell_type": "code",
   "execution_count": null,
   "id": "746b79f6",
   "metadata": {},
   "outputs": [],
   "source": [
    "plt.scatter(x=modelDF['median_price 2021 Q1'], y=modelDF['INCP_HIGH_Prop'],\n",
    "            c=modelDF['label_2'],cmap='cividis',alpha=.7)\n",
    "plt.xlabel('Median House Price')\n",
    "plt.ylabel('Proportion of High Income Households')\n",
    "plt.title('2021 Q1');"
   ]
  },
  {
   "cell_type": "code",
   "execution_count": null,
   "id": "250997f9",
   "metadata": {},
   "outputs": [],
   "source": [
    "plt.figure(figsize=(5,5))\n",
    "ax=sns.stripplot(data=modelDF, x='label_2', y='median_price 2021 Q1',hue='INCP_HIGH_Prop',palette='viridis')\n",
    "\n",
    "# Setting up colorbar\n",
    "norm = plt.Normalize(modelDF['INCP_HIGH_Prop'].min(), modelDF['INCP_HIGH_Prop'].max())\n",
    "sm = plt.cm.ScalarMappable(cmap=\"viridis\", norm=norm)\n",
    "sm.set_array([])\n",
    "\n",
    "# Remove the legend and add a colorbar\n",
    "ax.get_legend().remove()\n",
    "ax.figure.colorbar(sm,label='Proportion of High Income')\n",
    "\n",
    "plt.title('Proportion of High Income Bracket Per Cluster')\n",
    "plt.show()"
   ]
  },
  {
   "cell_type": "markdown",
   "id": "b145e1ea",
   "metadata": {},
   "source": [
    "Cluster 0 which has higher proportions of high income people live in more expensive homes, as expected."
   ]
  },
  {
   "cell_type": "markdown",
   "id": "e83ddd17",
   "metadata": {},
   "source": [
    "Postcodes with median price above \\\\$2.5m"
   ]
  },
  {
   "cell_type": "code",
   "execution_count": null,
   "id": "697ec518",
   "metadata": {
    "scrolled": true
   },
   "outputs": [],
   "source": [
    "modelDF.loc[modelDF['median_price 2021 Q1']>2500]"
   ]
  },
  {
   "cell_type": "markdown",
   "id": "77a33d30",
   "metadata": {},
   "source": [
    "### Map"
   ]
  },
  {
   "cell_type": "code",
   "execution_count": 2,
   "id": "7ea0335f",
   "metadata": {},
   "outputs": [
    {
     "data": {
      "text/html": [
       "<div>\n",
       "<style scoped>\n",
       "    .dataframe tbody tr th:only-of-type {\n",
       "        vertical-align: middle;\n",
       "    }\n",
       "\n",
       "    .dataframe tbody tr th {\n",
       "        vertical-align: top;\n",
       "    }\n",
       "\n",
       "    .dataframe thead th {\n",
       "        text-align: right;\n",
       "    }\n",
       "</style>\n",
       "<table border=\"1\" class=\"dataframe\">\n",
       "  <thead>\n",
       "    <tr style=\"text-align: right;\">\n",
       "      <th></th>\n",
       "      <th>LGA_CODE20</th>\n",
       "      <th>LGA_NAME20</th>\n",
       "      <th>STE_CODE16</th>\n",
       "      <th>STE_NAME16</th>\n",
       "      <th>AREASQKM20</th>\n",
       "      <th>geometry</th>\n",
       "    </tr>\n",
       "  </thead>\n",
       "  <tbody>\n",
       "    <tr>\n",
       "      <th>0</th>\n",
       "      <td>10050</td>\n",
       "      <td>Albury (C)</td>\n",
       "      <td>1</td>\n",
       "      <td>New South Wales</td>\n",
       "      <td>305.9459</td>\n",
       "      <td>POLYGON ((146.82130 -36.04997, 146.82138 -36.0...</td>\n",
       "    </tr>\n",
       "  </tbody>\n",
       "</table>\n",
       "</div>"
      ],
      "text/plain": [
       "  LGA_CODE20  LGA_NAME20 STE_CODE16       STE_NAME16  AREASQKM20  \\\n",
       "0      10050  Albury (C)          1  New South Wales    305.9459   \n",
       "\n",
       "                                            geometry  \n",
       "0  POLYGON ((146.82130 -36.04997, 146.82138 -36.0...  "
      ]
     },
     "execution_count": 2,
     "metadata": {},
     "output_type": "execute_result"
    }
   ],
   "source": [
    "# Load geospatial data\n",
    "lga_gdf = gpd.read_file('Files/Area/LGAs/LGA_2020_AUST.shp')# load the data using Geopandas\n",
    "lga_gdf = lga_gdf[lga_gdf['STE_NAME16']=='New South Wales'] # Select the data for the state of NSW\n",
    "lga_gdf['LGA_CODE20'] = lga_gdf['LGA_CODE20'].astype('str') # we will join on this axis, so both dataframes need this to be the same type\n",
    "lga_gdf.head(1)"
   ]
  },
  {
   "cell_type": "code",
   "execution_count": 3,
   "id": "a7318fa6",
   "metadata": {},
   "outputs": [
    {
     "data": {
      "text/html": [
       "<div>\n",
       "<style scoped>\n",
       "    .dataframe tbody tr th:only-of-type {\n",
       "        vertical-align: middle;\n",
       "    }\n",
       "\n",
       "    .dataframe tbody tr th {\n",
       "        vertical-align: top;\n",
       "    }\n",
       "\n",
       "    .dataframe thead th {\n",
       "        text-align: right;\n",
       "    }\n",
       "</style>\n",
       "<table border=\"1\" class=\"dataframe\">\n",
       "  <thead>\n",
       "    <tr style=\"text-align: right;\">\n",
       "      <th></th>\n",
       "      <th>geometry</th>\n",
       "    </tr>\n",
       "    <tr>\n",
       "      <th>postcode</th>\n",
       "      <th></th>\n",
       "    </tr>\n",
       "  </thead>\n",
       "  <tbody>\n",
       "    <tr>\n",
       "      <th>1001</th>\n",
       "      <td>POINT (151.20730 -33.86780)</td>\n",
       "    </tr>\n",
       "  </tbody>\n",
       "</table>\n",
       "</div>"
      ],
      "text/plain": [
       "                             geometry\n",
       "postcode                             \n",
       "1001      POINT (151.20730 -33.86780)"
      ]
     },
     "execution_count": 3,
     "metadata": {},
     "output_type": "execute_result"
    }
   ],
   "source": [
    "# Read in NSW postcode long-lat file\n",
    "postcode_gdf = pd.read_csv('Files/Area/au_postcodes.csv')\n",
    "nsw = postcode_gdf[postcode_gdf.state_code=='NSW'] #filter to NSW\n",
    "nsw = pd.pivot_table(nsw, index='postcode', values=['latitude','longitude'], aggfunc='mean')\n",
    "\n",
    "# make geometry for point\n",
    "nsw = gpd.GeoDataFrame(\n",
    "    nsw, geometry=gpd.points_from_xy(nsw.longitude, nsw.latitude)) \n",
    "nsw = nsw[['geometry']]\n",
    "nsw.head(1)"
   ]
  },
  {
   "cell_type": "code",
   "execution_count": null,
   "id": "5ca53636",
   "metadata": {
    "scrolled": true
   },
   "outputs": [],
   "source": [
    "df_cluster = modelDF[['label_2']] # Get KMeans cluster label only\n",
    "df_cluster.head(1)"
   ]
  },
  {
   "cell_type": "code",
   "execution_count": null,
   "id": "0a7eaf95",
   "metadata": {},
   "outputs": [],
   "source": [
    "map_kmeans_label = pd.merge(nsw, df_cluster, on='postcode')"
   ]
  },
  {
   "cell_type": "code",
   "execution_count": null,
   "id": "f4ce8532",
   "metadata": {
    "scrolled": false
   },
   "outputs": [],
   "source": [
    "fig, ax = plt.subplots(1,1, figsize=(30,30))\n",
    "divider = make_axes_locatable(ax)\n",
    "lga_gdf.plot(ax=ax, color='gray',alpha=.8) # Map data\n",
    "lga_gdf.geometry.boundary.plot(color='white', ax=ax, linewidth=0.1) #Add some borders to the geometries\n",
    "\n",
    "# Zoom in\n",
    "minx, miny, maxx, maxy = lga_gdf.total_bounds\n",
    "ax.set_xlim(minx, maxx)\n",
    "ax.set_ylim(miny, maxy)\n",
    "\n",
    "map_kmeans_label.plot(column='label_2',ax=ax,cmap='cividis',alpha=1, categorical=True, legend=True)\n",
    "ax.axis('off')\n",
    "plt.title('KMeans Clusters (2), NSW',fontsize=25)\n",
    "# plt.savefig('Files/Map Vis/KMeans Clusters.png',dpi=300,transparent=False)\n",
    "plt.show()"
   ]
  },
  {
   "cell_type": "markdown",
   "id": "1269ae6f",
   "metadata": {},
   "source": [
    "One cluster are situated mostly near Sydney. Interestingly however, there are some postcodes outside Sydney also classified as similar to it."
   ]
  },
  {
   "cell_type": "markdown",
   "id": "3c612d9a",
   "metadata": {},
   "source": [
    "## Hierarchical clustering"
   ]
  },
  {
   "cell_type": "markdown",
   "id": "4e6412d8",
   "metadata": {},
   "source": [
    "In the following, it will be checked whether results appear to be more reasonable when applying agglomerative clustering."
   ]
  },
  {
   "cell_type": "code",
   "execution_count": null,
   "id": "119bcc16",
   "metadata": {},
   "outputs": [],
   "source": [
    "# Read Data\n",
    "modelDF = pd.read_csv(\"Files/Cleaned/Postcode-based/Unstacked_Transformed.csv\",\n",
    "                     index_col=\"postcode\")"
   ]
  },
  {
   "cell_type": "code",
   "execution_count": null,
   "id": "bb64c397",
   "metadata": {},
   "outputs": [],
   "source": [
    "# Remove interest rate, bond yields (they're the same for all postcodes)\n",
    "modelDF = modelDF.iloc[:, np.r_[0:30, [48], 96:121]] # this is for keeping trans-variables\n",
    "# modelDF = modelDF.iloc[:, np.r_[0:56]] # this is for keeping original variables\n",
    "\n",
    "# Drop mean price columns\n",
    "modelDF = modelDF.drop([\"mean_price 2020 Q1\", \"mean_price 2020 Q2\", \"mean_price 2020 Q3\",\n",
    "                        \"mean_price 2020 Q4\", \"mean_price 2021 Q1\"],axis=1)\n",
    "\n",
    "# Drop one category from each feature group (optional)\n",
    "# modelDF = modelDF.drop(columns=['INCP_NEG_NIL', \n",
    "#                                 '65+yo',\n",
    "#                                 'CPRF_na',\n",
    "#                                 'citizen_AU'],axis=1)\n",
    "\n",
    "print(modelDF.shape)\n",
    "modelDF.head(1)"
   ]
  },
  {
   "cell_type": "markdown",
   "id": "a50976d5",
   "metadata": {},
   "source": [
    "### Scaling the data"
   ]
  },
  {
   "cell_type": "markdown",
   "id": "e1340da3",
   "metadata": {},
   "source": [
    "The same scaling procedure will be used"
   ]
  },
  {
   "cell_type": "code",
   "execution_count": null,
   "id": "2bc41628",
   "metadata": {},
   "outputs": [],
   "source": [
    "# for retaining column and index names\n",
    "columns = modelDF.columns\n",
    "postcode = modelDF.index\n",
    "\n",
    "# Initialise scaler\n",
    "scaler = StandardScaler() \n",
    "\n",
    "# Transform\n",
    "scaledDF = scaler.fit_transform(modelDF)\n",
    "\n",
    "# Put into a dataframe\n",
    "scaledDF = pd.DataFrame(scaledDF,index=postcode)\n",
    "scaledDF.columns = columns\n",
    "scaledDF.head()"
   ]
  },
  {
   "cell_type": "markdown",
   "id": "6aebbb0d",
   "metadata": {},
   "source": [
    "### Apply algorithm"
   ]
  },
  {
   "cell_type": "code",
   "execution_count": null,
   "id": "2a5b6dee",
   "metadata": {},
   "outputs": [],
   "source": [
    "# linkage\n",
    "plt.figure(figsize=(14,10))\n",
    "mergings = linkage(scaledDF, method=\"ward\", metric='euclidean')\n",
    "dendrogram(mergings, orientation='left')\n",
    "plt.show()"
   ]
  },
  {
   "cell_type": "code",
   "execution_count": null,
   "id": "550ad767",
   "metadata": {},
   "outputs": [],
   "source": [
    "hier_labels = cut_tree(mergings,n_clusters=3)\n",
    "modelDF['labels'] = hier_labels\n",
    "modelDF.head()"
   ]
  },
  {
   "cell_type": "markdown",
   "id": "d7c229c0",
   "metadata": {},
   "source": [
    "Check distribution of clustering"
   ]
  },
  {
   "cell_type": "code",
   "execution_count": null,
   "id": "a9ae47a5",
   "metadata": {},
   "outputs": [],
   "source": [
    "modelDF.labels.value_counts(normalize=True).round(4)*100"
   ]
  },
  {
   "cell_type": "code",
   "execution_count": null,
   "id": "56e759e0",
   "metadata": {},
   "outputs": [],
   "source": [
    "modelDF.groupby('labels').mean().round(2)"
   ]
  },
  {
   "cell_type": "code",
   "execution_count": null,
   "id": "26b96086",
   "metadata": {},
   "outputs": [],
   "source": [
    "plt.scatter(x=modelDF['median_price 2021 Q1'], y=modelDF['INCP_HIGH_Prop'],\n",
    "            c=modelDF['labels'],cmap='cividis',alpha=.6)\n",
    "plt.xlabel('Median House Price')\n",
    "plt.ylabel('Proportion of High Income Households')\n",
    "plt.title('2021 Q1, Hierarchical clustering');"
   ]
  },
  {
   "cell_type": "markdown",
   "id": "b08d30cb",
   "metadata": {},
   "source": [
    "### Map"
   ]
  },
  {
   "cell_type": "code",
   "execution_count": null,
   "id": "4ecd2f45",
   "metadata": {},
   "outputs": [],
   "source": [
    "df_hier_cluster = modelDF['labels']"
   ]
  },
  {
   "cell_type": "code",
   "execution_count": null,
   "id": "522a9f5c",
   "metadata": {},
   "outputs": [],
   "source": [
    "map_hier_label = pd.merge(nsw, df_hier_cluster, on='postcode')"
   ]
  },
  {
   "cell_type": "code",
   "execution_count": null,
   "id": "1e0857a5",
   "metadata": {
    "scrolled": false
   },
   "outputs": [],
   "source": [
    "fig, ax = plt.subplots(1,1, figsize=(30,30))\n",
    "divider = make_axes_locatable(ax)\n",
    "lga_gdf.plot(ax=ax, color='gray',alpha=1) # Map plot\n",
    "lga_gdf.geometry.boundary.plot(color='white', ax=ax, linewidth=0.2) #Add some borders to the geometries\n",
    "\n",
    "# Zoom in\n",
    "minx, miny, maxx, maxy = lga_gdf.total_bounds\n",
    "ax.set_xlim(minx, maxx)\n",
    "ax.set_ylim(miny, maxy)\n",
    "\n",
    "map_hier_label.plot(column='labels',ax=ax,cmap='viridis',alpha=1, categorical=True, legend=True)\n",
    "ax.axis('off')\n",
    "\n",
    "plt.title('Hierarchical Clustering (3), NSW',fontsize=25)\n",
    "plt.show()"
   ]
  },
  {
   "cell_type": "markdown",
   "id": "689e2165",
   "metadata": {},
   "source": [
    "It is interesting that some of the postcodes in the northern-eastern most part of NSW are being classified as similar to Sydney."
   ]
  },
  {
   "cell_type": "markdown",
   "id": "4008be9d",
   "metadata": {},
   "source": [
    "## Conclusion"
   ]
  },
  {
   "cell_type": "markdown",
   "id": "95ed3d54",
   "metadata": {
    "heading_collapsed": true
   },
   "source": [
    "# Distinct Models per Clusters\n"
   ]
  },
  {
   "cell_type": "markdown",
   "id": "2d80dbbe",
   "metadata": {
    "hidden": true
   },
   "source": [
    "## Linear regression based on KMeans clusters"
   ]
  },
  {
   "cell_type": "markdown",
   "id": "77ad69ed",
   "metadata": {
    "hidden": true
   },
   "source": [
    "### Data prep"
   ]
  },
  {
   "cell_type": "code",
   "execution_count": 24,
   "id": "dfecdc58",
   "metadata": {
    "hidden": true
   },
   "outputs": [],
   "source": [
    "# Read Data\n",
    "modelDF = pd.read_csv(\"Files/Cleaned/Postcode-based/Unstacked_Transformed.csv\",\n",
    "                     index_col=\"postcode\")"
   ]
  },
  {
   "cell_type": "code",
   "execution_count": 25,
   "id": "a6c171ff",
   "metadata": {
    "hidden": true
   },
   "outputs": [
    {
     "name": "stdout",
     "output_type": "stream",
     "text": [
      "(573, 51)\n"
     ]
    },
    {
     "data": {
      "text/html": [
       "<div>\n",
       "<style scoped>\n",
       "    .dataframe tbody tr th:only-of-type {\n",
       "        vertical-align: middle;\n",
       "    }\n",
       "\n",
       "    .dataframe tbody tr th {\n",
       "        vertical-align: top;\n",
       "    }\n",
       "\n",
       "    .dataframe thead th {\n",
       "        text-align: right;\n",
       "    }\n",
       "</style>\n",
       "<table border=\"1\" class=\"dataframe\">\n",
       "  <thead>\n",
       "    <tr style=\"text-align: right;\">\n",
       "      <th></th>\n",
       "      <th>median_price 2020 Q1</th>\n",
       "      <th>median_price 2020 Q2</th>\n",
       "      <th>median_price 2020 Q3</th>\n",
       "      <th>median_price 2020 Q4</th>\n",
       "      <th>median_price 2021 Q1</th>\n",
       "      <th>median_rent_newb 2020 Q1</th>\n",
       "      <th>median_rent_newb 2020 Q2</th>\n",
       "      <th>median_rent_newb 2020 Q3</th>\n",
       "      <th>median_rent_newb 2020 Q4</th>\n",
       "      <th>median_rent_newb 2021 Q1</th>\n",
       "      <th>...</th>\n",
       "      <th>35-54yo_Prop</th>\n",
       "      <th>55-64yo_Prop</th>\n",
       "      <th>65+yo_Prop</th>\n",
       "      <th>citizen_AU_Prop</th>\n",
       "      <th>citizen_non_AU_Prop</th>\n",
       "      <th>YARRP &lt;1975_Prop</th>\n",
       "      <th>YARRP 1976-1995_Prop</th>\n",
       "      <th>YARRP 1996-2005_Prop</th>\n",
       "      <th>YARRP 2006-2016_Prop</th>\n",
       "      <th>ATSI_Prop</th>\n",
       "    </tr>\n",
       "    <tr>\n",
       "      <th>postcode</th>\n",
       "      <th></th>\n",
       "      <th></th>\n",
       "      <th></th>\n",
       "      <th></th>\n",
       "      <th></th>\n",
       "      <th></th>\n",
       "      <th></th>\n",
       "      <th></th>\n",
       "      <th></th>\n",
       "      <th></th>\n",
       "      <th></th>\n",
       "      <th></th>\n",
       "      <th></th>\n",
       "      <th></th>\n",
       "      <th></th>\n",
       "      <th></th>\n",
       "      <th></th>\n",
       "      <th></th>\n",
       "      <th></th>\n",
       "      <th></th>\n",
       "      <th></th>\n",
       "    </tr>\n",
       "  </thead>\n",
       "  <tbody>\n",
       "    <tr>\n",
       "      <th>2000</th>\n",
       "      <td>1225.0</td>\n",
       "      <td>1000.0</td>\n",
       "      <td>1390.0</td>\n",
       "      <td>1110.0</td>\n",
       "      <td>1371.0</td>\n",
       "      <td>700.0</td>\n",
       "      <td>630.0</td>\n",
       "      <td>600.0</td>\n",
       "      <td>550.0</td>\n",
       "      <td>600.0</td>\n",
       "      <td>...</td>\n",
       "      <td>0.229762</td>\n",
       "      <td>0.060924</td>\n",
       "      <td>0.061727</td>\n",
       "      <td>0.317062</td>\n",
       "      <td>0.534895</td>\n",
       "      <td>0.019153</td>\n",
       "      <td>0.058006</td>\n",
       "      <td>0.079348</td>\n",
       "      <td>0.475101</td>\n",
       "      <td>0.001934</td>\n",
       "    </tr>\n",
       "  </tbody>\n",
       "</table>\n",
       "<p>1 rows × 51 columns</p>\n",
       "</div>"
      ],
      "text/plain": [
       "          median_price 2020 Q1  median_price 2020 Q2  median_price 2020 Q3  \\\n",
       "postcode                                                                     \n",
       "2000                    1225.0                1000.0                1390.0   \n",
       "\n",
       "          median_price 2020 Q4  median_price 2021 Q1  \\\n",
       "postcode                                               \n",
       "2000                    1110.0                1371.0   \n",
       "\n",
       "          median_rent_newb 2020 Q1  median_rent_newb 2020 Q2  \\\n",
       "postcode                                                       \n",
       "2000                         700.0                     630.0   \n",
       "\n",
       "          median_rent_newb 2020 Q3  median_rent_newb 2020 Q4  \\\n",
       "postcode                                                       \n",
       "2000                         600.0                     550.0   \n",
       "\n",
       "          median_rent_newb 2021 Q1  ...  35-54yo_Prop  55-64yo_Prop  \\\n",
       "postcode                            ...                               \n",
       "2000                         600.0  ...      0.229762      0.060924   \n",
       "\n",
       "          65+yo_Prop  citizen_AU_Prop  citizen_non_AU_Prop  YARRP <1975_Prop  \\\n",
       "postcode                                                                       \n",
       "2000        0.061727         0.317062             0.534895          0.019153   \n",
       "\n",
       "          YARRP 1976-1995_Prop  YARRP 1996-2005_Prop  YARRP 2006-2016_Prop  \\\n",
       "postcode                                                                     \n",
       "2000                  0.058006              0.079348              0.475101   \n",
       "\n",
       "          ATSI_Prop  \n",
       "postcode             \n",
       "2000       0.001934  \n",
       "\n",
       "[1 rows x 51 columns]"
      ]
     },
     "execution_count": 25,
     "metadata": {},
     "output_type": "execute_result"
    }
   ],
   "source": [
    "# Remove interest rate, bond yields (they're the same for all postcodes)\n",
    "modelDF = modelDF.iloc[:, np.r_[0:30, [48], 96:121]] # this is for keeping trans-variables\n",
    "# modelDF = modelDF.iloc[:, np.r_[0:56]] # this is for keeping original variables\n",
    "\n",
    "# Drop mean price columns\n",
    "modelDF = modelDF.drop([\"mean_price 2020 Q1\", \"mean_price 2020 Q2\", \"mean_price 2020 Q3\",\n",
    "                        \"mean_price 2020 Q4\", \"mean_price 2021 Q1\"],axis=1)\n",
    "\n",
    "# Drop one category from each feature group (optional)\n",
    "# modelDF = modelDF.drop(columns=['INCP_NEG_NIL', \n",
    "#                                 '65+yo',\n",
    "#                                 'CPRF_na',\n",
    "#                                 'citizen_AU'],axis=1)\n",
    "\n",
    "print(modelDF.shape)\n",
    "modelDF.head(1)"
   ]
  },
  {
   "cell_type": "code",
   "execution_count": 26,
   "id": "741bf562",
   "metadata": {
    "hidden": true
   },
   "outputs": [
    {
     "data": {
      "text/html": [
       "<div>\n",
       "<style scoped>\n",
       "    .dataframe tbody tr th:only-of-type {\n",
       "        vertical-align: middle;\n",
       "    }\n",
       "\n",
       "    .dataframe tbody tr th {\n",
       "        vertical-align: top;\n",
       "    }\n",
       "\n",
       "    .dataframe thead th {\n",
       "        text-align: right;\n",
       "    }\n",
       "</style>\n",
       "<table border=\"1\" class=\"dataframe\">\n",
       "  <thead>\n",
       "    <tr style=\"text-align: right;\">\n",
       "      <th></th>\n",
       "      <th>median_price 2020 Q1</th>\n",
       "      <th>median_price 2020 Q2</th>\n",
       "      <th>median_price 2020 Q3</th>\n",
       "      <th>median_price 2020 Q4</th>\n",
       "      <th>median_price 2021 Q1</th>\n",
       "      <th>median_rent_newb 2020 Q1</th>\n",
       "      <th>median_rent_newb 2020 Q2</th>\n",
       "      <th>median_rent_newb 2020 Q3</th>\n",
       "      <th>median_rent_newb 2020 Q4</th>\n",
       "      <th>median_rent_newb 2021 Q1</th>\n",
       "      <th>...</th>\n",
       "      <th>55-64yo_Prop</th>\n",
       "      <th>65+yo_Prop</th>\n",
       "      <th>citizen_AU_Prop</th>\n",
       "      <th>citizen_non_AU_Prop</th>\n",
       "      <th>YARRP &lt;1975_Prop</th>\n",
       "      <th>YARRP 1976-1995_Prop</th>\n",
       "      <th>YARRP 1996-2005_Prop</th>\n",
       "      <th>YARRP 2006-2016_Prop</th>\n",
       "      <th>ATSI_Prop</th>\n",
       "      <th>labels</th>\n",
       "    </tr>\n",
       "    <tr>\n",
       "      <th>postcode</th>\n",
       "      <th></th>\n",
       "      <th></th>\n",
       "      <th></th>\n",
       "      <th></th>\n",
       "      <th></th>\n",
       "      <th></th>\n",
       "      <th></th>\n",
       "      <th></th>\n",
       "      <th></th>\n",
       "      <th></th>\n",
       "      <th></th>\n",
       "      <th></th>\n",
       "      <th></th>\n",
       "      <th></th>\n",
       "      <th></th>\n",
       "      <th></th>\n",
       "      <th></th>\n",
       "      <th></th>\n",
       "      <th></th>\n",
       "      <th></th>\n",
       "      <th></th>\n",
       "    </tr>\n",
       "  </thead>\n",
       "  <tbody>\n",
       "    <tr>\n",
       "      <th>2000</th>\n",
       "      <td>1225.0</td>\n",
       "      <td>1000.0</td>\n",
       "      <td>1390.0</td>\n",
       "      <td>1110.0</td>\n",
       "      <td>1371.0</td>\n",
       "      <td>700.0</td>\n",
       "      <td>630.0</td>\n",
       "      <td>600.0</td>\n",
       "      <td>550.0</td>\n",
       "      <td>600.0</td>\n",
       "      <td>...</td>\n",
       "      <td>0.060924</td>\n",
       "      <td>0.061727</td>\n",
       "      <td>0.317062</td>\n",
       "      <td>0.534895</td>\n",
       "      <td>0.019153</td>\n",
       "      <td>0.058006</td>\n",
       "      <td>0.079348</td>\n",
       "      <td>0.475101</td>\n",
       "      <td>0.001934</td>\n",
       "      <td>0</td>\n",
       "    </tr>\n",
       "    <tr>\n",
       "      <th>2007</th>\n",
       "      <td>745.0</td>\n",
       "      <td>775.0</td>\n",
       "      <td>655.0</td>\n",
       "      <td>651.0</td>\n",
       "      <td>763.0</td>\n",
       "      <td>550.0</td>\n",
       "      <td>560.0</td>\n",
       "      <td>500.0</td>\n",
       "      <td>480.0</td>\n",
       "      <td>455.0</td>\n",
       "      <td>...</td>\n",
       "      <td>0.037644</td>\n",
       "      <td>0.042957</td>\n",
       "      <td>0.308162</td>\n",
       "      <td>0.568958</td>\n",
       "      <td>0.012322</td>\n",
       "      <td>0.054149</td>\n",
       "      <td>0.067036</td>\n",
       "      <td>0.510626</td>\n",
       "      <td>0.006557</td>\n",
       "      <td>0</td>\n",
       "    </tr>\n",
       "    <tr>\n",
       "      <th>2008</th>\n",
       "      <td>750.0</td>\n",
       "      <td>1173.0</td>\n",
       "      <td>890.0</td>\n",
       "      <td>991.0</td>\n",
       "      <td>855.0</td>\n",
       "      <td>595.0</td>\n",
       "      <td>535.0</td>\n",
       "      <td>530.0</td>\n",
       "      <td>490.0</td>\n",
       "      <td>500.0</td>\n",
       "      <td>...</td>\n",
       "      <td>0.040130</td>\n",
       "      <td>0.031592</td>\n",
       "      <td>0.372097</td>\n",
       "      <td>0.509051</td>\n",
       "      <td>0.013234</td>\n",
       "      <td>0.046192</td>\n",
       "      <td>0.051827</td>\n",
       "      <td>0.471909</td>\n",
       "      <td>0.006574</td>\n",
       "      <td>0</td>\n",
       "    </tr>\n",
       "    <tr>\n",
       "      <th>2009</th>\n",
       "      <td>986.0</td>\n",
       "      <td>1100.0</td>\n",
       "      <td>1085.0</td>\n",
       "      <td>1075.0</td>\n",
       "      <td>1188.0</td>\n",
       "      <td>700.0</td>\n",
       "      <td>580.0</td>\n",
       "      <td>595.0</td>\n",
       "      <td>550.0</td>\n",
       "      <td>600.0</td>\n",
       "      <td>...</td>\n",
       "      <td>0.095762</td>\n",
       "      <td>0.089753</td>\n",
       "      <td>0.578085</td>\n",
       "      <td>0.323265</td>\n",
       "      <td>0.033560</td>\n",
       "      <td>0.093733</td>\n",
       "      <td>0.085616</td>\n",
       "      <td>0.291111</td>\n",
       "      <td>0.009756</td>\n",
       "      <td>0</td>\n",
       "    </tr>\n",
       "    <tr>\n",
       "      <th>2010</th>\n",
       "      <td>1280.0</td>\n",
       "      <td>1325.0</td>\n",
       "      <td>1270.0</td>\n",
       "      <td>1240.0</td>\n",
       "      <td>1201.0</td>\n",
       "      <td>640.0</td>\n",
       "      <td>575.0</td>\n",
       "      <td>550.0</td>\n",
       "      <td>518.0</td>\n",
       "      <td>525.0</td>\n",
       "      <td>...</td>\n",
       "      <td>0.087802</td>\n",
       "      <td>0.088883</td>\n",
       "      <td>0.604010</td>\n",
       "      <td>0.244222</td>\n",
       "      <td>0.037140</td>\n",
       "      <td>0.079436</td>\n",
       "      <td>0.064328</td>\n",
       "      <td>0.226373</td>\n",
       "      <td>0.008474</td>\n",
       "      <td>0</td>\n",
       "    </tr>\n",
       "  </tbody>\n",
       "</table>\n",
       "<p>5 rows × 52 columns</p>\n",
       "</div>"
      ],
      "text/plain": [
       "          median_price 2020 Q1  median_price 2020 Q2  median_price 2020 Q3  \\\n",
       "postcode                                                                     \n",
       "2000                    1225.0                1000.0                1390.0   \n",
       "2007                     745.0                 775.0                 655.0   \n",
       "2008                     750.0                1173.0                 890.0   \n",
       "2009                     986.0                1100.0                1085.0   \n",
       "2010                    1280.0                1325.0                1270.0   \n",
       "\n",
       "          median_price 2020 Q4  median_price 2021 Q1  \\\n",
       "postcode                                               \n",
       "2000                    1110.0                1371.0   \n",
       "2007                     651.0                 763.0   \n",
       "2008                     991.0                 855.0   \n",
       "2009                    1075.0                1188.0   \n",
       "2010                    1240.0                1201.0   \n",
       "\n",
       "          median_rent_newb 2020 Q1  median_rent_newb 2020 Q2  \\\n",
       "postcode                                                       \n",
       "2000                         700.0                     630.0   \n",
       "2007                         550.0                     560.0   \n",
       "2008                         595.0                     535.0   \n",
       "2009                         700.0                     580.0   \n",
       "2010                         640.0                     575.0   \n",
       "\n",
       "          median_rent_newb 2020 Q3  median_rent_newb 2020 Q4  \\\n",
       "postcode                                                       \n",
       "2000                         600.0                     550.0   \n",
       "2007                         500.0                     480.0   \n",
       "2008                         530.0                     490.0   \n",
       "2009                         595.0                     550.0   \n",
       "2010                         550.0                     518.0   \n",
       "\n",
       "          median_rent_newb 2021 Q1  ...  55-64yo_Prop  65+yo_Prop  \\\n",
       "postcode                            ...                             \n",
       "2000                         600.0  ...      0.060924    0.061727   \n",
       "2007                         455.0  ...      0.037644    0.042957   \n",
       "2008                         500.0  ...      0.040130    0.031592   \n",
       "2009                         600.0  ...      0.095762    0.089753   \n",
       "2010                         525.0  ...      0.087802    0.088883   \n",
       "\n",
       "          citizen_AU_Prop  citizen_non_AU_Prop  YARRP <1975_Prop  \\\n",
       "postcode                                                           \n",
       "2000             0.317062             0.534895          0.019153   \n",
       "2007             0.308162             0.568958          0.012322   \n",
       "2008             0.372097             0.509051          0.013234   \n",
       "2009             0.578085             0.323265          0.033560   \n",
       "2010             0.604010             0.244222          0.037140   \n",
       "\n",
       "          YARRP 1976-1995_Prop  YARRP 1996-2005_Prop  YARRP 2006-2016_Prop  \\\n",
       "postcode                                                                     \n",
       "2000                  0.058006              0.079348              0.475101   \n",
       "2007                  0.054149              0.067036              0.510626   \n",
       "2008                  0.046192              0.051827              0.471909   \n",
       "2009                  0.093733              0.085616              0.291111   \n",
       "2010                  0.079436              0.064328              0.226373   \n",
       "\n",
       "          ATSI_Prop  labels  \n",
       "postcode                     \n",
       "2000       0.001934       0  \n",
       "2007       0.006557       0  \n",
       "2008       0.006574       0  \n",
       "2009       0.009756       0  \n",
       "2010       0.008474       0  \n",
       "\n",
       "[5 rows x 52 columns]"
      ]
     },
     "execution_count": 26,
     "metadata": {},
     "output_type": "execute_result"
    }
   ],
   "source": [
    "# Using labels from KMeans where k=2\n",
    "modelDF['labels'] = km_label_2\n",
    "modelDF.head()"
   ]
  },
  {
   "cell_type": "markdown",
   "id": "b96282de",
   "metadata": {
    "hidden": true
   },
   "source": [
    "__Sub-setting clusters__"
   ]
  },
  {
   "cell_type": "code",
   "execution_count": 27,
   "id": "ad04c32f",
   "metadata": {
    "hidden": true
   },
   "outputs": [],
   "source": [
    "cluster0 = modelDF.loc[modelDF['labels']==0]\n",
    "cluster1 = modelDF.loc[modelDF['labels']==1]\n",
    "\n",
    "cluster0 = cluster0.drop('labels',axis=1)\n",
    "cluster1 = cluster1.drop('labels',axis=1)"
   ]
  },
  {
   "cell_type": "markdown",
   "id": "22541d47",
   "metadata": {
    "hidden": true
   },
   "source": [
    "### Model on the 2 Clusters"
   ]
  },
  {
   "cell_type": "code",
   "execution_count": 28,
   "id": "f27921d0",
   "metadata": {
    "hidden": true
   },
   "outputs": [
    {
     "name": "stdout",
     "output_type": "stream",
     "text": [
      "R2 on 1st cluster: [0.8887, 0.9279, 0.7283, 0.7517, 0.9142] | Mean: 0.8422\n",
      "R2 on 2nd cluster: [0.6886, 0.6649, 0.3675, 0.7829, 0.7898] | Mean: 0.6587\n"
     ]
    }
   ],
   "source": [
    "# 1st cluster\n",
    "lr = LinearRegression()\n",
    "scoreKM0 = cross_val_score(lr, cluster0.drop(['median_price 2021 Q1'],axis=1), # X\n",
    "                        cluster0['median_price 2021 Q1'],                      # y \n",
    "                        cv=KFold(n_splits=5, shuffle=True, random_state=42)) \n",
    "print('R2 on 1st cluster:',list(scoreKM0.round(4)), '| Mean:', scoreKM0.mean().round(4))\n",
    "\n",
    "# 2nd cluster\n",
    "lr = LinearRegression()\n",
    "scoreKM1 = cross_val_score(lr, cluster1.drop(['median_price 2021 Q1'],axis=1), # X\n",
    "                        cluster1['median_price 2021 Q1'],                      # y \n",
    "                        cv=KFold(n_splits=5, shuffle=True, random_state=42))\n",
    "print('R2 on 2nd cluster:',list(scoreKM1.round(4)), '| Mean:', scoreKM1.mean().round(4))"
   ]
  },
  {
   "cell_type": "markdown",
   "id": "ba5490e1",
   "metadata": {
    "hidden": true
   },
   "source": [
    "Plot $R^2$ values"
   ]
  },
  {
   "cell_type": "code",
   "execution_count": 29,
   "id": "151f9a73",
   "metadata": {
    "hidden": true
   },
   "outputs": [
    {
     "data": {
      "image/png": "[encoded data removed]",
      "text/plain": [
       "<Figure size 432x288 with 1 Axes>"
      ]
     },
     "metadata": {
      "needs_background": "light"
     },
     "output_type": "display_data"
    }
   ],
   "source": [
    "splits = range(1,6)\n",
    "plt.plot(splits, scoreKM0,label='Cluster 1')\n",
    "plt.plot(splits, scoreKM1,label='Cluster 2')\n",
    "plt.title('R2 scores')\n",
    "plt.xlabel('Trial #')\n",
    "plt.xticks(splits)\n",
    "plt.ylabel('$R^2$')\n",
    "plt.ylim(0,1)\n",
    "plt.legend(loc='best')\n",
    "plt.show()"
   ]
  },
  {
   "cell_type": "markdown",
   "id": "d6c114f6",
   "metadata": {
    "hidden": true
   },
   "source": [
    "###  Hyperparameter Tuning Using Grid Search Cross-Validation\n"
   ]
  },
  {
   "cell_type": "markdown",
   "id": "ee533363",
   "metadata": {
    "hidden": true
   },
   "source": [
    "#### Cluster 0"
   ]
  },
  {
   "cell_type": "markdown",
   "id": "c3a51526",
   "metadata": {
    "hidden": true
   },
   "source": [
    "Train-test-split"
   ]
  },
  {
   "cell_type": "code",
   "execution_count": 30,
   "id": "ea615728",
   "metadata": {
    "hidden": true
   },
   "outputs": [],
   "source": [
    "X = cluster0.drop(['median_price 2021 Q1'],axis=1)\n",
    "y = cluster0['median_price 2021 Q1']\n",
    "X_train, X_test, y_train, y_test = train_test_split(X, y , random_state=123, test_size=.2)"
   ]
  },
  {
   "cell_type": "code",
   "execution_count": 31,
   "id": "d66c7179",
   "metadata": {
    "hidden": true
   },
   "outputs": [
    {
     "name": "stdout",
     "output_type": "stream",
     "text": [
      "Fitting 5 folds for each of 50 candidates, totalling 250 fits\n"
     ]
    },
    {
     "data": {
      "text/plain": [
       "GridSearchCV(cv=KFold(n_splits=5, random_state=100, shuffle=True),\n",
       "             estimator=RFE(estimator=LinearRegression()),\n",
       "             param_grid=[{'n_features_to_select': [1, 2, 3, 4, 5, 6, 7, 8, 9,\n",
       "                                                   10, 11, 12, 13, 14, 15, 16,\n",
       "                                                   17, 18, 19, 20, 21, 22, 23,\n",
       "                                                   24, 25, 26, 27, 28, 29, 30, ...]}],\n",
       "             return_train_score=True, scoring='r2', verbose=1)"
      ]
     },
     "execution_count": 31,
     "metadata": {},
     "output_type": "execute_result"
    }
   ],
   "source": [
    "# step-1: create a cross-validation scheme\n",
    "folds = KFold(n_splits = 5, shuffle = True, random_state = 100)\n",
    "\n",
    "# step-2: specify range of hyperparameters to tune\n",
    "hyper_params = [{'n_features_to_select': list(range(1, 51))}]\n",
    "\n",
    "\n",
    "# step-3: perform grid search\n",
    "# 3.1 specify model\n",
    "lr = LinearRegression()\n",
    "rfe = RFE(lr)             \n",
    "\n",
    "# 3.2 call GridSearchCV()\n",
    "model_cv = GridSearchCV(estimator = rfe, \n",
    "                        param_grid = hyper_params, \n",
    "                        scoring= 'r2', \n",
    "                        cv = folds, \n",
    "                        verbose = 1,\n",
    "                        return_train_score=True)      \n",
    "\n",
    "# fit the model\n",
    "model_cv.fit(X_train, y_train)  "
   ]
  },
  {
   "cell_type": "code",
   "execution_count": 32,
   "id": "34bff6f2",
   "metadata": {
    "hidden": true,
    "scrolled": true
   },
   "outputs": [
    {
     "data": {
      "text/html": [
       "<div>\n",
       "<style scoped>\n",
       "    .dataframe tbody tr th:only-of-type {\n",
       "        vertical-align: middle;\n",
       "    }\n",
       "\n",
       "    .dataframe tbody tr th {\n",
       "        vertical-align: top;\n",
       "    }\n",
       "\n",
       "    .dataframe thead th {\n",
       "        text-align: right;\n",
       "    }\n",
       "</style>\n",
       "<table border=\"1\" class=\"dataframe\">\n",
       "  <thead>\n",
       "    <tr style=\"text-align: right;\">\n",
       "      <th></th>\n",
       "      <th>mean_fit_time</th>\n",
       "      <th>std_fit_time</th>\n",
       "      <th>mean_score_time</th>\n",
       "      <th>std_score_time</th>\n",
       "      <th>param_n_features_to_select</th>\n",
       "      <th>params</th>\n",
       "      <th>split0_test_score</th>\n",
       "      <th>split1_test_score</th>\n",
       "      <th>split2_test_score</th>\n",
       "      <th>split3_test_score</th>\n",
       "      <th>...</th>\n",
       "      <th>mean_test_score</th>\n",
       "      <th>std_test_score</th>\n",
       "      <th>rank_test_score</th>\n",
       "      <th>split0_train_score</th>\n",
       "      <th>split1_train_score</th>\n",
       "      <th>split2_train_score</th>\n",
       "      <th>split3_train_score</th>\n",
       "      <th>split4_train_score</th>\n",
       "      <th>mean_train_score</th>\n",
       "      <th>std_train_score</th>\n",
       "    </tr>\n",
       "  </thead>\n",
       "  <tbody>\n",
       "    <tr>\n",
       "      <th>0</th>\n",
       "      <td>0.130105</td>\n",
       "      <td>0.036042</td>\n",
       "      <td>0.005139</td>\n",
       "      <td>0.001475</td>\n",
       "      <td>1</td>\n",
       "      <td>{'n_features_to_select': 1}</td>\n",
       "      <td>-0.101502</td>\n",
       "      <td>-0.018716</td>\n",
       "      <td>-0.022997</td>\n",
       "      <td>-0.035905</td>\n",
       "      <td>...</td>\n",
       "      <td>-0.032919</td>\n",
       "      <td>0.038115</td>\n",
       "      <td>49</td>\n",
       "      <td>0.051325</td>\n",
       "      <td>0.019840</td>\n",
       "      <td>0.020229</td>\n",
       "      <td>0.012086</td>\n",
       "      <td>0.068174</td>\n",
       "      <td>0.034331</td>\n",
       "      <td>0.021623</td>\n",
       "    </tr>\n",
       "    <tr>\n",
       "      <th>1</th>\n",
       "      <td>0.136667</td>\n",
       "      <td>0.042761</td>\n",
       "      <td>0.004259</td>\n",
       "      <td>0.000681</td>\n",
       "      <td>2</td>\n",
       "      <td>{'n_features_to_select': 2}</td>\n",
       "      <td>-0.188882</td>\n",
       "      <td>-0.058214</td>\n",
       "      <td>0.001926</td>\n",
       "      <td>0.103208</td>\n",
       "      <td>...</td>\n",
       "      <td>-0.037297</td>\n",
       "      <td>0.094602</td>\n",
       "      <td>50</td>\n",
       "      <td>0.176289</td>\n",
       "      <td>0.107587</td>\n",
       "      <td>0.101458</td>\n",
       "      <td>0.054144</td>\n",
       "      <td>0.183656</td>\n",
       "      <td>0.124627</td>\n",
       "      <td>0.048884</td>\n",
       "    </tr>\n",
       "    <tr>\n",
       "      <th>2</th>\n",
       "      <td>0.077887</td>\n",
       "      <td>0.003616</td>\n",
       "      <td>0.003126</td>\n",
       "      <td>0.000590</td>\n",
       "      <td>3</td>\n",
       "      <td>{'n_features_to_select': 3}</td>\n",
       "      <td>-0.220062</td>\n",
       "      <td>-0.115079</td>\n",
       "      <td>0.177638</td>\n",
       "      <td>0.314100</td>\n",
       "      <td>...</td>\n",
       "      <td>0.017049</td>\n",
       "      <td>0.197749</td>\n",
       "      <td>47</td>\n",
       "      <td>0.180316</td>\n",
       "      <td>0.297590</td>\n",
       "      <td>0.246134</td>\n",
       "      <td>0.188356</td>\n",
       "      <td>0.187586</td>\n",
       "      <td>0.219996</td>\n",
       "      <td>0.045453</td>\n",
       "    </tr>\n",
       "    <tr>\n",
       "      <th>3</th>\n",
       "      <td>0.140971</td>\n",
       "      <td>0.082658</td>\n",
       "      <td>0.004009</td>\n",
       "      <td>0.000580</td>\n",
       "      <td>4</td>\n",
       "      <td>{'n_features_to_select': 4}</td>\n",
       "      <td>-0.185695</td>\n",
       "      <td>-0.114758</td>\n",
       "      <td>0.227381</td>\n",
       "      <td>0.323742</td>\n",
       "      <td>...</td>\n",
       "      <td>0.010885</td>\n",
       "      <td>0.220038</td>\n",
       "      <td>48</td>\n",
       "      <td>0.183590</td>\n",
       "      <td>0.297590</td>\n",
       "      <td>0.254869</td>\n",
       "      <td>0.211895</td>\n",
       "      <td>0.205978</td>\n",
       "      <td>0.230784</td>\n",
       "      <td>0.040602</td>\n",
       "    </tr>\n",
       "    <tr>\n",
       "      <th>4</th>\n",
       "      <td>0.072241</td>\n",
       "      <td>0.002029</td>\n",
       "      <td>0.003464</td>\n",
       "      <td>0.000198</td>\n",
       "      <td>5</td>\n",
       "      <td>{'n_features_to_select': 5}</td>\n",
       "      <td>0.211687</td>\n",
       "      <td>0.311700</td>\n",
       "      <td>0.450658</td>\n",
       "      <td>0.537187</td>\n",
       "      <td>...</td>\n",
       "      <td>0.375407</td>\n",
       "      <td>0.112063</td>\n",
       "      <td>45</td>\n",
       "      <td>0.497798</td>\n",
       "      <td>0.490047</td>\n",
       "      <td>0.475327</td>\n",
       "      <td>0.438746</td>\n",
       "      <td>0.487053</td>\n",
       "      <td>0.477794</td>\n",
       "      <td>0.020818</td>\n",
       "    </tr>\n",
       "    <tr>\n",
       "      <th>5</th>\n",
       "      <td>0.100402</td>\n",
       "      <td>0.026002</td>\n",
       "      <td>0.002917</td>\n",
       "      <td>0.000372</td>\n",
       "      <td>6</td>\n",
       "      <td>{'n_features_to_select': 6}</td>\n",
       "      <td>0.185375</td>\n",
       "      <td>0.314957</td>\n",
       "      <td>0.430479</td>\n",
       "      <td>0.537197</td>\n",
       "      <td>...</td>\n",
       "      <td>0.364729</td>\n",
       "      <td>0.117299</td>\n",
       "      <td>46</td>\n",
       "      <td>0.503160</td>\n",
       "      <td>0.490109</td>\n",
       "      <td>0.478515</td>\n",
       "      <td>0.440349</td>\n",
       "      <td>0.490123</td>\n",
       "      <td>0.480451</td>\n",
       "      <td>0.021515</td>\n",
       "    </tr>\n",
       "    <tr>\n",
       "      <th>6</th>\n",
       "      <td>0.095118</td>\n",
       "      <td>0.037879</td>\n",
       "      <td>0.003101</td>\n",
       "      <td>0.000557</td>\n",
       "      <td>7</td>\n",
       "      <td>{'n_features_to_select': 7}</td>\n",
       "      <td>0.241792</td>\n",
       "      <td>0.225947</td>\n",
       "      <td>0.458778</td>\n",
       "      <td>0.615044</td>\n",
       "      <td>...</td>\n",
       "      <td>0.391223</td>\n",
       "      <td>0.144810</td>\n",
       "      <td>44</td>\n",
       "      <td>0.535517</td>\n",
       "      <td>0.545844</td>\n",
       "      <td>0.516430</td>\n",
       "      <td>0.460909</td>\n",
       "      <td>0.520265</td>\n",
       "      <td>0.515793</td>\n",
       "      <td>0.029410</td>\n",
       "    </tr>\n",
       "    <tr>\n",
       "      <th>7</th>\n",
       "      <td>0.114131</td>\n",
       "      <td>0.065942</td>\n",
       "      <td>0.003738</td>\n",
       "      <td>0.000634</td>\n",
       "      <td>8</td>\n",
       "      <td>{'n_features_to_select': 8}</td>\n",
       "      <td>0.237262</td>\n",
       "      <td>0.324522</td>\n",
       "      <td>0.469994</td>\n",
       "      <td>0.615005</td>\n",
       "      <td>...</td>\n",
       "      <td>0.415237</td>\n",
       "      <td>0.128849</td>\n",
       "      <td>43</td>\n",
       "      <td>0.553871</td>\n",
       "      <td>0.569825</td>\n",
       "      <td>0.529487</td>\n",
       "      <td>0.703161</td>\n",
       "      <td>0.534574</td>\n",
       "      <td>0.578184</td>\n",
       "      <td>0.064115</td>\n",
       "    </tr>\n",
       "    <tr>\n",
       "      <th>8</th>\n",
       "      <td>0.134208</td>\n",
       "      <td>0.068959</td>\n",
       "      <td>0.003970</td>\n",
       "      <td>0.000634</td>\n",
       "      <td>9</td>\n",
       "      <td>{'n_features_to_select': 9}</td>\n",
       "      <td>0.391821</td>\n",
       "      <td>0.280816</td>\n",
       "      <td>0.449179</td>\n",
       "      <td>0.733510</td>\n",
       "      <td>...</td>\n",
       "      <td>0.433822</td>\n",
       "      <td>0.161017</td>\n",
       "      <td>42</td>\n",
       "      <td>0.605126</td>\n",
       "      <td>0.571363</td>\n",
       "      <td>0.532852</td>\n",
       "      <td>0.777095</td>\n",
       "      <td>0.610702</td>\n",
       "      <td>0.619427</td>\n",
       "      <td>0.083601</td>\n",
       "    </tr>\n",
       "    <tr>\n",
       "      <th>9</th>\n",
       "      <td>0.066846</td>\n",
       "      <td>0.003325</td>\n",
       "      <td>0.003575</td>\n",
       "      <td>0.000593</td>\n",
       "      <td>10</td>\n",
       "      <td>{'n_features_to_select': 10}</td>\n",
       "      <td>0.403934</td>\n",
       "      <td>0.237540</td>\n",
       "      <td>0.687414</td>\n",
       "      <td>0.751421</td>\n",
       "      <td>...</td>\n",
       "      <td>0.480568</td>\n",
       "      <td>0.203006</td>\n",
       "      <td>41</td>\n",
       "      <td>0.614535</td>\n",
       "      <td>0.597919</td>\n",
       "      <td>0.725046</td>\n",
       "      <td>0.781926</td>\n",
       "      <td>0.621837</td>\n",
       "      <td>0.668253</td>\n",
       "      <td>0.072297</td>\n",
       "    </tr>\n",
       "    <tr>\n",
       "      <th>10</th>\n",
       "      <td>0.080153</td>\n",
       "      <td>0.015721</td>\n",
       "      <td>0.003889</td>\n",
       "      <td>0.000766</td>\n",
       "      <td>11</td>\n",
       "      <td>{'n_features_to_select': 11}</td>\n",
       "      <td>0.367691</td>\n",
       "      <td>0.284754</td>\n",
       "      <td>0.755121</td>\n",
       "      <td>0.751699</td>\n",
       "      <td>...</td>\n",
       "      <td>0.495908</td>\n",
       "      <td>0.211893</td>\n",
       "      <td>40</td>\n",
       "      <td>0.633537</td>\n",
       "      <td>0.600052</td>\n",
       "      <td>0.814885</td>\n",
       "      <td>0.783413</td>\n",
       "      <td>0.622040</td>\n",
       "      <td>0.690785</td>\n",
       "      <td>0.089684</td>\n",
       "    </tr>\n",
       "    <tr>\n",
       "      <th>11</th>\n",
       "      <td>0.087548</td>\n",
       "      <td>0.038840</td>\n",
       "      <td>0.003642</td>\n",
       "      <td>0.000681</td>\n",
       "      <td>12</td>\n",
       "      <td>{'n_features_to_select': 12}</td>\n",
       "      <td>0.372792</td>\n",
       "      <td>0.420533</td>\n",
       "      <td>0.717701</td>\n",
       "      <td>0.751658</td>\n",
       "      <td>...</td>\n",
       "      <td>0.513714</td>\n",
       "      <td>0.184371</td>\n",
       "      <td>39</td>\n",
       "      <td>0.633809</td>\n",
       "      <td>0.634349</td>\n",
       "      <td>0.823127</td>\n",
       "      <td>0.783482</td>\n",
       "      <td>0.630314</td>\n",
       "      <td>0.701016</td>\n",
       "      <td>0.084465</td>\n",
       "    </tr>\n",
       "    <tr>\n",
       "      <th>12</th>\n",
       "      <td>0.096725</td>\n",
       "      <td>0.043253</td>\n",
       "      <td>0.004086</td>\n",
       "      <td>0.000535</td>\n",
       "      <td>13</td>\n",
       "      <td>{'n_features_to_select': 13}</td>\n",
       "      <td>0.371151</td>\n",
       "      <td>0.413997</td>\n",
       "      <td>0.715030</td>\n",
       "      <td>0.749060</td>\n",
       "      <td>...</td>\n",
       "      <td>0.524128</td>\n",
       "      <td>0.170818</td>\n",
       "      <td>38</td>\n",
       "      <td>0.633819</td>\n",
       "      <td>0.635035</td>\n",
       "      <td>0.826983</td>\n",
       "      <td>0.787972</td>\n",
       "      <td>0.631939</td>\n",
       "      <td>0.703150</td>\n",
       "      <td>0.086078</td>\n",
       "    </tr>\n",
       "    <tr>\n",
       "      <th>13</th>\n",
       "      <td>0.087000</td>\n",
       "      <td>0.027674</td>\n",
       "      <td>0.004069</td>\n",
       "      <td>0.001866</td>\n",
       "      <td>14</td>\n",
       "      <td>{'n_features_to_select': 14}</td>\n",
       "      <td>0.367244</td>\n",
       "      <td>0.414184</td>\n",
       "      <td>0.729613</td>\n",
       "      <td>0.755946</td>\n",
       "      <td>...</td>\n",
       "      <td>0.527654</td>\n",
       "      <td>0.176615</td>\n",
       "      <td>37</td>\n",
       "      <td>0.634316</td>\n",
       "      <td>0.635035</td>\n",
       "      <td>0.832003</td>\n",
       "      <td>0.789258</td>\n",
       "      <td>0.631952</td>\n",
       "      <td>0.704513</td>\n",
       "      <td>0.087699</td>\n",
       "    </tr>\n",
       "    <tr>\n",
       "      <th>14</th>\n",
       "      <td>0.063530</td>\n",
       "      <td>0.007240</td>\n",
       "      <td>0.003194</td>\n",
       "      <td>0.000579</td>\n",
       "      <td>15</td>\n",
       "      <td>{'n_features_to_select': 15}</td>\n",
       "      <td>0.777126</td>\n",
       "      <td>0.667282</td>\n",
       "      <td>0.753691</td>\n",
       "      <td>0.755841</td>\n",
       "      <td>...</td>\n",
       "      <td>0.700537</td>\n",
       "      <td>0.084731</td>\n",
       "      <td>36</td>\n",
       "      <td>0.778752</td>\n",
       "      <td>0.796443</td>\n",
       "      <td>0.841870</td>\n",
       "      <td>0.789259</td>\n",
       "      <td>0.707436</td>\n",
       "      <td>0.782752</td>\n",
       "      <td>0.043389</td>\n",
       "    </tr>\n",
       "    <tr>\n",
       "      <th>15</th>\n",
       "      <td>0.069433</td>\n",
       "      <td>0.007953</td>\n",
       "      <td>0.003718</td>\n",
       "      <td>0.000280</td>\n",
       "      <td>16</td>\n",
       "      <td>{'n_features_to_select': 16}</td>\n",
       "      <td>0.774904</td>\n",
       "      <td>0.655541</td>\n",
       "      <td>0.742030</td>\n",
       "      <td>0.787013</td>\n",
       "      <td>...</td>\n",
       "      <td>0.703249</td>\n",
       "      <td>0.086477</td>\n",
       "      <td>35</td>\n",
       "      <td>0.789202</td>\n",
       "      <td>0.806046</td>\n",
       "      <td>0.844738</td>\n",
       "      <td>0.801731</td>\n",
       "      <td>0.709497</td>\n",
       "      <td>0.790243</td>\n",
       "      <td>0.044435</td>\n",
       "    </tr>\n",
       "    <tr>\n",
       "      <th>16</th>\n",
       "      <td>0.069729</td>\n",
       "      <td>0.007348</td>\n",
       "      <td>0.003905</td>\n",
       "      <td>0.001007</td>\n",
       "      <td>17</td>\n",
       "      <td>{'n_features_to_select': 17}</td>\n",
       "      <td>0.725108</td>\n",
       "      <td>0.689451</td>\n",
       "      <td>0.744796</td>\n",
       "      <td>0.805395</td>\n",
       "      <td>...</td>\n",
       "      <td>0.735597</td>\n",
       "      <td>0.039232</td>\n",
       "      <td>34</td>\n",
       "      <td>0.808058</td>\n",
       "      <td>0.821110</td>\n",
       "      <td>0.844867</td>\n",
       "      <td>0.809526</td>\n",
       "      <td>0.839663</td>\n",
       "      <td>0.824645</td>\n",
       "      <td>0.015170</td>\n",
       "    </tr>\n",
       "    <tr>\n",
       "      <th>17</th>\n",
       "      <td>0.061450</td>\n",
       "      <td>0.003906</td>\n",
       "      <td>0.003218</td>\n",
       "      <td>0.000507</td>\n",
       "      <td>18</td>\n",
       "      <td>{'n_features_to_select': 18}</td>\n",
       "      <td>0.725193</td>\n",
       "      <td>0.719609</td>\n",
       "      <td>0.744899</td>\n",
       "      <td>0.812304</td>\n",
       "      <td>...</td>\n",
       "      <td>0.740687</td>\n",
       "      <td>0.038398</td>\n",
       "      <td>28</td>\n",
       "      <td>0.808059</td>\n",
       "      <td>0.825043</td>\n",
       "      <td>0.844869</td>\n",
       "      <td>0.815014</td>\n",
       "      <td>0.851887</td>\n",
       "      <td>0.828974</td>\n",
       "      <td>0.016884</td>\n",
       "    </tr>\n",
       "    <tr>\n",
       "      <th>18</th>\n",
       "      <td>0.064901</td>\n",
       "      <td>0.006057</td>\n",
       "      <td>0.003563</td>\n",
       "      <td>0.000708</td>\n",
       "      <td>19</td>\n",
       "      <td>{'n_features_to_select': 19}</td>\n",
       "      <td>0.733380</td>\n",
       "      <td>0.736943</td>\n",
       "      <td>0.727465</td>\n",
       "      <td>0.804367</td>\n",
       "      <td>...</td>\n",
       "      <td>0.737028</td>\n",
       "      <td>0.038884</td>\n",
       "      <td>32</td>\n",
       "      <td>0.812923</td>\n",
       "      <td>0.829674</td>\n",
       "      <td>0.849260</td>\n",
       "      <td>0.815845</td>\n",
       "      <td>0.855853</td>\n",
       "      <td>0.832711</td>\n",
       "      <td>0.017290</td>\n",
       "    </tr>\n",
       "    <tr>\n",
       "      <th>19</th>\n",
       "      <td>0.069186</td>\n",
       "      <td>0.008793</td>\n",
       "      <td>0.004176</td>\n",
       "      <td>0.000421</td>\n",
       "      <td>20</td>\n",
       "      <td>{'n_features_to_select': 20}</td>\n",
       "      <td>0.723472</td>\n",
       "      <td>0.749543</td>\n",
       "      <td>0.728723</td>\n",
       "      <td>0.811155</td>\n",
       "      <td>...</td>\n",
       "      <td>0.735713</td>\n",
       "      <td>0.046877</td>\n",
       "      <td>33</td>\n",
       "      <td>0.831498</td>\n",
       "      <td>0.830368</td>\n",
       "      <td>0.850237</td>\n",
       "      <td>0.823340</td>\n",
       "      <td>0.857998</td>\n",
       "      <td>0.838688</td>\n",
       "      <td>0.013136</td>\n",
       "    </tr>\n",
       "    <tr>\n",
       "      <th>20</th>\n",
       "      <td>0.079297</td>\n",
       "      <td>0.020255</td>\n",
       "      <td>0.003386</td>\n",
       "      <td>0.001146</td>\n",
       "      <td>21</td>\n",
       "      <td>{'n_features_to_select': 21}</td>\n",
       "      <td>0.726633</td>\n",
       "      <td>0.773186</td>\n",
       "      <td>0.726722</td>\n",
       "      <td>0.823340</td>\n",
       "      <td>...</td>\n",
       "      <td>0.743357</td>\n",
       "      <td>0.052323</td>\n",
       "      <td>26</td>\n",
       "      <td>0.839510</td>\n",
       "      <td>0.832589</td>\n",
       "      <td>0.850476</td>\n",
       "      <td>0.824508</td>\n",
       "      <td>0.858800</td>\n",
       "      <td>0.841177</td>\n",
       "      <td>0.012259</td>\n",
       "    </tr>\n",
       "    <tr>\n",
       "      <th>21</th>\n",
       "      <td>0.061448</td>\n",
       "      <td>0.011149</td>\n",
       "      <td>0.003350</td>\n",
       "      <td>0.000664</td>\n",
       "      <td>22</td>\n",
       "      <td>{'n_features_to_select': 22}</td>\n",
       "      <td>0.727832</td>\n",
       "      <td>0.769400</td>\n",
       "      <td>0.725746</td>\n",
       "      <td>0.819752</td>\n",
       "      <td>...</td>\n",
       "      <td>0.738654</td>\n",
       "      <td>0.055803</td>\n",
       "      <td>31</td>\n",
       "      <td>0.839535</td>\n",
       "      <td>0.834052</td>\n",
       "      <td>0.850565</td>\n",
       "      <td>0.826615</td>\n",
       "      <td>0.859396</td>\n",
       "      <td>0.842033</td>\n",
       "      <td>0.011678</td>\n",
       "    </tr>\n",
       "    <tr>\n",
       "      <th>22</th>\n",
       "      <td>0.092188</td>\n",
       "      <td>0.034063</td>\n",
       "      <td>0.003704</td>\n",
       "      <td>0.000446</td>\n",
       "      <td>23</td>\n",
       "      <td>{'n_features_to_select': 23}</td>\n",
       "      <td>0.731203</td>\n",
       "      <td>0.773961</td>\n",
       "      <td>0.730887</td>\n",
       "      <td>0.811115</td>\n",
       "      <td>...</td>\n",
       "      <td>0.739676</td>\n",
       "      <td>0.053392</td>\n",
       "      <td>29</td>\n",
       "      <td>0.840389</td>\n",
       "      <td>0.834229</td>\n",
       "      <td>0.850938</td>\n",
       "      <td>0.828774</td>\n",
       "      <td>0.859415</td>\n",
       "      <td>0.842749</td>\n",
       "      <td>0.011120</td>\n",
       "    </tr>\n",
       "    <tr>\n",
       "      <th>23</th>\n",
       "      <td>0.262961</td>\n",
       "      <td>0.318097</td>\n",
       "      <td>0.003319</td>\n",
       "      <td>0.000730</td>\n",
       "      <td>24</td>\n",
       "      <td>{'n_features_to_select': 24}</td>\n",
       "      <td>0.733399</td>\n",
       "      <td>0.774707</td>\n",
       "      <td>0.730968</td>\n",
       "      <td>0.806642</td>\n",
       "      <td>...</td>\n",
       "      <td>0.738973</td>\n",
       "      <td>0.052951</td>\n",
       "      <td>30</td>\n",
       "      <td>0.840458</td>\n",
       "      <td>0.834944</td>\n",
       "      <td>0.850940</td>\n",
       "      <td>0.828899</td>\n",
       "      <td>0.859441</td>\n",
       "      <td>0.842936</td>\n",
       "      <td>0.010986</td>\n",
       "    </tr>\n",
       "    <tr>\n",
       "      <th>24</th>\n",
       "      <td>0.074341</td>\n",
       "      <td>0.007093</td>\n",
       "      <td>0.004331</td>\n",
       "      <td>0.000260</td>\n",
       "      <td>25</td>\n",
       "      <td>{'n_features_to_select': 25}</td>\n",
       "      <td>0.736510</td>\n",
       "      <td>0.778439</td>\n",
       "      <td>0.730540</td>\n",
       "      <td>0.808313</td>\n",
       "      <td>...</td>\n",
       "      <td>0.741017</td>\n",
       "      <td>0.053125</td>\n",
       "      <td>27</td>\n",
       "      <td>0.840554</td>\n",
       "      <td>0.835109</td>\n",
       "      <td>0.850944</td>\n",
       "      <td>0.829405</td>\n",
       "      <td>0.859623</td>\n",
       "      <td>0.843127</td>\n",
       "      <td>0.010885</td>\n",
       "    </tr>\n",
       "    <tr>\n",
       "      <th>25</th>\n",
       "      <td>0.170937</td>\n",
       "      <td>0.070506</td>\n",
       "      <td>0.004638</td>\n",
       "      <td>0.000534</td>\n",
       "      <td>26</td>\n",
       "      <td>{'n_features_to_select': 26}</td>\n",
       "      <td>0.764672</td>\n",
       "      <td>0.799282</td>\n",
       "      <td>0.783705</td>\n",
       "      <td>0.783570</td>\n",
       "      <td>...</td>\n",
       "      <td>0.767200</td>\n",
       "      <td>0.033086</td>\n",
       "      <td>24</td>\n",
       "      <td>0.843630</td>\n",
       "      <td>0.840991</td>\n",
       "      <td>0.876610</td>\n",
       "      <td>0.843970</td>\n",
       "      <td>0.882588</td>\n",
       "      <td>0.857558</td>\n",
       "      <td>0.018125</td>\n",
       "    </tr>\n",
       "    <tr>\n",
       "      <th>26</th>\n",
       "      <td>0.097938</td>\n",
       "      <td>0.036825</td>\n",
       "      <td>0.005496</td>\n",
       "      <td>0.001103</td>\n",
       "      <td>27</td>\n",
       "      <td>{'n_features_to_select': 27}</td>\n",
       "      <td>0.774017</td>\n",
       "      <td>0.778434</td>\n",
       "      <td>0.786274</td>\n",
       "      <td>0.779631</td>\n",
       "      <td>...</td>\n",
       "      <td>0.764056</td>\n",
       "      <td>0.031313</td>\n",
       "      <td>25</td>\n",
       "      <td>0.846301</td>\n",
       "      <td>0.846509</td>\n",
       "      <td>0.877711</td>\n",
       "      <td>0.849001</td>\n",
       "      <td>0.884041</td>\n",
       "      <td>0.860713</td>\n",
       "      <td>0.016612</td>\n",
       "    </tr>\n",
       "    <tr>\n",
       "      <th>27</th>\n",
       "      <td>0.067322</td>\n",
       "      <td>0.004777</td>\n",
       "      <td>0.004808</td>\n",
       "      <td>0.000694</td>\n",
       "      <td>28</td>\n",
       "      <td>{'n_features_to_select': 28}</td>\n",
       "      <td>0.817430</td>\n",
       "      <td>0.825435</td>\n",
       "      <td>0.781415</td>\n",
       "      <td>0.768861</td>\n",
       "      <td>...</td>\n",
       "      <td>0.779949</td>\n",
       "      <td>0.042375</td>\n",
       "      <td>22</td>\n",
       "      <td>0.870852</td>\n",
       "      <td>0.870700</td>\n",
       "      <td>0.882392</td>\n",
       "      <td>0.885049</td>\n",
       "      <td>0.887878</td>\n",
       "      <td>0.879374</td>\n",
       "      <td>0.007232</td>\n",
       "    </tr>\n",
       "    <tr>\n",
       "      <th>28</th>\n",
       "      <td>0.131608</td>\n",
       "      <td>0.105089</td>\n",
       "      <td>0.004192</td>\n",
       "      <td>0.000694</td>\n",
       "      <td>29</td>\n",
       "      <td>{'n_features_to_select': 29}</td>\n",
       "      <td>0.811819</td>\n",
       "      <td>0.819253</td>\n",
       "      <td>0.755227</td>\n",
       "      <td>0.768406</td>\n",
       "      <td>...</td>\n",
       "      <td>0.772838</td>\n",
       "      <td>0.040043</td>\n",
       "      <td>23</td>\n",
       "      <td>0.871790</td>\n",
       "      <td>0.870798</td>\n",
       "      <td>0.889148</td>\n",
       "      <td>0.885122</td>\n",
       "      <td>0.888034</td>\n",
       "      <td>0.880978</td>\n",
       "      <td>0.008022</td>\n",
       "    </tr>\n",
       "    <tr>\n",
       "      <th>29</th>\n",
       "      <td>0.104583</td>\n",
       "      <td>0.035623</td>\n",
       "      <td>0.005009</td>\n",
       "      <td>0.001088</td>\n",
       "      <td>30</td>\n",
       "      <td>{'n_features_to_select': 30}</td>\n",
       "      <td>0.806783</td>\n",
       "      <td>0.818656</td>\n",
       "      <td>0.751643</td>\n",
       "      <td>0.856308</td>\n",
       "      <td>...</td>\n",
       "      <td>0.787729</td>\n",
       "      <td>0.053155</td>\n",
       "      <td>21</td>\n",
       "      <td>0.872255</td>\n",
       "      <td>0.871310</td>\n",
       "      <td>0.889665</td>\n",
       "      <td>0.929783</td>\n",
       "      <td>0.888170</td>\n",
       "      <td>0.890236</td>\n",
       "      <td>0.021213</td>\n",
       "    </tr>\n",
       "    <tr>\n",
       "      <th>30</th>\n",
       "      <td>0.162427</td>\n",
       "      <td>0.135966</td>\n",
       "      <td>0.004728</td>\n",
       "      <td>0.000296</td>\n",
       "      <td>31</td>\n",
       "      <td>{'n_features_to_select': 31}</td>\n",
       "      <td>0.806706</td>\n",
       "      <td>0.789911</td>\n",
       "      <td>0.753542</td>\n",
       "      <td>0.854335</td>\n",
       "      <td>...</td>\n",
       "      <td>0.798512</td>\n",
       "      <td>0.032829</td>\n",
       "      <td>14</td>\n",
       "      <td>0.872255</td>\n",
       "      <td>0.872469</td>\n",
       "      <td>0.890860</td>\n",
       "      <td>0.930219</td>\n",
       "      <td>0.925790</td>\n",
       "      <td>0.898319</td>\n",
       "      <td>0.025201</td>\n",
       "    </tr>\n",
       "    <tr>\n",
       "      <th>31</th>\n",
       "      <td>0.053027</td>\n",
       "      <td>0.007076</td>\n",
       "      <td>0.004617</td>\n",
       "      <td>0.000506</td>\n",
       "      <td>32</td>\n",
       "      <td>{'n_features_to_select': 32}</td>\n",
       "      <td>0.800964</td>\n",
       "      <td>0.745527</td>\n",
       "      <td>0.769239</td>\n",
       "      <td>0.855284</td>\n",
       "      <td>...</td>\n",
       "      <td>0.792878</td>\n",
       "      <td>0.036773</td>\n",
       "      <td>19</td>\n",
       "      <td>0.874578</td>\n",
       "      <td>0.878515</td>\n",
       "      <td>0.892736</td>\n",
       "      <td>0.930355</td>\n",
       "      <td>0.925944</td>\n",
       "      <td>0.900426</td>\n",
       "      <td>0.023470</td>\n",
       "    </tr>\n",
       "    <tr>\n",
       "      <th>32</th>\n",
       "      <td>0.083945</td>\n",
       "      <td>0.044661</td>\n",
       "      <td>0.004859</td>\n",
       "      <td>0.000307</td>\n",
       "      <td>33</td>\n",
       "      <td>{'n_features_to_select': 33}</td>\n",
       "      <td>0.799678</td>\n",
       "      <td>0.769757</td>\n",
       "      <td>0.744657</td>\n",
       "      <td>0.848822</td>\n",
       "      <td>...</td>\n",
       "      <td>0.791861</td>\n",
       "      <td>0.034765</td>\n",
       "      <td>20</td>\n",
       "      <td>0.874620</td>\n",
       "      <td>0.880520</td>\n",
       "      <td>0.896698</td>\n",
       "      <td>0.932944</td>\n",
       "      <td>0.925983</td>\n",
       "      <td>0.902153</td>\n",
       "      <td>0.023545</td>\n",
       "    </tr>\n",
       "    <tr>\n",
       "      <th>33</th>\n",
       "      <td>0.042651</td>\n",
       "      <td>0.000494</td>\n",
       "      <td>0.004576</td>\n",
       "      <td>0.000149</td>\n",
       "      <td>34</td>\n",
       "      <td>{'n_features_to_select': 34}</td>\n",
       "      <td>0.877139</td>\n",
       "      <td>0.771440</td>\n",
       "      <td>0.738499</td>\n",
       "      <td>0.856164</td>\n",
       "      <td>...</td>\n",
       "      <td>0.809816</td>\n",
       "      <td>0.051488</td>\n",
       "      <td>11</td>\n",
       "      <td>0.925070</td>\n",
       "      <td>0.880561</td>\n",
       "      <td>0.897420</td>\n",
       "      <td>0.934301</td>\n",
       "      <td>0.926552</td>\n",
       "      <td>0.912781</td>\n",
       "      <td>0.020386</td>\n",
       "    </tr>\n",
       "    <tr>\n",
       "      <th>34</th>\n",
       "      <td>0.050961</td>\n",
       "      <td>0.006718</td>\n",
       "      <td>0.004733</td>\n",
       "      <td>0.001290</td>\n",
       "      <td>35</td>\n",
       "      <td>{'n_features_to_select': 35}</td>\n",
       "      <td>0.878806</td>\n",
       "      <td>0.741914</td>\n",
       "      <td>0.732053</td>\n",
       "      <td>0.856932</td>\n",
       "      <td>...</td>\n",
       "      <td>0.801853</td>\n",
       "      <td>0.059035</td>\n",
       "      <td>13</td>\n",
       "      <td>0.925885</td>\n",
       "      <td>0.881751</td>\n",
       "      <td>0.898222</td>\n",
       "      <td>0.934346</td>\n",
       "      <td>0.927644</td>\n",
       "      <td>0.913570</td>\n",
       "      <td>0.020146</td>\n",
       "    </tr>\n",
       "    <tr>\n",
       "      <th>35</th>\n",
       "      <td>0.037244</td>\n",
       "      <td>0.001313</td>\n",
       "      <td>0.003819</td>\n",
       "      <td>0.000383</td>\n",
       "      <td>36</td>\n",
       "      <td>{'n_features_to_select': 36}</td>\n",
       "      <td>0.880157</td>\n",
       "      <td>0.727886</td>\n",
       "      <td>0.724519</td>\n",
       "      <td>0.858036</td>\n",
       "      <td>...</td>\n",
       "      <td>0.798315</td>\n",
       "      <td>0.064308</td>\n",
       "      <td>15</td>\n",
       "      <td>0.925978</td>\n",
       "      <td>0.884067</td>\n",
       "      <td>0.898925</td>\n",
       "      <td>0.934528</td>\n",
       "      <td>0.927862</td>\n",
       "      <td>0.914272</td>\n",
       "      <td>0.019390</td>\n",
       "    </tr>\n",
       "    <tr>\n",
       "      <th>36</th>\n",
       "      <td>0.058986</td>\n",
       "      <td>0.045219</td>\n",
       "      <td>0.005022</td>\n",
       "      <td>0.000435</td>\n",
       "      <td>37</td>\n",
       "      <td>{'n_features_to_select': 37}</td>\n",
       "      <td>0.878977</td>\n",
       "      <td>0.731672</td>\n",
       "      <td>0.719701</td>\n",
       "      <td>0.857159</td>\n",
       "      <td>...</td>\n",
       "      <td>0.796614</td>\n",
       "      <td>0.064161</td>\n",
       "      <td>16</td>\n",
       "      <td>0.935743</td>\n",
       "      <td>0.884097</td>\n",
       "      <td>0.899072</td>\n",
       "      <td>0.935918</td>\n",
       "      <td>0.928130</td>\n",
       "      <td>0.916592</td>\n",
       "      <td>0.021148</td>\n",
       "    </tr>\n",
       "    <tr>\n",
       "      <th>37</th>\n",
       "      <td>0.037495</td>\n",
       "      <td>0.006534</td>\n",
       "      <td>0.004762</td>\n",
       "      <td>0.000310</td>\n",
       "      <td>38</td>\n",
       "      <td>{'n_features_to_select': 38}</td>\n",
       "      <td>0.881383</td>\n",
       "      <td>0.734139</td>\n",
       "      <td>0.718154</td>\n",
       "      <td>0.853995</td>\n",
       "      <td>...</td>\n",
       "      <td>0.796534</td>\n",
       "      <td>0.064094</td>\n",
       "      <td>17</td>\n",
       "      <td>0.936056</td>\n",
       "      <td>0.884139</td>\n",
       "      <td>0.899278</td>\n",
       "      <td>0.936749</td>\n",
       "      <td>0.928676</td>\n",
       "      <td>0.916979</td>\n",
       "      <td>0.021370</td>\n",
       "    </tr>\n",
       "    <tr>\n",
       "      <th>38</th>\n",
       "      <td>0.043377</td>\n",
       "      <td>0.010255</td>\n",
       "      <td>0.004697</td>\n",
       "      <td>0.000370</td>\n",
       "      <td>39</td>\n",
       "      <td>{'n_features_to_select': 39}</td>\n",
       "      <td>0.882103</td>\n",
       "      <td>0.704415</td>\n",
       "      <td>0.742524</td>\n",
       "      <td>0.855751</td>\n",
       "      <td>...</td>\n",
       "      <td>0.795811</td>\n",
       "      <td>0.066685</td>\n",
       "      <td>18</td>\n",
       "      <td>0.936191</td>\n",
       "      <td>0.930957</td>\n",
       "      <td>0.940419</td>\n",
       "      <td>0.936918</td>\n",
       "      <td>0.928996</td>\n",
       "      <td>0.934696</td>\n",
       "      <td>0.004157</td>\n",
       "    </tr>\n",
       "    <tr>\n",
       "      <th>39</th>\n",
       "      <td>0.043762</td>\n",
       "      <td>0.010226</td>\n",
       "      <td>0.004522</td>\n",
       "      <td>0.000663</td>\n",
       "      <td>40</td>\n",
       "      <td>{'n_features_to_select': 40}</td>\n",
       "      <td>0.881694</td>\n",
       "      <td>0.730406</td>\n",
       "      <td>0.734087</td>\n",
       "      <td>0.872492</td>\n",
       "      <td>...</td>\n",
       "      <td>0.802688</td>\n",
       "      <td>0.064974</td>\n",
       "      <td>12</td>\n",
       "      <td>0.936196</td>\n",
       "      <td>0.931335</td>\n",
       "      <td>0.941423</td>\n",
       "      <td>0.942527</td>\n",
       "      <td>0.929008</td>\n",
       "      <td>0.936098</td>\n",
       "      <td>0.005341</td>\n",
       "    </tr>\n",
       "    <tr>\n",
       "      <th>40</th>\n",
       "      <td>0.057517</td>\n",
       "      <td>0.044601</td>\n",
       "      <td>0.004772</td>\n",
       "      <td>0.000508</td>\n",
       "      <td>41</td>\n",
       "      <td>{'n_features_to_select': 41}</td>\n",
       "      <td>0.879204</td>\n",
       "      <td>0.742480</td>\n",
       "      <td>0.781019</td>\n",
       "      <td>0.855501</td>\n",
       "      <td>...</td>\n",
       "      <td>0.812881</td>\n",
       "      <td>0.049460</td>\n",
       "      <td>10</td>\n",
       "      <td>0.937418</td>\n",
       "      <td>0.931887</td>\n",
       "      <td>0.946271</td>\n",
       "      <td>0.945577</td>\n",
       "      <td>0.942064</td>\n",
       "      <td>0.940643</td>\n",
       "      <td>0.005387</td>\n",
       "    </tr>\n",
       "    <tr>\n",
       "      <th>41</th>\n",
       "      <td>0.028372</td>\n",
       "      <td>0.001083</td>\n",
       "      <td>0.004246</td>\n",
       "      <td>0.000388</td>\n",
       "      <td>42</td>\n",
       "      <td>{'n_features_to_select': 42}</td>\n",
       "      <td>0.873821</td>\n",
       "      <td>0.834595</td>\n",
       "      <td>0.780929</td>\n",
       "      <td>0.852582</td>\n",
       "      <td>...</td>\n",
       "      <td>0.829948</td>\n",
       "      <td>0.032715</td>\n",
       "      <td>9</td>\n",
       "      <td>0.937619</td>\n",
       "      <td>0.939394</td>\n",
       "      <td>0.946293</td>\n",
       "      <td>0.945722</td>\n",
       "      <td>0.942211</td>\n",
       "      <td>0.942248</td>\n",
       "      <td>0.003406</td>\n",
       "    </tr>\n",
       "    <tr>\n",
       "      <th>42</th>\n",
       "      <td>0.025994</td>\n",
       "      <td>0.002360</td>\n",
       "      <td>0.004256</td>\n",
       "      <td>0.000627</td>\n",
       "      <td>43</td>\n",
       "      <td>{'n_features_to_select': 43}</td>\n",
       "      <td>0.874027</td>\n",
       "      <td>0.831112</td>\n",
       "      <td>0.779792</td>\n",
       "      <td>0.848482</td>\n",
       "      <td>...</td>\n",
       "      <td>0.831934</td>\n",
       "      <td>0.030975</td>\n",
       "      <td>7</td>\n",
       "      <td>0.937670</td>\n",
       "      <td>0.939466</td>\n",
       "      <td>0.946780</td>\n",
       "      <td>0.947654</td>\n",
       "      <td>0.944387</td>\n",
       "      <td>0.943191</td>\n",
       "      <td>0.003964</td>\n",
       "    </tr>\n",
       "    <tr>\n",
       "      <th>43</th>\n",
       "      <td>0.027279</td>\n",
       "      <td>0.001757</td>\n",
       "      <td>0.003951</td>\n",
       "      <td>0.001001</td>\n",
       "      <td>44</td>\n",
       "      <td>{'n_features_to_select': 44}</td>\n",
       "      <td>0.879680</td>\n",
       "      <td>0.837051</td>\n",
       "      <td>0.808488</td>\n",
       "      <td>0.847683</td>\n",
       "      <td>...</td>\n",
       "      <td>0.839473</td>\n",
       "      <td>0.023980</td>\n",
       "      <td>1</td>\n",
       "      <td>0.938467</td>\n",
       "      <td>0.939522</td>\n",
       "      <td>0.949621</td>\n",
       "      <td>0.947707</td>\n",
       "      <td>0.946299</td>\n",
       "      <td>0.944323</td>\n",
       "      <td>0.004489</td>\n",
       "    </tr>\n",
       "    <tr>\n",
       "      <th>44</th>\n",
       "      <td>0.045053</td>\n",
       "      <td>0.031962</td>\n",
       "      <td>0.005889</td>\n",
       "      <td>0.003257</td>\n",
       "      <td>45</td>\n",
       "      <td>{'n_features_to_select': 45}</td>\n",
       "      <td>0.879750</td>\n",
       "      <td>0.831773</td>\n",
       "      <td>0.809027</td>\n",
       "      <td>0.847490</td>\n",
       "      <td>...</td>\n",
       "      <td>0.838661</td>\n",
       "      <td>0.023964</td>\n",
       "      <td>2</td>\n",
       "      <td>0.938467</td>\n",
       "      <td>0.939731</td>\n",
       "      <td>0.949629</td>\n",
       "      <td>0.947742</td>\n",
       "      <td>0.946302</td>\n",
       "      <td>0.944374</td>\n",
       "      <td>0.004453</td>\n",
       "    </tr>\n",
       "    <tr>\n",
       "      <th>45</th>\n",
       "      <td>0.016739</td>\n",
       "      <td>0.000535</td>\n",
       "      <td>0.003865</td>\n",
       "      <td>0.000564</td>\n",
       "      <td>46</td>\n",
       "      <td>{'n_features_to_select': 46}</td>\n",
       "      <td>0.879269</td>\n",
       "      <td>0.795948</td>\n",
       "      <td>0.811354</td>\n",
       "      <td>0.846982</td>\n",
       "      <td>...</td>\n",
       "      <td>0.831786</td>\n",
       "      <td>0.029081</td>\n",
       "      <td>8</td>\n",
       "      <td>0.938477</td>\n",
       "      <td>0.941484</td>\n",
       "      <td>0.949668</td>\n",
       "      <td>0.947758</td>\n",
       "      <td>0.946321</td>\n",
       "      <td>0.944742</td>\n",
       "      <td>0.004141</td>\n",
       "    </tr>\n",
       "    <tr>\n",
       "      <th>46</th>\n",
       "      <td>0.014302</td>\n",
       "      <td>0.000526</td>\n",
       "      <td>0.004191</td>\n",
       "      <td>0.000214</td>\n",
       "      <td>47</td>\n",
       "      <td>{'n_features_to_select': 47}</td>\n",
       "      <td>0.884250</td>\n",
       "      <td>0.794220</td>\n",
       "      <td>0.810839</td>\n",
       "      <td>0.848112</td>\n",
       "      <td>...</td>\n",
       "      <td>0.832627</td>\n",
       "      <td>0.031312</td>\n",
       "      <td>6</td>\n",
       "      <td>0.938972</td>\n",
       "      <td>0.941497</td>\n",
       "      <td>0.949674</td>\n",
       "      <td>0.947769</td>\n",
       "      <td>0.946326</td>\n",
       "      <td>0.944848</td>\n",
       "      <td>0.003994</td>\n",
       "    </tr>\n",
       "    <tr>\n",
       "      <th>47</th>\n",
       "      <td>0.012000</td>\n",
       "      <td>0.000752</td>\n",
       "      <td>0.004145</td>\n",
       "      <td>0.000178</td>\n",
       "      <td>48</td>\n",
       "      <td>{'n_features_to_select': 48}</td>\n",
       "      <td>0.882921</td>\n",
       "      <td>0.810599</td>\n",
       "      <td>0.811082</td>\n",
       "      <td>0.847562</td>\n",
       "      <td>...</td>\n",
       "      <td>0.834962</td>\n",
       "      <td>0.027475</td>\n",
       "      <td>5</td>\n",
       "      <td>0.938975</td>\n",
       "      <td>0.942472</td>\n",
       "      <td>0.949679</td>\n",
       "      <td>0.947772</td>\n",
       "      <td>0.946356</td>\n",
       "      <td>0.945051</td>\n",
       "      <td>0.003849</td>\n",
       "    </tr>\n",
       "    <tr>\n",
       "      <th>48</th>\n",
       "      <td>0.008822</td>\n",
       "      <td>0.000308</td>\n",
       "      <td>0.003716</td>\n",
       "      <td>0.000396</td>\n",
       "      <td>49</td>\n",
       "      <td>{'n_features_to_select': 49}</td>\n",
       "      <td>0.883137</td>\n",
       "      <td>0.810004</td>\n",
       "      <td>0.816614</td>\n",
       "      <td>0.848400</td>\n",
       "      <td>...</td>\n",
       "      <td>0.835943</td>\n",
       "      <td>0.026966</td>\n",
       "      <td>4</td>\n",
       "      <td>0.938977</td>\n",
       "      <td>0.942475</td>\n",
       "      <td>0.949771</td>\n",
       "      <td>0.947782</td>\n",
       "      <td>0.946369</td>\n",
       "      <td>0.945075</td>\n",
       "      <td>0.003873</td>\n",
       "    </tr>\n",
       "    <tr>\n",
       "      <th>49</th>\n",
       "      <td>0.006763</td>\n",
       "      <td>0.000669</td>\n",
       "      <td>0.003778</td>\n",
       "      <td>0.000634</td>\n",
       "      <td>50</td>\n",
       "      <td>{'n_features_to_select': 50}</td>\n",
       "      <td>0.882161</td>\n",
       "      <td>0.808304</td>\n",
       "      <td>0.817760</td>\n",
       "      <td>0.851363</td>\n",
       "      <td>...</td>\n",
       "      <td>0.837067</td>\n",
       "      <td>0.026706</td>\n",
       "      <td>3</td>\n",
       "      <td>0.939659</td>\n",
       "      <td>0.942981</td>\n",
       "      <td>0.949843</td>\n",
       "      <td>0.948045</td>\n",
       "      <td>0.946804</td>\n",
       "      <td>0.945466</td>\n",
       "      <td>0.003674</td>\n",
       "    </tr>\n",
       "  </tbody>\n",
       "</table>\n",
       "<p>50 rows × 21 columns</p>\n",
       "</div>"
      ],
      "text/plain": [
       "    mean_fit_time  std_fit_time  mean_score_time  std_score_time  \\\n",
       "0        0.130105      0.036042         0.005139        0.001475   \n",
       "1        0.136667      0.042761         0.004259        0.000681   \n",
       "2        0.077887      0.003616         0.003126        0.000590   \n",
       "3        0.140971      0.082658         0.004009        0.000580   \n",
       "4        0.072241      0.002029         0.003464        0.000198   \n",
       "5        0.100402      0.026002         0.002917        0.000372   \n",
       "6        0.095118      0.037879         0.003101        0.000557   \n",
       "7        0.114131      0.065942         0.003738        0.000634   \n",
       "8        0.134208      0.068959         0.003970        0.000634   \n",
       "9        0.066846      0.003325         0.003575        0.000593   \n",
       "10       0.080153      0.015721         0.003889        0.000766   \n",
       "11       0.087548      0.038840         0.003642        0.000681   \n",
       "12       0.096725      0.043253         0.004086        0.000535   \n",
       "13       0.087000      0.027674         0.004069        0.001866   \n",
       "14       0.063530      0.007240         0.003194        0.000579   \n",
       "15       0.069433      0.007953         0.003718        0.000280   \n",
       "16       0.069729      0.007348         0.003905        0.001007   \n",
       "17       0.061450      0.003906         0.003218        0.000507   \n",
       "18       0.064901      0.006057         0.003563        0.000708   \n",
       "19       0.069186      0.008793         0.004176        0.000421   \n",
       "20       0.079297      0.020255         0.003386        0.001146   \n",
       "21       0.061448      0.011149         0.003350        0.000664   \n",
       "22       0.092188      0.034063         0.003704        0.000446   \n",
       "23       0.262961      0.318097         0.003319        0.000730   \n",
       "24       0.074341      0.007093         0.004331        0.000260   \n",
       "25       0.170937      0.070506         0.004638        0.000534   \n",
       "26       0.097938      0.036825         0.005496        0.001103   \n",
       "27       0.067322      0.004777         0.004808        0.000694   \n",
       "28       0.131608      0.105089         0.004192        0.000694   \n",
       "29       0.104583      0.035623         0.005009        0.001088   \n",
       "30       0.162427      0.135966         0.004728        0.000296   \n",
       "31       0.053027      0.007076         0.004617        0.000506   \n",
       "32       0.083945      0.044661         0.004859        0.000307   \n",
       "33       0.042651      0.000494         0.004576        0.000149   \n",
       "34       0.050961      0.006718         0.004733        0.001290   \n",
       "35       0.037244      0.001313         0.003819        0.000383   \n",
       "36       0.058986      0.045219         0.005022        0.000435   \n",
       "37       0.037495      0.006534         0.004762        0.000310   \n",
       "38       0.043377      0.010255         0.004697        0.000370   \n",
       "39       0.043762      0.010226         0.004522        0.000663   \n",
       "40       0.057517      0.044601         0.004772        0.000508   \n",
       "41       0.028372      0.001083         0.004246        0.000388   \n",
       "42       0.025994      0.002360         0.004256        0.000627   \n",
       "43       0.027279      0.001757         0.003951        0.001001   \n",
       "44       0.045053      0.031962         0.005889        0.003257   \n",
       "45       0.016739      0.000535         0.003865        0.000564   \n",
       "46       0.014302      0.000526         0.004191        0.000214   \n",
       "47       0.012000      0.000752         0.004145        0.000178   \n",
       "48       0.008822      0.000308         0.003716        0.000396   \n",
       "49       0.006763      0.000669         0.003778        0.000634   \n",
       "\n",
       "   param_n_features_to_select                        params  \\\n",
       "0                           1   {'n_features_to_select': 1}   \n",
       "1                           2   {'n_features_to_select': 2}   \n",
       "2                           3   {'n_features_to_select': 3}   \n",
       "3                           4   {'n_features_to_select': 4}   \n",
       "4                           5   {'n_features_to_select': 5}   \n",
       "5                           6   {'n_features_to_select': 6}   \n",
       "6                           7   {'n_features_to_select': 7}   \n",
       "7                           8   {'n_features_to_select': 8}   \n",
       "8                           9   {'n_features_to_select': 9}   \n",
       "9                          10  {'n_features_to_select': 10}   \n",
       "10                         11  {'n_features_to_select': 11}   \n",
       "11                         12  {'n_features_to_select': 12}   \n",
       "12                         13  {'n_features_to_select': 13}   \n",
       "13                         14  {'n_features_to_select': 14}   \n",
       "14                         15  {'n_features_to_select': 15}   \n",
       "15                         16  {'n_features_to_select': 16}   \n",
       "16                         17  {'n_features_to_select': 17}   \n",
       "17                         18  {'n_features_to_select': 18}   \n",
       "18                         19  {'n_features_to_select': 19}   \n",
       "19                         20  {'n_features_to_select': 20}   \n",
       "20                         21  {'n_features_to_select': 21}   \n",
       "21                         22  {'n_features_to_select': 22}   \n",
       "22                         23  {'n_features_to_select': 23}   \n",
       "23                         24  {'n_features_to_select': 24}   \n",
       "24                         25  {'n_features_to_select': 25}   \n",
       "25                         26  {'n_features_to_select': 26}   \n",
       "26                         27  {'n_features_to_select': 27}   \n",
       "27                         28  {'n_features_to_select': 28}   \n",
       "28                         29  {'n_features_to_select': 29}   \n",
       "29                         30  {'n_features_to_select': 30}   \n",
       "30                         31  {'n_features_to_select': 31}   \n",
       "31                         32  {'n_features_to_select': 32}   \n",
       "32                         33  {'n_features_to_select': 33}   \n",
       "33                         34  {'n_features_to_select': 34}   \n",
       "34                         35  {'n_features_to_select': 35}   \n",
       "35                         36  {'n_features_to_select': 36}   \n",
       "36                         37  {'n_features_to_select': 37}   \n",
       "37                         38  {'n_features_to_select': 38}   \n",
       "38                         39  {'n_features_to_select': 39}   \n",
       "39                         40  {'n_features_to_select': 40}   \n",
       "40                         41  {'n_features_to_select': 41}   \n",
       "41                         42  {'n_features_to_select': 42}   \n",
       "42                         43  {'n_features_to_select': 43}   \n",
       "43                         44  {'n_features_to_select': 44}   \n",
       "44                         45  {'n_features_to_select': 45}   \n",
       "45                         46  {'n_features_to_select': 46}   \n",
       "46                         47  {'n_features_to_select': 47}   \n",
       "47                         48  {'n_features_to_select': 48}   \n",
       "48                         49  {'n_features_to_select': 49}   \n",
       "49                         50  {'n_features_to_select': 50}   \n",
       "\n",
       "    split0_test_score  split1_test_score  split2_test_score  \\\n",
       "0           -0.101502          -0.018716          -0.022997   \n",
       "1           -0.188882          -0.058214           0.001926   \n",
       "2           -0.220062          -0.115079           0.177638   \n",
       "3           -0.185695          -0.114758           0.227381   \n",
       "4            0.211687           0.311700           0.450658   \n",
       "5            0.185375           0.314957           0.430479   \n",
       "6            0.241792           0.225947           0.458778   \n",
       "7            0.237262           0.324522           0.469994   \n",
       "8            0.391821           0.280816           0.449179   \n",
       "9            0.403934           0.237540           0.687414   \n",
       "10           0.367691           0.284754           0.755121   \n",
       "11           0.372792           0.420533           0.717701   \n",
       "12           0.371151           0.413997           0.715030   \n",
       "13           0.367244           0.414184           0.729613   \n",
       "14           0.777126           0.667282           0.753691   \n",
       "15           0.774904           0.655541           0.742030   \n",
       "16           0.725108           0.689451           0.744796   \n",
       "17           0.725193           0.719609           0.744899   \n",
       "18           0.733380           0.736943           0.727465   \n",
       "19           0.723472           0.749543           0.728723   \n",
       "20           0.726633           0.773186           0.726722   \n",
       "21           0.727832           0.769400           0.725746   \n",
       "22           0.731203           0.773961           0.730887   \n",
       "23           0.733399           0.774707           0.730968   \n",
       "24           0.736510           0.778439           0.730540   \n",
       "25           0.764672           0.799282           0.783705   \n",
       "26           0.774017           0.778434           0.786274   \n",
       "27           0.817430           0.825435           0.781415   \n",
       "28           0.811819           0.819253           0.755227   \n",
       "29           0.806783           0.818656           0.751643   \n",
       "30           0.806706           0.789911           0.753542   \n",
       "31           0.800964           0.745527           0.769239   \n",
       "32           0.799678           0.769757           0.744657   \n",
       "33           0.877139           0.771440           0.738499   \n",
       "34           0.878806           0.741914           0.732053   \n",
       "35           0.880157           0.727886           0.724519   \n",
       "36           0.878977           0.731672           0.719701   \n",
       "37           0.881383           0.734139           0.718154   \n",
       "38           0.882103           0.704415           0.742524   \n",
       "39           0.881694           0.730406           0.734087   \n",
       "40           0.879204           0.742480           0.781019   \n",
       "41           0.873821           0.834595           0.780929   \n",
       "42           0.874027           0.831112           0.779792   \n",
       "43           0.879680           0.837051           0.808488   \n",
       "44           0.879750           0.831773           0.809027   \n",
       "45           0.879269           0.795948           0.811354   \n",
       "46           0.884250           0.794220           0.810839   \n",
       "47           0.882921           0.810599           0.811082   \n",
       "48           0.883137           0.810004           0.816614   \n",
       "49           0.882161           0.808304           0.817760   \n",
       "\n",
       "    split3_test_score  ...  mean_test_score  std_test_score  rank_test_score  \\\n",
       "0           -0.035905  ...        -0.032919        0.038115               49   \n",
       "1            0.103208  ...        -0.037297        0.094602               50   \n",
       "2            0.314100  ...         0.017049        0.197749               47   \n",
       "3            0.323742  ...         0.010885        0.220038               48   \n",
       "4            0.537187  ...         0.375407        0.112063               45   \n",
       "5            0.537197  ...         0.364729        0.117299               46   \n",
       "6            0.615044  ...         0.391223        0.144810               44   \n",
       "7            0.615005  ...         0.415237        0.128849               43   \n",
       "8            0.733510  ...         0.433822        0.161017               42   \n",
       "9            0.751421  ...         0.480568        0.203006               41   \n",
       "10           0.751699  ...         0.495908        0.211893               40   \n",
       "11           0.751658  ...         0.513714        0.184371               39   \n",
       "12           0.749060  ...         0.524128        0.170818               38   \n",
       "13           0.755946  ...         0.527654        0.176615               37   \n",
       "14           0.755841  ...         0.700537        0.084731               36   \n",
       "15           0.787013  ...         0.703249        0.086477               35   \n",
       "16           0.805395  ...         0.735597        0.039232               34   \n",
       "17           0.812304  ...         0.740687        0.038398               28   \n",
       "18           0.804367  ...         0.737028        0.038884               32   \n",
       "19           0.811155  ...         0.735713        0.046877               33   \n",
       "20           0.823340  ...         0.743357        0.052323               26   \n",
       "21           0.819752  ...         0.738654        0.055803               31   \n",
       "22           0.811115  ...         0.739676        0.053392               29   \n",
       "23           0.806642  ...         0.738973        0.052951               30   \n",
       "24           0.808313  ...         0.741017        0.053125               27   \n",
       "25           0.783570  ...         0.767200        0.033086               24   \n",
       "26           0.779631  ...         0.764056        0.031313               25   \n",
       "27           0.768861  ...         0.779949        0.042375               22   \n",
       "28           0.768406  ...         0.772838        0.040043               23   \n",
       "29           0.856308  ...         0.787729        0.053155               21   \n",
       "30           0.854335  ...         0.798512        0.032829               14   \n",
       "31           0.855284  ...         0.792878        0.036773               19   \n",
       "32           0.848822  ...         0.791861        0.034765               20   \n",
       "33           0.856164  ...         0.809816        0.051488               11   \n",
       "34           0.856932  ...         0.801853        0.059035               13   \n",
       "35           0.858036  ...         0.798315        0.064308               15   \n",
       "36           0.857159  ...         0.796614        0.064161               16   \n",
       "37           0.853995  ...         0.796534        0.064094               17   \n",
       "38           0.855751  ...         0.795811        0.066685               18   \n",
       "39           0.872492  ...         0.802688        0.064974               12   \n",
       "40           0.855501  ...         0.812881        0.049460               10   \n",
       "41           0.852582  ...         0.829948        0.032715                9   \n",
       "42           0.848482  ...         0.831934        0.030975                7   \n",
       "43           0.847683  ...         0.839473        0.023980                1   \n",
       "44           0.847490  ...         0.838661        0.023964                2   \n",
       "45           0.846982  ...         0.831786        0.029081                8   \n",
       "46           0.848112  ...         0.832627        0.031312                6   \n",
       "47           0.847562  ...         0.834962        0.027475                5   \n",
       "48           0.848400  ...         0.835943        0.026966                4   \n",
       "49           0.851363  ...         0.837067        0.026706                3   \n",
       "\n",
       "    split0_train_score  split1_train_score  split2_train_score  \\\n",
       "0             0.051325            0.019840            0.020229   \n",
       "1             0.176289            0.107587            0.101458   \n",
       "2             0.180316            0.297590            0.246134   \n",
       "3             0.183590            0.297590            0.254869   \n",
       "4             0.497798            0.490047            0.475327   \n",
       "5             0.503160            0.490109            0.478515   \n",
       "6             0.535517            0.545844            0.516430   \n",
       "7             0.553871            0.569825            0.529487   \n",
       "8             0.605126            0.571363            0.532852   \n",
       "9             0.614535            0.597919            0.725046   \n",
       "10            0.633537            0.600052            0.814885   \n",
       "11            0.633809            0.634349            0.823127   \n",
       "12            0.633819            0.635035            0.826983   \n",
       "13            0.634316            0.635035            0.832003   \n",
       "14            0.778752            0.796443            0.841870   \n",
       "15            0.789202            0.806046            0.844738   \n",
       "16            0.808058            0.821110            0.844867   \n",
       "17            0.808059            0.825043            0.844869   \n",
       "18            0.812923            0.829674            0.849260   \n",
       "19            0.831498            0.830368            0.850237   \n",
       "20            0.839510            0.832589            0.850476   \n",
       "21            0.839535            0.834052            0.850565   \n",
       "22            0.840389            0.834229            0.850938   \n",
       "23            0.840458            0.834944            0.850940   \n",
       "24            0.840554            0.835109            0.850944   \n",
       "25            0.843630            0.840991            0.876610   \n",
       "26            0.846301            0.846509            0.877711   \n",
       "27            0.870852            0.870700            0.882392   \n",
       "28            0.871790            0.870798            0.889148   \n",
       "29            0.872255            0.871310            0.889665   \n",
       "30            0.872255            0.872469            0.890860   \n",
       "31            0.874578            0.878515            0.892736   \n",
       "32            0.874620            0.880520            0.896698   \n",
       "33            0.925070            0.880561            0.897420   \n",
       "34            0.925885            0.881751            0.898222   \n",
       "35            0.925978            0.884067            0.898925   \n",
       "36            0.935743            0.884097            0.899072   \n",
       "37            0.936056            0.884139            0.899278   \n",
       "38            0.936191            0.930957            0.940419   \n",
       "39            0.936196            0.931335            0.941423   \n",
       "40            0.937418            0.931887            0.946271   \n",
       "41            0.937619            0.939394            0.946293   \n",
       "42            0.937670            0.939466            0.946780   \n",
       "43            0.938467            0.939522            0.949621   \n",
       "44            0.938467            0.939731            0.949629   \n",
       "45            0.938477            0.941484            0.949668   \n",
       "46            0.938972            0.941497            0.949674   \n",
       "47            0.938975            0.942472            0.949679   \n",
       "48            0.938977            0.942475            0.949771   \n",
       "49            0.939659            0.942981            0.949843   \n",
       "\n",
       "    split3_train_score  split4_train_score  mean_train_score  std_train_score  \n",
       "0             0.012086            0.068174          0.034331         0.021623  \n",
       "1             0.054144            0.183656          0.124627         0.048884  \n",
       "2             0.188356            0.187586          0.219996         0.045453  \n",
       "3             0.211895            0.205978          0.230784         0.040602  \n",
       "4             0.438746            0.487053          0.477794         0.020818  \n",
       "5             0.440349            0.490123          0.480451         0.021515  \n",
       "6             0.460909            0.520265          0.515793         0.029410  \n",
       "7             0.703161            0.534574          0.578184         0.064115  \n",
       "8             0.777095            0.610702          0.619427         0.083601  \n",
       "9             0.781926            0.621837          0.668253         0.072297  \n",
       "10            0.783413            0.622040          0.690785         0.089684  \n",
       "11            0.783482            0.630314          0.701016         0.084465  \n",
       "12            0.787972            0.631939          0.703150         0.086078  \n",
       "13            0.789258            0.631952          0.704513         0.087699  \n",
       "14            0.789259            0.707436          0.782752         0.043389  \n",
       "15            0.801731            0.709497          0.790243         0.044435  \n",
       "16            0.809526            0.839663          0.824645         0.015170  \n",
       "17            0.815014            0.851887          0.828974         0.016884  \n",
       "18            0.815845            0.855853          0.832711         0.017290  \n",
       "19            0.823340            0.857998          0.838688         0.013136  \n",
       "20            0.824508            0.858800          0.841177         0.012259  \n",
       "21            0.826615            0.859396          0.842033         0.011678  \n",
       "22            0.828774            0.859415          0.842749         0.011120  \n",
       "23            0.828899            0.859441          0.842936         0.010986  \n",
       "24            0.829405            0.859623          0.843127         0.010885  \n",
       "25            0.843970            0.882588          0.857558         0.018125  \n",
       "26            0.849001            0.884041          0.860713         0.016612  \n",
       "27            0.885049            0.887878          0.879374         0.007232  \n",
       "28            0.885122            0.888034          0.880978         0.008022  \n",
       "29            0.929783            0.888170          0.890236         0.021213  \n",
       "30            0.930219            0.925790          0.898319         0.025201  \n",
       "31            0.930355            0.925944          0.900426         0.023470  \n",
       "32            0.932944            0.925983          0.902153         0.023545  \n",
       "33            0.934301            0.926552          0.912781         0.020386  \n",
       "34            0.934346            0.927644          0.913570         0.020146  \n",
       "35            0.934528            0.927862          0.914272         0.019390  \n",
       "36            0.935918            0.928130          0.916592         0.021148  \n",
       "37            0.936749            0.928676          0.916979         0.021370  \n",
       "38            0.936918            0.928996          0.934696         0.004157  \n",
       "39            0.942527            0.929008          0.936098         0.005341  \n",
       "40            0.945577            0.942064          0.940643         0.005387  \n",
       "41            0.945722            0.942211          0.942248         0.003406  \n",
       "42            0.947654            0.944387          0.943191         0.003964  \n",
       "43            0.947707            0.946299          0.944323         0.004489  \n",
       "44            0.947742            0.946302          0.944374         0.004453  \n",
       "45            0.947758            0.946321          0.944742         0.004141  \n",
       "46            0.947769            0.946326          0.944848         0.003994  \n",
       "47            0.947772            0.946356          0.945051         0.003849  \n",
       "48            0.947782            0.946369          0.945075         0.003873  \n",
       "49            0.948045            0.946804          0.945466         0.003674  \n",
       "\n",
       "[50 rows x 21 columns]"
      ]
     },
     "execution_count": 32,
     "metadata": {},
     "output_type": "execute_result"
    }
   ],
   "source": [
    "cv_results = pd.DataFrame(model_cv.cv_results_)\n",
    "cv_results"
   ]
  },
  {
   "cell_type": "code",
   "execution_count": 33,
   "id": "6e38bc67",
   "metadata": {
    "hidden": true
   },
   "outputs": [
    {
     "data": {
      "text/plain": [
       "<matplotlib.legend.Legend at 0x7fcb8a784d30>"
      ]
     },
     "execution_count": 33,
     "metadata": {},
     "output_type": "execute_result"
    },
    {
     "data": {
      "image/png": "[encoded data removed]",
      "text/plain": [
       "<Figure size 1152x432 with 1 Axes>"
      ]
     },
     "metadata": {
      "needs_background": "light"
     },
     "output_type": "display_data"
    }
   ],
   "source": [
    "plt.figure(figsize=(16,6))\n",
    "sns.set_theme()\n",
    "\n",
    "plt.plot(cv_results[\"param_n_features_to_select\"], cv_results[\"mean_test_score\"])\n",
    "plt.plot(cv_results[\"param_n_features_to_select\"], cv_results[\"mean_train_score\"])\n",
    "plt.xlabel('number of features')\n",
    "plt.xticks(range(0,51,2))\n",
    "plt.ylabel('$R^2$')\n",
    "plt.title(\"Optimal Number of Features, Cluster 0\")\n",
    "plt.legend(['test score', 'train score'], loc='upper left')"
   ]
  },
  {
   "cell_type": "markdown",
   "id": "5669e769",
   "metadata": {
    "hidden": true
   },
   "source": [
    "It appears that the optimal number of features on cluster 0 is at 42"
   ]
  },
  {
   "cell_type": "code",
   "execution_count": 34,
   "id": "a158fd40",
   "metadata": {
    "hidden": true
   },
   "outputs": [
    {
     "name": "stdout",
     "output_type": "stream",
     "text": [
      "Train R2 for linear regression on cluster 0: 0.9346\n",
      "Test R2 for linear regression on cluster 0: 0.8234\n"
     ]
    }
   ],
   "source": [
    "n_features_optimal = 42\n",
    "\n",
    "lr = LinearRegression()\n",
    "lr.fit(X_train, y_train)\n",
    "\n",
    "rfe = RFE(lr, n_features_to_select = n_features_optimal)             \n",
    "rfe = rfe.fit(X_train, y_train)\n",
    "\n",
    "# predict prices of X_test\n",
    "y_pred = rfe.predict(X_test)\n",
    "\n",
    "# check r2 score\n",
    "r2 = r2_score(y_test, y_pred)\n",
    "print(f'Train R2 for linear regression on cluster 0: {r2_score(y_train,rfe.predict(X_train)).round(4)}') \n",
    "print(f'Test R2 for linear regression on cluster 0: {r2.round(4)}')"
   ]
  },
  {
   "cell_type": "markdown",
   "id": "38ed763f",
   "metadata": {
    "hidden": true
   },
   "source": [
    "Cross-validated score"
   ]
  },
  {
   "cell_type": "code",
   "execution_count": 35,
   "id": "3d8e1878",
   "metadata": {
    "hidden": true
   },
   "outputs": [
    {
     "name": "stdout",
     "output_type": "stream",
     "text": [
      "Cross-validated R2 score on cluster 0:\n"
     ]
    },
    {
     "data": {
      "text/plain": [
       "0.8272"
      ]
     },
     "execution_count": 35,
     "metadata": {},
     "output_type": "execute_result"
    }
   ],
   "source": [
    "# Cluster 0\n",
    "print('Cross-validated R2 score on cluster 0:')\n",
    "cross_val_score(rfe, cluster0.drop(['median_price 2021 Q1'],axis=1), # X\n",
    "                        cluster0['median_price 2021 Q1'],            # y \n",
    "                        cv=KFold(n_splits=5, shuffle=True, random_state=42)).mean().round(4)"
   ]
  },
  {
   "cell_type": "markdown",
   "id": "b26dec97",
   "metadata": {
    "hidden": true
   },
   "source": [
    "#### Cluster 1"
   ]
  },
  {
   "cell_type": "code",
   "execution_count": 36,
   "id": "dfaed4fc",
   "metadata": {
    "hidden": true
   },
   "outputs": [],
   "source": [
    "X = cluster1.drop(['median_price 2021 Q1'],axis=1)\n",
    "y = cluster1['median_price 2021 Q1']\n",
    "X_train, X_test, y_train, y_test = train_test_split(X, y , random_state=100, test_size=.2)"
   ]
  },
  {
   "cell_type": "code",
   "execution_count": 37,
   "id": "b55eb419",
   "metadata": {
    "hidden": true
   },
   "outputs": [
    {
     "name": "stdout",
     "output_type": "stream",
     "text": [
      "Fitting 5 folds for each of 50 candidates, totalling 250 fits\n"
     ]
    },
    {
     "data": {
      "text/plain": [
       "GridSearchCV(cv=KFold(n_splits=5, random_state=100, shuffle=True),\n",
       "             estimator=RFE(estimator=LinearRegression()),\n",
       "             param_grid=[{'n_features_to_select': [1, 2, 3, 4, 5, 6, 7, 8, 9,\n",
       "                                                   10, 11, 12, 13, 14, 15, 16,\n",
       "                                                   17, 18, 19, 20, 21, 22, 23,\n",
       "                                                   24, 25, 26, 27, 28, 29, 30, ...]}],\n",
       "             return_train_score=True, scoring='r2', verbose=1)"
      ]
     },
     "execution_count": 37,
     "metadata": {},
     "output_type": "execute_result"
    }
   ],
   "source": [
    "# step-1: create a cross-validation scheme\n",
    "folds = KFold(n_splits = 5, shuffle = True, random_state = 100)\n",
    "\n",
    "# step-2: specify range of hyperparameters to tune\n",
    "hyper_params = [{'n_features_to_select': list(range(1, 51))}]\n",
    "\n",
    "\n",
    "# step-3: perform grid search\n",
    "# 3.1 specify model\n",
    "lr = LinearRegression()\n",
    "rfe = RFE(lr)             \n",
    "\n",
    "# 3.2 call GridSearchCV()\n",
    "model_cv = GridSearchCV(estimator = rfe, \n",
    "                        param_grid = hyper_params, \n",
    "                        scoring= 'r2', \n",
    "                        cv = folds, \n",
    "                        verbose = 1,\n",
    "                        return_train_score=True)      \n",
    "\n",
    "# fit the model\n",
    "model_cv.fit(X_train, y_train)  "
   ]
  },
  {
   "cell_type": "code",
   "execution_count": 38,
   "id": "0468ddfe",
   "metadata": {
    "hidden": true,
    "scrolled": true
   },
   "outputs": [
    {
     "data": {
      "text/html": [
       "<div>\n",
       "<style scoped>\n",
       "    .dataframe tbody tr th:only-of-type {\n",
       "        vertical-align: middle;\n",
       "    }\n",
       "\n",
       "    .dataframe tbody tr th {\n",
       "        vertical-align: top;\n",
       "    }\n",
       "\n",
       "    .dataframe thead th {\n",
       "        text-align: right;\n",
       "    }\n",
       "</style>\n",
       "<table border=\"1\" class=\"dataframe\">\n",
       "  <thead>\n",
       "    <tr style=\"text-align: right;\">\n",
       "      <th></th>\n",
       "      <th>mean_fit_time</th>\n",
       "      <th>std_fit_time</th>\n",
       "      <th>mean_score_time</th>\n",
       "      <th>std_score_time</th>\n",
       "      <th>param_n_features_to_select</th>\n",
       "      <th>params</th>\n",
       "      <th>split0_test_score</th>\n",
       "      <th>split1_test_score</th>\n",
       "      <th>split2_test_score</th>\n",
       "      <th>split3_test_score</th>\n",
       "      <th>...</th>\n",
       "      <th>mean_test_score</th>\n",
       "      <th>std_test_score</th>\n",
       "      <th>rank_test_score</th>\n",
       "      <th>split0_train_score</th>\n",
       "      <th>split1_train_score</th>\n",
       "      <th>split2_train_score</th>\n",
       "      <th>split3_train_score</th>\n",
       "      <th>split4_train_score</th>\n",
       "      <th>mean_train_score</th>\n",
       "      <th>std_train_score</th>\n",
       "    </tr>\n",
       "  </thead>\n",
       "  <tbody>\n",
       "    <tr>\n",
       "      <th>0</th>\n",
       "      <td>0.163253</td>\n",
       "      <td>0.087311</td>\n",
       "      <td>0.004553</td>\n",
       "      <td>0.000160</td>\n",
       "      <td>1</td>\n",
       "      <td>{'n_features_to_select': 1}</td>\n",
       "      <td>0.218490</td>\n",
       "      <td>0.018400</td>\n",
       "      <td>-0.027045</td>\n",
       "      <td>0.000561</td>\n",
       "      <td>...</td>\n",
       "      <td>-0.000625</td>\n",
       "      <td>0.137406</td>\n",
       "      <td>50</td>\n",
       "      <td>0.104499</td>\n",
       "      <td>0.108961</td>\n",
       "      <td>0.150329</td>\n",
       "      <td>0.155682</td>\n",
       "      <td>0.160952</td>\n",
       "      <td>0.136085</td>\n",
       "      <td>0.024243</td>\n",
       "    </tr>\n",
       "    <tr>\n",
       "      <th>1</th>\n",
       "      <td>0.148403</td>\n",
       "      <td>0.020526</td>\n",
       "      <td>0.005137</td>\n",
       "      <td>0.000713</td>\n",
       "      <td>2</td>\n",
       "      <td>{'n_features_to_select': 2}</td>\n",
       "      <td>0.267430</td>\n",
       "      <td>0.027150</td>\n",
       "      <td>-0.013467</td>\n",
       "      <td>-0.010982</td>\n",
       "      <td>...</td>\n",
       "      <td>0.012179</td>\n",
       "      <td>0.152049</td>\n",
       "      <td>48</td>\n",
       "      <td>0.188376</td>\n",
       "      <td>0.110855</td>\n",
       "      <td>0.236066</td>\n",
       "      <td>0.173933</td>\n",
       "      <td>0.248825</td>\n",
       "      <td>0.191611</td>\n",
       "      <td>0.049182</td>\n",
       "    </tr>\n",
       "    <tr>\n",
       "      <th>2</th>\n",
       "      <td>0.142970</td>\n",
       "      <td>0.038811</td>\n",
       "      <td>0.004637</td>\n",
       "      <td>0.000439</td>\n",
       "      <td>3</td>\n",
       "      <td>{'n_features_to_select': 3}</td>\n",
       "      <td>0.358962</td>\n",
       "      <td>0.050245</td>\n",
       "      <td>-0.119435</td>\n",
       "      <td>-0.082021</td>\n",
       "      <td>...</td>\n",
       "      <td>0.009968</td>\n",
       "      <td>0.188048</td>\n",
       "      <td>49</td>\n",
       "      <td>0.238468</td>\n",
       "      <td>0.129756</td>\n",
       "      <td>0.323995</td>\n",
       "      <td>0.196350</td>\n",
       "      <td>0.313894</td>\n",
       "      <td>0.240493</td>\n",
       "      <td>0.072905</td>\n",
       "    </tr>\n",
       "    <tr>\n",
       "      <th>3</th>\n",
       "      <td>0.097587</td>\n",
       "      <td>0.003777</td>\n",
       "      <td>0.004412</td>\n",
       "      <td>0.000367</td>\n",
       "      <td>4</td>\n",
       "      <td>{'n_features_to_select': 4}</td>\n",
       "      <td>0.361792</td>\n",
       "      <td>0.067530</td>\n",
       "      <td>-0.141805</td>\n",
       "      <td>0.107549</td>\n",
       "      <td>...</td>\n",
       "      <td>0.062750</td>\n",
       "      <td>0.175530</td>\n",
       "      <td>34</td>\n",
       "      <td>0.238564</td>\n",
       "      <td>0.138338</td>\n",
       "      <td>0.357178</td>\n",
       "      <td>0.269696</td>\n",
       "      <td>0.334244</td>\n",
       "      <td>0.267604</td>\n",
       "      <td>0.077488</td>\n",
       "    </tr>\n",
       "    <tr>\n",
       "      <th>4</th>\n",
       "      <td>0.101961</td>\n",
       "      <td>0.010572</td>\n",
       "      <td>0.004470</td>\n",
       "      <td>0.000194</td>\n",
       "      <td>5</td>\n",
       "      <td>{'n_features_to_select': 5}</td>\n",
       "      <td>0.394894</td>\n",
       "      <td>-0.001572</td>\n",
       "      <td>-0.169029</td>\n",
       "      <td>0.162279</td>\n",
       "      <td>...</td>\n",
       "      <td>0.061086</td>\n",
       "      <td>0.199387</td>\n",
       "      <td>35</td>\n",
       "      <td>0.265165</td>\n",
       "      <td>0.176139</td>\n",
       "      <td>0.360259</td>\n",
       "      <td>0.305091</td>\n",
       "      <td>0.334245</td>\n",
       "      <td>0.288180</td>\n",
       "      <td>0.064321</td>\n",
       "    </tr>\n",
       "    <tr>\n",
       "      <th>5</th>\n",
       "      <td>0.122509</td>\n",
       "      <td>0.051508</td>\n",
       "      <td>0.004247</td>\n",
       "      <td>0.000568</td>\n",
       "      <td>6</td>\n",
       "      <td>{'n_features_to_select': 6}</td>\n",
       "      <td>0.372292</td>\n",
       "      <td>0.061519</td>\n",
       "      <td>-0.186837</td>\n",
       "      <td>0.164455</td>\n",
       "      <td>...</td>\n",
       "      <td>0.026143</td>\n",
       "      <td>0.236526</td>\n",
       "      <td>47</td>\n",
       "      <td>0.300695</td>\n",
       "      <td>0.211275</td>\n",
       "      <td>0.361171</td>\n",
       "      <td>0.305738</td>\n",
       "      <td>0.376996</td>\n",
       "      <td>0.311175</td>\n",
       "      <td>0.058226</td>\n",
       "    </tr>\n",
       "    <tr>\n",
       "      <th>6</th>\n",
       "      <td>0.092945</td>\n",
       "      <td>0.002593</td>\n",
       "      <td>0.004652</td>\n",
       "      <td>0.000207</td>\n",
       "      <td>7</td>\n",
       "      <td>{'n_features_to_select': 7}</td>\n",
       "      <td>0.373956</td>\n",
       "      <td>0.250105</td>\n",
       "      <td>-0.192857</td>\n",
       "      <td>0.154006</td>\n",
       "      <td>...</td>\n",
       "      <td>0.064049</td>\n",
       "      <td>0.250200</td>\n",
       "      <td>32</td>\n",
       "      <td>0.301808</td>\n",
       "      <td>0.269395</td>\n",
       "      <td>0.361790</td>\n",
       "      <td>0.338096</td>\n",
       "      <td>0.378055</td>\n",
       "      <td>0.329829</td>\n",
       "      <td>0.039631</td>\n",
       "    </tr>\n",
       "    <tr>\n",
       "      <th>7</th>\n",
       "      <td>0.108611</td>\n",
       "      <td>0.015818</td>\n",
       "      <td>0.005404</td>\n",
       "      <td>0.001293</td>\n",
       "      <td>8</td>\n",
       "      <td>{'n_features_to_select': 8}</td>\n",
       "      <td>0.391673</td>\n",
       "      <td>0.239284</td>\n",
       "      <td>-0.139361</td>\n",
       "      <td>0.125169</td>\n",
       "      <td>...</td>\n",
       "      <td>0.064006</td>\n",
       "      <td>0.250329</td>\n",
       "      <td>33</td>\n",
       "      <td>0.311972</td>\n",
       "      <td>0.287849</td>\n",
       "      <td>0.370478</td>\n",
       "      <td>0.339525</td>\n",
       "      <td>0.381026</td>\n",
       "      <td>0.338170</td>\n",
       "      <td>0.034931</td>\n",
       "    </tr>\n",
       "    <tr>\n",
       "      <th>8</th>\n",
       "      <td>0.113599</td>\n",
       "      <td>0.018902</td>\n",
       "      <td>0.004367</td>\n",
       "      <td>0.000588</td>\n",
       "      <td>9</td>\n",
       "      <td>{'n_features_to_select': 9}</td>\n",
       "      <td>0.385495</td>\n",
       "      <td>0.235187</td>\n",
       "      <td>-0.054383</td>\n",
       "      <td>0.145646</td>\n",
       "      <td>...</td>\n",
       "      <td>0.078507</td>\n",
       "      <td>0.244661</td>\n",
       "      <td>27</td>\n",
       "      <td>0.313019</td>\n",
       "      <td>0.288920</td>\n",
       "      <td>0.391388</td>\n",
       "      <td>0.348059</td>\n",
       "      <td>0.382541</td>\n",
       "      <td>0.344785</td>\n",
       "      <td>0.039340</td>\n",
       "    </tr>\n",
       "    <tr>\n",
       "      <th>9</th>\n",
       "      <td>0.111300</td>\n",
       "      <td>0.022066</td>\n",
       "      <td>0.004667</td>\n",
       "      <td>0.000580</td>\n",
       "      <td>10</td>\n",
       "      <td>{'n_features_to_select': 10}</td>\n",
       "      <td>0.377449</td>\n",
       "      <td>0.230657</td>\n",
       "      <td>-0.015911</td>\n",
       "      <td>0.157565</td>\n",
       "      <td>...</td>\n",
       "      <td>0.085886</td>\n",
       "      <td>0.239365</td>\n",
       "      <td>25</td>\n",
       "      <td>0.314598</td>\n",
       "      <td>0.289054</td>\n",
       "      <td>0.398032</td>\n",
       "      <td>0.360441</td>\n",
       "      <td>0.382802</td>\n",
       "      <td>0.348985</td>\n",
       "      <td>0.041121</td>\n",
       "    </tr>\n",
       "    <tr>\n",
       "      <th>10</th>\n",
       "      <td>0.116640</td>\n",
       "      <td>0.020126</td>\n",
       "      <td>0.004624</td>\n",
       "      <td>0.000441</td>\n",
       "      <td>11</td>\n",
       "      <td>{'n_features_to_select': 11}</td>\n",
       "      <td>0.376033</td>\n",
       "      <td>0.231008</td>\n",
       "      <td>-0.028583</td>\n",
       "      <td>0.160222</td>\n",
       "      <td>...</td>\n",
       "      <td>0.086304</td>\n",
       "      <td>0.235949</td>\n",
       "      <td>24</td>\n",
       "      <td>0.315052</td>\n",
       "      <td>0.289055</td>\n",
       "      <td>0.400435</td>\n",
       "      <td>0.360703</td>\n",
       "      <td>0.404258</td>\n",
       "      <td>0.353901</td>\n",
       "      <td>0.045742</td>\n",
       "    </tr>\n",
       "    <tr>\n",
       "      <th>11</th>\n",
       "      <td>0.147871</td>\n",
       "      <td>0.035735</td>\n",
       "      <td>0.004519</td>\n",
       "      <td>0.001514</td>\n",
       "      <td>12</td>\n",
       "      <td>{'n_features_to_select': 12}</td>\n",
       "      <td>0.370419</td>\n",
       "      <td>0.213507</td>\n",
       "      <td>-0.016068</td>\n",
       "      <td>0.155725</td>\n",
       "      <td>...</td>\n",
       "      <td>0.085287</td>\n",
       "      <td>0.227698</td>\n",
       "      <td>26</td>\n",
       "      <td>0.315548</td>\n",
       "      <td>0.292762</td>\n",
       "      <td>0.401773</td>\n",
       "      <td>0.361389</td>\n",
       "      <td>0.412964</td>\n",
       "      <td>0.356887</td>\n",
       "      <td>0.046905</td>\n",
       "    </tr>\n",
       "    <tr>\n",
       "      <th>12</th>\n",
       "      <td>0.099262</td>\n",
       "      <td>0.013316</td>\n",
       "      <td>0.004420</td>\n",
       "      <td>0.000492</td>\n",
       "      <td>13</td>\n",
       "      <td>{'n_features_to_select': 13}</td>\n",
       "      <td>0.360855</td>\n",
       "      <td>0.216549</td>\n",
       "      <td>-0.035751</td>\n",
       "      <td>0.147337</td>\n",
       "      <td>...</td>\n",
       "      <td>0.070570</td>\n",
       "      <td>0.240078</td>\n",
       "      <td>28</td>\n",
       "      <td>0.316319</td>\n",
       "      <td>0.293503</td>\n",
       "      <td>0.403593</td>\n",
       "      <td>0.362992</td>\n",
       "      <td>0.415150</td>\n",
       "      <td>0.358311</td>\n",
       "      <td>0.047469</td>\n",
       "    </tr>\n",
       "    <tr>\n",
       "      <th>13</th>\n",
       "      <td>0.092841</td>\n",
       "      <td>0.007590</td>\n",
       "      <td>0.004334</td>\n",
       "      <td>0.000546</td>\n",
       "      <td>14</td>\n",
       "      <td>{'n_features_to_select': 14}</td>\n",
       "      <td>0.363901</td>\n",
       "      <td>0.213747</td>\n",
       "      <td>-0.117713</td>\n",
       "      <td>0.202101</td>\n",
       "      <td>...</td>\n",
       "      <td>0.065590</td>\n",
       "      <td>0.254133</td>\n",
       "      <td>30</td>\n",
       "      <td>0.318785</td>\n",
       "      <td>0.295288</td>\n",
       "      <td>0.413932</td>\n",
       "      <td>0.369637</td>\n",
       "      <td>0.420896</td>\n",
       "      <td>0.363708</td>\n",
       "      <td>0.050055</td>\n",
       "    </tr>\n",
       "    <tr>\n",
       "      <th>14</th>\n",
       "      <td>0.084260</td>\n",
       "      <td>0.004052</td>\n",
       "      <td>0.004398</td>\n",
       "      <td>0.000416</td>\n",
       "      <td>15</td>\n",
       "      <td>{'n_features_to_select': 15}</td>\n",
       "      <td>0.365949</td>\n",
       "      <td>0.234876</td>\n",
       "      <td>-0.122208</td>\n",
       "      <td>0.194440</td>\n",
       "      <td>...</td>\n",
       "      <td>0.066826</td>\n",
       "      <td>0.258600</td>\n",
       "      <td>29</td>\n",
       "      <td>0.318862</td>\n",
       "      <td>0.305781</td>\n",
       "      <td>0.414310</td>\n",
       "      <td>0.370631</td>\n",
       "      <td>0.421820</td>\n",
       "      <td>0.366281</td>\n",
       "      <td>0.047580</td>\n",
       "    </tr>\n",
       "    <tr>\n",
       "      <th>15</th>\n",
       "      <td>0.100703</td>\n",
       "      <td>0.028848</td>\n",
       "      <td>0.004047</td>\n",
       "      <td>0.000556</td>\n",
       "      <td>16</td>\n",
       "      <td>{'n_features_to_select': 16}</td>\n",
       "      <td>0.365885</td>\n",
       "      <td>0.173122</td>\n",
       "      <td>-0.117909</td>\n",
       "      <td>0.195550</td>\n",
       "      <td>...</td>\n",
       "      <td>0.056297</td>\n",
       "      <td>0.249989</td>\n",
       "      <td>40</td>\n",
       "      <td>0.320504</td>\n",
       "      <td>0.312309</td>\n",
       "      <td>0.418506</td>\n",
       "      <td>0.370986</td>\n",
       "      <td>0.421858</td>\n",
       "      <td>0.368833</td>\n",
       "      <td>0.046507</td>\n",
       "    </tr>\n",
       "    <tr>\n",
       "      <th>16</th>\n",
       "      <td>0.102250</td>\n",
       "      <td>0.028012</td>\n",
       "      <td>0.004665</td>\n",
       "      <td>0.000285</td>\n",
       "      <td>17</td>\n",
       "      <td>{'n_features_to_select': 17}</td>\n",
       "      <td>0.324007</td>\n",
       "      <td>0.215701</td>\n",
       "      <td>-0.117555</td>\n",
       "      <td>0.209505</td>\n",
       "      <td>...</td>\n",
       "      <td>0.054851</td>\n",
       "      <td>0.253738</td>\n",
       "      <td>42</td>\n",
       "      <td>0.347103</td>\n",
       "      <td>0.313958</td>\n",
       "      <td>0.418508</td>\n",
       "      <td>0.372562</td>\n",
       "      <td>0.422822</td>\n",
       "      <td>0.374991</td>\n",
       "      <td>0.041690</td>\n",
       "    </tr>\n",
       "    <tr>\n",
       "      <th>17</th>\n",
       "      <td>0.082298</td>\n",
       "      <td>0.005248</td>\n",
       "      <td>0.004259</td>\n",
       "      <td>0.000453</td>\n",
       "      <td>18</td>\n",
       "      <td>{'n_features_to_select': 18}</td>\n",
       "      <td>0.322878</td>\n",
       "      <td>0.212984</td>\n",
       "      <td>-0.130215</td>\n",
       "      <td>0.231750</td>\n",
       "      <td>...</td>\n",
       "      <td>0.056809</td>\n",
       "      <td>0.256514</td>\n",
       "      <td>39</td>\n",
       "      <td>0.347609</td>\n",
       "      <td>0.318803</td>\n",
       "      <td>0.420544</td>\n",
       "      <td>0.375498</td>\n",
       "      <td>0.424431</td>\n",
       "      <td>0.377377</td>\n",
       "      <td>0.040983</td>\n",
       "    </tr>\n",
       "    <tr>\n",
       "      <th>18</th>\n",
       "      <td>0.079076</td>\n",
       "      <td>0.004853</td>\n",
       "      <td>0.004219</td>\n",
       "      <td>0.000368</td>\n",
       "      <td>19</td>\n",
       "      <td>{'n_features_to_select': 19}</td>\n",
       "      <td>0.307880</td>\n",
       "      <td>0.184314</td>\n",
       "      <td>-0.130040</td>\n",
       "      <td>0.233720</td>\n",
       "      <td>...</td>\n",
       "      <td>0.049021</td>\n",
       "      <td>0.249527</td>\n",
       "      <td>46</td>\n",
       "      <td>0.349177</td>\n",
       "      <td>0.322530</td>\n",
       "      <td>0.420544</td>\n",
       "      <td>0.375815</td>\n",
       "      <td>0.424487</td>\n",
       "      <td>0.378511</td>\n",
       "      <td>0.039705</td>\n",
       "    </tr>\n",
       "    <tr>\n",
       "      <th>19</th>\n",
       "      <td>0.076690</td>\n",
       "      <td>0.002117</td>\n",
       "      <td>0.004905</td>\n",
       "      <td>0.000581</td>\n",
       "      <td>20</td>\n",
       "      <td>{'n_features_to_select': 20}</td>\n",
       "      <td>0.305806</td>\n",
       "      <td>0.184923</td>\n",
       "      <td>-0.095492</td>\n",
       "      <td>0.237514</td>\n",
       "      <td>...</td>\n",
       "      <td>0.059082</td>\n",
       "      <td>0.240661</td>\n",
       "      <td>37</td>\n",
       "      <td>0.349293</td>\n",
       "      <td>0.322547</td>\n",
       "      <td>0.429043</td>\n",
       "      <td>0.376247</td>\n",
       "      <td>0.433865</td>\n",
       "      <td>0.382199</td>\n",
       "      <td>0.043682</td>\n",
       "    </tr>\n",
       "    <tr>\n",
       "      <th>20</th>\n",
       "      <td>0.072237</td>\n",
       "      <td>0.001284</td>\n",
       "      <td>0.004505</td>\n",
       "      <td>0.000345</td>\n",
       "      <td>21</td>\n",
       "      <td>{'n_features_to_select': 21}</td>\n",
       "      <td>0.311447</td>\n",
       "      <td>0.170148</td>\n",
       "      <td>-0.093050</td>\n",
       "      <td>0.241838</td>\n",
       "      <td>...</td>\n",
       "      <td>0.059157</td>\n",
       "      <td>0.239813</td>\n",
       "      <td>36</td>\n",
       "      <td>0.349457</td>\n",
       "      <td>0.339269</td>\n",
       "      <td>0.429109</td>\n",
       "      <td>0.376775</td>\n",
       "      <td>0.435152</td>\n",
       "      <td>0.385952</td>\n",
       "      <td>0.039695</td>\n",
       "    </tr>\n",
       "    <tr>\n",
       "      <th>21</th>\n",
       "      <td>0.070764</td>\n",
       "      <td>0.002866</td>\n",
       "      <td>0.004807</td>\n",
       "      <td>0.000061</td>\n",
       "      <td>22</td>\n",
       "      <td>{'n_features_to_select': 22}</td>\n",
       "      <td>0.326607</td>\n",
       "      <td>0.157271</td>\n",
       "      <td>-0.093488</td>\n",
       "      <td>0.234808</td>\n",
       "      <td>...</td>\n",
       "      <td>0.057146</td>\n",
       "      <td>0.242567</td>\n",
       "      <td>38</td>\n",
       "      <td>0.358675</td>\n",
       "      <td>0.339882</td>\n",
       "      <td>0.429154</td>\n",
       "      <td>0.377001</td>\n",
       "      <td>0.435184</td>\n",
       "      <td>0.387979</td>\n",
       "      <td>0.037990</td>\n",
       "    </tr>\n",
       "    <tr>\n",
       "      <th>22</th>\n",
       "      <td>0.114368</td>\n",
       "      <td>0.022020</td>\n",
       "      <td>0.005495</td>\n",
       "      <td>0.000607</td>\n",
       "      <td>23</td>\n",
       "      <td>{'n_features_to_select': 23}</td>\n",
       "      <td>0.331903</td>\n",
       "      <td>0.150364</td>\n",
       "      <td>-0.093969</td>\n",
       "      <td>0.218211</td>\n",
       "      <td>...</td>\n",
       "      <td>0.052854</td>\n",
       "      <td>0.241817</td>\n",
       "      <td>43</td>\n",
       "      <td>0.358923</td>\n",
       "      <td>0.339928</td>\n",
       "      <td>0.429156</td>\n",
       "      <td>0.395097</td>\n",
       "      <td>0.435277</td>\n",
       "      <td>0.391676</td>\n",
       "      <td>0.037598</td>\n",
       "    </tr>\n",
       "    <tr>\n",
       "      <th>23</th>\n",
       "      <td>0.172683</td>\n",
       "      <td>0.039103</td>\n",
       "      <td>0.004612</td>\n",
       "      <td>0.000869</td>\n",
       "      <td>24</td>\n",
       "      <td>{'n_features_to_select': 24}</td>\n",
       "      <td>0.332172</td>\n",
       "      <td>0.155905</td>\n",
       "      <td>-0.090336</td>\n",
       "      <td>0.200690</td>\n",
       "      <td>...</td>\n",
       "      <td>0.050729</td>\n",
       "      <td>0.240454</td>\n",
       "      <td>44</td>\n",
       "      <td>0.358928</td>\n",
       "      <td>0.339961</td>\n",
       "      <td>0.429188</td>\n",
       "      <td>0.396538</td>\n",
       "      <td>0.435309</td>\n",
       "      <td>0.391985</td>\n",
       "      <td>0.037632</td>\n",
       "    </tr>\n",
       "    <tr>\n",
       "      <th>24</th>\n",
       "      <td>0.089246</td>\n",
       "      <td>0.028033</td>\n",
       "      <td>0.004506</td>\n",
       "      <td>0.000566</td>\n",
       "      <td>25</td>\n",
       "      <td>{'n_features_to_select': 25}</td>\n",
       "      <td>0.331924</td>\n",
       "      <td>0.153771</td>\n",
       "      <td>-0.090453</td>\n",
       "      <td>0.199575</td>\n",
       "      <td>...</td>\n",
       "      <td>0.049899</td>\n",
       "      <td>0.240262</td>\n",
       "      <td>45</td>\n",
       "      <td>0.358936</td>\n",
       "      <td>0.339983</td>\n",
       "      <td>0.429192</td>\n",
       "      <td>0.396546</td>\n",
       "      <td>0.435346</td>\n",
       "      <td>0.392001</td>\n",
       "      <td>0.037634</td>\n",
       "    </tr>\n",
       "    <tr>\n",
       "      <th>25</th>\n",
       "      <td>0.089143</td>\n",
       "      <td>0.040531</td>\n",
       "      <td>0.005009</td>\n",
       "      <td>0.000354</td>\n",
       "      <td>26</td>\n",
       "      <td>{'n_features_to_select': 26}</td>\n",
       "      <td>0.312906</td>\n",
       "      <td>0.155177</td>\n",
       "      <td>-0.048544</td>\n",
       "      <td>0.201637</td>\n",
       "      <td>...</td>\n",
       "      <td>0.055526</td>\n",
       "      <td>0.231350</td>\n",
       "      <td>41</td>\n",
       "      <td>0.363598</td>\n",
       "      <td>0.340058</td>\n",
       "      <td>0.438483</td>\n",
       "      <td>0.396821</td>\n",
       "      <td>0.435929</td>\n",
       "      <td>0.394978</td>\n",
       "      <td>0.038920</td>\n",
       "    </tr>\n",
       "    <tr>\n",
       "      <th>26</th>\n",
       "      <td>0.224849</td>\n",
       "      <td>0.203974</td>\n",
       "      <td>0.006124</td>\n",
       "      <td>0.001195</td>\n",
       "      <td>27</td>\n",
       "      <td>{'n_features_to_select': 27}</td>\n",
       "      <td>0.333375</td>\n",
       "      <td>0.207451</td>\n",
       "      <td>-0.042943</td>\n",
       "      <td>0.233586</td>\n",
       "      <td>...</td>\n",
       "      <td>0.065379</td>\n",
       "      <td>0.265665</td>\n",
       "      <td>31</td>\n",
       "      <td>0.409019</td>\n",
       "      <td>0.382040</td>\n",
       "      <td>0.438804</td>\n",
       "      <td>0.437565</td>\n",
       "      <td>0.483743</td>\n",
       "      <td>0.430234</td>\n",
       "      <td>0.033950</td>\n",
       "    </tr>\n",
       "    <tr>\n",
       "      <th>27</th>\n",
       "      <td>0.081708</td>\n",
       "      <td>0.005161</td>\n",
       "      <td>0.005044</td>\n",
       "      <td>0.000413</td>\n",
       "      <td>28</td>\n",
       "      <td>{'n_features_to_select': 28}</td>\n",
       "      <td>0.767402</td>\n",
       "      <td>0.271501</td>\n",
       "      <td>-0.038598</td>\n",
       "      <td>0.551939</td>\n",
       "      <td>...</td>\n",
       "      <td>0.238607</td>\n",
       "      <td>0.403263</td>\n",
       "      <td>23</td>\n",
       "      <td>0.756778</td>\n",
       "      <td>0.634692</td>\n",
       "      <td>0.439599</td>\n",
       "      <td>0.794577</td>\n",
       "      <td>0.484657</td>\n",
       "      <td>0.622061</td>\n",
       "      <td>0.141592</td>\n",
       "    </tr>\n",
       "    <tr>\n",
       "      <th>28</th>\n",
       "      <td>0.070683</td>\n",
       "      <td>0.017102</td>\n",
       "      <td>0.005088</td>\n",
       "      <td>0.000883</td>\n",
       "      <td>29</td>\n",
       "      <td>{'n_features_to_select': 29}</td>\n",
       "      <td>0.799228</td>\n",
       "      <td>0.270477</td>\n",
       "      <td>-0.039419</td>\n",
       "      <td>0.542031</td>\n",
       "      <td>...</td>\n",
       "      <td>0.416701</td>\n",
       "      <td>0.282980</td>\n",
       "      <td>22</td>\n",
       "      <td>0.766810</td>\n",
       "      <td>0.636640</td>\n",
       "      <td>0.439602</td>\n",
       "      <td>0.795838</td>\n",
       "      <td>0.782902</td>\n",
       "      <td>0.684358</td>\n",
       "      <td>0.134996</td>\n",
       "    </tr>\n",
       "    <tr>\n",
       "      <th>29</th>\n",
       "      <td>0.072291</td>\n",
       "      <td>0.013326</td>\n",
       "      <td>0.004840</td>\n",
       "      <td>0.000980</td>\n",
       "      <td>30</td>\n",
       "      <td>{'n_features_to_select': 30}</td>\n",
       "      <td>0.798100</td>\n",
       "      <td>0.688765</td>\n",
       "      <td>0.326483</td>\n",
       "      <td>0.538556</td>\n",
       "      <td>...</td>\n",
       "      <td>0.570029</td>\n",
       "      <td>0.162218</td>\n",
       "      <td>21</td>\n",
       "      <td>0.767121</td>\n",
       "      <td>0.780044</td>\n",
       "      <td>0.799851</td>\n",
       "      <td>0.796092</td>\n",
       "      <td>0.783371</td>\n",
       "      <td>0.785296</td>\n",
       "      <td>0.011747</td>\n",
       "    </tr>\n",
       "    <tr>\n",
       "      <th>30</th>\n",
       "      <td>0.064677</td>\n",
       "      <td>0.025691</td>\n",
       "      <td>0.004442</td>\n",
       "      <td>0.000427</td>\n",
       "      <td>31</td>\n",
       "      <td>{'n_features_to_select': 31}</td>\n",
       "      <td>0.842953</td>\n",
       "      <td>0.689300</td>\n",
       "      <td>0.322508</td>\n",
       "      <td>0.540379</td>\n",
       "      <td>...</td>\n",
       "      <td>0.590307</td>\n",
       "      <td>0.172620</td>\n",
       "      <td>20</td>\n",
       "      <td>0.801285</td>\n",
       "      <td>0.780143</td>\n",
       "      <td>0.800157</td>\n",
       "      <td>0.796559</td>\n",
       "      <td>0.793197</td>\n",
       "      <td>0.794268</td>\n",
       "      <td>0.007613</td>\n",
       "    </tr>\n",
       "    <tr>\n",
       "      <th>31</th>\n",
       "      <td>0.059782</td>\n",
       "      <td>0.007413</td>\n",
       "      <td>0.004657</td>\n",
       "      <td>0.000636</td>\n",
       "      <td>32</td>\n",
       "      <td>{'n_features_to_select': 32}</td>\n",
       "      <td>0.840976</td>\n",
       "      <td>0.735610</td>\n",
       "      <td>0.469346</td>\n",
       "      <td>0.522277</td>\n",
       "      <td>...</td>\n",
       "      <td>0.643691</td>\n",
       "      <td>0.136052</td>\n",
       "      <td>18</td>\n",
       "      <td>0.801513</td>\n",
       "      <td>0.810531</td>\n",
       "      <td>0.826912</td>\n",
       "      <td>0.816471</td>\n",
       "      <td>0.824144</td>\n",
       "      <td>0.815914</td>\n",
       "      <td>0.009223</td>\n",
       "    </tr>\n",
       "    <tr>\n",
       "      <th>32</th>\n",
       "      <td>0.050893</td>\n",
       "      <td>0.004796</td>\n",
       "      <td>0.004831</td>\n",
       "      <td>0.001164</td>\n",
       "      <td>33</td>\n",
       "      <td>{'n_features_to_select': 33}</td>\n",
       "      <td>0.841171</td>\n",
       "      <td>0.734556</td>\n",
       "      <td>0.467929</td>\n",
       "      <td>0.634102</td>\n",
       "      <td>...</td>\n",
       "      <td>0.665303</td>\n",
       "      <td>0.123231</td>\n",
       "      <td>16</td>\n",
       "      <td>0.801515</td>\n",
       "      <td>0.812646</td>\n",
       "      <td>0.827371</td>\n",
       "      <td>0.841253</td>\n",
       "      <td>0.824802</td>\n",
       "      <td>0.821517</td>\n",
       "      <td>0.013516</td>\n",
       "    </tr>\n",
       "    <tr>\n",
       "      <th>33</th>\n",
       "      <td>0.061386</td>\n",
       "      <td>0.017328</td>\n",
       "      <td>0.004829</td>\n",
       "      <td>0.000187</td>\n",
       "      <td>34</td>\n",
       "      <td>{'n_features_to_select': 34}</td>\n",
       "      <td>0.836836</td>\n",
       "      <td>0.743050</td>\n",
       "      <td>0.422972</td>\n",
       "      <td>0.631542</td>\n",
       "      <td>...</td>\n",
       "      <td>0.649658</td>\n",
       "      <td>0.139105</td>\n",
       "      <td>17</td>\n",
       "      <td>0.804257</td>\n",
       "      <td>0.816278</td>\n",
       "      <td>0.831453</td>\n",
       "      <td>0.842522</td>\n",
       "      <td>0.832761</td>\n",
       "      <td>0.825454</td>\n",
       "      <td>0.013522</td>\n",
       "    </tr>\n",
       "    <tr>\n",
       "      <th>34</th>\n",
       "      <td>0.045710</td>\n",
       "      <td>0.002249</td>\n",
       "      <td>0.004113</td>\n",
       "      <td>0.000821</td>\n",
       "      <td>35</td>\n",
       "      <td>{'n_features_to_select': 35}</td>\n",
       "      <td>0.836780</td>\n",
       "      <td>0.712275</td>\n",
       "      <td>0.423746</td>\n",
       "      <td>0.634819</td>\n",
       "      <td>...</td>\n",
       "      <td>0.642868</td>\n",
       "      <td>0.135503</td>\n",
       "      <td>19</td>\n",
       "      <td>0.804263</td>\n",
       "      <td>0.819992</td>\n",
       "      <td>0.831460</td>\n",
       "      <td>0.843409</td>\n",
       "      <td>0.833742</td>\n",
       "      <td>0.826573</td>\n",
       "      <td>0.013415</td>\n",
       "    </tr>\n",
       "    <tr>\n",
       "      <th>35</th>\n",
       "      <td>0.045931</td>\n",
       "      <td>0.002131</td>\n",
       "      <td>0.004850</td>\n",
       "      <td>0.000748</td>\n",
       "      <td>36</td>\n",
       "      <td>{'n_features_to_select': 36}</td>\n",
       "      <td>0.835757</td>\n",
       "      <td>0.712237</td>\n",
       "      <td>0.597409</td>\n",
       "      <td>0.634504</td>\n",
       "      <td>...</td>\n",
       "      <td>0.678723</td>\n",
       "      <td>0.087837</td>\n",
       "      <td>13</td>\n",
       "      <td>0.820793</td>\n",
       "      <td>0.820024</td>\n",
       "      <td>0.840417</td>\n",
       "      <td>0.843411</td>\n",
       "      <td>0.834406</td>\n",
       "      <td>0.831810</td>\n",
       "      <td>0.009754</td>\n",
       "    </tr>\n",
       "    <tr>\n",
       "      <th>36</th>\n",
       "      <td>0.065075</td>\n",
       "      <td>0.019633</td>\n",
       "      <td>0.005470</td>\n",
       "      <td>0.002329</td>\n",
       "      <td>37</td>\n",
       "      <td>{'n_features_to_select': 37}</td>\n",
       "      <td>0.835706</td>\n",
       "      <td>0.714279</td>\n",
       "      <td>0.599618</td>\n",
       "      <td>0.616315</td>\n",
       "      <td>...</td>\n",
       "      <td>0.684657</td>\n",
       "      <td>0.085253</td>\n",
       "      <td>8</td>\n",
       "      <td>0.821262</td>\n",
       "      <td>0.824368</td>\n",
       "      <td>0.845388</td>\n",
       "      <td>0.848892</td>\n",
       "      <td>0.842662</td>\n",
       "      <td>0.836515</td>\n",
       "      <td>0.011401</td>\n",
       "    </tr>\n",
       "    <tr>\n",
       "      <th>37</th>\n",
       "      <td>0.042125</td>\n",
       "      <td>0.005346</td>\n",
       "      <td>0.005115</td>\n",
       "      <td>0.000357</td>\n",
       "      <td>38</td>\n",
       "      <td>{'n_features_to_select': 38}</td>\n",
       "      <td>0.818780</td>\n",
       "      <td>0.711764</td>\n",
       "      <td>0.601984</td>\n",
       "      <td>0.616282</td>\n",
       "      <td>...</td>\n",
       "      <td>0.681020</td>\n",
       "      <td>0.078705</td>\n",
       "      <td>10</td>\n",
       "      <td>0.822580</td>\n",
       "      <td>0.831290</td>\n",
       "      <td>0.845417</td>\n",
       "      <td>0.848964</td>\n",
       "      <td>0.843196</td>\n",
       "      <td>0.838289</td>\n",
       "      <td>0.009845</td>\n",
       "    </tr>\n",
       "    <tr>\n",
       "      <th>38</th>\n",
       "      <td>0.040181</td>\n",
       "      <td>0.000945</td>\n",
       "      <td>0.005208</td>\n",
       "      <td>0.000288</td>\n",
       "      <td>39</td>\n",
       "      <td>{'n_features_to_select': 39}</td>\n",
       "      <td>0.818197</td>\n",
       "      <td>0.713792</td>\n",
       "      <td>0.573404</td>\n",
       "      <td>0.596040</td>\n",
       "      <td>...</td>\n",
       "      <td>0.672288</td>\n",
       "      <td>0.088039</td>\n",
       "      <td>15</td>\n",
       "      <td>0.822655</td>\n",
       "      <td>0.832772</td>\n",
       "      <td>0.850616</td>\n",
       "      <td>0.852996</td>\n",
       "      <td>0.843458</td>\n",
       "      <td>0.840499</td>\n",
       "      <td>0.011361</td>\n",
       "    </tr>\n",
       "    <tr>\n",
       "      <th>39</th>\n",
       "      <td>0.044493</td>\n",
       "      <td>0.009301</td>\n",
       "      <td>0.005048</td>\n",
       "      <td>0.001399</td>\n",
       "      <td>40</td>\n",
       "      <td>{'n_features_to_select': 40}</td>\n",
       "      <td>0.825297</td>\n",
       "      <td>0.712498</td>\n",
       "      <td>0.573601</td>\n",
       "      <td>0.614902</td>\n",
       "      <td>...</td>\n",
       "      <td>0.677472</td>\n",
       "      <td>0.087238</td>\n",
       "      <td>14</td>\n",
       "      <td>0.826346</td>\n",
       "      <td>0.835763</td>\n",
       "      <td>0.852213</td>\n",
       "      <td>0.857282</td>\n",
       "      <td>0.843476</td>\n",
       "      <td>0.843016</td>\n",
       "      <td>0.011125</td>\n",
       "    </tr>\n",
       "    <tr>\n",
       "      <th>40</th>\n",
       "      <td>0.043622</td>\n",
       "      <td>0.009529</td>\n",
       "      <td>0.006501</td>\n",
       "      <td>0.001812</td>\n",
       "      <td>41</td>\n",
       "      <td>{'n_features_to_select': 41}</td>\n",
       "      <td>0.825722</td>\n",
       "      <td>0.712657</td>\n",
       "      <td>0.591126</td>\n",
       "      <td>0.611415</td>\n",
       "      <td>...</td>\n",
       "      <td>0.680590</td>\n",
       "      <td>0.083935</td>\n",
       "      <td>12</td>\n",
       "      <td>0.829123</td>\n",
       "      <td>0.836179</td>\n",
       "      <td>0.857931</td>\n",
       "      <td>0.857412</td>\n",
       "      <td>0.844743</td>\n",
       "      <td>0.845078</td>\n",
       "      <td>0.011412</td>\n",
       "    </tr>\n",
       "    <tr>\n",
       "      <th>41</th>\n",
       "      <td>0.047667</td>\n",
       "      <td>0.011550</td>\n",
       "      <td>0.004085</td>\n",
       "      <td>0.000533</td>\n",
       "      <td>42</td>\n",
       "      <td>{'n_features_to_select': 42}</td>\n",
       "      <td>0.828998</td>\n",
       "      <td>0.712253</td>\n",
       "      <td>0.601981</td>\n",
       "      <td>0.623374</td>\n",
       "      <td>...</td>\n",
       "      <td>0.685778</td>\n",
       "      <td>0.080847</td>\n",
       "      <td>7</td>\n",
       "      <td>0.829550</td>\n",
       "      <td>0.836185</td>\n",
       "      <td>0.858550</td>\n",
       "      <td>0.860370</td>\n",
       "      <td>0.844749</td>\n",
       "      <td>0.845881</td>\n",
       "      <td>0.012103</td>\n",
       "    </tr>\n",
       "    <tr>\n",
       "      <th>42</th>\n",
       "      <td>0.031487</td>\n",
       "      <td>0.005293</td>\n",
       "      <td>0.004444</td>\n",
       "      <td>0.000974</td>\n",
       "      <td>43</td>\n",
       "      <td>{'n_features_to_select': 43}</td>\n",
       "      <td>0.828807</td>\n",
       "      <td>0.711983</td>\n",
       "      <td>0.600581</td>\n",
       "      <td>0.623570</td>\n",
       "      <td>...</td>\n",
       "      <td>0.684097</td>\n",
       "      <td>0.081452</td>\n",
       "      <td>9</td>\n",
       "      <td>0.829605</td>\n",
       "      <td>0.836187</td>\n",
       "      <td>0.858647</td>\n",
       "      <td>0.860374</td>\n",
       "      <td>0.845657</td>\n",
       "      <td>0.846094</td>\n",
       "      <td>0.012097</td>\n",
       "    </tr>\n",
       "    <tr>\n",
       "      <th>43</th>\n",
       "      <td>0.025551</td>\n",
       "      <td>0.001138</td>\n",
       "      <td>0.004676</td>\n",
       "      <td>0.000805</td>\n",
       "      <td>44</td>\n",
       "      <td>{'n_features_to_select': 44}</td>\n",
       "      <td>0.825726</td>\n",
       "      <td>0.712107</td>\n",
       "      <td>0.598579</td>\n",
       "      <td>0.625442</td>\n",
       "      <td>...</td>\n",
       "      <td>0.686891</td>\n",
       "      <td>0.079612</td>\n",
       "      <td>5</td>\n",
       "      <td>0.829841</td>\n",
       "      <td>0.836187</td>\n",
       "      <td>0.859536</td>\n",
       "      <td>0.861047</td>\n",
       "      <td>0.845980</td>\n",
       "      <td>0.846518</td>\n",
       "      <td>0.012375</td>\n",
       "    </tr>\n",
       "    <tr>\n",
       "      <th>44</th>\n",
       "      <td>0.023897</td>\n",
       "      <td>0.002204</td>\n",
       "      <td>0.004894</td>\n",
       "      <td>0.000719</td>\n",
       "      <td>45</td>\n",
       "      <td>{'n_features_to_select': 45}</td>\n",
       "      <td>0.825622</td>\n",
       "      <td>0.729195</td>\n",
       "      <td>0.602247</td>\n",
       "      <td>0.623615</td>\n",
       "      <td>...</td>\n",
       "      <td>0.690640</td>\n",
       "      <td>0.080425</td>\n",
       "      <td>1</td>\n",
       "      <td>0.830462</td>\n",
       "      <td>0.838346</td>\n",
       "      <td>0.859777</td>\n",
       "      <td>0.861071</td>\n",
       "      <td>0.845986</td>\n",
       "      <td>0.847128</td>\n",
       "      <td>0.011921</td>\n",
       "    </tr>\n",
       "    <tr>\n",
       "      <th>45</th>\n",
       "      <td>0.022837</td>\n",
       "      <td>0.002390</td>\n",
       "      <td>0.005077</td>\n",
       "      <td>0.000973</td>\n",
       "      <td>46</td>\n",
       "      <td>{'n_features_to_select': 46}</td>\n",
       "      <td>0.825838</td>\n",
       "      <td>0.729346</td>\n",
       "      <td>0.600841</td>\n",
       "      <td>0.616980</td>\n",
       "      <td>...</td>\n",
       "      <td>0.687803</td>\n",
       "      <td>0.082259</td>\n",
       "      <td>3</td>\n",
       "      <td>0.830469</td>\n",
       "      <td>0.838351</td>\n",
       "      <td>0.859831</td>\n",
       "      <td>0.861276</td>\n",
       "      <td>0.846279</td>\n",
       "      <td>0.847241</td>\n",
       "      <td>0.011973</td>\n",
       "    </tr>\n",
       "    <tr>\n",
       "      <th>46</th>\n",
       "      <td>0.018740</td>\n",
       "      <td>0.002923</td>\n",
       "      <td>0.005120</td>\n",
       "      <td>0.000589</td>\n",
       "      <td>47</td>\n",
       "      <td>{'n_features_to_select': 47}</td>\n",
       "      <td>0.825282</td>\n",
       "      <td>0.729208</td>\n",
       "      <td>0.599600</td>\n",
       "      <td>0.617057</td>\n",
       "      <td>...</td>\n",
       "      <td>0.687495</td>\n",
       "      <td>0.082293</td>\n",
       "      <td>4</td>\n",
       "      <td>0.830894</td>\n",
       "      <td>0.838354</td>\n",
       "      <td>0.859862</td>\n",
       "      <td>0.861278</td>\n",
       "      <td>0.846281</td>\n",
       "      <td>0.847334</td>\n",
       "      <td>0.011861</td>\n",
       "    </tr>\n",
       "    <tr>\n",
       "      <th>47</th>\n",
       "      <td>0.014066</td>\n",
       "      <td>0.001024</td>\n",
       "      <td>0.004768</td>\n",
       "      <td>0.000242</td>\n",
       "      <td>48</td>\n",
       "      <td>{'n_features_to_select': 48}</td>\n",
       "      <td>0.825502</td>\n",
       "      <td>0.731156</td>\n",
       "      <td>0.599551</td>\n",
       "      <td>0.618677</td>\n",
       "      <td>...</td>\n",
       "      <td>0.688194</td>\n",
       "      <td>0.082314</td>\n",
       "      <td>2</td>\n",
       "      <td>0.830900</td>\n",
       "      <td>0.838492</td>\n",
       "      <td>0.859862</td>\n",
       "      <td>0.861383</td>\n",
       "      <td>0.846321</td>\n",
       "      <td>0.847392</td>\n",
       "      <td>0.011862</td>\n",
       "    </tr>\n",
       "    <tr>\n",
       "      <th>48</th>\n",
       "      <td>0.012703</td>\n",
       "      <td>0.001737</td>\n",
       "      <td>0.004894</td>\n",
       "      <td>0.000516</td>\n",
       "      <td>49</td>\n",
       "      <td>{'n_features_to_select': 49}</td>\n",
       "      <td>0.819862</td>\n",
       "      <td>0.730877</td>\n",
       "      <td>0.598711</td>\n",
       "      <td>0.618235</td>\n",
       "      <td>...</td>\n",
       "      <td>0.686714</td>\n",
       "      <td>0.080680</td>\n",
       "      <td>6</td>\n",
       "      <td>0.832119</td>\n",
       "      <td>0.838559</td>\n",
       "      <td>0.859866</td>\n",
       "      <td>0.861408</td>\n",
       "      <td>0.846321</td>\n",
       "      <td>0.847655</td>\n",
       "      <td>0.011525</td>\n",
       "    </tr>\n",
       "    <tr>\n",
       "      <th>49</th>\n",
       "      <td>0.010817</td>\n",
       "      <td>0.001705</td>\n",
       "      <td>0.006968</td>\n",
       "      <td>0.002636</td>\n",
       "      <td>50</td>\n",
       "      <td>{'n_features_to_select': 50}</td>\n",
       "      <td>0.819883</td>\n",
       "      <td>0.730917</td>\n",
       "      <td>0.590788</td>\n",
       "      <td>0.616718</td>\n",
       "      <td>...</td>\n",
       "      <td>0.680847</td>\n",
       "      <td>0.084000</td>\n",
       "      <td>11</td>\n",
       "      <td>0.832119</td>\n",
       "      <td>0.838572</td>\n",
       "      <td>0.859997</td>\n",
       "      <td>0.861427</td>\n",
       "      <td>0.847790</td>\n",
       "      <td>0.847981</td>\n",
       "      <td>0.011536</td>\n",
       "    </tr>\n",
       "  </tbody>\n",
       "</table>\n",
       "<p>50 rows × 21 columns</p>\n",
       "</div>"
      ],
      "text/plain": [
       "    mean_fit_time  std_fit_time  mean_score_time  std_score_time  \\\n",
       "0        0.163253      0.087311         0.004553        0.000160   \n",
       "1        0.148403      0.020526         0.005137        0.000713   \n",
       "2        0.142970      0.038811         0.004637        0.000439   \n",
       "3        0.097587      0.003777         0.004412        0.000367   \n",
       "4        0.101961      0.010572         0.004470        0.000194   \n",
       "5        0.122509      0.051508         0.004247        0.000568   \n",
       "6        0.092945      0.002593         0.004652        0.000207   \n",
       "7        0.108611      0.015818         0.005404        0.001293   \n",
       "8        0.113599      0.018902         0.004367        0.000588   \n",
       "9        0.111300      0.022066         0.004667        0.000580   \n",
       "10       0.116640      0.020126         0.004624        0.000441   \n",
       "11       0.147871      0.035735         0.004519        0.001514   \n",
       "12       0.099262      0.013316         0.004420        0.000492   \n",
       "13       0.092841      0.007590         0.004334        0.000546   \n",
       "14       0.084260      0.004052         0.004398        0.000416   \n",
       "15       0.100703      0.028848         0.004047        0.000556   \n",
       "16       0.102250      0.028012         0.004665        0.000285   \n",
       "17       0.082298      0.005248         0.004259        0.000453   \n",
       "18       0.079076      0.004853         0.004219        0.000368   \n",
       "19       0.076690      0.002117         0.004905        0.000581   \n",
       "20       0.072237      0.001284         0.004505        0.000345   \n",
       "21       0.070764      0.002866         0.004807        0.000061   \n",
       "22       0.114368      0.022020         0.005495        0.000607   \n",
       "23       0.172683      0.039103         0.004612        0.000869   \n",
       "24       0.089246      0.028033         0.004506        0.000566   \n",
       "25       0.089143      0.040531         0.005009        0.000354   \n",
       "26       0.224849      0.203974         0.006124        0.001195   \n",
       "27       0.081708      0.005161         0.005044        0.000413   \n",
       "28       0.070683      0.017102         0.005088        0.000883   \n",
       "29       0.072291      0.013326         0.004840        0.000980   \n",
       "30       0.064677      0.025691         0.004442        0.000427   \n",
       "31       0.059782      0.007413         0.004657        0.000636   \n",
       "32       0.050893      0.004796         0.004831        0.001164   \n",
       "33       0.061386      0.017328         0.004829        0.000187   \n",
       "34       0.045710      0.002249         0.004113        0.000821   \n",
       "35       0.045931      0.002131         0.004850        0.000748   \n",
       "36       0.065075      0.019633         0.005470        0.002329   \n",
       "37       0.042125      0.005346         0.005115        0.000357   \n",
       "38       0.040181      0.000945         0.005208        0.000288   \n",
       "39       0.044493      0.009301         0.005048        0.001399   \n",
       "40       0.043622      0.009529         0.006501        0.001812   \n",
       "41       0.047667      0.011550         0.004085        0.000533   \n",
       "42       0.031487      0.005293         0.004444        0.000974   \n",
       "43       0.025551      0.001138         0.004676        0.000805   \n",
       "44       0.023897      0.002204         0.004894        0.000719   \n",
       "45       0.022837      0.002390         0.005077        0.000973   \n",
       "46       0.018740      0.002923         0.005120        0.000589   \n",
       "47       0.014066      0.001024         0.004768        0.000242   \n",
       "48       0.012703      0.001737         0.004894        0.000516   \n",
       "49       0.010817      0.001705         0.006968        0.002636   \n",
       "\n",
       "   param_n_features_to_select                        params  \\\n",
       "0                           1   {'n_features_to_select': 1}   \n",
       "1                           2   {'n_features_to_select': 2}   \n",
       "2                           3   {'n_features_to_select': 3}   \n",
       "3                           4   {'n_features_to_select': 4}   \n",
       "4                           5   {'n_features_to_select': 5}   \n",
       "5                           6   {'n_features_to_select': 6}   \n",
       "6                           7   {'n_features_to_select': 7}   \n",
       "7                           8   {'n_features_to_select': 8}   \n",
       "8                           9   {'n_features_to_select': 9}   \n",
       "9                          10  {'n_features_to_select': 10}   \n",
       "10                         11  {'n_features_to_select': 11}   \n",
       "11                         12  {'n_features_to_select': 12}   \n",
       "12                         13  {'n_features_to_select': 13}   \n",
       "13                         14  {'n_features_to_select': 14}   \n",
       "14                         15  {'n_features_to_select': 15}   \n",
       "15                         16  {'n_features_to_select': 16}   \n",
       "16                         17  {'n_features_to_select': 17}   \n",
       "17                         18  {'n_features_to_select': 18}   \n",
       "18                         19  {'n_features_to_select': 19}   \n",
       "19                         20  {'n_features_to_select': 20}   \n",
       "20                         21  {'n_features_to_select': 21}   \n",
       "21                         22  {'n_features_to_select': 22}   \n",
       "22                         23  {'n_features_to_select': 23}   \n",
       "23                         24  {'n_features_to_select': 24}   \n",
       "24                         25  {'n_features_to_select': 25}   \n",
       "25                         26  {'n_features_to_select': 26}   \n",
       "26                         27  {'n_features_to_select': 27}   \n",
       "27                         28  {'n_features_to_select': 28}   \n",
       "28                         29  {'n_features_to_select': 29}   \n",
       "29                         30  {'n_features_to_select': 30}   \n",
       "30                         31  {'n_features_to_select': 31}   \n",
       "31                         32  {'n_features_to_select': 32}   \n",
       "32                         33  {'n_features_to_select': 33}   \n",
       "33                         34  {'n_features_to_select': 34}   \n",
       "34                         35  {'n_features_to_select': 35}   \n",
       "35                         36  {'n_features_to_select': 36}   \n",
       "36                         37  {'n_features_to_select': 37}   \n",
       "37                         38  {'n_features_to_select': 38}   \n",
       "38                         39  {'n_features_to_select': 39}   \n",
       "39                         40  {'n_features_to_select': 40}   \n",
       "40                         41  {'n_features_to_select': 41}   \n",
       "41                         42  {'n_features_to_select': 42}   \n",
       "42                         43  {'n_features_to_select': 43}   \n",
       "43                         44  {'n_features_to_select': 44}   \n",
       "44                         45  {'n_features_to_select': 45}   \n",
       "45                         46  {'n_features_to_select': 46}   \n",
       "46                         47  {'n_features_to_select': 47}   \n",
       "47                         48  {'n_features_to_select': 48}   \n",
       "48                         49  {'n_features_to_select': 49}   \n",
       "49                         50  {'n_features_to_select': 50}   \n",
       "\n",
       "    split0_test_score  split1_test_score  split2_test_score  \\\n",
       "0            0.218490           0.018400          -0.027045   \n",
       "1            0.267430           0.027150          -0.013467   \n",
       "2            0.358962           0.050245          -0.119435   \n",
       "3            0.361792           0.067530          -0.141805   \n",
       "4            0.394894          -0.001572          -0.169029   \n",
       "5            0.372292           0.061519          -0.186837   \n",
       "6            0.373956           0.250105          -0.192857   \n",
       "7            0.391673           0.239284          -0.139361   \n",
       "8            0.385495           0.235187          -0.054383   \n",
       "9            0.377449           0.230657          -0.015911   \n",
       "10           0.376033           0.231008          -0.028583   \n",
       "11           0.370419           0.213507          -0.016068   \n",
       "12           0.360855           0.216549          -0.035751   \n",
       "13           0.363901           0.213747          -0.117713   \n",
       "14           0.365949           0.234876          -0.122208   \n",
       "15           0.365885           0.173122          -0.117909   \n",
       "16           0.324007           0.215701          -0.117555   \n",
       "17           0.322878           0.212984          -0.130215   \n",
       "18           0.307880           0.184314          -0.130040   \n",
       "19           0.305806           0.184923          -0.095492   \n",
       "20           0.311447           0.170148          -0.093050   \n",
       "21           0.326607           0.157271          -0.093488   \n",
       "22           0.331903           0.150364          -0.093969   \n",
       "23           0.332172           0.155905          -0.090336   \n",
       "24           0.331924           0.153771          -0.090453   \n",
       "25           0.312906           0.155177          -0.048544   \n",
       "26           0.333375           0.207451          -0.042943   \n",
       "27           0.767402           0.271501          -0.038598   \n",
       "28           0.799228           0.270477          -0.039419   \n",
       "29           0.798100           0.688765           0.326483   \n",
       "30           0.842953           0.689300           0.322508   \n",
       "31           0.840976           0.735610           0.469346   \n",
       "32           0.841171           0.734556           0.467929   \n",
       "33           0.836836           0.743050           0.422972   \n",
       "34           0.836780           0.712275           0.423746   \n",
       "35           0.835757           0.712237           0.597409   \n",
       "36           0.835706           0.714279           0.599618   \n",
       "37           0.818780           0.711764           0.601984   \n",
       "38           0.818197           0.713792           0.573404   \n",
       "39           0.825297           0.712498           0.573601   \n",
       "40           0.825722           0.712657           0.591126   \n",
       "41           0.828998           0.712253           0.601981   \n",
       "42           0.828807           0.711983           0.600581   \n",
       "43           0.825726           0.712107           0.598579   \n",
       "44           0.825622           0.729195           0.602247   \n",
       "45           0.825838           0.729346           0.600841   \n",
       "46           0.825282           0.729208           0.599600   \n",
       "47           0.825502           0.731156           0.599551   \n",
       "48           0.819862           0.730877           0.598711   \n",
       "49           0.819883           0.730917           0.590788   \n",
       "\n",
       "    split3_test_score  ...  mean_test_score  std_test_score  rank_test_score  \\\n",
       "0            0.000561  ...        -0.000625        0.137406               50   \n",
       "1           -0.010982  ...         0.012179        0.152049               48   \n",
       "2           -0.082021  ...         0.009968        0.188048               49   \n",
       "3            0.107549  ...         0.062750        0.175530               34   \n",
       "4            0.162279  ...         0.061086        0.199387               35   \n",
       "5            0.164455  ...         0.026143        0.236526               47   \n",
       "6            0.154006  ...         0.064049        0.250200               32   \n",
       "7            0.125169  ...         0.064006        0.250329               33   \n",
       "8            0.145646  ...         0.078507        0.244661               27   \n",
       "9            0.157565  ...         0.085886        0.239365               25   \n",
       "10           0.160222  ...         0.086304        0.235949               24   \n",
       "11           0.155725  ...         0.085287        0.227698               26   \n",
       "12           0.147337  ...         0.070570        0.240078               28   \n",
       "13           0.202101  ...         0.065590        0.254133               30   \n",
       "14           0.194440  ...         0.066826        0.258600               29   \n",
       "15           0.195550  ...         0.056297        0.249989               40   \n",
       "16           0.209505  ...         0.054851        0.253738               42   \n",
       "17           0.231750  ...         0.056809        0.256514               39   \n",
       "18           0.233720  ...         0.049021        0.249527               46   \n",
       "19           0.237514  ...         0.059082        0.240661               37   \n",
       "20           0.241838  ...         0.059157        0.239813               36   \n",
       "21           0.234808  ...         0.057146        0.242567               38   \n",
       "22           0.218211  ...         0.052854        0.241817               43   \n",
       "23           0.200690  ...         0.050729        0.240454               44   \n",
       "24           0.199575  ...         0.049899        0.240262               45   \n",
       "25           0.201637  ...         0.055526        0.231350               41   \n",
       "26           0.233586  ...         0.065379        0.265665               31   \n",
       "27           0.551939  ...         0.238607        0.403263               23   \n",
       "28           0.542031  ...         0.416701        0.282980               22   \n",
       "29           0.538556  ...         0.570029        0.162218               21   \n",
       "30           0.540379  ...         0.590307        0.172620               20   \n",
       "31           0.522277  ...         0.643691        0.136052               18   \n",
       "32           0.634102  ...         0.665303        0.123231               16   \n",
       "33           0.631542  ...         0.649658        0.139105               17   \n",
       "34           0.634819  ...         0.642868        0.135503               19   \n",
       "35           0.634504  ...         0.678723        0.087837               13   \n",
       "36           0.616315  ...         0.684657        0.085253                8   \n",
       "37           0.616282  ...         0.681020        0.078705               10   \n",
       "38           0.596040  ...         0.672288        0.088039               15   \n",
       "39           0.614902  ...         0.677472        0.087238               14   \n",
       "40           0.611415  ...         0.680590        0.083935               12   \n",
       "41           0.623374  ...         0.685778        0.080847                7   \n",
       "42           0.623570  ...         0.684097        0.081452                9   \n",
       "43           0.625442  ...         0.686891        0.079612                5   \n",
       "44           0.623615  ...         0.690640        0.080425                1   \n",
       "45           0.616980  ...         0.687803        0.082259                3   \n",
       "46           0.617057  ...         0.687495        0.082293                4   \n",
       "47           0.618677  ...         0.688194        0.082314                2   \n",
       "48           0.618235  ...         0.686714        0.080680                6   \n",
       "49           0.616718  ...         0.680847        0.084000               11   \n",
       "\n",
       "    split0_train_score  split1_train_score  split2_train_score  \\\n",
       "0             0.104499            0.108961            0.150329   \n",
       "1             0.188376            0.110855            0.236066   \n",
       "2             0.238468            0.129756            0.323995   \n",
       "3             0.238564            0.138338            0.357178   \n",
       "4             0.265165            0.176139            0.360259   \n",
       "5             0.300695            0.211275            0.361171   \n",
       "6             0.301808            0.269395            0.361790   \n",
       "7             0.311972            0.287849            0.370478   \n",
       "8             0.313019            0.288920            0.391388   \n",
       "9             0.314598            0.289054            0.398032   \n",
       "10            0.315052            0.289055            0.400435   \n",
       "11            0.315548            0.292762            0.401773   \n",
       "12            0.316319            0.293503            0.403593   \n",
       "13            0.318785            0.295288            0.413932   \n",
       "14            0.318862            0.305781            0.414310   \n",
       "15            0.320504            0.312309            0.418506   \n",
       "16            0.347103            0.313958            0.418508   \n",
       "17            0.347609            0.318803            0.420544   \n",
       "18            0.349177            0.322530            0.420544   \n",
       "19            0.349293            0.322547            0.429043   \n",
       "20            0.349457            0.339269            0.429109   \n",
       "21            0.358675            0.339882            0.429154   \n",
       "22            0.358923            0.339928            0.429156   \n",
       "23            0.358928            0.339961            0.429188   \n",
       "24            0.358936            0.339983            0.429192   \n",
       "25            0.363598            0.340058            0.438483   \n",
       "26            0.409019            0.382040            0.438804   \n",
       "27            0.756778            0.634692            0.439599   \n",
       "28            0.766810            0.636640            0.439602   \n",
       "29            0.767121            0.780044            0.799851   \n",
       "30            0.801285            0.780143            0.800157   \n",
       "31            0.801513            0.810531            0.826912   \n",
       "32            0.801515            0.812646            0.827371   \n",
       "33            0.804257            0.816278            0.831453   \n",
       "34            0.804263            0.819992            0.831460   \n",
       "35            0.820793            0.820024            0.840417   \n",
       "36            0.821262            0.824368            0.845388   \n",
       "37            0.822580            0.831290            0.845417   \n",
       "38            0.822655            0.832772            0.850616   \n",
       "39            0.826346            0.835763            0.852213   \n",
       "40            0.829123            0.836179            0.857931   \n",
       "41            0.829550            0.836185            0.858550   \n",
       "42            0.829605            0.836187            0.858647   \n",
       "43            0.829841            0.836187            0.859536   \n",
       "44            0.830462            0.838346            0.859777   \n",
       "45            0.830469            0.838351            0.859831   \n",
       "46            0.830894            0.838354            0.859862   \n",
       "47            0.830900            0.838492            0.859862   \n",
       "48            0.832119            0.838559            0.859866   \n",
       "49            0.832119            0.838572            0.859997   \n",
       "\n",
       "    split3_train_score  split4_train_score  mean_train_score  std_train_score  \n",
       "0             0.155682            0.160952          0.136085         0.024243  \n",
       "1             0.173933            0.248825          0.191611         0.049182  \n",
       "2             0.196350            0.313894          0.240493         0.072905  \n",
       "3             0.269696            0.334244          0.267604         0.077488  \n",
       "4             0.305091            0.334245          0.288180         0.064321  \n",
       "5             0.305738            0.376996          0.311175         0.058226  \n",
       "6             0.338096            0.378055          0.329829         0.039631  \n",
       "7             0.339525            0.381026          0.338170         0.034931  \n",
       "8             0.348059            0.382541          0.344785         0.039340  \n",
       "9             0.360441            0.382802          0.348985         0.041121  \n",
       "10            0.360703            0.404258          0.353901         0.045742  \n",
       "11            0.361389            0.412964          0.356887         0.046905  \n",
       "12            0.362992            0.415150          0.358311         0.047469  \n",
       "13            0.369637            0.420896          0.363708         0.050055  \n",
       "14            0.370631            0.421820          0.366281         0.047580  \n",
       "15            0.370986            0.421858          0.368833         0.046507  \n",
       "16            0.372562            0.422822          0.374991         0.041690  \n",
       "17            0.375498            0.424431          0.377377         0.040983  \n",
       "18            0.375815            0.424487          0.378511         0.039705  \n",
       "19            0.376247            0.433865          0.382199         0.043682  \n",
       "20            0.376775            0.435152          0.385952         0.039695  \n",
       "21            0.377001            0.435184          0.387979         0.037990  \n",
       "22            0.395097            0.435277          0.391676         0.037598  \n",
       "23            0.396538            0.435309          0.391985         0.037632  \n",
       "24            0.396546            0.435346          0.392001         0.037634  \n",
       "25            0.396821            0.435929          0.394978         0.038920  \n",
       "26            0.437565            0.483743          0.430234         0.033950  \n",
       "27            0.794577            0.484657          0.622061         0.141592  \n",
       "28            0.795838            0.782902          0.684358         0.134996  \n",
       "29            0.796092            0.783371          0.785296         0.011747  \n",
       "30            0.796559            0.793197          0.794268         0.007613  \n",
       "31            0.816471            0.824144          0.815914         0.009223  \n",
       "32            0.841253            0.824802          0.821517         0.013516  \n",
       "33            0.842522            0.832761          0.825454         0.013522  \n",
       "34            0.843409            0.833742          0.826573         0.013415  \n",
       "35            0.843411            0.834406          0.831810         0.009754  \n",
       "36            0.848892            0.842662          0.836515         0.011401  \n",
       "37            0.848964            0.843196          0.838289         0.009845  \n",
       "38            0.852996            0.843458          0.840499         0.011361  \n",
       "39            0.857282            0.843476          0.843016         0.011125  \n",
       "40            0.857412            0.844743          0.845078         0.011412  \n",
       "41            0.860370            0.844749          0.845881         0.012103  \n",
       "42            0.860374            0.845657          0.846094         0.012097  \n",
       "43            0.861047            0.845980          0.846518         0.012375  \n",
       "44            0.861071            0.845986          0.847128         0.011921  \n",
       "45            0.861276            0.846279          0.847241         0.011973  \n",
       "46            0.861278            0.846281          0.847334         0.011861  \n",
       "47            0.861383            0.846321          0.847392         0.011862  \n",
       "48            0.861408            0.846321          0.847655         0.011525  \n",
       "49            0.861427            0.847790          0.847981         0.011536  \n",
       "\n",
       "[50 rows x 21 columns]"
      ]
     },
     "execution_count": 38,
     "metadata": {},
     "output_type": "execute_result"
    }
   ],
   "source": [
    "cv_results = pd.DataFrame(model_cv.cv_results_)\n",
    "cv_results"
   ]
  },
  {
   "cell_type": "code",
   "execution_count": 39,
   "id": "a8913d8a",
   "metadata": {
    "hidden": true
   },
   "outputs": [
    {
     "data": {
      "text/plain": [
       "<matplotlib.legend.Legend at 0x7fcb89f4e430>"
      ]
     },
     "execution_count": 39,
     "metadata": {},
     "output_type": "execute_result"
    },
    {
     "data": {
      "image/png": "[encoded data removed]",
      "text/plain": [
       "<Figure size 1152x432 with 1 Axes>"
      ]
     },
     "metadata": {},
     "output_type": "display_data"
    }
   ],
   "source": [
    "plt.figure(figsize=(16,6))\n",
    "\n",
    "plt.plot(cv_results[\"param_n_features_to_select\"], cv_results[\"mean_test_score\"])\n",
    "plt.plot(cv_results[\"param_n_features_to_select\"], cv_results[\"mean_train_score\"])\n",
    "plt.xlabel('number of features')\n",
    "plt.ylabel('$R^2$')\n",
    "plt.xticks(range(0,51,2))\n",
    "plt.title(\"Optimal Number of Features, Cluster 1\")\n",
    "plt.legend(['test score', 'train score'], loc='upper left')"
   ]
  },
  {
   "cell_type": "markdown",
   "id": "1d9dd3bb",
   "metadata": {
    "hidden": true
   },
   "source": [
    "The optimal number of features in cluster 1 seems to be at 36."
   ]
  },
  {
   "cell_type": "code",
   "execution_count": 40,
   "id": "ad17af41",
   "metadata": {
    "hidden": true
   },
   "outputs": [
    {
     "name": "stdout",
     "output_type": "stream",
     "text": [
      "Train R2 for linear regression on cluster 1: 0.8226\n",
      "Test R2 for linear regression on cluster 1: 0.6274\n"
     ]
    }
   ],
   "source": [
    "n_features_optimal = 36\n",
    "\n",
    "lr = LinearRegression()\n",
    "lr.fit(X_train, y_train)\n",
    "\n",
    "rfe = RFE(lr, n_features_to_select = n_features_optimal)             \n",
    "rfe = rfe.fit(X_train, y_train)\n",
    "\n",
    "# predict prices of X_test\n",
    "y_pred = rfe.predict(X_test)\n",
    "\n",
    "# check r2 score\n",
    "r2 = r2_score(y_test, y_pred)\n",
    "print(f'Train R2 for linear regression on cluster 1: {r2_score(y_train,rfe.predict(X_train)).round(4)}') \n",
    "print(f'Test R2 for linear regression on cluster 1: {r2.round(4)}')"
   ]
  },
  {
   "cell_type": "markdown",
   "id": "52201c0d",
   "metadata": {
    "hidden": true
   },
   "source": [
    "Cross-validated score"
   ]
  },
  {
   "cell_type": "code",
   "execution_count": 41,
   "id": "99d9053b",
   "metadata": {
    "hidden": true
   },
   "outputs": [
    {
     "name": "stdout",
     "output_type": "stream",
     "text": [
      "Cross-validated R2 score on cluster 1:\n"
     ]
    },
    {
     "data": {
      "text/plain": [
       "0.6397"
      ]
     },
     "execution_count": 41,
     "metadata": {},
     "output_type": "execute_result"
    }
   ],
   "source": [
    "# Cluster 1\n",
    "print('Cross-validated R2 score on cluster 1:')\n",
    "cross_val_score(rfe, cluster1.drop(['median_price 2021 Q1'],axis=1), # X\n",
    "                        cluster1['median_price 2021 Q1'],            # y \n",
    "                        cv=KFold(n_splits=5, shuffle=True, random_state=42)).mean().round(4)"
   ]
  },
  {
   "cell_type": "markdown",
   "id": "415c8868",
   "metadata": {
    "hidden": true
   },
   "source": [
    "### Conclusion"
   ]
  },
  {
   "cell_type": "markdown",
   "id": "9d4f5c70",
   "metadata": {},
   "source": [
    "# Classification\n",
    "\n",
    "Aside from predicting the house price, we're curious to see if we can predict the postcodes that will grow more than 5% on the following quarter"
   ]
  },
  {
   "cell_type": "code",
   "execution_count": 5,
   "id": "9f0c3c73",
   "metadata": {},
   "outputs": [],
   "source": [
    "# Read Data\n",
    "modelDF = pd.read_csv(\"Files/Cleaned/Postcode-based/Unstacked_Transformed.csv\",\n",
    "                     index_col=\"postcode\")"
   ]
  },
  {
   "cell_type": "code",
   "execution_count": 6,
   "id": "9223599d",
   "metadata": {},
   "outputs": [
    {
     "name": "stdout",
     "output_type": "stream",
     "text": [
      "(573, 47)\n"
     ]
    },
    {
     "data": {
      "text/html": [
       "<div>\n",
       "<style scoped>\n",
       "    .dataframe tbody tr th:only-of-type {\n",
       "        vertical-align: middle;\n",
       "    }\n",
       "\n",
       "    .dataframe tbody tr th {\n",
       "        vertical-align: top;\n",
       "    }\n",
       "\n",
       "    .dataframe thead th {\n",
       "        text-align: right;\n",
       "    }\n",
       "</style>\n",
       "<table border=\"1\" class=\"dataframe\">\n",
       "  <thead>\n",
       "    <tr style=\"text-align: right;\">\n",
       "      <th></th>\n",
       "      <th>median_price 2020 Q1</th>\n",
       "      <th>median_price 2020 Q2</th>\n",
       "      <th>median_price 2020 Q3</th>\n",
       "      <th>median_price 2020 Q4</th>\n",
       "      <th>median_price 2021 Q1</th>\n",
       "      <th>median_rent_newb 2020 Q1</th>\n",
       "      <th>median_rent_newb 2020 Q2</th>\n",
       "      <th>median_rent_newb 2020 Q3</th>\n",
       "      <th>median_rent_newb 2020 Q4</th>\n",
       "      <th>median_rent_newb 2021 Q1</th>\n",
       "      <th>new_bonds_no 2020 Q1</th>\n",
       "      <th>new_bonds_no 2020 Q2</th>\n",
       "      <th>new_bonds_no 2020 Q3</th>\n",
       "      <th>new_bonds_no 2020 Q4</th>\n",
       "      <th>new_bonds_no 2021 Q1</th>\n",
       "      <th>sales_no 2020 Q1</th>\n",
       "      <th>sales_no 2020 Q2</th>\n",
       "      <th>sales_no 2020 Q3</th>\n",
       "      <th>sales_no 2020 Q4</th>\n",
       "      <th>sales_no 2021 Q1</th>\n",
       "      <th>total_bonds_no 2020 Q1</th>\n",
       "      <th>total_bonds_no 2020 Q2</th>\n",
       "      <th>total_bonds_no 2020 Q3</th>\n",
       "      <th>total_bonds_no 2020 Q4</th>\n",
       "      <th>total_bonds_no 2021 Q1</th>\n",
       "      <th>population_2016</th>\n",
       "      <th>INCP_LOW_Prop</th>\n",
       "      <th>INCP_MID_Prop</th>\n",
       "      <th>INCP_HIGH_Prop</th>\n",
       "      <th>CPRF_2_Prop</th>\n",
       "      <th>CPRF_3_Prop</th>\n",
       "      <th>CPRF_4_Prop</th>\n",
       "      <th>CPRF_5_Prop</th>\n",
       "      <th>CPRF_6+_Prop</th>\n",
       "      <th>CPRF_HHOLD_NO_Prop</th>\n",
       "      <th>0-4yo_Prop</th>\n",
       "      <th>5-14yo_Prop</th>\n",
       "      <th>15-24yo_Prop</th>\n",
       "      <th>25-34yo_Prop</th>\n",
       "      <th>35-54yo_Prop</th>\n",
       "      <th>55-64yo_Prop</th>\n",
       "      <th>citizen_non_AU_Prop</th>\n",
       "      <th>YARRP &lt;1975_Prop</th>\n",
       "      <th>YARRP 1976-1995_Prop</th>\n",
       "      <th>YARRP 1996-2005_Prop</th>\n",
       "      <th>YARRP 2006-2016_Prop</th>\n",
       "      <th>ATSI_Prop</th>\n",
       "    </tr>\n",
       "    <tr>\n",
       "      <th>postcode</th>\n",
       "      <th></th>\n",
       "      <th></th>\n",
       "      <th></th>\n",
       "      <th></th>\n",
       "      <th></th>\n",
       "      <th></th>\n",
       "      <th></th>\n",
       "      <th></th>\n",
       "      <th></th>\n",
       "      <th></th>\n",
       "      <th></th>\n",
       "      <th></th>\n",
       "      <th></th>\n",
       "      <th></th>\n",
       "      <th></th>\n",
       "      <th></th>\n",
       "      <th></th>\n",
       "      <th></th>\n",
       "      <th></th>\n",
       "      <th></th>\n",
       "      <th></th>\n",
       "      <th></th>\n",
       "      <th></th>\n",
       "      <th></th>\n",
       "      <th></th>\n",
       "      <th></th>\n",
       "      <th></th>\n",
       "      <th></th>\n",
       "      <th></th>\n",
       "      <th></th>\n",
       "      <th></th>\n",
       "      <th></th>\n",
       "      <th></th>\n",
       "      <th></th>\n",
       "      <th></th>\n",
       "      <th></th>\n",
       "      <th></th>\n",
       "      <th></th>\n",
       "      <th></th>\n",
       "      <th></th>\n",
       "      <th></th>\n",
       "      <th></th>\n",
       "      <th></th>\n",
       "      <th></th>\n",
       "      <th></th>\n",
       "      <th></th>\n",
       "      <th></th>\n",
       "    </tr>\n",
       "  </thead>\n",
       "  <tbody>\n",
       "    <tr>\n",
       "      <th>2000</th>\n",
       "      <td>1225.0</td>\n",
       "      <td>1000.0</td>\n",
       "      <td>1390.0</td>\n",
       "      <td>1110.0</td>\n",
       "      <td>1371.0</td>\n",
       "      <td>700.0</td>\n",
       "      <td>630.0</td>\n",
       "      <td>600.0</td>\n",
       "      <td>550.0</td>\n",
       "      <td>600.0</td>\n",
       "      <td>1230.0</td>\n",
       "      <td>931.0</td>\n",
       "      <td>1809.0</td>\n",
       "      <td>1705.0</td>\n",
       "      <td>1469.0</td>\n",
       "      <td>105.0</td>\n",
       "      <td>74.0</td>\n",
       "      <td>100.0</td>\n",
       "      <td>155.0</td>\n",
       "      <td>184.0</td>\n",
       "      <td>8615.0</td>\n",
       "      <td>7595.0</td>\n",
       "      <td>8069.0</td>\n",
       "      <td>9140.0</td>\n",
       "      <td>9327.0</td>\n",
       "      <td>27411.0</td>\n",
       "      <td>0.339535</td>\n",
       "      <td>0.194046</td>\n",
       "      <td>0.143337</td>\n",
       "      <td>0.125971</td>\n",
       "      <td>0.031265</td>\n",
       "      <td>0.012915</td>\n",
       "      <td>0.00197</td>\n",
       "      <td>0.000766</td>\n",
       "      <td>0.469191</td>\n",
       "      <td>0.025464</td>\n",
       "      <td>0.020138</td>\n",
       "      <td>0.212725</td>\n",
       "      <td>0.389479</td>\n",
       "      <td>0.229762</td>\n",
       "      <td>0.060924</td>\n",
       "      <td>0.534895</td>\n",
       "      <td>0.019153</td>\n",
       "      <td>0.058006</td>\n",
       "      <td>0.079348</td>\n",
       "      <td>0.475101</td>\n",
       "      <td>0.001934</td>\n",
       "    </tr>\n",
       "  </tbody>\n",
       "</table>\n",
       "</div>"
      ],
      "text/plain": [
       "          median_price 2020 Q1  median_price 2020 Q2  median_price 2020 Q3  \\\n",
       "postcode                                                                     \n",
       "2000                    1225.0                1000.0                1390.0   \n",
       "\n",
       "          median_price 2020 Q4  median_price 2021 Q1  \\\n",
       "postcode                                               \n",
       "2000                    1110.0                1371.0   \n",
       "\n",
       "          median_rent_newb 2020 Q1  median_rent_newb 2020 Q2  \\\n",
       "postcode                                                       \n",
       "2000                         700.0                     630.0   \n",
       "\n",
       "          median_rent_newb 2020 Q3  median_rent_newb 2020 Q4  \\\n",
       "postcode                                                       \n",
       "2000                         600.0                     550.0   \n",
       "\n",
       "          median_rent_newb 2021 Q1  new_bonds_no 2020 Q1  \\\n",
       "postcode                                                   \n",
       "2000                         600.0                1230.0   \n",
       "\n",
       "          new_bonds_no 2020 Q2  new_bonds_no 2020 Q3  new_bonds_no 2020 Q4  \\\n",
       "postcode                                                                     \n",
       "2000                     931.0                1809.0                1705.0   \n",
       "\n",
       "          new_bonds_no 2021 Q1  sales_no 2020 Q1  sales_no 2020 Q2  \\\n",
       "postcode                                                             \n",
       "2000                    1469.0             105.0              74.0   \n",
       "\n",
       "          sales_no 2020 Q3  sales_no 2020 Q4  sales_no 2021 Q1  \\\n",
       "postcode                                                         \n",
       "2000                 100.0             155.0             184.0   \n",
       "\n",
       "          total_bonds_no 2020 Q1  total_bonds_no 2020 Q2  \\\n",
       "postcode                                                   \n",
       "2000                      8615.0                  7595.0   \n",
       "\n",
       "          total_bonds_no 2020 Q3  total_bonds_no 2020 Q4  \\\n",
       "postcode                                                   \n",
       "2000                      8069.0                  9140.0   \n",
       "\n",
       "          total_bonds_no 2021 Q1  population_2016  INCP_LOW_Prop  \\\n",
       "postcode                                                           \n",
       "2000                      9327.0          27411.0       0.339535   \n",
       "\n",
       "          INCP_MID_Prop  INCP_HIGH_Prop  CPRF_2_Prop  CPRF_3_Prop  \\\n",
       "postcode                                                            \n",
       "2000           0.194046        0.143337     0.125971     0.031265   \n",
       "\n",
       "          CPRF_4_Prop  CPRF_5_Prop  CPRF_6+_Prop  CPRF_HHOLD_NO_Prop  \\\n",
       "postcode                                                               \n",
       "2000         0.012915      0.00197      0.000766            0.469191   \n",
       "\n",
       "          0-4yo_Prop  5-14yo_Prop  15-24yo_Prop  25-34yo_Prop  35-54yo_Prop  \\\n",
       "postcode                                                                      \n",
       "2000        0.025464     0.020138      0.212725      0.389479      0.229762   \n",
       "\n",
       "          55-64yo_Prop  citizen_non_AU_Prop  YARRP <1975_Prop  \\\n",
       "postcode                                                        \n",
       "2000          0.060924             0.534895          0.019153   \n",
       "\n",
       "          YARRP 1976-1995_Prop  YARRP 1996-2005_Prop  YARRP 2006-2016_Prop  \\\n",
       "postcode                                                                     \n",
       "2000                  0.058006              0.079348              0.475101   \n",
       "\n",
       "          ATSI_Prop  \n",
       "postcode             \n",
       "2000       0.001934  "
      ]
     },
     "execution_count": 6,
     "metadata": {},
     "output_type": "execute_result"
    }
   ],
   "source": [
    "# Remove interest rate, bond yields (they're the same for all postcodes)\n",
    "modelDF = modelDF.iloc[:, np.r_[0:30, [48], 96:121]] # this is for keeping trans-variables\n",
    "# modelDF = modelDF.iloc[:, np.r_[0:56]] # this is for keeping original variables\n",
    "\n",
    "# Drop mean price columns\n",
    "modelDF = modelDF.drop([\"mean_price 2020 Q1\", \"mean_price 2020 Q2\", \"mean_price 2020 Q3\",\n",
    "                        \"mean_price 2020 Q4\", \"mean_price 2021 Q1\"],axis=1)\n",
    "\n",
    "# Drop one category from each feature group\n",
    "modelDF = modelDF.drop(columns=['INCP_NEG_NIL_Prop', \n",
    "                                 '65+yo_Prop',\n",
    "                                 'CPRF_na_Prop',\n",
    "                                 'citizen_AU_Prop'],axis=1)\n",
    "\n",
    "print(modelDF.shape)\n",
    "pd.set_option('display.max_columns', None)\n",
    "modelDF.head(1)"
   ]
  },
  {
   "cell_type": "markdown",
   "id": "3b4384c3",
   "metadata": {},
   "source": [
    "## Assign class label - define 'high growth potential' areas"
   ]
  },
  {
   "cell_type": "markdown",
   "id": "99412121",
   "metadata": {},
   "source": [
    "Calculate growth rate of median house price for each quarter to draw the line of high/low growth potential."
   ]
  },
  {
   "cell_type": "code",
   "execution_count": 7,
   "id": "9eae0da0",
   "metadata": {
    "scrolled": true
   },
   "outputs": [
    {
     "data": {
      "text/html": [
       "<div>\n",
       "<style scoped>\n",
       "    .dataframe tbody tr th:only-of-type {\n",
       "        vertical-align: middle;\n",
       "    }\n",
       "\n",
       "    .dataframe tbody tr th {\n",
       "        vertical-align: top;\n",
       "    }\n",
       "\n",
       "    .dataframe thead th {\n",
       "        text-align: right;\n",
       "    }\n",
       "</style>\n",
       "<table border=\"1\" class=\"dataframe\">\n",
       "  <thead>\n",
       "    <tr style=\"text-align: right;\">\n",
       "      <th></th>\n",
       "      <th>gr_20Q2</th>\n",
       "      <th>gr_20Q3</th>\n",
       "      <th>gr_20Q4</th>\n",
       "      <th>gr_21Q1</th>\n",
       "      <th>gr_annual</th>\n",
       "    </tr>\n",
       "  </thead>\n",
       "  <tbody>\n",
       "    <tr>\n",
       "      <th>count</th>\n",
       "      <td>573.00</td>\n",
       "      <td>573.00</td>\n",
       "      <td>573.00</td>\n",
       "      <td>573.00</td>\n",
       "      <td>573.00</td>\n",
       "    </tr>\n",
       "    <tr>\n",
       "      <th>mean</th>\n",
       "      <td>2.85</td>\n",
       "      <td>2.08</td>\n",
       "      <td>6.22</td>\n",
       "      <td>6.81</td>\n",
       "      <td>9.18</td>\n",
       "    </tr>\n",
       "    <tr>\n",
       "      <th>std</th>\n",
       "      <td>25.27</td>\n",
       "      <td>31.87</td>\n",
       "      <td>36.38</td>\n",
       "      <td>39.58</td>\n",
       "      <td>30.91</td>\n",
       "    </tr>\n",
       "    <tr>\n",
       "      <th>min</th>\n",
       "      <td>-76.17</td>\n",
       "      <td>-82.76</td>\n",
       "      <td>-86.19</td>\n",
       "      <td>-82.40</td>\n",
       "      <td>-81.70</td>\n",
       "    </tr>\n",
       "    <tr>\n",
       "      <th>25%</th>\n",
       "      <td>-3.62</td>\n",
       "      <td>-2.88</td>\n",
       "      <td>-0.38</td>\n",
       "      <td>0.00</td>\n",
       "      <td>4.17</td>\n",
       "    </tr>\n",
       "    <tr>\n",
       "      <th>50%</th>\n",
       "      <td>2.84</td>\n",
       "      <td>-0.14</td>\n",
       "      <td>1.24</td>\n",
       "      <td>3.75</td>\n",
       "      <td>7.87</td>\n",
       "    </tr>\n",
       "    <tr>\n",
       "      <th>75%</th>\n",
       "      <td>3.72</td>\n",
       "      <td>5.44</td>\n",
       "      <td>7.83</td>\n",
       "      <td>10.01</td>\n",
       "      <td>16.92</td>\n",
       "    </tr>\n",
       "    <tr>\n",
       "      <th>max</th>\n",
       "      <td>373.48</td>\n",
       "      <td>435.31</td>\n",
       "      <td>486.40</td>\n",
       "      <td>660.50</td>\n",
       "      <td>300.71</td>\n",
       "    </tr>\n",
       "  </tbody>\n",
       "</table>\n",
       "</div>"
      ],
      "text/plain": [
       "       gr_20Q2  gr_20Q3  gr_20Q4  gr_21Q1  gr_annual\n",
       "count   573.00   573.00   573.00   573.00     573.00\n",
       "mean      2.85     2.08     6.22     6.81       9.18\n",
       "std      25.27    31.87    36.38    39.58      30.91\n",
       "min     -76.17   -82.76   -86.19   -82.40     -81.70\n",
       "25%      -3.62    -2.88    -0.38     0.00       4.17\n",
       "50%       2.84    -0.14     1.24     3.75       7.87\n",
       "75%       3.72     5.44     7.83    10.01      16.92\n",
       "max     373.48   435.31   486.40   660.50     300.71"
      ]
     },
     "execution_count": 7,
     "metadata": {},
     "output_type": "execute_result"
    }
   ],
   "source": [
    "# Growth rate Q1-Q2 2020\n",
    "modelDF['gr_20Q2'] = ((modelDF['median_price 2020 Q2']/modelDF['median_price 2020 Q1'])-1)*100\n",
    "\n",
    "# Growth rate Q2-Q3 2020\n",
    "modelDF['gr_20Q3'] = ((modelDF['median_price 2020 Q3']/modelDF['median_price 2020 Q2'])-1)*100\n",
    "\n",
    "# Growth rate Q3-Q4 2020\n",
    "modelDF['gr_20Q4'] = ((modelDF['median_price 2020 Q4']/modelDF['median_price 2020 Q3'])-1)*100\n",
    "\n",
    "# Growth rate Q4 2020 - Q1 2020\n",
    "modelDF['gr_21Q1'] = ((modelDF['median_price 2021 Q1']/modelDF['median_price 2020 Q4'])-1)*100\n",
    "\n",
    "# Annual growth rate Q1 2020 - Q1 2021\n",
    "modelDF['gr_annual'] = ((modelDF['median_price 2021 Q1']/modelDF['median_price 2020 Q1'])-1)*100\n",
    "\n",
    "modelDF.iloc[:,47:52].describe().round(2)"
   ]
  },
  {
   "cell_type": "markdown",
   "id": "aed4dd1b",
   "metadata": {},
   "source": [
    "As we can see from the above summary table, the range of house price changes is fairly large. In certain area, the median price increased 6 folds in Q1 2021. However, it would be irrational to only consider such dramatic increase as 'high growth'. \n",
    "\n",
    "The **mean** and **50% (median)** of growth rates would give us a better idea of the general trends in the market - we could see the growth started to accelerate in Q4 last year and continued to hold strong in 2021 with an average of **6.81%** and a median of **3.75%**. And due to the extreme cases on the higher ends, average is always more 'inflated' than median for all four time periods.\n",
    "\n",
    "Hence, we'd like to set the threshold **between the mean and median growth rate of the last known period (Q1 2021) at 5%**, classify postcodes whose median price increasing by greater than or equal 5% as **'high growth'** and those less than 5% as 'low growth' areas, and build a classifier to predict the growth potential (binary class) of each postcode in the future time period.\n",
    "\n",
    "We will create a class variable `high_growth`, and assign label 1 or 0 to each row based on the previously calculated `gr_21Q1` according to above stated rule."
   ]
  },
  {
   "cell_type": "code",
   "execution_count": 8,
   "id": "38fbefe9",
   "metadata": {},
   "outputs": [
    {
     "name": "stdout",
     "output_type": "stream",
     "text": [
      "Percentage of high growth and low growth areas:\n"
     ]
    },
    {
     "data": {
      "text/html": [
       "<div>\n",
       "<style scoped>\n",
       "    .dataframe tbody tr th:only-of-type {\n",
       "        vertical-align: middle;\n",
       "    }\n",
       "\n",
       "    .dataframe tbody tr th {\n",
       "        vertical-align: top;\n",
       "    }\n",
       "\n",
       "    .dataframe thead th {\n",
       "        text-align: right;\n",
       "    }\n",
       "</style>\n",
       "<table border=\"1\" class=\"dataframe\">\n",
       "  <thead>\n",
       "    <tr style=\"text-align: right;\">\n",
       "      <th></th>\n",
       "      <th>high_growth</th>\n",
       "    </tr>\n",
       "  </thead>\n",
       "  <tbody>\n",
       "    <tr>\n",
       "      <th>0</th>\n",
       "      <td>59.0</td>\n",
       "    </tr>\n",
       "    <tr>\n",
       "      <th>1</th>\n",
       "      <td>41.0</td>\n",
       "    </tr>\n",
       "  </tbody>\n",
       "</table>\n",
       "</div>"
      ],
      "text/plain": [
       "   high_growth\n",
       "0         59.0\n",
       "1         41.0"
      ]
     },
     "execution_count": 8,
     "metadata": {},
     "output_type": "execute_result"
    }
   ],
   "source": [
    "# Create class variable and assign class label\n",
    "modelDF['high_growth'] = np.where(modelDF.gr_21Q1 >= 5,'1','0')\n",
    "\n",
    "print('Percentage of high growth and low growth areas:')\n",
    "pd.DataFrame(modelDF['high_growth'].value_counts(normalize=True).round(3)*100)"
   ]
  },
  {
   "cell_type": "markdown",
   "id": "6eea86da",
   "metadata": {},
   "source": [
    "In our book, 41% of postal areas are considered 'high growth' areas and 59% 'low growth' areas. \n",
    "\n",
    "This **59%** is considered our **'chance accuracy'**, i.e., without learning, our model would simply classify all cases into 'low growth', the majority class, and have an accuracy of 59%, which will serve as the baseline for the classifiers we buil in later sections. Ideally, we should expect greater accuracy than 59% (the greater the better!) from our trained models."
   ]
  },
  {
   "cell_type": "markdown",
   "id": "ecf8d13e",
   "metadata": {},
   "source": [
    "## Random Forest Classifier"
   ]
  },
  {
   "cell_type": "markdown",
   "id": "51463124",
   "metadata": {},
   "source": [
    "###  Base model"
   ]
  },
  {
   "cell_type": "markdown",
   "id": "3b202931",
   "metadata": {},
   "source": [
    "Use __Random Forect Classifier__ and train_test_split to check the accuracy score for predicting if a postcode grew more than the mean growth rate."
   ]
  },
  {
   "cell_type": "code",
   "execution_count": 9,
   "id": "5bcf7a54",
   "metadata": {},
   "outputs": [],
   "source": [
    "# Train-test split\n",
    "X = modelDF.drop(['median_price 2021 Q1', 'high_growth','gr_annual','gr_21Q1'],axis=1)\n",
    "y = modelDF['high_growth']\n",
    "X_train, X_test, y_train, y_test = train_test_split(X, y , random_state=123, test_size=.2, \n",
    "                                                    stratify = modelDF['high_growth'])"
   ]
  },
  {
   "cell_type": "code",
   "execution_count": 10,
   "id": "c75a061b",
   "metadata": {},
   "outputs": [],
   "source": [
    "# Model with Random Forest\n",
    "rfc = RandomForestClassifier(random_state=123)\n",
    "rfc.fit(X_train,y_train)\n",
    "ypredRFC = rfc.predict(X_test)"
   ]
  },
  {
   "cell_type": "code",
   "execution_count": 11,
   "id": "49bac611",
   "metadata": {},
   "outputs": [
    {
     "name": "stdout",
     "output_type": "stream",
     "text": [
      "Accuracy score on test data: 68.7 %\n",
      "Recall of the default random forest classifier: 65.96 %\n",
      "Precision of the default random forest classifier: 60.78 %\n"
     ]
    }
   ],
   "source": [
    "# Get model diagnostics\n",
    "print('Accuracy score on test data:',accuracy_score(ypredRFC, y_test).round(4)*100,'%') #Accuracy\n",
    "\n",
    "cm_rf1 = confusion_matrix(y_test, ypredRFC)\n",
    "rec_rf1 = 100*cm_rf1[1][1] / (cm_rf1[1][1] + cm_rf1[1][0])\n",
    "prec_rf1 = 100*cm_rf1[1][1] / (cm_rf1[1][1] + cm_rf1[0][1])\n",
    "\n",
    "print('Recall of the default random forest classifier: %.2f' % rec_rf1,'%')\n",
    "print('Precision of the default random forest classifier: %.2f' % prec_rf1,'%')"
   ]
  },
  {
   "cell_type": "markdown",
   "id": "70b70d59",
   "metadata": {},
   "source": [
    "### Cross-validation"
   ]
  },
  {
   "cell_type": "markdown",
   "id": "4ca05f05",
   "metadata": {},
   "source": [
    "Use cross-validation to test the data thoroughly"
   ]
  },
  {
   "cell_type": "code",
   "execution_count": 12,
   "id": "b75c81eb",
   "metadata": {},
   "outputs": [
    {
     "name": "stdout",
     "output_type": "stream",
     "text": [
      "Using cross-validation\n",
      "Average accuracy is: 68.94 %\n",
      "STDEV: 0.0225\n"
     ]
    }
   ],
   "source": [
    "rfc = RandomForestClassifier(random_state=123)\n",
    "scoreRFC = cross_val_score(rfc, X, y, scoring='accuracy',\n",
    "                           cv=StratifiedKFold(n_splits=5, shuffle=True, random_state=123))\n",
    "\n",
    "print('Using cross-validation\\nAverage accuracy is:',scoreRFC.mean().round(4)*100,'%')\n",
    "print('STDEV:',scoreRFC.std().round(4))"
   ]
  },
  {
   "cell_type": "code",
   "execution_count": 13,
   "id": "5c40862d",
   "metadata": {},
   "outputs": [
    {
     "name": "stdout",
     "output_type": "stream",
     "text": [
      "Recall of the random forest classifier (validated): 63.83 %\n",
      "Precision of the random forest classifier (validated): 61.73 %\n"
     ]
    }
   ],
   "source": [
    "y_pred_cv = cross_val_predict(rfc, X, y, \n",
    "                              cv=StratifiedKFold(n_splits=5, shuffle=True, random_state=123))\n",
    "\n",
    "cm_rf2 = confusion_matrix(y, y_pred_cv)\n",
    "rec_rf2 = 100*cm_rf2[1][1] / (cm_rf2[1][1] + cm_rf2[1][0])\n",
    "prec_rf2 = 100*cm_rf2[1][1] / (cm_rf2[1][1] + cm_rf2[0][1])\n",
    "\n",
    "print('Recall of the random forest classifier (validated): %.2f' % rec_rf2,'%')\n",
    "print('Precision of the random forest classifier (validated): %.2f' % prec_rf2,'%')"
   ]
  },
  {
   "cell_type": "code",
   "execution_count": 14,
   "id": "409ce4c6",
   "metadata": {},
   "outputs": [
    {
     "data": {
      "image/png": "[encoded data removed]",
      "text/plain": [
       "<Figure size 360x360 with 2 Axes>"
      ]
     },
     "metadata": {
      "needs_background": "light"
     },
     "output_type": "display_data"
    }
   ],
   "source": [
    "# Plot Confusion Matrix\n",
    "plt.figure(figsize=(5,5))\n",
    "ax = sns.heatmap(cm_rf2/cm_rf2.astype(float).sum(axis=1), \n",
    "                 annot=True, fmt=\".2%\", linewidths=.5, square = True, cmap = 'Blues')\n",
    "\n",
    "ax.set_title('Confusion matrix')\n",
    "ax.set_ylabel('Actual')\n",
    "ax.set_xlabel('Predicted')\n",
    "ax.xaxis.set_ticklabels(['0', '1'])\n",
    "ax.yaxis.set_ticklabels(['0', '1'])\n",
    "\n",
    "plt.show()"
   ]
  },
  {
   "cell_type": "markdown",
   "id": "1ee07cee",
   "metadata": {},
   "source": [
    "### Hyperparameter tuning"
   ]
  },
  {
   "cell_type": "markdown",
   "id": "f803dd54",
   "metadata": {},
   "source": [
    "Set up the parameters to tune"
   ]
  },
  {
   "cell_type": "code",
   "execution_count": 15,
   "id": "d67ceea4",
   "metadata": {},
   "outputs": [
    {
     "data": {
      "text/plain": [
       "GridSearchCV(cv=StratifiedKFold(n_splits=5, random_state=123, shuffle=True),\n",
       "             estimator=RandomForestClassifier(random_state=123), n_jobs=-1,\n",
       "             param_grid={'criterion': ['gini', 'entropy'],\n",
       "                         'max_depth': [2, 4, 6, 8, None],\n",
       "                         'max_features': ['auto', 'sqrt', 'log2'],\n",
       "                         'n_estimators': [100, 200, 500]})"
      ]
     },
     "execution_count": 15,
     "metadata": {},
     "output_type": "execute_result"
    }
   ],
   "source": [
    "parameters = { \n",
    "    'n_estimators': [100, 200, 500],\n",
    "    'max_features': ['auto', 'sqrt', 'log2'],\n",
    "    'max_depth' : [2,4,6,8,None],\n",
    "    'criterion' :['gini', 'entropy']\n",
    "}\n",
    "\n",
    "folds = StratifiedKFold(n_splits=5, shuffle=True, random_state=123)\n",
    "\n",
    "CV_rfc = GridSearchCV(estimator=rfc, param_grid=parameters, cv=folds, n_jobs=-1)\n",
    "CV_rfc.fit(X, y)"
   ]
  },
  {
   "cell_type": "markdown",
   "id": "d85f0171",
   "metadata": {},
   "source": [
    "See which are the best parameters"
   ]
  },
  {
   "cell_type": "code",
   "execution_count": 16,
   "id": "bd80b540",
   "metadata": {},
   "outputs": [
    {
     "name": "stdout",
     "output_type": "stream",
     "text": [
      "{'criterion': 'entropy', 'max_depth': 6, 'max_features': 'log2', 'n_estimators': 100}\n"
     ]
    },
    {
     "data": {
      "text/plain": [
       "RandomForestClassifier(criterion='entropy', max_depth=6, max_features='log2',\n",
       "                       random_state=123)"
      ]
     },
     "execution_count": 16,
     "metadata": {},
     "output_type": "execute_result"
    }
   ],
   "source": [
    "# Refit model with the selected best parameters\n",
    "\n",
    "print(CV_rfc.best_params_)\n",
    "rfc_best = RandomForestClassifier(random_state=123)\n",
    "rfc_best.set_params(**CV_rfc.best_params_)"
   ]
  },
  {
   "cell_type": "code",
   "execution_count": 17,
   "id": "979e7879",
   "metadata": {},
   "outputs": [
    {
     "name": "stdout",
     "output_type": "stream",
     "text": [
      "Using cross-validation\n",
      "Tuned average accuracy is: 70.86 %\n",
      "STDEV: 0.0225\n"
     ]
    }
   ],
   "source": [
    "# Get Accuracy score\n",
    "\n",
    "scoreRFC2 = cross_val_score(rfc_best, X, y,\n",
    "                           scoring='accuracy',\n",
    "                           cv=StratifiedKFold(n_splits=5, shuffle=True, random_state=123))\n",
    "\n",
    "print('Using cross-validation\\nTuned average accuracy is:',scoreRFC2.mean().round(4)*100,'%')\n",
    "print('STDEV:',scoreRFC.std().round(4))"
   ]
  },
  {
   "cell_type": "code",
   "execution_count": 18,
   "id": "e9f217e9",
   "metadata": {},
   "outputs": [
    {
     "name": "stdout",
     "output_type": "stream",
     "text": [
      "Recall of the tuned random forest classifier: 67.23 %\n",
      "Precision of the tuned random forest classifier: 63.71 %\n"
     ]
    }
   ],
   "source": [
    "y_pred = cross_val_predict(rfc_best, X, y, \n",
    "                              cv=StratifiedKFold(n_splits=5, shuffle=True, random_state=123))\n",
    "\n",
    "cm_rf3 = confusion_matrix(y, y_pred)\n",
    "rec_rf3 = 100*cm_rf3[1][1] / (cm_rf3[1][1] + cm_rf3[1][0])\n",
    "prec_rf3 = 100*cm_rf3[1][1] / (cm_rf3[1][1] + cm_rf3[0][1])\n",
    "\n",
    "print('Recall of the tuned random forest classifier: %.2f' % rec_rf3,'%')\n",
    "print('Precision of the tuned random forest classifier: %.2f' % prec_rf3,'%')"
   ]
  },
  {
   "cell_type": "code",
   "execution_count": 19,
   "id": "ebf560c8",
   "metadata": {},
   "outputs": [
    {
     "data": {
      "image/png": "[encoded data removed]",
      "text/plain": [
       "<Figure size 360x360 with 2 Axes>"
      ]
     },
     "metadata": {
      "needs_background": "light"
     },
     "output_type": "display_data"
    }
   ],
   "source": [
    "# Plot Confusion Matrix\n",
    "plt.figure(figsize=(5,5))\n",
    "ax = sns.heatmap(cm_rf3/cm_rf3.astype(float).sum(axis=1), \n",
    "                 annot=True, fmt=\".2%\", linewidths=.5, square = True, cmap = 'Blues')\n",
    "\n",
    "ax.set_title('Confusion matrix')\n",
    "ax.set_ylabel('Actual')\n",
    "ax.set_xlabel('Predicted')\n",
    "ax.xaxis.set_ticklabels(['0', '1'])\n",
    "ax.yaxis.set_ticklabels(['0', '1'])\n",
    "\n",
    "plt.show()"
   ]
  },
  {
   "cell_type": "markdown",
   "id": "5690b357",
   "metadata": {},
   "source": [
    "Store RFC predictions"
   ]
  },
  {
   "cell_type": "code",
   "execution_count": 20,
   "id": "8ef087a1",
   "metadata": {},
   "outputs": [],
   "source": [
    "rfc_best.fit(X,y)\n",
    "rfc_best_ypred = rfc_best.predict(X)"
   ]
  },
  {
   "cell_type": "markdown",
   "id": "34ffb3ef",
   "metadata": {},
   "source": [
    "### Check top 5 cheapest postcodes that are predicted to have high growth"
   ]
  },
  {
   "cell_type": "code",
   "execution_count": 21,
   "id": "f411d476",
   "metadata": {},
   "outputs": [
    {
     "data": {
      "text/html": [
       "<div>\n",
       "<style scoped>\n",
       "    .dataframe tbody tr th:only-of-type {\n",
       "        vertical-align: middle;\n",
       "    }\n",
       "\n",
       "    .dataframe tbody tr th {\n",
       "        vertical-align: top;\n",
       "    }\n",
       "\n",
       "    .dataframe thead th {\n",
       "        text-align: right;\n",
       "    }\n",
       "</style>\n",
       "<table border=\"1\" class=\"dataframe\">\n",
       "  <thead>\n",
       "    <tr style=\"text-align: right;\">\n",
       "      <th></th>\n",
       "      <th>median_price 2020 Q1</th>\n",
       "      <th>median_price 2020 Q2</th>\n",
       "      <th>median_price 2020 Q3</th>\n",
       "      <th>median_price 2020 Q4</th>\n",
       "      <th>median_price 2021 Q1</th>\n",
       "    </tr>\n",
       "    <tr>\n",
       "      <th>postcode</th>\n",
       "      <th></th>\n",
       "      <th></th>\n",
       "      <th></th>\n",
       "      <th></th>\n",
       "      <th></th>\n",
       "    </tr>\n",
       "  </thead>\n",
       "  <tbody>\n",
       "    <tr>\n",
       "      <th>2835</th>\n",
       "      <td>104.0</td>\n",
       "      <td>80.0</td>\n",
       "      <td>108.0</td>\n",
       "      <td>150.0</td>\n",
       "      <td>195.0</td>\n",
       "    </tr>\n",
       "    <tr>\n",
       "      <th>2700</th>\n",
       "      <td>128.0</td>\n",
       "      <td>135.0</td>\n",
       "      <td>180.0</td>\n",
       "      <td>200.0</td>\n",
       "      <td>230.0</td>\n",
       "    </tr>\n",
       "    <tr>\n",
       "      <th>2710</th>\n",
       "      <td>225.0</td>\n",
       "      <td>210.0</td>\n",
       "      <td>188.0</td>\n",
       "      <td>225.0</td>\n",
       "      <td>273.0</td>\n",
       "    </tr>\n",
       "    <tr>\n",
       "      <th>2370</th>\n",
       "      <td>195.0</td>\n",
       "      <td>252.0</td>\n",
       "      <td>210.0</td>\n",
       "      <td>256.0</td>\n",
       "      <td>275.0</td>\n",
       "    </tr>\n",
       "    <tr>\n",
       "      <th>2646</th>\n",
       "      <td>275.0</td>\n",
       "      <td>280.0</td>\n",
       "      <td>283.0</td>\n",
       "      <td>280.0</td>\n",
       "      <td>298.0</td>\n",
       "    </tr>\n",
       "  </tbody>\n",
       "</table>\n",
       "</div>"
      ],
      "text/plain": [
       "          median_price 2020 Q1  median_price 2020 Q2  median_price 2020 Q3  \\\n",
       "postcode                                                                     \n",
       "2835                     104.0                  80.0                 108.0   \n",
       "2700                     128.0                 135.0                 180.0   \n",
       "2710                     225.0                 210.0                 188.0   \n",
       "2370                     195.0                 252.0                 210.0   \n",
       "2646                     275.0                 280.0                 283.0   \n",
       "\n",
       "          median_price 2020 Q4  median_price 2021 Q1  \n",
       "postcode                                              \n",
       "2835                     150.0                 195.0  \n",
       "2700                     200.0                 230.0  \n",
       "2710                     225.0                 273.0  \n",
       "2370                     256.0                 275.0  \n",
       "2646                     280.0                 298.0  "
      ]
     },
     "execution_count": 21,
     "metadata": {},
     "output_type": "execute_result"
    }
   ],
   "source": [
    "modelDF['predicted'] = rfc_best_ypred\n",
    "cheap10 = modelDF[modelDF.predicted=='1'].sort_values('median_price 2021 Q1').head(10).filter(regex='median_price')\n",
    "cheap5 = cheap10[cheap10['median_price 2020 Q1']<600]\n",
    "cheap5"
   ]
  },
  {
   "cell_type": "code",
   "execution_count": 22,
   "id": "5187531d",
   "metadata": {},
   "outputs": [
    {
     "data": {
      "image/png": "[encoded data removed]",
      "text/plain": [
       "<Figure size 432x288 with 1 Axes>"
      ]
     },
     "metadata": {
      "needs_background": "light"
     },
     "output_type": "display_data"
    }
   ],
   "source": [
    "cheap5.transpose().plot()\n",
    "plt.xticks(rotation=90)\n",
    "plt.ylim(0,None)\n",
    "plt.title('Top 5 cheapest postcodes predicted to grow >5%')\n",
    "plt.show()"
   ]
  },
  {
   "cell_type": "markdown",
   "id": "23bddbdf",
   "metadata": {},
   "source": [
    "These are the top 5 cheapest postcodes that are predicted to have high growth."
   ]
  },
  {
   "cell_type": "code",
   "execution_count": 23,
   "id": "00a78e46",
   "metadata": {},
   "outputs": [
    {
     "data": {
      "text/html": [
       "<div>\n",
       "<style scoped>\n",
       "    .dataframe tbody tr th:only-of-type {\n",
       "        vertical-align: middle;\n",
       "    }\n",
       "\n",
       "    .dataframe tbody tr th {\n",
       "        vertical-align: top;\n",
       "    }\n",
       "\n",
       "    .dataframe thead th {\n",
       "        text-align: right;\n",
       "    }\n",
       "</style>\n",
       "<table border=\"1\" class=\"dataframe\">\n",
       "  <thead>\n",
       "    <tr style=\"text-align: right;\">\n",
       "      <th></th>\n",
       "      <th>median_price 2020 Q1</th>\n",
       "      <th>median_price 2020 Q2</th>\n",
       "      <th>median_price 2020 Q3</th>\n",
       "      <th>median_price 2020 Q4</th>\n",
       "      <th>median_price 2021 Q1</th>\n",
       "    </tr>\n",
       "    <tr>\n",
       "      <th>postcode</th>\n",
       "      <th></th>\n",
       "      <th></th>\n",
       "      <th></th>\n",
       "      <th></th>\n",
       "      <th></th>\n",
       "    </tr>\n",
       "  </thead>\n",
       "  <tbody>\n",
       "    <tr>\n",
       "      <th>2835</th>\n",
       "      <td>104.0</td>\n",
       "      <td>80.0</td>\n",
       "      <td>108.0</td>\n",
       "      <td>150.0</td>\n",
       "      <td>195.0</td>\n",
       "    </tr>\n",
       "    <tr>\n",
       "      <th>2700</th>\n",
       "      <td>128.0</td>\n",
       "      <td>135.0</td>\n",
       "      <td>180.0</td>\n",
       "      <td>200.0</td>\n",
       "      <td>230.0</td>\n",
       "    </tr>\n",
       "    <tr>\n",
       "      <th>2710</th>\n",
       "      <td>225.0</td>\n",
       "      <td>210.0</td>\n",
       "      <td>188.0</td>\n",
       "      <td>225.0</td>\n",
       "      <td>273.0</td>\n",
       "    </tr>\n",
       "    <tr>\n",
       "      <th>2370</th>\n",
       "      <td>195.0</td>\n",
       "      <td>252.0</td>\n",
       "      <td>210.0</td>\n",
       "      <td>256.0</td>\n",
       "      <td>275.0</td>\n",
       "    </tr>\n",
       "    <tr>\n",
       "      <th>2646</th>\n",
       "      <td>275.0</td>\n",
       "      <td>280.0</td>\n",
       "      <td>283.0</td>\n",
       "      <td>280.0</td>\n",
       "      <td>298.0</td>\n",
       "    </tr>\n",
       "  </tbody>\n",
       "</table>\n",
       "</div>"
      ],
      "text/plain": [
       "          median_price 2020 Q1  median_price 2020 Q2  median_price 2020 Q3  \\\n",
       "postcode                                                                     \n",
       "2835                     104.0                  80.0                 108.0   \n",
       "2700                     128.0                 135.0                 180.0   \n",
       "2710                     225.0                 210.0                 188.0   \n",
       "2370                     195.0                 252.0                 210.0   \n",
       "2646                     275.0                 280.0                 283.0   \n",
       "\n",
       "          median_price 2020 Q4  median_price 2021 Q1  \n",
       "postcode                                              \n",
       "2835                     150.0                 195.0  \n",
       "2700                     200.0                 230.0  \n",
       "2710                     225.0                 273.0  \n",
       "2370                     256.0                 275.0  \n",
       "2646                     280.0                 298.0  "
      ]
     },
     "execution_count": 23,
     "metadata": {},
     "output_type": "execute_result"
    }
   ],
   "source": [
    "cheap5"
   ]
  },
  {
   "cell_type": "code",
   "execution_count": 34,
   "id": "764d3f1a",
   "metadata": {},
   "outputs": [],
   "source": [
    "map_cheap5 = nsw[nsw.index.isin(cheap5.index)]"
   ]
  },
  {
   "cell_type": "code",
   "execution_count": 43,
   "id": "6149ec42",
   "metadata": {},
   "outputs": [
    {
     "data": {
      "image/png": "[encoded data removed]",
      "text/plain": [
       "<Figure size 1440x1440 with 1 Axes>"
      ]
     },
     "metadata": {
      "needs_background": "light"
     },
     "output_type": "display_data"
    }
   ],
   "source": [
    "fig, ax = plt.subplots(1,1, figsize=(20,20))\n",
    "divider = make_axes_locatable(ax)\n",
    "lga_gdf.plot(ax=ax, color='gray',alpha=.8) # Map plot\n",
    "lga_gdf.geometry.boundary.plot(color='white', ax=ax, linewidth=0.2) #Add some borders to the geometries\n",
    "\n",
    "# Zoom in\n",
    "minx, miny, maxx, maxy = lga_gdf.total_bounds\n",
    "ax.set_xlim(minx, maxx)\n",
    "ax.set_ylim(miny, maxy)\n",
    "\n",
    "map_cheap5.plot(ax=ax,alpha=.8, c='yellow')\n",
    "ax.axis('off')\n",
    "plt.title('Top 5 cheapest postcodes predicted to grow >5%, NSW',fontsize=25)\n",
    "# plt.savefig('Files/Map Vis/Top 5 cheapest high growth.png',dpi=300)\n",
    "plt.show()"
   ]
  },
  {
   "cell_type": "markdown",
   "id": "0313b732",
   "metadata": {},
   "source": [
    "### Conclusion"
   ]
  },
  {
   "cell_type": "markdown",
   "id": "65dd2b7e",
   "metadata": {},
   "source": [
    "The cross-validation score result from the tuned random forest classifier model performs slightly better compared to the default model."
   ]
  },
  {
   "cell_type": "markdown",
   "id": "2b087702",
   "metadata": {
    "heading_collapsed": true
   },
   "source": [
    "## Multi-layer Perceptron Classifier"
   ]
  },
  {
   "cell_type": "markdown",
   "id": "9e7bf0fb",
   "metadata": {
    "hidden": true
   },
   "source": [
    "Based on neural network, the MLP Classifier is another great candidate for discovering existing patterns in data and extrapolating them, although it's sometimes considered most useful when input variables are categorical. Regardless, we are keen to try it on our numeric inputs and see how it compares with the random forest classifier."
   ]
  },
  {
   "cell_type": "markdown",
   "id": "d0e922a5",
   "metadata": {
    "hidden": true
   },
   "source": [
    "### Base model\n",
    "\n",
    "First build a baseline MPLClassifier using default parameters."
   ]
  },
  {
   "cell_type": "code",
   "execution_count": null,
   "id": "dbcd171f",
   "metadata": {
    "hidden": true
   },
   "outputs": [],
   "source": [
    "# Specify features and the target\n",
    "X = modelDF.drop(['high_growth', 'median_price 2021 Q1', \n",
    "                  'gr_annual','gr_21Q1'], axis=1)\n",
    "y = modelDF['high_growth']\n",
    "\n",
    "# Split the dataset into training data and testing data\n",
    "X_train, X_test, y_train, y_test = train_test_split(X, y, test_size = 0.2, random_state=123,\n",
    "                                                   stratify = modelDF['high_growth'])"
   ]
  },
  {
   "cell_type": "code",
   "execution_count": null,
   "id": "4cd56056",
   "metadata": {
    "hidden": true
   },
   "outputs": [],
   "source": [
    "# Training the MLPClassifier with the default parameters (random_state=42)\n",
    "mlpc = MLPClassifier(random_state=44)\n",
    "mlpc.fit(X_train, y_train)\n",
    "\n",
    "# Output the accuracy on training data and test data respectively\n",
    "y_pred_train = mlpc.predict(X_train)\n",
    "y_pred_test = mlpc.predict(X_test)\n",
    "\n",
    "acc_train = 100*accuracy_score(y_train, y_pred_train)\n",
    "acc_test = 100*accuracy_score(y_test, y_pred_test)\n",
    "\n",
    "print('Train Accuracy for the default MLP classifier: %.2f' % acc_train,'%')\n",
    "print('Test Accuracy for the default MLP classifier: %.2f' % acc_test,'%')"
   ]
  },
  {
   "cell_type": "code",
   "execution_count": null,
   "id": "eaa7e7b3",
   "metadata": {
    "hidden": true
   },
   "outputs": [],
   "source": [
    "# Output the confusion matrix on test data\n",
    "\n",
    "cm_mlp1 = confusion_matrix(y_test, y_pred_test)\n",
    "rec_mlp1 = 100*cm_mlp1[1][1] / (cm_mlp1[1][1] + cm_mlp1[1][0])\n",
    "prec_mlp1 = 100*cm_mlp1[1][1] / (cm_mlp1[1][1] + cm_mlp1[0][1])\n",
    "\n",
    "print('Recall of the default MLP classifier: %.2f' % rec_mlp1,'%')\n",
    "print('Precision of the default MLP classifier: %.2f' % prec_mlp1,'%')"
   ]
  },
  {
   "cell_type": "markdown",
   "id": "ad2a6cb4",
   "metadata": {
    "hidden": true
   },
   "source": [
    "The good news is that the test accuracy (**68.78%**) of the baseline MLP classifier is greater than 59%, the chance accuracy without tuning, however we observe a gap in train/test accuracy, suggesting potential overfitting - something to bear in mind in later validation and tuning.\n",
    "\n",
    "Recall seems to be quite high (**87.23%**), which is likely to be due to the random seed. We will rule this out using cross-validation."
   ]
  },
  {
   "cell_type": "code",
   "execution_count": null,
   "id": "1916eca6",
   "metadata": {
    "hidden": true
   },
   "outputs": [],
   "source": [
    "# Explore the learned MLP model\n",
    "print(mlpc)\n",
    "print('\\n# of layers (including the input layer): %.f' % mlpc.n_layers_)\n",
    "print('MLP structure: %.f X %.f X %.f' % (X.shape[1], \n",
    "                                          mlpc.get_params()['hidden_layer_sizes'][0], \n",
    "                                          mlpc.n_outputs_))"
   ]
  },
  {
   "cell_type": "markdown",
   "id": "01884c7e",
   "metadata": {
    "hidden": true
   },
   "source": [
    "Our current model has 1 hidden layer, 100 units per hidden layer - in later tuning, we might experiment with less number of hidden layers and/or less number of perceptrons per layer, and see if a simpler model will have more consistent performance."
   ]
  },
  {
   "cell_type": "markdown",
   "id": "d5c0c770",
   "metadata": {
    "hidden": true
   },
   "source": [
    "#### Cross Validation\n",
    "Use 10-fold cross validation to report a more robust testing performance."
   ]
  },
  {
   "cell_type": "code",
   "execution_count": null,
   "id": "d51a03ef",
   "metadata": {
    "hidden": true
   },
   "outputs": [],
   "source": [
    "# Use 10-fold cross validation to validate the model\n",
    "scores_mlp_default = cross_val_score(mlpc, X, y, \n",
    "                                     cv=StratifiedKFold(n_splits=10, shuffle=True, random_state=123))\n",
    "\n",
    "print('Accuracy range for the default MLP classifier: [%.4f, %.4f]; mean: %.4f; std: %.4f\\n'\n",
    "      % (scores_mlp_default.min(), \n",
    "         scores_mlp_default.max(), \n",
    "         scores_mlp_default.mean(), \n",
    "         scores_mlp_default.std()))"
   ]
  },
  {
   "cell_type": "code",
   "execution_count": null,
   "id": "efc959ed",
   "metadata": {
    "hidden": true
   },
   "outputs": [],
   "source": [
    "# Check confusion matrix\n",
    "y_pred_2 = cross_val_predict(mlpc, X, y,\n",
    "                           cv=StratifiedKFold(n_splits=10, shuffle=True, random_state=123))\n",
    "\n",
    "cm_mlp2 = confusion_matrix(y, y_pred_2)\n",
    "rec_mlp2 = 100*cm_mlp2[1][1] / (cm_mlp2[1][1] + cm_mlp2[1][0])\n",
    "prec_mlp2 = 100*cm_mlp2[1][1] / (cm_mlp2[1][1] + cm_mlp2[0][1])\n",
    "\n",
    "print('Recall of the default MLP classifier (validated): %.2f' % rec_mlp2,'%')\n",
    "print('Precision of the default MLP classifier (validated): %.2f' % prec_mlp2,'%')"
   ]
  },
  {
   "cell_type": "code",
   "execution_count": null,
   "id": "b3abee48",
   "metadata": {
    "hidden": true
   },
   "outputs": [],
   "source": [
    "# Plot Confusion Matrix\n",
    "plt.figure(figsize=(5,5))\n",
    "ax = sns.heatmap(cm_mlp2/cm_mlp2.astype(float).sum(axis=1), \n",
    "                 annot=True, fmt=\".2%\", linewidths=.5, square = True, cmap = 'Blues')\n",
    "\n",
    "ax.set_title('Confusion matrix')\n",
    "ax.set_ylabel('Actual')\n",
    "ax.set_xlabel('Predicted')\n",
    "ax.xaxis.set_ticklabels(['0', '1'])\n",
    "ax.yaxis.set_ticklabels(['0', '1'])\n",
    "\n",
    "plt.show()"
   ]
  },
  {
   "cell_type": "markdown",
   "id": "22ac7215",
   "metadata": {
    "hidden": true
   },
   "source": [
    "It turns out that our concern for the low recall might have been a false alarm! \n",
    "\n",
    "The 5-fold cross validation shows that our default model has an avarage accuracy of **65.11%**, still higher than the chance accuracy of 59%, **66.81%** correct recall and **56.27%** precision, while producing a correct True Negative (TN) rate of 63.91%. That's certainly not a bad baseline model to start with. But can we make it better?"
   ]
  },
  {
   "cell_type": "markdown",
   "id": "868ee8c6",
   "metadata": {
    "hidden": true
   },
   "source": [
    "### Hyperparameter tuning\n",
    "\n",
    "We will be using two different tuning method and explore which yields a better model: \n",
    "1. Tune each parameter <u>individually</u>, build a final classifier with the optimal value of each individual parameter found;\n",
    "2. Use `GridSearchCV` to find the optimal combination of parameters of all."
   ]
  },
  {
   "cell_type": "markdown",
   "id": "53def7f2",
   "metadata": {
    "hidden": true
   },
   "source": [
    "#### Tuning Individual Parameter\n",
    "\n",
    "**<u>a. Number of hidden units</u>**"
   ]
  },
  {
   "cell_type": "markdown",
   "id": "eb524977",
   "metadata": {
    "hidden": true
   },
   "source": [
    "The default number of hidden units is 100. With 49 input units and 2 output classes, our default model has (49+1)x100 + (100+1)x2 = **5202** model parameters (weights), which is relatively large compared to our sample size (n=573). This may impact the consistency of our model and create potential issue of overfitting.\n",
    "\n",
    "Here're going to test a range of numbers of hidden units, moving in both direction from 100, and use 10-fold cross validation to report on the testing accuracy. "
   ]
  },
  {
   "cell_type": "code",
   "execution_count": null,
   "id": "2f74d811",
   "metadata": {
    "hidden": true
   },
   "outputs": [],
   "source": [
    "# For each number of hidden units, we use 10-fold cross validation to report the testing accuracy.\n",
    "cv_scores = []\n",
    "cv_scores_std = []\n",
    "\n",
    "hidden_units_no = [[10],[25],[50],[75],[100],[125],[150]]\n",
    "\n",
    "for i in hidden_units_no:\n",
    "    mlpc = MLPClassifier(hidden_layer_sizes=i, random_state=44)\n",
    "    scores = cross_val_score(mlpc, X, y, scoring='accuracy', \n",
    "                             cv=StratifiedKFold(n_splits=10, shuffle=True, random_state=123))\n",
    "    cv_scores.append(scores.mean())\n",
    "    cv_scores_std.append(scores.std())"
   ]
  },
  {
   "cell_type": "code",
   "execution_count": null,
   "id": "db5ec2bd",
   "metadata": {
    "hidden": true,
    "scrolled": true
   },
   "outputs": [],
   "source": [
    "# Plot accuracy against the number of hidden units\n",
    "plt.figure(figsize=(7,5))\n",
    "plt.errorbar(hidden_units_no, cv_scores, yerr=cv_scores_std, marker='x', label='Accuracy')\n",
    "\n",
    "plt.xlabel('Number of hidden units')\n",
    "plt.xticks(np.arange(0, 151, 25))\n",
    "\n",
    "plt.ylabel('Accuracy')\n",
    "plt.ylim(0.2, 0.8)\n",
    "\n",
    "plt.legend(loc='best')\n",
    "plt.show()"
   ]
  },
  {
   "cell_type": "code",
   "execution_count": null,
   "id": "17826029",
   "metadata": {
    "hidden": true
   },
   "outputs": [],
   "source": [
    "# Find the optimal number of hidden units\n",
    "tuned_score = max(cv_scores)\n",
    "max_index = cv_scores.index(tuned_score)\n",
    "tuned_hlsizes = hidden_units_no[max_index][0]\n",
    "\n",
    "print(\"Best accuracy score: %.4f\" % tuned_score)\n",
    "print(\"Optimal number of hidden units:\", tuned_hlsizes)"
   ]
  },
  {
   "cell_type": "markdown",
   "id": "72885bca",
   "metadata": {
    "hidden": true
   },
   "source": [
    "Our hypothesis proves to be wrong - the optimal number of hidden units turns out to be precisely 100, the default setting. On a another note, it's interesting to see a sharp dip at 75, migh as well take a look at what's going on between 50-100."
   ]
  },
  {
   "cell_type": "code",
   "execution_count": null,
   "id": "39c4b619",
   "metadata": {
    "hidden": true
   },
   "outputs": [],
   "source": [
    "# Check and plot accuracy with hidden units range from 50 to 100\n",
    "cv_scores = []\n",
    "cv_scores_std = []\n",
    "\n",
    "hidden_units_no = [[50],[60],[70],[80],[90],[100]]\n",
    "\n",
    "for i in hidden_units_no:\n",
    "    mlpc = MLPClassifier(hidden_layer_sizes=i, random_state=44)\n",
    "    scores = cross_val_score(mlpc, X, y, scoring='accuracy', \n",
    "                             cv=StratifiedKFold(n_splits=10, shuffle=True, random_state=123))\n",
    "    cv_scores.append(scores.mean())\n",
    "    cv_scores_std.append(scores.std())\n",
    "\n",
    "# Plot accuracy against the number of hidden units\n",
    "plt.figure(figsize=(7,5))\n",
    "plt.errorbar(hidden_units_no, cv_scores, yerr=cv_scores_std, marker='x', label='Accuracy')\n",
    "\n",
    "plt.xlabel('Number of hidden units')\n",
    "plt.ylabel('Accuracy')\n",
    "plt.ylim(0.2, 0.8)\n",
    "plt.legend(loc='best')\n",
    "plt.show()"
   ]
  },
  {
   "cell_type": "markdown",
   "id": "675fca57",
   "metadata": {
    "hidden": true
   },
   "source": [
    "Once we break down the range into smaller intervals, we could see a gradual decline in accuracy as the hidden layer size increases from 50 to 80, after which it picked up again and peaked at 100.\n",
    "\n",
    "----"
   ]
  },
  {
   "cell_type": "markdown",
   "id": "21bc76e8",
   "metadata": {
    "hidden": true
   },
   "source": [
    "**<u>b. Number of hidden layers</u>**"
   ]
  },
  {
   "cell_type": "markdown",
   "id": "95e8faf4",
   "metadata": {
    "hidden": true
   },
   "source": [
    "Since we suspected the complexity of the model would cause overfitting, we're dubious that adding the number of hidden layers would improve accuracy. So here we're only going to try 2 hidden layers and go back to our simple 1-layer model if there's no significant improvement."
   ]
  },
  {
   "cell_type": "code",
   "execution_count": null,
   "id": "38327e4f",
   "metadata": {
    "hidden": true
   },
   "outputs": [],
   "source": [
    "# Try a MLP model with two hidden layers, 100 units each (default)\n",
    "mplc = MLPClassifier (hidden_layer_sizes=[100,100], random_state=44)\n",
    "\n",
    "scores = cross_val_score(mlpc, X, y, scoring='accuracy', \n",
    "                         cv=StratifiedKFold(n_splits=10, shuffle=True, random_state=123), \n",
    "                         verbose=1)   "
   ]
  },
  {
   "cell_type": "code",
   "execution_count": null,
   "id": "00bff49e",
   "metadata": {
    "hidden": true
   },
   "outputs": [],
   "source": [
    "print('Accuracy for the 2-layer MLP classifier: mean: %.4f; std: %.4f'\n",
    "      % (scores.mean(), \n",
    "         scores.std()))"
   ]
  },
  {
   "cell_type": "markdown",
   "id": "d431395b",
   "metadata": {
    "hidden": true
   },
   "source": [
    "Recall that the average accuracy for the default MLP classifier with 1 hidden layer of 100 units is exactly the **65.11%**, with the same std of 0.0521. It seems though adding 1 more layer doesn't give us edge at all. Hence we will **just stick to 1 hidden layer**.\n",
    "\n",
    "----"
   ]
  },
  {
   "cell_type": "markdown",
   "id": "35f32366",
   "metadata": {
    "hidden": true
   },
   "source": [
    "**<u>c. Choose the solver</u>**\n",
    "\n",
    "Test which solver (`lbfgs`,`sgd`, `adam`) performs the best with our data."
   ]
  },
  {
   "cell_type": "code",
   "execution_count": null,
   "id": "89fecd0b",
   "metadata": {
    "hidden": true
   },
   "outputs": [],
   "source": [
    "# Try different solvers - lbfgs can't converge?\n",
    "cv_scores = []\n",
    "cv_scores_std = []\n",
    "solvers = ['lbfgs','sgd', 'adam']\n",
    "for i in solvers:\n",
    "    mlpc = MLPClassifier(solver=i, random_state=44)\n",
    "    scores = cross_val_score(mlpc, X, y, scoring='accuracy', \n",
    "                             cv=StratifiedKFold(n_splits=10, shuffle=True, random_state=123))\n",
    "    cv_scores.append(scores.mean())\n",
    "    cv_scores_std.append(scores.std())"
   ]
  },
  {
   "cell_type": "code",
   "execution_count": null,
   "id": "cd4a6f16",
   "metadata": {
    "hidden": true
   },
   "outputs": [],
   "source": [
    "# Plot the relationship\n",
    "plt.bar(solvers, cv_scores, yerr=cv_scores_std, label='Accuracy')\n",
    "plt.xlabel('Solvers')\n",
    "plt.ylabel('Accuracy')\n",
    "plt.ylim(0.2, 1)\n",
    "plt.legend(loc='best')\n",
    "plt.show()"
   ]
  },
  {
   "cell_type": "code",
   "execution_count": null,
   "id": "d7c80120",
   "metadata": {
    "hidden": true
   },
   "outputs": [],
   "source": [
    "# Define the optimal solver for later use\n",
    "tuned_score = max(cv_scores)\n",
    "tuned_solver = (solvers[cv_scores.index(tuned_score)])\n",
    "\n",
    "print(\"Best accuracy score: %.4f\" % tuned_score)\n",
    "print(\"Best solver:\", tuned_solver)"
   ]
  },
  {
   "cell_type": "markdown",
   "id": "1add84db",
   "metadata": {
    "hidden": true
   },
   "source": [
    "It is obvious that `adam`, the default solver, outperforms lbfgs and sgd and will be the preferred solver to bring along to the final model\n",
    "\n",
    "----"
   ]
  },
  {
   "cell_type": "markdown",
   "id": "941efb76",
   "metadata": {
    "hidden": true
   },
   "source": [
    "**<u>d. Choose the activation Function</u>**\n",
    "\n",
    "Activation function also plays a critical role in neural-network-based classifier, and we have a list to shop from: `identity`,`logistic`, `tanh` and `relu`, whic is the default."
   ]
  },
  {
   "cell_type": "code",
   "execution_count": null,
   "id": "4dacc032",
   "metadata": {
    "hidden": true
   },
   "outputs": [],
   "source": [
    "# Try different activation functions\n",
    "cv_scores = []\n",
    "cv_scores_std = []\n",
    "activations = ['identity','logistic','tanh','relu']\n",
    "\n",
    "for a in activations:\n",
    "    mlpc = MLPClassifier(activation=a, random_state=44)\n",
    "    scores = cross_val_score(mlpc, X, y, scoring='accuracy', \n",
    "                             cv=StratifiedKFold(n_splits=10, shuffle=True, random_state=123))\n",
    "    cv_scores.append(scores.mean())\n",
    "    cv_scores_std.append(scores.std())"
   ]
  },
  {
   "cell_type": "code",
   "execution_count": null,
   "id": "597125bd",
   "metadata": {
    "hidden": true
   },
   "outputs": [],
   "source": [
    "# Plot accuracy against activation fuction\n",
    "plt.bar(activations, cv_scores, yerr=cv_scores_std, label='Accuracy')\n",
    "plt.xlabel('Activation Functions')\n",
    "plt.ylim([0.2, 1])\n",
    "plt.ylabel('Accuracy')\n",
    "plt.legend(loc='best')\n",
    "plt.show()"
   ]
  },
  {
   "cell_type": "code",
   "execution_count": null,
   "id": "367830ad",
   "metadata": {
    "hidden": true
   },
   "outputs": [],
   "source": [
    "# Define the optimal activation function for later use\n",
    "tuned_score = max(cv_scores)\n",
    "tuned_act = (activations[cv_scores.index(tuned_score)])\n",
    "\n",
    "print(\"Best accuracy score: %.4f\" % tuned_score)\n",
    "print(\"Best activatioin function:\", tuned_act)"
   ]
  },
  {
   "cell_type": "markdown",
   "id": "bfd504e4",
   "metadata": {
    "hidden": true
   },
   "source": [
    "The morale of the story so far is that simple is best - `relu`, the default activation function also outperforms all three alternatives and will be the favourable. \n",
    "\n",
    "----"
   ]
  },
  {
   "cell_type": "markdown",
   "id": "20e921ce",
   "metadata": {
    "hidden": true
   },
   "source": [
    "**<u>e. L2 Regularisation</u>**"
   ]
  },
  {
   "cell_type": "markdown",
   "id": "0646df05",
   "metadata": {
    "hidden": true
   },
   "source": [
    "Alpha is the parameter for regularisation term, which penalises the number of weights as it increases and thereby deals with overfitting. The greater the alpha value, the heavier the penalty We'll be testing a range of alpha (0.0001,0.001,0.01, 0.1,1) and see if any provides improvement."
   ]
  },
  {
   "cell_type": "code",
   "execution_count": null,
   "id": "e50325f6",
   "metadata": {
    "hidden": true
   },
   "outputs": [],
   "source": [
    "# Try different regularisation parameters\n",
    "cv_scores = []\n",
    "cv_scores_std = []\n",
    "alphas = [0.0001,0.001,0.01, 0.1, 1]\n",
    "for i in alphas:\n",
    "    mplc = MLPClassifier(alpha=i,random_state=44)\n",
    "    scores = cross_val_score(mplc, X, y, scoring='accuracy', \n",
    "                             cv=StratifiedKFold(n_splits=10, shuffle=True, random_state=123))\n",
    "    cv_scores.append(scores.mean())\n",
    "    cv_scores_std.append(scores.std())"
   ]
  },
  {
   "cell_type": "code",
   "execution_count": null,
   "id": "a9516762",
   "metadata": {
    "hidden": true
   },
   "outputs": [],
   "source": [
    "# Plot accuracy against alpha values\n",
    "plt.errorbar(alphas, cv_scores, yerr=cv_scores_std, marker='x', label='Accuracy')\n",
    "plt.xscale('log')\n",
    "plt.xlabel('alpha')\n",
    "plt.ylim([0.5, 0.8])\n",
    "plt.ylabel('Accuracy')\n",
    "plt.legend(loc='best')\n",
    "plt.show()"
   ]
  },
  {
   "cell_type": "code",
   "execution_count": null,
   "id": "5d9284ed",
   "metadata": {
    "hidden": true
   },
   "outputs": [],
   "source": [
    "# Define the optimal alpha for later use\n",
    "tuned_score = max(cv_scores)\n",
    "tuned_alpha = (alphas[cv_scores.index(tuned_score)])\n",
    "\n",
    "print(\"Best accuracy score: %.4f\" % tuned_score)\n",
    "print(\"Best alpha value:\", tuned_alpha)"
   ]
  },
  {
   "cell_type": "markdown",
   "id": "4a78a758",
   "metadata": {
    "hidden": true
   },
   "source": [
    "The average accuracy peaked when **alpha=0.01**, a heavier complexity penalty than the default setting.\n",
    "\n",
    "----"
   ]
  },
  {
   "cell_type": "markdown",
   "id": "9aed52f2",
   "metadata": {
    "hidden": true
   },
   "source": [
    "**<u>f. Number of iterations</u>**"
   ]
  },
  {
   "cell_type": "code",
   "execution_count": null,
   "id": "21152f5f",
   "metadata": {
    "hidden": true
   },
   "outputs": [],
   "source": [
    "# Try different number of iterations\n",
    "cv_scores = []\n",
    "cv_scores_std = []\n",
    "iterations = [100, 200, 400, 600]\n",
    "for i in iterations:\n",
    "    mlpc = MLPClassifier(max_iter=i, random_state=44)\n",
    "    scores = cross_val_score(mlpc, X, y, scoring='accuracy', \n",
    "                             cv=StratifiedKFold(n_splits=10, shuffle=True, random_state=123))\n",
    "    cv_scores.append(scores.mean())\n",
    "    cv_scores_std.append(scores.std())"
   ]
  },
  {
   "cell_type": "code",
   "execution_count": null,
   "id": "64ea3082",
   "metadata": {
    "hidden": true
   },
   "outputs": [],
   "source": [
    "# Plot the relationship\n",
    "plt.errorbar(iterations, cv_scores, yerr=cv_scores_std, marker='x', label='Accuracy')\n",
    "plt.xlabel('iterations')\n",
    "plt.ylabel('Accuracy')\n",
    "plt.ylim(0.4,0.8)\n",
    "plt.legend(loc='best')\n",
    "plt.show()"
   ]
  },
  {
   "cell_type": "markdown",
   "id": "57fd2399",
   "metadata": {
    "hidden": true
   },
   "source": [
    "The number of iterations do not seem to improve the model, however we've encoutered the problem where max iteration is reached but the model hasn't converged yet. Hence in the final model, we may want to bump up max iteration a bit just to help the model converge to the optimised result."
   ]
  },
  {
   "cell_type": "markdown",
   "id": "6cafd2f9",
   "metadata": {
    "hidden": true
   },
   "source": [
    "#### Tuning with GridSearch\n",
    "\n",
    "There are limitations to individual parameter tuning - the single best parameter in each experiment doesn't necessarily work well in conjoint. Hence, we use the `GridSearchCV` to search the best combinations out of all possible ones specified in the parameter grid."
   ]
  },
  {
   "cell_type": "code",
   "execution_count": null,
   "id": "be50b7e8",
   "metadata": {
    "hidden": true
   },
   "outputs": [],
   "source": [
    "# Define the GridSearchCV object \n",
    "mlp = MLPClassifier(random_state=123)\n",
    "\n",
    "parameters = { \n",
    "    'hidden_layer_sizes': [[10],[25],[50],[75],[100],[150]],\n",
    "    'solver': ['sgd', 'adam'],\n",
    "    'activation':['identity','logistic','tanh','relu'],\n",
    "    'alpha' : [0.0001,0.01,0.1,1],\n",
    "    'max_iter' :[100, 200, 400]\n",
    "}\n",
    "\n",
    "# Reduce folds to 5 for faster computation\n",
    "folds = StratifiedKFold(n_splits=5, shuffle=True, random_state=123) \n",
    "\n",
    "gs_mlp = GridSearchCV(estimator=mlp, param_grid=parameters, cv=folds, n_jobs=-1)"
   ]
  },
  {
   "cell_type": "code",
   "execution_count": null,
   "id": "3db337c4",
   "metadata": {
    "hidden": true
   },
   "outputs": [],
   "source": [
    "# Fit the data to GS\n",
    "\n",
    "gs_mlp.fit(X,y)"
   ]
  },
  {
   "cell_type": "code",
   "execution_count": null,
   "id": "4065fa8e",
   "metadata": {
    "hidden": true
   },
   "outputs": [],
   "source": [
    "# Retrieve the best parameters\n",
    "\n",
    "print(gs_mlp.best_params_)\n",
    "\n",
    "gs_act = gs_mlp.best_params_['activation']\n",
    "gs_alpha = gs_mlp.best_params_['alpha']\n",
    "gs_hlsizes = gs_mlp.best_params_['hidden_layer_sizes']\n",
    "gs_solver = gs_mlp.best_params_['solver']\n",
    "gs_iter = gs_mlp.best_params_['max_iter']"
   ]
  },
  {
   "cell_type": "markdown",
   "id": "bef16963",
   "metadata": {
    "hidden": true
   },
   "source": [
    "Our grid search suggests that we keep alpha and solver as their default: 0.0001 and adam, while updating below parameters to:\n",
    "\n",
    "* Activation function: Logistics\n",
    "* Number of hidden units: 150\n",
    "* Maximum iteration: 100\n",
    "\n",
    "We notice that they look quite different to the outcome of the individual tuning, which recommended relu as activation function and 100 as size of hidden layers. It's also interesting that we should also lower max iteration, which might stop the algorithm earlier before convergence. This can be a way to combat overfitting.\n",
    "\n",
    "We're curious to see how the two 'best' models perform and which is the ultimate winner. "
   ]
  },
  {
   "cell_type": "markdown",
   "id": "ce3ef651",
   "metadata": {
    "hidden": true
   },
   "source": [
    "### Best MLPClassifier"
   ]
  },
  {
   "cell_type": "markdown",
   "id": "8f0d5a18",
   "metadata": {
    "hidden": true
   },
   "source": [
    "#### Best MLPClassifier - based on individual tuning\n",
    "\n",
    "First, buid an MLPClassier with optimal parameters based on individual tuning."
   ]
  },
  {
   "cell_type": "code",
   "execution_count": null,
   "id": "f7944441",
   "metadata": {
    "hidden": true
   },
   "outputs": [],
   "source": [
    "# Best MLP classifier based on individual tuning\n",
    "\n",
    "mlp_best1 = MLPClassifier(hidden_layer_sizes=[tuned_hlsizes],\n",
    "                          solver=tuned_solver,\n",
    "                          activation=tuned_act,\n",
    "                          alpha=tuned_alpha,\n",
    "                          random_state=44, \n",
    "                          max_iter=500) #increase max_iter to 500 for convergence\n",
    "\n",
    "scores_mlp_best1 = cross_val_score(mlp_best1, X, y, \n",
    "                                  cv=StratifiedKFold(n_splits=10, shuffle=True, random_state=123), \n",
    "                                  verbose=1)"
   ]
  },
  {
   "cell_type": "code",
   "execution_count": null,
   "id": "08acc2d3",
   "metadata": {
    "hidden": true
   },
   "outputs": [],
   "source": [
    "# Output accuracy, recall and precision\n",
    "\n",
    "print(\"Accuracy for the individually-tuned  MLP classifier:\", \"{:.4f}\".format(scores_mlp_best1.mean()), \n",
    "      \"STD:\", \"{:.4f}\".format(scores_mlp_best1.std()))\n",
    "\n",
    "\n",
    "y_pred_3 = cross_val_predict(mlp_best1, X, y,\n",
    "                             cv=StratifiedKFold(n_splits=5, shuffle=True, random_state=123))\n",
    "\n",
    "cm_mlp3 = confusion_matrix(y, y_pred_3)\n",
    "rec_mlp3 = 100*cm_mlp3[1][1] / (cm_mlp3[1][1] + cm_mlp3[1][0])\n",
    "prec_mlp3 = 100*cm_mlp3[1][1] / (cm_mlp3[1][1] + cm_mlp3[0][1])\n",
    "\n",
    "print('Recall of the individually-tuned  MLP classifier: %.2f' % rec_mlp3,'%')\n",
    "print('Precision of the individually-tuned MLP classifier: %.2f' % prec_mlp3,'%')"
   ]
  },
  {
   "cell_type": "code",
   "execution_count": null,
   "id": "65627d8d",
   "metadata": {
    "hidden": true
   },
   "outputs": [],
   "source": [
    "# Plot Confusion Matrix\n",
    "\n",
    "plt.figure(figsize=(5,5))\n",
    "ax = sns.heatmap(cm_mlp3/cm_mlp3.astype(float).sum(axis=1), \n",
    "                 annot=True, fmt=\".2%\", linewidths=.5, square = True, cmap = 'Blues')\n",
    "\n",
    "ax.set_title('Confusion matrix')\n",
    "ax.set_ylabel('Actual')\n",
    "ax.set_xlabel('Predicted')\n",
    "ax.xaxis.set_ticklabels(['0', '1'])\n",
    "ax.yaxis.set_ticklabels(['0', '1'])\n",
    "\n",
    "plt.show()"
   ]
  },
  {
   "cell_type": "markdown",
   "id": "41324104",
   "metadata": {
    "hidden": true
   },
   "source": [
    "The overall accuracy for the individually tuned classifier is **67.92%**, slight improvement compared to our default model (65.11%). The improvement mainly comes from better recall, from 66.81% to **69.79%**, while TN rate basically remained steady (64.20% vs. default 63.91%)."
   ]
  },
  {
   "cell_type": "markdown",
   "id": "cd808cd6",
   "metadata": {
    "hidden": true
   },
   "source": [
    "#### Best MLPClassifier - based on GridSearch\n",
    "\n",
    "Next build an MLP classifier with optimal parameters based on GridSearch."
   ]
  },
  {
   "cell_type": "code",
   "execution_count": null,
   "id": "9b9ae319",
   "metadata": {
    "hidden": true
   },
   "outputs": [],
   "source": [
    "# Best MLP classifier based on GS\n",
    "\n",
    "mlp_best2 = MLPClassifier(hidden_layer_sizes=gs_hlsizes,\n",
    "                         solver=gs_solver,\n",
    "                         activation=gs_act,\n",
    "                         alpha=gs_alpha,\n",
    "                         max_iter=gs_iter,\n",
    "                         random_state=44)\n",
    "scores_mlp_best2 = cross_val_score(mlp_best2, X, y, \n",
    "                                  cv=StratifiedKFold(n_splits=10, shuffle=True, random_state=123), \n",
    "                                  verbose=1)"
   ]
  },
  {
   "cell_type": "markdown",
   "id": "b7191e45",
   "metadata": {
    "hidden": true
   },
   "source": [
    "We acknowledge that our model may not fully converge because we purposely set a very low max iteration of 100 to limit overfitting."
   ]
  },
  {
   "cell_type": "code",
   "execution_count": null,
   "id": "bff19e08",
   "metadata": {
    "hidden": true
   },
   "outputs": [],
   "source": [
    "print(\"Accuracy for the GS-tuned MLP:\", \"{:.4f}\".format(scores_mlp_best2.mean()), \n",
    "      \"STD:\", \"{:.4f}\".format(scores_mlp_best2.std()))\n",
    "\n",
    "y_pred_4 = cross_val_predict(mlp_best2, X, y,\n",
    "                           cv=StratifiedKFold(n_splits=5, shuffle=True, random_state=123))\n",
    "\n",
    "cm_mlp4 = confusion_matrix(y, y_pred_4)\n",
    "rec_mlp4 = 100*cm_mlp4[1][1] / (cm_mlp4[1][1] + cm_mlp4[1][0])\n",
    "prec_mlp4 = 100*cm_mlp4[1][1] / (cm_mlp4[1][1] + cm_mlp4[0][1])\n",
    "\n",
    "print('Recall of the GS-tuned MLP classifier: %.2f' % rec_mlp4,'%')\n",
    "print('Precision of the GS-tuned MLP classifier: %.2f' % prec_mlp4,'%')"
   ]
  },
  {
   "cell_type": "code",
   "execution_count": null,
   "id": "62dad4b0",
   "metadata": {
    "hidden": true
   },
   "outputs": [],
   "source": [
    "# Plot Confusion Matrix\n",
    "plt.figure(figsize=(5,5))\n",
    "ax = sns.heatmap(cm_mlp4/cm_mlp4.astype(float).sum(axis=1), \n",
    "                 annot=True, fmt=\".2%\", linewidths=.5, square = True, cmap = 'Blues')\n",
    "\n",
    "ax.set_title('Confusion matrix')\n",
    "ax.set_ylabel('Actual')\n",
    "ax.set_xlabel('Predicted')\n",
    "ax.xaxis.set_ticklabels(['0', '1'])\n",
    "ax.yaxis.set_ticklabels(['0', '1'])\n",
    "\n",
    "plt.show()"
   ]
  },
  {
   "cell_type": "markdown",
   "id": "79b9daa9",
   "metadata": {
    "hidden": true
   },
   "source": [
    "The overall accuracy for the GS-tuned classifier is **65.10%**, which actually represented no improvement versus the default model (accuracy 65.11%). TN rate did increase from 63.91% to **65.38%**, however at the cost of a lower recall (dropped form 66.81% to **62.98%**).\n",
    "\n",
    "The result certainly raises some questions about the grid search method, but for now we'll just take the individually tuned model as the best MLP classifier and compare it against the random forest classifier we built earlier."
   ]
  },
  {
   "cell_type": "markdown",
   "id": "22a7fa7b",
   "metadata": {},
   "source": [
    "## The Classifier of Choice\n",
    "\n",
    "Now it's time to compare the tuned Random Forest classifier and the tuned MLP classifier and determine the ultimate best for the task of classifying high-growth areas."
   ]
  },
  {
   "cell_type": "code",
   "execution_count": null,
   "id": "9804379b",
   "metadata": {},
   "outputs": [],
   "source": [
    "# Summarise the performance of both models \n",
    "\n",
    "rfc_acc = scoreRFC2.mean()\n",
    "rfc_std = scoreRFC2.std()\n",
    "rfc_summary = [rfc_acc, rfc_std, rec_rf3/100, prec_rf3/100]\n",
    "\n",
    "mlp_acc = scores_mlp_best1.mean()\n",
    "mlp_std = scores_mlp_best1.std()\n",
    "mlp_summary = [mlp_acc, mlp_std, rec_mlp3/100, prec_mlp3/100]\n",
    "\n",
    "summary = {'RF Classifier': rfc_summary,\n",
    "           'MLP Classifier': mlp_summary}\n",
    "\n",
    "summary_df = pd.DataFrame(summary, index=['Mean accuracy','Std','Recall','Precision'])\n",
    "summary_df.round(4)"
   ]
  },
  {
   "cell_type": "markdown",
   "id": "1974fd09",
   "metadata": {},
   "source": [
    "It's clear from above summary the RF classifier outperforms the MLP classifier on all fronts but recall, which is the metrics we are most interested in. Regardless we would still **prefer the RF classifier** due to its greater consistency (smaller std) and its more even performance in predicting both high-growth and low-growth areas. "
   ]
  },
  {
   "cell_type": "markdown",
   "id": "07ef69c5",
   "metadata": {},
   "source": [
    "## Analysis and Interpretation\n",
    "\n",
    "The additional feature of **relative importance** that random forest has to offer is another reason why it's preferred over MLP. The relative importance scores will give us an idea of which features are more of a driving force of the house price growth in each postal area."
   ]
  },
  {
   "cell_type": "code",
   "execution_count": null,
   "id": "e9c8523d",
   "metadata": {},
   "outputs": [],
   "source": [
    "# Obtain relative importance\n",
    "imp = rfc_best.feature_importances_\n",
    "\n",
    "# Pair relative importance scores with feature names\n",
    "imp_lst = imp.tolist()\n",
    "feature_lst = list(X_train.columns)\n",
    "\n",
    "# Display in a dataframe\n",
    "importance = pd.DataFrame(list(zip(feature_lst, imp_lst)),\n",
    "                          columns =['Feature', 'Relative Importance'])\n",
    "importance = importance.set_index('Feature')\n",
    "\n",
    "# Sort relative importance in descending order\n",
    "importance = importance.sort_values(by='Relative Importance', ascending=False)\n",
    "\n",
    "# Show top 10 features\n",
    "importance.head(10).round(4)"
   ]
  },
  {
   "cell_type": "markdown",
   "id": "5f53c6ce",
   "metadata": {},
   "source": [
    "We have some very interesting obversations here:\n",
    "\n",
    "**1. The previous quarter stats are the best predictors** \n",
    "<br>4 out of the top 5 features in predicting growth are information about Q4 2020, which is the precedent time period of Q1 2021. Amont these four, number of sales made in Q4 came to the top, followed the price growth from one more quarter back (Q3 2020), which all makes intuitive sense - this probably is the intuitive definition of 'a hot suburb'.</br> \n",
    "\n",
    "**2. Rental market is an indicator**\n",
    "<br>Out of the top 10 features, the total numbers of bonds hold came up 3 times, that of current time period (Q1 2021) and two precedent time periods (Q3/Q4 2020). This may sounds counter intuitive - you would assume that the more people who rent in an area, the less people who would buy in that area. A prime example would be Sydney's famous Surry Hills suburb, buzzing with young professionals living in rental houses, enjoying the close proximity to the city. Yet Surry Hills is one of the most expensive inner city suburb to buy properties. </br>\n",
    "\n",
    "**3. Follow the immigrants**\n",
    "<br>On the list, we also see three features vaguely related to immigration: YARRP 1996-2005%, Non-AU citizen% and YARRP 2006-2016% (YARRP stands for year of arriving in Australia). The general idea is that the greater proportion of recent immigrants (who moved to Australia in the last 25 years) and of non-Australian citizens in an area, the more likely that area is going to rise in property prices - we know they come with money!</br>"
   ]
  },
  {
   "cell_type": "markdown",
   "id": "125e5c4f",
   "metadata": {},
   "source": [
    "Now here comes our final question - all in all, **where these high growth areas are?** Let's visualise them on the map"
   ]
  },
  {
   "cell_type": "code",
   "execution_count": null,
   "id": "e719b3d1",
   "metadata": {},
   "outputs": [],
   "source": [
    "# Get Class Labels\n",
    "modelDF['rfc_best_ypred'] = rfc_best_ypred\n",
    "df_rfc = modelDF['rfc_best_ypred']\n",
    "\n",
    "# Merge labels to map data\n",
    "map_rfc = pd.merge(nsw, df_rfc, on='postcode')"
   ]
  },
  {
   "cell_type": "code",
   "execution_count": null,
   "id": "8595d1cf",
   "metadata": {},
   "outputs": [],
   "source": [
    "fig, ax = plt.subplots(1,1, figsize=(30,30))\n",
    "divider = make_axes_locatable(ax)\n",
    "lga_gdf.plot(ax=ax, color='gray',alpha=.8) # Map plot\n",
    "lga_gdf.geometry.boundary.plot(color='gray', ax=ax, linewidth=0.2) #Add some borders to the geometries\n",
    "\n",
    "# Zoom in\n",
    "minx, miny, maxx, maxy = lga_gdf.total_bounds\n",
    "ax.set_xlim(minx, maxx)\n",
    "ax.set_ylim(miny, maxy)\n",
    "\n",
    "map_rfc.plot(column='rfc_best_ypred',ax=ax,cmap='summer', categorical=True, alpha=.8, legend=True)\n",
    "ax.axis('off')\n",
    "plt.title('Postcodes predicted to grow >5%, NSW',fontsize=25)\n",
    "# plt.savefig('Files/Map Vis/GT5 growth.png',dpi=400)\n",
    "plt.show()"
   ]
  },
  {
   "cell_type": "markdown",
   "id": "710458cf",
   "metadata": {},
   "source": [
    "Using linear regression on the individual KMeans clusters, the models seem to overfit and does not perform very well, especially on cluster 1.\n",
    "\n",
    "For predicting median house prices, it may be better to utilise the whole NSW postcodes."
   ]
  },
  {
   "cell_type": "markdown",
   "id": "aa4ba865",
   "metadata": {},
   "source": [
    "# Results\n"
   ]
  },
  {
   "cell_type": "markdown",
   "id": "71db9e4a",
   "metadata": {},
   "source": [
    "# Conclusion and Outlook\n",
    "Summarise findings and elaborate on implications and scope of model with regards to data sufficiency."
   ]
  }
 ],
 "metadata": {
  "kernelspec": {
   "display_name": "Python 3 (ipykernel)",
   "language": "python",
   "name": "python3"
  },
  "language_info": {
   "codemirror_mode": {
    "name": "ipython",
    "version": 3
   },
   "file_extension": ".py",
   "mimetype": "text/x-python",
   "name": "python",
   "nbconvert_exporter": "python",
   "pygments_lexer": "ipython3",
   "version": "3.8.11"
  },
  "toc": {
   "base_numbering": 1,
   "nav_menu": {},
   "number_sections": true,
   "sideBar": true,
   "skip_h1_title": false,
   "title_cell": "Table of Contents",
   "title_sidebar": "Contents",
   "toc_cell": true,
   "toc_position": {
    "height": "calc(100% - 180px)",
    "left": "10px",
    "top": "150px",
    "width": "282px"
   },
   "toc_section_display": true,
   "toc_window_display": true
  },
  "varInspector": {
   "cols": {
    "lenName": 16,
    "lenType": 16,
    "lenVar": 40
   },
   "kernels_config": {
    "python": {
     "delete_cmd_postfix": "",
     "delete_cmd_prefix": "del ",
     "library": "var_list.py",
     "varRefreshCmd": "print(var_dic_list())"
    },
    "r": {
     "delete_cmd_postfix": ") ",
     "delete_cmd_prefix": "rm(",
     "library": "var_list.r",
     "varRefreshCmd": "cat(var_dic_list()) "
    }
   },
   "oldHeight": 498,
   "position": {
    "height": "40px",
    "left": "933px",
    "right": "20px",
    "top": "120px",
    "width": "300px"
   },
   "types_to_exclude": [
    "module",
    "function",
    "builtin_function_or_method",
    "instance",
    "_Feature"
   ],
   "varInspector_section_display": "none",
   "window_display": true
  }
 },
 "nbformat": 4,
 "nbformat_minor": 5
}
