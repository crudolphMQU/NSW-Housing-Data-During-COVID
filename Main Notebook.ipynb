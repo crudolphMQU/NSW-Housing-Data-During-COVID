{
 "cells": [
  {
   "cell_type": "markdown",
   "id": "02e89d71",
   "metadata": {
    "toc": true
   },
   "source": [
    "<h1>Table of Contents<span class=\"tocSkip\"></span></h1>\n",
    "<div class=\"toc\"><ul class=\"toc-item\"><li><span><a href=\"#Introduction\" data-toc-modified-id=\"Introduction-1\"><span class=\"toc-item-num\">1&nbsp;&nbsp;</span>Introduction</a></span><ul class=\"toc-item\"><li><span><a href=\"#Goals-&amp;-Methodology\" data-toc-modified-id=\"Goals-&amp;-Methodology-1.1\"><span class=\"toc-item-num\">1.1&nbsp;&nbsp;</span>Goals &amp; Methodology</a></span></li><li><span><a href=\"#Data-Source-and-Variable-Directory\" data-toc-modified-id=\"Data-Source-and-Variable-Directory-1.2\"><span class=\"toc-item-num\">1.2&nbsp;&nbsp;</span>Data Source and Variable Directory</a></span></li><li><span><a href=\"#Imports\" data-toc-modified-id=\"Imports-1.3\"><span class=\"toc-item-num\">1.3&nbsp;&nbsp;</span>Imports</a></span></li></ul></li><li><span><a href=\"#Analysis\" data-toc-modified-id=\"Analysis-2\"><span class=\"toc-item-num\">2&nbsp;&nbsp;</span>Analysis</a></span><ul class=\"toc-item\"><li><span><a href=\"#Reading-&amp;-Cleaning-data\" data-toc-modified-id=\"Reading-&amp;-Cleaning-data-2.1\"><span class=\"toc-item-num\">2.1&nbsp;&nbsp;</span>Reading &amp; Cleaning data</a></span></li><li><span><a href=\"#Variable-Analysis\" data-toc-modified-id=\"Variable-Analysis-2.2\"><span class=\"toc-item-num\">2.2&nbsp;&nbsp;</span>Variable Analysis</a></span><ul class=\"toc-item\"><li><span><a href=\"#Over-Time-(Felix)\" data-toc-modified-id=\"Over-Time-(Felix)-2.2.1\"><span class=\"toc-item-num\">2.2.1&nbsp;&nbsp;</span>Over Time (Felix)</a></span><ul class=\"toc-item\"><li><span><a href=\"#Dwelling-Type\" data-toc-modified-id=\"Dwelling-Type-2.2.1.1\"><span class=\"toc-item-num\">2.2.1.1&nbsp;&nbsp;</span>Dwelling Type</a></span></li><li><span><a href=\"#Sales-Number\" data-toc-modified-id=\"Sales-Number-2.2.1.2\"><span class=\"toc-item-num\">2.2.1.2&nbsp;&nbsp;</span>Sales Number</a></span></li><li><span><a href=\"#Median-Rent\" data-toc-modified-id=\"Median-Rent-2.2.1.3\"><span class=\"toc-item-num\">2.2.1.3&nbsp;&nbsp;</span>Median Rent</a></span></li><li><span><a href=\"#New-Bonds\" data-toc-modified-id=\"New-Bonds-2.2.1.4\"><span class=\"toc-item-num\">2.2.1.4&nbsp;&nbsp;</span>New Bonds</a></span></li><li><span><a href=\"#Construction-Costs\" data-toc-modified-id=\"Construction-Costs-2.2.1.5\"><span class=\"toc-item-num\">2.2.1.5&nbsp;&nbsp;</span>Construction Costs</a></span></li><li><span><a href=\"#Bond-Yields\" data-toc-modified-id=\"Bond-Yields-2.2.1.6\"><span class=\"toc-item-num\">2.2.1.6&nbsp;&nbsp;</span>Bond Yields</a></span></li><li><span><a href=\"#Interest-Rates\" data-toc-modified-id=\"Interest-Rates-2.2.1.7\"><span class=\"toc-item-num\">2.2.1.7&nbsp;&nbsp;</span>Interest Rates</a></span></li></ul></li><li><span><a href=\"#By-Postcode\" data-toc-modified-id=\"By-Postcode-2.2.2\"><span class=\"toc-item-num\">2.2.2&nbsp;&nbsp;</span>By Postcode</a></span><ul class=\"toc-item\"><li><span><a href=\"#Median-Rent\" data-toc-modified-id=\"Median-Rent-2.2.2.1\"><span class=\"toc-item-num\">2.2.2.1&nbsp;&nbsp;</span>Median Rent</a></span></li><li><span><a href=\"#New-Bonds\" data-toc-modified-id=\"New-Bonds-2.2.2.2\"><span class=\"toc-item-num\">2.2.2.2&nbsp;&nbsp;</span>New Bonds</a></span></li><li><span><a href=\"#Age-Brackets\" data-toc-modified-id=\"Age-Brackets-2.2.2.3\"><span class=\"toc-item-num\">2.2.2.3&nbsp;&nbsp;</span>Age Brackets</a></span></li><li><span><a href=\"#ATSI\" data-toc-modified-id=\"ATSI-2.2.2.4\"><span class=\"toc-item-num\">2.2.2.4&nbsp;&nbsp;</span>ATSI</a></span></li><li><span><a href=\"#High-Income\" data-toc-modified-id=\"High-Income-2.2.2.5\"><span class=\"toc-item-num\">2.2.2.5&nbsp;&nbsp;</span>High Income</a></span></li><li><span><a href=\"#Year-of-Arrival\" data-toc-modified-id=\"Year-of-Arrival-2.2.2.6\"><span class=\"toc-item-num\">2.2.2.6&nbsp;&nbsp;</span>Year of Arrival</a></span></li><li><span><a href=\"#Non-AUS-Citizen\" data-toc-modified-id=\"Non-AUS-Citizen-2.2.2.7\"><span class=\"toc-item-num\">2.2.2.7&nbsp;&nbsp;</span>Non-AUS Citizen</a></span></li></ul></li><li><span><a href=\"#On-Postcode-Level-and-over-Time-(maybe-use-melt?)\" data-toc-modified-id=\"On-Postcode-Level-and-over-Time-(maybe-use-melt?)-2.2.3\"><span class=\"toc-item-num\">2.2.3&nbsp;&nbsp;</span>On Postcode Level and over Time (maybe use melt?)</a></span></li></ul></li></ul></li><li><span><a href=\"#Linear-Regression-Modeling\" data-toc-modified-id=\"Linear-Regression-Modeling-3\"><span class=\"toc-item-num\">3&nbsp;&nbsp;</span>Linear Regression Modeling</a></span><ul class=\"toc-item\"><li><span><a href=\"#Setting-up-the-DF\" data-toc-modified-id=\"Setting-up-the-DF-3.1\"><span class=\"toc-item-num\">3.1&nbsp;&nbsp;</span>Setting up the DF</a></span></li><li><span><a href=\"#Baseline-chance-accuracy\" data-toc-modified-id=\"Baseline-chance-accuracy-3.2\"><span class=\"toc-item-num\">3.2&nbsp;&nbsp;</span>Baseline chance accuracy</a></span></li><li><span><a href=\"#Linear-Regression-base-model\" data-toc-modified-id=\"Linear-Regression-base-model-3.3\"><span class=\"toc-item-num\">3.3&nbsp;&nbsp;</span>Linear Regression base model</a></span></li><li><span><a href=\"#Cross-Validation\" data-toc-modified-id=\"Cross-Validation-3.4\"><span class=\"toc-item-num\">3.4&nbsp;&nbsp;</span>Cross Validation</a></span></li><li><span><a href=\"#Model-tuning\" data-toc-modified-id=\"Model-tuning-3.5\"><span class=\"toc-item-num\">3.5&nbsp;&nbsp;</span>Model tuning</a></span><ul class=\"toc-item\"><li><span><a href=\"#Using-RFE-and-a-loop-to-determine-the-best-number-of-features\" data-toc-modified-id=\"Using-RFE-and-a-loop-to-determine-the-best-number-of-features-3.5.1\"><span class=\"toc-item-num\">3.5.1&nbsp;&nbsp;</span>Using RFE and a loop to determine the best number of features</a></span></li><li><span><a href=\"#Grid-search-on-LR-with-the-determined-top-features\" data-toc-modified-id=\"Grid-search-on-LR-with-the-determined-top-features-3.5.2\"><span class=\"toc-item-num\">3.5.2&nbsp;&nbsp;</span>Grid search on LR with the determined top features</a></span></li><li><span><a href=\"#Composition-of-GS,-RFE-and-LR.\" data-toc-modified-id=\"Composition-of-GS,-RFE-and-LR.-3.5.3\"><span class=\"toc-item-num\">3.5.3&nbsp;&nbsp;</span>Composition of GS, RFE and LR.</a></span></li></ul></li><li><span><a href=\"#Final-Linear-Regression-Model\" data-toc-modified-id=\"Final-Linear-Regression-Model-3.6\"><span class=\"toc-item-num\">3.6&nbsp;&nbsp;</span>Final Linear Regression Model</a></span></li></ul></li><li><span><a href=\"#Clustering-(Ken-&amp;-Felix)\" data-toc-modified-id=\"Clustering-(Ken-&amp;-Felix)-4\"><span class=\"toc-item-num\">4&nbsp;&nbsp;</span>Clustering (Ken &amp; Felix)</a></span><ul class=\"toc-item\"><li><span><a href=\"#Kmeans\" data-toc-modified-id=\"Kmeans-4.1\"><span class=\"toc-item-num\">4.1&nbsp;&nbsp;</span>Kmeans</a></span><ul class=\"toc-item\"><li><span><a href=\"#Scaling-the-data\" data-toc-modified-id=\"Scaling-the-data-4.1.1\"><span class=\"toc-item-num\">4.1.1&nbsp;&nbsp;</span>Scaling the data</a></span></li><li><span><a href=\"#Optimal-Number-of-K:-Elbow-Method\" data-toc-modified-id=\"Optimal-Number-of-K:-Elbow-Method-4.1.2\"><span class=\"toc-item-num\">4.1.2&nbsp;&nbsp;</span>Optimal Number of K: Elbow Method</a></span></li><li><span><a href=\"#Apply-Algorithm\" data-toc-modified-id=\"Apply-Algorithm-4.1.3\"><span class=\"toc-item-num\">4.1.3&nbsp;&nbsp;</span>Apply Algorithm</a></span></li><li><span><a href=\"#Map\" data-toc-modified-id=\"Map-4.1.4\"><span class=\"toc-item-num\">4.1.4&nbsp;&nbsp;</span>Map</a></span></li></ul></li><li><span><a href=\"#Hierarchical-clustering\" data-toc-modified-id=\"Hierarchical-clustering-4.2\"><span class=\"toc-item-num\">4.2&nbsp;&nbsp;</span>Hierarchical clustering</a></span><ul class=\"toc-item\"><li><span><a href=\"#Scaling-the-data\" data-toc-modified-id=\"Scaling-the-data-4.2.1\"><span class=\"toc-item-num\">4.2.1&nbsp;&nbsp;</span>Scaling the data</a></span></li><li><span><a href=\"#Apply-algorithm\" data-toc-modified-id=\"Apply-algorithm-4.2.2\"><span class=\"toc-item-num\">4.2.2&nbsp;&nbsp;</span>Apply algorithm</a></span></li><li><span><a href=\"#Map\" data-toc-modified-id=\"Map-4.2.3\"><span class=\"toc-item-num\">4.2.3&nbsp;&nbsp;</span>Map</a></span></li></ul></li><li><span><a href=\"#Conclusion\" data-toc-modified-id=\"Conclusion-4.3\"><span class=\"toc-item-num\">4.3&nbsp;&nbsp;</span>Conclusion</a></span></li></ul></li><li><span><a href=\"#Distinct-Models-per-Clusters\" data-toc-modified-id=\"Distinct-Models-per-Clusters-5\"><span class=\"toc-item-num\">5&nbsp;&nbsp;</span>Distinct Models per Clusters</a></span><ul class=\"toc-item\"><li><span><a href=\"#Linear-regression-based-on-KMeans-clusters\" data-toc-modified-id=\"Linear-regression-based-on-KMeans-clusters-5.1\"><span class=\"toc-item-num\">5.1&nbsp;&nbsp;</span>Linear regression based on KMeans clusters</a></span><ul class=\"toc-item\"><li><span><a href=\"#Data-prep\" data-toc-modified-id=\"Data-prep-5.1.1\"><span class=\"toc-item-num\">5.1.1&nbsp;&nbsp;</span>Data prep</a></span></li><li><span><a href=\"#Model-on-the-2-Clusters\" data-toc-modified-id=\"Model-on-the-2-Clusters-5.1.2\"><span class=\"toc-item-num\">5.1.2&nbsp;&nbsp;</span>Model on the 2 Clusters</a></span></li><li><span><a href=\"#Hyperparameter-Tuning-Using-Grid-Search-Cross-Validation\" data-toc-modified-id=\"Hyperparameter-Tuning-Using-Grid-Search-Cross-Validation-5.1.3\"><span class=\"toc-item-num\">5.1.3&nbsp;&nbsp;</span>Hyperparameter Tuning Using Grid Search Cross-Validation</a></span><ul class=\"toc-item\"><li><span><a href=\"#Cluster-0\" data-toc-modified-id=\"Cluster-0-5.1.3.1\"><span class=\"toc-item-num\">5.1.3.1&nbsp;&nbsp;</span>Cluster 0</a></span></li><li><span><a href=\"#Cluster-1\" data-toc-modified-id=\"Cluster-1-5.1.3.2\"><span class=\"toc-item-num\">5.1.3.2&nbsp;&nbsp;</span>Cluster 1</a></span></li></ul></li><li><span><a href=\"#Conclusion\" data-toc-modified-id=\"Conclusion-5.1.4\"><span class=\"toc-item-num\">5.1.4&nbsp;&nbsp;</span>Conclusion</a></span></li></ul></li></ul></li><li><span><a href=\"#Classification\" data-toc-modified-id=\"Classification-6\"><span class=\"toc-item-num\">6&nbsp;&nbsp;</span>Classification</a></span><ul class=\"toc-item\"><li><span><a href=\"#Assign-class-label---define-'high-growth-potential'-areas\" data-toc-modified-id=\"Assign-class-label---define-'high-growth-potential'-areas-6.1\"><span class=\"toc-item-num\">6.1&nbsp;&nbsp;</span>Assign class label - define 'high growth potential' areas</a></span></li><li><span><a href=\"#Random-Forest-Classifier\" data-toc-modified-id=\"Random-Forest-Classifier-6.2\"><span class=\"toc-item-num\">6.2&nbsp;&nbsp;</span>Random Forest Classifier</a></span><ul class=\"toc-item\"><li><span><a href=\"#Base-model\" data-toc-modified-id=\"Base-model-6.2.1\"><span class=\"toc-item-num\">6.2.1&nbsp;&nbsp;</span>Base model</a></span></li><li><span><a href=\"#Cross-validation\" data-toc-modified-id=\"Cross-validation-6.2.2\"><span class=\"toc-item-num\">6.2.2&nbsp;&nbsp;</span>Cross-validation</a></span></li><li><span><a href=\"#Hyperparameter-tuning\" data-toc-modified-id=\"Hyperparameter-tuning-6.2.3\"><span class=\"toc-item-num\">6.2.3&nbsp;&nbsp;</span>Hyperparameter tuning</a></span></li><li><span><a href=\"#Check-top-5-cheapest-postcodes-that-are-predicted-to-have-high-growth\" data-toc-modified-id=\"Check-top-5-cheapest-postcodes-that-are-predicted-to-have-high-growth-6.2.4\"><span class=\"toc-item-num\">6.2.4&nbsp;&nbsp;</span>Check top 5 cheapest postcodes that are predicted to have high growth</a></span></li><li><span><a href=\"#Conclusion\" data-toc-modified-id=\"Conclusion-6.2.5\"><span class=\"toc-item-num\">6.2.5&nbsp;&nbsp;</span>Conclusion</a></span></li></ul></li><li><span><a href=\"#Multi-layer-Perceptron-Classifier\" data-toc-modified-id=\"Multi-layer-Perceptron-Classifier-6.3\"><span class=\"toc-item-num\">6.3&nbsp;&nbsp;</span>Multi-layer Perceptron Classifier</a></span><ul class=\"toc-item\"><li><span><a href=\"#Base-model\" data-toc-modified-id=\"Base-model-6.3.1\"><span class=\"toc-item-num\">6.3.1&nbsp;&nbsp;</span>Base model</a></span><ul class=\"toc-item\"><li><span><a href=\"#Cross-Validation\" data-toc-modified-id=\"Cross-Validation-6.3.1.1\"><span class=\"toc-item-num\">6.3.1.1&nbsp;&nbsp;</span>Cross Validation</a></span></li></ul></li><li><span><a href=\"#Hyperparameter-tuning\" data-toc-modified-id=\"Hyperparameter-tuning-6.3.2\"><span class=\"toc-item-num\">6.3.2&nbsp;&nbsp;</span>Hyperparameter tuning</a></span><ul class=\"toc-item\"><li><span><a href=\"#Tuning-Individual-Parameter\" data-toc-modified-id=\"Tuning-Individual-Parameter-6.3.2.1\"><span class=\"toc-item-num\">6.3.2.1&nbsp;&nbsp;</span>Tuning Individual Parameter</a></span></li><li><span><a href=\"#Tuning-with-GridSearch\" data-toc-modified-id=\"Tuning-with-GridSearch-6.3.2.2\"><span class=\"toc-item-num\">6.3.2.2&nbsp;&nbsp;</span>Tuning with GridSearch</a></span></li></ul></li><li><span><a href=\"#Best-MLPClassifier\" data-toc-modified-id=\"Best-MLPClassifier-6.3.3\"><span class=\"toc-item-num\">6.3.3&nbsp;&nbsp;</span>Best MLPClassifier</a></span><ul class=\"toc-item\"><li><span><a href=\"#Best-MLPClassifier---based-on-individual-tuning\" data-toc-modified-id=\"Best-MLPClassifier---based-on-individual-tuning-6.3.3.1\"><span class=\"toc-item-num\">6.3.3.1&nbsp;&nbsp;</span>Best MLPClassifier - based on individual tuning</a></span></li><li><span><a href=\"#Best-MLPClassifier---based-on-GridSearch\" data-toc-modified-id=\"Best-MLPClassifier---based-on-GridSearch-6.3.3.2\"><span class=\"toc-item-num\">6.3.3.2&nbsp;&nbsp;</span>Best MLPClassifier - based on GridSearch</a></span></li></ul></li></ul></li><li><span><a href=\"#The-Classifier-of-Choice\" data-toc-modified-id=\"The-Classifier-of-Choice-6.4\"><span class=\"toc-item-num\">6.4&nbsp;&nbsp;</span>The Classifier of Choice</a></span></li><li><span><a href=\"#Analysis-and-Interpretation\" data-toc-modified-id=\"Analysis-and-Interpretation-6.5\"><span class=\"toc-item-num\">6.5&nbsp;&nbsp;</span>Analysis and Interpretation</a></span></li></ul></li><li><span><a href=\"#Results\" data-toc-modified-id=\"Results-7\"><span class=\"toc-item-num\">7&nbsp;&nbsp;</span>Results</a></span></li><li><span><a href=\"#Conclusion-and-Outlook\" data-toc-modified-id=\"Conclusion-and-Outlook-8\"><span class=\"toc-item-num\">8&nbsp;&nbsp;</span>Conclusion and Outlook</a></span></li></ul></div>"
   ]
  },
  {
   "cell_type": "markdown",
   "id": "5ae51e48",
   "metadata": {},
   "source": [
    "# Introduction\n",
    "\n",
    "In this note book, we explore various topics related to the NSW property market in the context of the onging COVID pandemic in an attempt to validate or invalidate some common beliefs people hold about the housing market, to list a few:\n",
    "* Now it's the best time to buy/inevest in a property, the market is crashing!\n",
    "* Too many people have tried to seize the opportunity, it's not an opportunity anymore... \n",
    "* Take advantage of the cheap rent while you can, tenants are the boss these days.\n",
    "\n",
    "As a group of Data Analysts in training, we surely won't take 'expert opinions' on the news as gospel. Instead, here we've gathered data of property sales and rental activities released by the NSW government as well as demographic and socioeconomic information from credible source to conduct our own analysis. We seek to uncover the real trends of the housing market and identify the driving forces behind these changes in this wild new world we live in.\n"
   ]
  },
  {
   "cell_type": "markdown",
   "id": "82372dd5",
   "metadata": {},
   "source": [
    "## Goals & Methodology\n",
    "\n",
    "**1. Track the trend of house sales and rental activities** \n",
    "\n",
    "Plot the number of sales/bonds and median price/rent over the period of Q3 2017 to Q1 2021, aiming to provide insights into following questions: \n",
    "\n",
    "* Are more people buying or investing in properties nowadays compared to the pre-COVID period? \n",
    "* How have the housing and rental activities changed since COVID? Are there any correlations between both? \n",
    "* Are there any differences across geographic areas? What are the most popular and fast growing areas in the housing market?\n",
    "\n",
    "**2. Identify the correlations between house market activities and selected demographic and socioeconomic features**\n",
    "\n",
    "* Use correlation matrix to identify features highly correlated to house price and sales and to rule out multicollinearity for modelling\n",
    "* Plot trended housing data together with time-series features (interest rate and government bond yields) to explore correlation  \n",
    "\n",
    "**3. Predict house prices**\n",
    "\n",
    "* Build a linear regression model with \n",
    "    * the median house prices of the latest time period (Q1 2021) as target variable\n",
    "    * number of sales, number of bonds and weekly rent from the same time period, house prices from previous 4 time periods as well as demographic/ socioecnomic features as predictor variablees \n",
    "* Use RFE to determine the optimal number of features and select best features \n",
    "* Use GridSearchCV to find best parameters for the linear regression model\n",
    "* Validate model performance using cross validation\n",
    "\n",
    "**4. Find similar areas**\n",
    "\n",
    "* Identify clusters of similar LGAs to see if some house prices between the LGAs behave similarly with each other. The two clustering method tested are:\n",
    "    * K-means clustering\n",
    "    * Hierarchical clustering\n",
    "* Build one linear regression model on house price for each cluster, compare the results with the prediction based on the whole sample and decide if regression by cluster provides better performance.\n",
    "\n",
    "**5. Identify locations with high growth potentials**\n",
    "\n",
    "* Label postal areas whose house price increase rate of the latest time period (Q1 2021) is greater than 5% as 'high growth' areas \n",
    "* Build a classifier to classify postcodes into the high growth potential / low growth potential classes\n",
    "    * Random Forest\n",
    "    * Artificial Neural Network\n",
    "* Optimise classifier through hyperparameter tuning \n",
    "* Compare performance of different models and select the best"
   ]
  },
  {
   "cell_type": "markdown",
   "id": "3183a3ab",
   "metadata": {},
   "source": [
    "## Data Source and Variable Directory\n",
    "\n",
    "**<u>Housing Data</u>**\n",
    "<br>The housing data used in this analysis was obtained from Resources centre of the [NSW communities & Justice website](https://www.facs.nsw.gov.au/resources/statistics/rent-and-sales/back-issues). Data is released on quarterly base and provide information about house sales and rent activities in NSW by postcode and LGA. Here we choose to analyse the data at postcode level to have more robust sample size and greater precision. The raw sales and rent files are stored under <i>'Files/Sales'</i> and <i>'Files/Rent'</i> directoty respectively. </br>\n",
    "\n",
    "To explore the trends, we've concatenated 15 quarters (from Q3 2017 and Q1 2021) of sales and rent data into one single file (saved under <i>'Files/Cleaned/Housing'</i>, which contains below variables:\n",
    "* **postcode**: NSW postcodes, unique identifier of geographical areas in the data\n",
    "* **skey**: the issue number of raw sales reports, starting with an 's' + 3 digit numbers \n",
    "* **dwelling_type**: dwelling type by Strata, Non-strata or Total\n",
    "* **median_price**: the median price of properties sold (in AUD'000s)\n",
    "* **mean_price**: the mean price of properties sold (in AUD'000s)\n",
    "* **sales_no**: the number of properties sales made in a given time period\n",
    "* **rkey**: the issue number of raw rent reports, starting with an 'r' + 3 digit numbers\n",
    "* **median_rent_newb**: Median Weekly Rent for New Bonds (in AUD)\n",
    "* **new_bonds_no**:the number of new bonds lodged in a given time period in the area\n",
    "* **total_bonds_no**: the total number of bonds held in a given time period in the area\n",
    "\n",
    "\n",
    "\n",
    "<br>**<u>Feature Data</u>**</br>\n",
    "We've gathered demographic information for different parts of NSW and socioenocomic indicators over the time period of interest from various source, namely:\n",
    "* 2016 Census from Australian Bureau of Statistics\n",
    "* Reserve Bank of Australia\n",
    "* [Yieldbroker](https://www.yieldbroker.com/)\n",
    "\n",
    "and merged the features into the housing data to create a compelete data set which includes following features:\n",
    "* **INCP**: Total personal income (Weekly)\n",
    "    * INCP_LOW: less than \\\\$749 (AUD) per week (inclusive)\n",
    "    * INCP_MID: \\\\$800 - \\\\$1749 (AUD) per week\n",
    "    * INCP_HIGH: greater than $1750 (AUD) per week (inclusive)\n",
    "    * INCP_NEG_NIL: zero or negtive income\n",
    "* **CPRF**: Count of persons in family, i.e. household sizes, ranging from 2 to 6+ people\n",
    "* **Population**: Residing population within each postcode area in 2016\n",
    "    * Population by age group: 0-4yo, 5-14yo, 15-24yo, 25-34yo, 35-54yo, 55-64yo, 65+yo \n",
    "    * Population_2016: derived from the sum of all age groups and those preferred not to answer (na)\n",
    "* **Citizenship**: \n",
    "    * Citizen_AU: the number of residents who hold Australian citizenship\n",
    "    * Citizen_non_AU: the number of residents who hold citizenship of other countries\n",
    "* **YARRP**: Year of arrival in australia - the number of immigrants/ visa-holding temporary residents who first arrived in australia in the following time period\n",
    "    * YARRP < 1975: prior to year 1975 (inclusive)\n",
    "    * YARRP 1976-1995: between year 1976 and 1995\n",
    "    * YARRP 1996-2005: between year 1996 and 2005\n",
    "    * YARRP 2006-2016: between year 1996 and August 2016\n",
    "* **ATSI**: the number of residents who identify as Aboriginal and/or Torres Strait Islanders\n",
    "* **Bonds%**: yield on Commonwealth Government bonds\n",
    "    * 2yBonds%: yield on 2 year bond\n",
    "    * 10yBonds%: yield on 10 year bond\n",
    "* **Rate**: Interest rate/cash rate (percent)\n",
    "* **constr_index**: Index of construction-related prices in Australia\n",
    "\n",
    "\n",
    "<br>**<u>Map Data</u>**</br>\n",
    "\n",
    "* [Australian Postcodes longitude and latitude data](https://github.com/Elkfox/Australian-Postcode-Data/blob/master/au_postcodes.csv)\n",
    "* [Postcode shape files](https://data.gov.au/geoserver/nsw-suburb-locality-boundaries-psma-administrative-boundaries/wfs?request=GetFeature&typeName=ckan_91e70237_d9d1_4719_a82f_e71b811154c6&outputFormat=json)\n",
    "* [LGA Shape files](https://www.abs.gov.au/AUSSTATS/abs@.nsf/DetailsPage/1270.0.55.003June%202020?OpenDocument)\n"
   ]
  },
  {
   "cell_type": "markdown",
   "id": "7bdddb24",
   "metadata": {},
   "source": [
    "## Imports\n",
    "Import libraries and write settings here."
   ]
  },
  {
   "cell_type": "code",
   "execution_count": 1,
   "id": "4b9247d1",
   "metadata": {},
   "outputs": [],
   "source": [
    "import pandas as pd\n",
    "import numpy as np\n",
    "import matplotlib.pyplot as plt\n",
    "import seaborn as sns\n",
    "\n",
    "from sklearn.preprocessing import StandardScaler\n",
    "from sklearn.linear_model import LinearRegression\n",
    "from sklearn.ensemble import RandomForestClassifier\n",
    "from sklearn.neural_network import MLPClassifier\n",
    "\n",
    "from sklearn.cluster import KMeans\n",
    "from scipy.cluster.hierarchy import linkage\n",
    "from scipy.cluster.hierarchy import dendrogram\n",
    "from scipy.cluster.hierarchy import cut_tree\n",
    "\n",
    "from sklearn.model_selection import train_test_split, cross_val_score, cross_val_predict\n",
    "from sklearn.model_selection import GridSearchCV, KFold, StratifiedKFold\n",
    "from sklearn.feature_selection import RFE\n",
    "from sklearn.metrics import accuracy_score, r2_score, mean_squared_error, confusion_matrix\n",
    "\n",
    "import geopandas as gpd\n",
    "from mpl_toolkits.axes_grid1 import make_axes_locatable\n",
    "from shapely.geometry import Point, Polygon\n",
    "# import mapclassify\n",
    "\n",
    "import warnings \n",
    "warnings.filterwarnings('ignore')\n",
    "\n",
    "%matplotlib inline"
   ]
  },
  {
   "cell_type": "markdown",
   "id": "7340b3e6",
   "metadata": {},
   "source": [
    "The data cleaning function takes a few minutes to complete."
   ]
  },
  {
   "cell_type": "markdown",
   "id": "53acbd9f",
   "metadata": {},
   "source": [
    "# Analysis"
   ]
  },
  {
   "cell_type": "markdown",
   "id": "75e2d2c6",
   "metadata": {},
   "source": [
    "## Reading & Cleaning data\n",
    "Due to the lenghthiness of data cleaning and merging, we will only give a brief run down of the process here with reference to the location of relevant piece of code.\n",
    "\n",
    "**Step1. Cleaning of individual house sales and rent data file**\n",
    "* Read quarterly house sales reports (.xlsx) into individual dataframes, perform necessary checkinng, remove and/or impute null values as needed and add time period and indentifier variables</br>\n",
    "* Above step is repeated for all 15 sales files, the resulting dataframes are concacted into two due to the slight difference in the raw data format, which are then saved as csv files (`sales_2017_2018.csv` and `sales_2019_2021.csv`) for later usage.\n",
    "* The same process is performed to quarterly rent reports (.xlsx) and results in `rent_2017_2018.csv` and `rent_2019_2021.csv`. \n",
    "\n",
    "This step is captured in <<u>**@CHRIS** INSERT FUNCTION + EXPLAIN A BIT HERE</u>>.\n",
    "\n",
    "<br>**Step2. Create the master housing data file by merging all sales and rent data**</br>\n",
    "* First merge the two sales files into one and the two rent files into one\n",
    "* The complete sales file and the complete rent file is then merged into the master stacked file (each quarter of data is stacked on top of one another) `Master_Sales_Rent_2017Q4_2021Q1.csv`\n",
    "* Pivot the stacked master file to create an unstacked data file of 5 most recent quarters later modelling (`Pivot_Sales_Rent_5Quarters_Imputed.csv`)\n",
    "\n",
    "This step is captured in the <i>Data Preparation Pt1 (NSW Housing data)</i> notebook.\n",
    "\n",
    "<br>**Step3. Clean feature data and merge into the master data files**</br>\n",
    "* Features mentioned in prior section are read into separate dataframes cleaned individually\n",
    "* Once processed, the features are merged into the master stacked and unstacked data file using postcode or time period as key. \n",
    "* The final complete data files are:\n",
    "    * Stacked: `Master_Sales_Rent_2017Q4_2021Q1_pcFeatures.csv`\n",
    "    * Unstacked: `Unstacked_Sales_Rent_5Quarters_Imputed_pcFeatures.csv`\n",
    "    \n",
    "This step is captured in the <i>Data Preparation Pt2 (Feature data)</i> notebook."
   ]
  },
  {
   "cell_type": "code",
   "execution_count": 2,
   "id": "1d11dd05",
   "metadata": {},
   "outputs": [],
   "source": [
    "#%run chrisDataCleanFunction.ipynb"
   ]
  },
  {
   "cell_type": "markdown",
   "id": "bdc3a5bd",
   "metadata": {},
   "source": [
    "We get the following DFs:\n",
    "\n",
    "- `salesNew`\n",
    "- `salesOld`\n",
    "- `salesNew_nStrata`\n",
    "- `salesNew_strata`\n",
    "- `salesNew_total`\n",
    "- `salesOld_nStrata`\n",
    "- `salesOld_strata`\n",
    "- `salesOld_total`\n",
    "- `rentNew`\n",
    "- `rentOld`"
   ]
  },
  {
   "cell_type": "code",
   "execution_count": 3,
   "id": "daa435a2",
   "metadata": {},
   "outputs": [
    {
     "data": {
      "text/html": [
       "<div>\n",
       "<style scoped>\n",
       "    .dataframe tbody tr th:only-of-type {\n",
       "        vertical-align: middle;\n",
       "    }\n",
       "\n",
       "    .dataframe tbody tr th {\n",
       "        vertical-align: top;\n",
       "    }\n",
       "\n",
       "    .dataframe thead th {\n",
       "        text-align: right;\n",
       "    }\n",
       "</style>\n",
       "<table border=\"1\" class=\"dataframe\">\n",
       "  <thead>\n",
       "    <tr style=\"text-align: right;\">\n",
       "      <th></th>\n",
       "      <th>postcode</th>\n",
       "      <th>skey</th>\n",
       "      <th>time_period</th>\n",
       "      <th>year</th>\n",
       "      <th>quarter</th>\n",
       "      <th>dwelling_type</th>\n",
       "      <th>median_price</th>\n",
       "      <th>mean_price</th>\n",
       "      <th>sales_no</th>\n",
       "      <th>Qdelta_median</th>\n",
       "      <th>Adelta_median</th>\n",
       "      <th>Qdelta_count</th>\n",
       "      <th>Adelta_count</th>\n",
       "      <th>rkey</th>\n",
       "      <th>median_rent_newb</th>\n",
       "      <th>new_bonds_no</th>\n",
       "      <th>total_bonds_no</th>\n",
       "      <th>Qdelta_median_rent</th>\n",
       "      <th>Qdelta_new_bonds</th>\n",
       "      <th>Adelta_median_rent</th>\n",
       "      <th>Adelta_new_bonds</th>\n",
       "      <th>INCP_LOW</th>\n",
       "      <th>INCP_MID</th>\n",
       "      <th>INCP_HIGH</th>\n",
       "      <th>INCP_NEG_NIL</th>\n",
       "      <th>CPRF_2</th>\n",
       "      <th>CPRF_3</th>\n",
       "      <th>CPRF_4</th>\n",
       "      <th>CPRF_5</th>\n",
       "      <th>CPRF_6+</th>\n",
       "      <th>CPRF_na</th>\n",
       "      <th>CPRF_HHOLD_NO</th>\n",
       "      <th>0-4yo</th>\n",
       "      <th>5-14yo</th>\n",
       "      <th>15-24yo</th>\n",
       "      <th>25-34yo</th>\n",
       "      <th>35-54yo</th>\n",
       "      <th>55-64yo</th>\n",
       "      <th>65+yo</th>\n",
       "      <th>population_2016</th>\n",
       "      <th>citizen_AU</th>\n",
       "      <th>citizen_non_AU</th>\n",
       "      <th>YARRP &lt;1975</th>\n",
       "      <th>YARRP 1976-1995</th>\n",
       "      <th>YARRP 1996-2005</th>\n",
       "      <th>YARRP 2006-2016</th>\n",
       "      <th>ATSI</th>\n",
       "      <th>2yBonds%</th>\n",
       "      <th>10yBonds%</th>\n",
       "      <th>constr_index</th>\n",
       "      <th>Rate</th>\n",
       "    </tr>\n",
       "  </thead>\n",
       "  <tbody>\n",
       "    <tr>\n",
       "      <th>0</th>\n",
       "      <td>2000</td>\n",
       "      <td>s122</td>\n",
       "      <td>2017 Q3</td>\n",
       "      <td>2017</td>\n",
       "      <td>Q3</td>\n",
       "      <td>Total</td>\n",
       "      <td>1350.0</td>\n",
       "      <td>1516.328059</td>\n",
       "      <td>135.0</td>\n",
       "      <td>0.1345</td>\n",
       "      <td>0.4746</td>\n",
       "      <td>-0.3250</td>\n",
       "      <td>-0.3112</td>\n",
       "      <td>r121</td>\n",
       "      <td>640.0</td>\n",
       "      <td>1169.0</td>\n",
       "      <td>7914.0</td>\n",
       "      <td>-0.2000</td>\n",
       "      <td>0.5545</td>\n",
       "      <td>NaN</td>\n",
       "      <td>NaN</td>\n",
       "      <td>9307</td>\n",
       "      <td>5319</td>\n",
       "      <td>3929</td>\n",
       "      <td>3501</td>\n",
       "      <td>3453.0</td>\n",
       "      <td>857.0</td>\n",
       "      <td>354.0</td>\n",
       "      <td>54.0</td>\n",
       "      <td>21.0</td>\n",
       "      <td>8125.0</td>\n",
       "      <td>12861.0</td>\n",
       "      <td>698.0</td>\n",
       "      <td>552.0</td>\n",
       "      <td>5831.0</td>\n",
       "      <td>10676.0</td>\n",
       "      <td>6298.0</td>\n",
       "      <td>1670.0</td>\n",
       "      <td>1692.0</td>\n",
       "      <td>27411.0</td>\n",
       "      <td>8691.0</td>\n",
       "      <td>14662.0</td>\n",
       "      <td>525.0</td>\n",
       "      <td>1590.0</td>\n",
       "      <td>2175.0</td>\n",
       "      <td>13023.0</td>\n",
       "      <td>53.0</td>\n",
       "      <td>1.814167</td>\n",
       "      <td>2.646667</td>\n",
       "      <td>112.0</td>\n",
       "      <td>1.5</td>\n",
       "    </tr>\n",
       "    <tr>\n",
       "      <th>1</th>\n",
       "      <td>2000</td>\n",
       "      <td>s122</td>\n",
       "      <td>2017 Q3</td>\n",
       "      <td>2017</td>\n",
       "      <td>Q3</td>\n",
       "      <td>Strata</td>\n",
       "      <td>1350.0</td>\n",
       "      <td>1516.328059</td>\n",
       "      <td>135.0</td>\n",
       "      <td>0.1431</td>\n",
       "      <td>0.5553</td>\n",
       "      <td>-0.3182</td>\n",
       "      <td>-0.2703</td>\n",
       "      <td>r121</td>\n",
       "      <td>640.0</td>\n",
       "      <td>1169.0</td>\n",
       "      <td>7914.0</td>\n",
       "      <td>-0.2000</td>\n",
       "      <td>0.5545</td>\n",
       "      <td>NaN</td>\n",
       "      <td>NaN</td>\n",
       "      <td>9307</td>\n",
       "      <td>5319</td>\n",
       "      <td>3929</td>\n",
       "      <td>3501</td>\n",
       "      <td>3453.0</td>\n",
       "      <td>857.0</td>\n",
       "      <td>354.0</td>\n",
       "      <td>54.0</td>\n",
       "      <td>21.0</td>\n",
       "      <td>8125.0</td>\n",
       "      <td>12861.0</td>\n",
       "      <td>698.0</td>\n",
       "      <td>552.0</td>\n",
       "      <td>5831.0</td>\n",
       "      <td>10676.0</td>\n",
       "      <td>6298.0</td>\n",
       "      <td>1670.0</td>\n",
       "      <td>1692.0</td>\n",
       "      <td>27411.0</td>\n",
       "      <td>8691.0</td>\n",
       "      <td>14662.0</td>\n",
       "      <td>525.0</td>\n",
       "      <td>1590.0</td>\n",
       "      <td>2175.0</td>\n",
       "      <td>13023.0</td>\n",
       "      <td>53.0</td>\n",
       "      <td>1.814167</td>\n",
       "      <td>2.646667</td>\n",
       "      <td>112.0</td>\n",
       "      <td>1.5</td>\n",
       "    </tr>\n",
       "    <tr>\n",
       "      <th>2</th>\n",
       "      <td>2007</td>\n",
       "      <td>s122</td>\n",
       "      <td>2017 Q3</td>\n",
       "      <td>2017</td>\n",
       "      <td>Q3</td>\n",
       "      <td>Total</td>\n",
       "      <td>817.5</td>\n",
       "      <td>804.448333</td>\n",
       "      <td>36.0</td>\n",
       "      <td>-0.1090</td>\n",
       "      <td>-0.1572</td>\n",
       "      <td>-0.4462</td>\n",
       "      <td>-0.3455</td>\n",
       "      <td>r121</td>\n",
       "      <td>535.0</td>\n",
       "      <td>301.0</td>\n",
       "      <td>2231.0</td>\n",
       "      <td>-0.1371</td>\n",
       "      <td>1.1049</td>\n",
       "      <td>NaN</td>\n",
       "      <td>NaN</td>\n",
       "      <td>2803</td>\n",
       "      <td>1458</td>\n",
       "      <td>718</td>\n",
       "      <td>2410</td>\n",
       "      <td>830.0</td>\n",
       "      <td>215.0</td>\n",
       "      <td>98.0</td>\n",
       "      <td>25.0</td>\n",
       "      <td>4.0</td>\n",
       "      <td>2524.0</td>\n",
       "      <td>3696.0</td>\n",
       "      <td>198.0</td>\n",
       "      <td>174.0</td>\n",
       "      <td>3441.0</td>\n",
       "      <td>2850.0</td>\n",
       "      <td>1470.0</td>\n",
       "      <td>333.0</td>\n",
       "      <td>380.0</td>\n",
       "      <td>8846.0</td>\n",
       "      <td>2726.0</td>\n",
       "      <td>5033.0</td>\n",
       "      <td>109.0</td>\n",
       "      <td>479.0</td>\n",
       "      <td>593.0</td>\n",
       "      <td>4517.0</td>\n",
       "      <td>58.0</td>\n",
       "      <td>1.814167</td>\n",
       "      <td>2.646667</td>\n",
       "      <td>112.0</td>\n",
       "      <td>1.5</td>\n",
       "    </tr>\n",
       "    <tr>\n",
       "      <th>3</th>\n",
       "      <td>2007</td>\n",
       "      <td>s122</td>\n",
       "      <td>2017 Q3</td>\n",
       "      <td>2017</td>\n",
       "      <td>Q3</td>\n",
       "      <td>Strata</td>\n",
       "      <td>817.5</td>\n",
       "      <td>804.448333</td>\n",
       "      <td>36.0</td>\n",
       "      <td>-0.0815</td>\n",
       "      <td>-0.1528</td>\n",
       "      <td>-0.4194</td>\n",
       "      <td>-0.3208</td>\n",
       "      <td>r121</td>\n",
       "      <td>535.0</td>\n",
       "      <td>301.0</td>\n",
       "      <td>2231.0</td>\n",
       "      <td>-0.1371</td>\n",
       "      <td>1.1049</td>\n",
       "      <td>NaN</td>\n",
       "      <td>NaN</td>\n",
       "      <td>2803</td>\n",
       "      <td>1458</td>\n",
       "      <td>718</td>\n",
       "      <td>2410</td>\n",
       "      <td>830.0</td>\n",
       "      <td>215.0</td>\n",
       "      <td>98.0</td>\n",
       "      <td>25.0</td>\n",
       "      <td>4.0</td>\n",
       "      <td>2524.0</td>\n",
       "      <td>3696.0</td>\n",
       "      <td>198.0</td>\n",
       "      <td>174.0</td>\n",
       "      <td>3441.0</td>\n",
       "      <td>2850.0</td>\n",
       "      <td>1470.0</td>\n",
       "      <td>333.0</td>\n",
       "      <td>380.0</td>\n",
       "      <td>8846.0</td>\n",
       "      <td>2726.0</td>\n",
       "      <td>5033.0</td>\n",
       "      <td>109.0</td>\n",
       "      <td>479.0</td>\n",
       "      <td>593.0</td>\n",
       "      <td>4517.0</td>\n",
       "      <td>58.0</td>\n",
       "      <td>1.814167</td>\n",
       "      <td>2.646667</td>\n",
       "      <td>112.0</td>\n",
       "      <td>1.5</td>\n",
       "    </tr>\n",
       "    <tr>\n",
       "      <th>4</th>\n",
       "      <td>2008</td>\n",
       "      <td>s122</td>\n",
       "      <td>2017 Q3</td>\n",
       "      <td>2017</td>\n",
       "      <td>Q3</td>\n",
       "      <td>Total</td>\n",
       "      <td>995.0</td>\n",
       "      <td>1061.807024</td>\n",
       "      <td>41.0</td>\n",
       "      <td>-0.0005</td>\n",
       "      <td>0.0205</td>\n",
       "      <td>-0.1087</td>\n",
       "      <td>-0.1277</td>\n",
       "      <td>r121</td>\n",
       "      <td>479.0</td>\n",
       "      <td>762.0</td>\n",
       "      <td>5020.0</td>\n",
       "      <td>-0.1812</td>\n",
       "      <td>1.3374</td>\n",
       "      <td>NaN</td>\n",
       "      <td>NaN</td>\n",
       "      <td>3321</td>\n",
       "      <td>2496</td>\n",
       "      <td>1352</td>\n",
       "      <td>2779</td>\n",
       "      <td>1308.0</td>\n",
       "      <td>243.0</td>\n",
       "      <td>105.0</td>\n",
       "      <td>17.0</td>\n",
       "      <td>7.0</td>\n",
       "      <td>3813.0</td>\n",
       "      <td>5493.0</td>\n",
       "      <td>208.0</td>\n",
       "      <td>196.0</td>\n",
       "      <td>4584.0</td>\n",
       "      <td>4028.0</td>\n",
       "      <td>1862.0</td>\n",
       "      <td>470.0</td>\n",
       "      <td>370.0</td>\n",
       "      <td>11712.0</td>\n",
       "      <td>4358.0</td>\n",
       "      <td>5962.0</td>\n",
       "      <td>155.0</td>\n",
       "      <td>541.0</td>\n",
       "      <td>607.0</td>\n",
       "      <td>5527.0</td>\n",
       "      <td>77.0</td>\n",
       "      <td>1.814167</td>\n",
       "      <td>2.646667</td>\n",
       "      <td>112.0</td>\n",
       "      <td>1.5</td>\n",
       "    </tr>\n",
       "  </tbody>\n",
       "</table>\n",
       "</div>"
      ],
      "text/plain": [
       "   postcode  skey time_period  year quarter dwelling_type  median_price  \\\n",
       "0      2000  s122     2017 Q3  2017      Q3         Total        1350.0   \n",
       "1      2000  s122     2017 Q3  2017      Q3        Strata        1350.0   \n",
       "2      2007  s122     2017 Q3  2017      Q3         Total         817.5   \n",
       "3      2007  s122     2017 Q3  2017      Q3        Strata         817.5   \n",
       "4      2008  s122     2017 Q3  2017      Q3         Total         995.0   \n",
       "\n",
       "    mean_price  sales_no  Qdelta_median  Adelta_median  Qdelta_count  \\\n",
       "0  1516.328059     135.0         0.1345         0.4746       -0.3250   \n",
       "1  1516.328059     135.0         0.1431         0.5553       -0.3182   \n",
       "2   804.448333      36.0        -0.1090        -0.1572       -0.4462   \n",
       "3   804.448333      36.0        -0.0815        -0.1528       -0.4194   \n",
       "4  1061.807024      41.0        -0.0005         0.0205       -0.1087   \n",
       "\n",
       "   Adelta_count  rkey  median_rent_newb  new_bonds_no  total_bonds_no  \\\n",
       "0       -0.3112  r121             640.0        1169.0          7914.0   \n",
       "1       -0.2703  r121             640.0        1169.0          7914.0   \n",
       "2       -0.3455  r121             535.0         301.0          2231.0   \n",
       "3       -0.3208  r121             535.0         301.0          2231.0   \n",
       "4       -0.1277  r121             479.0         762.0          5020.0   \n",
       "\n",
       "   Qdelta_median_rent  Qdelta_new_bonds  Adelta_median_rent  Adelta_new_bonds  \\\n",
       "0             -0.2000            0.5545                 NaN               NaN   \n",
       "1             -0.2000            0.5545                 NaN               NaN   \n",
       "2             -0.1371            1.1049                 NaN               NaN   \n",
       "3             -0.1371            1.1049                 NaN               NaN   \n",
       "4             -0.1812            1.3374                 NaN               NaN   \n",
       "\n",
       "   INCP_LOW  INCP_MID  INCP_HIGH  INCP_NEG_NIL  CPRF_2  CPRF_3  CPRF_4  \\\n",
       "0      9307      5319       3929          3501  3453.0   857.0   354.0   \n",
       "1      9307      5319       3929          3501  3453.0   857.0   354.0   \n",
       "2      2803      1458        718          2410   830.0   215.0    98.0   \n",
       "3      2803      1458        718          2410   830.0   215.0    98.0   \n",
       "4      3321      2496       1352          2779  1308.0   243.0   105.0   \n",
       "\n",
       "   CPRF_5  CPRF_6+  CPRF_na  CPRF_HHOLD_NO  0-4yo  5-14yo  15-24yo  25-34yo  \\\n",
       "0    54.0     21.0   8125.0        12861.0  698.0   552.0   5831.0  10676.0   \n",
       "1    54.0     21.0   8125.0        12861.0  698.0   552.0   5831.0  10676.0   \n",
       "2    25.0      4.0   2524.0         3696.0  198.0   174.0   3441.0   2850.0   \n",
       "3    25.0      4.0   2524.0         3696.0  198.0   174.0   3441.0   2850.0   \n",
       "4    17.0      7.0   3813.0         5493.0  208.0   196.0   4584.0   4028.0   \n",
       "\n",
       "   35-54yo  55-64yo   65+yo  population_2016  citizen_AU  citizen_non_AU  \\\n",
       "0   6298.0   1670.0  1692.0          27411.0      8691.0         14662.0   \n",
       "1   6298.0   1670.0  1692.0          27411.0      8691.0         14662.0   \n",
       "2   1470.0    333.0   380.0           8846.0      2726.0          5033.0   \n",
       "3   1470.0    333.0   380.0           8846.0      2726.0          5033.0   \n",
       "4   1862.0    470.0   370.0          11712.0      4358.0          5962.0   \n",
       "\n",
       "   YARRP <1975  YARRP 1976-1995  YARRP 1996-2005  YARRP 2006-2016  ATSI  \\\n",
       "0        525.0           1590.0           2175.0          13023.0  53.0   \n",
       "1        525.0           1590.0           2175.0          13023.0  53.0   \n",
       "2        109.0            479.0            593.0           4517.0  58.0   \n",
       "3        109.0            479.0            593.0           4517.0  58.0   \n",
       "4        155.0            541.0            607.0           5527.0  77.0   \n",
       "\n",
       "   2yBonds%  10yBonds%  constr_index  Rate  \n",
       "0  1.814167   2.646667         112.0   1.5  \n",
       "1  1.814167   2.646667         112.0   1.5  \n",
       "2  1.814167   2.646667         112.0   1.5  \n",
       "3  1.814167   2.646667         112.0   1.5  \n",
       "4  1.814167   2.646667         112.0   1.5  "
      ]
     },
     "execution_count": 3,
     "metadata": {},
     "output_type": "execute_result"
    }
   ],
   "source": [
    "# reading in\n",
    "master = pd.read_csv(\"Files/Cleaned/Postcode-based/Master_Sales_Rent_2017Q4_2021Q1_pcFeatures.csv\")\n",
    "pd.set_option('display.max_columns', None)\n",
    "master.head()"
   ]
  },
  {
   "cell_type": "code",
   "execution_count": 4,
   "id": "bf0e7bd8",
   "metadata": {
    "scrolled": true
   },
   "outputs": [
    {
     "data": {
      "text/plain": [
       "postcode                int64\n",
       "skey                   object\n",
       "time_period            object\n",
       "year                    int64\n",
       "quarter                object\n",
       "dwelling_type          object\n",
       "median_price          float64\n",
       "mean_price            float64\n",
       "sales_no              float64\n",
       "Qdelta_median         float64\n",
       "Adelta_median         float64\n",
       "Qdelta_count          float64\n",
       "Adelta_count          float64\n",
       "rkey                   object\n",
       "median_rent_newb      float64\n",
       "new_bonds_no          float64\n",
       "total_bonds_no        float64\n",
       "Qdelta_median_rent    float64\n",
       "Qdelta_new_bonds      float64\n",
       "Adelta_median_rent    float64\n",
       "Adelta_new_bonds      float64\n",
       "INCP_LOW                int64\n",
       "INCP_MID                int64\n",
       "INCP_HIGH               int64\n",
       "INCP_NEG_NIL            int64\n",
       "CPRF_2                float64\n",
       "CPRF_3                float64\n",
       "CPRF_4                float64\n",
       "CPRF_5                float64\n",
       "CPRF_6+               float64\n",
       "CPRF_na               float64\n",
       "CPRF_HHOLD_NO         float64\n",
       "0-4yo                 float64\n",
       "5-14yo                float64\n",
       "15-24yo               float64\n",
       "25-34yo               float64\n",
       "35-54yo               float64\n",
       "55-64yo               float64\n",
       "65+yo                 float64\n",
       "population_2016       float64\n",
       "citizen_AU            float64\n",
       "citizen_non_AU        float64\n",
       "YARRP <1975           float64\n",
       "YARRP 1976-1995       float64\n",
       "YARRP 1996-2005       float64\n",
       "YARRP 2006-2016       float64\n",
       "ATSI                  float64\n",
       "2yBonds%              float64\n",
       "10yBonds%             float64\n",
       "constr_index          float64\n",
       "Rate                  float64\n",
       "dtype: object"
      ]
     },
     "execution_count": 4,
     "metadata": {},
     "output_type": "execute_result"
    }
   ],
   "source": [
    "master.dtypes"
   ]
  },
  {
   "cell_type": "code",
   "execution_count": 5,
   "id": "0fc7a00d",
   "metadata": {},
   "outputs": [
    {
     "data": {
      "text/plain": [
       "Index(['postcode', 'skey', 'time_period', 'year', 'quarter', 'dwelling_type',\n",
       "       'median_price', 'mean_price', 'sales_no', 'Qdelta_median',\n",
       "       'Adelta_median', 'Qdelta_count', 'Adelta_count', 'rkey',\n",
       "       'median_rent_newb', 'new_bonds_no', 'total_bonds_no',\n",
       "       'Qdelta_median_rent', 'Qdelta_new_bonds', 'Adelta_median_rent',\n",
       "       'Adelta_new_bonds', 'INCP_LOW', 'INCP_MID', 'INCP_HIGH', 'INCP_NEG_NIL',\n",
       "       'CPRF_2', 'CPRF_3', 'CPRF_4', 'CPRF_5', 'CPRF_6+', 'CPRF_na',\n",
       "       'CPRF_HHOLD_NO', '0-4yo', '5-14yo', '15-24yo', '25-34yo', '35-54yo',\n",
       "       '55-64yo', '65+yo', 'population_2016', 'citizen_AU', 'citizen_non_AU',\n",
       "       'YARRP <1975', 'YARRP 1976-1995', 'YARRP 1996-2005', 'YARRP 2006-2016',\n",
       "       'ATSI', '2yBonds%', '10yBonds%', 'constr_index', 'Rate'],\n",
       "      dtype='object')"
      ]
     },
     "execution_count": 5,
     "metadata": {},
     "output_type": "execute_result"
    }
   ],
   "source": [
    "master.columns"
   ]
  },
  {
   "cell_type": "markdown",
   "id": "dbda856a",
   "metadata": {},
   "source": [
    "## Variable Analysis"
   ]
  },
  {
   "cell_type": "markdown",
   "id": "4f30130d",
   "metadata": {},
   "source": [
    "### Over Time (Felix)\n",
    "Analyse possible relationships between target variable and features. Check if features are correlated."
   ]
  },
  {
   "cell_type": "code",
   "execution_count": 6,
   "id": "0e1ab5ef",
   "metadata": {},
   "outputs": [
    {
     "data": {
      "text/html": [
       "<div>\n",
       "<style scoped>\n",
       "    .dataframe tbody tr th:only-of-type {\n",
       "        vertical-align: middle;\n",
       "    }\n",
       "\n",
       "    .dataframe tbody tr th {\n",
       "        vertical-align: top;\n",
       "    }\n",
       "\n",
       "    .dataframe thead th {\n",
       "        text-align: right;\n",
       "    }\n",
       "</style>\n",
       "<table border=\"1\" class=\"dataframe\">\n",
       "  <thead>\n",
       "    <tr style=\"text-align: right;\">\n",
       "      <th></th>\n",
       "      <th>0-4yo</th>\n",
       "      <th>10yBonds%</th>\n",
       "      <th>15-24yo</th>\n",
       "      <th>25-34yo</th>\n",
       "      <th>2yBonds%</th>\n",
       "      <th>35-54yo</th>\n",
       "      <th>5-14yo</th>\n",
       "      <th>55-64yo</th>\n",
       "      <th>65+yo</th>\n",
       "      <th>ATSI</th>\n",
       "      <th>Adelta_count</th>\n",
       "      <th>Adelta_median</th>\n",
       "      <th>Adelta_median_rent</th>\n",
       "      <th>Adelta_new_bonds</th>\n",
       "      <th>CPRF_2</th>\n",
       "      <th>CPRF_3</th>\n",
       "      <th>CPRF_4</th>\n",
       "      <th>CPRF_5</th>\n",
       "      <th>CPRF_6+</th>\n",
       "      <th>CPRF_HHOLD_NO</th>\n",
       "      <th>CPRF_na</th>\n",
       "      <th>INCP_HIGH</th>\n",
       "      <th>INCP_LOW</th>\n",
       "      <th>INCP_MID</th>\n",
       "      <th>INCP_NEG_NIL</th>\n",
       "      <th>Qdelta_count</th>\n",
       "      <th>Qdelta_median</th>\n",
       "      <th>Qdelta_median_rent</th>\n",
       "      <th>Qdelta_new_bonds</th>\n",
       "      <th>Rate</th>\n",
       "      <th>YARRP 1976-1995</th>\n",
       "      <th>YARRP 1996-2005</th>\n",
       "      <th>YARRP 2006-2016</th>\n",
       "      <th>YARRP &lt;1975</th>\n",
       "      <th>citizen_AU</th>\n",
       "      <th>citizen_non_AU</th>\n",
       "      <th>constr_index</th>\n",
       "      <th>mean_price</th>\n",
       "      <th>median_price</th>\n",
       "      <th>median_rent_newb</th>\n",
       "      <th>new_bonds_no</th>\n",
       "      <th>population_2016</th>\n",
       "      <th>postcode</th>\n",
       "      <th>sales_no</th>\n",
       "      <th>total_bonds_no</th>\n",
       "      <th>year</th>\n",
       "    </tr>\n",
       "    <tr>\n",
       "      <th>time_period</th>\n",
       "      <th></th>\n",
       "      <th></th>\n",
       "      <th></th>\n",
       "      <th></th>\n",
       "      <th></th>\n",
       "      <th></th>\n",
       "      <th></th>\n",
       "      <th></th>\n",
       "      <th></th>\n",
       "      <th></th>\n",
       "      <th></th>\n",
       "      <th></th>\n",
       "      <th></th>\n",
       "      <th></th>\n",
       "      <th></th>\n",
       "      <th></th>\n",
       "      <th></th>\n",
       "      <th></th>\n",
       "      <th></th>\n",
       "      <th></th>\n",
       "      <th></th>\n",
       "      <th></th>\n",
       "      <th></th>\n",
       "      <th></th>\n",
       "      <th></th>\n",
       "      <th></th>\n",
       "      <th></th>\n",
       "      <th></th>\n",
       "      <th></th>\n",
       "      <th></th>\n",
       "      <th></th>\n",
       "      <th></th>\n",
       "      <th></th>\n",
       "      <th></th>\n",
       "      <th></th>\n",
       "      <th></th>\n",
       "      <th></th>\n",
       "      <th></th>\n",
       "      <th></th>\n",
       "      <th></th>\n",
       "      <th></th>\n",
       "      <th></th>\n",
       "      <th></th>\n",
       "      <th></th>\n",
       "      <th></th>\n",
       "      <th></th>\n",
       "    </tr>\n",
       "  </thead>\n",
       "  <tbody>\n",
       "    <tr>\n",
       "      <th>2017 Q3</th>\n",
       "      <td>949.302292</td>\n",
       "      <td>2.646667</td>\n",
       "      <td>1893.363181</td>\n",
       "      <td>2186.928367</td>\n",
       "      <td>1.814167</td>\n",
       "      <td>4028.681948</td>\n",
       "      <td>1870.289398</td>\n",
       "      <td>1788.164040</td>\n",
       "      <td>2444.792264</td>\n",
       "      <td>412.926934</td>\n",
       "      <td>0.091783</td>\n",
       "      <td>0.092325</td>\n",
       "      <td>NaN</td>\n",
       "      <td>NaN</td>\n",
       "      <td>1765.381805</td>\n",
       "      <td>871.722779</td>\n",
       "      <td>838.272923</td>\n",
       "      <td>340.507163</td>\n",
       "      <td>130.472779</td>\n",
       "      <td>6118.851719</td>\n",
       "      <td>2172.604585</td>\n",
       "      <td>1536.497851</td>\n",
       "      <td>5203.547994</td>\n",
       "      <td>3301.285817</td>\n",
       "      <td>1223.813754</td>\n",
       "      <td>0.181102</td>\n",
       "      <td>-0.001544</td>\n",
       "      <td>0.002295</td>\n",
       "      <td>0.102793</td>\n",
       "      <td>1.500000</td>\n",
       "      <td>1087.696991</td>\n",
       "      <td>777.256447</td>\n",
       "      <td>1488.936963</td>\n",
       "      <td>813.984957</td>\n",
       "      <td>12521.073782</td>\n",
       "      <td>1637.929083</td>\n",
       "      <td>112.0</td>\n",
       "      <td>881.040117</td>\n",
       "      <td>817.798515</td>\n",
       "      <td>468.486011</td>\n",
       "      <td>149.977762</td>\n",
       "      <td>15161.582378</td>\n",
       "      <td>2373.504298</td>\n",
       "      <td>47.223496</td>\n",
       "      <td>1592.468436</td>\n",
       "      <td>2017</td>\n",
       "    </tr>\n",
       "    <tr>\n",
       "      <th>2017 Q4</th>\n",
       "      <td>940.663812</td>\n",
       "      <td>2.643333</td>\n",
       "      <td>1880.937901</td>\n",
       "      <td>2174.952177</td>\n",
       "      <td>1.866667</td>\n",
       "      <td>3997.364026</td>\n",
       "      <td>1853.124911</td>\n",
       "      <td>1777.055675</td>\n",
       "      <td>2433.186296</td>\n",
       "      <td>409.760885</td>\n",
       "      <td>-0.020630</td>\n",
       "      <td>0.058321</td>\n",
       "      <td>0.029231</td>\n",
       "      <td>0.058874</td>\n",
       "      <td>1756.647395</td>\n",
       "      <td>864.379729</td>\n",
       "      <td>828.924340</td>\n",
       "      <td>336.874375</td>\n",
       "      <td>129.385439</td>\n",
       "      <td>6083.413990</td>\n",
       "      <td>2167.304069</td>\n",
       "      <td>1522.491078</td>\n",
       "      <td>5176.961456</td>\n",
       "      <td>3275.456817</td>\n",
       "      <td>1214.488936</td>\n",
       "      <td>0.023106</td>\n",
       "      <td>0.028305</td>\n",
       "      <td>0.004922</td>\n",
       "      <td>0.006698</td>\n",
       "      <td>1.500000</td>\n",
       "      <td>1076.157031</td>\n",
       "      <td>768.090650</td>\n",
       "      <td>1481.870807</td>\n",
       "      <td>808.294789</td>\n",
       "      <td>12425.084939</td>\n",
       "      <td>1632.120628</td>\n",
       "      <td>112.5</td>\n",
       "      <td>912.937545</td>\n",
       "      <td>850.072091</td>\n",
       "      <td>470.278542</td>\n",
       "      <td>142.995711</td>\n",
       "      <td>15057.276945</td>\n",
       "      <td>2378.672377</td>\n",
       "      <td>44.374019</td>\n",
       "      <td>1470.077913</td>\n",
       "      <td>2017</td>\n",
       "    </tr>\n",
       "    <tr>\n",
       "      <th>2018 Q1</th>\n",
       "      <td>956.077770</td>\n",
       "      <td>2.776667</td>\n",
       "      <td>1909.472487</td>\n",
       "      <td>2208.561262</td>\n",
       "      <td>1.976667</td>\n",
       "      <td>4058.569332</td>\n",
       "      <td>1881.542920</td>\n",
       "      <td>1805.970653</td>\n",
       "      <td>2476.910492</td>\n",
       "      <td>415.263390</td>\n",
       "      <td>-0.115560</td>\n",
       "      <td>0.020207</td>\n",
       "      <td>0.026375</td>\n",
       "      <td>0.082082</td>\n",
       "      <td>1786.775495</td>\n",
       "      <td>879.155539</td>\n",
       "      <td>843.000734</td>\n",
       "      <td>341.777696</td>\n",
       "      <td>130.605282</td>\n",
       "      <td>6185.541453</td>\n",
       "      <td>2204.386647</td>\n",
       "      <td>1551.134263</td>\n",
       "      <td>5259.958914</td>\n",
       "      <td>3329.323551</td>\n",
       "      <td>1234.458547</td>\n",
       "      <td>-0.147686</td>\n",
       "      <td>-0.007073</td>\n",
       "      <td>0.013973</td>\n",
       "      <td>0.115804</td>\n",
       "      <td>1.500000</td>\n",
       "      <td>1089.993397</td>\n",
       "      <td>782.079971</td>\n",
       "      <td>1514.535583</td>\n",
       "      <td>820.624358</td>\n",
       "      <td>12621.434336</td>\n",
       "      <td>1666.444607</td>\n",
       "      <td>112.9</td>\n",
       "      <td>863.320983</td>\n",
       "      <td>816.213866</td>\n",
       "      <td>472.084446</td>\n",
       "      <td>159.922230</td>\n",
       "      <td>15297.066031</td>\n",
       "      <td>2373.030081</td>\n",
       "      <td>36.843727</td>\n",
       "      <td>1512.078503</td>\n",
       "      <td>2018</td>\n",
       "    </tr>\n",
       "    <tr>\n",
       "      <th>2018 Q2</th>\n",
       "      <td>962.785245</td>\n",
       "      <td>2.743333</td>\n",
       "      <td>1922.726808</td>\n",
       "      <td>2222.950329</td>\n",
       "      <td>2.050000</td>\n",
       "      <td>4090.111030</td>\n",
       "      <td>1897.127100</td>\n",
       "      <td>1815.025566</td>\n",
       "      <td>2485.410519</td>\n",
       "      <td>417.528123</td>\n",
       "      <td>-0.075413</td>\n",
       "      <td>-0.010386</td>\n",
       "      <td>0.013191</td>\n",
       "      <td>0.131946</td>\n",
       "      <td>1795.270270</td>\n",
       "      <td>884.257852</td>\n",
       "      <td>849.693207</td>\n",
       "      <td>344.767714</td>\n",
       "      <td>131.828342</td>\n",
       "      <td>6218.214755</td>\n",
       "      <td>2212.485756</td>\n",
       "      <td>1562.482104</td>\n",
       "      <td>5285.854638</td>\n",
       "      <td>3352.120526</td>\n",
       "      <td>1241.222790</td>\n",
       "      <td>0.102858</td>\n",
       "      <td>-0.006796</td>\n",
       "      <td>0.005034</td>\n",
       "      <td>0.043186</td>\n",
       "      <td>1.500000</td>\n",
       "      <td>1096.947407</td>\n",
       "      <td>786.571950</td>\n",
       "      <td>1515.664719</td>\n",
       "      <td>825.804237</td>\n",
       "      <td>12708.062820</td>\n",
       "      <td>1668.872169</td>\n",
       "      <td>114.2</td>\n",
       "      <td>857.570124</td>\n",
       "      <td>796.760774</td>\n",
       "      <td>471.677283</td>\n",
       "      <td>153.766253</td>\n",
       "      <td>15396.138057</td>\n",
       "      <td>2370.439737</td>\n",
       "      <td>38.682980</td>\n",
       "      <td>1540.567568</td>\n",
       "      <td>2018</td>\n",
       "    </tr>\n",
       "    <tr>\n",
       "      <th>2018 Q3</th>\n",
       "      <td>966.580451</td>\n",
       "      <td>2.620000</td>\n",
       "      <td>1928.712030</td>\n",
       "      <td>2234.334586</td>\n",
       "      <td>2.016667</td>\n",
       "      <td>4103.945865</td>\n",
       "      <td>1901.045865</td>\n",
       "      <td>1824.423308</td>\n",
       "      <td>2509.241353</td>\n",
       "      <td>420.318797</td>\n",
       "      <td>-0.333554</td>\n",
       "      <td>-0.045791</td>\n",
       "      <td>0.011829</td>\n",
       "      <td>0.110966</td>\n",
       "      <td>1809.665414</td>\n",
       "      <td>888.172932</td>\n",
       "      <td>851.287970</td>\n",
       "      <td>344.687970</td>\n",
       "      <td>131.439850</td>\n",
       "      <td>6258.281203</td>\n",
       "      <td>2233.134586</td>\n",
       "      <td>1572.530827</td>\n",
       "      <td>5316.199248</td>\n",
       "      <td>3367.025564</td>\n",
       "      <td>1244.733835</td>\n",
       "      <td>-0.128847</td>\n",
       "      <td>-0.026940</td>\n",
       "      <td>0.000367</td>\n",
       "      <td>0.100956</td>\n",
       "      <td>1.500000</td>\n",
       "      <td>1092.512030</td>\n",
       "      <td>785.227068</td>\n",
       "      <td>1525.367669</td>\n",
       "      <td>829.269173</td>\n",
       "      <td>12765.602256</td>\n",
       "      <td>1678.130827</td>\n",
       "      <td>114.6</td>\n",
       "      <td>817.623308</td>\n",
       "      <td>759.679699</td>\n",
       "      <td>470.146376</td>\n",
       "      <td>167.330075</td>\n",
       "      <td>15468.212782</td>\n",
       "      <td>2371.206015</td>\n",
       "      <td>29.440602</td>\n",
       "      <td>1576.686466</td>\n",
       "      <td>2018</td>\n",
       "    </tr>\n",
       "    <tr>\n",
       "      <th>2018 Q4</th>\n",
       "      <td>954.798387</td>\n",
       "      <td>2.596667</td>\n",
       "      <td>1907.991202</td>\n",
       "      <td>2212.280059</td>\n",
       "      <td>1.996667</td>\n",
       "      <td>4055.846041</td>\n",
       "      <td>1878.004399</td>\n",
       "      <td>1800.642962</td>\n",
       "      <td>2469.667155</td>\n",
       "      <td>414.839443</td>\n",
       "      <td>-0.188673</td>\n",
       "      <td>-0.032894</td>\n",
       "      <td>0.009690</td>\n",
       "      <td>0.100544</td>\n",
       "      <td>1785.084311</td>\n",
       "      <td>877.392962</td>\n",
       "      <td>841.321114</td>\n",
       "      <td>340.824780</td>\n",
       "      <td>130.112170</td>\n",
       "      <td>6178.359238</td>\n",
       "      <td>2203.706745</td>\n",
       "      <td>1552.113636</td>\n",
       "      <td>5245.323314</td>\n",
       "      <td>3329.323314</td>\n",
       "      <td>1231.694282</td>\n",
       "      <td>0.047811</td>\n",
       "      <td>-0.006211</td>\n",
       "      <td>0.003254</td>\n",
       "      <td>0.002758</td>\n",
       "      <td>1.500000</td>\n",
       "      <td>1083.307918</td>\n",
       "      <td>778.025660</td>\n",
       "      <td>1511.111437</td>\n",
       "      <td>818.376833</td>\n",
       "      <td>12602.640029</td>\n",
       "      <td>1663.307185</td>\n",
       "      <td>115.1</td>\n",
       "      <td>848.209677</td>\n",
       "      <td>787.079912</td>\n",
       "      <td>467.485337</td>\n",
       "      <td>156.173754</td>\n",
       "      <td>15279.221408</td>\n",
       "      <td>2373.824780</td>\n",
       "      <td>35.145894</td>\n",
       "      <td>1570.950147</td>\n",
       "      <td>2018</td>\n",
       "    </tr>\n",
       "    <tr>\n",
       "      <th>2019 Q1</th>\n",
       "      <td>980.955371</td>\n",
       "      <td>2.120000</td>\n",
       "      <td>1960.025719</td>\n",
       "      <td>2264.162632</td>\n",
       "      <td>1.726667</td>\n",
       "      <td>4165.496974</td>\n",
       "      <td>1932.476551</td>\n",
       "      <td>1849.976551</td>\n",
       "      <td>2534.949319</td>\n",
       "      <td>423.555976</td>\n",
       "      <td>-0.252468</td>\n",
       "      <td>-0.061137</td>\n",
       "      <td>0.004730</td>\n",
       "      <td>0.098456</td>\n",
       "      <td>1829.095310</td>\n",
       "      <td>902.476551</td>\n",
       "      <td>866.376702</td>\n",
       "      <td>351.472012</td>\n",
       "      <td>134.583964</td>\n",
       "      <td>6335.527988</td>\n",
       "      <td>2251.608926</td>\n",
       "      <td>1592.358548</td>\n",
       "      <td>5391.402421</td>\n",
       "      <td>3415.299546</td>\n",
       "      <td>1266.746596</td>\n",
       "      <td>-0.173342</td>\n",
       "      <td>-0.023303</td>\n",
       "      <td>0.007225</td>\n",
       "      <td>0.098570</td>\n",
       "      <td>1.500000</td>\n",
       "      <td>1122.414523</td>\n",
       "      <td>801.757943</td>\n",
       "      <td>1550.065053</td>\n",
       "      <td>846.186838</td>\n",
       "      <td>12949.819970</td>\n",
       "      <td>1706.295764</td>\n",
       "      <td>115.3</td>\n",
       "      <td>807.459153</td>\n",
       "      <td>753.301059</td>\n",
       "      <td>475.130106</td>\n",
       "      <td>174.481846</td>\n",
       "      <td>15688.163389</td>\n",
       "      <td>2366.751135</td>\n",
       "      <td>28.220121</td>\n",
       "      <td>1620.857791</td>\n",
       "      <td>2019</td>\n",
       "    </tr>\n",
       "    <tr>\n",
       "      <th>2019 Q2</th>\n",
       "      <td>970.722883</td>\n",
       "      <td>1.630000</td>\n",
       "      <td>1942.586924</td>\n",
       "      <td>2245.878158</td>\n",
       "      <td>1.233333</td>\n",
       "      <td>4127.618128</td>\n",
       "      <td>1912.867013</td>\n",
       "      <td>1832.043834</td>\n",
       "      <td>2508.736999</td>\n",
       "      <td>419.251114</td>\n",
       "      <td>-0.073638</td>\n",
       "      <td>-0.043900</td>\n",
       "      <td>0.000533</td>\n",
       "      <td>0.056955</td>\n",
       "      <td>1811.488113</td>\n",
       "      <td>892.650817</td>\n",
       "      <td>857.289747</td>\n",
       "      <td>347.887073</td>\n",
       "      <td>133.373700</td>\n",
       "      <td>6276.381872</td>\n",
       "      <td>2233.849926</td>\n",
       "      <td>1577.777860</td>\n",
       "      <td>5336.060178</td>\n",
       "      <td>3383.470282</td>\n",
       "      <td>1254.681278</td>\n",
       "      <td>0.487360</td>\n",
       "      <td>0.011848</td>\n",
       "      <td>-0.000037</td>\n",
       "      <td>0.007091</td>\n",
       "      <td>1.430328</td>\n",
       "      <td>1112.766716</td>\n",
       "      <td>795.869242</td>\n",
       "      <td>1536.875186</td>\n",
       "      <td>836.462110</td>\n",
       "      <td>12820.361813</td>\n",
       "      <td>1691.254086</td>\n",
       "      <td>115.8</td>\n",
       "      <td>875.753343</td>\n",
       "      <td>791.147103</td>\n",
       "      <td>470.155275</td>\n",
       "      <td>159.605498</td>\n",
       "      <td>15540.496285</td>\n",
       "      <td>2369.656761</td>\n",
       "      <td>36.976969</td>\n",
       "      <td>1630.115156</td>\n",
       "      <td>2019</td>\n",
       "    </tr>\n",
       "    <tr>\n",
       "      <th>2019 Q3</th>\n",
       "      <td>963.489408</td>\n",
       "      <td>1.096667</td>\n",
       "      <td>1925.472608</td>\n",
       "      <td>2224.981008</td>\n",
       "      <td>0.820000</td>\n",
       "      <td>4093.101534</td>\n",
       "      <td>1898.048210</td>\n",
       "      <td>1816.474799</td>\n",
       "      <td>2484.789627</td>\n",
       "      <td>416.441198</td>\n",
       "      <td>0.166641</td>\n",
       "      <td>0.003505</td>\n",
       "      <td>-0.005096</td>\n",
       "      <td>0.101885</td>\n",
       "      <td>1795.068663</td>\n",
       "      <td>885.642075</td>\n",
       "      <td>850.927684</td>\n",
       "      <td>345.157779</td>\n",
       "      <td>132.247626</td>\n",
       "      <td>6219.358656</td>\n",
       "      <td>2210.442659</td>\n",
       "      <td>1563.851717</td>\n",
       "      <td>5287.051132</td>\n",
       "      <td>3354.843682</td>\n",
       "      <td>1244.087655</td>\n",
       "      <td>0.179992</td>\n",
       "      <td>0.050371</td>\n",
       "      <td>-0.005779</td>\n",
       "      <td>0.136817</td>\n",
       "      <td>1.007576</td>\n",
       "      <td>1102.358656</td>\n",
       "      <td>788.531775</td>\n",
       "      <td>1518.048941</td>\n",
       "      <td>827.338203</td>\n",
       "      <td>12716.172389</td>\n",
       "      <td>1670.437546</td>\n",
       "      <td>115.8</td>\n",
       "      <td>908.508400</td>\n",
       "      <td>821.303871</td>\n",
       "      <td>466.598247</td>\n",
       "      <td>176.550037</td>\n",
       "      <td>15406.472608</td>\n",
       "      <td>2369.368882</td>\n",
       "      <td>39.820307</td>\n",
       "      <td>1618.223521</td>\n",
       "      <td>2019</td>\n",
       "    </tr>\n",
       "    <tr>\n",
       "      <th>2019 Q4</th>\n",
       "      <td>959.941860</td>\n",
       "      <td>1.126667</td>\n",
       "      <td>1918.542878</td>\n",
       "      <td>2215.962209</td>\n",
       "      <td>0.766667</td>\n",
       "      <td>4077.707122</td>\n",
       "      <td>1891.726744</td>\n",
       "      <td>1809.436047</td>\n",
       "      <td>2473.380814</td>\n",
       "      <td>412.446221</td>\n",
       "      <td>0.329876</td>\n",
       "      <td>0.096822</td>\n",
       "      <td>0.001075</td>\n",
       "      <td>0.071431</td>\n",
       "      <td>1787.464390</td>\n",
       "      <td>882.047965</td>\n",
       "      <td>848.042878</td>\n",
       "      <td>344.373547</td>\n",
       "      <td>131.835756</td>\n",
       "      <td>6193.712209</td>\n",
       "      <td>2200.094477</td>\n",
       "      <td>1557.327762</td>\n",
       "      <td>5264.346657</td>\n",
       "      <td>3343.866279</td>\n",
       "      <td>1239.971657</td>\n",
       "      <td>0.151515</td>\n",
       "      <td>0.092303</td>\n",
       "      <td>0.008051</td>\n",
       "      <td>-0.032068</td>\n",
       "      <td>0.753906</td>\n",
       "      <td>1101.023256</td>\n",
       "      <td>786.920785</td>\n",
       "      <td>1512.139535</td>\n",
       "      <td>823.925145</td>\n",
       "      <td>12668.294331</td>\n",
       "      <td>1663.720930</td>\n",
       "      <td>116.0</td>\n",
       "      <td>916.453488</td>\n",
       "      <td>868.515262</td>\n",
       "      <td>470.753634</td>\n",
       "      <td>161.226744</td>\n",
       "      <td>15346.860465</td>\n",
       "      <td>2372.061773</td>\n",
       "      <td>42.262355</td>\n",
       "      <td>1623.659884</td>\n",
       "      <td>2019</td>\n",
       "    </tr>\n",
       "    <tr>\n",
       "      <th>2020 Q1</th>\n",
       "      <td>974.665188</td>\n",
       "      <td>1.006667</td>\n",
       "      <td>1946.209904</td>\n",
       "      <td>2248.172949</td>\n",
       "      <td>0.616667</td>\n",
       "      <td>4134.003695</td>\n",
       "      <td>1919.888396</td>\n",
       "      <td>1832.126386</td>\n",
       "      <td>2506.668884</td>\n",
       "      <td>419.291944</td>\n",
       "      <td>0.450423</td>\n",
       "      <td>0.084343</td>\n",
       "      <td>0.006722</td>\n",
       "      <td>0.047187</td>\n",
       "      <td>1811.224686</td>\n",
       "      <td>895.354767</td>\n",
       "      <td>860.688840</td>\n",
       "      <td>349.453067</td>\n",
       "      <td>133.845528</td>\n",
       "      <td>6278.215817</td>\n",
       "      <td>2227.732446</td>\n",
       "      <td>1575.634146</td>\n",
       "      <td>5341.539542</td>\n",
       "      <td>3389.210643</td>\n",
       "      <td>1257.886179</td>\n",
       "      <td>-0.075828</td>\n",
       "      <td>0.013432</td>\n",
       "      <td>0.013899</td>\n",
       "      <td>0.100362</td>\n",
       "      <td>0.638889</td>\n",
       "      <td>1114.908352</td>\n",
       "      <td>798.434590</td>\n",
       "      <td>1536.360680</td>\n",
       "      <td>836.576497</td>\n",
       "      <td>12843.583149</td>\n",
       "      <td>1690.892092</td>\n",
       "      <td>116.0</td>\n",
       "      <td>885.602735</td>\n",
       "      <td>836.032520</td>\n",
       "      <td>474.423503</td>\n",
       "      <td>176.507761</td>\n",
       "      <td>15561.754619</td>\n",
       "      <td>2367.485588</td>\n",
       "      <td>36.712491</td>\n",
       "      <td>1672.571323</td>\n",
       "      <td>2020</td>\n",
       "    </tr>\n",
       "    <tr>\n",
       "      <th>2020 Q2</th>\n",
       "      <td>979.431373</td>\n",
       "      <td>0.896667</td>\n",
       "      <td>1958.489442</td>\n",
       "      <td>2274.880090</td>\n",
       "      <td>0.240000</td>\n",
       "      <td>4161.708899</td>\n",
       "      <td>1924.886124</td>\n",
       "      <td>1842.934389</td>\n",
       "      <td>2524.051282</td>\n",
       "      <td>422.283560</td>\n",
       "      <td>-0.093805</td>\n",
       "      <td>0.075409</td>\n",
       "      <td>-0.009734</td>\n",
       "      <td>-0.013329</td>\n",
       "      <td>1826.115385</td>\n",
       "      <td>900.569382</td>\n",
       "      <td>864.239819</td>\n",
       "      <td>349.909502</td>\n",
       "      <td>133.819759</td>\n",
       "      <td>6330.068627</td>\n",
       "      <td>2255.607843</td>\n",
       "      <td>1596.853695</td>\n",
       "      <td>5370.987934</td>\n",
       "      <td>3413.172700</td>\n",
       "      <td>1267.583710</td>\n",
       "      <td>-0.042795</td>\n",
       "      <td>0.000341</td>\n",
       "      <td>NaN</td>\n",
       "      <td>NaN</td>\n",
       "      <td>0.250000</td>\n",
       "      <td>1124.559578</td>\n",
       "      <td>807.861991</td>\n",
       "      <td>1564.507541</td>\n",
       "      <td>840.893665</td>\n",
       "      <td>12908.858220</td>\n",
       "      <td>1719.354449</td>\n",
       "      <td>116.2</td>\n",
       "      <td>889.000000</td>\n",
       "      <td>832.188537</td>\n",
       "      <td>463.593514</td>\n",
       "      <td>154.914781</td>\n",
       "      <td>15666.573906</td>\n",
       "      <td>2365.128205</td>\n",
       "      <td>31.972851</td>\n",
       "      <td>1688.336350</td>\n",
       "      <td>2020</td>\n",
       "    </tr>\n",
       "    <tr>\n",
       "      <th>2020 Q3</th>\n",
       "      <td>938.208659</td>\n",
       "      <td>0.890000</td>\n",
       "      <td>1875.716820</td>\n",
       "      <td>2165.222853</td>\n",
       "      <td>0.243333</td>\n",
       "      <td>3985.652945</td>\n",
       "      <td>1849.413059</td>\n",
       "      <td>1772.135557</td>\n",
       "      <td>2425.431512</td>\n",
       "      <td>409.242016</td>\n",
       "      <td>0.348023</td>\n",
       "      <td>0.073562</td>\n",
       "      <td>-0.003179</td>\n",
       "      <td>0.049561</td>\n",
       "      <td>1750.586231</td>\n",
       "      <td>862.176011</td>\n",
       "      <td>827.787793</td>\n",
       "      <td>336.408801</td>\n",
       "      <td>129.084457</td>\n",
       "      <td>6063.310149</td>\n",
       "      <td>2157.374024</td>\n",
       "      <td>1519.721789</td>\n",
       "      <td>5157.635912</td>\n",
       "      <td>3267.316537</td>\n",
       "      <td>1211.651526</td>\n",
       "      <td>0.648152</td>\n",
       "      <td>0.040656</td>\n",
       "      <td>0.002368</td>\n",
       "      <td>0.089365</td>\n",
       "      <td>0.250000</td>\n",
       "      <td>1074.278211</td>\n",
       "      <td>766.171753</td>\n",
       "      <td>1474.828957</td>\n",
       "      <td>807.196593</td>\n",
       "      <td>12393.147622</td>\n",
       "      <td>1624.166785</td>\n",
       "      <td>116.2</td>\n",
       "      <td>913.070617</td>\n",
       "      <td>851.429383</td>\n",
       "      <td>458.024131</td>\n",
       "      <td>184.203691</td>\n",
       "      <td>15011.865862</td>\n",
       "      <td>2373.360539</td>\n",
       "      <td>46.391057</td>\n",
       "      <td>1640.652236</td>\n",
       "      <td>2020</td>\n",
       "    </tr>\n",
       "    <tr>\n",
       "      <th>2020 Q4</th>\n",
       "      <td>916.942719</td>\n",
       "      <td>0.890000</td>\n",
       "      <td>1833.738440</td>\n",
       "      <td>2118.994479</td>\n",
       "      <td>0.103333</td>\n",
       "      <td>3895.567978</td>\n",
       "      <td>1807.164251</td>\n",
       "      <td>1731.007591</td>\n",
       "      <td>2366.323671</td>\n",
       "      <td>399.562457</td>\n",
       "      <td>0.521199</td>\n",
       "      <td>0.086859</td>\n",
       "      <td>0.005840</td>\n",
       "      <td>0.036291</td>\n",
       "      <td>1709.821946</td>\n",
       "      <td>842.340235</td>\n",
       "      <td>808.617667</td>\n",
       "      <td>328.706694</td>\n",
       "      <td>126.251898</td>\n",
       "      <td>5924.817115</td>\n",
       "      <td>2109.094548</td>\n",
       "      <td>1483.830918</td>\n",
       "      <td>5040.141477</td>\n",
       "      <td>3192.596273</td>\n",
       "      <td>1183.917184</td>\n",
       "      <td>0.303017</td>\n",
       "      <td>0.052206</td>\n",
       "      <td>0.016150</td>\n",
       "      <td>-0.059401</td>\n",
       "      <td>0.156250</td>\n",
       "      <td>1049.142167</td>\n",
       "      <td>749.564527</td>\n",
       "      <td>1443.639752</td>\n",
       "      <td>786.914424</td>\n",
       "      <td>12105.993789</td>\n",
       "      <td>1589.640442</td>\n",
       "      <td>116.9</td>\n",
       "      <td>946.098689</td>\n",
       "      <td>877.637681</td>\n",
       "      <td>466.295376</td>\n",
       "      <td>163.891649</td>\n",
       "      <td>14669.681850</td>\n",
       "      <td>2383.316080</td>\n",
       "      <td>54.116632</td>\n",
       "      <td>1633.790890</td>\n",
       "      <td>2020</td>\n",
       "    </tr>\n",
       "    <tr>\n",
       "      <th>2021 Q1</th>\n",
       "      <td>938.720536</td>\n",
       "      <td>1.353333</td>\n",
       "      <td>1875.845448</td>\n",
       "      <td>2161.329570</td>\n",
       "      <td>0.090000</td>\n",
       "      <td>3985.014114</td>\n",
       "      <td>1852.177135</td>\n",
       "      <td>1771.676782</td>\n",
       "      <td>2423.262526</td>\n",
       "      <td>410.990120</td>\n",
       "      <td>0.621163</td>\n",
       "      <td>0.124973</td>\n",
       "      <td>0.012247</td>\n",
       "      <td>0.018351</td>\n",
       "      <td>1748.417784</td>\n",
       "      <td>862.162315</td>\n",
       "      <td>828.359210</td>\n",
       "      <td>336.937191</td>\n",
       "      <td>129.395907</td>\n",
       "      <td>6057.505293</td>\n",
       "      <td>2152.302047</td>\n",
       "      <td>1515.611150</td>\n",
       "      <td>5158.824982</td>\n",
       "      <td>3263.846154</td>\n",
       "      <td>1210.884968</td>\n",
       "      <td>-0.030926</td>\n",
       "      <td>0.055540</td>\n",
       "      <td>0.019055</td>\n",
       "      <td>0.083949</td>\n",
       "      <td>0.100000</td>\n",
       "      <td>1072.642908</td>\n",
       "      <td>765.577276</td>\n",
       "      <td>1468.625265</td>\n",
       "      <td>805.181369</td>\n",
       "      <td>12396.118560</td>\n",
       "      <td>1617.006351</td>\n",
       "      <td>117.8</td>\n",
       "      <td>993.345095</td>\n",
       "      <td>924.749471</td>\n",
       "      <td>474.323218</td>\n",
       "      <td>175.945660</td>\n",
       "      <td>15008.103740</td>\n",
       "      <td>2376.968948</td>\n",
       "      <td>51.077629</td>\n",
       "      <td>1674.376147</td>\n",
       "      <td>2021</td>\n",
       "    </tr>\n",
       "  </tbody>\n",
       "</table>\n",
       "</div>"
      ],
      "text/plain": [
       "                  0-4yo  10yBonds%      15-24yo      25-34yo  2yBonds%  \\\n",
       "time_period                                                              \n",
       "2017 Q3      949.302292   2.646667  1893.363181  2186.928367  1.814167   \n",
       "2017 Q4      940.663812   2.643333  1880.937901  2174.952177  1.866667   \n",
       "2018 Q1      956.077770   2.776667  1909.472487  2208.561262  1.976667   \n",
       "2018 Q2      962.785245   2.743333  1922.726808  2222.950329  2.050000   \n",
       "2018 Q3      966.580451   2.620000  1928.712030  2234.334586  2.016667   \n",
       "2018 Q4      954.798387   2.596667  1907.991202  2212.280059  1.996667   \n",
       "2019 Q1      980.955371   2.120000  1960.025719  2264.162632  1.726667   \n",
       "2019 Q2      970.722883   1.630000  1942.586924  2245.878158  1.233333   \n",
       "2019 Q3      963.489408   1.096667  1925.472608  2224.981008  0.820000   \n",
       "2019 Q4      959.941860   1.126667  1918.542878  2215.962209  0.766667   \n",
       "2020 Q1      974.665188   1.006667  1946.209904  2248.172949  0.616667   \n",
       "2020 Q2      979.431373   0.896667  1958.489442  2274.880090  0.240000   \n",
       "2020 Q3      938.208659   0.890000  1875.716820  2165.222853  0.243333   \n",
       "2020 Q4      916.942719   0.890000  1833.738440  2118.994479  0.103333   \n",
       "2021 Q1      938.720536   1.353333  1875.845448  2161.329570  0.090000   \n",
       "\n",
       "                 35-54yo       5-14yo      55-64yo        65+yo        ATSI  \\\n",
       "time_period                                                                   \n",
       "2017 Q3      4028.681948  1870.289398  1788.164040  2444.792264  412.926934   \n",
       "2017 Q4      3997.364026  1853.124911  1777.055675  2433.186296  409.760885   \n",
       "2018 Q1      4058.569332  1881.542920  1805.970653  2476.910492  415.263390   \n",
       "2018 Q2      4090.111030  1897.127100  1815.025566  2485.410519  417.528123   \n",
       "2018 Q3      4103.945865  1901.045865  1824.423308  2509.241353  420.318797   \n",
       "2018 Q4      4055.846041  1878.004399  1800.642962  2469.667155  414.839443   \n",
       "2019 Q1      4165.496974  1932.476551  1849.976551  2534.949319  423.555976   \n",
       "2019 Q2      4127.618128  1912.867013  1832.043834  2508.736999  419.251114   \n",
       "2019 Q3      4093.101534  1898.048210  1816.474799  2484.789627  416.441198   \n",
       "2019 Q4      4077.707122  1891.726744  1809.436047  2473.380814  412.446221   \n",
       "2020 Q1      4134.003695  1919.888396  1832.126386  2506.668884  419.291944   \n",
       "2020 Q2      4161.708899  1924.886124  1842.934389  2524.051282  422.283560   \n",
       "2020 Q3      3985.652945  1849.413059  1772.135557  2425.431512  409.242016   \n",
       "2020 Q4      3895.567978  1807.164251  1731.007591  2366.323671  399.562457   \n",
       "2021 Q1      3985.014114  1852.177135  1771.676782  2423.262526  410.990120   \n",
       "\n",
       "             Adelta_count  Adelta_median  Adelta_median_rent  \\\n",
       "time_period                                                    \n",
       "2017 Q3          0.091783       0.092325                 NaN   \n",
       "2017 Q4         -0.020630       0.058321            0.029231   \n",
       "2018 Q1         -0.115560       0.020207            0.026375   \n",
       "2018 Q2         -0.075413      -0.010386            0.013191   \n",
       "2018 Q3         -0.333554      -0.045791            0.011829   \n",
       "2018 Q4         -0.188673      -0.032894            0.009690   \n",
       "2019 Q1         -0.252468      -0.061137            0.004730   \n",
       "2019 Q2         -0.073638      -0.043900            0.000533   \n",
       "2019 Q3          0.166641       0.003505           -0.005096   \n",
       "2019 Q4          0.329876       0.096822            0.001075   \n",
       "2020 Q1          0.450423       0.084343            0.006722   \n",
       "2020 Q2         -0.093805       0.075409           -0.009734   \n",
       "2020 Q3          0.348023       0.073562           -0.003179   \n",
       "2020 Q4          0.521199       0.086859            0.005840   \n",
       "2021 Q1          0.621163       0.124973            0.012247   \n",
       "\n",
       "             Adelta_new_bonds       CPRF_2      CPRF_3      CPRF_4  \\\n",
       "time_period                                                          \n",
       "2017 Q3                   NaN  1765.381805  871.722779  838.272923   \n",
       "2017 Q4              0.058874  1756.647395  864.379729  828.924340   \n",
       "2018 Q1              0.082082  1786.775495  879.155539  843.000734   \n",
       "2018 Q2              0.131946  1795.270270  884.257852  849.693207   \n",
       "2018 Q3              0.110966  1809.665414  888.172932  851.287970   \n",
       "2018 Q4              0.100544  1785.084311  877.392962  841.321114   \n",
       "2019 Q1              0.098456  1829.095310  902.476551  866.376702   \n",
       "2019 Q2              0.056955  1811.488113  892.650817  857.289747   \n",
       "2019 Q3              0.101885  1795.068663  885.642075  850.927684   \n",
       "2019 Q4              0.071431  1787.464390  882.047965  848.042878   \n",
       "2020 Q1              0.047187  1811.224686  895.354767  860.688840   \n",
       "2020 Q2             -0.013329  1826.115385  900.569382  864.239819   \n",
       "2020 Q3              0.049561  1750.586231  862.176011  827.787793   \n",
       "2020 Q4              0.036291  1709.821946  842.340235  808.617667   \n",
       "2021 Q1              0.018351  1748.417784  862.162315  828.359210   \n",
       "\n",
       "                 CPRF_5     CPRF_6+  CPRF_HHOLD_NO      CPRF_na    INCP_HIGH  \\\n",
       "time_period                                                                    \n",
       "2017 Q3      340.507163  130.472779    6118.851719  2172.604585  1536.497851   \n",
       "2017 Q4      336.874375  129.385439    6083.413990  2167.304069  1522.491078   \n",
       "2018 Q1      341.777696  130.605282    6185.541453  2204.386647  1551.134263   \n",
       "2018 Q2      344.767714  131.828342    6218.214755  2212.485756  1562.482104   \n",
       "2018 Q3      344.687970  131.439850    6258.281203  2233.134586  1572.530827   \n",
       "2018 Q4      340.824780  130.112170    6178.359238  2203.706745  1552.113636   \n",
       "2019 Q1      351.472012  134.583964    6335.527988  2251.608926  1592.358548   \n",
       "2019 Q2      347.887073  133.373700    6276.381872  2233.849926  1577.777860   \n",
       "2019 Q3      345.157779  132.247626    6219.358656  2210.442659  1563.851717   \n",
       "2019 Q4      344.373547  131.835756    6193.712209  2200.094477  1557.327762   \n",
       "2020 Q1      349.453067  133.845528    6278.215817  2227.732446  1575.634146   \n",
       "2020 Q2      349.909502  133.819759    6330.068627  2255.607843  1596.853695   \n",
       "2020 Q3      336.408801  129.084457    6063.310149  2157.374024  1519.721789   \n",
       "2020 Q4      328.706694  126.251898    5924.817115  2109.094548  1483.830918   \n",
       "2021 Q1      336.937191  129.395907    6057.505293  2152.302047  1515.611150   \n",
       "\n",
       "                INCP_LOW     INCP_MID  INCP_NEG_NIL  Qdelta_count  \\\n",
       "time_period                                                         \n",
       "2017 Q3      5203.547994  3301.285817   1223.813754      0.181102   \n",
       "2017 Q4      5176.961456  3275.456817   1214.488936      0.023106   \n",
       "2018 Q1      5259.958914  3329.323551   1234.458547     -0.147686   \n",
       "2018 Q2      5285.854638  3352.120526   1241.222790      0.102858   \n",
       "2018 Q3      5316.199248  3367.025564   1244.733835     -0.128847   \n",
       "2018 Q4      5245.323314  3329.323314   1231.694282      0.047811   \n",
       "2019 Q1      5391.402421  3415.299546   1266.746596     -0.173342   \n",
       "2019 Q2      5336.060178  3383.470282   1254.681278      0.487360   \n",
       "2019 Q3      5287.051132  3354.843682   1244.087655      0.179992   \n",
       "2019 Q4      5264.346657  3343.866279   1239.971657      0.151515   \n",
       "2020 Q1      5341.539542  3389.210643   1257.886179     -0.075828   \n",
       "2020 Q2      5370.987934  3413.172700   1267.583710     -0.042795   \n",
       "2020 Q3      5157.635912  3267.316537   1211.651526      0.648152   \n",
       "2020 Q4      5040.141477  3192.596273   1183.917184      0.303017   \n",
       "2021 Q1      5158.824982  3263.846154   1210.884968     -0.030926   \n",
       "\n",
       "             Qdelta_median  Qdelta_median_rent  Qdelta_new_bonds      Rate  \\\n",
       "time_period                                                                  \n",
       "2017 Q3          -0.001544            0.002295          0.102793  1.500000   \n",
       "2017 Q4           0.028305            0.004922          0.006698  1.500000   \n",
       "2018 Q1          -0.007073            0.013973          0.115804  1.500000   \n",
       "2018 Q2          -0.006796            0.005034          0.043186  1.500000   \n",
       "2018 Q3          -0.026940            0.000367          0.100956  1.500000   \n",
       "2018 Q4          -0.006211            0.003254          0.002758  1.500000   \n",
       "2019 Q1          -0.023303            0.007225          0.098570  1.500000   \n",
       "2019 Q2           0.011848           -0.000037          0.007091  1.430328   \n",
       "2019 Q3           0.050371           -0.005779          0.136817  1.007576   \n",
       "2019 Q4           0.092303            0.008051         -0.032068  0.753906   \n",
       "2020 Q1           0.013432            0.013899          0.100362  0.638889   \n",
       "2020 Q2           0.000341                 NaN               NaN  0.250000   \n",
       "2020 Q3           0.040656            0.002368          0.089365  0.250000   \n",
       "2020 Q4           0.052206            0.016150         -0.059401  0.156250   \n",
       "2021 Q1           0.055540            0.019055          0.083949  0.100000   \n",
       "\n",
       "             YARRP 1976-1995  YARRP 1996-2005  YARRP 2006-2016  YARRP <1975  \\\n",
       "time_period                                                                   \n",
       "2017 Q3          1087.696991       777.256447      1488.936963   813.984957   \n",
       "2017 Q4          1076.157031       768.090650      1481.870807   808.294789   \n",
       "2018 Q1          1089.993397       782.079971      1514.535583   820.624358   \n",
       "2018 Q2          1096.947407       786.571950      1515.664719   825.804237   \n",
       "2018 Q3          1092.512030       785.227068      1525.367669   829.269173   \n",
       "2018 Q4          1083.307918       778.025660      1511.111437   818.376833   \n",
       "2019 Q1          1122.414523       801.757943      1550.065053   846.186838   \n",
       "2019 Q2          1112.766716       795.869242      1536.875186   836.462110   \n",
       "2019 Q3          1102.358656       788.531775      1518.048941   827.338203   \n",
       "2019 Q4          1101.023256       786.920785      1512.139535   823.925145   \n",
       "2020 Q1          1114.908352       798.434590      1536.360680   836.576497   \n",
       "2020 Q2          1124.559578       807.861991      1564.507541   840.893665   \n",
       "2020 Q3          1074.278211       766.171753      1474.828957   807.196593   \n",
       "2020 Q4          1049.142167       749.564527      1443.639752   786.914424   \n",
       "2021 Q1          1072.642908       765.577276      1468.625265   805.181369   \n",
       "\n",
       "               citizen_AU  citizen_non_AU  constr_index  mean_price  \\\n",
       "time_period                                                           \n",
       "2017 Q3      12521.073782     1637.929083         112.0  881.040117   \n",
       "2017 Q4      12425.084939     1632.120628         112.5  912.937545   \n",
       "2018 Q1      12621.434336     1666.444607         112.9  863.320983   \n",
       "2018 Q2      12708.062820     1668.872169         114.2  857.570124   \n",
       "2018 Q3      12765.602256     1678.130827         114.6  817.623308   \n",
       "2018 Q4      12602.640029     1663.307185         115.1  848.209677   \n",
       "2019 Q1      12949.819970     1706.295764         115.3  807.459153   \n",
       "2019 Q2      12820.361813     1691.254086         115.8  875.753343   \n",
       "2019 Q3      12716.172389     1670.437546         115.8  908.508400   \n",
       "2019 Q4      12668.294331     1663.720930         116.0  916.453488   \n",
       "2020 Q1      12843.583149     1690.892092         116.0  885.602735   \n",
       "2020 Q2      12908.858220     1719.354449         116.2  889.000000   \n",
       "2020 Q3      12393.147622     1624.166785         116.2  913.070617   \n",
       "2020 Q4      12105.993789     1589.640442         116.9  946.098689   \n",
       "2021 Q1      12396.118560     1617.006351         117.8  993.345095   \n",
       "\n",
       "             median_price  median_rent_newb  new_bonds_no  population_2016  \\\n",
       "time_period                                                                  \n",
       "2017 Q3        817.798515        468.486011    149.977762     15161.582378   \n",
       "2017 Q4        850.072091        470.278542    142.995711     15057.276945   \n",
       "2018 Q1        816.213866        472.084446    159.922230     15297.066031   \n",
       "2018 Q2        796.760774        471.677283    153.766253     15396.138057   \n",
       "2018 Q3        759.679699        470.146376    167.330075     15468.212782   \n",
       "2018 Q4        787.079912        467.485337    156.173754     15279.221408   \n",
       "2019 Q1        753.301059        475.130106    174.481846     15688.163389   \n",
       "2019 Q2        791.147103        470.155275    159.605498     15540.496285   \n",
       "2019 Q3        821.303871        466.598247    176.550037     15406.472608   \n",
       "2019 Q4        868.515262        470.753634    161.226744     15346.860465   \n",
       "2020 Q1        836.032520        474.423503    176.507761     15561.754619   \n",
       "2020 Q2        832.188537        463.593514    154.914781     15666.573906   \n",
       "2020 Q3        851.429383        458.024131    184.203691     15011.865862   \n",
       "2020 Q4        877.637681        466.295376    163.891649     14669.681850   \n",
       "2021 Q1        924.749471        474.323218    175.945660     15008.103740   \n",
       "\n",
       "                postcode   sales_no  total_bonds_no  year  \n",
       "time_period                                                \n",
       "2017 Q3      2373.504298  47.223496     1592.468436  2017  \n",
       "2017 Q4      2378.672377  44.374019     1470.077913  2017  \n",
       "2018 Q1      2373.030081  36.843727     1512.078503  2018  \n",
       "2018 Q2      2370.439737  38.682980     1540.567568  2018  \n",
       "2018 Q3      2371.206015  29.440602     1576.686466  2018  \n",
       "2018 Q4      2373.824780  35.145894     1570.950147  2018  \n",
       "2019 Q1      2366.751135  28.220121     1620.857791  2019  \n",
       "2019 Q2      2369.656761  36.976969     1630.115156  2019  \n",
       "2019 Q3      2369.368882  39.820307     1618.223521  2019  \n",
       "2019 Q4      2372.061773  42.262355     1623.659884  2019  \n",
       "2020 Q1      2367.485588  36.712491     1672.571323  2020  \n",
       "2020 Q2      2365.128205  31.972851     1688.336350  2020  \n",
       "2020 Q3      2373.360539  46.391057     1640.652236  2020  \n",
       "2020 Q4      2383.316080  54.116632     1633.790890  2020  \n",
       "2021 Q1      2376.968948  51.077629     1674.376147  2021  "
      ]
     },
     "execution_count": 6,
     "metadata": {},
     "output_type": "execute_result"
    }
   ],
   "source": [
    "# pivot unstacked df to get aggregate values by time period\n",
    "pivot_time = pd.pivot_table(master,\n",
    "                            index=\"time_period\")\n",
    "pivot_time"
   ]
  },
  {
   "cell_type": "code",
   "execution_count": 7,
   "id": "9d637b9a",
   "metadata": {},
   "outputs": [
    {
     "data": {
      "text/plain": [
       "Index(['0-4yo', '10yBonds%', '15-24yo', '25-34yo', '2yBonds%', '35-54yo',\n",
       "       '5-14yo', '55-64yo', '65+yo', 'ATSI', 'Adelta_count', 'Adelta_median',\n",
       "       'Adelta_median_rent', 'Adelta_new_bonds', 'CPRF_2', 'CPRF_3', 'CPRF_4',\n",
       "       'CPRF_5', 'CPRF_6+', 'CPRF_HHOLD_NO', 'CPRF_na', 'INCP_HIGH',\n",
       "       'INCP_LOW', 'INCP_MID', 'INCP_NEG_NIL', 'Qdelta_count', 'Qdelta_median',\n",
       "       'Qdelta_median_rent', 'Qdelta_new_bonds', 'Rate', 'YARRP 1976-1995',\n",
       "       'YARRP 1996-2005', 'YARRP 2006-2016', 'YARRP <1975', 'citizen_AU',\n",
       "       'citizen_non_AU', 'constr_index', 'mean_price', 'median_price',\n",
       "       'median_rent_newb', 'new_bonds_no', 'population_2016', 'postcode',\n",
       "       'sales_no', 'total_bonds_no', 'year'],\n",
       "      dtype='object')"
      ]
     },
     "execution_count": 7,
     "metadata": {},
     "output_type": "execute_result"
    }
   ],
   "source": [
    "pivot_time.columns"
   ]
  },
  {
   "cell_type": "code",
   "execution_count": 8,
   "id": "d6af8185",
   "metadata": {},
   "outputs": [
    {
     "data": {
      "text/html": [
       "<div>\n",
       "<style scoped>\n",
       "    .dataframe tbody tr th:only-of-type {\n",
       "        vertical-align: middle;\n",
       "    }\n",
       "\n",
       "    .dataframe tbody tr th {\n",
       "        vertical-align: top;\n",
       "    }\n",
       "\n",
       "    .dataframe thead th {\n",
       "        text-align: right;\n",
       "    }\n",
       "</style>\n",
       "<table border=\"1\" class=\"dataframe\">\n",
       "  <thead>\n",
       "    <tr style=\"text-align: right;\">\n",
       "      <th></th>\n",
       "      <th>10yBonds%</th>\n",
       "      <th>2yBonds%</th>\n",
       "      <th>CPRF_2</th>\n",
       "      <th>CPRF_3</th>\n",
       "      <th>CPRF_4</th>\n",
       "      <th>CPRF_5</th>\n",
       "      <th>CPRF_6+</th>\n",
       "      <th>CPRF_HHOLD_NO</th>\n",
       "      <th>CPRF_na</th>\n",
       "      <th>INCP_HIGH</th>\n",
       "      <th>INCP_LOW</th>\n",
       "      <th>INCP_MID</th>\n",
       "      <th>INCP_NEG_NIL</th>\n",
       "      <th>Rate</th>\n",
       "      <th>citizen_AU</th>\n",
       "      <th>citizen_non_AU</th>\n",
       "      <th>constr_index</th>\n",
       "      <th>mean_price</th>\n",
       "      <th>median_price</th>\n",
       "      <th>median_rent_newb</th>\n",
       "      <th>new_bonds_no</th>\n",
       "      <th>sales_no</th>\n",
       "      <th>total_bonds_no</th>\n",
       "      <th>year</th>\n",
       "    </tr>\n",
       "    <tr>\n",
       "      <th>time_period</th>\n",
       "      <th></th>\n",
       "      <th></th>\n",
       "      <th></th>\n",
       "      <th></th>\n",
       "      <th></th>\n",
       "      <th></th>\n",
       "      <th></th>\n",
       "      <th></th>\n",
       "      <th></th>\n",
       "      <th></th>\n",
       "      <th></th>\n",
       "      <th></th>\n",
       "      <th></th>\n",
       "      <th></th>\n",
       "      <th></th>\n",
       "      <th></th>\n",
       "      <th></th>\n",
       "      <th></th>\n",
       "      <th></th>\n",
       "      <th></th>\n",
       "      <th></th>\n",
       "      <th></th>\n",
       "      <th></th>\n",
       "      <th></th>\n",
       "    </tr>\n",
       "  </thead>\n",
       "  <tbody>\n",
       "    <tr>\n",
       "      <th>2017 Q3</th>\n",
       "      <td>2.646667</td>\n",
       "      <td>1.814167</td>\n",
       "      <td>1765.381805</td>\n",
       "      <td>871.722779</td>\n",
       "      <td>838.272923</td>\n",
       "      <td>340.507163</td>\n",
       "      <td>130.472779</td>\n",
       "      <td>6118.851719</td>\n",
       "      <td>2172.604585</td>\n",
       "      <td>1536.497851</td>\n",
       "      <td>5203.547994</td>\n",
       "      <td>3301.285817</td>\n",
       "      <td>1223.813754</td>\n",
       "      <td>1.500000</td>\n",
       "      <td>12521.073782</td>\n",
       "      <td>1637.929083</td>\n",
       "      <td>112.0</td>\n",
       "      <td>881.040117</td>\n",
       "      <td>817.798515</td>\n",
       "      <td>468.486011</td>\n",
       "      <td>149.977762</td>\n",
       "      <td>47.223496</td>\n",
       "      <td>1592.468436</td>\n",
       "      <td>2017</td>\n",
       "    </tr>\n",
       "    <tr>\n",
       "      <th>2017 Q4</th>\n",
       "      <td>2.643333</td>\n",
       "      <td>1.866667</td>\n",
       "      <td>1756.647395</td>\n",
       "      <td>864.379729</td>\n",
       "      <td>828.924340</td>\n",
       "      <td>336.874375</td>\n",
       "      <td>129.385439</td>\n",
       "      <td>6083.413990</td>\n",
       "      <td>2167.304069</td>\n",
       "      <td>1522.491078</td>\n",
       "      <td>5176.961456</td>\n",
       "      <td>3275.456817</td>\n",
       "      <td>1214.488936</td>\n",
       "      <td>1.500000</td>\n",
       "      <td>12425.084939</td>\n",
       "      <td>1632.120628</td>\n",
       "      <td>112.5</td>\n",
       "      <td>912.937545</td>\n",
       "      <td>850.072091</td>\n",
       "      <td>470.278542</td>\n",
       "      <td>142.995711</td>\n",
       "      <td>44.374019</td>\n",
       "      <td>1470.077913</td>\n",
       "      <td>2017</td>\n",
       "    </tr>\n",
       "    <tr>\n",
       "      <th>2018 Q1</th>\n",
       "      <td>2.776667</td>\n",
       "      <td>1.976667</td>\n",
       "      <td>1786.775495</td>\n",
       "      <td>879.155539</td>\n",
       "      <td>843.000734</td>\n",
       "      <td>341.777696</td>\n",
       "      <td>130.605282</td>\n",
       "      <td>6185.541453</td>\n",
       "      <td>2204.386647</td>\n",
       "      <td>1551.134263</td>\n",
       "      <td>5259.958914</td>\n",
       "      <td>3329.323551</td>\n",
       "      <td>1234.458547</td>\n",
       "      <td>1.500000</td>\n",
       "      <td>12621.434336</td>\n",
       "      <td>1666.444607</td>\n",
       "      <td>112.9</td>\n",
       "      <td>863.320983</td>\n",
       "      <td>816.213866</td>\n",
       "      <td>472.084446</td>\n",
       "      <td>159.922230</td>\n",
       "      <td>36.843727</td>\n",
       "      <td>1512.078503</td>\n",
       "      <td>2018</td>\n",
       "    </tr>\n",
       "    <tr>\n",
       "      <th>2018 Q2</th>\n",
       "      <td>2.743333</td>\n",
       "      <td>2.050000</td>\n",
       "      <td>1795.270270</td>\n",
       "      <td>884.257852</td>\n",
       "      <td>849.693207</td>\n",
       "      <td>344.767714</td>\n",
       "      <td>131.828342</td>\n",
       "      <td>6218.214755</td>\n",
       "      <td>2212.485756</td>\n",
       "      <td>1562.482104</td>\n",
       "      <td>5285.854638</td>\n",
       "      <td>3352.120526</td>\n",
       "      <td>1241.222790</td>\n",
       "      <td>1.500000</td>\n",
       "      <td>12708.062820</td>\n",
       "      <td>1668.872169</td>\n",
       "      <td>114.2</td>\n",
       "      <td>857.570124</td>\n",
       "      <td>796.760774</td>\n",
       "      <td>471.677283</td>\n",
       "      <td>153.766253</td>\n",
       "      <td>38.682980</td>\n",
       "      <td>1540.567568</td>\n",
       "      <td>2018</td>\n",
       "    </tr>\n",
       "    <tr>\n",
       "      <th>2018 Q3</th>\n",
       "      <td>2.620000</td>\n",
       "      <td>2.016667</td>\n",
       "      <td>1809.665414</td>\n",
       "      <td>888.172932</td>\n",
       "      <td>851.287970</td>\n",
       "      <td>344.687970</td>\n",
       "      <td>131.439850</td>\n",
       "      <td>6258.281203</td>\n",
       "      <td>2233.134586</td>\n",
       "      <td>1572.530827</td>\n",
       "      <td>5316.199248</td>\n",
       "      <td>3367.025564</td>\n",
       "      <td>1244.733835</td>\n",
       "      <td>1.500000</td>\n",
       "      <td>12765.602256</td>\n",
       "      <td>1678.130827</td>\n",
       "      <td>114.6</td>\n",
       "      <td>817.623308</td>\n",
       "      <td>759.679699</td>\n",
       "      <td>470.146376</td>\n",
       "      <td>167.330075</td>\n",
       "      <td>29.440602</td>\n",
       "      <td>1576.686466</td>\n",
       "      <td>2018</td>\n",
       "    </tr>\n",
       "    <tr>\n",
       "      <th>2018 Q4</th>\n",
       "      <td>2.596667</td>\n",
       "      <td>1.996667</td>\n",
       "      <td>1785.084311</td>\n",
       "      <td>877.392962</td>\n",
       "      <td>841.321114</td>\n",
       "      <td>340.824780</td>\n",
       "      <td>130.112170</td>\n",
       "      <td>6178.359238</td>\n",
       "      <td>2203.706745</td>\n",
       "      <td>1552.113636</td>\n",
       "      <td>5245.323314</td>\n",
       "      <td>3329.323314</td>\n",
       "      <td>1231.694282</td>\n",
       "      <td>1.500000</td>\n",
       "      <td>12602.640029</td>\n",
       "      <td>1663.307185</td>\n",
       "      <td>115.1</td>\n",
       "      <td>848.209677</td>\n",
       "      <td>787.079912</td>\n",
       "      <td>467.485337</td>\n",
       "      <td>156.173754</td>\n",
       "      <td>35.145894</td>\n",
       "      <td>1570.950147</td>\n",
       "      <td>2018</td>\n",
       "    </tr>\n",
       "    <tr>\n",
       "      <th>2019 Q1</th>\n",
       "      <td>2.120000</td>\n",
       "      <td>1.726667</td>\n",
       "      <td>1829.095310</td>\n",
       "      <td>902.476551</td>\n",
       "      <td>866.376702</td>\n",
       "      <td>351.472012</td>\n",
       "      <td>134.583964</td>\n",
       "      <td>6335.527988</td>\n",
       "      <td>2251.608926</td>\n",
       "      <td>1592.358548</td>\n",
       "      <td>5391.402421</td>\n",
       "      <td>3415.299546</td>\n",
       "      <td>1266.746596</td>\n",
       "      <td>1.500000</td>\n",
       "      <td>12949.819970</td>\n",
       "      <td>1706.295764</td>\n",
       "      <td>115.3</td>\n",
       "      <td>807.459153</td>\n",
       "      <td>753.301059</td>\n",
       "      <td>475.130106</td>\n",
       "      <td>174.481846</td>\n",
       "      <td>28.220121</td>\n",
       "      <td>1620.857791</td>\n",
       "      <td>2019</td>\n",
       "    </tr>\n",
       "    <tr>\n",
       "      <th>2019 Q2</th>\n",
       "      <td>1.630000</td>\n",
       "      <td>1.233333</td>\n",
       "      <td>1811.488113</td>\n",
       "      <td>892.650817</td>\n",
       "      <td>857.289747</td>\n",
       "      <td>347.887073</td>\n",
       "      <td>133.373700</td>\n",
       "      <td>6276.381872</td>\n",
       "      <td>2233.849926</td>\n",
       "      <td>1577.777860</td>\n",
       "      <td>5336.060178</td>\n",
       "      <td>3383.470282</td>\n",
       "      <td>1254.681278</td>\n",
       "      <td>1.430328</td>\n",
       "      <td>12820.361813</td>\n",
       "      <td>1691.254086</td>\n",
       "      <td>115.8</td>\n",
       "      <td>875.753343</td>\n",
       "      <td>791.147103</td>\n",
       "      <td>470.155275</td>\n",
       "      <td>159.605498</td>\n",
       "      <td>36.976969</td>\n",
       "      <td>1630.115156</td>\n",
       "      <td>2019</td>\n",
       "    </tr>\n",
       "    <tr>\n",
       "      <th>2019 Q3</th>\n",
       "      <td>1.096667</td>\n",
       "      <td>0.820000</td>\n",
       "      <td>1795.068663</td>\n",
       "      <td>885.642075</td>\n",
       "      <td>850.927684</td>\n",
       "      <td>345.157779</td>\n",
       "      <td>132.247626</td>\n",
       "      <td>6219.358656</td>\n",
       "      <td>2210.442659</td>\n",
       "      <td>1563.851717</td>\n",
       "      <td>5287.051132</td>\n",
       "      <td>3354.843682</td>\n",
       "      <td>1244.087655</td>\n",
       "      <td>1.007576</td>\n",
       "      <td>12716.172389</td>\n",
       "      <td>1670.437546</td>\n",
       "      <td>115.8</td>\n",
       "      <td>908.508400</td>\n",
       "      <td>821.303871</td>\n",
       "      <td>466.598247</td>\n",
       "      <td>176.550037</td>\n",
       "      <td>39.820307</td>\n",
       "      <td>1618.223521</td>\n",
       "      <td>2019</td>\n",
       "    </tr>\n",
       "    <tr>\n",
       "      <th>2019 Q4</th>\n",
       "      <td>1.126667</td>\n",
       "      <td>0.766667</td>\n",
       "      <td>1787.464390</td>\n",
       "      <td>882.047965</td>\n",
       "      <td>848.042878</td>\n",
       "      <td>344.373547</td>\n",
       "      <td>131.835756</td>\n",
       "      <td>6193.712209</td>\n",
       "      <td>2200.094477</td>\n",
       "      <td>1557.327762</td>\n",
       "      <td>5264.346657</td>\n",
       "      <td>3343.866279</td>\n",
       "      <td>1239.971657</td>\n",
       "      <td>0.753906</td>\n",
       "      <td>12668.294331</td>\n",
       "      <td>1663.720930</td>\n",
       "      <td>116.0</td>\n",
       "      <td>916.453488</td>\n",
       "      <td>868.515262</td>\n",
       "      <td>470.753634</td>\n",
       "      <td>161.226744</td>\n",
       "      <td>42.262355</td>\n",
       "      <td>1623.659884</td>\n",
       "      <td>2019</td>\n",
       "    </tr>\n",
       "    <tr>\n",
       "      <th>2020 Q1</th>\n",
       "      <td>1.006667</td>\n",
       "      <td>0.616667</td>\n",
       "      <td>1811.224686</td>\n",
       "      <td>895.354767</td>\n",
       "      <td>860.688840</td>\n",
       "      <td>349.453067</td>\n",
       "      <td>133.845528</td>\n",
       "      <td>6278.215817</td>\n",
       "      <td>2227.732446</td>\n",
       "      <td>1575.634146</td>\n",
       "      <td>5341.539542</td>\n",
       "      <td>3389.210643</td>\n",
       "      <td>1257.886179</td>\n",
       "      <td>0.638889</td>\n",
       "      <td>12843.583149</td>\n",
       "      <td>1690.892092</td>\n",
       "      <td>116.0</td>\n",
       "      <td>885.602735</td>\n",
       "      <td>836.032520</td>\n",
       "      <td>474.423503</td>\n",
       "      <td>176.507761</td>\n",
       "      <td>36.712491</td>\n",
       "      <td>1672.571323</td>\n",
       "      <td>2020</td>\n",
       "    </tr>\n",
       "    <tr>\n",
       "      <th>2020 Q2</th>\n",
       "      <td>0.896667</td>\n",
       "      <td>0.240000</td>\n",
       "      <td>1826.115385</td>\n",
       "      <td>900.569382</td>\n",
       "      <td>864.239819</td>\n",
       "      <td>349.909502</td>\n",
       "      <td>133.819759</td>\n",
       "      <td>6330.068627</td>\n",
       "      <td>2255.607843</td>\n",
       "      <td>1596.853695</td>\n",
       "      <td>5370.987934</td>\n",
       "      <td>3413.172700</td>\n",
       "      <td>1267.583710</td>\n",
       "      <td>0.250000</td>\n",
       "      <td>12908.858220</td>\n",
       "      <td>1719.354449</td>\n",
       "      <td>116.2</td>\n",
       "      <td>889.000000</td>\n",
       "      <td>832.188537</td>\n",
       "      <td>463.593514</td>\n",
       "      <td>154.914781</td>\n",
       "      <td>31.972851</td>\n",
       "      <td>1688.336350</td>\n",
       "      <td>2020</td>\n",
       "    </tr>\n",
       "    <tr>\n",
       "      <th>2020 Q3</th>\n",
       "      <td>0.890000</td>\n",
       "      <td>0.243333</td>\n",
       "      <td>1750.586231</td>\n",
       "      <td>862.176011</td>\n",
       "      <td>827.787793</td>\n",
       "      <td>336.408801</td>\n",
       "      <td>129.084457</td>\n",
       "      <td>6063.310149</td>\n",
       "      <td>2157.374024</td>\n",
       "      <td>1519.721789</td>\n",
       "      <td>5157.635912</td>\n",
       "      <td>3267.316537</td>\n",
       "      <td>1211.651526</td>\n",
       "      <td>0.250000</td>\n",
       "      <td>12393.147622</td>\n",
       "      <td>1624.166785</td>\n",
       "      <td>116.2</td>\n",
       "      <td>913.070617</td>\n",
       "      <td>851.429383</td>\n",
       "      <td>458.024131</td>\n",
       "      <td>184.203691</td>\n",
       "      <td>46.391057</td>\n",
       "      <td>1640.652236</td>\n",
       "      <td>2020</td>\n",
       "    </tr>\n",
       "    <tr>\n",
       "      <th>2020 Q4</th>\n",
       "      <td>0.890000</td>\n",
       "      <td>0.103333</td>\n",
       "      <td>1709.821946</td>\n",
       "      <td>842.340235</td>\n",
       "      <td>808.617667</td>\n",
       "      <td>328.706694</td>\n",
       "      <td>126.251898</td>\n",
       "      <td>5924.817115</td>\n",
       "      <td>2109.094548</td>\n",
       "      <td>1483.830918</td>\n",
       "      <td>5040.141477</td>\n",
       "      <td>3192.596273</td>\n",
       "      <td>1183.917184</td>\n",
       "      <td>0.156250</td>\n",
       "      <td>12105.993789</td>\n",
       "      <td>1589.640442</td>\n",
       "      <td>116.9</td>\n",
       "      <td>946.098689</td>\n",
       "      <td>877.637681</td>\n",
       "      <td>466.295376</td>\n",
       "      <td>163.891649</td>\n",
       "      <td>54.116632</td>\n",
       "      <td>1633.790890</td>\n",
       "      <td>2020</td>\n",
       "    </tr>\n",
       "    <tr>\n",
       "      <th>2021 Q1</th>\n",
       "      <td>1.353333</td>\n",
       "      <td>0.090000</td>\n",
       "      <td>1748.417784</td>\n",
       "      <td>862.162315</td>\n",
       "      <td>828.359210</td>\n",
       "      <td>336.937191</td>\n",
       "      <td>129.395907</td>\n",
       "      <td>6057.505293</td>\n",
       "      <td>2152.302047</td>\n",
       "      <td>1515.611150</td>\n",
       "      <td>5158.824982</td>\n",
       "      <td>3263.846154</td>\n",
       "      <td>1210.884968</td>\n",
       "      <td>0.100000</td>\n",
       "      <td>12396.118560</td>\n",
       "      <td>1617.006351</td>\n",
       "      <td>117.8</td>\n",
       "      <td>993.345095</td>\n",
       "      <td>924.749471</td>\n",
       "      <td>474.323218</td>\n",
       "      <td>175.945660</td>\n",
       "      <td>51.077629</td>\n",
       "      <td>1674.376147</td>\n",
       "      <td>2021</td>\n",
       "    </tr>\n",
       "  </tbody>\n",
       "</table>\n",
       "</div>"
      ],
      "text/plain": [
       "             10yBonds%  2yBonds%       CPRF_2      CPRF_3      CPRF_4  \\\n",
       "time_period                                                             \n",
       "2017 Q3       2.646667  1.814167  1765.381805  871.722779  838.272923   \n",
       "2017 Q4       2.643333  1.866667  1756.647395  864.379729  828.924340   \n",
       "2018 Q1       2.776667  1.976667  1786.775495  879.155539  843.000734   \n",
       "2018 Q2       2.743333  2.050000  1795.270270  884.257852  849.693207   \n",
       "2018 Q3       2.620000  2.016667  1809.665414  888.172932  851.287970   \n",
       "2018 Q4       2.596667  1.996667  1785.084311  877.392962  841.321114   \n",
       "2019 Q1       2.120000  1.726667  1829.095310  902.476551  866.376702   \n",
       "2019 Q2       1.630000  1.233333  1811.488113  892.650817  857.289747   \n",
       "2019 Q3       1.096667  0.820000  1795.068663  885.642075  850.927684   \n",
       "2019 Q4       1.126667  0.766667  1787.464390  882.047965  848.042878   \n",
       "2020 Q1       1.006667  0.616667  1811.224686  895.354767  860.688840   \n",
       "2020 Q2       0.896667  0.240000  1826.115385  900.569382  864.239819   \n",
       "2020 Q3       0.890000  0.243333  1750.586231  862.176011  827.787793   \n",
       "2020 Q4       0.890000  0.103333  1709.821946  842.340235  808.617667   \n",
       "2021 Q1       1.353333  0.090000  1748.417784  862.162315  828.359210   \n",
       "\n",
       "                 CPRF_5     CPRF_6+  CPRF_HHOLD_NO      CPRF_na    INCP_HIGH  \\\n",
       "time_period                                                                    \n",
       "2017 Q3      340.507163  130.472779    6118.851719  2172.604585  1536.497851   \n",
       "2017 Q4      336.874375  129.385439    6083.413990  2167.304069  1522.491078   \n",
       "2018 Q1      341.777696  130.605282    6185.541453  2204.386647  1551.134263   \n",
       "2018 Q2      344.767714  131.828342    6218.214755  2212.485756  1562.482104   \n",
       "2018 Q3      344.687970  131.439850    6258.281203  2233.134586  1572.530827   \n",
       "2018 Q4      340.824780  130.112170    6178.359238  2203.706745  1552.113636   \n",
       "2019 Q1      351.472012  134.583964    6335.527988  2251.608926  1592.358548   \n",
       "2019 Q2      347.887073  133.373700    6276.381872  2233.849926  1577.777860   \n",
       "2019 Q3      345.157779  132.247626    6219.358656  2210.442659  1563.851717   \n",
       "2019 Q4      344.373547  131.835756    6193.712209  2200.094477  1557.327762   \n",
       "2020 Q1      349.453067  133.845528    6278.215817  2227.732446  1575.634146   \n",
       "2020 Q2      349.909502  133.819759    6330.068627  2255.607843  1596.853695   \n",
       "2020 Q3      336.408801  129.084457    6063.310149  2157.374024  1519.721789   \n",
       "2020 Q4      328.706694  126.251898    5924.817115  2109.094548  1483.830918   \n",
       "2021 Q1      336.937191  129.395907    6057.505293  2152.302047  1515.611150   \n",
       "\n",
       "                INCP_LOW     INCP_MID  INCP_NEG_NIL      Rate    citizen_AU  \\\n",
       "time_period                                                                   \n",
       "2017 Q3      5203.547994  3301.285817   1223.813754  1.500000  12521.073782   \n",
       "2017 Q4      5176.961456  3275.456817   1214.488936  1.500000  12425.084939   \n",
       "2018 Q1      5259.958914  3329.323551   1234.458547  1.500000  12621.434336   \n",
       "2018 Q2      5285.854638  3352.120526   1241.222790  1.500000  12708.062820   \n",
       "2018 Q3      5316.199248  3367.025564   1244.733835  1.500000  12765.602256   \n",
       "2018 Q4      5245.323314  3329.323314   1231.694282  1.500000  12602.640029   \n",
       "2019 Q1      5391.402421  3415.299546   1266.746596  1.500000  12949.819970   \n",
       "2019 Q2      5336.060178  3383.470282   1254.681278  1.430328  12820.361813   \n",
       "2019 Q3      5287.051132  3354.843682   1244.087655  1.007576  12716.172389   \n",
       "2019 Q4      5264.346657  3343.866279   1239.971657  0.753906  12668.294331   \n",
       "2020 Q1      5341.539542  3389.210643   1257.886179  0.638889  12843.583149   \n",
       "2020 Q2      5370.987934  3413.172700   1267.583710  0.250000  12908.858220   \n",
       "2020 Q3      5157.635912  3267.316537   1211.651526  0.250000  12393.147622   \n",
       "2020 Q4      5040.141477  3192.596273   1183.917184  0.156250  12105.993789   \n",
       "2021 Q1      5158.824982  3263.846154   1210.884968  0.100000  12396.118560   \n",
       "\n",
       "             citizen_non_AU  constr_index  mean_price  median_price  \\\n",
       "time_period                                                           \n",
       "2017 Q3         1637.929083         112.0  881.040117    817.798515   \n",
       "2017 Q4         1632.120628         112.5  912.937545    850.072091   \n",
       "2018 Q1         1666.444607         112.9  863.320983    816.213866   \n",
       "2018 Q2         1668.872169         114.2  857.570124    796.760774   \n",
       "2018 Q3         1678.130827         114.6  817.623308    759.679699   \n",
       "2018 Q4         1663.307185         115.1  848.209677    787.079912   \n",
       "2019 Q1         1706.295764         115.3  807.459153    753.301059   \n",
       "2019 Q2         1691.254086         115.8  875.753343    791.147103   \n",
       "2019 Q3         1670.437546         115.8  908.508400    821.303871   \n",
       "2019 Q4         1663.720930         116.0  916.453488    868.515262   \n",
       "2020 Q1         1690.892092         116.0  885.602735    836.032520   \n",
       "2020 Q2         1719.354449         116.2  889.000000    832.188537   \n",
       "2020 Q3         1624.166785         116.2  913.070617    851.429383   \n",
       "2020 Q4         1589.640442         116.9  946.098689    877.637681   \n",
       "2021 Q1         1617.006351         117.8  993.345095    924.749471   \n",
       "\n",
       "             median_rent_newb  new_bonds_no   sales_no  total_bonds_no  year  \n",
       "time_period                                                                   \n",
       "2017 Q3            468.486011    149.977762  47.223496     1592.468436  2017  \n",
       "2017 Q4            470.278542    142.995711  44.374019     1470.077913  2017  \n",
       "2018 Q1            472.084446    159.922230  36.843727     1512.078503  2018  \n",
       "2018 Q2            471.677283    153.766253  38.682980     1540.567568  2018  \n",
       "2018 Q3            470.146376    167.330075  29.440602     1576.686466  2018  \n",
       "2018 Q4            467.485337    156.173754  35.145894     1570.950147  2018  \n",
       "2019 Q1            475.130106    174.481846  28.220121     1620.857791  2019  \n",
       "2019 Q2            470.155275    159.605498  36.976969     1630.115156  2019  \n",
       "2019 Q3            466.598247    176.550037  39.820307     1618.223521  2019  \n",
       "2019 Q4            470.753634    161.226744  42.262355     1623.659884  2019  \n",
       "2020 Q1            474.423503    176.507761  36.712491     1672.571323  2020  \n",
       "2020 Q2            463.593514    154.914781  31.972851     1688.336350  2020  \n",
       "2020 Q3            458.024131    184.203691  46.391057     1640.652236  2020  \n",
       "2020 Q4            466.295376    163.891649  54.116632     1633.790890  2020  \n",
       "2021 Q1            474.323218    175.945660  51.077629     1674.376147  2021  "
      ]
     },
     "execution_count": 8,
     "metadata": {},
     "output_type": "execute_result"
    }
   ],
   "source": [
    "# remove all census data as it does not change over time\n",
    "pivot_time = pivot_time.drop(['Adelta_count', \n",
    "                              'Adelta_median',\n",
    "                              'Adelta_median_rent', \n",
    "                              'Adelta_new_bonds', \n",
    "                              'Qdelta_count', \n",
    "                              'Qdelta_median',\n",
    "                              'Qdelta_median_rent', \n",
    "                              'Qdelta_new_bonds', \n",
    "                              'YARRP 1976-1995',\n",
    "                              'YARRP 1996-2005', \n",
    "                              'YARRP 2006-2016', \n",
    "                              'YARRP <1975', \n",
    "                              'population_2016', \n",
    "                              'postcode', \n",
    "                              '0-4yo', \n",
    "                              '15-24yo', \n",
    "                              '25-34yo', \n",
    "                              '35-54yo',\n",
    "                              '5-14yo', \n",
    "                              '55-64yo', \n",
    "                              '65+yo', \n",
    "                              'ATSI'],\n",
    "                            axis=1)\n",
    "pivot_time"
   ]
  },
  {
   "cell_type": "code",
   "execution_count": 9,
   "id": "cc7e5da0",
   "metadata": {},
   "outputs": [
    {
     "data": {
      "text/plain": [
       "Index(['10yBonds%', '2yBonds%', 'CPRF_2', 'CPRF_3', 'CPRF_4', 'CPRF_5',\n",
       "       'CPRF_6+', 'CPRF_HHOLD_NO', 'CPRF_na', 'INCP_HIGH', 'INCP_LOW',\n",
       "       'INCP_MID', 'INCP_NEG_NIL', 'Rate', 'citizen_AU', 'citizen_non_AU',\n",
       "       'constr_index', 'mean_price', 'median_price', 'median_rent_newb',\n",
       "       'new_bonds_no', 'sales_no', 'total_bonds_no', 'year'],\n",
       "      dtype='object')"
      ]
     },
     "execution_count": 9,
     "metadata": {},
     "output_type": "execute_result"
    }
   ],
   "source": [
    "pivot_time.columns"
   ]
  },
  {
   "cell_type": "code",
   "execution_count": 10,
   "id": "67d2c87e",
   "metadata": {},
   "outputs": [
    {
     "data": {
      "image/png": "[encoded data removed]",
      "text/plain": [
       "<Figure size 1152x864 with 2 Axes>"
      ]
     },
     "metadata": {
      "needs_background": "light"
     },
     "output_type": "display_data"
    }
   ],
   "source": [
    "# show correlation matrix for numeric data\n",
    "plt.figure(figsize=(16, 12))\n",
    "\n",
    "postcode_corr = pivot_time[['mean_price', 'median_price', 'median_rent_newb', 'new_bonds_no', 'total_bonds_no', \n",
    "                            '10yBonds%', '2yBonds%', 'Rate', 'constr_index', 'sales_no']]\n",
    "\n",
    "matrix = np.triu(postcode_corr.corr())\n",
    "\n",
    "sns.heatmap(postcode_corr.corr(), \n",
    "            annot=True, # put coefficients in\n",
    "            fmt='.2g', # set number of decimals\n",
    "            vmin=-1, vmax=1, center=0, # rescale colorbar\n",
    "            cmap='RdYlGn', # set color palette\n",
    "            square=True, # set squares\n",
    "            mask=matrix) # display only lower triangular matrix\n",
    "plt.yticks(rotation=360)\n",
    "plt.xticks(rotation=70);"
   ]
  },
  {
   "cell_type": "markdown",
   "id": "5fb06087",
   "metadata": {},
   "source": [
    "Analysis of correlation with price:\n",
    "- There is a weak negative relationship between the __rent level__ and the sales price level. This implies that periods with higher rent prices tend to have lower sales prices. However, as mentioned, the relationship is rather weak.\n",
    "- There is a moderate positive relationship with the amount of __total bonds__.\n",
    "- There is a moderate to strong negative relationship with __10 Year Bonds__. This makes sense since in economic theory investors can choose from different asset classes. Government bonds are considered as ultra safe and hence represent a baseline of what investors expect as return since they can have the bond yield \"risk free\". If bond yields rise, the relative return of competing asset classes decrease, demand goes down, and price level will follow.\n",
    "- There is a strong negative relationship with __2 Year Bonds__. The reasoning is the same as for 10 year bonds. It is interesting, though, that the relationship for shorter duration bonds seems stronger.\n",
    "- There is a moderate to strong positive relationship with __high income__. This implies that postcode area with high sales prices tend to have a population with higher income.\n",
    "- There is a strong negative relationship with __interest rates__. This is another reasonable observation from an economic point of view. When interest rates decrease, it means capital becomes cheaper i.e. it is easier to get a loan since they are related to the rate level. Hence demand for housing, financed through loans, increases, and prices adjust accordingly.\n",
    "- There is a moderate positive relationship with __construction costs__. This makes sense since house prices should increase as cost for building them increases.\n",
    "- Lastly, there is a strong positive relationship with __sales numbers__. It is not sure at this stage how this actually relates, but the number of sales could be viewed as a proxy for demand which would drive prices."
   ]
  },
  {
   "cell_type": "markdown",
   "id": "affa315f",
   "metadata": {},
   "source": [
    "Interesting features to analyse over time together with price:\n",
    "- dwelling type (in first EDA notebook)\n",
    "- sales number\n",
    "- median rent\n",
    "- new bonds\n",
    "- bond yields\n",
    "- construction costs\n",
    "- interest rate"
   ]
  },
  {
   "cell_type": "markdown",
   "id": "d86d7efb",
   "metadata": {},
   "source": [
    "#### Dwelling Type"
   ]
  },
  {
   "cell_type": "code",
   "execution_count": 11,
   "id": "6b98e589",
   "metadata": {},
   "outputs": [
    {
     "ename": "NameError",
     "evalue": "name 'price_mean' is not defined",
     "output_type": "error",
     "traceback": [
      "\u001b[0;31m---------------------------------------------------------------------------\u001b[0m",
      "\u001b[0;31mNameError\u001b[0m                                 Traceback (most recent call last)",
      "\u001b[0;32m/var/folders/hf/h6f3jsrs3lx657zy83rp8ryw0000gn/T/ipykernel_31996/3410831736.py\u001b[0m in \u001b[0;36m<module>\u001b[0;34m\u001b[0m\n\u001b[1;32m      1\u001b[0m \u001b[0mplt\u001b[0m\u001b[0;34m.\u001b[0m\u001b[0mfigure\u001b[0m\u001b[0;34m(\u001b[0m\u001b[0mfigsize\u001b[0m\u001b[0;34m=\u001b[0m\u001b[0;34m(\u001b[0m\u001b[0;36m10\u001b[0m\u001b[0;34m,\u001b[0m\u001b[0;36m7\u001b[0m\u001b[0;34m)\u001b[0m\u001b[0;34m)\u001b[0m\u001b[0;34m\u001b[0m\u001b[0;34m\u001b[0m\u001b[0m\n\u001b[0;32m----> 2\u001b[0;31m \u001b[0max\u001b[0m \u001b[0;34m=\u001b[0m \u001b[0msns\u001b[0m\u001b[0;34m.\u001b[0m\u001b[0mlineplot\u001b[0m\u001b[0;34m(\u001b[0m\u001b[0mdata\u001b[0m\u001b[0;34m=\u001b[0m\u001b[0mprice_mean\u001b[0m\u001b[0;34m)\u001b[0m\u001b[0;34m\u001b[0m\u001b[0;34m\u001b[0m\u001b[0m\n\u001b[0m\u001b[1;32m      3\u001b[0m \u001b[0max\u001b[0m\u001b[0;34m.\u001b[0m\u001b[0mset_title\u001b[0m\u001b[0;34m(\u001b[0m\u001b[0;34m\"Average price of houses sold by dwelling type\"\u001b[0m\u001b[0;34m)\u001b[0m\u001b[0;34m\u001b[0m\u001b[0;34m\u001b[0m\u001b[0m\n\u001b[1;32m      4\u001b[0m \u001b[0max\u001b[0m\u001b[0;34m.\u001b[0m\u001b[0mset_ylabel\u001b[0m\u001b[0;34m(\u001b[0m\u001b[0;34m\"avg. price (AUD 000s)\"\u001b[0m\u001b[0;34m)\u001b[0m\u001b[0;34m\u001b[0m\u001b[0;34m\u001b[0m\u001b[0m\n\u001b[1;32m      5\u001b[0m \u001b[0max\u001b[0m\u001b[0;34m.\u001b[0m\u001b[0mset_xlabel\u001b[0m\u001b[0;34m(\u001b[0m\u001b[0;32mNone\u001b[0m\u001b[0;34m)\u001b[0m\u001b[0;34m;\u001b[0m\u001b[0;34m\u001b[0m\u001b[0;34m\u001b[0m\u001b[0m\n",
      "\u001b[0;31mNameError\u001b[0m: name 'price_mean' is not defined"
     ]
    },
    {
     "data": {
      "text/plain": [
       "<Figure size 720x504 with 0 Axes>"
      ]
     },
     "metadata": {},
     "output_type": "display_data"
    }
   ],
   "source": [
    "plt.figure(figsize=(10,7))\n",
    "ax = sns.lineplot(data=price_mean)\n",
    "ax.set_title(\"Average price of houses sold by dwelling type\")\n",
    "ax.set_ylabel(\"avg. price (AUD 000s)\")\n",
    "ax.set_xlabel(None);"
   ]
  },
  {
   "cell_type": "markdown",
   "id": "5a882530",
   "metadata": {},
   "source": [
    "#### Sales Number"
   ]
  },
  {
   "cell_type": "markdown",
   "id": "b885007c",
   "metadata": {},
   "source": [
    "#### Median Rent"
   ]
  },
  {
   "cell_type": "markdown",
   "id": "cefb7fac",
   "metadata": {},
   "source": [
    "#### New Bonds"
   ]
  },
  {
   "cell_type": "markdown",
   "id": "c778bff5",
   "metadata": {},
   "source": [
    "#### Construction Costs"
   ]
  },
  {
   "cell_type": "markdown",
   "id": "edd62851",
   "metadata": {},
   "source": [
    "#### Bond Yields"
   ]
  },
  {
   "cell_type": "markdown",
   "id": "f9c0cbf2",
   "metadata": {},
   "source": [
    "#### Interest Rates"
   ]
  },
  {
   "cell_type": "markdown",
   "id": "7c6a15d0",
   "metadata": {
    "heading_collapsed": true
   },
   "source": [
    "### By Postcode"
   ]
  },
  {
   "cell_type": "code",
   "execution_count": null,
   "id": "8ca74940",
   "metadata": {
    "hidden": true
   },
   "outputs": [],
   "source": [
    "# pivot unstacked df to get aggregate values by postcode\n",
    "pivot_postcode = pd.pivot_table(master,\n",
    "                                index=\"postcode\")\n",
    "pivot_postcode"
   ]
  },
  {
   "cell_type": "code",
   "execution_count": null,
   "id": "21747e86",
   "metadata": {
    "hidden": true
   },
   "outputs": [],
   "source": [
    "pivot_postcode.columns"
   ]
  },
  {
   "cell_type": "code",
   "execution_count": null,
   "id": "b1f09619",
   "metadata": {
    "hidden": true
   },
   "outputs": [],
   "source": [
    "pivot_postcode = pivot_postcode[['mean_price', 'median_price', 'median_rent_newb', 'new_bonds_no', 'total_bonds_no', '0-4yo', '5-14yo', '15-24yo', '25-34yo', '35-54yo', '55-64yo', '65+yo', 'ATSI', 'CPRF_2', 'CPRF_3', 'CPRF_4','CPRF_5', 'CPRF_6+', 'CPRF_HHOLD_NO', 'CPRF_na', 'INCP_HIGH', 'INCP_LOW', 'INCP_MID', 'INCP_NEG_NIL', 'YARRP 1976-1995', 'YARRP 1996-2005', 'YARRP 2006-2016', 'YARRP <1975', 'citizen_AU', 'citizen_non_AU']]"
   ]
  },
  {
   "cell_type": "code",
   "execution_count": null,
   "id": "188d1018",
   "metadata": {
    "hidden": true
   },
   "outputs": [],
   "source": [
    "# show correlation\n",
    "plt.figure(figsize=(20, 15))\n",
    "\n",
    "matrix = np.triu(pivot_postcode.corr())\n",
    "\n",
    "sns.heatmap(pivot_postcode.corr(), \n",
    "            annot=True, # put coefficients in\n",
    "            fmt='.2g', # set number of decimals\n",
    "            vmin=-1, vmax=1, center=0, # rescale colorbar\n",
    "            cmap='RdYlGn', # set color palette\n",
    "            square=True, # set squares\n",
    "            mask=matrix) # display only lower triangular matrix\n",
    "plt.yticks(rotation=360)\n",
    "plt.xticks(rotation=70);"
   ]
  },
  {
   "cell_type": "markdown",
   "id": "787ece5b",
   "metadata": {
    "hidden": true
   },
   "source": [
    "Analysis of correlation with price:\n",
    "- There is a very strong positive relationship between the __rent level__ and the sales price level. This implies that postcodes that have high rent prices also tend to have high sales prices. It remains unknown, however, if there actually is a causal relationship.\n",
    "- There is a positive relationship with the amount of __new bonds__. This would make intuitively sense if the number of new bonds is seen as a proxy for demand in an area. First and foremost, this should have an effect on rent levels, but since rent prices are heavily correlated with sales levels, it would make sense if there is some relation with this too.\n",
    "- The number of people in a certain __age bracket__ seems to have a slight positive relationship with sales price for people aged between 25-54. Once could argue that this covers the typical working lifespan and hence people in this age bracket are expected to have more money which is reflected in sales prices.\n",
    "- There is a moderately strong negative relationship with __ATSI__. This implies that prices levels are lower in postcode areas where more people identifying as aboriginal live.\n",
    "- There is a moderate to strong positive relationship with __high income__. This implies that postcode area with high sales prices tend to have a population with higher income.\n",
    "- There is a rather weak positive relationship with the __different years of arrival__ in Australia. At this point, however, it is hard to reason why there should be a relationship\n",
    "- Lastly, there is rather weak positive relationship with __non Australian citizenship__. This implies that postcodes with higher sales prices are culturally more diverse with a larger proportion of non-Australian citizens."
   ]
  },
  {
   "cell_type": "code",
   "execution_count": null,
   "id": "09745413",
   "metadata": {
    "hidden": true
   },
   "outputs": [],
   "source": [
    "pivot_postcode.columns"
   ]
  },
  {
   "cell_type": "markdown",
   "id": "c950efc5",
   "metadata": {
    "heading_collapsed": true,
    "hidden": true
   },
   "source": [
    "#### Median Rent"
   ]
  },
  {
   "cell_type": "code",
   "execution_count": null,
   "id": "f78fe010",
   "metadata": {
    "hidden": true
   },
   "outputs": [],
   "source": [
    "sns.set_style(\"darkgrid\")\n",
    "plt.figure(figsize=(10,7))\n",
    "sns.scatterplot(x=\"mean_price\", y=\"median_rent_newb\", data=pivot_postcode)\n",
    "plt.title(\"Relationship of Median Rent and Mean Price Level\", fontsize=14)\n",
    "plt.xlabel(\"Mean Sales Price\", fontsize=12)\n",
    "plt.ylabel(\"Median Rent Price\", fontsize=12);"
   ]
  },
  {
   "cell_type": "code",
   "execution_count": null,
   "id": "d938c8a6",
   "metadata": {
    "hidden": true
   },
   "outputs": [],
   "source": [
    "\n",
    "plt.figure(figsize=(10,7))\n",
    "sns.scatterplot(x=\"median_price\", y=\"median_rent_newb\", data=pivot_postcode)\n",
    "plt.title(\"Relationship of Median Rent and Median Price Level\", fontsize=14)\n",
    "plt.xlabel(\"Median Sales Price\", fontsize=12)\n",
    "plt.ylabel(\"Median Rent Price\", fontsize=12);"
   ]
  },
  {
   "cell_type": "markdown",
   "id": "fbbe1df3",
   "metadata": {
    "hidden": true
   },
   "source": [
    "Comparing the median sales prices with median rent prices makes intuitively more sense, and also seems to be a more linear relationship. However, for both plots, the relationship looks non-linear and a logarithmic transformation of the median rent level might make sense if we want to use it."
   ]
  },
  {
   "cell_type": "markdown",
   "id": "05c14ed5",
   "metadata": {
    "heading_collapsed": true,
    "hidden": true
   },
   "source": [
    "#### New Bonds"
   ]
  },
  {
   "cell_type": "code",
   "execution_count": null,
   "id": "50f68a8b",
   "metadata": {
    "hidden": true
   },
   "outputs": [],
   "source": [
    "plt.figure(figsize=(10,7))\n",
    "sns.scatterplot(x=\"mean_price\", y=\"new_bonds_no\", data=pivot_postcode)\n",
    "plt.title(\"Relationship of Number of New Bonds and Mean Price Level\", fontsize=14)\n",
    "plt.xlabel(\"Mean Sales Price\", fontsize=12)\n",
    "plt.ylabel(\"Number of New Bonds\", fontsize=12);"
   ]
  },
  {
   "cell_type": "code",
   "execution_count": null,
   "id": "9f2602bb",
   "metadata": {
    "hidden": true
   },
   "outputs": [],
   "source": [
    "pivot_postcode[\"mean_price\"].corr(pivot_postcode[\"new_bonds_no\"])"
   ]
  },
  {
   "cell_type": "markdown",
   "id": "a7ea3c71",
   "metadata": {
    "hidden": true
   },
   "source": [
    "There is a positive relationship. However, the variance is very large. Transformation might help."
   ]
  },
  {
   "cell_type": "markdown",
   "id": "7cbff911",
   "metadata": {
    "heading_collapsed": true,
    "hidden": true
   },
   "source": [
    "#### Age Brackets"
   ]
  },
  {
   "cell_type": "code",
   "execution_count": null,
   "id": "17ca3fea",
   "metadata": {
    "hidden": true
   },
   "outputs": [],
   "source": [
    "plt.figure(figsize=(10,7))\n",
    "sns.scatterplot(x=\"mean_price\", y=\"25-34yo\", data=pivot_postcode)\n",
    "plt.title(\"Relationship of 25-34yo Population and Mean Price Level\", fontsize=14)\n",
    "plt.xlabel(\"Mean Sales Price\", fontsize=12)\n",
    "plt.ylabel(\"Number of People between 25-34 Years\", fontsize=12);"
   ]
  },
  {
   "cell_type": "code",
   "execution_count": null,
   "id": "90089623",
   "metadata": {
    "hidden": true
   },
   "outputs": [],
   "source": [
    "plt.figure(figsize=(10,7))\n",
    "sns.scatterplot(x=\"mean_price\", y=\"35-54yo\", data=pivot_postcode)\n",
    "plt.title(\"Relationship of 35-54yo Population and Mean Price Level\", fontsize=14)\n",
    "plt.xlabel(\"Mean Sales Price\", fontsize=12)\n",
    "plt.ylabel(\"Number of People between 35-54 Years\", fontsize=12);"
   ]
  },
  {
   "cell_type": "markdown",
   "id": "0a8c2dc1",
   "metadata": {
    "heading_collapsed": true,
    "hidden": true
   },
   "source": [
    "#### ATSI"
   ]
  },
  {
   "cell_type": "code",
   "execution_count": null,
   "id": "3285bf16",
   "metadata": {
    "hidden": true
   },
   "outputs": [],
   "source": [
    "plt.figure(figsize=(10,7))\n",
    "sns.scatterplot(x=\"mean_price\", y=\"ATSI\", data=pivot_postcode)\n",
    "plt.title(\"Relationship of Aboriginal Heritage and Mean Price Level\", fontsize=14)\n",
    "plt.xlabel(\"Mean Sales Price\", fontsize=12)\n",
    "plt.ylabel(\"Number of People identifying as Aboriginal\", fontsize=12);"
   ]
  },
  {
   "cell_type": "markdown",
   "id": "22d8e9ad",
   "metadata": {
    "hidden": true
   },
   "source": [
    "This looks like a strongly non-linear relationship. Transformation might be required."
   ]
  },
  {
   "cell_type": "markdown",
   "id": "d0787d16",
   "metadata": {
    "heading_collapsed": true,
    "hidden": true
   },
   "source": [
    "#### High Income"
   ]
  },
  {
   "cell_type": "code",
   "execution_count": null,
   "id": "b5354fe1",
   "metadata": {
    "hidden": true
   },
   "outputs": [],
   "source": [
    "plt.figure(figsize=(10,7))\n",
    "sns.scatterplot(x=\"mean_price\", y=\"INCP_HIGH\", data=pivot_postcode)\n",
    "plt.title(\"Relationship of High Income and Mean Price Level\", fontsize=14)\n",
    "plt.xlabel(\"Mean Sales Price\", fontsize=12)\n",
    "plt.ylabel(\"High Income\", fontsize=12);"
   ]
  },
  {
   "cell_type": "markdown",
   "id": "875f22f7",
   "metadata": {
    "hidden": true
   },
   "source": [
    "There seems to be a somewhat linear relationship with a large variance for larger values."
   ]
  },
  {
   "cell_type": "markdown",
   "id": "35ebf28c",
   "metadata": {
    "heading_collapsed": true,
    "hidden": true
   },
   "source": [
    "#### Year of Arrival"
   ]
  },
  {
   "cell_type": "code",
   "execution_count": null,
   "id": "0753b633",
   "metadata": {
    "hidden": true
   },
   "outputs": [],
   "source": [
    "plt.figure(figsize=(10,7))\n",
    "sns.scatterplot(x=\"mean_price\", y=\"YARRP 1996-2005\", data=pivot_postcode)\n",
    "plt.title(\"Relationship of Year of Arrival from 1996-2005 and Mean Price Level\", fontsize=14)\n",
    "plt.xlabel(\"Mean Sales Price\", fontsize=12)\n",
    "plt.ylabel(\"Number of People in Year Bracket\", fontsize=12);"
   ]
  },
  {
   "cell_type": "code",
   "execution_count": null,
   "id": "6efab1ac",
   "metadata": {
    "hidden": true
   },
   "outputs": [],
   "source": [
    "plt.figure(figsize=(10,7))\n",
    "sns.scatterplot(x=\"mean_price\", y=\"YARRP 2006-2016\", data=pivot_postcode)\n",
    "plt.title(\"Relationship of Year of Arrival from 2006-2016 and Mean Price Level\", fontsize=14)\n",
    "plt.xlabel(\"Mean Sales Price\", fontsize=12)\n",
    "plt.ylabel(\"Number of People in Year Bracket\", fontsize=12);"
   ]
  },
  {
   "cell_type": "markdown",
   "id": "166c350d",
   "metadata": {
    "heading_collapsed": true,
    "hidden": true
   },
   "source": [
    "#### Non-AUS Citizen"
   ]
  },
  {
   "cell_type": "code",
   "execution_count": null,
   "id": "f74d68ce",
   "metadata": {
    "hidden": true
   },
   "outputs": [],
   "source": [
    "plt.figure(figsize=(10,7))\n",
    "sns.scatterplot(x=\"mean_price\", y=\"citizen_non_AU\", data=pivot_postcode)\n",
    "plt.title(\"Relationship of non-AUS Citizenship and Mean Price Level\", fontsize=14)\n",
    "plt.xlabel(\"Mean Sales Price\", fontsize=12)\n",
    "plt.ylabel(\"Number of non-AUS citizens\", fontsize=12);"
   ]
  },
  {
   "cell_type": "markdown",
   "id": "dd0ea398",
   "metadata": {},
   "source": [
    "### On Postcode Level and over Time (maybe use melt?)"
   ]
  },
  {
   "cell_type": "code",
   "execution_count": null,
   "id": "1606fd60",
   "metadata": {},
   "outputs": [],
   "source": [
    "pivot_multi = pd.pivot_table(master,\n",
    "                             index=['postcode', \"time_period\"])\n",
    "pivot_multi.head(20)"
   ]
  },
  {
   "cell_type": "code",
   "execution_count": null,
   "id": "fb599503",
   "metadata": {},
   "outputs": [],
   "source": []
  },
  {
   "cell_type": "markdown",
   "id": "4a1554c1",
   "metadata": {},
   "source": [
    "# Linear Regression Modeling"
   ]
  },
  {
   "cell_type": "markdown",
   "id": "d8cfeb09",
   "metadata": {},
   "source": [
    "## Setting up the DF"
   ]
  },
  {
   "cell_type": "code",
   "execution_count": null,
   "id": "18eab814",
   "metadata": {},
   "outputs": [],
   "source": [
    "# Read Data\n",
    "\n",
    "modelDF = pd.read_csv(\"Files/Cleaned/Postcode-based/Unstacked_Transformed.csv\",\n",
    "                     index_col=\"postcode\")\n",
    "modelDF.head()"
   ]
  },
  {
   "cell_type": "code",
   "execution_count": null,
   "id": "dbecb713",
   "metadata": {},
   "outputs": [],
   "source": [
    "# Remove interest rate, bond yields (they're the same for all postcodes)\n",
    "# Remove redundant calculated proportion variables\n",
    "modelDF = modelDF.iloc[:, np.r_[0:56, 96:121]] \n",
    "\n",
    "# Drop mean price columns\n",
    "modelDF = modelDF.drop([\"mean_price 2020 Q1\", \"mean_price 2020 Q2\", \"mean_price 2020 Q3\",\n",
    "                        \"mean_price 2020 Q4\", \"mean_price 2021 Q1\"],\n",
    "                      axis=1)\n",
    "\n",
    "# Drop one category from each feature group (optional)\n",
    "modelDF = modelDF.drop(columns=['INCP_NEG_NIL', 'INCP_NEG_NIL_Prop', \n",
    "                                '65+yo','65+yo_Prop',\n",
    "                                'CPRF_na', 'CPRF_na_Prop',\n",
    "                                'citizen_AU', 'citizen_AU_Prop'],axis=1)\n",
    "\n",
    "print(modelDF.shape)\n",
    "modelDF.head(1)"
   ]
  },
  {
   "cell_type": "raw",
   "id": "0cebf277",
   "metadata": {},
   "source": [
    "# Can also use the following to find columns with mean in it instead of manually looking through # all the column names.\n",
    "meanList = [col for col in modelDF.columns if 'mean' in col]"
   ]
  },
  {
   "cell_type": "code",
   "execution_count": null,
   "id": "33b02637",
   "metadata": {},
   "outputs": [],
   "source": [
    "topCorr = (modelDF.corr())['median_price 2021 Q1'].sort_values(ascending=False).to_frame().head(20)\n",
    "topCorr"
   ]
  },
  {
   "cell_type": "markdown",
   "id": "b6712044",
   "metadata": {},
   "source": [
    "check: growth rate and predictors"
   ]
  },
  {
   "cell_type": "markdown",
   "id": "60cc48e1",
   "metadata": {
    "heading_collapsed": true
   },
   "source": [
    "## Baseline chance accuracy"
   ]
  },
  {
   "cell_type": "code",
   "execution_count": null,
   "id": "ba2df58b",
   "metadata": {
    "hidden": true
   },
   "outputs": [],
   "source": [
    "from sklearn.metrics import r2_score"
   ]
  },
  {
   "cell_type": "markdown",
   "id": "430724d6",
   "metadata": {
    "hidden": true
   },
   "source": [
    "Using the previous quarter to determine the chance accuracy of the target quarter (Q1 2021)"
   ]
  },
  {
   "cell_type": "code",
   "execution_count": null,
   "id": "a220b0b2",
   "metadata": {
    "hidden": true
   },
   "outputs": [],
   "source": [
    "ypred_base = modelDF['median_price 2020 Q4']\n",
    "r2_score(ypred_base,modelDF['median_price 2021 Q1'])\n",
    "print(f'The target for our model is {round(r2_score(ypred_base,modelDF[\"median_price 2021 Q1\"]),2)*100}%')"
   ]
  },
  {
   "cell_type": "markdown",
   "id": "ea890373",
   "metadata": {
    "heading_collapsed": true
   },
   "source": [
    "## Linear Regression base model"
   ]
  },
  {
   "cell_type": "markdown",
   "id": "35f23e16",
   "metadata": {
    "hidden": true
   },
   "source": [
    "Training the Linear Regression model (LR) with all features"
   ]
  },
  {
   "cell_type": "code",
   "execution_count": null,
   "id": "4619a43d",
   "metadata": {
    "hidden": true
   },
   "outputs": [],
   "source": [
    "from sklearn.linear_model import LinearRegression"
   ]
  },
  {
   "cell_type": "code",
   "execution_count": null,
   "id": "22945be7",
   "metadata": {
    "hidden": true
   },
   "outputs": [],
   "source": [
    "lr=LinearRegression()"
   ]
  },
  {
   "cell_type": "markdown",
   "id": "d17aecbd",
   "metadata": {
    "hidden": true
   },
   "source": [
    "Choosing a `random_state` to ensure we get the same features and accuracy with each run. Splitting the train and test sets 80/20."
   ]
  },
  {
   "cell_type": "code",
   "execution_count": null,
   "id": "c3df12c2",
   "metadata": {
    "hidden": true
   },
   "outputs": [],
   "source": [
    "from sklearn.model_selection import train_test_split\n",
    "\n",
    "train, test = train_test_split(modelDF,  test_size= 0.2, random_state= 123)"
   ]
  },
  {
   "cell_type": "markdown",
   "id": "6bd6d6ec",
   "metadata": {
    "hidden": true
   },
   "source": [
    "Applying all features except the target feature to the X train and test sets. Applying only the target feature to the y train and test set. "
   ]
  },
  {
   "cell_type": "code",
   "execution_count": null,
   "id": "2ba4911d",
   "metadata": {
    "hidden": true
   },
   "outputs": [],
   "source": [
    "X_train = train.drop(columns= 'median_price 2021 Q1')\n",
    "y_train = train['median_price 2021 Q1']\n",
    "\n",
    "X_test = test.drop(columns= 'median_price 2021 Q1')\n",
    "y_test = test['median_price 2021 Q1']"
   ]
  },
  {
   "cell_type": "markdown",
   "id": "8097e054",
   "metadata": {
    "hidden": true
   },
   "source": [
    "Determining the 'linear' equations for model."
   ]
  },
  {
   "cell_type": "code",
   "execution_count": null,
   "id": "c0800bce",
   "metadata": {
    "hidden": true
   },
   "outputs": [],
   "source": [
    "lr.fit(X_train, y_train)\n",
    "print(\"y = x *\", lr.coef_, \"+\", lr.intercept_)"
   ]
  },
  {
   "cell_type": "markdown",
   "id": "e968e6b9",
   "metadata": {
    "hidden": true
   },
   "source": [
    "Creating a dataframe of all the coefficients for the model of all the features. "
   ]
  },
  {
   "cell_type": "code",
   "execution_count": null,
   "id": "d784d4ab",
   "metadata": {
    "hidden": true,
    "scrolled": true
   },
   "outputs": [],
   "source": [
    "coeffDF1 = pd.DataFrame(lr.coef_, X_train.columns, columns = ['coeff'])\n",
    "coeffDF1 = coeffDF1.sort_values(ascending= False, by='coeff')\n",
    "coeffDF1"
   ]
  },
  {
   "cell_type": "markdown",
   "id": "e0447458",
   "metadata": {
    "hidden": true
   },
   "source": [
    "- More positive = more positive influence on the prediction\n",
    "\n",
    "- more negative = more negative influence on the prediction\n",
    "\n",
    "**CAREFUL:** scale of prediction variables is not the same. One feature might have high numbers and another might be small which will have different 'weights' or influence on the model. \n",
    "\n",
    "As `sales_no 2020 Q1` increases by one unit, the `median_price 2021 Q1` increases by 10 units. Likewise, as `CPRF_3` increases by one unit, `median_price 2021 Q1` decreases by ~11 units. "
   ]
  },
  {
   "cell_type": "markdown",
   "id": "79c50953",
   "metadata": {
    "hidden": true
   },
   "source": [
    "Checking the mean squared error and the $R^2$ values"
   ]
  },
  {
   "cell_type": "code",
   "execution_count": null,
   "id": "30b456ce",
   "metadata": {
    "hidden": true
   },
   "outputs": [],
   "source": [
    "from sklearn.metrics import mean_squared_error"
   ]
  },
  {
   "cell_type": "markdown",
   "id": "c5144eeb",
   "metadata": {
    "hidden": true
   },
   "source": [
    "For the train set"
   ]
  },
  {
   "cell_type": "code",
   "execution_count": null,
   "id": "32de9dd1",
   "metadata": {
    "hidden": true
   },
   "outputs": [],
   "source": [
    "trainPred = lr.predict(X_train)\n",
    "trainMse = mean_squared_error(trainPred, y_train)\n",
    "trainR2 = r2_score(y_train, trainPred)\n",
    "print(\"MSE:\", trainMse)\n",
    "print(\"R Squared:\", trainR2)"
   ]
  },
  {
   "cell_type": "markdown",
   "id": "134a894d",
   "metadata": {
    "hidden": true
   },
   "source": [
    "For the test set"
   ]
  },
  {
   "cell_type": "code",
   "execution_count": null,
   "id": "72bed6db",
   "metadata": {
    "hidden": true
   },
   "outputs": [],
   "source": [
    "testPred = lr.predict(X_test)\n",
    "testMse = mean_squared_error(testPred, y_test)\n",
    "testR2 = r2_score(y_test, testPred)\n",
    "print(\"MSE:\", testMse)\n",
    "print(\"R Squared:\", testR2)"
   ]
  },
  {
   "cell_type": "markdown",
   "id": "d8d630f4",
   "metadata": {
    "heading_collapsed": true
   },
   "source": [
    "## Cross Validation\n"
   ]
  },
  {
   "attachments": {
    "kfold.png": {
     "image/png": "[encoded data removed]"
    }
   },
   "cell_type": "markdown",
   "id": "98b3ab41",
   "metadata": {
    "hidden": true
   },
   "source": [
    "Using KFold for the cross validation process. We will be going through 5 folds, having each fold having a turn in acting as a train and test set throughout the iterations. \n",
    "\n",
    "![kfold.png](attachment:kfold.png)\n",
    "\n",
    "As we can see through each iteration, the sets of data take turns in acting as the train/test sets. Image from [kaggle](https://www.kaggle.com/jnikhilsai/cross-validation-with-linear-regression)"
   ]
  },
  {
   "cell_type": "code",
   "execution_count": null,
   "id": "6999af64",
   "metadata": {
    "hidden": true
   },
   "outputs": [],
   "source": [
    "from sklearn.model_selection import cross_val_score\n",
    "from sklearn.model_selection import KFold"
   ]
  },
  {
   "cell_type": "markdown",
   "id": "4cdbad6a",
   "metadata": {
    "hidden": true
   },
   "source": [
    "hold out would be the test set. "
   ]
  },
  {
   "cell_type": "code",
   "execution_count": null,
   "id": "328df874",
   "metadata": {
    "hidden": true
   },
   "outputs": [],
   "source": [
    "kFold = KFold(n_splits=5, shuffle=True, random_state= 123)\n",
    "\n",
    "\n",
    "lr= LinearRegression()\n",
    "score = cross_val_score(lr, X_train,\n",
    "                        y_train, scoring = 'r2',\n",
    "                        cv= kFold, n_jobs = -1) \n",
    "\n",
    "score"
   ]
  },
  {
   "cell_type": "code",
   "execution_count": null,
   "id": "e1efe8bb",
   "metadata": {
    "hidden": true
   },
   "outputs": [],
   "source": [
    "score.mean()"
   ]
  },
  {
   "cell_type": "markdown",
   "id": "f112a6c5",
   "metadata": {
    "hidden": true
   },
   "source": [
    "Originally had the cross validation work on the entire dataset when it should be done on the training set, that way the test set is completely separate from the training set throughout all steps of the modelling process. The original test set, `X_test`, will be used as a validation set.  [Help from stackexchange](https://stats.stackexchange.com/questions/339736/perform-cross-validation-on-train-set-or-entire-data-set/339842)\n",
    "\n",
    "The mean score of the cross validation is good, comparable to that of the chance accuracy. "
   ]
  },
  {
   "cell_type": "markdown",
   "id": "32734400",
   "metadata": {
    "heading_collapsed": true
   },
   "source": [
    "## Model tuning\n",
    "Feature engineering and tuning the model parameters"
   ]
  },
  {
   "cell_type": "markdown",
   "id": "43201e01",
   "metadata": {
    "hidden": true
   },
   "source": [
    "### Using RFE and a loop to determine the best number of features"
   ]
  },
  {
   "cell_type": "code",
   "execution_count": null,
   "id": "c3551283",
   "metadata": {
    "hidden": true
   },
   "outputs": [],
   "source": [
    "from sklearn.feature_selection import RFE"
   ]
  },
  {
   "cell_type": "markdown",
   "id": "bf2c05f2",
   "metadata": {
    "hidden": true
   },
   "source": [
    "Setting up empty lists as we will be populating them in the loop. "
   ]
  },
  {
   "cell_type": "code",
   "execution_count": null,
   "id": "85b21486",
   "metadata": {
    "hidden": true
   },
   "outputs": [],
   "source": [
    "trainR2= []\n",
    "trainMse = []\n",
    "\n",
    "testR2 = []\n",
    "testMse = []\n",
    "\n",
    "nFeatures = []\n",
    "topFeatures = []"
   ]
  },
  {
   "cell_type": "markdown",
   "id": "026a29aa",
   "metadata": {
    "hidden": true
   },
   "source": [
    "With each iteration of the loop RFE will:\n",
    "- Increase the number of features by one.\n",
    "- Train the model with the features in the iteration.\n",
    "- Predict the test set.\n",
    "- Determine the $MSE$ and $R^2$ for the train and test sets. \n",
    "- Update the empty lists created above with the values from the iteration. "
   ]
  },
  {
   "cell_type": "code",
   "execution_count": null,
   "id": "bdd427e4",
   "metadata": {
    "hidden": true
   },
   "outputs": [],
   "source": [
    "for i in range(1,len(X_train.columns),1):\n",
    "    lrRFE = LinearRegression()\n",
    "    rfe = RFE(estimator= lrRFE, n_features_to_select = i, step = 1)\n",
    "    rfe.fit(X_train, y_train)\n",
    "    \n",
    "    trainPred = rfe.predict(X_train)\n",
    "    lrRFE_trainMse = mean_squared_error(trainPred, y_train)\n",
    "    lrRFE_trainR2 = r2_score(y_train, trainPred )\n",
    "    \n",
    "    testPred = rfe.predict(X_test)\n",
    "    lrRFE_testMse = mean_squared_error(testPred, y_test)\n",
    "    lrRFE_testR2 = r2_score(y_test, testPred )\n",
    "    \n",
    "    topFeatures.append(list(X_train.columns[rfe.support_ ==True]))\n",
    "\n",
    "    testR2.append(lrRFE_testR2)\n",
    "    testMse.append(lrRFE_testMse)\n",
    "    \n",
    "    trainR2.append(lrRFE_trainR2)\n",
    "    trainMse.append(lrRFE_trainMse)\n",
    "    \n",
    "    nFeatures.append(i)"
   ]
  },
  {
   "cell_type": "markdown",
   "id": "7aad8863",
   "metadata": {
    "hidden": true
   },
   "source": [
    "Creating a dataframe to display all the values from the loop nicely. "
   ]
  },
  {
   "cell_type": "code",
   "execution_count": null,
   "id": "320c1eea",
   "metadata": {
    "hidden": true
   },
   "outputs": [],
   "source": [
    "rfeTune = pd.DataFrame([nFeatures, trainMse ,trainR2, testMse, testR2 ]).T"
   ]
  },
  {
   "cell_type": "markdown",
   "id": "aa15c9f6",
   "metadata": {
    "hidden": true
   },
   "source": [
    "Renaming the columns appropriately. "
   ]
  },
  {
   "cell_type": "code",
   "execution_count": null,
   "id": "92e10efa",
   "metadata": {
    "hidden": true
   },
   "outputs": [],
   "source": [
    "rfeTune = rfeTune.rename(columns={0:'nFeatures',1:'trainMse', 2:'trainR2', 3:'testMse', 4:'testR2'})"
   ]
  },
  {
   "cell_type": "markdown",
   "id": "fd9771d3",
   "metadata": {
    "hidden": true
   },
   "source": [
    "Sorting by the test set $R^2$ values. "
   ]
  },
  {
   "cell_type": "code",
   "execution_count": null,
   "id": "81031db2",
   "metadata": {
    "hidden": true
   },
   "outputs": [],
   "source": [
    "rfeTune.sort_values(ascending=False, by= 'testR2').head()"
   ]
  },
  {
   "cell_type": "markdown",
   "id": "d45b99ee",
   "metadata": {
    "hidden": true
   },
   "source": [
    "When we use RFE with the parameter `n_features_to_select` increases to the total number of features. Storing this number:"
   ]
  },
  {
   "cell_type": "code",
   "execution_count": null,
   "id": "964b91b2",
   "metadata": {
    "hidden": true
   },
   "outputs": [],
   "source": [
    "bestNfeatures = int(rfeTune.sort_values(ascending=False, by= 'testR2')['nFeatures'].iloc[0])\n",
    "bestNfeatures"
   ]
  },
  {
   "cell_type": "markdown",
   "id": "a51394b9",
   "metadata": {
    "hidden": true
   },
   "source": [
    "That is, the best number of features to select with RFE is `bestNfeatures`. We must set the parameter `n_features_to_select` = `bestNfeatures`"
   ]
  },
  {
   "cell_type": "code",
   "execution_count": null,
   "id": "6c02c818",
   "metadata": {
    "hidden": true,
    "scrolled": true
   },
   "outputs": [],
   "source": [
    "# Plot the relationship\n",
    "plt.figure(figsize=(15,5))\n",
    "plt.plot(rfeTune['nFeatures'], rfeTune['testR2'], marker='x', label = 'Testing')\n",
    "plt.plot(rfeTune['nFeatures'], rfeTune['trainR2'], marker='x', label = 'Training')\n",
    "plt.xlabel('Number of features used in model', size=15)\n",
    "plt.ylabel('R$^2$',size=15)\n",
    "plt.title('Change in R2 as we train the model with increasing features', size=20)\n",
    "plt.legend()\n",
    "plt.show()"
   ]
  },
  {
   "cell_type": "markdown",
   "id": "77d4a973",
   "metadata": {
    "hidden": true
   },
   "source": [
    "Running the model with the best number of features found with RFE"
   ]
  },
  {
   "cell_type": "code",
   "execution_count": null,
   "id": "dd7c48eb",
   "metadata": {
    "hidden": true
   },
   "outputs": [],
   "source": [
    "lrRFE = LinearRegression()\n",
    "rfe = RFE(estimator= lrRFE, n_features_to_select = bestNfeatures , step = 1)\n",
    "rfe.fit(X_train, y_train)"
   ]
  },
  {
   "cell_type": "markdown",
   "id": "9ae2cf86",
   "metadata": {
    "hidden": true
   },
   "source": [
    "Storing the features that have been determined by RFE "
   ]
  },
  {
   "cell_type": "code",
   "execution_count": null,
   "id": "e24a794e",
   "metadata": {
    "hidden": true
   },
   "outputs": [],
   "source": [
    "topFeatures = list(X_train.columns[rfe.support_ ==True])"
   ]
  },
  {
   "cell_type": "code",
   "execution_count": null,
   "id": "47babf28",
   "metadata": {
    "hidden": true,
    "scrolled": false
   },
   "outputs": [],
   "source": [
    "topFeatures"
   ]
  },
  {
   "cell_type": "markdown",
   "id": "e3ba7e56",
   "metadata": {
    "hidden": true
   },
   "source": [
    "These are the best 26 features RFE has determined. Checking the $MSE$ and $R^2$"
   ]
  },
  {
   "cell_type": "code",
   "execution_count": null,
   "id": "898f67f4",
   "metadata": {
    "hidden": true
   },
   "outputs": [],
   "source": [
    "trainPred = rfe.predict(X_train)\n",
    "trainMse = mean_squared_error(trainPred, y_train)\n",
    "testR2 = r2_score(y_train, trainPred)\n",
    "print(\"MSE:\", trainMse)\n",
    "print(\"R Squared:\", testR2)"
   ]
  },
  {
   "cell_type": "code",
   "execution_count": null,
   "id": "415bb3b5",
   "metadata": {
    "hidden": true
   },
   "outputs": [],
   "source": [
    "y_predict = rfe.predict(X_test)\n",
    "\n",
    "lrRFE_mse = ((np.array(y_test)-y_predict )**2).sum()/len(y_test)\n",
    "lrRFE_r2 = r2_score(y_test, y_predict )\n",
    "\n",
    "print(\"MSE:\", lrRFE_mse.round(2))\n",
    "print(\"R Squared:\", lrRFE_r2.round(2))"
   ]
  },
  {
   "cell_type": "markdown",
   "id": "00d80cb7",
   "metadata": {
    "hidden": true
   },
   "source": [
    "Slight improvement in the performance of the model compared to using all the features. We expect the performance to increase if we're excluding features that may be decreasing the performance of the modl. \n",
    "\n",
    "Checking the cross validation with these features:"
   ]
  },
  {
   "cell_type": "code",
   "execution_count": null,
   "id": "dabb80af",
   "metadata": {
    "hidden": true
   },
   "outputs": [],
   "source": [
    "lr= LinearRegression()\n",
    "score = cross_val_score(lr, X_train[topFeatures],\n",
    "                        y_train,\n",
    "                        cv= kFold, n_jobs = -1) \n",
    "\n",
    "score"
   ]
  },
  {
   "cell_type": "code",
   "execution_count": null,
   "id": "e4a49dc6",
   "metadata": {
    "hidden": true
   },
   "outputs": [],
   "source": [
    "score.mean()"
   ]
  },
  {
   "cell_type": "markdown",
   "id": "13c12d7f",
   "metadata": {
    "hidden": true
   },
   "source": [
    "We also expect the mean score for this cross validation to be better than that of the cross validation with all features. The slight improvement in score is due to the reduction in features that had a negative impact on the model. "
   ]
  },
  {
   "cell_type": "markdown",
   "id": "2b0fc4b4",
   "metadata": {
    "hidden": true
   },
   "source": [
    "### Grid search on LR with the determined top features"
   ]
  },
  {
   "cell_type": "code",
   "execution_count": null,
   "id": "ce07450d",
   "metadata": {
    "hidden": true
   },
   "outputs": [],
   "source": [
    "from sklearn.model_selection import GridSearchCV"
   ]
  },
  {
   "cell_type": "markdown",
   "id": "a4f2c33a",
   "metadata": {
    "hidden": true
   },
   "source": [
    "Retrieving the available hyperparameters for the linear regression model and putting them in a list `lrParams`. Luckily, these are all booleans, so we can assign their possible values in a dictionary. "
   ]
  },
  {
   "cell_type": "code",
   "execution_count": null,
   "id": "095edea6",
   "metadata": {
    "hidden": true
   },
   "outputs": [],
   "source": [
    "lrParams = list(lr.get_params())\n",
    "tuned_parameters= {lrParams[0]: [True, False], lrParams[1] : [True, False], lrParams[3]: [True, False], \n",
    "                   lrParams[4]: [True, False]}"
   ]
  },
  {
   "cell_type": "markdown",
   "id": "40d437ad",
   "metadata": {
    "hidden": true
   },
   "source": [
    "Setting up LR and the grid search (GS) function. "
   ]
  },
  {
   "cell_type": "code",
   "execution_count": null,
   "id": "05865a0c",
   "metadata": {
    "hidden": true
   },
   "outputs": [],
   "source": [
    "lr = LinearRegression(n_jobs=-1)\n",
    "\n",
    "gs = GridSearchCV(lr, param_grid=tuned_parameters,scoring='r2', verbose=1,\n",
    "                  cv=kFold, n_jobs=-1)\n",
    "\n",
    "gs_result = gs.fit(X_train[topFeatures],y_train)"
   ]
  },
  {
   "cell_type": "markdown",
   "id": "d77ffb1d",
   "metadata": {
    "hidden": true
   },
   "source": [
    "The best parameters to set for Linear Regression are found in the `best_params` attribute of grid search."
   ]
  },
  {
   "cell_type": "code",
   "execution_count": null,
   "id": "e2c09301",
   "metadata": {
    "hidden": true,
    "scrolled": true
   },
   "outputs": [],
   "source": [
    "gs.best_params_"
   ]
  },
  {
   "cell_type": "markdown",
   "id": "cb6e8da0",
   "metadata": {
    "hidden": true
   },
   "source": [
    "The `positive` parameter will set all the features with negative values to zero. That way the model only uses positive values. Although, as we don't have a strong grasp on how the tuned LR hyperparameters work on our DF, we are purely performing this tune as exploratory measure. \n",
    "\n",
    "_____"
   ]
  },
  {
   "cell_type": "markdown",
   "id": "e1c1eea8",
   "metadata": {
    "hidden": true
   },
   "source": [
    "Setting the input features to the top features determined in section 3.5.1.\n",
    "\n",
    "Training the model with the best parameters for LR found with GS"
   ]
  },
  {
   "cell_type": "code",
   "execution_count": null,
   "id": "54e42d90",
   "metadata": {
    "hidden": true
   },
   "outputs": [],
   "source": [
    "lr = LinearRegression()\n",
    "lr.set_params(**gs.best_params_)\n",
    "\n",
    "lr.fit(X_train[topFeatures], y_train)"
   ]
  },
  {
   "cell_type": "markdown",
   "id": "dbcbcee4",
   "metadata": {
    "hidden": true
   },
   "source": [
    "Printing the 'linear' equations of the model. "
   ]
  },
  {
   "cell_type": "code",
   "execution_count": null,
   "id": "1497cd8a",
   "metadata": {
    "hidden": true
   },
   "outputs": [],
   "source": [
    "print(\"y = x *\", lr.coef_, \"+\", lr.intercept_)"
   ]
  },
  {
   "cell_type": "markdown",
   "id": "61f30f32",
   "metadata": {
    "hidden": true
   },
   "source": [
    "Checking the contributions of the features for the model coefficients "
   ]
  },
  {
   "cell_type": "code",
   "execution_count": null,
   "id": "739763ee",
   "metadata": {
    "hidden": true,
    "scrolled": false
   },
   "outputs": [],
   "source": [
    "coefDF = pd.DataFrame(lr.coef_, X_train[topFeatures].columns,\n",
    "                       columns = ['coeff'])\n",
    "coefDF = coefDF.sort_values(ascending= False, by='coeff')\n",
    "coefDF"
   ]
  },
  {
   "cell_type": "markdown",
   "id": "25f326fd",
   "metadata": {
    "hidden": true
   },
   "source": [
    "There are many features that have a zero coefficient in the model. We should also check the scores. "
   ]
  },
  {
   "cell_type": "code",
   "execution_count": null,
   "id": "d32bacef",
   "metadata": {
    "hidden": true
   },
   "outputs": [],
   "source": [
    "trainPred = lr.predict(X_train[topFeatures])\n",
    "trainMse = mean_squared_error(trainPred, y_train)\n",
    "trainR2 = r2_score(y_train, trainPred)\n",
    "print(\"MSE:\", trainMse)\n",
    "print(\"R Squared:\", trainR2)"
   ]
  },
  {
   "cell_type": "code",
   "execution_count": null,
   "id": "b52ab8d7",
   "metadata": {
    "hidden": true
   },
   "outputs": [],
   "source": [
    "testPred = lr.predict(X_test[topFeatures])\n",
    "testMse = mean_squared_error(testPred, y_test)\n",
    "testR2 = r2_score(y_test, testPred)\n",
    "print(\"MSE:\", testMse)\n",
    "print(\"R Squared:\", testR2)"
   ]
  },
  {
   "cell_type": "markdown",
   "id": "f054b72c",
   "metadata": {
    "hidden": true
   },
   "source": [
    "Cross validating"
   ]
  },
  {
   "cell_type": "code",
   "execution_count": null,
   "id": "559c376c",
   "metadata": {
    "hidden": true
   },
   "outputs": [],
   "source": [
    "lr= LinearRegression()\n",
    "lr.set_params(**gs.best_params_)\n",
    "\n",
    "score = cross_val_score(lr, X_train[topFeatures],\n",
    "                        y_train, scoring = 'r2',\n",
    "                        cv= kFold, n_jobs = -1) \n",
    "\n",
    "score"
   ]
  },
  {
   "cell_type": "code",
   "execution_count": null,
   "id": "c63f12ed",
   "metadata": {
    "hidden": true
   },
   "outputs": [],
   "source": [
    "score.mean()"
   ]
  },
  {
   "cell_type": "markdown",
   "id": "b3749ddb",
   "metadata": {
    "hidden": true
   },
   "source": [
    "Tuning the LR hyperparameters had a slight improvement in the score compared to the default settings for LR. "
   ]
  },
  {
   "cell_type": "markdown",
   "id": "730fcc6e",
   "metadata": {
    "hidden": true
   },
   "source": [
    "---------"
   ]
  },
  {
   "cell_type": "markdown",
   "id": "6949f8e4",
   "metadata": {
    "hidden": true
   },
   "source": [
    "### Composition of GS, RFE and LR. "
   ]
  },
  {
   "cell_type": "markdown",
   "id": "3c4d5668",
   "metadata": {
    "hidden": true
   },
   "source": [
    "We're using GS to tune RFE with LR as an estimator. \n",
    "$$GS\\bigg(RFE\\big(LR\\big)\\bigg) = \\text{Tuned features, default LR hyperparameters}$$"
   ]
  },
  {
   "cell_type": "code",
   "execution_count": null,
   "id": "d8c01c80",
   "metadata": {
    "hidden": true,
    "scrolled": true
   },
   "outputs": [],
   "source": [
    "lr = LinearRegression(n_jobs=-1)\n",
    "\n",
    "rfe = RFE(lr)      \n",
    "hyper_params = [{'n_features_to_select': list(range(1, len(X_train.columns)))}]\n",
    "\n",
    "gs = GridSearchCV(estimator = rfe, \n",
    "                        param_grid = hyper_params, \n",
    "                        scoring= 'r2', \n",
    "                        cv = kFold, \n",
    "                        verbose = 1,\n",
    "                        return_train_score=True,n_jobs=-1)      \n",
    "\n",
    "gs.fit(X_train, y_train)"
   ]
  },
  {
   "cell_type": "markdown",
   "id": "5ed31b98",
   "metadata": {
    "hidden": true
   },
   "source": [
    "Storing the number of features GS determined. RFE then found the specific features to use in the model. "
   ]
  },
  {
   "cell_type": "code",
   "execution_count": null,
   "id": "55d3e8e6",
   "metadata": {
    "hidden": true
   },
   "outputs": [],
   "source": [
    "gs_nFeatures = gs.best_params_['n_features_to_select']\n",
    "gs_nFeatures"
   ]
  },
  {
   "cell_type": "markdown",
   "id": "5f1c298d",
   "metadata": {
    "hidden": true
   },
   "source": [
    "The names of the features to use in the model: "
   ]
  },
  {
   "cell_type": "code",
   "execution_count": null,
   "id": "e860321a",
   "metadata": {
    "hidden": true
   },
   "outputs": [],
   "source": [
    "gs_featureNames = X_train.columns[gs.best_estimator_.support_]\n",
    "gs_featureNames"
   ]
  },
  {
   "cell_type": "markdown",
   "id": "2729ad18",
   "metadata": {
    "hidden": true
   },
   "source": [
    "Storing the cross validation results done in GS"
   ]
  },
  {
   "cell_type": "code",
   "execution_count": null,
   "id": "1ecf0614",
   "metadata": {
    "hidden": true
   },
   "outputs": [],
   "source": [
    "cvResults = pd.DataFrame(gs.cv_results_)"
   ]
  },
  {
   "cell_type": "markdown",
   "id": "41b0d4d9",
   "metadata": {
    "hidden": true
   },
   "source": [
    "The information provided by this DF"
   ]
  },
  {
   "cell_type": "code",
   "execution_count": null,
   "id": "cf070404",
   "metadata": {
    "hidden": true
   },
   "outputs": [],
   "source": [
    "cvResults.columns"
   ]
  },
  {
   "cell_type": "markdown",
   "id": "c5ea6263",
   "metadata": {
    "hidden": true
   },
   "source": [
    "Keeping only the `param_n_features_to_select` column in the DF for referencing. Then extending that list with the train and test columns from `cvResults`. "
   ]
  },
  {
   "cell_type": "code",
   "execution_count": null,
   "id": "9144e790",
   "metadata": {
    "hidden": true
   },
   "outputs": [],
   "source": [
    "trainResults = ['param_n_features_to_select']\n",
    "trainResults.extend([col for col in cvResults.columns if 'train' in col])\n",
    "\n",
    "testResults = ['param_n_features_to_select']\n",
    "testResults.extend([col for col in cvResults.columns if 'test' in col])"
   ]
  },
  {
   "cell_type": "markdown",
   "id": "d1ee9987",
   "metadata": {
    "hidden": true
   },
   "source": [
    "These lists of strings contain useful information and look like: "
   ]
  },
  {
   "cell_type": "code",
   "execution_count": null,
   "id": "a167c251",
   "metadata": {
    "hidden": true
   },
   "outputs": [],
   "source": [
    "testResults"
   ]
  },
  {
   "cell_type": "markdown",
   "id": "4a277b57",
   "metadata": {
    "hidden": true
   },
   "source": [
    "Applying this to the cvResults DF so we can see how the model performed in the different folds. "
   ]
  },
  {
   "cell_type": "code",
   "execution_count": null,
   "id": "c9b01fe7",
   "metadata": {
    "hidden": true,
    "scrolled": false
   },
   "outputs": [],
   "source": [
    "cvTestResults = cvResults[testResults]\n",
    "cvTrainResults = cvResults[trainResults]"
   ]
  },
  {
   "cell_type": "code",
   "execution_count": null,
   "id": "0aa2097e",
   "metadata": {
    "hidden": true
   },
   "outputs": [],
   "source": [
    "cvTrainResults[cvTrainResults['param_n_features_to_select'] ==gs_nFeatures].T"
   ]
  },
  {
   "cell_type": "code",
   "execution_count": null,
   "id": "bb5fdbe7",
   "metadata": {
    "hidden": true
   },
   "outputs": [],
   "source": [
    "cvTestResults[cvTestResults['param_n_features_to_select'] ==gs_nFeatures].T"
   ]
  },
  {
   "cell_type": "markdown",
   "id": "39e82572",
   "metadata": {
    "hidden": true
   },
   "source": [
    "That is, we got a mean cross validation score of 0.874171, this information can be accessed by: "
   ]
  },
  {
   "cell_type": "code",
   "execution_count": null,
   "id": "7494e29a",
   "metadata": {
    "hidden": true
   },
   "outputs": [],
   "source": [
    "cvTestResults[cvTestResults['param_n_features_to_select'] ==gs_nFeatures]['mean_test_score']"
   ]
  },
  {
   "cell_type": "markdown",
   "id": "30c5d737",
   "metadata": {
    "hidden": true
   },
   "source": [
    "Checking the performance history as we iterate through the number of features. "
   ]
  },
  {
   "cell_type": "code",
   "execution_count": null,
   "id": "349f4170",
   "metadata": {
    "hidden": true,
    "scrolled": false
   },
   "outputs": [],
   "source": [
    "plt.figure(figsize=(16,6))\n",
    "\n",
    "plt.plot(gs.cv_results_[\"param_n_features_to_select\"], gs.cv_results_[\"mean_test_score\"])\n",
    "plt.plot(gs.cv_results_[\"param_n_features_to_select\"], gs.cv_results_[\"mean_train_score\"])\n",
    "plt.xlabel('number of features')\n",
    "plt.xticks(range(0,len(X_train.columns),2))\n",
    "plt.ylabel('$R^2$')\n",
    "plt.title(\"Optimal number of features determined by GridSearchCV\")\n",
    "plt.legend(['test score', 'train score'], loc='upper left')"
   ]
  },
  {
   "cell_type": "markdown",
   "id": "c9a39c98",
   "metadata": {
    "hidden": true
   },
   "source": [
    "Setting up the LR model with default hyperparameters again and fitting it with the features determined by GS and RFE. "
   ]
  },
  {
   "cell_type": "code",
   "execution_count": null,
   "id": "c6a4b021",
   "metadata": {
    "hidden": true
   },
   "outputs": [],
   "source": [
    "lr = LinearRegression(n_jobs=-1)\n",
    "lr.fit(X_train[gs_featureNames], y_train)"
   ]
  },
  {
   "cell_type": "markdown",
   "id": "a6ee71db",
   "metadata": {
    "hidden": true
   },
   "source": [
    "Checking the values of the coefficients for each feature. "
   ]
  },
  {
   "cell_type": "code",
   "execution_count": null,
   "id": "d6fcabe3",
   "metadata": {
    "hidden": true
   },
   "outputs": [],
   "source": [
    "coefDF2 = pd.DataFrame(lr.coef_, X_train[gs_featureNames].columns,\n",
    "                       columns = ['coeff'])\n",
    "coefDF2 = coefDF2.sort_values(ascending= False, by='coeff')\n",
    "coefDF2"
   ]
  },
  {
   "cell_type": "code",
   "execution_count": null,
   "id": "2563aaaf",
   "metadata": {
    "hidden": true
   },
   "outputs": [],
   "source": [
    "trainPred = lr.predict(X_train[gs_featureNames])\n",
    "trainMse = mean_squared_error(trainPred, y_train)\n",
    "trainR2 = r2_score(y_train, trainPred)\n",
    "print(\"MSE:\", trainMse)\n",
    "print(\"R Squared:\", trainR2)"
   ]
  },
  {
   "cell_type": "code",
   "execution_count": null,
   "id": "b5431d96",
   "metadata": {
    "hidden": true
   },
   "outputs": [],
   "source": [
    "testPred = lr.predict(X_test[gs_featureNames])\n",
    "testMse = mean_squared_error(testPred, y_test)\n",
    "testR2 = r2_score(y_test, testPred)\n",
    "print(\"MSE:\", testMse)\n",
    "print(\"R Squared:\", testR2)"
   ]
  },
  {
   "cell_type": "markdown",
   "id": "54499b6a",
   "metadata": {
    "hidden": true
   },
   "source": [
    "We have used GS to find optimal number of features to use in RFE. We then used RFE to determine the best features to use in LR with default hyperparameters. \n",
    "\n",
    "This provided a $R^2$ value slightly lower than the model"
   ]
  },
  {
   "cell_type": "markdown",
   "id": "77c7c919",
   "metadata": {
    "hidden": true
   },
   "source": [
    "Cross validating"
   ]
  },
  {
   "cell_type": "code",
   "execution_count": null,
   "id": "6c5394b7",
   "metadata": {
    "hidden": true
   },
   "outputs": [],
   "source": [
    "lr= LinearRegression()\n",
    "\n",
    "score = cross_val_score(lr, X_train[gs_featureNames],\n",
    "                        y_train, scoring = 'r2',\n",
    "                        cv= kFold, n_jobs = -1) \n",
    "\n",
    "score"
   ]
  },
  {
   "cell_type": "code",
   "execution_count": null,
   "id": "d3da349e",
   "metadata": {
    "hidden": true
   },
   "outputs": [],
   "source": [
    "score.mean()"
   ]
  },
  {
   "cell_type": "markdown",
   "id": "0cf6c0a5",
   "metadata": {
    "hidden": true
   },
   "source": [
    "Cross validating outside of GS provided a slightly better score compared to the GS cross validation. This score is still lower than that of the model with tuned LR hyperparameters, though negligible. "
   ]
  },
  {
   "cell_type": "markdown",
   "id": "be272c01",
   "metadata": {
    "hidden": true
   },
   "source": [
    "Comparing the weights of the coefficients between section 3.5.1 and 3.5.3 (this section). Sorting by the default LR coefficients. The NaN values are due to the features from one model not included in the other model. "
   ]
  },
  {
   "cell_type": "code",
   "execution_count": null,
   "id": "83c36804",
   "metadata": {
    "hidden": true,
    "scrolled": true
   },
   "outputs": [],
   "source": [
    "compareCoefs = pd.concat([coefDF, coefDF2],axis=1)\n",
    "compareCoefs.columns = ['tunedLR_coef', 'defaultLR_coef']\n",
    "compareCoefs.sort_values(ascending = False, by='defaultLR_coef')"
   ]
  },
  {
   "cell_type": "markdown",
   "id": "a5ecbe6f",
   "metadata": {
    "hidden": true
   },
   "source": [
    "score (tuned LR, loop feats): 0.882972\n",
    "\n",
    "score (default LR, loop feats): 0.8804 \n",
    "\n",
    "score (default LR, gs feats): 0.874171 (GS) vs 0.8819 (CV), GS has a different CV for each iteration. \n",
    "\n",
    "$R^2$ (tuned LR, loop feats):  0.908 and 0.871\n",
    "\n",
    "$R^2$ (default LR, loop feats): 0.916 and 0.87 \n",
    "\n",
    "$R^2$ (default LR, gs feats): 0.913 and 0.860"
   ]
  },
  {
   "cell_type": "markdown",
   "id": "309aaebb",
   "metadata": {
    "hidden": true
   },
   "source": [
    "We saw that tuning the hyperparameters for LR and using a loop to get the best features provided a slight increase in score. Although, it would be wise to use GS instead as it provides a more robust process in determining the features. \n",
    "\n",
    "Considering the tuning of the LR hyperparameters had no significant impact on the model, we should use the default values. We also don't have a strong understanding on how the tuned hyperparameters for LR affect the model. Checking the DF for comparing the coefficients, tuning the hyperparmeters significantly altered the significance of the coeficients. For example, `citizen_non_AU_Prop` has a high importance in the default model but in the tuned model, it's significance dropped to zero.\n",
    "\n",
    "The GS function is better optimised than the loop, therefore having a lower run time. With this in mind, we will use GS to determine te best number of features for RFE and use the default hyperparameters for LR. This will be our final model. "
   ]
  },
  {
   "cell_type": "code",
   "execution_count": null,
   "id": "5592704f",
   "metadata": {
    "hidden": true
   },
   "outputs": [],
   "source": [
    "pd.DataFrame({'Loop Features':[0.88,  0.87],  'GS Features':[0.88, 0.86], 'Base Model': [0.87, 0.86]}, index=['CV Score','$R^2$'])"
   ]
  },
  {
   "cell_type": "markdown",
   "id": "89a466e9",
   "metadata": {},
   "source": [
    "## Final Linear Regression Model"
   ]
  },
  {
   "cell_type": "markdown",
   "id": "3beffa2e",
   "metadata": {},
   "source": [
    "The final model is the same model from 3.5.3, markdown comments have been omitted. "
   ]
  },
  {
   "cell_type": "code",
   "execution_count": null,
   "id": "773f1580",
   "metadata": {},
   "outputs": [],
   "source": [
    "lr = LinearRegression(n_jobs=-1)\n",
    "\n",
    "rfe = RFE(lr)      \n",
    "hyper_params = [{'n_features_to_select': list(range(1, len(X_train.columns)))}]\n",
    "\n",
    "gs = GridSearchCV(estimator = rfe, \n",
    "                        param_grid = hyper_params, \n",
    "                        scoring= 'r2', \n",
    "                        cv = kFold, \n",
    "                        verbose = 1,\n",
    "                        return_train_score=True,n_jobs=-1)      \n",
    "\n",
    "gs.fit(X_train, y_train)\n",
    "gs_nFeatures = gs.best_params_['n_features_to_select']\n",
    "gs_featureNames = X_train.columns[gs.best_estimator_.support_]"
   ]
  },
  {
   "cell_type": "code",
   "execution_count": null,
   "id": "d6f00e15",
   "metadata": {},
   "outputs": [],
   "source": [
    "cvResults = pd.DataFrame(gs.cv_results_)"
   ]
  },
  {
   "cell_type": "code",
   "execution_count": null,
   "id": "3bdfe666",
   "metadata": {},
   "outputs": [],
   "source": [
    "trainResults = ['param_n_features_to_select']\n",
    "trainResults.extend([col for col in cvResults.columns if 'train' in col])\n",
    "\n",
    "testResults = ['param_n_features_to_select']\n",
    "testResults.extend([col for col in cvResults.columns if 'test' in col])\n",
    "\n",
    "cvTestResults = cvResults[testResults]\n",
    "cvTrainResults = cvResults[trainResults]"
   ]
  },
  {
   "cell_type": "code",
   "execution_count": null,
   "id": "c8b64c0e",
   "metadata": {},
   "outputs": [],
   "source": [
    "cvTestResults[cvTestResults['param_n_features_to_select'] ==gs_nFeatures].T"
   ]
  },
  {
   "cell_type": "code",
   "execution_count": null,
   "id": "d800141e",
   "metadata": {
    "scrolled": true
   },
   "outputs": [],
   "source": [
    "lr = LinearRegression(n_jobs=-1)\n",
    "lr.fit(X_train[gs_featureNames], y_train)"
   ]
  },
  {
   "cell_type": "code",
   "execution_count": null,
   "id": "6d4327fa",
   "metadata": {},
   "outputs": [],
   "source": [
    "trainPred = lr.predict(X_train[gs_featureNames])\n",
    "trainMse = mean_squared_error(trainPred, y_train)\n",
    "trainR2 = r2_score(y_train, trainPred)\n",
    "print(\"MSE:\", trainMse)\n",
    "print(\"R Squared:\", trainR2)"
   ]
  },
  {
   "cell_type": "code",
   "execution_count": null,
   "id": "cabefa54",
   "metadata": {
    "scrolled": true
   },
   "outputs": [],
   "source": [
    "testPred = lr.predict(X_test[gs_featureNames])\n",
    "testMse = mean_squared_error(testPred, y_test)\n",
    "testR2 = r2_score(y_test, testPred)\n",
    "print(\"MSE:\", testMse)\n",
    "print(\"R Squared:\", testR2)"
   ]
  },
  {
   "cell_type": "code",
   "execution_count": null,
   "id": "685e6ee2",
   "metadata": {},
   "outputs": [],
   "source": [
    "print(\"y = x *\", lr.coef_, \"+\", lr.intercept_)"
   ]
  },
  {
   "cell_type": "markdown",
   "id": "23cd87bf",
   "metadata": {},
   "source": [
    "Getting the values of the coefficients of the features used in the model."
   ]
  },
  {
   "cell_type": "code",
   "execution_count": null,
   "id": "6da0ffdb",
   "metadata": {},
   "outputs": [],
   "source": [
    "cdf = pd.DataFrame(lr.coef_, X_train[gs_featureNames].columns, columns=['coef'])"
   ]
  },
  {
   "cell_type": "code",
   "execution_count": null,
   "id": "1e267c1a",
   "metadata": {},
   "outputs": [],
   "source": [
    "cdf.head()"
   ]
  },
  {
   "cell_type": "markdown",
   "id": "f3253ca3",
   "metadata": {},
   "source": [
    "Creating a normalised column for the coefficient values. "
   ]
  },
  {
   "cell_type": "code",
   "execution_count": null,
   "id": "bc2fc9de",
   "metadata": {},
   "outputs": [],
   "source": [
    "cdf['Relative Importance']= 2*((cdf - cdf.min())/(cdf.max()-cdf.min()))-1"
   ]
  },
  {
   "cell_type": "code",
   "execution_count": null,
   "id": "281d2427",
   "metadata": {},
   "outputs": [],
   "source": [
    "cdf.sort_values(ascending=False, by='Relative Importance')"
   ]
  },
  {
   "cell_type": "markdown",
   "id": "e4af01f7",
   "metadata": {},
   "source": [
    "Reducing the number of values in the DF to only include the significant coefficients. We have assumed significant importance are for coefficients greater than 0.1 and less than -0.1. "
   ]
  },
  {
   "cell_type": "code",
   "execution_count": null,
   "id": "e689d2b1",
   "metadata": {},
   "outputs": [],
   "source": [
    "cdfPos = cdf[(cdf['Relative Importance']>= 0.2)]\n",
    "cdfNeg = cdf[(cdf['Relative Importance']<= -0.2)]\n",
    "cdfNew = pd.concat([cdfPos, cdfNeg])"
   ]
  },
  {
   "cell_type": "code",
   "execution_count": null,
   "id": "8ba244b1",
   "metadata": {},
   "outputs": [],
   "source": [
    "cdfNew.sort_values(ascending=False, by='Relative Importance')"
   ]
  },
  {
   "cell_type": "markdown",
   "id": "13822be9",
   "metadata": {},
   "source": [
    "Plotting the relative importance "
   ]
  },
  {
   "cell_type": "code",
   "execution_count": null,
   "id": "2456339a",
   "metadata": {},
   "outputs": [],
   "source": [
    "import os\n",
    "imagesPath = os.path.abspath('Files\\Images')\n",
    "myFile = 'lrFeatures.png'"
   ]
  },
  {
   "cell_type": "code",
   "execution_count": null,
   "id": "adce902f",
   "metadata": {},
   "outputs": [],
   "source": [
    "plt.figure(figsize=(20,10))\n",
    "plt.bar([x for x in [x for x in cdfNew.sort_values(by='coef', ascending=False).index]], cdfNew['coef'].sort_values(ascending=False))\n",
    "plt.xticks(rotation=315, fontsize = 15, ha='left')\n",
    "plt.yticks(fontsize=20)\n",
    "plt.ylabel('Coefficient value', size=20)\n",
    "plt.title('The importance of features used in Linear Regression model', size=30)\n",
    "plt.savefig(os.path.join(imagesPath, myFile))        \n",
    "plt.show()\n",
    "\n"
   ]
  },
  {
   "cell_type": "code",
   "execution_count": null,
   "id": "7d94826f",
   "metadata": {},
   "outputs": [],
   "source": [
    "cdf['coef'].sum()"
   ]
  },
  {
   "cell_type": "markdown",
   "id": "1848c3dc",
   "metadata": {},
   "source": [
    "**Conclusion**\n",
    "\n",
    "We have conducted a short term prediction because of the features used for training. We're predicting only one quarter ahead. Future project we may want to try to predict 6 months ahead or 12 months. From the plot, we can see there are more negative coefficients than positive. Therefore there is an overall contribution to the decrease in predicting the median house price in the target quarter. We also note in the previous cell, the overall value of the coefficients is a large negative value.  Our final LR model is virtually the same as the base LR model. The main differences can be attributed to the efficiency of the of final model as it hasn't been trained on all features. "
   ]
  },
  {
   "cell_type": "markdown",
   "id": "8a48cfe8",
   "metadata": {},
   "source": [
    "# Clustering (Ken & Felix)"
   ]
  },
  {
   "cell_type": "markdown",
   "id": "84b07769",
   "metadata": {},
   "source": [
    "It is expected that house prices differ among regions. This is due to different demand activities in different regions. Hence, in the following, clustering will be deployed on the data to use the result for more specific modeling within each cluster that is found to be reasonable. The expectation is a difference between metropolitan and rural areas as it is a global trend that people move to metropolitan areas and Sydney indeed should reflect this with a higher demand than other areas. This expectation will be verified by using the elbow method."
   ]
  },
  {
   "cell_type": "markdown",
   "id": "9d8080df",
   "metadata": {},
   "source": [
    "## Kmeans"
   ]
  },
  {
   "cell_type": "code",
   "execution_count": null,
   "id": "5f3666a0",
   "metadata": {},
   "outputs": [],
   "source": [
    "# Read Data\n",
    "modelDF = pd.read_csv(\"Files/Cleaned/Postcode-based/Unstacked_Transformed.csv\",\n",
    "                     index_col=\"postcode\")"
   ]
  },
  {
   "cell_type": "code",
   "execution_count": null,
   "id": "e9e2e1d7",
   "metadata": {},
   "outputs": [],
   "source": [
    "# Remove interest rate, bond yields (they're the same for all postcodes)\n",
    "modelDF = modelDF.iloc[:, np.r_[0:30, [48], 96:121]] # this is for keeping trans-variables\n",
    "# modelDF = modelDF.iloc[:, np.r_[0:56]] # this is for keeping original variables\n",
    "\n",
    "# Drop mean price columns\n",
    "modelDF = modelDF.drop([\"mean_price 2020 Q1\", \"mean_price 2020 Q2\", \"mean_price 2020 Q3\",\n",
    "                        \"mean_price 2020 Q4\", \"mean_price 2021 Q1\"],axis=1)\n",
    "\n",
    "# Drop one category from each feature group (optional)\n",
    "# modelDF = modelDF.drop(columns=['INCP_NEG_NIL', \n",
    "#                                 '65+yo',\n",
    "#                                 'CPRF_na',\n",
    "#                                 'citizen_AU'],axis=1)\n",
    "\n",
    "print(modelDF.shape)\n",
    "modelDF.head(1)"
   ]
  },
  {
   "cell_type": "markdown",
   "id": "8f034d3b",
   "metadata": {},
   "source": [
    "### Scaling the data\n",
    "Since the units differ greatly across the features, scaling will be useful to avoid distorting the distance metric."
   ]
  },
  {
   "cell_type": "code",
   "execution_count": null,
   "id": "0ebcb765",
   "metadata": {
    "scrolled": true
   },
   "outputs": [],
   "source": [
    "# For retaining column and index names\n",
    "columns = modelDF.columns\n",
    "postcode = modelDF.index\n",
    "\n",
    "# Initialise scaler\n",
    "scaler = StandardScaler() \n",
    "\n",
    "# Transform\n",
    "scaledDF = scaler.fit_transform(modelDF)\n",
    "\n",
    "# Put into a dataframe\n",
    "scaledDF = pd.DataFrame(scaledDF,index=postcode)\n",
    "scaledDF.columns = columns\n",
    "scaledDF"
   ]
  },
  {
   "cell_type": "markdown",
   "id": "a4e072c8",
   "metadata": {},
   "source": [
    "### Optimal Number of K: Elbow Method"
   ]
  },
  {
   "cell_type": "code",
   "execution_count": null,
   "id": "e55a8fe3",
   "metadata": {},
   "outputs": [],
   "source": [
    "distortions = []\n",
    "K = range(1,11)\n",
    "for i in K:\n",
    "    km = KMeans(n_clusters = i)\n",
    "    km.fit(scaledDF)\n",
    "    distortions.append(km.inertia_)"
   ]
  },
  {
   "cell_type": "code",
   "execution_count": null,
   "id": "50af2a7d",
   "metadata": {},
   "outputs": [],
   "source": [
    "plt.figure(figsize=(14,5))\n",
    "plt.plot(K, distortions, 'bx-')\n",
    "plt.xlabel('$K$')\n",
    "plt.ylabel('Distortion')\n",
    "plt.title('The Elbow Method showing the optimal k')\n",
    "plt.xticks(K)\n",
    "plt.show()"
   ]
  },
  {
   "cell_type": "markdown",
   "id": "623184ba",
   "metadata": {},
   "source": [
    "This visualisation shows that two or three clusters seem like a reasonable split to use as the following clusters has less distortion/inertia as the number of clusters grow."
   ]
  },
  {
   "cell_type": "markdown",
   "id": "65c0842c",
   "metadata": {},
   "source": [
    "### Apply Algorithm"
   ]
  },
  {
   "cell_type": "code",
   "execution_count": null,
   "id": "a9b300ae",
   "metadata": {},
   "outputs": [],
   "source": [
    "km = KMeans(n_clusters = 2, random_state=123)\n",
    "km.fit(scaledDF)\n",
    "km_label_2 = km.predict(scaledDF)\n",
    "modelDF['label_2'] = km_label_2"
   ]
  },
  {
   "cell_type": "code",
   "execution_count": null,
   "id": "66c00ff2",
   "metadata": {},
   "outputs": [],
   "source": [
    "modelDF.label_2.value_counts(normalize=True).round(4)*100"
   ]
  },
  {
   "cell_type": "code",
   "execution_count": null,
   "id": "dcc6a437",
   "metadata": {},
   "outputs": [],
   "source": [
    "modelDF.groupby('label_2').mean().round(2)"
   ]
  },
  {
   "cell_type": "markdown",
   "id": "8d62bae4",
   "metadata": {},
   "source": [
    "Within these two clusters, Cluster 0 appear to have a significantly higher house prices vs Cluster 1. It also appears that Cluster 0 also has higher proportions of Non-Australian citizens, as well as higher proportions of people who recently arrived to Australia."
   ]
  },
  {
   "cell_type": "markdown",
   "id": "6cee0037",
   "metadata": {},
   "source": [
    "Check the clustering between proportion of high income people and median house price"
   ]
  },
  {
   "cell_type": "code",
   "execution_count": null,
   "id": "746b79f6",
   "metadata": {},
   "outputs": [],
   "source": [
    "plt.scatter(x=modelDF['median_price 2021 Q1'], y=modelDF['INCP_HIGH_Prop'],\n",
    "            c=modelDF['label_2'],cmap='cividis',alpha=.7)\n",
    "plt.xlabel('Median House Price')\n",
    "plt.ylabel('Proportion of High Income Households')\n",
    "plt.title('2021 Q1');"
   ]
  },
  {
   "cell_type": "code",
   "execution_count": null,
   "id": "250997f9",
   "metadata": {},
   "outputs": [],
   "source": [
    "plt.figure(figsize=(5,5))\n",
    "ax=sns.stripplot(data=modelDF, x='label_2', y='median_price 2021 Q1',hue='INCP_HIGH_Prop',palette='viridis')\n",
    "\n",
    "# Setting up colorbar\n",
    "norm = plt.Normalize(modelDF['INCP_HIGH_Prop'].min(), modelDF['INCP_HIGH_Prop'].max())\n",
    "sm = plt.cm.ScalarMappable(cmap=\"viridis\", norm=norm)\n",
    "sm.set_array([])\n",
    "\n",
    "# Remove the legend and add a colorbar\n",
    "ax.get_legend().remove()\n",
    "ax.figure.colorbar(sm,label='Proportion of High Income')\n",
    "\n",
    "plt.title('Proportion of High Income Bracket Per Cluster')\n",
    "plt.show()"
   ]
  },
  {
   "cell_type": "markdown",
   "id": "b145e1ea",
   "metadata": {},
   "source": [
    "Cluster 0 which has higher proportions of high income people live in more expensive homes, as expected."
   ]
  },
  {
   "cell_type": "markdown",
   "id": "e83ddd17",
   "metadata": {},
   "source": [
    "Postcodes with median price above \\\\$2.5m"
   ]
  },
  {
   "cell_type": "code",
   "execution_count": null,
   "id": "697ec518",
   "metadata": {
    "scrolled": true
   },
   "outputs": [],
   "source": [
    "modelDF.loc[modelDF['median_price 2021 Q1']>2500]"
   ]
  },
  {
   "cell_type": "markdown",
   "id": "77a33d30",
   "metadata": {},
   "source": [
    "### Map"
   ]
  },
  {
   "cell_type": "code",
   "execution_count": null,
   "id": "7ea0335f",
   "metadata": {},
   "outputs": [],
   "source": [
    "# Load geospatial data\n",
    "lga_gdf = gpd.read_file('Files/Area/LGAs/LGA_2020_AUST.shp')# load the data using Geopandas\n",
    "lga_gdf = lga_gdf[lga_gdf['STE_NAME16']=='New South Wales'] # Select the data for the state of NSW\n",
    "lga_gdf['LGA_CODE20'] = lga_gdf['LGA_CODE20'].astype('str') # we will join on this axis, so both dataframes need this to be the same type\n",
    "lga_gdf.head(1)"
   ]
  },
  {
   "cell_type": "code",
   "execution_count": null,
   "id": "a7318fa6",
   "metadata": {},
   "outputs": [],
   "source": [
    "# Read in NSW postcode long-lat file\n",
    "postcode_gdf = pd.read_csv('Files/Area/au_postcodes.csv')\n",
    "nsw = postcode_gdf[postcode_gdf.state_code=='NSW'] #filter to NSW\n",
    "nsw = pd.pivot_table(nsw, index='postcode', values=['latitude','longitude'], aggfunc='mean')\n",
    "\n",
    "# make geometry for point\n",
    "nsw = gpd.GeoDataFrame(\n",
    "    nsw, geometry=gpd.points_from_xy(nsw.longitude, nsw.latitude)) \n",
    "nsw = nsw[['geometry']]\n",
    "nsw.head(1)"
   ]
  },
  {
   "cell_type": "code",
   "execution_count": null,
   "id": "5ca53636",
   "metadata": {
    "scrolled": true
   },
   "outputs": [],
   "source": [
    "df_cluster = modelDF[['label_2']] # Get KMeans cluster label only\n",
    "df_cluster.head(1)"
   ]
  },
  {
   "cell_type": "code",
   "execution_count": null,
   "id": "0a7eaf95",
   "metadata": {},
   "outputs": [],
   "source": [
    "map_kmeans_label = pd.merge(nsw, df_cluster, on='postcode')"
   ]
  },
  {
   "cell_type": "code",
   "execution_count": null,
   "id": "f4ce8532",
   "metadata": {
    "scrolled": false
   },
   "outputs": [],
   "source": [
    "fig, ax = plt.subplots(1,1, figsize=(30,30))\n",
    "divider = make_axes_locatable(ax)\n",
    "lga_gdf.plot(ax=ax, color='gray',alpha=.8) # Map data\n",
    "lga_gdf.geometry.boundary.plot(color='white', ax=ax, linewidth=0.1) #Add some borders to the geometries\n",
    "\n",
    "# Zoom in\n",
    "minx, miny, maxx, maxy = lga_gdf.total_bounds\n",
    "ax.set_xlim(minx, maxx)\n",
    "ax.set_ylim(miny, maxy)\n",
    "\n",
    "map_kmeans_label.plot(column='label_2',ax=ax,cmap='cividis',alpha=1, categorical=True, legend=True)\n",
    "ax.axis('off')\n",
    "plt.title('KMeans Clusters (2), NSW',fontsize=25)\n",
    "# plt.savefig('Files/Map Vis/KMeans Clusters.png',dpi=300,transparent=False)\n",
    "plt.show()"
   ]
  },
  {
   "cell_type": "markdown",
   "id": "1269ae6f",
   "metadata": {},
   "source": [
    "One cluster are situated mostly near Sydney. Interestingly however, there are some postcodes outside Sydney also classified as similar to it."
   ]
  },
  {
   "cell_type": "markdown",
   "id": "3c612d9a",
   "metadata": {},
   "source": [
    "## Hierarchical clustering"
   ]
  },
  {
   "cell_type": "markdown",
   "id": "4e6412d8",
   "metadata": {},
   "source": [
    "In the following, it will be checked whether results appear to be more reasonable when applying agglomerative clustering."
   ]
  },
  {
   "cell_type": "code",
   "execution_count": null,
   "id": "119bcc16",
   "metadata": {},
   "outputs": [],
   "source": [
    "# Read Data\n",
    "modelDF = pd.read_csv(\"Files/Cleaned/Postcode-based/Unstacked_Transformed.csv\",\n",
    "                     index_col=\"postcode\")"
   ]
  },
  {
   "cell_type": "code",
   "execution_count": null,
   "id": "bb64c397",
   "metadata": {},
   "outputs": [],
   "source": [
    "# Remove interest rate, bond yields (they're the same for all postcodes)\n",
    "modelDF = modelDF.iloc[:, np.r_[0:30, [48], 96:121]] # this is for keeping trans-variables\n",
    "# modelDF = modelDF.iloc[:, np.r_[0:56]] # this is for keeping original variables\n",
    "\n",
    "# Drop mean price columns\n",
    "modelDF = modelDF.drop([\"mean_price 2020 Q1\", \"mean_price 2020 Q2\", \"mean_price 2020 Q3\",\n",
    "                        \"mean_price 2020 Q4\", \"mean_price 2021 Q1\"],axis=1)\n",
    "\n",
    "# Drop one category from each feature group (optional)\n",
    "# modelDF = modelDF.drop(columns=['INCP_NEG_NIL', \n",
    "#                                 '65+yo',\n",
    "#                                 'CPRF_na',\n",
    "#                                 'citizen_AU'],axis=1)\n",
    "\n",
    "print(modelDF.shape)\n",
    "modelDF.head(1)"
   ]
  },
  {
   "cell_type": "markdown",
   "id": "a50976d5",
   "metadata": {},
   "source": [
    "### Scaling the data"
   ]
  },
  {
   "cell_type": "markdown",
   "id": "e1340da3",
   "metadata": {},
   "source": [
    "The same scaling procedure will be used"
   ]
  },
  {
   "cell_type": "code",
   "execution_count": null,
   "id": "2bc41628",
   "metadata": {},
   "outputs": [],
   "source": [
    "# for retaining column and index names\n",
    "columns = modelDF.columns\n",
    "postcode = modelDF.index\n",
    "\n",
    "# Initialise scaler\n",
    "scaler = StandardScaler() \n",
    "\n",
    "# Transform\n",
    "scaledDF = scaler.fit_transform(modelDF)\n",
    "\n",
    "# Put into a dataframe\n",
    "scaledDF = pd.DataFrame(scaledDF,index=postcode)\n",
    "scaledDF.columns = columns\n",
    "scaledDF.head()"
   ]
  },
  {
   "cell_type": "markdown",
   "id": "6aebbb0d",
   "metadata": {},
   "source": [
    "### Apply algorithm"
   ]
  },
  {
   "cell_type": "code",
   "execution_count": null,
   "id": "2a5b6dee",
   "metadata": {},
   "outputs": [],
   "source": [
    "# linkage\n",
    "plt.figure(figsize=(14,10))\n",
    "mergings = linkage(scaledDF, method=\"ward\", metric='euclidean')\n",
    "dendrogram(mergings, orientation='left')\n",
    "plt.show()"
   ]
  },
  {
   "cell_type": "code",
   "execution_count": null,
   "id": "550ad767",
   "metadata": {},
   "outputs": [],
   "source": [
    "hier_labels = cut_tree(mergings,n_clusters=3)\n",
    "modelDF['labels'] = hier_labels\n",
    "modelDF.head()"
   ]
  },
  {
   "cell_type": "markdown",
   "id": "d7c229c0",
   "metadata": {},
   "source": [
    "Check distribution of clustering"
   ]
  },
  {
   "cell_type": "code",
   "execution_count": null,
   "id": "a9ae47a5",
   "metadata": {},
   "outputs": [],
   "source": [
    "modelDF.labels.value_counts(normalize=True).round(4)*100"
   ]
  },
  {
   "cell_type": "code",
   "execution_count": null,
   "id": "56e759e0",
   "metadata": {},
   "outputs": [],
   "source": [
    "modelDF.groupby('labels').mean().round(2)"
   ]
  },
  {
   "cell_type": "code",
   "execution_count": null,
   "id": "26b96086",
   "metadata": {},
   "outputs": [],
   "source": [
    "plt.scatter(x=modelDF['median_price 2021 Q1'], y=modelDF['INCP_HIGH_Prop'],\n",
    "            c=modelDF['labels'],cmap='cividis',alpha=.6)\n",
    "plt.xlabel('Median House Price')\n",
    "plt.ylabel('Proportion of High Income Households')\n",
    "plt.title('2021 Q1, Hierarchical clustering');"
   ]
  },
  {
   "cell_type": "markdown",
   "id": "b08d30cb",
   "metadata": {},
   "source": [
    "### Map"
   ]
  },
  {
   "cell_type": "code",
   "execution_count": null,
   "id": "4ecd2f45",
   "metadata": {},
   "outputs": [],
   "source": [
    "df_hier_cluster = modelDF['labels']"
   ]
  },
  {
   "cell_type": "code",
   "execution_count": null,
   "id": "522a9f5c",
   "metadata": {},
   "outputs": [],
   "source": [
    "map_hier_label = pd.merge(nsw, df_hier_cluster, on='postcode')"
   ]
  },
  {
   "cell_type": "code",
   "execution_count": null,
   "id": "1e0857a5",
   "metadata": {
    "scrolled": false
   },
   "outputs": [],
   "source": [
    "fig, ax = plt.subplots(1,1, figsize=(30,30))\n",
    "divider = make_axes_locatable(ax)\n",
    "lga_gdf.plot(ax=ax, color='gray',alpha=1) # Map plot\n",
    "lga_gdf.geometry.boundary.plot(color='white', ax=ax, linewidth=0.2) #Add some borders to the geometries\n",
    "\n",
    "# Zoom in\n",
    "minx, miny, maxx, maxy = lga_gdf.total_bounds\n",
    "ax.set_xlim(minx, maxx)\n",
    "ax.set_ylim(miny, maxy)\n",
    "\n",
    "map_hier_label.plot(column='labels',ax=ax,cmap='viridis',alpha=1, categorical=True, legend=True)\n",
    "ax.axis('off')\n",
    "\n",
    "plt.title('Hierarchical Clustering (3), NSW',fontsize=25)\n",
    "plt.show()"
   ]
  },
  {
   "cell_type": "markdown",
   "id": "689e2165",
   "metadata": {},
   "source": [
    "It is interesting that some of the postcodes in the northern-eastern most part of NSW are being classified as similar to Sydney."
   ]
  },
  {
   "cell_type": "markdown",
   "id": "4008be9d",
   "metadata": {},
   "source": [
    "## Conclusion"
   ]
  },
  {
   "cell_type": "markdown",
   "id": "95ed3d54",
   "metadata": {
    "heading_collapsed": true
   },
   "source": [
    "# Distinct Models per Clusters\n"
   ]
  },
  {
   "cell_type": "markdown",
   "id": "2d80dbbe",
   "metadata": {
    "hidden": true
   },
   "source": [
    "## Linear regression based on KMeans clusters"
   ]
  },
  {
   "cell_type": "markdown",
   "id": "77ad69ed",
   "metadata": {
    "hidden": true
   },
   "source": [
    "### Data prep"
   ]
  },
  {
   "cell_type": "code",
   "execution_count": null,
   "id": "dfecdc58",
   "metadata": {
    "hidden": true
   },
   "outputs": [],
   "source": [
    "# Read Data\n",
    "modelDF = pd.read_csv(\"Files/Cleaned/Postcode-based/Unstacked_Transformed.csv\",\n",
    "                     index_col=\"postcode\")"
   ]
  },
  {
   "cell_type": "code",
   "execution_count": null,
   "id": "a6c171ff",
   "metadata": {
    "hidden": true
   },
   "outputs": [],
   "source": [
    "# Remove interest rate, bond yields (they're the same for all postcodes)\n",
    "modelDF = modelDF.iloc[:, np.r_[0:30, [48], 96:121]] # this is for keeping trans-variables\n",
    "# modelDF = modelDF.iloc[:, np.r_[0:56]] # this is for keeping original variables\n",
    "\n",
    "# Drop mean price columns\n",
    "modelDF = modelDF.drop([\"mean_price 2020 Q1\", \"mean_price 2020 Q2\", \"mean_price 2020 Q3\",\n",
    "                        \"mean_price 2020 Q4\", \"mean_price 2021 Q1\"],axis=1)\n",
    "\n",
    "# Drop one category from each feature group (optional)\n",
    "# modelDF = modelDF.drop(columns=['INCP_NEG_NIL', \n",
    "#                                 '65+yo',\n",
    "#                                 'CPRF_na',\n",
    "#                                 'citizen_AU'],axis=1)\n",
    "\n",
    "print(modelDF.shape)\n",
    "modelDF.head(1)"
   ]
  },
  {
   "cell_type": "code",
   "execution_count": null,
   "id": "741bf562",
   "metadata": {
    "hidden": true
   },
   "outputs": [],
   "source": [
    "# Using labels from KMeans where k=2\n",
    "modelDF['labels'] = km_label_2\n",
    "modelDF.head()"
   ]
  },
  {
   "cell_type": "markdown",
   "id": "b96282de",
   "metadata": {
    "hidden": true
   },
   "source": [
    "__Sub-setting clusters__"
   ]
  },
  {
   "cell_type": "code",
   "execution_count": null,
   "id": "ad04c32f",
   "metadata": {
    "hidden": true
   },
   "outputs": [],
   "source": [
    "cluster0 = modelDF.loc[modelDF['labels']==0]\n",
    "cluster1 = modelDF.loc[modelDF['labels']==1]\n",
    "\n",
    "cluster0 = cluster0.drop('labels',axis=1)\n",
    "cluster1 = cluster1.drop('labels',axis=1)"
   ]
  },
  {
   "cell_type": "markdown",
   "id": "22541d47",
   "metadata": {
    "hidden": true
   },
   "source": [
    "### Model on the 2 Clusters"
   ]
  },
  {
   "cell_type": "code",
   "execution_count": null,
   "id": "f27921d0",
   "metadata": {
    "hidden": true
   },
   "outputs": [],
   "source": [
    "# 1st cluster\n",
    "lr = LinearRegression()\n",
    "scoreKM0 = cross_val_score(lr, cluster0.drop(['median_price 2021 Q1'],axis=1), # X\n",
    "                        cluster0['median_price 2021 Q1'],                      # y \n",
    "                        cv=KFold(n_splits=5, shuffle=True, random_state=42)) \n",
    "print('R2 on 1st cluster:',list(scoreKM0.round(4)), '| Mean:', scoreKM0.mean().round(4))\n",
    "\n",
    "# 2nd cluster\n",
    "lr = LinearRegression()\n",
    "scoreKM1 = cross_val_score(lr, cluster1.drop(['median_price 2021 Q1'],axis=1), # X\n",
    "                        cluster1['median_price 2021 Q1'],                      # y \n",
    "                        cv=KFold(n_splits=5, shuffle=True, random_state=42))\n",
    "print('R2 on 2nd cluster:',list(scoreKM1.round(4)), '| Mean:', scoreKM1.mean().round(4))"
   ]
  },
  {
   "cell_type": "markdown",
   "id": "ba5490e1",
   "metadata": {
    "hidden": true
   },
   "source": [
    "Plot $R^2$ values"
   ]
  },
  {
   "cell_type": "code",
   "execution_count": null,
   "id": "151f9a73",
   "metadata": {
    "hidden": true
   },
   "outputs": [],
   "source": [
    "splits = range(1,6)\n",
    "plt.plot(splits, scoreKM0,label='Cluster 1')\n",
    "plt.plot(splits, scoreKM1,label='Cluster 2')\n",
    "plt.title('R2 scores')\n",
    "plt.xlabel('Trial #')\n",
    "plt.xticks(splits)\n",
    "plt.ylabel('$R^2$')\n",
    "plt.ylim(0,1)\n",
    "plt.legend(loc='best')\n",
    "plt.show()"
   ]
  },
  {
   "cell_type": "markdown",
   "id": "d6c114f6",
   "metadata": {
    "hidden": true
   },
   "source": [
    "###  Hyperparameter Tuning Using Grid Search Cross-Validation\n"
   ]
  },
  {
   "cell_type": "markdown",
   "id": "ee533363",
   "metadata": {
    "hidden": true
   },
   "source": [
    "#### Cluster 0"
   ]
  },
  {
   "cell_type": "markdown",
   "id": "c3a51526",
   "metadata": {
    "hidden": true
   },
   "source": [
    "Train-test-split"
   ]
  },
  {
   "cell_type": "code",
   "execution_count": null,
   "id": "ea615728",
   "metadata": {
    "hidden": true
   },
   "outputs": [],
   "source": [
    "X = cluster0.drop(['median_price 2021 Q1'],axis=1)\n",
    "y = cluster0['median_price 2021 Q1']\n",
    "X_train, X_test, y_train, y_test = train_test_split(X, y , random_state=123, test_size=.2)"
   ]
  },
  {
   "cell_type": "code",
   "execution_count": null,
   "id": "d66c7179",
   "metadata": {
    "hidden": true
   },
   "outputs": [],
   "source": [
    "# step-1: create a cross-validation scheme\n",
    "folds = KFold(n_splits = 5, shuffle = True, random_state = 100)\n",
    "\n",
    "# step-2: specify range of hyperparameters to tune\n",
    "hyper_params = [{'n_features_to_select': list(range(1, 51))}]\n",
    "\n",
    "\n",
    "# step-3: perform grid search\n",
    "# 3.1 specify model\n",
    "lr = LinearRegression()\n",
    "rfe = RFE(lr)             \n",
    "\n",
    "# 3.2 call GridSearchCV()\n",
    "model_cv = GridSearchCV(estimator = rfe, \n",
    "                        param_grid = hyper_params, \n",
    "                        scoring= 'r2', \n",
    "                        cv = folds, \n",
    "                        verbose = 1,\n",
    "                        return_train_score=True)      \n",
    "\n",
    "# fit the model\n",
    "model_cv.fit(X_train, y_train)  "
   ]
  },
  {
   "cell_type": "code",
   "execution_count": null,
   "id": "34bff6f2",
   "metadata": {
    "hidden": true,
    "scrolled": true
   },
   "outputs": [],
   "source": [
    "cv_results = pd.DataFrame(model_cv.cv_results_)\n",
    "cv_results"
   ]
  },
  {
   "cell_type": "code",
   "execution_count": null,
   "id": "6e38bc67",
   "metadata": {
    "hidden": true
   },
   "outputs": [],
   "source": [
    "plt.figure(figsize=(16,6))\n",
    "sns.set_theme()\n",
    "\n",
    "plt.plot(cv_results[\"param_n_features_to_select\"], cv_results[\"mean_test_score\"])\n",
    "plt.plot(cv_results[\"param_n_features_to_select\"], cv_results[\"mean_train_score\"])\n",
    "plt.xlabel('number of features')\n",
    "plt.xticks(range(0,51,2))\n",
    "plt.ylabel('$R^2$')\n",
    "plt.title(\"Optimal Number of Features, Cluster 0\")\n",
    "plt.legend(['test score', 'train score'], loc='upper left')"
   ]
  },
  {
   "cell_type": "markdown",
   "id": "5669e769",
   "metadata": {
    "hidden": true
   },
   "source": [
    "It appears that the optimal number of features on cluster 0 is at 42"
   ]
  },
  {
   "cell_type": "code",
   "execution_count": null,
   "id": "a158fd40",
   "metadata": {
    "hidden": true
   },
   "outputs": [],
   "source": [
    "n_features_optimal = 42\n",
    "\n",
    "lr = LinearRegression()\n",
    "lr.fit(X_train, y_train)\n",
    "\n",
    "rfe = RFE(lr, n_features_to_select = n_features_optimal)             \n",
    "rfe = rfe.fit(X_train, y_train)\n",
    "\n",
    "# predict prices of X_test\n",
    "y_pred = rfe.predict(X_test)\n",
    "\n",
    "# check r2 score\n",
    "r2 = r2_score(y_test, y_pred)\n",
    "print(f'Train R2 for linear regression on cluster 0: {r2_score(y_train,rfe.predict(X_train)).round(4)}') \n",
    "print(f'Test R2 for linear regression on cluster 0: {r2.round(4)}')"
   ]
  },
  {
   "cell_type": "markdown",
   "id": "38ed763f",
   "metadata": {
    "hidden": true
   },
   "source": [
    "Cross-validated score"
   ]
  },
  {
   "cell_type": "code",
   "execution_count": null,
   "id": "3d8e1878",
   "metadata": {
    "hidden": true
   },
   "outputs": [],
   "source": [
    "# Cluster 0\n",
    "print('Cross-validated R2 score on cluster 0:')\n",
    "cross_val_score(rfe, cluster0.drop(['median_price 2021 Q1'],axis=1), # X\n",
    "                        cluster0['median_price 2021 Q1'],            # y \n",
    "                        cv=KFold(n_splits=5, shuffle=True, random_state=42)).mean().round(4)"
   ]
  },
  {
   "cell_type": "markdown",
   "id": "b26dec97",
   "metadata": {
    "hidden": true
   },
   "source": [
    "#### Cluster 1"
   ]
  },
  {
   "cell_type": "code",
   "execution_count": null,
   "id": "dfaed4fc",
   "metadata": {
    "hidden": true
   },
   "outputs": [],
   "source": [
    "X = cluster1.drop(['median_price 2021 Q1'],axis=1)\n",
    "y = cluster1['median_price 2021 Q1']\n",
    "X_train, X_test, y_train, y_test = train_test_split(X, y , random_state=100, test_size=.2)"
   ]
  },
  {
   "cell_type": "code",
   "execution_count": null,
   "id": "b55eb419",
   "metadata": {
    "hidden": true
   },
   "outputs": [],
   "source": [
    "# step-1: create a cross-validation scheme\n",
    "folds = KFold(n_splits = 5, shuffle = True, random_state = 100)\n",
    "\n",
    "# step-2: specify range of hyperparameters to tune\n",
    "hyper_params = [{'n_features_to_select': list(range(1, 51))}]\n",
    "\n",
    "\n",
    "# step-3: perform grid search\n",
    "# 3.1 specify model\n",
    "lr = LinearRegression()\n",
    "rfe = RFE(lr)             \n",
    "\n",
    "# 3.2 call GridSearchCV()\n",
    "model_cv = GridSearchCV(estimator = rfe, \n",
    "                        param_grid = hyper_params, \n",
    "                        scoring= 'r2', \n",
    "                        cv = folds, \n",
    "                        verbose = 1,\n",
    "                        return_train_score=True)      \n",
    "\n",
    "# fit the model\n",
    "model_cv.fit(X_train, y_train)  "
   ]
  },
  {
   "cell_type": "code",
   "execution_count": null,
   "id": "0468ddfe",
   "metadata": {
    "hidden": true,
    "scrolled": true
   },
   "outputs": [],
   "source": [
    "cv_results = pd.DataFrame(model_cv.cv_results_)\n",
    "cv_results"
   ]
  },
  {
   "cell_type": "code",
   "execution_count": null,
   "id": "a8913d8a",
   "metadata": {
    "hidden": true
   },
   "outputs": [],
   "source": [
    "plt.figure(figsize=(16,6))\n",
    "\n",
    "plt.plot(cv_results[\"param_n_features_to_select\"], cv_results[\"mean_test_score\"])\n",
    "plt.plot(cv_results[\"param_n_features_to_select\"], cv_results[\"mean_train_score\"])\n",
    "plt.xlabel('number of features')\n",
    "plt.ylabel('$R^2$')\n",
    "plt.xticks(range(0,51,2))\n",
    "plt.title(\"Optimal Number of Features, Cluster 1\")\n",
    "plt.legend(['test score', 'train score'], loc='upper left')"
   ]
  },
  {
   "cell_type": "markdown",
   "id": "1d9dd3bb",
   "metadata": {
    "hidden": true
   },
   "source": [
    "The optimal number of features in cluster 1 seems to be at 36."
   ]
  },
  {
   "cell_type": "code",
   "execution_count": null,
   "id": "ad17af41",
   "metadata": {
    "hidden": true
   },
   "outputs": [],
   "source": [
    "n_features_optimal = 36\n",
    "\n",
    "lr = LinearRegression()\n",
    "lr.fit(X_train, y_train)\n",
    "\n",
    "rfe = RFE(lr, n_features_to_select = n_features_optimal)             \n",
    "rfe = rfe.fit(X_train, y_train)\n",
    "\n",
    "# predict prices of X_test\n",
    "y_pred = rfe.predict(X_test)\n",
    "\n",
    "# check r2 score\n",
    "r2 = r2_score(y_test, y_pred)\n",
    "print(f'Train R2 for linear regression on cluster 1: {r2_score(y_train,rfe.predict(X_train)).round(4)}') \n",
    "print(f'Test R2 for linear regression on cluster 1: {r2.round(4)}')"
   ]
  },
  {
   "cell_type": "markdown",
   "id": "52201c0d",
   "metadata": {
    "hidden": true
   },
   "source": [
    "Cross-validated score"
   ]
  },
  {
   "cell_type": "code",
   "execution_count": null,
   "id": "99d9053b",
   "metadata": {
    "hidden": true
   },
   "outputs": [],
   "source": [
    "# Cluster 1\n",
    "print('Cross-validated R2 score on cluster 1:')\n",
    "cross_val_score(rfe, cluster1.drop(['median_price 2021 Q1'],axis=1), # X\n",
    "                        cluster1['median_price 2021 Q1'],            # y \n",
    "                        cv=KFold(n_splits=5, shuffle=True, random_state=42)).mean().round(4)"
   ]
  },
  {
   "cell_type": "markdown",
   "id": "415c8868",
   "metadata": {
    "hidden": true
   },
   "source": [
    "### Conclusion"
   ]
  },
  {
   "cell_type": "markdown",
   "id": "9d4f5c70",
   "metadata": {},
   "source": [
    "# Classification\n",
    "\n",
    "Aside from predicting the house price, we're curious to see if we can predict the postcodes that will grow more than 5% on the following quarter"
   ]
  },
  {
   "cell_type": "code",
   "execution_count": null,
   "id": "9f0c3c73",
   "metadata": {},
   "outputs": [],
   "source": [
    "# Read Data\n",
    "modelDF = pd.read_csv(\"Files/Cleaned/Postcode-based/Unstacked_Transformed.csv\",\n",
    "                     index_col=\"postcode\")"
   ]
  },
  {
   "cell_type": "code",
   "execution_count": null,
   "id": "9223599d",
   "metadata": {},
   "outputs": [],
   "source": [
    "# Remove interest rate, bond yields (they're the same for all postcodes)\n",
    "modelDF = modelDF.iloc[:, np.r_[0:30, [48], 96:121]] # this is for keeping trans-variables\n",
    "# modelDF = modelDF.iloc[:, np.r_[0:56]] # this is for keeping original variables\n",
    "\n",
    "# Drop mean price columns\n",
    "modelDF = modelDF.drop([\"mean_price 2020 Q1\", \"mean_price 2020 Q2\", \"mean_price 2020 Q3\",\n",
    "                        \"mean_price 2020 Q4\", \"mean_price 2021 Q1\"],axis=1)\n",
    "\n",
    "# Drop one category from each feature group\n",
    "modelDF = modelDF.drop(columns=['INCP_NEG_NIL_Prop', \n",
    "                                 '65+yo_Prop',\n",
    "                                 'CPRF_na_Prop',\n",
    "                                 'citizen_AU_Prop'],axis=1)\n",
    "\n",
    "print(modelDF.shape)\n",
    "pd.set_option('display.max_columns', None)\n",
    "modelDF.head(1)"
   ]
  },
  {
   "cell_type": "markdown",
   "id": "3b4384c3",
   "metadata": {},
   "source": [
    "## Assign class label - define 'high growth potential' areas"
   ]
  },
  {
   "cell_type": "markdown",
   "id": "99412121",
   "metadata": {},
   "source": [
    "Calculate growth rate of median house price for each quarter to draw the line of high/low growth potential."
   ]
  },
  {
   "cell_type": "code",
   "execution_count": null,
   "id": "9eae0da0",
   "metadata": {
    "scrolled": true
   },
   "outputs": [],
   "source": [
    "# Growth rate Q1-Q2 2020\n",
    "modelDF['gr_20Q2'] = ((modelDF['median_price 2020 Q2']/modelDF['median_price 2020 Q1'])-1)*100\n",
    "\n",
    "# Growth rate Q2-Q3 2020\n",
    "modelDF['gr_20Q3'] = ((modelDF['median_price 2020 Q3']/modelDF['median_price 2020 Q2'])-1)*100\n",
    "\n",
    "# Growth rate Q3-Q4 2020\n",
    "modelDF['gr_20Q4'] = ((modelDF['median_price 2020 Q4']/modelDF['median_price 2020 Q3'])-1)*100\n",
    "\n",
    "# Growth rate Q4 2020 - Q1 2020\n",
    "modelDF['gr_21Q1'] = ((modelDF['median_price 2021 Q1']/modelDF['median_price 2020 Q4'])-1)*100\n",
    "\n",
    "# Annual growth rate Q1 2020 - Q1 2021\n",
    "modelDF['gr_annual'] = ((modelDF['median_price 2021 Q1']/modelDF['median_price 2020 Q1'])-1)*100\n",
    "\n",
    "modelDF.iloc[:,47:52].describe().round(2)"
   ]
  },
  {
   "cell_type": "markdown",
   "id": "aed4dd1b",
   "metadata": {},
   "source": [
    "As we can see from the above summary table, the range of house price changes is fairly large. In certain area, the median price increased 6 folds in Q1 2021. However, it would be irrational to only consider such dramatic increase as 'high growth'. \n",
    "\n",
    "The **mean** and **50% (median)** of growth rates would give us a better idea of the general trends in the market - we could see the growth started to accelerate in Q4 last year and continued to hold strong in 2021 with an average of **6.81%** and a median of **3.75%**. And due to the extreme cases on the higher ends, average is always more 'inflated' than median for all four time periods.\n",
    "\n",
    "Hence, we'd like to set the threshold **between the mean and median growth rate of the last known period (Q1 2021) at 5%**, classify postcodes whose median price increasing by greater than or equal 5% as **'high growth'** and those less than 5% as 'low growth' areas, and build a classifier to predict the growth potential (binary class) of each postcode in the future time period.\n",
    "\n",
    "We will create a class variable `high_growth`, and assign label 1 or 0 to each row based on the previously calculated `gr_21Q1` according to above stated rule."
   ]
  },
  {
   "cell_type": "code",
   "execution_count": null,
   "id": "38fbefe9",
   "metadata": {},
   "outputs": [],
   "source": [
    "# Create class variable and assign class label\n",
    "modelDF['high_growth'] = np.where(modelDF.gr_21Q1 >= 5,'1','0')\n",
    "\n",
    "print('Percentage of high growth and low growth areas:')\n",
    "pd.DataFrame(modelDF['high_growth'].value_counts(normalize=True).round(3)*100)"
   ]
  },
  {
   "cell_type": "markdown",
   "id": "6eea86da",
   "metadata": {},
   "source": [
    "In our book, 41% of postal areas are considered 'high growth' areas and 59% 'low growth' areas. \n",
    "\n",
    "This **59%** is considered our **'chance accuracy'**, i.e., without learning, our model would simply classify all cases into 'low growth', the majority class, and have an accuracy of 59%, which will serve as the baseline for the classifiers we buil in later sections. Ideally, we should expect greater accuracy than 59% (the greater the better!) from our trained models."
   ]
  },
  {
   "cell_type": "markdown",
   "id": "ecf8d13e",
   "metadata": {},
   "source": [
    "## Random Forest Classifier"
   ]
  },
  {
   "cell_type": "markdown",
   "id": "51463124",
   "metadata": {},
   "source": [
    "###  Base model"
   ]
  },
  {
   "cell_type": "markdown",
   "id": "3b202931",
   "metadata": {},
   "source": [
    "Use __Random Forect Classifier__ and train_test_split to check the accuracy score for predicting if a postcode grew more than the mean growth rate."
   ]
  },
  {
   "cell_type": "code",
   "execution_count": null,
   "id": "5bcf7a54",
   "metadata": {},
   "outputs": [],
   "source": [
    "# Train-test split\n",
    "X = modelDF.drop(['median_price 2021 Q1', 'high_growth','gr_annual','gr_21Q1'],axis=1)\n",
    "y = modelDF['high_growth']\n",
    "X_train, X_test, y_train, y_test = train_test_split(X, y , random_state=123, test_size=.2, \n",
    "                                                    stratify = modelDF['high_growth'])"
   ]
  },
  {
   "cell_type": "code",
   "execution_count": null,
   "id": "c75a061b",
   "metadata": {},
   "outputs": [],
   "source": [
    "# Model with Random Forest\n",
    "rfc = RandomForestClassifier(random_state=123)\n",
    "rfc.fit(X_train,y_train)\n",
    "ypredRFC = rfc.predict(X_test)"
   ]
  },
  {
   "cell_type": "code",
   "execution_count": null,
   "id": "49bac611",
   "metadata": {},
   "outputs": [],
   "source": [
    "# Get model diagnostics\n",
    "print('Accuracy score on test data:',accuracy_score(ypredRFC, y_test).round(4)*100,'%') #Accuracy\n",
    "\n",
    "cm_rf1 = confusion_matrix(y_test, ypredRFC)\n",
    "rec_rf1 = 100*cm_rf1[1][1] / (cm_rf1[1][1] + cm_rf1[1][0])\n",
    "prec_rf1 = 100*cm_rf1[1][1] / (cm_rf1[1][1] + cm_rf1[0][1])\n",
    "\n",
    "print('Recall of the default random forest classifier: %.2f' % rec_rf1,'%')\n",
    "print('Precision of the default random forest classifier: %.2f' % prec_rf1,'%')"
   ]
  },
  {
   "cell_type": "markdown",
   "id": "70b70d59",
   "metadata": {},
   "source": [
    "### Cross-validation"
   ]
  },
  {
   "cell_type": "markdown",
   "id": "4ca05f05",
   "metadata": {},
   "source": [
    "Use cross-validation to test the data thoroughly"
   ]
  },
  {
   "cell_type": "code",
   "execution_count": null,
   "id": "b75c81eb",
   "metadata": {},
   "outputs": [],
   "source": [
    "rfc = RandomForestClassifier(random_state=123)\n",
    "scoreRFC = cross_val_score(rfc, X, y, scoring='accuracy',\n",
    "                           cv=StratifiedKFold(n_splits=5, shuffle=True, random_state=123))\n",
    "\n",
    "print('Using cross-validation\\nAverage accuracy is:',scoreRFC.mean().round(4)*100,'%')\n",
    "print('STDEV:',scoreRFC.std().round(4))"
   ]
  },
  {
   "cell_type": "code",
   "execution_count": null,
   "id": "5c40862d",
   "metadata": {},
   "outputs": [],
   "source": [
    "y_pred_cv = cross_val_predict(rfc, X, y, \n",
    "                              cv=StratifiedKFold(n_splits=5, shuffle=True, random_state=123))\n",
    "\n",
    "cm_rf2 = confusion_matrix(y, y_pred_cv)\n",
    "rec_rf2 = 100*cm_rf2[1][1] / (cm_rf2[1][1] + cm_rf2[1][0])\n",
    "prec_rf2 = 100*cm_rf2[1][1] / (cm_rf2[1][1] + cm_rf2[0][1])\n",
    "\n",
    "print('Recall of the random forest classifier (validated): %.2f' % rec_rf2,'%')\n",
    "print('Precision of the random forest classifier (validated): %.2f' % prec_rf2,'%')"
   ]
  },
  {
   "cell_type": "code",
   "execution_count": null,
   "id": "409ce4c6",
   "metadata": {},
   "outputs": [],
   "source": [
    "# Plot Confusion Matrix\n",
    "plt.figure(figsize=(5,5))\n",
    "ax = sns.heatmap(cm_rf2/cm_rf2.astype(float).sum(axis=1), \n",
    "                 annot=True, fmt=\".2%\", linewidths=.5, square = True, cmap = 'Blues')\n",
    "\n",
    "ax.set_title('Confusion matrix')\n",
    "ax.set_ylabel('Actual')\n",
    "ax.set_xlabel('Predicted')\n",
    "ax.xaxis.set_ticklabels(['0', '1'])\n",
    "ax.yaxis.set_ticklabels(['0', '1'])\n",
    "\n",
    "plt.show()"
   ]
  },
  {
   "cell_type": "markdown",
   "id": "1ee07cee",
   "metadata": {},
   "source": [
    "### Hyperparameter tuning"
   ]
  },
  {
   "cell_type": "markdown",
   "id": "f803dd54",
   "metadata": {},
   "source": [
    "Set up the parameters to tune"
   ]
  },
  {
   "cell_type": "code",
   "execution_count": null,
   "id": "d67ceea4",
   "metadata": {},
   "outputs": [],
   "source": [
    "parameters = { \n",
    "    'n_estimators': [100, 200, 500],\n",
    "    'max_features': ['auto', 'sqrt', 'log2'],\n",
    "    'max_depth' : [2,4,6,8,None],\n",
    "    'criterion' :['gini', 'entropy']\n",
    "}\n",
    "\n",
    "folds = StratifiedKFold(n_splits=5, shuffle=True, random_state=123)\n",
    "\n",
    "CV_rfc = GridSearchCV(estimator=rfc, param_grid=parameters, cv=folds, n_jobs=-1)\n",
    "CV_rfc.fit(X, y)"
   ]
  },
  {
   "cell_type": "markdown",
   "id": "d85f0171",
   "metadata": {},
   "source": [
    "See which are the best parameters"
   ]
  },
  {
   "cell_type": "code",
   "execution_count": null,
   "id": "bd80b540",
   "metadata": {},
   "outputs": [],
   "source": [
    "# Refit model with the selected best parameters\n",
    "\n",
    "print(CV_rfc.best_params_)\n",
    "rfc_best = RandomForestClassifier(random_state=123)\n",
    "rfc_best.set_params(**CV_rfc.best_params_)"
   ]
  },
  {
   "cell_type": "code",
   "execution_count": null,
   "id": "979e7879",
   "metadata": {},
   "outputs": [],
   "source": [
    "# Get Accuracy score\n",
    "\n",
    "scoreRFC2 = cross_val_score(rfc_best, X, y,\n",
    "                           scoring='accuracy',\n",
    "                           cv=StratifiedKFold(n_splits=5, shuffle=True, random_state=123))\n",
    "\n",
    "print('Using cross-validation\\nTuned average accuracy is:',scoreRFC2.mean().round(4)*100,'%')\n",
    "print('STDEV:',scoreRFC.std().round(4))"
   ]
  },
  {
   "cell_type": "code",
   "execution_count": null,
   "id": "e9f217e9",
   "metadata": {},
   "outputs": [],
   "source": [
    "y_pred = cross_val_predict(rfc_best, X, y, \n",
    "                              cv=StratifiedKFold(n_splits=5, shuffle=True, random_state=123))\n",
    "\n",
    "cm_rf3 = confusion_matrix(y, y_pred)\n",
    "rec_rf3 = 100*cm_rf3[1][1] / (cm_rf3[1][1] + cm_rf3[1][0])\n",
    "prec_rf3 = 100*cm_rf3[1][1] / (cm_rf3[1][1] + cm_rf3[0][1])\n",
    "\n",
    "print('Recall of the tuned random forest classifier: %.2f' % rec_rf3,'%')\n",
    "print('Precision of the tuned random forest classifier: %.2f' % prec_rf3,'%')"
   ]
  },
  {
   "cell_type": "code",
   "execution_count": null,
   "id": "ebf560c8",
   "metadata": {},
   "outputs": [],
   "source": [
    "# Plot Confusion Matrix\n",
    "plt.figure(figsize=(5,5))\n",
    "ax = sns.heatmap(cm_rf3/cm_rf3.astype(float).sum(axis=1), \n",
    "                 annot=True, fmt=\".2%\", linewidths=.5, square = True, cmap = 'Blues')\n",
    "\n",
    "ax.set_title('Confusion matrix')\n",
    "ax.set_ylabel('Actual')\n",
    "ax.set_xlabel('Predicted')\n",
    "ax.xaxis.set_ticklabels(['0', '1'])\n",
    "ax.yaxis.set_ticklabels(['0', '1'])\n",
    "\n",
    "plt.show()"
   ]
  },
  {
   "cell_type": "markdown",
   "id": "5690b357",
   "metadata": {},
   "source": [
    "Store RFC predictions"
   ]
  },
  {
   "cell_type": "code",
   "execution_count": null,
   "id": "8ef087a1",
   "metadata": {},
   "outputs": [],
   "source": [
    "rfc_best.fit(X,y)\n",
    "rfc_best_ypred = rfc_best.predict(X)"
   ]
  },
  {
   "cell_type": "markdown",
   "id": "34ffb3ef",
   "metadata": {},
   "source": [
    "### Check top 5 cheapest postcodes that are predicted to have high growth"
   ]
  },
  {
   "cell_type": "code",
   "execution_count": null,
   "id": "f411d476",
   "metadata": {},
   "outputs": [],
   "source": [
    "modelDF['predicted'] = rfc_best_ypred\n",
    "cheap10 = modelDF[modelDF.predicted=='1'].sort_values('median_price 2021 Q1').head(10).filter(regex='median_price')\n",
    "cheap5 = cheap10[cheap10['median_price 2020 Q1']<600]\n",
    "cheap5"
   ]
  },
  {
   "cell_type": "code",
   "execution_count": null,
   "id": "5187531d",
   "metadata": {},
   "outputs": [],
   "source": [
    "cheap5.transpose().plot()\n",
    "plt.xticks(rotation=90)\n",
    "plt.ylim(0,None)\n",
    "plt.title('Top 5 cheapest postcodes predicted to grow >5%')\n",
    "plt.show()"
   ]
  },
  {
   "cell_type": "markdown",
   "id": "23bddbdf",
   "metadata": {},
   "source": [
    "These are the top 5 cheapest postcodes that are predicted to have high growth."
   ]
  },
  {
   "cell_type": "code",
   "execution_count": null,
   "id": "00a78e46",
   "metadata": {},
   "outputs": [],
   "source": [
    "cheap5"
   ]
  },
  {
   "cell_type": "code",
   "execution_count": null,
   "id": "764d3f1a",
   "metadata": {},
   "outputs": [],
   "source": [
    "map_cheap5 = nsw[nsw.index.isin(cheap5.index)]"
   ]
  },
  {
   "cell_type": "code",
   "execution_count": null,
   "id": "6149ec42",
   "metadata": {},
   "outputs": [],
   "source": [
    "fig, ax = plt.subplots(1,1, figsize=(20,20))\n",
    "divider = make_axes_locatable(ax)\n",
    "lga_gdf.plot(ax=ax, color='gray',alpha=.8) # Map plot\n",
    "lga_gdf.geometry.boundary.plot(color='white', ax=ax, linewidth=0.2) #Add some borders to the geometries\n",
    "\n",
    "# Zoom in\n",
    "minx, miny, maxx, maxy = lga_gdf.total_bounds\n",
    "ax.set_xlim(minx, maxx)\n",
    "ax.set_ylim(miny, maxy)\n",
    "\n",
    "map_cheap5.plot(ax=ax,alpha=.8, c='yellow')\n",
    "ax.axis('off')\n",
    "plt.title('Top 5 cheapest postcodes predicted to grow >5%, NSW',fontsize=25)\n",
    "# plt.savefig('Files/Map Vis/Top 5 cheapest high growth.png',dpi=300)\n",
    "plt.show()"
   ]
  },
  {
   "cell_type": "markdown",
   "id": "0313b732",
   "metadata": {},
   "source": [
    "### Conclusion"
   ]
  },
  {
   "cell_type": "markdown",
   "id": "65dd2b7e",
   "metadata": {},
   "source": [
    "The cross-validation score result from the tuned random forest classifier model performs slightly better compared to the default model."
   ]
  },
  {
   "cell_type": "markdown",
   "id": "2b087702",
   "metadata": {
    "heading_collapsed": true
   },
   "source": [
    "## Multi-layer Perceptron Classifier"
   ]
  },
  {
   "cell_type": "markdown",
   "id": "9e7bf0fb",
   "metadata": {
    "hidden": true
   },
   "source": [
    "Based on neural network, the MLP Classifier is another great candidate for discovering existing patterns in data and extrapolating them, although it's sometimes considered most useful when input variables are categorical. Regardless, we are keen to try it on our numeric inputs and see how it compares with the random forest classifier."
   ]
  },
  {
   "cell_type": "markdown",
   "id": "d0e922a5",
   "metadata": {
    "hidden": true
   },
   "source": [
    "### Base model\n",
    "\n",
    "First build a baseline MPLClassifier using default parameters."
   ]
  },
  {
   "cell_type": "code",
   "execution_count": null,
   "id": "dbcd171f",
   "metadata": {
    "hidden": true
   },
   "outputs": [],
   "source": [
    "# Specify features and the target\n",
    "X = modelDF.drop(['high_growth', 'median_price 2021 Q1', \n",
    "                  'gr_annual','gr_21Q1'], axis=1)\n",
    "y = modelDF['high_growth']\n",
    "\n",
    "# Split the dataset into training data and testing data\n",
    "X_train, X_test, y_train, y_test = train_test_split(X, y, test_size = 0.2, random_state=123,\n",
    "                                                   stratify = modelDF['high_growth'])"
   ]
  },
  {
   "cell_type": "code",
   "execution_count": null,
   "id": "4cd56056",
   "metadata": {
    "hidden": true
   },
   "outputs": [],
   "source": [
    "# Training the MLPClassifier with the default parameters (random_state=42)\n",
    "mlpc = MLPClassifier(random_state=44)\n",
    "mlpc.fit(X_train, y_train)\n",
    "\n",
    "# Output the accuracy on training data and test data respectively\n",
    "y_pred_train = mlpc.predict(X_train)\n",
    "y_pred_test = mlpc.predict(X_test)\n",
    "\n",
    "acc_train = 100*accuracy_score(y_train, y_pred_train)\n",
    "acc_test = 100*accuracy_score(y_test, y_pred_test)\n",
    "\n",
    "print('Train Accuracy for the default MLP classifier: %.2f' % acc_train,'%')\n",
    "print('Test Accuracy for the default MLP classifier: %.2f' % acc_test,'%')"
   ]
  },
  {
   "cell_type": "code",
   "execution_count": null,
   "id": "eaa7e7b3",
   "metadata": {
    "hidden": true
   },
   "outputs": [],
   "source": [
    "# Output the confusion matrix on test data\n",
    "\n",
    "cm_mlp1 = confusion_matrix(y_test, y_pred_test)\n",
    "rec_mlp1 = 100*cm_mlp1[1][1] / (cm_mlp1[1][1] + cm_mlp1[1][0])\n",
    "prec_mlp1 = 100*cm_mlp1[1][1] / (cm_mlp1[1][1] + cm_mlp1[0][1])\n",
    "\n",
    "print('Recall of the default MLP classifier: %.2f' % rec_mlp1,'%')\n",
    "print('Precision of the default MLP classifier: %.2f' % prec_mlp1,'%')"
   ]
  },
  {
   "cell_type": "markdown",
   "id": "ad2a6cb4",
   "metadata": {
    "hidden": true
   },
   "source": [
    "The good news is that the test accuracy (**68.78%**) of the baseline MLP classifier is greater than 59%, the chance accuracy without tuning, however we observe a gap in train/test accuracy, suggesting potential overfitting - something to bear in mind in later validation and tuning.\n",
    "\n",
    "Recall seems to be quite high (**87.23%**), which is likely to be due to the random seed. We will rule this out using cross-validation."
   ]
  },
  {
   "cell_type": "code",
   "execution_count": null,
   "id": "1916eca6",
   "metadata": {
    "hidden": true
   },
   "outputs": [],
   "source": [
    "# Explore the learned MLP model\n",
    "print(mlpc)\n",
    "print('\\n# of layers (including the input layer): %.f' % mlpc.n_layers_)\n",
    "print('MLP structure: %.f X %.f X %.f' % (X.shape[1], \n",
    "                                          mlpc.get_params()['hidden_layer_sizes'][0], \n",
    "                                          mlpc.n_outputs_))"
   ]
  },
  {
   "cell_type": "markdown",
   "id": "01884c7e",
   "metadata": {
    "hidden": true
   },
   "source": [
    "Our current model has 1 hidden layer, 100 units per hidden layer - in later tuning, we might experiment with less number of hidden layers and/or less number of perceptrons per layer, and see if a simpler model will have more consistent performance."
   ]
  },
  {
   "cell_type": "markdown",
   "id": "d5c0c770",
   "metadata": {
    "hidden": true
   },
   "source": [
    "#### Cross Validation\n",
    "Use 10-fold cross validation to report a more robust testing performance."
   ]
  },
  {
   "cell_type": "code",
   "execution_count": null,
   "id": "d51a03ef",
   "metadata": {
    "hidden": true
   },
   "outputs": [],
   "source": [
    "# Use 10-fold cross validation to validate the model\n",
    "scores_mlp_default = cross_val_score(mlpc, X, y, \n",
    "                                     cv=StratifiedKFold(n_splits=10, shuffle=True, random_state=123))\n",
    "\n",
    "print('Accuracy range for the default MLP classifier: [%.4f, %.4f]; mean: %.4f; std: %.4f\\n'\n",
    "      % (scores_mlp_default.min(), \n",
    "         scores_mlp_default.max(), \n",
    "         scores_mlp_default.mean(), \n",
    "         scores_mlp_default.std()))"
   ]
  },
  {
   "cell_type": "code",
   "execution_count": null,
   "id": "efc959ed",
   "metadata": {
    "hidden": true
   },
   "outputs": [],
   "source": [
    "# Check confusion matrix\n",
    "y_pred_2 = cross_val_predict(mlpc, X, y,\n",
    "                           cv=StratifiedKFold(n_splits=10, shuffle=True, random_state=123))\n",
    "\n",
    "cm_mlp2 = confusion_matrix(y, y_pred_2)\n",
    "rec_mlp2 = 100*cm_mlp2[1][1] / (cm_mlp2[1][1] + cm_mlp2[1][0])\n",
    "prec_mlp2 = 100*cm_mlp2[1][1] / (cm_mlp2[1][1] + cm_mlp2[0][1])\n",
    "\n",
    "print('Recall of the default MLP classifier (validated): %.2f' % rec_mlp2,'%')\n",
    "print('Precision of the default MLP classifier (validated): %.2f' % prec_mlp2,'%')"
   ]
  },
  {
   "cell_type": "code",
   "execution_count": null,
   "id": "b3abee48",
   "metadata": {
    "hidden": true
   },
   "outputs": [],
   "source": [
    "# Plot Confusion Matrix\n",
    "plt.figure(figsize=(5,5))\n",
    "ax = sns.heatmap(cm_mlp2/cm_mlp2.astype(float).sum(axis=1), \n",
    "                 annot=True, fmt=\".2%\", linewidths=.5, square = True, cmap = 'Blues')\n",
    "\n",
    "ax.set_title('Confusion matrix')\n",
    "ax.set_ylabel('Actual')\n",
    "ax.set_xlabel('Predicted')\n",
    "ax.xaxis.set_ticklabels(['0', '1'])\n",
    "ax.yaxis.set_ticklabels(['0', '1'])\n",
    "\n",
    "plt.show()"
   ]
  },
  {
   "cell_type": "markdown",
   "id": "22ac7215",
   "metadata": {
    "hidden": true
   },
   "source": [
    "It turns out that our concern for the low recall might have been a false alarm! \n",
    "\n",
    "The 5-fold cross validation shows that our default model has an avarage accuracy of **65.11%**, still higher than the chance accuracy of 59%, **66.81%** correct recall and **56.27%** precision, while producing a correct True Negative (TN) rate of 63.91%. That's certainly not a bad baseline model to start with. But can we make it better?"
   ]
  },
  {
   "cell_type": "markdown",
   "id": "868ee8c6",
   "metadata": {
    "hidden": true
   },
   "source": [
    "### Hyperparameter tuning\n",
    "\n",
    "We will be using two different tuning method and explore which yields a better model: \n",
    "1. Tune each parameter <u>individually</u>, build a final classifier with the optimal value of each individual parameter found;\n",
    "2. Use `GridSearchCV` to find the optimal combination of parameters of all."
   ]
  },
  {
   "cell_type": "markdown",
   "id": "53def7f2",
   "metadata": {
    "hidden": true
   },
   "source": [
    "#### Tuning Individual Parameter\n",
    "\n",
    "**<u>a. Number of hidden units</u>**"
   ]
  },
  {
   "cell_type": "markdown",
   "id": "eb524977",
   "metadata": {
    "hidden": true
   },
   "source": [
    "The default number of hidden units is 100. With 49 input units and 2 output classes, our default model has (49+1)x100 + (100+1)x2 = **5202** model parameters (weights), which is relatively large compared to our sample size (n=573). This may impact the consistency of our model and create potential issue of overfitting.\n",
    "\n",
    "Here're going to test a range of numbers of hidden units, moving in both direction from 100, and use 10-fold cross validation to report on the testing accuracy. "
   ]
  },
  {
   "cell_type": "code",
   "execution_count": null,
   "id": "2f74d811",
   "metadata": {
    "hidden": true
   },
   "outputs": [],
   "source": [
    "# For each number of hidden units, we use 10-fold cross validation to report the testing accuracy.\n",
    "cv_scores = []\n",
    "cv_scores_std = []\n",
    "\n",
    "hidden_units_no = [[10],[25],[50],[75],[100],[125],[150]]\n",
    "\n",
    "for i in hidden_units_no:\n",
    "    mlpc = MLPClassifier(hidden_layer_sizes=i, random_state=44)\n",
    "    scores = cross_val_score(mlpc, X, y, scoring='accuracy', \n",
    "                             cv=StratifiedKFold(n_splits=10, shuffle=True, random_state=123))\n",
    "    cv_scores.append(scores.mean())\n",
    "    cv_scores_std.append(scores.std())"
   ]
  },
  {
   "cell_type": "code",
   "execution_count": null,
   "id": "db5ec2bd",
   "metadata": {
    "hidden": true,
    "scrolled": true
   },
   "outputs": [],
   "source": [
    "# Plot accuracy against the number of hidden units\n",
    "plt.figure(figsize=(7,5))\n",
    "plt.errorbar(hidden_units_no, cv_scores, yerr=cv_scores_std, marker='x', label='Accuracy')\n",
    "\n",
    "plt.xlabel('Number of hidden units')\n",
    "plt.xticks(np.arange(0, 151, 25))\n",
    "\n",
    "plt.ylabel('Accuracy')\n",
    "plt.ylim(0.2, 0.8)\n",
    "\n",
    "plt.legend(loc='best')\n",
    "plt.show()"
   ]
  },
  {
   "cell_type": "code",
   "execution_count": null,
   "id": "17826029",
   "metadata": {
    "hidden": true
   },
   "outputs": [],
   "source": [
    "# Find the optimal number of hidden units\n",
    "tuned_score = max(cv_scores)\n",
    "max_index = cv_scores.index(tuned_score)\n",
    "tuned_hlsizes = hidden_units_no[max_index][0]\n",
    "\n",
    "print(\"Best accuracy score: %.4f\" % tuned_score)\n",
    "print(\"Optimal number of hidden units:\", tuned_hlsizes)"
   ]
  },
  {
   "cell_type": "markdown",
   "id": "72885bca",
   "metadata": {
    "hidden": true
   },
   "source": [
    "Our hypothesis proves to be wrong - the optimal number of hidden units turns out to be precisely 100, the default setting. On a another note, it's interesting to see a sharp dip at 75, migh as well take a look at what's going on between 50-100."
   ]
  },
  {
   "cell_type": "code",
   "execution_count": null,
   "id": "39c4b619",
   "metadata": {
    "hidden": true
   },
   "outputs": [],
   "source": [
    "# Check and plot accuracy with hidden units range from 50 to 100\n",
    "cv_scores = []\n",
    "cv_scores_std = []\n",
    "\n",
    "hidden_units_no = [[50],[60],[70],[80],[90],[100]]\n",
    "\n",
    "for i in hidden_units_no:\n",
    "    mlpc = MLPClassifier(hidden_layer_sizes=i, random_state=44)\n",
    "    scores = cross_val_score(mlpc, X, y, scoring='accuracy', \n",
    "                             cv=StratifiedKFold(n_splits=10, shuffle=True, random_state=123))\n",
    "    cv_scores.append(scores.mean())\n",
    "    cv_scores_std.append(scores.std())\n",
    "\n",
    "# Plot accuracy against the number of hidden units\n",
    "plt.figure(figsize=(7,5))\n",
    "plt.errorbar(hidden_units_no, cv_scores, yerr=cv_scores_std, marker='x', label='Accuracy')\n",
    "\n",
    "plt.xlabel('Number of hidden units')\n",
    "plt.ylabel('Accuracy')\n",
    "plt.ylim(0.2, 0.8)\n",
    "plt.legend(loc='best')\n",
    "plt.show()"
   ]
  },
  {
   "cell_type": "markdown",
   "id": "675fca57",
   "metadata": {
    "hidden": true
   },
   "source": [
    "Once we break down the range into smaller intervals, we could see a gradual decline in accuracy as the hidden layer size increases from 50 to 80, after which it picked up again and peaked at 100.\n",
    "\n",
    "----"
   ]
  },
  {
   "cell_type": "markdown",
   "id": "21bc76e8",
   "metadata": {
    "hidden": true
   },
   "source": [
    "**<u>b. Number of hidden layers</u>**"
   ]
  },
  {
   "cell_type": "markdown",
   "id": "95e8faf4",
   "metadata": {
    "hidden": true
   },
   "source": [
    "Since we suspected the complexity of the model would cause overfitting, we're dubious that adding the number of hidden layers would improve accuracy. So here we're only going to try 2 hidden layers and go back to our simple 1-layer model if there's no significant improvement."
   ]
  },
  {
   "cell_type": "code",
   "execution_count": null,
   "id": "38327e4f",
   "metadata": {
    "hidden": true
   },
   "outputs": [],
   "source": [
    "# Try a MLP model with two hidden layers, 100 units each (default)\n",
    "mplc = MLPClassifier (hidden_layer_sizes=[100,100], random_state=44)\n",
    "\n",
    "scores = cross_val_score(mlpc, X, y, scoring='accuracy', \n",
    "                         cv=StratifiedKFold(n_splits=10, shuffle=True, random_state=123), \n",
    "                         verbose=1)   "
   ]
  },
  {
   "cell_type": "code",
   "execution_count": null,
   "id": "00bff49e",
   "metadata": {
    "hidden": true
   },
   "outputs": [],
   "source": [
    "print('Accuracy for the 2-layer MLP classifier: mean: %.4f; std: %.4f'\n",
    "      % (scores.mean(), \n",
    "         scores.std()))"
   ]
  },
  {
   "cell_type": "markdown",
   "id": "d431395b",
   "metadata": {
    "hidden": true
   },
   "source": [
    "Recall that the average accuracy for the default MLP classifier with 1 hidden layer of 100 units is exactly the **65.11%**, with the same std of 0.0521. It seems though adding 1 more layer doesn't give us edge at all. Hence we will **just stick to 1 hidden layer**.\n",
    "\n",
    "----"
   ]
  },
  {
   "cell_type": "markdown",
   "id": "35f32366",
   "metadata": {
    "hidden": true
   },
   "source": [
    "**<u>c. Choose the solver</u>**\n",
    "\n",
    "Test which solver (`lbfgs`,`sgd`, `adam`) performs the best with our data."
   ]
  },
  {
   "cell_type": "code",
   "execution_count": null,
   "id": "89fecd0b",
   "metadata": {
    "hidden": true
   },
   "outputs": [],
   "source": [
    "# Try different solvers - lbfgs can't converge?\n",
    "cv_scores = []\n",
    "cv_scores_std = []\n",
    "solvers = ['lbfgs','sgd', 'adam']\n",
    "for i in solvers:\n",
    "    mlpc = MLPClassifier(solver=i, random_state=44)\n",
    "    scores = cross_val_score(mlpc, X, y, scoring='accuracy', \n",
    "                             cv=StratifiedKFold(n_splits=10, shuffle=True, random_state=123))\n",
    "    cv_scores.append(scores.mean())\n",
    "    cv_scores_std.append(scores.std())"
   ]
  },
  {
   "cell_type": "code",
   "execution_count": null,
   "id": "cd4a6f16",
   "metadata": {
    "hidden": true
   },
   "outputs": [],
   "source": [
    "# Plot the relationship\n",
    "plt.bar(solvers, cv_scores, yerr=cv_scores_std, label='Accuracy')\n",
    "plt.xlabel('Solvers')\n",
    "plt.ylabel('Accuracy')\n",
    "plt.ylim(0.2, 1)\n",
    "plt.legend(loc='best')\n",
    "plt.show()"
   ]
  },
  {
   "cell_type": "code",
   "execution_count": null,
   "id": "d7c80120",
   "metadata": {
    "hidden": true
   },
   "outputs": [],
   "source": [
    "# Define the optimal solver for later use\n",
    "tuned_score = max(cv_scores)\n",
    "tuned_solver = (solvers[cv_scores.index(tuned_score)])\n",
    "\n",
    "print(\"Best accuracy score: %.4f\" % tuned_score)\n",
    "print(\"Best solver:\", tuned_solver)"
   ]
  },
  {
   "cell_type": "markdown",
   "id": "1add84db",
   "metadata": {
    "hidden": true
   },
   "source": [
    "It is obvious that `adam`, the default solver, outperforms lbfgs and sgd and will be the preferred solver to bring along to the final model\n",
    "\n",
    "----"
   ]
  },
  {
   "cell_type": "markdown",
   "id": "941efb76",
   "metadata": {
    "hidden": true
   },
   "source": [
    "**<u>d. Choose the activation Function</u>**\n",
    "\n",
    "Activation function also plays a critical role in neural-network-based classifier, and we have a list to shop from: `identity`,`logistic`, `tanh` and `relu`, whic is the default."
   ]
  },
  {
   "cell_type": "code",
   "execution_count": null,
   "id": "4dacc032",
   "metadata": {
    "hidden": true
   },
   "outputs": [],
   "source": [
    "# Try different activation functions\n",
    "cv_scores = []\n",
    "cv_scores_std = []\n",
    "activations = ['identity','logistic','tanh','relu']\n",
    "\n",
    "for a in activations:\n",
    "    mlpc = MLPClassifier(activation=a, random_state=44)\n",
    "    scores = cross_val_score(mlpc, X, y, scoring='accuracy', \n",
    "                             cv=StratifiedKFold(n_splits=10, shuffle=True, random_state=123))\n",
    "    cv_scores.append(scores.mean())\n",
    "    cv_scores_std.append(scores.std())"
   ]
  },
  {
   "cell_type": "code",
   "execution_count": null,
   "id": "597125bd",
   "metadata": {
    "hidden": true
   },
   "outputs": [],
   "source": [
    "# Plot accuracy against activation fuction\n",
    "plt.bar(activations, cv_scores, yerr=cv_scores_std, label='Accuracy')\n",
    "plt.xlabel('Activation Functions')\n",
    "plt.ylim([0.2, 1])\n",
    "plt.ylabel('Accuracy')\n",
    "plt.legend(loc='best')\n",
    "plt.show()"
   ]
  },
  {
   "cell_type": "code",
   "execution_count": null,
   "id": "367830ad",
   "metadata": {
    "hidden": true
   },
   "outputs": [],
   "source": [
    "# Define the optimal activation function for later use\n",
    "tuned_score = max(cv_scores)\n",
    "tuned_act = (activations[cv_scores.index(tuned_score)])\n",
    "\n",
    "print(\"Best accuracy score: %.4f\" % tuned_score)\n",
    "print(\"Best activatioin function:\", tuned_act)"
   ]
  },
  {
   "cell_type": "markdown",
   "id": "bfd504e4",
   "metadata": {
    "hidden": true
   },
   "source": [
    "The morale of the story so far is that simple is best - `relu`, the default activation function also outperforms all three alternatives and will be the favourable. \n",
    "\n",
    "----"
   ]
  },
  {
   "cell_type": "markdown",
   "id": "20e921ce",
   "metadata": {
    "hidden": true
   },
   "source": [
    "**<u>e. L2 Regularisation</u>**"
   ]
  },
  {
   "cell_type": "markdown",
   "id": "0646df05",
   "metadata": {
    "hidden": true
   },
   "source": [
    "Alpha is the parameter for regularisation term, which penalises the number of weights as it increases and thereby deals with overfitting. The greater the alpha value, the heavier the penalty We'll be testing a range of alpha (0.0001,0.001,0.01, 0.1,1) and see if any provides improvement."
   ]
  },
  {
   "cell_type": "code",
   "execution_count": null,
   "id": "e50325f6",
   "metadata": {
    "hidden": true
   },
   "outputs": [],
   "source": [
    "# Try different regularisation parameters\n",
    "cv_scores = []\n",
    "cv_scores_std = []\n",
    "alphas = [0.0001,0.001,0.01, 0.1, 1]\n",
    "for i in alphas:\n",
    "    mplc = MLPClassifier(alpha=i,random_state=44)\n",
    "    scores = cross_val_score(mplc, X, y, scoring='accuracy', \n",
    "                             cv=StratifiedKFold(n_splits=10, shuffle=True, random_state=123))\n",
    "    cv_scores.append(scores.mean())\n",
    "    cv_scores_std.append(scores.std())"
   ]
  },
  {
   "cell_type": "code",
   "execution_count": null,
   "id": "a9516762",
   "metadata": {
    "hidden": true
   },
   "outputs": [],
   "source": [
    "# Plot accuracy against alpha values\n",
    "plt.errorbar(alphas, cv_scores, yerr=cv_scores_std, marker='x', label='Accuracy')\n",
    "plt.xscale('log')\n",
    "plt.xlabel('alpha')\n",
    "plt.ylim([0.5, 0.8])\n",
    "plt.ylabel('Accuracy')\n",
    "plt.legend(loc='best')\n",
    "plt.show()"
   ]
  },
  {
   "cell_type": "code",
   "execution_count": null,
   "id": "5d9284ed",
   "metadata": {
    "hidden": true
   },
   "outputs": [],
   "source": [
    "# Define the optimal alpha for later use\n",
    "tuned_score = max(cv_scores)\n",
    "tuned_alpha = (alphas[cv_scores.index(tuned_score)])\n",
    "\n",
    "print(\"Best accuracy score: %.4f\" % tuned_score)\n",
    "print(\"Best alpha value:\", tuned_alpha)"
   ]
  },
  {
   "cell_type": "markdown",
   "id": "4a78a758",
   "metadata": {
    "hidden": true
   },
   "source": [
    "The average accuracy peaked when **alpha=0.01**, a heavier complexity penalty than the default setting.\n",
    "\n",
    "----"
   ]
  },
  {
   "cell_type": "markdown",
   "id": "9aed52f2",
   "metadata": {
    "hidden": true
   },
   "source": [
    "**<u>f. Number of iterations</u>**"
   ]
  },
  {
   "cell_type": "code",
   "execution_count": null,
   "id": "21152f5f",
   "metadata": {
    "hidden": true
   },
   "outputs": [],
   "source": [
    "# Try different number of iterations\n",
    "cv_scores = []\n",
    "cv_scores_std = []\n",
    "iterations = [100, 200, 400, 600]\n",
    "for i in iterations:\n",
    "    mlpc = MLPClassifier(max_iter=i, random_state=44)\n",
    "    scores = cross_val_score(mlpc, X, y, scoring='accuracy', \n",
    "                             cv=StratifiedKFold(n_splits=10, shuffle=True, random_state=123))\n",
    "    cv_scores.append(scores.mean())\n",
    "    cv_scores_std.append(scores.std())"
   ]
  },
  {
   "cell_type": "code",
   "execution_count": null,
   "id": "64ea3082",
   "metadata": {
    "hidden": true
   },
   "outputs": [],
   "source": [
    "# Plot the relationship\n",
    "plt.errorbar(iterations, cv_scores, yerr=cv_scores_std, marker='x', label='Accuracy')\n",
    "plt.xlabel('iterations')\n",
    "plt.ylabel('Accuracy')\n",
    "plt.ylim(0.4,0.8)\n",
    "plt.legend(loc='best')\n",
    "plt.show()"
   ]
  },
  {
   "cell_type": "markdown",
   "id": "57fd2399",
   "metadata": {
    "hidden": true
   },
   "source": [
    "The number of iterations do not seem to improve the model, however we've encoutered the problem where max iteration is reached but the model hasn't converged yet. Hence in the final model, we may want to bump up max iteration a bit just to help the model converge to the optimised result."
   ]
  },
  {
   "cell_type": "markdown",
   "id": "6cafd2f9",
   "metadata": {
    "hidden": true
   },
   "source": [
    "#### Tuning with GridSearch\n",
    "\n",
    "There are limitations to individual parameter tuning - the single best parameter in each experiment doesn't necessarily work well in conjoint. Hence, we use the `GridSearchCV` to search the best combinations out of all possible ones specified in the parameter grid."
   ]
  },
  {
   "cell_type": "code",
   "execution_count": null,
   "id": "be50b7e8",
   "metadata": {
    "hidden": true
   },
   "outputs": [],
   "source": [
    "# Define the GridSearchCV object \n",
    "mlp = MLPClassifier(random_state=123)\n",
    "\n",
    "parameters = { \n",
    "    'hidden_layer_sizes': [[10],[25],[50],[75],[100],[150]],\n",
    "    'solver': ['sgd', 'adam'],\n",
    "    'activation':['identity','logistic','tanh','relu'],\n",
    "    'alpha' : [0.0001,0.01,0.1,1],\n",
    "    'max_iter' :[100, 200, 400]\n",
    "}\n",
    "\n",
    "# Reduce folds to 5 for faster computation\n",
    "folds = StratifiedKFold(n_splits=5, shuffle=True, random_state=123) \n",
    "\n",
    "gs_mlp = GridSearchCV(estimator=mlp, param_grid=parameters, cv=folds, n_jobs=-1)"
   ]
  },
  {
   "cell_type": "code",
   "execution_count": null,
   "id": "3db337c4",
   "metadata": {
    "hidden": true
   },
   "outputs": [],
   "source": [
    "# Fit the data to GS\n",
    "\n",
    "gs_mlp.fit(X,y)"
   ]
  },
  {
   "cell_type": "code",
   "execution_count": null,
   "id": "4065fa8e",
   "metadata": {
    "hidden": true
   },
   "outputs": [],
   "source": [
    "# Retrieve the best parameters\n",
    "\n",
    "print(gs_mlp.best_params_)\n",
    "\n",
    "gs_act = gs_mlp.best_params_['activation']\n",
    "gs_alpha = gs_mlp.best_params_['alpha']\n",
    "gs_hlsizes = gs_mlp.best_params_['hidden_layer_sizes']\n",
    "gs_solver = gs_mlp.best_params_['solver']\n",
    "gs_iter = gs_mlp.best_params_['max_iter']"
   ]
  },
  {
   "cell_type": "markdown",
   "id": "bef16963",
   "metadata": {
    "hidden": true
   },
   "source": [
    "Our grid search suggests that we keep alpha and solver as their default: 0.0001 and adam, while updating below parameters to:\n",
    "\n",
    "* Activation function: Logistics\n",
    "* Number of hidden units: 150\n",
    "* Maximum iteration: 100\n",
    "\n",
    "We notice that they look quite different to the outcome of the individual tuning, which recommended relu as activation function and 100 as size of hidden layers. It's also interesting that we should also lower max iteration, which might stop the algorithm earlier before convergence. This can be a way to combat overfitting.\n",
    "\n",
    "We're curious to see how the two 'best' models perform and which is the ultimate winner. "
   ]
  },
  {
   "cell_type": "markdown",
   "id": "ce3ef651",
   "metadata": {
    "hidden": true
   },
   "source": [
    "### Best MLPClassifier"
   ]
  },
  {
   "cell_type": "markdown",
   "id": "8f0d5a18",
   "metadata": {
    "hidden": true
   },
   "source": [
    "#### Best MLPClassifier - based on individual tuning\n",
    "\n",
    "First, buid an MLPClassier with optimal parameters based on individual tuning."
   ]
  },
  {
   "cell_type": "code",
   "execution_count": null,
   "id": "f7944441",
   "metadata": {
    "hidden": true
   },
   "outputs": [],
   "source": [
    "# Best MLP classifier based on individual tuning\n",
    "\n",
    "mlp_best1 = MLPClassifier(hidden_layer_sizes=[tuned_hlsizes],\n",
    "                          solver=tuned_solver,\n",
    "                          activation=tuned_act,\n",
    "                          alpha=tuned_alpha,\n",
    "                          random_state=44, \n",
    "                          max_iter=500) #increase max_iter to 500 for convergence\n",
    "\n",
    "scores_mlp_best1 = cross_val_score(mlp_best1, X, y, \n",
    "                                  cv=StratifiedKFold(n_splits=10, shuffle=True, random_state=123), \n",
    "                                  verbose=1)"
   ]
  },
  {
   "cell_type": "code",
   "execution_count": null,
   "id": "08acc2d3",
   "metadata": {
    "hidden": true
   },
   "outputs": [],
   "source": [
    "# Output accuracy, recall and precision\n",
    "\n",
    "print(\"Accuracy for the individually-tuned  MLP classifier:\", \"{:.4f}\".format(scores_mlp_best1.mean()), \n",
    "      \"STD:\", \"{:.4f}\".format(scores_mlp_best1.std()))\n",
    "\n",
    "\n",
    "y_pred_3 = cross_val_predict(mlp_best1, X, y,\n",
    "                             cv=StratifiedKFold(n_splits=5, shuffle=True, random_state=123))\n",
    "\n",
    "cm_mlp3 = confusion_matrix(y, y_pred_3)\n",
    "rec_mlp3 = 100*cm_mlp3[1][1] / (cm_mlp3[1][1] + cm_mlp3[1][0])\n",
    "prec_mlp3 = 100*cm_mlp3[1][1] / (cm_mlp3[1][1] + cm_mlp3[0][1])\n",
    "\n",
    "print('Recall of the individually-tuned  MLP classifier: %.2f' % rec_mlp3,'%')\n",
    "print('Precision of the individually-tuned MLP classifier: %.2f' % prec_mlp3,'%')"
   ]
  },
  {
   "cell_type": "code",
   "execution_count": null,
   "id": "65627d8d",
   "metadata": {
    "hidden": true
   },
   "outputs": [],
   "source": [
    "# Plot Confusion Matrix\n",
    "\n",
    "plt.figure(figsize=(5,5))\n",
    "ax = sns.heatmap(cm_mlp3/cm_mlp3.astype(float).sum(axis=1), \n",
    "                 annot=True, fmt=\".2%\", linewidths=.5, square = True, cmap = 'Blues')\n",
    "\n",
    "ax.set_title('Confusion matrix')\n",
    "ax.set_ylabel('Actual')\n",
    "ax.set_xlabel('Predicted')\n",
    "ax.xaxis.set_ticklabels(['0', '1'])\n",
    "ax.yaxis.set_ticklabels(['0', '1'])\n",
    "\n",
    "plt.show()"
   ]
  },
  {
   "cell_type": "markdown",
   "id": "41324104",
   "metadata": {
    "hidden": true
   },
   "source": [
    "The overall accuracy for the individually tuned classifier is **67.92%**, slight improvement compared to our default model (65.11%). The improvement mainly comes from better recall, from 66.81% to **69.79%**, while TN rate basically remained steady (64.20% vs. default 63.91%)."
   ]
  },
  {
   "cell_type": "markdown",
   "id": "cd808cd6",
   "metadata": {
    "hidden": true
   },
   "source": [
    "#### Best MLPClassifier - based on GridSearch\n",
    "\n",
    "Next build an MLP classifier with optimal parameters based on GridSearch."
   ]
  },
  {
   "cell_type": "code",
   "execution_count": null,
   "id": "9b9ae319",
   "metadata": {
    "hidden": true
   },
   "outputs": [],
   "source": [
    "# Best MLP classifier based on GS\n",
    "\n",
    "mlp_best2 = MLPClassifier(hidden_layer_sizes=gs_hlsizes,\n",
    "                         solver=gs_solver,\n",
    "                         activation=gs_act,\n",
    "                         alpha=gs_alpha,\n",
    "                         max_iter=gs_iter,\n",
    "                         random_state=44)\n",
    "scores_mlp_best2 = cross_val_score(mlp_best2, X, y, \n",
    "                                  cv=StratifiedKFold(n_splits=10, shuffle=True, random_state=123), \n",
    "                                  verbose=1)"
   ]
  },
  {
   "cell_type": "markdown",
   "id": "b7191e45",
   "metadata": {
    "hidden": true
   },
   "source": [
    "We acknowledge that our model may not fully converge because we purposely set a very low max iteration of 100 to limit overfitting."
   ]
  },
  {
   "cell_type": "code",
   "execution_count": null,
   "id": "bff19e08",
   "metadata": {
    "hidden": true
   },
   "outputs": [],
   "source": [
    "print(\"Accuracy for the GS-tuned MLP:\", \"{:.4f}\".format(scores_mlp_best2.mean()), \n",
    "      \"STD:\", \"{:.4f}\".format(scores_mlp_best2.std()))\n",
    "\n",
    "y_pred_4 = cross_val_predict(mlp_best2, X, y,\n",
    "                           cv=StratifiedKFold(n_splits=5, shuffle=True, random_state=123))\n",
    "\n",
    "cm_mlp4 = confusion_matrix(y, y_pred_4)\n",
    "rec_mlp4 = 100*cm_mlp4[1][1] / (cm_mlp4[1][1] + cm_mlp4[1][0])\n",
    "prec_mlp4 = 100*cm_mlp4[1][1] / (cm_mlp4[1][1] + cm_mlp4[0][1])\n",
    "\n",
    "print('Recall of the GS-tuned MLP classifier: %.2f' % rec_mlp4,'%')\n",
    "print('Precision of the GS-tuned MLP classifier: %.2f' % prec_mlp4,'%')"
   ]
  },
  {
   "cell_type": "code",
   "execution_count": null,
   "id": "62dad4b0",
   "metadata": {
    "hidden": true
   },
   "outputs": [],
   "source": [
    "# Plot Confusion Matrix\n",
    "plt.figure(figsize=(5,5))\n",
    "ax = sns.heatmap(cm_mlp4/cm_mlp4.astype(float).sum(axis=1), \n",
    "                 annot=True, fmt=\".2%\", linewidths=.5, square = True, cmap = 'Blues')\n",
    "\n",
    "ax.set_title('Confusion matrix')\n",
    "ax.set_ylabel('Actual')\n",
    "ax.set_xlabel('Predicted')\n",
    "ax.xaxis.set_ticklabels(['0', '1'])\n",
    "ax.yaxis.set_ticklabels(['0', '1'])\n",
    "\n",
    "plt.show()"
   ]
  },
  {
   "cell_type": "markdown",
   "id": "79b9daa9",
   "metadata": {
    "hidden": true
   },
   "source": [
    "The overall accuracy for the GS-tuned classifier is **65.10%**, which actually represented no improvement versus the default model (accuracy 65.11%). TN rate did increase from 63.91% to **65.38%**, however at the cost of a lower recall (dropped form 66.81% to **62.98%**).\n",
    "\n",
    "The result certainly raises some questions about the grid search method, but for now we'll just take the individually tuned model as the best MLP classifier and compare it against the random forest classifier we built earlier."
   ]
  },
  {
   "cell_type": "markdown",
   "id": "22a7fa7b",
   "metadata": {},
   "source": [
    "## The Classifier of Choice\n",
    "\n",
    "Now it's time to compare the tuned Random Forest classifier and the tuned MLP classifier and determine the ultimate best for the task of classifying high-growth areas."
   ]
  },
  {
   "cell_type": "code",
   "execution_count": null,
   "id": "9804379b",
   "metadata": {},
   "outputs": [],
   "source": [
    "# Summarise the performance of both models \n",
    "\n",
    "rfc_acc = scoreRFC2.mean()\n",
    "rfc_std = scoreRFC2.std()\n",
    "rfc_summary = [rfc_acc, rfc_std, rec_rf3/100, prec_rf3/100]\n",
    "\n",
    "mlp_acc = scores_mlp_best1.mean()\n",
    "mlp_std = scores_mlp_best1.std()\n",
    "mlp_summary = [mlp_acc, mlp_std, rec_mlp3/100, prec_mlp3/100]\n",
    "\n",
    "summary = {'RF Classifier': rfc_summary,\n",
    "           'MLP Classifier': mlp_summary}\n",
    "\n",
    "summary_df = pd.DataFrame(summary, index=['Mean accuracy','Std','Recall','Precision'])\n",
    "summary_df.round(4)"
   ]
  },
  {
   "cell_type": "markdown",
   "id": "1974fd09",
   "metadata": {},
   "source": [
    "It's clear from above summary the RF classifier outperforms the MLP classifier on all fronts but recall, which is the metrics we are most interested in. Regardless we would still **prefer the RF classifier** due to its greater consistency (smaller std) and its more even performance in predicting both high-growth and low-growth areas. "
   ]
  },
  {
   "cell_type": "markdown",
   "id": "07ef69c5",
   "metadata": {},
   "source": [
    "## Analysis and Interpretation\n",
    "\n",
    "The additional feature of **relative importance** that random forest has to offer is another reason why it's preferred over MLP. The relative importance scores will give us an idea of which features are more of a driving force of the house price growth in each postal area."
   ]
  },
  {
   "cell_type": "code",
   "execution_count": null,
   "id": "e9c8523d",
   "metadata": {},
   "outputs": [],
   "source": [
    "# Obtain relative importance\n",
    "imp = rfc_best.feature_importances_\n",
    "\n",
    "# Pair relative importance scores with feature names\n",
    "imp_lst = imp.tolist()\n",
    "feature_lst = list(X_train.columns)\n",
    "\n",
    "# Display in a dataframe\n",
    "importance = pd.DataFrame(list(zip(feature_lst, imp_lst)),\n",
    "                          columns =['Feature', 'Relative Importance'])\n",
    "importance = importance.set_index('Feature')\n",
    "\n",
    "# Sort relative importance in descending order\n",
    "importance = importance.sort_values(by='Relative Importance', ascending=False)\n",
    "\n",
    "# Show top 10 features\n",
    "importance.head(10).round(4)"
   ]
  },
  {
   "cell_type": "markdown",
   "id": "5f53c6ce",
   "metadata": {},
   "source": [
    "We have some very interesting obversations here:\n",
    "\n",
    "**1. The previous quarter stats are the best predictors** \n",
    "<br>4 out of the top 5 features in predicting growth are information about Q4 2020, which is the precedent time period of Q1 2021. Amont these four, number of sales made in Q4 came to the top, followed the price growth from one more quarter back (Q3 2020), which all makes intuitive sense - this probably is the intuitive definition of 'a hot suburb'.</br> \n",
    "\n",
    "**2. Rental market is an indicator**\n",
    "<br>Out of the top 10 features, the total numbers of bonds hold came up 3 times, that of current time period (Q1 2021) and two precedent time periods (Q3/Q4 2020). This may sounds counter intuitive - you would assume that the more people who rent in an area, the less people who would buy in that area. A prime example would be Sydney's famous Surry Hills suburb, buzzing with young professionals living in rental houses, enjoying the close proximity to the city. Yet Surry Hills is one of the most expensive inner city suburb to buy properties. </br>\n",
    "\n",
    "**3. Follow the immigrants**\n",
    "<br>On the list, we also see three features vaguely related to immigration: YARRP 1996-2005%, Non-AU citizen% and YARRP 2006-2016% (YARRP stands for year of arriving in Australia). The general idea is that the greater proportion of recent immigrants (who moved to Australia in the last 25 years) and of non-Australian citizens in an area, the more likely that area is going to rise in property prices - we know they come with money!</br>"
   ]
  },
  {
   "cell_type": "markdown",
   "id": "125e5c4f",
   "metadata": {},
   "source": [
    "Now here comes our final question - all in all, **where these high growth areas are?** Let's visualise them on the map"
   ]
  },
  {
   "cell_type": "code",
   "execution_count": null,
   "id": "e719b3d1",
   "metadata": {},
   "outputs": [],
   "source": [
    "# Get Class Labels\n",
    "modelDF['rfc_best_ypred'] = rfc_best_ypred\n",
    "df_rfc = modelDF['rfc_best_ypred']\n",
    "\n",
    "# Merge labels to map data\n",
    "map_rfc = pd.merge(nsw, df_rfc, on='postcode')"
   ]
  },
  {
   "cell_type": "code",
   "execution_count": null,
   "id": "8595d1cf",
   "metadata": {},
   "outputs": [],
   "source": [
    "fig, ax = plt.subplots(1,1, figsize=(30,30))\n",
    "divider = make_axes_locatable(ax)\n",
    "lga_gdf.plot(ax=ax, color='gray',alpha=.8) # Map plot\n",
    "lga_gdf.geometry.boundary.plot(color='gray', ax=ax, linewidth=0.2) #Add some borders to the geometries\n",
    "\n",
    "# Zoom in\n",
    "minx, miny, maxx, maxy = lga_gdf.total_bounds\n",
    "ax.set_xlim(minx, maxx)\n",
    "ax.set_ylim(miny, maxy)\n",
    "\n",
    "map_rfc.plot(column='rfc_best_ypred',ax=ax,cmap='summer', categorical=True, alpha=.8, legend=True)\n",
    "ax.axis('off')\n",
    "plt.title('Postcodes predicted to grow >5%, NSW',fontsize=25)\n",
    "# plt.savefig('Files/Map Vis/GT5 growth.png',dpi=400)\n",
    "plt.show()"
   ]
  },
  {
   "cell_type": "markdown",
   "id": "710458cf",
   "metadata": {},
   "source": [
    "Using linear regression on the individual KMeans clusters, the models seem to overfit and does not perform very well, especially on cluster 1.\n",
    "\n",
    "For predicting median house prices, it may be better to utilise the whole NSW postcodes."
   ]
  },
  {
   "cell_type": "markdown",
   "id": "aa4ba865",
   "metadata": {},
   "source": [
    "# Results\n"
   ]
  },
  {
   "cell_type": "markdown",
   "id": "71db9e4a",
   "metadata": {},
   "source": [
    "# Conclusion and Outlook\n",
    "Summarise findings and elaborate on implications and scope of model with regards to data sufficiency."
   ]
  }
 ],
 "metadata": {
  "kernelspec": {
   "display_name": "Python 3 (ipykernel)",
   "language": "python",
   "name": "python3"
  },
  "language_info": {
   "codemirror_mode": {
    "name": "ipython",
    "version": 3
   },
   "file_extension": ".py",
   "mimetype": "text/x-python",
   "name": "python",
   "nbconvert_exporter": "python",
   "pygments_lexer": "ipython3",
   "version": "3.8.11"
  },
  "toc": {
   "base_numbering": 1,
   "nav_menu": {},
   "number_sections": true,
   "sideBar": true,
   "skip_h1_title": false,
   "title_cell": "Table of Contents",
   "title_sidebar": "Contents",
   "toc_cell": true,
   "toc_position": {
    "height": "calc(100% - 180px)",
    "left": "10px",
    "top": "150px",
    "width": "281.989px"
   },
   "toc_section_display": true,
   "toc_window_display": true
  },
  "varInspector": {
   "cols": {
    "lenName": 16,
    "lenType": 16,
    "lenVar": 40
   },
   "kernels_config": {
    "python": {
     "delete_cmd_postfix": "",
     "delete_cmd_prefix": "del ",
     "library": "var_list.py",
     "varRefreshCmd": "print(var_dic_list())"
    },
    "r": {
     "delete_cmd_postfix": ") ",
     "delete_cmd_prefix": "rm(",
     "library": "var_list.r",
     "varRefreshCmd": "cat(var_dic_list()) "
    }
   },
   "oldHeight": 498,
   "position": {
    "height": "40px",
    "left": "933px",
    "right": "20px",
    "top": "120px",
    "width": "300px"
   },
   "types_to_exclude": [
    "module",
    "function",
    "builtin_function_or_method",
    "instance",
    "_Feature"
   ],
   "varInspector_section_display": "none",
   "window_display": true
  }
 },
 "nbformat": 4,
 "nbformat_minor": 5
}
