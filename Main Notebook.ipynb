{
 "cells": [
  {
   "cell_type": "markdown",
   "id": "02e89d71",
   "metadata": {
    "toc": true
   },
   "source": [
    "<h1>Table of Contents<span class=\"tocSkip\"></span></h1>\n",
    "<div class=\"toc\"><ul class=\"toc-item\"><li><span><a href=\"#Introduction,-Goals-&amp;-Scope\" data-toc-modified-id=\"Introduction,-Goals-&amp;-Scope-1\"><span class=\"toc-item-num\">1&nbsp;&nbsp;</span>Introduction, Goals &amp; Scope</a></span></li><li><span><a href=\"#Variable-Explanation\" data-toc-modified-id=\"Variable-Explanation-2\"><span class=\"toc-item-num\">2&nbsp;&nbsp;</span>Variable Explanation</a></span></li></ul></div>"
   ]
  },
  {
   "cell_type": "markdown",
   "id": "5ae51e48",
   "metadata": {},
   "source": [
    "# Introduction\n",
    "State notebook purpose here."
   ]
  },
  {
   "cell_type": "markdown",
   "id": "82372dd5",
   "metadata": {},
   "source": [
    "## Goals & Methodology\n",
    "State the goals of the analysis and how it should be done."
   ]
  },
  {
   "cell_type": "markdown",
   "id": "3183a3ab",
   "metadata": {},
   "source": [
    "## Data and Variable Explanation\n",
    "Explain the datasets used and the relevant variables."
   ]
  },
  {
   "cell_type": "markdown",
   "id": "7bdddb24",
   "metadata": {},
   "source": [
    "## Imports\n",
    "Import libraries and write settings here."
   ]
  },
  {
   "cell_type": "markdown",
   "id": "7340b3e6",
   "metadata": {},
   "source": [
    "The data cleaning function takes a few minutes to complete."
   ]
  },
  {
   "cell_type": "code",
   "execution_count": 1,
   "id": "45959add",
   "metadata": {},
   "outputs": [
    {
     "name": "stdout",
     "output_type": "stream",
     "text": [
      "\n",
      "time taken to run the function: 157.3311107158661\n",
      "103.47465085983276\n"
     ]
    }
   ],
   "source": [
    "%run chrisDataCleanFunction.ipynb"
   ]
  },
  {
   "cell_type": "markdown",
   "id": "b89f8d27",
   "metadata": {},
   "source": [
    "We get the following DFs:\n",
    "\n",
    "- `salesNew`\n",
    "- `salesOld`\n",
    "- `salesNew_nStrata`\n",
    "- `salesNew_strata`\n",
    "- `salesNew_total`\n",
    "- `salesOld_nStrata`\n",
    "- `salesOld_strata`\n",
    "- `salesOld_total`\n",
    "- `rentNew`\n",
    "- `rentOld`"
   ]
  },
  {
   "cell_type": "markdown",
   "id": "53acbd9f",
   "metadata": {},
   "source": [
    "# Analysis"
   ]
  },
  {
   "cell_type": "markdown",
   "id": "75e2d2c6",
   "metadata": {},
   "source": [
    "## Reading & Cleaning data\n",
    "Read data in and bring it into required structure."
   ]
  },
  {
   "cell_type": "markdown",
   "id": "dbda856a",
   "metadata": {},
   "source": [
    "## Variable Analysis"
   ]
  },
  {
   "cell_type": "markdown",
   "id": "ed87c1d3",
   "metadata": {},
   "source": [
    "### Univariate Analysis\n",
    "Analyse the relevant variables with regards to their distribution, development, outliers, missing values, etc."
   ]
  },
  {
   "cell_type": "markdown",
   "id": "4f30130d",
   "metadata": {},
   "source": [
    "### Bivariate Analysis\n",
    "Analyse possible relationships between target variable and features. Check if features are correlated."
   ]
  },
  {
   "cell_type": "markdown",
   "id": "4a1554c1",
   "metadata": {},
   "source": [
    "# Modeling"
   ]
  },
  {
   "cell_type": "markdown",
   "id": "60cc48e1",
   "metadata": {},
   "source": [
    "## Baseline Regression Model\n",
    "Create a first baseline model here."
   ]
  },
  {
   "cell_type": "markdown",
   "id": "32734400",
   "metadata": {},
   "source": [
    "## Feature Engineering\n",
    "Improve baseline model with different combinations and/or transformation of variables."
   ]
  },
  {
   "cell_type": "markdown",
   "id": "89a466e9",
   "metadata": {},
   "source": [
    "## Improved Model\n",
    "Test if baseline model can be improved by using more sophisticated algorithms."
   ]
  },
  {
   "cell_type": "markdown",
   "id": "aa4ba865",
   "metadata": {},
   "source": [
    "# Results\n"
   ]
  },
  {
   "cell_type": "markdown",
   "id": "71db9e4a",
   "metadata": {},
   "source": [
    "# Conclusion and Outlook\n",
    "Summarise findings and elaborate on implications and scope of model with regards to data sufficiency."
   ]
  }
 ],
 "metadata": {
  "kernelspec": {
   "display_name": "Python 3",
   "language": "python",
   "name": "python3"
  },
  "language_info": {
   "codemirror_mode": {
    "name": "ipython",
    "version": 3
   },
   "file_extension": ".py",
   "mimetype": "text/x-python",
   "name": "python",
   "nbconvert_exporter": "python",
   "pygments_lexer": "ipython3",
   "version": "3.7.10"
  },
  "toc": {
   "base_numbering": 1,
   "nav_menu": {},
   "number_sections": true,
   "sideBar": true,
   "skip_h1_title": false,
   "title_cell": "Table of Contents",
   "title_sidebar": "Contents",
   "toc_cell": true,
   "toc_position": {},
   "toc_section_display": true,
   "toc_window_display": false
  },
  "varInspector": {
   "cols": {
    "lenName": 16,
    "lenType": 16,
    "lenVar": 40
   },
   "kernels_config": {
    "python": {
     "delete_cmd_postfix": "",
     "delete_cmd_prefix": "del ",
     "library": "var_list.py",
     "varRefreshCmd": "print(var_dic_list())"
    },
    "r": {
     "delete_cmd_postfix": ") ",
     "delete_cmd_prefix": "rm(",
     "library": "var_list.r",
     "varRefreshCmd": "cat(var_dic_list()) "
    }
   },
   "oldHeight": 498,
   "position": {
    "height": "40px",
    "left": "933px",
    "right": "20px",
    "top": "120px",
    "width": "300px"
   },
   "types_to_exclude": [
    "module",
    "function",
    "builtin_function_or_method",
    "instance",
    "_Feature"
   ],
   "varInspector_section_display": "none",
   "window_display": true
  }
 },
 "nbformat": 4,
 "nbformat_minor": 5
}
