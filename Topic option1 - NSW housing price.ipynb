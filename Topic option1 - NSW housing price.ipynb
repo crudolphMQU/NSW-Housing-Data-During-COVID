{
 "cells": [
  {
   "cell_type": "markdown",
   "id": "31591105",
   "metadata": {},
   "source": [
    "**NOTE & UPDATE:**\n",
    "\n",
    "*Alexis (8:00 1-Sep):*\n",
    "* Tried to find the suburbs that have most total rental bonds (no.1 is 2170 liverpool?)/ new rental bonds (no.1 is 2017 Waterloo/Zetland - where I live! ) in Q1 2021\n",
    "* Fancy map visualisation?\n",
    "\n",
    "*Alexis (8:00 31-AUG):*\n",
    "* Looked at rent data - it has more granularity to it:\n",
    "    * Each postcode is first grouped by **4 dwelling types**: house, twonhouse, flat/unit and other\n",
    "    * Each dwelling type is then grouped by **'number of bedroom'**: 1, 2, 3, 4, Bedsitter(?) or na\n",
    "    These can be used to compare rents of the same dwelling type / bedroom across postcodes, which is a piece of analysis by itself\n",
    "    \n",
    "    \n",
    "* We can also explore correlation between rent and sales price of the same postcode - from a time series point of view"
   ]
  },
  {
   "cell_type": "markdown",
   "id": "12ecf06d",
   "metadata": {},
   "source": [
    "**DATA SOURCE:**\n",
    "\n",
    "[NSW Housing Rent and Sales](https://www.facs.nsw.gov.au/resources/statistics/rent-and-sales/back-issues)\n",
    "\n",
    "Sales data - renamed vs. original variable names:\n",
    "* <b>dwelling_type</b>: Dwelling Type\n",
    "* <b>25%_price</b>: First Quartile Sales Price (AUD 000s)\n",
    "* <b>50%_price</b>: Median Sales Price (AUD 000s)\n",
    "* <b>75%_price</b>: Third Quartile Sales Price (AUD 000s)\n",
    "* <b>mean_prce</b>: Mean Sales Price (AUD 000s)\n",
    "* <b>sales_no</b>: Number of Sales\n",
    "* <b>Qdealta_median</b>: Qtly change in Median\n",
    "* <b>Adealta_median</b>: Annual change in Median\n",
    "* <b>Qdelta_count</b>: Qtly change in Count\n",
    "* <b>Adelta_count</b>: Annual change in Count"
   ]
  },
  {
   "cell_type": "code",
   "execution_count": 1,
   "id": "9baf4132",
   "metadata": {},
   "outputs": [],
   "source": [
    "import pandas as pd\n",
    "import numpy as np \n",
    "import matplotlib.pyplot as plt\n",
    "%matplotlib inline"
   ]
  },
  {
   "cell_type": "markdown",
   "id": "127fe456",
   "metadata": {},
   "source": [
    "### Understand data strucutre of the sales and rent data "
   ]
  },
  {
   "cell_type": "markdown",
   "id": "638736af",
   "metadata": {},
   "source": [
    "**Sales data**"
   ]
  },
  {
   "cell_type": "code",
   "execution_count": 2,
   "id": "20d1680f",
   "metadata": {},
   "outputs": [
    {
     "name": "stdout",
     "output_type": "stream",
     "text": [
      "Q1 2021(s136): (1427, 11)\n",
      "Q4 2020(s135): (1459, 11)\n",
      "Q3 2020(s134): (1419, 11)\n",
      "Q2 2020(s133): (1332, 11)\n",
      "Q1 2020(s132): (1361, 11)\n"
     ]
    }
   ],
   "source": [
    "s136 = \"Files/Sales/Issue-136-Sales-tables-March-2021-quarter.xlsx\"\n",
    "s135 = \"Files/Sales/Issue-135-Sales-tables-December-2020-quarter.xlsx\"\n",
    "s134 = \"Files/Sales/Issue-134-Sales-tables-September-2020-quarter.xlsx\"\n",
    "s133 = \"Files/Sales/Issue-133-Sales-tables-June-2020-quarter.xlsx\"\n",
    "s132 = \"Files/Sales/Issue-132-Sales-tables-March-2020-quarter.xlsx\"\n",
    "\n",
    "# Read the two sheets into two separate dataframes\n",
    "s136 = pd.read_excel(s136, sheet_name=\"Postcode\", na_values='-', header=6)\n",
    "s135 = pd.read_excel(s135, sheet_name=\"Postcode\", na_values='-', header=6)\n",
    "s134 = pd.read_excel(s134, sheet_name=\"Postcode\", na_values='-', header=6)\n",
    "s133 = pd.read_excel(s133, sheet_name=\"Postcode\", na_values='-', header=6)\n",
    "s132 = pd.read_excel(s132, sheet_name=\"Postcode\", na_values='-', header=6)\n",
    "\n",
    "# Sale prices in any geographical area where the number of sales is 10 or less were not shown for confidentiality\n",
    "# They were represented as '-' in the table\n",
    "\n",
    "print(\"Q1 2021(s136):\", s136.shape)\n",
    "print(\"Q4 2020(s135):\", s135.shape)\n",
    "print(\"Q3 2020(s134):\", s134.shape)\n",
    "print(\"Q2 2020(s133):\", s133.shape)\n",
    "print(\"Q1 2020(s132):\", s132.shape)"
   ]
  },
  {
   "cell_type": "code",
   "execution_count": 4,
   "id": "7b8cd2a0",
   "metadata": {},
   "outputs": [],
   "source": [
    "# Add time period and key columns before merging\n",
    "\n",
    "s136['key'] = 's136'\n",
    "s135['key'] = 's135'\n",
    "s134['key'] = 's134'\n",
    "s133['key'] = 's133'\n",
    "s132['key'] = 's132'\n",
    "\n",
    "s136['time_period'] = 'Q1 2021'\n",
    "s135['time_period'] = 'Q4 2020'\n",
    "s134['time_period'] = 'Q3 2020'\n",
    "s133['time_period'] = 'Q2 2020'\n",
    "s132['time_period'] = 'Q1 2020'\n",
    "\n",
    "s136['year'] = '2021'\n",
    "s135['year'] = '2020'\n",
    "s134['year'] = '2020'\n",
    "s133['year'] = '2020'\n",
    "s132['year'] = '2020'\n",
    "\n",
    "s136['quarter'] = '1'\n",
    "s135['quarter'] = '4'\n",
    "s134['quarter'] = '3'\n",
    "s133['quarter'] = '2'\n",
    "s132['quarter'] = '1'"
   ]
  },
  {
   "cell_type": "code",
   "execution_count": 11,
   "id": "8e4a0fee",
   "metadata": {},
   "outputs": [
    {
     "name": "stdout",
     "output_type": "stream",
     "text": [
      "sales_master: (6998, 15) \n",
      "\n",
      "Postcode                                int64\n",
      "Dwelling Type                          object\n",
      "First Quartile Sales Price\\n$'000s    float64\n",
      "Median Sales Price\\n$'000s            float64\n",
      "Third Quartile Sales Price\\n'000s     float64\n",
      "Mean Sales Price\\n$'000s              float64\n",
      "Sales\\nNo.                             object\n",
      "Qtly change in Median                 float64\n",
      "Annual change in Median               float64\n",
      "Qtly change in Count                  float64\n",
      "Annual change in Count                float64\n",
      "time_period                            object\n",
      "year                                   object\n",
      "quarter                                object\n",
      "key                                    object\n",
      "dtype: object\n"
     ]
    }
   ],
   "source": [
    "# Merge sales file into one master file\n",
    "frames = [s132, s133, s134, s135, s136]\n",
    "sales_master = pd.concat(frames)\n",
    "\n",
    "# Check master sales data's shape and dtypes\n",
    "print(\"sales_master:\", sales_master.shape, \"\\n\")\n",
    "print(sales_master.dtypes)"
   ]
  },
  {
   "cell_type": "code",
   "execution_count": 14,
   "id": "a7d99565",
   "metadata": {},
   "outputs": [
    {
     "data": {
      "text/html": [
       "<div>\n",
       "<style scoped>\n",
       "    .dataframe tbody tr th:only-of-type {\n",
       "        vertical-align: middle;\n",
       "    }\n",
       "\n",
       "    .dataframe tbody tr th {\n",
       "        vertical-align: top;\n",
       "    }\n",
       "\n",
       "    .dataframe thead th {\n",
       "        text-align: right;\n",
       "    }\n",
       "</style>\n",
       "<table border=\"1\" class=\"dataframe\">\n",
       "  <thead>\n",
       "    <tr style=\"text-align: right;\">\n",
       "      <th></th>\n",
       "      <th>postcode</th>\n",
       "      <th>dwelling_type</th>\n",
       "      <th>25%_price</th>\n",
       "      <th>50%_price</th>\n",
       "      <th>75%_price</th>\n",
       "      <th>mean_price</th>\n",
       "      <th>sales_no</th>\n",
       "      <th>Qdelta_median</th>\n",
       "      <th>Adelta_median</th>\n",
       "      <th>Qdelta_count</th>\n",
       "      <th>Adelta_count</th>\n",
       "      <th>time_period</th>\n",
       "      <th>year</th>\n",
       "      <th>quarter</th>\n",
       "      <th>key</th>\n",
       "    </tr>\n",
       "  </thead>\n",
       "  <tbody>\n",
       "    <tr>\n",
       "      <th>0</th>\n",
       "      <td>2000</td>\n",
       "      <td>Total</td>\n",
       "      <td>900.0</td>\n",
       "      <td>1225.0</td>\n",
       "      <td>1950.0</td>\n",
       "      <td>1541.0</td>\n",
       "      <td>105</td>\n",
       "      <td>-0.0200</td>\n",
       "      <td>0.0524</td>\n",
       "      <td>-0.3787</td>\n",
       "      <td>-0.0278</td>\n",
       "      <td>Q1 2020</td>\n",
       "      <td>2020</td>\n",
       "      <td>1</td>\n",
       "      <td>s132</td>\n",
       "    </tr>\n",
       "    <tr>\n",
       "      <th>1</th>\n",
       "      <td>2000</td>\n",
       "      <td>Non Strata</td>\n",
       "      <td>NaN</td>\n",
       "      <td>NaN</td>\n",
       "      <td>NaN</td>\n",
       "      <td>NaN</td>\n",
       "      <td>NaN</td>\n",
       "      <td>NaN</td>\n",
       "      <td>NaN</td>\n",
       "      <td>NaN</td>\n",
       "      <td>NaN</td>\n",
       "      <td>Q1 2020</td>\n",
       "      <td>2020</td>\n",
       "      <td>1</td>\n",
       "      <td>s132</td>\n",
       "    </tr>\n",
       "    <tr>\n",
       "      <th>2</th>\n",
       "      <td>2000</td>\n",
       "      <td>Strata</td>\n",
       "      <td>920.0</td>\n",
       "      <td>1238.0</td>\n",
       "      <td>1950.0</td>\n",
       "      <td>1584.0</td>\n",
       "      <td>102</td>\n",
       "      <td>-0.0100</td>\n",
       "      <td>0.0668</td>\n",
       "      <td>-0.3964</td>\n",
       "      <td>-0.0286</td>\n",
       "      <td>Q1 2020</td>\n",
       "      <td>2020</td>\n",
       "      <td>1</td>\n",
       "      <td>s132</td>\n",
       "    </tr>\n",
       "    <tr>\n",
       "      <th>3</th>\n",
       "      <td>2007</td>\n",
       "      <td>Total</td>\n",
       "      <td>611.0</td>\n",
       "      <td>745.0</td>\n",
       "      <td>1039.0</td>\n",
       "      <td>834.0</td>\n",
       "      <td>s</td>\n",
       "      <td>-0.1312</td>\n",
       "      <td>0.1622</td>\n",
       "      <td>-0.5652</td>\n",
       "      <td>0.1765</td>\n",
       "      <td>Q1 2020</td>\n",
       "      <td>2020</td>\n",
       "      <td>1</td>\n",
       "      <td>s132</td>\n",
       "    </tr>\n",
       "    <tr>\n",
       "      <th>4</th>\n",
       "      <td>2007</td>\n",
       "      <td>Strata</td>\n",
       "      <td>611.0</td>\n",
       "      <td>745.0</td>\n",
       "      <td>1039.0</td>\n",
       "      <td>834.0</td>\n",
       "      <td>s</td>\n",
       "      <td>-0.1183</td>\n",
       "      <td>0.1622</td>\n",
       "      <td>-0.5455</td>\n",
       "      <td>0.1765</td>\n",
       "      <td>Q1 2020</td>\n",
       "      <td>2020</td>\n",
       "      <td>1</td>\n",
       "      <td>s132</td>\n",
       "    </tr>\n",
       "  </tbody>\n",
       "</table>\n",
       "</div>"
      ],
      "text/plain": [
       "   postcode dwelling_type  25%_price  50%_price  75%_price  mean_price  \\\n",
       "0      2000         Total      900.0     1225.0     1950.0      1541.0   \n",
       "1      2000    Non Strata        NaN        NaN        NaN         NaN   \n",
       "2      2000        Strata      920.0     1238.0     1950.0      1584.0   \n",
       "3      2007         Total      611.0      745.0     1039.0       834.0   \n",
       "4      2007        Strata      611.0      745.0     1039.0       834.0   \n",
       "\n",
       "  sales_no  Qdelta_median  Adelta_median  Qdelta_count  Adelta_count  \\\n",
       "0      105        -0.0200         0.0524       -0.3787       -0.0278   \n",
       "1      NaN            NaN            NaN           NaN           NaN   \n",
       "2      102        -0.0100         0.0668       -0.3964       -0.0286   \n",
       "3        s        -0.1312         0.1622       -0.5652        0.1765   \n",
       "4        s        -0.1183         0.1622       -0.5455        0.1765   \n",
       "\n",
       "  time_period  year quarter   key  \n",
       "0     Q1 2020  2020       1  s132  \n",
       "1     Q1 2020  2020       1  s132  \n",
       "2     Q1 2020  2020       1  s132  \n",
       "3     Q1 2020  2020       1  s132  \n",
       "4     Q1 2020  2020       1  s132  "
      ]
     },
     "execution_count": 14,
     "metadata": {},
     "output_type": "execute_result"
    }
   ],
   "source": [
    "# Rename column for easier referencing\n",
    "rename_cols= {'Postcode':'postcode', \n",
    "             'Dwelling Type':'dwelling_type', \n",
    "             \"First Quartile Sales Price\\n$'000s\" : '25%_price',\n",
    "             \"Median Sales Price\\n$'000s\" : '50%_price', \n",
    "             \"Third Quartile Sales Price\\n'000s\" : '75%_price',\n",
    "             \"Mean Sales Price\\n$'000s\" : 'mean_price',\n",
    "             'Sales\\nNo.':'sales_no',\n",
    "             'Qtly change in Median':'Qdelta_median',\n",
    "             'Annual change in Median':'Adelta_median',\n",
    "             'Qtly change in Count':'Qdelta_count',\n",
    "             'Annual change in Count':'Adelta_count'}\n",
    "\n",
    "sales_master.rename(columns=rename_cols, inplace=True)\n",
    "sales_master.head(5)"
   ]
  },
  {
   "cell_type": "markdown",
   "id": "d9b9c040",
   "metadata": {},
   "source": [
    "Note that each postcode has a total row, a row for strata properties, and a row for non-strata properties.\n",
    "\n",
    "Need to use groupby to tease them apart later."
   ]
  },
  {
   "cell_type": "code",
   "execution_count": 16,
   "id": "6b727395",
   "metadata": {},
   "outputs": [
    {
     "data": {
      "text/plain": [
       "postcode            0\n",
       "dwelling_type       0\n",
       "25%_price        1847\n",
       "50%_price        1847\n",
       "75%_price        1847\n",
       "mean_price       1847\n",
       "sales_no         1847\n",
       "Qdelta_median    1850\n",
       "Adelta_median    1855\n",
       "Qdelta_count     1850\n",
       "Adelta_count     1855\n",
       "time_period         0\n",
       "year                0\n",
       "quarter             0\n",
       "key                 0\n",
       "dtype: int64"
      ]
     },
     "execution_count": 16,
     "metadata": {},
     "output_type": "execute_result"
    }
   ],
   "source": [
    "# Check na - resulted from <10 per postcode sample size\n",
    "sales_master.isnull().sum()"
   ]
  },
  {
   "cell_type": "code",
   "execution_count": 17,
   "id": "7d79819e",
   "metadata": {},
   "outputs": [
    {
     "name": "stdout",
     "output_type": "stream",
     "text": [
      "data types: postcode           int64\n",
      "dwelling_type     object\n",
      "25%_price        float64\n",
      "50%_price        float64\n",
      "75%_price        float64\n",
      "mean_price       float64\n",
      "sales_no          object\n",
      "Qdelta_median    float64\n",
      "Adelta_median    float64\n",
      "Qdelta_count     float64\n",
      "Adelta_count     float64\n",
      "time_period       object\n",
      "year              object\n",
      "quarter           object\n",
      "key               object\n",
      "dtype: object \n",
      "\n",
      "shape:  (5151, 15)\n"
     ]
    }
   ],
   "source": [
    "# Drop na\n",
    "sales_master = sales_master[sales_master['sales_no'].notna()]\n",
    "\n",
    "# Check data type and df shape after dropna\n",
    "print(\"data types:\", sales_master.dtypes, \"\\n\")\n",
    "print(\"shape: \", sales_master.shape)"
   ]
  },
  {
   "cell_type": "markdown",
   "id": "f795fe18",
   "metadata": {},
   "source": [
    "Sales number was read into the dataframe as string because accordingly to the Explanatory note \"statistics calculated from sample sizes between 10 and 30 are shown by an ‘s’ in the relevant table.  We suggest these data are treated with caution, particularly when assessing quarterly and annual changes.\""
   ]
  },
  {
   "cell_type": "code",
   "execution_count": 19,
   "id": "f1a063c0",
   "metadata": {},
   "outputs": [
    {
     "data": {
      "text/html": [
       "<div>\n",
       "<style scoped>\n",
       "    .dataframe tbody tr th:only-of-type {\n",
       "        vertical-align: middle;\n",
       "    }\n",
       "\n",
       "    .dataframe tbody tr th {\n",
       "        vertical-align: top;\n",
       "    }\n",
       "\n",
       "    .dataframe thead th {\n",
       "        text-align: right;\n",
       "    }\n",
       "</style>\n",
       "<table border=\"1\" class=\"dataframe\">\n",
       "  <thead>\n",
       "    <tr style=\"text-align: right;\">\n",
       "      <th></th>\n",
       "      <th>postcode</th>\n",
       "      <th>25%_price</th>\n",
       "      <th>50%_price</th>\n",
       "      <th>75%_price</th>\n",
       "      <th>mean_price</th>\n",
       "      <th>sales_no</th>\n",
       "      <th>Qdelta_median</th>\n",
       "      <th>Adelta_median</th>\n",
       "      <th>Qdelta_count</th>\n",
       "      <th>Adelta_count</th>\n",
       "    </tr>\n",
       "  </thead>\n",
       "  <tbody>\n",
       "    <tr>\n",
       "      <th>count</th>\n",
       "      <td>5151.00</td>\n",
       "      <td>5151.00</td>\n",
       "      <td>5151.00</td>\n",
       "      <td>5151.00</td>\n",
       "      <td>5151.00</td>\n",
       "      <td>5151.00</td>\n",
       "      <td>5148.00</td>\n",
       "      <td>5143.00</td>\n",
       "      <td>5148.00</td>\n",
       "      <td>5143.00</td>\n",
       "    </tr>\n",
       "    <tr>\n",
       "      <th>mean</th>\n",
       "      <td>2333.42</td>\n",
       "      <td>745.29</td>\n",
       "      <td>908.89</td>\n",
       "      <td>1150.60</td>\n",
       "      <td>984.22</td>\n",
       "      <td>59.01</td>\n",
       "      <td>0.03</td>\n",
       "      <td>0.09</td>\n",
       "      <td>0.17</td>\n",
       "      <td>0.38</td>\n",
       "    </tr>\n",
       "    <tr>\n",
       "      <th>std</th>\n",
       "      <td>243.52</td>\n",
       "      <td>508.82</td>\n",
       "      <td>637.52</td>\n",
       "      <td>917.86</td>\n",
       "      <td>718.33</td>\n",
       "      <td>54.67</td>\n",
       "      <td>0.19</td>\n",
       "      <td>0.19</td>\n",
       "      <td>0.63</td>\n",
       "      <td>0.86</td>\n",
       "    </tr>\n",
       "    <tr>\n",
       "      <th>min</th>\n",
       "      <td>2000.00</td>\n",
       "      <td>62.00</td>\n",
       "      <td>80.00</td>\n",
       "      <td>133.00</td>\n",
       "      <td>110.00</td>\n",
       "      <td>20.00</td>\n",
       "      <td>-0.97</td>\n",
       "      <td>-0.97</td>\n",
       "      <td>-0.72</td>\n",
       "      <td>-0.80</td>\n",
       "    </tr>\n",
       "    <tr>\n",
       "      <th>25%</th>\n",
       "      <td>2125.50</td>\n",
       "      <td>441.00</td>\n",
       "      <td>525.00</td>\n",
       "      <td>630.00</td>\n",
       "      <td>549.00</td>\n",
       "      <td>20.00</td>\n",
       "      <td>-0.04</td>\n",
       "      <td>0.01</td>\n",
       "      <td>-0.17</td>\n",
       "      <td>-0.03</td>\n",
       "    </tr>\n",
       "    <tr>\n",
       "      <th>50%</th>\n",
       "      <td>2280.00</td>\n",
       "      <td>638.00</td>\n",
       "      <td>735.00</td>\n",
       "      <td>867.00</td>\n",
       "      <td>774.00</td>\n",
       "      <td>40.00</td>\n",
       "      <td>0.02</td>\n",
       "      <td>0.08</td>\n",
       "      <td>0.03</td>\n",
       "      <td>0.22</td>\n",
       "    </tr>\n",
       "    <tr>\n",
       "      <th>75%</th>\n",
       "      <td>2528.00</td>\n",
       "      <td>868.00</td>\n",
       "      <td>1085.50</td>\n",
       "      <td>1396.00</td>\n",
       "      <td>1184.50</td>\n",
       "      <td>74.00</td>\n",
       "      <td>0.09</td>\n",
       "      <td>0.16</td>\n",
       "      <td>0.34</td>\n",
       "      <td>0.53</td>\n",
       "    </tr>\n",
       "    <tr>\n",
       "      <th>max</th>\n",
       "      <td>2880.00</td>\n",
       "      <td>5630.00</td>\n",
       "      <td>6630.00</td>\n",
       "      <td>15551.00</td>\n",
       "      <td>7374.00</td>\n",
       "      <td>418.00</td>\n",
       "      <td>8.46</td>\n",
       "      <td>6.52</td>\n",
       "      <td>10.00</td>\n",
       "      <td>13.00</td>\n",
       "    </tr>\n",
       "  </tbody>\n",
       "</table>\n",
       "</div>"
      ],
      "text/plain": [
       "       postcode  25%_price  50%_price  75%_price  mean_price  sales_no  \\\n",
       "count   5151.00    5151.00    5151.00    5151.00     5151.00   5151.00   \n",
       "mean    2333.42     745.29     908.89    1150.60      984.22     59.01   \n",
       "std      243.52     508.82     637.52     917.86      718.33     54.67   \n",
       "min     2000.00      62.00      80.00     133.00      110.00     20.00   \n",
       "25%     2125.50     441.00     525.00     630.00      549.00     20.00   \n",
       "50%     2280.00     638.00     735.00     867.00      774.00     40.00   \n",
       "75%     2528.00     868.00    1085.50    1396.00     1184.50     74.00   \n",
       "max     2880.00    5630.00    6630.00   15551.00     7374.00    418.00   \n",
       "\n",
       "       Qdelta_median  Adelta_median  Qdelta_count  Adelta_count  \n",
       "count        5148.00        5143.00       5148.00       5143.00  \n",
       "mean            0.03           0.09          0.17          0.38  \n",
       "std             0.19           0.19          0.63          0.86  \n",
       "min            -0.97          -0.97         -0.72         -0.80  \n",
       "25%            -0.04           0.01         -0.17         -0.03  \n",
       "50%             0.02           0.08          0.03          0.22  \n",
       "75%             0.09           0.16          0.34          0.53  \n",
       "max             8.46           6.52         10.00         13.00  "
      ]
     },
     "execution_count": 19,
     "metadata": {},
     "output_type": "execute_result"
    }
   ],
   "source": [
    "# Replace 's' with the median of 10 and 30 since there're quite a few\n",
    "sales_master.loc[sales_master['sales_no'] == 's', 'sales_no'] = 20.0\n",
    "\n",
    "# Cast type as float\n",
    "sales_master['sales_no'] = sales_master['sales_no'].astype(float)\n",
    "\n",
    "sales_master.describe().round(2)"
   ]
  },
  {
   "cell_type": "markdown",
   "id": "bf9c740b",
   "metadata": {},
   "source": [
    "**Rent data**"
   ]
  },
  {
   "cell_type": "code",
   "execution_count": null,
   "id": "3844ba41",
   "metadata": {},
   "outputs": [],
   "source": [
    "rent = \"Files/Rent/Issue-135-Rent-tables-March-2021-quarter.xlsx\"\n",
    "rent_pc = pd.read_excel(rent, sheet_name=\"Postcode\", na_values='-', header=7)"
   ]
  },
  {
   "cell_type": "code",
   "execution_count": null,
   "id": "e7b5b576",
   "metadata": {},
   "outputs": [],
   "source": [
    "# Rename column for easier referencing (rent)\n",
    "\n",
    "rename_cols= {'Postcode':'postcode', \n",
    "             'Dwelling Types':'dwelling_type', \n",
    "              'Number of Bedrooms':'bed_number',\n",
    "             'First Quartile Weekly Rent for New Bonds\\n$': '25%_wrent_newb',\n",
    "             'Median Weekly Rent for New Bonds\\n$': '50%_wrent_newb', \n",
    "             'Third Quartile Weekly Rent for New Bonds\\n$': \"75%_wrent_newb\",\n",
    "             'New Bonds Lodged\\nNo.' : 'new_bonds_number',\n",
    "              'Total Bonds Held\\nNo.': 'total_bonds_number',\n",
    "             'Sales\\nNo.':'sales_number'}\n",
    "\n",
    "rent_pc.rename(columns=rename_cols,inplace=True)\n",
    "rent_pc.head(5)"
   ]
  },
  {
   "cell_type": "code",
   "execution_count": null,
   "id": "dcb75786",
   "metadata": {},
   "outputs": [],
   "source": [
    "# Check data types\n",
    "rent_pc.dtypes"
   ]
  },
  {
   "cell_type": "code",
   "execution_count": null,
   "id": "b1379443",
   "metadata": {},
   "outputs": [],
   "source": [
    "rent_pc.loc[rent_pc['new_bonds_number'] == 's', 'new_bonds_number'] = 20.0\n",
    "rent_pc.loc[rent_pc['total_bonds_number'] == 's', 'total_bonds_number'] = 20.0\n",
    "\n",
    "rent_pc['new_bonds_number'] = rent_pc['new_bonds_number'].astype(float)\n",
    "rent_pc['total_bonds_number'] = rent_pc['total_bonds_number'].astype(float)\n",
    "\n",
    "# Check data types again\n",
    "rent_pc.dtypes"
   ]
  },
  {
   "cell_type": "code",
   "execution_count": null,
   "id": "ba92af8f",
   "metadata": {},
   "outputs": [],
   "source": [
    "# Check unique values of dwelling type\n",
    "rent_pc.groupby('dwelling_type').size()"
   ]
  },
  {
   "cell_type": "code",
   "execution_count": null,
   "id": "6e33bbbc",
   "metadata": {},
   "outputs": [],
   "source": [
    "# Check unique values of bed_number\n",
    "rent_pc.groupby('bed_number').size()"
   ]
  },
  {
   "cell_type": "code",
   "execution_count": null,
   "id": "a3849404",
   "metadata": {},
   "outputs": [],
   "source": [
    "print(rent_pc.shape, \"\\n\")\n",
    "print(rent_pc.isnull().sum())"
   ]
  },
  {
   "cell_type": "code",
   "execution_count": null,
   "id": "c1a4f22d",
   "metadata": {},
   "outputs": [],
   "source": [
    "# Check top 20 postcodes that have higest total bond number in Q1 2021\n",
    "tbonds_pc = rent_pc.groupby([\"postcode\", \"dwelling_type\"])['total_bonds_number'].sum().unstack()\n",
    "\n",
    "tbonds_pc.sort_values(by=\"Total\", ascending = False).head(20)f"
   ]
  },
  {
   "cell_type": "code",
   "execution_count": null,
   "id": "9ff2b7c3",
   "metadata": {},
   "outputs": [],
   "source": [
    "nbonds_pc = rent_pc.groupby([\"postcode\", \"dwelling_type\"])['new_bonds_number'].sum().unstack()\n",
    "nbonds_pc.sort_values(by='Total', ascending = False).head(20)"
   ]
  },
  {
   "cell_type": "code",
   "execution_count": null,
   "id": "6f408c6f",
   "metadata": {},
   "outputs": [],
   "source": []
  }
 ],
 "metadata": {
  "kernelspec": {
   "display_name": "Python 3",
   "language": "python",
   "name": "python3"
  },
  "language_info": {
   "codemirror_mode": {
    "name": "ipython",
    "version": 3
   },
   "file_extension": ".py",
   "mimetype": "text/x-python",
   "name": "python",
   "nbconvert_exporter": "python",
   "pygments_lexer": "ipython3",
   "version": "3.8.8"
  },
  "varInspector": {
   "cols": {
    "lenName": 16,
    "lenType": 16,
    "lenVar": 40
   },
   "kernels_config": {
    "python": {
     "delete_cmd_postfix": "",
     "delete_cmd_prefix": "del ",
     "library": "var_list.py",
     "varRefreshCmd": "print(var_dic_list())"
    },
    "r": {
     "delete_cmd_postfix": ") ",
     "delete_cmd_prefix": "rm(",
     "library": "var_list.r",
     "varRefreshCmd": "cat(var_dic_list()) "
    }
   },
   "types_to_exclude": [
    "module",
    "function",
    "builtin_function_or_method",
    "instance",
    "_Feature"
   ],
   "window_display": false
  }
 },
 "nbformat": 4,
 "nbformat_minor": 5
}
